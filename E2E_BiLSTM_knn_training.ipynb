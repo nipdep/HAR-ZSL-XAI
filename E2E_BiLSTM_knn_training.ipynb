{
 "cells": [
  {
   "cell_type": "code",
   "execution_count": 35,
   "metadata": {},
   "outputs": [],
   "source": [
    "import os \n",
    "import random \n",
    "from datetime import date\n",
    "from tqdm import tqdm\n",
    "from copy import deepcopy\n",
    "import numpy as np \n",
    "import pandas as pd\n",
    "\n",
    "import torch \n",
    "from torch import nn, Tensor\n",
    "from torch.nn import functional as F\n",
    "from torch.nn.modules import MultiheadAttention, Linear, Dropout, BatchNorm1d, TransformerEncoderLayer\n",
    "from torch.utils.data import Dataset, DataLoader\n",
    "from torch.optim import Adam\n",
    "from torch.nn import MSELoss,L1Loss\n",
    "\n",
    "from sklearn.metrics import accuracy_score\n",
    "from sklearn.metrics.pairwise import cosine_similarity, euclidean_distances\n",
    "from sklearn.neighbors import KNeighborsClassifier"
   ]
  },
  {
   "cell_type": "code",
   "execution_count": 36,
   "metadata": {},
   "outputs": [],
   "source": [
    "from src.datasets.data import PAMAP2Reader\n",
    "# from src.datasets.dataset import PAMAP2Dataset\n",
    "\n",
    "from src.models.ts_transformer import RelativeGlobalAttention\n",
    "from src.models.loss import FeatureLoss, AttributeLoss \n",
    "from src.utils.losses import SupConLoss\n",
    "\n",
    "from src.utils.analysis import action_evaluator"
   ]
  },
  {
   "cell_type": "code",
   "execution_count": 37,
   "metadata": {},
   "outputs": [],
   "source": [
    "from sklearn.manifold import TSNE\n",
    "\n",
    "import matplotlib.pyplot as plt \n",
    "import plotly.express as px"
   ]
  },
  {
   "cell_type": "code",
   "execution_count": 38,
   "metadata": {},
   "outputs": [],
   "source": [
    "# setup model configurations\n",
    "config = {\n",
    "    # general information\n",
    "    \"experiment-name\": \"test-001\", \n",
    "    \"datetime\": date.today(),\n",
    "    \"device\": \"gpu\",\n",
    "    \"dataset\": \"PAMAP2\", # \"PAMAP2\", \"DaLiAc\", \"UTD\"\n",
    "    \"Model\": \"RelativeGlobalAttention\",\n",
    "    \"sem-space\": 'attr',\n",
    "    # model training configs\n",
    "    \"include_attribute_loss\": True, \n",
    "    \"semantic_size\": 64,\n",
    "    \"n_actions\": 18,\n",
    "    \"folding\": True,\n",
    "    \"lr\": 0.001,\n",
    "    \"ae_lr\": 0.0001,\n",
    "    \"imu_lr\": 0.0004,\n",
    "    \"ae_alpha\": 0.7,\n",
    "    \"imu_alpha\": 0.3,\n",
    "    \"n_epochs\": 6,\n",
    "    \"optimizer\": \"adam\",\n",
    "    \"batch_size\": 32,\n",
    "    \"semantic_loss\": \"cosine_distance\",\n",
    "    # model configs\n",
    "    \"d_model\": 128, \n",
    "    \"num_heads\": 2,\n",
    "    \"feat_size\": 64, # skel-AE hidden size and IMU-Anc output size\n",
    "    # dataset configs\n",
    "    \"window_size\": 5, \n",
    "    \"overlap\": 0.5,\n",
    "    \"seq_len\": 50,  # skeleton seq. length\n",
    "    \"seen_split\": 0.2,\n",
    "    \"unseen_split\": 0.8\n",
    "}"
   ]
  },
  {
   "cell_type": "markdown",
   "metadata": {},
   "source": [
    "---"
   ]
  },
  {
   "cell_type": "code",
   "execution_count": 39,
   "metadata": {},
   "outputs": [],
   "source": [
    "class Model6a(nn.Module):\n",
    "    def __init__(self, in_ft, d_model, num_heads, ft_size, n_classes, max_len=1024, dropout=0.1):\n",
    "        super(Model6a, self).__init__()\n",
    "        self.in_ft = in_ft\n",
    "        self.max_len = max_len\n",
    "        self.d_model = d_model\n",
    "        self.num_heads = num_heads\n",
    "        self.ft_size = ft_size \n",
    "        self.n_classes = n_classes\n",
    "\n",
    "        # feature prep layer\n",
    "        self.DenseL = nn.Linear(in_ft, d_model)\n",
    "        # relative global attention layer\n",
    "        self.AttnL = RelativeGlobalAttention(self.d_model, self.num_heads, self.max_len)\n",
    "        # positional encoding concat <-> 1DConv \n",
    "        self.Act = F.relu  # _get_activation_fn(activation)\n",
    "        self.AvgPoolL = nn.AvgPool2d((self.max_len,1))\n",
    "        self.DenseL2 = nn.Linear(self.d_model, self.ft_size)\n",
    "        self.dropout = nn.Dropout1d(dropout)\n",
    "        self.logist = nn.Linear(self.ft_size, self.n_classes)\n",
    "\n",
    "    def forward(self, x):\n",
    "        out = self.DenseL(x)\n",
    "        out = self.AttnL(out)\n",
    "        out = self.Act(out)\n",
    "        out = self.AvgPoolL(out)\n",
    "        out = torch.squeeze(out)\n",
    "        out = self.dropout(out)\n",
    "        out1 = self.DenseL2(out)   \n",
    "        out = self.logist(out1)     \n",
    "        return out, out1"
   ]
  },
  {
   "cell_type": "markdown",
   "metadata": {},
   "source": [
    "---"
   ]
  },
  {
   "cell_type": "code",
   "execution_count": 40,
   "metadata": {},
   "outputs": [],
   "source": [
    "\n",
    "class BiLSTMEncoder(nn.Module):\n",
    "    def __init__(self,seq_len, input_size, hidden_size,linear_filters,embedding_size:int, num_layers = 1,bidirectional=True,batch_size=32):\n",
    "        super(BiLSTMEncoder, self).__init__()\n",
    "        self.input_size = input_size\n",
    "        self.hidden_size = hidden_size\n",
    "        self.num_layers = num_layers\n",
    "        self.linear_filters = linear_filters\n",
    "        self.embedding_size = embedding_size\n",
    "        self.bidirectional = bidirectional\n",
    "        self.batch_size = batch_size\n",
    "        self.seq_len = seq_len\n",
    "\n",
    "        # define LSTM layer\n",
    "        self.layers = []\n",
    "\n",
    "        # add linear layers \n",
    "        for __id,layer_out in enumerate(self.linear_filters):\n",
    "            if __id == 0:\n",
    "                self.layers.append(nn.Linear(self.input_size, layer_out))\n",
    "            else:\n",
    "                self.layers.append(nn.Linear(self.linear_filters[__id-1], layer_out))\n",
    "\n",
    "        # add lstm layer\n",
    "        self.lstm = nn.LSTM(input_size = layer_out, hidden_size = self.hidden_size,\n",
    "                            num_layers = self.num_layers, bidirectional=self.bidirectional,\n",
    "                            batch_first=True)\n",
    "        \n",
    "        self.net = nn.Sequential(*self.layers)\n",
    "\n",
    "        #add embedding out\n",
    "        if bidirectional:\n",
    "            self.out_linear = nn.Linear(self.hidden_size*4, self.embedding_size)\n",
    "        else:\n",
    "            self.out_linear = nn.Linear(self.hidden_size*2, self.embedding_size)\n",
    "\n",
    "        \n",
    "    def forward(self, x_input):\n",
    "        '''\n",
    "        : param x_input:               input of shape (seq_len, # in batch, input_size)\n",
    "        : return lstm_out, hidden:     lstm_out gives all the hidden states in the sequence; hidden gives the hidden state and cell state for the last element in the sequence                         \n",
    "        '''\n",
    "        \n",
    "        x = self.net(x_input)\n",
    "        lstm_out, self.hidden = self.lstm(x)\n",
    "        hidden_transformed = torch.concat(self.hidden,0)\n",
    "        hidden_transformed = torch.transpose(hidden_transformed,0,1)\n",
    "        hidden_transformed = torch.flatten(hidden_transformed,start_dim=1)\n",
    "        \n",
    "        hidden_transformed = self.out_linear(hidden_transformed)\n",
    "        \n",
    "        return lstm_out, hidden_transformed\n",
    "\n",
    "    \n",
    "class BiLSTMDecoder(nn.Module):\n",
    "    def __init__(self,seq_len, input_size, hidden_size, linear_filters,embedding_size:int, num_layers = 1,bidirectional=True,batch_size=32, device='cpu'):\n",
    "        super(BiLSTMDecoder, self).__init__()\n",
    "        self.input_size = input_size\n",
    "        self.hidden_size = hidden_size\n",
    "        self.num_layers = num_layers\n",
    "        self.linear_filters = linear_filters[::-1]\n",
    "        self.embedding_size = embedding_size\n",
    "        self.bidirectional = bidirectional\n",
    "        self.batch_size = batch_size\n",
    "        self.seq_len = seq_len\n",
    "        self.device = device\n",
    "\n",
    "        if bidirectional:\n",
    "            self.input_linear = nn.Linear(self.embedding_size,4*self.hidden_size)\n",
    "        else:\n",
    "            self.input_linear = nn.Linear(self.embedding_size,2*self.hidden_size)\n",
    "\n",
    "        # define LSTM layer\n",
    "        self.layers = []\n",
    "        # add lstm\n",
    "        self.lstm = nn.LSTM(input_size = self.linear_filters[0], hidden_size = self.hidden_size,\n",
    "                            num_layers = self.num_layers, bidirectional=True,\n",
    "                            batch_first=bidirectional)\n",
    "\n",
    "                        \n",
    "        # add linear layers \n",
    "        if bidirectional:\n",
    "            self.layers.append(nn.Linear(2*hidden_size,self.linear_filters[0]))\n",
    "        else:\n",
    "            self.layers.append(nn.Linear(hidden_size,self.linear_filters[0]))\n",
    "\n",
    "        for __id,layer_in in enumerate(self.linear_filters):\n",
    "            if __id == len(linear_filters)-1:\n",
    "                self.layers.append(nn.Linear(layer_in,self.input_size))\n",
    "            else:\n",
    "                self.layers.append(nn.Linear(layer_in,self.linear_filters[__id+1]))\n",
    "\n",
    "        self.net = nn.Sequential(*self.layers)\n",
    "\n",
    "        \n",
    "        \n",
    "\n",
    "    def forward(self,encoder_hidden):\n",
    "        '''\n",
    "        : param x_input:               input of shape (seq_len, # in batch, input_size)\n",
    "        : return lstm_out, hidden:     lstm_out gives all the hidden states in the sequence; hidden gives the hidden state and cell state for the last element in the sequence                         \n",
    "        '''\n",
    "        \n",
    "        \n",
    "        hidden_shape = encoder_hidden.shape\n",
    "        encoder_hidden = self.input_linear(encoder_hidden)\n",
    "        \n",
    "        if self.bidirectional:\n",
    "            hidden = encoder_hidden.view((self.batch_size,4,self.hidden_size))\n",
    "            # print(hidden.shape)\n",
    "            hidden = torch.transpose(hidden,1,0)\n",
    "            h1,h2,c1,c2 = torch.unbind(hidden,0)\n",
    "            h,c = torch.stack((h1,h2)),torch.stack((c1,c2))\n",
    "        else:\n",
    "            hidden = encoder_hidden.view((self.batch_size,2,self.hidden_size))\n",
    "            hidden = torch.transpose(hidden,1,0)\n",
    "            h,c = torch.unbind(hidden,0)\n",
    "        \n",
    "        dummy_input = torch.rand((self.batch_size,self.seq_len,self.hidden_size), requires_grad=True)\n",
    "        dummy_input = dummy_input.to(self.device)\n",
    "        \n",
    "        lstm_out, self.hidden = self.lstm(dummy_input,(h,c))\n",
    "        x = self.net(lstm_out)\n",
    "        \n",
    "        return x\n",
    "\n",
    "class BiLSTMEncDecModel(nn.Module):\n",
    "    def __init__(self,seq_len, input_size, hidden_size, linear_filters=[128,256,512],embedding_size:int=256, num_layers = 1,bidirectional=True, batch_size=32, device='cpu'):\n",
    "        super(BiLSTMEncDecModel, self).__init__()\n",
    "        self.input_size = input_size\n",
    "        self.hidden_size = hidden_size\n",
    "        self.num_layers = num_layers\n",
    "        self.linear_filters = linear_filters[::-1]\n",
    "        self.embedding_size = embedding_size\n",
    "        self.bidirectional = bidirectional\n",
    "        self.batch_size = batch_size\n",
    "        self.seq_len = seq_len\n",
    "        \n",
    "        self.encoder = BiLSTMEncoder(seq_len, input_size, hidden_size, linear_filters,embedding_size, num_layers = 1,bidirectional=True,batch_size=32)\n",
    "        self.decoder = BiLSTMDecoder(seq_len, input_size, hidden_size, linear_filters,embedding_size, num_layers = 1,bidirectional=True,batch_size=32, device=device)\n",
    "        \n",
    "    def forward(self,x):\n",
    "        lstm_out,embedding = self.encoder(x)\n",
    "        decoder_out = self.decoder(embedding)\n",
    "        \n",
    "        return decoder_out, embedding  \n",
    "        "
   ]
  },
  {
   "cell_type": "code",
   "execution_count": 41,
   "metadata": {},
   "outputs": [
    {
     "data": {
      "text/plain": [
       "<All keys matched successfully>"
      ]
     },
     "execution_count": 41,
     "metadata": {},
     "output_type": "execute_result"
    }
   ],
   "source": [
    "ae_model = BiLSTMEncDecModel(seq_len=50, input_size=36, hidden_size=512, linear_filters=[128,256,512], embedding_size=256, num_layers=1,bidirectional=True,batch_size=32)\n",
    "prep_dir = './tmp/random_input_100_epochs.pt'\n",
    "\n",
    "ae_model.load_state_dict(torch.load(prep_dir))"
   ]
  },
  {
   "cell_type": "markdown",
   "metadata": {},
   "source": [
    "---"
   ]
  },
  {
   "cell_type": "code",
   "execution_count": 42,
   "metadata": {},
   "outputs": [],
   "source": [
    "if config['device'] == 'cpu':\n",
    "    device = \"cpu\"\n",
    "else:\n",
    "    device = torch.device(\"cuda:0\" if torch.cuda.is_available() else \"cpu\")"
   ]
  },
  {
   "cell_type": "code",
   "execution_count": 43,
   "metadata": {},
   "outputs": [
    {
     "name": "stdout",
     "output_type": "stream",
     "text": [
      "Reading file 1 of 14\n",
      "Reading file 2 of 14\n",
      "Reading file 3 of 14\n",
      "Reading file 4 of 14\n",
      "Reading file 5 of 14\n",
      "Reading file 6 of 14\n",
      "Reading file 7 of 14\n",
      "Reading file 8 of 14\n",
      "Reading file 9 of 14\n",
      "Reading file 10 of 14\n",
      "Reading file 11 of 14\n",
      "Reading file 12 of 14\n",
      "Reading file 13 of 14\n",
      "Reading file 14 of 14\n"
     ]
    },
    {
     "name": "stderr",
     "output_type": "stream",
     "text": [
      "g:\\FYP\\Codebases\\Pose-AE\\src\\datasets\\data.py:62: VisibleDeprecationWarning:\n",
      "\n",
      "Creating an ndarray from ragged nested sequences (which is a list-or-tuple of lists-or-tuples-or ndarrays with different lengths or shapes) is deprecated. If you meant to do this, you must specify 'dtype=object' when creating the ndarray.\n",
      "\n"
     ]
    }
   ],
   "source": [
    "# import PAMAP2 dataset\n",
    "dt = config['dataset']\n",
    "if dt == 'PAMAP2':\n",
    "    dataReader = PAMAP2Reader('./data/PAMAP2_Dataset/Protocol/')\n",
    "\n",
    "actionList = dataReader.idToLabel"
   ]
  },
  {
   "cell_type": "code",
   "execution_count": 44,
   "metadata": {},
   "outputs": [],
   "source": [
    "if dt == 'PAMAP2':\n",
    "    fold_classes = [['watching TV', 'house cleaning', 'standing', 'ascending stairs'], ['walking', 'rope jumping', 'sitting', 'descending stairs'], ['playing soccer', 'lying', 'vacuum cleaning', 'computer work'], ['cycling', 'running', 'Nordic walking'], ['ironing', 'car driving', 'folding laundry']]\n",
    "\n",
    "fold_cls_ids = [[actionList.index(i) for i in j] for j in fold_classes]"
   ]
  },
  {
   "cell_type": "code",
   "execution_count": 45,
   "metadata": {},
   "outputs": [],
   "source": [
    "skeleton_data = np.load('./data/skeleton_k10_movements.npz')\n",
    "skeleton_classes, skeleton_mov = skeleton_data['arr_0'], skeleton_data['arr_1']"
   ]
  },
  {
   "cell_type": "code",
   "execution_count": 46,
   "metadata": {},
   "outputs": [
    {
     "data": {
      "text/plain": [
       "[(1, 'lying'),\n",
       " (2, 'sitting'),\n",
       " (3, 'standing'),\n",
       " (4, 'walking'),\n",
       " (5, 'running'),\n",
       " (6, 'cycling'),\n",
       " (7, 'Nordic walking'),\n",
       " (9, 'watching TV'),\n",
       " (10, 'computer work'),\n",
       " (11, 'car driving'),\n",
       " (12, 'ascending stairs'),\n",
       " (13, 'descending stairs'),\n",
       " (16, 'vacuum cleaning'),\n",
       " (17, 'ironing'),\n",
       " (18, 'folding laundry'),\n",
       " (19, 'house cleaning'),\n",
       " (20, 'playing soccer'),\n",
       " (24, 'rope jumping')]"
      ]
     },
     "execution_count": 46,
     "metadata": {},
     "output_type": "execute_result"
    }
   ],
   "source": [
    "dataReader.label_map"
   ]
  },
  {
   "cell_type": "code",
   "execution_count": 47,
   "metadata": {},
   "outputs": [
    {
     "data": {
      "text/plain": [
       "array(['Nordic walking', 'ascending stairs', 'car driving',\n",
       "       'computer work', 'cycling', 'descending stairs', 'folding laundry',\n",
       "       'house cleaning', 'ironing', 'lying', 'playing soccer',\n",
       "       'rope jumping', 'running', 'sitting', 'standing',\n",
       "       'vacuum cleaning', 'walking', 'watching TV'], dtype='<U17')"
      ]
     },
     "execution_count": 47,
     "metadata": {},
     "output_type": "execute_result"
    }
   ],
   "source": [
    "np.unique(skeleton_classes)"
   ]
  },
  {
   "cell_type": "code",
   "execution_count": 48,
   "metadata": {},
   "outputs": [],
   "source": [
    "from collections import defaultdict\n",
    "\n",
    "label2Id = {c[1]:i for i,c in enumerate(dataReader.label_map)}\n",
    "action_dict = defaultdict(list)\n",
    "skeleton_Ids = []\n",
    "for i, a in enumerate(skeleton_classes):\n",
    "    action_dict[label2Id[a]].append(i)\n",
    "    skeleton_Ids.append(label2Id[a])"
   ]
  },
  {
   "cell_type": "code",
   "execution_count": 49,
   "metadata": {},
   "outputs": [
    {
     "data": {
      "text/plain": [
       "defaultdict(list,\n",
       "            {10: [0, 1, 2, 3, 4, 5, 6, 7, 8, 9],\n",
       "             9: [10, 11, 12, 13, 14, 15, 16, 17, 18, 19],\n",
       "             8: [20, 21, 22, 23, 24, 25, 26, 27, 28, 29],\n",
       "             5: [30, 31, 32, 33, 34, 35, 36, 37, 38, 39],\n",
       "             11: [40, 41, 42, 43, 44, 45, 46, 47, 48, 49],\n",
       "             14: [50, 51, 52, 53, 54, 55, 56, 57, 58, 59],\n",
       "             15: [60, 61, 62, 63, 64, 65, 66, 67, 68, 69],\n",
       "             13: [70, 71, 72, 73, 74, 75, 76, 77, 78, 79],\n",
       "             0: [80, 81, 82, 83, 84, 85, 86, 87, 88, 89],\n",
       "             6: [90, 91, 92, 93, 94, 95, 96, 97, 98, 99],\n",
       "             16: [100, 101, 102, 103, 104, 105, 106, 107, 108, 109],\n",
       "             17: [110, 111, 112, 113, 114, 115, 116, 117, 118, 119],\n",
       "             4: [120, 121, 122, 123, 124, 125, 126, 127, 128, 129],\n",
       "             1: [130, 131, 132, 133, 134, 135, 136, 137, 138, 139],\n",
       "             2: [140, 141, 142, 143, 144, 145, 146, 147, 148, 149],\n",
       "             12: [150, 151, 152, 153, 154, 155, 156, 157, 158, 159],\n",
       "             3: [160, 161, 162, 163, 164, 165, 166, 167, 168, 169],\n",
       "             7: [170, 171, 172, 173, 174, 175, 176, 177, 178, 179]})"
      ]
     },
     "execution_count": 49,
     "metadata": {},
     "output_type": "execute_result"
    }
   ],
   "source": [
    "action_dict"
   ]
  },
  {
   "cell_type": "markdown",
   "metadata": {},
   "source": [
    "---"
   ]
  },
  {
   "cell_type": "code",
   "execution_count": 50,
   "metadata": {},
   "outputs": [],
   "source": [
    "class PAMAP2Dataset(Dataset):\n",
    "    def __init__(self, data, actions, attributes, attribute_dict, action_classes, seq_len=120):\n",
    "        super(PAMAP2Dataset, self).__init__()\n",
    "        self.data = torch.from_numpy(data)\n",
    "        self.actions = actions\n",
    "        self.attribute_dict = attribute_dict\n",
    "        self.seq_len = seq_len\n",
    "        self.attributes = torch.from_numpy(attributes)\n",
    "        self.action_classes = action_classes\n",
    "        # build action to id mapping dict\n",
    "        self.n_action = len(self.actions)\n",
    "        self.action2Id = dict(zip(action_classes, range(self.n_action)))\n",
    "\n",
    "    def __getitem__(self, ind):\n",
    "        x = self.data[ind, ...]\n",
    "        x_mask = np.array([0]) #self.padding_mask[ind, ...]\n",
    "        target = self.actions[ind]\n",
    "        y = torch.from_numpy(np.array([self.action2Id[target]]))\n",
    "        # extraction semantic space generation skeleton sequences \n",
    "        skel_idx = random.choice(self.attribute_dict[target])\n",
    "        y_feat = self.attributes[skel_idx, ...]\n",
    "        return x, y, y_feat, x_mask\n",
    "\n",
    "    def __len__(self):\n",
    "        return self.data.shape[0]\n",
    "\n",
    "    def getClassAttrs(self):\n",
    "        sampling_idx = [random.choice(self.attribute_dict[i]) for i in self.action_classes]\n",
    "        ft_mat = self.attributes[sampling_idx, ...]\n",
    "        return ft_mat "
   ]
  },
  {
   "cell_type": "code",
   "execution_count": 51,
   "metadata": {},
   "outputs": [
    {
     "name": "stdout",
     "output_type": "stream",
     "text": [
      "torch.Size([32, 105, 27])\n"
     ]
    }
   ],
   "source": [
    "data_dict = dataReader.generate(unseen_classes=fold_cls_ids[0], seen_ratio=0.2, unseen_ratio=0.8, window_size=5.21, window_overlap=4.21, resample_freq=20)\n",
    "sample_dt = PAMAP2Dataset(data=data_dict['train']['X'], actions=data_dict['train']['y'], attributes=skeleton_mov, attribute_dict=action_dict, action_classes=data_dict['seen_classes'], seq_len=100)\n",
    "sample_dl = DataLoader(sample_dt, batch_size=32, shuffle=True, pin_memory=True, drop_last=True)\n",
    "for d in sample_dl:\n",
    "    print(d[0].shape)\n",
    "    break"
   ]
  },
  {
   "cell_type": "code",
   "execution_count": 52,
   "metadata": {},
   "outputs": [
    {
     "data": {
      "text/plain": [
       "torch.Size([14, 60, 36])"
      ]
     },
     "execution_count": 52,
     "metadata": {},
     "output_type": "execute_result"
    }
   ],
   "source": [
    "r = sample_dt.getClassAttrs()\n",
    "r.shape"
   ]
  },
  {
   "cell_type": "code",
   "execution_count": 53,
   "metadata": {},
   "outputs": [
    {
     "data": {
      "text/plain": [
       "torch.Size([32, 60, 36])"
      ]
     },
     "execution_count": 53,
     "metadata": {},
     "output_type": "execute_result"
    }
   ],
   "source": [
    "pr = F.pad(input=r, pad=(0, 0, 0, 0, 0, 18), mode='constant', value=0)\n",
    "pr.shape"
   ]
  },
  {
   "cell_type": "code",
   "execution_count": 54,
   "metadata": {},
   "outputs": [
    {
     "data": {
      "text/plain": [
       "torch.Size([36, 60])"
      ]
     },
     "execution_count": 54,
     "metadata": {},
     "output_type": "execute_result"
    }
   ],
   "source": [
    "torch.transpose(r[1, ...], 1, 0).shape"
   ]
  },
  {
   "cell_type": "code",
   "execution_count": 55,
   "metadata": {},
   "outputs": [],
   "source": [
    "# r_out1, r_out2 = ae_model(torch.transpose(pr, 1, 0).float())\n",
    "# r_out1.shape, r_out2.shape"
   ]
  },
  {
   "cell_type": "markdown",
   "metadata": {},
   "source": [
    "---"
   ]
  },
  {
   "cell_type": "code",
   "execution_count": 56,
   "metadata": {},
   "outputs": [],
   "source": [
    "class SkeletonDataset(Dataset):\n",
    "    def __init__(self, movements, actions, action_dict, seq_len=60):\n",
    "        super(SkeletonDataset, self).__init__()\n",
    "        self.movements = torch.from_numpy(movements[:, :seq_len, ...]) #@\n",
    "        self.actions = actions\n",
    "        self.action_dict = deepcopy(dict(action_dict))\n",
    "        self.actionsIDs = list(self.action_dict.keys())\n",
    "        \n",
    "\n",
    "    def __getitem__(self, idx):\n",
    "        x1 = self.movements[idx, ...]\n",
    "        action = self.actions[idx]\n",
    "\n",
    "        partial_idx = random.sample(self.action_dict[action], k=1)[0]\n",
    "        x2 = self.movements[partial_idx, ...]\n",
    "\n",
    "        label = self.actionsIDs.index(action)\n",
    "        # return np.transpose(x1, (1,0,2)), np.transpose(x2, (1,0,2)), label\n",
    "        return x1, x2, label\n",
    "\n",
    "    def __len__(self):\n",
    "        return self.movements.shape[0]\n",
    "\n",
    "    def getShape(self):\n",
    "        return self.movements[0, ...].shape\n",
    "\n",
    "    def get_actions(self, label):\n",
    "        return self.movements[self.action_dict[label], ...]\n"
   ]
  },
  {
   "cell_type": "code",
   "execution_count": 57,
   "metadata": {},
   "outputs": [
    {
     "data": {
      "text/plain": [
       "defaultdict(list,\n",
       "            {10: [0, 1, 2, 3, 4, 5, 6, 7, 8, 9],\n",
       "             9: [10, 11, 12, 13, 14, 15, 16, 17, 18, 19],\n",
       "             8: [20, 21, 22, 23, 24, 25, 26, 27, 28, 29],\n",
       "             5: [30, 31, 32, 33, 34, 35, 36, 37, 38, 39],\n",
       "             11: [40, 41, 42, 43, 44, 45, 46, 47, 48, 49],\n",
       "             14: [50, 51, 52, 53, 54, 55, 56, 57, 58, 59],\n",
       "             15: [60, 61, 62, 63, 64, 65, 66, 67, 68, 69],\n",
       "             13: [70, 71, 72, 73, 74, 75, 76, 77, 78, 79],\n",
       "             0: [80, 81, 82, 83, 84, 85, 86, 87, 88, 89],\n",
       "             6: [90, 91, 92, 93, 94, 95, 96, 97, 98, 99],\n",
       "             16: [100, 101, 102, 103, 104, 105, 106, 107, 108, 109],\n",
       "             17: [110, 111, 112, 113, 114, 115, 116, 117, 118, 119],\n",
       "             4: [120, 121, 122, 123, 124, 125, 126, 127, 128, 129],\n",
       "             1: [130, 131, 132, 133, 134, 135, 136, 137, 138, 139],\n",
       "             2: [140, 141, 142, 143, 144, 145, 146, 147, 148, 149],\n",
       "             12: [150, 151, 152, 153, 154, 155, 156, 157, 158, 159],\n",
       "             3: [160, 161, 162, 163, 164, 165, 166, 167, 168, 169],\n",
       "             7: [170, 171, 172, 173, 174, 175, 176, 177, 178, 179]})"
      ]
     },
     "execution_count": 57,
     "metadata": {},
     "output_type": "execute_result"
    }
   ],
   "source": [
    "action_dict"
   ]
  },
  {
   "cell_type": "code",
   "execution_count": 58,
   "metadata": {},
   "outputs": [
    {
     "name": "stdout",
     "output_type": "stream",
     "text": [
      "torch.Size([32, 50, 36])\n"
     ]
    }
   ],
   "source": [
    "sample_dt = SkeletonDataset(skeleton_mov, skeleton_Ids, action_dict, seq_len=50)\n",
    "sample_dl = DataLoader(sample_dt, batch_size=config['batch_size'], shuffle=True, pin_memory=True, drop_last=True)\n",
    "for b in sample_dl:\n",
    "    bx1, bx2, by = b \n",
    "    # bx = torch.transpose(bx1, 1, 0)\n",
    "    bs, seq_len, ft_in = bx1.shape\n",
    "    print(bx1.shape)\n",
    "    break "
   ]
  },
  {
   "cell_type": "code",
   "execution_count": 59,
   "metadata": {},
   "outputs": [
    {
     "data": {
      "text/plain": [
       "torch.Size([50, 36])"
      ]
     },
     "execution_count": 59,
     "metadata": {},
     "output_type": "execute_result"
    }
   ],
   "source": [
    "sample_dt.getShape()"
   ]
  },
  {
   "cell_type": "code",
   "execution_count": 70,
   "metadata": {},
   "outputs": [
    {
     "data": {
      "text/plain": [
       "torch.Size([10, 50, 36])"
      ]
     },
     "execution_count": 70,
     "metadata": {},
     "output_type": "execute_result"
    }
   ],
   "source": [
    "sample_dt.get_actions(0).shape"
   ]
  },
  {
   "cell_type": "markdown",
   "metadata": {},
   "source": [
    "---"
   ]
  },
  {
   "cell_type": "code",
   "execution_count": 60,
   "metadata": {},
   "outputs": [],
   "source": [
    "def get_class_avg(data, model, device, bs=32):\n",
    "    ns, _, _ = data.shape \n",
    "    padded_mat = F.pad(input=data, pad=(0,0,0,0,0,bs-ns), mode='constant', value=0)\n",
    "    _, vector_out = model(padded_mat.float().to(device)) # batch second mode\n",
    "    action_feat_mat = vector_out[:ns, :].cpu().detach().numpy()\n",
    "    avg_vector = np.mean(action_feat_mat, axis=0)\n",
    "    # print(action_feat_mat.shape, avg_vector.shape)\n",
    "    return avg_vector"
   ]
  },
  {
   "cell_type": "code",
   "execution_count": 61,
   "metadata": {},
   "outputs": [],
   "source": [
    "def imu_train_step1(model, ae, dataloader, skel_dt, optimizer, loss_module, device, class_names, class_ids, phase='train', l2_reg=False, loss_alpha=0.7, batch_size=32):\n",
    "    model = model.train()\n",
    "    ae = ae.eval()\n",
    "\n",
    "    epoch_loss = 0  # total loss of epoch\n",
    "    total_samples = 0  # total samples in epoch\n",
    "\n",
    "    sem_space = []\n",
    "    for c in class_ids:\n",
    "        action_mat = skel_dt.get_actions(c)\n",
    "        avg_vector = get_class_avg(action_mat, ae, device, batch_size)\n",
    "        sem_space.append(avg_vector)\n",
    "\n",
    "    sem_space = np.array(sem_space)\n",
    "    sem_space = torch.from_numpy(sem_space)\n",
    "    # print(sem_space.shape, \"< sem space\")\n",
    "\n",
    "    with tqdm(dataloader, unit=\"batch\", desc=phase) as tepoch:\n",
    "        for batch in tepoch:\n",
    "            X, targets, _, padding_masks = batch\n",
    "            # print(X, targets, target_feat, target_attr)\n",
    "            X = X.float().to(device)\n",
    "            # target_feat = target_feat.float().to(device)\n",
    "            targets = targets.long().to(device)\n",
    "            padding_masks = padding_masks.to(device)  # 0s: ignore\n",
    "\n",
    "            target_feat = torch.squeeze(sem_space[targets]).float().to(device) #@\n",
    "\n",
    "            # Zero gradients, perform a backward pass, and update the weights.\n",
    "            optimizer.zero_grad()\n",
    "            # forward\n",
    "            # track history if only in train\n",
    "            with torch.set_grad_enabled(phase == 'train'):\n",
    "            # with autocast():\n",
    "                class_output, feat_output = model(X)\n",
    "            \n",
    "            # print(feat_output.shape, target_feat.shape)\n",
    "            class_loss = loss_module['class'](class_output, targets.squeeze())\n",
    "            feat_loss = loss_module['feature'](feat_output, target_feat)\n",
    "\n",
    "            loss = loss_alpha*class_loss+(1-loss_alpha)*feat_loss\n",
    "\n",
    "            if phase == 'train':\n",
    "                loss.backward()\n",
    "                optimizer.step()\n",
    "\n",
    "            metrics = {\"loss\": loss.item()}\n",
    "            with torch.no_grad():\n",
    "                total_samples += len(targets)\n",
    "                epoch_loss += loss.item()  # add total loss of batch\n",
    "\n",
    "            # convert feature vector into action class\n",
    "            # using cosine \n",
    "            pred_class = np.argmax(class_output.cpu().detach().numpy(), axis=1)\n",
    "            metrics[\"accuracy\"] = accuracy_score(y_true=targets.cpu().detach().numpy(), y_pred=pred_class)\n",
    "            tepoch.set_postfix(metrics)\n",
    "            \n",
    "    epoch_loss = epoch_loss / total_samples  # average loss per sample for whole epoch\n",
    "    return metrics"
   ]
  },
  {
   "cell_type": "code",
   "execution_count": 62,
   "metadata": {},
   "outputs": [],
   "source": [
    "def ae_train_step1(model , dataloader, optimizer, loss_module, device, batch_size, phase='train', l2_reg=False, loss_alpha=0.7):\n",
    "    model = model.train()\n",
    "    model.to(device)\n",
    "\n",
    "    epoch_loss = 0 \n",
    "    total_samples = 0 \n",
    "\n",
    "    with tqdm(dataloader, unit='batch', desc=phase) as tepoch:\n",
    "        for batch in tepoch:\n",
    "            x1, x2, labels = batch \n",
    "            # post-process \n",
    "            xa = torch.vstack([x1, x2])  # batch first mode\n",
    "            # device offload \n",
    "            xa = xa.float().to(device)\n",
    "            labels = labels.float()\n",
    "\n",
    "            # set optimizer grad to zero \n",
    "            optimizer.zero_grad()\n",
    "            # get model prediction \n",
    "            with torch.set_grad_enabled(phase=='train'):\n",
    "                skel_output, ft_output = model(xa)\n",
    "\n",
    "            # reconstruct the output \n",
    "            f1, f2 = torch.split(ft_output, [batch_size//2, batch_size//2], dim=0)\n",
    "            cons_output = torch.stack([f1.squeeze(1), f2.squeeze(1)], dim=1)\n",
    "            # calc. contrastive loss \n",
    "            con_loss = loss_module['contrast'](cons_output, labels)\n",
    "            # calc. reconstruction loss \n",
    "            l2_loss = loss_module['recons'](xa, skel_output)\n",
    "            # calc. total loss\n",
    "            total_loss = loss_alpha*con_loss + (1-loss_alpha)*l2_loss\n",
    "\n",
    "            if phase == 'train':\n",
    "                total_loss.backward()\n",
    "                optimizer.step()\n",
    "\n",
    "            metrics = {'contrastive loss ': con_loss.item(), 'reconstruction loss': l2_loss.item()}\n",
    "            with torch.no_grad():\n",
    "                    total_samples += len(labels)\n",
    "                    epoch_loss += total_loss.item()\n",
    "            \n",
    "            tepoch.set_postfix(metrics)\n",
    "\n",
    "    epoch_loss = epoch_loss/total_samples\n",
    "    return metrics"
   ]
  },
  {
   "cell_type": "code",
   "execution_count": 71,
   "metadata": {},
   "outputs": [],
   "source": [
    "def plot_tnse(X, y, Id2Label):\n",
    "    tnse = TSNE(n_components=2, init='random', learning_rate='auto')\n",
    "    cmp_data = tnse.fit_transform(X)\n",
    "\n",
    "    cmp_df = pd.DataFrame(data=cmp_data, columns=['x', 'y'])\n",
    "    cmp_df['label'] = y\n",
    "    cmp_df['action'] = cmp_df['label'].map(Id2Label)\n",
    "\n",
    "    fig = px.scatter(cmp_df, x='x', y='y', color='action', width=800, height=800)\n",
    "    fig.show()"
   ]
  },
  {
   "cell_type": "code",
   "execution_count": 72,
   "metadata": {},
   "outputs": [],
   "source": [
    "def eval_step1(model, ae, dataloader, skel_dt, loss_module, device, class_names, class_ids, target_feat_met, phase='seen', l2_reg=False, print_report=True, show_plot=True, loss_alpha=0.7, batch_size=32):\n",
    "    model = model.train()\n",
    "    ae = ae.eval()\n",
    "    label_dict = {c:i for i,c in enumerate(class_ids)}\n",
    "    epoch_loss = 0  # total loss of epoch\n",
    "    total_samples = 0  # total samples in epoch\n",
    "    per_batch = {'target_masks': [], 'targets': [], 'predictions': [], 'metrics': [], 'IDs': []}\n",
    "\n",
    "    # generate unseen action_semantic from unseen skeleton seq. \n",
    "    all_actions = []\n",
    "    all_labels = []\n",
    "    for c in class_ids:\n",
    "        action_mat = skel_dt.get_actions(c)\n",
    "        ns, _, _ = target_feat_met.shape \n",
    "        class_labels = [label_dict[c] for _ in range(ns)]\n",
    "        padded_mat = F.pad(input=target_feat_met, pad=(0,0,0,0,0,batch_size-ns), mode='constant', value=0)\n",
    "        _, vector_out = ae(padded_mat.float().to(device)) # batch second mode\n",
    "        action_feat_mat = vector_out[:ns, :].cpu().detach().numpy() # batch second mode\n",
    "\n",
    "        all_actions.append(action_feat_mat)\n",
    "        all_labels.append(class_labels)\n",
    "\n",
    "    all_actions = np.concatenate(all_actions)\n",
    "    all_labels = np.concatenate(all_labels)\n",
    "    # build knn model on know unseen samples \n",
    "    knn = KNeighborsClassifier(n_neighbors=5)\n",
    "    knn.fit(all_actions, all_labels)\n",
    "    # print(\"unseen labels\", all_labels)\n",
    "    # plot t-SNE on unseen vector \n",
    "    Id2Label = {i:l for i,l in enumerate(class_names)}\n",
    "    plot_tnse(all_actions, all_labels, Id2Label)\n",
    "    \n",
    "    # print(\"target feat mat\", target_feat_met.shap e, \"action feat mat\", action_feat_mat.shape)\n",
    "\n",
    "    with tqdm(dataloader, unit=\"batch\", desc=phase) as tepoch:\n",
    "        for batch in tepoch:\n",
    "            X, targets, target_feat, padding_masks = batch\n",
    "            X = X.float().to(device)\n",
    "            target_feat = target_feat.float().to(device)\n",
    "            targets = targets.long().to(device)\n",
    "            \n",
    "            padding_masks = padding_masks.to(device)  # 0s: ignore\n",
    "            # forward\n",
    "            # track history if only in train\n",
    "            with torch.set_grad_enabled(phase == 'train'):\n",
    "            # with autocast():\n",
    "                class_output, feat_output = model(X)\n",
    "\n",
    "            with torch.set_grad_enabled(False):\n",
    "                _, target_feat = ae(target_feat) # batch second mode\n",
    "                \n",
    "            class_loss = 0 #loss_module['class'](class_output, targets.squeeze())\n",
    "            feat_loss = loss_module['feature'](feat_output, target_feat)\n",
    "\n",
    "            loss = loss_alpha*class_loss+(1-loss_alpha)*feat_loss\n",
    "\n",
    "            # convert feature vector into action class\n",
    "            # using cosine \n",
    "            if phase == 'seen':\n",
    "                pred_action = np.argmax(class_output.cpu().detach().numpy(), axis=1)\n",
    "            else:\n",
    "                # print(\"targets > \", targets)\n",
    "                # print(\"feat output\", feat_output.shape)\n",
    "                feat_numpy = feat_output.cpu().detach().numpy()\n",
    "                pred_action = knn.predict(feat_numpy)\n",
    "                \n",
    "            per_batch['targets'].append(targets.cpu().numpy())\n",
    "            per_batch['predictions'].append(pred_action)\n",
    "            per_batch['metrics'].append([loss.cpu().numpy()])\n",
    "\n",
    "            tepoch.set_postfix({\"loss\": loss.item()})\n",
    "    \n",
    "    \n",
    "    all_preds = np.concatenate(per_batch[\"predictions\"])\n",
    "    all_targets = np.concatenate(per_batch[\"targets\"])\n",
    "    # print(\"predictions > \", all_preds, \"ground truth > \", all_targets[:, 0])\n",
    "    metrics_dict = action_evaluator(y_pred=all_preds, y_true=all_targets[:, 0], class_names=class_names, print_report=print_report, show_plot=show_plot)\n",
    "    return metrics_dict"
   ]
  },
  {
   "cell_type": "markdown",
   "metadata": {},
   "source": [
    "---"
   ]
  },
  {
   "cell_type": "code",
   "execution_count": 76,
   "metadata": {},
   "outputs": [
    {
     "name": "stdout",
     "output_type": "stream",
     "text": [
      "================ Fold-0 ================\n",
      "Initiate IMU datasets ...\n",
      "Initiate Skeleton dataset ... \n",
      "Initial Models ...\n",
      "Start Models training ...\n"
     ]
    },
    {
     "name": "stderr",
     "output_type": "stream",
     "text": [
      "train: 100%|██████████| 11/11 [00:01<00:00,  5.58batch/s, contrastive loss =3.25, reconstruction loss=0.0739]\n",
      "train: 100%|██████████| 523/523 [00:14<00:00, 35.59batch/s, loss=0.563, accuracy=0.719]\n"
     ]
    },
    {
     "data": {
      "application/vnd.plotly.v1+json": {
       "config": {
        "plotlyServerURL": "https://plot.ly"
       },
       "data": [
        {
         "hoverlabel": {
          "namelength": 0
         },
         "hovertemplate": "action=lying<br>x=%{x}<br>y=%{y}",
         "legendgroup": "action=lying",
         "marker": {
          "color": "#636efa",
          "symbol": "circle"
         },
         "mode": "markers",
         "name": "action=lying",
         "showlegend": true,
         "type": "scatter",
         "x": [
          -5.448978424072266,
          -1.9563676118850708,
          0.999623715877533,
          -3.8149094581604004,
          7.012448310852051,
          0.9298804998397827,
          -7.880039215087891,
          -8.178143501281738,
          1.2149384021759033,
          6.049514293670654,
          4.312255382537842,
          -4.819758892059326,
          5.556869983673096,
          -3.4640753269195557
         ],
         "xaxis": "x",
         "y": [
          13.779147148132324,
          3.986387014389038,
          -5.353452205657959,
          9.322415351867676,
          -1.1011302471160889,
          -2.9850807189941406,
          18.693119049072266,
          20.0679874420166,
          -11.868538856506348,
          -15.551580429077148,
          -12.527824401855469,
          -2.021409511566162,
          -3.439009189605713,
          7.033933162689209
         ],
         "yaxis": "y"
        },
        {
         "hoverlabel": {
          "namelength": 0
         },
         "hovertemplate": "action=sitting<br>x=%{x}<br>y=%{y}",
         "legendgroup": "action=sitting",
         "marker": {
          "color": "#EF553B",
          "symbol": "circle"
         },
         "mode": "markers",
         "name": "action=sitting",
         "showlegend": true,
         "type": "scatter",
         "x": [
          -5.448978424072266,
          -2.3235692977905273,
          0.8074089288711548,
          -4.384282112121582,
          7.488279819488525,
          0.6876970529556274,
          -7.242105960845947,
          -8.178143501281738,
          1.5687965154647827,
          6.325004577636719,
          4.242823123931885,
          -5.093318462371826,
          5.809380531311035,
          -3.463927984237671
         ],
         "xaxis": "x",
         "y": [
          13.779147148132324,
          3.8109633922576904,
          -5.033572673797607,
          9.505362510681152,
          -1.4465523958206177,
          -3.338109254837036,
          18.798946380615234,
          20.0679874420166,
          -12.105047225952148,
          -15.585306167602539,
          -12.025245666503906,
          -2.0859854221343994,
          -3.4488985538482666,
          7.034698486328125
         ],
         "yaxis": "y"
        },
        {
         "hoverlabel": {
          "namelength": 0
         },
         "hovertemplate": "action=walking<br>x=%{x}<br>y=%{y}",
         "legendgroup": "action=walking",
         "marker": {
          "color": "#00cc96",
          "symbol": "circle"
         },
         "mode": "markers",
         "name": "action=walking",
         "showlegend": true,
         "type": "scatter",
         "x": [
          -5.448978424072266,
          -1.9071624279022217,
          1.4102424383163452,
          -3.914546489715576,
          7.239102840423584,
          0.6875167489051819,
          -7.880080699920654,
          -8.087109565734863,
          1.6923013925552368,
          6.325004577636719,
          4.312255382537842,
          -5.237192153930664,
          5.556869983673096,
          -3.379368782043457
         ],
         "xaxis": "x",
         "y": [
          13.779147148132324,
          3.568906545639038,
          -4.986742973327637,
          9.596017837524414,
          -0.9129087924957275,
          -3.33699107170105,
          18.693138122558594,
          20.411226272583008,
          -11.722265243530273,
          -15.585306167602539,
          -12.527824401855469,
          -1.9421911239624023,
          -3.439009189605713,
          6.824990749359131
         ],
         "yaxis": "y"
        },
        {
         "hoverlabel": {
          "namelength": 0
         },
         "hovertemplate": "action=running<br>x=%{x}<br>y=%{y}",
         "legendgroup": "action=running",
         "marker": {
          "color": "#ab63fa",
          "symbol": "circle"
         },
         "mode": "markers",
         "name": "action=running",
         "showlegend": true,
         "type": "scatter",
         "x": [
          -5.848487854003906,
          -1.8780310153961182,
          0.8074089288711548,
          -4.389350414276123,
          7.440762519836426,
          1.2694652080535889,
          -7.242105960845947,
          -7.43138313293457,
          1.2819994688034058,
          6.072777271270752,
          4.166478633880615,
          -5.208612442016602,
          5.624287128448486,
          -3.386172294616699
         ],
         "xaxis": "x",
         "y": [
          13.557793617248535,
          3.5946264266967773,
          -5.033572673797607,
          9.495774269104004,
          -0.966190755367279,
          -3.315430164337158,
          18.798946380615234,
          20.19866943359375,
          -12.045035362243652,
          -16.05950355529785,
          -12.470812797546387,
          -1.7017723321914673,
          -2.95512056350708,
          6.829997539520264
         ],
         "yaxis": "y"
        },
        {
         "hoverlabel": {
          "namelength": 0
         },
         "hovertemplate": "action=cycling<br>x=%{x}<br>y=%{y}",
         "legendgroup": "action=cycling",
         "marker": {
          "color": "#FFA15A",
          "symbol": "circle"
         },
         "mode": "markers",
         "name": "action=cycling",
         "showlegend": true,
         "type": "scatter",
         "x": [
          -5.766327857971191,
          -2.273742198944092,
          0.8074089288711548,
          -3.914546489715576,
          7.005323886871338,
          1.2694648504257202,
          -7.880037784576416,
          -7.43138313293457,
          1.2686598300933838,
          6.390721797943115,
          4.566247463226318,
          -5.237192153930664,
          5.919225692749023,
          -3.463927984237671
         ],
         "xaxis": "x",
         "y": [
          14.040796279907227,
          3.5984842777252197,
          -5.033572673797607,
          9.596017837524414,
          -1.1844948530197144,
          -3.315430164337158,
          18.693119049072266,
          20.19866943359375,
          -11.696704864501953,
          -15.920697212219238,
          -12.328705787658691,
          -1.9421911239624023,
          -3.2850403785705566,
          7.034698486328125
         ],
         "yaxis": "y"
        },
        {
         "hoverlabel": {
          "namelength": 0
         },
         "hovertemplate": "action=Nordic walking<br>x=%{x}<br>y=%{y}",
         "legendgroup": "action=Nordic walking",
         "marker": {
          "color": "#19d3f3",
          "symbol": "circle"
         },
         "mode": "markers",
         "name": "action=Nordic walking",
         "showlegend": true,
         "type": "scatter",
         "x": [
          -5.91431999206543,
          -2.3108434677124023,
          1.3546044826507568,
          -3.872476816177368,
          7.012449264526367,
          1.2694652080535889,
          -7.880037784576416,
          -7.431521892547607,
          1.4819469451904297,
          6.07233190536499,
          4.144443511962891,
          -5.216557025909424,
          5.919225692749023,
          -3.392367124557495
         ],
         "xaxis": "x",
         "y": [
          13.95910358428955,
          3.8459508419036865,
          -5.28700590133667,
          9.237353324890137,
          -1.1011263132095337,
          -3.315430164337158,
          18.693119049072266,
          20.19852638244629,
          -12.128786087036133,
          -16.059385299682617,
          -12.44747257232666,
          -1.713502287864685,
          -3.2850403785705566,
          7.16593074798584
         ],
         "yaxis": "y"
        },
        {
         "hoverlabel": {
          "namelength": 0
         },
         "hovertemplate": "action=computer work<br>x=%{x}<br>y=%{y}",
         "legendgroup": "action=computer work",
         "marker": {
          "color": "#FF6692",
          "symbol": "circle"
         },
         "mode": "markers",
         "name": "action=computer work",
         "showlegend": true,
         "type": "scatter",
         "x": [
          -5.848487854003906,
          -2.116461992263794,
          0.999623715877533,
          -3.914546489715576,
          7.573047161102295,
          1.2694652080535889,
          -7.242105960845947,
          -8.178694725036621,
          1.6405950784683228,
          6.397687911987305,
          4.243386268615723,
          -5.094343662261963,
          5.424877166748047,
          -2.959134817123413
         ],
         "xaxis": "x",
         "y": [
          13.557793617248535,
          3.507782220840454,
          -5.353452205657959,
          9.596017837524414,
          -1.135184645652771,
          -3.315430164337158,
          18.798946380615234,
          20.067626953125,
          -11.649186134338379,
          -15.908307075500488,
          -12.025046348571777,
          -2.0858936309814453,
          -3.098501205444336,
          7.184757232666016
         ],
         "yaxis": "y"
        },
        {
         "hoverlabel": {
          "namelength": 0
         },
         "hovertemplate": "action=car driving<br>x=%{x}<br>y=%{y}",
         "legendgroup": "action=car driving",
         "marker": {
          "color": "#B6E880",
          "symbol": "circle"
         },
         "mode": "markers",
         "name": "action=car driving",
         "showlegend": true,
         "type": "scatter",
         "x": [
          -5.448978424072266,
          -2.2344963550567627,
          1.4039922952651978,
          -3.872406244277954,
          7.2621588706970215,
          0.6877480149269104,
          -7.5098042488098145,
          -7.866091251373291,
          1.5073305368423462,
          5.877252101898193,
          4.097255229949951,
          -4.835638999938965,
          5.624287128448486,
          -2.9064090251922607
         ],
         "xaxis": "x",
         "y": [
          13.779147148132324,
          3.951188802719116,
          -4.97990608215332,
          9.23737621307373,
          -1.4872775077819824,
          -3.338265895843506,
          18.414764404296875,
          20.509172439575195,
          -11.586657524108887,
          -15.789395332336426,
          -12.195337295532227,
          -2.037368059158325,
          -2.95512056350708,
          7.049459934234619
         ],
         "yaxis": "y"
        },
        {
         "hoverlabel": {
          "namelength": 0
         },
         "hovertemplate": "action=descending stairs<br>x=%{x}<br>y=%{y}",
         "legendgroup": "action=descending stairs",
         "marker": {
          "color": "#FF97FF",
          "symbol": "circle"
         },
         "mode": "markers",
         "name": "action=descending stairs",
         "showlegend": true,
         "type": "scatter",
         "x": [
          -5.848487854003906,
          -2.119939088821411,
          1.4039922952651978,
          -4.31488561630249,
          7.57332706451416,
          1.0435367822647095,
          -7.242105960845947,
          -8.178143501281738,
          1.2686363458633423,
          5.877252101898193,
          4.242913246154785,
          -4.790669918060303,
          5.919258117675781,
          -2.9590868949890137
         ],
         "xaxis": "x",
         "y": [
          13.557793617248535,
          3.5084774494171143,
          -4.97990608215332,
          9.174162864685059,
          -1.1326435804367065,
          -2.997840166091919,
          18.798946380615234,
          20.0679874420166,
          -11.696739196777344,
          -15.789399147033691,
          -12.02524471282959,
          -1.7091588973999023,
          -3.2848563194274902,
          7.184701442718506
         ],
         "yaxis": "y"
        },
        {
         "hoverlabel": {
          "namelength": 0
         },
         "hovertemplate": "action=vacuum cleaning<br>x=%{x}<br>y=%{y}",
         "legendgroup": "action=vacuum cleaning",
         "marker": {
          "color": "#FECB52",
          "symbol": "circle"
         },
         "mode": "markers",
         "name": "action=vacuum cleaning",
         "showlegend": true,
         "type": "scatter",
         "x": [
          -5.766327857971191,
          -2.0265400409698486,
          0.8019627928733826,
          -4.31314754486084,
          7.486495494842529,
          1.0435367822647095,
          -7.5098042488098145,
          -7.630796432495117,
          1.507697343826294,
          6.325004577636719,
          4.471877098083496,
          -4.790635108947754,
          5.471528053283691,
          -2.969785690307617
         ],
         "xaxis": "x",
         "y": [
          14.040796279907227,
          4.006503582000732,
          -5.049736022949219,
          9.172955513000488,
          -1.4478087425231934,
          -2.997840166091919,
          18.414764404296875,
          20.487754821777344,
          -11.586700439453125,
          -15.585306167602539,
          -12.048539161682129,
          -1.7092113494873047,
          -3.022582530975342,
          6.875469207763672
         ],
         "yaxis": "y"
        },
        {
         "hoverlabel": {
          "namelength": 0
         },
         "hovertemplate": "action=ironing<br>x=%{x}<br>y=%{y}",
         "legendgroup": "action=ironing",
         "marker": {
          "color": "#636efa",
          "symbol": "circle"
         },
         "mode": "markers",
         "name": "action=ironing",
         "showlegend": true,
         "type": "scatter",
         "x": [
          -5.448978424072266,
          -1.8149195909500122,
          1.4238477945327759,
          -3.914546489715576,
          7.242589950561523,
          0.6876980066299438,
          -7.880037784576416,
          -7.429002285003662,
          1.2875171899795532,
          6.390659332275391,
          4.566834449768066,
          -4.819758892059326,
          5.922821521759033,
          -3.028393030166626
         ],
         "xaxis": "x",
         "y": [
          13.779147148132324,
          3.7898037433624268,
          -5.006357192993164,
          9.596017837524414,
          -0.9125961661338806,
          -3.3381121158599854,
          18.693119049072266,
          20.200345993041992,
          -12.050522804260254,
          -15.92081069946289,
          -12.322186470031738,
          -2.021409511566162,
          -3.2323477268218994,
          7.239121437072754
         ],
         "yaxis": "y"
        },
        {
         "hoverlabel": {
          "namelength": 0
         },
         "hovertemplate": "action=folding laundry<br>x=%{x}<br>y=%{y}",
         "legendgroup": "action=folding laundry",
         "marker": {
          "color": "#EF553B",
          "symbol": "circle"
         },
         "mode": "markers",
         "name": "action=folding laundry",
         "showlegend": true,
         "type": "scatter",
         "x": [
          -5.848487854003906,
          -2.3280928134918213,
          0.8074089288711548,
          -4.315202713012695,
          7.506736755371094,
          1.2694652080535889,
          -7.242105960845947,
          -7.43138313293457,
          1.639542818069458,
          6.07233190536499,
          4.471877098083496,
          -5.045618534088135,
          5.539955139160156,
          -2.9888858795166016
         ],
         "xaxis": "x",
         "y": [
          13.557793617248535,
          3.729499101638794,
          -5.033572673797607,
          9.174386024475098,
          -1.4308339357376099,
          -3.315430164337158,
          18.798946380615234,
          20.19866943359375,
          -12.053007125854492,
          -16.059385299682617,
          -12.048539161682129,
          -1.5983635187149048,
          -3.4279587268829346,
          6.855655193328857
         ],
         "yaxis": "y"
        },
        {
         "hoverlabel": {
          "namelength": 0
         },
         "hovertemplate": "action=playing soccer<br>x=%{x}<br>y=%{y}",
         "legendgroup": "action=playing soccer",
         "marker": {
          "color": "#00cc96",
          "symbol": "circle"
         },
         "mode": "markers",
         "name": "action=playing soccer",
         "showlegend": true,
         "type": "scatter",
         "x": [
          -5.848487854003906,
          -1.817087173461914,
          1.2418564558029175,
          -4.314952850341797,
          7.262161731719971,
          0.6875167489051819,
          -7.242105960845947,
          -7.873315811157227,
          1.584128737449646,
          6.049514293670654,
          4.144443511962891,
          -5.045616149902344,
          5.420191764831543,
          -3.052212715148926
         ],
         "xaxis": "x",
         "y": [
          13.557793617248535,
          3.811732292175293,
          -5.353074550628662,
          9.174209594726562,
          -1.4872782230377197,
          -3.33699107170105,
          18.798946380615234,
          20.507823944091797,
          -12.095754623413086,
          -15.551580429077148,
          -12.44747257232666,
          -1.5983630418777466,
          -3.111333131790161,
          7.248703956604004
         ],
         "yaxis": "y"
        },
        {
         "hoverlabel": {
          "namelength": 0
         },
         "hovertemplate": "action=rope jumping<br>x=%{x}<br>y=%{y}",
         "legendgroup": "action=rope jumping",
         "marker": {
          "color": "#ab63fa",
          "symbol": "circle"
         },
         "mode": "markers",
         "name": "action=rope jumping",
         "showlegend": true,
         "type": "scatter",
         "x": [
          -5.91431999206543,
          -1.9093750715255737,
          1.4102424383163452,
          -4.305885314941406,
          7.005334854125977,
          0.6877229809761047,
          -7.880037784576416,
          -8.178183555603027,
          1.6923359632492065,
          5.877307415008545,
          4.5710577964782715,
          -4.790635108947754,
          5.624287128448486,
          -3.2094411849975586
         ],
         "xaxis": "x",
         "y": [
          13.95910358428955,
          3.957547664642334,
          -4.986742973327637,
          9.614228248596191,
          -1.1845993995666504,
          -3.3381896018981934,
          18.693119049072266,
          20.06800079345703,
          -11.722338676452637,
          -15.788578033447266,
          -12.306878089904785,
          -1.7092113494873047,
          -2.95512056350708,
          6.7685933113098145
         ],
         "yaxis": "y"
        }
       ],
       "layout": {
        "height": 800,
        "legend": {
         "tracegroupgap": 0
        },
        "margin": {
         "t": 60
        },
        "template": {
         "data": {
          "bar": [
           {
            "error_x": {
             "color": "#2a3f5f"
            },
            "error_y": {
             "color": "#2a3f5f"
            },
            "marker": {
             "line": {
              "color": "#E5ECF6",
              "width": 0.5
             }
            },
            "type": "bar"
           }
          ],
          "barpolar": [
           {
            "marker": {
             "line": {
              "color": "#E5ECF6",
              "width": 0.5
             }
            },
            "type": "barpolar"
           }
          ],
          "carpet": [
           {
            "aaxis": {
             "endlinecolor": "#2a3f5f",
             "gridcolor": "white",
             "linecolor": "white",
             "minorgridcolor": "white",
             "startlinecolor": "#2a3f5f"
            },
            "baxis": {
             "endlinecolor": "#2a3f5f",
             "gridcolor": "white",
             "linecolor": "white",
             "minorgridcolor": "white",
             "startlinecolor": "#2a3f5f"
            },
            "type": "carpet"
           }
          ],
          "choropleth": [
           {
            "colorbar": {
             "outlinewidth": 0,
             "ticks": ""
            },
            "type": "choropleth"
           }
          ],
          "contour": [
           {
            "colorbar": {
             "outlinewidth": 0,
             "ticks": ""
            },
            "colorscale": [
             [
              0,
              "#0d0887"
             ],
             [
              0.1111111111111111,
              "#46039f"
             ],
             [
              0.2222222222222222,
              "#7201a8"
             ],
             [
              0.3333333333333333,
              "#9c179e"
             ],
             [
              0.4444444444444444,
              "#bd3786"
             ],
             [
              0.5555555555555556,
              "#d8576b"
             ],
             [
              0.6666666666666666,
              "#ed7953"
             ],
             [
              0.7777777777777778,
              "#fb9f3a"
             ],
             [
              0.8888888888888888,
              "#fdca26"
             ],
             [
              1,
              "#f0f921"
             ]
            ],
            "type": "contour"
           }
          ],
          "contourcarpet": [
           {
            "colorbar": {
             "outlinewidth": 0,
             "ticks": ""
            },
            "type": "contourcarpet"
           }
          ],
          "heatmap": [
           {
            "colorbar": {
             "outlinewidth": 0,
             "ticks": ""
            },
            "colorscale": [
             [
              0,
              "#0d0887"
             ],
             [
              0.1111111111111111,
              "#46039f"
             ],
             [
              0.2222222222222222,
              "#7201a8"
             ],
             [
              0.3333333333333333,
              "#9c179e"
             ],
             [
              0.4444444444444444,
              "#bd3786"
             ],
             [
              0.5555555555555556,
              "#d8576b"
             ],
             [
              0.6666666666666666,
              "#ed7953"
             ],
             [
              0.7777777777777778,
              "#fb9f3a"
             ],
             [
              0.8888888888888888,
              "#fdca26"
             ],
             [
              1,
              "#f0f921"
             ]
            ],
            "type": "heatmap"
           }
          ],
          "heatmapgl": [
           {
            "colorbar": {
             "outlinewidth": 0,
             "ticks": ""
            },
            "colorscale": [
             [
              0,
              "#0d0887"
             ],
             [
              0.1111111111111111,
              "#46039f"
             ],
             [
              0.2222222222222222,
              "#7201a8"
             ],
             [
              0.3333333333333333,
              "#9c179e"
             ],
             [
              0.4444444444444444,
              "#bd3786"
             ],
             [
              0.5555555555555556,
              "#d8576b"
             ],
             [
              0.6666666666666666,
              "#ed7953"
             ],
             [
              0.7777777777777778,
              "#fb9f3a"
             ],
             [
              0.8888888888888888,
              "#fdca26"
             ],
             [
              1,
              "#f0f921"
             ]
            ],
            "type": "heatmapgl"
           }
          ],
          "histogram": [
           {
            "marker": {
             "colorbar": {
              "outlinewidth": 0,
              "ticks": ""
             }
            },
            "type": "histogram"
           }
          ],
          "histogram2d": [
           {
            "colorbar": {
             "outlinewidth": 0,
             "ticks": ""
            },
            "colorscale": [
             [
              0,
              "#0d0887"
             ],
             [
              0.1111111111111111,
              "#46039f"
             ],
             [
              0.2222222222222222,
              "#7201a8"
             ],
             [
              0.3333333333333333,
              "#9c179e"
             ],
             [
              0.4444444444444444,
              "#bd3786"
             ],
             [
              0.5555555555555556,
              "#d8576b"
             ],
             [
              0.6666666666666666,
              "#ed7953"
             ],
             [
              0.7777777777777778,
              "#fb9f3a"
             ],
             [
              0.8888888888888888,
              "#fdca26"
             ],
             [
              1,
              "#f0f921"
             ]
            ],
            "type": "histogram2d"
           }
          ],
          "histogram2dcontour": [
           {
            "colorbar": {
             "outlinewidth": 0,
             "ticks": ""
            },
            "colorscale": [
             [
              0,
              "#0d0887"
             ],
             [
              0.1111111111111111,
              "#46039f"
             ],
             [
              0.2222222222222222,
              "#7201a8"
             ],
             [
              0.3333333333333333,
              "#9c179e"
             ],
             [
              0.4444444444444444,
              "#bd3786"
             ],
             [
              0.5555555555555556,
              "#d8576b"
             ],
             [
              0.6666666666666666,
              "#ed7953"
             ],
             [
              0.7777777777777778,
              "#fb9f3a"
             ],
             [
              0.8888888888888888,
              "#fdca26"
             ],
             [
              1,
              "#f0f921"
             ]
            ],
            "type": "histogram2dcontour"
           }
          ],
          "mesh3d": [
           {
            "colorbar": {
             "outlinewidth": 0,
             "ticks": ""
            },
            "type": "mesh3d"
           }
          ],
          "parcoords": [
           {
            "line": {
             "colorbar": {
              "outlinewidth": 0,
              "ticks": ""
             }
            },
            "type": "parcoords"
           }
          ],
          "pie": [
           {
            "automargin": true,
            "type": "pie"
           }
          ],
          "scatter": [
           {
            "marker": {
             "colorbar": {
              "outlinewidth": 0,
              "ticks": ""
             }
            },
            "type": "scatter"
           }
          ],
          "scatter3d": [
           {
            "line": {
             "colorbar": {
              "outlinewidth": 0,
              "ticks": ""
             }
            },
            "marker": {
             "colorbar": {
              "outlinewidth": 0,
              "ticks": ""
             }
            },
            "type": "scatter3d"
           }
          ],
          "scattercarpet": [
           {
            "marker": {
             "colorbar": {
              "outlinewidth": 0,
              "ticks": ""
             }
            },
            "type": "scattercarpet"
           }
          ],
          "scattergeo": [
           {
            "marker": {
             "colorbar": {
              "outlinewidth": 0,
              "ticks": ""
             }
            },
            "type": "scattergeo"
           }
          ],
          "scattergl": [
           {
            "marker": {
             "colorbar": {
              "outlinewidth": 0,
              "ticks": ""
             }
            },
            "type": "scattergl"
           }
          ],
          "scattermapbox": [
           {
            "marker": {
             "colorbar": {
              "outlinewidth": 0,
              "ticks": ""
             }
            },
            "type": "scattermapbox"
           }
          ],
          "scatterpolar": [
           {
            "marker": {
             "colorbar": {
              "outlinewidth": 0,
              "ticks": ""
             }
            },
            "type": "scatterpolar"
           }
          ],
          "scatterpolargl": [
           {
            "marker": {
             "colorbar": {
              "outlinewidth": 0,
              "ticks": ""
             }
            },
            "type": "scatterpolargl"
           }
          ],
          "scatterternary": [
           {
            "marker": {
             "colorbar": {
              "outlinewidth": 0,
              "ticks": ""
             }
            },
            "type": "scatterternary"
           }
          ],
          "surface": [
           {
            "colorbar": {
             "outlinewidth": 0,
             "ticks": ""
            },
            "colorscale": [
             [
              0,
              "#0d0887"
             ],
             [
              0.1111111111111111,
              "#46039f"
             ],
             [
              0.2222222222222222,
              "#7201a8"
             ],
             [
              0.3333333333333333,
              "#9c179e"
             ],
             [
              0.4444444444444444,
              "#bd3786"
             ],
             [
              0.5555555555555556,
              "#d8576b"
             ],
             [
              0.6666666666666666,
              "#ed7953"
             ],
             [
              0.7777777777777778,
              "#fb9f3a"
             ],
             [
              0.8888888888888888,
              "#fdca26"
             ],
             [
              1,
              "#f0f921"
             ]
            ],
            "type": "surface"
           }
          ],
          "table": [
           {
            "cells": {
             "fill": {
              "color": "#EBF0F8"
             },
             "line": {
              "color": "white"
             }
            },
            "header": {
             "fill": {
              "color": "#C8D4E3"
             },
             "line": {
              "color": "white"
             }
            },
            "type": "table"
           }
          ]
         },
         "layout": {
          "annotationdefaults": {
           "arrowcolor": "#2a3f5f",
           "arrowhead": 0,
           "arrowwidth": 1
          },
          "coloraxis": {
           "colorbar": {
            "outlinewidth": 0,
            "ticks": ""
           }
          },
          "colorscale": {
           "diverging": [
            [
             0,
             "#8e0152"
            ],
            [
             0.1,
             "#c51b7d"
            ],
            [
             0.2,
             "#de77ae"
            ],
            [
             0.3,
             "#f1b6da"
            ],
            [
             0.4,
             "#fde0ef"
            ],
            [
             0.5,
             "#f7f7f7"
            ],
            [
             0.6,
             "#e6f5d0"
            ],
            [
             0.7,
             "#b8e186"
            ],
            [
             0.8,
             "#7fbc41"
            ],
            [
             0.9,
             "#4d9221"
            ],
            [
             1,
             "#276419"
            ]
           ],
           "sequential": [
            [
             0,
             "#0d0887"
            ],
            [
             0.1111111111111111,
             "#46039f"
            ],
            [
             0.2222222222222222,
             "#7201a8"
            ],
            [
             0.3333333333333333,
             "#9c179e"
            ],
            [
             0.4444444444444444,
             "#bd3786"
            ],
            [
             0.5555555555555556,
             "#d8576b"
            ],
            [
             0.6666666666666666,
             "#ed7953"
            ],
            [
             0.7777777777777778,
             "#fb9f3a"
            ],
            [
             0.8888888888888888,
             "#fdca26"
            ],
            [
             1,
             "#f0f921"
            ]
           ],
           "sequentialminus": [
            [
             0,
             "#0d0887"
            ],
            [
             0.1111111111111111,
             "#46039f"
            ],
            [
             0.2222222222222222,
             "#7201a8"
            ],
            [
             0.3333333333333333,
             "#9c179e"
            ],
            [
             0.4444444444444444,
             "#bd3786"
            ],
            [
             0.5555555555555556,
             "#d8576b"
            ],
            [
             0.6666666666666666,
             "#ed7953"
            ],
            [
             0.7777777777777778,
             "#fb9f3a"
            ],
            [
             0.8888888888888888,
             "#fdca26"
            ],
            [
             1,
             "#f0f921"
            ]
           ]
          },
          "colorway": [
           "#636efa",
           "#EF553B",
           "#00cc96",
           "#ab63fa",
           "#FFA15A",
           "#19d3f3",
           "#FF6692",
           "#B6E880",
           "#FF97FF",
           "#FECB52"
          ],
          "font": {
           "color": "#2a3f5f"
          },
          "geo": {
           "bgcolor": "white",
           "lakecolor": "white",
           "landcolor": "#E5ECF6",
           "showlakes": true,
           "showland": true,
           "subunitcolor": "white"
          },
          "hoverlabel": {
           "align": "left"
          },
          "hovermode": "closest",
          "mapbox": {
           "style": "light"
          },
          "paper_bgcolor": "white",
          "plot_bgcolor": "#E5ECF6",
          "polar": {
           "angularaxis": {
            "gridcolor": "white",
            "linecolor": "white",
            "ticks": ""
           },
           "bgcolor": "#E5ECF6",
           "radialaxis": {
            "gridcolor": "white",
            "linecolor": "white",
            "ticks": ""
           }
          },
          "scene": {
           "xaxis": {
            "backgroundcolor": "#E5ECF6",
            "gridcolor": "white",
            "gridwidth": 2,
            "linecolor": "white",
            "showbackground": true,
            "ticks": "",
            "zerolinecolor": "white"
           },
           "yaxis": {
            "backgroundcolor": "#E5ECF6",
            "gridcolor": "white",
            "gridwidth": 2,
            "linecolor": "white",
            "showbackground": true,
            "ticks": "",
            "zerolinecolor": "white"
           },
           "zaxis": {
            "backgroundcolor": "#E5ECF6",
            "gridcolor": "white",
            "gridwidth": 2,
            "linecolor": "white",
            "showbackground": true,
            "ticks": "",
            "zerolinecolor": "white"
           }
          },
          "shapedefaults": {
           "line": {
            "color": "#2a3f5f"
           }
          },
          "ternary": {
           "aaxis": {
            "gridcolor": "white",
            "linecolor": "white",
            "ticks": ""
           },
           "baxis": {
            "gridcolor": "white",
            "linecolor": "white",
            "ticks": ""
           },
           "bgcolor": "#E5ECF6",
           "caxis": {
            "gridcolor": "white",
            "linecolor": "white",
            "ticks": ""
           }
          },
          "title": {
           "x": 0.05
          },
          "xaxis": {
           "automargin": true,
           "gridcolor": "white",
           "linecolor": "white",
           "ticks": "",
           "title": {
            "standoff": 15
           },
           "zerolinecolor": "white",
           "zerolinewidth": 2
          },
          "yaxis": {
           "automargin": true,
           "gridcolor": "white",
           "linecolor": "white",
           "ticks": "",
           "title": {
            "standoff": 15
           },
           "zerolinecolor": "white",
           "zerolinewidth": 2
          }
         }
        },
        "width": 800,
        "xaxis": {
         "anchor": "y",
         "domain": [
          0,
          1
         ],
         "title": {
          "text": "x"
         }
        },
        "yaxis": {
         "anchor": "x",
         "domain": [
          0,
          1
         ],
         "title": {
          "text": "y"
         }
        }
       }
      }
     },
     "metadata": {},
     "output_type": "display_data"
    },
    {
     "name": "stderr",
     "output_type": "stream",
     "text": [
      "seen: 100%|██████████| 130/130 [00:10<00:00, 11.88batch/s, loss=0.237]\n"
     ]
    },
    {
     "data": {
      "image/png": "[encoded data removed]",
      "text/plain": [
       "<Figure size 640x480 with 2 Axes>"
      ]
     },
     "metadata": {},
     "output_type": "display_data"
    },
    {
     "name": "stderr",
     "output_type": "stream",
     "text": [
      "Training Epoch:  17%|█▋        | 1/6 [00:32<02:40, 32.15s/it]"
     ]
    },
    {
     "name": "stdout",
     "output_type": "stream",
     "text": [
      "Overall accuracy: 0.802\n",
      "\n"
     ]
    },
    {
     "name": "stderr",
     "output_type": "stream",
     "text": [
      "train: 100%|██████████| 11/11 [00:01<00:00,  5.84batch/s, contrastive loss =3.38, reconstruction loss=0.0384]\n",
      "train: 100%|██████████| 523/523 [00:16<00:00, 32.42batch/s, loss=0.389, accuracy=0.812]\n"
     ]
    },
    {
     "data": {
      "application/vnd.plotly.v1+json": {
       "config": {
        "plotlyServerURL": "https://plot.ly"
       },
       "data": [
        {
         "hoverlabel": {
          "namelength": 0
         },
         "hovertemplate": "action=lying<br>x=%{x}<br>y=%{y}",
         "legendgroup": "action=lying",
         "marker": {
          "color": "#636efa",
          "symbol": "circle"
         },
         "mode": "markers",
         "name": "action=lying",
         "showlegend": true,
         "type": "scatter",
         "x": [
          -8.945850372314453,
          -5.258216857910156,
          0.27801063656806946,
          0.8608300685882568,
          0.4446868300437927,
          -1.508632779121399,
          -6.499082088470459,
          6.258477210998535,
          4.581337928771973,
          5.653737545013428,
          9.272224426269531,
          -2.6221861839294434,
          -2.9723474979400635,
          8.42337703704834
         ],
         "xaxis": "x",
         "y": [
          0.4392703175544739,
          -10.474661827087402,
          -6.338500499725342,
          1.1996816396713257,
          -0.916801929473877,
          -7.603190898895264,
          -3.511002540588379,
          4.383159637451172,
          11.35046100616455,
          -4.357308387756348,
          11.348684310913086,
          1.1486115455627441,
          6.1672282218933105,
          5.676929950714111
         ],
         "yaxis": "y"
        },
        {
         "hoverlabel": {
          "namelength": 0
         },
         "hovertemplate": "action=sitting<br>x=%{x}<br>y=%{y}",
         "legendgroup": "action=sitting",
         "marker": {
          "color": "#EF553B",
          "symbol": "circle"
         },
         "mode": "markers",
         "name": "action=sitting",
         "showlegend": true,
         "type": "scatter",
         "x": [
          -8.973420143127441,
          -5.456427097320557,
          0.2787429988384247,
          0.45161619782447815,
          0.28109070658683777,
          -1.4515807628631592,
          -6.726797580718994,
          6.210554122924805,
          4.392253398895264,
          5.4615936279296875,
          9.272224426269531,
          -2.5084304809570312,
          -2.8368287086486816,
          8.48310375213623
         ],
         "xaxis": "x",
         "y": [
          0.5152194499969482,
          -10.636615753173828,
          -6.338395595550537,
          1.2444162368774414,
          -0.6784864664077759,
          -7.556958198547363,
          -3.7286081314086914,
          4.122713565826416,
          11.13618278503418,
          -4.576971054077148,
          11.348684310913086,
          1.3781373500823975,
          6.044287204742432,
          5.376311302185059
         ],
         "yaxis": "y"
        },
        {
         "hoverlabel": {
          "namelength": 0
         },
         "hovertemplate": "action=walking<br>x=%{x}<br>y=%{y}",
         "legendgroup": "action=walking",
         "marker": {
          "color": "#00cc96",
          "symbol": "circle"
         },
         "mode": "markers",
         "name": "action=walking",
         "showlegend": true,
         "type": "scatter",
         "x": [
          -8.674783706665039,
          -5.601729869842529,
          0.5819117426872253,
          0.475501149892807,
          0.2809734046459198,
          -1.4470633268356323,
          -6.451210021972656,
          6.415175914764404,
          4.320555210113525,
          5.654541492462158,
          9.272282600402832,
          -2.3000648021698,
          -3.1699366569519043,
          8.48310375213623
         ],
         "xaxis": "x",
         "y": [
          0.5685215592384338,
          -10.41667652130127,
          -6.469531059265137,
          1.4016211032867432,
          -0.6785969138145447,
          -7.551506996154785,
          -3.7477567195892334,
          4.047833442687988,
          11.378524780273438,
          -4.675150394439697,
          11.348710060119629,
          1.347976565361023,
          6.053750514984131,
          5.376311302185059
         ],
         "yaxis": "y"
        },
        {
         "hoverlabel": {
          "namelength": 0
         },
         "hovertemplate": "action=running<br>x=%{x}<br>y=%{y}",
         "legendgroup": "action=running",
         "marker": {
          "color": "#ab63fa",
          "symbol": "circle"
         },
         "mode": "markers",
         "name": "action=running",
         "showlegend": true,
         "type": "scatter",
         "x": [
          -8.891016006469727,
          -5.410035133361816,
          0.4615333080291748,
          0.6760787963867188,
          0.28074607253074646,
          -1.4742428064346313,
          -6.623826503753662,
          6.511063575744629,
          4.593558311462402,
          5.770164489746094,
          9.222033500671387,
          -2.5109682083129883,
          -3.170255184173584,
          8.42337703704834
         ],
         "xaxis": "x",
         "y": [
          0.6658170819282532,
          -10.635954856872559,
          -6.669714450836182,
          1.5105760097503662,
          -0.6799037456512451,
          -7.577533721923828,
          -3.8210411071777344,
          4.102042198181152,
          11.246975898742676,
          -4.465198516845703,
          11.073187828063965,
          1.3764684200286865,
          6.052833080291748,
          5.676929950714111
         ],
         "yaxis": "y"
        },
        {
         "hoverlabel": {
          "namelength": 0
         },
         "hovertemplate": "action=cycling<br>x=%{x}<br>y=%{y}",
         "legendgroup": "action=cycling",
         "marker": {
          "color": "#FFA15A",
          "symbol": "circle"
         },
         "mode": "markers",
         "name": "action=cycling",
         "showlegend": true,
         "type": "scatter",
         "x": [
          -8.891016960144043,
          -5.6046271324157715,
          0.4615333080291748,
          0.8792680501937866,
          0.6818830966949463,
          -1.754543662071228,
          -6.423991680145264,
          6.432798385620117,
          4.320555210113525,
          5.4615936279296875,
          9.50949478149414,
          -2.299295425415039,
          -2.902585983276367,
          8.48310375213623
         ],
         "xaxis": "x",
         "y": [
          0.6658164858818054,
          -10.42751407623291,
          -6.669714450836182,
          1.2193163633346558,
          -0.69611656665802,
          -7.282902717590332,
          -3.6525614261627197,
          4.052891731262207,
          11.378524780273438,
          -4.576971054077148,
          11.198917388916016,
          1.3472973108291626,
          5.855871200561523,
          5.376311302185059
         ],
         "yaxis": "y"
        },
        {
         "hoverlabel": {
          "namelength": 0
         },
         "hovertemplate": "action=Nordic walking<br>x=%{x}<br>y=%{y}",
         "legendgroup": "action=Nordic walking",
         "marker": {
          "color": "#19d3f3",
          "symbol": "circle"
         },
         "mode": "markers",
         "name": "action=Nordic walking",
         "showlegend": true,
         "type": "scatter",
         "x": [
          -8.964409828186035,
          -5.2586774826049805,
          0.46153345704078674,
          0.6760026812553406,
          0.6814950108528137,
          -1.4813122749328613,
          -6.623825550079346,
          6.343659400939941,
          4.536580562591553,
          5.770165920257568,
          9.457052230834961,
          -2.2992911338806152,
          -2.836296796798706,
          8.48310375213623
         ],
         "xaxis": "x",
         "y": [
          0.47445541620254517,
          -10.475770950317383,
          -6.66971492767334,
          1.5105931758880615,
          -0.696880578994751,
          -7.589729309082031,
          -3.8210413455963135,
          4.4052228927612305,
          11.16055965423584,
          -4.465198993682861,
          11.316291809082031,
          1.347293496131897,
          6.042461395263672,
          5.376311302185059
         ],
         "yaxis": "y"
        },
        {
         "hoverlabel": {
          "namelength": 0
         },
         "hovertemplate": "action=computer work<br>x=%{x}<br>y=%{y}",
         "legendgroup": "action=computer work",
         "marker": {
          "color": "#FF6692",
          "symbol": "circle"
         },
         "mode": "markers",
         "name": "action=computer work",
         "showlegend": true,
         "type": "scatter",
         "x": [
          -8.762404441833496,
          -5.601729869842529,
          0.44072264432907104,
          0.8792681097984314,
          0.6817556023597717,
          -1.6345113515853882,
          -6.423989295959473,
          6.258477210998535,
          4.310415744781494,
          5.654004096984863,
          9.173100471496582,
          -2.4264209270477295,
          -2.902585983276367,
          8.179533004760742
         ],
         "xaxis": "x",
         "y": [
          0.39131584763526917,
          -10.41667652130127,
          -6.316737174987793,
          1.219316840171814,
          -0.6993615031242371,
          -7.185565948486328,
          -3.6529195308685303,
          4.383159637451172,
          11.200590133666992,
          -4.357378005981445,
          11.190946578979492,
          0.9818987250328064,
          5.855871200561523,
          5.639084815979004
         ],
         "yaxis": "y"
        },
        {
         "hoverlabel": {
          "namelength": 0
         },
         "hovertemplate": "action=car driving<br>x=%{x}<br>y=%{y}",
         "legendgroup": "action=car driving",
         "marker": {
          "color": "#B6E880",
          "symbol": "circle"
         },
         "mode": "markers",
         "name": "action=car driving",
         "showlegend": true,
         "type": "scatter",
         "x": [
          -8.762422561645508,
          -5.399658203125,
          0.46153324842453003,
          0.4514716565608978,
          0.6822311878204346,
          -1.6243566274642944,
          -6.499082088470459,
          6.258477210998535,
          4.310415744781494,
          5.623344898223877,
          9.457052230834961,
          -2.267550230026245,
          -2.92341947555542,
          8.179523468017578
         ],
         "xaxis": "x",
         "y": [
          0.391559362411499,
          -10.293122291564941,
          -6.669714450836182,
          1.2761362791061401,
          -0.7023428678512573,
          -7.182600498199463,
          -3.511002540588379,
          4.383159637451172,
          11.200590133666992,
          -4.352831840515137,
          11.316291809082031,
          1.0802664756774902,
          5.842370510101318,
          5.639081001281738
         ],
         "yaxis": "y"
        },
        {
         "hoverlabel": {
          "namelength": 0
         },
         "hovertemplate": "action=descending stairs<br>x=%{x}<br>y=%{y}",
         "legendgroup": "action=descending stairs",
         "marker": {
          "color": "#FF97FF",
          "symbol": "circle"
         },
         "mode": "markers",
         "name": "action=descending stairs",
         "showlegend": true,
         "type": "scatter",
         "x": [
          -8.761839866638184,
          -5.258970260620117,
          0.2780107855796814,
          0.4516160488128662,
          0.44435596466064453,
          -1.6248559951782227,
          -6.595119476318359,
          6.511063575744629,
          4.489136219024658,
          5.48842191696167,
          9.50949478149414,
          -2.629379987716675,
          -3.0128636360168457,
          8.179523468017578
         ],
         "xaxis": "x",
         "y": [
          0.3915702998638153,
          -10.470812797546387,
          -6.338500022888184,
          1.2444164752960205,
          -0.916763424873352,
          -7.182789325714111,
          -3.48974871635437,
          4.102042198181152,
          11.43116569519043,
          -4.406883239746094,
          11.198917388916016,
          1.1911307573318481,
          6.1704277992248535,
          5.639081001281738
         ],
         "yaxis": "y"
        },
        {
         "hoverlabel": {
          "namelength": 0
         },
         "hovertemplate": "action=vacuum cleaning<br>x=%{x}<br>y=%{y}",
         "legendgroup": "action=vacuum cleaning",
         "marker": {
          "color": "#FECB52",
          "symbol": "circle"
         },
         "mode": "markers",
         "name": "action=vacuum cleaning",
         "showlegend": true,
         "type": "scatter",
         "x": [
          -8.745701789855957,
          -5.384464263916016,
          0.44072264432907104,
          0.8792682886123657,
          0.6821498870849609,
          -1.6361645460128784,
          -6.726797580718994,
          6.258478164672852,
          4.4422993659973145,
          5.475556373596191,
          9.172606468200684,
          -2.300163984298706,
          -2.8412530422210693,
          8.179523468017578
         ],
         "xaxis": "x",
         "y": [
          0.6603057980537415,
          -10.297834396362305,
          -6.316737174987793,
          1.2193167209625244,
          -0.7009613513946533,
          -7.186135292053223,
          -3.7286081314086914,
          4.383159637451172,
          11.128076553344727,
          -4.424577713012695,
          11.200178146362305,
          1.3486192226409912,
          6.057648658752441,
          5.639081001281738
         ],
         "yaxis": "y"
        },
        {
         "hoverlabel": {
          "namelength": 0
         },
         "hovertemplate": "action=ironing<br>x=%{x}<br>y=%{y}",
         "legendgroup": "action=ironing",
         "marker": {
          "color": "#636efa",
          "symbol": "circle"
         },
         "mode": "markers",
         "name": "action=ironing",
         "showlegend": true,
         "type": "scatter",
         "x": [
          -8.945850372314453,
          -5.601729869842529,
          0.46153298020362854,
          0.45147213339805603,
          0.6822737455368042,
          -1.6225818395614624,
          -6.746771335601807,
          6.511063575744629,
          4.497225761413574,
          5.719461917877197,
          9.407931327819824,
          -2.6103572845458984,
          -3.144150972366333,
          8.334138870239258
         ],
         "xaxis": "x",
         "y": [
          0.4392703175544739,
          -10.41667652130127,
          -6.669713973999023,
          1.2761352062225342,
          -0.703048825263977,
          -7.189424991607666,
          -3.633319616317749,
          4.102042198181152,
          11.428387641906738,
          -4.636465072631836,
          11.039449691772461,
          1.1035295724868774,
          5.890203952789307,
          5.301375865936279
         ],
         "yaxis": "y"
        },
        {
         "hoverlabel": {
          "namelength": 0
         },
         "hovertemplate": "action=folding laundry<br>x=%{x}<br>y=%{y}",
         "legendgroup": "action=folding laundry",
         "marker": {
          "color": "#EF553B",
          "symbol": "circle"
         },
         "mode": "markers",
         "name": "action=folding laundry",
         "showlegend": true,
         "type": "scatter",
         "x": [
          -8.674783706665039,
          -5.460171699523926,
          0.2788921296596527,
          0.8608301877975464,
          0.2807275652885437,
          -1.4515812397003174,
          -6.595119476318359,
          6.209768295288086,
          4.554333686828613,
          5.719687461853027,
          9.230112075805664,
          -2.44632887840271,
          -3.0894241333007812,
          8.334138870239258
         ],
         "xaxis": "x",
         "y": [
          0.5685215592384338,
          -10.636475563049316,
          -6.336646556854248,
          1.1996815204620361,
          -0.6798849105834961,
          -7.5569586753845215,
          -3.48974871635437,
          4.124556064605713,
          11.388289451599121,
          -4.636265754699707,
          11.06786060333252,
          0.981726884841919,
          6.148972511291504,
          5.301375865936279
         ],
         "yaxis": "y"
        },
        {
         "hoverlabel": {
          "namelength": 0
         },
         "hovertemplate": "action=playing soccer<br>x=%{x}<br>y=%{y}",
         "legendgroup": "action=playing soccer",
         "marker": {
          "color": "#00cc96",
          "symbol": "circle"
         },
         "mode": "markers",
         "name": "action=playing soccer",
         "showlegend": true,
         "type": "scatter",
         "x": [
          -8.674783706665039,
          -5.40321683883667,
          0.4615332782268524,
          0.8415015339851379,
          0.2812740206718445,
          -1.7708481550216675,
          -6.451209545135498,
          6.511063575744629,
          4.537326335906982,
          5.654541492462158,
          9.407059669494629,
          -2.391484498977661,
          -3.121169090270996,
          8.334138870239258
         ],
         "xaxis": "x",
         "y": [
          0.5685215592384338,
          -10.631792068481445,
          -6.669713020324707,
          1.4215539693832397,
          -0.6795144081115723,
          -7.492539405822754,
          -3.7477550506591797,
          4.102042198181152,
          11.161139488220215,
          -4.675150394439697,
          11.039082527160645,
          0.9873346090316772,
          5.8654093742370605,
          5.301375865936279
         ],
         "yaxis": "y"
        },
        {
         "hoverlabel": {
          "namelength": 0
         },
         "hovertemplate": "action=rope jumping<br>x=%{x}<br>y=%{y}",
         "legendgroup": "action=rope jumping",
         "marker": {
          "color": "#ab63fa",
          "symbol": "circle"
         },
         "mode": "markers",
         "name": "action=rope jumping",
         "showlegend": true,
         "type": "scatter",
         "x": [
          -8.853970527648926,
          -5.384464263916016,
          0.2788918614387512,
          0.45161592960357666,
          0.28159135580062866,
          -1.7708452939987183,
          -6.746771335601807,
          6.343659400939941,
          4.309749126434326,
          5.468632221221924,
          9.40731430053711,
          -2.38907790184021,
          -3.144150972366333,
          8.179523468017578
         ],
         "xaxis": "x",
         "y": [
          0.6782490611076355,
          -10.297834396362305,
          -6.336646556854248,
          1.2444167137145996,
          -0.6783532500267029,
          -7.492545127868652,
          -3.633319616317749,
          4.4052228927612305,
          11.364371299743652,
          -4.590896129608154,
          11.039190292358398,
          0.9879220724105835,
          5.890203952789307,
          5.639081001281738
         ],
         "yaxis": "y"
        }
       ],
       "layout": {
        "height": 800,
        "legend": {
         "tracegroupgap": 0
        },
        "margin": {
         "t": 60
        },
        "template": {
         "data": {
          "bar": [
           {
            "error_x": {
             "color": "#2a3f5f"
            },
            "error_y": {
             "color": "#2a3f5f"
            },
            "marker": {
             "line": {
              "color": "#E5ECF6",
              "width": 0.5
             }
            },
            "type": "bar"
           }
          ],
          "barpolar": [
           {
            "marker": {
             "line": {
              "color": "#E5ECF6",
              "width": 0.5
             }
            },
            "type": "barpolar"
           }
          ],
          "carpet": [
           {
            "aaxis": {
             "endlinecolor": "#2a3f5f",
             "gridcolor": "white",
             "linecolor": "white",
             "minorgridcolor": "white",
             "startlinecolor": "#2a3f5f"
            },
            "baxis": {
             "endlinecolor": "#2a3f5f",
             "gridcolor": "white",
             "linecolor": "white",
             "minorgridcolor": "white",
             "startlinecolor": "#2a3f5f"
            },
            "type": "carpet"
           }
          ],
          "choropleth": [
           {
            "colorbar": {
             "outlinewidth": 0,
             "ticks": ""
            },
            "type": "choropleth"
           }
          ],
          "contour": [
           {
            "colorbar": {
             "outlinewidth": 0,
             "ticks": ""
            },
            "colorscale": [
             [
              0,
              "#0d0887"
             ],
             [
              0.1111111111111111,
              "#46039f"
             ],
             [
              0.2222222222222222,
              "#7201a8"
             ],
             [
              0.3333333333333333,
              "#9c179e"
             ],
             [
              0.4444444444444444,
              "#bd3786"
             ],
             [
              0.5555555555555556,
              "#d8576b"
             ],
             [
              0.6666666666666666,
              "#ed7953"
             ],
             [
              0.7777777777777778,
              "#fb9f3a"
             ],
             [
              0.8888888888888888,
              "#fdca26"
             ],
             [
              1,
              "#f0f921"
             ]
            ],
            "type": "contour"
           }
          ],
          "contourcarpet": [
           {
            "colorbar": {
             "outlinewidth": 0,
             "ticks": ""
            },
            "type": "contourcarpet"
           }
          ],
          "heatmap": [
           {
            "colorbar": {
             "outlinewidth": 0,
             "ticks": ""
            },
            "colorscale": [
             [
              0,
              "#0d0887"
             ],
             [
              0.1111111111111111,
              "#46039f"
             ],
             [
              0.2222222222222222,
              "#7201a8"
             ],
             [
              0.3333333333333333,
              "#9c179e"
             ],
             [
              0.4444444444444444,
              "#bd3786"
             ],
             [
              0.5555555555555556,
              "#d8576b"
             ],
             [
              0.6666666666666666,
              "#ed7953"
             ],
             [
              0.7777777777777778,
              "#fb9f3a"
             ],
             [
              0.8888888888888888,
              "#fdca26"
             ],
             [
              1,
              "#f0f921"
             ]
            ],
            "type": "heatmap"
           }
          ],
          "heatmapgl": [
           {
            "colorbar": {
             "outlinewidth": 0,
             "ticks": ""
            },
            "colorscale": [
             [
              0,
              "#0d0887"
             ],
             [
              0.1111111111111111,
              "#46039f"
             ],
             [
              0.2222222222222222,
              "#7201a8"
             ],
             [
              0.3333333333333333,
              "#9c179e"
             ],
             [
              0.4444444444444444,
              "#bd3786"
             ],
             [
              0.5555555555555556,
              "#d8576b"
             ],
             [
              0.6666666666666666,
              "#ed7953"
             ],
             [
              0.7777777777777778,
              "#fb9f3a"
             ],
             [
              0.8888888888888888,
              "#fdca26"
             ],
             [
              1,
              "#f0f921"
             ]
            ],
            "type": "heatmapgl"
           }
          ],
          "histogram": [
           {
            "marker": {
             "colorbar": {
              "outlinewidth": 0,
              "ticks": ""
             }
            },
            "type": "histogram"
           }
          ],
          "histogram2d": [
           {
            "colorbar": {
             "outlinewidth": 0,
             "ticks": ""
            },
            "colorscale": [
             [
              0,
              "#0d0887"
             ],
             [
              0.1111111111111111,
              "#46039f"
             ],
             [
              0.2222222222222222,
              "#7201a8"
             ],
             [
              0.3333333333333333,
              "#9c179e"
             ],
             [
              0.4444444444444444,
              "#bd3786"
             ],
             [
              0.5555555555555556,
              "#d8576b"
             ],
             [
              0.6666666666666666,
              "#ed7953"
             ],
             [
              0.7777777777777778,
              "#fb9f3a"
             ],
             [
              0.8888888888888888,
              "#fdca26"
             ],
             [
              1,
              "#f0f921"
             ]
            ],
            "type": "histogram2d"
           }
          ],
          "histogram2dcontour": [
           {
            "colorbar": {
             "outlinewidth": 0,
             "ticks": ""
            },
            "colorscale": [
             [
              0,
              "#0d0887"
             ],
             [
              0.1111111111111111,
              "#46039f"
             ],
             [
              0.2222222222222222,
              "#7201a8"
             ],
             [
              0.3333333333333333,
              "#9c179e"
             ],
             [
              0.4444444444444444,
              "#bd3786"
             ],
             [
              0.5555555555555556,
              "#d8576b"
             ],
             [
              0.6666666666666666,
              "#ed7953"
             ],
             [
              0.7777777777777778,
              "#fb9f3a"
             ],
             [
              0.8888888888888888,
              "#fdca26"
             ],
             [
              1,
              "#f0f921"
             ]
            ],
            "type": "histogram2dcontour"
           }
          ],
          "mesh3d": [
           {
            "colorbar": {
             "outlinewidth": 0,
             "ticks": ""
            },
            "type": "mesh3d"
           }
          ],
          "parcoords": [
           {
            "line": {
             "colorbar": {
              "outlinewidth": 0,
              "ticks": ""
             }
            },
            "type": "parcoords"
           }
          ],
          "pie": [
           {
            "automargin": true,
            "type": "pie"
           }
          ],
          "scatter": [
           {
            "marker": {
             "colorbar": {
              "outlinewidth": 0,
              "ticks": ""
             }
            },
            "type": "scatter"
           }
          ],
          "scatter3d": [
           {
            "line": {
             "colorbar": {
              "outlinewidth": 0,
              "ticks": ""
             }
            },
            "marker": {
             "colorbar": {
              "outlinewidth": 0,
              "ticks": ""
             }
            },
            "type": "scatter3d"
           }
          ],
          "scattercarpet": [
           {
            "marker": {
             "colorbar": {
              "outlinewidth": 0,
              "ticks": ""
             }
            },
            "type": "scattercarpet"
           }
          ],
          "scattergeo": [
           {
            "marker": {
             "colorbar": {
              "outlinewidth": 0,
              "ticks": ""
             }
            },
            "type": "scattergeo"
           }
          ],
          "scattergl": [
           {
            "marker": {
             "colorbar": {
              "outlinewidth": 0,
              "ticks": ""
             }
            },
            "type": "scattergl"
           }
          ],
          "scattermapbox": [
           {
            "marker": {
             "colorbar": {
              "outlinewidth": 0,
              "ticks": ""
             }
            },
            "type": "scattermapbox"
           }
          ],
          "scatterpolar": [
           {
            "marker": {
             "colorbar": {
              "outlinewidth": 0,
              "ticks": ""
             }
            },
            "type": "scatterpolar"
           }
          ],
          "scatterpolargl": [
           {
            "marker": {
             "colorbar": {
              "outlinewidth": 0,
              "ticks": ""
             }
            },
            "type": "scatterpolargl"
           }
          ],
          "scatterternary": [
           {
            "marker": {
             "colorbar": {
              "outlinewidth": 0,
              "ticks": ""
             }
            },
            "type": "scatterternary"
           }
          ],
          "surface": [
           {
            "colorbar": {
             "outlinewidth": 0,
             "ticks": ""
            },
            "colorscale": [
             [
              0,
              "#0d0887"
             ],
             [
              0.1111111111111111,
              "#46039f"
             ],
             [
              0.2222222222222222,
              "#7201a8"
             ],
             [
              0.3333333333333333,
              "#9c179e"
             ],
             [
              0.4444444444444444,
              "#bd3786"
             ],
             [
              0.5555555555555556,
              "#d8576b"
             ],
             [
              0.6666666666666666,
              "#ed7953"
             ],
             [
              0.7777777777777778,
              "#fb9f3a"
             ],
             [
              0.8888888888888888,
              "#fdca26"
             ],
             [
              1,
              "#f0f921"
             ]
            ],
            "type": "surface"
           }
          ],
          "table": [
           {
            "cells": {
             "fill": {
              "color": "#EBF0F8"
             },
             "line": {
              "color": "white"
             }
            },
            "header": {
             "fill": {
              "color": "#C8D4E3"
             },
             "line": {
              "color": "white"
             }
            },
            "type": "table"
           }
          ]
         },
         "layout": {
          "annotationdefaults": {
           "arrowcolor": "#2a3f5f",
           "arrowhead": 0,
           "arrowwidth": 1
          },
          "coloraxis": {
           "colorbar": {
            "outlinewidth": 0,
            "ticks": ""
           }
          },
          "colorscale": {
           "diverging": [
            [
             0,
             "#8e0152"
            ],
            [
             0.1,
             "#c51b7d"
            ],
            [
             0.2,
             "#de77ae"
            ],
            [
             0.3,
             "#f1b6da"
            ],
            [
             0.4,
             "#fde0ef"
            ],
            [
             0.5,
             "#f7f7f7"
            ],
            [
             0.6,
             "#e6f5d0"
            ],
            [
             0.7,
             "#b8e186"
            ],
            [
             0.8,
             "#7fbc41"
            ],
            [
             0.9,
             "#4d9221"
            ],
            [
             1,
             "#276419"
            ]
           ],
           "sequential": [
            [
             0,
             "#0d0887"
            ],
            [
             0.1111111111111111,
             "#46039f"
            ],
            [
             0.2222222222222222,
             "#7201a8"
            ],
            [
             0.3333333333333333,
             "#9c179e"
            ],
            [
             0.4444444444444444,
             "#bd3786"
            ],
            [
             0.5555555555555556,
             "#d8576b"
            ],
            [
             0.6666666666666666,
             "#ed7953"
            ],
            [
             0.7777777777777778,
             "#fb9f3a"
            ],
            [
             0.8888888888888888,
             "#fdca26"
            ],
            [
             1,
             "#f0f921"
            ]
           ],
           "sequentialminus": [
            [
             0,
             "#0d0887"
            ],
            [
             0.1111111111111111,
             "#46039f"
            ],
            [
             0.2222222222222222,
             "#7201a8"
            ],
            [
             0.3333333333333333,
             "#9c179e"
            ],
            [
             0.4444444444444444,
             "#bd3786"
            ],
            [
             0.5555555555555556,
             "#d8576b"
            ],
            [
             0.6666666666666666,
             "#ed7953"
            ],
            [
             0.7777777777777778,
             "#fb9f3a"
            ],
            [
             0.8888888888888888,
             "#fdca26"
            ],
            [
             1,
             "#f0f921"
            ]
           ]
          },
          "colorway": [
           "#636efa",
           "#EF553B",
           "#00cc96",
           "#ab63fa",
           "#FFA15A",
           "#19d3f3",
           "#FF6692",
           "#B6E880",
           "#FF97FF",
           "#FECB52"
          ],
          "font": {
           "color": "#2a3f5f"
          },
          "geo": {
           "bgcolor": "white",
           "lakecolor": "white",
           "landcolor": "#E5ECF6",
           "showlakes": true,
           "showland": true,
           "subunitcolor": "white"
          },
          "hoverlabel": {
           "align": "left"
          },
          "hovermode": "closest",
          "mapbox": {
           "style": "light"
          },
          "paper_bgcolor": "white",
          "plot_bgcolor": "#E5ECF6",
          "polar": {
           "angularaxis": {
            "gridcolor": "white",
            "linecolor": "white",
            "ticks": ""
           },
           "bgcolor": "#E5ECF6",
           "radialaxis": {
            "gridcolor": "white",
            "linecolor": "white",
            "ticks": ""
           }
          },
          "scene": {
           "xaxis": {
            "backgroundcolor": "#E5ECF6",
            "gridcolor": "white",
            "gridwidth": 2,
            "linecolor": "white",
            "showbackground": true,
            "ticks": "",
            "zerolinecolor": "white"
           },
           "yaxis": {
            "backgroundcolor": "#E5ECF6",
            "gridcolor": "white",
            "gridwidth": 2,
            "linecolor": "white",
            "showbackground": true,
            "ticks": "",
            "zerolinecolor": "white"
           },
           "zaxis": {
            "backgroundcolor": "#E5ECF6",
            "gridcolor": "white",
            "gridwidth": 2,
            "linecolor": "white",
            "showbackground": true,
            "ticks": "",
            "zerolinecolor": "white"
           }
          },
          "shapedefaults": {
           "line": {
            "color": "#2a3f5f"
           }
          },
          "ternary": {
           "aaxis": {
            "gridcolor": "white",
            "linecolor": "white",
            "ticks": ""
           },
           "baxis": {
            "gridcolor": "white",
            "linecolor": "white",
            "ticks": ""
           },
           "bgcolor": "#E5ECF6",
           "caxis": {
            "gridcolor": "white",
            "linecolor": "white",
            "ticks": ""
           }
          },
          "title": {
           "x": 0.05
          },
          "xaxis": {
           "automargin": true,
           "gridcolor": "white",
           "linecolor": "white",
           "ticks": "",
           "title": {
            "standoff": 15
           },
           "zerolinecolor": "white",
           "zerolinewidth": 2
          },
          "yaxis": {
           "automargin": true,
           "gridcolor": "white",
           "linecolor": "white",
           "ticks": "",
           "title": {
            "standoff": 15
           },
           "zerolinecolor": "white",
           "zerolinewidth": 2
          }
         }
        },
        "width": 800,
        "xaxis": {
         "anchor": "y",
         "domain": [
          0,
          1
         ],
         "title": {
          "text": "x"
         }
        },
        "yaxis": {
         "anchor": "x",
         "domain": [
          0,
          1
         ],
         "title": {
          "text": "y"
         }
        }
       }
      }
     },
     "metadata": {},
     "output_type": "display_data"
    },
    {
     "name": "stderr",
     "output_type": "stream",
     "text": [
      "seen: 100%|██████████| 130/130 [00:11<00:00, 11.71batch/s, loss=0.197]\n"
     ]
    },
    {
     "data": {
      "image/png": "[encoded data removed]",
      "text/plain": [
       "<Figure size 640x480 with 2 Axes>"
      ]
     },
     "metadata": {},
     "output_type": "display_data"
    },
    {
     "name": "stderr",
     "output_type": "stream",
     "text": [
      "Training Epoch:  33%|███▎      | 2/6 [01:06<02:14, 33.66s/it]"
     ]
    },
    {
     "name": "stdout",
     "output_type": "stream",
     "text": [
      "Overall accuracy: 0.849\n",
      "\n"
     ]
    },
    {
     "name": "stderr",
     "output_type": "stream",
     "text": [
      "train: 100%|██████████| 11/11 [00:02<00:00,  5.28batch/s, contrastive loss =3.4, reconstruction loss=0.052]\n",
      "train: 100%|██████████| 523/523 [00:14<00:00, 36.15batch/s, loss=0.3, accuracy=0.844]\n"
     ]
    },
    {
     "data": {
      "application/vnd.plotly.v1+json": {
       "config": {
        "plotlyServerURL": "https://plot.ly"
       },
       "data": [
        {
         "hoverlabel": {
          "namelength": 0
         },
         "hovertemplate": "action=lying<br>x=%{x}<br>y=%{y}",
         "legendgroup": "action=lying",
         "marker": {
          "color": "#636efa",
          "symbol": "circle"
         },
         "mode": "markers",
         "name": "action=lying",
         "showlegend": true,
         "type": "scatter",
         "x": [
          0.26328974962234497,
          7.50222635269165,
          -13.368592262268066,
          2.9132297039031982,
          3.642333507537842,
          7.669151306152344,
          -1.934512972831726,
          3.259143114089966,
          -5.048473834991455,
          4.748371124267578,
          -4.327136993408203,
          -2.2825021743774414,
          -10.98196792602539,
          5.86867094039917
         ],
         "xaxis": "x",
         "y": [
          5.805726528167725,
          -4.0008697509765625,
          -5.790821075439453,
          -8.393712997436523,
          -3.428007125854492,
          0.9505833983421326,
          4.1132965087890625,
          -6.685760021209717,
          -0.9847477078437805,
          7.777771472930908,
          10.321064949035645,
          7.535412311553955,
          -5.455262660980225,
          -11.371938705444336
         ],
         "yaxis": "y"
        },
        {
         "hoverlabel": {
          "namelength": 0
         },
         "hovertemplate": "action=sitting<br>x=%{x}<br>y=%{y}",
         "legendgroup": "action=sitting",
         "marker": {
          "color": "#EF553B",
          "symbol": "circle"
         },
         "mode": "markers",
         "name": "action=sitting",
         "showlegend": true,
         "type": "scatter",
         "x": [
          -0.0292887631803751,
          7.502434253692627,
          -12.999604225158691,
          2.32900333404541,
          4.036114692687988,
          7.923084735870361,
          -2.142678737640381,
          2.725308895111084,
          -4.639715671539307,
          4.4433817863464355,
          -4.3181939125061035,
          -2.3216145038604736,
          -10.947870254516602,
          5.749082088470459
         ],
         "xaxis": "x",
         "y": [
          5.6625776290893555,
          -3.9879283905029297,
          -6.030087471008301,
          -8.275895118713379,
          -3.2232513427734375,
          0.8726799488067627,
          3.7444560527801514,
          -6.570807456970215,
          -1.1471282243728638,
          7.795331954956055,
          10.134740829467773,
          7.5689287185668945,
          -5.889355659484863,
          -11.819725036621094
         ],
         "yaxis": "y"
        },
        {
         "hoverlabel": {
          "namelength": 0
         },
         "hovertemplate": "action=walking<br>x=%{x}<br>y=%{y}",
         "legendgroup": "action=walking",
         "marker": {
          "color": "#00cc96",
          "symbol": "circle"
         },
         "mode": "markers",
         "name": "action=walking",
         "showlegend": true,
         "type": "scatter",
         "x": [
          0.4399115741252899,
          7.907320499420166,
          -13.368937492370605,
          2.323209285736084,
          3.6674258708953857,
          7.649275302886963,
          -1.7383166551589966,
          3.073030710220337,
          -4.639715671539307,
          4.771285057067871,
          -4.709881782531738,
          -2.6463496685028076,
          -10.73226547241211,
          5.9165520668029785
         ],
         "xaxis": "x",
         "y": [
          5.587520599365234,
          -4.170431137084961,
          -5.788832664489746,
          -8.289373397827148,
          -3.4625229835510254,
          1.1928324699401855,
          3.8294832706451416,
          -6.357564926147461,
          -1.1471282243728638,
          8.099014282226562,
          9.975741386413574,
          7.5222296714782715,
          -5.5778985023498535,
          -11.736572265625
         ],
         "yaxis": "y"
        },
        {
         "hoverlabel": {
          "namelength": 0
         },
         "hovertemplate": "action=running<br>x=%{x}<br>y=%{y}",
         "legendgroup": "action=running",
         "marker": {
          "color": "#ab63fa",
          "symbol": "circle"
         },
         "mode": "markers",
         "name": "action=running",
         "showlegend": true,
         "type": "scatter",
         "x": [
          0.2613067328929901,
          7.647615432739258,
          -13.344021797180176,
          2.9132297039031982,
          3.6159424781799316,
          7.658880233764648,
          -1.935099482536316,
          3.0214104652404785,
          -4.785581111907959,
          4.764220237731934,
          -4.321038722991943,
          -2.2287464141845703,
          -10.982158660888672,
          5.963776588439941
         ],
         "xaxis": "x",
         "y": [
          5.80633020401001,
          -4.221738338470459,
          -5.8742475509643555,
          -8.393712997436523,
          -3.239542245864868,
          1.208631992340088,
          4.113398551940918,
          -6.34783935546875,
          -0.894527792930603,
          7.794982433319092,
          10.126860618591309,
          7.353005886077881,
          -5.455795764923096,
          -11.488558769226074
         ],
         "yaxis": "y"
        },
        {
         "hoverlabel": {
          "namelength": 0
         },
         "hovertemplate": "action=cycling<br>x=%{x}<br>y=%{y}",
         "legendgroup": "action=cycling",
         "marker": {
          "color": "#FFA15A",
          "symbol": "circle"
         },
         "mode": "markers",
         "name": "action=cycling",
         "showlegend": true,
         "type": "scatter",
         "x": [
          0.13390721380710602,
          7.933434009552002,
          -12.999604225158691,
          2.9132297039031982,
          3.6456069946289062,
          7.726500034332275,
          -1.7383166551589966,
          2.725308895111084,
          -5.048473834991455,
          4.598968029022217,
          -4.502865791320801,
          -2.2309982776641846,
          -10.98262882232666,
          5.720081329345703
         ],
         "xaxis": "x",
         "y": [
          5.803576946258545,
          -4.1421356201171875,
          -6.030087471008301,
          -8.393712997436523,
          -3.434715986251831,
          0.8990452289581299,
          3.8294832706451416,
          -6.570807456970215,
          -0.9847477078437805,
          8.179886817932129,
          10.464354515075684,
          7.340924263000488,
          -5.455959796905518,
          -11.335173606872559
         ],
         "yaxis": "y"
        },
        {
         "hoverlabel": {
          "namelength": 0
         },
         "hovertemplate": "action=Nordic walking<br>x=%{x}<br>y=%{y}",
         "legendgroup": "action=Nordic walking",
         "marker": {
          "color": "#19d3f3",
          "symbol": "circle"
         },
         "mode": "markers",
         "name": "action=Nordic walking",
         "showlegend": true,
         "type": "scatter",
         "x": [
          0.37585338950157166,
          7.955806255340576,
          -13.052270889282227,
          2.9132297039031982,
          4.036114692687988,
          7.925561428070068,
          -2.1660375595092773,
          3.26188325881958,
          -5.042574405670166,
          4.816590309143066,
          -4.745276927947998,
          -2.7017006874084473,
          -10.94787311553955,
          5.956797122955322
         ],
         "xaxis": "x",
         "y": [
          5.402154922485352,
          -4.108283996582031,
          -5.495242118835449,
          -8.393712997436523,
          -3.2232515811920166,
          1.2929962873458862,
          4.016232967376709,
          -6.678591251373291,
          -0.9755282998085022,
          8.011425971984863,
          10.403433799743652,
          7.4487714767456055,
          -5.889355659484863,
          -11.681122779846191
         ],
         "yaxis": "y"
        },
        {
         "hoverlabel": {
          "namelength": 0
         },
         "hovertemplate": "action=computer work<br>x=%{x}<br>y=%{y}",
         "legendgroup": "action=computer work",
         "marker": {
          "color": "#FF6692",
          "symbol": "circle"
         },
         "mode": "markers",
         "name": "action=computer work",
         "showlegend": true,
         "type": "scatter",
         "x": [
          0.37720873951911926,
          7.652195453643799,
          -13.052270889282227,
          2.564570188522339,
          4.041199207305908,
          7.925858497619629,
          -2.142678737640381,
          2.7251839637756348,
          -5.06152868270874,
          4.4433817863464355,
          -4.504732608795166,
          -2.334488868713379,
          -10.98196792602539,
          5.53320837020874
         ],
         "xaxis": "x",
         "y": [
          5.730162620544434,
          -4.2231526374816895,
          -5.495242118835449,
          -8.683890342712402,
          -3.4021029472351074,
          1.2929211854934692,
          3.7444560527801514,
          -6.579579830169678,
          -1.217610478401184,
          7.795331954956055,
          10.464790344238281,
          7.578690052032471,
          -5.455262660980225,
          -11.716275215148926
         ],
         "yaxis": "y"
        },
        {
         "hoverlabel": {
          "namelength": 0
         },
         "hovertemplate": "action=car driving<br>x=%{x}<br>y=%{y}",
         "legendgroup": "action=car driving",
         "marker": {
          "color": "#B6E880",
          "symbol": "circle"
         },
         "mode": "markers",
         "name": "action=car driving",
         "showlegend": true,
         "type": "scatter",
         "x": [
          0.16016124188899994,
          7.562603950500488,
          -12.999604225158691,
          2.9132297039031982,
          3.852414608001709,
          8.067423820495605,
          -2.0535223484039307,
          2.7251839637756348,
          -4.891531944274902,
          4.444677829742432,
          -4.838626384735107,
          -2.5704505443573,
          -10.947870254516602,
          5.531248092651367
         ],
         "xaxis": "x",
         "y": [
          5.319418907165527,
          -3.8304665088653564,
          -6.030087471008301,
          -8.393712997436523,
          -3.0911500453948975,
          1.0494502782821655,
          3.6743881702423096,
          -6.579579830169678,
          -1.3281397819519043,
          8.12456226348877,
          10.178818702697754,
          7.147335529327393,
          -5.889355659484863,
          -11.451689720153809
         ],
         "yaxis": "y"
        },
        {
         "hoverlabel": {
          "namelength": 0
         },
         "hovertemplate": "action=descending stairs<br>x=%{x}<br>y=%{y}",
         "legendgroup": "action=descending stairs",
         "marker": {
          "color": "#FF97FF",
          "symbol": "circle"
         },
         "mode": "markers",
         "name": "action=descending stairs",
         "showlegend": true,
         "type": "scatter",
         "x": [
          0.16017958521842957,
          7.653823375701904,
          -13.052270889282227,
          2.5645711421966553,
          3.852414608001709,
          7.926674842834473,
          -1.9345120191574097,
          3.2601521015167236,
          -4.887815952301025,
          4.44455623626709,
          -4.487502574920654,
          -2.5678200721740723,
          -10.70646858215332,
          5.506092548370361
         ],
         "xaxis": "x",
         "y": [
          5.3194146156311035,
          -3.7668588161468506,
          -5.495242118835449,
          -8.683890342712402,
          -3.0911500453948975,
          0.8740827441215515,
          4.113296985626221,
          -6.6824493408203125,
          -1.3285863399505615,
          8.12446117401123,
          9.960972785949707,
          7.145955562591553,
          -5.692267894744873,
          -11.663661003112793
         ],
         "yaxis": "y"
        },
        {
         "hoverlabel": {
          "namelength": 0
         },
         "hovertemplate": "action=vacuum cleaning<br>x=%{x}<br>y=%{y}",
         "legendgroup": "action=vacuum cleaning",
         "marker": {
          "color": "#FECB52",
          "symbol": "circle"
         },
         "mode": "markers",
         "name": "action=vacuum cleaning",
         "showlegend": true,
         "type": "scatter",
         "x": [
          0.37447255849838257,
          7.926106929779053,
          -13.052270889282227,
          2.329002857208252,
          3.6117825508117676,
          8.066828727722168,
          -2.1667277812957764,
          3.2601521015167236,
          -4.791190147399902,
          4.771285057067871,
          -4.601763725280762,
          -2.4501893520355225,
          -10.947870254516602,
          5.524477958679199
         ],
         "xaxis": "x",
         "y": [
          5.406011581420898,
          -3.8439955711364746,
          -5.495242118835449,
          -8.275895118713379,
          -3.260554075241089,
          1.0373176336288452,
          4.015152931213379,
          -6.6824493408203125,
          -1.3184561729431152,
          8.099014282226562,
          9.944120407104492,
          7.6093034744262695,
          -5.889355659484863,
          -11.706233024597168
         ],
         "yaxis": "y"
        },
        {
         "hoverlabel": {
          "namelength": 0
         },
         "hovertemplate": "action=ironing<br>x=%{x}<br>y=%{y}",
         "legendgroup": "action=ironing",
         "marker": {
          "color": "#636efa",
          "symbol": "circle"
         },
         "mode": "markers",
         "name": "action=ironing",
         "showlegend": true,
         "type": "scatter",
         "x": [
          0.27411410212516785,
          7.887283802032471,
          -12.999604225158691,
          2.367311477661133,
          3.71858286857605,
          7.930954456329346,
          -1.822830319404602,
          3.2601521015167236,
          -5.062124729156494,
          4.4433817863464355,
          -4.735215187072754,
          -2.3003382682800293,
          -10.947870254516602,
          5.535517692565918
         ],
         "xaxis": "x",
         "y": [
          5.325119972229004,
          -3.807945966720581,
          -6.030087471008301,
          -8.579809188842773,
          -3.1174161434173584,
          1.2905869483947754,
          3.6921193599700928,
          -6.6824493408203125,
          -1.2168549299240112,
          7.795331954956055,
          9.991806983947754,
          7.209214687347412,
          -5.889355659484863,
          -11.444990158081055
         ],
         "yaxis": "y"
        },
        {
         "hoverlabel": {
          "namelength": 0
         },
         "hovertemplate": "action=folding laundry<br>x=%{x}<br>y=%{y}",
         "legendgroup": "action=folding laundry",
         "marker": {
          "color": "#EF553B",
          "symbol": "circle"
         },
         "mode": "markers",
         "name": "action=folding laundry",
         "showlegend": true,
         "type": "scatter",
         "x": [
          -0.029208825901150703,
          7.65390682220459,
          -12.999604225158691,
          2.323209285736084,
          3.9535984992980957,
          7.658870697021484,
          -1.7595571279525757,
          2.725308895111084,
          -4.639715194702148,
          4.764220237731934,
          -4.740326881408691,
          -2.522813320159912,
          -10.73226547241211,
          5.959613800048828
         ],
         "xaxis": "x",
         "y": [
          5.6627912521362305,
          -3.766752004623413,
          -6.030087471008301,
          -8.289373397827148,
          -3.5051662921905518,
          1.2086181640625,
          3.769584894180298,
          -6.570807456970215,
          -1.147130012512207,
          7.794982433319092,
          10.407670974731445,
          7.134420871734619,
          -5.5778985023498535,
          -11.480359077453613
         ],
         "yaxis": "y"
        },
        {
         "hoverlabel": {
          "namelength": 0
         },
         "hovertemplate": "action=playing soccer<br>x=%{x}<br>y=%{y}",
         "legendgroup": "action=playing soccer",
         "marker": {
          "color": "#00cc96",
          "symbol": "circle"
         },
         "mode": "markers",
         "name": "action=playing soccer",
         "showlegend": true,
         "type": "scatter",
         "x": [
          -0.009539301507174969,
          7.9258928298950195,
          -13.052270889282227,
          2.790024757385254,
          3.962703227996826,
          7.669151306152344,
          -1.7583587169647217,
          2.7251839637756348,
          -4.780954360961914,
          4.444675445556641,
          -4.839113712310791,
          -2.710035562515259,
          -10.982158660888672,
          5.751377582550049
         ],
         "xaxis": "x",
         "y": [
          5.454183578491211,
          -3.8437392711639404,
          -5.495242118835449,
          -8.643709182739258,
          -3.5003979206085205,
          0.9505833983421326,
          3.77209210395813,
          -6.579579830169678,
          -0.8958457708358765,
          8.124560356140137,
          10.186600685119629,
          7.290528297424316,
          -5.455795764923096,
          -11.334051132202148
         ],
         "yaxis": "y"
        },
        {
         "hoverlabel": {
          "namelength": 0
         },
         "hovertemplate": "action=rope jumping<br>x=%{x}<br>y=%{y}",
         "legendgroup": "action=rope jumping",
         "marker": {
          "color": "#ab63fa",
          "symbol": "circle"
         },
         "mode": "markers",
         "name": "action=rope jumping",
         "showlegend": true,
         "type": "scatter",
         "x": [
          -0.02922598458826542,
          7.647726535797119,
          -13.052270889282227,
          2.32900333404541,
          3.997568368911743,
          8.067423820495605,
          -2.1660375595092773,
          3.2204887866973877,
          -4.780944347381592,
          4.4433817863464355,
          -4.327116966247559,
          -2.710231304168701,
          -10.94787311553955,
          5.786936283111572
         ],
         "xaxis": "x",
         "y": [
          5.662745952606201,
          -4.2217864990234375,
          -5.495242118835449,
          -8.275895118713379,
          -3.4704220294952393,
          1.0494502782821655,
          4.016232967376709,
          -6.720264434814453,
          -0.895850419998169,
          7.795331954956055,
          10.32102108001709,
          7.291213512420654,
          -5.889355659484863,
          -11.814013481140137
         ],
         "yaxis": "y"
        }
       ],
       "layout": {
        "height": 800,
        "legend": {
         "tracegroupgap": 0
        },
        "margin": {
         "t": 60
        },
        "template": {
         "data": {
          "bar": [
           {
            "error_x": {
             "color": "#2a3f5f"
            },
            "error_y": {
             "color": "#2a3f5f"
            },
            "marker": {
             "line": {
              "color": "#E5ECF6",
              "width": 0.5
             }
            },
            "type": "bar"
           }
          ],
          "barpolar": [
           {
            "marker": {
             "line": {
              "color": "#E5ECF6",
              "width": 0.5
             }
            },
            "type": "barpolar"
           }
          ],
          "carpet": [
           {
            "aaxis": {
             "endlinecolor": "#2a3f5f",
             "gridcolor": "white",
             "linecolor": "white",
             "minorgridcolor": "white",
             "startlinecolor": "#2a3f5f"
            },
            "baxis": {
             "endlinecolor": "#2a3f5f",
             "gridcolor": "white",
             "linecolor": "white",
             "minorgridcolor": "white",
             "startlinecolor": "#2a3f5f"
            },
            "type": "carpet"
           }
          ],
          "choropleth": [
           {
            "colorbar": {
             "outlinewidth": 0,
             "ticks": ""
            },
            "type": "choropleth"
           }
          ],
          "contour": [
           {
            "colorbar": {
             "outlinewidth": 0,
             "ticks": ""
            },
            "colorscale": [
             [
              0,
              "#0d0887"
             ],
             [
              0.1111111111111111,
              "#46039f"
             ],
             [
              0.2222222222222222,
              "#7201a8"
             ],
             [
              0.3333333333333333,
              "#9c179e"
             ],
             [
              0.4444444444444444,
              "#bd3786"
             ],
             [
              0.5555555555555556,
              "#d8576b"
             ],
             [
              0.6666666666666666,
              "#ed7953"
             ],
             [
              0.7777777777777778,
              "#fb9f3a"
             ],
             [
              0.8888888888888888,
              "#fdca26"
             ],
             [
              1,
              "#f0f921"
             ]
            ],
            "type": "contour"
           }
          ],
          "contourcarpet": [
           {
            "colorbar": {
             "outlinewidth": 0,
             "ticks": ""
            },
            "type": "contourcarpet"
           }
          ],
          "heatmap": [
           {
            "colorbar": {
             "outlinewidth": 0,
             "ticks": ""
            },
            "colorscale": [
             [
              0,
              "#0d0887"
             ],
             [
              0.1111111111111111,
              "#46039f"
             ],
             [
              0.2222222222222222,
              "#7201a8"
             ],
             [
              0.3333333333333333,
              "#9c179e"
             ],
             [
              0.4444444444444444,
              "#bd3786"
             ],
             [
              0.5555555555555556,
              "#d8576b"
             ],
             [
              0.6666666666666666,
              "#ed7953"
             ],
             [
              0.7777777777777778,
              "#fb9f3a"
             ],
             [
              0.8888888888888888,
              "#fdca26"
             ],
             [
              1,
              "#f0f921"
             ]
            ],
            "type": "heatmap"
           }
          ],
          "heatmapgl": [
           {
            "colorbar": {
             "outlinewidth": 0,
             "ticks": ""
            },
            "colorscale": [
             [
              0,
              "#0d0887"
             ],
             [
              0.1111111111111111,
              "#46039f"
             ],
             [
              0.2222222222222222,
              "#7201a8"
             ],
             [
              0.3333333333333333,
              "#9c179e"
             ],
             [
              0.4444444444444444,
              "#bd3786"
             ],
             [
              0.5555555555555556,
              "#d8576b"
             ],
             [
              0.6666666666666666,
              "#ed7953"
             ],
             [
              0.7777777777777778,
              "#fb9f3a"
             ],
             [
              0.8888888888888888,
              "#fdca26"
             ],
             [
              1,
              "#f0f921"
             ]
            ],
            "type": "heatmapgl"
           }
          ],
          "histogram": [
           {
            "marker": {
             "colorbar": {
              "outlinewidth": 0,
              "ticks": ""
             }
            },
            "type": "histogram"
           }
          ],
          "histogram2d": [
           {
            "colorbar": {
             "outlinewidth": 0,
             "ticks": ""
            },
            "colorscale": [
             [
              0,
              "#0d0887"
             ],
             [
              0.1111111111111111,
              "#46039f"
             ],
             [
              0.2222222222222222,
              "#7201a8"
             ],
             [
              0.3333333333333333,
              "#9c179e"
             ],
             [
              0.4444444444444444,
              "#bd3786"
             ],
             [
              0.5555555555555556,
              "#d8576b"
             ],
             [
              0.6666666666666666,
              "#ed7953"
             ],
             [
              0.7777777777777778,
              "#fb9f3a"
             ],
             [
              0.8888888888888888,
              "#fdca26"
             ],
             [
              1,
              "#f0f921"
             ]
            ],
            "type": "histogram2d"
           }
          ],
          "histogram2dcontour": [
           {
            "colorbar": {
             "outlinewidth": 0,
             "ticks": ""
            },
            "colorscale": [
             [
              0,
              "#0d0887"
             ],
             [
              0.1111111111111111,
              "#46039f"
             ],
             [
              0.2222222222222222,
              "#7201a8"
             ],
             [
              0.3333333333333333,
              "#9c179e"
             ],
             [
              0.4444444444444444,
              "#bd3786"
             ],
             [
              0.5555555555555556,
              "#d8576b"
             ],
             [
              0.6666666666666666,
              "#ed7953"
             ],
             [
              0.7777777777777778,
              "#fb9f3a"
             ],
             [
              0.8888888888888888,
              "#fdca26"
             ],
             [
              1,
              "#f0f921"
             ]
            ],
            "type": "histogram2dcontour"
           }
          ],
          "mesh3d": [
           {
            "colorbar": {
             "outlinewidth": 0,
             "ticks": ""
            },
            "type": "mesh3d"
           }
          ],
          "parcoords": [
           {
            "line": {
             "colorbar": {
              "outlinewidth": 0,
              "ticks": ""
             }
            },
            "type": "parcoords"
           }
          ],
          "pie": [
           {
            "automargin": true,
            "type": "pie"
           }
          ],
          "scatter": [
           {
            "marker": {
             "colorbar": {
              "outlinewidth": 0,
              "ticks": ""
             }
            },
            "type": "scatter"
           }
          ],
          "scatter3d": [
           {
            "line": {
             "colorbar": {
              "outlinewidth": 0,
              "ticks": ""
             }
            },
            "marker": {
             "colorbar": {
              "outlinewidth": 0,
              "ticks": ""
             }
            },
            "type": "scatter3d"
           }
          ],
          "scattercarpet": [
           {
            "marker": {
             "colorbar": {
              "outlinewidth": 0,
              "ticks": ""
             }
            },
            "type": "scattercarpet"
           }
          ],
          "scattergeo": [
           {
            "marker": {
             "colorbar": {
              "outlinewidth": 0,
              "ticks": ""
             }
            },
            "type": "scattergeo"
           }
          ],
          "scattergl": [
           {
            "marker": {
             "colorbar": {
              "outlinewidth": 0,
              "ticks": ""
             }
            },
            "type": "scattergl"
           }
          ],
          "scattermapbox": [
           {
            "marker": {
             "colorbar": {
              "outlinewidth": 0,
              "ticks": ""
             }
            },
            "type": "scattermapbox"
           }
          ],
          "scatterpolar": [
           {
            "marker": {
             "colorbar": {
              "outlinewidth": 0,
              "ticks": ""
             }
            },
            "type": "scatterpolar"
           }
          ],
          "scatterpolargl": [
           {
            "marker": {
             "colorbar": {
              "outlinewidth": 0,
              "ticks": ""
             }
            },
            "type": "scatterpolargl"
           }
          ],
          "scatterternary": [
           {
            "marker": {
             "colorbar": {
              "outlinewidth": 0,
              "ticks": ""
             }
            },
            "type": "scatterternary"
           }
          ],
          "surface": [
           {
            "colorbar": {
             "outlinewidth": 0,
             "ticks": ""
            },
            "colorscale": [
             [
              0,
              "#0d0887"
             ],
             [
              0.1111111111111111,
              "#46039f"
             ],
             [
              0.2222222222222222,
              "#7201a8"
             ],
             [
              0.3333333333333333,
              "#9c179e"
             ],
             [
              0.4444444444444444,
              "#bd3786"
             ],
             [
              0.5555555555555556,
              "#d8576b"
             ],
             [
              0.6666666666666666,
              "#ed7953"
             ],
             [
              0.7777777777777778,
              "#fb9f3a"
             ],
             [
              0.8888888888888888,
              "#fdca26"
             ],
             [
              1,
              "#f0f921"
             ]
            ],
            "type": "surface"
           }
          ],
          "table": [
           {
            "cells": {
             "fill": {
              "color": "#EBF0F8"
             },
             "line": {
              "color": "white"
             }
            },
            "header": {
             "fill": {
              "color": "#C8D4E3"
             },
             "line": {
              "color": "white"
             }
            },
            "type": "table"
           }
          ]
         },
         "layout": {
          "annotationdefaults": {
           "arrowcolor": "#2a3f5f",
           "arrowhead": 0,
           "arrowwidth": 1
          },
          "coloraxis": {
           "colorbar": {
            "outlinewidth": 0,
            "ticks": ""
           }
          },
          "colorscale": {
           "diverging": [
            [
             0,
             "#8e0152"
            ],
            [
             0.1,
             "#c51b7d"
            ],
            [
             0.2,
             "#de77ae"
            ],
            [
             0.3,
             "#f1b6da"
            ],
            [
             0.4,
             "#fde0ef"
            ],
            [
             0.5,
             "#f7f7f7"
            ],
            [
             0.6,
             "#e6f5d0"
            ],
            [
             0.7,
             "#b8e186"
            ],
            [
             0.8,
             "#7fbc41"
            ],
            [
             0.9,
             "#4d9221"
            ],
            [
             1,
             "#276419"
            ]
           ],
           "sequential": [
            [
             0,
             "#0d0887"
            ],
            [
             0.1111111111111111,
             "#46039f"
            ],
            [
             0.2222222222222222,
             "#7201a8"
            ],
            [
             0.3333333333333333,
             "#9c179e"
            ],
            [
             0.4444444444444444,
             "#bd3786"
            ],
            [
             0.5555555555555556,
             "#d8576b"
            ],
            [
             0.6666666666666666,
             "#ed7953"
            ],
            [
             0.7777777777777778,
             "#fb9f3a"
            ],
            [
             0.8888888888888888,
             "#fdca26"
            ],
            [
             1,
             "#f0f921"
            ]
           ],
           "sequentialminus": [
            [
             0,
             "#0d0887"
            ],
            [
             0.1111111111111111,
             "#46039f"
            ],
            [
             0.2222222222222222,
             "#7201a8"
            ],
            [
             0.3333333333333333,
             "#9c179e"
            ],
            [
             0.4444444444444444,
             "#bd3786"
            ],
            [
             0.5555555555555556,
             "#d8576b"
            ],
            [
             0.6666666666666666,
             "#ed7953"
            ],
            [
             0.7777777777777778,
             "#fb9f3a"
            ],
            [
             0.8888888888888888,
             "#fdca26"
            ],
            [
             1,
             "#f0f921"
            ]
           ]
          },
          "colorway": [
           "#636efa",
           "#EF553B",
           "#00cc96",
           "#ab63fa",
           "#FFA15A",
           "#19d3f3",
           "#FF6692",
           "#B6E880",
           "#FF97FF",
           "#FECB52"
          ],
          "font": {
           "color": "#2a3f5f"
          },
          "geo": {
           "bgcolor": "white",
           "lakecolor": "white",
           "landcolor": "#E5ECF6",
           "showlakes": true,
           "showland": true,
           "subunitcolor": "white"
          },
          "hoverlabel": {
           "align": "left"
          },
          "hovermode": "closest",
          "mapbox": {
           "style": "light"
          },
          "paper_bgcolor": "white",
          "plot_bgcolor": "#E5ECF6",
          "polar": {
           "angularaxis": {
            "gridcolor": "white",
            "linecolor": "white",
            "ticks": ""
           },
           "bgcolor": "#E5ECF6",
           "radialaxis": {
            "gridcolor": "white",
            "linecolor": "white",
            "ticks": ""
           }
          },
          "scene": {
           "xaxis": {
            "backgroundcolor": "#E5ECF6",
            "gridcolor": "white",
            "gridwidth": 2,
            "linecolor": "white",
            "showbackground": true,
            "ticks": "",
            "zerolinecolor": "white"
           },
           "yaxis": {
            "backgroundcolor": "#E5ECF6",
            "gridcolor": "white",
            "gridwidth": 2,
            "linecolor": "white",
            "showbackground": true,
            "ticks": "",
            "zerolinecolor": "white"
           },
           "zaxis": {
            "backgroundcolor": "#E5ECF6",
            "gridcolor": "white",
            "gridwidth": 2,
            "linecolor": "white",
            "showbackground": true,
            "ticks": "",
            "zerolinecolor": "white"
           }
          },
          "shapedefaults": {
           "line": {
            "color": "#2a3f5f"
           }
          },
          "ternary": {
           "aaxis": {
            "gridcolor": "white",
            "linecolor": "white",
            "ticks": ""
           },
           "baxis": {
            "gridcolor": "white",
            "linecolor": "white",
            "ticks": ""
           },
           "bgcolor": "#E5ECF6",
           "caxis": {
            "gridcolor": "white",
            "linecolor": "white",
            "ticks": ""
           }
          },
          "title": {
           "x": 0.05
          },
          "xaxis": {
           "automargin": true,
           "gridcolor": "white",
           "linecolor": "white",
           "ticks": "",
           "title": {
            "standoff": 15
           },
           "zerolinecolor": "white",
           "zerolinewidth": 2
          },
          "yaxis": {
           "automargin": true,
           "gridcolor": "white",
           "linecolor": "white",
           "ticks": "",
           "title": {
            "standoff": 15
           },
           "zerolinecolor": "white",
           "zerolinewidth": 2
          }
         }
        },
        "width": 800,
        "xaxis": {
         "anchor": "y",
         "domain": [
          0,
          1
         ],
         "title": {
          "text": "x"
         }
        },
        "yaxis": {
         "anchor": "x",
         "domain": [
          0,
          1
         ],
         "title": {
          "text": "y"
         }
        }
       }
      }
     },
     "metadata": {},
     "output_type": "display_data"
    },
    {
     "name": "stderr",
     "output_type": "stream",
     "text": [
      "seen: 100%|██████████| 130/130 [00:11<00:00, 11.66batch/s, loss=0.162]\n"
     ]
    },
    {
     "data": {
      "image/png": "[encoded data removed]",
      "text/plain": [
       "<Figure size 640x480 with 2 Axes>"
      ]
     },
     "metadata": {},
     "output_type": "display_data"
    },
    {
     "name": "stderr",
     "output_type": "stream",
     "text": [
      "Training Epoch:  50%|█████     | 3/6 [01:40<01:40, 33.51s/it]"
     ]
    },
    {
     "name": "stdout",
     "output_type": "stream",
     "text": [
      "Overall accuracy: 0.859\n",
      "\n"
     ]
    },
    {
     "name": "stderr",
     "output_type": "stream",
     "text": [
      "train: 100%|██████████| 11/11 [00:01<00:00,  5.61batch/s, contrastive loss =3.19, reconstruction loss=0.0503]\n",
      "train: 100%|██████████| 523/523 [00:16<00:00, 32.46batch/s, loss=0.314, accuracy=0.812]\n"
     ]
    },
    {
     "data": {
      "application/vnd.plotly.v1+json": {
       "config": {
        "plotlyServerURL": "https://plot.ly"
       },
       "data": [
        {
         "hoverlabel": {
          "namelength": 0
         },
         "hovertemplate": "action=lying<br>x=%{x}<br>y=%{y}",
         "legendgroup": "action=lying",
         "marker": {
          "color": "#636efa",
          "symbol": "circle"
         },
         "mode": "markers",
         "name": "action=lying",
         "showlegend": true,
         "type": "scatter",
         "x": [
          17.28704071044922,
          -5.372652053833008,
          -0.5571557879447937,
          -7.712765693664551,
          -11.101503372192383,
          -3.953219413757324,
          15.591002464294434,
          14.203476905822754,
          -4.321723937988281,
          0.0026162569411098957,
          6.03542423248291,
          -3.000420093536377,
          -4.003896713256836,
          -1.6789171695709229
         ],
         "xaxis": "x",
         "y": [
          1.7169466018676758,
          -9.753748893737793,
          5.1922101974487305,
          -6.5577311515808105,
          -10.837663650512695,
          -6.593044757843018,
          4.153648853302002,
          5.4588942527771,
          0.18030500411987305,
          11.246405601501465,
          9.013387680053711,
          7.307081699371338,
          2.0510106086730957,
          -4.65739107131958
         ],
         "yaxis": "y"
        },
        {
         "hoverlabel": {
          "namelength": 0
         },
         "hovertemplate": "action=sitting<br>x=%{x}<br>y=%{y}",
         "legendgroup": "action=sitting",
         "marker": {
          "color": "#EF553B",
          "symbol": "circle"
         },
         "mode": "markers",
         "name": "action=sitting",
         "showlegend": true,
         "type": "scatter",
         "x": [
          16.95968246459961,
          -5.705599308013916,
          -0.5956566333770752,
          -7.710916996002197,
          -11.101503372192383,
          -4.007726669311523,
          15.92046070098877,
          14.34473705291748,
          -4.321724891662598,
          -0.44305795431137085,
          6.413206577301025,
          -3.2997124195098877,
          -4.004613876342773,
          -1.4422277212142944
         ],
         "xaxis": "x",
         "y": [
          1.904592752456665,
          -9.841747283935547,
          5.589715003967285,
          -6.056066513061523,
          -10.837663650512695,
          -6.4126482009887695,
          4.544862747192383,
          6.032038688659668,
          0.1803048700094223,
          11.276495933532715,
          9.23387336730957,
          6.930190563201904,
          2.0613410472869873,
          -4.8362932205200195
         ],
         "yaxis": "y"
        },
        {
         "hoverlabel": {
          "namelength": 0
         },
         "hovertemplate": "action=walking<br>x=%{x}<br>y=%{y}",
         "legendgroup": "action=walking",
         "marker": {
          "color": "#00cc96",
          "symbol": "circle"
         },
         "mode": "markers",
         "name": "action=walking",
         "showlegend": true,
         "type": "scatter",
         "x": [
          17.113222122192383,
          -5.816717624664307,
          -0.744055449962616,
          -7.935149192810059,
          -11.212570190429688,
          -4.0179266929626465,
          16.01239776611328,
          14.609387397766113,
          -4.839302062988281,
          -0.19200991094112396,
          6.215229511260986,
          -3.326093912124634,
          -3.5295326709747314,
          -1.4363775253295898
         ],
         "xaxis": "x",
         "y": [
          2.1910934448242188,
          -9.707433700561523,
          5.620229721069336,
          -6.133694171905518,
          -11.147193908691406,
          -6.70382022857666,
          4.271955966949463,
          5.875269412994385,
          0.4337027966976166,
          10.98420524597168,
          9.41606616973877,
          6.9477949142456055,
          1.821030855178833,
          -4.852454662322998
         ],
         "yaxis": "y"
        },
        {
         "hoverlabel": {
          "namelength": 0
         },
         "hovertemplate": "action=running<br>x=%{x}<br>y=%{y}",
         "legendgroup": "action=running",
         "marker": {
          "color": "#ab63fa",
          "symbol": "circle"
         },
         "mode": "markers",
         "name": "action=running",
         "showlegend": true,
         "type": "scatter",
         "x": [
          17.28549575805664,
          -5.641974449157715,
          -0.579195499420166,
          -7.637217998504639,
          -10.868314743041992,
          -4.274896144866943,
          15.92046070098877,
          14.609387397766113,
          -4.475968360900879,
          -0.18882299959659576,
          6.41568660736084,
          -3.4405250549316406,
          -3.522416353225708,
          -1.8134485483169556
         ],
         "xaxis": "x",
         "y": [
          1.716914415359497,
          -9.397127151489258,
          5.174854755401611,
          -6.528478145599365,
          -11.187553405761719,
          -6.329143524169922,
          4.544862747192383,
          5.875269412994385,
          -0.015595979988574982,
          10.984593391418457,
          9.224620819091797,
          7.167053699493408,
          1.8291523456573486,
          -4.6890153884887695
         ],
         "yaxis": "y"
        },
        {
         "hoverlabel": {
          "namelength": 0
         },
         "hovertemplate": "action=cycling<br>x=%{x}<br>y=%{y}",
         "legendgroup": "action=cycling",
         "marker": {
          "color": "#FFA15A",
          "symbol": "circle"
         },
         "mode": "markers",
         "name": "action=cycling",
         "showlegend": true,
         "type": "scatter",
         "x": [
          16.958982467651367,
          -5.4084153175354,
          -0.4815550744533539,
          -7.940301895141602,
          -10.733570098876953,
          -4.360966682434082,
          16.01239776611328,
          14.609387397766113,
          -4.321724891662598,
          0.0026206611655652523,
          5.987724781036377,
          -2.955167770385742,
          -3.628835916519165,
          -1.6889691352844238
         ],
         "xaxis": "x",
         "y": [
          1.9157092571258545,
          -9.465289115905762,
          5.401623249053955,
          -6.483443260192871,
          -10.83846664428711,
          -6.647655487060547,
          4.271955966949463,
          5.875269412994385,
          0.1803048700094223,
          11.246379852294922,
          9.069313049316406,
          7.154502868652344,
          2.2157280445098877,
          -4.657526016235352
         ],
         "yaxis": "y"
        },
        {
         "hoverlabel": {
          "namelength": 0
         },
         "hovertemplate": "action=Nordic walking<br>x=%{x}<br>y=%{y}",
         "legendgroup": "action=Nordic walking",
         "marker": {
          "color": "#19d3f3",
          "symbol": "circle"
         },
         "mode": "markers",
         "name": "action=Nordic walking",
         "showlegend": true,
         "type": "scatter",
         "x": [
          17.469154357910156,
          -5.526068210601807,
          -0.9609944224357605,
          -7.562139511108398,
          -11.101503372192383,
          -4.360966682434082,
          15.591002464294434,
          14.203475952148438,
          -4.732724666595459,
          -0.252886563539505,
          6.389820575714111,
          -3.140580654144287,
          -4.004613876342773,
          -1.442507266998291
         ],
         "xaxis": "x",
         "y": [
          1.8527519702911377,
          -9.86977767944336,
          5.375813007354736,
          -6.46382474899292,
          -10.837663650512695,
          -6.647655487060547,
          4.153648853302002,
          5.4588942527771,
          0.001161734340712428,
          11.451281547546387,
          9.293389320373535,
          7.394346237182617,
          2.0613410472869873,
          -4.8356032371521
         ],
         "yaxis": "y"
        },
        {
         "hoverlabel": {
          "namelength": 0
         },
         "hovertemplate": "action=computer work<br>x=%{x}<br>y=%{y}",
         "legendgroup": "action=computer work",
         "marker": {
          "color": "#FF6692",
          "symbol": "circle"
         },
         "mode": "markers",
         "name": "action=computer work",
         "showlegend": true,
         "type": "scatter",
         "x": [
          17.33820343017578,
          -5.7173919677734375,
          -0.9609972238540649,
          -7.798914432525635,
          -11.101503372192383,
          -4.356048583984375,
          15.92046070098877,
          14.040846824645996,
          -4.8823041915893555,
          -0.1845676600933075,
          6.298605918884277,
          -3.086066484451294,
          -3.5296456813812256,
          -1.9267523288726807
         ],
         "xaxis": "x",
         "y": [
          2.214433431625366,
          -9.426800727844238,
          5.375781059265137,
          -6.561736583709717,
          -10.837663650512695,
          -6.654799938201904,
          4.544862747192383,
          5.738427639007568,
          0.15878936648368835,
          10.985215187072754,
          8.979573249816895,
          6.948947906494141,
          1.8208707571029663,
          -4.851726531982422
         ],
         "yaxis": "y"
        },
        {
         "hoverlabel": {
          "namelength": 0
         },
         "hovertemplate": "action=car driving<br>x=%{x}<br>y=%{y}",
         "legendgroup": "action=car driving",
         "marker": {
          "color": "#B6E880",
          "symbol": "circle"
         },
         "mode": "markers",
         "name": "action=car driving",
         "showlegend": true,
         "type": "scatter",
         "x": [
          17.338199615478516,
          -5.344020366668701,
          -0.8415064811706543,
          -7.710916996002197,
          -10.868314743041992,
          -4.019809246063232,
          15.92046070098877,
          14.203487396240234,
          -4.839233875274658,
          -0.011061483062803745,
          6.253634452819824,
          -3.299307107925415,
          -4.003896713256836,
          -1.5969167947769165
         ],
         "xaxis": "x",
         "y": [
          2.214434862136841,
          -9.694132804870605,
          5.150404453277588,
          -6.056066513061523,
          -11.187553405761719,
          -6.7050042152404785,
          4.544862747192383,
          5.458892345428467,
          0.4337429702281952,
          11.313599586486816,
          9.409090042114258,
          6.929993152618408,
          2.0510106086730957,
          -5.16209602355957
         ],
         "yaxis": "y"
        },
        {
         "hoverlabel": {
          "namelength": 0
         },
         "hovertemplate": "action=descending stairs<br>x=%{x}<br>y=%{y}",
         "legendgroup": "action=descending stairs",
         "marker": {
          "color": "#FF97FF",
          "symbol": "circle"
         },
         "mode": "markers",
         "name": "action=descending stairs",
         "showlegend": true,
         "type": "scatter",
         "x": [
          16.959671020507812,
          -5.725060939788818,
          -0.8991729021072388,
          -7.9794511795043945,
          -10.868314743041992,
          -4.214871883392334,
          16.01239776611328,
          14.13937759399414,
          -4.839241981506348,
          -0.26698482036590576,
          6.022251129150391,
          -3.0046331882476807,
          -4.004613876342773,
          -1.562117099761963
         ],
         "xaxis": "x",
         "y": [
          1.9046833515167236,
          -9.432917594909668,
          5.190479755401611,
          -6.4141926765441895,
          -11.187553405761719,
          -6.314894199371338,
          4.271955966949463,
          5.921180248260498,
          0.4337412714958191,
          11.44921875,
          9.3419189453125,
          7.312330722808838,
          2.0613410472869873,
          -5.144002437591553
         ],
         "yaxis": "y"
        },
        {
         "hoverlabel": {
          "namelength": 0
         },
         "hovertemplate": "action=vacuum cleaning<br>x=%{x}<br>y=%{y}",
         "legendgroup": "action=vacuum cleaning",
         "marker": {
          "color": "#FECB52",
          "symbol": "circle"
         },
         "mode": "markers",
         "name": "action=vacuum cleaning",
         "showlegend": true,
         "type": "scatter",
         "x": [
          16.95815086364746,
          -5.376696586608887,
          -0.9609972238540649,
          -7.584794998168945,
          -10.868314743041992,
          -4.066695690155029,
          15.920672416687012,
          14.139251708984375,
          -4.839303016662598,
          -0.43153107166290283,
          6.029245376586914,
          -3.3276004791259766,
          -3.626591205596924,
          -1.9266706705093384
         ],
         "xaxis": "x",
         "y": [
          1.9326423406600952,
          -9.503751754760742,
          5.375781059265137,
          -6.128540992736816,
          -11.187553405761719,
          -6.738623142242432,
          4.544797420501709,
          5.921048641204834,
          0.4337022006511688,
          11.11685562133789,
          9.348626136779785,
          7.362010478973389,
          2.2119698524475098,
          -4.851219177246094
         ],
         "yaxis": "y"
        },
        {
         "hoverlabel": {
          "namelength": 0
         },
         "hovertemplate": "action=ironing<br>x=%{x}<br>y=%{y}",
         "legendgroup": "action=ironing",
         "marker": {
          "color": "#636efa",
          "symbol": "circle"
         },
         "mode": "markers",
         "name": "action=ironing",
         "showlegend": true,
         "type": "scatter",
         "x": [
          17.495895385742188,
          -5.828091144561768,
          -0.48155662417411804,
          -7.997838497161865,
          -10.731942176818848,
          -4.0179266929626465,
          15.591002464294434,
          14.610054969787598,
          -4.321723937988281,
          -0.44677332043647766,
          6.276493072509766,
          -3.441190481185913,
          -3.5296456813812256,
          -1.8416599035263062
         ],
         "xaxis": "x",
         "y": [
          2.0583696365356445,
          -9.595340728759766,
          5.401632308959961,
          -6.3372931480407715,
          -10.83950424194336,
          -6.70382022857666,
          4.153648853302002,
          5.87314510345459,
          0.1803048998117447,
          11.263991355895996,
          8.968902587890625,
          7.161375999450684,
          1.8208707571029663,
          -5.103188991546631
         ],
         "yaxis": "y"
        },
        {
         "hoverlabel": {
          "namelength": 0
         },
         "hovertemplate": "action=folding laundry<br>x=%{x}<br>y=%{y}",
         "legendgroup": "action=folding laundry",
         "marker": {
          "color": "#EF553B",
          "symbol": "circle"
         },
         "mode": "markers",
         "name": "action=folding laundry",
         "showlegend": true,
         "type": "scatter",
         "x": [
          17.495895385742188,
          -5.816717624664307,
          -0.6063280701637268,
          -7.515506744384766,
          -11.101503372192383,
          -4.389195919036865,
          15.591002464294434,
          14.609387397766113,
          -4.729381561279297,
          -0.037991948425769806,
          6.313555717468262,
          -2.9693338871002197,
          -3.5366013050079346,
          -1.6264994144439697
         ],
         "xaxis": "x",
         "y": [
          2.0583696365356445,
          -9.707433700561523,
          5.595475196838379,
          -6.259515762329102,
          -10.837663650512695,
          -6.45562744140625,
          4.153648853302002,
          5.875269412994385,
          -0.00044274592073634267,
          11.070840835571289,
          8.988903045654297,
          7.254210948944092,
          1.8106275796890259,
          -5.162508487701416
         ],
         "yaxis": "y"
        },
        {
         "hoverlabel": {
          "namelength": 0
         },
         "hovertemplate": "action=playing soccer<br>x=%{x}<br>y=%{y}",
         "legendgroup": "action=playing soccer",
         "marker": {
          "color": "#00cc96",
          "symbol": "circle"
         },
         "mode": "markers",
         "name": "action=playing soccer",
         "showlegend": true,
         "type": "scatter",
         "x": [
          17.35022735595703,
          -5.3541483879089355,
          -0.7227535247802734,
          -7.515506744384766,
          -10.868314743041992,
          -4.217037200927734,
          15.591002464294434,
          14.203487396240234,
          -4.8393025398254395,
          -0.19695411622524261,
          6.024651527404785,
          -3.336622476577759,
          -3.5296456813812256,
          -1.9267523288726807
         ],
         "xaxis": "x",
         "y": [
          2.209656238555908,
          -9.546988487243652,
          5.124022960662842,
          -6.259515762329102,
          -11.187553405761719,
          -6.314887046813965,
          4.153648853302002,
          5.458892345428467,
          0.4337027370929718,
          11.436018943786621,
          9.023649215698242,
          7.3561201095581055,
          1.8208707571029663,
          -4.851726531982422
         ],
         "yaxis": "y"
        },
        {
         "hoverlabel": {
          "namelength": 0
         },
         "hovertemplate": "action=rope jumping<br>x=%{x}<br>y=%{y}",
         "legendgroup": "action=rope jumping",
         "marker": {
          "color": "#ab63fa",
          "symbol": "circle"
         },
         "mode": "markers",
         "name": "action=rope jumping",
         "showlegend": true,
         "type": "scatter",
         "x": [
          17.16102409362793,
          -5.531802654266357,
          -0.7430537343025208,
          -7.942327976226807,
          -10.868314743041992,
          -4.214871883392334,
          15.591002464294434,
          14.201048851013184,
          -4.321723937988281,
          -0.4372928738594055,
          5.979133129119873,
          -3.086085557937622,
          -4.004613876342773,
          -1.6149801015853882
         ],
         "xaxis": "x",
         "y": [
          1.7291089296340942,
          -9.870244026184082,
          5.619861125946045,
          -6.1409502029418945,
          -11.187553405761719,
          -6.314894199371338,
          4.153648853302002,
          5.4594268798828125,
          0.18030457198619843,
          11.131837844848633,
          9.280869483947754,
          6.94893741607666,
          2.0613410472869873,
          -5.165194511413574
         ],
         "yaxis": "y"
        }
       ],
       "layout": {
        "height": 800,
        "legend": {
         "tracegroupgap": 0
        },
        "margin": {
         "t": 60
        },
        "template": {
         "data": {
          "bar": [
           {
            "error_x": {
             "color": "#2a3f5f"
            },
            "error_y": {
             "color": "#2a3f5f"
            },
            "marker": {
             "line": {
              "color": "#E5ECF6",
              "width": 0.5
             }
            },
            "type": "bar"
           }
          ],
          "barpolar": [
           {
            "marker": {
             "line": {
              "color": "#E5ECF6",
              "width": 0.5
             }
            },
            "type": "barpolar"
           }
          ],
          "carpet": [
           {
            "aaxis": {
             "endlinecolor": "#2a3f5f",
             "gridcolor": "white",
             "linecolor": "white",
             "minorgridcolor": "white",
             "startlinecolor": "#2a3f5f"
            },
            "baxis": {
             "endlinecolor": "#2a3f5f",
             "gridcolor": "white",
             "linecolor": "white",
             "minorgridcolor": "white",
             "startlinecolor": "#2a3f5f"
            },
            "type": "carpet"
           }
          ],
          "choropleth": [
           {
            "colorbar": {
             "outlinewidth": 0,
             "ticks": ""
            },
            "type": "choropleth"
           }
          ],
          "contour": [
           {
            "colorbar": {
             "outlinewidth": 0,
             "ticks": ""
            },
            "colorscale": [
             [
              0,
              "#0d0887"
             ],
             [
              0.1111111111111111,
              "#46039f"
             ],
             [
              0.2222222222222222,
              "#7201a8"
             ],
             [
              0.3333333333333333,
              "#9c179e"
             ],
             [
              0.4444444444444444,
              "#bd3786"
             ],
             [
              0.5555555555555556,
              "#d8576b"
             ],
             [
              0.6666666666666666,
              "#ed7953"
             ],
             [
              0.7777777777777778,
              "#fb9f3a"
             ],
             [
              0.8888888888888888,
              "#fdca26"
             ],
             [
              1,
              "#f0f921"
             ]
            ],
            "type": "contour"
           }
          ],
          "contourcarpet": [
           {
            "colorbar": {
             "outlinewidth": 0,
             "ticks": ""
            },
            "type": "contourcarpet"
           }
          ],
          "heatmap": [
           {
            "colorbar": {
             "outlinewidth": 0,
             "ticks": ""
            },
            "colorscale": [
             [
              0,
              "#0d0887"
             ],
             [
              0.1111111111111111,
              "#46039f"
             ],
             [
              0.2222222222222222,
              "#7201a8"
             ],
             [
              0.3333333333333333,
              "#9c179e"
             ],
             [
              0.4444444444444444,
              "#bd3786"
             ],
             [
              0.5555555555555556,
              "#d8576b"
             ],
             [
              0.6666666666666666,
              "#ed7953"
             ],
             [
              0.7777777777777778,
              "#fb9f3a"
             ],
             [
              0.8888888888888888,
              "#fdca26"
             ],
             [
              1,
              "#f0f921"
             ]
            ],
            "type": "heatmap"
           }
          ],
          "heatmapgl": [
           {
            "colorbar": {
             "outlinewidth": 0,
             "ticks": ""
            },
            "colorscale": [
             [
              0,
              "#0d0887"
             ],
             [
              0.1111111111111111,
              "#46039f"
             ],
             [
              0.2222222222222222,
              "#7201a8"
             ],
             [
              0.3333333333333333,
              "#9c179e"
             ],
             [
              0.4444444444444444,
              "#bd3786"
             ],
             [
              0.5555555555555556,
              "#d8576b"
             ],
             [
              0.6666666666666666,
              "#ed7953"
             ],
             [
              0.7777777777777778,
              "#fb9f3a"
             ],
             [
              0.8888888888888888,
              "#fdca26"
             ],
             [
              1,
              "#f0f921"
             ]
            ],
            "type": "heatmapgl"
           }
          ],
          "histogram": [
           {
            "marker": {
             "colorbar": {
              "outlinewidth": 0,
              "ticks": ""
             }
            },
            "type": "histogram"
           }
          ],
          "histogram2d": [
           {
            "colorbar": {
             "outlinewidth": 0,
             "ticks": ""
            },
            "colorscale": [
             [
              0,
              "#0d0887"
             ],
             [
              0.1111111111111111,
              "#46039f"
             ],
             [
              0.2222222222222222,
              "#7201a8"
             ],
             [
              0.3333333333333333,
              "#9c179e"
             ],
             [
              0.4444444444444444,
              "#bd3786"
             ],
             [
              0.5555555555555556,
              "#d8576b"
             ],
             [
              0.6666666666666666,
              "#ed7953"
             ],
             [
              0.7777777777777778,
              "#fb9f3a"
             ],
             [
              0.8888888888888888,
              "#fdca26"
             ],
             [
              1,
              "#f0f921"
             ]
            ],
            "type": "histogram2d"
           }
          ],
          "histogram2dcontour": [
           {
            "colorbar": {
             "outlinewidth": 0,
             "ticks": ""
            },
            "colorscale": [
             [
              0,
              "#0d0887"
             ],
             [
              0.1111111111111111,
              "#46039f"
             ],
             [
              0.2222222222222222,
              "#7201a8"
             ],
             [
              0.3333333333333333,
              "#9c179e"
             ],
             [
              0.4444444444444444,
              "#bd3786"
             ],
             [
              0.5555555555555556,
              "#d8576b"
             ],
             [
              0.6666666666666666,
              "#ed7953"
             ],
             [
              0.7777777777777778,
              "#fb9f3a"
             ],
             [
              0.8888888888888888,
              "#fdca26"
             ],
             [
              1,
              "#f0f921"
             ]
            ],
            "type": "histogram2dcontour"
           }
          ],
          "mesh3d": [
           {
            "colorbar": {
             "outlinewidth": 0,
             "ticks": ""
            },
            "type": "mesh3d"
           }
          ],
          "parcoords": [
           {
            "line": {
             "colorbar": {
              "outlinewidth": 0,
              "ticks": ""
             }
            },
            "type": "parcoords"
           }
          ],
          "pie": [
           {
            "automargin": true,
            "type": "pie"
           }
          ],
          "scatter": [
           {
            "marker": {
             "colorbar": {
              "outlinewidth": 0,
              "ticks": ""
             }
            },
            "type": "scatter"
           }
          ],
          "scatter3d": [
           {
            "line": {
             "colorbar": {
              "outlinewidth": 0,
              "ticks": ""
             }
            },
            "marker": {
             "colorbar": {
              "outlinewidth": 0,
              "ticks": ""
             }
            },
            "type": "scatter3d"
           }
          ],
          "scattercarpet": [
           {
            "marker": {
             "colorbar": {
              "outlinewidth": 0,
              "ticks": ""
             }
            },
            "type": "scattercarpet"
           }
          ],
          "scattergeo": [
           {
            "marker": {
             "colorbar": {
              "outlinewidth": 0,
              "ticks": ""
             }
            },
            "type": "scattergeo"
           }
          ],
          "scattergl": [
           {
            "marker": {
             "colorbar": {
              "outlinewidth": 0,
              "ticks": ""
             }
            },
            "type": "scattergl"
           }
          ],
          "scattermapbox": [
           {
            "marker": {
             "colorbar": {
              "outlinewidth": 0,
              "ticks": ""
             }
            },
            "type": "scattermapbox"
           }
          ],
          "scatterpolar": [
           {
            "marker": {
             "colorbar": {
              "outlinewidth": 0,
              "ticks": ""
             }
            },
            "type": "scatterpolar"
           }
          ],
          "scatterpolargl": [
           {
            "marker": {
             "colorbar": {
              "outlinewidth": 0,
              "ticks": ""
             }
            },
            "type": "scatterpolargl"
           }
          ],
          "scatterternary": [
           {
            "marker": {
             "colorbar": {
              "outlinewidth": 0,
              "ticks": ""
             }
            },
            "type": "scatterternary"
           }
          ],
          "surface": [
           {
            "colorbar": {
             "outlinewidth": 0,
             "ticks": ""
            },
            "colorscale": [
             [
              0,
              "#0d0887"
             ],
             [
              0.1111111111111111,
              "#46039f"
             ],
             [
              0.2222222222222222,
              "#7201a8"
             ],
             [
              0.3333333333333333,
              "#9c179e"
             ],
             [
              0.4444444444444444,
              "#bd3786"
             ],
             [
              0.5555555555555556,
              "#d8576b"
             ],
             [
              0.6666666666666666,
              "#ed7953"
             ],
             [
              0.7777777777777778,
              "#fb9f3a"
             ],
             [
              0.8888888888888888,
              "#fdca26"
             ],
             [
              1,
              "#f0f921"
             ]
            ],
            "type": "surface"
           }
          ],
          "table": [
           {
            "cells": {
             "fill": {
              "color": "#EBF0F8"
             },
             "line": {
              "color": "white"
             }
            },
            "header": {
             "fill": {
              "color": "#C8D4E3"
             },
             "line": {
              "color": "white"
             }
            },
            "type": "table"
           }
          ]
         },
         "layout": {
          "annotationdefaults": {
           "arrowcolor": "#2a3f5f",
           "arrowhead": 0,
           "arrowwidth": 1
          },
          "coloraxis": {
           "colorbar": {
            "outlinewidth": 0,
            "ticks": ""
           }
          },
          "colorscale": {
           "diverging": [
            [
             0,
             "#8e0152"
            ],
            [
             0.1,
             "#c51b7d"
            ],
            [
             0.2,
             "#de77ae"
            ],
            [
             0.3,
             "#f1b6da"
            ],
            [
             0.4,
             "#fde0ef"
            ],
            [
             0.5,
             "#f7f7f7"
            ],
            [
             0.6,
             "#e6f5d0"
            ],
            [
             0.7,
             "#b8e186"
            ],
            [
             0.8,
             "#7fbc41"
            ],
            [
             0.9,
             "#4d9221"
            ],
            [
             1,
             "#276419"
            ]
           ],
           "sequential": [
            [
             0,
             "#0d0887"
            ],
            [
             0.1111111111111111,
             "#46039f"
            ],
            [
             0.2222222222222222,
             "#7201a8"
            ],
            [
             0.3333333333333333,
             "#9c179e"
            ],
            [
             0.4444444444444444,
             "#bd3786"
            ],
            [
             0.5555555555555556,
             "#d8576b"
            ],
            [
             0.6666666666666666,
             "#ed7953"
            ],
            [
             0.7777777777777778,
             "#fb9f3a"
            ],
            [
             0.8888888888888888,
             "#fdca26"
            ],
            [
             1,
             "#f0f921"
            ]
           ],
           "sequentialminus": [
            [
             0,
             "#0d0887"
            ],
            [
             0.1111111111111111,
             "#46039f"
            ],
            [
             0.2222222222222222,
             "#7201a8"
            ],
            [
             0.3333333333333333,
             "#9c179e"
            ],
            [
             0.4444444444444444,
             "#bd3786"
            ],
            [
             0.5555555555555556,
             "#d8576b"
            ],
            [
             0.6666666666666666,
             "#ed7953"
            ],
            [
             0.7777777777777778,
             "#fb9f3a"
            ],
            [
             0.8888888888888888,
             "#fdca26"
            ],
            [
             1,
             "#f0f921"
            ]
           ]
          },
          "colorway": [
           "#636efa",
           "#EF553B",
           "#00cc96",
           "#ab63fa",
           "#FFA15A",
           "#19d3f3",
           "#FF6692",
           "#B6E880",
           "#FF97FF",
           "#FECB52"
          ],
          "font": {
           "color": "#2a3f5f"
          },
          "geo": {
           "bgcolor": "white",
           "lakecolor": "white",
           "landcolor": "#E5ECF6",
           "showlakes": true,
           "showland": true,
           "subunitcolor": "white"
          },
          "hoverlabel": {
           "align": "left"
          },
          "hovermode": "closest",
          "mapbox": {
           "style": "light"
          },
          "paper_bgcolor": "white",
          "plot_bgcolor": "#E5ECF6",
          "polar": {
           "angularaxis": {
            "gridcolor": "white",
            "linecolor": "white",
            "ticks": ""
           },
           "bgcolor": "#E5ECF6",
           "radialaxis": {
            "gridcolor": "white",
            "linecolor": "white",
            "ticks": ""
           }
          },
          "scene": {
           "xaxis": {
            "backgroundcolor": "#E5ECF6",
            "gridcolor": "white",
            "gridwidth": 2,
            "linecolor": "white",
            "showbackground": true,
            "ticks": "",
            "zerolinecolor": "white"
           },
           "yaxis": {
            "backgroundcolor": "#E5ECF6",
            "gridcolor": "white",
            "gridwidth": 2,
            "linecolor": "white",
            "showbackground": true,
            "ticks": "",
            "zerolinecolor": "white"
           },
           "zaxis": {
            "backgroundcolor": "#E5ECF6",
            "gridcolor": "white",
            "gridwidth": 2,
            "linecolor": "white",
            "showbackground": true,
            "ticks": "",
            "zerolinecolor": "white"
           }
          },
          "shapedefaults": {
           "line": {
            "color": "#2a3f5f"
           }
          },
          "ternary": {
           "aaxis": {
            "gridcolor": "white",
            "linecolor": "white",
            "ticks": ""
           },
           "baxis": {
            "gridcolor": "white",
            "linecolor": "white",
            "ticks": ""
           },
           "bgcolor": "#E5ECF6",
           "caxis": {
            "gridcolor": "white",
            "linecolor": "white",
            "ticks": ""
           }
          },
          "title": {
           "x": 0.05
          },
          "xaxis": {
           "automargin": true,
           "gridcolor": "white",
           "linecolor": "white",
           "ticks": "",
           "title": {
            "standoff": 15
           },
           "zerolinecolor": "white",
           "zerolinewidth": 2
          },
          "yaxis": {
           "automargin": true,
           "gridcolor": "white",
           "linecolor": "white",
           "ticks": "",
           "title": {
            "standoff": 15
           },
           "zerolinecolor": "white",
           "zerolinewidth": 2
          }
         }
        },
        "width": 800,
        "xaxis": {
         "anchor": "y",
         "domain": [
          0,
          1
         ],
         "title": {
          "text": "x"
         }
        },
        "yaxis": {
         "anchor": "x",
         "domain": [
          0,
          1
         ],
         "title": {
          "text": "y"
         }
        }
       }
      }
     },
     "metadata": {},
     "output_type": "display_data"
    },
    {
     "name": "stderr",
     "output_type": "stream",
     "text": [
      "seen: 100%|██████████| 130/130 [00:11<00:00, 10.92batch/s, loss=0.131]\n"
     ]
    },
    {
     "data": {
      "image/png": "[encoded data removed]",
      "text/plain": [
       "<Figure size 640x480 with 2 Axes>"
      ]
     },
     "metadata": {},
     "output_type": "display_data"
    },
    {
     "name": "stderr",
     "output_type": "stream",
     "text": [
      "Training Epoch:  67%|██████▋   | 4/6 [02:16<01:08, 34.42s/it]"
     ]
    },
    {
     "name": "stdout",
     "output_type": "stream",
     "text": [
      "Overall accuracy: 0.863\n",
      "\n"
     ]
    },
    {
     "name": "stderr",
     "output_type": "stream",
     "text": [
      "train: 100%|██████████| 11/11 [00:01<00:00,  5.77batch/s, contrastive loss =3.25, reconstruction loss=0.0594]\n",
      "train: 100%|██████████| 523/523 [00:18<00:00, 28.34batch/s, loss=0.26, accuracy=0.906]\n"
     ]
    }
   ],
   "source": [
    "prep_dir = './tmp/epoch50_randsample_input_mseloss.pt'\n",
    "\n",
    "fold_metric_scores = []\n",
    "for i, cs in enumerate(fold_cls_ids):\n",
    "    print(\"=\"*16, f'Fold-{i}', \"=\"*16)\n",
    "    # print(f'Unseen Classes : {fold_classes[i]}')\n",
    "    # separate seen/unseen and train/eval \n",
    "    data_dict = dataReader.generate(unseen_classes=cs, seen_ratio=config['seen_split'], unseen_ratio=config['unseen_split'], window_size=5.21, window_overlap=4.21, resample_freq=20)\n",
    "    all_classes = dataReader.idToLabel\n",
    "    seen_classes = data_dict['seen_classes']\n",
    "    unseen_classes = data_dict['unseen_classes']\n",
    "\n",
    "    train_n, seq_len, in_ft = data_dict['train']['X'].shape\n",
    "\n",
    "    print(\"Initiate IMU datasets ...\")\n",
    "    # build IMU datasets\n",
    "    train_dt = PAMAP2Dataset(data=data_dict['train']['X'], actions=data_dict['train']['y'], attributes=skeleton_mov, attribute_dict=action_dict, action_classes=seen_classes, seq_len=100)\n",
    "    train_dl = DataLoader(train_dt, batch_size=config['batch_size'], shuffle=True, pin_memory=True, drop_last=True)\n",
    "    # build seen eval_dt \n",
    "    eval_dt = PAMAP2Dataset(data=data_dict['eval-seen']['X'], actions=data_dict['eval-seen']['y'], attributes=skeleton_mov, attribute_dict=action_dict, action_classes=seen_classes, seq_len=100)\n",
    "    eval_dl = DataLoader(eval_dt, batch_size=config['batch_size'], shuffle=True, pin_memory=True, drop_last=True)\n",
    "    # build unseen test_dt\n",
    "    test_dt = PAMAP2Dataset(data=data_dict['test']['X'], actions=data_dict['test']['y'], attributes=skeleton_mov, attribute_dict=action_dict, action_classes=unseen_classes, seq_len=100)\n",
    "    test_dl = DataLoader(test_dt, batch_size=config['batch_size'], shuffle=True, pin_memory=True, drop_last=True)\n",
    "    \n",
    "    print(\"Initiate Skeleton dataset ... \")\n",
    "    # build Skeleton dataset \n",
    "    skel_dt = SkeletonDataset(skeleton_mov, skeleton_Ids, action_dict, seq_len=config['seq_len'])\n",
    "    skel_dl = DataLoader(skel_dt, batch_size=config['batch_size']//2, shuffle=True, pin_memory=True, drop_last=True)\n",
    "    skel_n, skel_fts = skel_dt.getShape()\n",
    "    \n",
    "    print(\"Initial Models ...\")\n",
    "    # build IMU Encoder Model \n",
    "    imu_model = Model6a(in_ft=in_ft, d_model=config['d_model'], num_heads=config['num_heads'], ft_size=config['feat_size'], max_len=seq_len, n_classes=len(seen_classes))\n",
    "    imu_model.to(device)\n",
    "\n",
    "    # build AE Model \n",
    "    # ae_model = BiLSTMEncDecModel(input_size=skel_fts, seq_len=skel_n, hidden_size=config['feat_size'], batch_size=config['batch_size'], ae_type='recursive', device=device)\n",
    "    ae_model = BiLSTMEncDecModel(seq_len=skel_n, input_size=skel_fts, hidden_size=512, linear_filters=[128,256,512], embedding_size=config['feat_size'], num_layers=1, bidirectional=True, batch_size=config['batch_size'], device=device)\n",
    "    # ae_model = BiLSTMEncDecModel(seq_len=50, input_size=36, hidden_size=512, linear_filters=[128,256,512], embedding_size=256, num_layers=1,bidirectional=True,batch_size=32, device=device)\n",
    "    # ae_model.load_state_dict(torch.load(prep_dir))\n",
    "    ae_model.to(device)\n",
    "    \n",
    "    # define IMU-Enc run parameters \n",
    "    imu_optim = Adam(imu_model.parameters(), lr=config['imu_lr'])\n",
    "    imu_loss_module = {'class': nn.CrossEntropyLoss(), 'feature': L1Loss()}\n",
    "    best_acc = 0.0\n",
    "\n",
    "    # define AE run parameters \n",
    "    ae_optim = Adam(ae_model.parameters(), lr=config['ae_lr'])\n",
    "    ae_loss_module = {'contrast': SupConLoss(contrast_mode='one'), 'recons': nn.MSELoss()}\n",
    "\n",
    "    print(\"Start Models training ...\")\n",
    "    # train 2 models E2E\n",
    "    for epoch in tqdm(range(config['n_epochs']), desc='Training Epoch', leave=False):\n",
    "        # train AE model \n",
    "        ae_train_metrics = ae_train_step1(ae_model, skel_dl, ae_optim, ae_loss_module, device, config['batch_size'], phase='train', loss_alpha=config['ae_alpha'])\n",
    "        # train IMU-Enc model\n",
    "        train_metrics = imu_train_step1(imu_model, ae_model, train_dl, skel_dt, imu_optim, imu_loss_module, device, class_names=[all_classes[i] for i in seen_classes], class_ids=seen_classes, phase='train', loss_alpha=config['imu_alpha'], batch_size=32)\n",
    "        eval_metrics = eval_step1(imu_model, ae_model, eval_dl, skel_dt, imu_loss_module, device=device, class_names=[all_classes[i] for i in seen_classes], class_ids=seen_classes,  target_feat_met=eval_dt.getClassAttrs(), phase='seen', print_report=False, loss_alpha=config['imu_alpha'], batch_size=config['batch_size'], show_plot=True)\n",
    "        # print(f\"EPOCH [{epoch}] TRAINING : {train_metrics}\")\n",
    "        # print(f\"EPOCH [{epoch}] EVAL : {eval_metrics}\")\n",
    "        if eval_metrics['total_accuracy'] > best_acc:\n",
    "            imu_best_model = deepcopy(imu_model.state_dict())\n",
    "\n",
    "    # replace by best model \n",
    "    imu_model.load_state_dict(imu_best_model)\n",
    "\n",
    "    # run evaluation on unseen classes\n",
    "    test_metrics = eval_step1(imu_model, ae_model, test_dl, skel_dt, imu_loss_module, device=device, class_names=[all_classes[i] for i in unseen_classes], class_ids=unseen_classes,  target_feat_met=test_dt.getClassAttrs(), phase='unseen', loss_alpha=0.8, batch_size=config['batch_size'])\n",
    "    fold_metric_scores.append(test_metrics)\n",
    "    print(test_metrics)\n",
    "    print(\"=\"*40)\n",
    "\n",
    "print(\"=\"*14, \"Overall Unseen Classes Performance\", \"=\"*14)\n",
    "seen_score_df = pd.DataFrame.from_records(fold_metric_scores)\n",
    "seen_score_df.mean()\n",
    "    "
   ]
  },
  {
   "cell_type": "code",
   "execution_count": null,
   "metadata": {},
   "outputs": [],
   "source": []
  }
 ],
 "metadata": {
  "kernelspec": {
   "display_name": "Python 3.8.13 ('mvts_trans')",
   "language": "python",
   "name": "python3"
  },
  "language_info": {
   "codemirror_mode": {
    "name": "ipython",
    "version": 3
   },
   "file_extension": ".py",
   "mimetype": "text/x-python",
   "name": "python",
   "nbconvert_exporter": "python",
   "pygments_lexer": "ipython3",
   "version": "3.8.13"
  },
  "orig_nbformat": 4,
  "vscode": {
   "interpreter": {
    "hash": "ccc35149ad8fa032444ebff1245e6ef176e6c1ce3af8dec48e3374f21a6b0f27"
   }
  }
 },
 "nbformat": 4,
 "nbformat_minor": 2
}
