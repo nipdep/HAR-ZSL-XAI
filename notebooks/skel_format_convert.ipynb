{
 "cells": [
  {
   "cell_type": "code",
   "execution_count": 11,
   "metadata": {},
   "outputs": [],
   "source": [
    "import numpy as np \n",
    "import cv2 "
   ]
  },
  {
   "cell_type": "code",
   "execution_count": 6,
   "metadata": {},
   "outputs": [],
   "source": [
    "data = np.load(\"../data/running (1).npz\")\n",
    "blaze_pose = data['blaze_pose']\n",
    "nturgb120 = data[\"nturgb120\"]"
   ]
  },
  {
   "cell_type": "code",
   "execution_count": 7,
   "metadata": {},
   "outputs": [
    {
     "data": {
      "text/plain": [
       "(10, 60, 12, 2)"
      ]
     },
     "execution_count": 7,
     "metadata": {},
     "output_type": "execute_result"
    }
   ],
   "source": [
    "blaze_pose.shape"
   ]
  },
  {
   "cell_type": "code",
   "execution_count": 8,
   "metadata": {},
   "outputs": [
    {
     "data": {
      "text/plain": [
       "(10, 90, 12, 2)"
      ]
     },
     "execution_count": 8,
     "metadata": {},
     "output_type": "execute_result"
    }
   ],
   "source": [
    "nturgb120.shape"
   ]
  },
  {
   "cell_type": "code",
   "execution_count": 29,
   "metadata": {},
   "outputs": [],
   "source": [
    "def gen_skeleton(frame, \n",
    "                 height,\n",
    "                 width,\n",
    "                 mapping_list = [(0, 1), (1, 3), (3, 5), \n",
    "                                 (0, 2), (2, 4), (0, 6), \n",
    "                                 (1, 7), (6, 7), (6, 8), \n",
    "                                 (7, 9), (8, 10), (9, 11)]):\n",
    "    img_3 = np.zeros([height, width,3],dtype=np.uint8)\n",
    "    img_3.fill(255)\n",
    "\n",
    "    # add circles\n",
    "    for i, coord in enumerate(frame):\n",
    "        x, y = int(width*coord[0]), int(height*coord[1])\n",
    "        img_3 = cv2.circle(img_3, center=(x,y), radius=1, color=(255, 0, 0), thickness=6)\n",
    "        img_3 = cv2.putText(img_3, f'{i}', (x,y), cv2.FONT_HERSHEY_SIMPLEX, 1, (255,0,0), 2, cv2.LINE_AA)\n",
    "    # add lines\n",
    "    for line in mapping_list:\n",
    "        i, j = line\n",
    "        st = frame[i, :]\n",
    "        start_point = (int(width*st[0]), int(height*st[1]))\n",
    "\n",
    "        en = frame[j, :]\n",
    "        end_point = (int(width*en[0]), int(height*en[1]))\n",
    "\n",
    "        img_3 = cv2.line(img_3, start_point, end_point, color=(0, 0, 0), thickness=3)\n",
    "\n",
    "    return img_3\n",
    "\n",
    "def gen_video(points, \n",
    "              save_file, \n",
    "              frame_h, \n",
    "              frame_w, \n",
    "              is_3d=True,\n",
    "              mapping_list = [(0, 1), (1, 3), (3, 5), \n",
    "                                 (0, 2), (2, 4), (0, 6), \n",
    "                                 (1, 7), (6, 7), (6, 8), \n",
    "                                 (7, 9), (8, 10), (9, 11)]):\n",
    "    # make 3D if points are flatten\n",
    "    if len(points.shape) == 2:\n",
    "        if is_3d:\n",
    "          fts = points.shape[1]\n",
    "          x_cds = list(range(0, fts, 3))\n",
    "          y_cds = list(range(1, fts, 3))\n",
    "          z_cds = list(range(2, fts, 3))\n",
    "          points = np.transpose(np.array([points[:, x_cds], \n",
    "                                          points[:, y_cds], \n",
    "                                          points[:, z_cds]]), (1,2,0))\n",
    "        else:\n",
    "          fts = points.shape[1]\n",
    "          x_cds = list(range(0, fts, 2))\n",
    "          y_cds = list(range(1, fts, 2))\n",
    "          points = np.transpose(np.array([points[:, x_cds], \n",
    "                                          points[:, y_cds]]), (1,2,0))\n",
    "\n",
    "    size = (frame_w, frame_h)\n",
    "    result = cv2.VideoWriter(save_file,\n",
    "                         cv2.VideoWriter_fourcc(*'MJPG'),\n",
    "                         10, size)\n",
    "\n",
    "    for __id,frame in enumerate(points):\n",
    "        skel_image = gen_skeleton(frame, frame_h, frame_w,mapping_list=mapping_list)\n",
    "        result.write(skel_image)\n",
    "\n",
    "    result.release()"
   ]
  },
  {
   "cell_type": "code",
   "execution_count": 30,
   "metadata": {},
   "outputs": [],
   "source": [
    "gen_video(blaze_pose[0, ...], '../data/blazepose_1.mp4', frame_h=768, frame_w=512, is_3d=False)"
   ]
  },
  {
   "cell_type": "code",
   "execution_count": 56,
   "metadata": {},
   "outputs": [
    {
     "name": "stdout",
     "output_type": "stream",
     "text": [
      "[[0.54797024 0.60294735]\n",
      " [0.5205617  0.59400249]\n",
      " [0.55808204 0.64982289]\n",
      " [0.50948101 0.61618036]\n",
      " [0.54365098 0.67001748]\n",
      " [0.49786344 0.63865703]\n",
      " [0.52284491 0.6459319 ]\n",
      " [0.5105415  0.62664694]\n",
      " [0.51880586 0.69901687]\n",
      " [0.49988976 0.62786216]\n",
      " [0.51609308 0.73129869]\n",
      " [0.4961406  0.640926  ]]\n"
     ]
    }
   ],
   "source": [
    "print(blaze_pose[1, 0, ...])"
   ]
  },
  {
   "cell_type": "code",
   "execution_count": 34,
   "metadata": {},
   "outputs": [],
   "source": [
    "# index_map = [4,2,0,1,3,5,6,8,10,7,9,11]\n",
    "index_map = [2,3,1,4,0,5,6,9,7,10,8,11]\n",
    "repositioned_nturgbd120 = nturgb120[:, :, index_map, :]"
   ]
  },
  {
   "cell_type": "code",
   "execution_count": 31,
   "metadata": {},
   "outputs": [],
   "source": [
    "gen_video(nturgb120[0, ...], '../data/nturgbd120_1.mp4', frame_h=768, frame_w=512, is_3d=False)"
   ]
  },
  {
   "cell_type": "code",
   "execution_count": 35,
   "metadata": {},
   "outputs": [],
   "source": [
    "gen_video(repositioned_nturgbd120[0, ...], '../data/rep_nturgbd120_1.mp4', frame_h=768, frame_w=512, is_3d=False)"
   ]
  },
  {
   "cell_type": "code",
   "execution_count": 57,
   "metadata": {},
   "outputs": [
    {
     "name": "stdout",
     "output_type": "stream",
     "text": [
      "[[0.44018828 0.59652898]\n",
      " [0.43288219 0.5395587 ]\n",
      " [0.42487099 0.46394463]\n",
      " [0.39120161 0.47150315]\n",
      " [0.38649667 0.5362738 ]\n",
      " [0.40198146 0.60957833]\n",
      " [0.4215476  0.59995435]\n",
      " [0.42048292 0.68824981]\n",
      " [0.41535443 0.76686593]\n",
      " [0.40649042 0.60542204]\n",
      " [0.40113177 0.6937612 ]\n",
      " [0.39785135 0.7749675 ]]\n"
     ]
    }
   ],
   "source": [
    "print(nturgb120[1, 0, ...])"
   ]
  },
  {
   "cell_type": "code",
   "execution_count": 40,
   "metadata": {},
   "outputs": [
    {
     "data": {
      "text/plain": [
       "(3, 2)"
      ]
     },
     "execution_count": 40,
     "metadata": {},
     "output_type": "execute_result"
    }
   ],
   "source": [
    "sample_arr = np.array([[1,2], [3,4], [5,6]])\n",
    "sample_arr.shape"
   ]
  },
  {
   "cell_type": "code",
   "execution_count": 38,
   "metadata": {},
   "outputs": [
    {
     "data": {
      "text/plain": [
       "array([1, 2, 3, 4, 5, 6])"
      ]
     },
     "execution_count": 38,
     "metadata": {},
     "output_type": "execute_result"
    }
   ],
   "source": [
    "sample_arr.reshape(-1)"
   ]
  },
  {
   "attachments": {},
   "cell_type": "markdown",
   "metadata": {},
   "source": [
    "---"
   ]
  },
  {
   "cell_type": "code",
   "execution_count": 41,
   "metadata": {},
   "outputs": [],
   "source": [
    "from collections import defaultdict\n",
    "from functools import reduce"
   ]
  },
  {
   "cell_type": "code",
   "execution_count": 42,
   "metadata": {},
   "outputs": [],
   "source": [
    "skeleton_data = np.load('../data/skeleton_mediapipe.npz')\n",
    "skeleton_classes, skeleton_mov = skeleton_data['arr_0'], skeleton_data['arr_1']\n",
    "new_fts = [i for i in range(skeleton_mov.shape[-1]) if i%3 != 2]\n",
    "seq_len = 60\n",
    "skeleton_mov = skeleton_mov[:, :seq_len, new_fts]\n",
    "\n",
    "skel_mean = defaultdict(list)\n",
    "for i,c in enumerate(skeleton_classes):\n",
    "    skel_mean[c] = skeleton_mov[i]"
   ]
  },
  {
   "cell_type": "code",
   "execution_count": 44,
   "metadata": {},
   "outputs": [],
   "source": [
    "def order_skels(skel):\n",
    "  joint_map = [4,2,0,1,3,5,6,8,10,7,9,11]\n",
    "  index_map = reduce(lambda acc, ele : acc + [2*ele,2*ele+1], joint_map, [])\n",
    "  ordered_skel = skel[:, :, index_map]\n",
    "  return ordered_skel \n",
    "\n",
    "def reorder_skels(skel):\n",
    "  joint_map = [2,3,1,4,0,5,6,9,7,10,8,11]\n",
    "  index_map = reduce(lambda acc, ele : acc + [2*ele,2*ele+1], joint_map, [])\n",
    "  reordered_skel = skel[:, :, index_map]\n",
    "  return reordered_skel"
   ]
  },
  {
   "cell_type": "code",
   "execution_count": 45,
   "metadata": {},
   "outputs": [
    {
     "data": {
      "text/plain": [
       "(177, 60, 24)"
      ]
     },
     "execution_count": 45,
     "metadata": {},
     "output_type": "execute_result"
    }
   ],
   "source": [
    "skeleton_mov.shape"
   ]
  },
  {
   "cell_type": "code",
   "execution_count": 46,
   "metadata": {},
   "outputs": [
    {
     "data": {
      "text/plain": [
       "(177, 60, 24)"
      ]
     },
     "execution_count": 46,
     "metadata": {},
     "output_type": "execute_result"
    }
   ],
   "source": [
    "ordered_skel_mov = order_skels(skeleton_mov)\n",
    "ordered_skel_mov.shape "
   ]
  },
  {
   "cell_type": "code",
   "execution_count": 47,
   "metadata": {},
   "outputs": [
    {
     "data": {
      "text/plain": [
       "(177, 60, 24)"
      ]
     },
     "execution_count": 47,
     "metadata": {},
     "output_type": "execute_result"
    }
   ],
   "source": [
    "reordered_skel_mov = reorder_skels(ordered_skel_mov)\n",
    "reordered_skel_mov.shape"
   ]
  },
  {
   "cell_type": "code",
   "execution_count": 52,
   "metadata": {},
   "outputs": [],
   "source": [
    "mov1 = skeleton_mov[1, ...]\n",
    "ord_mov1 = ordered_skel_mov[1, ...]\n",
    "reord_mov1 = reordered_skel_mov[1, ...]"
   ]
  },
  {
   "cell_type": "code",
   "execution_count": 53,
   "metadata": {},
   "outputs": [],
   "source": [
    "gen_video(mov1, '../data/blz_org_2.mp4', frame_h=768, frame_w=512, is_3d=False)"
   ]
  },
  {
   "cell_type": "code",
   "execution_count": 54,
   "metadata": {},
   "outputs": [],
   "source": [
    "gen_video(ord_mov1, '../data/blz_ord_org_2.mp4', frame_h=768, frame_w=512, is_3d=False)"
   ]
  },
  {
   "cell_type": "code",
   "execution_count": 55,
   "metadata": {},
   "outputs": [],
   "source": [
    "gen_video(reord_mov1, '../data/blz_reord_ord_org_2.mp4', frame_h=768, frame_w=512, is_3d=False)"
   ]
  },
  {
   "cell_type": "code",
   "execution_count": null,
   "metadata": {},
   "outputs": [],
   "source": []
  }
 ],
 "metadata": {
  "kernelspec": {
   "display_name": "fyp_env",
   "language": "python",
   "name": "python3"
  },
  "language_info": {
   "codemirror_mode": {
    "name": "ipython",
    "version": 3
   },
   "file_extension": ".py",
   "mimetype": "text/x-python",
   "name": "python",
   "nbconvert_exporter": "python",
   "pygments_lexer": "ipython3",
   "version": "3.9.16"
  },
  "orig_nbformat": 4
 },
 "nbformat": 4,
 "nbformat_minor": 2
}
