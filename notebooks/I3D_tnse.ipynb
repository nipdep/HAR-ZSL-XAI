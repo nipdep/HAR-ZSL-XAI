{
  "cells": [
    {
      "cell_type": "code",
      "execution_count": 1,
      "metadata": {
        "colab": {
          "base_uri": "https://localhost:8080/"
        },
        "id": "BOQ283p6_ewO",
        "outputId": "5b10992f-f25f-4490-ac88-e5c517db42aa"
      },
      "outputs": [
        {
          "name": "stdout",
          "output_type": "stream",
          "text": [
            "Looking in indexes: https://pypi.org/simple, https://us-python.pkg.dev/colab-wheels/public/simple/\n",
            "Collecting chart_studio\n",
            "  Downloading chart_studio-1.1.0-py3-none-any.whl (64 kB)\n",
            "\u001b[2K     \u001b[90m━━━━━━━━━━━━━━━━━━━━━━━━━━━━━━━━━━━━━━━━\u001b[0m \u001b[32m64.4/64.4 KB\u001b[0m \u001b[31m4.2 MB/s\u001b[0m eta \u001b[36m0:00:00\u001b[0m\n",
            "\u001b[?25hRequirement already satisfied: six in /usr/local/lib/python3.9/dist-packages (from chart_studio) (1.16.0)\n",
            "Requirement already satisfied: plotly in /usr/local/lib/python3.9/dist-packages (from chart_studio) (5.13.1)\n",
            "Collecting retrying>=1.3.3\n",
            "  Downloading retrying-1.3.4-py3-none-any.whl (11 kB)\n",
            "Requirement already satisfied: requests in /usr/local/lib/python3.9/dist-packages (from chart_studio) (2.27.1)\n",
            "Requirement already satisfied: tenacity>=6.2.0 in /usr/local/lib/python3.9/dist-packages (from plotly->chart_studio) (8.2.2)\n",
            "Requirement already satisfied: idna<4,>=2.5 in /usr/local/lib/python3.9/dist-packages (from requests->chart_studio) (3.4)\n",
            "Requirement already satisfied: certifi>=2017.4.17 in /usr/local/lib/python3.9/dist-packages (from requests->chart_studio) (2022.12.7)\n",
            "Requirement already satisfied: charset-normalizer~=2.0.0 in /usr/local/lib/python3.9/dist-packages (from requests->chart_studio) (2.0.12)\n",
            "Requirement already satisfied: urllib3<1.27,>=1.21.1 in /usr/local/lib/python3.9/dist-packages (from requests->chart_studio) (1.26.15)\n",
            "Installing collected packages: retrying, chart_studio\n",
            "Successfully installed chart_studio-1.1.0 retrying-1.3.4\n"
          ]
        }
      ],
      "source": [
        "# !pip install chart_studio"
      ]
    },
    {
      "cell_type": "code",
      "execution_count": 2,
      "metadata": {
        "colab": {
          "base_uri": "https://localhost:8080/"
        },
        "id": "SRdDHCz_CXIC",
        "outputId": "694c74a1-0386-45e7-881d-f7a5e2ce5848"
      },
      "outputs": [
        {
          "name": "stdout",
          "output_type": "stream",
          "text": [
            "Mounted at /content/drive\n"
          ]
        }
      ],
      "source": [
        "# from google.colab import drive\n",
        "# drive.mount('/content/drive')"
      ]
    },
    {
      "cell_type": "code",
      "execution_count": 1,
      "metadata": {
        "id": "7lQ3iITSCcXa"
      },
      "outputs": [],
      "source": [
        "import numpy as np \n",
        "import pandas as pd \n",
        "import pickle\n",
        "from sklearn.manifold import TSNE\n",
        "# from umap import UMAP\n",
        "\n",
        "import matplotlib.pyplot as plt \n",
        "import seaborn as sns \n",
        "import plotly.express as px"
      ]
    },
    {
      "cell_type": "code",
      "execution_count": 2,
      "metadata": {
        "id": "kZZdFZN3_0S_"
      },
      "outputs": [],
      "source": [
        "import chart_studio\n",
        "import chart_studio.plotly as py \n",
        "import chart_studio.tools as tls\n",
        "\n"
      ]
    },
    {
      "cell_type": "code",
      "execution_count": 3,
      "metadata": {
        "id": "BiRjUldXAaKw"
      },
      "outputs": [],
      "source": [
        "plotly_user = 'nipdep'\n",
        "plotly_key = 'TTCUMtVJ5H0BTasvFG7T'\n",
        "chart_studio.tools.set_credentials_file(username=plotly_user, api_key=plotly_key)"
      ]
    },
    {
      "cell_type": "code",
      "execution_count": 4,
      "metadata": {
        "id": "jFetarGRCc9A"
      },
      "outputs": [],
      "source": [
        "def read_I3D_pkl(loc,feat_size=\"400\"):\n",
        "  if feat_size == \"400\":\n",
        "    feat_index = 1\n",
        "  elif feat_size == \"2048\":\n",
        "    feat_index = 0\n",
        "  else:\n",
        "    raise NotImplementedError()\n",
        "\n",
        "  with open(loc,\"rb\") as f0:\n",
        "    __data = pickle.load(f0)\n",
        "\n",
        "  label = []\n",
        "  prototype = []\n",
        "  for k,v in __data.items():\n",
        "    label.append(k)\n",
        "    all_arr = [x[feat_index] for x in v]\n",
        "    all_arr = np.asarray(all_arr).mean(axis=0)\n",
        "    prototype.append(all_arr)\n",
        "\n",
        "  label = np.asarray(label)\n",
        "  prototype = np.array(prototype)\n",
        "  return {\"activity\":label, \"features\":prototype}"
      ]
    },
    {
      "cell_type": "code",
      "execution_count": 5,
      "metadata": {
        "id": "Epykz0LYCzPP"
      },
      "outputs": [],
      "source": [
        "data_root = '/content/drive/MyDrive/22_FYP42 - Zero-shot Explainable HAR/Datasets/Consolidated/PAMPA2'"
      ]
    },
    {
      "cell_type": "code",
      "execution_count": 6,
      "metadata": {
        "id": "gPeU_VTvCgrm"
      },
      "outputs": [],
      "source": [
        "I3D_data_path  = '../data/PAMAP2_Dataset/I3D/video_feat.pkl'\n",
        "video_data = read_I3D_pkl(I3D_data_path, feat_size=\"400\")\n",
        "video_classes, attr_mat = video_data['activity'], video_data['features']"
      ]
    },
    {
      "cell_type": "code",
      "execution_count": 7,
      "metadata": {
        "id": "6l_kLEK7DTAc"
      },
      "outputs": [],
      "source": [
        "with open(I3D_data_path, \"rb\") as f0:\n",
        "    data = pickle.load(f0)"
      ]
    },
    {
      "cell_type": "code",
      "execution_count": 8,
      "metadata": {
        "colab": {
          "base_uri": "https://localhost:8080/"
        },
        "id": "K12V7xFODXW2",
        "outputId": "25e9edb2-a40a-4ce0-fe46-d39e5598d65d"
      },
      "outputs": [
        {
          "data": {
            "text/plain": [
              "dict_keys(['Nordic walking', 'running', 'ironing', 'ascending stairs', 'vacuum cleaning', 'walking', 'watching TV', 'computer work', 'playing soccer', 'car driving', 'house cleaning', 'standing', 'folding laundry', 'rope jumping', 'lying', 'sitting', 'descending stairs', 'cycling'])"
            ]
          },
          "execution_count": 8,
          "metadata": {},
          "output_type": "execute_result"
        }
      ],
      "source": [
        "data.keys()"
      ]
    },
    {
      "cell_type": "code",
      "execution_count": 9,
      "metadata": {
        "colab": {
          "base_uri": "https://localhost:8080/"
        },
        "id": "5PsUZVQADju1",
        "outputId": "6b06224d-38bb-4403-c977-35f9c4621c73"
      },
      "outputs": [
        {
          "data": {
            "text/plain": [
              "(15, 2048)"
            ]
          },
          "execution_count": 9,
          "metadata": {},
          "output_type": "execute_result"
        }
      ],
      "source": [
        "emb_400 = np.array([i[0] for i in data['running']])\n",
        "emb_400.shape"
      ]
    },
    {
      "cell_type": "code",
      "execution_count": 10,
      "metadata": {
        "colab": {
          "base_uri": "https://localhost:8080/"
        },
        "id": "_oJTbk5qDBCK",
        "outputId": "1bf53c3a-5bd1-4d64-9fa9-10589be1f9ce"
      },
      "outputs": [
        {
          "data": {
            "text/plain": [
              "array(['Nordic walking', 'running', 'ironing', 'ascending stairs',\n",
              "       'vacuum cleaning', 'walking', 'watching TV', 'computer work',\n",
              "       'playing soccer', 'car driving', 'house cleaning', 'standing',\n",
              "       'folding laundry', 'rope jumping', 'lying', 'sitting',\n",
              "       'descending stairs', 'cycling'], dtype='<U17')"
            ]
          },
          "execution_count": 10,
          "metadata": {},
          "output_type": "execute_result"
        }
      ],
      "source": [
        "video_classes"
      ]
    },
    {
      "cell_type": "code",
      "execution_count": 11,
      "metadata": {
        "id": "KK-NBXhwDDZw"
      },
      "outputs": [],
      "source": [
        "all_embs = []\n",
        "all_ys = []\n",
        "for k, v in data.items():\n",
        "    emb_400 = np.array([i[0] for i in v])\n",
        "    yn = emb_400.shape[0]\n",
        "    all_ys.extend([k,]*yn)\n",
        "    all_embs.extend(emb_400)\n"
      ]
    },
    {
      "cell_type": "code",
      "execution_count": 12,
      "metadata": {
        "colab": {
          "base_uri": "https://localhost:8080/"
        },
        "id": "w8Se6K9mFno8",
        "outputId": "a7d2e9aa-dee7-4028-bde8-712a31600e0f"
      },
      "outputs": [
        {
          "data": {
            "text/plain": [
              "((224, 2048), (224,))"
            ]
          },
          "execution_count": 12,
          "metadata": {},
          "output_type": "execute_result"
        }
      ],
      "source": [
        "all_embs_np = np.array(all_embs)\n",
        "all_ys_np = np.array(all_ys)\n",
        "\n",
        "all_embs_np.shape, all_ys_np.shape"
      ]
    },
    {
      "cell_type": "code",
      "execution_count": 13,
      "metadata": {
        "id": "izu8QGVyCxXC"
      },
      "outputs": [],
      "source": [
        "def plot_tsne(X, y):\n",
        "    tnse = TSNE(n_components=2, init='random', learning_rate='auto', perplexity=15, n_iter=1000)\n",
        "    cmp_data = tnse.fit_transform(X)\n",
        "\n",
        "    cmp_df = pd.DataFrame(data=cmp_data, columns=['x', 'y'])\n",
        "    cmp_df['action'] = y\n",
        "\n",
        "    fig = px.scatter(cmp_df, x='x', y='y', color='action', width=800, height=800, title='t-SNE')\n",
        "    fig.show()\n",
        "    return fig"
      ]
    },
    {
      "cell_type": "code",
      "execution_count": 14,
      "metadata": {
        "colab": {
          "base_uri": "https://localhost:8080/",
          "height": 817
        },
        "id": "AHUxKV80FzO0",
        "outputId": "33035b9c-d793-48d0-ff59-f489582c2df0"
      },
      "outputs": [
        {
          "data": {
            "application/vnd.plotly.v1+json": {
              "config": {
                "plotlyServerURL": "https://plotly.com"
              },
              "data": [
                {
                  "hoverlabel": {
                    "namelength": 0
                  },
                  "hovertemplate": "action=Nordic walking<br>x=%{x}<br>y=%{y}",
                  "legendgroup": "action=Nordic walking",
                  "marker": {
                    "color": "#636efa",
                    "symbol": "circle"
                  },
                  "mode": "markers",
                  "name": "action=Nordic walking",
                  "showlegend": true,
                  "type": "scatter",
                  "x": [
                    -26.225065231323242,
                    -27.158123016357422,
                    -26.801240921020508,
                    -26.536067962646484,
                    -19.60649299621582,
                    -26.926755905151367,
                    -26.2717227935791,
                    -27.02326011657715,
                    -26.750499725341797,
                    -26.17378044128418,
                    -20.112197875976562,
                    -21.503616333007812,
                    -21.869873046875,
                    -20.85296058654785,
                    -19.654287338256836,
                    -20.35629653930664,
                    -21.00632667541504,
                    -20.43030548095703,
                    -18.130521774291992,
                    -17.774553298950195,
                    -18.130535125732422
                  ],
                  "xaxis": "x",
                  "y": [
                    10.295124053955078,
                    10.077527046203613,
                    10.552779197692871,
                    9.44316291809082,
                    0.5320337414741516,
                    1.8922953605651855,
                    1.6276657581329346,
                    1.062611699104309,
                    0.325699120759964,
                    2.495424747467041,
                    2.603097915649414,
                    2.4035611152648926,
                    3.634523868560791,
                    2.02976655960083,
                    4.002540111541748,
                    5.365219593048096,
                    5.181764602661133,
                    4.497304439544678,
                    2.7316718101501465,
                    4.228119850158691,
                    2.7315049171447754
                  ],
                  "yaxis": "y"
                },
                {
                  "hoverlabel": {
                    "namelength": 0
                  },
                  "hovertemplate": "action=running<br>x=%{x}<br>y=%{y}",
                  "legendgroup": "action=running",
                  "marker": {
                    "color": "#EF553B",
                    "symbol": "circle"
                  },
                  "mode": "markers",
                  "name": "action=running",
                  "showlegend": true,
                  "type": "scatter",
                  "x": [
                    -17.595090866088867,
                    -15.901165962219238,
                    -15.412457466125488,
                    -14.375937461853027,
                    -17.4070987701416,
                    -15.966283798217773,
                    -16.32650375366211,
                    -14.223187446594238,
                    -14.852890968322754,
                    -19.329429626464844,
                    -20.0384464263916,
                    -20.3718204498291,
                    -19.05756187438965,
                    -15.728924751281738,
                    -17.222972869873047
                  ],
                  "xaxis": "x",
                  "y": [
                    -9.602998733520508,
                    -1.8630632162094116,
                    -1.1693686246871948,
                    -0.7903038859367371,
                    -3.8004422187805176,
                    -2.6942312717437744,
                    -5.6000895500183105,
                    -3.114380121231079,
                    -2.3193724155426025,
                    -11.014935493469238,
                    -12.386869430541992,
                    -12.179360389709473,
                    -11.011958122253418,
                    0.06428533047437668,
                    -2.359107732772827
                  ],
                  "yaxis": "y"
                },
                {
                  "hoverlabel": {
                    "namelength": 0
                  },
                  "hovertemplate": "action=ironing<br>x=%{x}<br>y=%{y}",
                  "legendgroup": "action=ironing",
                  "marker": {
                    "color": "#00cc96",
                    "symbol": "circle"
                  },
                  "mode": "markers",
                  "name": "action=ironing",
                  "showlegend": true,
                  "type": "scatter",
                  "x": [
                    38.100120544433594,
                    37.90736770629883,
                    31.753690719604492,
                    32.582855224609375,
                    33.03140640258789,
                    32.49922561645508,
                    33.038578033447266,
                    35.00093078613281,
                    35.598655700683594,
                    35.81249237060547,
                    34.09255599975586,
                    34.12779998779297
                  ],
                  "xaxis": "x",
                  "y": [
                    -3.591339111328125,
                    -3.5294764041900635,
                    -10.516439437866211,
                    -12.126147270202637,
                    -9.499770164489746,
                    -10.906105041503906,
                    -10.199085235595703,
                    -10.845056533813477,
                    -10.577021598815918,
                    -11.305331230163574,
                    -9.426398277282715,
                    -12.198738098144531
                  ],
                  "yaxis": "y"
                },
                {
                  "hoverlabel": {
                    "namelength": 0
                  },
                  "hovertemplate": "action=ascending stairs<br>x=%{x}<br>y=%{y}",
                  "legendgroup": "action=ascending stairs",
                  "marker": {
                    "color": "#ab63fa",
                    "symbol": "circle"
                  },
                  "mode": "markers",
                  "name": "action=ascending stairs",
                  "showlegend": true,
                  "type": "scatter",
                  "x": [
                    -1.749588131904602,
                    -1.6909561157226562,
                    -6.151743412017822,
                    -6.235973834991455,
                    -6.668400764465332,
                    -7.136216640472412,
                    -7.453654766082764,
                    -5.399796485900879,
                    -5.343070983886719,
                    -6.3034844398498535
                  ],
                  "xaxis": "x",
                  "y": [
                    4.86215877532959,
                    5.052043914794922,
                    1.17311429977417,
                    1.5463862419128418,
                    2.9709887504577637,
                    2.5341243743896484,
                    3.0052649974823,
                    -4.659887790679932,
                    -4.740607261657715,
                    -3.91911244392395
                  ],
                  "yaxis": "y"
                },
                {
                  "hoverlabel": {
                    "namelength": 0
                  },
                  "hovertemplate": "action=vacuum cleaning<br>x=%{x}<br>y=%{y}",
                  "legendgroup": "action=vacuum cleaning",
                  "marker": {
                    "color": "#FFA15A",
                    "symbol": "circle"
                  },
                  "mode": "markers",
                  "name": "action=vacuum cleaning",
                  "showlegend": true,
                  "type": "scatter",
                  "x": [
                    11.03946590423584,
                    10.953781127929688,
                    7.860591411590576,
                    7.547366619110107,
                    6.676413059234619,
                    8.243406295776367,
                    5.991849422454834,
                    12.175752639770508,
                    6.280211448669434,
                    6.526218891143799
                  ],
                  "xaxis": "x",
                  "y": [
                    -3.5824923515319824,
                    -3.6363155841827393,
                    -2.5858185291290283,
                    -2.6296567916870117,
                    -1.8487639427185059,
                    -3.4830734729766846,
                    -0.4155758321285248,
                    -3.1357274055480957,
                    0.8443360328674316,
                    -3.455484390258789
                  ],
                  "yaxis": "y"
                },
                {
                  "hoverlabel": {
                    "namelength": 0
                  },
                  "hovertemplate": "action=walking<br>x=%{x}<br>y=%{y}",
                  "legendgroup": "action=walking",
                  "marker": {
                    "color": "#19d3f3",
                    "symbol": "circle"
                  },
                  "mode": "markers",
                  "name": "action=walking",
                  "showlegend": true,
                  "type": "scatter",
                  "x": [
                    -3.086259603500366,
                    -2.9657859802246094,
                    -22.16171646118164,
                    -12.808928489685059,
                    -20.756784439086914,
                    -11.218832969665527,
                    -11.212752342224121,
                    -14.945487976074219,
                    -17.47919273376465,
                    -13.603033065795898
                  ],
                  "xaxis": "x",
                  "y": [
                    -0.3385491669178009,
                    -0.39402368664741516,
                    0.14512330293655396,
                    -2.407407283782959,
                    -5.650067329406738,
                    -9.057160377502441,
                    -9.062323570251465,
                    1.756009578704834,
                    -0.7390984296798706,
                    -4.701376914978027
                  ],
                  "yaxis": "y"
                },
                {
                  "hoverlabel": {
                    "namelength": 0
                  },
                  "hovertemplate": "action=watching TV<br>x=%{x}<br>y=%{y}",
                  "legendgroup": "action=watching TV",
                  "marker": {
                    "color": "#FF6692",
                    "symbol": "circle"
                  },
                  "mode": "markers",
                  "name": "action=watching TV",
                  "showlegend": true,
                  "type": "scatter",
                  "x": [
                    19.695343017578125,
                    19.695571899414062,
                    21.7061824798584,
                    27.605709075927734,
                    18.894929885864258,
                    18.67424201965332,
                    19.496435165405273,
                    18.030118942260742,
                    19.908218383789062,
                    19.315196990966797
                  ],
                  "xaxis": "x",
                  "y": [
                    14.909943580627441,
                    14.91025161743164,
                    3.8560359477996826,
                    5.627260208129883,
                    1.0998163223266602,
                    4.299706935882568,
                    3.3369622230529785,
                    2.741888999938965,
                    3.9903926849365234,
                    8.307415962219238
                  ],
                  "yaxis": "y"
                },
                {
                  "hoverlabel": {
                    "namelength": 0
                  },
                  "hovertemplate": "action=computer work<br>x=%{x}<br>y=%{y}",
                  "legendgroup": "action=computer work",
                  "marker": {
                    "color": "#B6E880",
                    "symbol": "circle"
                  },
                  "mode": "markers",
                  "name": "action=computer work",
                  "showlegend": true,
                  "type": "scatter",
                  "x": [
                    22.686683654785156,
                    21.436275482177734,
                    20.705965042114258,
                    20.53070831298828,
                    23.899076461791992,
                    21.95042610168457,
                    21.996017456054688,
                    22.969079971313477,
                    21.44281768798828,
                    23.22901725769043
                  ],
                  "xaxis": "x",
                  "y": [
                    9.103819847106934,
                    6.345110893249512,
                    7.394531726837158,
                    7.423856735229492,
                    10.173197746276855,
                    10.329597473144531,
                    10.178668975830078,
                    11.600172996520996,
                    5.533225059509277,
                    8.000452995300293
                  ],
                  "yaxis": "y"
                },
                {
                  "hoverlabel": {
                    "namelength": 0
                  },
                  "hovertemplate": "action=playing soccer<br>x=%{x}<br>y=%{y}",
                  "legendgroup": "action=playing soccer",
                  "marker": {
                    "color": "#FF97FF",
                    "symbol": "circle"
                  },
                  "mode": "markers",
                  "name": "action=playing soccer",
                  "showlegend": true,
                  "type": "scatter",
                  "x": [
                    -14.588226318359375,
                    -18.314807891845703,
                    -12.894743919372559,
                    -13.218450546264648,
                    -15.85874080657959,
                    -18.488704681396484,
                    -15.358904838562012,
                    -14.107290267944336,
                    -13.942389488220215,
                    -14.333353996276855
                  ],
                  "xaxis": "x",
                  "y": [
                    8.349557876586914,
                    9.612837791442871,
                    12.60676097869873,
                    12.784995079040527,
                    10.335306167602539,
                    9.584307670593262,
                    9.462629318237305,
                    13.31982421875,
                    10.044662475585938,
                    8.044716835021973
                  ],
                  "yaxis": "y"
                },
                {
                  "hoverlabel": {
                    "namelength": 0
                  },
                  "hovertemplate": "action=car driving<br>x=%{x}<br>y=%{y}",
                  "legendgroup": "action=car driving",
                  "marker": {
                    "color": "#FECB52",
                    "symbol": "circle"
                  },
                  "mode": "markers",
                  "name": "action=car driving",
                  "showlegend": true,
                  "type": "scatter",
                  "x": [
                    -44.84030532836914,
                    -44.1005859375,
                    -45.147037506103516,
                    -45.839820861816406,
                    -48.465030670166016,
                    -48.564849853515625,
                    -47.741207122802734,
                    -49.3569450378418,
                    -49.1466064453125,
                    -48.003963470458984,
                    -49.90629577636719,
                    -47.8717041015625,
                    -47.38444900512695,
                    -48.50914764404297,
                    -44.454627990722656,
                    -45.64568328857422
                  ],
                  "xaxis": "x",
                  "y": [
                    -4.654404163360596,
                    -5.137415885925293,
                    -5.566192626953125,
                    -4.915427207946777,
                    -4.484807014465332,
                    -3.411036491394043,
                    -3.7914488315582275,
                    -3.7069103717803955,
                    -2.1954379081726074,
                    -2.3783485889434814,
                    -1.3712387084960938,
                    -0.7390325665473938,
                    -1.5360952615737915,
                    -1.2027925252914429,
                    -3.9429879188537598,
                    -3.947246551513672
                  ],
                  "yaxis": "y"
                },
                {
                  "hoverlabel": {
                    "namelength": 0
                  },
                  "hovertemplate": "action=house cleaning<br>x=%{x}<br>y=%{y}",
                  "legendgroup": "action=house cleaning",
                  "marker": {
                    "color": "#636efa",
                    "symbol": "circle"
                  },
                  "mode": "markers",
                  "name": "action=house cleaning",
                  "showlegend": true,
                  "type": "scatter",
                  "x": [
                    17.107398986816406,
                    15.881814002990723,
                    14.518814086914062,
                    16.39308738708496,
                    16.47694969177246,
                    15.902358055114746,
                    14.83577823638916,
                    13.332386016845703,
                    14.168944358825684,
                    16.428264617919922
                  ],
                  "xaxis": "x",
                  "y": [
                    -7.615213394165039,
                    -5.363636493682861,
                    -7.7356791496276855,
                    -9.660405158996582,
                    -7.588066577911377,
                    -6.635680675506592,
                    -8.454299926757812,
                    -7.2686991691589355,
                    -8.24498462677002,
                    -9.259416580200195
                  ],
                  "yaxis": "y"
                },
                {
                  "hoverlabel": {
                    "namelength": 0
                  },
                  "hovertemplate": "action=standing<br>x=%{x}<br>y=%{y}",
                  "legendgroup": "action=standing",
                  "marker": {
                    "color": "#EF553B",
                    "symbol": "circle"
                  },
                  "mode": "markers",
                  "name": "action=standing",
                  "showlegend": true,
                  "type": "scatter",
                  "x": [
                    15.707664489746094,
                    12.613325119018555,
                    8.37619686126709,
                    20.848602294921875,
                    15.603154182434082,
                    17.781932830810547,
                    20.24188804626465,
                    16.19332504272461
                  ],
                  "xaxis": "x",
                  "y": [
                    5.452059745788574,
                    5.167610168457031,
                    0.9913065433502197,
                    1.213410496711731,
                    9.076592445373535,
                    4.649203777313232,
                    1.7148334980010986,
                    9.540899276733398
                  ],
                  "yaxis": "y"
                },
                {
                  "hoverlabel": {
                    "namelength": 0
                  },
                  "hovertemplate": "action=folding laundry<br>x=%{x}<br>y=%{y}",
                  "legendgroup": "action=folding laundry",
                  "marker": {
                    "color": "#00cc96",
                    "symbol": "circle"
                  },
                  "mode": "markers",
                  "name": "action=folding laundry",
                  "showlegend": true,
                  "type": "scatter",
                  "x": [
                    27.5145320892334,
                    24.519460678100586,
                    27.281444549560547,
                    25.331865310668945,
                    24.449878692626953,
                    26.834888458251953,
                    28.199176788330078,
                    25.270912170410156,
                    26.386451721191406,
                    20.291828155517578,
                    34.60445785522461,
                    34.931922912597656,
                    33.84174728393555,
                    40.83002853393555,
                    39.51749801635742,
                    39.14180374145508,
                    39.51738739013672,
                    32.019203186035156,
                    41.3717155456543,
                    42.014244079589844,
                    42.349708557128906,
                    43.192596435546875,
                    42.823814392089844
                  ],
                  "xaxis": "x",
                  "y": [
                    -3.676060676574707,
                    -0.8377869725227356,
                    -4.5707550048828125,
                    -0.32084739208221436,
                    -1.5419952869415283,
                    -3.1777424812316895,
                    -4.229299068450928,
                    -1.067225456237793,
                    -3.729050874710083,
                    5.293793678283691,
                    -7.632312297821045,
                    -7.131844520568848,
                    -7.580794811248779,
                    -4.429754257202148,
                    -3.8044092655181885,
                    -2.927326202392578,
                    -4.867193222045898,
                    -7.980948448181152,
                    -2.86118221282959,
                    -3.391657829284668,
                    -3.9725208282470703,
                    -3.181641101837158,
                    -2.435253858566284
                  ],
                  "yaxis": "y"
                },
                {
                  "hoverlabel": {
                    "namelength": 0
                  },
                  "hovertemplate": "action=rope jumping<br>x=%{x}<br>y=%{y}",
                  "legendgroup": "action=rope jumping",
                  "marker": {
                    "color": "#ab63fa",
                    "symbol": "circle"
                  },
                  "mode": "markers",
                  "name": "action=rope jumping",
                  "showlegend": true,
                  "type": "scatter",
                  "x": [
                    1.7316100597381592,
                    -0.8599919080734253,
                    4.3545026779174805,
                    1.1939414739608765,
                    1.7895824909210205,
                    -12.276227951049805,
                    4.500136852264404,
                    -0.8031895160675049,
                    4.23321008682251,
                    -0.5350907444953918
                  ],
                  "xaxis": "x",
                  "y": [
                    5.176873207092285,
                    8.48193073272705,
                    4.4749321937561035,
                    5.159840106964111,
                    3.9949514865875244,
                    0.2702887952327728,
                    2.9167699813842773,
                    7.22148323059082,
                    3.7082552909851074,
                    6.020929336547852
                  ],
                  "yaxis": "y"
                },
                {
                  "hoverlabel": {
                    "namelength": 0
                  },
                  "hovertemplate": "action=lying<br>x=%{x}<br>y=%{y}",
                  "legendgroup": "action=lying",
                  "marker": {
                    "color": "#FFA15A",
                    "symbol": "circle"
                  },
                  "mode": "markers",
                  "name": "action=lying",
                  "showlegend": true,
                  "type": "scatter",
                  "x": [
                    28.441879272460938,
                    28.442609786987305,
                    23.2213191986084,
                    8.69554615020752,
                    8.842000961303711,
                    9.350088119506836,
                    29.101186752319336,
                    29.12285041809082,
                    -9.996381759643555,
                    13.768122673034668
                  ],
                  "xaxis": "x",
                  "y": [
                    3.0368003845214844,
                    3.0081090927124023,
                    3.820798397064209,
                    15.695283889770508,
                    15.3736572265625,
                    15.762898445129395,
                    5.98814582824707,
                    6.0337371826171875,
                    -3.139848470687866,
                    0.7852731943130493
                  ],
                  "yaxis": "y"
                },
                {
                  "hoverlabel": {
                    "namelength": 0
                  },
                  "hovertemplate": "action=sitting<br>x=%{x}<br>y=%{y}",
                  "legendgroup": "action=sitting",
                  "marker": {
                    "color": "#19d3f3",
                    "symbol": "circle"
                  },
                  "mode": "markers",
                  "name": "action=sitting",
                  "showlegend": true,
                  "type": "scatter",
                  "x": [
                    12.540508270263672,
                    14.0200777053833,
                    14.26222038269043,
                    13.59469985961914,
                    13.532082557678223,
                    16.66919708251953,
                    16.625965118408203,
                    8.210118293762207,
                    7.890397548675537
                  ],
                  "xaxis": "x",
                  "y": [
                    5.149449825286865,
                    7.812435626983643,
                    7.7438435554504395,
                    9.998948097229004,
                    10.064037322998047,
                    7.233753681182861,
                    7.481235504150391,
                    0.5077373385429382,
                    0.977265477180481
                  ],
                  "yaxis": "y"
                },
                {
                  "hoverlabel": {
                    "namelength": 0
                  },
                  "hovertemplate": "action=descending stairs<br>x=%{x}<br>y=%{y}",
                  "legendgroup": "action=descending stairs",
                  "marker": {
                    "color": "#FF6692",
                    "symbol": "circle"
                  },
                  "mode": "markers",
                  "name": "action=descending stairs",
                  "showlegend": true,
                  "type": "scatter",
                  "x": [
                    -2.524679183959961,
                    2.9138309955596924,
                    2.84903883934021,
                    12.387068748474121,
                    -4.551031589508057,
                    0.1311667561531067,
                    0.23975622653961182,
                    -3.7906222343444824,
                    -4.755321025848389,
                    -1.2873097658157349
                  ],
                  "xaxis": "x",
                  "y": [
                    -2.6142466068267822,
                    8.714432716369629,
                    8.594618797302246,
                    0.8496657013893127,
                    -0.6652107238769531,
                    1.0209143161773682,
                    1.216404914855957,
                    1.606181263923645,
                    -6.165544033050537,
                    -2.714219093322754
                  ],
                  "yaxis": "y"
                },
                {
                  "hoverlabel": {
                    "namelength": 0
                  },
                  "hovertemplate": "action=cycling<br>x=%{x}<br>y=%{y}",
                  "legendgroup": "action=cycling",
                  "marker": {
                    "color": "#B6E880",
                    "symbol": "circle"
                  },
                  "mode": "markers",
                  "name": "action=cycling",
                  "showlegend": true,
                  "type": "scatter",
                  "x": [
                    -25.793041229248047,
                    -25.989213943481445,
                    -26.536880493164062,
                    -26.287630081176758,
                    -25.157211303710938,
                    -20.20437240600586,
                    -20.2816162109375,
                    -21.237743377685547,
                    -28.246204376220703,
                    -27.52146339416504,
                    -26.802473068237305,
                    -25.88022232055664,
                    -27.13324546813965,
                    -26.697153091430664,
                    -28.78260612487793,
                    -29.876144409179688,
                    -29.157859802246094,
                    -28.87306785583496,
                    -29.801525115966797,
                    -28.40683937072754
                  ],
                  "xaxis": "x",
                  "y": [
                    -10.213476181030273,
                    -9.202903747558594,
                    -9.707747459411621,
                    -8.388496398925781,
                    -8.922999382019043,
                    -2.75864839553833,
                    -2.410179615020752,
                    -2.0932116508483887,
                    -14.287858009338379,
                    -13.38056468963623,
                    -13.515398979187012,
                    -13.70211410522461,
                    -14.548545837402344,
                    -12.486926078796387,
                    -12.816241264343262,
                    -12.882363319396973,
                    -11.897583961486816,
                    -10.376848220825195,
                    -11.290770530700684,
                    -11.394004821777344
                  ],
                  "yaxis": "y"
                }
              ],
              "layout": {
                "height": 800,
                "legend": {
                  "tracegroupgap": 0
                },
                "template": {
                  "data": {
                    "bar": [
                      {
                        "error_x": {
                          "color": "#2a3f5f"
                        },
                        "error_y": {
                          "color": "#2a3f5f"
                        },
                        "marker": {
                          "line": {
                            "color": "#E5ECF6",
                            "width": 0.5
                          }
                        },
                        "type": "bar"
                      }
                    ],
                    "barpolar": [
                      {
                        "marker": {
                          "line": {
                            "color": "#E5ECF6",
                            "width": 0.5
                          }
                        },
                        "type": "barpolar"
                      }
                    ],
                    "carpet": [
                      {
                        "aaxis": {
                          "endlinecolor": "#2a3f5f",
                          "gridcolor": "white",
                          "linecolor": "white",
                          "minorgridcolor": "white",
                          "startlinecolor": "#2a3f5f"
                        },
                        "baxis": {
                          "endlinecolor": "#2a3f5f",
                          "gridcolor": "white",
                          "linecolor": "white",
                          "minorgridcolor": "white",
                          "startlinecolor": "#2a3f5f"
                        },
                        "type": "carpet"
                      }
                    ],
                    "choropleth": [
                      {
                        "colorbar": {
                          "outlinewidth": 0,
                          "ticks": ""
                        },
                        "type": "choropleth"
                      }
                    ],
                    "contour": [
                      {
                        "colorbar": {
                          "outlinewidth": 0,
                          "ticks": ""
                        },
                        "colorscale": [
                          [
                            0,
                            "#0d0887"
                          ],
                          [
                            0.1111111111111111,
                            "#46039f"
                          ],
                          [
                            0.2222222222222222,
                            "#7201a8"
                          ],
                          [
                            0.3333333333333333,
                            "#9c179e"
                          ],
                          [
                            0.4444444444444444,
                            "#bd3786"
                          ],
                          [
                            0.5555555555555556,
                            "#d8576b"
                          ],
                          [
                            0.6666666666666666,
                            "#ed7953"
                          ],
                          [
                            0.7777777777777778,
                            "#fb9f3a"
                          ],
                          [
                            0.8888888888888888,
                            "#fdca26"
                          ],
                          [
                            1,
                            "#f0f921"
                          ]
                        ],
                        "type": "contour"
                      }
                    ],
                    "contourcarpet": [
                      {
                        "colorbar": {
                          "outlinewidth": 0,
                          "ticks": ""
                        },
                        "type": "contourcarpet"
                      }
                    ],
                    "heatmap": [
                      {
                        "colorbar": {
                          "outlinewidth": 0,
                          "ticks": ""
                        },
                        "colorscale": [
                          [
                            0,
                            "#0d0887"
                          ],
                          [
                            0.1111111111111111,
                            "#46039f"
                          ],
                          [
                            0.2222222222222222,
                            "#7201a8"
                          ],
                          [
                            0.3333333333333333,
                            "#9c179e"
                          ],
                          [
                            0.4444444444444444,
                            "#bd3786"
                          ],
                          [
                            0.5555555555555556,
                            "#d8576b"
                          ],
                          [
                            0.6666666666666666,
                            "#ed7953"
                          ],
                          [
                            0.7777777777777778,
                            "#fb9f3a"
                          ],
                          [
                            0.8888888888888888,
                            "#fdca26"
                          ],
                          [
                            1,
                            "#f0f921"
                          ]
                        ],
                        "type": "heatmap"
                      }
                    ],
                    "heatmapgl": [
                      {
                        "colorbar": {
                          "outlinewidth": 0,
                          "ticks": ""
                        },
                        "colorscale": [
                          [
                            0,
                            "#0d0887"
                          ],
                          [
                            0.1111111111111111,
                            "#46039f"
                          ],
                          [
                            0.2222222222222222,
                            "#7201a8"
                          ],
                          [
                            0.3333333333333333,
                            "#9c179e"
                          ],
                          [
                            0.4444444444444444,
                            "#bd3786"
                          ],
                          [
                            0.5555555555555556,
                            "#d8576b"
                          ],
                          [
                            0.6666666666666666,
                            "#ed7953"
                          ],
                          [
                            0.7777777777777778,
                            "#fb9f3a"
                          ],
                          [
                            0.8888888888888888,
                            "#fdca26"
                          ],
                          [
                            1,
                            "#f0f921"
                          ]
                        ],
                        "type": "heatmapgl"
                      }
                    ],
                    "histogram": [
                      {
                        "marker": {
                          "colorbar": {
                            "outlinewidth": 0,
                            "ticks": ""
                          }
                        },
                        "type": "histogram"
                      }
                    ],
                    "histogram2d": [
                      {
                        "colorbar": {
                          "outlinewidth": 0,
                          "ticks": ""
                        },
                        "colorscale": [
                          [
                            0,
                            "#0d0887"
                          ],
                          [
                            0.1111111111111111,
                            "#46039f"
                          ],
                          [
                            0.2222222222222222,
                            "#7201a8"
                          ],
                          [
                            0.3333333333333333,
                            "#9c179e"
                          ],
                          [
                            0.4444444444444444,
                            "#bd3786"
                          ],
                          [
                            0.5555555555555556,
                            "#d8576b"
                          ],
                          [
                            0.6666666666666666,
                            "#ed7953"
                          ],
                          [
                            0.7777777777777778,
                            "#fb9f3a"
                          ],
                          [
                            0.8888888888888888,
                            "#fdca26"
                          ],
                          [
                            1,
                            "#f0f921"
                          ]
                        ],
                        "type": "histogram2d"
                      }
                    ],
                    "histogram2dcontour": [
                      {
                        "colorbar": {
                          "outlinewidth": 0,
                          "ticks": ""
                        },
                        "colorscale": [
                          [
                            0,
                            "#0d0887"
                          ],
                          [
                            0.1111111111111111,
                            "#46039f"
                          ],
                          [
                            0.2222222222222222,
                            "#7201a8"
                          ],
                          [
                            0.3333333333333333,
                            "#9c179e"
                          ],
                          [
                            0.4444444444444444,
                            "#bd3786"
                          ],
                          [
                            0.5555555555555556,
                            "#d8576b"
                          ],
                          [
                            0.6666666666666666,
                            "#ed7953"
                          ],
                          [
                            0.7777777777777778,
                            "#fb9f3a"
                          ],
                          [
                            0.8888888888888888,
                            "#fdca26"
                          ],
                          [
                            1,
                            "#f0f921"
                          ]
                        ],
                        "type": "histogram2dcontour"
                      }
                    ],
                    "mesh3d": [
                      {
                        "colorbar": {
                          "outlinewidth": 0,
                          "ticks": ""
                        },
                        "type": "mesh3d"
                      }
                    ],
                    "parcoords": [
                      {
                        "line": {
                          "colorbar": {
                            "outlinewidth": 0,
                            "ticks": ""
                          }
                        },
                        "type": "parcoords"
                      }
                    ],
                    "pie": [
                      {
                        "automargin": true,
                        "type": "pie"
                      }
                    ],
                    "scatter": [
                      {
                        "marker": {
                          "colorbar": {
                            "outlinewidth": 0,
                            "ticks": ""
                          }
                        },
                        "type": "scatter"
                      }
                    ],
                    "scatter3d": [
                      {
                        "line": {
                          "colorbar": {
                            "outlinewidth": 0,
                            "ticks": ""
                          }
                        },
                        "marker": {
                          "colorbar": {
                            "outlinewidth": 0,
                            "ticks": ""
                          }
                        },
                        "type": "scatter3d"
                      }
                    ],
                    "scattercarpet": [
                      {
                        "marker": {
                          "colorbar": {
                            "outlinewidth": 0,
                            "ticks": ""
                          }
                        },
                        "type": "scattercarpet"
                      }
                    ],
                    "scattergeo": [
                      {
                        "marker": {
                          "colorbar": {
                            "outlinewidth": 0,
                            "ticks": ""
                          }
                        },
                        "type": "scattergeo"
                      }
                    ],
                    "scattergl": [
                      {
                        "marker": {
                          "colorbar": {
                            "outlinewidth": 0,
                            "ticks": ""
                          }
                        },
                        "type": "scattergl"
                      }
                    ],
                    "scattermapbox": [
                      {
                        "marker": {
                          "colorbar": {
                            "outlinewidth": 0,
                            "ticks": ""
                          }
                        },
                        "type": "scattermapbox"
                      }
                    ],
                    "scatterpolar": [
                      {
                        "marker": {
                          "colorbar": {
                            "outlinewidth": 0,
                            "ticks": ""
                          }
                        },
                        "type": "scatterpolar"
                      }
                    ],
                    "scatterpolargl": [
                      {
                        "marker": {
                          "colorbar": {
                            "outlinewidth": 0,
                            "ticks": ""
                          }
                        },
                        "type": "scatterpolargl"
                      }
                    ],
                    "scatterternary": [
                      {
                        "marker": {
                          "colorbar": {
                            "outlinewidth": 0,
                            "ticks": ""
                          }
                        },
                        "type": "scatterternary"
                      }
                    ],
                    "surface": [
                      {
                        "colorbar": {
                          "outlinewidth": 0,
                          "ticks": ""
                        },
                        "colorscale": [
                          [
                            0,
                            "#0d0887"
                          ],
                          [
                            0.1111111111111111,
                            "#46039f"
                          ],
                          [
                            0.2222222222222222,
                            "#7201a8"
                          ],
                          [
                            0.3333333333333333,
                            "#9c179e"
                          ],
                          [
                            0.4444444444444444,
                            "#bd3786"
                          ],
                          [
                            0.5555555555555556,
                            "#d8576b"
                          ],
                          [
                            0.6666666666666666,
                            "#ed7953"
                          ],
                          [
                            0.7777777777777778,
                            "#fb9f3a"
                          ],
                          [
                            0.8888888888888888,
                            "#fdca26"
                          ],
                          [
                            1,
                            "#f0f921"
                          ]
                        ],
                        "type": "surface"
                      }
                    ],
                    "table": [
                      {
                        "cells": {
                          "fill": {
                            "color": "#EBF0F8"
                          },
                          "line": {
                            "color": "white"
                          }
                        },
                        "header": {
                          "fill": {
                            "color": "#C8D4E3"
                          },
                          "line": {
                            "color": "white"
                          }
                        },
                        "type": "table"
                      }
                    ]
                  },
                  "layout": {
                    "annotationdefaults": {
                      "arrowcolor": "#2a3f5f",
                      "arrowhead": 0,
                      "arrowwidth": 1
                    },
                    "coloraxis": {
                      "colorbar": {
                        "outlinewidth": 0,
                        "ticks": ""
                      }
                    },
                    "colorscale": {
                      "diverging": [
                        [
                          0,
                          "#8e0152"
                        ],
                        [
                          0.1,
                          "#c51b7d"
                        ],
                        [
                          0.2,
                          "#de77ae"
                        ],
                        [
                          0.3,
                          "#f1b6da"
                        ],
                        [
                          0.4,
                          "#fde0ef"
                        ],
                        [
                          0.5,
                          "#f7f7f7"
                        ],
                        [
                          0.6,
                          "#e6f5d0"
                        ],
                        [
                          0.7,
                          "#b8e186"
                        ],
                        [
                          0.8,
                          "#7fbc41"
                        ],
                        [
                          0.9,
                          "#4d9221"
                        ],
                        [
                          1,
                          "#276419"
                        ]
                      ],
                      "sequential": [
                        [
                          0,
                          "#0d0887"
                        ],
                        [
                          0.1111111111111111,
                          "#46039f"
                        ],
                        [
                          0.2222222222222222,
                          "#7201a8"
                        ],
                        [
                          0.3333333333333333,
                          "#9c179e"
                        ],
                        [
                          0.4444444444444444,
                          "#bd3786"
                        ],
                        [
                          0.5555555555555556,
                          "#d8576b"
                        ],
                        [
                          0.6666666666666666,
                          "#ed7953"
                        ],
                        [
                          0.7777777777777778,
                          "#fb9f3a"
                        ],
                        [
                          0.8888888888888888,
                          "#fdca26"
                        ],
                        [
                          1,
                          "#f0f921"
                        ]
                      ],
                      "sequentialminus": [
                        [
                          0,
                          "#0d0887"
                        ],
                        [
                          0.1111111111111111,
                          "#46039f"
                        ],
                        [
                          0.2222222222222222,
                          "#7201a8"
                        ],
                        [
                          0.3333333333333333,
                          "#9c179e"
                        ],
                        [
                          0.4444444444444444,
                          "#bd3786"
                        ],
                        [
                          0.5555555555555556,
                          "#d8576b"
                        ],
                        [
                          0.6666666666666666,
                          "#ed7953"
                        ],
                        [
                          0.7777777777777778,
                          "#fb9f3a"
                        ],
                        [
                          0.8888888888888888,
                          "#fdca26"
                        ],
                        [
                          1,
                          "#f0f921"
                        ]
                      ]
                    },
                    "colorway": [
                      "#636efa",
                      "#EF553B",
                      "#00cc96",
                      "#ab63fa",
                      "#FFA15A",
                      "#19d3f3",
                      "#FF6692",
                      "#B6E880",
                      "#FF97FF",
                      "#FECB52"
                    ],
                    "font": {
                      "color": "#2a3f5f"
                    },
                    "geo": {
                      "bgcolor": "white",
                      "lakecolor": "white",
                      "landcolor": "#E5ECF6",
                      "showlakes": true,
                      "showland": true,
                      "subunitcolor": "white"
                    },
                    "hoverlabel": {
                      "align": "left"
                    },
                    "hovermode": "closest",
                    "mapbox": {
                      "style": "light"
                    },
                    "paper_bgcolor": "white",
                    "plot_bgcolor": "#E5ECF6",
                    "polar": {
                      "angularaxis": {
                        "gridcolor": "white",
                        "linecolor": "white",
                        "ticks": ""
                      },
                      "bgcolor": "#E5ECF6",
                      "radialaxis": {
                        "gridcolor": "white",
                        "linecolor": "white",
                        "ticks": ""
                      }
                    },
                    "scene": {
                      "xaxis": {
                        "backgroundcolor": "#E5ECF6",
                        "gridcolor": "white",
                        "gridwidth": 2,
                        "linecolor": "white",
                        "showbackground": true,
                        "ticks": "",
                        "zerolinecolor": "white"
                      },
                      "yaxis": {
                        "backgroundcolor": "#E5ECF6",
                        "gridcolor": "white",
                        "gridwidth": 2,
                        "linecolor": "white",
                        "showbackground": true,
                        "ticks": "",
                        "zerolinecolor": "white"
                      },
                      "zaxis": {
                        "backgroundcolor": "#E5ECF6",
                        "gridcolor": "white",
                        "gridwidth": 2,
                        "linecolor": "white",
                        "showbackground": true,
                        "ticks": "",
                        "zerolinecolor": "white"
                      }
                    },
                    "shapedefaults": {
                      "line": {
                        "color": "#2a3f5f"
                      }
                    },
                    "ternary": {
                      "aaxis": {
                        "gridcolor": "white",
                        "linecolor": "white",
                        "ticks": ""
                      },
                      "baxis": {
                        "gridcolor": "white",
                        "linecolor": "white",
                        "ticks": ""
                      },
                      "bgcolor": "#E5ECF6",
                      "caxis": {
                        "gridcolor": "white",
                        "linecolor": "white",
                        "ticks": ""
                      }
                    },
                    "title": {
                      "x": 0.05
                    },
                    "xaxis": {
                      "automargin": true,
                      "gridcolor": "white",
                      "linecolor": "white",
                      "ticks": "",
                      "title": {
                        "standoff": 15
                      },
                      "zerolinecolor": "white",
                      "zerolinewidth": 2
                    },
                    "yaxis": {
                      "automargin": true,
                      "gridcolor": "white",
                      "linecolor": "white",
                      "ticks": "",
                      "title": {
                        "standoff": 15
                      },
                      "zerolinecolor": "white",
                      "zerolinewidth": 2
                    }
                  }
                },
                "title": {
                  "text": "t-SNE"
                },
                "width": 800,
                "xaxis": {
                  "anchor": "y",
                  "domain": [
                    0,
                    1
                  ],
                  "title": {
                    "text": "x"
                  }
                },
                "yaxis": {
                  "anchor": "x",
                  "domain": [
                    0,
                    1
                  ],
                  "title": {
                    "text": "y"
                  }
                }
              }
            }
          },
          "metadata": {},
          "output_type": "display_data"
        }
      ],
      "source": [
        "tsne_fig = plot_tsne(all_embs_np, all_ys_np)"
      ]
    },
    {
      "cell_type": "code",
      "execution_count": 15,
      "metadata": {
        "colab": {
          "base_uri": "https://localhost:8080/",
          "height": 692
        },
        "id": "3hwpxtNrF2Cd",
        "outputId": "e7e260cb-ca25-458e-9ef7-034ef51b7bea"
      },
      "outputs": [
        {
          "data": {
            "text/plain": [
              "'https://plotly.com/~nipdep/3/'"
            ]
          },
          "execution_count": 15,
          "metadata": {},
          "output_type": "execute_result"
        }
      ],
      "source": [
        "py.plot(tsne_fig, filename='TSNE_I3D_plot', auto_open=False)"
      ]
    },
    {
      "cell_type": "code",
      "execution_count": 16,
      "metadata": {
        "id": "iiJt1MsoAUX3"
      },
      "outputs": [
        {
          "name": "stdout",
          "output_type": "stream",
          "text": [
            "Collecting python-certifi-win32\n",
            "  Downloading python_certifi_win32-1.6.1-py2.py3-none-any.whl (7.3 kB)\n",
            "Requirement already satisfied: certifi in c:\\users\\deela\\anaconda3\\envs\\mvts_trans\\lib\\site-packages (from python-certifi-win32) (2022.9.24)\n",
            "Collecting setuptools-scm\n",
            "  Downloading setuptools_scm-7.1.0-py3-none-any.whl (43 kB)\n",
            "     -------------------------------------- 43.8/43.8 kB 215.3 kB/s eta 0:00:00\n",
            "Requirement already satisfied: wrapt>=1.10.4 in c:\\users\\deela\\anaconda3\\envs\\mvts_trans\\lib\\site-packages (from python-certifi-win32) (1.14.1)\n",
            "Requirement already satisfied: packaging>=20.0 in c:\\users\\deela\\anaconda3\\envs\\mvts_trans\\lib\\site-packages (from setuptools-scm->python-certifi-win32) (21.3)\n",
            "Collecting tomli>=1.0.0\n",
            "  Using cached tomli-2.0.1-py3-none-any.whl (12 kB)\n",
            "Requirement already satisfied: typing-extensions in c:\\users\\deela\\anaconda3\\envs\\mvts_trans\\lib\\site-packages (from setuptools-scm->python-certifi-win32) (4.3.0)\n",
            "Requirement already satisfied: setuptools in c:\\users\\deela\\anaconda3\\envs\\mvts_trans\\lib\\site-packages (from setuptools-scm->python-certifi-win32) (59.8.0)\n",
            "Requirement already satisfied: pyparsing!=3.0.5,>=2.0.2 in c:\\users\\deela\\anaconda3\\envs\\mvts_trans\\lib\\site-packages (from packaging>=20.0->setuptools-scm->python-certifi-win32) (3.0.9)\n",
            "Installing collected packages: tomli, setuptools-scm, python-certifi-win32\n",
            "Successfully installed python-certifi-win32-1.6.1 setuptools-scm-7.1.0 tomli-2.0.1\n"
          ]
        }
      ],
      "source": [
        "!pip install python-certifi-win32"
      ]
    },
    {
      "cell_type": "code",
      "execution_count": null,
      "metadata": {},
      "outputs": [],
      "source": []
    }
  ],
  "metadata": {
    "colab": {
      "provenance": []
    },
    "kernelspec": {
      "display_name": "Python 3",
      "name": "python3"
    },
    "language_info": {
      "codemirror_mode": {
        "name": "ipython",
        "version": 3
      },
      "file_extension": ".py",
      "mimetype": "text/x-python",
      "name": "python",
      "nbconvert_exporter": "python",
      "pygments_lexer": "ipython3",
      "version": "3.8.13"
    }
  },
  "nbformat": 4,
  "nbformat_minor": 0
}
