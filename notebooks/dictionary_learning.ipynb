{
 "cells": [
  {
   "cell_type": "code",
   "execution_count": 2,
   "metadata": {},
   "outputs": [],
   "source": [
    "import torch\n",
    "from numpy.random import multivariate_normal as mn "
   ]
  },
  {
   "cell_type": "code",
   "execution_count": 3,
   "metadata": {},
   "outputs": [
    {
     "data": {
      "text/plain": [
       "'1.12.1'"
      ]
     },
     "execution_count": 3,
     "metadata": {},
     "output_type": "execute_result"
    }
   ],
   "source": [
    "torch.__version__"
   ]
  },
  {
   "cell_type": "code",
   "execution_count": 4,
   "metadata": {},
   "outputs": [
    {
     "ename": "",
     "evalue": "",
     "output_type": "error",
     "traceback": [
      "\u001b[1;31mCanceled future for execute_request message before replies were done"
     ]
    },
    {
     "ename": "",
     "evalue": "",
     "output_type": "error",
     "traceback": [
      "\u001b[1;31mThe Kernel crashed while executing code in the the current cell or a previous cell. Please review the code in the cell(s) to identify a possible cause of the failure. Click <a href='https://aka.ms/vscodeJupyterKernelCrash'>here</a> for more info. View Jupyter <a href='command:jupyter.viewOutput'>log</a> for further details."
     ]
    }
   ],
   "source": [
    "# import seaborn as sns\n",
    "# import torch\n",
    "\n",
    "data_1 = torch.Tensor(mn([1, 0], [[.01, 0], [0, .01]], 1000), dtype=torch.float)\n",
    "data_2 = torch.Tensor(mn([0, 1], [[.01, 0], [0, .01]], 1000), dtype=torch.float)\n",
    "\n",
    "data = torch.cat([data_1, data_2])\n",
    "\n",
    "# sns.plot(data[:,0], data[:,1])\n",
    "# plt.show()"
   ]
  },
  {
   "cell_type": "code",
   "execution_count": null,
   "metadata": {},
   "outputs": [],
   "source": []
  },
  {
   "cell_type": "code",
   "execution_count": null,
   "metadata": {},
   "outputs": [],
   "source": [
    "class DictionaryLearning(torch.nn.Module):\n",
    "\n",
    "    def __init__(self, dim, n_terms):\n",
    "        super(DictionaryLearning, self).__init__()\n",
    "        self.dim = dim\n",
    "        self.n_terms = n_terms\n",
    "        self.dictionary = torch.nn.Parameter(torch.rand((n_terms, dim),\n",
    "                                    dtype=torch.float,\n",
    "                                    requires_grad=True\n",
    "                                    ))\n",
    "\n",
    "        self.attributor = self.build_attributor()\n",
    "\n",
    "\n",
    "    def build_attributor(self):\n",
    "        layers = torch.nn.ModuleList()\n",
    "        layers.append(torch.nn.Linear(self.dim, self.n_terms))\n",
    "        layers.append(torch.nn.Softmax())\n",
    "        return torch.nn.Sequential(*layers)\n",
    "\n",
    "    def forward(self, x):\n",
    "        return self.attributor(x)\n",
    "\n",
    "    def loss(self, x, attributions):\n",
    "        reconstruct = torch.matmul(attributions, self.dictionary)\n",
    "        return torch.nn.MSELoss()(x, reconstruct)\n",
    "    "
   ]
  },
  {
   "cell_type": "code",
   "execution_count": null,
   "metadata": {},
   "outputs": [],
   "source": [
    "epochs = 10000\n",
    "n_terms = 2\n",
    "dim = 2\n",
    "\n",
    "model = DictionaryLearning(dim, n_terms)\n",
    "optimizer = torch.optim.Adam(model.parameters(), lr=0.001)\n",
    "\n",
    "for e in range(epochs):\n",
    "    attributions = model(data)\n",
    "    loss = model.loss(data, attributions)\n",
    "\n",
    "    optimizer.zero_grad()\n",
    "    loss.backward()\n",
    "    optimizer.step()"
   ]
  }
 ],
 "metadata": {
  "kernelspec": {
   "display_name": "mvts_trans",
   "language": "python",
   "name": "python3"
  },
  "language_info": {
   "codemirror_mode": {
    "name": "ipython",
    "version": 3
   },
   "file_extension": ".py",
   "mimetype": "text/x-python",
   "name": "python",
   "nbconvert_exporter": "python",
   "pygments_lexer": "ipython3",
   "version": "3.8.13"
  },
  "orig_nbformat": 4,
  "vscode": {
   "interpreter": {
    "hash": "ccc35149ad8fa032444ebff1245e6ef176e6c1ce3af8dec48e3374f21a6b0f27"
   }
  }
 },
 "nbformat": 4,
 "nbformat_minor": 2
}
