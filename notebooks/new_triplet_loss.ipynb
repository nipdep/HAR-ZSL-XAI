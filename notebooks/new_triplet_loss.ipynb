{
 "cells": [
  {
   "cell_type": "code",
   "execution_count": 1,
   "metadata": {},
   "outputs": [],
   "source": [
    "import numpy as np \n",
    "\n",
    "import torch \n",
    "from torch import nn, functional as F "
   ]
  },
  {
   "cell_type": "code",
   "execution_count": 13,
   "metadata": {},
   "outputs": [],
   "source": [
    "anchor = torch.randn(2, 1, 4, requires_grad=True)\n",
    "positive = torch.randn(2, 1, 4, requires_grad=True)\n",
    "negative = torch.randn(2, 10, 4, requires_grad=True)"
   ]
  },
  {
   "cell_type": "code",
   "execution_count": 22,
   "metadata": {},
   "outputs": [],
   "source": [
    "anchor = torch.randint(low=0, high=2, size=(1,1,4))\n",
    "positive = torch.randint(low=0, high=2, size=(1,1,4))\n",
    "negative = torch.randint(low=0, high=2, size=(1,10,4))"
   ]
  },
  {
   "cell_type": "code",
   "execution_count": 23,
   "metadata": {},
   "outputs": [
    {
     "data": {
      "text/plain": [
       "tensor(0.7197)"
      ]
     },
     "execution_count": 23,
     "metadata": {},
     "output_type": "execute_result"
    }
   ],
   "source": [
    "triplet_loss = nn.TripletMarginLoss(margin=0.1, p=2)\n",
    "\n",
    "output = triplet_loss(anchor, positive, negative)\n",
    "output"
   ]
  },
  {
   "cell_type": "code",
   "execution_count": 24,
   "metadata": {},
   "outputs": [
    {
     "data": {
      "text/plain": [
       "tensor([[[0, 1, 1, 0]]])"
      ]
     },
     "execution_count": 24,
     "metadata": {},
     "output_type": "execute_result"
    }
   ],
   "source": [
    "anchor"
   ]
  },
  {
   "cell_type": "code",
   "execution_count": 25,
   "metadata": {},
   "outputs": [
    {
     "data": {
      "text/plain": [
       "tensor([[[1, 0, 0, 1]]])"
      ]
     },
     "execution_count": 25,
     "metadata": {},
     "output_type": "execute_result"
    }
   ],
   "source": [
    "positive"
   ]
  },
  {
   "cell_type": "code",
   "execution_count": 26,
   "metadata": {},
   "outputs": [
    {
     "data": {
      "text/plain": [
       "tensor([[[1, 0, 1, 0],\n",
       "         [1, 0, 0, 1],\n",
       "         [1, 1, 0, 0],\n",
       "         [1, 0, 1, 0],\n",
       "         [0, 1, 1, 1],\n",
       "         [1, 1, 0, 1],\n",
       "         [0, 0, 1, 0],\n",
       "         [1, 1, 1, 1],\n",
       "         [0, 1, 0, 0],\n",
       "         [1, 1, 1, 1]]])"
      ]
     },
     "execution_count": 26,
     "metadata": {},
     "output_type": "execute_result"
    }
   ],
   "source": [
    "negative"
   ]
  },
  {
   "attachments": {},
   "cell_type": "markdown",
   "metadata": {},
   "source": [
    "---"
   ]
  },
  {
   "cell_type": "code",
   "execution_count": 28,
   "metadata": {},
   "outputs": [],
   "source": [
    "anchor_list = np.array([0, 1, 1, 0])\n",
    "positive_list = np.array([1, 0, 0, 1])\n",
    "negative_list = np.array([[1, 0, 1, 0],\n",
    "         [1, 0, 0, 1],\n",
    "         [1, 1, 0, 0],\n",
    "         [1, 0, 1, 0],\n",
    "         [0, 1, 1, 1],\n",
    "         [1, 1, 0, 1],\n",
    "         [0, 0, 1, 0],\n",
    "         [1, 1, 1, 1],\n",
    "         [0, 1, 0, 0],\n",
    "         [1, 1, 1, 1]])"
   ]
  },
  {
   "cell_type": "code",
   "execution_count": 29,
   "metadata": {},
   "outputs": [
    {
     "data": {
      "text/plain": [
       "2.0"
      ]
     },
     "execution_count": 29,
     "metadata": {},
     "output_type": "execute_result"
    }
   ],
   "source": [
    "np.linalg.norm(anchor_list-positive_list)"
   ]
  },
  {
   "cell_type": "code",
   "execution_count": 30,
   "metadata": {},
   "outputs": [],
   "source": [
    "s = 0\n",
    "for i in range(10):\n",
    "    s += max(np.linalg.norm(anchor_list-positive_list)-np.linalg.norm(anchor_list-negative_list[i, ...])+0.1, 0)\n"
   ]
  },
  {
   "cell_type": "code",
   "execution_count": 31,
   "metadata": {},
   "outputs": [
    {
     "data": {
      "text/plain": [
       "7.196881380565647"
      ]
     },
     "execution_count": 31,
     "metadata": {},
     "output_type": "execute_result"
    }
   ],
   "source": [
    "s"
   ]
  },
  {
   "attachments": {},
   "cell_type": "markdown",
   "metadata": {},
   "source": [
    "---"
   ]
  },
  {
   "cell_type": "code",
   "execution_count": null,
   "metadata": {},
   "outputs": [],
   "source": [
    "negative = torch.randn(2, 10, 4, requires_grad=True)"
   ]
  },
  {
   "cell_type": "code",
   "execution_count": 90,
   "metadata": {},
   "outputs": [
    {
     "data": {
      "text/plain": [
       "torch.Size([4, 14, 128])"
      ]
     },
     "execution_count": 90,
     "metadata": {},
     "output_type": "execute_result"
    }
   ],
   "source": [
    "feats = torch.rand(14, 128).unsqueeze(0)\n",
    "batch_feat = feats.repeat(4, 1, 1)\n",
    "batch_feat.shape"
   ]
  },
  {
   "cell_type": "code",
   "execution_count": 55,
   "metadata": {},
   "outputs": [],
   "source": [
    "ys = [[0, 1], [1, 2]]\n",
    "batch_feat[ys, :] = 0"
   ]
  },
  {
   "cell_type": "code",
   "execution_count": 100,
   "metadata": {},
   "outputs": [
    {
     "data": {
      "text/plain": [
       "(tensor([0, 4]), tensor([ 1, 13]))"
      ]
     },
     "execution_count": 100,
     "metadata": {},
     "output_type": "execute_result"
    }
   ],
   "source": [
    "tuple(indexed_ys[:2, :])"
   ]
  },
  {
   "cell_type": "code",
   "execution_count": 101,
   "metadata": {},
   "outputs": [
    {
     "data": {
      "text/plain": [
       "torch.Size([4, 14, 128])"
      ]
     },
     "execution_count": 101,
     "metadata": {},
     "output_type": "execute_result"
    }
   ],
   "source": [
    "batch_feat.shape"
   ]
  },
  {
   "cell_type": "code",
   "execution_count": 112,
   "metadata": {},
   "outputs": [],
   "source": [
    "edited_feat = batch_feat.index_put(indices=[torch.tensor([0, 3]), torch.tensor([6, 10])], values=torch.tensor(0.))"
   ]
  },
  {
   "cell_type": "code",
   "execution_count": null,
   "metadata": {},
   "outputs": [],
   "source": [
    "torch.set_printoptions(threshold=100000)\n",
    "print(edited_feat[1, ...])"
   ]
  },
  {
   "attachments": {},
   "cell_type": "markdown",
   "metadata": {},
   "source": [
    "---"
   ]
  },
  {
   "cell_type": "code",
   "execution_count": 86,
   "metadata": {},
   "outputs": [
    {
     "data": {
      "text/plain": [
       "tensor([ 4, 13,  0, 11,  5,  6, 10,  4, 13,  0,  9, 13,  9, 11,  7,  2,  3,  9,\n",
       "         5,  0,  6,  7, 10,  9,  5,  8,  4,  0,  1,  1, 13,  1])"
      ]
     },
     "execution_count": 86,
     "metadata": {},
     "output_type": "execute_result"
    }
   ],
   "source": [
    "ys = (torch.rand(32)*14).long()\n",
    "ys"
   ]
  },
  {
   "cell_type": "code",
   "execution_count": 87,
   "metadata": {},
   "outputs": [],
   "source": [
    "feats1 = torch.rand(14, 128)"
   ]
  },
  {
   "cell_type": "code",
   "execution_count": 88,
   "metadata": {},
   "outputs": [
    {
     "data": {
      "text/plain": [
       "torch.Size([32, 128])"
      ]
     },
     "execution_count": 88,
     "metadata": {},
     "output_type": "execute_result"
    }
   ],
   "source": [
    "y_feats = feats1[ys]\n",
    "y_feats.shape"
   ]
  },
  {
   "cell_type": "code",
   "execution_count": 94,
   "metadata": {},
   "outputs": [
    {
     "data": {
      "text/plain": [
       "torch.Size([32, 2])"
      ]
     },
     "execution_count": 94,
     "metadata": {},
     "output_type": "execute_result"
    }
   ],
   "source": [
    "indexed_ys = torch.stack((torch.arange(32), ys), dim=0).T\n",
    "indexed_ys.shape"
   ]
  },
  {
   "cell_type": "code",
   "execution_count": 105,
   "metadata": {},
   "outputs": [
    {
     "data": {
      "text/plain": [
       "[tensor([0, 4]), tensor([ 1, 13])]"
      ]
     },
     "execution_count": 105,
     "metadata": {},
     "output_type": "execute_result"
    }
   ],
   "source": [
    "list(indexed_ys[:2, :])"
   ]
  },
  {
   "attachments": {},
   "cell_type": "markdown",
   "metadata": {},
   "source": [
    "---"
   ]
  },
  {
   "cell_type": "code",
   "execution_count": 116,
   "metadata": {},
   "outputs": [],
   "source": [
    "def tripletLoss(pred_feat, y, feats):\n",
    "    pos_feats = feats[y].unsqueeze(1)\n",
    "    anchor_feat = pred_feat.unsqueeze(1)\n",
    "    index_2d = [torch.arange(32), y]\n",
    "    batch_feats = feats.unsqueeze(0).repeat(32, 1, 1)\n",
    "    neg_feats = batch_feats.index_put(indices=index_2d, values=torch.tensor(0.))\n",
    "    # print(pos_feats.shape, anchor_feat.shape, neg_feats.shape)\n",
    "\n",
    "    triplet_loss = nn.TripletMarginLoss(margin=0.1, p=2)\n",
    "    output = triplet_loss(anchor_feat, pos_feats, neg_feats)\n",
    "    return output\n"
   ]
  },
  {
   "cell_type": "code",
   "execution_count": 117,
   "metadata": {},
   "outputs": [],
   "source": [
    "pred_f = torch.rand(32, 128)\n",
    "ys = (torch.rand(32)*14).long()\n",
    "feats = torch.rand(14,128)"
   ]
  },
  {
   "cell_type": "code",
   "execution_count": 118,
   "metadata": {},
   "outputs": [
    {
     "name": "stdout",
     "output_type": "stream",
     "text": [
      "torch.Size([32, 1, 128]) torch.Size([32, 1, 128]) torch.Size([32, 14, 128])\n"
     ]
    },
    {
     "data": {
      "text/plain": [
       "tensor(0.2155)"
      ]
     },
     "execution_count": 118,
     "metadata": {},
     "output_type": "execute_result"
    }
   ],
   "source": [
    "tripletLoss(pred_f, ys, feats)"
   ]
  },
  {
   "attachments": {},
   "cell_type": "markdown",
   "metadata": {},
   "source": [
    "---"
   ]
  },
  {
   "cell_type": "code",
   "execution_count": 1,
   "metadata": {},
   "outputs": [],
   "source": [
    "import torch \n",
    "from torch import nn, functional as F \n",
    "\n",
    "import numpy as np"
   ]
  },
  {
   "cell_type": "code",
   "execution_count": 2,
   "metadata": {},
   "outputs": [],
   "source": [
    "ys = (torch.rand(32)*14).long()\n",
    "feats = torch.rand(14,128)\n",
    "pred_f = torch.rand(32, 128)\n",
    "anchor_feat = feats[ys, ...]"
   ]
  },
  {
   "cell_type": "code",
   "execution_count": 3,
   "metadata": {},
   "outputs": [
    {
     "data": {
      "text/plain": [
       "torch.Size([32, 128])"
      ]
     },
     "execution_count": 3,
     "metadata": {},
     "output_type": "execute_result"
    }
   ],
   "source": [
    "anchor_feat.shape"
   ]
  },
  {
   "cell_type": "code",
   "execution_count": 14,
   "metadata": {},
   "outputs": [
    {
     "data": {
      "text/plain": [
       "torch.Size([32, 128])"
      ]
     },
     "execution_count": 14,
     "metadata": {},
     "output_type": "execute_result"
    }
   ],
   "source": [
    "bs = 32\n",
    "neg_feat = torch.concat([anchor_feat[bs//2:, ...], anchor_feat[:bs//2, ...]], dim=0)\n",
    "neg_feat.shape"
   ]
  },
  {
   "cell_type": "code",
   "execution_count": 13,
   "metadata": {},
   "outputs": [
    {
     "name": "stdout",
     "output_type": "stream",
     "text": [
      "ys :  tensor([13,  0,  0,  2, 11,  8,  0,  4,  4,  9, 12,  4,  8, 10,  1, 13,  5, 11,\n",
      "         4,  2, 11,  3,  8,  5,  7,  4,  7,  4, 12,  6, 12,  1])  neg ys :  tensor([ 5, 11,  4,  2, 11,  3,  8,  5,  7,  4,  7,  4, 12,  6, 12,  1, 13,  0,\n",
      "         0,  2, 11,  8,  0,  4,  4,  9, 12,  4,  8, 10,  1, 13])\n"
     ]
    }
   ],
   "source": [
    "neg_y = torch.concat([ys[bs//2:], ys[:bs//2]])\n",
    "print(\"ys : \", ys, \" neg ys : \", neg_y)"
   ]
  },
  {
   "cell_type": "code",
   "execution_count": 23,
   "metadata": {},
   "outputs": [
    {
     "name": "stdout",
     "output_type": "stream",
     "text": [
      "tensor([1, 1, 1, 0, 0, 1, 1, 1, 1, 1, 1, 0, 1, 1, 1, 1, 1, 1, 1, 0, 0, 1, 1, 1,\n",
      "        1, 1, 1, 0, 1, 1, 1, 1])\n"
     ]
    }
   ],
   "source": [
    "y_mask = (ys!=neg_y).long()\n",
    "print(y_mask)"
   ]
  },
  {
   "cell_type": "code",
   "execution_count": 20,
   "metadata": {},
   "outputs": [],
   "source": [
    "triplet_loss = nn.TripletMarginLoss(margin=0.1, p=2, reduction='none')"
   ]
  },
  {
   "cell_type": "code",
   "execution_count": 21,
   "metadata": {},
   "outputs": [],
   "source": [
    "output = triplet_loss(pred_f, anchor_feat, neg_feat)"
   ]
  },
  {
   "cell_type": "code",
   "execution_count": 22,
   "metadata": {},
   "outputs": [
    {
     "data": {
      "text/plain": [
       "torch.Size([32])"
      ]
     },
     "execution_count": 22,
     "metadata": {},
     "output_type": "execute_result"
    }
   ],
   "source": [
    "output.shape"
   ]
  },
  {
   "cell_type": "code",
   "execution_count": 24,
   "metadata": {},
   "outputs": [
    {
     "data": {
      "text/plain": [
       "tensor([0.8909, 0.4207, 0.0000, 0.0000, 0.0000, 0.0000, 0.1504, 0.2790, 0.0000,\n",
       "        0.6632, 0.0000, 0.0000, 0.0000, 0.0000, 0.3941, 0.0052, 0.0295, 0.0000,\n",
       "        0.4414, 0.0000, 0.0000, 0.7704, 0.2033, 0.4164, 0.2704, 0.0000, 0.2801,\n",
       "        0.0000, 0.0000, 0.0891, 0.0000, 0.1521])"
      ]
     },
     "execution_count": 24,
     "metadata": {},
     "output_type": "execute_result"
    }
   ],
   "source": [
    "masked_output = torch.multiply(output, y_mask)\n",
    "masked_output"
   ]
  },
  {
   "cell_type": "code",
   "execution_count": 25,
   "metadata": {},
   "outputs": [
    {
     "data": {
      "text/plain": [
       "tensor(0.1705)"
      ]
     },
     "execution_count": 25,
     "metadata": {},
     "output_type": "execute_result"
    }
   ],
   "source": [
    "masked_output.mean()"
   ]
  },
  {
   "attachments": {},
   "cell_type": "markdown",
   "metadata": {},
   "source": [
    "---"
   ]
  },
  {
   "cell_type": "code",
   "execution_count": 26,
   "metadata": {},
   "outputs": [],
   "source": [
    "def shuffledTripletLoss(pred_feat, anchor_feat, y, bs=32, loss_fn=nn.TripletMarginLoss(margin=0.1, p=2, reduction='none')):\n",
    "    neg_feat = torch.concat([anchor_feat[bs//2:, ...], anchor_feat[:bs//2, ...]], dim=0)\n",
    "    pos_feat = anchor_feat\n",
    "\n",
    "    neg_y = torch.concat([y[bs//2:], y[:bs//2]])\n",
    "    y_mask = (y!=neg_y).long()\n",
    "\n",
    "    output_arr = loss_fn(pred_feat, pos_feat, neg_feat)\n",
    "    masked_arr = torch.multiply(output_arr, y_mask)\n",
    "\n",
    "    output = masked_arr.mean()\n",
    "    return output"
   ]
  },
  {
   "cell_type": "code",
   "execution_count": 27,
   "metadata": {},
   "outputs": [],
   "source": [
    "pred_f = torch.rand(32, 128)\n",
    "ys = (torch.rand(32)*14).long()\n",
    "feats = torch.rand(14,128)\n",
    "anchor_feat = feats[ys, ...]\n",
    "bs = 32 \n",
    "loss_fn = nn.TripletMarginLoss(margin=0.1, p=2, reduction='none')"
   ]
  },
  {
   "cell_type": "code",
   "execution_count": 28,
   "metadata": {},
   "outputs": [
    {
     "data": {
      "text/plain": [
       "tensor(0.1424)"
      ]
     },
     "execution_count": 28,
     "metadata": {},
     "output_type": "execute_result"
    }
   ],
   "source": [
    "shuffledTripletLoss(pred_f, anchor_feat, ys, bs, loss_fn)"
   ]
  },
  {
   "attachments": {},
   "cell_type": "markdown",
   "metadata": {},
   "source": [
    "---"
   ]
  },
  {
   "cell_type": "code",
   "execution_count": 9,
   "metadata": {},
   "outputs": [],
   "source": [
    "import torch \n",
    "from torch import nn, Tensor"
   ]
  },
  {
   "cell_type": "code",
   "execution_count": 18,
   "metadata": {},
   "outputs": [],
   "source": [
    "input1 = torch.randn(100, 128)\n",
    "input2 = torch.randn(100, 128)\n"
   ]
  },
  {
   "cell_type": "code",
   "execution_count": 15,
   "metadata": {},
   "outputs": [],
   "source": [
    "cos = nn.CosineSimilarity(dim=1, eps=1e-6)"
   ]
  },
  {
   "cell_type": "code",
   "execution_count": 16,
   "metadata": {},
   "outputs": [
    {
     "data": {
      "text/plain": [
       "torch.Size([100])"
      ]
     },
     "execution_count": 16,
     "metadata": {},
     "output_type": "execute_result"
    }
   ],
   "source": [
    "output = cos(input1, input2)\n",
    "output.shape"
   ]
  },
  {
   "cell_type": "code",
   "execution_count": 19,
   "metadata": {},
   "outputs": [
    {
     "data": {
      "text/plain": [
       "tensor([ 0.0000e+00,  5.9605e-08,  0.0000e+00,  5.9605e-08,  5.9605e-08,\n",
       "         5.9605e-08,  5.9605e-08, -1.1921e-07,  0.0000e+00,  0.0000e+00,\n",
       "        -1.1921e-07,  5.9605e-08,  0.0000e+00, -1.1921e-07,  0.0000e+00,\n",
       "         5.9605e-08, -1.1921e-07,  0.0000e+00,  0.0000e+00,  0.0000e+00,\n",
       "         0.0000e+00,  0.0000e+00,  0.0000e+00,  0.0000e+00,  0.0000e+00,\n",
       "         5.9605e-08,  0.0000e+00,  1.7881e-07,  0.0000e+00,  0.0000e+00,\n",
       "         0.0000e+00,  1.1921e-07,  1.1921e-07, -1.1921e-07,  1.1921e-07,\n",
       "        -1.1921e-07, -1.1921e-07,  0.0000e+00, -1.1921e-07, -1.1921e-07,\n",
       "         1.1921e-07, -1.1921e-07,  0.0000e+00,  0.0000e+00,  0.0000e+00,\n",
       "         1.7881e-07,  0.0000e+00,  0.0000e+00, -1.1921e-07,  0.0000e+00,\n",
       "         0.0000e+00,  5.9605e-08,  0.0000e+00,  0.0000e+00, -1.1921e-07,\n",
       "        -1.1921e-07,  5.9605e-08, -1.1921e-07,  0.0000e+00,  0.0000e+00,\n",
       "         5.9605e-08, -1.1921e-07,  5.9605e-08,  1.1921e-07,  0.0000e+00,\n",
       "         0.0000e+00,  0.0000e+00,  0.0000e+00,  0.0000e+00, -1.1921e-07,\n",
       "         0.0000e+00, -1.1921e-07, -1.1921e-07,  5.9605e-08,  5.9605e-08,\n",
       "         5.9605e-08,  5.9605e-08, -1.1921e-07,  0.0000e+00,  0.0000e+00,\n",
       "         0.0000e+00,  0.0000e+00,  5.9605e-08,  0.0000e+00, -1.1921e-07,\n",
       "         0.0000e+00,  0.0000e+00,  0.0000e+00,  1.7881e-07,  0.0000e+00,\n",
       "         0.0000e+00,  5.9605e-08, -1.1921e-07, -1.1921e-07,  1.1921e-07,\n",
       "         0.0000e+00,  0.0000e+00,  5.9605e-08,  0.0000e+00, -1.1921e-07])"
      ]
     },
     "execution_count": 19,
     "metadata": {},
     "output_type": "execute_result"
    }
   ],
   "source": [
    "1-cos(input1, input1)"
   ]
  },
  {
   "cell_type": "code",
   "execution_count": 7,
   "metadata": {},
   "outputs": [],
   "source": [
    "l1 = nn.L1Loss(reduction=\"sum\")"
   ]
  },
  {
   "cell_type": "code",
   "execution_count": 8,
   "metadata": {},
   "outputs": [
    {
     "data": {
      "text/plain": [
       "tensor(0.)"
      ]
     },
     "execution_count": 8,
     "metadata": {},
     "output_type": "execute_result"
    }
   ],
   "source": [
    "l1(input1, input1)"
   ]
  },
  {
   "cell_type": "code",
   "execution_count": null,
   "metadata": {},
   "outputs": [],
   "source": []
  }
 ],
 "metadata": {
  "kernelspec": {
   "display_name": "mvts_trans",
   "language": "python",
   "name": "python3"
  },
  "language_info": {
   "codemirror_mode": {
    "name": "ipython",
    "version": 3
   },
   "file_extension": ".py",
   "mimetype": "text/x-python",
   "name": "python",
   "nbconvert_exporter": "python",
   "pygments_lexer": "ipython3",
   "version": "3.8.13"
  },
  "orig_nbformat": 4
 },
 "nbformat": 4,
 "nbformat_minor": 2
}
