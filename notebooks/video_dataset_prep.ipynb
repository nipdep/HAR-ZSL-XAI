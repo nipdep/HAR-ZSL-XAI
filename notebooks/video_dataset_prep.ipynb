{
 "cells": [
  {
   "attachments": {},
   "cell_type": "markdown",
   "metadata": {},
   "source": [
    "---\n",
    "File renaming "
   ]
  },
  {
   "cell_type": "code",
   "execution_count": 1,
   "metadata": {},
   "outputs": [],
   "source": [
    "import os \n",
    "from glob import glob "
   ]
  },
  {
   "cell_type": "code",
   "execution_count": null,
   "metadata": {},
   "outputs": [],
   "source": [
    "root_dir = '../data/knn_handpicked/5_sample'\n",
    "i = 1000\n",
    "j = 0\n",
    "prev_folder = ''\n",
    "for p in glob(f'{root_dir}/*/*.mp4'):\n",
    "    i+=1\n",
    "    file_path = p.split('\\\\')[0]\n",
    "    folder = p.split('\\\\')[1]\n",
    "    if folder != prev_folder:\n",
    "        j = 0 \n",
    "        prev_folder = folder \n",
    "    else:\n",
    "        j+=1\n",
    "\n",
    "    new_name = f\"{i}_{folder.replace(' ', '_')}{j}.mp4\"\n",
    "    new_path = f'{file_path}/{folder}/{new_name}'\n",
    "    os.rename(p.replace('\\\\', '/'), new_path)\n",
    "    \n",
    "\n",
    "for p in glob(f'{root_dir}/*/*.avi'):\n",
    "    i+=1\n",
    "    file_path = p.split('\\\\')[0]\n",
    "    folder = p.split('\\\\')[1]\n",
    "    if folder != prev_folder:\n",
    "        j = 0 \n",
    "        prev_folder = folder \n",
    "    else:\n",
    "        j+=1\n",
    "\n",
    "    new_name = f\"{i}_{folder.replace(' ', '_')}{j}.avi\"\n",
    "    new_path = f'{file_path}/{folder}/{new_name}'\n",
    "    os.rename(p.replace('\\\\', '/'), new_path)"
   ]
  },
  {
   "cell_type": "code",
   "execution_count": 11,
   "metadata": {},
   "outputs": [
    {
     "data": {
      "text/plain": [
       "True"
      ]
     },
     "execution_count": 11,
     "metadata": {},
     "output_type": "execute_result"
    }
   ],
   "source": [
    "os.path.exists('../data/knn_handpicked/10_sample/ascending stairs/a097-1132C.mp4')"
   ]
  },
  {
   "attachments": {},
   "cell_type": "markdown",
   "metadata": {},
   "source": [
    "---"
   ]
  },
  {
   "cell_type": "code",
   "execution_count": null,
   "metadata": {},
   "outputs": [],
   "source": []
  }
 ],
 "metadata": {
  "kernelspec": {
   "display_name": "mvts_trans",
   "language": "python",
   "name": "python3"
  },
  "language_info": {
   "codemirror_mode": {
    "name": "ipython",
    "version": 3
   },
   "file_extension": ".py",
   "mimetype": "text/x-python",
   "name": "python",
   "nbconvert_exporter": "python",
   "pygments_lexer": "ipython3",
   "version": "3.8.13 (default, Mar 28 2022, 06:59:08) [MSC v.1916 64 bit (AMD64)]"
  },
  "orig_nbformat": 4,
  "vscode": {
   "interpreter": {
    "hash": "ccc35149ad8fa032444ebff1245e6ef176e6c1ce3af8dec48e3374f21a6b0f27"
   }
  }
 },
 "nbformat": 4,
 "nbformat_minor": 2
}
