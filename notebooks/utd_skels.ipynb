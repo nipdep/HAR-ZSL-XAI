{
 "cells": [
  {
   "cell_type": "code",
   "execution_count": 73,
   "metadata": {},
   "outputs": [],
   "source": [
    "import numpy as np \n",
    "import pandas as pd \n",
    "import matplotlib.pyplot as plt \n",
    "from glob import glob\n",
    "import torch\n",
    "import scipy.io\n",
    "import cv2\n",
    "import random"
   ]
  },
  {
   "cell_type": "code",
   "execution_count": 3,
   "metadata": {},
   "outputs": [],
   "source": [
    "skeleton_data = np.load('../data/skeleton_k10_movements.npz')\n",
    "skeleton_classes, skeleton_mov = skeleton_data['arr_0'], skeleton_data['arr_1']"
   ]
  },
  {
   "cell_type": "code",
   "execution_count": 26,
   "metadata": {},
   "outputs": [
    {
     "data": {
      "text/plain": [
       "(180, 60, 36)"
      ]
     },
     "execution_count": 26,
     "metadata": {},
     "output_type": "execute_result"
    }
   ],
   "source": [
    "skeleton_mov.shape"
   ]
  },
  {
   "cell_type": "code",
   "execution_count": 27,
   "metadata": {},
   "outputs": [
    {
     "data": {
      "text/plain": [
       "(60, 36)"
      ]
     },
     "execution_count": 27,
     "metadata": {},
     "output_type": "execute_result"
    }
   ],
   "source": [
    "sk1 = skeleton_mov[0]\n",
    "sk1.shape"
   ]
  },
  {
   "cell_type": "code",
   "execution_count": 28,
   "metadata": {},
   "outputs": [
    {
     "data": {
      "text/plain": [
       "-0.5849068760871887"
      ]
     },
     "execution_count": 28,
     "metadata": {},
     "output_type": "execute_result"
    }
   ],
   "source": [
    "sk1.min()"
   ]
  },
  {
   "cell_type": "code",
   "execution_count": 30,
   "metadata": {},
   "outputs": [
    {
     "data": {
      "text/plain": [
       "0.9162541031837463"
      ]
     },
     "execution_count": 30,
     "metadata": {},
     "output_type": "execute_result"
    }
   ],
   "source": [
    "sk1.max()"
   ]
  },
  {
   "attachments": {},
   "cell_type": "markdown",
   "metadata": {},
   "source": [
    "---"
   ]
  },
  {
   "cell_type": "code",
   "execution_count": 97,
   "metadata": {},
   "outputs": [],
   "source": [
    "label_map = {\n",
    "    1: 'swipe left',\n",
    "    2: 'swipe right',\n",
    "    3: 'wave',\n",
    "    4: 'clap',\n",
    "    5: 'throw',\n",
    "    6: 'cross arms',\n",
    "    7: 'basketball shoot',\n",
    "    8: 'draw x',\n",
    "    9: 'draw circle clockwise',\n",
    "    10: 'draw circle counter clockwise',\n",
    "    11: 'draw triangle',\n",
    "    12: 'bowling',\n",
    "    13: 'boxing',\n",
    "    14: 'baseball swing',\n",
    "    15: 'tennis swing',\n",
    "    16: 'arm curl',\n",
    "    17: 'tennis serve',\n",
    "    18: 'two hand push',\n",
    "    19: 'knock',\n",
    "    20: 'catch',\n",
    "    21: 'pick up then throw',\n",
    "    22: 'jogging in place',\n",
    "    23: 'walking in place',\n",
    "    24: 'sit to stand',\n",
    "    25: 'stand to sit',\n",
    "    26: 'lunge',\n",
    "    27: 'squat'\n",
    "}"
   ]
  },
  {
   "cell_type": "code",
   "execution_count": 9,
   "metadata": {},
   "outputs": [],
   "source": [
    "# for p in glob(f'../data/UTD-MHAD/'):\n",
    "# file_name = p.split('\\\\')[-1]\n",
    "# action, subject, time, _ = file_name.split('_')\n",
    "p = '../data/UTD-MHAD/UTD-MHAD-Skeleton/a10_s1_t1_skeleton.mat'\n",
    "mat = scipy.io.loadmat(p)\n",
    "np_data = np.array(mat['d_skel'])"
   ]
  },
  {
   "cell_type": "code",
   "execution_count": 11,
   "metadata": {},
   "outputs": [
    {
     "data": {
      "text/plain": [
       "(20, 3, 76)"
      ]
     },
     "execution_count": 11,
     "metadata": {},
     "output_type": "execute_result"
    }
   ],
   "source": [
    "np_data.shape"
   ]
  },
  {
   "cell_type": "code",
   "execution_count": 14,
   "metadata": {},
   "outputs": [],
   "source": [
    "cols = [4,8,5,9,6,10,12,16,13,17,14,18]\n",
    "point_mapping = [(0, 1), (1, 3), (3, 5), (0, 2), (2, 4), (0, 6), (1, 7), (6, 7), (6, 8), (7, 9), (8, 10), (9, 11)]"
   ]
  },
  {
   "cell_type": "code",
   "execution_count": 15,
   "metadata": {},
   "outputs": [],
   "source": [
    "skel_res = np_data[cols, :, :]"
   ]
  },
  {
   "cell_type": "code",
   "execution_count": 16,
   "metadata": {},
   "outputs": [
    {
     "data": {
      "text/plain": [
       "(12, 3, 76)"
      ]
     },
     "execution_count": 16,
     "metadata": {},
     "output_type": "execute_result"
    }
   ],
   "source": [
    "skel_res.shape"
   ]
  },
  {
   "cell_type": "code",
   "execution_count": 17,
   "metadata": {},
   "outputs": [
    {
     "data": {
      "text/plain": [
       "(76, 12, 3)"
      ]
     },
     "execution_count": 17,
     "metadata": {},
     "output_type": "execute_result"
    }
   ],
   "source": [
    "xyz_cords = np.transpose(skel_res, (2,0,1))\n",
    "xyz_cords.shape"
   ]
  },
  {
   "cell_type": "code",
   "execution_count": 60,
   "metadata": {},
   "outputs": [
    {
     "data": {
      "text/plain": [
       "(76, 12, 3)"
      ]
     },
     "execution_count": 60,
     "metadata": {},
     "output_type": "execute_result"
    }
   ],
   "source": [
    "x_min = xyz_cords[:, :, 0].min()\n",
    "y_min = xyz_cords[:, :, 1].min()\n",
    "adder = [-1*x_min, -1*y_min, 0]\n",
    "xyz_coords = xyz_cords * [1,-1,1]\n",
    "xyz_coords = xyz_coords + adder\n",
    "x_max = xyz_coords[:, :, 0].max()\n",
    "y_max = xyz_coords[:, :, 1].max()\n",
    "z_max = xyz_coords[:, :, 2].max()\n",
    "divs = [x_max, y_max, z_max]\n",
    "xyz_coords = xyz_coords/divs\n",
    "xyz_coords.shape"
   ]
  },
  {
   "cell_type": "code",
   "execution_count": 51,
   "metadata": {},
   "outputs": [
    {
     "data": {
      "text/plain": [
       "0.0"
      ]
     },
     "execution_count": 51,
     "metadata": {},
     "output_type": "execute_result"
    }
   ],
   "source": [
    "xyz_coords[:, :, 0].min()"
   ]
  },
  {
   "cell_type": "code",
   "execution_count": 18,
   "metadata": {},
   "outputs": [],
   "source": [
    "h, w = 128, 64"
   ]
  },
  {
   "cell_type": "code",
   "execution_count": 20,
   "metadata": {},
   "outputs": [],
   "source": [
    "def gen_skeleton(frame, connections, height, width):\n",
    "    img_3 = np.zeros([height, width,3],dtype=np.uint8)\n",
    "    img_3.fill(255)\n",
    "\n",
    "    # add circles \n",
    "    for coord in frame:\n",
    "        x, y = int(width*coord[0]), int(height*coord[1])\n",
    "        img_3 = cv2.circle(img_3, center=(x,y), radius=1, color=(255, 0, 0), thickness=6)\n",
    "\n",
    "    # add lines \n",
    "    # mapping_list = [(11, 12), (11, 13), (13, 15), (12, 14), (14, 16), (12, 24), (11, 23), (23, 24), (24, 26), (26, 28), (23, 25), (25, 27)]\n",
    "    mapping_list = [(0, 1), (1, 3), (3, 5), (0, 2), (2, 4), (0, 6), (1, 7), (6, 7), (6, 8), (7, 9), (8, 10), (9, 11)]\n",
    "    for line in mapping_list:\n",
    "        i, j = line\n",
    "        st = frame[i, :]\n",
    "        start_point = (int(width*st[0]), int(height*st[1]))\n",
    "\n",
    "        en = frame[j, :]\n",
    "        end_point = (int(width*en[0]), int(height*en[1]))\n",
    "\n",
    "        img3_ = cv2.line(img_3, start_point, end_point, color=(0, 0, 0), thickness=3)\n",
    "\n",
    "    return img_3\n",
    "\n",
    "def gen_video(points, save_file, frame_h, frame_w):\n",
    "    # make 3D if points are flatten \n",
    "    if len(points.shape) == 2:\n",
    "        fts = points.shape[1]\n",
    "        x_cds = list(range(0, fts, 3))\n",
    "        y_cds = list(range(1, fts, 3))\n",
    "        z_cds = list(range(2, fts, 3))\n",
    "        points = np.transpose(np.array([points[:, x_cds], points[:, y_cds], points[:, z_cds]]), (1,2,0))\n",
    "\n",
    "    size = (frame_w, frame_h)\n",
    "    result = cv2.VideoWriter(save_file, \n",
    "                         cv2.VideoWriter_fourcc(*'MJPG'),\n",
    "                         10, size)\n",
    "\n",
    "    # mapping_list = [(11, 12), (11, 13), (13, 15), (12, 14), (14, 16), (12, 24), (11, 23), (23, 24), (24, 26), (26, 28), (23, 25), (25, 27)]\n",
    "    mapping_list = [(0, 1), (1, 3), (3, 5), (0, 2), (2, 4), (0, 6), (1, 7), (6, 7), (6, 8), (7, 9), (8, 10), (9, 11)]\n",
    "    for frame in points:\n",
    "        skel_image = gen_skeleton(frame, mapping_list, frame_h, frame_w)\n",
    "        result.write(skel_image)\n",
    "\n",
    "    result.release()"
   ]
  },
  {
   "cell_type": "code",
   "execution_count": 61,
   "metadata": {},
   "outputs": [],
   "source": [
    "gen_video(xyz_coords, '../tmp/sample_utd_skel.mp4', 512, 512)"
   ]
  },
  {
   "cell_type": "code",
   "execution_count": 58,
   "metadata": {},
   "outputs": [
    {
     "data": {
      "text/plain": [
       "1.0"
      ]
     },
     "execution_count": 58,
     "metadata": {},
     "output_type": "execute_result"
    }
   ],
   "source": [
    "xyz_coords[:, :, 0].max()"
   ]
  },
  {
   "cell_type": "code",
   "execution_count": 91,
   "metadata": {},
   "outputs": [],
   "source": [
    "def random_padding(com_arr, output_size):\n",
    "    # pad and interpolate\n",
    "    arr_df = pd.DataFrame(data=com_arr, columns=[str(i) for i in range(com_arr.shape[1])])\n",
    "    curr_size = arr_df.shape[0]\n",
    "    fill_points = random.sample(range(0, curr_size), output_size-curr_size)\n",
    "\n",
    "    df_data = []\n",
    "    for i, row in arr_df.iterrows():\n",
    "        df_data.append(row.values)\n",
    "        if i in fill_points:\n",
    "            df_data.append(pd.Series(dtype='float64').values)\n",
    "\n",
    "    df_new = pd.DataFrame(df_data)\n",
    "    df_new = df_new.interpolate(method='linear', limit_direction='forward', axis=0)\n",
    "    return df_new.values \n",
    "\n",
    "def random_sampling(com_arr, output_size, skip_pre=0, skip_post=0):\n",
    "    curr_size = com_arr.shape[0]\n",
    "    sample_points = random.sample(range(skip_pre, curr_size-skip_post), output_size)\n",
    "    sample_points.sort()\n",
    "    out_arr = com_arr[sample_points, :]\n",
    "    return out_arr"
   ]
  },
  {
   "cell_type": "code",
   "execution_count": 100,
   "metadata": {},
   "outputs": [],
   "source": [
    "def post_process(arr, seq_len):\n",
    "    cols = [4,8,5,9,6,10,12,16,13,17,14,18]\n",
    "    skel_res = arr[cols, :, :]\n",
    "    xyz_cords = np.transpose(skel_res, (2,0,1))\n",
    "    x_min = xyz_cords[:, :, 0].min()\n",
    "    y_min = xyz_cords[:, :, 1].min()\n",
    "    adder = [-1*x_min, -1*y_min, 0]\n",
    "    xyz_coords = xyz_cords * [1,-1,1]\n",
    "    xyz_coords = xyz_coords + adder\n",
    "    x_max = xyz_coords[:, :, 0].max()\n",
    "    y_max = xyz_coords[:, :, 1].max()\n",
    "    z_max = xyz_coords[:, :, 2].max()\n",
    "    divs = [x_max, y_max, z_max]\n",
    "    xyz_coords = xyz_coords/divs\n",
    "\n",
    "    xyz_coords = xyz_coords.reshape(xyz_coords.shape[0], -1)\n",
    "    # print(xyz_coords.shape[0])\n",
    "    # crop seq \n",
    "    if xyz_coords.shape[0] > seq_len:\n",
    "        xyz_coords = random_sampling(xyz_coords, seq_len)\n",
    "    else:\n",
    "        xyz_coords = random_padding(xyz_coords, seq_len)\n",
    "        \n",
    "    # print(xyz_coords.shape)\n",
    "    \n",
    "    return xyz_coords\n",
    "\n",
    "def readUTDFiles(root_path, n=60):\n",
    "        data = []\n",
    "        labels = []\n",
    "        subjects = []\n",
    "        \n",
    "        for p in glob(f'{root_path}/*.mat'):\n",
    "            file_name = p.split('\\\\')[-1]\n",
    "            action, subject, time, _ = file_name.split('_')\n",
    "            mat = scipy.io.loadmat(p)\n",
    "            np_data = np.array(mat['d_skel'])\n",
    "        \n",
    "            data.append(post_process(np_data, n))\n",
    "            labels.append(label_map[int(action.strip('a'))])\n",
    "            subjects.append(subject)\n",
    "        # print(f\"data len : {np.array(data).shape}, data 0 shape : {data[0].shape}\")\n",
    "        return np.array(data), np.array(labels), np.array(subjects)"
   ]
  },
  {
   "cell_type": "code",
   "execution_count": 101,
   "metadata": {},
   "outputs": [],
   "source": [
    "skel_movs, skel_classes, skel_ids = readUTDFiles('../data/UTD-MHAD/UTD-MHAD-Skeleton/')"
   ]
  },
  {
   "cell_type": "code",
   "execution_count": 102,
   "metadata": {},
   "outputs": [
    {
     "data": {
      "text/plain": [
       "(861, 60, 36)"
      ]
     },
     "execution_count": 102,
     "metadata": {},
     "output_type": "execute_result"
    }
   ],
   "source": [
    "skel_movs.shape"
   ]
  },
  {
   "cell_type": "code",
   "execution_count": 103,
   "metadata": {},
   "outputs": [],
   "source": [
    "full_data = {'actions': skel_classes, 'sequences': skel_movs, 'id': skel_ids}\n",
    "np.savez('../data/skeleton_UTD_V1.npz', skel_classes, skel_movs, skel_ids)"
   ]
  },
  {
   "cell_type": "code",
   "execution_count": null,
   "metadata": {},
   "outputs": [],
   "source": [
    "skel_classes"
   ]
  },
  {
   "attachments": {},
   "cell_type": "markdown",
   "metadata": {},
   "source": [
    "---"
   ]
  },
  {
   "cell_type": "code",
   "execution_count": null,
   "metadata": {},
   "outputs": [],
   "source": []
  }
 ],
 "metadata": {
  "kernelspec": {
   "display_name": "mvts_trans",
   "language": "python",
   "name": "python3"
  },
  "language_info": {
   "codemirror_mode": {
    "name": "ipython",
    "version": 3
   },
   "file_extension": ".py",
   "mimetype": "text/x-python",
   "name": "python",
   "nbconvert_exporter": "python",
   "pygments_lexer": "ipython3",
   "version": "3.8.13"
  },
  "orig_nbformat": 4,
  "vscode": {
   "interpreter": {
    "hash": "ccc35149ad8fa032444ebff1245e6ef176e6c1ce3af8dec48e3374f21a6b0f27"
   }
  }
 },
 "nbformat": 4,
 "nbformat_minor": 2
}
