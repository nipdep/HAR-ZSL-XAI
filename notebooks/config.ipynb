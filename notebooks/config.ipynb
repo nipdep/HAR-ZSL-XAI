{
 "cells": [
  {
   "cell_type": "code",
   "execution_count": 1,
   "metadata": {},
   "outputs": [],
   "source": [
    "from argparse import Namespace\n",
    "from datetime import date, datetime"
   ]
  },
  {
   "cell_type": "code",
   "execution_count": null,
   "metadata": {},
   "outputs": [],
   "source": [
    "config = {\n",
    "    'datetime': date.today(),\n",
    "    'device': 'gpu',\n",
    "    'dataset': 'PAMAP2',\n",
    "    'root': './',\n",
    "    'gzsl': True,\n",
    "    # cross-attention model\n",
    "    'xe': 0,\n",
    "    'attri': 0,\n",
    "    'regular': 0,\n",
    "    'l_xe': 0,\n",
    "    'l_attri': 0,\n",
    "    'l_regular': 0,\n",
    "    'cpt': 0,\n",
    "    'calibrated_stacking': False,\n",
    "    # distributed loader\n",
    "    'train_mode': 'random', # ['random', 'distributed']\n",
    "    'n_batch': 1000,\n",
    "    'ways': 16, # number of classes per episode \n",
    "    'shots': 2, # number of sample per class\n",
    "    # model training\n",
    "    'patient': 10,\n",
    "    'mask_way': 'oldmask',\n",
    "    'temperature': 0.05,\n",
    "    'loss_function': \"L2\",\n",
    "    'mask_pro': 0.5, # probability of mask \n",
    "    'mask_loss_xishu': 1, # the coefficient of mask loss\n",
    "    'construct_loss_weight': 0.01, # weights of construct loss\n",
    "    'xlayer_num': 1, # number of xlayers (cross and self attention)\n",
    "    'sc_loss': 0,\n",
    "    'attribute_miss': 0.5,\n",
    "    'gradient_time': 1,\n",
    "    'max_lenght': 150,\n",
    "    'optimizer': 'adam',\n",
    "    'batch_size': 32,\n",
    "    'n_epochs': 25,\n",
    "    # IMU model\n",
    "    'd_model': 128,\n",
    "    'num_heads': 2,\n",
    "    'feat_size': 512,\n",
    "    # IMU DataReader\n",
    "    \"window_size\": 5, \n",
    "    \"overlap\": 0.5,\n",
    "    \"seq_len\": 50,  # skeleton seq. length\n",
    "    \"seen_split\": 0.2,\n",
    "    \"unseen_split\": 0.8\n",
    "}"
   ]
  }
 ],
 "metadata": {
  "kernelspec": {
   "display_name": "fyp_env",
   "language": "python",
   "name": "python3"
  },
  "language_info": {
   "codemirror_mode": {
    "name": "ipython",
    "version": 3
   },
   "file_extension": ".py",
   "mimetype": "text/x-python",
   "name": "python",
   "nbconvert_exporter": "python",
   "pygments_lexer": "ipython3",
   "version": "3.9.16"
  },
  "orig_nbformat": 4
 },
 "nbformat": 4,
 "nbformat_minor": 2
}
