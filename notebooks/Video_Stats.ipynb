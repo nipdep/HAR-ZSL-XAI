{
 "cells": [
  {
   "cell_type": "code",
   "execution_count": 25,
   "metadata": {},
   "outputs": [],
   "source": [
    "import os \n",
    "import PIL \n",
    "import cv2 \n",
    "from glob import glob \n",
    "\n",
    "import numpy as np \n",
    "import pandas as pd \n",
    "\n",
    "import matplotlib.pyplot as plt \n",
    "import seaborn as sns "
   ]
  },
  {
   "cell_type": "code",
   "execution_count": 2,
   "metadata": {},
   "outputs": [],
   "source": [
    "root_dir = '../data/hand_picked_videos/'"
   ]
  },
  {
   "cell_type": "code",
   "execution_count": 15,
   "metadata": {},
   "outputs": [
    {
     "name": "stdout",
     "output_type": "stream",
     "text": [
      "car_drive | Lexus LFA Mountain Drive - Incredible V10 Sound (POV Binaural Audio)\n",
      "car_drive | MAH00030 2\n",
      "car_drive | Racing 101 Check your steering wheel\n",
      "car_drive | Shuffle steering demonstration\n",
      "car_drive | Toyota Premio ZRT260 POV Drive\n",
      "folding_laundry | a049-1957C\n",
      "folding_laundry | a049-1988C\n",
      "folding_laundry | a049-2004C\n",
      "folding_laundry | a049-2028C\n",
      "folding_laundry | a049-2032C\n",
      "folding_laundry | a049-2033C\n",
      "folding_laundry | a049-2036C\n",
      "going_down_stairs | a097-1157C\n",
      "going_down_stairs | a097-1179C\n",
      "going_down_stairs | a097-1187C\n",
      "going_down_stairs | a097-1195C\n",
      "going_down_stairs | a097-1196C\n",
      "going_down_stairs | a097-1202C\n",
      "going_up_stairs | a097-1185C\n",
      "going_up_stairs | a097-1189C\n",
      "going_up_stairs | a097-1191C\n",
      "going_up_stairs | a097-1193C\n",
      "going_up_stairs | a097-1199C\n",
      "going_up_stairs | a097-1203C\n",
      "house_cleaning | a055-1368C\n",
      "house_cleaning | a055-1373C\n",
      "house_cleaning | a055-1374C\n",
      "house_cleaning | a055-1392C\n",
      "house_cleaning | a055-1409C\n",
      "house_cleaning | a055-1411C\n",
      "house_cleaning | a055-1419C\n",
      "ironing | a042-0263C\n",
      "ironing | a042-0287C\n",
      "ironing | a042-0292C\n",
      "ironing | a042-0430C\n",
      "ironing | a042-0434C\n",
      "ironing | a042-0473C\n",
      "jump | Learn_Freerunning_and_Parkour__-_Diving_Kong_jump_f_cm_np1_le_bad_5\n",
      "jump | Parkour-_Diving_Kong_jump_u_cm_np1_fr_bad_1\n",
      "jump | prelinger_ControlY1950_jump_f_nm_np1_fr_med_12\n",
      "jump | Sam_Cooksey_Goalkeeper_Training_jump_f_cm_np1_le_bad_4\n",
      "jump | Stadium_Plyometric_Workout_jump_f_cm_np1_ba_bad_7\n",
      "jump | THE_PROTECTOR_jump_f_cm_np1_fr_bad_29\n",
      "jump | THE_PROTECTOR_jump_f_nm_np1_ba_bad_90\n",
      "jump | THE_PROTECTOR_jump_f_nm_np1_fr_bad_95\n",
      "kick_ball | likebeckam_kick_ball_f_nm_np1_ba_bad_39\n",
      "kick_ball | LONGESTYARD_kick_ball_f_cm_np1_le_bad_9\n",
      "kick_ball | Manchester_United_vs_Chelsea_Champion_League_final_2008_penalty_shootout_kick_ball_f_nm_np1_ba_bad_0\n",
      "kick_ball | Ribery_Torwandschiessen_Sportstudio_kick_ball_f_cm_np1_fr_med_0\n",
      "kick_ball | The_Damned_United___HQ___Clip_Two-_Be_The_Best_kick_ball_u_cm_np2_ri_goo_0\n",
      "kick_ball | The_Monk_Best_Bits_2_kick_ball_f_cm_np2_ri_med_2\n",
      "lying_on_floor | a112-0525C_1\n",
      "lying_on_floor | a112-0527C\n",
      "nordic_walk | Learning_the_Basic_Technique___Nordic_Walking_2_MOV_AdobeExpress\n",
      "nordic_walk | Learning_the_Basic_Technique___Nordic_Walking_3_MOV_AdobeExpress\n",
      "nordic_walk | Learning_the_Basic_Technique___Nordic_Walking_MOV_AdobeExpress\n",
      "nordic_walk | Video_Series_-_Nordic_Walking_Technique_-_Part__1_-_Long_Steps_MOV_AdobeExpress\n",
      "nordic_walk | What_is_Nordic_Walking___Nordic_Walking_2_MOV_AdobeExpress\n",
      "nordic_walk | What_is_Nordic_Walking___Nordic_Walking_3_MOV_AdobeExpress\n",
      "nordic_walk | What_is_Nordic_Walking___Nordic_Walking_MOV_AdobeExpress\n",
      "ride_bike | #437_How_To_Ride_A_Bike_ride_bike_f_cm_np1_ba_med_0\n",
      "ride_bike | #437_How_To_Ride_A_Bike_ride_bike_f_cm_np1_ba_med_1\n",
      "ride_bike | Bicycle_Tips_ride_bike_f_cm_np1_le_med_0\n",
      "ride_bike | Radfahren_um_die_Aggertalsperre_06_09_2009_ride_bike_f_cm_np1_fr_med_10\n",
      "ride_bike | Tour_de_France_2009_ETAPA_16_ESPN_ESP__Kilometros_finales_ride_bike_f_cm_np1_fr_med_3\n",
      "ride_bike | Tour_de_France_2009_ETAPA_16_ESPN_ESP__Kilometros_finales_ride_bike_f_cm_np1_fr_med_5\n",
      "run | likebeckam_run_f_nm_np1_fr_bad_12\n",
      "run | prelinger_they_grow_up_so_fast_1_run_f_nm_np1_ba_med_6\n",
      "run | TheLastManOnearth_run_f_nm_np1_fr_med_42\n",
      "run | The_Matrix_6_run_f_cm_np1_fr_med_2\n",
      "run | THE_PROTECTOR_run_f_nm_np1_fr_med_21\n",
      "run | TrumanShow_run_f_nm_np1_ba_med_19\n",
      "run | TrumanShow_run_f_nm_np1_ba_med_21\n",
      "run | Veoh_Alpha_Dog_2_run_f_nm_np1_ba_med_11\n",
      "run | Veoh_Alpha_Dog_2_run_f_nm_np1_fr_med_26\n",
      "sitting_down | a109-1300C\n",
      "sitting_down | a109-1307C\n",
      "sitting_down | a109-1310C\n",
      "sitting_down | a109-1313C\n",
      "sitting_down | a109-1314C\n",
      "sitting_down | a109-1315C\n",
      "stand | Man_Who_Cheated_Himself_512kb_stand_u_nm_np1_ba_med_0\n",
      "stand | Panic_in_the_Streets_stand_f_nm_np1_fr_med_8\n",
      "stand | Prelinger_LetYours1940_stand_f_nm_np1_fr_med_4\n",
      "stand | RATRACE_stand_f_cm_np1_ri_med_28\n",
      "stand | SoundAndTheStory_stand_f_cm_np1_ri_med_0\n",
      "stand | SweeneyTodd_stand_f_nm_np1_ri_bad_13\n",
      "using_computer | a024-0793C\n",
      "using_computer | a024-0795C\n",
      "using_computer | a024-0799C\n",
      "using_computer | a024-0804C\n",
      "using_computer | a024-0819C\n",
      "using_computer | a024-0822C\n",
      "using_computer | a024-0823C\n",
      "using_computer | a024-0829C\n",
      "using_computer | a024-0831C\n",
      "using_computer | a024-0834C\n",
      "vacuum_cleaning | Create perfect vacuum carpet lines\n",
      "vacuum_cleaning | DEEP cleaning a DIRTY rental property __ Satisfying carpet cleaning\n",
      "vacuum_cleaning | Final Vacuuming After Sanding Hardwood Floor - Burkhalter Floor Sanding\n",
      "vacuum_cleaning | How Gross Are Your Carpets\n",
      "vacuum_cleaning | Toddler vacuuming the floor\n",
      "vacuum_cleaning | Vacuuming Carpet\n",
      "walk | TheLittleShopofHorrors_walk_f_cm_np1_fr_med_12\n",
      "walk | TheLittleShopofHorrors_walk_f_nm_np1_ba_med_3\n",
      "walk | TrumanShow_walk_f_nm_np1_fr_med_1\n",
      "walk | TrumanShow_walk_f_nm_np1_fr_med_23\n",
      "walk | Veoh_Alpha_Dog_1_walk_f_nm_np1_fr_med_27\n",
      "walk | Veoh_Alpha_Dog_1_walk_f_nm_np1_ri_med_24\n",
      "walk | WeddingCrashers_walk_f_nm_np1_fr_med_19\n",
      "watching_TV | a031-1578C\n",
      "watching_TV | a031-1582C\n",
      "watching_TV | a031-1593C\n",
      "watching_TV | a031-1601C\n",
      "watching_TV | a031-1607C(1)\n",
      "watching_TV | a031-1607C\n",
      "watching_TV | a031-1611C(1)\n",
      "watching_TV | a031-1611C\n",
      "watching_TV | a031-1623C(1)\n",
      "watching_TV | a031-1623C\n",
      "watching_TV | a031-1629C(1)\n",
      "watching_TV | a031-1629C\n"
     ]
    }
   ],
   "source": [
    "data = {'video': [], 'action': [], 'file type': [], '#frames': [], 'width': [], 'height': []}\n",
    "\n",
    "for f in glob('../data/hand_picked_videos/*/*'):\n",
    "    _, action, p  = f.split('\\\\')\n",
    "    ID, ftype = '.'.join(p.split('.')[:-1]), p.split('.')[-1]\n",
    "    print(action, '|', ID)\n",
    "    data['video'].append(ID)\n",
    "    data['file type'].append(ftype)\n",
    "    data['action'].append(action) \n",
    "\n",
    "    # read video data\n",
    "    cap = cv2.VideoCapture(f)\n",
    "    if (cap.isOpened() == False): \n",
    "        print(\"Error reading video file\")\n",
    "    data['width'].append(int(cap.get(3)))\n",
    "    data['height'].append(int(cap.get(4)))\n",
    "    frames = 0\n",
    "    while cap.isOpened():\n",
    "        _, frame = cap.read()\n",
    "        try:\n",
    "            # convert the frame to RGB format\n",
    "            RGB = cv2.cvtColor(frame, cv2.COLOR_BGR2RGB)\n",
    "            frames+=1 \n",
    "        except Exception as inst:\n",
    "            break\n",
    "        if cv2.waitKey(1) == ord('q'):\n",
    "            break\n",
    "    cap.release()\n",
    "    data['#frames'].append(frames)\n"
   ]
  },
  {
   "cell_type": "code",
   "execution_count": 17,
   "metadata": {},
   "outputs": [
    {
     "data": {
      "text/html": [
       "<div>\n",
       "<style scoped>\n",
       "    .dataframe tbody tr th:only-of-type {\n",
       "        vertical-align: middle;\n",
       "    }\n",
       "\n",
       "    .dataframe tbody tr th {\n",
       "        vertical-align: top;\n",
       "    }\n",
       "\n",
       "    .dataframe thead th {\n",
       "        text-align: right;\n",
       "    }\n",
       "</style>\n",
       "<table border=\"1\" class=\"dataframe\">\n",
       "  <thead>\n",
       "    <tr style=\"text-align: right;\">\n",
       "      <th></th>\n",
       "      <th>video</th>\n",
       "      <th>action</th>\n",
       "      <th>file type</th>\n",
       "      <th>#frames</th>\n",
       "      <th>width</th>\n",
       "      <th>height</th>\n",
       "    </tr>\n",
       "  </thead>\n",
       "  <tbody>\n",
       "    <tr>\n",
       "      <th>0</th>\n",
       "      <td>Lexus LFA Mountain Drive - Incredible V10 Soun...</td>\n",
       "      <td>car_drive</td>\n",
       "      <td>mp4</td>\n",
       "      <td>295</td>\n",
       "      <td>1280</td>\n",
       "      <td>720</td>\n",
       "    </tr>\n",
       "    <tr>\n",
       "      <th>1</th>\n",
       "      <td>MAH00030 2</td>\n",
       "      <td>car_drive</td>\n",
       "      <td>mp4</td>\n",
       "      <td>215</td>\n",
       "      <td>1280</td>\n",
       "      <td>720</td>\n",
       "    </tr>\n",
       "    <tr>\n",
       "      <th>2</th>\n",
       "      <td>Racing 101 Check your steering wheel</td>\n",
       "      <td>car_drive</td>\n",
       "      <td>mp4</td>\n",
       "      <td>306</td>\n",
       "      <td>1280</td>\n",
       "      <td>720</td>\n",
       "    </tr>\n",
       "    <tr>\n",
       "      <th>3</th>\n",
       "      <td>Shuffle steering demonstration</td>\n",
       "      <td>car_drive</td>\n",
       "      <td>mp4</td>\n",
       "      <td>305</td>\n",
       "      <td>1280</td>\n",
       "      <td>720</td>\n",
       "    </tr>\n",
       "    <tr>\n",
       "      <th>4</th>\n",
       "      <td>Toyota Premio ZRT260 POV Drive</td>\n",
       "      <td>car_drive</td>\n",
       "      <td>mp4</td>\n",
       "      <td>304</td>\n",
       "      <td>1280</td>\n",
       "      <td>720</td>\n",
       "    </tr>\n",
       "    <tr>\n",
       "      <th>...</th>\n",
       "      <td>...</td>\n",
       "      <td>...</td>\n",
       "      <td>...</td>\n",
       "      <td>...</td>\n",
       "      <td>...</td>\n",
       "      <td>...</td>\n",
       "    </tr>\n",
       "    <tr>\n",
       "      <th>117</th>\n",
       "      <td>a031-1611C</td>\n",
       "      <td>watching_TV</td>\n",
       "      <td>mp4</td>\n",
       "      <td>180</td>\n",
       "      <td>1920</td>\n",
       "      <td>1080</td>\n",
       "    </tr>\n",
       "    <tr>\n",
       "      <th>118</th>\n",
       "      <td>a031-1623C(1)</td>\n",
       "      <td>watching_TV</td>\n",
       "      <td>mp4</td>\n",
       "      <td>151</td>\n",
       "      <td>1920</td>\n",
       "      <td>1080</td>\n",
       "    </tr>\n",
       "    <tr>\n",
       "      <th>119</th>\n",
       "      <td>a031-1623C</td>\n",
       "      <td>watching_TV</td>\n",
       "      <td>mp4</td>\n",
       "      <td>151</td>\n",
       "      <td>1920</td>\n",
       "      <td>1080</td>\n",
       "    </tr>\n",
       "    <tr>\n",
       "      <th>120</th>\n",
       "      <td>a031-1629C(1)</td>\n",
       "      <td>watching_TV</td>\n",
       "      <td>mp4</td>\n",
       "      <td>158</td>\n",
       "      <td>1920</td>\n",
       "      <td>1080</td>\n",
       "    </tr>\n",
       "    <tr>\n",
       "      <th>121</th>\n",
       "      <td>a031-1629C</td>\n",
       "      <td>watching_TV</td>\n",
       "      <td>mp4</td>\n",
       "      <td>158</td>\n",
       "      <td>1920</td>\n",
       "      <td>1080</td>\n",
       "    </tr>\n",
       "  </tbody>\n",
       "</table>\n",
       "<p>122 rows × 6 columns</p>\n",
       "</div>"
      ],
      "text/plain": [
       "                                                 video       action file type  \\\n",
       "0    Lexus LFA Mountain Drive - Incredible V10 Soun...    car_drive       mp4   \n",
       "1                                           MAH00030 2    car_drive       mp4   \n",
       "2                 Racing 101 Check your steering wheel    car_drive       mp4   \n",
       "3                       Shuffle steering demonstration    car_drive       mp4   \n",
       "4                       Toyota Premio ZRT260 POV Drive    car_drive       mp4   \n",
       "..                                                 ...          ...       ...   \n",
       "117                                         a031-1611C  watching_TV       mp4   \n",
       "118                                      a031-1623C(1)  watching_TV       mp4   \n",
       "119                                         a031-1623C  watching_TV       mp4   \n",
       "120                                      a031-1629C(1)  watching_TV       mp4   \n",
       "121                                         a031-1629C  watching_TV       mp4   \n",
       "\n",
       "     #frames  width  height  \n",
       "0        295   1280     720  \n",
       "1        215   1280     720  \n",
       "2        306   1280     720  \n",
       "3        305   1280     720  \n",
       "4        304   1280     720  \n",
       "..       ...    ...     ...  \n",
       "117      180   1920    1080  \n",
       "118      151   1920    1080  \n",
       "119      151   1920    1080  \n",
       "120      158   1920    1080  \n",
       "121      158   1920    1080  \n",
       "\n",
       "[122 rows x 6 columns]"
      ]
     },
     "execution_count": 17,
     "metadata": {},
     "output_type": "execute_result"
    }
   ],
   "source": [
    "data_df = pd.DataFrame.from_dict(data)\n",
    "data_df"
   ]
  },
  {
   "cell_type": "code",
   "execution_count": 18,
   "metadata": {},
   "outputs": [
    {
     "data": {
      "text/plain": [
       "watching_TV          12\n",
       "using_computer       10\n",
       "run                   9\n",
       "jump                  8\n",
       "walk                  7\n",
       "folding_laundry       7\n",
       "nordic_walk           7\n",
       "house_cleaning        7\n",
       "kick_ball             6\n",
       "ironing               6\n",
       "ride_bike             6\n",
       "sitting_down          6\n",
       "stand                 6\n",
       "going_up_stairs       6\n",
       "vacuum_cleaning       6\n",
       "going_down_stairs     6\n",
       "car_drive             5\n",
       "lying_on_floor        2\n",
       "Name: action, dtype: int64"
      ]
     },
     "execution_count": 18,
     "metadata": {},
     "output_type": "execute_result"
    }
   ],
   "source": [
    "data_df['action'].value_counts()"
   ]
  },
  {
   "cell_type": "code",
   "execution_count": 20,
   "metadata": {},
   "outputs": [
    {
     "data": {
      "text/plain": [
       "mp4    80\n",
       "avi    42\n",
       "Name: file type, dtype: int64"
      ]
     },
     "execution_count": 20,
     "metadata": {},
     "output_type": "execute_result"
    }
   ],
   "source": [
    "data_df['file type'].value_counts()"
   ]
  },
  {
   "cell_type": "code",
   "execution_count": 52,
   "metadata": {},
   "outputs": [
    {
     "data": {
      "text/plain": [
       "width  height\n",
       "1920   1080      30\n",
       "1280   720       29\n",
       "320    240       14\n",
       "1080   1920      10\n",
       "416    240        6\n",
       "352    240        5\n",
       "432    240        5\n",
       "720    1280       4\n",
       "592    240        4\n",
       "480    640        3\n",
       "560    240        3\n",
       "304    240        2\n",
       "640    360        1\n",
       "300    240        1\n",
       "607    1080       1\n",
       "360    640        1\n",
       "324    240        1\n",
       "312    240        1\n",
       "480    272        1\n",
       "dtype: int64"
      ]
     },
     "execution_count": 52,
     "metadata": {},
     "output_type": "execute_result"
    }
   ],
   "source": [
    "data_df.value_counts(subset=['width', 'height'])"
   ]
  },
  {
   "cell_type": "code",
   "execution_count": 24,
   "metadata": {},
   "outputs": [
    {
     "data": {
      "text/plain": [
       "(array([ 2.,  0.,  0.,  3.,  1.,  3.,  4.,  0.,  2.,  0.,  2.,  3., 13.,\n",
       "         2.,  1.,  0.,  1.,  1.,  3.,  1.,  2.,  4.,  0.,  1.,  1.,  1.,\n",
       "         2.,  0., 30.,  1.,  7.,  5.,  2.,  1.,  7.,  1.,  1.,  0.,  1.,\n",
       "         0.,  0.,  0.,  2.,  0.,  0.,  0.,  0.,  0.,  1.,  0.,  1.,  0.,\n",
       "         0.,  0.,  0.,  0.,  0.,  0.,  0.,  0.,  1.,  0.,  5.,  1.,  1.,\n",
       "         0.,  0.,  0.,  0.,  1.]),\n",
       " array([ 21.        ,  25.55714286,  30.11428571,  34.67142857,\n",
       "         39.22857143,  43.78571429,  48.34285714,  52.9       ,\n",
       "         57.45714286,  62.01428571,  66.57142857,  71.12857143,\n",
       "         75.68571429,  80.24285714,  84.8       ,  89.35714286,\n",
       "         93.91428571,  98.47142857, 103.02857143, 107.58571429,\n",
       "        112.14285714, 116.7       , 121.25714286, 125.81428571,\n",
       "        130.37142857, 134.92857143, 139.48571429, 144.04285714,\n",
       "        148.6       , 153.15714286, 157.71428571, 162.27142857,\n",
       "        166.82857143, 171.38571429, 175.94285714, 180.5       ,\n",
       "        185.05714286, 189.61428571, 194.17142857, 198.72857143,\n",
       "        203.28571429, 207.84285714, 212.4       , 216.95714286,\n",
       "        221.51428571, 226.07142857, 230.62857143, 235.18571429,\n",
       "        239.74285714, 244.3       , 248.85714286, 253.41428571,\n",
       "        257.97142857, 262.52857143, 267.08571429, 271.64285714,\n",
       "        276.2       , 280.75714286, 285.31428571, 289.87142857,\n",
       "        294.42857143, 298.98571429, 303.54285714, 308.1       ,\n",
       "        312.65714286, 317.21428571, 321.77142857, 326.32857143,\n",
       "        330.88571429, 335.44285714, 340.        ]),\n",
       " <BarContainer object of 70 artists>)"
      ]
     },
     "execution_count": 24,
     "metadata": {},
     "output_type": "execute_result"
    },
    {
     "data": {
      "image/png": "[encoded data removed]",
      "text/plain": [
       "<Figure size 640x480 with 1 Axes>"
      ]
     },
     "metadata": {},
     "output_type": "display_data"
    }
   ],
   "source": [
    "plt.hist(x=data_df['#frames'].values, bins=70)"
   ]
  },
  {
   "cell_type": "code",
   "execution_count": 30,
   "metadata": {},
   "outputs": [
    {
     "data": {
      "text/plain": [
       "<AxesSubplot:xlabel='#frames', ylabel='Count'>"
      ]
     },
     "execution_count": 30,
     "metadata": {},
     "output_type": "execute_result"
    },
    {
     "data": {
      "image/png": "[encoded data removed]",
      "text/plain": [
       "<Figure size 2400x1000 with 1 Axes>"
      ]
     },
     "metadata": {},
     "output_type": "display_data"
    }
   ],
   "source": [
    "plt.figure(figsize=(24,10))\n",
    "sns.histplot(data=data_df, x='#frames', multiple='dodge', hue='action')"
   ]
  },
  {
   "cell_type": "code",
   "execution_count": 31,
   "metadata": {},
   "outputs": [],
   "source": [
    "import plotly.express as px"
   ]
  },
  {
   "cell_type": "code",
   "execution_count": 41,
   "metadata": {},
   "outputs": [
    {
     "data": {
      "application/vnd.plotly.v1+json": {
       "config": {
        "plotlyServerURL": "https://plot.ly"
       },
       "data": [
        {
         "alignmentgroup": "True",
         "bingroup": "x",
         "hoverlabel": {
          "namelength": 0
         },
         "hovertemplate": "action=car_drive<br>#frames=%{x}<br>count=%{y}",
         "legendgroup": "action=car_drive",
         "marker": {
          "color": "#636efa"
         },
         "name": "action=car_drive",
         "offsetgroup": "action=car_drive",
         "orientation": "v",
         "showlegend": true,
         "type": "histogram",
         "x": [
          295,
          215,
          306,
          305,
          304
         ],
         "xaxis": "x",
         "yaxis": "y"
        },
        {
         "alignmentgroup": "True",
         "bingroup": "x",
         "hoverlabel": {
          "namelength": 0
         },
         "hovertemplate": "action=folding_laundry<br>#frames=%{x}<br>count=%{y}",
         "legendgroup": "action=folding_laundry",
         "marker": {
          "color": "#EF553B"
         },
         "name": "action=folding_laundry",
         "offsetgroup": "action=folding_laundry",
         "orientation": "v",
         "showlegend": true,
         "type": "histogram",
         "x": [
          150,
          150,
          150,
          150,
          151,
          150,
          150
         ],
         "xaxis": "x",
         "yaxis": "y"
        },
        {
         "alignmentgroup": "True",
         "bingroup": "x",
         "hoverlabel": {
          "namelength": 0
         },
         "hovertemplate": "action=going_down_stairs<br>#frames=%{x}<br>count=%{y}",
         "legendgroup": "action=going_down_stairs",
         "marker": {
          "color": "#00cc96"
         },
         "name": "action=going_down_stairs",
         "offsetgroup": "action=going_down_stairs",
         "orientation": "v",
         "showlegend": true,
         "type": "histogram",
         "x": [
          151,
          150,
          151,
          150,
          150,
          150
         ],
         "xaxis": "x",
         "yaxis": "y"
        },
        {
         "alignmentgroup": "True",
         "bingroup": "x",
         "hoverlabel": {
          "namelength": 0
         },
         "hovertemplate": "action=going_up_stairs<br>#frames=%{x}<br>count=%{y}",
         "legendgroup": "action=going_up_stairs",
         "marker": {
          "color": "#ab63fa"
         },
         "name": "action=going_up_stairs",
         "offsetgroup": "action=going_up_stairs",
         "orientation": "v",
         "showlegend": true,
         "type": "histogram",
         "x": [
          150,
          150,
          151,
          151,
          150,
          151
         ],
         "xaxis": "x",
         "yaxis": "y"
        },
        {
         "alignmentgroup": "True",
         "bingroup": "x",
         "hoverlabel": {
          "namelength": 0
         },
         "hovertemplate": "action=house_cleaning<br>#frames=%{x}<br>count=%{y}",
         "legendgroup": "action=house_cleaning",
         "marker": {
          "color": "#FFA15A"
         },
         "name": "action=house_cleaning",
         "offsetgroup": "action=house_cleaning",
         "orientation": "v",
         "showlegend": true,
         "type": "histogram",
         "x": [
          174,
          170,
          160,
          304,
          340,
          310,
          316
         ],
         "xaxis": "x",
         "yaxis": "y"
        },
        {
         "alignmentgroup": "True",
         "bingroup": "x",
         "hoverlabel": {
          "namelength": 0
         },
         "hovertemplate": "action=ironing<br>#frames=%{x}<br>count=%{y}",
         "legendgroup": "action=ironing",
         "marker": {
          "color": "#19d3f3"
         },
         "name": "action=ironing",
         "offsetgroup": "action=ironing",
         "orientation": "v",
         "showlegend": true,
         "type": "histogram",
         "x": [
          120,
          95,
          112,
          166,
          151,
          215
         ],
         "xaxis": "x",
         "yaxis": "y"
        },
        {
         "alignmentgroup": "True",
         "bingroup": "x",
         "hoverlabel": {
          "namelength": 0
         },
         "hovertemplate": "action=jump<br>#frames=%{x}<br>count=%{y}",
         "legendgroup": "action=jump",
         "marker": {
          "color": "#FF6692"
         },
         "name": "action=jump",
         "offsetgroup": "action=jump",
         "orientation": "v",
         "showlegend": true,
         "type": "histogram",
         "x": [
          44,
          36,
          36,
          58,
          35,
          48,
          52,
          21
         ],
         "xaxis": "x",
         "yaxis": "y"
        },
        {
         "alignmentgroup": "True",
         "bingroup": "x",
         "hoverlabel": {
          "namelength": 0
         },
         "hovertemplate": "action=kick_ball<br>#frames=%{x}<br>count=%{y}",
         "legendgroup": "action=kick_ball",
         "marker": {
          "color": "#B6E880"
         },
         "name": "action=kick_ball",
         "offsetgroup": "action=kick_ball",
         "orientation": "v",
         "showlegend": true,
         "type": "histogram",
         "x": [
          43,
          44,
          52,
          68,
          85,
          58
         ],
         "xaxis": "x",
         "yaxis": "y"
        },
        {
         "alignmentgroup": "True",
         "bingroup": "x",
         "hoverlabel": {
          "namelength": 0
         },
         "hovertemplate": "action=lying_on_floor<br>#frames=%{x}<br>count=%{y}",
         "legendgroup": "action=lying_on_floor",
         "marker": {
          "color": "#FF97FF"
         },
         "name": "action=lying_on_floor",
         "offsetgroup": "action=lying_on_floor",
         "orientation": "v",
         "showlegend": true,
         "type": "histogram",
         "x": [
          149,
          155
         ],
         "xaxis": "x",
         "yaxis": "y"
        },
        {
         "alignmentgroup": "True",
         "bingroup": "x",
         "hoverlabel": {
          "namelength": 0
         },
         "hovertemplate": "action=nordic_walk<br>#frames=%{x}<br>count=%{y}",
         "legendgroup": "action=nordic_walk",
         "marker": {
          "color": "#FECB52"
         },
         "name": "action=nordic_walk",
         "offsetgroup": "action=nordic_walk",
         "orientation": "v",
         "showlegend": true,
         "type": "histogram",
         "x": [
          131,
          75,
          105,
          307,
          119,
          127,
          68
         ],
         "xaxis": "x",
         "yaxis": "y"
        },
        {
         "alignmentgroup": "True",
         "bingroup": "x",
         "hoverlabel": {
          "namelength": 0
         },
         "hovertemplate": "action=ride_bike<br>#frames=%{x}<br>count=%{y}",
         "legendgroup": "action=ride_bike",
         "marker": {
          "color": "#636efa"
         },
         "name": "action=ride_bike",
         "offsetgroup": "action=ride_bike",
         "orientation": "v",
         "showlegend": true,
         "type": "histogram",
         "x": [
          80,
          80,
          119,
          80,
          116,
          79
         ],
         "xaxis": "x",
         "yaxis": "y"
        },
        {
         "alignmentgroup": "True",
         "bingroup": "x",
         "hoverlabel": {
          "namelength": 0
         },
         "hovertemplate": "action=run<br>#frames=%{x}<br>count=%{y}",
         "legendgroup": "action=run",
         "marker": {
          "color": "#EF553B"
         },
         "name": "action=run",
         "offsetgroup": "action=run",
         "orientation": "v",
         "showlegend": true,
         "type": "histogram",
         "x": [
          49,
          107,
          76,
          72,
          24,
          79,
          50,
          84,
          137
         ],
         "xaxis": "x",
         "yaxis": "y"
        },
        {
         "alignmentgroup": "True",
         "bingroup": "x",
         "hoverlabel": {
          "namelength": 0
         },
         "hovertemplate": "action=sitting_down<br>#frames=%{x}<br>count=%{y}",
         "legendgroup": "action=sitting_down",
         "marker": {
          "color": "#00cc96"
         },
         "name": "action=sitting_down",
         "offsetgroup": "action=sitting_down",
         "orientation": "v",
         "showlegend": true,
         "type": "histogram",
         "x": [
          150,
          151,
          150,
          150,
          150,
          150
         ],
         "xaxis": "x",
         "yaxis": "y"
        },
        {
         "alignmentgroup": "True",
         "bingroup": "x",
         "hoverlabel": {
          "namelength": 0
         },
         "hovertemplate": "action=stand<br>#frames=%{x}<br>count=%{y}",
         "legendgroup": "action=stand",
         "marker": {
          "color": "#ab63fa"
         },
         "name": "action=stand",
         "offsetgroup": "action=stand",
         "orientation": "v",
         "showlegend": true,
         "type": "histogram",
         "x": [
          75,
          76,
          113,
          79,
          78,
          142
         ],
         "xaxis": "x",
         "yaxis": "y"
        },
        {
         "alignmentgroup": "True",
         "bingroup": "x",
         "hoverlabel": {
          "namelength": 0
         },
         "hovertemplate": "action=using_computer<br>#frames=%{x}<br>count=%{y}",
         "legendgroup": "action=using_computer",
         "marker": {
          "color": "#FFA15A"
         },
         "name": "action=using_computer",
         "offsetgroup": "action=using_computer",
         "orientation": "v",
         "showlegend": true,
         "type": "histogram",
         "x": [
          164,
          159,
          164,
          187,
          170,
          162,
          166,
          151,
          161,
          182
         ],
         "xaxis": "x",
         "yaxis": "y"
        },
        {
         "alignmentgroup": "True",
         "bingroup": "x",
         "hoverlabel": {
          "namelength": 0
         },
         "hovertemplate": "action=vacuum_cleaning<br>#frames=%{x}<br>count=%{y}",
         "legendgroup": "action=vacuum_cleaning",
         "marker": {
          "color": "#19d3f3"
         },
         "name": "action=vacuum_cleaning",
         "offsetgroup": "action=vacuum_cleaning",
         "orientation": "v",
         "showlegend": true,
         "type": "histogram",
         "x": [
          249,
          243,
          102,
          118,
          143,
          198
         ],
         "xaxis": "x",
         "yaxis": "y"
        },
        {
         "alignmentgroup": "True",
         "bingroup": "x",
         "hoverlabel": {
          "namelength": 0
         },
         "hovertemplate": "action=walk<br>#frames=%{x}<br>count=%{y}",
         "legendgroup": "action=walk",
         "marker": {
          "color": "#FF6692"
         },
         "name": "action=walk",
         "offsetgroup": "action=walk",
         "orientation": "v",
         "showlegend": true,
         "type": "histogram",
         "x": [
          78,
          78,
          84,
          76,
          160,
          80,
          104
         ],
         "xaxis": "x",
         "yaxis": "y"
        },
        {
         "alignmentgroup": "True",
         "bingroup": "x",
         "hoverlabel": {
          "namelength": 0
         },
         "hovertemplate": "action=watching_TV<br>#frames=%{x}<br>count=%{y}",
         "legendgroup": "action=watching_TV",
         "marker": {
          "color": "#B6E880"
         },
         "name": "action=watching_TV",
         "offsetgroup": "action=watching_TV",
         "orientation": "v",
         "showlegend": true,
         "type": "histogram",
         "x": [
          177,
          165,
          180,
          180,
          180,
          180,
          180,
          180,
          151,
          151,
          158,
          158
         ],
         "xaxis": "x",
         "yaxis": "y"
        }
       ],
       "layout": {
        "barmode": "group",
        "height": 600,
        "legend": {
         "tracegroupgap": 0
        },
        "margin": {
         "t": 60
        },
        "template": {
         "data": {
          "bar": [
           {
            "error_x": {
             "color": "#2a3f5f"
            },
            "error_y": {
             "color": "#2a3f5f"
            },
            "marker": {
             "line": {
              "color": "#E5ECF6",
              "width": 0.5
             }
            },
            "type": "bar"
           }
          ],
          "barpolar": [
           {
            "marker": {
             "line": {
              "color": "#E5ECF6",
              "width": 0.5
             }
            },
            "type": "barpolar"
           }
          ],
          "carpet": [
           {
            "aaxis": {
             "endlinecolor": "#2a3f5f",
             "gridcolor": "white",
             "linecolor": "white",
             "minorgridcolor": "white",
             "startlinecolor": "#2a3f5f"
            },
            "baxis": {
             "endlinecolor": "#2a3f5f",
             "gridcolor": "white",
             "linecolor": "white",
             "minorgridcolor": "white",
             "startlinecolor": "#2a3f5f"
            },
            "type": "carpet"
           }
          ],
          "choropleth": [
           {
            "colorbar": {
             "outlinewidth": 0,
             "ticks": ""
            },
            "type": "choropleth"
           }
          ],
          "contour": [
           {
            "colorbar": {
             "outlinewidth": 0,
             "ticks": ""
            },
            "colorscale": [
             [
              0,
              "#0d0887"
             ],
             [
              0.1111111111111111,
              "#46039f"
             ],
             [
              0.2222222222222222,
              "#7201a8"
             ],
             [
              0.3333333333333333,
              "#9c179e"
             ],
             [
              0.4444444444444444,
              "#bd3786"
             ],
             [
              0.5555555555555556,
              "#d8576b"
             ],
             [
              0.6666666666666666,
              "#ed7953"
             ],
             [
              0.7777777777777778,
              "#fb9f3a"
             ],
             [
              0.8888888888888888,
              "#fdca26"
             ],
             [
              1,
              "#f0f921"
             ]
            ],
            "type": "contour"
           }
          ],
          "contourcarpet": [
           {
            "colorbar": {
             "outlinewidth": 0,
             "ticks": ""
            },
            "type": "contourcarpet"
           }
          ],
          "heatmap": [
           {
            "colorbar": {
             "outlinewidth": 0,
             "ticks": ""
            },
            "colorscale": [
             [
              0,
              "#0d0887"
             ],
             [
              0.1111111111111111,
              "#46039f"
             ],
             [
              0.2222222222222222,
              "#7201a8"
             ],
             [
              0.3333333333333333,
              "#9c179e"
             ],
             [
              0.4444444444444444,
              "#bd3786"
             ],
             [
              0.5555555555555556,
              "#d8576b"
             ],
             [
              0.6666666666666666,
              "#ed7953"
             ],
             [
              0.7777777777777778,
              "#fb9f3a"
             ],
             [
              0.8888888888888888,
              "#fdca26"
             ],
             [
              1,
              "#f0f921"
             ]
            ],
            "type": "heatmap"
           }
          ],
          "heatmapgl": [
           {
            "colorbar": {
             "outlinewidth": 0,
             "ticks": ""
            },
            "colorscale": [
             [
              0,
              "#0d0887"
             ],
             [
              0.1111111111111111,
              "#46039f"
             ],
             [
              0.2222222222222222,
              "#7201a8"
             ],
             [
              0.3333333333333333,
              "#9c179e"
             ],
             [
              0.4444444444444444,
              "#bd3786"
             ],
             [
              0.5555555555555556,
              "#d8576b"
             ],
             [
              0.6666666666666666,
              "#ed7953"
             ],
             [
              0.7777777777777778,
              "#fb9f3a"
             ],
             [
              0.8888888888888888,
              "#fdca26"
             ],
             [
              1,
              "#f0f921"
             ]
            ],
            "type": "heatmapgl"
           }
          ],
          "histogram": [
           {
            "marker": {
             "colorbar": {
              "outlinewidth": 0,
              "ticks": ""
             }
            },
            "type": "histogram"
           }
          ],
          "histogram2d": [
           {
            "colorbar": {
             "outlinewidth": 0,
             "ticks": ""
            },
            "colorscale": [
             [
              0,
              "#0d0887"
             ],
             [
              0.1111111111111111,
              "#46039f"
             ],
             [
              0.2222222222222222,
              "#7201a8"
             ],
             [
              0.3333333333333333,
              "#9c179e"
             ],
             [
              0.4444444444444444,
              "#bd3786"
             ],
             [
              0.5555555555555556,
              "#d8576b"
             ],
             [
              0.6666666666666666,
              "#ed7953"
             ],
             [
              0.7777777777777778,
              "#fb9f3a"
             ],
             [
              0.8888888888888888,
              "#fdca26"
             ],
             [
              1,
              "#f0f921"
             ]
            ],
            "type": "histogram2d"
           }
          ],
          "histogram2dcontour": [
           {
            "colorbar": {
             "outlinewidth": 0,
             "ticks": ""
            },
            "colorscale": [
             [
              0,
              "#0d0887"
             ],
             [
              0.1111111111111111,
              "#46039f"
             ],
             [
              0.2222222222222222,
              "#7201a8"
             ],
             [
              0.3333333333333333,
              "#9c179e"
             ],
             [
              0.4444444444444444,
              "#bd3786"
             ],
             [
              0.5555555555555556,
              "#d8576b"
             ],
             [
              0.6666666666666666,
              "#ed7953"
             ],
             [
              0.7777777777777778,
              "#fb9f3a"
             ],
             [
              0.8888888888888888,
              "#fdca26"
             ],
             [
              1,
              "#f0f921"
             ]
            ],
            "type": "histogram2dcontour"
           }
          ],
          "mesh3d": [
           {
            "colorbar": {
             "outlinewidth": 0,
             "ticks": ""
            },
            "type": "mesh3d"
           }
          ],
          "parcoords": [
           {
            "line": {
             "colorbar": {
              "outlinewidth": 0,
              "ticks": ""
             }
            },
            "type": "parcoords"
           }
          ],
          "pie": [
           {
            "automargin": true,
            "type": "pie"
           }
          ],
          "scatter": [
           {
            "marker": {
             "colorbar": {
              "outlinewidth": 0,
              "ticks": ""
             }
            },
            "type": "scatter"
           }
          ],
          "scatter3d": [
           {
            "line": {
             "colorbar": {
              "outlinewidth": 0,
              "ticks": ""
             }
            },
            "marker": {
             "colorbar": {
              "outlinewidth": 0,
              "ticks": ""
             }
            },
            "type": "scatter3d"
           }
          ],
          "scattercarpet": [
           {
            "marker": {
             "colorbar": {
              "outlinewidth": 0,
              "ticks": ""
             }
            },
            "type": "scattercarpet"
           }
          ],
          "scattergeo": [
           {
            "marker": {
             "colorbar": {
              "outlinewidth": 0,
              "ticks": ""
             }
            },
            "type": "scattergeo"
           }
          ],
          "scattergl": [
           {
            "marker": {
             "colorbar": {
              "outlinewidth": 0,
              "ticks": ""
             }
            },
            "type": "scattergl"
           }
          ],
          "scattermapbox": [
           {
            "marker": {
             "colorbar": {
              "outlinewidth": 0,
              "ticks": ""
             }
            },
            "type": "scattermapbox"
           }
          ],
          "scatterpolar": [
           {
            "marker": {
             "colorbar": {
              "outlinewidth": 0,
              "ticks": ""
             }
            },
            "type": "scatterpolar"
           }
          ],
          "scatterpolargl": [
           {
            "marker": {
             "colorbar": {
              "outlinewidth": 0,
              "ticks": ""
             }
            },
            "type": "scatterpolargl"
           }
          ],
          "scatterternary": [
           {
            "marker": {
             "colorbar": {
              "outlinewidth": 0,
              "ticks": ""
             }
            },
            "type": "scatterternary"
           }
          ],
          "surface": [
           {
            "colorbar": {
             "outlinewidth": 0,
             "ticks": ""
            },
            "colorscale": [
             [
              0,
              "#0d0887"
             ],
             [
              0.1111111111111111,
              "#46039f"
             ],
             [
              0.2222222222222222,
              "#7201a8"
             ],
             [
              0.3333333333333333,
              "#9c179e"
             ],
             [
              0.4444444444444444,
              "#bd3786"
             ],
             [
              0.5555555555555556,
              "#d8576b"
             ],
             [
              0.6666666666666666,
              "#ed7953"
             ],
             [
              0.7777777777777778,
              "#fb9f3a"
             ],
             [
              0.8888888888888888,
              "#fdca26"
             ],
             [
              1,
              "#f0f921"
             ]
            ],
            "type": "surface"
           }
          ],
          "table": [
           {
            "cells": {
             "fill": {
              "color": "#EBF0F8"
             },
             "line": {
              "color": "white"
             }
            },
            "header": {
             "fill": {
              "color": "#C8D4E3"
             },
             "line": {
              "color": "white"
             }
            },
            "type": "table"
           }
          ]
         },
         "layout": {
          "annotationdefaults": {
           "arrowcolor": "#2a3f5f",
           "arrowhead": 0,
           "arrowwidth": 1
          },
          "coloraxis": {
           "colorbar": {
            "outlinewidth": 0,
            "ticks": ""
           }
          },
          "colorscale": {
           "diverging": [
            [
             0,
             "#8e0152"
            ],
            [
             0.1,
             "#c51b7d"
            ],
            [
             0.2,
             "#de77ae"
            ],
            [
             0.3,
             "#f1b6da"
            ],
            [
             0.4,
             "#fde0ef"
            ],
            [
             0.5,
             "#f7f7f7"
            ],
            [
             0.6,
             "#e6f5d0"
            ],
            [
             0.7,
             "#b8e186"
            ],
            [
             0.8,
             "#7fbc41"
            ],
            [
             0.9,
             "#4d9221"
            ],
            [
             1,
             "#276419"
            ]
           ],
           "sequential": [
            [
             0,
             "#0d0887"
            ],
            [
             0.1111111111111111,
             "#46039f"
            ],
            [
             0.2222222222222222,
             "#7201a8"
            ],
            [
             0.3333333333333333,
             "#9c179e"
            ],
            [
             0.4444444444444444,
             "#bd3786"
            ],
            [
             0.5555555555555556,
             "#d8576b"
            ],
            [
             0.6666666666666666,
             "#ed7953"
            ],
            [
             0.7777777777777778,
             "#fb9f3a"
            ],
            [
             0.8888888888888888,
             "#fdca26"
            ],
            [
             1,
             "#f0f921"
            ]
           ],
           "sequentialminus": [
            [
             0,
             "#0d0887"
            ],
            [
             0.1111111111111111,
             "#46039f"
            ],
            [
             0.2222222222222222,
             "#7201a8"
            ],
            [
             0.3333333333333333,
             "#9c179e"
            ],
            [
             0.4444444444444444,
             "#bd3786"
            ],
            [
             0.5555555555555556,
             "#d8576b"
            ],
            [
             0.6666666666666666,
             "#ed7953"
            ],
            [
             0.7777777777777778,
             "#fb9f3a"
            ],
            [
             0.8888888888888888,
             "#fdca26"
            ],
            [
             1,
             "#f0f921"
            ]
           ]
          },
          "colorway": [
           "#636efa",
           "#EF553B",
           "#00cc96",
           "#ab63fa",
           "#FFA15A",
           "#19d3f3",
           "#FF6692",
           "#B6E880",
           "#FF97FF",
           "#FECB52"
          ],
          "font": {
           "color": "#2a3f5f"
          },
          "geo": {
           "bgcolor": "white",
           "lakecolor": "white",
           "landcolor": "#E5ECF6",
           "showlakes": true,
           "showland": true,
           "subunitcolor": "white"
          },
          "hoverlabel": {
           "align": "left"
          },
          "hovermode": "closest",
          "mapbox": {
           "style": "light"
          },
          "paper_bgcolor": "white",
          "plot_bgcolor": "#E5ECF6",
          "polar": {
           "angularaxis": {
            "gridcolor": "white",
            "linecolor": "white",
            "ticks": ""
           },
           "bgcolor": "#E5ECF6",
           "radialaxis": {
            "gridcolor": "white",
            "linecolor": "white",
            "ticks": ""
           }
          },
          "scene": {
           "xaxis": {
            "backgroundcolor": "#E5ECF6",
            "gridcolor": "white",
            "gridwidth": 2,
            "linecolor": "white",
            "showbackground": true,
            "ticks": "",
            "zerolinecolor": "white"
           },
           "yaxis": {
            "backgroundcolor": "#E5ECF6",
            "gridcolor": "white",
            "gridwidth": 2,
            "linecolor": "white",
            "showbackground": true,
            "ticks": "",
            "zerolinecolor": "white"
           },
           "zaxis": {
            "backgroundcolor": "#E5ECF6",
            "gridcolor": "white",
            "gridwidth": 2,
            "linecolor": "white",
            "showbackground": true,
            "ticks": "",
            "zerolinecolor": "white"
           }
          },
          "shapedefaults": {
           "line": {
            "color": "#2a3f5f"
           }
          },
          "ternary": {
           "aaxis": {
            "gridcolor": "white",
            "linecolor": "white",
            "ticks": ""
           },
           "baxis": {
            "gridcolor": "white",
            "linecolor": "white",
            "ticks": ""
           },
           "bgcolor": "#E5ECF6",
           "caxis": {
            "gridcolor": "white",
            "linecolor": "white",
            "ticks": ""
           }
          },
          "title": {
           "x": 0.05
          },
          "xaxis": {
           "automargin": true,
           "gridcolor": "white",
           "linecolor": "white",
           "ticks": "",
           "title": {
            "standoff": 15
           },
           "zerolinecolor": "white",
           "zerolinewidth": 2
          },
          "yaxis": {
           "automargin": true,
           "gridcolor": "white",
           "linecolor": "white",
           "ticks": "",
           "title": {
            "standoff": 15
           },
           "zerolinecolor": "white",
           "zerolinewidth": 2
          }
         }
        },
        "width": 1600,
        "xaxis": {
         "anchor": "y",
         "domain": [
          0,
          1
         ],
         "title": {
          "text": "#frames"
         }
        },
        "yaxis": {
         "anchor": "x",
         "domain": [
          0,
          1
         ],
         "title": {
          "text": "count"
         }
        }
       }
      }
     },
     "metadata": {},
     "output_type": "display_data"
    }
   ],
   "source": [
    "fig = px.histogram(data_df, x='#frames', color='action', barmode='group', width=1600, height=600)\n",
    "fig.show()"
   ]
  },
  {
   "cell_type": "code",
   "execution_count": 47,
   "metadata": {},
   "outputs": [
    {
     "data": {
      "application/vnd.plotly.v1+json": {
       "config": {
        "plotlyServerURL": "https://plot.ly"
       },
       "data": [
        {
         "alignmentgroup": "True",
         "hoverlabel": {
          "namelength": 0
         },
         "hovertemplate": "#frames=%{x}<br>action=%{y}",
         "legendgroup": "",
         "marker": {
          "color": "#636efa"
         },
         "name": "",
         "notched": false,
         "offsetgroup": "",
         "orientation": "h",
         "showlegend": false,
         "type": "box",
         "x": [
          295,
          215,
          306,
          305,
          304,
          150,
          150,
          150,
          150,
          151,
          150,
          150,
          151,
          150,
          151,
          150,
          150,
          150,
          150,
          150,
          151,
          151,
          150,
          151,
          174,
          170,
          160,
          304,
          340,
          310,
          316,
          120,
          95,
          112,
          166,
          151,
          215,
          44,
          36,
          36,
          58,
          35,
          48,
          52,
          21,
          43,
          44,
          52,
          68,
          85,
          58,
          149,
          155,
          131,
          75,
          105,
          307,
          119,
          127,
          68,
          80,
          80,
          119,
          80,
          116,
          79,
          49,
          107,
          76,
          72,
          24,
          79,
          50,
          84,
          137,
          150,
          151,
          150,
          150,
          150,
          150,
          75,
          76,
          113,
          79,
          78,
          142,
          164,
          159,
          164,
          187,
          170,
          162,
          166,
          151,
          161,
          182,
          249,
          243,
          102,
          118,
          143,
          198,
          78,
          78,
          84,
          76,
          160,
          80,
          104,
          177,
          165,
          180,
          180,
          180,
          180,
          180,
          180,
          151,
          151,
          158,
          158
         ],
         "x0": " ",
         "xaxis": "x",
         "y": [
          "car_drive",
          "car_drive",
          "car_drive",
          "car_drive",
          "car_drive",
          "folding_laundry",
          "folding_laundry",
          "folding_laundry",
          "folding_laundry",
          "folding_laundry",
          "folding_laundry",
          "folding_laundry",
          "going_down_stairs",
          "going_down_stairs",
          "going_down_stairs",
          "going_down_stairs",
          "going_down_stairs",
          "going_down_stairs",
          "going_up_stairs",
          "going_up_stairs",
          "going_up_stairs",
          "going_up_stairs",
          "going_up_stairs",
          "going_up_stairs",
          "house_cleaning",
          "house_cleaning",
          "house_cleaning",
          "house_cleaning",
          "house_cleaning",
          "house_cleaning",
          "house_cleaning",
          "ironing",
          "ironing",
          "ironing",
          "ironing",
          "ironing",
          "ironing",
          "jump",
          "jump",
          "jump",
          "jump",
          "jump",
          "jump",
          "jump",
          "jump",
          "kick_ball",
          "kick_ball",
          "kick_ball",
          "kick_ball",
          "kick_ball",
          "kick_ball",
          "lying_on_floor",
          "lying_on_floor",
          "nordic_walk",
          "nordic_walk",
          "nordic_walk",
          "nordic_walk",
          "nordic_walk",
          "nordic_walk",
          "nordic_walk",
          "ride_bike",
          "ride_bike",
          "ride_bike",
          "ride_bike",
          "ride_bike",
          "ride_bike",
          "run",
          "run",
          "run",
          "run",
          "run",
          "run",
          "run",
          "run",
          "run",
          "sitting_down",
          "sitting_down",
          "sitting_down",
          "sitting_down",
          "sitting_down",
          "sitting_down",
          "stand",
          "stand",
          "stand",
          "stand",
          "stand",
          "stand",
          "using_computer",
          "using_computer",
          "using_computer",
          "using_computer",
          "using_computer",
          "using_computer",
          "using_computer",
          "using_computer",
          "using_computer",
          "using_computer",
          "vacuum_cleaning",
          "vacuum_cleaning",
          "vacuum_cleaning",
          "vacuum_cleaning",
          "vacuum_cleaning",
          "vacuum_cleaning",
          "walk",
          "walk",
          "walk",
          "walk",
          "walk",
          "walk",
          "walk",
          "watching_TV",
          "watching_TV",
          "watching_TV",
          "watching_TV",
          "watching_TV",
          "watching_TV",
          "watching_TV",
          "watching_TV",
          "watching_TV",
          "watching_TV",
          "watching_TV",
          "watching_TV"
         ],
         "y0": " ",
         "yaxis": "y"
        }
       ],
       "layout": {
        "boxmode": "group",
        "height": 800,
        "legend": {
         "tracegroupgap": 0
        },
        "margin": {
         "t": 60
        },
        "template": {
         "data": {
          "bar": [
           {
            "error_x": {
             "color": "#2a3f5f"
            },
            "error_y": {
             "color": "#2a3f5f"
            },
            "marker": {
             "line": {
              "color": "#E5ECF6",
              "width": 0.5
             }
            },
            "type": "bar"
           }
          ],
          "barpolar": [
           {
            "marker": {
             "line": {
              "color": "#E5ECF6",
              "width": 0.5
             }
            },
            "type": "barpolar"
           }
          ],
          "carpet": [
           {
            "aaxis": {
             "endlinecolor": "#2a3f5f",
             "gridcolor": "white",
             "linecolor": "white",
             "minorgridcolor": "white",
             "startlinecolor": "#2a3f5f"
            },
            "baxis": {
             "endlinecolor": "#2a3f5f",
             "gridcolor": "white",
             "linecolor": "white",
             "minorgridcolor": "white",
             "startlinecolor": "#2a3f5f"
            },
            "type": "carpet"
           }
          ],
          "choropleth": [
           {
            "colorbar": {
             "outlinewidth": 0,
             "ticks": ""
            },
            "type": "choropleth"
           }
          ],
          "contour": [
           {
            "colorbar": {
             "outlinewidth": 0,
             "ticks": ""
            },
            "colorscale": [
             [
              0,
              "#0d0887"
             ],
             [
              0.1111111111111111,
              "#46039f"
             ],
             [
              0.2222222222222222,
              "#7201a8"
             ],
             [
              0.3333333333333333,
              "#9c179e"
             ],
             [
              0.4444444444444444,
              "#bd3786"
             ],
             [
              0.5555555555555556,
              "#d8576b"
             ],
             [
              0.6666666666666666,
              "#ed7953"
             ],
             [
              0.7777777777777778,
              "#fb9f3a"
             ],
             [
              0.8888888888888888,
              "#fdca26"
             ],
             [
              1,
              "#f0f921"
             ]
            ],
            "type": "contour"
           }
          ],
          "contourcarpet": [
           {
            "colorbar": {
             "outlinewidth": 0,
             "ticks": ""
            },
            "type": "contourcarpet"
           }
          ],
          "heatmap": [
           {
            "colorbar": {
             "outlinewidth": 0,
             "ticks": ""
            },
            "colorscale": [
             [
              0,
              "#0d0887"
             ],
             [
              0.1111111111111111,
              "#46039f"
             ],
             [
              0.2222222222222222,
              "#7201a8"
             ],
             [
              0.3333333333333333,
              "#9c179e"
             ],
             [
              0.4444444444444444,
              "#bd3786"
             ],
             [
              0.5555555555555556,
              "#d8576b"
             ],
             [
              0.6666666666666666,
              "#ed7953"
             ],
             [
              0.7777777777777778,
              "#fb9f3a"
             ],
             [
              0.8888888888888888,
              "#fdca26"
             ],
             [
              1,
              "#f0f921"
             ]
            ],
            "type": "heatmap"
           }
          ],
          "heatmapgl": [
           {
            "colorbar": {
             "outlinewidth": 0,
             "ticks": ""
            },
            "colorscale": [
             [
              0,
              "#0d0887"
             ],
             [
              0.1111111111111111,
              "#46039f"
             ],
             [
              0.2222222222222222,
              "#7201a8"
             ],
             [
              0.3333333333333333,
              "#9c179e"
             ],
             [
              0.4444444444444444,
              "#bd3786"
             ],
             [
              0.5555555555555556,
              "#d8576b"
             ],
             [
              0.6666666666666666,
              "#ed7953"
             ],
             [
              0.7777777777777778,
              "#fb9f3a"
             ],
             [
              0.8888888888888888,
              "#fdca26"
             ],
             [
              1,
              "#f0f921"
             ]
            ],
            "type": "heatmapgl"
           }
          ],
          "histogram": [
           {
            "marker": {
             "colorbar": {
              "outlinewidth": 0,
              "ticks": ""
             }
            },
            "type": "histogram"
           }
          ],
          "histogram2d": [
           {
            "colorbar": {
             "outlinewidth": 0,
             "ticks": ""
            },
            "colorscale": [
             [
              0,
              "#0d0887"
             ],
             [
              0.1111111111111111,
              "#46039f"
             ],
             [
              0.2222222222222222,
              "#7201a8"
             ],
             [
              0.3333333333333333,
              "#9c179e"
             ],
             [
              0.4444444444444444,
              "#bd3786"
             ],
             [
              0.5555555555555556,
              "#d8576b"
             ],
             [
              0.6666666666666666,
              "#ed7953"
             ],
             [
              0.7777777777777778,
              "#fb9f3a"
             ],
             [
              0.8888888888888888,
              "#fdca26"
             ],
             [
              1,
              "#f0f921"
             ]
            ],
            "type": "histogram2d"
           }
          ],
          "histogram2dcontour": [
           {
            "colorbar": {
             "outlinewidth": 0,
             "ticks": ""
            },
            "colorscale": [
             [
              0,
              "#0d0887"
             ],
             [
              0.1111111111111111,
              "#46039f"
             ],
             [
              0.2222222222222222,
              "#7201a8"
             ],
             [
              0.3333333333333333,
              "#9c179e"
             ],
             [
              0.4444444444444444,
              "#bd3786"
             ],
             [
              0.5555555555555556,
              "#d8576b"
             ],
             [
              0.6666666666666666,
              "#ed7953"
             ],
             [
              0.7777777777777778,
              "#fb9f3a"
             ],
             [
              0.8888888888888888,
              "#fdca26"
             ],
             [
              1,
              "#f0f921"
             ]
            ],
            "type": "histogram2dcontour"
           }
          ],
          "mesh3d": [
           {
            "colorbar": {
             "outlinewidth": 0,
             "ticks": ""
            },
            "type": "mesh3d"
           }
          ],
          "parcoords": [
           {
            "line": {
             "colorbar": {
              "outlinewidth": 0,
              "ticks": ""
             }
            },
            "type": "parcoords"
           }
          ],
          "pie": [
           {
            "automargin": true,
            "type": "pie"
           }
          ],
          "scatter": [
           {
            "marker": {
             "colorbar": {
              "outlinewidth": 0,
              "ticks": ""
             }
            },
            "type": "scatter"
           }
          ],
          "scatter3d": [
           {
            "line": {
             "colorbar": {
              "outlinewidth": 0,
              "ticks": ""
             }
            },
            "marker": {
             "colorbar": {
              "outlinewidth": 0,
              "ticks": ""
             }
            },
            "type": "scatter3d"
           }
          ],
          "scattercarpet": [
           {
            "marker": {
             "colorbar": {
              "outlinewidth": 0,
              "ticks": ""
             }
            },
            "type": "scattercarpet"
           }
          ],
          "scattergeo": [
           {
            "marker": {
             "colorbar": {
              "outlinewidth": 0,
              "ticks": ""
             }
            },
            "type": "scattergeo"
           }
          ],
          "scattergl": [
           {
            "marker": {
             "colorbar": {
              "outlinewidth": 0,
              "ticks": ""
             }
            },
            "type": "scattergl"
           }
          ],
          "scattermapbox": [
           {
            "marker": {
             "colorbar": {
              "outlinewidth": 0,
              "ticks": ""
             }
            },
            "type": "scattermapbox"
           }
          ],
          "scatterpolar": [
           {
            "marker": {
             "colorbar": {
              "outlinewidth": 0,
              "ticks": ""
             }
            },
            "type": "scatterpolar"
           }
          ],
          "scatterpolargl": [
           {
            "marker": {
             "colorbar": {
              "outlinewidth": 0,
              "ticks": ""
             }
            },
            "type": "scatterpolargl"
           }
          ],
          "scatterternary": [
           {
            "marker": {
             "colorbar": {
              "outlinewidth": 0,
              "ticks": ""
             }
            },
            "type": "scatterternary"
           }
          ],
          "surface": [
           {
            "colorbar": {
             "outlinewidth": 0,
             "ticks": ""
            },
            "colorscale": [
             [
              0,
              "#0d0887"
             ],
             [
              0.1111111111111111,
              "#46039f"
             ],
             [
              0.2222222222222222,
              "#7201a8"
             ],
             [
              0.3333333333333333,
              "#9c179e"
             ],
             [
              0.4444444444444444,
              "#bd3786"
             ],
             [
              0.5555555555555556,
              "#d8576b"
             ],
             [
              0.6666666666666666,
              "#ed7953"
             ],
             [
              0.7777777777777778,
              "#fb9f3a"
             ],
             [
              0.8888888888888888,
              "#fdca26"
             ],
             [
              1,
              "#f0f921"
             ]
            ],
            "type": "surface"
           }
          ],
          "table": [
           {
            "cells": {
             "fill": {
              "color": "#EBF0F8"
             },
             "line": {
              "color": "white"
             }
            },
            "header": {
             "fill": {
              "color": "#C8D4E3"
             },
             "line": {
              "color": "white"
             }
            },
            "type": "table"
           }
          ]
         },
         "layout": {
          "annotationdefaults": {
           "arrowcolor": "#2a3f5f",
           "arrowhead": 0,
           "arrowwidth": 1
          },
          "coloraxis": {
           "colorbar": {
            "outlinewidth": 0,
            "ticks": ""
           }
          },
          "colorscale": {
           "diverging": [
            [
             0,
             "#8e0152"
            ],
            [
             0.1,
             "#c51b7d"
            ],
            [
             0.2,
             "#de77ae"
            ],
            [
             0.3,
             "#f1b6da"
            ],
            [
             0.4,
             "#fde0ef"
            ],
            [
             0.5,
             "#f7f7f7"
            ],
            [
             0.6,
             "#e6f5d0"
            ],
            [
             0.7,
             "#b8e186"
            ],
            [
             0.8,
             "#7fbc41"
            ],
            [
             0.9,
             "#4d9221"
            ],
            [
             1,
             "#276419"
            ]
           ],
           "sequential": [
            [
             0,
             "#0d0887"
            ],
            [
             0.1111111111111111,
             "#46039f"
            ],
            [
             0.2222222222222222,
             "#7201a8"
            ],
            [
             0.3333333333333333,
             "#9c179e"
            ],
            [
             0.4444444444444444,
             "#bd3786"
            ],
            [
             0.5555555555555556,
             "#d8576b"
            ],
            [
             0.6666666666666666,
             "#ed7953"
            ],
            [
             0.7777777777777778,
             "#fb9f3a"
            ],
            [
             0.8888888888888888,
             "#fdca26"
            ],
            [
             1,
             "#f0f921"
            ]
           ],
           "sequentialminus": [
            [
             0,
             "#0d0887"
            ],
            [
             0.1111111111111111,
             "#46039f"
            ],
            [
             0.2222222222222222,
             "#7201a8"
            ],
            [
             0.3333333333333333,
             "#9c179e"
            ],
            [
             0.4444444444444444,
             "#bd3786"
            ],
            [
             0.5555555555555556,
             "#d8576b"
            ],
            [
             0.6666666666666666,
             "#ed7953"
            ],
            [
             0.7777777777777778,
             "#fb9f3a"
            ],
            [
             0.8888888888888888,
             "#fdca26"
            ],
            [
             1,
             "#f0f921"
            ]
           ]
          },
          "colorway": [
           "#636efa",
           "#EF553B",
           "#00cc96",
           "#ab63fa",
           "#FFA15A",
           "#19d3f3",
           "#FF6692",
           "#B6E880",
           "#FF97FF",
           "#FECB52"
          ],
          "font": {
           "color": "#2a3f5f"
          },
          "geo": {
           "bgcolor": "white",
           "lakecolor": "white",
           "landcolor": "#E5ECF6",
           "showlakes": true,
           "showland": true,
           "subunitcolor": "white"
          },
          "hoverlabel": {
           "align": "left"
          },
          "hovermode": "closest",
          "mapbox": {
           "style": "light"
          },
          "paper_bgcolor": "white",
          "plot_bgcolor": "#E5ECF6",
          "polar": {
           "angularaxis": {
            "gridcolor": "white",
            "linecolor": "white",
            "ticks": ""
           },
           "bgcolor": "#E5ECF6",
           "radialaxis": {
            "gridcolor": "white",
            "linecolor": "white",
            "ticks": ""
           }
          },
          "scene": {
           "xaxis": {
            "backgroundcolor": "#E5ECF6",
            "gridcolor": "white",
            "gridwidth": 2,
            "linecolor": "white",
            "showbackground": true,
            "ticks": "",
            "zerolinecolor": "white"
           },
           "yaxis": {
            "backgroundcolor": "#E5ECF6",
            "gridcolor": "white",
            "gridwidth": 2,
            "linecolor": "white",
            "showbackground": true,
            "ticks": "",
            "zerolinecolor": "white"
           },
           "zaxis": {
            "backgroundcolor": "#E5ECF6",
            "gridcolor": "white",
            "gridwidth": 2,
            "linecolor": "white",
            "showbackground": true,
            "ticks": "",
            "zerolinecolor": "white"
           }
          },
          "shapedefaults": {
           "line": {
            "color": "#2a3f5f"
           }
          },
          "ternary": {
           "aaxis": {
            "gridcolor": "white",
            "linecolor": "white",
            "ticks": ""
           },
           "baxis": {
            "gridcolor": "white",
            "linecolor": "white",
            "ticks": ""
           },
           "bgcolor": "#E5ECF6",
           "caxis": {
            "gridcolor": "white",
            "linecolor": "white",
            "ticks": ""
           }
          },
          "title": {
           "x": 0.05
          },
          "xaxis": {
           "automargin": true,
           "gridcolor": "white",
           "linecolor": "white",
           "ticks": "",
           "title": {
            "standoff": 15
           },
           "zerolinecolor": "white",
           "zerolinewidth": 2
          },
          "yaxis": {
           "automargin": true,
           "gridcolor": "white",
           "linecolor": "white",
           "ticks": "",
           "title": {
            "standoff": 15
           },
           "zerolinecolor": "white",
           "zerolinewidth": 2
          }
         }
        },
        "width": 1000,
        "xaxis": {
         "anchor": "y",
         "domain": [
          0,
          1
         ],
         "title": {
          "text": "#frames"
         }
        },
        "yaxis": {
         "anchor": "x",
         "domain": [
          0,
          1
         ],
         "title": {
          "text": "action"
         }
        }
       }
      }
     },
     "metadata": {},
     "output_type": "display_data"
    }
   ],
   "source": [
    "fig = px.box(data_df, x=\"#frames\", y=\"action\", width=1000, height=800, orientation='h')\n",
    "fig.show()"
   ]
  },
  {
   "cell_type": "code",
   "execution_count": null,
   "metadata": {},
   "outputs": [],
   "source": []
  }
 ],
 "metadata": {
  "kernelspec": {
   "display_name": "Python 3.8.13 ('mvts_trans')",
   "language": "python",
   "name": "python3"
  },
  "language_info": {
   "codemirror_mode": {
    "name": "ipython",
    "version": 3
   },
   "file_extension": ".py",
   "mimetype": "text/x-python",
   "name": "python",
   "nbconvert_exporter": "python",
   "pygments_lexer": "ipython3",
   "version": "3.8.13 (default, Mar 28 2022, 06:59:08) [MSC v.1916 64 bit (AMD64)]"
  },
  "orig_nbformat": 4,
  "vscode": {
   "interpreter": {
    "hash": "ccc35149ad8fa032444ebff1245e6ef176e6c1ce3af8dec48e3374f21a6b0f27"
   }
  }
 },
 "nbformat": 4,
 "nbformat_minor": 2
}
