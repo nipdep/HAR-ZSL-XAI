{
 "cells": [
  {
   "cell_type": "code",
   "execution_count": 1,
   "metadata": {},
   "outputs": [],
   "source": [
    "import os\n",
    "import json\n",
    "import random \n",
    "import math\n",
    "import numpy as np\n",
    "from tqdm import tqdm\n",
    "from copy import deepcopy\n",
    "\n",
    "import torch\n",
    "from torch.utils.data import Dataset, DataLoader\n",
    "from torch import nn, Tensor\n",
    "from torch.nn import functional as F \n",
    "from torch.optim import Adam\n",
    "\n",
    "from scipy.signal import resample\n",
    "from sklearn.model_selection import train_test_split\n",
    "from sklearn import metrics\n",
    "from sklearn.metrics.pairwise import cosine_similarity\n",
    "from sklearn.metrics import accuracy_score\n",
    "from sklearn.preprocessing import MinMaxScaler\n",
    "\n",
    "import matplotlib.pyplot as plt"
   ]
  },
  {
   "cell_type": "markdown",
   "metadata": {},
   "source": [
    "---\n",
    "Data & Configuration setup"
   ]
  },
  {
   "cell_type": "code",
   "execution_count": 2,
   "metadata": {},
   "outputs": [],
   "source": [
    "# build PAMAP2 dataset data reader\n",
    "class PAMAP2Reader(object):\n",
    "    def __init__(self, root_path):\n",
    "        self.root_path = root_path\n",
    "        self.readPamap2()\n",
    "\n",
    "    def readFile(self, file_path):\n",
    "        all_data = {\"data\": {}, \"target\": {}, 'collection': []}\n",
    "        prev_action = -1\n",
    "        starting = True\n",
    "        # action_seq = []\n",
    "        action_ID = 0\n",
    "        for l in open(file_path).readlines():\n",
    "            s = l.strip().split()\n",
    "            if s[1] != \"0\":\n",
    "                if (prev_action != int(s[1])):\n",
    "                    if not(starting):\n",
    "                        all_data['data'][action_ID] = np.array(action_seq)\n",
    "                        all_data['target'][action_ID] = prev_action\n",
    "                        action_ID+=1\n",
    "                    action_seq = []\n",
    "                else:\n",
    "                    starting = False\n",
    "                data_seq = np.nan_to_num(np.array(s[3:]), nan=0).astype(np.float16)\n",
    "                # data_seq[np.isnan(data_seq)] = 0\n",
    "                action_seq.append(data_seq)\n",
    "                prev_action = int(s[1])\n",
    "                all_data['collection'].append(data_seq)\n",
    "        return all_data\n",
    "\n",
    "    def readPamap2Files(self, filelist, cols, labelToId):\n",
    "        data = []\n",
    "        labels = []\n",
    "        collection = []\n",
    "        for i, filename in enumerate(filelist):\n",
    "            print('Reading file %d of %d' % (i+1, len(filelist)))\n",
    "            fpath = os.path.join(self.root_path, filename)\n",
    "            file_data = self.readFile(fpath)\n",
    "            data.extend(list(file_data['data'].values()))\n",
    "            labels.extend(list(file_data['target'].values()))\n",
    "            collection.extend(file_data['collection'])\n",
    "        return np.asarray(data), np.asarray(labels, dtype=int), np.array(collection)\n",
    "\n",
    "    def readPamap2(self):\n",
    "        files = ['subject101.dat', 'subject102.dat','subject103.dat','subject104.dat', 'subject105.dat', 'subject106.dat', 'subject107.dat', 'subject108.dat', 'subject109.dat']\n",
    "            \n",
    "        label_map = [\n",
    "            #(0, 'other'),\n",
    "            (1, 'lying'),\n",
    "            (2, 'sitting'),\n",
    "            (3, 'standing'),\n",
    "            (4, 'walking'),\n",
    "            (5, 'running'),\n",
    "            (6, 'cycling'),\n",
    "            (7, 'Nordic walking'),\n",
    "            (9, 'watching TV'),\n",
    "            (10, 'computer work'),\n",
    "            (11, 'car driving'),\n",
    "            (12, 'ascending stairs'),\n",
    "            (13, 'descending stairs'),\n",
    "            (16, 'vacuum cleaning'),\n",
    "            (17, 'ironing'),\n",
    "            (18, 'folding laundry'),\n",
    "            (19, 'house cleaning'),\n",
    "            (20, 'playing soccer'),\n",
    "            (24, 'rope jumping')\n",
    "        ]\n",
    "        labelToId = {x[0]: i for i, x in enumerate(label_map)}\n",
    "        # print \"label2id=\",labelToId\n",
    "        idToLabel = [x[1] for x in label_map]\n",
    "        # print \"id2label=\",idToLabel\n",
    "        cols = [\n",
    "                1, 2, 3, 4, 5, 6, 7, 8, 9, 10, 11, 12, 13, 14, 15, 16, 17, 18, 19, 20, 21, 22, 23, 24, 25, 26, 27, 28, 29, 30, 31, 32, 33, 34,\n",
    "                35, 36, 37, 38, 39, 40, 41, 42, 43, 44, 45, 46, 47, 48, 49, 50, 51, 52, 53\n",
    "                ]\n",
    "        # print \"cols\",cols\n",
    "        self.data, self.targets, self.all_data = self.readPamap2Files(files, cols, labelToId)\n",
    "        # print(self.data)\n",
    "        # nan_perc = np.isnan(self.data).astype(int).mean()\n",
    "        # print(\"null value percentage \", nan_perc)\n",
    "        # f = lambda x: labelToId[x]\n",
    "        self.targets = np.array([labelToId[i] for i in list(self.targets)])\n",
    "        self.label_map = label_map\n",
    "        self.idToLabel = idToLabel\n",
    "        # return data, idToLabel\n",
    "\n",
    "    def resampling(self, data, targets):\n",
    "        assert len(data) == len(targets), \"# action data & # action labels are not matching\"\n",
    "        all_data, all_ids, all_labels = [], [], []\n",
    "        for i, d in enumerate(data):\n",
    "            l, _ = d.shape \n",
    "            label = targets[i]\n",
    "            if l < 1200 : # minimum length requirement\n",
    "                break \n",
    "            # generate sampling points\n",
    "            n_point, _ = divmod(l, 1200)\n",
    "            sampling_points = np.arange(start=0, stop=l, step=1200)[:-1]\n",
    "            sampling_points = sampling_points-200\n",
    "            sampling_points[0] = 0\n",
    "            # print(l, sampling_points)\n",
    "            # window sampling \n",
    "            for s in sampling_points:\n",
    "                sub_sample = np.nan_to_num(resample(d[s:s+1200, :], num=120, axis=0), nan=0)\n",
    "                # print(d[s:s+1200, :])\n",
    "                nan_perc = np.isnan(sub_sample).astype(int).mean()\n",
    "                # print(\"null value percentage \", nan_perc, \"id > \", i+1)\n",
    "                all_data.append(sub_sample)\n",
    "                all_ids.append(i+1)\n",
    "                all_labels.append(label)\n",
    "            \n",
    "        return all_data, all_ids, all_labels\n",
    "\n",
    "    def generate(self, unseen_classes, resampling=True, seen_ratio=0.2, unseen_ratio=0.8):\n",
    "        # assert all([i in list(self.label_map.keys()) for i in unseen_classes]), \"Unknown Class label!\"\n",
    "        seen_classes = [i for i in range(len(self.idToLabel)) if i not in unseen_classes]\n",
    "        unseen_mask = np.in1d(self.targets, unseen_classes)\n",
    "\n",
    "        # normalize data [without considering ]\n",
    "        # scaler = MinMaxScaler()\n",
    "        # scaler.fit(self.all_data)\n",
    "        # self.data = np.array([scaler.transform(d) for d in self.data])\n",
    "\n",
    "        # build seen dataset \n",
    "        seen_data = self.data[np.invert(unseen_mask)]\n",
    "        seen_targets = self.targets[np.invert(unseen_mask)]\n",
    "\n",
    "        # build unseen dataset\n",
    "        unseen_data = self.data[unseen_mask]\n",
    "        unseen_targets = self.targets[unseen_mask]\n",
    "\n",
    "        # resampling seen and unseen datasets \n",
    "        seen_data, seen_ids, seen_targets = self.resampling(seen_data, seen_targets)\n",
    "        unseen_data, unseen_ids, unseen_targets = self.resampling(unseen_data, unseen_targets)\n",
    "\n",
    "        seen_data, seen_targets = np.array(seen_data), np.array(seen_targets)\n",
    "        unseen_data, unseen_targets = np.array(unseen_data), np.array(unseen_targets)\n",
    "        # train-val split\n",
    "        seen_index = list(range(len(seen_targets)))\n",
    "        random.shuffle(seen_index)\n",
    "        split_point = int((1-seen_ratio)*len(seen_index))\n",
    "        fst_index, sec_index = seen_index[:split_point], seen_index[split_point:]\n",
    "        print(type(fst_index), type(sec_index), type(seen_data), type(seen_targets))\n",
    "        X_seen_train, X_seen_val, y_seen_train, y_seen_val = seen_data[fst_index,:], seen_data[sec_index,:], seen_targets[fst_index], seen_targets[sec_index]\n",
    "        \n",
    "        # val-test split\n",
    "        unseen_index = list(range(len(unseen_targets)))\n",
    "        random.shuffle(unseen_index)\n",
    "        split_point = int((1-unseen_ratio)*len(unseen_index))\n",
    "        fst_index, sec_index = unseen_index[:split_point], unseen_index[split_point:]\n",
    "\n",
    "        X_unseen_val, X_unseen_test, y_unseen_val, y_unseen_test = unseen_data[fst_index,:], unseen_data[sec_index,:], unseen_targets[fst_index], unseen_targets[sec_index]\n",
    "\n",
    "        data = {'train': {\n",
    "                        'X': X_seen_train,\n",
    "                        'y': y_seen_train\n",
    "                        },\n",
    "                'eval-seen':{\n",
    "                        'X': X_seen_val,\n",
    "                        'y': y_seen_val\n",
    "                        },\n",
    "                'eval-unseen':{\n",
    "                        'X': X_unseen_val,\n",
    "                        'y': y_unseen_val\n",
    "                        },\n",
    "                'test': {\n",
    "                        'X': X_unseen_test,\n",
    "                        'y': y_unseen_test\n",
    "                        },\n",
    "                'seen_classes': seen_classes,\n",
    "                'unseen_classes': unseen_classes\n",
    "                }\n",
    "\n",
    "        return data\n",
    "        "
   ]
  },
  {
   "cell_type": "code",
   "execution_count": 3,
   "metadata": {},
   "outputs": [],
   "source": [
    "# import action attributes\n",
    "def load_attribute(fpath):\n",
    "    with open(fpath, \"r\") as pf:\n",
    "        json_data = json.load(pf)\n",
    "\n",
    "    activity_dict = json_data[\"Activity\"]\n",
    "    attribute_dict = json_data[\"Attribute\"]\n",
    "    attr_met = np.array(list(json_data[\"Mark\"].values()))\n",
    "    return activity_dict, attribute_dict, attr_met"
   ]
  },
  {
   "cell_type": "code",
   "execution_count": 4,
   "metadata": {},
   "outputs": [],
   "source": [
    "# import action semantic features \n",
    "# generate random feature matrix \n",
    "feat_size = 64\n",
    "n_actions = 18 \n",
    "feat_mat = np.random.randn(n_actions, feat_size)"
   ]
  },
  {
   "cell_type": "markdown",
   "metadata": {},
   "source": [
    "---\n",
    "DataSet Classes & DataLoaders"
   ]
  },
  {
   "cell_type": "code",
   "execution_count": 5,
   "metadata": {},
   "outputs": [],
   "source": [
    "# build mock dataloader\n",
    "class PAMAP2Dataset(Dataset):\n",
    "    def __init__(self, data, actions, attributes, action_feats, action_classes):\n",
    "        super(PAMAP2Dataset, self).__init__()\n",
    "        self.data = torch.from_numpy(data)\n",
    "        self.actions = actions\n",
    "        self.attributes = torch.from_numpy(attributes)\n",
    "        self.action_feats = torch.from_numpy(action_feats)\n",
    "        self.target_feat = torch.from_numpy(action_feats[action_classes, :])\n",
    "        # build action to id mapping dict\n",
    "        self.n_action = len(self.actions)\n",
    "        self.action2Id = dict(zip(action_classes, range(self.n_action)))\n",
    "\n",
    "    def __getitem__(self, ind):\n",
    "        x = self.data[ind, ...]\n",
    "        x_mask = np.array([0]) #self.padding_mask[ind, ...]\n",
    "        target = self.actions[ind]\n",
    "        y = torch.from_numpy(np.array([self.action2Id[target]]))\n",
    "        y_feat = self.action_feats[target, ...]\n",
    "        attr = self.attributes[target, ...]\n",
    "        return x, y, y_feat, attr, x_mask\n",
    "\n",
    "    def __len__(self):\n",
    "        return self.data.shape[0]\n"
   ]
  },
  {
   "cell_type": "markdown",
   "metadata": {},
   "source": [
    "---\n",
    "Setup Model"
   ]
  },
  {
   "cell_type": "code",
   "execution_count": 6,
   "metadata": {},
   "outputs": [],
   "source": [
    "# relative global attention based transformer encoder implementation\n",
    "class RelativeGlobalAttention(nn.Module):\n",
    "    def __init__(self, d_model, num_heads, max_len=1024, dropout=0.1):\n",
    "        super().__init__()\n",
    "        d_head, remainder = divmod(d_model, num_heads)\n",
    "        if remainder:\n",
    "            raise ValueError(\n",
    "                \"incompatible `d_model` and `num_heads`\"\n",
    "            )\n",
    "        self.max_len = max_len\n",
    "        self.d_model = d_model\n",
    "        self.num_heads = num_heads\n",
    "        self.key = nn.Linear(d_model, d_model)\n",
    "        self.value = nn.Linear(d_model, d_model)\n",
    "        self.query = nn.Linear(d_model, d_model)\n",
    "        self.dropout = nn.Dropout(dropout)\n",
    "        self.Er = nn.Parameter(torch.randn(max_len, d_head))\n",
    "        self.register_buffer(\n",
    "            \"mask\", \n",
    "            torch.tril(torch.ones(max_len, max_len))\n",
    "            .unsqueeze(0).unsqueeze(0)\n",
    "        )\n",
    "\n",
    "    \n",
    "    def forward(self, x):\n",
    "        batch_size, seq_len, _ = x.shape\n",
    "        \n",
    "        if seq_len > self.max_len:\n",
    "            raise ValueError(\n",
    "                \"sequence length exceeds model capacity\"\n",
    "            )\n",
    "        \n",
    "        k_t = self.key(x).reshape(batch_size, seq_len, self.num_heads, -1).permute(0, 2, 3, 1)\n",
    "        v = self.value(x).reshape(batch_size, seq_len, self.num_heads, -1).transpose(1, 2)\n",
    "        q = self.query(x).reshape(batch_size, seq_len, self.num_heads, -1).transpose(1, 2)\n",
    "        \n",
    "        start = self.max_len - seq_len\n",
    "        Er_t = self.Er[start:, :].transpose(0, 1) # automatic positional padding\n",
    "        QEr = torch.matmul(q, Er_t)\n",
    "        Srel = self.skew(QEr)\n",
    "        \n",
    "        QK_t = torch.matmul(q, k_t)\n",
    "        attn = (QK_t + Srel) / math.sqrt(q.size(-1))\n",
    "        mask = self.mask[:, :, :seq_len, :seq_len]\n",
    "        attn = attn.masked_fill(mask == 0, float(\"-inf\"))\n",
    "        attn = F.softmax(attn, dim=-1)\n",
    "        out = torch.matmul(attn, v)\n",
    "        out = out.transpose(1, 2)\n",
    "        out = out.reshape(batch_size, seq_len, -1)\n",
    "        return self.dropout(out)\n",
    "        \n",
    "    \n",
    "    def skew(self, QEr):\n",
    "        padded = F.pad(QEr, (1, 0))\n",
    "        batch_size, num_heads, num_rows, num_cols = padded.shape\n",
    "        reshaped = padded.reshape(batch_size, num_heads, num_cols, num_rows)\n",
    "        Srel = reshaped[:, :, 1:, :]\n",
    "        return Srel"
   ]
  },
  {
   "cell_type": "code",
   "execution_count": 7,
   "metadata": {},
   "outputs": [],
   "source": [
    "# build E2E ZSL HAR Model\n",
    "class ZSLHARNet(nn.Module):\n",
    "    def __init__(self, in_ft, d_model, num_heads, ft_size, attr_size, max_len=1024, dropout=0.1):\n",
    "        super().__init__()\n",
    "        self.in_ft = in_ft\n",
    "        self.max_len = max_len\n",
    "        self.d_model = d_model\n",
    "        self.num_heads = num_heads\n",
    "        self.ft_size = ft_size # semantic space size <-> output feature space size\n",
    "        self.attr_size = attr_size # intermediate attribute space size \n",
    "\n",
    "        # custom sample layer configuration\n",
    "        # Dense layer for feature projection\n",
    "        self.DenseL = nn.Linear(in_ft, d_model)\n",
    "        # attention encoder <-> global relative attention used here\n",
    "        self.AttnL = RelativeGlobalAttention(d_model, num_heads, max_len)\n",
    "        # positional encoding concat <-> LSTM \n",
    "        self.lstmL = nn.LSTM(input_size=d_model, hidden_size=ft_size, batch_first=True)\n",
    "        # SAE submodule\n",
    "        self.EncDenseL = nn.Linear(in_features=ft_size, out_features=attr_size, bias=False)\n",
    "        self.DecDenseL = nn.Linear(in_features=attr_size, out_features=ft_size, bias=False)\n",
    "        # override weights\n",
    "        del self.EncDenseL.weight\n",
    "        del self.DecDenseL.weight\n",
    "        # define shared weights\n",
    "        self.TransMet = nn.Parameter(torch.randn(attr_size, ft_size))\n",
    "\n",
    "\n",
    "    def forward(self, x):\n",
    "        out = self.DenseL(x)\n",
    "        out = self.AttnL(out)\n",
    "        lstm_out, hidden = self.lstmL(out)\n",
    "        # SAE Operation\n",
    "        self.EncDenseL.weight = self.TransMet\n",
    "        self.DecDenseL.weight = self.TransMet.T \n",
    "        attr_out = self.EncDenseL(lstm_out[:, -1, :])\n",
    "        ft_out = self.DecDenseL(attr_out)\n",
    "        return attr_out, ft_out"
   ]
  },
  {
   "cell_type": "markdown",
   "metadata": {},
   "source": [
    "---\n",
    "Setup Training & evaluation pipeline"
   ]
  },
  {
   "cell_type": "code",
   "execution_count": 8,
   "metadata": {},
   "outputs": [],
   "source": [
    "def plot_confusion_matrix(ConfMat, label_strings=None, title='Confusion matrix', cmap=plt.cm.get_cmap('Blues')):\n",
    "    \"\"\"Plot confusion matrix in a separate window\"\"\"\n",
    "    plt.imshow(ConfMat, interpolation='nearest', cmap=cmap)\n",
    "    plt.title(title)\n",
    "    plt.colorbar()\n",
    "    if label_strings:\n",
    "        tick_marks = np.arange(len(label_strings))\n",
    "        plt.xticks(tick_marks, label_strings, rotation=90)\n",
    "        plt.yticks(tick_marks, label_strings)\n",
    "    plt.tight_layout()\n",
    "    plt.ylabel('True label')\n",
    "    plt.xlabel('Predicted label')\n",
    "\n",
    "def generate_classification_report(existing_class_names, precision, recall, f1, support, ConfMatrix_normalized_row, digits=3, number_of_thieves=2, maxcharlength=35):\n",
    "    \"\"\"\n",
    "    Returns a string of a report for given metric arrays (array length equals the number of classes).\n",
    "    Called internally by `analyze_classification`.\n",
    "        digits: number of digits after . for displaying results\n",
    "        number_of_thieves: number of biggest thieves to report\n",
    "        maxcharlength: max. number of characters to use when displaying thief names\n",
    "    \"\"\"\n",
    "\n",
    "    relative_freq = support / np.sum(support)  # relative frequencies of each class in the true lables\n",
    "    sorted_class_indices = np.argsort(relative_freq)[\n",
    "                            ::-1]  # sort by \"importance\" of classes (i.e. occurance frequency)\n",
    "\n",
    "    last_line_heading = 'avg / total'\n",
    "\n",
    "    width = max(len(cn) for cn in existing_class_names)\n",
    "    width = max(width, len(last_line_heading), digits)\n",
    "\n",
    "    headers = [\"precision\", \"recall\", \"f1-score\", \"rel. freq.\", \"abs. freq.\", \"biggest thieves\"]\n",
    "    fmt = '%% %ds' % width  # first column: class name\n",
    "    fmt += '  '\n",
    "    fmt += ' '.join(['% 10s' for _ in headers[:-1]])\n",
    "    fmt += '|\\t % 5s'\n",
    "    fmt += '\\n'\n",
    "\n",
    "    headers = [\"\"] + headers\n",
    "    report = fmt % tuple(headers)\n",
    "    report += '\\n'\n",
    "\n",
    "    for i in sorted_class_indices:\n",
    "        values = [existing_class_names[i]]\n",
    "        for v in (precision[i], recall[i], f1[i],\n",
    "                    relative_freq[i]):  # v is NOT a tuple, just goes through this list 1 el. at a time\n",
    "            values += [\"{0:0.{1}f}\".format(v, digits)]\n",
    "        values += [\"{}\".format(support[i])]\n",
    "        thieves = np.argsort(ConfMatrix_normalized_row[i, :])[::-1][\n",
    "                    :number_of_thieves + 1]  # other class indices \"stealing\" from class. May still contain self\n",
    "        thieves = thieves[thieves != i]  # exclude self at this point\n",
    "        steal_ratio = ConfMatrix_normalized_row[i, thieves]\n",
    "        thieves_names = [\n",
    "            existing_class_names[thief][:min(maxcharlength, len(existing_class_names[thief]))] for thief\n",
    "            in thieves]  # a little inefficient but inconsequential\n",
    "        string_about_stealing = \"\"\n",
    "        for j in range(len(thieves)):\n",
    "            string_about_stealing += \"{0}: {1:.3f},\\t\".format(thieves_names[j], steal_ratio[j])\n",
    "        values += [string_about_stealing]\n",
    "\n",
    "        report += fmt % tuple(values)\n",
    "\n",
    "    report += '\\n' + 100 * '-' + '\\n'\n",
    "\n",
    "    # compute averages/sums\n",
    "    values = [last_line_heading]\n",
    "    for v in (np.average(precision, weights=relative_freq),\n",
    "                np.average(recall, weights=relative_freq),\n",
    "                np.average(f1, weights=relative_freq)):\n",
    "        values += [\"{0:0.{1}f}\".format(v, digits)]\n",
    "    values += ['{0}'.format(np.sum(relative_freq))]\n",
    "    values += ['{0}'.format(np.sum(support))]\n",
    "    values += ['']\n",
    "\n",
    "    # make last (\"Total\") line for report\n",
    "    report += fmt % tuple(values)\n",
    "\n",
    "    return report\n",
    "\n",
    "\n",
    "def action_evaluator(y_pred, y_true, class_names, excluded_classes=None, maxcharlength=35):\n",
    "    \"\"\"\n",
    "    For an array of label predictions and the respective true labels, shows confusion matrix, accuracy, recall, precision etc:\n",
    "    Input:\n",
    "        y_pred: 1D array of predicted labels (class indices)\n",
    "        y_true: 1D array of true labels (class indices)\n",
    "        class_names: 1D array or list of class names in the order of class indices.\n",
    "            Could also be integers [0, 1, ..., num_classes-1].\n",
    "        excluded_classes: list of classes to be excluded from average precision, recall calculation (e.g. OTHER)\n",
    "    \"\"\"\n",
    "\n",
    "    # Trim class_names to include only classes existing in y_pred OR y_true\n",
    "    in_pred_labels = set(list(y_pred))\n",
    "    in_true_labels = set(list(y_true))\n",
    "\n",
    "    existing_class_ind = sorted(list(in_pred_labels | in_true_labels))\n",
    "    # print(\"pred label\", in_pred_labels, \"true label\", in_true_labels)\n",
    "    class_strings = [str(name) for name in class_names]  # needed in case `class_names` elements are not strings\n",
    "    existing_class_names = [class_strings[ind][:min(maxcharlength, len(class_strings[ind]))] for ind in existing_class_ind]  # a little inefficient but inconsequential\n",
    "\n",
    "    # Confusion matrix\n",
    "    ConfMatrix = metrics.confusion_matrix(y_true, y_pred)\n",
    "\n",
    "    # Normalize the confusion matrix by row (i.e by the number of samples in each class)\n",
    "    ConfMatrix_normalized_row = ConfMatrix.astype('float') / ConfMatrix.sum(axis=1)[:, np.newaxis] #@nipdep\n",
    "\n",
    "    \n",
    "    plt.figure()\n",
    "    plot_confusion_matrix(ConfMatrix_normalized_row, label_strings=existing_class_names,\n",
    "                            title='Confusion matrix normalized by row')\n",
    "    plt.show(block=False)\n",
    "\n",
    "    # Analyze results\n",
    "    total_accuracy = np.trace(ConfMatrix) / len(y_true)\n",
    "    print('Overall accuracy: {:.3f}\\n'.format(total_accuracy))\n",
    "\n",
    "    # returns metrics for each class, in the same order as existing_class_names\n",
    "    precision, recall, f1, support = metrics.precision_recall_fscore_support(y_true, y_pred, labels=existing_class_ind)\n",
    "    # Print report\n",
    "    print(generate_classification_report(existing_class_names, precision, recall, f1, support, ConfMatrix_normalized_row))\n",
    "\n",
    "    # Calculate average precision and recall\n",
    "    # prec_avg, rec_avg = get_avg_prec_recall(ConfMatrix, existing_class_names, excluded_classes)\n",
    "    # if excluded_classes:\n",
    "    #     print(\n",
    "    #         \"\\nAverage PRECISION: {:.2f}\\n(using class frequencies as weights, excluding classes with no predictions and predictions in '{}')\".format(\n",
    "    #             prec_avg, ', '.join(excluded_classes)))\n",
    "    #     print(\n",
    "    #         \"\\nAverage RECALL (= ACCURACY): {:.2f}\\n(using class frequencies as weights, excluding classes in '{}')\".format(\n",
    "    #             rec_avg, ', '.join(excluded_classes)))\n",
    "\n",
    "    # Make a histogram with the distribution of classes with respect to precision and recall\n",
    "    # prec_rec_histogram(precision, recall)\n",
    "\n",
    "    return {\"total_accuracy\": total_accuracy, \"precision\": precision.mean(), \"recall\": recall.mean(), \"f1\": f1.mean()}"
   ]
  },
  {
   "cell_type": "code",
   "execution_count": 9,
   "metadata": {},
   "outputs": [],
   "source": [
    "# build loss module\n",
    "class FeatureLoss(nn.Module):\n",
    "    def __init__(self):\n",
    "        super(FeatureLoss, self).__init__()\n",
    "        # self.add_aux = add_aux \n",
    "        self.loss_func = nn.CosineSimilarity(dim=1, eps=1e-6)\n",
    "\n",
    "    def forward(self, y_pred, y_true):\n",
    "        batch_loss = self.loss_func(y_pred, y_true)\n",
    "        final_loss = torch.abs(batch_loss.mean())\n",
    "        return final_loss"
   ]
  },
  {
   "cell_type": "code",
   "execution_count": 17,
   "metadata": {},
   "outputs": [],
   "source": [
    "class AttributeLoss(nn.Module):\n",
    "    def __init__(self):\n",
    "        super(AttributeLoss, self).__init__()\n",
    "        self.loss_func = nn.BCELoss()\n",
    "        self.m = nn.Sigmoid()\n",
    "\n",
    "    def forward(self, attr_pred, attr_true):\n",
    "        # print(\"attr true > \", attr_true, \"attr pred > \", attr_pred)\n",
    "        output = self.loss_func(self.m(attr_pred), attr_true)\n",
    "        return output"
   ]
  },
  {
   "cell_type": "code",
   "execution_count": 15,
   "metadata": {},
   "outputs": [],
   "source": [
    "def train_step(model, dataloader, optimizer, loss_module, loss_alpha, device, class_names, target_feat_met, phase='train', l2_reg=False):\n",
    "    model = model.train()\n",
    "\n",
    "    epoch_loss = 0  # total loss of epoch\n",
    "    total_samples = 0  # total samples in epoch\n",
    "\n",
    "    with tqdm(dataloader, unit=\"batch\", desc=phase) as tepoch:\n",
    "        for batch in tepoch:\n",
    "            X, targets, target_feat, target_attr, padding_masks = batch\n",
    "            # print(X, targets, target_feat, target_attr)\n",
    "            X = X.float().to(device)\n",
    "            target_feat = target_feat.float().to(device)\n",
    "            target_attr = target_attr.float().to(device)\n",
    "            targets = targets.to(device)\n",
    "            padding_masks = padding_masks.to(device)  # 0s: ignore\n",
    "\n",
    "            # Zero gradients, perform a backward pass, and update the weights.\n",
    "            optimizer.zero_grad()\n",
    "            # forward\n",
    "            # track history if only in train\n",
    "            with torch.set_grad_enabled(phase == 'train'):\n",
    "            # with autocast():\n",
    "                attr_output, feat_output = model(X)\n",
    "                # print(\"feature shape\", feat_output.shape, \"target feature shape\", target_feat.shape)\n",
    "                feat_loss = loss_module['feature'](feat_output, target_feat)\n",
    "                attr_loss = loss_module['attribute'](attr_output, target_attr)\n",
    "\n",
    "            # define composite loss function\n",
    "            loss = loss_alpha*feat_loss+(1-loss_alpha)*attr_loss\n",
    "            # backward + optimize only if in training phase\n",
    "            if phase == 'train':\n",
    "                loss.backward()\n",
    "                optimizer.step()\n",
    "\n",
    "            metrics = {\"loss\": loss.item()}\n",
    "            # if i % print_interval == 0:\n",
    "            #     ending = \"\" if epoch_num is None else 'Epoch {} '.format(epoch_num)\n",
    "            #     self.print_callback(i, metrics, prefix='Training ' + ending)\n",
    "\n",
    "            with torch.no_grad():\n",
    "                total_samples += len(targets)\n",
    "                epoch_loss += loss.item()  # add total loss of batch\n",
    "\n",
    "            # convert feature vector into action class\n",
    "            # using cosine \n",
    "            feat_numpy = feat_output.cpu().detach()\n",
    "            action_probs = cosine_similarity(feat_numpy, target_feat_met)\n",
    "            pred_action = np.argmax(action_probs, axis=1)\n",
    "            metrics[\"accuracy\"] = accuracy_score(y_true=targets.cpu().detach().numpy(), y_pred=pred_action)\n",
    "            tepoch.set_postfix(metrics)\n",
    "            \n",
    "    epoch_loss = epoch_loss / total_samples  # average loss per sample for whole epoch\n",
    "    return metrics"
   ]
  },
  {
   "cell_type": "code",
   "execution_count": 29,
   "metadata": {},
   "outputs": [],
   "source": [
    "def eval_step(model, dataloader, loss_module, loss_alpha, device, class_names, target_feat_met, phase='train', l2_reg=False):\n",
    "    model = model.train()\n",
    "\n",
    "    epoch_loss = 0  # total loss of epoch\n",
    "    total_samples = 0  # total samples in epoch\n",
    "    per_batch = {'target_masks': [], 'targets': [], 'predictions': [], 'metrics': [], 'IDs': []}\n",
    "\n",
    "    with tqdm(dataloader, unit=\"batch\", desc=phase) as tepoch:\n",
    "        for batch in tepoch:\n",
    "            X, targets, target_feat, target_attr, padding_masks = batch\n",
    "            X = X.float().to(device)\n",
    "            target_feat = target_feat.float().to(device)\n",
    "            target_attr = target_attr.float().to(device)\n",
    "            targets = targets.to(device)\n",
    "            padding_masks = padding_masks.to(device)  # 0s: ignore\n",
    "            # forward\n",
    "            # track history if only in train\n",
    "            with torch.set_grad_enabled(phase == 'train'):\n",
    "            # with autocast():\n",
    "                attr_output, feat_output = model(X)\n",
    "                # print(\"feature shape\", feat_output.shape, \"target feature shape\", target_feat.shape)\n",
    "                feat_loss = loss_module['feature'](feat_output, target_feat)\n",
    "                attr_loss = loss_module['attribute'](attr_output, target_attr)\n",
    "\n",
    "            # define composite loss function\n",
    "            loss = loss_alpha*feat_loss+(1-loss_alpha)*attr_loss\n",
    "\n",
    "            # convert feature vector into action class\n",
    "            # using cosine \n",
    "            feat_numpy = feat_output.cpu().detach()\n",
    "            action_probs = cosine_similarity(feat_numpy, target_feat_met)\n",
    "            pred_action = np.argmax(action_probs, axis=1)\n",
    "            \n",
    "            per_batch['targets'].append(targets.cpu().numpy())\n",
    "            per_batch['predictions'].append(pred_action)\n",
    "            per_batch['metrics'].append([loss.cpu().numpy()])\n",
    "\n",
    "            tepoch.set_postfix({\"loss\": loss.item()})\n",
    "    \n",
    "    all_preds = np.concatenate(per_batch[\"predictions\"])\n",
    "    all_targets = np.concatenate(per_batch[\"targets\"])\n",
    "    print(all_preds.shape, all_targets[:, 0].shape)\n",
    "    metrics_dict = action_evaluator(y_pred=all_preds, y_true=all_targets[:, 0], class_names=class_names)\n",
    "    return metrics_dict\n"
   ]
  },
  {
   "cell_type": "markdown",
   "metadata": {},
   "source": [
    "---\n",
    "Attribute evaluate"
   ]
  },
  {
   "cell_type": "code",
   "execution_count": null,
   "metadata": {},
   "outputs": [],
   "source": [
    "\n"
   ]
  },
  {
   "cell_type": "markdown",
   "metadata": {},
   "source": [
    "---\n",
    "Main"
   ]
  },
  {
   "cell_type": "code",
   "execution_count": 30,
   "metadata": {},
   "outputs": [
    {
     "name": "stdout",
     "output_type": "stream",
     "text": [
      "Reading file 1 of 9\n",
      "Reading file 2 of 9\n",
      "Reading file 3 of 9\n",
      "Reading file 4 of 9\n",
      "Reading file 5 of 9\n",
      "Reading file 6 of 9\n",
      "Reading file 7 of 9\n",
      "Reading file 8 of 9\n",
      "Reading file 9 of 9\n"
     ]
    },
    {
     "name": "stderr",
     "output_type": "stream",
     "text": [
      "C:\\Users\\deela\\AppData\\Local\\Temp\\ipykernel_7288\\1270585721.py:42: VisibleDeprecationWarning: Creating an ndarray from ragged nested sequences (which is a list-or-tuple of lists-or-tuples-or ndarrays with different lengths or shapes) is deprecated. If you meant to do this, you must specify 'dtype=object' when creating the ndarray.\n",
      "  return np.asarray(data), np.asarray(labels, dtype=int), np.array(collection)\n"
     ]
    },
    {
     "name": "stdout",
     "output_type": "stream",
     "text": [
      "<class 'list'> <class 'list'> <class 'numpy.ndarray'> <class 'numpy.ndarray'>\n"
     ]
    },
    {
     "name": "stderr",
     "output_type": "stream",
     "text": [
      "train: 100%|██████████| 32/32 [00:07<00:00,  4.38batch/s, loss=0.189, accuracy=0]\n",
      "eval: 100%|██████████| 8/8 [00:00<00:00,  9.64batch/s, loss=0.172]\n",
      "C:\\Users\\deela\\AppData\\Local\\Temp\\ipykernel_7288\\835845423.py:105: RuntimeWarning: invalid value encountered in divide\n",
      "  ConfMatrix_normalized_row = ConfMatrix.astype('float') / ConfMatrix.sum(axis=1)[:, np.newaxis] #@nipdep\n"
     ]
    },
    {
     "name": "stdout",
     "output_type": "stream",
     "text": [
      "(252,) (252,)\n"
     ]
    },
    {
     "data": {
      "image/png": "[encoded data removed]",
      "text/plain": [
       "<Figure size 640x480 with 2 Axes>"
      ]
     },
     "metadata": {},
     "output_type": "display_data"
    },
    {
     "name": "stderr",
     "output_type": "stream",
     "text": [
      "c:\\Users\\deela\\anaconda3\\envs\\mvts_trans\\lib\\site-packages\\sklearn\\metrics\\_classification.py:1334: UndefinedMetricWarning: Precision and F-score are ill-defined and being set to 0.0 in labels with no predicted samples. Use `zero_division` parameter to control this behavior.\n",
      "  _warn_prf(average, modifier, msg_start, len(result))\n",
      "c:\\Users\\deela\\anaconda3\\envs\\mvts_trans\\lib\\site-packages\\sklearn\\metrics\\_classification.py:1334: UndefinedMetricWarning: Recall and F-score are ill-defined and being set to 0.0 in labels with no true samples. Use `zero_division` parameter to control this behavior.\n",
      "  _warn_prf(average, modifier, msg_start, len(result))\n",
      "Training Epoch:  33%|███▎      | 1/3 [00:08<00:17,  8.56s/it]"
     ]
    },
    {
     "name": "stdout",
     "output_type": "stream",
     "text": [
      "Overall accuracy: 0.012\n",
      "\n",
      "                    precision     recall   f1-score rel. freq. abs. freq.|\t biggest thieves\n",
      "\n",
      "          walking       0.000      0.000      0.000      0.151         38|\t vacuum cleaning: 0.553,\trope jumping: 0.342,\tcycling: 0.053,\t\n",
      "          ironing       0.000      0.000      0.000      0.135         34|\t rope jumping: 0.676,\tvacuum cleaning: 0.088,\tcycling: 0.088,\t\n",
      "   Nordic walking       0.000      0.000      0.000      0.131         33|\t rope jumping: 0.545,\tvacuum cleaning: 0.303,\tfolding laundry: 0.061,\t\n",
      "          sitting       0.000      0.000      0.000      0.131         33|\t rope jumping: 0.697,\tcycling: 0.273,\twalking: 0.030,\t\n",
      "            lying       0.000      0.000      0.000      0.115         29|\t rope jumping: 0.448,\tcycling: 0.345,\tvacuum cleaning: 0.172,\t\n",
      "  vacuum cleaning       0.038      0.071      0.050      0.111         28|\t rope jumping: 0.857,\tironing: 0.036,\t\n",
      "          cycling       0.036      0.045      0.040      0.087         22|\t rope jumping: 0.864,\tvacuum cleaning: 0.091,\t\n",
      "descending stairs       0.000      0.000      0.000      0.071         18|\t rope jumping: 0.833,\tlying: 0.111,\tcycling: 0.056,\t\n",
      "          running       0.000      0.000      0.000      0.067         17|\t vacuum cleaning: 0.529,\trope jumping: 0.412,\twalking: 0.059,\t\n",
      "     rope jumping       0.000      0.000      0.000      0.000          0|\t folding laundry: nan,\tironing: nan,\t\n",
      "  folding laundry       0.000      0.000      0.000      0.000          0|\t rope jumping: nan,\tironing: nan,\t\n",
      "\n",
      "----------------------------------------------------------------------------------------------------\n",
      "      avg / total       0.007      0.012      0.009        1.0        252|\t      \n",
      "\n"
     ]
    },
    {
     "name": "stderr",
     "output_type": "stream",
     "text": [
      "train: 100%|██████████| 32/32 [00:07<00:00,  4.18batch/s, loss=0.176, accuracy=0]\n",
      "eval: 100%|██████████| 8/8 [00:00<00:00,  9.27batch/s, loss=0.164]\n",
      "C:\\Users\\deela\\AppData\\Local\\Temp\\ipykernel_7288\\835845423.py:105: RuntimeWarning: invalid value encountered in divide\n",
      "  ConfMatrix_normalized_row = ConfMatrix.astype('float') / ConfMatrix.sum(axis=1)[:, np.newaxis] #@nipdep\n"
     ]
    },
    {
     "name": "stdout",
     "output_type": "stream",
     "text": [
      "(252,) (252,)\n"
     ]
    },
    {
     "data": {
      "image/png": "[encoded data removed]",
      "text/plain": [
       "<Figure size 640x480 with 2 Axes>"
      ]
     },
     "metadata": {},
     "output_type": "display_data"
    },
    {
     "name": "stderr",
     "output_type": "stream",
     "text": [
      "c:\\Users\\deela\\anaconda3\\envs\\mvts_trans\\lib\\site-packages\\sklearn\\metrics\\_classification.py:1334: UndefinedMetricWarning: Precision and F-score are ill-defined and being set to 0.0 in labels with no predicted samples. Use `zero_division` parameter to control this behavior.\n",
      "  _warn_prf(average, modifier, msg_start, len(result))\n",
      "c:\\Users\\deela\\anaconda3\\envs\\mvts_trans\\lib\\site-packages\\sklearn\\metrics\\_classification.py:1334: UndefinedMetricWarning: Recall and F-score are ill-defined and being set to 0.0 in labels with no true samples. Use `zero_division` parameter to control this behavior.\n",
      "  _warn_prf(average, modifier, msg_start, len(result))\n",
      "Training Epoch:  67%|██████▋   | 2/3 [00:17<00:08,  8.71s/it]"
     ]
    },
    {
     "name": "stdout",
     "output_type": "stream",
     "text": [
      "Overall accuracy: 0.000\n",
      "\n",
      "                    precision     recall   f1-score rel. freq. abs. freq.|\t biggest thieves\n",
      "\n",
      "          walking       0.000      0.000      0.000      0.151       38.0|\t rope jumping: 0.974,\tcycling: 0.026,\tfolding laundry: 0.000,\t\n",
      "          ironing       0.000      0.000      0.000      0.135       34.0|\t rope jumping: 0.941,\tfolding laundry: 0.029,\tcycling: 0.029,\t\n",
      "   Nordic walking       0.000      0.000      0.000      0.131       33.0|\t rope jumping: 0.939,\tfolding laundry: 0.030,\tlying: 0.030,\t\n",
      "          sitting       0.000      0.000      0.000      0.131       33.0|\t rope jumping: 0.939,\twalking: 0.030,\tlying: 0.030,\t\n",
      "            lying       0.000      0.000      0.000      0.115       29.0|\t rope jumping: 0.759,\tcycling: 0.241,\tfolding laundry: 0.000,\t\n",
      "  vacuum cleaning       0.000      0.000      0.000      0.111       28.0|\t rope jumping: 1.000,\tfolding laundry: 0.000,\tironing: 0.000,\t\n",
      "          cycling       0.000      0.000      0.000      0.087       22.0|\t rope jumping: 1.000,\tfolding laundry: 0.000,\tironing: 0.000,\t\n",
      "descending stairs       0.000      0.000      0.000      0.071       18.0|\t rope jumping: 1.000,\tfolding laundry: 0.000,\tironing: 0.000,\t\n",
      "          running       0.000      0.000      0.000      0.067       17.0|\t rope jumping: 1.000,\tfolding laundry: 0.000,\tironing: 0.000,\t\n",
      "     rope jumping       0.000      0.000      0.000      0.000        0.0|\t folding laundry: nan,\tironing: nan,\t\n",
      "  folding laundry       0.000      0.000      0.000      0.000        0.0|\t rope jumping: nan,\tironing: nan,\t\n",
      "\n",
      "----------------------------------------------------------------------------------------------------\n",
      "      avg / total       0.000      0.000      0.000        1.0      252.0|\t      \n",
      "\n"
     ]
    },
    {
     "name": "stderr",
     "output_type": "stream",
     "text": [
      "train: 100%|██████████| 32/32 [00:07<00:00,  4.28batch/s, loss=0.15, accuracy=0]\n",
      "eval: 100%|██████████| 8/8 [00:00<00:00, 10.34batch/s, loss=0.128]\n",
      "C:\\Users\\deela\\AppData\\Local\\Temp\\ipykernel_7288\\835845423.py:105: RuntimeWarning: invalid value encountered in divide\n",
      "  ConfMatrix_normalized_row = ConfMatrix.astype('float') / ConfMatrix.sum(axis=1)[:, np.newaxis] #@nipdep\n"
     ]
    },
    {
     "name": "stdout",
     "output_type": "stream",
     "text": [
      "(252,) (252,)\n"
     ]
    },
    {
     "data": {
      "image/png": "[encoded data removed]",
      "text/plain": [
       "<Figure size 640x480 with 2 Axes>"
      ]
     },
     "metadata": {},
     "output_type": "display_data"
    },
    {
     "name": "stderr",
     "output_type": "stream",
     "text": [
      "c:\\Users\\deela\\anaconda3\\envs\\mvts_trans\\lib\\site-packages\\sklearn\\metrics\\_classification.py:1334: UndefinedMetricWarning: Precision and F-score are ill-defined and being set to 0.0 in labels with no predicted samples. Use `zero_division` parameter to control this behavior.\n",
      "  _warn_prf(average, modifier, msg_start, len(result))\n",
      "c:\\Users\\deela\\anaconda3\\envs\\mvts_trans\\lib\\site-packages\\sklearn\\metrics\\_classification.py:1334: UndefinedMetricWarning: Recall and F-score are ill-defined and being set to 0.0 in labels with no true samples. Use `zero_division` parameter to control this behavior.\n",
      "  _warn_prf(average, modifier, msg_start, len(result))\n",
      "                                                             \r"
     ]
    },
    {
     "name": "stdout",
     "output_type": "stream",
     "text": [
      "Overall accuracy: 0.004\n",
      "\n",
      "                    precision     recall   f1-score rel. freq. abs. freq.|\t biggest thieves\n",
      "\n",
      "          walking       0.000      0.000      0.000      0.151         38|\t lying: 0.605,\trope jumping: 0.342,\tcycling: 0.053,\t\n",
      "          ironing       0.000      0.000      0.000      0.135         34|\t rope jumping: 0.882,\tlying: 0.118,\t\n",
      "   Nordic walking       0.000      0.000      0.000      0.131         33|\t rope jumping: 0.485,\tlying: 0.394,\tcycling: 0.121,\t\n",
      "          sitting       0.000      0.000      0.000      0.131         33|\t rope jumping: 0.939,\tcycling: 0.030,\twalking: 0.030,\t\n",
      "            lying       0.019      0.034      0.024      0.115         29|\t vacuum cleaning: 0.552,\tcycling: 0.241,\trope jumping: 0.138,\t\n",
      "  vacuum cleaning       0.000      0.000      0.000      0.111         28|\t rope jumping: 0.929,\tlying: 0.071,\tironing: 0.000,\t\n",
      "          cycling       0.000      0.000      0.000      0.087         22|\t rope jumping: 0.909,\tlying: 0.091,\tironing: 0.000,\t\n",
      "descending stairs       0.000      0.000      0.000      0.071         18|\t rope jumping: 1.000,\tironing: 0.000,\tvacuum cleaning: 0.000,\t\n",
      "          running       0.000      0.000      0.000      0.067         17|\t lying: 0.529,\trope jumping: 0.353,\tcycling: 0.118,\t\n",
      "     rope jumping       0.000      0.000      0.000      0.000          0|\t ironing: nan,\tvacuum cleaning: nan,\t\n",
      "\n",
      "----------------------------------------------------------------------------------------------------\n",
      "      avg / total       0.002      0.004      0.003        1.0        252|\t      \n",
      "\n"
     ]
    },
    {
     "name": "stderr",
     "output_type": "stream",
     "text": [
      "eval: 100%|██████████| 7/7 [00:00<00:00, 11.46batch/s, loss=0.165]\n"
     ]
    },
    {
     "name": "stdout",
     "output_type": "stream",
     "text": [
      "(197,) (197,)\n"
     ]
    },
    {
     "ename": "IndexError",
     "evalue": "list index out of range",
     "output_type": "error",
     "traceback": [
      "\u001b[1;31m---------------------------------------------------------------------------\u001b[0m",
      "\u001b[1;31mIndexError\u001b[0m                                Traceback (most recent call last)",
      "Cell \u001b[1;32mIn [30], line 59\u001b[0m\n\u001b[0;32m     56\u001b[0m model\u001b[38;5;241m.\u001b[39mload_state_dict(best_model)\n\u001b[0;32m     58\u001b[0m \u001b[38;5;66;03m# run evaluation on unseen classes\u001b[39;00m\n\u001b[1;32m---> 59\u001b[0m test_metrics \u001b[38;5;241m=\u001b[39m \u001b[43meval_step\u001b[49m\u001b[43m(\u001b[49m\u001b[43mmodel\u001b[49m\u001b[43m,\u001b[49m\u001b[43m \u001b[49m\u001b[43mtest_dl\u001b[49m\u001b[43m,\u001b[49m\u001b[43m \u001b[49m\u001b[43mloss_module\u001b[49m\u001b[43m,\u001b[49m\u001b[43m \u001b[49m\u001b[38;5;241;43m0.7\u001b[39;49m\u001b[43m,\u001b[49m\u001b[43m \u001b[49m\u001b[43mdevice\u001b[49m\u001b[43m,\u001b[49m\u001b[43m \u001b[49m\u001b[43mclass_names\u001b[49m\u001b[38;5;241;43m=\u001b[39;49m\u001b[43m[\u001b[49m\u001b[43mall_classes\u001b[49m\u001b[43m[\u001b[49m\u001b[43mi\u001b[49m\u001b[43m]\u001b[49m\u001b[43m \u001b[49m\u001b[38;5;28;43;01mfor\u001b[39;49;00m\u001b[43m \u001b[49m\u001b[43mi\u001b[49m\u001b[43m \u001b[49m\u001b[38;5;129;43;01min\u001b[39;49;00m\u001b[43m \u001b[49m\u001b[43munseen_classes\u001b[49m\u001b[43m]\u001b[49m\u001b[43m,\u001b[49m\u001b[43m  \u001b[49m\u001b[43mtarget_feat_met\u001b[49m\u001b[38;5;241;43m=\u001b[39;49m\u001b[43mtrain_dt\u001b[49m\u001b[38;5;241;43m.\u001b[39;49m\u001b[43mtarget_feat\u001b[49m\u001b[43m,\u001b[49m\u001b[43m \u001b[49m\u001b[43mphase\u001b[49m\u001b[38;5;241;43m=\u001b[39;49m\u001b[38;5;124;43m'\u001b[39;49m\u001b[38;5;124;43meval\u001b[39;49m\u001b[38;5;124;43m'\u001b[39;49m\u001b[43m)\u001b[49m\n\u001b[0;32m     60\u001b[0m \u001b[38;5;28mprint\u001b[39m(test_metrics)\n",
      "Cell \u001b[1;32mIn [29], line 43\u001b[0m, in \u001b[0;36meval_step\u001b[1;34m(model, dataloader, loss_module, loss_alpha, device, class_names, target_feat_met, phase, l2_reg)\u001b[0m\n\u001b[0;32m     41\u001b[0m all_targets \u001b[38;5;241m=\u001b[39m np\u001b[38;5;241m.\u001b[39mconcatenate(per_batch[\u001b[38;5;124m\"\u001b[39m\u001b[38;5;124mtargets\u001b[39m\u001b[38;5;124m\"\u001b[39m])\n\u001b[0;32m     42\u001b[0m \u001b[38;5;28mprint\u001b[39m(all_preds\u001b[38;5;241m.\u001b[39mshape, all_targets[:, \u001b[38;5;241m0\u001b[39m]\u001b[38;5;241m.\u001b[39mshape)\n\u001b[1;32m---> 43\u001b[0m metrics_dict \u001b[38;5;241m=\u001b[39m \u001b[43maction_evaluator\u001b[49m\u001b[43m(\u001b[49m\u001b[43my_pred\u001b[49m\u001b[38;5;241;43m=\u001b[39;49m\u001b[43mall_preds\u001b[49m\u001b[43m,\u001b[49m\u001b[43m \u001b[49m\u001b[43my_true\u001b[49m\u001b[38;5;241;43m=\u001b[39;49m\u001b[43mall_targets\u001b[49m\u001b[43m[\u001b[49m\u001b[43m:\u001b[49m\u001b[43m,\u001b[49m\u001b[43m \u001b[49m\u001b[38;5;241;43m0\u001b[39;49m\u001b[43m]\u001b[49m\u001b[43m,\u001b[49m\u001b[43m \u001b[49m\u001b[43mclass_names\u001b[49m\u001b[38;5;241;43m=\u001b[39;49m\u001b[43mclass_names\u001b[49m\u001b[43m)\u001b[49m\n\u001b[0;32m     44\u001b[0m \u001b[38;5;28;01mreturn\u001b[39;00m metrics_dict\n",
      "Cell \u001b[1;32mIn [8], line 99\u001b[0m, in \u001b[0;36maction_evaluator\u001b[1;34m(y_pred, y_true, class_names, excluded_classes, maxcharlength)\u001b[0m\n\u001b[0;32m     97\u001b[0m \u001b[38;5;66;03m# print(\"pred label\", in_pred_labels, \"true label\", in_true_labels)\u001b[39;00m\n\u001b[0;32m     98\u001b[0m class_strings \u001b[38;5;241m=\u001b[39m [\u001b[38;5;28mstr\u001b[39m(name) \u001b[38;5;28;01mfor\u001b[39;00m name \u001b[38;5;129;01min\u001b[39;00m class_names]  \u001b[38;5;66;03m# needed in case `class_names` elements are not strings\u001b[39;00m\n\u001b[1;32m---> 99\u001b[0m existing_class_names \u001b[38;5;241m=\u001b[39m [class_strings[ind][:\u001b[38;5;28mmin\u001b[39m(maxcharlength, \u001b[38;5;28mlen\u001b[39m(class_strings[ind]))] \u001b[38;5;28;01mfor\u001b[39;00m ind \u001b[38;5;129;01min\u001b[39;00m existing_class_ind]  \u001b[38;5;66;03m# a little inefficient but inconsequential\u001b[39;00m\n\u001b[0;32m    101\u001b[0m \u001b[38;5;66;03m# Confusion matrix\u001b[39;00m\n\u001b[0;32m    102\u001b[0m ConfMatrix \u001b[38;5;241m=\u001b[39m metrics\u001b[38;5;241m.\u001b[39mconfusion_matrix(y_true, y_pred)\n",
      "Cell \u001b[1;32mIn [8], line 99\u001b[0m, in \u001b[0;36m<listcomp>\u001b[1;34m(.0)\u001b[0m\n\u001b[0;32m     97\u001b[0m \u001b[38;5;66;03m# print(\"pred label\", in_pred_labels, \"true label\", in_true_labels)\u001b[39;00m\n\u001b[0;32m     98\u001b[0m class_strings \u001b[38;5;241m=\u001b[39m [\u001b[38;5;28mstr\u001b[39m(name) \u001b[38;5;28;01mfor\u001b[39;00m name \u001b[38;5;129;01min\u001b[39;00m class_names]  \u001b[38;5;66;03m# needed in case `class_names` elements are not strings\u001b[39;00m\n\u001b[1;32m---> 99\u001b[0m existing_class_names \u001b[38;5;241m=\u001b[39m [\u001b[43mclass_strings\u001b[49m\u001b[43m[\u001b[49m\u001b[43mind\u001b[49m\u001b[43m]\u001b[49m[:\u001b[38;5;28mmin\u001b[39m(maxcharlength, \u001b[38;5;28mlen\u001b[39m(class_strings[ind]))] \u001b[38;5;28;01mfor\u001b[39;00m ind \u001b[38;5;129;01min\u001b[39;00m existing_class_ind]  \u001b[38;5;66;03m# a little inefficient but inconsequential\u001b[39;00m\n\u001b[0;32m    101\u001b[0m \u001b[38;5;66;03m# Confusion matrix\u001b[39;00m\n\u001b[0;32m    102\u001b[0m ConfMatrix \u001b[38;5;241m=\u001b[39m metrics\u001b[38;5;241m.\u001b[39mconfusion_matrix(y_true, y_pred)\n",
      "\u001b[1;31mIndexError\u001b[0m: list index out of range"
     ]
    }
   ],
   "source": [
    "# run \n",
    "device = \"cpu\"#torch.device(\"cuda:0\" if torch.cuda.is_available() else \"cpu\")\n",
    "# import PAMAP2 dataset\n",
    "dataReader = PAMAP2Reader('../data/PAMAP2_Dataset/Protocol/')\n",
    "actionList = dataReader.idToLabel\n",
    "# import PAMAP2 attributes\n",
    "activity_dict, attribute_dict, attr_mat = load_attribute('./PAMAP2_attributes.json')\n",
    "_, attr_size = attr_mat.shape\n",
    "# import action features\n",
    "feat_size = 64\n",
    "n_actions = 18 \n",
    "feat_mat = np.random.randn(n_actions, feat_size) \n",
    "\n",
    "# run 5-fold running\n",
    "fold_classes = [['watching TV', 'house cleaning', 'standing', 'ascending stairs'], ['walking', 'rope jumping', 'sitting', 'descending stairs'], ['playing soccer', 'lying', 'vacuum cleaning', 'computer work'], ['cycling', 'running', 'Nordic walking'], ['ironing', 'car driving', 'folding laundry']]\n",
    "fold_cls_ids = [[actionList.index(i) for i in j] for j in fold_classes]\n",
    "for i, cs in enumerate(fold_cls_ids):\n",
    "    # separate seen/unseen and train/eval \n",
    "    data_dict = dataReader.generate(unseen_classes=cs, resampling=True, seen_ratio=0.2, unseen_ratio=0.8)\n",
    "    all_classes = dataReader.idToLabel\n",
    "    seen_classes = data_dict['seen_classes']\n",
    "    unseen_classes = data_dict['unseen_classes']\n",
    "    train_n, seq_len, in_ft = data_dict['train']['X'].shape\n",
    "    # build train_dt \n",
    "    train_dt = PAMAP2Dataset(data=data_dict['train']['X'], actions=data_dict['train']['y'], attributes=attr_mat, action_feats=feat_mat, action_classes=seen_classes)\n",
    "    train_dl = DataLoader(train_dt, batch_size=32, shuffle=True, pin_memory=True)\n",
    "    # build seen eval_dt \n",
    "    eval_dt = PAMAP2Dataset(data=data_dict['eval-seen']['X'], actions=data_dict['eval-seen']['y'], attributes=attr_mat, action_feats=feat_mat, action_classes=seen_classes)\n",
    "    eval_dl = DataLoader(eval_dt, batch_size=32, shuffle=True, pin_memory=True)\n",
    "    # build unseen test_dt\n",
    "    test_dt = PAMAP2Dataset(data=data_dict['test']['X'], actions=data_dict['test']['y'], attributes=attr_mat, action_feats=feat_mat, action_classes=unseen_classes)\n",
    "    test_dl = DataLoader(test_dt, batch_size=32, shuffle=True, pin_memory=True)\n",
    "    \n",
    "    # build model\n",
    "    model = ZSLHARNet(in_ft=in_ft, d_model=128, num_heads=8, ft_size=feat_size, attr_size=attr_size, max_len=seq_len)\n",
    "    model.to(device)\n",
    "    # define run parameters \n",
    "    lr = 0.001\n",
    "    epochs = 3\n",
    "    optimizer = Adam(model.parameters(), lr=lr)\n",
    "    loss_module = {'feature': FeatureLoss(), 'attribute': AttributeLoss()}\n",
    "    best_acc = 0.0\n",
    "    # train the model \n",
    "    for epoch in tqdm(range(epochs), desc='Training Epoch', leave=False):\n",
    "        train_metrics = train_step(model, train_dl, optimizer, loss_module, 0.7, device, class_names=[all_classes[i] for i in seen_classes], target_feat_met=train_dt.target_feat, phase='train')\n",
    "        eval_metrics = eval_step(model, eval_dl, loss_module, 0.7, device, class_names=[all_classes[i] for i in seen_classes],  target_feat_met=train_dt.target_feat, phase='eval')\n",
    "        # print(f\"EPOCH [{epoch}] TRAINING : {train_metrics}\")\n",
    "        # print(f\"EPOCH [{epoch}] EVAL : {eval_metrics}\")\n",
    "        if eval_metrics['total_accuracy'] > best_acc:\n",
    "            best_model = deepcopy(model.state_dict())\n",
    "    \n",
    "    if best_acc == 0.0:\n",
    "        best_model = deepcopy(model.state_dict())\n",
    "    \n",
    "    # replace by best model \n",
    "    model.load_state_dict(best_model)\n",
    "\n",
    "    # run evaluation on unseen classes\n",
    "    test_metrics = eval_step(model, test_dl, loss_module, 0.7, device, class_names=[all_classes[i] for i in unseen_classes],  target_feat_met=train_dt.target_feat, phase='eval')\n",
    "    print(test_metrics)"
   ]
  },
  {
   "cell_type": "code",
   "execution_count": null,
   "metadata": {},
   "outputs": [
    {
     "data": {
      "text/plain": [
       "(18, 42)"
      ]
     },
     "execution_count": 17,
     "metadata": {},
     "output_type": "execute_result"
    }
   ],
   "source": [
    "attr_mat.shape"
   ]
  },
  {
   "cell_type": "code",
   "execution_count": null,
   "metadata": {},
   "outputs": [
    {
     "data": {
      "text/plain": [
       "(18, 64)"
      ]
     },
     "execution_count": 18,
     "metadata": {},
     "output_type": "execute_result"
    }
   ],
   "source": [
    "feat_mat.shape"
   ]
  },
  {
   "cell_type": "code",
   "execution_count": null,
   "metadata": {},
   "outputs": [
    {
     "data": {
      "text/plain": [
       "[7, 15, 2, 10]"
      ]
     },
     "execution_count": 23,
     "metadata": {},
     "output_type": "execute_result"
    }
   ],
   "source": [
    "cs"
   ]
  },
  {
   "cell_type": "code",
   "execution_count": null,
   "metadata": {},
   "outputs": [
    {
     "data": {
      "text/plain": [
       "{0: 0,\n",
       " 1: 1,\n",
       " 3: 2,\n",
       " 4: 3,\n",
       " 5: 4,\n",
       " 6: 5,\n",
       " 8: 6,\n",
       " 9: 7,\n",
       " 11: 8,\n",
       " 12: 9,\n",
       " 13: 10,\n",
       " 14: 11,\n",
       " 16: 12,\n",
       " 17: 13}"
      ]
     },
     "execution_count": 22,
     "metadata": {},
     "output_type": "execute_result"
    }
   ],
   "source": [
    "train_dt.action2Id"
   ]
  },
  {
   "cell_type": "code",
   "execution_count": null,
   "metadata": {},
   "outputs": [
    {
     "data": {
      "text/plain": [
       "['lying',\n",
       " 'sitting',\n",
       " 'standing',\n",
       " 'walking',\n",
       " 'running',\n",
       " 'cycling',\n",
       " 'Nordic walking',\n",
       " 'watching TV',\n",
       " 'computer work',\n",
       " 'car driving',\n",
       " 'ascending stairs',\n",
       " 'descending stairs',\n",
       " 'vacuum cleaning',\n",
       " 'ironing',\n",
       " 'folding laundry',\n",
       " 'house cleaning',\n",
       " 'playing soccer',\n",
       " 'rope jumping']"
      ]
     },
     "execution_count": 15,
     "metadata": {},
     "output_type": "execute_result"
    }
   ],
   "source": [
    "seen_classes"
   ]
  },
  {
   "cell_type": "code",
   "execution_count": null,
   "metadata": {},
   "outputs": [],
   "source": []
  }
 ],
 "metadata": {
  "kernelspec": {
   "display_name": "Python 3.8.13 ('mvts_trans')",
   "language": "python",
   "name": "python3"
  },
  "language_info": {
   "codemirror_mode": {
    "name": "ipython",
    "version": 3
   },
   "file_extension": ".py",
   "mimetype": "text/x-python",
   "name": "python",
   "nbconvert_exporter": "python",
   "pygments_lexer": "ipython3",
   "version": "3.8.13"
  },
  "orig_nbformat": 4,
  "vscode": {
   "interpreter": {
    "hash": "ccc35149ad8fa032444ebff1245e6ef176e6c1ce3af8dec48e3374f21a6b0f27"
   }
  }
 },
 "nbformat": 4,
 "nbformat_minor": 2
}
