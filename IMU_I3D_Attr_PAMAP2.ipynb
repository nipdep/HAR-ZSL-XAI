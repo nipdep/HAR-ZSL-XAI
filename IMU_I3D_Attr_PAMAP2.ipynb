{
  "cells": [
    {
      "cell_type": "code",
      "execution_count": null,
      "metadata": {
        "colab": {
          "base_uri": "https://localhost:8080/"
        },
        "id": "NJhThY8PC2si",
        "outputId": "d880a863-078d-4632-92f6-5cc81eca12c3"
      },
      "outputs": [],
      "source": [
        "from google.colab import drive\n",
        "drive.mount('/content/drive')"
      ]
    },
    {
      "cell_type": "code",
      "execution_count": null,
      "metadata": {
        "colab": {
          "base_uri": "https://localhost:8080/"
        },
        "id": "khVPupusDG8T",
        "outputId": "3d72db63-1a4d-49f9-e7f8-1e5378441df5"
      },
      "outputs": [
        {
          "name": "stdout",
          "output_type": "stream",
          "text": [
            "Cloning into 'HAR-ZSL-XAI'...\n",
            "remote: Enumerating objects: 206, done.\u001b[K\n",
            "remote: Counting objects: 100% (206/206), done.\u001b[K\n",
            "remote: Compressing objects: 100% (117/117), done.\u001b[K\n",
            "remote: Total 206 (delta 97), reused 189 (delta 87), pack-reused 0\u001b[K\n",
            "Receiving objects: 100% (206/206), 64.85 MiB | 31.25 MiB/s, done.\n",
            "Resolving deltas: 100% (97/97), done.\n"
          ]
        }
      ],
      "source": [
        "! git clone https://github.com/nipdep/HAR-ZSL-XAI.git --branch pd/PoseAE --single-branch\n",
        "! mv /content/HAR-ZSL-XAI/src /content/"
      ]
    },
    {
      "attachments": {},
      "cell_type": "markdown",
      "metadata": {
        "id": "5G3REk2jDHN1"
      },
      "source": [
        "---\n",
        "Load Libraries"
      ]
    },
    {
      "cell_type": "code",
      "execution_count": 2,
      "metadata": {
        "colab": {
          "base_uri": "https://localhost:8080/"
        },
        "id": "DWgMHHXXDG5n",
        "outputId": "b39c6212-3119-4bb6-9acb-75ac01a16ed4"
      },
      "outputs": [
        {
          "name": "stderr",
          "output_type": "stream",
          "text": [
            "C:\\Users\\deela\\AppData\\Local\\Temp\\ipykernel_9644\\1470553114.py:3: TqdmExperimentalWarning: Using `tqdm.autonotebook.tqdm` in notebook mode. Use `tqdm.tqdm` instead to force console mode (e.g. in jupyter console)\n",
            "  from tqdm.autonotebook import tqdm\n"
          ]
        }
      ],
      "source": [
        "import os \n",
        "from datetime import date, datetime\n",
        "from tqdm.autonotebook import tqdm\n",
        "from copy import deepcopy\n",
        "from collections import defaultdict\n",
        "import numpy as np \n",
        "import numpy.random as random\n",
        "import pandas as pd\n",
        "import json\n",
        "import pickle\n",
        "from collections import defaultdict, OrderedDict\n",
        "\n",
        "import torch \n",
        "from torch import nn, Tensor\n",
        "from torch.nn import functional as F\n",
        "from torch.nn.modules import MultiheadAttention, Linear, Dropout, BatchNorm1d, TransformerEncoderLayer\n",
        "from torch.utils.data import Dataset, DataLoader\n",
        "from torch.optim import Adam\n",
        "from torch.nn import MSELoss\n",
        "\n",
        "\n",
        "from src.datasets.data import PAMAP2Reader\n",
        "# from src.datasets.dataset import PAMAP2Dataset\n",
        "from src.utils.analysis import action_evaluator\n",
        "from src.datasets.utils import load_attribute\n",
        "\n",
        "from src.models.loss import FeatureLoss, AttributeLoss\n",
        "from src.utils.analysis import action_evaluator\n",
        "\n",
        "from sklearn.metrics import accuracy_score\n",
        "from sklearn.metrics.pairwise import cosine_similarity\n",
        "\n",
        "# from src.running import train_step1, eval_step1"
      ]
    },
    {
      "cell_type": "code",
      "execution_count": 3,
      "metadata": {
        "id": "enxG_kfLUdK9"
      },
      "outputs": [],
      "source": [
        "from sklearn.manifold import TSNE\n",
        "# from umap import UMAP\n",
        "\n",
        "import matplotlib.pyplot as plt \n",
        "import seaborn as sns \n",
        "import plotly.express as px"
      ]
    },
    {
      "attachments": {},
      "cell_type": "markdown",
      "metadata": {},
      "source": [
        "---\n",
        "Set Global Variables"
      ]
    },
    {
      "cell_type": "code",
      "execution_count": 4,
      "metadata": {},
      "outputs": [],
      "source": [
        "data_root = '/content/drive/MyDrive/22_FYP42 - Zero-shot Explainable HAR/Datasets/Consolidated/PAMPA2'"
      ]
    },
    {
      "cell_type": "code",
      "execution_count": 23,
      "metadata": {
        "id": "umHwAr5pDG2N"
      },
      "outputs": [],
      "source": [
        "# setup model configurations\n",
        "config = {\n",
        "    # general information\n",
        "    \"datetime\": date.today(),\n",
        "    \"device\": \"gpu\",\n",
        "    \"dataset\": \"PAMAP2\", # \"PAMAP2\", \"DaLiAc\", \"UTD\"\n",
        "    \"Model\": \"RelativeGlobalAttention\",\n",
        "    \"sem-space\": 'attr',\n",
        "    # model training configs\n",
        "    \"lr\": 0.001,\n",
        "    \"imu_alpha\": 0.0001,\n",
        "    \"n_epochs\": 5,\n",
        "    \"optimizer\": \"adam\",\n",
        "    \"batch_size\": 32,\n",
        "    # model configs\n",
        "    \"d_model\": 128, \n",
        "    \"num_heads\": 2,\n",
        "    \"feat_size\": 42, # skel-AE hidden size and IMU-Anc output size\n",
        "    \"semantic_size\": 64,\n",
        "    # dataset configs\n",
        "    \"window_size\": 5.21, \n",
        "    \"overlap\": 4.21,\n",
        "    \"freq\": 50,\n",
        "    \"seq_len\": 50,  # skeleton seq. length\n",
        "    \"seen_split\": 0.1,\n",
        "}"
      ]
    },
    {
      "cell_type": "code",
      "execution_count": 6,
      "metadata": {},
      "outputs": [],
      "source": [
        "if config['device'] == 'cpu':\n",
        "    device = \"cpu\"\n",
        "else:\n",
        "    device = torch.device(\"cuda:0\" if torch.cuda.is_available() else \"cpu\")"
      ]
    },
    {
      "cell_type": "code",
      "execution_count": 7,
      "metadata": {},
      "outputs": [],
      "source": [
        "# run 5-fold running\n",
        "fold_classes = [['watching TV', 'house cleaning', 'standing', 'ascending stairs'], ['walking', 'rope jumping', 'sitting', 'descending stairs'], ['playing soccer', 'lying', 'vacuum cleaning', 'computer work'], ['cycling', 'running', 'Nordic walking'], ['ironing', 'car driving', 'folding laundry']]"
      ]
    },
    {
      "attachments": {},
      "cell_type": "markdown",
      "metadata": {},
      "source": [
        "---\n",
        "Load Data"
      ]
    },
    {
      "cell_type": "code",
      "execution_count": 8,
      "metadata": {
        "colab": {
          "base_uri": "https://localhost:8080/"
        },
        "id": "qQcUv5ikFZyN",
        "outputId": "82000721-9bad-4a88-84e1-763af14ec4af"
      },
      "outputs": [
        {
          "name": "stdout",
          "output_type": "stream",
          "text": [
            "Reading file 1 of 14\n",
            "Reading file 2 of 14\n",
            "Reading file 3 of 14\n",
            "Reading file 4 of 14\n",
            "Reading file 5 of 14\n",
            "Reading file 6 of 14\n",
            "Reading file 7 of 14\n",
            "Reading file 8 of 14\n",
            "Reading file 9 of 14\n",
            "Reading file 10 of 14\n",
            "Reading file 11 of 14\n",
            "Reading file 12 of 14\n",
            "Reading file 13 of 14\n",
            "Reading file 14 of 14\n"
          ]
        },
        {
          "name": "stderr",
          "output_type": "stream",
          "text": [
            "g:\\FYP\\Codebases\\HAR-ZSL-XAI\\src\\datasets\\data.py:64: VisibleDeprecationWarning:\n",
            "\n",
            "Creating an ndarray from ragged nested sequences (which is a list-or-tuple of lists-or-tuples-or ndarrays with different lengths or shapes) is deprecated. If you meant to do this, you must specify 'dtype=object' when creating the ndarray.\n",
            "\n"
          ]
        }
      ],
      "source": [
        "IMU_data_path = './data/PAMAP2_Dataset/Protocol/'\n",
        "dataReader = PAMAP2Reader(IMU_data_path)\n",
        "actionList = dataReader.idToLabel"
      ]
    },
    {
      "cell_type": "code",
      "execution_count": 9,
      "metadata": {
        "id": "NZxOPxsMhyEF"
      },
      "outputs": [],
      "source": [
        "def load_attribute(fpath):\n",
        "    with open(fpath, \"r\") as pf:\n",
        "        json_data = json.load(pf)\n",
        "\n",
        "    activity_dict = json_data[\"Activity\"]\n",
        "    attribute_dict = json_data[\"Attribute\"]\n",
        "    attr_met = np.array(list(json_data[\"Mark\"].values()))\n",
        "    return activity_dict, attribute_dict, attr_met"
      ]
    },
    {
      "cell_type": "code",
      "execution_count": 10,
      "metadata": {
        "id": "YAO5neZHGJKL"
      },
      "outputs": [],
      "source": [
        "# load video dataset\n",
        "Attr_data_path  = './data/PAMAP2_Dataset/PAMAP2_attributes.json'\n",
        "activity_dict, attribute_dict, attr_mat = load_attribute(Attr_data_path)\n",
        "_, attr_size = attr_mat.shape"
      ]
    },
    {
      "attachments": {},
      "cell_type": "markdown",
      "metadata": {},
      "source": [
        "---\n",
        "Utils"
      ]
    },
    {
      "cell_type": "code",
      "execution_count": 11,
      "metadata": {},
      "outputs": [],
      "source": [
        "def save_model(model,model_name,unique_name,fold_id):\n",
        "    PATH = f\"{models_saves}/{model_name}\"\n",
        "    os.makedirs(PATH,exist_ok=True)\n",
        "    torch.save({\n",
        "        \"n_epochs\" : config[\"n_epochs\"],\n",
        "        \"model_state_dict\":model.state_dict(),\n",
        "        \"config\": config\n",
        "    }, f\"{PATH}/{unique_name}_{fold_id}.pt\")\n",
        "\n",
        "model_iden = \"fold\"\n",
        "notebook_iden = \"SORTModel_feature\"\n",
        "models_saves = \"model_saves\""
      ]
    },
    {
      "cell_type": "code",
      "execution_count": 12,
      "metadata": {
        "id": "oMgevInhKbjy"
      },
      "outputs": [],
      "source": [
        "## IMU Dataset\n",
        "\n",
        "class IMUDataset(Dataset):\n",
        "    def __init__(self, data, actions, attributes, action_classes):\n",
        "        super(IMUDataset, self).__init__()\n",
        "        self.data = torch.from_numpy(data)\n",
        "        self.actions = actions\n",
        "        self.attributes = torch.from_numpy(attributes)\n",
        "        self.action_classes = action_classes\n",
        "        # build action to id mapping dict\n",
        "        self.n_action = len(self.actions)\n",
        "        self.action2Id = dict(zip(action_classes, range(self.n_action)))\n",
        "\n",
        "    def __getitem__(self, ind):\n",
        "        x = self.data[ind, ...]\n",
        "        target = self.actions[ind]\n",
        "        y = torch.from_numpy(np.array([self.action2Id[target]]))\n",
        "        y_feat = self.attributes[target, ...]\n",
        "        return x, y, y_feat\n",
        "\n",
        "    def __len__(self):\n",
        "        return self.data.shape[0]\n",
        "    \n",
        "    def getClassFeatures(self):\n",
        "        cls_feat = self.attributes[self.action_classes, ...]\n",
        "        return cls_feat"
      ]
    },
    {
      "cell_type": "code",
      "execution_count": 13,
      "metadata": {
        "id": "FIWrGZwzUnbQ"
      },
      "outputs": [],
      "source": [
        "## IMU Encoder Model\n",
        "\n",
        "class IMUEncoder(nn.Module):\n",
        "    def __init__(self, in_ft, d_model, ft_size, n_classes, num_heads=1, max_len=1024, dropout=0.1):\n",
        "        super(IMUEncoder, self).__init__()\n",
        "        self.in_ft = in_ft\n",
        "        self.max_len = max_len\n",
        "        self.d_model = d_model\n",
        "        self.num_heads = num_heads\n",
        "        self.ft_size = ft_size \n",
        "        self.n_classes = n_classes\n",
        "\n",
        "        self.lstm = nn.LSTM(input_size=self.in_ft,\n",
        "                            hidden_size=self.d_model,\n",
        "                            num_layers=self.num_heads,\n",
        "                            batch_first=True,\n",
        "                            bidirectional=True)\n",
        "        self.drop = nn.Dropout(p=dropout)\n",
        "        self.act = nn.ReLU()\n",
        "        self.fcLayer1 = nn.Linear(2*self.d_model, self.ft_size)\n",
        "        # self.fcLayer2 = nn.Linear(self.ft_size, self.ft_size)\n",
        "\n",
        "    def forward(self, x):\n",
        "        out, _ = self.lstm(x)\n",
        "        out_forward = out[:, self.max_len - 1, :self.d_model]\n",
        "        out_reverse = out[:, 0, self.d_model:]\n",
        "        out_reduced = torch.cat((out_forward, out_reverse), 1)\n",
        "        out = self.drop(out_reduced)\n",
        "        out = self.act(out)\n",
        "        out = self.fcLayer1(out)\n",
        "        # out = self.fcLayer2(out)\n",
        "        return out"
      ]
    },
    {
      "cell_type": "code",
      "execution_count": 14,
      "metadata": {},
      "outputs": [],
      "source": [
        "def loss_cross_entropy(y_pred, cls, selected_features, loss_fn=nn.CrossEntropyLoss(reduction=\"mean\")):\n",
        "    num_classes = selected_features.size()[0]\n",
        "    cosine_sim_comb = []\n",
        "    for entry in y_pred.unbind():\n",
        "        cosine_sim = F.softmax(torch.abs(F.cosine_similarity(entry.repeat(num_classes,1),selected_features)),dim=-1)\n",
        "        cosine_sim_comb.append(cosine_sim)\n",
        "\n",
        "    cosine_sim_comb = torch.stack(cosine_sim_comb)\n",
        "    loss = loss_fn(cosine_sim_comb,cls)\n",
        "    return loss\n",
        "\n",
        "def loss_reconstruction_calc(y_pred, y_feat, loss_fn=nn.L1Loss(reduction=\"sum\")):\n",
        "    _, feature_size = y_pred.size()\n",
        "    loss = loss_fn(y_pred, y_feat)*(1/feature_size)\n",
        "    return loss\n",
        "\n",
        "def predict_class(y_pred, selected_features):\n",
        "    num_classes = selected_features.size()[0]\n",
        "    cosine_sim_comb = []\n",
        "    for entry in y_pred.unbind():\n",
        "        cosine_sim = torch.argmax(F.softmax(torch.abs(F.cosine_similarity(entry.repeat(num_classes,1),selected_features)),dim=-1))\n",
        "        cosine_sim_comb.append(cosine_sim)\n",
        "\n",
        "    pred = torch.stack(cosine_sim_comb)\n",
        "    return pred"
      ]
    },
    {
      "cell_type": "code",
      "execution_count": 15,
      "metadata": {},
      "outputs": [],
      "source": [
        "def train_step(model, dataloader, dataset, optimizer, loss_module, device, phase='train', loss_alpha=0.7):\n",
        "    model = model.train()\n",
        "    metrics = {\"samples\": 0, \"loss\": 0, \"feat. loss\": 0, \"classi. loss\": 0, \"accuracy\": 0}\n",
        "    semantic_space = dataset.getClassFeatures().to(device)\n",
        "\n",
        "    with tqdm(dataloader, unit=\"batch\", desc=phase) as tepoch:\n",
        "        for batch in tepoch:\n",
        "            X, targets, target_feat = batch\n",
        "            X = X.float().to(device)\n",
        "            target_feat = target_feat.float().to(device)\n",
        "            targets = targets.long().to(device)\n",
        "\n",
        "            optimizer.zero_grad()\n",
        "            with torch.set_grad_enabled(phase == 'train'):\n",
        "            # with autocast():\n",
        "                feat_output = model(X)\n",
        "                class_loss = loss_cross_entropy(feat_output, targets.squeeze(), semantic_space, loss_fn=loss_module['class'] )\n",
        "                feat_loss = loss_reconstruction_calc(feat_output, target_feat, loss_fn=loss_module[\"feature\"])\n",
        "                loss = feat_loss + loss_alpha*class_loss\n",
        "\n",
        "            class_output = predict_class(feat_output, semantic_space)\n",
        "\n",
        "            if phase == 'train':\n",
        "                loss.backward()\n",
        "                optimizer.step()\n",
        "\n",
        "            with torch.no_grad():\n",
        "                N = len(targets)\n",
        "                metrics['loss'] = loss.item()/N # add total loss of batch\n",
        "                metrics['feat. loss'] = feat_loss.item()/N\n",
        "                metrics['classi. loss'] = class_loss.item()/N\n",
        "\n",
        "            # convert feature vector into action class\n",
        "            pred_class = class_output.cpu().detach().numpy()\n",
        "            metrics[\"accuracy\"] = accuracy_score(y_true=targets.cpu().detach().numpy(), y_pred=pred_class, normalize=True)\n",
        "            tepoch.set_postfix(metrics)   \n",
        "    \n",
        "    # metrics['accuracy'] = metrics['accuracy']/metrics['samples'] # average loss per sample for whole epoch\n",
        "    # tepoch.set_postfix(metrics)  \n",
        "    return metrics"
      ]
    },
    {
      "cell_type": "code",
      "execution_count": 16,
      "metadata": {},
      "outputs": [],
      "source": [
        "def eval_step(model, dataloader, dataset, loss_module, device, class_names, phase='seen', l2_reg=False, print_report=False, show_plot=False, loss_alpha=0.1):\n",
        "    model = model.eval()\n",
        "    per_batch = {'target_masks': [], 'targets': [], 'predictions': [], 'metrics': [], 'IDs': []}\n",
        "    metrics = {\"samples\": 0, \"loss\": 0, \"feat. loss\": 0, \"classi. loss\": 0}\n",
        "    semantic_space = dataset.getClassFeatures().to(device)\n",
        "\n",
        "    with tqdm(dataloader, unit=\"batch\", desc=phase) as tepoch:\n",
        "        for batch in tepoch:\n",
        "            X, targets, target_feat = batch\n",
        "            X = X.float().to(device)\n",
        "            target_feat = target_feat.float().to(device)\n",
        "            targets = targets.long().to(device)\n",
        "\n",
        "            with torch.set_grad_enabled(phase == 'train'):\n",
        "            # with autocast():\n",
        "                feat_output = model(X)\n",
        "                class_loss = loss_cross_entropy(feat_output, targets.squeeze(), semantic_space, loss_fn=loss_module['class'])\n",
        "                feat_loss = loss_reconstruction_calc(feat_output, target_feat, loss_fn=loss_module[\"feature\"])\n",
        "                loss = feat_loss + loss_alpha*class_loss\n",
        "            \n",
        "            class_output = predict_class(feat_output, semantic_space)\n",
        "\n",
        "            with torch.no_grad():\n",
        "                N = len(targets)\n",
        "                metrics['loss'] += loss.item()/N  # add total loss of batch\n",
        "                metrics['feat. loss'] += feat_loss.item()/N\n",
        "                metrics['classi. loss'] += class_loss.item()/N\n",
        "\n",
        "            per_batch['targets'].append(targets.cpu().numpy())\n",
        "            per_batch['predictions'].append(class_output.cpu().numpy())\n",
        "            per_batch['metrics'].append([loss.cpu().numpy()])\n",
        "\n",
        "            tepoch.set_postfix({\"loss\": loss.item()})\n",
        "\n",
        "    all_preds = np.concatenate(per_batch[\"predictions\"])\n",
        "    all_targets = np.concatenate(per_batch[\"targets\"])\n",
        "    metrics_dict = action_evaluator(y_pred=all_preds, y_true=all_targets[:, 0], class_names=class_names, print_report=print_report, show_plot=show_plot)\n",
        "    metrics_dict.update(metrics)\n",
        "    return metrics_dict"
      ]
    },
    {
      "cell_type": "code",
      "execution_count": 17,
      "metadata": {},
      "outputs": [],
      "source": [
        "def plot_curves(df):\n",
        "    df['loss'] = df['loss']/df['samples']\n",
        "    df['feat. loss'] = df['feat. loss']/df['samples']\n",
        "    df['classi. loss'] = df['classi. loss']/df['samples']\n",
        "    \n",
        "    fig, axs = plt.subplots(nrows=4)\n",
        "    sns.lineplot(data=df, x='epoch', y='loss', hue='phase', marker='o', ax=axs[2]).set(title=\"Loss\")\n",
        "    sns.lineplot(data=df, x='epoch', y='feat. loss', hue='phase', marker='o', ax=axs[0]).set(title=\"Feature Loss\")\n",
        "    sns.lineplot(data=df, x='epoch', y='classi. loss', hue='phase', marker='o', ax=axs[1]).set(title=\"Classification Loss\")\n",
        "    sns.lineplot(data=df, x='epoch', y='accuracy', hue='phase', marker='o', ax=axs[3]).set(title=\"Accuracy\")"
      ]
    },
    {
      "cell_type": "markdown",
      "metadata": {
        "id": "RKpMzwHKGAQ2"
      },
      "source": [
        "---"
      ]
    },
    {
      "attachments": {},
      "cell_type": "markdown",
      "metadata": {},
      "source": [
        "---\n",
        "Temp"
      ]
    },
    {
      "cell_type": "code",
      "execution_count": 18,
      "metadata": {
        "colab": {
          "base_uri": "https://localhost:8080/"
        },
        "id": "c9mbOqLLUpB0",
        "outputId": "6f117b27-0a61-44ab-df75-8ea96287c9dd"
      },
      "outputs": [
        {
          "data": {
            "text/plain": [
              "torch.Size([32, 128])"
            ]
          },
          "execution_count": 18,
          "metadata": {},
          "output_type": "execute_result"
        }
      ],
      "source": [
        "# test model \n",
        "sample_input = torch.randn((32, 120, 42))\n",
        "model = IMUEncoder(in_ft=42, d_model=128, num_heads=2, ft_size=128, n_classes=2, max_len=120, dropout=0.1)\n",
        "sample_output = model(sample_input)\n",
        "sample_output.shape"
      ]
    },
    {
      "cell_type": "code",
      "execution_count": 19,
      "metadata": {
        "colab": {
          "base_uri": "https://localhost:8080/"
        },
        "id": "Mr2jZegpHaJ7",
        "outputId": "16a52720-4881-4071-bdc7-977adcd1b3b6"
      },
      "outputs": [
        {
          "data": {
            "text/plain": [
              "[(1, 'lying'),\n",
              " (2, 'sitting'),\n",
              " (3, 'standing'),\n",
              " (4, 'walking'),\n",
              " (5, 'running'),\n",
              " (6, 'cycling'),\n",
              " (7, 'Nordic walking'),\n",
              " (9, 'watching TV'),\n",
              " (10, 'computer work'),\n",
              " (11, 'car driving'),\n",
              " (12, 'ascending stairs'),\n",
              " (13, 'descending stairs'),\n",
              " (16, 'vacuum cleaning'),\n",
              " (17, 'ironing'),\n",
              " (18, 'folding laundry'),\n",
              " (19, 'house cleaning'),\n",
              " (20, 'playing soccer'),\n",
              " (24, 'rope jumping')]"
            ]
          },
          "execution_count": 19,
          "metadata": {},
          "output_type": "execute_result"
        }
      ],
      "source": [
        "dataReader.label_map"
      ]
    },
    {
      "cell_type": "code",
      "execution_count": 20,
      "metadata": {
        "id": "W-guaLIXHmKs"
      },
      "outputs": [],
      "source": [
        "fold_cls_ids = [[actionList.index(i) for i in j] for j in fold_classes]\n",
        "data_dict = dataReader.generate(unseen_classes=fold_cls_ids[0], seen_ratio=0.2, unseen_ratio=0.8, window_size=5.21, window_overlap=4.21, resample_freq=20)"
      ]
    },
    {
      "cell_type": "code",
      "execution_count": 21,
      "metadata": {
        "colab": {
          "base_uri": "https://localhost:8080/"
        },
        "id": "rICanDMvHqKb",
        "outputId": "b8768654-57ad-4540-bee1-31145c8b741b"
      },
      "outputs": [
        {
          "data": {
            "text/plain": [
              "((16752, 105, 27), (4189, 105, 27), (5608, 105, 27))"
            ]
          },
          "execution_count": 21,
          "metadata": {},
          "output_type": "execute_result"
        }
      ],
      "source": [
        "data_dict['train']['X'].shape,data_dict['eval-seen']['X'].shape,data_dict[\"test\"][\"X\"].shape"
      ]
    },
    {
      "cell_type": "code",
      "execution_count": 24,
      "metadata": {
        "colab": {
          "base_uri": "https://localhost:8080/",
          "height": 823,
          "referenced_widgets": [
            "dfae1ffccc6d49a681ea4b6c876f4dd4",
            "48b98d8bacc242d3b455d8f4d6b81d6b",
            "0e21a7ecda564496a2c539584d98893a",
            "ca201731575b49f4864dfbfb487d47ba",
            "94bc208569c64389a10987a176797eb3",
            "65d8b81e4c9243a0a5dca63233987da7",
            "c2fde4f9f71541bab63fa0d3a7f66588",
            "dc2a9dcf6e15470db80e85a2b7138ad8",
            "57c2f506088141ef9b9072ef7ea51126",
            "c2df59d884874a62853da3d6482b166e",
            "83cb9db126c8452cbb644520ab9db12d",
            "5ab6885ac5324dc5a10d2619c212d959",
            "67af9c5169014956818b93c01adec674",
            "b9d951b3c70c4930ae32c0d6cbe50154",
            "51aa7d7254fe4a72a0ab5e2e668831f4",
            "0dbb6437945a475ca009875a63e910b3",
            "563b09c6fe51473fb62ca73aaaaab8dd",
            "6237872dfe09482692a30eb929c36e64",
            "41f4deb9f82c422fb16f483620c12342",
            "d1b47cee0ca64f55b21f84aae7cdcd40",
            "22d291db24c04697b6dfd966110f7fdf",
            "642c4222199d4c848be517c50d3e1241",
            "3a2f3284e23a4c1197cbb9437fa36b6e",
            "b2290c5b7f97459b83cb97bba780dd38",
            "73718f71342a4f9e988f879389e1c78c",
            "0ab12d428f4f4e299f9301167c277802",
            "a204972b90664d63b06e44e253e4734f",
            "bfca906c0e6143fe94fe955e2af8bdae",
            "032cc2367a7a4fe9a1b20e05d70668f3",
            "fe756ff61180438983cb362698f41d79",
            "6b1db04808ee4e90a516768123a137d1",
            "8c90264a765b448daa6378a8aa452027",
            "97726f304ae342c2a81fa3135c68aba7"
          ]
        },
        "id": "ezbEvFA9IA_K",
        "outputId": "438e5205-79de-484a-9bf6-2e5a2ff2eb5c"
      },
      "outputs": [
        {
          "name": "stdout",
          "output_type": "stream",
          "text": [
            "================ Fold-0 ================\n",
            "Unseen Classes : ['watching TV', 'house cleaning', 'standing', 'ascending stairs']\n",
            "seen classes >  [0, 1, 3, 4, 5, 6, 8, 9, 11, 12, 13, 14, 16, 17]\n",
            "unseen classes >  [7, 15, 2, 10]\n",
            "Initiate IMU datasets ...\n"
          ]
        },
        {
          "data": {
            "application/vnd.jupyter.widget-view+json": {
              "model_id": "e2a4047d5d9543119951f677f9600d74",
              "version_major": 2,
              "version_minor": 0
            },
            "text/plain": [
              "Training Epoch:   0%|          | 0/5 [00:00<?, ?it/s]"
            ]
          },
          "metadata": {},
          "output_type": "display_data"
        },
        {
          "data": {
            "application/vnd.jupyter.widget-view+json": {
              "model_id": "dfc5c69d1bb14689b2f68db89336ff85",
              "version_major": 2,
              "version_minor": 0
            },
            "text/plain": [
              "train:   0%|          | 0/588 [00:00<?, ?batch/s]"
            ]
          },
          "metadata": {},
          "output_type": "display_data"
        },
        {
          "data": {
            "application/vnd.jupyter.widget-view+json": {
              "model_id": "1451e6f114a84d098349702445719c57",
              "version_major": 2,
              "version_minor": 0
            },
            "text/plain": [
              "seen:   0%|          | 0/65 [00:00<?, ?batch/s]"
            ]
          },
          "metadata": {},
          "output_type": "display_data"
        },
        {
          "name": "stdout",
          "output_type": "stream",
          "text": [
            "all preds >  [ 2  2  4 ...  4  2 10]  all targets >  [ 5  5  4 ...  4  8 11]\n",
            "Overall accuracy: 0.677\n",
            "\n"
          ]
        },
        {
          "data": {
            "application/vnd.jupyter.widget-view+json": {
              "model_id": "5ea349da965d465b998bb12551d5c137",
              "version_major": 2,
              "version_minor": 0
            },
            "text/plain": [
              "train:   0%|          | 0/588 [00:00<?, ?batch/s]"
            ]
          },
          "metadata": {},
          "output_type": "display_data"
        },
        {
          "data": {
            "application/vnd.jupyter.widget-view+json": {
              "model_id": "7921757eac7042638cb0f2036472ab5f",
              "version_major": 2,
              "version_minor": 0
            },
            "text/plain": [
              "seen:   0%|          | 0/65 [00:00<?, ?batch/s]"
            ]
          },
          "metadata": {},
          "output_type": "display_data"
        },
        {
          "name": "stdout",
          "output_type": "stream",
          "text": [
            "all preds >  [ 2  6  8 ... 10  6  1]  all targets >  [ 2  6 13 ... 11  6  1]\n",
            "Overall accuracy: 0.711\n",
            "\n"
          ]
        },
        {
          "data": {
            "application/vnd.jupyter.widget-view+json": {
              "model_id": "62505e9201f940ba8a5cd3fc1690ed0a",
              "version_major": 2,
              "version_minor": 0
            },
            "text/plain": [
              "train:   0%|          | 0/588 [00:00<?, ?batch/s]"
            ]
          },
          "metadata": {},
          "output_type": "display_data"
        },
        {
          "data": {
            "application/vnd.jupyter.widget-view+json": {
              "model_id": "00dc40fd18d141a6afafd01cdcc5af59",
              "version_major": 2,
              "version_minor": 0
            },
            "text/plain": [
              "seen:   0%|          | 0/65 [00:00<?, ?batch/s]"
            ]
          },
          "metadata": {},
          "output_type": "display_data"
        },
        {
          "name": "stdout",
          "output_type": "stream",
          "text": [
            "all preds >  [ 2  2  9 ... 10  8  9]  all targets >  [ 5  2  9 ... 10  8  9]\n",
            "Overall accuracy: 0.862\n",
            "\n"
          ]
        },
        {
          "data": {
            "application/vnd.jupyter.widget-view+json": {
              "model_id": "1c58fcdb1de6432cba149e7d2a901bcb",
              "version_major": 2,
              "version_minor": 0
            },
            "text/plain": [
              "train:   0%|          | 0/588 [00:00<?, ?batch/s]"
            ]
          },
          "metadata": {},
          "output_type": "display_data"
        },
        {
          "data": {
            "application/vnd.jupyter.widget-view+json": {
              "model_id": "5a262806a44c4f6f9483d8aceb75ea66",
              "version_major": 2,
              "version_minor": 0
            },
            "text/plain": [
              "seen:   0%|          | 0/65 [00:00<?, ?batch/s]"
            ]
          },
          "metadata": {},
          "output_type": "display_data"
        },
        {
          "name": "stdout",
          "output_type": "stream",
          "text": [
            "all preds >  [ 5  0 10 ...  8  9  5]  all targets >  [ 5  0 10 ...  8  9  5]\n",
            "Overall accuracy: 0.880\n",
            "\n"
          ]
        },
        {
          "data": {
            "application/vnd.jupyter.widget-view+json": {
              "model_id": "af519d3d785b4c8e94da932da8f848ab",
              "version_major": 2,
              "version_minor": 0
            },
            "text/plain": [
              "train:   0%|          | 0/588 [00:00<?, ?batch/s]"
            ]
          },
          "metadata": {},
          "output_type": "display_data"
        },
        {
          "data": {
            "application/vnd.jupyter.widget-view+json": {
              "model_id": "2312678fb77f461fbed2ed8aad1d35f4",
              "version_major": 2,
              "version_minor": 0
            },
            "text/plain": [
              "seen:   0%|          | 0/65 [00:00<?, ?batch/s]"
            ]
          },
          "metadata": {},
          "output_type": "display_data"
        },
        {
          "name": "stdout",
          "output_type": "stream",
          "text": [
            "all preds >  [10  5 10 ...  3  6  2]  all targets >  [ 4  5 10 ...  3  6  2]\n",
            "Overall accuracy: 0.826\n",
            "\n"
          ]
        },
        {
          "data": {
            "application/vnd.jupyter.widget-view+json": {
              "model_id": "4f3922982b04424d85de5533a84e3780",
              "version_major": 2,
              "version_minor": 0
            },
            "text/plain": [
              "unseen:   0%|          | 0/175 [00:00<?, ?batch/s]"
            ]
          },
          "metadata": {},
          "output_type": "display_data"
        },
        {
          "name": "stdout",
          "output_type": "stream",
          "text": [
            "all preds >  [1 3 1 ... 1 2 3]  all targets >  [2 3 3 ... 2 1 3]\n",
            "Overall accuracy: 0.510\n",
            "\n",
            "{'accuracy': 0.5101785714285715, 'precision': 0.5230347034049847, 'recall': 0.5597445611736727, 'f1': 0.5174032579653874, 'samples': 5600, 'loss': 43.57977968454361, 'feat. loss': 43.55574560165405, 'classi. loss': 240.34084820747375}\n",
            "========================================\n",
            "================ Fold-1 ================\n",
            "Unseen Classes : ['walking', 'rope jumping', 'sitting', 'descending stairs']\n",
            "seen classes >  [0, 2, 4, 5, 6, 7, 8, 9, 10, 12, 13, 14, 15, 16]\n",
            "unseen classes >  [3, 17, 1, 11]\n",
            "Initiate IMU datasets ...\n"
          ]
        },
        {
          "data": {
            "application/vnd.jupyter.widget-view+json": {
              "model_id": "94b826c5da21419cb4d263610f58da6e",
              "version_major": 2,
              "version_minor": 0
            },
            "text/plain": [
              "Training Epoch:   0%|          | 0/5 [00:00<?, ?it/s]"
            ]
          },
          "metadata": {},
          "output_type": "display_data"
        },
        {
          "data": {
            "application/vnd.jupyter.widget-view+json": {
              "model_id": "d03fb25b1c47443bbf6f4d9ce1846687",
              "version_major": 2,
              "version_minor": 0
            },
            "text/plain": [
              "train:   0%|          | 0/590 [00:00<?, ?batch/s]"
            ]
          },
          "metadata": {},
          "output_type": "display_data"
        },
        {
          "data": {
            "application/vnd.jupyter.widget-view+json": {
              "model_id": "7c5bfa1a5c6646b39a2732bd2954e0dd",
              "version_major": 2,
              "version_minor": 0
            },
            "text/plain": [
              "seen:   0%|          | 0/65 [00:00<?, ?batch/s]"
            ]
          },
          "metadata": {},
          "output_type": "display_data"
        },
        {
          "name": "stdout",
          "output_type": "stream",
          "text": [
            "all preds >  [10  4  6 ...  1  0  6]  all targets >  [10 13  6 ...  1  0  6]\n",
            "Overall accuracy: 0.632\n",
            "\n"
          ]
        },
        {
          "data": {
            "application/vnd.jupyter.widget-view+json": {
              "model_id": "6182d781c8c34624b03ccf6ab3b4b55e",
              "version_major": 2,
              "version_minor": 0
            },
            "text/plain": [
              "train:   0%|          | 0/590 [00:00<?, ?batch/s]"
            ]
          },
          "metadata": {},
          "output_type": "display_data"
        },
        {
          "data": {
            "application/vnd.jupyter.widget-view+json": {
              "model_id": "bf79d65912a14a6c9ab1792224dfed30",
              "version_major": 2,
              "version_minor": 0
            },
            "text/plain": [
              "seen:   0%|          | 0/65 [00:00<?, ?batch/s]"
            ]
          },
          "metadata": {},
          "output_type": "display_data"
        },
        {
          "name": "stdout",
          "output_type": "stream",
          "text": [
            "all preds >  [ 1  0  9 ...  3  3 10]  all targets >  [1 0 9 ... 3 3 5]\n",
            "Overall accuracy: 0.691\n",
            "\n"
          ]
        },
        {
          "data": {
            "application/vnd.jupyter.widget-view+json": {
              "model_id": "c717283d703c445a9b1dad43e3e759fe",
              "version_major": 2,
              "version_minor": 0
            },
            "text/plain": [
              "train:   0%|          | 0/590 [00:00<?, ?batch/s]"
            ]
          },
          "metadata": {},
          "output_type": "display_data"
        },
        {
          "data": {
            "application/vnd.jupyter.widget-view+json": {
              "model_id": "994f4ad11cd940e9b00063dd79aaa4db",
              "version_major": 2,
              "version_minor": 0
            },
            "text/plain": [
              "seen:   0%|          | 0/65 [00:00<?, ?batch/s]"
            ]
          },
          "metadata": {},
          "output_type": "display_data"
        },
        {
          "name": "stdout",
          "output_type": "stream",
          "text": [
            "all preds >  [10  6  5 ...  6  4  8]  all targets >  [11  6  5 ...  6  4  8]\n",
            "Overall accuracy: 0.733\n",
            "\n"
          ]
        },
        {
          "data": {
            "application/vnd.jupyter.widget-view+json": {
              "model_id": "698ca23d41734be2ba3d10998ff00c4d",
              "version_major": 2,
              "version_minor": 0
            },
            "text/plain": [
              "train:   0%|          | 0/590 [00:00<?, ?batch/s]"
            ]
          },
          "metadata": {},
          "output_type": "display_data"
        },
        {
          "data": {
            "application/vnd.jupyter.widget-view+json": {
              "model_id": "d3dbe9ea305347229b58e7177400ec5c",
              "version_major": 2,
              "version_minor": 0
            },
            "text/plain": [
              "seen:   0%|          | 0/65 [00:00<?, ?batch/s]"
            ]
          },
          "metadata": {},
          "output_type": "display_data"
        },
        {
          "name": "stdout",
          "output_type": "stream",
          "text": [
            "all preds >  [10  4  1 ...  6  3  0]  all targets >  [11  2  1 ...  6  3  0]\n",
            "Overall accuracy: 0.760\n",
            "\n"
          ]
        },
        {
          "data": {
            "application/vnd.jupyter.widget-view+json": {
              "model_id": "f0364460840943b2843f6142e5decf83",
              "version_major": 2,
              "version_minor": 0
            },
            "text/plain": [
              "train:   0%|          | 0/590 [00:00<?, ?batch/s]"
            ]
          },
          "metadata": {},
          "output_type": "display_data"
        },
        {
          "data": {
            "application/vnd.jupyter.widget-view+json": {
              "model_id": "ebd22be980754e59a40a641207e3f74c",
              "version_major": 2,
              "version_minor": 0
            },
            "text/plain": [
              "seen:   0%|          | 0/65 [00:00<?, ?batch/s]"
            ]
          },
          "metadata": {},
          "output_type": "display_data"
        },
        {
          "name": "stdout",
          "output_type": "stream",
          "text": [
            "all preds >  [10  8  0 ...  9  9  1]  all targets >  [10  8  0 ...  9  9  1]\n",
            "Overall accuracy: 0.799\n",
            "\n"
          ]
        },
        {
          "data": {
            "application/vnd.jupyter.widget-view+json": {
              "model_id": "ececdd7787034ad18be64fd55fc6dc2d",
              "version_major": 2,
              "version_minor": 0
            },
            "text/plain": [
              "unseen:   0%|          | 0/173 [00:00<?, ?batch/s]"
            ]
          },
          "metadata": {},
          "output_type": "display_data"
        },
        {
          "name": "stdout",
          "output_type": "stream",
          "text": [
            "all preds >  [3 0 0 ... 3 2 3]  all targets >  [2 0 0 ... 2 2 3]\n",
            "Overall accuracy: 0.629\n",
            "\n",
            "{'accuracy': 0.6286127167630058, 'precision': 0.5422582660872904, 'recall': 0.5076431522564316, 'f1': 0.4836354725278189, 'samples': 5536, 'loss': 32.54725271463394, 'feat. loss': 32.52387370169163, 'classi. loss': 233.7897937297821}\n",
            "========================================\n",
            "================ Fold-2 ================\n",
            "Unseen Classes : ['playing soccer', 'lying', 'vacuum cleaning', 'computer work']\n",
            "seen classes >  [1, 2, 3, 4, 5, 6, 7, 9, 10, 11, 13, 14, 15, 17]\n",
            "unseen classes >  [16, 0, 12, 8]\n",
            "Initiate IMU datasets ...\n"
          ]
        },
        {
          "data": {
            "application/vnd.jupyter.widget-view+json": {
              "model_id": "a18dce21c0ad492086d2d59611188558",
              "version_major": 2,
              "version_minor": 0
            },
            "text/plain": [
              "Training Epoch:   0%|          | 0/5 [00:00<?, ?it/s]"
            ]
          },
          "metadata": {},
          "output_type": "display_data"
        },
        {
          "data": {
            "application/vnd.jupyter.widget-view+json": {
              "model_id": "73fdbe2c96c14f958cc3fe40a4b06771",
              "version_major": 2,
              "version_minor": 0
            },
            "text/plain": [
              "train:   0%|          | 0/546 [00:00<?, ?batch/s]"
            ]
          },
          "metadata": {},
          "output_type": "display_data"
        },
        {
          "data": {
            "application/vnd.jupyter.widget-view+json": {
              "model_id": "97a5917269064c9585ed42a67fda774f",
              "version_major": 2,
              "version_minor": 0
            },
            "text/plain": [
              "seen:   0%|          | 0/60 [00:00<?, ?batch/s]"
            ]
          },
          "metadata": {},
          "output_type": "display_data"
        },
        {
          "name": "stdout",
          "output_type": "stream",
          "text": [
            "all preds >  [ 2 10  8 ... 10  0  8]  all targets >  [ 2 10  8 ... 12  0  5]\n",
            "Overall accuracy: 0.622\n",
            "\n"
          ]
        },
        {
          "data": {
            "application/vnd.jupyter.widget-view+json": {
              "model_id": "cc75bbfc3c4b4a749c3f59f386ac6ccd",
              "version_major": 2,
              "version_minor": 0
            },
            "text/plain": [
              "train:   0%|          | 0/546 [00:00<?, ?batch/s]"
            ]
          },
          "metadata": {},
          "output_type": "display_data"
        },
        {
          "data": {
            "application/vnd.jupyter.widget-view+json": {
              "model_id": "fd59f16a93144e45a341f38fca2ecc7b",
              "version_major": 2,
              "version_minor": 0
            },
            "text/plain": [
              "seen:   0%|          | 0/60 [00:00<?, ?batch/s]"
            ]
          },
          "metadata": {},
          "output_type": "display_data"
        },
        {
          "name": "stdout",
          "output_type": "stream",
          "text": [
            "all preds >  [11  2  8 ... 12  8  2]  all targets >  [10  3  9 ... 12  0  5]\n",
            "Overall accuracy: 0.472\n",
            "\n"
          ]
        },
        {
          "data": {
            "application/vnd.jupyter.widget-view+json": {
              "model_id": "bfa4bcdf873b46cbb197e927778fd518",
              "version_major": 2,
              "version_minor": 0
            },
            "text/plain": [
              "train:   0%|          | 0/546 [00:00<?, ?batch/s]"
            ]
          },
          "metadata": {},
          "output_type": "display_data"
        },
        {
          "data": {
            "application/vnd.jupyter.widget-view+json": {
              "model_id": "52f2a90f985b47c3b248c840813f32a6",
              "version_major": 2,
              "version_minor": 0
            },
            "text/plain": [
              "seen:   0%|          | 0/60 [00:00<?, ?batch/s]"
            ]
          },
          "metadata": {},
          "output_type": "display_data"
        },
        {
          "name": "stdout",
          "output_type": "stream",
          "text": [
            "all preds >  [10  6 11 ...  2  8  1]  all targets >  [10  6 12 ...  2 13  1]\n",
            "Overall accuracy: 0.747\n",
            "\n"
          ]
        },
        {
          "data": {
            "application/vnd.jupyter.widget-view+json": {
              "model_id": "40206d75eb5a472e9e7f6b7a605cb4ec",
              "version_major": 2,
              "version_minor": 0
            },
            "text/plain": [
              "train:   0%|          | 0/546 [00:00<?, ?batch/s]"
            ]
          },
          "metadata": {},
          "output_type": "display_data"
        },
        {
          "data": {
            "application/vnd.jupyter.widget-view+json": {
              "model_id": "a60f023075394456b9660d784938ac87",
              "version_major": 2,
              "version_minor": 0
            },
            "text/plain": [
              "seen:   0%|          | 0/60 [00:00<?, ?batch/s]"
            ]
          },
          "metadata": {},
          "output_type": "display_data"
        },
        {
          "name": "stdout",
          "output_type": "stream",
          "text": [
            "all preds >  [6 0 2 ... 2 8 5]  all targets >  [6 0 2 ... 5 8 5]\n",
            "Overall accuracy: 0.754\n",
            "\n"
          ]
        },
        {
          "data": {
            "application/vnd.jupyter.widget-view+json": {
              "model_id": "b1ca4731d47241a88c77a82401860f91",
              "version_major": 2,
              "version_minor": 0
            },
            "text/plain": [
              "train:   0%|          | 0/546 [00:00<?, ?batch/s]"
            ]
          },
          "metadata": {},
          "output_type": "display_data"
        },
        {
          "data": {
            "application/vnd.jupyter.widget-view+json": {
              "model_id": "ee1abd2c088643aaaa9bc376a959e404",
              "version_major": 2,
              "version_minor": 0
            },
            "text/plain": [
              "seen:   0%|          | 0/60 [00:00<?, ?batch/s]"
            ]
          },
          "metadata": {},
          "output_type": "display_data"
        },
        {
          "name": "stdout",
          "output_type": "stream",
          "text": [
            "all preds >  [8 1 1 ... 6 5 5]  all targets >  [9 1 1 ... 6 5 5]\n",
            "Overall accuracy: 0.816\n",
            "\n"
          ]
        },
        {
          "data": {
            "application/vnd.jupyter.widget-view+json": {
              "model_id": "95d1f4a4e00843f0b22785b43af174dc",
              "version_major": 2,
              "version_minor": 0
            },
            "text/plain": [
              "unseen:   0%|          | 0/222 [00:00<?, ?batch/s]"
            ]
          },
          "metadata": {},
          "output_type": "display_data"
        },
        {
          "name": "stdout",
          "output_type": "stream",
          "text": [
            "all preds >  [2 2 2 ... 3 2 2]  all targets >  [3 2 1 ... 3 3 3]\n",
            "Overall accuracy: 0.350\n",
            "\n",
            "{'accuracy': 0.3500844594594595, 'precision': 0.3108886352702226, 'recall': 0.4674606908703033, 'f1': 0.3524055385012354, 'samples': 7104, 'loss': 59.42675994336605, 'feat. loss': 59.39631770551205, 'classi. loss': 304.42194855213165}\n",
            "========================================\n",
            "================ Fold-3 ================\n",
            "Unseen Classes : ['cycling', 'running', 'Nordic walking']\n",
            "seen classes >  [0, 1, 2, 3, 7, 8, 9, 10, 11, 12, 13, 14, 15, 16, 17]\n",
            "unseen classes >  [5, 4, 6]\n",
            "Initiate IMU datasets ...\n"
          ]
        },
        {
          "data": {
            "application/vnd.jupyter.widget-view+json": {
              "model_id": "49fcc58219874149a08a09c1471f7e55",
              "version_major": 2,
              "version_minor": 0
            },
            "text/plain": [
              "Training Epoch:   0%|          | 0/5 [00:00<?, ?it/s]"
            ]
          },
          "metadata": {},
          "output_type": "display_data"
        },
        {
          "data": {
            "application/vnd.jupyter.widget-view+json": {
              "model_id": "7effebeec87f406d9923353922b6738d",
              "version_major": 2,
              "version_minor": 0
            },
            "text/plain": [
              "train:   0%|          | 0/623 [00:00<?, ?batch/s]"
            ]
          },
          "metadata": {},
          "output_type": "display_data"
        },
        {
          "data": {
            "application/vnd.jupyter.widget-view+json": {
              "model_id": "46a60db21c3f425b86e3014efee1be15",
              "version_major": 2,
              "version_minor": 0
            },
            "text/plain": [
              "seen:   0%|          | 0/69 [00:00<?, ?batch/s]"
            ]
          },
          "metadata": {},
          "output_type": "display_data"
        },
        {
          "name": "stdout",
          "output_type": "stream",
          "text": [
            "all preds >  [1 4 3 ... 3 3 0]  all targets >  [ 1  4  3 ...  3 13  0]\n",
            "Overall accuracy: 0.694\n",
            "\n"
          ]
        },
        {
          "data": {
            "application/vnd.jupyter.widget-view+json": {
              "model_id": "d0f4002ea79346ad919e282d79ec50da",
              "version_major": 2,
              "version_minor": 0
            },
            "text/plain": [
              "train:   0%|          | 0/623 [00:00<?, ?batch/s]"
            ]
          },
          "metadata": {},
          "output_type": "display_data"
        },
        {
          "data": {
            "application/vnd.jupyter.widget-view+json": {
              "model_id": "f2720e4a798a4ceca16fec93be32ebf1",
              "version_major": 2,
              "version_minor": 0
            },
            "text/plain": [
              "seen:   0%|          | 0/69 [00:00<?, ?batch/s]"
            ]
          },
          "metadata": {},
          "output_type": "display_data"
        },
        {
          "name": "stdout",
          "output_type": "stream",
          "text": [
            "all preds >  [1 9 3 ... 6 7 9]  all targets >  [ 1 12  3 ...  6 12 12]\n",
            "Overall accuracy: 0.678\n",
            "\n"
          ]
        },
        {
          "data": {
            "application/vnd.jupyter.widget-view+json": {
              "model_id": "19d9476d53aa48ef8047df0f6c1a7862",
              "version_major": 2,
              "version_minor": 0
            },
            "text/plain": [
              "train:   0%|          | 0/623 [00:00<?, ?batch/s]"
            ]
          },
          "metadata": {},
          "output_type": "display_data"
        },
        {
          "data": {
            "application/vnd.jupyter.widget-view+json": {
              "model_id": "d67f6b297b99481e9ca9473d8fd1f58a",
              "version_major": 2,
              "version_minor": 0
            },
            "text/plain": [
              "seen:   0%|          | 0/69 [00:00<?, ?batch/s]"
            ]
          },
          "metadata": {},
          "output_type": "display_data"
        },
        {
          "name": "stdout",
          "output_type": "stream",
          "text": [
            "all preds >  [10  3  3 ...  2  2 10]  all targets >  [ 9  3  3 ...  2  1 11]\n",
            "Overall accuracy: 0.719\n",
            "\n"
          ]
        },
        {
          "data": {
            "application/vnd.jupyter.widget-view+json": {
              "model_id": "dbf5f19c61044150bb10fdc86211a9ce",
              "version_major": 2,
              "version_minor": 0
            },
            "text/plain": [
              "train:   0%|          | 0/623 [00:00<?, ?batch/s]"
            ]
          },
          "metadata": {},
          "output_type": "display_data"
        },
        {
          "data": {
            "application/vnd.jupyter.widget-view+json": {
              "model_id": "2e0eb385d0ad46d0bfddb8e23840c2f1",
              "version_major": 2,
              "version_minor": 0
            },
            "text/plain": [
              "seen:   0%|          | 0/69 [00:00<?, ?batch/s]"
            ]
          },
          "metadata": {},
          "output_type": "display_data"
        },
        {
          "name": "stdout",
          "output_type": "stream",
          "text": [
            "all preds >  [ 1 12 12 ...  5  5  2]  all targets >  [1 9 1 ... 5 2 2]\n",
            "Overall accuracy: 0.706\n",
            "\n"
          ]
        },
        {
          "data": {
            "application/vnd.jupyter.widget-view+json": {
              "model_id": "9719bf7d3e224a908ab31bf9fba61a8c",
              "version_major": 2,
              "version_minor": 0
            },
            "text/plain": [
              "train:   0%|          | 0/623 [00:00<?, ?batch/s]"
            ]
          },
          "metadata": {},
          "output_type": "display_data"
        },
        {
          "data": {
            "application/vnd.jupyter.widget-view+json": {
              "model_id": "019b7d01e8ad47c9a967ea844e0e9eba",
              "version_major": 2,
              "version_minor": 0
            },
            "text/plain": [
              "seen:   0%|          | 0/69 [00:00<?, ?batch/s]"
            ]
          },
          "metadata": {},
          "output_type": "display_data"
        },
        {
          "name": "stdout",
          "output_type": "stream",
          "text": [
            "all preds >  [10  2 10 ...  5  1  7]  all targets >  [10  2 11 ...  5  1 14]\n",
            "Overall accuracy: 0.799\n",
            "\n"
          ]
        },
        {
          "data": {
            "application/vnd.jupyter.widget-view+json": {
              "model_id": "4a545cb965684687af78e7cf545a2382",
              "version_major": 2,
              "version_minor": 0
            },
            "text/plain": [
              "unseen:   0%|          | 0/137 [00:00<?, ?batch/s]"
            ]
          },
          "metadata": {},
          "output_type": "display_data"
        },
        {
          "name": "stdout",
          "output_type": "stream",
          "text": [
            "all preds >  [2 2 2 ... 2 2 2]  all targets >  [0 1 0 ... 2 0 1]\n",
            "Overall accuracy: 0.501\n",
            "\n",
            "{'accuracy': 0.5013686131386861, 'precision': 0.3778584455667789, 'recall': 0.41435696306852865, 'f1': 0.35859330223754154, 'samples': 4384, 'loss': 37.66510073840618, 'feat. loss': 37.65028087794781, 'classi. loss': 148.20009589195251}\n",
            "========================================\n",
            "================ Fold-4 ================\n",
            "Unseen Classes : ['ironing', 'car driving', 'folding laundry']\n",
            "seen classes >  [0, 1, 2, 3, 4, 5, 6, 7, 8, 10, 11, 12, 15, 16, 17]\n",
            "unseen classes >  [13, 9, 14]\n",
            "Initiate IMU datasets ...\n"
          ]
        },
        {
          "data": {
            "application/vnd.jupyter.widget-view+json": {
              "model_id": "05f44de3ea1a4411860d10fb2915ef32",
              "version_major": 2,
              "version_minor": 0
            },
            "text/plain": [
              "Training Epoch:   0%|          | 0/5 [00:00<?, ?it/s]"
            ]
          },
          "metadata": {},
          "output_type": "display_data"
        },
        {
          "data": {
            "application/vnd.jupyter.widget-view+json": {
              "model_id": "bbb2df14d6014862a0f4657b16714b01",
              "version_major": 2,
              "version_minor": 0
            },
            "text/plain": [
              "train:   0%|          | 0/638 [00:00<?, ?batch/s]"
            ]
          },
          "metadata": {},
          "output_type": "display_data"
        },
        {
          "data": {
            "application/vnd.jupyter.widget-view+json": {
              "model_id": "0c72cade7da44fdd8469ffca11c1292e",
              "version_major": 2,
              "version_minor": 0
            },
            "text/plain": [
              "seen:   0%|          | 0/70 [00:00<?, ?batch/s]"
            ]
          },
          "metadata": {},
          "output_type": "display_data"
        },
        {
          "name": "stdout",
          "output_type": "stream",
          "text": [
            "all preds >  [ 3  2 11 ... 11 12  5]  all targets >  [ 6  2 11 ...  5 12  5]\n",
            "Overall accuracy: 0.654\n",
            "\n"
          ]
        },
        {
          "data": {
            "application/vnd.jupyter.widget-view+json": {
              "model_id": "f5f6c82d1924410e90bccddcb77ccb97",
              "version_major": 2,
              "version_minor": 0
            },
            "text/plain": [
              "train:   0%|          | 0/638 [00:00<?, ?batch/s]"
            ]
          },
          "metadata": {},
          "output_type": "display_data"
        },
        {
          "data": {
            "application/vnd.jupyter.widget-view+json": {
              "model_id": "4be8f8a3cd784bda98612bf2b0388cd7",
              "version_major": 2,
              "version_minor": 0
            },
            "text/plain": [
              "seen:   0%|          | 0/70 [00:00<?, ?batch/s]"
            ]
          },
          "metadata": {},
          "output_type": "display_data"
        },
        {
          "name": "stdout",
          "output_type": "stream",
          "text": [
            "all preds >  [ 2  5  3 ...  6 11  3]  all targets >  [ 2 10  9 ...  6 11  6]\n",
            "Overall accuracy: 0.667\n",
            "\n"
          ]
        },
        {
          "data": {
            "application/vnd.jupyter.widget-view+json": {
              "model_id": "8a4dba050d5e47c192af9a0c0b4adb8c",
              "version_major": 2,
              "version_minor": 0
            },
            "text/plain": [
              "train:   0%|          | 0/638 [00:00<?, ?batch/s]"
            ]
          },
          "metadata": {},
          "output_type": "display_data"
        },
        {
          "data": {
            "application/vnd.jupyter.widget-view+json": {
              "model_id": "5804d1fbdbf44978a7d7ed5976b8f357",
              "version_major": 2,
              "version_minor": 0
            },
            "text/plain": [
              "seen:   0%|          | 0/70 [00:00<?, ?batch/s]"
            ]
          },
          "metadata": {},
          "output_type": "display_data"
        },
        {
          "name": "stdout",
          "output_type": "stream",
          "text": [
            "all preds >  [4 2 3 ... 3 3 9]  all targets >  [14  2  3 ...  6  3 11]\n",
            "Overall accuracy: 0.669\n",
            "\n"
          ]
        },
        {
          "data": {
            "application/vnd.jupyter.widget-view+json": {
              "model_id": "f88aac8f19124fd387f48ae9ff5f76f9",
              "version_major": 2,
              "version_minor": 0
            },
            "text/plain": [
              "train:   0%|          | 0/638 [00:00<?, ?batch/s]"
            ]
          },
          "metadata": {},
          "output_type": "display_data"
        },
        {
          "data": {
            "application/vnd.jupyter.widget-view+json": {
              "model_id": "60feb378940d4940bcdcb92ab65ca502",
              "version_major": 2,
              "version_minor": 0
            },
            "text/plain": [
              "seen:   0%|          | 0/70 [00:00<?, ?batch/s]"
            ]
          },
          "metadata": {},
          "output_type": "display_data"
        },
        {
          "name": "stdout",
          "output_type": "stream",
          "text": [
            "all preds >  [ 2  1  9 ...  9  4 12]  all targets >  [ 2  1 13 ... 13  4 11]\n",
            "Overall accuracy: 0.780\n",
            "\n"
          ]
        },
        {
          "data": {
            "application/vnd.jupyter.widget-view+json": {
              "model_id": "ca813e253f2f4c87836dec6c5a61fc3d",
              "version_major": 2,
              "version_minor": 0
            },
            "text/plain": [
              "train:   0%|          | 0/638 [00:00<?, ?batch/s]"
            ]
          },
          "metadata": {},
          "output_type": "display_data"
        },
        {
          "data": {
            "application/vnd.jupyter.widget-view+json": {
              "model_id": "c7d8b06c1f3547028827bc0497780d35",
              "version_major": 2,
              "version_minor": 0
            },
            "text/plain": [
              "seen:   0%|          | 0/70 [00:00<?, ?batch/s]"
            ]
          },
          "metadata": {},
          "output_type": "display_data"
        },
        {
          "name": "stdout",
          "output_type": "stream",
          "text": [
            "all preds >  [2 8 0 ... 3 3 8]  all targets >  [2 8 0 ... 6 3 2]\n",
            "Overall accuracy: 0.742\n",
            "\n"
          ]
        },
        {
          "data": {
            "application/vnd.jupyter.widget-view+json": {
              "model_id": "53c9471d5944414fa12ab6b6b7b568ef",
              "version_major": 2,
              "version_minor": 0
            },
            "text/plain": [
              "unseen:   0%|          | 0/120 [00:00<?, ?batch/s]"
            ]
          },
          "metadata": {},
          "output_type": "display_data"
        },
        {
          "name": "stdout",
          "output_type": "stream",
          "text": [
            "all preds >  [2 2 2 ... 2 2 2]  all targets >  [0 1 0 ... 1 0 0]\n",
            "Overall accuracy: 0.280\n",
            "\n",
            "{'accuracy': 0.2796875, 'precision': 0.68999880654016, 'recall': 0.3724522295950867, 'f1': 0.2090639564833198, 'samples': 3840, 'loss': 32.929991990327835, 'feat. loss': 32.916859805583954, 'classi. loss': 131.32108759880066}\n",
            "========================================\n",
            "============== Overall Unseen Classes Performance ==============\n"
          ]
        },
        {
          "data": {
            "text/plain": [
              "accuracy           0.453986\n",
              "precision          0.488808\n",
              "recall             0.464332\n",
              "f1                 0.384220\n",
              "samples         5292.800000\n",
              "loss              41.229777\n",
              "feat. loss        41.208616\n",
              "classi. loss     211.614755\n",
              "dtype: float64"
            ]
          },
          "execution_count": 24,
          "metadata": {},
          "output_type": "execute_result"
        },
        {
          "data": {
            "image/png": "[encoded data removed]",
            "text/plain": [
              "<Figure size 640x480 with 4 Axes>"
            ]
          },
          "metadata": {},
          "output_type": "display_data"
        },
        {
          "data": {
            "image/png": "[encoded data removed]",
            "text/plain": [
              "<Figure size 640x480 with 4 Axes>"
            ]
          },
          "metadata": {},
          "output_type": "display_data"
        },
        {
          "data": {
            "image/png": "[encoded data removed]",
            "text/plain": [
              "<Figure size 640x480 with 4 Axes>"
            ]
          },
          "metadata": {},
          "output_type": "display_data"
        },
        {
          "data": {
            "image/png": "[encoded data removed]",
            "text/plain": [
              "<Figure size 640x480 with 4 Axes>"
            ]
          },
          "metadata": {},
          "output_type": "display_data"
        },
        {
          "data": {
            "image/png": "[encoded data removed]",
            "text/plain": [
              "<Figure size 640x480 with 4 Axes>"
            ]
          },
          "metadata": {},
          "output_type": "display_data"
        }
      ],
      "source": [
        "fold_cls_ids = [[actionList.index(i) for i in j] for j in fold_classes]\n",
        "\n",
        "fold_metric_scores = []\n",
        "for i, cs in enumerate(fold_cls_ids):\n",
        "    print(\"=\"*16, f'Fold-{i}', \"=\"*16)\n",
        "    print(f'Unseen Classes : {fold_classes[i]}')\n",
        "\n",
        "    data_dict = dataReader.generate(unseen_classes=cs, seen_ratio=config['seen_split'], unseen_ratio=0.1, window_size=config['window_size'], window_overlap=config['overlap'], resample_freq=config['freq'])\n",
        "    all_classes = dataReader.idToLabel\n",
        "    seen_classes = data_dict['seen_classes']\n",
        "    unseen_classes = data_dict['unseen_classes']\n",
        "    print(\"seen classes > \", seen_classes)\n",
        "    print(\"unseen classes > \", unseen_classes)\n",
        "    train_n, seq_len, in_ft = data_dict['train']['X'].shape\n",
        "\n",
        "    print(\"Initiate IMU datasets ...\")\n",
        "    # build IMU datasets\n",
        "    train_dt = IMUDataset(data=data_dict['train']['X'], actions=data_dict['train']['y'], attributes=attr_mat, action_classes=seen_classes)\n",
        "    train_dl = DataLoader(train_dt, batch_size=config['batch_size'], shuffle=True, pin_memory=True, drop_last=True)\n",
        "    # build seen eval_dt\n",
        "    eval_dt = IMUDataset(data=data_dict['eval-seen']['X'], actions=data_dict['eval-seen']['y'], attributes=attr_mat, action_classes=seen_classes)\n",
        "    eval_dl = DataLoader(eval_dt, batch_size=config['batch_size'], shuffle=True, pin_memory=True, drop_last=True)\n",
        "    # build unseen test_dt\n",
        "    test_dt = IMUDataset(data=data_dict['test']['X'], actions=data_dict['test']['y'], attributes=attr_mat, action_classes=unseen_classes)\n",
        "    test_dl = DataLoader(test_dt, batch_size=config['batch_size'], shuffle=True, pin_memory=True, drop_last=True)\n",
        "    \n",
        "    # build model\n",
        "    imu_config = {\n",
        "        'in_ft':in_ft, \n",
        "        'd_model':config['d_model'], \n",
        "        'num_heads':config['num_heads'], \n",
        "        'ft_size':config['feat_size'], \n",
        "        'max_len':seq_len, \n",
        "        'n_classes':len(seen_classes)\n",
        "    }\n",
        "    model = IMUEncoder(**imu_config)\n",
        "    model.to(device)\n",
        "\n",
        "    # define run parameters \n",
        "    optimizer = Adam(model.parameters(), lr=config['lr'], weight_decay=1e-5)\n",
        "    loss_module = {'class': nn.CrossEntropyLoss(reduction=\"sum\"), 'feature': nn.L1Loss(reduction=\"sum\")}\n",
        "    best_acc = 0.0\n",
        "\n",
        "    # train the model \n",
        "    train_data = []\n",
        "    for epoch in tqdm(range(config['n_epochs']), desc='Training Epoch', leave=False):\n",
        "    \n",
        "        train_metrics = train_step(model, train_dl, train_dt, optimizer, loss_module, device, phase='train', loss_alpha=0.0001)\n",
        "        train_metrics['epoch'] = epoch\n",
        "        train_metrics['phase'] = 'train'\n",
        "        train_data.append(train_metrics)\n",
        "\n",
        "        eval_metrics = eval_step(model, eval_dl, eval_dt, loss_module, device, class_names=[all_classes[i] for i in seen_classes], phase='seen', loss_alpha=0.0001, print_report=False)\n",
        "        eval_metrics['epoch'] = epoch \n",
        "        eval_metrics['phase'] = 'valid'\n",
        "        train_data.append(eval_metrics)\n",
        "        # print(f\"EPOCH [{epoch}] TRAINING : {train_metrics}\")\n",
        "        # print(f\"EPOCH [{epoch}] EVAL : {eval_metrics}\")\n",
        "        if eval_metrics['accuracy'] > best_acc:\n",
        "            best_model = deepcopy(model.state_dict())\n",
        "    \n",
        "    train_df = pd.DataFrame().from_records(train_data)\n",
        "    plot_curves(train_df)\n",
        "\n",
        "    # replace by best model \n",
        "    model.load_state_dict(best_model)\n",
        "    save_model(model,notebook_iden,model_iden,i)\n",
        "\n",
        "    # run evaluation on unseen classes\n",
        "    test_metrics = eval_step(model, test_dl, test_dt, loss_module, device, class_names=[all_classes[i] for i in unseen_classes], phase='unseen', loss_alpha=0.0001, print_report=False)\n",
        "    fold_metric_scores.append(test_metrics)\n",
        "    print(test_metrics)\n",
        "    print(\"=\"*40)\n",
        "\n",
        "print(\"=\"*14, \"Overall Unseen Classes Performance\", \"=\"*14)\n",
        "seen_score_df = pd.DataFrame.from_records(fold_metric_scores)\n",
        "seen_score_df.mean()\n"
      ]
    },
    {
      "cell_type": "code",
      "execution_count": null,
      "metadata": {},
      "outputs": [],
      "source": []
    }
  ],
  "metadata": {
    "accelerator": "GPU",
    "colab": {
      "provenance": []
    },
    "gpuClass": "standard",
    "kernelspec": {
      "display_name": "Python 3",
      "name": "python3"
    },
    "language_info": {
      "codemirror_mode": {
        "name": "ipython",
        "version": 3
      },
      "file_extension": ".py",
      "mimetype": "text/x-python",
      "name": "python",
      "nbconvert_exporter": "python",
      "pygments_lexer": "ipython3",
      "version": "3.8.13"
    },
    "widgets": {
      "application/vnd.jupyter.widget-state+json": {
        "032cc2367a7a4fe9a1b20e05d70668f3": {
          "model_module": "@jupyter-widgets/controls",
          "model_module_version": "1.5.0",
          "model_name": "DescriptionStyleModel",
          "state": {
            "_model_module": "@jupyter-widgets/controls",
            "_model_module_version": "1.5.0",
            "_model_name": "DescriptionStyleModel",
            "_view_count": null,
            "_view_module": "@jupyter-widgets/base",
            "_view_module_version": "1.2.0",
            "_view_name": "StyleView",
            "description_width": ""
          }
        },
        "0ab12d428f4f4e299f9301167c277802": {
          "model_module": "@jupyter-widgets/controls",
          "model_module_version": "1.5.0",
          "model_name": "HTMLModel",
          "state": {
            "_dom_classes": [],
            "_model_module": "@jupyter-widgets/controls",
            "_model_module_version": "1.5.0",
            "_model_name": "HTMLModel",
            "_view_count": null,
            "_view_module": "@jupyter-widgets/controls",
            "_view_module_version": "1.5.0",
            "_view_name": "HTMLView",
            "description": "",
            "description_tooltip": null,
            "layout": "IPY_MODEL_8c90264a765b448daa6378a8aa452027",
            "placeholder": "​",
            "style": "IPY_MODEL_97726f304ae342c2a81fa3135c68aba7",
            "value": " 63/63 [00:01&lt;00:00, 56.45batch/s, loss=1.68]"
          }
        },
        "0dbb6437945a475ca009875a63e910b3": {
          "model_module": "@jupyter-widgets/base",
          "model_module_version": "1.2.0",
          "model_name": "LayoutModel",
          "state": {
            "_model_module": "@jupyter-widgets/base",
            "_model_module_version": "1.2.0",
            "_model_name": "LayoutModel",
            "_view_count": null,
            "_view_module": "@jupyter-widgets/base",
            "_view_module_version": "1.2.0",
            "_view_name": "LayoutView",
            "align_content": null,
            "align_items": null,
            "align_self": null,
            "border": null,
            "bottom": null,
            "display": null,
            "flex": null,
            "flex_flow": null,
            "grid_area": null,
            "grid_auto_columns": null,
            "grid_auto_flow": null,
            "grid_auto_rows": null,
            "grid_column": null,
            "grid_gap": null,
            "grid_row": null,
            "grid_template_areas": null,
            "grid_template_columns": null,
            "grid_template_rows": null,
            "height": null,
            "justify_content": null,
            "justify_items": null,
            "left": null,
            "margin": null,
            "max_height": null,
            "max_width": null,
            "min_height": null,
            "min_width": null,
            "object_fit": null,
            "object_position": null,
            "order": null,
            "overflow": null,
            "overflow_x": null,
            "overflow_y": null,
            "padding": null,
            "right": null,
            "top": null,
            "visibility": null,
            "width": null
          }
        },
        "0e21a7ecda564496a2c539584d98893a": {
          "model_module": "@jupyter-widgets/controls",
          "model_module_version": "1.5.0",
          "model_name": "FloatProgressModel",
          "state": {
            "_dom_classes": [],
            "_model_module": "@jupyter-widgets/controls",
            "_model_module_version": "1.5.0",
            "_model_name": "FloatProgressModel",
            "_view_count": null,
            "_view_module": "@jupyter-widgets/controls",
            "_view_module_version": "1.5.0",
            "_view_name": "ProgressView",
            "bar_style": "danger",
            "description": "",
            "description_tooltip": null,
            "layout": "IPY_MODEL_dc2a9dcf6e15470db80e85a2b7138ad8",
            "max": 15,
            "min": 0,
            "orientation": "horizontal",
            "style": "IPY_MODEL_57c2f506088141ef9b9072ef7ea51126",
            "value": 0
          }
        },
        "22d291db24c04697b6dfd966110f7fdf": {
          "model_module": "@jupyter-widgets/base",
          "model_module_version": "1.2.0",
          "model_name": "LayoutModel",
          "state": {
            "_model_module": "@jupyter-widgets/base",
            "_model_module_version": "1.2.0",
            "_model_name": "LayoutModel",
            "_view_count": null,
            "_view_module": "@jupyter-widgets/base",
            "_view_module_version": "1.2.0",
            "_view_name": "LayoutView",
            "align_content": null,
            "align_items": null,
            "align_self": null,
            "border": null,
            "bottom": null,
            "display": null,
            "flex": null,
            "flex_flow": null,
            "grid_area": null,
            "grid_auto_columns": null,
            "grid_auto_flow": null,
            "grid_auto_rows": null,
            "grid_column": null,
            "grid_gap": null,
            "grid_row": null,
            "grid_template_areas": null,
            "grid_template_columns": null,
            "grid_template_rows": null,
            "height": null,
            "justify_content": null,
            "justify_items": null,
            "left": null,
            "margin": null,
            "max_height": null,
            "max_width": null,
            "min_height": null,
            "min_width": null,
            "object_fit": null,
            "object_position": null,
            "order": null,
            "overflow": null,
            "overflow_x": null,
            "overflow_y": null,
            "padding": null,
            "right": null,
            "top": null,
            "visibility": null,
            "width": null
          }
        },
        "3a2f3284e23a4c1197cbb9437fa36b6e": {
          "model_module": "@jupyter-widgets/controls",
          "model_module_version": "1.5.0",
          "model_name": "HBoxModel",
          "state": {
            "_dom_classes": [],
            "_model_module": "@jupyter-widgets/controls",
            "_model_module_version": "1.5.0",
            "_model_name": "HBoxModel",
            "_view_count": null,
            "_view_module": "@jupyter-widgets/controls",
            "_view_module_version": "1.5.0",
            "_view_name": "HBoxView",
            "box_style": "",
            "children": [
              "IPY_MODEL_b2290c5b7f97459b83cb97bba780dd38",
              "IPY_MODEL_73718f71342a4f9e988f879389e1c78c",
              "IPY_MODEL_0ab12d428f4f4e299f9301167c277802"
            ],
            "layout": "IPY_MODEL_a204972b90664d63b06e44e253e4734f"
          }
        },
        "41f4deb9f82c422fb16f483620c12342": {
          "model_module": "@jupyter-widgets/base",
          "model_module_version": "1.2.0",
          "model_name": "LayoutModel",
          "state": {
            "_model_module": "@jupyter-widgets/base",
            "_model_module_version": "1.2.0",
            "_model_name": "LayoutModel",
            "_view_count": null,
            "_view_module": "@jupyter-widgets/base",
            "_view_module_version": "1.2.0",
            "_view_name": "LayoutView",
            "align_content": null,
            "align_items": null,
            "align_self": null,
            "border": null,
            "bottom": null,
            "display": null,
            "flex": null,
            "flex_flow": null,
            "grid_area": null,
            "grid_auto_columns": null,
            "grid_auto_flow": null,
            "grid_auto_rows": null,
            "grid_column": null,
            "grid_gap": null,
            "grid_row": null,
            "grid_template_areas": null,
            "grid_template_columns": null,
            "grid_template_rows": null,
            "height": null,
            "justify_content": null,
            "justify_items": null,
            "left": null,
            "margin": null,
            "max_height": null,
            "max_width": null,
            "min_height": null,
            "min_width": null,
            "object_fit": null,
            "object_position": null,
            "order": null,
            "overflow": null,
            "overflow_x": null,
            "overflow_y": null,
            "padding": null,
            "right": null,
            "top": null,
            "visibility": null,
            "width": null
          }
        },
        "48b98d8bacc242d3b455d8f4d6b81d6b": {
          "model_module": "@jupyter-widgets/controls",
          "model_module_version": "1.5.0",
          "model_name": "HTMLModel",
          "state": {
            "_dom_classes": [],
            "_model_module": "@jupyter-widgets/controls",
            "_model_module_version": "1.5.0",
            "_model_name": "HTMLModel",
            "_view_count": null,
            "_view_module": "@jupyter-widgets/controls",
            "_view_module_version": "1.5.0",
            "_view_name": "HTMLView",
            "description": "",
            "description_tooltip": null,
            "layout": "IPY_MODEL_65d8b81e4c9243a0a5dca63233987da7",
            "placeholder": "​",
            "style": "IPY_MODEL_c2fde4f9f71541bab63fa0d3a7f66588",
            "value": "Training Epoch:   0%"
          }
        },
        "51aa7d7254fe4a72a0ab5e2e668831f4": {
          "model_module": "@jupyter-widgets/controls",
          "model_module_version": "1.5.0",
          "model_name": "HTMLModel",
          "state": {
            "_dom_classes": [],
            "_model_module": "@jupyter-widgets/controls",
            "_model_module_version": "1.5.0",
            "_model_name": "HTMLModel",
            "_view_count": null,
            "_view_module": "@jupyter-widgets/controls",
            "_view_module_version": "1.5.0",
            "_view_name": "HTMLView",
            "description": "",
            "description_tooltip": null,
            "layout": "IPY_MODEL_22d291db24c04697b6dfd966110f7fdf",
            "placeholder": "​",
            "style": "IPY_MODEL_642c4222199d4c848be517c50d3e1241",
            "value": " 253/253 [00:07&lt;00:00, 38.19batch/s, loss=1.78, accuracy=0]"
          }
        },
        "563b09c6fe51473fb62ca73aaaaab8dd": {
          "model_module": "@jupyter-widgets/base",
          "model_module_version": "1.2.0",
          "model_name": "LayoutModel",
          "state": {
            "_model_module": "@jupyter-widgets/base",
            "_model_module_version": "1.2.0",
            "_model_name": "LayoutModel",
            "_view_count": null,
            "_view_module": "@jupyter-widgets/base",
            "_view_module_version": "1.2.0",
            "_view_name": "LayoutView",
            "align_content": null,
            "align_items": null,
            "align_self": null,
            "border": null,
            "bottom": null,
            "display": null,
            "flex": null,
            "flex_flow": null,
            "grid_area": null,
            "grid_auto_columns": null,
            "grid_auto_flow": null,
            "grid_auto_rows": null,
            "grid_column": null,
            "grid_gap": null,
            "grid_row": null,
            "grid_template_areas": null,
            "grid_template_columns": null,
            "grid_template_rows": null,
            "height": null,
            "justify_content": null,
            "justify_items": null,
            "left": null,
            "margin": null,
            "max_height": null,
            "max_width": null,
            "min_height": null,
            "min_width": null,
            "object_fit": null,
            "object_position": null,
            "order": null,
            "overflow": null,
            "overflow_x": null,
            "overflow_y": null,
            "padding": null,
            "right": null,
            "top": null,
            "visibility": null,
            "width": null
          }
        },
        "57c2f506088141ef9b9072ef7ea51126": {
          "model_module": "@jupyter-widgets/controls",
          "model_module_version": "1.5.0",
          "model_name": "ProgressStyleModel",
          "state": {
            "_model_module": "@jupyter-widgets/controls",
            "_model_module_version": "1.5.0",
            "_model_name": "ProgressStyleModel",
            "_view_count": null,
            "_view_module": "@jupyter-widgets/base",
            "_view_module_version": "1.2.0",
            "_view_name": "StyleView",
            "bar_color": null,
            "description_width": ""
          }
        },
        "5ab6885ac5324dc5a10d2619c212d959": {
          "model_module": "@jupyter-widgets/controls",
          "model_module_version": "1.5.0",
          "model_name": "HBoxModel",
          "state": {
            "_dom_classes": [],
            "_model_module": "@jupyter-widgets/controls",
            "_model_module_version": "1.5.0",
            "_model_name": "HBoxModel",
            "_view_count": null,
            "_view_module": "@jupyter-widgets/controls",
            "_view_module_version": "1.5.0",
            "_view_name": "HBoxView",
            "box_style": "",
            "children": [
              "IPY_MODEL_67af9c5169014956818b93c01adec674",
              "IPY_MODEL_b9d951b3c70c4930ae32c0d6cbe50154",
              "IPY_MODEL_51aa7d7254fe4a72a0ab5e2e668831f4"
            ],
            "layout": "IPY_MODEL_0dbb6437945a475ca009875a63e910b3"
          }
        },
        "6237872dfe09482692a30eb929c36e64": {
          "model_module": "@jupyter-widgets/controls",
          "model_module_version": "1.5.0",
          "model_name": "DescriptionStyleModel",
          "state": {
            "_model_module": "@jupyter-widgets/controls",
            "_model_module_version": "1.5.0",
            "_model_name": "DescriptionStyleModel",
            "_view_count": null,
            "_view_module": "@jupyter-widgets/base",
            "_view_module_version": "1.2.0",
            "_view_name": "StyleView",
            "description_width": ""
          }
        },
        "642c4222199d4c848be517c50d3e1241": {
          "model_module": "@jupyter-widgets/controls",
          "model_module_version": "1.5.0",
          "model_name": "DescriptionStyleModel",
          "state": {
            "_model_module": "@jupyter-widgets/controls",
            "_model_module_version": "1.5.0",
            "_model_name": "DescriptionStyleModel",
            "_view_count": null,
            "_view_module": "@jupyter-widgets/base",
            "_view_module_version": "1.2.0",
            "_view_name": "StyleView",
            "description_width": ""
          }
        },
        "65d8b81e4c9243a0a5dca63233987da7": {
          "model_module": "@jupyter-widgets/base",
          "model_module_version": "1.2.0",
          "model_name": "LayoutModel",
          "state": {
            "_model_module": "@jupyter-widgets/base",
            "_model_module_version": "1.2.0",
            "_model_name": "LayoutModel",
            "_view_count": null,
            "_view_module": "@jupyter-widgets/base",
            "_view_module_version": "1.2.0",
            "_view_name": "LayoutView",
            "align_content": null,
            "align_items": null,
            "align_self": null,
            "border": null,
            "bottom": null,
            "display": null,
            "flex": null,
            "flex_flow": null,
            "grid_area": null,
            "grid_auto_columns": null,
            "grid_auto_flow": null,
            "grid_auto_rows": null,
            "grid_column": null,
            "grid_gap": null,
            "grid_row": null,
            "grid_template_areas": null,
            "grid_template_columns": null,
            "grid_template_rows": null,
            "height": null,
            "justify_content": null,
            "justify_items": null,
            "left": null,
            "margin": null,
            "max_height": null,
            "max_width": null,
            "min_height": null,
            "min_width": null,
            "object_fit": null,
            "object_position": null,
            "order": null,
            "overflow": null,
            "overflow_x": null,
            "overflow_y": null,
            "padding": null,
            "right": null,
            "top": null,
            "visibility": null,
            "width": null
          }
        },
        "67af9c5169014956818b93c01adec674": {
          "model_module": "@jupyter-widgets/controls",
          "model_module_version": "1.5.0",
          "model_name": "HTMLModel",
          "state": {
            "_dom_classes": [],
            "_model_module": "@jupyter-widgets/controls",
            "_model_module_version": "1.5.0",
            "_model_name": "HTMLModel",
            "_view_count": null,
            "_view_module": "@jupyter-widgets/controls",
            "_view_module_version": "1.5.0",
            "_view_name": "HTMLView",
            "description": "",
            "description_tooltip": null,
            "layout": "IPY_MODEL_563b09c6fe51473fb62ca73aaaaab8dd",
            "placeholder": "​",
            "style": "IPY_MODEL_6237872dfe09482692a30eb929c36e64",
            "value": "train: 100%"
          }
        },
        "6b1db04808ee4e90a516768123a137d1": {
          "model_module": "@jupyter-widgets/controls",
          "model_module_version": "1.5.0",
          "model_name": "ProgressStyleModel",
          "state": {
            "_model_module": "@jupyter-widgets/controls",
            "_model_module_version": "1.5.0",
            "_model_name": "ProgressStyleModel",
            "_view_count": null,
            "_view_module": "@jupyter-widgets/base",
            "_view_module_version": "1.2.0",
            "_view_name": "StyleView",
            "bar_color": null,
            "description_width": ""
          }
        },
        "73718f71342a4f9e988f879389e1c78c": {
          "model_module": "@jupyter-widgets/controls",
          "model_module_version": "1.5.0",
          "model_name": "FloatProgressModel",
          "state": {
            "_dom_classes": [],
            "_model_module": "@jupyter-widgets/controls",
            "_model_module_version": "1.5.0",
            "_model_name": "FloatProgressModel",
            "_view_count": null,
            "_view_module": "@jupyter-widgets/controls",
            "_view_module_version": "1.5.0",
            "_view_name": "ProgressView",
            "bar_style": "success",
            "description": "",
            "description_tooltip": null,
            "layout": "IPY_MODEL_fe756ff61180438983cb362698f41d79",
            "max": 63,
            "min": 0,
            "orientation": "horizontal",
            "style": "IPY_MODEL_6b1db04808ee4e90a516768123a137d1",
            "value": 63
          }
        },
        "83cb9db126c8452cbb644520ab9db12d": {
          "model_module": "@jupyter-widgets/controls",
          "model_module_version": "1.5.0",
          "model_name": "DescriptionStyleModel",
          "state": {
            "_model_module": "@jupyter-widgets/controls",
            "_model_module_version": "1.5.0",
            "_model_name": "DescriptionStyleModel",
            "_view_count": null,
            "_view_module": "@jupyter-widgets/base",
            "_view_module_version": "1.2.0",
            "_view_name": "StyleView",
            "description_width": ""
          }
        },
        "8c90264a765b448daa6378a8aa452027": {
          "model_module": "@jupyter-widgets/base",
          "model_module_version": "1.2.0",
          "model_name": "LayoutModel",
          "state": {
            "_model_module": "@jupyter-widgets/base",
            "_model_module_version": "1.2.0",
            "_model_name": "LayoutModel",
            "_view_count": null,
            "_view_module": "@jupyter-widgets/base",
            "_view_module_version": "1.2.0",
            "_view_name": "LayoutView",
            "align_content": null,
            "align_items": null,
            "align_self": null,
            "border": null,
            "bottom": null,
            "display": null,
            "flex": null,
            "flex_flow": null,
            "grid_area": null,
            "grid_auto_columns": null,
            "grid_auto_flow": null,
            "grid_auto_rows": null,
            "grid_column": null,
            "grid_gap": null,
            "grid_row": null,
            "grid_template_areas": null,
            "grid_template_columns": null,
            "grid_template_rows": null,
            "height": null,
            "justify_content": null,
            "justify_items": null,
            "left": null,
            "margin": null,
            "max_height": null,
            "max_width": null,
            "min_height": null,
            "min_width": null,
            "object_fit": null,
            "object_position": null,
            "order": null,
            "overflow": null,
            "overflow_x": null,
            "overflow_y": null,
            "padding": null,
            "right": null,
            "top": null,
            "visibility": null,
            "width": null
          }
        },
        "94bc208569c64389a10987a176797eb3": {
          "model_module": "@jupyter-widgets/base",
          "model_module_version": "1.2.0",
          "model_name": "LayoutModel",
          "state": {
            "_model_module": "@jupyter-widgets/base",
            "_model_module_version": "1.2.0",
            "_model_name": "LayoutModel",
            "_view_count": null,
            "_view_module": "@jupyter-widgets/base",
            "_view_module_version": "1.2.0",
            "_view_name": "LayoutView",
            "align_content": null,
            "align_items": null,
            "align_self": null,
            "border": null,
            "bottom": null,
            "display": null,
            "flex": null,
            "flex_flow": null,
            "grid_area": null,
            "grid_auto_columns": null,
            "grid_auto_flow": null,
            "grid_auto_rows": null,
            "grid_column": null,
            "grid_gap": null,
            "grid_row": null,
            "grid_template_areas": null,
            "grid_template_columns": null,
            "grid_template_rows": null,
            "height": null,
            "justify_content": null,
            "justify_items": null,
            "left": null,
            "margin": null,
            "max_height": null,
            "max_width": null,
            "min_height": null,
            "min_width": null,
            "object_fit": null,
            "object_position": null,
            "order": null,
            "overflow": null,
            "overflow_x": null,
            "overflow_y": null,
            "padding": null,
            "right": null,
            "top": null,
            "visibility": null,
            "width": null
          }
        },
        "97726f304ae342c2a81fa3135c68aba7": {
          "model_module": "@jupyter-widgets/controls",
          "model_module_version": "1.5.0",
          "model_name": "DescriptionStyleModel",
          "state": {
            "_model_module": "@jupyter-widgets/controls",
            "_model_module_version": "1.5.0",
            "_model_name": "DescriptionStyleModel",
            "_view_count": null,
            "_view_module": "@jupyter-widgets/base",
            "_view_module_version": "1.2.0",
            "_view_name": "StyleView",
            "description_width": ""
          }
        },
        "a204972b90664d63b06e44e253e4734f": {
          "model_module": "@jupyter-widgets/base",
          "model_module_version": "1.2.0",
          "model_name": "LayoutModel",
          "state": {
            "_model_module": "@jupyter-widgets/base",
            "_model_module_version": "1.2.0",
            "_model_name": "LayoutModel",
            "_view_count": null,
            "_view_module": "@jupyter-widgets/base",
            "_view_module_version": "1.2.0",
            "_view_name": "LayoutView",
            "align_content": null,
            "align_items": null,
            "align_self": null,
            "border": null,
            "bottom": null,
            "display": null,
            "flex": null,
            "flex_flow": null,
            "grid_area": null,
            "grid_auto_columns": null,
            "grid_auto_flow": null,
            "grid_auto_rows": null,
            "grid_column": null,
            "grid_gap": null,
            "grid_row": null,
            "grid_template_areas": null,
            "grid_template_columns": null,
            "grid_template_rows": null,
            "height": null,
            "justify_content": null,
            "justify_items": null,
            "left": null,
            "margin": null,
            "max_height": null,
            "max_width": null,
            "min_height": null,
            "min_width": null,
            "object_fit": null,
            "object_position": null,
            "order": null,
            "overflow": null,
            "overflow_x": null,
            "overflow_y": null,
            "padding": null,
            "right": null,
            "top": null,
            "visibility": null,
            "width": null
          }
        },
        "b2290c5b7f97459b83cb97bba780dd38": {
          "model_module": "@jupyter-widgets/controls",
          "model_module_version": "1.5.0",
          "model_name": "HTMLModel",
          "state": {
            "_dom_classes": [],
            "_model_module": "@jupyter-widgets/controls",
            "_model_module_version": "1.5.0",
            "_model_name": "HTMLModel",
            "_view_count": null,
            "_view_module": "@jupyter-widgets/controls",
            "_view_module_version": "1.5.0",
            "_view_name": "HTMLView",
            "description": "",
            "description_tooltip": null,
            "layout": "IPY_MODEL_bfca906c0e6143fe94fe955e2af8bdae",
            "placeholder": "​",
            "style": "IPY_MODEL_032cc2367a7a4fe9a1b20e05d70668f3",
            "value": "seen: 100%"
          }
        },
        "b9d951b3c70c4930ae32c0d6cbe50154": {
          "model_module": "@jupyter-widgets/controls",
          "model_module_version": "1.5.0",
          "model_name": "FloatProgressModel",
          "state": {
            "_dom_classes": [],
            "_model_module": "@jupyter-widgets/controls",
            "_model_module_version": "1.5.0",
            "_model_name": "FloatProgressModel",
            "_view_count": null,
            "_view_module": "@jupyter-widgets/controls",
            "_view_module_version": "1.5.0",
            "_view_name": "ProgressView",
            "bar_style": "success",
            "description": "",
            "description_tooltip": null,
            "layout": "IPY_MODEL_41f4deb9f82c422fb16f483620c12342",
            "max": 253,
            "min": 0,
            "orientation": "horizontal",
            "style": "IPY_MODEL_d1b47cee0ca64f55b21f84aae7cdcd40",
            "value": 253
          }
        },
        "bfca906c0e6143fe94fe955e2af8bdae": {
          "model_module": "@jupyter-widgets/base",
          "model_module_version": "1.2.0",
          "model_name": "LayoutModel",
          "state": {
            "_model_module": "@jupyter-widgets/base",
            "_model_module_version": "1.2.0",
            "_model_name": "LayoutModel",
            "_view_count": null,
            "_view_module": "@jupyter-widgets/base",
            "_view_module_version": "1.2.0",
            "_view_name": "LayoutView",
            "align_content": null,
            "align_items": null,
            "align_self": null,
            "border": null,
            "bottom": null,
            "display": null,
            "flex": null,
            "flex_flow": null,
            "grid_area": null,
            "grid_auto_columns": null,
            "grid_auto_flow": null,
            "grid_auto_rows": null,
            "grid_column": null,
            "grid_gap": null,
            "grid_row": null,
            "grid_template_areas": null,
            "grid_template_columns": null,
            "grid_template_rows": null,
            "height": null,
            "justify_content": null,
            "justify_items": null,
            "left": null,
            "margin": null,
            "max_height": null,
            "max_width": null,
            "min_height": null,
            "min_width": null,
            "object_fit": null,
            "object_position": null,
            "order": null,
            "overflow": null,
            "overflow_x": null,
            "overflow_y": null,
            "padding": null,
            "right": null,
            "top": null,
            "visibility": null,
            "width": null
          }
        },
        "c2df59d884874a62853da3d6482b166e": {
          "model_module": "@jupyter-widgets/base",
          "model_module_version": "1.2.0",
          "model_name": "LayoutModel",
          "state": {
            "_model_module": "@jupyter-widgets/base",
            "_model_module_version": "1.2.0",
            "_model_name": "LayoutModel",
            "_view_count": null,
            "_view_module": "@jupyter-widgets/base",
            "_view_module_version": "1.2.0",
            "_view_name": "LayoutView",
            "align_content": null,
            "align_items": null,
            "align_self": null,
            "border": null,
            "bottom": null,
            "display": null,
            "flex": null,
            "flex_flow": null,
            "grid_area": null,
            "grid_auto_columns": null,
            "grid_auto_flow": null,
            "grid_auto_rows": null,
            "grid_column": null,
            "grid_gap": null,
            "grid_row": null,
            "grid_template_areas": null,
            "grid_template_columns": null,
            "grid_template_rows": null,
            "height": null,
            "justify_content": null,
            "justify_items": null,
            "left": null,
            "margin": null,
            "max_height": null,
            "max_width": null,
            "min_height": null,
            "min_width": null,
            "object_fit": null,
            "object_position": null,
            "order": null,
            "overflow": null,
            "overflow_x": null,
            "overflow_y": null,
            "padding": null,
            "right": null,
            "top": null,
            "visibility": null,
            "width": null
          }
        },
        "c2fde4f9f71541bab63fa0d3a7f66588": {
          "model_module": "@jupyter-widgets/controls",
          "model_module_version": "1.5.0",
          "model_name": "DescriptionStyleModel",
          "state": {
            "_model_module": "@jupyter-widgets/controls",
            "_model_module_version": "1.5.0",
            "_model_name": "DescriptionStyleModel",
            "_view_count": null,
            "_view_module": "@jupyter-widgets/base",
            "_view_module_version": "1.2.0",
            "_view_name": "StyleView",
            "description_width": ""
          }
        },
        "ca201731575b49f4864dfbfb487d47ba": {
          "model_module": "@jupyter-widgets/controls",
          "model_module_version": "1.5.0",
          "model_name": "HTMLModel",
          "state": {
            "_dom_classes": [],
            "_model_module": "@jupyter-widgets/controls",
            "_model_module_version": "1.5.0",
            "_model_name": "HTMLModel",
            "_view_count": null,
            "_view_module": "@jupyter-widgets/controls",
            "_view_module_version": "1.5.0",
            "_view_name": "HTMLView",
            "description": "",
            "description_tooltip": null,
            "layout": "IPY_MODEL_c2df59d884874a62853da3d6482b166e",
            "placeholder": "​",
            "style": "IPY_MODEL_83cb9db126c8452cbb644520ab9db12d",
            "value": " 0/15 [00:08&lt;?, ?it/s]"
          }
        },
        "d1b47cee0ca64f55b21f84aae7cdcd40": {
          "model_module": "@jupyter-widgets/controls",
          "model_module_version": "1.5.0",
          "model_name": "ProgressStyleModel",
          "state": {
            "_model_module": "@jupyter-widgets/controls",
            "_model_module_version": "1.5.0",
            "_model_name": "ProgressStyleModel",
            "_view_count": null,
            "_view_module": "@jupyter-widgets/base",
            "_view_module_version": "1.2.0",
            "_view_name": "StyleView",
            "bar_color": null,
            "description_width": ""
          }
        },
        "dc2a9dcf6e15470db80e85a2b7138ad8": {
          "model_module": "@jupyter-widgets/base",
          "model_module_version": "1.2.0",
          "model_name": "LayoutModel",
          "state": {
            "_model_module": "@jupyter-widgets/base",
            "_model_module_version": "1.2.0",
            "_model_name": "LayoutModel",
            "_view_count": null,
            "_view_module": "@jupyter-widgets/base",
            "_view_module_version": "1.2.0",
            "_view_name": "LayoutView",
            "align_content": null,
            "align_items": null,
            "align_self": null,
            "border": null,
            "bottom": null,
            "display": null,
            "flex": null,
            "flex_flow": null,
            "grid_area": null,
            "grid_auto_columns": null,
            "grid_auto_flow": null,
            "grid_auto_rows": null,
            "grid_column": null,
            "grid_gap": null,
            "grid_row": null,
            "grid_template_areas": null,
            "grid_template_columns": null,
            "grid_template_rows": null,
            "height": null,
            "justify_content": null,
            "justify_items": null,
            "left": null,
            "margin": null,
            "max_height": null,
            "max_width": null,
            "min_height": null,
            "min_width": null,
            "object_fit": null,
            "object_position": null,
            "order": null,
            "overflow": null,
            "overflow_x": null,
            "overflow_y": null,
            "padding": null,
            "right": null,
            "top": null,
            "visibility": null,
            "width": null
          }
        },
        "dfae1ffccc6d49a681ea4b6c876f4dd4": {
          "model_module": "@jupyter-widgets/controls",
          "model_module_version": "1.5.0",
          "model_name": "HBoxModel",
          "state": {
            "_dom_classes": [],
            "_model_module": "@jupyter-widgets/controls",
            "_model_module_version": "1.5.0",
            "_model_name": "HBoxModel",
            "_view_count": null,
            "_view_module": "@jupyter-widgets/controls",
            "_view_module_version": "1.5.0",
            "_view_name": "HBoxView",
            "box_style": "",
            "children": [
              "IPY_MODEL_48b98d8bacc242d3b455d8f4d6b81d6b",
              "IPY_MODEL_0e21a7ecda564496a2c539584d98893a",
              "IPY_MODEL_ca201731575b49f4864dfbfb487d47ba"
            ],
            "layout": "IPY_MODEL_94bc208569c64389a10987a176797eb3"
          }
        },
        "fe756ff61180438983cb362698f41d79": {
          "model_module": "@jupyter-widgets/base",
          "model_module_version": "1.2.0",
          "model_name": "LayoutModel",
          "state": {
            "_model_module": "@jupyter-widgets/base",
            "_model_module_version": "1.2.0",
            "_model_name": "LayoutModel",
            "_view_count": null,
            "_view_module": "@jupyter-widgets/base",
            "_view_module_version": "1.2.0",
            "_view_name": "LayoutView",
            "align_content": null,
            "align_items": null,
            "align_self": null,
            "border": null,
            "bottom": null,
            "display": null,
            "flex": null,
            "flex_flow": null,
            "grid_area": null,
            "grid_auto_columns": null,
            "grid_auto_flow": null,
            "grid_auto_rows": null,
            "grid_column": null,
            "grid_gap": null,
            "grid_row": null,
            "grid_template_areas": null,
            "grid_template_columns": null,
            "grid_template_rows": null,
            "height": null,
            "justify_content": null,
            "justify_items": null,
            "left": null,
            "margin": null,
            "max_height": null,
            "max_width": null,
            "min_height": null,
            "min_width": null,
            "object_fit": null,
            "object_position": null,
            "order": null,
            "overflow": null,
            "overflow_x": null,
            "overflow_y": null,
            "padding": null,
            "right": null,
            "top": null,
            "visibility": null,
            "width": null
          }
        }
      }
    }
  },
  "nbformat": 4,
  "nbformat_minor": 0
}
