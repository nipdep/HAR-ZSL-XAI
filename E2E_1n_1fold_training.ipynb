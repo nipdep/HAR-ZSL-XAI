{
 "cells": [
  {
   "cell_type": "code",
   "execution_count": 1,
   "metadata": {},
   "outputs": [],
   "source": [
    "# !pip install chart_studio"
   ]
  },
  {
   "cell_type": "code",
   "execution_count": 2,
   "metadata": {},
   "outputs": [],
   "source": [
    "import os \n",
    "import random \n",
    "from random import sample, choice\n",
    "from datetime import date\n",
    "from tqdm import tqdm\n",
    "from copy import deepcopy\n",
    "import numpy as np \n",
    "import pandas as pd\n",
    "from collections import defaultdict\n",
    "\n",
    "import torch \n",
    "from torch import nn, Tensor\n",
    "from torch.nn import functional as F\n",
    "from torch.nn.modules import MultiheadAttention, Linear, Dropout, BatchNorm1d, TransformerEncoderLayer\n",
    "from torch.nn.utils.rnn import pack_padded_sequence, pad_packed_sequence\n",
    "from torch.utils.data import Dataset, DataLoader\n",
    "from torch.optim import Adam\n",
    "from torch.nn import MSELoss,L1Loss\n",
    "\n",
    "from sklearn.metrics import accuracy_score\n",
    "from sklearn.metrics.pairwise import cosine_similarity, euclidean_distances\n",
    "from sklearn.neighbors import KNeighborsClassifier\n",
    "\n",
    "from pytorch_metric_learning.losses import ContrastiveLoss"
   ]
  },
  {
   "cell_type": "code",
   "execution_count": 3,
   "metadata": {},
   "outputs": [],
   "source": [
    "from src.datasets.data import PAMAP2Reader\n",
    "# from src.datasets.dataset import PAMAP2Dataset\n",
    "\n",
    "from src.models.ts_transformer import RelativeGlobalAttention\n",
    "from src.models.loss import FeatureLoss, AttributeLoss \n",
    "from src.utils.losses import *\n",
    "\n",
    "from src.utils.analysis import action_evaluator"
   ]
  },
  {
   "cell_type": "code",
   "execution_count": 4,
   "metadata": {},
   "outputs": [],
   "source": [
    "from sklearn.manifold import TSNE\n",
    "from umap import UMAP\n",
    "\n",
    "import matplotlib.pyplot as plt \n",
    "import seaborn as sns \n",
    "import plotly.express as px"
   ]
  },
  {
   "cell_type": "code",
   "execution_count": 5,
   "metadata": {},
   "outputs": [],
   "source": [
    "import chart_studio\n",
    "import chart_studio.plotly as py \n",
    "import chart_studio.tools as tls\n",
    "\n",
    "plotly_user = 'nipdep'\n",
    "plotly_key = 'BNQUTzoP5YBLtc8uggat'\n",
    "chart_studio.tools.set_credentials_file(username=plotly_user, api_key=plotly_key)"
   ]
  },
  {
   "cell_type": "code",
   "execution_count": 6,
   "metadata": {},
   "outputs": [],
   "source": [
    "# setup model configurations\n",
    "config = {\n",
    "    # general information\n",
    "    \"experiment-name\": \"test-001\", \n",
    "    \"datetime\": date.today(),\n",
    "    \"device\": \"gpu\",\n",
    "    \"dataset\": \"PAMAP2\", # \"PAMAP2\", \"DaLiAc\", \"UTD\"\n",
    "    \"Model\": \"RelativeGlobalAttention\",\n",
    "    \"sem-space\": 'attr',\n",
    "    # model training configs\n",
    "    \"include_attribute_loss\": True, \n",
    "    \"n_actions\": 18,\n",
    "    \"folding\": True,\n",
    "    \"lr\": 0.001,\n",
    "    \"ae_lr\": 0.00001,\n",
    "    \"imu_lr\": 0.0004,\n",
    "    \"ae_alpha\": 0.95,\n",
    "    \"imu_alpha\": 0.95,\n",
    "    \"n_epochs\": 10,\n",
    "    \"optimizer\": \"adam\",\n",
    "    \"batch_size\": 32,\n",
    "    \"semantic_loss\": \"cosine_distance\",\n",
    "    # model configs\n",
    "    \"d_model\": 128, \n",
    "    \"num_heads\": 2,\n",
    "    \"feat_size\": 256, # skel-AE hidden size and IMU-Anc output size\n",
    "    \"semantic_size\": 64,\n",
    "    # dataset configs\n",
    "    \"window_size\": 5, \n",
    "    \"overlap\": 0.5,\n",
    "    \"seq_len\": 50,  # skeleton seq. length\n",
    "    \"seen_split\": 0.2,\n",
    "    \"unseen_split\": 0.8\n",
    "}"
   ]
  },
  {
   "cell_type": "markdown",
   "metadata": {},
   "source": [
    "---"
   ]
  },
  {
   "cell_type": "code",
   "execution_count": 7,
   "metadata": {},
   "outputs": [],
   "source": [
    "class IMUEncoder(nn.Module):\n",
    "    def __init__(self, in_ft, d_model, num_heads, ft_size, n_classes, max_len=1024, dropout=0.1):\n",
    "        super(IMUEncoder, self).__init__()\n",
    "        self.in_ft = in_ft\n",
    "        self.max_len = max_len\n",
    "        self.d_model = d_model\n",
    "        self.num_heads = num_heads\n",
    "        self.ft_size = ft_size \n",
    "        self.n_classes = n_classes\n",
    "\n",
    "        # feature prep layer\n",
    "        self.DenseL = nn.Linear(in_ft, d_model)\n",
    "        # relative global attention layer\n",
    "        self.AttnL = RelativeGlobalAttention(self.d_model, self.num_heads, self.max_len)\n",
    "        # positional encoding concat <-> 1DConv \n",
    "        self.Act = F.relu  # _get_activation_fn(activation)\n",
    "        self.AvgPoolL = nn.AvgPool2d((self.max_len,1))\n",
    "        self.DenseL2 = nn.Linear(self.d_model, self.ft_size)\n",
    "        self.dropout = nn.Dropout1d(dropout)\n",
    "        self.logist = nn.Linear(self.ft_size, self.n_classes)\n",
    "\n",
    "    def forward(self, x):\n",
    "        out = self.DenseL(x)\n",
    "        out = self.AttnL(out)\n",
    "        out = self.Act(out)\n",
    "        out = self.AvgPoolL(out)\n",
    "        out = torch.squeeze(out)\n",
    "        out = self.dropout(out)\n",
    "        out1 = self.DenseL2(out)   \n",
    "        out = self.logist(out1)     \n",
    "        return out, out1"
   ]
  },
  {
   "cell_type": "code",
   "execution_count": 8,
   "metadata": {},
   "outputs": [
    {
     "data": {
      "text/plain": [
       "(torch.Size([32, 2]), torch.Size([32, 128]))"
      ]
     },
     "execution_count": 8,
     "metadata": {},
     "output_type": "execute_result"
    }
   ],
   "source": [
    "# test model \n",
    "sample_input = torch.randn((32, 120, 42))\n",
    "model = IMUEncoder(in_ft=42, d_model=128, num_heads=2, ft_size=128, n_classes=2, max_len=120, dropout=0.1)\n",
    "sample_output = model(sample_input)\n",
    "sample_output[0].shape, sample_output[1].shape"
   ]
  },
  {
   "cell_type": "markdown",
   "metadata": {},
   "source": [
    "---"
   ]
  },
  {
   "cell_type": "code",
   "execution_count": 9,
   "metadata": {},
   "outputs": [],
   "source": [
    "\n",
    "class BiLSTMEncoder(nn.Module):\n",
    "    def __init__(self,seq_len, input_size, hidden_size,linear_filters,embedding_size:int, num_layers = 1,bidirectional=True,batch_size=32):\n",
    "        super(BiLSTMEncoder, self).__init__()\n",
    "        self.input_size = input_size\n",
    "        self.hidden_size = hidden_size\n",
    "        self.num_layers = num_layers\n",
    "        self.linear_filters = linear_filters\n",
    "        self.embedding_size = embedding_size\n",
    "        self.bidirectional = bidirectional\n",
    "        self.batch_size = batch_size\n",
    "        self.seq_len = seq_len\n",
    "\n",
    "        # define LSTM layer\n",
    "        self.layers = []\n",
    "\n",
    "        # add linear layers \n",
    "        for __id,layer_out in enumerate(self.linear_filters):\n",
    "            if __id == 0:\n",
    "                self.layers.append(nn.Linear(self.input_size, layer_out))\n",
    "            else:\n",
    "                self.layers.append(nn.Linear(self.linear_filters[__id-1], layer_out))\n",
    "\n",
    "        # add lstm layer\n",
    "        self.lstm = nn.LSTM(input_size = layer_out, hidden_size = self.hidden_size,\n",
    "                            num_layers = self.num_layers, bidirectional=self.bidirectional,\n",
    "                            batch_first=True)\n",
    "        self.net = nn.Sequential(*self.layers)\n",
    "\n",
    "        #add embedding out\n",
    "        if bidirectional:\n",
    "            self.out_linear = nn.Linear(self.hidden_size*4, self.embedding_size)\n",
    "        else:\n",
    "            self.out_linear = nn.Linear(self.hidden_size*2, self.embedding_size)\n",
    "\n",
    "        \n",
    "    def forward(self, x_input):\n",
    "        '''\n",
    "        : param x_input:               input of shape (seq_len, # in batch, input_size)\n",
    "        : return lstm_out, hidden:     lstm_out gives all the hidden states in the sequence; hidden gives the hidden state and cell state for the last element in the sequence                         \n",
    "        '''\n",
    "        \n",
    "        x = self.net(x_input)\n",
    "        lstm_out, self.hidden = self.lstm(x)\n",
    "        hidden_transformed = torch.concat(self.hidden,0)\n",
    "        hidden_transformed = torch.transpose(hidden_transformed,0,1)\n",
    "        hidden_transformed = torch.flatten(hidden_transformed,start_dim=1)\n",
    "        hidden_transformed = self.out_linear(hidden_transformed)\n",
    "        \n",
    "        return lstm_out, hidden_transformed\n",
    "\n",
    "    \n",
    "class BiLSTMDecoder(nn.Module):\n",
    "    def __init__(self,seq_len, input_size, hidden_size, linear_filters,embedding_size:int, num_layers = 1,bidirectional=True,batch_size=32, device='cpu'):\n",
    "        super(BiLSTMDecoder, self).__init__()\n",
    "        self.input_size = input_size\n",
    "        self.hidden_size = hidden_size\n",
    "        self.num_layers = num_layers\n",
    "        self.linear_filters = linear_filters[::-1]\n",
    "        self.embedding_size = embedding_size\n",
    "        self.bidirectional = bidirectional\n",
    "        self.batch_size = batch_size\n",
    "        self.seq_len = seq_len\n",
    "        self.device = device\n",
    "\n",
    "        if bidirectional:\n",
    "            self.input_linear = nn.Linear(self.embedding_size,4*self.hidden_size)\n",
    "        else:\n",
    "            self.input_linear = nn.Linear(self.embedding_size,2*self.hidden_size)\n",
    "\n",
    "        # define LSTM layer\n",
    "        self.layers = []\n",
    "        # add lstm\n",
    "        self.lstm = nn.LSTM(input_size = self.linear_filters[0], hidden_size = self.hidden_size,\n",
    "                            num_layers = self.num_layers, bidirectional=True,\n",
    "                            batch_first=bidirectional)\n",
    "              \n",
    "        # add linear layers \n",
    "        if bidirectional:\n",
    "            self.layers.append(nn.Linear(2*hidden_size,self.linear_filters[0]))\n",
    "        else:\n",
    "            self.layers.append(nn.Linear(hidden_size,self.linear_filters[0]))\n",
    "\n",
    "        for __id,layer_in in enumerate(self.linear_filters):\n",
    "            if __id == len(linear_filters)-1:\n",
    "                self.layers.append(nn.Linear(layer_in,self.input_size))\n",
    "            else:\n",
    "                self.layers.append(nn.Linear(layer_in,self.linear_filters[__id+1]))\n",
    "\n",
    "        self.net = nn.Sequential(*self.layers)\n",
    "\n",
    "    def forward(self,encoder_hidden):\n",
    "        '''\n",
    "        : param x_input:               input of shape (seq_len, # in batch, input_size)\n",
    "        : return lstm_out, hidden:     lstm_out gives all the hidden states in the sequence; hidden gives the hidden state and cell state for the last element in the sequence                         \n",
    "        '''\n",
    "        \n",
    "        \n",
    "        hidden_shape = encoder_hidden.shape\n",
    "        encoder_hidden = self.input_linear(encoder_hidden)\n",
    "        \n",
    "        if self.bidirectional:\n",
    "            hidden = encoder_hidden.view((self.batch_size,4,self.hidden_size))\n",
    "            # print(hidden.shape)\n",
    "            hidden = torch.transpose(hidden,1,0)\n",
    "            h1,h2,c1,c2 = torch.unbind(hidden,0)\n",
    "            h,c = torch.stack((h1,h2)),torch.stack((c1,c2))\n",
    "        else:\n",
    "            hidden = encoder_hidden.view((self.batch_size,2,self.hidden_size))\n",
    "            hidden = torch.transpose(hidden,1,0)\n",
    "            h,c = torch.unbind(hidden,0)\n",
    "        \n",
    "        dummy_input = torch.rand((self.batch_size,self.seq_len,self.hidden_size), requires_grad=True)\n",
    "        dummy_input = dummy_input.to(self.device)\n",
    "        \n",
    "        lstm_out, self.hidden = self.lstm(dummy_input,(h,c))\n",
    "        x = self.net(lstm_out)\n",
    "        return x\n",
    "\n",
    "class SkeletonAE(nn.Module):\n",
    "    def __init__(self,seq_len, input_size, hidden_size, linear_filters=[128,256,512],embedding_size:int=256, num_layers = 1,bidirectional=True, batch_size=32, device='cpu'):\n",
    "        super(SkeletonAE, self).__init__()\n",
    "        self.input_size = input_size\n",
    "        self.hidden_size = hidden_size\n",
    "        self.num_layers = num_layers\n",
    "        self.linear_filters = linear_filters[::-1]\n",
    "        self.embedding_size = embedding_size\n",
    "        self.bidirectional = bidirectional\n",
    "        self.batch_size = batch_size\n",
    "        self.seq_len = seq_len\n",
    "        \n",
    "        self.encoder = BiLSTMEncoder(seq_len, input_size, hidden_size, linear_filters,embedding_size, num_layers = 1,bidirectional=True,batch_size=32)\n",
    "        self.decoder = BiLSTMDecoder(seq_len, input_size, hidden_size, linear_filters,embedding_size, num_layers = 1,bidirectional=True,batch_size=32, device=device)\n",
    "        \n",
    "    def forward(self,x):\n",
    "        lstm_out,embedding = self.encoder(x)\n",
    "        decoder_out = self.decoder(embedding)\n",
    "        \n",
    "        return decoder_out, embedding  \n",
    "        "
   ]
  },
  {
   "cell_type": "code",
   "execution_count": 10,
   "metadata": {},
   "outputs": [
    {
     "data": {
      "text/plain": [
       "<All keys matched successfully>"
      ]
     },
     "execution_count": 10,
     "metadata": {},
     "output_type": "execute_result"
    }
   ],
   "source": [
    "ae_model = SkeletonAE(seq_len=50, input_size=36, hidden_size=512, linear_filters=[128,256,512], embedding_size=256, num_layers=1,bidirectional=True,batch_size=32)\n",
    "prep_dir = './tmp/random_input_100_epochs.pt'\n",
    "ae_model.load_state_dict(torch.load(prep_dir))"
   ]
  },
  {
   "cell_type": "markdown",
   "metadata": {},
   "source": [
    "---"
   ]
  },
  {
   "cell_type": "code",
   "execution_count": 11,
   "metadata": {},
   "outputs": [],
   "source": [
    "if config['device'] == 'cpu':\n",
    "    device = \"cpu\"\n",
    "else:\n",
    "    device = torch.device(\"cuda:0\" if torch.cuda.is_available() else \"cpu\")"
   ]
  },
  {
   "cell_type": "code",
   "execution_count": 12,
   "metadata": {},
   "outputs": [
    {
     "name": "stdout",
     "output_type": "stream",
     "text": [
      "Reading file 1 of 14\n",
      "Reading file 2 of 14\n",
      "Reading file 3 of 14\n",
      "Reading file 4 of 14\n",
      "Reading file 5 of 14\n",
      "Reading file 6 of 14\n",
      "Reading file 7 of 14\n",
      "Reading file 8 of 14\n",
      "Reading file 9 of 14\n",
      "Reading file 10 of 14\n",
      "Reading file 11 of 14\n",
      "Reading file 12 of 14\n",
      "Reading file 13 of 14\n",
      "Reading file 14 of 14\n"
     ]
    },
    {
     "name": "stderr",
     "output_type": "stream",
     "text": [
      "g:\\FYP\\Codebases\\Pose-AE\\src\\datasets\\data.py:65: VisibleDeprecationWarning:\n",
      "\n",
      "Creating an ndarray from ragged nested sequences (which is a list-or-tuple of lists-or-tuples-or ndarrays with different lengths or shapes) is deprecated. If you meant to do this, you must specify 'dtype=object' when creating the ndarray.\n",
      "\n"
     ]
    }
   ],
   "source": [
    "# import PAMAP2 dataset\n",
    "dt = config['dataset']\n",
    "if dt == 'PAMAP2':\n",
    "    dataReader = PAMAP2Reader('./data/PAMAP2_Dataset/Protocol/')\n",
    "\n",
    "actionList = dataReader.idToLabel"
   ]
  },
  {
   "cell_type": "code",
   "execution_count": 13,
   "metadata": {},
   "outputs": [],
   "source": [
    "if dt == 'PAMAP2':\n",
    "    fold_classes = [['watching TV', 'house cleaning', 'standing', 'ascending stairs'], ['walking', 'rope jumping', 'sitting', 'descending stairs'], ['playing soccer', 'lying', 'vacuum cleaning', 'computer work'], ['cycling', 'running', 'Nordic walking'], ['ironing', 'car driving', 'folding laundry']]\n",
    "\n",
    "fold_cls_ids = [[actionList.index(i) for i in j] for j in fold_classes]"
   ]
  },
  {
   "cell_type": "code",
   "execution_count": 14,
   "metadata": {},
   "outputs": [],
   "source": [
    "skeleton_data = np.load('./data/skeleton_k10_movements.npz')\n",
    "skeleton_classes, skeleton_mov = skeleton_data['arr_0'], skeleton_data['arr_1']"
   ]
  },
  {
   "cell_type": "code",
   "execution_count": 15,
   "metadata": {},
   "outputs": [
    {
     "data": {
      "text/plain": [
       "(180, 60, 36)"
      ]
     },
     "execution_count": 15,
     "metadata": {},
     "output_type": "execute_result"
    }
   ],
   "source": [
    "skeleton_mov.shape"
   ]
  },
  {
   "cell_type": "code",
   "execution_count": 16,
   "metadata": {},
   "outputs": [
    {
     "data": {
      "text/plain": [
       "(array(['Nordic walking', 'ascending stairs', 'car driving',\n",
       "        'computer work', 'cycling', 'descending stairs', 'folding laundry',\n",
       "        'house cleaning', 'ironing', 'lying', 'playing soccer',\n",
       "        'rope jumping', 'running', 'sitting', 'standing',\n",
       "        'vacuum cleaning', 'walking', 'watching TV'], dtype='<U17'),\n",
       " array([10, 10, 10, 10, 10, 10, 10, 10, 10, 10, 10, 10, 10, 10, 10, 10, 10,\n",
       "        10], dtype=int64))"
      ]
     },
     "execution_count": 16,
     "metadata": {},
     "output_type": "execute_result"
    }
   ],
   "source": [
    "np.unique(skeleton_classes, return_counts=True)"
   ]
  },
  {
   "cell_type": "code",
   "execution_count": 17,
   "metadata": {},
   "outputs": [
    {
     "data": {
      "text/plain": [
       "[(1, 'lying'),\n",
       " (2, 'sitting'),\n",
       " (3, 'standing'),\n",
       " (4, 'walking'),\n",
       " (5, 'running'),\n",
       " (6, 'cycling'),\n",
       " (7, 'Nordic walking'),\n",
       " (9, 'watching TV'),\n",
       " (10, 'computer work'),\n",
       " (11, 'car driving'),\n",
       " (12, 'ascending stairs'),\n",
       " (13, 'descending stairs'),\n",
       " (16, 'vacuum cleaning'),\n",
       " (17, 'ironing'),\n",
       " (18, 'folding laundry'),\n",
       " (19, 'house cleaning'),\n",
       " (20, 'playing soccer'),\n",
       " (24, 'rope jumping')]"
      ]
     },
     "execution_count": 17,
     "metadata": {},
     "output_type": "execute_result"
    }
   ],
   "source": [
    "dataReader.label_map"
   ]
  },
  {
   "cell_type": "code",
   "execution_count": 18,
   "metadata": {},
   "outputs": [
    {
     "data": {
      "text/plain": [
       "array(['Nordic walking', 'ascending stairs', 'car driving',\n",
       "       'computer work', 'cycling', 'descending stairs', 'folding laundry',\n",
       "       'house cleaning', 'ironing', 'lying', 'playing soccer',\n",
       "       'rope jumping', 'running', 'sitting', 'standing',\n",
       "       'vacuum cleaning', 'walking', 'watching TV'], dtype='<U17')"
      ]
     },
     "execution_count": 18,
     "metadata": {},
     "output_type": "execute_result"
    }
   ],
   "source": [
    "np.unique(skeleton_classes)"
   ]
  },
  {
   "cell_type": "code",
   "execution_count": 19,
   "metadata": {},
   "outputs": [],
   "source": [
    "from collections import defaultdict\n",
    "\n",
    "label2Id = {c[1]:i for i,c in enumerate(dataReader.label_map)}\n",
    "action_dict = defaultdict(list)\n",
    "skeleton_Ids = []\n",
    "for i, a in enumerate(skeleton_classes):\n",
    "    action_dict[label2Id[a]].append(i)\n",
    "    skeleton_Ids.append(label2Id[a])"
   ]
  },
  {
   "cell_type": "code",
   "execution_count": 20,
   "metadata": {},
   "outputs": [
    {
     "data": {
      "text/plain": [
       "defaultdict(list,\n",
       "            {10: [0, 1, 2, 3, 4, 5, 6, 7, 8, 9],\n",
       "             9: [10, 11, 12, 13, 14, 15, 16, 17, 18, 19],\n",
       "             8: [20, 21, 22, 23, 24, 25, 26, 27, 28, 29],\n",
       "             5: [30, 31, 32, 33, 34, 35, 36, 37, 38, 39],\n",
       "             11: [40, 41, 42, 43, 44, 45, 46, 47, 48, 49],\n",
       "             14: [50, 51, 52, 53, 54, 55, 56, 57, 58, 59],\n",
       "             15: [60, 61, 62, 63, 64, 65, 66, 67, 68, 69],\n",
       "             13: [70, 71, 72, 73, 74, 75, 76, 77, 78, 79],\n",
       "             0: [80, 81, 82, 83, 84, 85, 86, 87, 88, 89],\n",
       "             6: [90, 91, 92, 93, 94, 95, 96, 97, 98, 99],\n",
       "             16: [100, 101, 102, 103, 104, 105, 106, 107, 108, 109],\n",
       "             17: [110, 111, 112, 113, 114, 115, 116, 117, 118, 119],\n",
       "             4: [120, 121, 122, 123, 124, 125, 126, 127, 128, 129],\n",
       "             1: [130, 131, 132, 133, 134, 135, 136, 137, 138, 139],\n",
       "             2: [140, 141, 142, 143, 144, 145, 146, 147, 148, 149],\n",
       "             12: [150, 151, 152, 153, 154, 155, 156, 157, 158, 159],\n",
       "             3: [160, 161, 162, 163, 164, 165, 166, 167, 168, 169],\n",
       "             7: [170, 171, 172, 173, 174, 175, 176, 177, 178, 179]})"
      ]
     },
     "execution_count": 20,
     "metadata": {},
     "output_type": "execute_result"
    }
   ],
   "source": [
    "action_dict"
   ]
  },
  {
   "cell_type": "code",
   "execution_count": 21,
   "metadata": {},
   "outputs": [],
   "source": [
    "def get_class_ft(data, model, device, bs=32):\n",
    "    ns, _, _ = data.shape \n",
    "    padded_mat = F.pad(input=data, pad=(0,0,0,0,0,bs-ns), mode='constant', value=0)\n",
    "    _, vector_out = model(padded_mat.float().to(device)) # batch second mode\n",
    "    action_feat_mat = vector_out[:ns, :].cpu().detach().numpy()\n",
    "    return action_feat_mat"
   ]
  },
  {
   "cell_type": "markdown",
   "metadata": {},
   "source": [
    "---"
   ]
  },
  {
   "cell_type": "code",
   "execution_count": 22,
   "metadata": {},
   "outputs": [],
   "source": [
    "class PAMAP2Dataset(Dataset):\n",
    "    def __init__(self, data, actions, attributes, attribute_dict, action_classes, seq_len=120):\n",
    "        super(PAMAP2Dataset, self).__init__()\n",
    "        self.data = torch.from_numpy(data)\n",
    "        self.actions = actions\n",
    "        self.attribute_dict = attribute_dict\n",
    "        self.seq_len = seq_len\n",
    "        self.attributes = torch.from_numpy(attributes[:, :seq_len, ...])\n",
    "        self.action_classes = action_classes\n",
    "        # build action to id mapping dict\n",
    "        self.n_action = len(self.actions)\n",
    "        self.action2Id = dict(zip(action_classes, range(self.n_action)))\n",
    "\n",
    "    def __getitem__(self, ind):\n",
    "        x = self.data[ind, ...]\n",
    "        x_mask = np.array([0]) # self.padding_mask[ind, ...]\n",
    "        target = self.actions[ind]\n",
    "        y = torch.from_numpy(np.array([self.action2Id[target]]))\n",
    "\n",
    "        # extraction semantic space generation skeleton sequences \n",
    "        # positive reference vector\n",
    "        pos_idx = random.choice(self.attribute_dict[target])\n",
    "        pos_feat = self.attributes[pos_idx, ...]\n",
    "        # negative reference vector\n",
    "        neg_class = random.choice(list(set(self.action_classes)-set([y])))\n",
    "        neg_idx = random.choice(self.attribute_dict[neg_class])\n",
    "        neg_feat = self.attributes[neg_idx, ...]\n",
    "        return x, y, pos_feat, neg_class, neg_feat, x_mask\n",
    "\n",
    "    def __len__(self):\n",
    "        return self.data.shape[0]\n",
    "\n",
    "    def getClassAttrs(self):\n",
    "        sampling_idx = [random.choice(self.attribute_dict[i]) for i in self.action_classes]\n",
    "        ft_mat = self.attributes[sampling_idx, ...]\n",
    "        return ft_mat "
   ]
  },
  {
   "cell_type": "code",
   "execution_count": 23,
   "metadata": {},
   "outputs": [
    {
     "name": "stdout",
     "output_type": "stream",
     "text": [
      "torch.Size([32, 105, 27])\n"
     ]
    }
   ],
   "source": [
    "data_dict = dataReader.generate(unseen_classes=fold_cls_ids[0], seen_ratio=0.2, unseen_ratio=0.8, window_size=5.21, window_overlap=4.21, resample_freq=20)\n",
    "sample_dt = PAMAP2Dataset(data=data_dict['train']['X'], actions=data_dict['train']['y'], attributes=skeleton_mov, attribute_dict=action_dict, action_classes=data_dict['seen_classes'], seq_len=100)\n",
    "sample_dl = DataLoader(sample_dt, batch_size=32, shuffle=True, pin_memory=True, drop_last=True)\n",
    "for d in sample_dl:\n",
    "    print(d[0].shape)\n",
    "    break"
   ]
  },
  {
   "cell_type": "code",
   "execution_count": 24,
   "metadata": {},
   "outputs": [
    {
     "data": {
      "text/plain": [
       "torch.Size([14, 60, 36])"
      ]
     },
     "execution_count": 24,
     "metadata": {},
     "output_type": "execute_result"
    }
   ],
   "source": [
    "r = sample_dt.getClassAttrs()\n",
    "r.shape"
   ]
  },
  {
   "cell_type": "code",
   "execution_count": 25,
   "metadata": {},
   "outputs": [
    {
     "data": {
      "text/plain": [
       "torch.Size([32, 60, 36])"
      ]
     },
     "execution_count": 25,
     "metadata": {},
     "output_type": "execute_result"
    }
   ],
   "source": [
    "pr = F.pad(input=r, pad=(0, 0, 0, 0, 0, 18), mode='constant', value=0)\n",
    "pr.shape"
   ]
  },
  {
   "cell_type": "code",
   "execution_count": 26,
   "metadata": {},
   "outputs": [
    {
     "data": {
      "text/plain": [
       "torch.Size([36, 60])"
      ]
     },
     "execution_count": 26,
     "metadata": {},
     "output_type": "execute_result"
    }
   ],
   "source": [
    "torch.transpose(r[1, ...], 1, 0).shape"
   ]
  },
  {
   "cell_type": "code",
   "execution_count": 27,
   "metadata": {},
   "outputs": [],
   "source": [
    "# r_out1, r_out2 = ae_model(torch.transpose(pr, 1, 0).float())\n",
    "# r_out1.shape, r_out2.shape"
   ]
  },
  {
   "cell_type": "markdown",
   "metadata": {},
   "source": [
    "---"
   ]
  },
  {
   "cell_type": "code",
   "execution_count": 28,
   "metadata": {},
   "outputs": [],
   "source": [
    "class SkeletonDataset(Dataset):\n",
    "    def __init__(self, movements, actions, action_dict, seq_len=60):\n",
    "        super(SkeletonDataset, self).__init__()\n",
    "        self.movements = torch.from_numpy(movements[:, :seq_len, ...])\n",
    "        self.actions = actions\n",
    "        self.action_dict = deepcopy(dict(action_dict))\n",
    "        self.actionsIDs = list(self.action_dict.keys())  \n",
    "\n",
    "    def __getitem__(self, idx):\n",
    "        x1 = self.movements[idx, ...]\n",
    "        action = self.actions[idx]\n",
    "        # partial_idx = random.sample(self.action_dict[action], k=1)[0]\n",
    "        # x2 = self.movements[partial_idx, ...]\n",
    "        label = self.actionsIDs.index(action)\n",
    "        # return np.transpose(x1, (1,0,2)), np.transpose(x2, (1,0,2)), label\n",
    "        return x1, label\n",
    "\n",
    "    def __len__(self):\n",
    "        return self.movements.shape[0]\n",
    "\n",
    "    def getShape(self):\n",
    "        return self.movements[0, ...].shape\n",
    "\n",
    "    def get_actions(self, label):\n",
    "        return self.movements[self.action_dict[label], ...]\n"
   ]
  },
  {
   "cell_type": "code",
   "execution_count": 29,
   "metadata": {},
   "outputs": [
    {
     "data": {
      "text/plain": [
       "defaultdict(list,\n",
       "            {10: [0, 1, 2, 3, 4, 5, 6, 7, 8, 9],\n",
       "             9: [10, 11, 12, 13, 14, 15, 16, 17, 18, 19],\n",
       "             8: [20, 21, 22, 23, 24, 25, 26, 27, 28, 29],\n",
       "             5: [30, 31, 32, 33, 34, 35, 36, 37, 38, 39],\n",
       "             11: [40, 41, 42, 43, 44, 45, 46, 47, 48, 49],\n",
       "             14: [50, 51, 52, 53, 54, 55, 56, 57, 58, 59],\n",
       "             15: [60, 61, 62, 63, 64, 65, 66, 67, 68, 69],\n",
       "             13: [70, 71, 72, 73, 74, 75, 76, 77, 78, 79],\n",
       "             0: [80, 81, 82, 83, 84, 85, 86, 87, 88, 89],\n",
       "             6: [90, 91, 92, 93, 94, 95, 96, 97, 98, 99],\n",
       "             16: [100, 101, 102, 103, 104, 105, 106, 107, 108, 109],\n",
       "             17: [110, 111, 112, 113, 114, 115, 116, 117, 118, 119],\n",
       "             4: [120, 121, 122, 123, 124, 125, 126, 127, 128, 129],\n",
       "             1: [130, 131, 132, 133, 134, 135, 136, 137, 138, 139],\n",
       "             2: [140, 141, 142, 143, 144, 145, 146, 147, 148, 149],\n",
       "             12: [150, 151, 152, 153, 154, 155, 156, 157, 158, 159],\n",
       "             3: [160, 161, 162, 163, 164, 165, 166, 167, 168, 169],\n",
       "             7: [170, 171, 172, 173, 174, 175, 176, 177, 178, 179]})"
      ]
     },
     "execution_count": 29,
     "metadata": {},
     "output_type": "execute_result"
    }
   ],
   "source": [
    "action_dict"
   ]
  },
  {
   "cell_type": "code",
   "execution_count": 30,
   "metadata": {},
   "outputs": [
    {
     "name": "stdout",
     "output_type": "stream",
     "text": [
      "torch.Size([32, 50, 36])\n"
     ]
    }
   ],
   "source": [
    "sample_dt = SkeletonDataset(skeleton_mov, skeleton_Ids, action_dict, seq_len=50)\n",
    "sample_dl = DataLoader(sample_dt, batch_size=config['batch_size'], shuffle=True, pin_memory=True, drop_last=True)\n",
    "for b in sample_dl:\n",
    "    bx1, by = b \n",
    "    # bx = torch.transpose(bx1, 1, 0)\n",
    "    bs, seq_len, ft_in = bx1.shape\n",
    "    print(bx1.shape)\n",
    "    break "
   ]
  },
  {
   "cell_type": "code",
   "execution_count": 31,
   "metadata": {},
   "outputs": [
    {
     "data": {
      "text/plain": [
       "torch.Size([50, 36])"
      ]
     },
     "execution_count": 31,
     "metadata": {},
     "output_type": "execute_result"
    }
   ],
   "source": [
    "sample_dt.getShape()"
   ]
  },
  {
   "attachments": {},
   "cell_type": "markdown",
   "metadata": {},
   "source": [
    "---"
   ]
  },
  {
   "cell_type": "code",
   "execution_count": 32,
   "metadata": {},
   "outputs": [],
   "source": [
    "class ActionTripletLoss(nn.Module):\n",
    "    # def __init__(self, action_feats, label_map, pos_thr=0.05, neg_thr=0.95, agg=\"mean\"):\n",
    "    def __init__(self, distance='cosine', k=10, pos_thr=0.05, neg_thr=0.95, theta=1e-4, agg=\"mean\", device=\"cpu\"):\n",
    "        super(ActionTripletLoss, self).__init__()\n",
    "        self.distance = distance\n",
    "        self.get_disMet(distance)\n",
    "        self.k = k\n",
    "        self.pos_thr = pos_thr\n",
    "        self.neg_thr = neg_thr\n",
    "        self.agg = agg \n",
    "        self.device = device \n",
    "        self.theta = theta\n",
    "\n",
    "    def get_disMet(self, distance):\n",
    "        if distance == 'cosine':\n",
    "            self.disMet = nn.CosineSimilarity(dim=1, eps=1e-6)\n",
    "        else:\n",
    "            self.disMet = nn.PairwiseDistance(p=2)\n",
    "\n",
    "    def forward(self, pred_fts, pos_fts, neg_fts):\n",
    "        neg_distances = self.disMet(pred_fts, neg_fts).to(self.device)\n",
    "        pos_distances = self.disMet(pred_fts, pos_fts).to(self.device)\n",
    "\n",
    "        if self.distance == 'cosine':\n",
    "            neg_distances = torch.abs(neg_distances)\n",
    "            pos_distances = torch.abs(pos_distances)\n",
    "\n",
    "        triplet_loss = F.relu(pos_distances-neg_distances+self.theta)\n",
    "        return triplet_loss.mean(dim=0)\n"
   ]
  },
  {
   "cell_type": "markdown",
   "metadata": {},
   "source": [
    "---"
   ]
  },
  {
   "cell_type": "code",
   "execution_count": 33,
   "metadata": {},
   "outputs": [],
   "source": [
    "def get_class_avg(data, model, device, bs=32):\n",
    "    ns, _, _ = data.shape \n",
    "    padded_mat = F.pad(input=data, pad=(0,0,0,0,0,bs-ns), mode='constant', value=0)\n",
    "    _, vector_out = model(padded_mat.float().to(device)) # batch second mode\n",
    "    action_feat_mat = vector_out[:ns, :].cpu().detach().numpy()\n",
    "    avg_vector = np.mean(action_feat_mat, axis=0)\n",
    "    # print(action_feat_mat.shape, avg_vector.shape)\n",
    "    return avg_vector"
   ]
  },
  {
   "cell_type": "code",
   "execution_count": 48,
   "metadata": {},
   "outputs": [],
   "source": [
    "def imu_train_step1(model, ae, dataloader, skel_dt, optimizers, loss_module, device, class_names, class_ids, phase='train', l2_reg=False, imu_alpha=0.7, ae_alpha=0.7, batch_size=32):\n",
    "    model = model.train()\n",
    "    ae = ae.train()\n",
    "\n",
    "    epoch_imu_loss, epoch_ae_loss = 0, 0  # total loss of epoch\n",
    "    epoch_acc = 0\n",
    "\n",
    "    with tqdm(dataloader, unit=\"batch\", desc=phase) as tepoch:\n",
    "        for batch in tepoch:\n",
    "            X, targets, pos_skel, _, neg_skel, padding_masks = batch\n",
    "            X = X.float().to(device)\n",
    "            targets = targets.long().to(device)\n",
    "            pos_skel = pos_skel.float().to(device)\n",
    "            neg_skel = neg_skel.float().to(device)\n",
    "            padding_masks = padding_masks.to(device)  # 0s: ignore\n",
    "            # Zero gradients, perform a backward pass, and update the weights.\n",
    "            optimizers['imu'].zero_grad()\n",
    "            optimizers['ae'].zero_grad()\n",
    "            # forward\n",
    "            # track history if only in train\n",
    "            with torch.set_grad_enabled(phase == 'train'):\n",
    "            # with autocast():\n",
    "                class_output, feat_output = model(X)\n",
    "\n",
    "            with torch.set_grad_enabled(phase == 'train'):\n",
    "                for i in range(10):\n",
    "                    pos_recons, pos_feat = ae(pos_skel) # batch first mode\n",
    "                neg_recons, neg_feat = ae(neg_skel)\n",
    "\n",
    "            all_skels = torch.stack([pos_skel, neg_skel], dim=1)\n",
    "            recons_skels = torch.stack([pos_recons, neg_recons], dim=1)\n",
    "            # print(feat_output.shape, targets.shape)\n",
    "            # print('feat_output >', feat_output.shape, ' pos_feat > ', pos_feat.shape, ' neg_feat > ', neg_feat.shape)\n",
    "            class_loss = loss_module['class'](class_output, targets.squeeze())\n",
    "            feat_loss = loss_module['feature'](feat_output, pos_feat, neg_feat)\n",
    "            recons_loss = loss_module['recons'](all_skels, recons_skels)\n",
    "\n",
    "            imu_loss = imu_alpha*class_loss+(1-imu_alpha)*feat_loss\n",
    "            ae_loss = (1-ae_alpha)*recons_loss\n",
    "\n",
    "            if phase == 'train':\n",
    "                imu_loss.backward(retain_graph=True)\n",
    "                optimizers['imu'].step()\n",
    "\n",
    "                ae_loss.backward()\n",
    "                optimizers['ae'].step()\n",
    "\n",
    "            metrics = {\"IMU loss\": imu_loss.item(), \"AE loss\": ae_loss.item()}\n",
    "            with torch.no_grad():\n",
    "                epoch_imu_loss += imu_loss.item()  # add total loss of batch\n",
    "                epoch_ae_loss += ae_loss.item()\n",
    "\n",
    "            # convert feature vector into action class\n",
    "            # using cosine \n",
    "            pred_class = np.argmax(class_output.cpu().detach().numpy(), axis=1)\n",
    "            metrics[\"accuracy\"] = accuracy_score(y_true=targets.cpu().detach().numpy(), y_pred=pred_class)\n",
    "            epoch_acc += metrics[\"accuracy\"]\n",
    "            tepoch.set_postfix(metrics)\n",
    "            \n",
    "    epoch_imu_loss = epoch_imu_loss / len(dataloader)  # average loss per sample for whole epoch\n",
    "    epoch_ae_loss = epoch_ae_loss / len(dataloader) \n",
    "    epoch_acc = epoch_acc / len(dataloader)\n",
    "    return {'IMU loss': epoch_imu_loss, 'AE loss': epoch_ae_loss, 'accuracy': epoch_acc}"
   ]
  },
  {
   "cell_type": "code",
   "execution_count": 35,
   "metadata": {},
   "outputs": [],
   "source": [
    "def ae_train_step1(model, dataloader, optimizer, loss_module, device, batch_size, phase='train', l2_reg=False, loss_alpha=0.7):\n",
    "    model = model.train()\n",
    "    model.to(device)\n",
    "\n",
    "    const_loss = 0 \n",
    "    recons_loss = 0\n",
    "    epoch_loss = 0 \n",
    "\n",
    "    with tqdm(dataloader, unit='batch', desc=phase) as tepoch:\n",
    "        for batch in tepoch:\n",
    "            xa, labels = batch \n",
    "            # post-process \n",
    "            # xa = torch.vstack([x1, x2])  # batch first mode\n",
    "            # device offload \n",
    "            xa = xa.float().to(device)\n",
    "            labels = labels.float()\n",
    "\n",
    "            # set optimizer grad to zero \n",
    "            optimizer.zero_grad()\n",
    "            # get model prediction \n",
    "            with torch.set_grad_enabled(phase=='train'):\n",
    "                skel_output, ft_output = model(xa)\n",
    "\n",
    "            # reconstruct the output \n",
    "            # f1, f2 = torch.split(ft_output, [batch_size//2, batch_size//2], dim=0)\n",
    "            # cons_output = torch.stack([f1.squeeze(1), f2.squeeze(1)], dim=1)\n",
    "            # calc. contrastive loss \n",
    "            con_loss = loss_module['contrast'](ft_output, labels)()\n",
    "            # calc. reconstruction loss \n",
    "            l2_loss = loss_module['recons'](xa, skel_output)\n",
    "            # calc. total loss\n",
    "            # total_loss = con_loss #\n",
    "            total_loss = loss_alpha*con_loss + (1-loss_alpha)*l2_loss\n",
    "\n",
    "            if phase == 'train':\n",
    "                total_loss.backward()\n",
    "                optimizer.step()\n",
    "\n",
    "            metrics = {'contrastive loss ': con_loss.item(), 'reconstruction loss': l2_loss.item()}\n",
    "            with torch.no_grad():\n",
    "                    const_loss += con_loss.item()    \n",
    "                    recons_loss += l2_loss.item()\n",
    "                    epoch_loss += total_loss.item()\n",
    "            tepoch.set_postfix(metrics)\n",
    "\n",
    "    m = len(dataloader)\n",
    "    epoch_metrics = {'total_loss': epoch_loss/m, 'contrastive_loss': const_loss/m, 'reconstruction_loss':recons_loss/m}\n",
    "    return epoch_metrics"
   ]
  },
  {
   "cell_type": "code",
   "execution_count": 36,
   "metadata": {},
   "outputs": [],
   "source": [
    "def plot_umap(X, y, Id2Label):\n",
    "    umap_2d = UMAP(n_components=2, random_state=43)\n",
    "    cmp_data = umap_2d.fit_transform(X)\n",
    "\n",
    "    cmp_df = pd.DataFrame(data=cmp_data, columns=['x', 'y'])\n",
    "    cmp_df['label'] = y\n",
    "    cmp_df['action'] = cmp_df['label'].map(Id2Label)\n",
    "\n",
    "    fig = px.scatter(cmp_df, x='x', y='y', color='action', width=800, height=800, title=\"UMAP\")\n",
    "    fig.show()"
   ]
  },
  {
   "cell_type": "code",
   "execution_count": 37,
   "metadata": {},
   "outputs": [],
   "source": [
    "def plot_tnse(X, y, Id2Label):\n",
    "    tnse = TSNE(n_components=2, init='random', learning_rate='auto', perplexity=15, n_iter=1000)\n",
    "    cmp_data = tnse.fit_transform(X)\n",
    "\n",
    "    cmp_df = pd.DataFrame(data=cmp_data, columns=['x', 'y'])\n",
    "    cmp_df['label'] = y\n",
    "    cmp_df['action'] = cmp_df['label'].map(Id2Label)\n",
    "\n",
    "    fig = px.scatter(cmp_df, x='x', y='y', color='action', width=800, height=800, title='t-SNE')\n",
    "    fig.show()\n",
    "    return fig"
   ]
  },
  {
   "cell_type": "code",
   "execution_count": 38,
   "metadata": {},
   "outputs": [],
   "source": [
    "def get_action_vector(ae, skel_dt, device, class_ids, class_names, batch_size=32):\n",
    "    # generate unseen action_semantic from unseen skeleton seq. \n",
    "    label_dict = {c:i for i,c in enumerate(class_ids)}\n",
    "    all_actions = []\n",
    "    all_labels = []\n",
    "    for c in class_ids:\n",
    "        action_mat = skel_dt.get_actions(c)\n",
    "        ns, _, _ = action_mat.shape \n",
    "        class_labels = [label_dict[c] for _ in range(ns)]\n",
    "        padded_mat = F.pad(input=action_mat, pad=(0,0,0,0,0,batch_size-ns), mode='constant', value=0)\n",
    "        _, vector_out = ae(padded_mat.float().to(device)) # batch second mode\n",
    "        action_feat_mat = vector_out[:ns, :].cpu().detach().numpy() # batch second mode\n",
    "\n",
    "        all_actions.append(action_feat_mat)\n",
    "        all_labels.append(class_labels)\n",
    "\n",
    "    all_actions = np.concatenate(all_actions)\n",
    "    all_labels = np.concatenate(all_labels)\n",
    "    Id2Label = {i:l for i,l in enumerate(class_names)}\n",
    "    return all_actions, all_labels, Id2Label\n"
   ]
  },
  {
   "cell_type": "code",
   "execution_count": 39,
   "metadata": {},
   "outputs": [],
   "source": [
    "def eval_step1(model, ae, dataloader, sem_actions, sem_labels, loss_module, device, class_names, class_ids, target_feat_met, phase='seen', l2_reg=False, print_report=True, show_plot=True, imu_alpha=0.7, ae_alpha=0.7, batch_size=32, neighs=5):\n",
    "    model = model.train()\n",
    "    \n",
    "    label_dict = {c:i for i,c in enumerate(class_ids)}\n",
    "    inv_label_dict = {i:c for i,c in enumerate(class_ids)}\n",
    "    epoch_imu_loss, epoch_ae_loss = 0, 0  # total loss of epoch\n",
    "    total_samples = 0  # total samples in epoch\n",
    "    per_batch = {'target_masks': [], 'targets': [], 'predictions': [], 'metrics': [], 'IDs': [], 'pred_feat': []}\n",
    "\n",
    "    all_actions = sem_actions\n",
    "    all_labels = np.array([label_dict[c] for c in sem_labels])\n",
    "    # build knn model on know unseen samples \n",
    "    knn = KNeighborsClassifier(n_neighbors=neighs)\n",
    "    knn.fit(all_actions, all_labels)\n",
    "    # plot t-SNE on unseen vector \n",
    "    Id2Label = {i:l for i,l in enumerate(class_names)}\n",
    "    # plot_tnse(all_actions, all_labels, Id2Label)\n",
    "    # plot_umap(all_actions, all_labels, Id2Label)\n",
    "\n",
    "    with tqdm(dataloader, unit=\"batch\", desc=phase) as tepoch:\n",
    "        for batch in tepoch:\n",
    "            X, targets, pos_skel, neg_class, neg_skel, padding_masks = batch\n",
    "            X = X.float().to(device)\n",
    "            pos_skel = pos_skel.float().to(device)\n",
    "            neg_skel = neg_skel.float().to(device)\n",
    "            targets = targets.long().to(device)\n",
    "            neg_class = neg_class.long().to(device)\n",
    "            padding_masks = padding_masks.to(device)  # 0s: ignore\n",
    "            # forward\n",
    "            with torch.set_grad_enabled(False):\n",
    "            # with autocast():\n",
    "                class_output, feat_output = model(X)\n",
    "\n",
    "            with torch.set_grad_enabled(phase == 'train'):\n",
    "                pos_recons, pos_feat = ae(pos_skel) # batch first mode\n",
    "                neg_recons, neg_feat = ae(neg_skel)\n",
    "\n",
    "            all_skels = torch.stack([pos_skel, neg_skel], dim=1)\n",
    "            recons_skels = torch.stack([pos_recons, neg_recons], dim=1)\n",
    "            # print(feat_output.shape, targets.shape)\n",
    "            if phase == 'seen':\n",
    "                class_loss = loss_module['class'](class_output, targets.squeeze())\n",
    "            else:\n",
    "                class_loss = 0 # \n",
    "            feat_loss = loss_module['feature'](feat_output, pos_feat, neg_feat)\n",
    "            recons_loss = loss_module['recons'](all_skels, recons_skels)\n",
    "\n",
    "            imu_loss = imu_alpha*class_loss+(1-imu_alpha)*feat_loss\n",
    "            ae_loss = ae_alpha*class_loss+(1-ae_alpha)*recons_loss\n",
    "\n",
    "\n",
    "            metrics = {\"IMU loss\": imu_loss.item(), \"AE loss\": ae_loss.item()}\n",
    "            with torch.no_grad():\n",
    "                epoch_imu_loss += imu_loss.item()  # add total loss of batch\n",
    "                epoch_ae_loss += ae_loss.item()\n",
    "            \n",
    "            # convert feature vector into action class using cosine \n",
    "            if phase == 'seen':\n",
    "                pred_action = np.argmax(class_output.cpu().detach().numpy(), axis=1)\n",
    "            else:\n",
    "                # print(\"targets > \", targets)\n",
    "                # print(\"feat output\", feat_output.shape)\n",
    "                feat_numpy = feat_output.cpu().detach().numpy()\n",
    "                pred_action = knn.predict(feat_numpy)\n",
    "                \n",
    "            per_batch['targets'].append(targets.cpu().numpy())\n",
    "            per_batch['predictions'].append(pred_action)\n",
    "            per_batch['pred_feat'].append(feat_output.cpu().detach().numpy())\n",
    "            # per_batch['metrics'].append([loss.cpu().numpy()])\n",
    "\n",
    "            tepoch.set_postfix(metrics)\n",
    "    \n",
    "    \n",
    "    all_preds = np.concatenate(per_batch[\"predictions\"])\n",
    "    all_targets = np.concatenate(per_batch[\"targets\"])\n",
    "    all_pred_actions = np.concatenate(per_batch[\"pred_feat\"])\n",
    "    # print(\"predictions > \", all_preds, \"ground truth > \", all_targets[:, 0])\n",
    "    metrics_dict = action_evaluator(y_pred=all_preds, y_true=all_targets[:, 0], class_names=class_names, print_report=print_report, show_plot=show_plot)\n",
    "    metrics_dict['IMU loss'] = epoch_imu_loss/len(dataloader)\n",
    "    metrics_dict['AE loss'] = epoch_ae_loss/len(dataloader)\n",
    "    all_targets = np.array([inv_label_dict[c] for c in all_targets.squeeze()])\n",
    "    return metrics_dict, all_pred_actions, all_targets"
   ]
  },
  {
   "cell_type": "markdown",
   "metadata": {},
   "source": [
    "---"
   ]
  },
  {
   "cell_type": "code",
   "execution_count": 40,
   "metadata": {},
   "outputs": [
    {
     "name": "stdout",
     "output_type": "stream",
     "text": [
      "Initiate Skeleton dataset ... \n"
     ]
    },
    {
     "name": "stderr",
     "output_type": "stream",
     "text": [
      "train: 100%|██████████| 5/5 [00:01<00:00,  2.96batch/s, contrastive loss =3.7, reconstruction loss=0.00265]\n",
      "train: 100%|██████████| 5/5 [00:01<00:00,  4.55batch/s, contrastive loss =3, reconstruction loss=0.00296]\n",
      "train: 100%|██████████| 5/5 [00:01<00:00,  4.63batch/s, contrastive loss =3.31, reconstruction loss=0.00497]\n",
      "train: 100%|██████████| 5/5 [00:01<00:00,  3.52batch/s, contrastive loss =3.25, reconstruction loss=0.00266]\n",
      "train: 100%|██████████| 5/5 [00:01<00:00,  4.32batch/s, contrastive loss =3.63, reconstruction loss=0.00351]\n",
      "train: 100%|██████████| 5/5 [00:01<00:00,  4.30batch/s, contrastive loss =3.3, reconstruction loss=0.0026]\n",
      "train: 100%|██████████| 5/5 [00:01<00:00,  4.29batch/s, contrastive loss =3.14, reconstruction loss=0.00369]\n",
      "train: 100%|██████████| 5/5 [00:01<00:00,  4.63batch/s, contrastive loss =2.83, reconstruction loss=0.00272]\n",
      "train: 100%|██████████| 5/5 [00:01<00:00,  4.48batch/s, contrastive loss =5.28, reconstruction loss=0.00529]\n",
      "train: 100%|██████████| 5/5 [00:01<00:00,  4.66batch/s, contrastive loss =3.26, reconstruction loss=0.00357]\n",
      "train: 100%|██████████| 5/5 [00:01<00:00,  4.58batch/s, contrastive loss =3.07, reconstruction loss=0.00304]\n",
      "train: 100%|██████████| 5/5 [00:01<00:00,  4.46batch/s, contrastive loss =2.82, reconstruction loss=0.0048]\n",
      "train: 100%|██████████| 5/5 [00:01<00:00,  4.65batch/s, contrastive loss =3.64, reconstruction loss=0.00304]\n",
      "train: 100%|██████████| 5/5 [00:01<00:00,  4.64batch/s, contrastive loss =3.59, reconstruction loss=0.00274]\n",
      "train: 100%|██████████| 5/5 [00:01<00:00,  4.59batch/s, contrastive loss =4.37, reconstruction loss=0.00331]\n",
      "train: 100%|██████████| 5/5 [00:01<00:00,  4.42batch/s, contrastive loss =4.31, reconstruction loss=0.00468]\n",
      "train: 100%|██████████| 5/5 [00:01<00:00,  4.48batch/s, contrastive loss =3.34, reconstruction loss=0.00273]\n",
      "train: 100%|██████████| 5/5 [00:01<00:00,  4.55batch/s, contrastive loss =3.21, reconstruction loss=0.00383]\n",
      "train: 100%|██████████| 5/5 [00:01<00:00,  4.45batch/s, contrastive loss =3.78, reconstruction loss=0.0029]\n",
      "train: 100%|██████████| 5/5 [00:01<00:00,  4.41batch/s, contrastive loss =3.71, reconstruction loss=0.00398]\n",
      "train: 100%|██████████| 5/5 [00:01<00:00,  4.63batch/s, contrastive loss =2.75, reconstruction loss=0.00452]\n",
      "train: 100%|██████████| 5/5 [00:01<00:00,  4.32batch/s, contrastive loss =3.31, reconstruction loss=0.00291]\n",
      "train: 100%|██████████| 5/5 [00:01<00:00,  4.67batch/s, contrastive loss =3.34, reconstruction loss=0.00324]\n",
      "train: 100%|██████████| 5/5 [00:01<00:00,  4.41batch/s, contrastive loss =3.28, reconstruction loss=0.00461]\n",
      "train: 100%|██████████| 5/5 [00:01<00:00,  4.56batch/s, contrastive loss =3.05, reconstruction loss=0.00293]\n",
      "train: 100%|██████████| 5/5 [00:01<00:00,  4.56batch/s, contrastive loss =3.64, reconstruction loss=0.00198]\n",
      "train: 100%|██████████| 5/5 [00:01<00:00,  4.51batch/s, contrastive loss =3.35, reconstruction loss=0.00318]\n",
      "train: 100%|██████████| 5/5 [00:01<00:00,  4.62batch/s, contrastive loss =2.92, reconstruction loss=0.00353]\n",
      "train: 100%|██████████| 5/5 [00:01<00:00,  4.46batch/s, contrastive loss =3.2, reconstruction loss=0.00241]\n",
      "train: 100%|██████████| 5/5 [00:01<00:00,  4.49batch/s, contrastive loss =2.93, reconstruction loss=0.00198]\n",
      "train: 100%|██████████| 5/5 [00:01<00:00,  4.60batch/s, contrastive loss =3.72, reconstruction loss=0.00363]\n",
      "train: 100%|██████████| 5/5 [00:01<00:00,  4.36batch/s, contrastive loss =4.12, reconstruction loss=0.00215]\n",
      "train: 100%|██████████| 5/5 [00:01<00:00,  4.46batch/s, contrastive loss =3.38, reconstruction loss=0.00317]\n",
      "train: 100%|██████████| 5/5 [00:01<00:00,  4.45batch/s, contrastive loss =3.29, reconstruction loss=0.00232]\n",
      "train: 100%|██████████| 5/5 [00:01<00:00,  4.64batch/s, contrastive loss =3.18, reconstruction loss=0.0024]\n",
      "train: 100%|██████████| 5/5 [00:01<00:00,  4.48batch/s, contrastive loss =3.56, reconstruction loss=0.00263]\n",
      "train: 100%|██████████| 5/5 [00:01<00:00,  4.58batch/s, contrastive loss =3.22, reconstruction loss=0.00441]\n",
      "train: 100%|██████████| 5/5 [00:01<00:00,  4.52batch/s, contrastive loss =4.58, reconstruction loss=0.00338]\n",
      "train: 100%|██████████| 5/5 [00:01<00:00,  4.55batch/s, contrastive loss =2.88, reconstruction loss=0.00256]\n",
      "train: 100%|██████████| 5/5 [00:01<00:00,  4.54batch/s, contrastive loss =3.05, reconstruction loss=0.00433]\n",
      "train: 100%|██████████| 5/5 [00:01<00:00,  4.57batch/s, contrastive loss =3.35, reconstruction loss=0.00246]\n",
      "train: 100%|██████████| 5/5 [00:01<00:00,  4.57batch/s, contrastive loss =2.77, reconstruction loss=0.00491]\n",
      "train: 100%|██████████| 5/5 [00:01<00:00,  4.39batch/s, contrastive loss =2.32, reconstruction loss=0.00225]\n",
      "train: 100%|██████████| 5/5 [00:01<00:00,  4.64batch/s, contrastive loss =3.31, reconstruction loss=0.00362]\n",
      "train: 100%|██████████| 5/5 [00:01<00:00,  3.99batch/s, contrastive loss =2.76, reconstruction loss=0.00406]\n",
      "train: 100%|██████████| 5/5 [00:01<00:00,  4.33batch/s, contrastive loss =3.62, reconstruction loss=0.00191]\n",
      "train: 100%|██████████| 5/5 [00:01<00:00,  4.06batch/s, contrastive loss =3.96, reconstruction loss=0.00237]\n",
      "train: 100%|██████████| 5/5 [00:01<00:00,  4.52batch/s, contrastive loss =2.75, reconstruction loss=0.00312]\n",
      "train: 100%|██████████| 5/5 [00:01<00:00,  4.58batch/s, contrastive loss =2.97, reconstruction loss=0.00184]\n",
      "train: 100%|██████████| 5/5 [00:01<00:00,  4.47batch/s, contrastive loss =3.13, reconstruction loss=0.00255]\n",
      "                                                               \r"
     ]
    },
    {
     "data": {
      "image/png": "[encoded data removed]",
      "text/plain": [
       "<Figure size 640x480 with 1 Axes>"
      ]
     },
     "metadata": {},
     "output_type": "display_data"
    }
   ],
   "source": [
    "print(\"Initiate Skeleton dataset ... \")\n",
    "# prep_dir = './tmp/epoch50_randsample_input_mseloss.pt'\n",
    "prep_dir = './tmp/random_input_100_epochs.pt'\n",
    "\n",
    "# build Skeleton dataset \n",
    "skel_dt = SkeletonDataset(skeleton_mov, skeleton_Ids, action_dict, seq_len=config['seq_len'])\n",
    "skel_dl = DataLoader(skel_dt, batch_size=config['batch_size'], shuffle=True, pin_memory=True, drop_last=True)\n",
    "skel_n, skel_fts = skel_dt.getShape()\n",
    "\n",
    "# build AE Model \n",
    "# ae_model = BiLSTMEncDecModel(input_size=skel_fts, seq_len=skel_n, hidden_size=config['feat_size'], batch_size=config['batch_size'], ae_type='recursive', device=device)\n",
    "ae_model = SkeletonAE(seq_len=skel_n, input_size=skel_fts, hidden_size=512, linear_filters=[128,256,512], embedding_size=config['feat_size'], num_layers=1, bidirectional=True, batch_size=config['batch_size'], device=device)\n",
    "# ae_model = BiLSTMEncDecModel(seq_len=50, input_size=36, hidden_size=512, linear_filters=[128,256,512], embedding_size=256, num_layers=1,bidirectional=True,batch_size=32, device=device)\n",
    "ae_model.load_state_dict(torch.load(prep_dir))\n",
    "ae_model.to(device)\n",
    "\n",
    "# define AE run parameters \n",
    "ae_optim = Adam(ae_model.parameters(), lr=config['ae_lr'])\n",
    "ae_loss_module = {'contrast': SoftNearestNeighbours, 'recons': nn.MSELoss()}\n",
    "\n",
    "ae_train_data = []\n",
    "for epoch in tqdm(range(50), desc='Training Epoch', leave=False):\n",
    "    # train AE model \n",
    "    ae_train_metrics = ae_train_step1(ae_model, skel_dl, ae_optim, ae_loss_module, device, config['batch_size'], phase='train', loss_alpha=config['ae_alpha'])\n",
    "    ae_train_metrics['epoch'] = epoch\n",
    "    ae_train_data.append(ae_train_metrics)\n",
    "\n",
    "ae_train_df = pd.DataFrame().from_records(ae_train_data)\n",
    "\n",
    "# plot train metrics \n",
    "fig, ax = plt.subplots()\n",
    "\n",
    "ax.plot(ae_train_df['total_loss'], color = 'green', label = 'total_loss')\n",
    "ax.plot(ae_train_df['contrastive_loss'], color = 'red', label = 'contrastive_loss')\n",
    "ax.plot(ae_train_df['reconstruction_loss'], color = 'blue', label = 'reconstruction_loss')\n",
    "ax.legend(loc = 'upper right')\n",
    "plt.show()"
   ]
  },
  {
   "cell_type": "code",
   "execution_count": 41,
   "metadata": {},
   "outputs": [
    {
     "data": {
      "application/vnd.plotly.v1+json": {
       "config": {
        "plotlyServerURL": "https://plotly.com"
       },
       "data": [
        {
         "hoverlabel": {
          "namelength": 0
         },
         "hovertemplate": "action=lying<br>x=%{x}<br>y=%{y}",
         "legendgroup": "action=lying",
         "marker": {
          "color": "#636efa",
          "symbol": "circle"
         },
         "mode": "markers",
         "name": "action=lying",
         "showlegend": true,
         "type": "scatter",
         "x": [
          4.464859962463379,
          -5.498284816741943,
          -19.903278350830078,
          2.365830659866333,
          -17.482362747192383,
          -0.4681988060474396,
          -19.030895233154297,
          2.613459348678589,
          -17.86904525756836,
          -16.75975227355957
         ],
         "xaxis": "x",
         "y": [
          5.703216075897217,
          10.127569198608398,
          0.4305182993412018,
          3.7807064056396484,
          2.1631524562835693,
          7.736983776092529,
          0.9637559056282043,
          9.249579429626465,
          1.7317118644714355,
          3.464966297149658
         ],
         "yaxis": "y"
        },
        {
         "hoverlabel": {
          "namelength": 0
         },
         "hovertemplate": "action=sitting<br>x=%{x}<br>y=%{y}",
         "legendgroup": "action=sitting",
         "marker": {
          "color": "#EF553B",
          "symbol": "circle"
         },
         "mode": "markers",
         "name": "action=sitting",
         "showlegend": true,
         "type": "scatter",
         "x": [
          -1.7327134609222412,
          -9.710258483886719,
          -10.698135375976562,
          -8.193475723266602,
          -6.291456699371338,
          -4.456815719604492,
          6.3189544677734375,
          -7.8460845947265625,
          -1.1517243385314941,
          -10.961599349975586
         ],
         "xaxis": "x",
         "y": [
          -7.9882097244262695,
          6.378914833068848,
          6.625089168548584,
          -6.003579616546631,
          4.34250545501709,
          -8.994649887084961,
          9.491165161132812,
          5.392434597015381,
          4.465974807739258,
          6.489678382873535
         ],
         "yaxis": "y"
        },
        {
         "hoverlabel": {
          "namelength": 0
         },
         "hovertemplate": "action=standing<br>x=%{x}<br>y=%{y}",
         "legendgroup": "action=standing",
         "marker": {
          "color": "#00cc96",
          "symbol": "circle"
         },
         "mode": "markers",
         "name": "action=standing",
         "showlegend": true,
         "type": "scatter",
         "x": [
          9.806722640991211,
          5.175632953643799,
          -1.24085533618927,
          9.502656936645508,
          1.5050421953201294,
          -0.26489004492759705,
          -4.179516792297363,
          -6.0529937744140625,
          4.131608486175537,
          -3.434185743331909
         ],
         "xaxis": "x",
         "y": [
          -1.0974225997924805,
          -3.06001877784729,
          -10.563910484313965,
          3.98895525932312,
          6.108975410461426,
          -4.1562275886535645,
          2.9337525367736816,
          -0.8183597326278687,
          11.20957088470459,
          -10.743325233459473
         ],
         "yaxis": "y"
        },
        {
         "hoverlabel": {
          "namelength": 0
         },
         "hovertemplate": "action=walking<br>x=%{x}<br>y=%{y}",
         "legendgroup": "action=walking",
         "marker": {
          "color": "#ab63fa",
          "symbol": "circle"
         },
         "mode": "markers",
         "name": "action=walking",
         "showlegend": true,
         "type": "scatter",
         "x": [
          -2.9947030544281006,
          5.864292621612549,
          1.3978135585784912,
          -9.537113189697266,
          -17.136899948120117,
          -17.136899948120117,
          -0.7198233604431152,
          15.003268241882324,
          2.3143603801727295,
          8.71833324432373
         ],
         "xaxis": "x",
         "y": [
          1.6181797981262207,
          12.460225105285645,
          -5.152132987976074,
          -1.898252010345459,
          9.714031219482422,
          9.714386940002441,
          0.3307158350944519,
          1.063582420349121,
          -9.345390319824219,
          -1.8851250410079956
         ],
         "yaxis": "y"
        },
        {
         "hoverlabel": {
          "namelength": 0
         },
         "hovertemplate": "action=running<br>x=%{x}<br>y=%{y}",
         "legendgroup": "action=running",
         "marker": {
          "color": "#FFA15A",
          "symbol": "circle"
         },
         "mode": "markers",
         "name": "action=running",
         "showlegend": true,
         "type": "scatter",
         "x": [
          -0.7915462851524353,
          -10.312544822692871,
          -2.4148082733154297,
          -1.9203718900680542,
          -11.409754753112793,
          1.298425316810608,
          1.2849472761154175,
          1.3164492845535278,
          8.392621994018555,
          0.3372304439544678
         ],
         "xaxis": "x",
         "y": [
          -1.4402847290039062,
          -5.237247943878174,
          2.613739490509033,
          -2.089771032333374,
          -4.778785228729248,
          -0.7205894589424133,
          0.849577784538269,
          -11.676077842712402,
          -2.7285640239715576,
          -6.0789055824279785
         ],
         "yaxis": "y"
        },
        {
         "hoverlabel": {
          "namelength": 0
         },
         "hovertemplate": "action=cycling<br>x=%{x}<br>y=%{y}",
         "legendgroup": "action=cycling",
         "marker": {
          "color": "#19d3f3",
          "symbol": "circle"
         },
         "mode": "markers",
         "name": "action=cycling",
         "showlegend": true,
         "type": "scatter",
         "x": [
          -6.886715888977051,
          -6.529621124267578,
          -0.4007713496685028,
          1.088762879371643,
          8.53758430480957,
          -2.099083662033081,
          2.9727981090545654,
          2.9730355739593506,
          3.1356120109558105,
          -5.494071006774902
         ],
         "xaxis": "x",
         "y": [
          -12.570080757141113,
          -9.381699562072754,
          -7.294862270355225,
          -2.4288880825042725,
          -12.773131370544434,
          -0.158399760723114,
          -4.19365930557251,
          -4.193472862243652,
          -2.579619884490967,
          -11.252177238464355
         ],
         "yaxis": "y"
        },
        {
         "hoverlabel": {
          "namelength": 0
         },
         "hovertemplate": "action=Nordic walking<br>x=%{x}<br>y=%{y}",
         "legendgroup": "action=Nordic walking",
         "marker": {
          "color": "#FF6692",
          "symbol": "circle"
         },
         "mode": "markers",
         "name": "action=Nordic walking",
         "showlegend": true,
         "type": "scatter",
         "x": [
          -7.7433013916015625,
          -6.283761978149414,
          -1.9184767007827759,
          -4.478670120239258,
          0.7525288462638855,
          -5.234880447387695,
          -1.9116429090499878,
          8.470993995666504,
          -1.9702963829040527,
          -5.981093883514404
         ],
         "xaxis": "x",
         "y": [
          -1.709787130355835,
          -4.6692938804626465,
          -4.9893269538879395,
          -7.748647212982178,
          -7.551729202270508,
          -8.173139572143555,
          -0.6232380867004395,
          -1.2272248268127441,
          -4.0107293128967285,
          -5.846176624298096
         ],
         "yaxis": "y"
        },
        {
         "hoverlabel": {
          "namelength": 0
         },
         "hovertemplate": "action=watching TV<br>x=%{x}<br>y=%{y}",
         "legendgroup": "action=watching TV",
         "marker": {
          "color": "#B6E880",
          "symbol": "circle"
         },
         "mode": "markers",
         "name": "action=watching TV",
         "showlegend": true,
         "type": "scatter",
         "x": [
          -4.652793884277344,
          9.570068359375,
          5.400340557098389,
          -3.5656609535217285,
          9.15208625793457,
          9.403382301330566,
          8.243194580078125,
          8.495870590209961,
          1.3684383630752563,
          2.582228899002075
         ],
         "xaxis": "x",
         "y": [
          0.22526374459266663,
          5.259173393249512,
          10.077385902404785,
          -1.3498419523239136,
          1.2262276411056519,
          2.6018667221069336,
          10.212355613708496,
          4.230739593505859,
          12.784537315368652,
          11.460658073425293
         ],
         "yaxis": "y"
        },
        {
         "hoverlabel": {
          "namelength": 0
         },
         "hovertemplate": "action=computer work<br>x=%{x}<br>y=%{y}",
         "legendgroup": "action=computer work",
         "marker": {
          "color": "#FF97FF",
          "symbol": "circle"
         },
         "mode": "markers",
         "name": "action=computer work",
         "showlegend": true,
         "type": "scatter",
         "x": [
          3.0497164726257324,
          -3.586996555328369,
          -8.786344528198242,
          -10.822343826293945,
          9.991085052490234,
          8.822168350219727,
          7.502874374389648,
          20.925031661987305,
          1.0118114948272705,
          11.017232894897461
         ],
         "xaxis": "x",
         "y": [
          3.6068406105041504,
          -13.228034973144531,
          0.662132203578949,
          1.5215840339660645,
          0.7789634466171265,
          6.412650108337402,
          16.70906639099121,
          4.449916362762451,
          12.223323822021484,
          4.145686149597168
         ],
         "yaxis": "y"
        },
        {
         "hoverlabel": {
          "namelength": 0
         },
         "hovertemplate": "action=car driving<br>x=%{x}<br>y=%{y}",
         "legendgroup": "action=car driving",
         "marker": {
          "color": "#FECB52",
          "symbol": "circle"
         },
         "mode": "markers",
         "name": "action=car driving",
         "showlegend": true,
         "type": "scatter",
         "x": [
          -1.0332684516906738,
          1.3579095602035522,
          4.486597537994385,
          -11.622714042663574,
          0.33528009057044983,
          3.929314613342285,
          -3.662264823913574,
          4.704202651977539,
          3.7248449325561523,
          3.046462297439575
         ],
         "xaxis": "x",
         "y": [
          2.674168109893799,
          14.441676139831543,
          7.2160844802856445,
          2.2481069564819336,
          7.401756286621094,
          14.296802520751953,
          5.079217910766602,
          -10.275920867919922,
          -12.941492080688477,
          14.14566421508789
         ],
         "yaxis": "y"
        },
        {
         "hoverlabel": {
          "namelength": 0
         },
         "hovertemplate": "action=ascending stairs<br>x=%{x}<br>y=%{y}",
         "legendgroup": "action=ascending stairs",
         "marker": {
          "color": "#636efa",
          "symbol": "circle"
         },
         "mode": "markers",
         "name": "action=ascending stairs",
         "showlegend": true,
         "type": "scatter",
         "x": [
          -3.855092763900757,
          2.948922634124756,
          15.915868759155273,
          16.141801834106445,
          3.4629905223846436,
          -8.665138244628906,
          13.500432014465332,
          12.26456356048584,
          15.931915283203125,
          -8.843744277954102
         ],
         "xaxis": "x",
         "y": [
          -5.106699466705322,
          -7.361522674560547,
          -4.439366340637207,
          -2.0922887325286865,
          -6.772887229919434,
          -11.67015552520752,
          10.378774642944336,
          9.708239555358887,
          -4.316706657409668,
          -11.701333045959473
         ],
         "yaxis": "y"
        },
        {
         "hoverlabel": {
          "namelength": 0
         },
         "hovertemplate": "action=descending stairs<br>x=%{x}<br>y=%{y}",
         "legendgroup": "action=descending stairs",
         "marker": {
          "color": "#EF553B",
          "symbol": "circle"
         },
         "mode": "markers",
         "name": "action=descending stairs",
         "showlegend": true,
         "type": "scatter",
         "x": [
          7.709144592285156,
          16.070049285888672,
          -10.5763578414917,
          -8.384974479675293,
          13.072831153869629,
          -10.035881042480469,
          -10.189659118652344,
          8.316621780395508,
          8.256622314453125,
          16.187864303588867
         ],
         "xaxis": "x",
         "y": [
          14.067378997802734,
          7.2649431228637695,
          -12.610069274902344,
          -4.818611145019531,
          10.12392520904541,
          -8.461006164550781,
          -8.463340759277344,
          13.159125328063965,
          13.017401695251465,
          7.0605316162109375
         ],
         "yaxis": "y"
        },
        {
         "hoverlabel": {
          "namelength": 0
         },
         "hovertemplate": "action=vacuum cleaning<br>x=%{x}<br>y=%{y}",
         "legendgroup": "action=vacuum cleaning",
         "marker": {
          "color": "#00cc96",
          "symbol": "circle"
         },
         "mode": "markers",
         "name": "action=vacuum cleaning",
         "showlegend": true,
         "type": "scatter",
         "x": [
          19.538715362548828,
          -6.0727152824401855,
          10.148646354675293,
          19.375160217285156,
          19.53569221496582,
          19.447999954223633,
          18.714235305786133,
          -2.9093804359436035,
          -6.119069576263428,
          -2.623443603515625
         ],
         "xaxis": "x",
         "y": [
          2.40559983253479,
          -3.2192468643188477,
          13.579392433166504,
          2.2104086875915527,
          -0.7802553176879883,
          -0.9873580932617188,
          4.692743301391602,
          -7.818655490875244,
          -6.7202982902526855,
          -9.111202239990234
         ],
         "yaxis": "y"
        },
        {
         "hoverlabel": {
          "namelength": 0
         },
         "hovertemplate": "action=ironing<br>x=%{x}<br>y=%{y}",
         "legendgroup": "action=ironing",
         "marker": {
          "color": "#ab63fa",
          "symbol": "circle"
         },
         "mode": "markers",
         "name": "action=ironing",
         "showlegend": true,
         "type": "scatter",
         "x": [
          -5.1550211906433105,
          -5.730037212371826,
          -6.140987873077393,
          7.829188346862793,
          -3.3575196266174316,
          16.034942626953125,
          4.256760120391846,
          4.269437313079834,
          17.43060874938965,
          19.878631591796875
         ],
         "xaxis": "x",
         "y": [
          -20.29798126220703,
          -19.237857818603516,
          -18.962352752685547,
          1.9452065229415894,
          10.49079704284668,
          2.0395474433898926,
          19.81355094909668,
          19.768997192382812,
          5.365649223327637,
          3.884375810623169
         ],
         "yaxis": "y"
        },
        {
         "hoverlabel": {
          "namelength": 0
         },
         "hovertemplate": "action=folding laundry<br>x=%{x}<br>y=%{y}",
         "legendgroup": "action=folding laundry",
         "marker": {
          "color": "#FFA15A",
          "symbol": "circle"
         },
         "mode": "markers",
         "name": "action=folding laundry",
         "showlegend": true,
         "type": "scatter",
         "x": [
          -3.4001245498657227,
          6.51143217086792,
          4.850844860076904,
          -7.188855171203613,
          -5.364314556121826,
          4.661304473876953,
          4.632904529571533,
          6.322889804840088,
          5.476084232330322,
          -5.224854469299316
         ],
         "xaxis": "x",
         "y": [
          16.444440841674805,
          4.307249069213867,
          3.6570630073547363,
          8.094595909118652,
          -16.623292922973633,
          -17.343463897705078,
          -17.199987411499023,
          1.6260924339294434,
          1.0119619369506836,
          -17.145734786987305
         ],
         "yaxis": "y"
        },
        {
         "hoverlabel": {
          "namelength": 0
         },
         "hovertemplate": "action=house cleaning<br>x=%{x}<br>y=%{y}",
         "legendgroup": "action=house cleaning",
         "marker": {
          "color": "#19d3f3",
          "symbol": "circle"
         },
         "mode": "markers",
         "name": "action=house cleaning",
         "showlegend": true,
         "type": "scatter",
         "x": [
          -10.528478622436523,
          5.262636661529541,
          -2.9233078956604004,
          -8.191435813903809,
          -15.211895942687988,
          -5.200583457946777,
          -6.285243511199951,
          -14.619766235351562,
          -5.373230457305908,
          -8.235790252685547
         ],
         "xaxis": "x",
         "y": [
          -0.35190021991729736,
          11.314820289611816,
          15.698898315429688,
          14.585237503051758,
          -2.7283389568328857,
          8.826835632324219,
          -15.987531661987305,
          -2.2715864181518555,
          8.534640312194824,
          14.52099895477295
         ],
         "yaxis": "y"
        },
        {
         "hoverlabel": {
          "namelength": 0
         },
         "hovertemplate": "action=playing soccer<br>x=%{x}<br>y=%{y}",
         "legendgroup": "action=playing soccer",
         "marker": {
          "color": "#FF6692",
          "symbol": "circle"
         },
         "mode": "markers",
         "name": "action=playing soccer",
         "showlegend": true,
         "type": "scatter",
         "x": [
          -2.700225353240967,
          -5.510061264038086,
          8.531794548034668,
          -7.173247814178467,
          11.398578643798828,
          0.21820683777332306,
          -3.174849510192871,
          -0.5736660361289978,
          -0.0809226855635643,
          10.376692771911621
         ],
         "xaxis": "x",
         "y": [
          -5.526370048522949,
          1.35650634765625,
          7.666914939880371,
          -7.8230299949646,
          -0.3967522978782654,
          -16.439165115356445,
          -3.2149691581726074,
          12.165132522583008,
          -15.748564720153809,
          -2.873929977416992
         ],
         "yaxis": "y"
        },
        {
         "hoverlabel": {
          "namelength": 0
         },
         "hovertemplate": "action=rope jumping<br>x=%{x}<br>y=%{y}",
         "legendgroup": "action=rope jumping",
         "marker": {
          "color": "#B6E880",
          "symbol": "circle"
         },
         "mode": "markers",
         "name": "action=rope jumping",
         "showlegend": true,
         "type": "scatter",
         "x": [
          -1.1845571994781494,
          6.829939842224121,
          -13.456329345703125,
          9.147406578063965,
          -9.410283088684082,
          -1.8847734928131104,
          6.0421857833862305,
          -0.05169627442955971,
          7.5403151512146,
          4.636374473571777
         ],
         "xaxis": "x",
         "y": [
          -13.148133277893066,
          -7.817237377166748,
          -8.38283634185791,
          -12.33239459991455,
          0.19419053196907043,
          -6.3646368980407715,
          -6.366344451904297,
          -9.112885475158691,
          -7.938636779785156,
          -5.016859531402588
         ],
         "yaxis": "y"
        }
       ],
       "layout": {
        "height": 800,
        "legend": {
         "tracegroupgap": 0
        },
        "template": {
         "data": {
          "bar": [
           {
            "error_x": {
             "color": "#2a3f5f"
            },
            "error_y": {
             "color": "#2a3f5f"
            },
            "marker": {
             "line": {
              "color": "#E5ECF6",
              "width": 0.5
             }
            },
            "type": "bar"
           }
          ],
          "barpolar": [
           {
            "marker": {
             "line": {
              "color": "#E5ECF6",
              "width": 0.5
             }
            },
            "type": "barpolar"
           }
          ],
          "carpet": [
           {
            "aaxis": {
             "endlinecolor": "#2a3f5f",
             "gridcolor": "white",
             "linecolor": "white",
             "minorgridcolor": "white",
             "startlinecolor": "#2a3f5f"
            },
            "baxis": {
             "endlinecolor": "#2a3f5f",
             "gridcolor": "white",
             "linecolor": "white",
             "minorgridcolor": "white",
             "startlinecolor": "#2a3f5f"
            },
            "type": "carpet"
           }
          ],
          "choropleth": [
           {
            "colorbar": {
             "outlinewidth": 0,
             "ticks": ""
            },
            "type": "choropleth"
           }
          ],
          "contour": [
           {
            "colorbar": {
             "outlinewidth": 0,
             "ticks": ""
            },
            "colorscale": [
             [
              0,
              "#0d0887"
             ],
             [
              0.1111111111111111,
              "#46039f"
             ],
             [
              0.2222222222222222,
              "#7201a8"
             ],
             [
              0.3333333333333333,
              "#9c179e"
             ],
             [
              0.4444444444444444,
              "#bd3786"
             ],
             [
              0.5555555555555556,
              "#d8576b"
             ],
             [
              0.6666666666666666,
              "#ed7953"
             ],
             [
              0.7777777777777778,
              "#fb9f3a"
             ],
             [
              0.8888888888888888,
              "#fdca26"
             ],
             [
              1,
              "#f0f921"
             ]
            ],
            "type": "contour"
           }
          ],
          "contourcarpet": [
           {
            "colorbar": {
             "outlinewidth": 0,
             "ticks": ""
            },
            "type": "contourcarpet"
           }
          ],
          "heatmap": [
           {
            "colorbar": {
             "outlinewidth": 0,
             "ticks": ""
            },
            "colorscale": [
             [
              0,
              "#0d0887"
             ],
             [
              0.1111111111111111,
              "#46039f"
             ],
             [
              0.2222222222222222,
              "#7201a8"
             ],
             [
              0.3333333333333333,
              "#9c179e"
             ],
             [
              0.4444444444444444,
              "#bd3786"
             ],
             [
              0.5555555555555556,
              "#d8576b"
             ],
             [
              0.6666666666666666,
              "#ed7953"
             ],
             [
              0.7777777777777778,
              "#fb9f3a"
             ],
             [
              0.8888888888888888,
              "#fdca26"
             ],
             [
              1,
              "#f0f921"
             ]
            ],
            "type": "heatmap"
           }
          ],
          "heatmapgl": [
           {
            "colorbar": {
             "outlinewidth": 0,
             "ticks": ""
            },
            "colorscale": [
             [
              0,
              "#0d0887"
             ],
             [
              0.1111111111111111,
              "#46039f"
             ],
             [
              0.2222222222222222,
              "#7201a8"
             ],
             [
              0.3333333333333333,
              "#9c179e"
             ],
             [
              0.4444444444444444,
              "#bd3786"
             ],
             [
              0.5555555555555556,
              "#d8576b"
             ],
             [
              0.6666666666666666,
              "#ed7953"
             ],
             [
              0.7777777777777778,
              "#fb9f3a"
             ],
             [
              0.8888888888888888,
              "#fdca26"
             ],
             [
              1,
              "#f0f921"
             ]
            ],
            "type": "heatmapgl"
           }
          ],
          "histogram": [
           {
            "marker": {
             "colorbar": {
              "outlinewidth": 0,
              "ticks": ""
             }
            },
            "type": "histogram"
           }
          ],
          "histogram2d": [
           {
            "colorbar": {
             "outlinewidth": 0,
             "ticks": ""
            },
            "colorscale": [
             [
              0,
              "#0d0887"
             ],
             [
              0.1111111111111111,
              "#46039f"
             ],
             [
              0.2222222222222222,
              "#7201a8"
             ],
             [
              0.3333333333333333,
              "#9c179e"
             ],
             [
              0.4444444444444444,
              "#bd3786"
             ],
             [
              0.5555555555555556,
              "#d8576b"
             ],
             [
              0.6666666666666666,
              "#ed7953"
             ],
             [
              0.7777777777777778,
              "#fb9f3a"
             ],
             [
              0.8888888888888888,
              "#fdca26"
             ],
             [
              1,
              "#f0f921"
             ]
            ],
            "type": "histogram2d"
           }
          ],
          "histogram2dcontour": [
           {
            "colorbar": {
             "outlinewidth": 0,
             "ticks": ""
            },
            "colorscale": [
             [
              0,
              "#0d0887"
             ],
             [
              0.1111111111111111,
              "#46039f"
             ],
             [
              0.2222222222222222,
              "#7201a8"
             ],
             [
              0.3333333333333333,
              "#9c179e"
             ],
             [
              0.4444444444444444,
              "#bd3786"
             ],
             [
              0.5555555555555556,
              "#d8576b"
             ],
             [
              0.6666666666666666,
              "#ed7953"
             ],
             [
              0.7777777777777778,
              "#fb9f3a"
             ],
             [
              0.8888888888888888,
              "#fdca26"
             ],
             [
              1,
              "#f0f921"
             ]
            ],
            "type": "histogram2dcontour"
           }
          ],
          "mesh3d": [
           {
            "colorbar": {
             "outlinewidth": 0,
             "ticks": ""
            },
            "type": "mesh3d"
           }
          ],
          "parcoords": [
           {
            "line": {
             "colorbar": {
              "outlinewidth": 0,
              "ticks": ""
             }
            },
            "type": "parcoords"
           }
          ],
          "pie": [
           {
            "automargin": true,
            "type": "pie"
           }
          ],
          "scatter": [
           {
            "marker": {
             "colorbar": {
              "outlinewidth": 0,
              "ticks": ""
             }
            },
            "type": "scatter"
           }
          ],
          "scatter3d": [
           {
            "line": {
             "colorbar": {
              "outlinewidth": 0,
              "ticks": ""
             }
            },
            "marker": {
             "colorbar": {
              "outlinewidth": 0,
              "ticks": ""
             }
            },
            "type": "scatter3d"
           }
          ],
          "scattercarpet": [
           {
            "marker": {
             "colorbar": {
              "outlinewidth": 0,
              "ticks": ""
             }
            },
            "type": "scattercarpet"
           }
          ],
          "scattergeo": [
           {
            "marker": {
             "colorbar": {
              "outlinewidth": 0,
              "ticks": ""
             }
            },
            "type": "scattergeo"
           }
          ],
          "scattergl": [
           {
            "marker": {
             "colorbar": {
              "outlinewidth": 0,
              "ticks": ""
             }
            },
            "type": "scattergl"
           }
          ],
          "scattermapbox": [
           {
            "marker": {
             "colorbar": {
              "outlinewidth": 0,
              "ticks": ""
             }
            },
            "type": "scattermapbox"
           }
          ],
          "scatterpolar": [
           {
            "marker": {
             "colorbar": {
              "outlinewidth": 0,
              "ticks": ""
             }
            },
            "type": "scatterpolar"
           }
          ],
          "scatterpolargl": [
           {
            "marker": {
             "colorbar": {
              "outlinewidth": 0,
              "ticks": ""
             }
            },
            "type": "scatterpolargl"
           }
          ],
          "scatterternary": [
           {
            "marker": {
             "colorbar": {
              "outlinewidth": 0,
              "ticks": ""
             }
            },
            "type": "scatterternary"
           }
          ],
          "surface": [
           {
            "colorbar": {
             "outlinewidth": 0,
             "ticks": ""
            },
            "colorscale": [
             [
              0,
              "#0d0887"
             ],
             [
              0.1111111111111111,
              "#46039f"
             ],
             [
              0.2222222222222222,
              "#7201a8"
             ],
             [
              0.3333333333333333,
              "#9c179e"
             ],
             [
              0.4444444444444444,
              "#bd3786"
             ],
             [
              0.5555555555555556,
              "#d8576b"
             ],
             [
              0.6666666666666666,
              "#ed7953"
             ],
             [
              0.7777777777777778,
              "#fb9f3a"
             ],
             [
              0.8888888888888888,
              "#fdca26"
             ],
             [
              1,
              "#f0f921"
             ]
            ],
            "type": "surface"
           }
          ],
          "table": [
           {
            "cells": {
             "fill": {
              "color": "#EBF0F8"
             },
             "line": {
              "color": "white"
             }
            },
            "header": {
             "fill": {
              "color": "#C8D4E3"
             },
             "line": {
              "color": "white"
             }
            },
            "type": "table"
           }
          ]
         },
         "layout": {
          "annotationdefaults": {
           "arrowcolor": "#2a3f5f",
           "arrowhead": 0,
           "arrowwidth": 1
          },
          "coloraxis": {
           "colorbar": {
            "outlinewidth": 0,
            "ticks": ""
           }
          },
          "colorscale": {
           "diverging": [
            [
             0,
             "#8e0152"
            ],
            [
             0.1,
             "#c51b7d"
            ],
            [
             0.2,
             "#de77ae"
            ],
            [
             0.3,
             "#f1b6da"
            ],
            [
             0.4,
             "#fde0ef"
            ],
            [
             0.5,
             "#f7f7f7"
            ],
            [
             0.6,
             "#e6f5d0"
            ],
            [
             0.7,
             "#b8e186"
            ],
            [
             0.8,
             "#7fbc41"
            ],
            [
             0.9,
             "#4d9221"
            ],
            [
             1,
             "#276419"
            ]
           ],
           "sequential": [
            [
             0,
             "#0d0887"
            ],
            [
             0.1111111111111111,
             "#46039f"
            ],
            [
             0.2222222222222222,
             "#7201a8"
            ],
            [
             0.3333333333333333,
             "#9c179e"
            ],
            [
             0.4444444444444444,
             "#bd3786"
            ],
            [
             0.5555555555555556,
             "#d8576b"
            ],
            [
             0.6666666666666666,
             "#ed7953"
            ],
            [
             0.7777777777777778,
             "#fb9f3a"
            ],
            [
             0.8888888888888888,
             "#fdca26"
            ],
            [
             1,
             "#f0f921"
            ]
           ],
           "sequentialminus": [
            [
             0,
             "#0d0887"
            ],
            [
             0.1111111111111111,
             "#46039f"
            ],
            [
             0.2222222222222222,
             "#7201a8"
            ],
            [
             0.3333333333333333,
             "#9c179e"
            ],
            [
             0.4444444444444444,
             "#bd3786"
            ],
            [
             0.5555555555555556,
             "#d8576b"
            ],
            [
             0.6666666666666666,
             "#ed7953"
            ],
            [
             0.7777777777777778,
             "#fb9f3a"
            ],
            [
             0.8888888888888888,
             "#fdca26"
            ],
            [
             1,
             "#f0f921"
            ]
           ]
          },
          "colorway": [
           "#636efa",
           "#EF553B",
           "#00cc96",
           "#ab63fa",
           "#FFA15A",
           "#19d3f3",
           "#FF6692",
           "#B6E880",
           "#FF97FF",
           "#FECB52"
          ],
          "font": {
           "color": "#2a3f5f"
          },
          "geo": {
           "bgcolor": "white",
           "lakecolor": "white",
           "landcolor": "#E5ECF6",
           "showlakes": true,
           "showland": true,
           "subunitcolor": "white"
          },
          "hoverlabel": {
           "align": "left"
          },
          "hovermode": "closest",
          "mapbox": {
           "style": "light"
          },
          "paper_bgcolor": "white",
          "plot_bgcolor": "#E5ECF6",
          "polar": {
           "angularaxis": {
            "gridcolor": "white",
            "linecolor": "white",
            "ticks": ""
           },
           "bgcolor": "#E5ECF6",
           "radialaxis": {
            "gridcolor": "white",
            "linecolor": "white",
            "ticks": ""
           }
          },
          "scene": {
           "xaxis": {
            "backgroundcolor": "#E5ECF6",
            "gridcolor": "white",
            "gridwidth": 2,
            "linecolor": "white",
            "showbackground": true,
            "ticks": "",
            "zerolinecolor": "white"
           },
           "yaxis": {
            "backgroundcolor": "#E5ECF6",
            "gridcolor": "white",
            "gridwidth": 2,
            "linecolor": "white",
            "showbackground": true,
            "ticks": "",
            "zerolinecolor": "white"
           },
           "zaxis": {
            "backgroundcolor": "#E5ECF6",
            "gridcolor": "white",
            "gridwidth": 2,
            "linecolor": "white",
            "showbackground": true,
            "ticks": "",
            "zerolinecolor": "white"
           }
          },
          "shapedefaults": {
           "line": {
            "color": "#2a3f5f"
           }
          },
          "ternary": {
           "aaxis": {
            "gridcolor": "white",
            "linecolor": "white",
            "ticks": ""
           },
           "baxis": {
            "gridcolor": "white",
            "linecolor": "white",
            "ticks": ""
           },
           "bgcolor": "#E5ECF6",
           "caxis": {
            "gridcolor": "white",
            "linecolor": "white",
            "ticks": ""
           }
          },
          "title": {
           "x": 0.05
          },
          "xaxis": {
           "automargin": true,
           "gridcolor": "white",
           "linecolor": "white",
           "ticks": "",
           "title": {
            "standoff": 15
           },
           "zerolinecolor": "white",
           "zerolinewidth": 2
          },
          "yaxis": {
           "automargin": true,
           "gridcolor": "white",
           "linecolor": "white",
           "ticks": "",
           "title": {
            "standoff": 15
           },
           "zerolinecolor": "white",
           "zerolinewidth": 2
          }
         }
        },
        "title": {
         "text": "t-SNE"
        },
        "width": 800,
        "xaxis": {
         "anchor": "y",
         "domain": [
          0,
          1
         ],
         "title": {
          "text": "x"
         }
        },
        "yaxis": {
         "anchor": "x",
         "domain": [
          0,
          1
         ],
         "title": {
          "text": "y"
         }
        }
       }
      }
     },
     "metadata": {},
     "output_type": "display_data"
    },
    {
     "data": {
      "application/vnd.plotly.v1+json": {
       "config": {
        "plotlyServerURL": "https://plotly.com"
       },
       "data": [
        {
         "hoverlabel": {
          "namelength": 0
         },
         "hovertemplate": "action=lying<br>x=%{x}<br>y=%{y}",
         "legendgroup": "action=lying",
         "marker": {
          "color": "#636efa",
          "symbol": "circle"
         },
         "mode": "markers",
         "name": "action=lying",
         "showlegend": true,
         "type": "scatter",
         "x": [
          7.907361030578613,
          7.453982353210449,
          9.6453218460083,
          8.058480262756348,
          9.21818733215332,
          10.102653503417969,
          9.587259292602539,
          7.4552812576293945,
          9.218201637268066,
          8.794843673706055
         ],
         "xaxis": "x",
         "y": [
          12.472760200500488,
          13.084673881530762,
          13.847742080688477,
          12.005664825439453,
          13.473711013793945,
          15.44506549835205,
          13.801288604736328,
          12.553590774536133,
          13.583930969238281,
          12.661409378051758
         ],
         "yaxis": "y"
        },
        {
         "hoverlabel": {
          "namelength": 0
         },
         "hovertemplate": "action=sitting<br>x=%{x}<br>y=%{y}",
         "legendgroup": "action=sitting",
         "marker": {
          "color": "#EF553B",
          "symbol": "circle"
         },
         "mode": "markers",
         "name": "action=sitting",
         "showlegend": true,
         "type": "scatter",
         "x": [
          7.085870265960693,
          8.442771911621094,
          8.27800464630127,
          7.666548728942871,
          6.823177814483643,
          6.7756123542785645,
          8.588539123535156,
          8.07643985748291,
          6.863732814788818,
          8.32679557800293
         ],
         "xaxis": "x",
         "y": [
          15.12281322479248,
          16.561241149902344,
          16.43821907043457,
          16.389907836914062,
          13.146989822387695,
          15.471356391906738,
          12.116310119628906,
          13.207671165466309,
          12.714699745178223,
          16.414119720458984
         ],
         "yaxis": "y"
        },
        {
         "hoverlabel": {
          "namelength": 0
         },
         "hovertemplate": "action=standing<br>x=%{x}<br>y=%{y}",
         "legendgroup": "action=standing",
         "marker": {
          "color": "#00cc96",
          "symbol": "circle"
         },
         "mode": "markers",
         "name": "action=standing",
         "showlegend": true,
         "type": "scatter",
         "x": [
          10.000484466552734,
          9.144559860229492,
          8.051457405090332,
          10.855308532714844,
          10.202519416809082,
          8.123799324035645,
          7.225008487701416,
          7.397485256195068,
          7.45812463760376,
          7.826078414916992
         ],
         "xaxis": "x",
         "y": [
          14.653955459594727,
          14.089468955993652,
          15.07831859588623,
          14.479860305786133,
          15.014074325561523,
          14.836005210876465,
          13.349982261657715,
          13.619285583496094,
          12.0208158493042,
          15.329428672790527
         ],
         "yaxis": "y"
        },
        {
         "hoverlabel": {
          "namelength": 0
         },
         "hovertemplate": "action=walking<br>x=%{x}<br>y=%{y}",
         "legendgroup": "action=walking",
         "marker": {
          "color": "#ab63fa",
          "symbol": "circle"
         },
         "mode": "markers",
         "name": "action=walking",
         "showlegend": true,
         "type": "scatter",
         "x": [
          6.910639762878418,
          8.009571075439453,
          8.635079383850098,
          9.376418113708496,
          9.139710426330566,
          9.13001823425293,
          6.693514347076416,
          9.857322692871094,
          7.183387756347656,
          9.802029609680176
         ],
         "xaxis": "x",
         "y": [
          13.318656921386719,
          11.818683624267578,
          14.54150676727295,
          15.360919952392578,
          15.346558570861816,
          15.440451622009277,
          14.038296699523926,
          13.007133483886719,
          14.541241645812988,
          15.12409782409668
         ],
         "yaxis": "y"
        },
        {
         "hoverlabel": {
          "namelength": 0
         },
         "hovertemplate": "action=running<br>x=%{x}<br>y=%{y}",
         "legendgroup": "action=running",
         "marker": {
          "color": "#FFA15A",
          "symbol": "circle"
         },
         "mode": "markers",
         "name": "action=running",
         "showlegend": true,
         "type": "scatter",
         "x": [
          6.843052864074707,
          7.994227886199951,
          6.902645587921143,
          6.811825752258301,
          8.121578216552734,
          6.2851128578186035,
          6.360665798187256,
          8.459308624267578,
          9.774417877197266,
          7.127014636993408
         ],
         "xaxis": "x",
         "y": [
          14.3386812210083,
          16.330469131469727,
          12.781283378601074,
          14.500094413757324,
          16.29426383972168,
          14.410650253295898,
          13.687308311462402,
          15.41710090637207,
          14.919866561889648,
          14.801039695739746
         ],
         "yaxis": "y"
        },
        {
         "hoverlabel": {
          "namelength": 0
         },
         "hovertemplate": "action=cycling<br>x=%{x}<br>y=%{y}",
         "legendgroup": "action=cycling",
         "marker": {
          "color": "#19d3f3",
          "symbol": "circle"
         },
         "mode": "markers",
         "name": "action=cycling",
         "showlegend": true,
         "type": "scatter",
         "x": [
          7.4151740074157715,
          6.970544338226318,
          6.760502338409424,
          6.432491779327393,
          7.2873969078063965,
          6.811215877532959,
          8.990002632141113,
          8.939268112182617,
          8.914400100708008,
          7.131550312042236
         ],
         "xaxis": "x",
         "y": [
          15.713619232177734,
          15.95205020904541,
          14.9306058883667,
          14.326419830322266,
          16.44191551208496,
          13.809294700622559,
          14.164664268493652,
          14.073856353759766,
          14.226980209350586,
          15.796683311462402
         ],
         "yaxis": "y"
        },
        {
         "hoverlabel": {
          "namelength": 0
         },
         "hovertemplate": "action=Nordic walking<br>x=%{x}<br>y=%{y}",
         "legendgroup": "action=Nordic walking",
         "marker": {
          "color": "#FF6692",
          "symbol": "circle"
         },
         "mode": "markers",
         "name": "action=Nordic walking",
         "showlegend": true,
         "type": "scatter",
         "x": [
          9.186022758483887,
          8.079747200012207,
          7.937558174133301,
          7.022634983062744,
          6.612741470336914,
          6.983650207519531,
          7.067318916320801,
          9.842781066894531,
          9.117155075073242,
          7.453513145446777
         ],
         "xaxis": "x",
         "y": [
          15.587236404418945,
          15.994773864746094,
          14.895097732543945,
          15.780600547790527,
          15.000696182250977,
          15.902690887451172,
          13.925341606140137,
          14.572124481201172,
          14.469451904296875,
          16.067577362060547
         ],
         "yaxis": "y"
        },
        {
         "hoverlabel": {
          "namelength": 0
         },
         "hovertemplate": "action=watching TV<br>x=%{x}<br>y=%{y}",
         "legendgroup": "action=watching TV",
         "marker": {
          "color": "#B6E880",
          "symbol": "circle"
         },
         "mode": "markers",
         "name": "action=watching TV",
         "showlegend": true,
         "type": "scatter",
         "x": [
          7.065338134765625,
          10.716629981994629,
          8.321070671081543,
          7.5675578117370605,
          10.223600387573242,
          10.465083122253418,
          8.547760963439941,
          10.672979354858398,
          7.116387367248535,
          7.349517822265625
         ],
         "xaxis": "x",
         "y": [
          13.514307975769043,
          14.255439758300781,
          12.163394927978516,
          13.871498107910156,
          14.334909439086914,
          14.370491981506348,
          11.903056144714355,
          14.668512344360352,
          12.009001731872559,
          12.164910316467285
         ],
         "yaxis": "y"
        },
        {
         "hoverlabel": {
          "namelength": 0
         },
         "hovertemplate": "action=computer work<br>x=%{x}<br>y=%{y}",
         "legendgroup": "action=computer work",
         "marker": {
          "color": "#FF97FF",
          "symbol": "circle"
         },
         "mode": "markers",
         "name": "action=computer work",
         "showlegend": true,
         "type": "scatter",
         "x": [
          7.761386871337891,
          9.288148880004883,
          9.44518756866455,
          9.801864624023438,
          10.047325134277344,
          8.939065933227539,
          7.944654941558838,
          10.180025100708008,
          7.004638195037842,
          10.53151798248291
         ],
         "xaxis": "x",
         "y": [
          12.572189331054688,
          15.876558303833008,
          16.024187088012695,
          15.769824981689453,
          14.517760276794434,
          12.527931213378906,
          11.388898849487305,
          12.340723037719727,
          12.233489990234375,
          14.798959732055664
         ],
         "yaxis": "y"
        },
        {
         "hoverlabel": {
          "namelength": 0
         },
         "hovertemplate": "action=car driving<br>x=%{x}<br>y=%{y}",
         "legendgroup": "action=car driving",
         "marker": {
          "color": "#FECB52",
          "symbol": "circle"
         },
         "mode": "markers",
         "name": "action=car driving",
         "showlegend": true,
         "type": "scatter",
         "x": [
          6.763084888458252,
          7.097208499908447,
          7.7910284996032715,
          10.029592514038086,
          10.492124557495117,
          7.449594020843506,
          7.1041388511657715,
          7.4479660987854,
          6.9211039543151855,
          7.300057888031006
         ],
         "xaxis": "x",
         "y": [
          13.069632530212402,
          12.027654647827148,
          12.289616584777832,
          15.611041069030762,
          15.077866554260254,
          11.733811378479004,
          13.482366561889648,
          14.221610069274902,
          14.04768180847168,
          11.766216278076172
         ],
         "yaxis": "y"
        },
        {
         "hoverlabel": {
          "namelength": 0
         },
         "hovertemplate": "action=ascending stairs<br>x=%{x}<br>y=%{y}",
         "legendgroup": "action=ascending stairs",
         "marker": {
          "color": "#636efa",
          "symbol": "circle"
         },
         "mode": "markers",
         "name": "action=ascending stairs",
         "showlegend": true,
         "type": "scatter",
         "x": [
          7.995549201965332,
          8.18138313293457,
          8.53740119934082,
          9.123615264892578,
          9.190385818481445,
          7.724343299865723,
          8.931809425354004,
          8.7130765914917,
          8.563117980957031,
          7.634731769561768
         ],
         "xaxis": "x",
         "y": [
          15.275388717651367,
          15.103705406188965,
          12.81183910369873,
          13.001436233520508,
          14.568965911865234,
          15.716803550720215,
          12.328609466552734,
          12.339324951171875,
          12.923468589782715,
          15.549917221069336
         ],
         "yaxis": "y"
        },
        {
         "hoverlabel": {
          "namelength": 0
         },
         "hovertemplate": "action=descending stairs<br>x=%{x}<br>y=%{y}",
         "legendgroup": "action=descending stairs",
         "marker": {
          "color": "#EF553B",
          "symbol": "circle"
         },
         "mode": "markers",
         "name": "action=descending stairs",
         "showlegend": true,
         "type": "scatter",
         "x": [
          8.261693000793457,
          9.326831817626953,
          7.583481311798096,
          7.805604934692383,
          9.03256607055664,
          6.517355918884277,
          6.47599458694458,
          8.536124229431152,
          8.383393287658691,
          9.46325397491455
         ],
         "xaxis": "x",
         "y": [
          11.385261535644531,
          11.867470741271973,
          15.556048393249512,
          16.158607482910156,
          12.2335844039917,
          15.22861385345459,
          15.291383743286133,
          11.574548721313477,
          11.494939804077148,
          11.822224617004395
         ],
         "yaxis": "y"
        },
        {
         "hoverlabel": {
          "namelength": 0
         },
         "hovertemplate": "action=vacuum cleaning<br>x=%{x}<br>y=%{y}",
         "legendgroup": "action=vacuum cleaning",
         "marker": {
          "color": "#00cc96",
          "symbol": "circle"
         },
         "mode": "markers",
         "name": "action=vacuum cleaning",
         "showlegend": true,
         "type": "scatter",
         "x": [
          9.891044616699219,
          8.102346420288086,
          8.694042205810547,
          9.849618911743164,
          9.55484676361084,
          9.408685684204102,
          9.914375305175781,
          7.286210060119629,
          7.3404316902160645,
          7.391885757446289
         ],
         "xaxis": "x",
         "y": [
          12.473570823669434,
          15.674007415771484,
          11.476699829101562,
          12.381756782531738,
          12.71722412109375,
          12.712240219116211,
          11.984358787536621,
          15.287984848022461,
          16.150651931762695,
          15.196966171264648
         ],
         "yaxis": "y"
        },
        {
         "hoverlabel": {
          "namelength": 0
         },
         "hovertemplate": "action=ironing<br>x=%{x}<br>y=%{y}",
         "legendgroup": "action=ironing",
         "marker": {
          "color": "#ab63fa",
          "symbol": "circle"
         },
         "mode": "markers",
         "name": "action=ironing",
         "showlegend": true,
         "type": "scatter",
         "x": [
          8.438961029052734,
          8.241525650024414,
          8.410786628723145,
          10.514591217041016,
          7.303154468536377,
          9.956748008728027,
          7.834794044494629,
          7.808006763458252,
          9.89141845703125,
          10.08359432220459
         ],
         "xaxis": "x",
         "y": [
          14.367494583129883,
          14.522675514221191,
          14.36058235168457,
          14.230648040771484,
          12.800189018249512,
          12.635855674743652,
          11.785419464111328,
          11.724692344665527,
          11.980107307434082,
          12.13845157623291
         ],
         "yaxis": "y"
        },
        {
         "hoverlabel": {
          "namelength": 0
         },
         "hovertemplate": "action=folding laundry<br>x=%{x}<br>y=%{y}",
         "legendgroup": "action=folding laundry",
         "marker": {
          "color": "#FFA15A",
          "symbol": "circle"
         },
         "mode": "markers",
         "name": "action=folding laundry",
         "showlegend": true,
         "type": "scatter",
         "x": [
          8.764647483825684,
          10.015893936157227,
          9.974444389343262,
          7.936145782470703,
          8.489974975585938,
          8.57713508605957,
          8.574864387512207,
          10.390192031860352,
          9.561636924743652,
          8.391261100769043
         ],
         "xaxis": "x",
         "y": [
          13.322196960449219,
          14.135842323303223,
          13.944601058959961,
          13.714007377624512,
          14.392983436584473,
          14.936483383178711,
          14.843731880187988,
          14.215818405151367,
          14.47936725616455,
          14.309664726257324
         ],
         "yaxis": "y"
        },
        {
         "hoverlabel": {
          "namelength": 0
         },
         "hovertemplate": "action=house cleaning<br>x=%{x}<br>y=%{y}",
         "legendgroup": "action=house cleaning",
         "marker": {
          "color": "#19d3f3",
          "symbol": "circle"
         },
         "mode": "markers",
         "name": "action=house cleaning",
         "showlegend": true,
         "type": "scatter",
         "x": [
          9.502089500427246,
          8.097657203674316,
          8.908447265625,
          7.238711357116699,
          8.511566162109375,
          7.616936206817627,
          8.313385963439941,
          8.415556907653809,
          7.39060640335083,
          7.1227922439575195
         ],
         "xaxis": "x",
         "y": [
          15.871685981750488,
          11.884033203125,
          13.720227241516113,
          14.58580207824707,
          13.665680885314941,
          13.167519569396973,
          14.223042488098145,
          13.514962196350098,
          13.001936912536621,
          14.410738945007324
         ],
         "yaxis": "y"
        },
        {
         "hoverlabel": {
          "namelength": 0
         },
         "hovertemplate": "action=playing soccer<br>x=%{x}<br>y=%{y}",
         "legendgroup": "action=playing soccer",
         "marker": {
          "color": "#FF6692",
          "symbol": "circle"
         },
         "mode": "markers",
         "name": "action=playing soccer",
         "showlegend": true,
         "type": "scatter",
         "x": [
          7.923336505889893,
          7.0008320808410645,
          8.572976112365723,
          7.178215503692627,
          10.087764739990234,
          6.31870698928833,
          8.453866004943848,
          6.959100246429443,
          6.301941871643066,
          9.865619659423828
         ],
         "xaxis": "x",
         "y": [
          15.05130386352539,
          13.527204513549805,
          12.470630645751953,
          15.98659610748291,
          14.650800704956055,
          14.831290245056152,
          15.57107925415039,
          12.282547950744629,
          14.764244079589844,
          14.810955047607422
         ],
         "yaxis": "y"
        },
        {
         "hoverlabel": {
          "namelength": 0
         },
         "hovertemplate": "action=rope jumping<br>x=%{x}<br>y=%{y}",
         "legendgroup": "action=rope jumping",
         "marker": {
          "color": "#B6E880",
          "symbol": "circle"
         },
         "mode": "markers",
         "name": "action=rope jumping",
         "showlegend": true,
         "type": "scatter",
         "x": [
          7.200743675231934,
          8.865126609802246,
          6.8494954109191895,
          7.106119155883789,
          9.320319175720215,
          8.235088348388672,
          8.955071449279785,
          7.48300313949585,
          8.82435131072998,
          9.014357566833496
         ],
         "xaxis": "x",
         "y": [
          15.608002662658691,
          15.094856262207031,
          14.601398468017578,
          16.39840316772461,
          15.986863136291504,
          15.357453346252441,
          15.10836124420166,
          15.122613906860352,
          14.871664047241211,
          14.356199264526367
         ],
         "yaxis": "y"
        }
       ],
       "layout": {
        "height": 800,
        "legend": {
         "tracegroupgap": 0
        },
        "template": {
         "data": {
          "bar": [
           {
            "error_x": {
             "color": "#2a3f5f"
            },
            "error_y": {
             "color": "#2a3f5f"
            },
            "marker": {
             "line": {
              "color": "#E5ECF6",
              "width": 0.5
             }
            },
            "type": "bar"
           }
          ],
          "barpolar": [
           {
            "marker": {
             "line": {
              "color": "#E5ECF6",
              "width": 0.5
             }
            },
            "type": "barpolar"
           }
          ],
          "carpet": [
           {
            "aaxis": {
             "endlinecolor": "#2a3f5f",
             "gridcolor": "white",
             "linecolor": "white",
             "minorgridcolor": "white",
             "startlinecolor": "#2a3f5f"
            },
            "baxis": {
             "endlinecolor": "#2a3f5f",
             "gridcolor": "white",
             "linecolor": "white",
             "minorgridcolor": "white",
             "startlinecolor": "#2a3f5f"
            },
            "type": "carpet"
           }
          ],
          "choropleth": [
           {
            "colorbar": {
             "outlinewidth": 0,
             "ticks": ""
            },
            "type": "choropleth"
           }
          ],
          "contour": [
           {
            "colorbar": {
             "outlinewidth": 0,
             "ticks": ""
            },
            "colorscale": [
             [
              0,
              "#0d0887"
             ],
             [
              0.1111111111111111,
              "#46039f"
             ],
             [
              0.2222222222222222,
              "#7201a8"
             ],
             [
              0.3333333333333333,
              "#9c179e"
             ],
             [
              0.4444444444444444,
              "#bd3786"
             ],
             [
              0.5555555555555556,
              "#d8576b"
             ],
             [
              0.6666666666666666,
              "#ed7953"
             ],
             [
              0.7777777777777778,
              "#fb9f3a"
             ],
             [
              0.8888888888888888,
              "#fdca26"
             ],
             [
              1,
              "#f0f921"
             ]
            ],
            "type": "contour"
           }
          ],
          "contourcarpet": [
           {
            "colorbar": {
             "outlinewidth": 0,
             "ticks": ""
            },
            "type": "contourcarpet"
           }
          ],
          "heatmap": [
           {
            "colorbar": {
             "outlinewidth": 0,
             "ticks": ""
            },
            "colorscale": [
             [
              0,
              "#0d0887"
             ],
             [
              0.1111111111111111,
              "#46039f"
             ],
             [
              0.2222222222222222,
              "#7201a8"
             ],
             [
              0.3333333333333333,
              "#9c179e"
             ],
             [
              0.4444444444444444,
              "#bd3786"
             ],
             [
              0.5555555555555556,
              "#d8576b"
             ],
             [
              0.6666666666666666,
              "#ed7953"
             ],
             [
              0.7777777777777778,
              "#fb9f3a"
             ],
             [
              0.8888888888888888,
              "#fdca26"
             ],
             [
              1,
              "#f0f921"
             ]
            ],
            "type": "heatmap"
           }
          ],
          "heatmapgl": [
           {
            "colorbar": {
             "outlinewidth": 0,
             "ticks": ""
            },
            "colorscale": [
             [
              0,
              "#0d0887"
             ],
             [
              0.1111111111111111,
              "#46039f"
             ],
             [
              0.2222222222222222,
              "#7201a8"
             ],
             [
              0.3333333333333333,
              "#9c179e"
             ],
             [
              0.4444444444444444,
              "#bd3786"
             ],
             [
              0.5555555555555556,
              "#d8576b"
             ],
             [
              0.6666666666666666,
              "#ed7953"
             ],
             [
              0.7777777777777778,
              "#fb9f3a"
             ],
             [
              0.8888888888888888,
              "#fdca26"
             ],
             [
              1,
              "#f0f921"
             ]
            ],
            "type": "heatmapgl"
           }
          ],
          "histogram": [
           {
            "marker": {
             "colorbar": {
              "outlinewidth": 0,
              "ticks": ""
             }
            },
            "type": "histogram"
           }
          ],
          "histogram2d": [
           {
            "colorbar": {
             "outlinewidth": 0,
             "ticks": ""
            },
            "colorscale": [
             [
              0,
              "#0d0887"
             ],
             [
              0.1111111111111111,
              "#46039f"
             ],
             [
              0.2222222222222222,
              "#7201a8"
             ],
             [
              0.3333333333333333,
              "#9c179e"
             ],
             [
              0.4444444444444444,
              "#bd3786"
             ],
             [
              0.5555555555555556,
              "#d8576b"
             ],
             [
              0.6666666666666666,
              "#ed7953"
             ],
             [
              0.7777777777777778,
              "#fb9f3a"
             ],
             [
              0.8888888888888888,
              "#fdca26"
             ],
             [
              1,
              "#f0f921"
             ]
            ],
            "type": "histogram2d"
           }
          ],
          "histogram2dcontour": [
           {
            "colorbar": {
             "outlinewidth": 0,
             "ticks": ""
            },
            "colorscale": [
             [
              0,
              "#0d0887"
             ],
             [
              0.1111111111111111,
              "#46039f"
             ],
             [
              0.2222222222222222,
              "#7201a8"
             ],
             [
              0.3333333333333333,
              "#9c179e"
             ],
             [
              0.4444444444444444,
              "#bd3786"
             ],
             [
              0.5555555555555556,
              "#d8576b"
             ],
             [
              0.6666666666666666,
              "#ed7953"
             ],
             [
              0.7777777777777778,
              "#fb9f3a"
             ],
             [
              0.8888888888888888,
              "#fdca26"
             ],
             [
              1,
              "#f0f921"
             ]
            ],
            "type": "histogram2dcontour"
           }
          ],
          "mesh3d": [
           {
            "colorbar": {
             "outlinewidth": 0,
             "ticks": ""
            },
            "type": "mesh3d"
           }
          ],
          "parcoords": [
           {
            "line": {
             "colorbar": {
              "outlinewidth": 0,
              "ticks": ""
             }
            },
            "type": "parcoords"
           }
          ],
          "pie": [
           {
            "automargin": true,
            "type": "pie"
           }
          ],
          "scatter": [
           {
            "marker": {
             "colorbar": {
              "outlinewidth": 0,
              "ticks": ""
             }
            },
            "type": "scatter"
           }
          ],
          "scatter3d": [
           {
            "line": {
             "colorbar": {
              "outlinewidth": 0,
              "ticks": ""
             }
            },
            "marker": {
             "colorbar": {
              "outlinewidth": 0,
              "ticks": ""
             }
            },
            "type": "scatter3d"
           }
          ],
          "scattercarpet": [
           {
            "marker": {
             "colorbar": {
              "outlinewidth": 0,
              "ticks": ""
             }
            },
            "type": "scattercarpet"
           }
          ],
          "scattergeo": [
           {
            "marker": {
             "colorbar": {
              "outlinewidth": 0,
              "ticks": ""
             }
            },
            "type": "scattergeo"
           }
          ],
          "scattergl": [
           {
            "marker": {
             "colorbar": {
              "outlinewidth": 0,
              "ticks": ""
             }
            },
            "type": "scattergl"
           }
          ],
          "scattermapbox": [
           {
            "marker": {
             "colorbar": {
              "outlinewidth": 0,
              "ticks": ""
             }
            },
            "type": "scattermapbox"
           }
          ],
          "scatterpolar": [
           {
            "marker": {
             "colorbar": {
              "outlinewidth": 0,
              "ticks": ""
             }
            },
            "type": "scatterpolar"
           }
          ],
          "scatterpolargl": [
           {
            "marker": {
             "colorbar": {
              "outlinewidth": 0,
              "ticks": ""
             }
            },
            "type": "scatterpolargl"
           }
          ],
          "scatterternary": [
           {
            "marker": {
             "colorbar": {
              "outlinewidth": 0,
              "ticks": ""
             }
            },
            "type": "scatterternary"
           }
          ],
          "surface": [
           {
            "colorbar": {
             "outlinewidth": 0,
             "ticks": ""
            },
            "colorscale": [
             [
              0,
              "#0d0887"
             ],
             [
              0.1111111111111111,
              "#46039f"
             ],
             [
              0.2222222222222222,
              "#7201a8"
             ],
             [
              0.3333333333333333,
              "#9c179e"
             ],
             [
              0.4444444444444444,
              "#bd3786"
             ],
             [
              0.5555555555555556,
              "#d8576b"
             ],
             [
              0.6666666666666666,
              "#ed7953"
             ],
             [
              0.7777777777777778,
              "#fb9f3a"
             ],
             [
              0.8888888888888888,
              "#fdca26"
             ],
             [
              1,
              "#f0f921"
             ]
            ],
            "type": "surface"
           }
          ],
          "table": [
           {
            "cells": {
             "fill": {
              "color": "#EBF0F8"
             },
             "line": {
              "color": "white"
             }
            },
            "header": {
             "fill": {
              "color": "#C8D4E3"
             },
             "line": {
              "color": "white"
             }
            },
            "type": "table"
           }
          ]
         },
         "layout": {
          "annotationdefaults": {
           "arrowcolor": "#2a3f5f",
           "arrowhead": 0,
           "arrowwidth": 1
          },
          "coloraxis": {
           "colorbar": {
            "outlinewidth": 0,
            "ticks": ""
           }
          },
          "colorscale": {
           "diverging": [
            [
             0,
             "#8e0152"
            ],
            [
             0.1,
             "#c51b7d"
            ],
            [
             0.2,
             "#de77ae"
            ],
            [
             0.3,
             "#f1b6da"
            ],
            [
             0.4,
             "#fde0ef"
            ],
            [
             0.5,
             "#f7f7f7"
            ],
            [
             0.6,
             "#e6f5d0"
            ],
            [
             0.7,
             "#b8e186"
            ],
            [
             0.8,
             "#7fbc41"
            ],
            [
             0.9,
             "#4d9221"
            ],
            [
             1,
             "#276419"
            ]
           ],
           "sequential": [
            [
             0,
             "#0d0887"
            ],
            [
             0.1111111111111111,
             "#46039f"
            ],
            [
             0.2222222222222222,
             "#7201a8"
            ],
            [
             0.3333333333333333,
             "#9c179e"
            ],
            [
             0.4444444444444444,
             "#bd3786"
            ],
            [
             0.5555555555555556,
             "#d8576b"
            ],
            [
             0.6666666666666666,
             "#ed7953"
            ],
            [
             0.7777777777777778,
             "#fb9f3a"
            ],
            [
             0.8888888888888888,
             "#fdca26"
            ],
            [
             1,
             "#f0f921"
            ]
           ],
           "sequentialminus": [
            [
             0,
             "#0d0887"
            ],
            [
             0.1111111111111111,
             "#46039f"
            ],
            [
             0.2222222222222222,
             "#7201a8"
            ],
            [
             0.3333333333333333,
             "#9c179e"
            ],
            [
             0.4444444444444444,
             "#bd3786"
            ],
            [
             0.5555555555555556,
             "#d8576b"
            ],
            [
             0.6666666666666666,
             "#ed7953"
            ],
            [
             0.7777777777777778,
             "#fb9f3a"
            ],
            [
             0.8888888888888888,
             "#fdca26"
            ],
            [
             1,
             "#f0f921"
            ]
           ]
          },
          "colorway": [
           "#636efa",
           "#EF553B",
           "#00cc96",
           "#ab63fa",
           "#FFA15A",
           "#19d3f3",
           "#FF6692",
           "#B6E880",
           "#FF97FF",
           "#FECB52"
          ],
          "font": {
           "color": "#2a3f5f"
          },
          "geo": {
           "bgcolor": "white",
           "lakecolor": "white",
           "landcolor": "#E5ECF6",
           "showlakes": true,
           "showland": true,
           "subunitcolor": "white"
          },
          "hoverlabel": {
           "align": "left"
          },
          "hovermode": "closest",
          "mapbox": {
           "style": "light"
          },
          "paper_bgcolor": "white",
          "plot_bgcolor": "#E5ECF6",
          "polar": {
           "angularaxis": {
            "gridcolor": "white",
            "linecolor": "white",
            "ticks": ""
           },
           "bgcolor": "#E5ECF6",
           "radialaxis": {
            "gridcolor": "white",
            "linecolor": "white",
            "ticks": ""
           }
          },
          "scene": {
           "xaxis": {
            "backgroundcolor": "#E5ECF6",
            "gridcolor": "white",
            "gridwidth": 2,
            "linecolor": "white",
            "showbackground": true,
            "ticks": "",
            "zerolinecolor": "white"
           },
           "yaxis": {
            "backgroundcolor": "#E5ECF6",
            "gridcolor": "white",
            "gridwidth": 2,
            "linecolor": "white",
            "showbackground": true,
            "ticks": "",
            "zerolinecolor": "white"
           },
           "zaxis": {
            "backgroundcolor": "#E5ECF6",
            "gridcolor": "white",
            "gridwidth": 2,
            "linecolor": "white",
            "showbackground": true,
            "ticks": "",
            "zerolinecolor": "white"
           }
          },
          "shapedefaults": {
           "line": {
            "color": "#2a3f5f"
           }
          },
          "ternary": {
           "aaxis": {
            "gridcolor": "white",
            "linecolor": "white",
            "ticks": ""
           },
           "baxis": {
            "gridcolor": "white",
            "linecolor": "white",
            "ticks": ""
           },
           "bgcolor": "#E5ECF6",
           "caxis": {
            "gridcolor": "white",
            "linecolor": "white",
            "ticks": ""
           }
          },
          "title": {
           "x": 0.05
          },
          "xaxis": {
           "automargin": true,
           "gridcolor": "white",
           "linecolor": "white",
           "ticks": "",
           "title": {
            "standoff": 15
           },
           "zerolinecolor": "white",
           "zerolinewidth": 2
          },
          "yaxis": {
           "automargin": true,
           "gridcolor": "white",
           "linecolor": "white",
           "ticks": "",
           "title": {
            "standoff": 15
           },
           "zerolinecolor": "white",
           "zerolinewidth": 2
          }
         }
        },
        "title": {
         "text": "UMAP"
        },
        "width": 800,
        "xaxis": {
         "anchor": "y",
         "domain": [
          0,
          1
         ],
         "title": {
          "text": "x"
         }
        },
        "yaxis": {
         "anchor": "x",
         "domain": [
          0,
          1
         ],
         "title": {
          "text": "y"
         }
        }
       }
      }
     },
     "metadata": {},
     "output_type": "display_data"
    }
   ],
   "source": [
    "val_actions, val_labels, val_lm = get_action_vector(ae_model, skel_dt, device, class_ids=range(18), class_names=dataReader.idToLabel)\n",
    "tsne_skel_plot = plot_tnse(val_actions, val_labels, val_lm)\n",
    "plot_umap(val_actions, val_labels, val_lm)"
   ]
  },
  {
   "cell_type": "code",
   "execution_count": 42,
   "metadata": {},
   "outputs": [],
   "source": [
    "# py.plot(tsne_skel_plot, filename='TSNE_Skeleton_plot', auto_open=False)"
   ]
  },
  {
   "cell_type": "code",
   "execution_count": 43,
   "metadata": {},
   "outputs": [],
   "source": [
    "def plot_accVloss(train_data, val_data):\n",
    "    train_sdf = pd.DataFrame.from_records(train_data)\n",
    "    val_sdf = pd.DataFrame.from_records(val_data)\n",
    "\n",
    "    train_sdf['phase'] = 'train'\n",
    "    val_sdf['phase'] = 'validation'\n",
    "\n",
    "    all_sdf = pd.concat([train_sdf, val_sdf.loc[:, ['IMU loss', 'AE loss', 'accuracy', 'phase']]], axis=0)\n",
    "    all_sdf = all_sdf.rename_axis('epoch').reset_index()\n",
    "\n",
    "\n",
    "    fig, axes = plt.subplots(1, 3, figsize=(12, 6))\n",
    "    sns.lineplot(all_sdf, ax=axes[0], x='epoch', y='IMU loss', hue='phase')\n",
    "    sns.lineplot(all_sdf, ax=axes[1], x='epoch', y='AE loss', hue='phase')\n",
    "    sns.lineplot(all_sdf, ax=axes[2], x='epoch', y='accuracy', hue='phase')"
   ]
  },
  {
   "cell_type": "code",
   "execution_count": 44,
   "metadata": {},
   "outputs": [],
   "source": [
    "def gen_semantic_space(ft_dict):\n",
    "    action_ft = np.concatenate(list(ft_dict.values()), axis=0)\n",
    "\n",
    "    action_label = []\n",
    "    for i, k in enumerate(ft_dict.keys()):\n",
    "        action_label.extend([k,]*ft_dict[k].shape[0])\n",
    "\n",
    "    action_label = np.array(action_label)\n",
    "    return action_ft, action_label"
   ]
  },
  {
   "cell_type": "code",
   "execution_count": 45,
   "metadata": {},
   "outputs": [],
   "source": [
    "def over_plot_preds(gt_actions, gt_labels, pred_actions, pred_labels, Id2Label):\n",
    "    gt_n = gt_actions.shape[0]\n",
    "    pred_n = pred_actions.shape[0]\n",
    "\n",
    "    all_actions = np.concatenate([gt_actions, pred_actions])\n",
    "    all_labels = np.concatenate([gt_labels, pred_labels])\n",
    "    all_types = ['GT',]*gt_n + ['pred',]*pred_n\n",
    "\n",
    "    tnse = TSNE(n_components=2, init='random', learning_rate='auto', perplexity=15, n_iter=1000)\n",
    "    gt_data = tnse.fit_transform(all_actions)\n",
    "\n",
    "    gt_df = pd.DataFrame(data=gt_data, columns=['x', 'y'])\n",
    "    gt_df['label'] = all_labels \n",
    "    gt_df['action'] = gt_df['label'].map(val_lm)\n",
    "    gt_df['type'] = all_types\n",
    "\n",
    "    fig = px.scatter(gt_df, x='x', y='y', color='action', symbol='type', width=800, height=800, title='t-SNE')\n",
    "    fig.show()"
   ]
  },
  {
   "cell_type": "code",
   "execution_count": 49,
   "metadata": {},
   "outputs": [
    {
     "name": "stdout",
     "output_type": "stream",
     "text": [
      "Initiate IMU datasets ...\n",
      "Initial Models ...\n",
      "Start Models training ...\n"
     ]
    },
    {
     "name": "stderr",
     "output_type": "stream",
     "text": [
      "train: 100%|██████████| 523/523 [06:32<00:00,  1.33batch/s, IMU loss=0.474, AE loss=0.000199, accuracy=0.844]\n",
      "seen: 100%|██████████| 130/130 [00:16<00:00,  7.89batch/s, IMU loss=0.721, AE loss=0.72]\n"
     ]
    },
    {
     "data": {
      "image/png": "[encoded data removed]",
      "text/plain": [
       "<Figure size 640x480 with 2 Axes>"
      ]
     },
     "metadata": {},
     "output_type": "display_data"
    },
    {
     "name": "stderr",
     "output_type": "stream",
     "text": [
      "Training Epoch:  20%|██        | 1/5 [06:49<27:17, 409.30s/it]"
     ]
    },
    {
     "name": "stdout",
     "output_type": "stream",
     "text": [
      "Overall accuracy: 0.807\n",
      "\n"
     ]
    },
    {
     "name": "stderr",
     "output_type": "stream",
     "text": [
      "train: 100%|██████████| 523/523 [06:33<00:00,  1.33batch/s, IMU loss=0.686, AE loss=0.000153, accuracy=0.75]\n",
      "seen: 100%|██████████| 130/130 [00:20<00:00,  6.44batch/s, IMU loss=0.35, AE loss=0.35]\n"
     ]
    },
    {
     "data": {
      "image/png": "[encoded data removed]",
      "text/plain": [
       "<Figure size 640x480 with 2 Axes>"
      ]
     },
     "metadata": {},
     "output_type": "display_data"
    },
    {
     "name": "stderr",
     "output_type": "stream",
     "text": [
      "Training Epoch:  40%|████      | 2/5 [13:43<20:37, 412.36s/it]"
     ]
    },
    {
     "name": "stdout",
     "output_type": "stream",
     "text": [
      "Overall accuracy: 0.847\n",
      "\n"
     ]
    },
    {
     "name": "stderr",
     "output_type": "stream",
     "text": [
      "train:   4%|▍         | 23/523 [00:19<06:57,  1.20batch/s, IMU loss=0.584, AE loss=0.000239, accuracy=0.719]\n",
      "                                                              \r"
     ]
    },
    {
     "ename": "KeyboardInterrupt",
     "evalue": "",
     "output_type": "error",
     "traceback": [
      "\u001b[1;31m---------------------------------------------------------------------------\u001b[0m",
      "\u001b[1;31mKeyboardInterrupt\u001b[0m                         Traceback (most recent call last)",
      "Cell \u001b[1;32mIn [49], line 51\u001b[0m\n\u001b[0;32m     48\u001b[0m \u001b[39m# train 2 models E2E\u001b[39;00m\n\u001b[0;32m     49\u001b[0m \u001b[39mfor\u001b[39;00m epoch \u001b[39min\u001b[39;00m tqdm(\u001b[39mrange\u001b[39m(\u001b[39m5\u001b[39m), desc\u001b[39m=\u001b[39m\u001b[39m'\u001b[39m\u001b[39mTraining Epoch\u001b[39m\u001b[39m'\u001b[39m, leave\u001b[39m=\u001b[39m\u001b[39mFalse\u001b[39;00m):\n\u001b[0;32m     50\u001b[0m     \u001b[39m# train IMU-Enc model\u001b[39;00m\n\u001b[1;32m---> 51\u001b[0m     train_metrics \u001b[39m=\u001b[39m imu_train_step1(imu_model, ae_model, train_dl, skel_dt, optimizers, loss_module, device, class_names\u001b[39m=\u001b[39;49m[all_classes[i] \u001b[39mfor\u001b[39;49;00m i \u001b[39min\u001b[39;49;00m seen_classes], class_ids\u001b[39m=\u001b[39;49mseen_classes, phase\u001b[39m=\u001b[39;49m\u001b[39m'\u001b[39;49m\u001b[39mtrain\u001b[39;49m\u001b[39m'\u001b[39;49m, imu_alpha\u001b[39m=\u001b[39;49mconfig[\u001b[39m'\u001b[39;49m\u001b[39mimu_alpha\u001b[39;49m\u001b[39m'\u001b[39;49m], ae_alpha\u001b[39m=\u001b[39;49mconfig[\u001b[39m'\u001b[39;49m\u001b[39mae_alpha\u001b[39;49m\u001b[39m'\u001b[39;49m], batch_size\u001b[39m=\u001b[39;49m\u001b[39m32\u001b[39;49m)\n\u001b[0;32m     52\u001b[0m     fold_train_data\u001b[39m.\u001b[39mappend(train_metrics)\n\u001b[0;32m     53\u001b[0m     eval_metrics, _, _ \u001b[39m=\u001b[39m eval_step1(imu_model, ae_model, eval_dl, seen_action_ft, seen_action_label, loss_module, device\u001b[39m=\u001b[39mdevice, class_names\u001b[39m=\u001b[39m[all_classes[i] \u001b[39mfor\u001b[39;00m i \u001b[39min\u001b[39;00m seen_classes], class_ids\u001b[39m=\u001b[39mseen_classes,  target_feat_met\u001b[39m=\u001b[39meval_dt\u001b[39m.\u001b[39mgetClassAttrs(), phase\u001b[39m=\u001b[39m\u001b[39m'\u001b[39m\u001b[39mseen\u001b[39m\u001b[39m'\u001b[39m, print_report\u001b[39m=\u001b[39m\u001b[39mFalse\u001b[39;00m, imu_alpha\u001b[39m=\u001b[39mconfig[\u001b[39m'\u001b[39m\u001b[39mimu_alpha\u001b[39m\u001b[39m'\u001b[39m], ae_alpha\u001b[39m=\u001b[39mconfig[\u001b[39m'\u001b[39m\u001b[39mae_alpha\u001b[39m\u001b[39m'\u001b[39m], batch_size\u001b[39m=\u001b[39mconfig[\u001b[39m'\u001b[39m\u001b[39mbatch_size\u001b[39m\u001b[39m'\u001b[39m], show_plot\u001b[39m=\u001b[39m\u001b[39mTrue\u001b[39;00m)\n",
      "Cell \u001b[1;32mIn [48], line 45\u001b[0m, in \u001b[0;36mimu_train_step1\u001b[1;34m(model, ae, dataloader, skel_dt, optimizers, loss_module, device, class_names, class_ids, phase, l2_reg, imu_alpha, ae_alpha, batch_size)\u001b[0m\n\u001b[0;32m     42\u001b[0m     imu_loss\u001b[39m.\u001b[39mbackward(retain_graph\u001b[39m=\u001b[39m\u001b[39mTrue\u001b[39;00m)\n\u001b[0;32m     43\u001b[0m     optimizers[\u001b[39m'\u001b[39m\u001b[39mimu\u001b[39m\u001b[39m'\u001b[39m]\u001b[39m.\u001b[39mstep()\n\u001b[1;32m---> 45\u001b[0m     ae_loss\u001b[39m.\u001b[39;49mbackward()\n\u001b[0;32m     46\u001b[0m     optimizers[\u001b[39m'\u001b[39m\u001b[39mae\u001b[39m\u001b[39m'\u001b[39m]\u001b[39m.\u001b[39mstep()\n\u001b[0;32m     48\u001b[0m metrics \u001b[39m=\u001b[39m {\u001b[39m\"\u001b[39m\u001b[39mIMU loss\u001b[39m\u001b[39m\"\u001b[39m: imu_loss\u001b[39m.\u001b[39mitem(), \u001b[39m\"\u001b[39m\u001b[39mAE loss\u001b[39m\u001b[39m\"\u001b[39m: ae_loss\u001b[39m.\u001b[39mitem()}\n",
      "File \u001b[1;32mc:\\Users\\deela\\anaconda3\\envs\\mvts_trans\\lib\\site-packages\\torch\\_tensor.py:396\u001b[0m, in \u001b[0;36mTensor.backward\u001b[1;34m(self, gradient, retain_graph, create_graph, inputs)\u001b[0m\n\u001b[0;32m    387\u001b[0m \u001b[39mif\u001b[39;00m has_torch_function_unary(\u001b[39mself\u001b[39m):\n\u001b[0;32m    388\u001b[0m     \u001b[39mreturn\u001b[39;00m handle_torch_function(\n\u001b[0;32m    389\u001b[0m         Tensor\u001b[39m.\u001b[39mbackward,\n\u001b[0;32m    390\u001b[0m         (\u001b[39mself\u001b[39m,),\n\u001b[1;32m   (...)\u001b[0m\n\u001b[0;32m    394\u001b[0m         create_graph\u001b[39m=\u001b[39mcreate_graph,\n\u001b[0;32m    395\u001b[0m         inputs\u001b[39m=\u001b[39minputs)\n\u001b[1;32m--> 396\u001b[0m torch\u001b[39m.\u001b[39;49mautograd\u001b[39m.\u001b[39;49mbackward(\u001b[39mself\u001b[39;49m, gradient, retain_graph, create_graph, inputs\u001b[39m=\u001b[39;49minputs)\n",
      "File \u001b[1;32mc:\\Users\\deela\\anaconda3\\envs\\mvts_trans\\lib\\site-packages\\torch\\autograd\\__init__.py:173\u001b[0m, in \u001b[0;36mbackward\u001b[1;34m(tensors, grad_tensors, retain_graph, create_graph, grad_variables, inputs)\u001b[0m\n\u001b[0;32m    168\u001b[0m     retain_graph \u001b[39m=\u001b[39m create_graph\n\u001b[0;32m    170\u001b[0m \u001b[39m# The reason we repeat same the comment below is that\u001b[39;00m\n\u001b[0;32m    171\u001b[0m \u001b[39m# some Python versions print out the first line of a multi-line function\u001b[39;00m\n\u001b[0;32m    172\u001b[0m \u001b[39m# calls in the traceback and some print out the last line\u001b[39;00m\n\u001b[1;32m--> 173\u001b[0m Variable\u001b[39m.\u001b[39;49m_execution_engine\u001b[39m.\u001b[39;49mrun_backward(  \u001b[39m# Calls into the C++ engine to run the backward pass\u001b[39;49;00m\n\u001b[0;32m    174\u001b[0m     tensors, grad_tensors_, retain_graph, create_graph, inputs,\n\u001b[0;32m    175\u001b[0m     allow_unreachable\u001b[39m=\u001b[39;49m\u001b[39mTrue\u001b[39;49;00m, accumulate_grad\u001b[39m=\u001b[39;49m\u001b[39mTrue\u001b[39;49;00m)\n",
      "\u001b[1;31mKeyboardInterrupt\u001b[0m: "
     ]
    }
   ],
   "source": [
    "# print(f'Unseen Classes : {fold_classes[i]}')\n",
    "# separate seen/unseen and train/eval \n",
    "data_dict = dataReader.generate(unseen_classes=fold_cls_ids[0], seen_ratio=config['seen_split'], unseen_ratio=config['unseen_split'], window_size=5.21, window_overlap=4.21, resample_freq=20, smoothing=True, normalize=False)\n",
    "all_classes = dataReader.idToLabel\n",
    "seen_classes = data_dict['seen_classes']\n",
    "unseen_classes = data_dict['unseen_classes']\n",
    "\n",
    "train_n, seq_len, in_ft = data_dict['train']['X'].shape\n",
    "\n",
    "print(\"Initiate IMU datasets ...\")\n",
    "# build IMU datasets\n",
    "train_dt = PAMAP2Dataset(data=data_dict['train']['X'], actions=data_dict['train']['y'], attributes=skeleton_mov, attribute_dict=action_dict, action_classes=seen_classes, seq_len=50)\n",
    "train_dl = DataLoader(train_dt, batch_size=config['batch_size'], shuffle=True, pin_memory=True, drop_last=True)\n",
    "# build seen eval_dt \n",
    "eval_dt = PAMAP2Dataset(data=data_dict['eval-seen']['X'], actions=data_dict['eval-seen']['y'], attributes=skeleton_mov, attribute_dict=action_dict, action_classes=seen_classes, seq_len=50)\n",
    "eval_dl = DataLoader(eval_dt, batch_size=config['batch_size'], shuffle=True, pin_memory=True, drop_last=True)\n",
    "# build unseen test_dt\n",
    "test_dt = PAMAP2Dataset(data=data_dict['test']['X'], actions=data_dict['test']['y'], attributes=skeleton_mov, attribute_dict=action_dict, action_classes=unseen_classes, seq_len=50)\n",
    "test_dl = DataLoader(test_dt, batch_size=config['batch_size'], shuffle=True, pin_memory=True, drop_last=True)\n",
    "\n",
    "print(\"Initial Models ...\")\n",
    "# build IMU Encoder Model \n",
    "imu_model = IMUEncoder(in_ft=in_ft, d_model=config['d_model'], num_heads=config['num_heads'], ft_size=config['feat_size'], max_len=seq_len, n_classes=len(seen_classes))\n",
    "imu_model.to(device)\n",
    "\n",
    "# define IMU-Enc run parameters \n",
    "seen_action_ft_dict = {a: get_class_ft(torch.from_numpy(skeleton_mov[i, ...]), ae_model, device) for a,i in action_dict.items() if a in seen_classes}\n",
    "seen_label_map = {i:l for i,l in enumerate(seen_classes)}\n",
    "trpLoss = ActionTripletLoss(distance='l2', k=10, neg_thr=0.90,pos_thr=0.05, agg=\"mean\", device=device)\n",
    "\n",
    "# generate unseen semantic space \n",
    "unseen_action_ft_dict = {a: get_class_ft(torch.from_numpy(skeleton_mov[i, ...]), ae_model, device) for a,i in action_dict.items() if a in unseen_classes}\n",
    "seen_label_map = {i:l for i,l in enumerate(unseen_classes)}\n",
    "\n",
    "seen_action_ft, seen_action_label = gen_semantic_space(seen_action_ft_dict)\n",
    "unseen_action_ft, unseen_action_label = gen_semantic_space(unseen_action_ft_dict)\n",
    "\n",
    "imu_optim = Adam(imu_model.parameters(), lr=config['imu_lr'])\n",
    "ae_optim = Adam(ae_model.parameters(), lr=config['ae_lr'])\n",
    "optimizers = {'imu': imu_optim, 'ae': ae_optim}\n",
    "\n",
    "loss_module = {'class': nn.CrossEntropyLoss(), 'feature': trpLoss, 'recons': nn.MSELoss()}\n",
    "best_acc = 0.0\n",
    "\n",
    "print(\"Start Models training ...\")\n",
    "fold_train_data = []\n",
    "fold_val_data = []\n",
    "# train 2 models E2E\n",
    "for epoch in tqdm(range(5), desc='Training Epoch', leave=False):\n",
    "    # train IMU-Enc model\n",
    "    train_metrics = imu_train_step1(imu_model, ae_model, train_dl, skel_dt, optimizers, loss_module, device, class_names=[all_classes[i] for i in seen_classes], class_ids=seen_classes, phase='train', imu_alpha=config['imu_alpha'], ae_alpha=config['ae_alpha'], batch_size=32)\n",
    "    fold_train_data.append(train_metrics)\n",
    "    eval_metrics, _, _ = eval_step1(imu_model, ae_model, eval_dl, seen_action_ft, seen_action_label, loss_module, device=device, class_names=[all_classes[i] for i in seen_classes], class_ids=seen_classes,  target_feat_met=eval_dt.getClassAttrs(), phase='seen', print_report=False, imu_alpha=config['imu_alpha'], ae_alpha=config['ae_alpha'], batch_size=config['batch_size'], show_plot=True)\n",
    "    fold_val_data.append(eval_metrics)\n",
    "    # print(f\"EPOCH [{epoch}] TRAINING : {train_metrics}\")\n",
    "    # print(f\"EPOCH [{epoch}] EVAL : {eval_metrics}\")\n",
    "    if eval_metrics['accuracy'] > best_acc:\n",
    "        imu_best_model = deepcopy(imu_model.state_dict())\n",
    "\n",
    "\n",
    "plot_accVloss(fold_train_data, fold_val_data)\n",
    "# replace by best model \n",
    "imu_model.load_state_dict(imu_best_model)\n",
    "\n",
    "# run evaluation on unseen classes\n",
    "test_metrics, unseen_pred_actions, unseen_labels = eval_step1(imu_model, ae_model, test_dl, unseen_action_ft, unseen_action_label, loss_module, device=device, class_names=[all_classes[i] for i in unseen_classes], class_ids=unseen_classes,  target_feat_met=test_dt.getClassAttrs(), phase='unseen', imu_alpha=config['imu_alpha'], ae_alpha=config['ae_alpha'], batch_size=config['batch_size'])\n",
    "print(test_metrics)\n",
    "print(\"=\"*40)"
   ]
  },
  {
   "cell_type": "code",
   "execution_count": null,
   "metadata": {},
   "outputs": [
    {
     "name": "stderr",
     "output_type": "stream",
     "text": [
      "unseen: 100%|██████████| 175/175 [00:29<00:00,  5.91batch/s, IMU loss=0.000177, AE loss=0.000358]\n"
     ]
    },
    {
     "data": {
      "image/png": "[encoded data removed]",
      "text/plain": [
       "<Figure size 640x480 with 2 Axes>"
      ]
     },
     "metadata": {},
     "output_type": "display_data"
    },
    {
     "name": "stdout",
     "output_type": "stream",
     "text": [
      "Overall accuracy: 0.143\n",
      "\n",
      "                   precision     recall   f1-score rel. freq. abs. freq.|\t biggest thieves\n",
      "\n",
      "        standing       0.101      0.057      0.073      0.330       1849|\t ascending stairs: 0.531,\thouse cleaning: 0.215,\twatching TV: 0.196,\t\n",
      "  house cleaning       0.131      0.060      0.082      0.329       1842|\t ascending stairs: 0.592,\twatching TV: 0.229,\tstanding: 0.119,\t\n",
      "ascending stairs       0.190      0.452      0.267      0.193       1079|\t house cleaning: 0.250,\twatching TV: 0.237,\t\n",
      "     watching TV       0.084      0.116      0.098      0.148        830|\t standing: 0.799,\thouse cleaning: 0.071,\t\n",
      "\n",
      "----------------------------------------------------------------------------------------------------\n",
      "     avg / total       0.126      0.143      0.117        1.0       5600|\t      \n",
      "\n",
      "{'accuracy': 0.14285714285714285, 'precision': 0.12654527565853865, 'recall': 0.1712448138154179, 'f1': 0.13000866422482893, 'imu loss': 0.00038817361637484283, 'ae loss': 0.0003667233185842633}\n",
      "========================================\n"
     ]
    }
   ],
   "source": [
    "# plot_accVloss(fold_train_data, fold_val_data)\n",
    "# replace by best model \n",
    "imu_model.load_state_dict(imu_best_model)\n",
    "\n",
    "# run evaluation on unseen classes\n",
    "test_metrics, unseen_pred_actions, unseen_labels = eval_step1(imu_model, ae_model, test_dl, unseen_action_ft, unseen_action_label, loss_module, device=device, class_names=[all_classes[i] for i in unseen_classes], class_ids=unseen_classes,  target_feat_met=test_dt.getClassAttrs(), phase='unseen', imu_alpha=config['imu_alpha'], ae_alpha=config['ae_alpha'], batch_size=config['batch_size'])\n",
    "print(test_metrics)\n",
    "print(\"=\"*40)"
   ]
  },
  {
   "cell_type": "code",
   "execution_count": null,
   "metadata": {},
   "outputs": [],
   "source": []
  },
  {
   "cell_type": "code",
   "execution_count": null,
   "metadata": {},
   "outputs": [
    {
     "data": {
      "application/vnd.plotly.v1+json": {
       "config": {
        "plotlyServerURL": "https://plot.ly"
       },
       "data": [
        {
         "hoverlabel": {
          "namelength": 0
         },
         "hovertemplate": "action=lying<br>type=GT<br>x=%{x}<br>y=%{y}",
         "legendgroup": "action=lying, type=GT",
         "marker": {
          "color": "#636efa",
          "symbol": "circle"
         },
         "mode": "markers",
         "name": "action=lying, type=GT",
         "showlegend": true,
         "type": "scatter",
         "x": [
          -14.29305362701416,
          -16.59505844116211,
          -15.952770233154297,
          -15.796358108520508,
          -14.526214599609375,
          -14.476065635681152,
          -15.325261116027832,
          -15.590195655822754,
          -14.944754600524902,
          -13.7935209274292
         ],
         "xaxis": "x",
         "y": [
          -11.210216522216797,
          -13.19671630859375,
          -12.13966178894043,
          -11.220341682434082,
          -12.257710456848145,
          -14.054421424865723,
          -14.175618171691895,
          -13.098268508911133,
          -12.48132038116455,
          -12.025247573852539
         ],
         "yaxis": "y"
        },
        {
         "hoverlabel": {
          "namelength": 0
         },
         "hovertemplate": "action=sitting<br>type=GT<br>x=%{x}<br>y=%{y}",
         "legendgroup": "action=sitting, type=GT",
         "marker": {
          "color": "#EF553B",
          "symbol": "circle"
         },
         "mode": "markers",
         "name": "action=sitting, type=GT",
         "showlegend": true,
         "type": "scatter",
         "x": [
          -0.7959643006324768,
          -1.9963496923446655,
          -1.3243664503097534,
          -2.836646318435669,
          -4.122716903686523,
          -2.0184738636016846,
          -4.071900367736816,
          -2.9454870223999023,
          -3.1432712078094482,
          -4.099125862121582
         ],
         "xaxis": "x",
         "y": [
          19.12632179260254,
          21.498310089111328,
          20.98436164855957,
          19.82149887084961,
          21.175994873046875,
          19.488725662231445,
          18.295303344726562,
          20.88665199279785,
          22.35447120666504,
          19.982345581054688
         ],
         "yaxis": "y"
        },
        {
         "hoverlabel": {
          "namelength": 0
         },
         "hovertemplate": "action=standing<br>type=GT<br>x=%{x}<br>y=%{y}",
         "legendgroup": "action=standing, type=GT",
         "marker": {
          "color": "#00cc96",
          "symbol": "circle"
         },
         "mode": "markers",
         "name": "action=standing, type=GT",
         "showlegend": true,
         "type": "scatter",
         "x": [
          -3.894690990447998,
          -4.181982517242432,
          -3.1009559631347656,
          -11.55253791809082,
          -3.2249934673309326,
          -5.061765193939209,
          -3.4542574882507324,
          -4.750464916229248,
          -4.418352127075195,
          -5.765799045562744
         ],
         "xaxis": "x",
         "y": [
          -9.759782791137695,
          -11.063913345336914,
          -11.271284103393555,
          -1.164651870727539,
          -8.72419548034668,
          -10.944461822509766,
          -10.34970474243164,
          -9.672052383422852,
          -8.40242862701416,
          -9.184013366699219
         ],
         "yaxis": "y"
        },
        {
         "hoverlabel": {
          "namelength": 0
         },
         "hovertemplate": "action=standing<br>type=pred<br>x=%{x}<br>y=%{y}",
         "legendgroup": "action=standing, type=pred",
         "marker": {
          "color": "#00cc96",
          "symbol": "diamond"
         },
         "mode": "markers",
         "name": "action=standing, type=pred",
         "showlegend": true,
         "type": "scatter",
         "x": [
          -16.719280242919922,
          5.49675178527832,
          -5.025320529937744,
          -2.609093189239502,
          -16.2114200592041,
          -2.7238898277282715,
          -5.2288970947265625,
          -3.0140607357025146,
          -2.5904629230499268
         ],
         "xaxis": "x",
         "y": [
          6.76430082321167,
          -3.104853868484497,
          9.108006477355957,
          17.3037052154541,
          6.68936014175415,
          19.23946189880371,
          -1.050873041152954,
          18.605621337890625,
          18.48699188232422
         ],
         "yaxis": "y"
        },
        {
         "hoverlabel": {
          "namelength": 0
         },
         "hovertemplate": "action=walking<br>type=GT<br>x=%{x}<br>y=%{y}",
         "legendgroup": "action=walking, type=GT",
         "marker": {
          "color": "#ab63fa",
          "symbol": "circle"
         },
         "mode": "markers",
         "name": "action=walking, type=GT",
         "showlegend": true,
         "type": "scatter",
         "x": [
          7.042816638946533,
          6.849374771118164,
          4.7470269203186035,
          5.314245223999023,
          6.063097953796387,
          6.063084602355957,
          6.979269981384277,
          5.458990573883057,
          4.179407119750977,
          5.951527118682861
         ],
         "xaxis": "x",
         "y": [
          -4.640097141265869,
          -7.671507835388184,
          -7.256495475769043,
          -7.410656929016113,
          -8.394692420959473,
          -8.395146369934082,
          -9.158243179321289,
          -9.566107749938965,
          -9.840980529785156,
          -5.145116806030273
         ],
         "yaxis": "y"
        },
        {
         "hoverlabel": {
          "namelength": 0
         },
         "hovertemplate": "action=running<br>type=GT<br>x=%{x}<br>y=%{y}",
         "legendgroup": "action=running, type=GT",
         "marker": {
          "color": "#FFA15A",
          "symbol": "circle"
         },
         "mode": "markers",
         "name": "action=running, type=GT",
         "showlegend": true,
         "type": "scatter",
         "x": [
          7.3388800621032715,
          7.244766712188721,
          9.13447380065918,
          8.103452682495117,
          6.752307891845703,
          8.522294998168945,
          8.786078453063965,
          9.072253227233887,
          7.955086708068848,
          8.667879104614258
         ],
         "xaxis": "x",
         "y": [
          -18.951406478881836,
          -20.51903533935547,
          -19.976831436157227,
          -18.954797744750977,
          -21.53083038330078,
          -21.484725952148438,
          -19.457447052001953,
          -17.920413970947266,
          -20.033700942993164,
          -20.481225967407227
         ],
         "yaxis": "y"
        },
        {
         "hoverlabel": {
          "namelength": 0
         },
         "hovertemplate": "action=cycling<br>type=GT<br>x=%{x}<br>y=%{y}",
         "legendgroup": "action=cycling, type=GT",
         "marker": {
          "color": "#19d3f3",
          "symbol": "circle"
         },
         "mode": "markers",
         "name": "action=cycling, type=GT",
         "showlegend": true,
         "type": "scatter",
         "x": [
          0.3029765486717224,
          -2.091662883758545,
          -0.5584486722946167,
          -3.0574848651885986,
          -3.180651903152466,
          2.2938485145568848,
          -0.8524490594863892,
          -0.8524951934814453,
          0.49698176980018616,
          -0.3258299231529236
         ],
         "xaxis": "x",
         "y": [
          -4.757884979248047,
          -1.333282709121704,
          -4.324954986572266,
          -0.07239246368408203,
          1.2363777160644531,
          -3.7231333255767822,
          -2.926032066345215,
          -2.9258975982666016,
          -3.0725862979888916,
          -1.8741154670715332
         ],
         "yaxis": "y"
        },
        {
         "hoverlabel": {
          "namelength": 0
         },
         "hovertemplate": "action=Nordic walking<br>type=GT<br>x=%{x}<br>y=%{y}",
         "legendgroup": "action=Nordic walking, type=GT",
         "marker": {
          "color": "#FF6692",
          "symbol": "circle"
         },
         "mode": "markers",
         "name": "action=Nordic walking, type=GT",
         "showlegend": true,
         "type": "scatter",
         "x": [
          5.0847296714782715,
          7.4918317794799805,
          7.038743495941162,
          7.17232084274292,
          7.394383430480957,
          6.7969231605529785,
          3.2216832637786865,
          8.560723304748535,
          6.099202632904053,
          7.174494743347168
         ],
         "xaxis": "x",
         "y": [
          0.7549641132354736,
          1.1896755695343018,
          -0.5215502977371216,
          3.004507064819336,
          4.297908782958984,
          3.4093353748321533,
          -2.6808760166168213,
          2.2458975315093994,
          0.3255145847797394,
          1.7295947074890137
         ],
         "yaxis": "y"
        },
        {
         "hoverlabel": {
          "namelength": 0
         },
         "hovertemplate": "action=watching TV<br>type=GT<br>x=%{x}<br>y=%{y}",
         "legendgroup": "action=watching TV, type=GT",
         "marker": {
          "color": "#B6E880",
          "symbol": "circle"
         },
         "mode": "markers",
         "name": "action=watching TV, type=GT",
         "showlegend": true,
         "type": "scatter",
         "x": [
          -11.168434143066406,
          -13.286136627197266,
          -15.618656158447266,
          -15.184868812561035,
          -11.326560974121094,
          -12.771201133728027,
          -13.301213264465332,
          -15.312889099121094,
          -14.120213508605957,
          -12.45211124420166
         ],
         "xaxis": "x",
         "y": [
          1.561558485031128,
          0.8145370483398438,
          2.5389249324798584,
          5.146711826324463,
          0.6165607571601868,
          0.7319671511650085,
          2.8859317302703857,
          3.0197176933288574,
          3.378257989883423,
          3.143817663192749
         ],
         "yaxis": "y"
        },
        {
         "hoverlabel": {
          "namelength": 0
         },
         "hovertemplate": "action=watching TV<br>type=pred<br>x=%{x}<br>y=%{y}",
         "legendgroup": "action=watching TV, type=pred",
         "marker": {
          "color": "#B6E880",
          "symbol": "diamond"
         },
         "mode": "markers",
         "name": "action=watching TV, type=pred",
         "showlegend": true,
         "type": "scatter",
         "x": [
          -6.51879358291626,
          -6.907106399536133,
          -7.340548515319824
         ],
         "xaxis": "x",
         "y": [
          -0.2376812994480133,
          -0.8567267060279846,
          -0.9315908551216125
         ],
         "yaxis": "y"
        },
        {
         "hoverlabel": {
          "namelength": 0
         },
         "hovertemplate": "action=computer work<br>type=GT<br>x=%{x}<br>y=%{y}",
         "legendgroup": "action=computer work, type=GT",
         "marker": {
          "color": "#FF97FF",
          "symbol": "circle"
         },
         "mode": "markers",
         "name": "action=computer work, type=GT",
         "showlegend": true,
         "type": "scatter",
         "x": [
          -8.57640266418457,
          -8.912842750549316,
          -9.570152282714844,
          -7.734180927276611,
          -10.01339340209961,
          -10.862882614135742,
          -11.141613006591797,
          -9.034433364868164,
          -7.607615947723389,
          -9.675769805908203
         ],
         "xaxis": "x",
         "y": [
          -2.2605814933776855,
          -3.6423163414001465,
          -3.708416223526001,
          -4.563050270080566,
          -0.09711997956037521,
          -1.8835519552230835,
          -3.6069815158843994,
          -2.6691439151763916,
          -2.8409371376037598,
          -4.693093776702881
         ],
         "yaxis": "y"
        },
        {
         "hoverlabel": {
          "namelength": 0
         },
         "hovertemplate": "action=car driving<br>type=GT<br>x=%{x}<br>y=%{y}",
         "legendgroup": "action=car driving, type=GT",
         "marker": {
          "color": "#FECB52",
          "symbol": "circle"
         },
         "mode": "markers",
         "name": "action=car driving, type=GT",
         "showlegend": true,
         "type": "scatter",
         "x": [
          9.574740409851074,
          10.285325050354004,
          9.975555419921875,
          8.124571800231934,
          10.113306999206543,
          8.619811058044434,
          8.177323341369629,
          9.163559913635254,
          8.47552490234375,
          9.335189819335938
         ],
         "xaxis": "x",
         "y": [
          -25.080429077148438,
          -25.88640594482422,
          -26.54621696472168,
          -27.138225555419922,
          -27.82927894592285,
          -25.968488693237305,
          -25.551616668701172,
          -27.131303787231445,
          -27.77882194519043,
          -25.94795036315918
         ],
         "yaxis": "y"
        },
        {
         "hoverlabel": {
          "namelength": 0
         },
         "hovertemplate": "action=ascending stairs<br>type=GT<br>x=%{x}<br>y=%{y}",
         "legendgroup": "action=ascending stairs, type=GT",
         "marker": {
          "color": "#636efa",
          "symbol": "circle"
         },
         "mode": "markers",
         "name": "action=ascending stairs, type=GT",
         "showlegend": true,
         "type": "scatter",
         "x": [
          15.500574111938477,
          15.987225532531738,
          13.923967361450195,
          12.054444313049316,
          14.962284088134766,
          14.531294822692871,
          14.67684268951416,
          13.159708023071289,
          13.922046661376953,
          14.587422370910645
         ],
         "xaxis": "x",
         "y": [
          8.313495635986328,
          8.956310272216797,
          11.33877944946289,
          8.842374801635742,
          7.877144813537598,
          9.031702041625977,
          10.290006637573242,
          9.76508903503418,
          11.3998384475708,
          9.005622863769531
         ],
         "yaxis": "y"
        },
        {
         "hoverlabel": {
          "namelength": 0
         },
         "hovertemplate": "action=ascending stairs<br>type=pred<br>x=%{x}<br>y=%{y}",
         "legendgroup": "action=ascending stairs, type=pred",
         "marker": {
          "color": "#636efa",
          "symbol": "diamond"
         },
         "mode": "markers",
         "name": "action=ascending stairs, type=pred",
         "showlegend": true,
         "type": "scatter",
         "x": [
          4.121689319610596,
          9.304022789001465,
          5.581935405731201,
          4.544698238372803,
          -0.0771220326423645,
          3.6368348598480225,
          5.429643630981445
         ],
         "xaxis": "x",
         "y": [
          -1.7606829404830933,
          -2.7718756198883057,
          -1.6832079887390137,
          -0.3370670676231384,
          5.767444610595703,
          -0.5100334882736206,
          -0.9700992703437805
         ],
         "yaxis": "y"
        },
        {
         "hoverlabel": {
          "namelength": 0
         },
         "hovertemplate": "action=descending stairs<br>type=GT<br>x=%{x}<br>y=%{y}",
         "legendgroup": "action=descending stairs, type=GT",
         "marker": {
          "color": "#EF553B",
          "symbol": "circle"
         },
         "mode": "markers",
         "name": "action=descending stairs, type=GT",
         "showlegend": true,
         "type": "scatter",
         "x": [
          3.6485021114349365,
          5.803305625915527,
          6.009849548339844,
          2.4414710998535156,
          6.96256160736084,
          3.6172053813934326,
          3.6130242347717285,
          4.355001926422119,
          4.584596633911133,
          6.009439945220947
         ],
         "xaxis": "x",
         "y": [
          17.243505477905273,
          16.983171463012695,
          15.339552879333496,
          14.654446601867676,
          16.12518310546875,
          14.138998985290527,
          13.934270858764648,
          16.93632698059082,
          16.899904251098633,
          16.524736404418945
         ],
         "yaxis": "y"
        },
        {
         "hoverlabel": {
          "namelength": 0
         },
         "hovertemplate": "action=vacuum cleaning<br>type=GT<br>x=%{x}<br>y=%{y}",
         "legendgroup": "action=vacuum cleaning, type=GT",
         "marker": {
          "color": "#00cc96",
          "symbol": "circle"
         },
         "mode": "markers",
         "name": "action=vacuum cleaning, type=GT",
         "showlegend": true,
         "type": "scatter",
         "x": [
          0.7724236845970154,
          4.886651992797852,
          -1.5555996894836426,
          1.1349860429763794,
          1.5529860258102417,
          -0.16565626859664917,
          -0.4188620448112488,
          4.364733695983887,
          4.30910062789917,
          2.6040706634521484
         ],
         "xaxis": "x",
         "y": [
          9.476624488830566,
          5.883395671844482,
          7.528609275817871,
          8.717354774475098,
          7.7053632736206055,
          8.39210319519043,
          9.713335037231445,
          3.471067190170288,
          4.881575107574463,
          6.695266246795654
         ],
         "yaxis": "y"
        },
        {
         "hoverlabel": {
          "namelength": 0
         },
         "hovertemplate": "action=ironing<br>type=GT<br>x=%{x}<br>y=%{y}",
         "legendgroup": "action=ironing, type=GT",
         "marker": {
          "color": "#ab63fa",
          "symbol": "circle"
         },
         "mode": "markers",
         "name": "action=ironing, type=GT",
         "showlegend": true,
         "type": "scatter",
         "x": [
          -8.083961486816406,
          -5.914023399353027,
          -5.730854511260986,
          -8.73438549041748,
          -8.452604293823242,
          -8.203533172607422,
          -6.714522361755371,
          -7.238834857940674,
          -7.026798248291016,
          -7.43719482421875
         ],
         "xaxis": "x",
         "y": [
          9.425551414489746,
          10.375879287719727,
          10.878242492675781,
          11.3898344039917,
          10.793421745300293,
          12.54433822631836,
          11.986430168151855,
          11.951271057128906,
          10.040764808654785,
          10.722342491149902
         ],
         "yaxis": "y"
        },
        {
         "hoverlabel": {
          "namelength": 0
         },
         "hovertemplate": "action=folding laundry<br>type=GT<br>x=%{x}<br>y=%{y}",
         "legendgroup": "action=folding laundry, type=GT",
         "marker": {
          "color": "#FFA15A",
          "symbol": "circle"
         },
         "mode": "markers",
         "name": "action=folding laundry, type=GT",
         "showlegend": true,
         "type": "scatter",
         "x": [
          -17.790302276611328,
          -14.877934455871582,
          -18.03811264038086,
          -17.039485931396484,
          -17.625864028930664,
          -19.03763198852539,
          -18.65111541748047,
          -19.870361328125,
          -16.274396896362305,
          -17.222576141357422
         ],
         "xaxis": "x",
         "y": [
          5.233486175537109,
          7.814441680908203,
          6.575495719909668,
          9.24569320678711,
          7.436853885650635,
          8.682286262512207,
          7.90772008895874,
          6.622150897979736,
          8.698347091674805,
          7.567681312561035
         ],
         "yaxis": "y"
        },
        {
         "hoverlabel": {
          "namelength": 0
         },
         "hovertemplate": "action=house cleaning<br>type=GT<br>x=%{x}<br>y=%{y}",
         "legendgroup": "action=house cleaning, type=GT",
         "marker": {
          "color": "#19d3f3",
          "symbol": "circle"
         },
         "mode": "markers",
         "name": "action=house cleaning, type=GT",
         "showlegend": true,
         "type": "scatter",
         "x": [
          -26.56831169128418,
          -24.506114959716797,
          -24.103870391845703,
          -24.404348373413086,
          -25.681175231933594,
          -25.8439884185791,
          -23.318981170654297,
          -23.48197364807129,
          -25.34838104248047,
          -24.94061851501465
         ],
         "xaxis": "x",
         "y": [
          1.6334261894226074,
          2.721890926361084,
          3.579352378845215,
          1.5643713474273682,
          3.706583261489868,
          2.920046091079712,
          2.943012237548828,
          3.787700891494751,
          2.2714433670043945,
          1.5464750528335571
         ],
         "yaxis": "y"
        },
        {
         "hoverlabel": {
          "namelength": 0
         },
         "hovertemplate": "action=house cleaning<br>type=pred<br>x=%{x}<br>y=%{y}",
         "legendgroup": "action=house cleaning, type=pred",
         "marker": {
          "color": "#19d3f3",
          "symbol": "diamond"
         },
         "mode": "markers",
         "name": "action=house cleaning, type=pred",
         "showlegend": true,
         "type": "scatter",
         "x": [
          -16.06623077392578,
          -4.718681335449219,
          2.7198729515075684,
          0.18320658802986145,
          1.9772604703903198,
          0.6234371066093445,
          4.807176113128662,
          0.702286422252655,
          3.318235158920288,
          2.574104070663452,
          -1.1699010133743286
         ],
         "xaxis": "x",
         "y": [
          6.164164066314697,
          0.1264268457889557,
          2.516613721847534,
          7.3046956062316895,
          4.221676349639893,
          6.212966442108154,
          -1.2273300886154175,
          7.18555212020874,
          1.7462825775146484,
          3.075146198272705,
          5.83012056350708
         ],
         "yaxis": "y"
        },
        {
         "hoverlabel": {
          "namelength": 0
         },
         "hovertemplate": "action=playing soccer<br>type=GT<br>x=%{x}<br>y=%{y}",
         "legendgroup": "action=playing soccer, type=GT",
         "marker": {
          "color": "#FF6692",
          "symbol": "circle"
         },
         "mode": "markers",
         "name": "action=playing soccer, type=GT",
         "showlegend": true,
         "type": "scatter",
         "x": [
          7.646138668060303,
          10.409441947937012,
          11.400794982910156,
          11.634288787841797,
          11.14118766784668,
          12.600836753845215,
          9.860808372497559,
          11.510427474975586,
          13.310530662536621,
          13.086524963378906
         ],
         "xaxis": "x",
         "y": [
          -3.261291027069092,
          -3.7741947174072266,
          -1.4454141855239868,
          -4.160397529602051,
          -2.6399621963500977,
          -2.343266010284424,
          -1.8345929384231567,
          -3.0825388431549072,
          -2.5134952068328857,
          -4.031562805175781
         ],
         "yaxis": "y"
        },
        {
         "hoverlabel": {
          "namelength": 0
         },
         "hovertemplate": "action=rope jumping<br>type=GT<br>x=%{x}<br>y=%{y}",
         "legendgroup": "action=rope jumping, type=GT",
         "marker": {
          "color": "#B6E880",
          "symbol": "circle"
         },
         "mode": "markers",
         "name": "action=rope jumping, type=GT",
         "showlegend": true,
         "type": "scatter",
         "x": [
          15.48344898223877,
          16.71019744873047,
          17.881441116333008,
          14.305871963500977,
          15.584957122802734,
          15.991870880126953,
          16.754159927368164,
          15.54236125946045,
          17.41982650756836,
          15.774127006530762
         ],
         "xaxis": "x",
         "y": [
          -13.13005256652832,
          -12.819382667541504,
          -10.863460540771484,
          -11.024656295776367,
          -12.347829818725586,
          -10.93748950958252,
          -11.739761352539062,
          -10.46396255493164,
          -12.002870559692383,
          -11.76916790008545
         ],
         "yaxis": "y"
        }
       ],
       "layout": {
        "height": 800,
        "legend": {
         "tracegroupgap": 0
        },
        "template": {
         "data": {
          "bar": [
           {
            "error_x": {
             "color": "#2a3f5f"
            },
            "error_y": {
             "color": "#2a3f5f"
            },
            "marker": {
             "line": {
              "color": "#E5ECF6",
              "width": 0.5
             }
            },
            "type": "bar"
           }
          ],
          "barpolar": [
           {
            "marker": {
             "line": {
              "color": "#E5ECF6",
              "width": 0.5
             }
            },
            "type": "barpolar"
           }
          ],
          "carpet": [
           {
            "aaxis": {
             "endlinecolor": "#2a3f5f",
             "gridcolor": "white",
             "linecolor": "white",
             "minorgridcolor": "white",
             "startlinecolor": "#2a3f5f"
            },
            "baxis": {
             "endlinecolor": "#2a3f5f",
             "gridcolor": "white",
             "linecolor": "white",
             "minorgridcolor": "white",
             "startlinecolor": "#2a3f5f"
            },
            "type": "carpet"
           }
          ],
          "choropleth": [
           {
            "colorbar": {
             "outlinewidth": 0,
             "ticks": ""
            },
            "type": "choropleth"
           }
          ],
          "contour": [
           {
            "colorbar": {
             "outlinewidth": 0,
             "ticks": ""
            },
            "colorscale": [
             [
              0,
              "#0d0887"
             ],
             [
              0.1111111111111111,
              "#46039f"
             ],
             [
              0.2222222222222222,
              "#7201a8"
             ],
             [
              0.3333333333333333,
              "#9c179e"
             ],
             [
              0.4444444444444444,
              "#bd3786"
             ],
             [
              0.5555555555555556,
              "#d8576b"
             ],
             [
              0.6666666666666666,
              "#ed7953"
             ],
             [
              0.7777777777777778,
              "#fb9f3a"
             ],
             [
              0.8888888888888888,
              "#fdca26"
             ],
             [
              1,
              "#f0f921"
             ]
            ],
            "type": "contour"
           }
          ],
          "contourcarpet": [
           {
            "colorbar": {
             "outlinewidth": 0,
             "ticks": ""
            },
            "type": "contourcarpet"
           }
          ],
          "heatmap": [
           {
            "colorbar": {
             "outlinewidth": 0,
             "ticks": ""
            },
            "colorscale": [
             [
              0,
              "#0d0887"
             ],
             [
              0.1111111111111111,
              "#46039f"
             ],
             [
              0.2222222222222222,
              "#7201a8"
             ],
             [
              0.3333333333333333,
              "#9c179e"
             ],
             [
              0.4444444444444444,
              "#bd3786"
             ],
             [
              0.5555555555555556,
              "#d8576b"
             ],
             [
              0.6666666666666666,
              "#ed7953"
             ],
             [
              0.7777777777777778,
              "#fb9f3a"
             ],
             [
              0.8888888888888888,
              "#fdca26"
             ],
             [
              1,
              "#f0f921"
             ]
            ],
            "type": "heatmap"
           }
          ],
          "heatmapgl": [
           {
            "colorbar": {
             "outlinewidth": 0,
             "ticks": ""
            },
            "colorscale": [
             [
              0,
              "#0d0887"
             ],
             [
              0.1111111111111111,
              "#46039f"
             ],
             [
              0.2222222222222222,
              "#7201a8"
             ],
             [
              0.3333333333333333,
              "#9c179e"
             ],
             [
              0.4444444444444444,
              "#bd3786"
             ],
             [
              0.5555555555555556,
              "#d8576b"
             ],
             [
              0.6666666666666666,
              "#ed7953"
             ],
             [
              0.7777777777777778,
              "#fb9f3a"
             ],
             [
              0.8888888888888888,
              "#fdca26"
             ],
             [
              1,
              "#f0f921"
             ]
            ],
            "type": "heatmapgl"
           }
          ],
          "histogram": [
           {
            "marker": {
             "colorbar": {
              "outlinewidth": 0,
              "ticks": ""
             }
            },
            "type": "histogram"
           }
          ],
          "histogram2d": [
           {
            "colorbar": {
             "outlinewidth": 0,
             "ticks": ""
            },
            "colorscale": [
             [
              0,
              "#0d0887"
             ],
             [
              0.1111111111111111,
              "#46039f"
             ],
             [
              0.2222222222222222,
              "#7201a8"
             ],
             [
              0.3333333333333333,
              "#9c179e"
             ],
             [
              0.4444444444444444,
              "#bd3786"
             ],
             [
              0.5555555555555556,
              "#d8576b"
             ],
             [
              0.6666666666666666,
              "#ed7953"
             ],
             [
              0.7777777777777778,
              "#fb9f3a"
             ],
             [
              0.8888888888888888,
              "#fdca26"
             ],
             [
              1,
              "#f0f921"
             ]
            ],
            "type": "histogram2d"
           }
          ],
          "histogram2dcontour": [
           {
            "colorbar": {
             "outlinewidth": 0,
             "ticks": ""
            },
            "colorscale": [
             [
              0,
              "#0d0887"
             ],
             [
              0.1111111111111111,
              "#46039f"
             ],
             [
              0.2222222222222222,
              "#7201a8"
             ],
             [
              0.3333333333333333,
              "#9c179e"
             ],
             [
              0.4444444444444444,
              "#bd3786"
             ],
             [
              0.5555555555555556,
              "#d8576b"
             ],
             [
              0.6666666666666666,
              "#ed7953"
             ],
             [
              0.7777777777777778,
              "#fb9f3a"
             ],
             [
              0.8888888888888888,
              "#fdca26"
             ],
             [
              1,
              "#f0f921"
             ]
            ],
            "type": "histogram2dcontour"
           }
          ],
          "mesh3d": [
           {
            "colorbar": {
             "outlinewidth": 0,
             "ticks": ""
            },
            "type": "mesh3d"
           }
          ],
          "parcoords": [
           {
            "line": {
             "colorbar": {
              "outlinewidth": 0,
              "ticks": ""
             }
            },
            "type": "parcoords"
           }
          ],
          "pie": [
           {
            "automargin": true,
            "type": "pie"
           }
          ],
          "scatter": [
           {
            "marker": {
             "colorbar": {
              "outlinewidth": 0,
              "ticks": ""
             }
            },
            "type": "scatter"
           }
          ],
          "scatter3d": [
           {
            "line": {
             "colorbar": {
              "outlinewidth": 0,
              "ticks": ""
             }
            },
            "marker": {
             "colorbar": {
              "outlinewidth": 0,
              "ticks": ""
             }
            },
            "type": "scatter3d"
           }
          ],
          "scattercarpet": [
           {
            "marker": {
             "colorbar": {
              "outlinewidth": 0,
              "ticks": ""
             }
            },
            "type": "scattercarpet"
           }
          ],
          "scattergeo": [
           {
            "marker": {
             "colorbar": {
              "outlinewidth": 0,
              "ticks": ""
             }
            },
            "type": "scattergeo"
           }
          ],
          "scattergl": [
           {
            "marker": {
             "colorbar": {
              "outlinewidth": 0,
              "ticks": ""
             }
            },
            "type": "scattergl"
           }
          ],
          "scattermapbox": [
           {
            "marker": {
             "colorbar": {
              "outlinewidth": 0,
              "ticks": ""
             }
            },
            "type": "scattermapbox"
           }
          ],
          "scatterpolar": [
           {
            "marker": {
             "colorbar": {
              "outlinewidth": 0,
              "ticks": ""
             }
            },
            "type": "scatterpolar"
           }
          ],
          "scatterpolargl": [
           {
            "marker": {
             "colorbar": {
              "outlinewidth": 0,
              "ticks": ""
             }
            },
            "type": "scatterpolargl"
           }
          ],
          "scatterternary": [
           {
            "marker": {
             "colorbar": {
              "outlinewidth": 0,
              "ticks": ""
             }
            },
            "type": "scatterternary"
           }
          ],
          "surface": [
           {
            "colorbar": {
             "outlinewidth": 0,
             "ticks": ""
            },
            "colorscale": [
             [
              0,
              "#0d0887"
             ],
             [
              0.1111111111111111,
              "#46039f"
             ],
             [
              0.2222222222222222,
              "#7201a8"
             ],
             [
              0.3333333333333333,
              "#9c179e"
             ],
             [
              0.4444444444444444,
              "#bd3786"
             ],
             [
              0.5555555555555556,
              "#d8576b"
             ],
             [
              0.6666666666666666,
              "#ed7953"
             ],
             [
              0.7777777777777778,
              "#fb9f3a"
             ],
             [
              0.8888888888888888,
              "#fdca26"
             ],
             [
              1,
              "#f0f921"
             ]
            ],
            "type": "surface"
           }
          ],
          "table": [
           {
            "cells": {
             "fill": {
              "color": "#EBF0F8"
             },
             "line": {
              "color": "white"
             }
            },
            "header": {
             "fill": {
              "color": "#C8D4E3"
             },
             "line": {
              "color": "white"
             }
            },
            "type": "table"
           }
          ]
         },
         "layout": {
          "annotationdefaults": {
           "arrowcolor": "#2a3f5f",
           "arrowhead": 0,
           "arrowwidth": 1
          },
          "coloraxis": {
           "colorbar": {
            "outlinewidth": 0,
            "ticks": ""
           }
          },
          "colorscale": {
           "diverging": [
            [
             0,
             "#8e0152"
            ],
            [
             0.1,
             "#c51b7d"
            ],
            [
             0.2,
             "#de77ae"
            ],
            [
             0.3,
             "#f1b6da"
            ],
            [
             0.4,
             "#fde0ef"
            ],
            [
             0.5,
             "#f7f7f7"
            ],
            [
             0.6,
             "#e6f5d0"
            ],
            [
             0.7,
             "#b8e186"
            ],
            [
             0.8,
             "#7fbc41"
            ],
            [
             0.9,
             "#4d9221"
            ],
            [
             1,
             "#276419"
            ]
           ],
           "sequential": [
            [
             0,
             "#0d0887"
            ],
            [
             0.1111111111111111,
             "#46039f"
            ],
            [
             0.2222222222222222,
             "#7201a8"
            ],
            [
             0.3333333333333333,
             "#9c179e"
            ],
            [
             0.4444444444444444,
             "#bd3786"
            ],
            [
             0.5555555555555556,
             "#d8576b"
            ],
            [
             0.6666666666666666,
             "#ed7953"
            ],
            [
             0.7777777777777778,
             "#fb9f3a"
            ],
            [
             0.8888888888888888,
             "#fdca26"
            ],
            [
             1,
             "#f0f921"
            ]
           ],
           "sequentialminus": [
            [
             0,
             "#0d0887"
            ],
            [
             0.1111111111111111,
             "#46039f"
            ],
            [
             0.2222222222222222,
             "#7201a8"
            ],
            [
             0.3333333333333333,
             "#9c179e"
            ],
            [
             0.4444444444444444,
             "#bd3786"
            ],
            [
             0.5555555555555556,
             "#d8576b"
            ],
            [
             0.6666666666666666,
             "#ed7953"
            ],
            [
             0.7777777777777778,
             "#fb9f3a"
            ],
            [
             0.8888888888888888,
             "#fdca26"
            ],
            [
             1,
             "#f0f921"
            ]
           ]
          },
          "colorway": [
           "#636efa",
           "#EF553B",
           "#00cc96",
           "#ab63fa",
           "#FFA15A",
           "#19d3f3",
           "#FF6692",
           "#B6E880",
           "#FF97FF",
           "#FECB52"
          ],
          "font": {
           "color": "#2a3f5f"
          },
          "geo": {
           "bgcolor": "white",
           "lakecolor": "white",
           "landcolor": "#E5ECF6",
           "showlakes": true,
           "showland": true,
           "subunitcolor": "white"
          },
          "hoverlabel": {
           "align": "left"
          },
          "hovermode": "closest",
          "mapbox": {
           "style": "light"
          },
          "paper_bgcolor": "white",
          "plot_bgcolor": "#E5ECF6",
          "polar": {
           "angularaxis": {
            "gridcolor": "white",
            "linecolor": "white",
            "ticks": ""
           },
           "bgcolor": "#E5ECF6",
           "radialaxis": {
            "gridcolor": "white",
            "linecolor": "white",
            "ticks": ""
           }
          },
          "scene": {
           "xaxis": {
            "backgroundcolor": "#E5ECF6",
            "gridcolor": "white",
            "gridwidth": 2,
            "linecolor": "white",
            "showbackground": true,
            "ticks": "",
            "zerolinecolor": "white"
           },
           "yaxis": {
            "backgroundcolor": "#E5ECF6",
            "gridcolor": "white",
            "gridwidth": 2,
            "linecolor": "white",
            "showbackground": true,
            "ticks": "",
            "zerolinecolor": "white"
           },
           "zaxis": {
            "backgroundcolor": "#E5ECF6",
            "gridcolor": "white",
            "gridwidth": 2,
            "linecolor": "white",
            "showbackground": true,
            "ticks": "",
            "zerolinecolor": "white"
           }
          },
          "shapedefaults": {
           "line": {
            "color": "#2a3f5f"
           }
          },
          "ternary": {
           "aaxis": {
            "gridcolor": "white",
            "linecolor": "white",
            "ticks": ""
           },
           "baxis": {
            "gridcolor": "white",
            "linecolor": "white",
            "ticks": ""
           },
           "bgcolor": "#E5ECF6",
           "caxis": {
            "gridcolor": "white",
            "linecolor": "white",
            "ticks": ""
           }
          },
          "title": {
           "x": 0.05
          },
          "xaxis": {
           "automargin": true,
           "gridcolor": "white",
           "linecolor": "white",
           "ticks": "",
           "title": {
            "standoff": 15
           },
           "zerolinecolor": "white",
           "zerolinewidth": 2
          },
          "yaxis": {
           "automargin": true,
           "gridcolor": "white",
           "linecolor": "white",
           "ticks": "",
           "title": {
            "standoff": 15
           },
           "zerolinecolor": "white",
           "zerolinewidth": 2
          }
         }
        },
        "title": {
         "text": "t-SNE"
        },
        "width": 800,
        "xaxis": {
         "anchor": "y",
         "domain": [
          0,
          1
         ],
         "title": {
          "text": "x"
         }
        },
        "yaxis": {
         "anchor": "x",
         "domain": [
          0,
          1
         ],
         "title": {
          "text": "y"
         }
        }
       }
      }
     },
     "metadata": {},
     "output_type": "display_data"
    }
   ],
   "source": [
    "over_plot_preds(val_actions, val_labels, unseen_pred_actions[:30, :], unseen_labels[:30], val_lm)"
   ]
  },
  {
   "cell_type": "code",
   "execution_count": null,
   "metadata": {},
   "outputs": [
    {
     "name": "stderr",
     "output_type": "stream",
     "text": [
      "unseen: 100%|██████████| 175/175 [00:17<00:00, 10.01batch/s, loss=0.324]\n"
     ]
    },
    {
     "data": {
      "image/png": "[encoded data removed]",
      "text/plain": [
       "<Figure size 640x480 with 2 Axes>"
      ]
     },
     "metadata": {},
     "output_type": "display_data"
    },
    {
     "name": "stdout",
     "output_type": "stream",
     "text": [
      "Overall accuracy: 0.194\n",
      "\n",
      "                   precision     recall   f1-score rel. freq. abs. freq.|\t biggest thieves\n",
      "\n",
      "        standing       0.208      0.134      0.163      0.331       1853|\t watching TV: 0.866,\tascending stairs: 0.000,\t\n",
      "  house cleaning       1.000      0.001      0.001      0.329       1840|\t watching TV: 0.865,\tstanding: 0.113,\tascending stairs: 0.022,\t\n",
      "ascending stairs       0.369      0.022      0.042      0.193       1078|\t standing: 0.671,\twatching TV: 0.307,\t\n",
      "     watching TV       0.188      0.982      0.315      0.148        829|\t standing: 0.018,\tascending stairs: 0.000,\t\n",
      "\n",
      "----------------------------------------------------------------------------------------------------\n",
      "     avg / total       0.496      0.194      0.109        1.0       5600|\t      \n",
      "\n"
     ]
    }
   ],
   "source": [
    "test_metrics, _, _ = eval_step1(imu_model, test_dl, unseen_action_ft, unseen_action_label, imu_loss_module, device=device, class_names=[all_classes[i] for i in unseen_classes], class_ids=unseen_classes,  target_feat_met=test_dt.getClassAttrs(), phase='unseen', loss_alpha=0.8, batch_size=config['batch_size'], neighs=10)\n"
   ]
  },
  {
   "cell_type": "code",
   "execution_count": null,
   "metadata": {},
   "outputs": [],
   "source": []
  },
  {
   "cell_type": "code",
   "execution_count": null,
   "metadata": {},
   "outputs": [],
   "source": []
  }
 ],
 "metadata": {
  "kernelspec": {
   "display_name": "Python 3.8.13 ('mvts_trans')",
   "language": "python",
   "name": "python3"
  },
  "language_info": {
   "codemirror_mode": {
    "name": "ipython",
    "version": 3
   },
   "file_extension": ".py",
   "mimetype": "text/x-python",
   "name": "python",
   "nbconvert_exporter": "python",
   "pygments_lexer": "ipython3",
   "version": "3.8.13"
  },
  "orig_nbformat": 4,
  "vscode": {
   "interpreter": {
    "hash": "ccc35149ad8fa032444ebff1245e6ef176e6c1ce3af8dec48e3374f21a6b0f27"
   }
  }
 },
 "nbformat": 4,
 "nbformat_minor": 2
}
