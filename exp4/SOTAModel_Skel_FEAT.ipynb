{
 "cells": [
  {
   "cell_type": "markdown",
   "metadata": {},
   "source": [
    "#### Benchmaking Experiment 006b\n",
    "- benchmarking model architecture -3 with PAMAP2, DaLiAc and UTD-MHAD datasets\n",
    "- Model : Model4\n",
    "- Dataset : PAMAP2\n",
    "- Semantic Space : Glove50\n",
    "- Cross Validation : 5-fold fixed classes\n",
    "- Feature Loss : MSELoss"
   ]
  },
  {
   "cell_type": "code",
   "execution_count": 1,
   "metadata": {},
   "outputs": [],
   "source": [
    "import os \n",
    "from datetime import date, datetime\n",
    "from tqdm import tqdm\n",
    "from copy import deepcopy\n",
    "import numpy as np \n",
    "import pandas as pd\n",
    "import json\n",
    "from collections import defaultdict, OrderedDict\n",
    "\n",
    "import torch \n",
    "from torch import nn, Tensor\n",
    "from torch.nn import functional as F\n",
    "from torch.nn.modules import MultiheadAttention, Linear, Dropout, BatchNorm1d, TransformerEncoderLayer\n",
    "from torch.utils.data import Dataset, DataLoader\n",
    "from torch.optim import Adam\n",
    "from torch.nn import MSELoss\n",
    "\n",
    "import numpy.random as random\n",
    "from src.datasets.data import SPReader\n",
    "from src.datasets.dataset import PAMAP2Dataset\n",
    "from src.utils.analysis import action_evaluator\n",
    "from src.datasets.utils import load_attribute\n",
    "\n",
    "from src.models.loss import FeatureLoss, AttributeLoss\n",
    "\n",
    "# from src.running import train_step1, eval_step1"
   ]
  },
  {
   "cell_type": "code",
   "execution_count": 2,
   "metadata": {},
   "outputs": [],
   "source": [
    "from src.models.ts_transformer import RelativeGlobalAttention\n",
    "from src.utils.losses import *\n",
    "from src.utils.analysis import action_evaluator\n",
    "\n",
    "from sklearn.manifold import TSNE\n",
    "from umap import UMAP\n",
    "\n",
    "import matplotlib.pyplot as plt \n",
    "import seaborn as sns \n",
    "import plotly.express as px"
   ]
  },
  {
   "cell_type": "code",
   "execution_count": 3,
   "metadata": {},
   "outputs": [],
   "source": [
    "# setup model configurations\n",
    "config = {\n",
    "    # general information\n",
    "    \"experiment-name\": \"test-001\", \n",
    "    \"datetime\": date.today(),\n",
    "    \"device\": \"gpu\",\n",
    "    \"dataset\": \"PAMAP2\",\n",
    "    \"Model\": \"SOTAEmbedding\",\n",
    "    \"model_params\":{\n",
    "        \"linear_filters\":[1024,1024,1024,512],\n",
    "        \"input_feat\":36,\n",
    "        \"dropout\":0.1,\n",
    "    },\n",
    "    \"folding\": True,\n",
    "    \"lr\": 0.0001,\n",
    "    \"n_epochs\": 15,\n",
    "    \"optimizer\": \"adam\",\n",
    "    \"batch_size\": 32,\n",
    "    \"seen_split\": 0.2,\n",
    "    \"unseen_split\": 0.8,\n",
    "    \"ae_lr\": 0.0001,\n",
    "    \"ae_alpha\": 0.9,\n",
    "    \"seq_len\": 50,\n",
    "    \"feat_size\": 512,\n",
    "}"
   ]
  },
  {
   "cell_type": "code",
   "execution_count": 4,
   "metadata": {
    "collapsed": false
   },
   "outputs": [],
   "source": [
    "def save_model(model,model_name,unique_name,fold_id):\n",
    "    PATH = f\"{models_saves}/{model_name}\"\n",
    "    os.makedirs(PATH,exist_ok=True)\n",
    "    torch.save({\n",
    "        \"n_epochs\" : config[\"n_epochs\"],\n",
    "        \"model_state_dict\":model.state_dict(),\n",
    "        \"config\": config\n",
    "    }, f\"{PATH}/{unique_name}_{fold_id}.pt\")\n",
    "\n",
    "model_iden = \"fold\"\n",
    "notebook_iden = \"SORTModel_feature\"\n",
    "models_saves = \"model_saves\""
   ]
  },
  {
   "cell_type": "code",
   "execution_count": 5,
   "metadata": {
    "collapsed": false
   },
   "outputs": [
    {
     "name": "stdout",
     "output_type": "stream",
     "text": [
      "Reading file 1 of 14\n",
      "Reading file 2 of 14\n",
      "Reading file 3 of 14\n",
      "Reading file 4 of 14\n",
      "Reading file 5 of 14\n",
      "Reading file 6 of 14\n",
      "Reading file 7 of 14\n",
      "Reading file 8 of 14\n",
      "Reading file 9 of 14\n",
      "Reading file 10 of 14\n",
      "Reading file 11 of 14\n",
      "Reading file 12 of 14\n",
      "Reading file 13 of 14\n",
      "Reading file 14 of 14\n"
     ]
    },
    {
     "name": "stderr",
     "output_type": "stream",
     "text": [
      "g:\\FYP\\Codebases\\Pose-AE\\src\\datasets\\data.py:1094: VisibleDeprecationWarning:\n",
      "\n",
      "Creating an ndarray from ragged nested sequences (which is a list-or-tuple of lists-or-tuples-or ndarrays with different lengths or shapes) is deprecated. If you meant to do this, you must specify 'dtype=object' when creating the ndarray.\n",
      "\n"
     ]
    }
   ],
   "source": [
    "dataReader = SPReader('data/PAMAP2_Dataset/Protocol/')\n",
    "actionList = dataReader.idToLabel"
   ]
  },
  {
   "cell_type": "markdown",
   "metadata": {},
   "source": [
    "---\n",
    "Model Building"
   ]
  },
  {
   "cell_type": "code",
   "execution_count": 6,
   "metadata": {},
   "outputs": [],
   "source": [
    "class SOTAEmbedding(nn.Module):\n",
    "    def __init__(self, linear_filters=[1024,1024,1024,2048],input_feat=36, dropout=0.1):\n",
    "        super(SOTAEmbedding, self).__init__()\n",
    "        self.input_feat = input_feat\n",
    "        self.linear_filters = linear_filters\n",
    "        self.input_feat = input_feat\n",
    "        self.dropout = dropout\n",
    "\n",
    "        self.linear1 = nn.Linear(input_feat,linear_filters[0])\n",
    "        self.batch_norm1 = nn.BatchNorm1d(linear_filters[0])\n",
    "        self.linear2 = nn.Linear(linear_filters[0],linear_filters[1])\n",
    "        self.batch_norm2 = nn.BatchNorm1d(linear_filters[1])\n",
    "        self.linear3 = nn.Linear(linear_filters[1],linear_filters[2])\n",
    "        self.batch_norm3 = nn.BatchNorm1d(linear_filters[2])\n",
    "        self.linear4 = nn.Linear(linear_filters[2]+linear_filters[1]+linear_filters[0],linear_filters[3])\n",
    "        self.batch_norm4 = nn.BatchNorm1d(linear_filters[3])\n",
    "        self.act = F.relu\n",
    "\n",
    "\n",
    "\n",
    "    def forward(self, x):\n",
    "        #layer1\n",
    "        out1 = self.linear1(x)\n",
    "        out1 = self.batch_norm1(out1)\n",
    "        out1 = self.act(out1)\n",
    "\n",
    "        #layer2\n",
    "        out2 = self.linear2(out1)\n",
    "        out2 = self.batch_norm2(out2)\n",
    "        out2 = self.act(out2)\n",
    "\n",
    "        #layer3\n",
    "        out3 = self.linear3(out2)\n",
    "        out3 = self.batch_norm3(out3)\n",
    "        out3 = self.act(out3)\n",
    "\n",
    "        concat = torch.cat([out1,out2,out3],-1)\n",
    "\n",
    "        #layer4\n",
    "        out4 = self.linear4(concat)\n",
    "        out4 = self.batch_norm4(out4)\n",
    "        out4 = self.act(out4)\n",
    "        return out4"
   ]
  },
  {
   "cell_type": "code",
   "execution_count": 7,
   "metadata": {
    "collapsed": false
   },
   "outputs": [],
   "source": [
    "model = SOTAEmbedding(\n",
    "    linear_filters=config[\"model_params\"][\"linear_filters\"],\n",
    "    input_feat=config[\"model_params\"][\"input_feat\"],\n",
    "    dropout=config[\"model_params\"][\"dropout\"]\n",
    ")"
   ]
  },
  {
   "cell_type": "code",
   "execution_count": 8,
   "metadata": {
    "collapsed": false
   },
   "outputs": [
    {
     "data": {
      "text/plain": [
       "torch.Size([32, 512])"
      ]
     },
     "execution_count": 8,
     "metadata": {},
     "output_type": "execute_result"
    }
   ],
   "source": [
    "emb = model(torch.randn((32,36)))\n",
    "emb.size()"
   ]
  },
  {
   "cell_type": "code",
   "execution_count": 9,
   "metadata": {
    "collapsed": false
   },
   "outputs": [
    {
     "data": {
      "text/plain": [
       "tensor([[1.2130, 1.7360, 0.1020,  ..., 0.0000, 0.6398, 1.1855],\n",
       "        [2.4306, 0.0000, 0.5199,  ..., 0.0000, 0.0000, 0.0000],\n",
       "        [0.0000, 0.4707, 0.3717,  ..., 1.9188, 0.0000, 0.0000],\n",
       "        ...,\n",
       "        [0.8653, 0.0000, 0.5016,  ..., 0.4497, 0.2512, 1.1900],\n",
       "        [0.0000, 0.2927, 1.2486,  ..., 0.1873, 0.0000, 0.0000],\n",
       "        [0.3993, 1.3712, 1.5187,  ..., 0.1846, 0.6896, 0.0000]],\n",
       "       grad_fn=<ReluBackward0>)"
      ]
     },
     "execution_count": 9,
     "metadata": {},
     "output_type": "execute_result"
    }
   ],
   "source": [
    "emb"
   ]
  },
  {
   "cell_type": "code",
   "execution_count": 10,
   "metadata": {},
   "outputs": [],
   "source": [
    "\n",
    "class BiLSTMEncoder(nn.Module):\n",
    "    def __init__(self,seq_len, input_size, hidden_size,linear_filters,embedding_size:int, num_layers = 1,bidirectional=True,batch_size=32):\n",
    "        super(BiLSTMEncoder, self).__init__()\n",
    "        self.input_size = input_size\n",
    "        self.hidden_size = hidden_size\n",
    "        self.num_layers = num_layers\n",
    "        self.linear_filters = linear_filters\n",
    "        self.embedding_size = embedding_size\n",
    "        self.bidirectional = bidirectional\n",
    "        self.batch_size = batch_size\n",
    "        self.seq_len = seq_len\n",
    "\n",
    "        # define LSTM layer\n",
    "        self.layers = []\n",
    "\n",
    "        # add linear layers \n",
    "        for __id,layer_out in enumerate(self.linear_filters):\n",
    "            if __id == 0:\n",
    "                self.layers.append(nn.Linear(self.input_size, layer_out))\n",
    "            else:\n",
    "                self.layers.append(nn.Linear(self.linear_filters[__id-1], layer_out))\n",
    "\n",
    "        # add lstm layer\n",
    "        self.lstm = nn.LSTM(input_size = layer_out, hidden_size = self.hidden_size,\n",
    "                            num_layers = self.num_layers, bidirectional=self.bidirectional,\n",
    "                            batch_first=True)\n",
    "        self.net = nn.Sequential(*self.layers)\n",
    "\n",
    "        #add embedding out\n",
    "        if bidirectional:\n",
    "            self.out_linear = nn.Linear(self.hidden_size*4, self.embedding_size)\n",
    "        else:\n",
    "            self.out_linear = nn.Linear(self.hidden_size*2, self.embedding_size)\n",
    "\n",
    "        \n",
    "    def forward(self, x_input):\n",
    "        '''\n",
    "        : param x_input:               input of shape (seq_len, # in batch, input_size)\n",
    "        : return lstm_out, hidden:     lstm_out gives all the hidden states in the sequence; hidden gives the hidden state and cell state for the last element in the sequence                         \n",
    "        '''\n",
    "        \n",
    "        x = self.net(x_input)\n",
    "        lstm_out, self.hidden = self.lstm(x)\n",
    "        hidden_transformed = torch.concat(self.hidden,0)\n",
    "        hidden_transformed = torch.transpose(hidden_transformed,0,1)\n",
    "        hidden_transformed = torch.flatten(hidden_transformed,start_dim=1)\n",
    "        hidden_transformed = self.out_linear(hidden_transformed)\n",
    "        \n",
    "        return lstm_out, hidden_transformed\n",
    "\n",
    "    \n",
    "class BiLSTMDecoder(nn.Module):\n",
    "    def __init__(self,seq_len, input_size, hidden_size, linear_filters,embedding_size:int, num_layers = 1,bidirectional=True,batch_size=32, device='cpu'):\n",
    "        super(BiLSTMDecoder, self).__init__()\n",
    "        self.input_size = input_size\n",
    "        self.hidden_size = hidden_size\n",
    "        self.num_layers = num_layers\n",
    "        self.linear_filters = linear_filters[::-1]\n",
    "        self.embedding_size = embedding_size\n",
    "        self.bidirectional = bidirectional\n",
    "        self.batch_size = batch_size\n",
    "        self.seq_len = seq_len\n",
    "        self.device = device\n",
    "\n",
    "        if bidirectional:\n",
    "            self.input_linear = nn.Linear(self.embedding_size,4*self.hidden_size)\n",
    "        else:\n",
    "            self.input_linear = nn.Linear(self.embedding_size,2*self.hidden_size)\n",
    "\n",
    "        # define LSTM layer\n",
    "        self.layers = []\n",
    "        # add lstm\n",
    "        self.lstm = nn.LSTM(input_size = self.linear_filters[0], hidden_size = self.hidden_size,\n",
    "                            num_layers = self.num_layers, bidirectional=True,\n",
    "                            batch_first=bidirectional)\n",
    "              \n",
    "        # add linear layers \n",
    "        if bidirectional:\n",
    "            self.layers.append(nn.Linear(2*hidden_size,self.linear_filters[0]))\n",
    "        else:\n",
    "            self.layers.append(nn.Linear(hidden_size,self.linear_filters[0]))\n",
    "\n",
    "        for __id,layer_in in enumerate(self.linear_filters):\n",
    "            if __id == len(linear_filters)-1:\n",
    "                self.layers.append(nn.Linear(layer_in,self.input_size))\n",
    "            else:\n",
    "                self.layers.append(nn.Linear(layer_in,self.linear_filters[__id+1]))\n",
    "\n",
    "        self.net = nn.Sequential(*self.layers)\n",
    "\n",
    "    def forward(self,encoder_hidden):\n",
    "        '''\n",
    "        : param x_input:               input of shape (seq_len, # in batch, input_size)\n",
    "        : return lstm_out, hidden:     lstm_out gives all the hidden states in the sequence; hidden gives the hidden state and cell state for the last element in the sequence                         \n",
    "        '''\n",
    "        \n",
    "        \n",
    "        hidden_shape = encoder_hidden.shape\n",
    "        encoder_hidden = self.input_linear(encoder_hidden)\n",
    "        \n",
    "        if self.bidirectional:\n",
    "            hidden = encoder_hidden.view((self.batch_size,4,self.hidden_size))\n",
    "            # print(hidden.shape)\n",
    "            hidden = torch.transpose(hidden,1,0)\n",
    "            h1,h2,c1,c2 = torch.unbind(hidden,0)\n",
    "            h,c = torch.stack((h1,h2)),torch.stack((c1,c2))\n",
    "        else:\n",
    "            hidden = encoder_hidden.view((self.batch_size,2,self.hidden_size))\n",
    "            hidden = torch.transpose(hidden,1,0)\n",
    "            h,c = torch.unbind(hidden,0)\n",
    "        \n",
    "        dummy_input = torch.rand((self.batch_size,self.seq_len,self.hidden_size), requires_grad=True)\n",
    "        dummy_input = dummy_input.to(self.device)\n",
    "        \n",
    "        lstm_out, self.hidden = self.lstm(dummy_input,(h,c))\n",
    "        x = self.net(lstm_out)\n",
    "        return x\n",
    "\n",
    "class SkeletonAE(nn.Module):\n",
    "    def __init__(self,seq_len, input_size, hidden_size, linear_filters=[128,256,512],embedding_size:int=256, num_layers = 1,bidirectional=True, batch_size=32, device='cpu'):\n",
    "        super(SkeletonAE, self).__init__()\n",
    "        self.input_size = input_size\n",
    "        self.hidden_size = hidden_size\n",
    "        self.num_layers = num_layers\n",
    "        self.linear_filters = linear_filters[::-1]\n",
    "        self.embedding_size = embedding_size\n",
    "        self.bidirectional = bidirectional\n",
    "        self.batch_size = batch_size\n",
    "        self.seq_len = seq_len\n",
    "        \n",
    "        self.encoder = BiLSTMEncoder(seq_len, input_size, hidden_size, linear_filters,embedding_size, num_layers = 1,bidirectional=True,batch_size=32)\n",
    "        self.decoder = BiLSTMDecoder(seq_len, input_size, hidden_size, linear_filters,embedding_size, num_layers = 1,bidirectional=True,batch_size=32, device=device)\n",
    "        \n",
    "    def forward(self,x):\n",
    "        lstm_out,embedding = self.encoder(x)\n",
    "        decoder_out = self.decoder(embedding)\n",
    "        \n",
    "        return decoder_out, embedding  \n",
    "        "
   ]
  },
  {
   "cell_type": "code",
   "execution_count": 11,
   "metadata": {},
   "outputs": [
    {
     "data": {
      "text/plain": [
       "<All keys matched successfully>"
      ]
     },
     "execution_count": 11,
     "metadata": {},
     "output_type": "execute_result"
    }
   ],
   "source": [
    "ae_model = SkeletonAE(seq_len=50, input_size=36, hidden_size=512, linear_filters=[128,256,512], embedding_size=128, num_layers=1,bidirectional=True,batch_size=32)\n",
    "prep_dir = './data/Pre-trained Skeleton models/PAMAP2/epoch100_emb128.pt'\n",
    "ae_model.load_state_dict(torch.load(prep_dir)[\"model_state_dict\"])"
   ]
  },
  {
   "cell_type": "markdown",
   "metadata": {},
   "source": [
    "---"
   ]
  },
  {
   "cell_type": "code",
   "execution_count": 12,
   "metadata": {},
   "outputs": [],
   "source": [
    "from sklearn.metrics import accuracy_score\n",
    "from sklearn.metrics.pairwise import cosine_similarity"
   ]
  },
  {
   "cell_type": "markdown",
   "metadata": {},
   "source": [
    "---"
   ]
  },
  {
   "cell_type": "code",
   "execution_count": 13,
   "metadata": {},
   "outputs": [],
   "source": [
    "if config['device'] == 'cpu':\n",
    "    device = \"cpu\"\n",
    "else:\n",
    "    device = torch.device(\"cuda:0\" if torch.cuda.is_available() else \"cpu\")"
   ]
  },
  {
   "cell_type": "code",
   "execution_count": 14,
   "metadata": {},
   "outputs": [
    {
     "data": {
      "text/plain": [
       "(124,)"
      ]
     },
     "execution_count": 14,
     "metadata": {},
     "output_type": "execute_result"
    }
   ],
   "source": [
    "dataReader.data.shape"
   ]
  },
  {
   "cell_type": "code",
   "execution_count": 15,
   "metadata": {},
   "outputs": [],
   "source": [
    "# run 5-fold running\n",
    "fold_classes = [['watching TV', 'house cleaning', 'standing', 'ascending stairs'], ['walking', 'rope jumping', 'sitting', 'descending stairs'], ['playing soccer', 'lying', 'vacuum cleaning', 'computer work'], ['cycling', 'running', 'Nordic walking'], ['ironing', 'car driving', 'folding laundry']]\n",
    "\n",
    "fold_cls_ids = [[actionList.index(i) for i in j] for j in fold_classes]"
   ]
  },
  {
   "cell_type": "code",
   "execution_count": 16,
   "metadata": {},
   "outputs": [],
   "source": [
    "dts = PAMAP2Dataset"
   ]
  },
  {
   "cell_type": "code",
   "execution_count": 17,
   "metadata": {
    "collapsed": false
   },
   "outputs": [
    {
     "name": "stdout",
     "output_type": "stream",
     "text": [
      "(180, 60, 36)\n",
      "(array(['Nordic walking', 'ascending stairs', 'car driving',\n",
      "       'computer work', 'cycling', 'descending stairs', 'folding laundry',\n",
      "       'house cleaning', 'ironing', 'lying', 'playing soccer',\n",
      "       'rope jumping', 'running', 'sitting', 'standing',\n",
      "       'vacuum cleaning', 'walking', 'watching TV'], dtype='<U17'), array([10, 10, 10, 10, 10, 10, 10, 10, 10, 10, 10, 10, 10, 10, 10, 10, 10,\n",
      "       10], dtype=int64))\n",
      "[(1, 'lying'), (2, 'sitting'), (3, 'standing'), (4, 'walking'), (5, 'running'), (6, 'cycling'), (7, 'Nordic walking'), (9, 'watching TV'), (10, 'computer work'), (11, 'car driving'), (12, 'ascending stairs'), (13, 'descending stairs'), (16, 'vacuum cleaning'), (17, 'ironing'), (18, 'folding laundry'), (19, 'house cleaning'), (20, 'playing soccer'), (24, 'rope jumping')]\n",
      "['Nordic walking' 'ascending stairs' 'car driving' 'computer work'\n",
      " 'cycling' 'descending stairs' 'folding laundry' 'house cleaning'\n",
      " 'ironing' 'lying' 'playing soccer' 'rope jumping' 'running' 'sitting'\n",
      " 'standing' 'vacuum cleaning' 'walking' 'watching TV']\n"
     ]
    }
   ],
   "source": [
    "skeleton_data = np.load('./data/skeleton_k10_movements.npz')\n",
    "skeleton_classes, skeleton_mov = skeleton_data['arr_0'], skeleton_data['arr_1']\n",
    "\n",
    "print(skeleton_mov.shape)\n",
    "print(np.unique(skeleton_classes, return_counts=True))\n",
    "print(dataReader.label_map)\n",
    "print(np.unique(skeleton_classes))"
   ]
  },
  {
   "cell_type": "code",
   "execution_count": 18,
   "metadata": {
    "collapsed": false
   },
   "outputs": [],
   "source": [
    "label2Id = {c[1]:i for i,c in enumerate(dataReader.label_map)}\n",
    "action_dict = defaultdict(list)\n",
    "skeleton_Ids = []\n",
    "for i, a in enumerate(skeleton_classes):\n",
    "    action_dict[label2Id[a]].append(i)\n",
    "    skeleton_Ids.append(label2Id[a])\n",
    "\n",
    "action_dict = OrderedDict(list(action_dict.items()))"
   ]
  },
  {
   "cell_type": "code",
   "execution_count": 19,
   "metadata": {
    "collapsed": false
   },
   "outputs": [],
   "source": [
    "def selecting_video_prototypes(prototypes:np.array,classes:np.array,vid_class_name:np.array):\n",
    "    selected = []\n",
    "    for tar in vid_class_name:\n",
    "        indexes = np.where(classes == tar)\n",
    "        selected.append(torch.from_numpy(prototypes[random.choice(indexes[0])]))\n",
    "\n",
    "    return torch.stack(selected)"
   ]
  },
  {
   "cell_type": "code",
   "execution_count": 20,
   "metadata": {
    "collapsed": false
   },
   "outputs": [
    {
     "data": {
      "text/plain": [
       "[(1, 'lying'),\n",
       " (2, 'sitting'),\n",
       " (3, 'standing'),\n",
       " (4, 'walking'),\n",
       " (5, 'running'),\n",
       " (6, 'cycling'),\n",
       " (7, 'Nordic walking'),\n",
       " (9, 'watching TV'),\n",
       " (10, 'computer work'),\n",
       " (11, 'car driving'),\n",
       " (12, 'ascending stairs'),\n",
       " (13, 'descending stairs'),\n",
       " (16, 'vacuum cleaning'),\n",
       " (17, 'ironing'),\n",
       " (18, 'folding laundry'),\n",
       " (19, 'house cleaning'),\n",
       " (20, 'playing soccer'),\n",
       " (24, 'rope jumping')]"
      ]
     },
     "execution_count": 20,
     "metadata": {},
     "output_type": "execute_result"
    }
   ],
   "source": [
    "dataReader.label_map"
   ]
  },
  {
   "cell_type": "code",
   "execution_count": 21,
   "metadata": {
    "collapsed": false
   },
   "outputs": [],
   "source": [
    "from collections import defaultdict\n",
    "\n",
    "label2Id = {c[1]:i for i,c in enumerate(dataReader.label_map)}\n",
    "action_dict = defaultdict(list)\n",
    "skeleton_Ids = []\n",
    "for i, a in enumerate(skeleton_classes):\n",
    "    action_dict[label2Id[a]].append(i)\n",
    "    skeleton_Ids.append(label2Id[a])"
   ]
  },
  {
   "cell_type": "code",
   "execution_count": 22,
   "metadata": {
    "collapsed": false
   },
   "outputs": [
    {
     "data": {
      "text/plain": [
       "defaultdict(list,\n",
       "            {10: [0, 1, 2, 3, 4, 5, 6, 7, 8, 9],\n",
       "             9: [10, 11, 12, 13, 14, 15, 16, 17, 18, 19],\n",
       "             8: [20, 21, 22, 23, 24, 25, 26, 27, 28, 29],\n",
       "             5: [30, 31, 32, 33, 34, 35, 36, 37, 38, 39],\n",
       "             11: [40, 41, 42, 43, 44, 45, 46, 47, 48, 49],\n",
       "             14: [50, 51, 52, 53, 54, 55, 56, 57, 58, 59],\n",
       "             15: [60, 61, 62, 63, 64, 65, 66, 67, 68, 69],\n",
       "             13: [70, 71, 72, 73, 74, 75, 76, 77, 78, 79],\n",
       "             0: [80, 81, 82, 83, 84, 85, 86, 87, 88, 89],\n",
       "             6: [90, 91, 92, 93, 94, 95, 96, 97, 98, 99],\n",
       "             16: [100, 101, 102, 103, 104, 105, 106, 107, 108, 109],\n",
       "             17: [110, 111, 112, 113, 114, 115, 116, 117, 118, 119],\n",
       "             4: [120, 121, 122, 123, 124, 125, 126, 127, 128, 129],\n",
       "             1: [130, 131, 132, 133, 134, 135, 136, 137, 138, 139],\n",
       "             2: [140, 141, 142, 143, 144, 145, 146, 147, 148, 149],\n",
       "             12: [150, 151, 152, 153, 154, 155, 156, 157, 158, 159],\n",
       "             3: [160, 161, 162, 163, 164, 165, 166, 167, 168, 169],\n",
       "             7: [170, 171, 172, 173, 174, 175, 176, 177, 178, 179]})"
      ]
     },
     "execution_count": 22,
     "metadata": {},
     "output_type": "execute_result"
    }
   ],
   "source": [
    "action_dict"
   ]
  },
  {
   "cell_type": "code",
   "execution_count": 23,
   "metadata": {
    "collapsed": false
   },
   "outputs": [],
   "source": [
    "data_dict = dataReader.generate(unseen_classes=fold_cls_ids[0], seen_ratio=0.2, unseen_ratio=0.8, window_size=5.21, window_overlap=4.21, resample_freq=20)"
   ]
  },
  {
   "cell_type": "code",
   "execution_count": 24,
   "metadata": {
    "collapsed": false
   },
   "outputs": [
    {
     "data": {
      "text/plain": [
       "dict_keys(['train', 'eval-seen', 'test', 'seen_classes', 'unseen_classes'])"
      ]
     },
     "execution_count": 24,
     "metadata": {},
     "output_type": "execute_result"
    }
   ],
   "source": [
    "data_dict.keys()"
   ]
  },
  {
   "cell_type": "code",
   "execution_count": 25,
   "metadata": {
    "collapsed": false
   },
   "outputs": [
    {
     "data": {
      "text/plain": [
       "((16752, 36), (4189, 36), (5608, 36))"
      ]
     },
     "execution_count": 25,
     "metadata": {},
     "output_type": "execute_result"
    }
   ],
   "source": [
    "data_dict['train']['X'].shape,data_dict['eval-seen']['X'].shape,data_dict[\"test\"][\"X\"].shape"
   ]
  },
  {
   "cell_type": "code",
   "execution_count": 26,
   "metadata": {
    "collapsed": false
   },
   "outputs": [
    {
     "data": {
      "text/plain": [
       "26549"
      ]
     },
     "execution_count": 26,
     "metadata": {},
     "output_type": "execute_result"
    }
   ],
   "source": [
    "data_dict['train']['X'].shape[0]+data_dict['eval-seen']['X'].shape[0]+data_dict[\"test\"][\"X\"].shape[0]"
   ]
  },
  {
   "cell_type": "code",
   "execution_count": 27,
   "metadata": {
    "collapsed": false
   },
   "outputs": [
    {
     "data": {
      "text/plain": [
       "defaultdict(list,\n",
       "            {10: [0, 1, 2, 3, 4, 5, 6, 7, 8, 9],\n",
       "             9: [10, 11, 12, 13, 14, 15, 16, 17, 18, 19],\n",
       "             8: [20, 21, 22, 23, 24, 25, 26, 27, 28, 29],\n",
       "             5: [30, 31, 32, 33, 34, 35, 36, 37, 38, 39],\n",
       "             11: [40, 41, 42, 43, 44, 45, 46, 47, 48, 49],\n",
       "             14: [50, 51, 52, 53, 54, 55, 56, 57, 58, 59],\n",
       "             15: [60, 61, 62, 63, 64, 65, 66, 67, 68, 69],\n",
       "             13: [70, 71, 72, 73, 74, 75, 76, 77, 78, 79],\n",
       "             0: [80, 81, 82, 83, 84, 85, 86, 87, 88, 89],\n",
       "             6: [90, 91, 92, 93, 94, 95, 96, 97, 98, 99],\n",
       "             16: [100, 101, 102, 103, 104, 105, 106, 107, 108, 109],\n",
       "             17: [110, 111, 112, 113, 114, 115, 116, 117, 118, 119],\n",
       "             4: [120, 121, 122, 123, 124, 125, 126, 127, 128, 129],\n",
       "             1: [130, 131, 132, 133, 134, 135, 136, 137, 138, 139],\n",
       "             2: [140, 141, 142, 143, 144, 145, 146, 147, 148, 149],\n",
       "             12: [150, 151, 152, 153, 154, 155, 156, 157, 158, 159],\n",
       "             3: [160, 161, 162, 163, 164, 165, 166, 167, 168, 169],\n",
       "             7: [170, 171, 172, 173, 174, 175, 176, 177, 178, 179]})"
      ]
     },
     "execution_count": 27,
     "metadata": {},
     "output_type": "execute_result"
    }
   ],
   "source": [
    "action_dict"
   ]
  },
  {
   "cell_type": "code",
   "execution_count": 28,
   "metadata": {
    "collapsed": false
   },
   "outputs": [
    {
     "data": {
      "text/plain": [
       "[0, 1, 3, 4, 5, 6, 8, 9, 11, 12, 13, 14, 16, 17]"
      ]
     },
     "execution_count": 28,
     "metadata": {},
     "output_type": "execute_result"
    }
   ],
   "source": [
    "data_dict['seen_classes']"
   ]
  },
  {
   "cell_type": "code",
   "execution_count": 29,
   "metadata": {},
   "outputs": [],
   "source": [
    "class SkeletonDataset(Dataset):\n",
    "    def __init__(self, movements, actions, action_dict, seq_len=60):\n",
    "        super(SkeletonDataset, self).__init__()\n",
    "        self.movements = torch.from_numpy(movements[:, :seq_len, ...])\n",
    "        self.actions = actions\n",
    "        self.action_dict = deepcopy(dict(action_dict))\n",
    "        self.actionsIDs = list(self.action_dict.keys())  \n",
    "\n",
    "    def __getitem__(self, idx):\n",
    "        x1 = self.movements[idx, ...]\n",
    "        action = self.actions[idx]\n",
    "        # partial_idx = random.sample(self.action_dict[action], k=1)[0]\n",
    "        # x2 = self.movements[partial_idx, ...]\n",
    "        label = self.actionsIDs.index(action)\n",
    "        # return np.transpose(x1, (1,0,2)), np.transpose(x2, (1,0,2)), label\n",
    "        return x1, label\n",
    "\n",
    "    def __len__(self):\n",
    "        return self.movements.shape[0]\n",
    "\n",
    "    def getShape(self):\n",
    "        return self.movements[0, ...].shape\n",
    "\n",
    "    def get_actions(self, label):\n",
    "        return self.movements[self.action_dict[label], ...]"
   ]
  },
  {
   "cell_type": "code",
   "execution_count": 30,
   "metadata": {},
   "outputs": [
    {
     "name": "stdout",
     "output_type": "stream",
     "text": [
      "torch.Size([32, 50, 36])\n"
     ]
    }
   ],
   "source": [
    "sample_dt = SkeletonDataset(skeleton_mov, skeleton_Ids, action_dict, seq_len=50)\n",
    "sample_dl = DataLoader(sample_dt, batch_size=config['batch_size'], shuffle=True, pin_memory=True, drop_last=True)\n",
    "for b in sample_dl:\n",
    "    bx1, by = b \n",
    "    # bx = torch.transpose(bx1, 1, 0)\n",
    "    bs, seq_len, ft_in = bx1.shape\n",
    "    print(bx1.shape)\n",
    "    break "
   ]
  },
  {
   "cell_type": "code",
   "execution_count": 31,
   "metadata": {},
   "outputs": [],
   "source": [
    "def ae_train_step1(model, dataloader, optimizer, loss_module, device, batch_size, phase='train', l2_reg=False, loss_alpha=0.7):\n",
    "    model = model.train()\n",
    "    model.to(device)\n",
    "\n",
    "    const_loss = 0 \n",
    "    recons_loss = 0\n",
    "    epoch_loss = 0 \n",
    "\n",
    "    with tqdm(dataloader, unit='batch', desc=phase) as tepoch:\n",
    "        for batch in tepoch:\n",
    "            xa, labels = batch \n",
    "            # post-process \n",
    "            # xa = torch.vstack([x1, x2])  # batch first mode\n",
    "            # device offload \n",
    "            xa = xa.float().to(device)\n",
    "            labels = labels.float()\n",
    "\n",
    "            # set optimizer grad to zero \n",
    "            optimizer.zero_grad()\n",
    "            # get model prediction \n",
    "            with torch.set_grad_enabled(phase=='train'):\n",
    "                skel_output, ft_output = model(xa)\n",
    "\n",
    "            # reconstruct the output \n",
    "            # f1, f2 = torch.split(ft_output, [batch_size//2, batch_size//2], dim=0)\n",
    "            # cons_output = torch.stack([f1.squeeze(1), f2.squeeze(1)], dim=1)\n",
    "            # calc. contrastive loss \n",
    "            con_loss = loss_module['contrast'](ft_output, labels)()\n",
    "            # calc. reconstruction loss \n",
    "            l2_loss = loss_module['recons'](xa, skel_output)\n",
    "            # calc. total loss\n",
    "            # total_loss = con_loss #\n",
    "            total_loss = loss_alpha*con_loss + (1-loss_alpha)*l2_loss\n",
    "\n",
    "            if phase == 'train':\n",
    "                total_loss.backward()\n",
    "                optimizer.step()\n",
    "\n",
    "            metrics = {'contrastive loss ': con_loss.item(), 'reconstruction loss': l2_loss.item()}\n",
    "            with torch.no_grad():\n",
    "                    const_loss += con_loss.item()    \n",
    "                    recons_loss += l2_loss.item()\n",
    "                    epoch_loss += total_loss.item()\n",
    "            tepoch.set_postfix(metrics)\n",
    "\n",
    "    m = len(dataloader)\n",
    "    epoch_metrics = {'total_loss': epoch_loss/m, 'contrastive_loss': const_loss/m, 'reconstruction_loss':recons_loss/m}\n",
    "    return epoch_metrics"
   ]
  },
  {
   "cell_type": "code",
   "execution_count": 48,
   "metadata": {},
   "outputs": [
    {
     "name": "stdout",
     "output_type": "stream",
     "text": [
      "Initiate Skeleton dataset ... \n"
     ]
    },
    {
     "name": "stderr",
     "output_type": "stream",
     "text": [
      "train: 100%|██████████| 5/5 [00:01<00:00,  2.56batch/s, contrastive loss =2.63, reconstruction loss=0.00316]\n",
      "train: 100%|██████████| 5/5 [00:01<00:00,  2.88batch/s, contrastive loss =3.49, reconstruction loss=0.00323]\n",
      "train: 100%|██████████| 5/5 [00:01<00:00,  3.31batch/s, contrastive loss =3.41, reconstruction loss=0.00244]\n",
      "train: 100%|██████████| 5/5 [00:01<00:00,  3.00batch/s, contrastive loss =2.89, reconstruction loss=0.00175]\n",
      "train: 100%|██████████| 5/5 [00:01<00:00,  2.93batch/s, contrastive loss =3.38, reconstruction loss=0.0052]\n",
      "train: 100%|██████████| 5/5 [00:01<00:00,  3.43batch/s, contrastive loss =3.54, reconstruction loss=0.00524]\n",
      "train: 100%|██████████| 5/5 [00:01<00:00,  3.76batch/s, contrastive loss =3.37, reconstruction loss=0.00555]\n",
      "train: 100%|██████████| 5/5 [00:01<00:00,  3.80batch/s, contrastive loss =2.97, reconstruction loss=0.00292]\n",
      "train: 100%|██████████| 5/5 [00:01<00:00,  3.90batch/s, contrastive loss =3.01, reconstruction loss=0.00247]\n",
      "train: 100%|██████████| 5/5 [00:01<00:00,  4.13batch/s, contrastive loss =2.97, reconstruction loss=0.00474]\n",
      "train: 100%|██████████| 5/5 [00:01<00:00,  3.94batch/s, contrastive loss =3.68, reconstruction loss=0.00578]\n",
      "train: 100%|██████████| 5/5 [00:01<00:00,  4.83batch/s, contrastive loss =2.99, reconstruction loss=0.00339]\n",
      "train: 100%|██████████| 5/5 [00:01<00:00,  4.89batch/s, contrastive loss =3.23, reconstruction loss=0.00365]\n",
      "train: 100%|██████████| 5/5 [00:01<00:00,  4.01batch/s, contrastive loss =3.22, reconstruction loss=0.00352]\n",
      "train: 100%|██████████| 5/5 [00:00<00:00,  5.10batch/s, contrastive loss =2.98, reconstruction loss=0.0045]\n",
      "train: 100%|██████████| 5/5 [00:01<00:00,  4.39batch/s, contrastive loss =2.92, reconstruction loss=0.00719]\n",
      "train: 100%|██████████| 5/5 [00:01<00:00,  3.94batch/s, contrastive loss =2.37, reconstruction loss=0.00408]\n",
      "train: 100%|██████████| 5/5 [00:01<00:00,  3.84batch/s, contrastive loss =3.07, reconstruction loss=0.00487]\n",
      "train: 100%|██████████| 5/5 [00:01<00:00,  4.12batch/s, contrastive loss =3.15, reconstruction loss=0.00372]\n",
      "train: 100%|██████████| 5/5 [00:01<00:00,  3.83batch/s, contrastive loss =2.57, reconstruction loss=0.00547]\n",
      "train: 100%|██████████| 5/5 [00:01<00:00,  4.09batch/s, contrastive loss =2.19, reconstruction loss=0.00305]\n",
      "train: 100%|██████████| 5/5 [00:01<00:00,  4.29batch/s, contrastive loss =2.58, reconstruction loss=0.00545]\n",
      "train: 100%|██████████| 5/5 [00:01<00:00,  3.91batch/s, contrastive loss =2.5, reconstruction loss=0.00399]\n",
      "train: 100%|██████████| 5/5 [00:01<00:00,  4.91batch/s, contrastive loss =2.59, reconstruction loss=0.00531]\n",
      "train: 100%|██████████| 5/5 [00:01<00:00,  4.83batch/s, contrastive loss =2.67, reconstruction loss=0.0077]\n",
      "train: 100%|██████████| 5/5 [00:01<00:00,  4.64batch/s, contrastive loss =2.38, reconstruction loss=0.00858]\n",
      "train: 100%|██████████| 5/5 [00:01<00:00,  4.89batch/s, contrastive loss =2.89, reconstruction loss=0.0075]\n",
      "train: 100%|██████████| 5/5 [00:00<00:00,  5.09batch/s, contrastive loss =3.03, reconstruction loss=0.00778]\n",
      "train: 100%|██████████| 5/5 [00:01<00:00,  4.68batch/s, contrastive loss =2.83, reconstruction loss=0.00728]\n",
      "train: 100%|██████████| 5/5 [00:01<00:00,  4.90batch/s, contrastive loss =2.38, reconstruction loss=0.00818]\n",
      "train: 100%|██████████| 5/5 [00:01<00:00,  4.43batch/s, contrastive loss =2.45, reconstruction loss=0.0101]\n",
      "train: 100%|██████████| 5/5 [00:01<00:00,  4.71batch/s, contrastive loss =2.26, reconstruction loss=0.00527]\n",
      "train: 100%|██████████| 5/5 [00:01<00:00,  4.64batch/s, contrastive loss =2.34, reconstruction loss=0.00531]\n",
      "train: 100%|██████████| 5/5 [00:01<00:00,  4.37batch/s, contrastive loss =1.37, reconstruction loss=0.00641]\n",
      "train: 100%|██████████| 5/5 [00:01<00:00,  4.06batch/s, contrastive loss =2.93, reconstruction loss=0.00786]\n",
      "train: 100%|██████████| 5/5 [00:01<00:00,  3.81batch/s, contrastive loss =2.43, reconstruction loss=0.00834]\n",
      "train: 100%|██████████| 5/5 [00:01<00:00,  4.56batch/s, contrastive loss =2.31, reconstruction loss=0.00557]\n",
      "train: 100%|██████████| 5/5 [00:00<00:00,  5.09batch/s, contrastive loss =2.5, reconstruction loss=0.00907]\n",
      "train: 100%|██████████| 5/5 [00:01<00:00,  4.35batch/s, contrastive loss =1.89, reconstruction loss=0.00994]\n",
      "train: 100%|██████████| 5/5 [00:01<00:00,  4.05batch/s, contrastive loss =2.06, reconstruction loss=0.0108]\n",
      "train: 100%|██████████| 5/5 [00:01<00:00,  4.37batch/s, contrastive loss =2.28, reconstruction loss=0.00997]\n",
      "train: 100%|██████████| 5/5 [00:01<00:00,  4.16batch/s, contrastive loss =1.99, reconstruction loss=0.00538]\n",
      "train: 100%|██████████| 5/5 [00:01<00:00,  4.02batch/s, contrastive loss =2.63, reconstruction loss=0.00947]\n",
      "train: 100%|██████████| 5/5 [00:01<00:00,  4.03batch/s, contrastive loss =2.29, reconstruction loss=0.0103]\n",
      "train: 100%|██████████| 5/5 [00:01<00:00,  4.84batch/s, contrastive loss =1.69, reconstruction loss=0.00852]\n",
      "train: 100%|██████████| 5/5 [00:01<00:00,  4.75batch/s, contrastive loss =2.13, reconstruction loss=0.00725]\n",
      "train: 100%|██████████| 5/5 [00:01<00:00,  4.78batch/s, contrastive loss =2.21, reconstruction loss=0.0108]\n",
      "train: 100%|██████████| 5/5 [00:01<00:00,  3.83batch/s, contrastive loss =2.56, reconstruction loss=0.0109]\n",
      "train: 100%|██████████| 5/5 [00:01<00:00,  4.02batch/s, contrastive loss =1.42, reconstruction loss=0.0116]\n",
      "train: 100%|██████████| 5/5 [00:01<00:00,  4.01batch/s, contrastive loss =1.24, reconstruction loss=0.0126]\n",
      "train: 100%|██████████| 5/5 [00:01<00:00,  3.98batch/s, contrastive loss =2.21, reconstruction loss=0.0123]\n",
      "train: 100%|██████████| 5/5 [00:01<00:00,  3.99batch/s, contrastive loss =2.84, reconstruction loss=0.0123]\n",
      "train: 100%|██████████| 5/5 [00:01<00:00,  4.12batch/s, contrastive loss =2.19, reconstruction loss=0.00849]\n",
      "train: 100%|██████████| 5/5 [00:01<00:00,  4.21batch/s, contrastive loss =2.04, reconstruction loss=0.00817]\n",
      "train: 100%|██████████| 5/5 [00:01<00:00,  4.63batch/s, contrastive loss =1.86, reconstruction loss=0.00955]\n",
      "train: 100%|██████████| 5/5 [00:01<00:00,  4.27batch/s, contrastive loss =1.64, reconstruction loss=0.0131]\n",
      "train: 100%|██████████| 5/5 [00:01<00:00,  4.17batch/s, contrastive loss =2.34, reconstruction loss=0.00973]\n",
      "train: 100%|██████████| 5/5 [00:01<00:00,  3.83batch/s, contrastive loss =1.87, reconstruction loss=0.0119]\n",
      "train: 100%|██████████| 5/5 [00:01<00:00,  4.66batch/s, contrastive loss =1.75, reconstruction loss=0.01]\n",
      "train: 100%|██████████| 5/5 [00:01<00:00,  4.60batch/s, contrastive loss =1.79, reconstruction loss=0.00768]\n",
      "train: 100%|██████████| 5/5 [00:01<00:00,  4.30batch/s, contrastive loss =1.38, reconstruction loss=0.0153]\n",
      "train: 100%|██████████| 5/5 [00:01<00:00,  4.73batch/s, contrastive loss =2.22, reconstruction loss=0.0134]\n",
      "train: 100%|██████████| 5/5 [00:01<00:00,  4.04batch/s, contrastive loss =1.38, reconstruction loss=0.00953]\n",
      "train: 100%|██████████| 5/5 [00:01<00:00,  4.51batch/s, contrastive loss =2.52, reconstruction loss=0.0117]\n",
      "train: 100%|██████████| 5/5 [00:01<00:00,  4.67batch/s, contrastive loss =1.77, reconstruction loss=0.0119]\n",
      "train: 100%|██████████| 5/5 [00:01<00:00,  4.96batch/s, contrastive loss =1.49, reconstruction loss=0.00951]\n",
      "train: 100%|██████████| 5/5 [00:01<00:00,  4.33batch/s, contrastive loss =2.11, reconstruction loss=0.0124]\n",
      "train: 100%|██████████| 5/5 [00:01<00:00,  4.57batch/s, contrastive loss =1.21, reconstruction loss=0.0142]\n",
      "train: 100%|██████████| 5/5 [00:01<00:00,  4.22batch/s, contrastive loss =2.06, reconstruction loss=0.0179]\n",
      "train: 100%|██████████| 5/5 [00:01<00:00,  4.41batch/s, contrastive loss =1.65, reconstruction loss=0.0113]\n",
      "train: 100%|██████████| 5/5 [00:01<00:00,  4.43batch/s, contrastive loss =1.68, reconstruction loss=0.00836]\n",
      "train: 100%|██████████| 5/5 [00:01<00:00,  4.29batch/s, contrastive loss =2.05, reconstruction loss=0.0178]\n",
      "train: 100%|██████████| 5/5 [00:01<00:00,  3.81batch/s, contrastive loss =1.46, reconstruction loss=0.0162]\n",
      "train: 100%|██████████| 5/5 [00:01<00:00,  3.69batch/s, contrastive loss =1.62, reconstruction loss=0.0126]\n",
      "train: 100%|██████████| 5/5 [00:01<00:00,  4.04batch/s, contrastive loss =1.36, reconstruction loss=0.0122]\n",
      "train: 100%|██████████| 5/5 [00:01<00:00,  3.63batch/s, contrastive loss =1.8, reconstruction loss=0.0139]\n",
      "train: 100%|██████████| 5/5 [00:01<00:00,  3.85batch/s, contrastive loss =1.97, reconstruction loss=0.0132]\n",
      "train: 100%|██████████| 5/5 [00:01<00:00,  3.47batch/s, contrastive loss =1.52, reconstruction loss=0.0143]\n",
      "train: 100%|██████████| 5/5 [00:01<00:00,  3.72batch/s, contrastive loss =1.47, reconstruction loss=0.0175]\n",
      "train: 100%|██████████| 5/5 [00:01<00:00,  4.57batch/s, contrastive loss =1.7, reconstruction loss=0.0187]\n",
      "train: 100%|██████████| 5/5 [00:01<00:00,  3.99batch/s, contrastive loss =1.96, reconstruction loss=0.0174]\n",
      "train: 100%|██████████| 5/5 [00:01<00:00,  4.40batch/s, contrastive loss =1.14, reconstruction loss=0.0243]\n",
      "train: 100%|██████████| 5/5 [00:01<00:00,  4.22batch/s, contrastive loss =1.9, reconstruction loss=0.0135]\n",
      "train: 100%|██████████| 5/5 [00:01<00:00,  3.83batch/s, contrastive loss =1.11, reconstruction loss=0.0181]\n",
      "train: 100%|██████████| 5/5 [00:01<00:00,  3.84batch/s, contrastive loss =1.14, reconstruction loss=0.0195]\n",
      "train: 100%|██████████| 5/5 [00:01<00:00,  4.69batch/s, contrastive loss =1.56, reconstruction loss=0.0188]\n",
      "train: 100%|██████████| 5/5 [00:01<00:00,  3.91batch/s, contrastive loss =1.13, reconstruction loss=0.0165]\n",
      "train: 100%|██████████| 5/5 [00:01<00:00,  4.41batch/s, contrastive loss =1.23, reconstruction loss=0.0188]\n",
      "train: 100%|██████████| 5/5 [00:01<00:00,  4.37batch/s, contrastive loss =1.47, reconstruction loss=0.0168]\n",
      "train: 100%|██████████| 5/5 [00:01<00:00,  4.11batch/s, contrastive loss =1.68, reconstruction loss=0.0206]\n",
      "train: 100%|██████████| 5/5 [00:01<00:00,  4.47batch/s, contrastive loss =1.53, reconstruction loss=0.0196]\n",
      "train: 100%|██████████| 5/5 [00:01<00:00,  4.33batch/s, contrastive loss =0.86, reconstruction loss=0.0206]\n",
      "train: 100%|██████████| 5/5 [00:01<00:00,  4.54batch/s, contrastive loss =0.86, reconstruction loss=0.0262]\n",
      "train: 100%|██████████| 5/5 [00:01<00:00,  4.54batch/s, contrastive loss =1.03, reconstruction loss=0.0183]\n",
      "train: 100%|██████████| 5/5 [00:01<00:00,  4.40batch/s, contrastive loss =2.1, reconstruction loss=0.0223]\n",
      "train: 100%|██████████| 5/5 [00:01<00:00,  3.82batch/s, contrastive loss =1.26, reconstruction loss=0.0174]\n",
      "train: 100%|██████████| 5/5 [00:01<00:00,  3.77batch/s, contrastive loss =1.25, reconstruction loss=0.0322]\n",
      "train: 100%|██████████| 5/5 [00:01<00:00,  3.63batch/s, contrastive loss =0.885, reconstruction loss=0.0202]\n",
      "train: 100%|██████████| 5/5 [00:01<00:00,  3.52batch/s, contrastive loss =1.04, reconstruction loss=0.0202]\n",
      "train: 100%|██████████| 5/5 [00:01<00:00,  3.59batch/s, contrastive loss =1.09, reconstruction loss=0.0213]\n",
      "train: 100%|██████████| 5/5 [00:01<00:00,  3.79batch/s, contrastive loss =1.42, reconstruction loss=0.0232]\n",
      "train: 100%|██████████| 5/5 [00:01<00:00,  3.89batch/s, contrastive loss =1.2, reconstruction loss=0.0311]\n",
      "train: 100%|██████████| 5/5 [00:01<00:00,  4.07batch/s, contrastive loss =1.07, reconstruction loss=0.0192]\n",
      "train: 100%|██████████| 5/5 [00:01<00:00,  3.53batch/s, contrastive loss =1.57, reconstruction loss=0.0319]\n",
      "train: 100%|██████████| 5/5 [00:01<00:00,  4.60batch/s, contrastive loss =0.663, reconstruction loss=0.026]\n",
      "train: 100%|██████████| 5/5 [00:01<00:00,  4.44batch/s, contrastive loss =1.18, reconstruction loss=0.0248]\n",
      "train: 100%|██████████| 5/5 [00:01<00:00,  4.22batch/s, contrastive loss =0.679, reconstruction loss=0.0312]\n",
      "train: 100%|██████████| 5/5 [00:01<00:00,  4.41batch/s, contrastive loss =0.36, reconstruction loss=0.0269]\n",
      "train: 100%|██████████| 5/5 [00:01<00:00,  4.31batch/s, contrastive loss =1.58, reconstruction loss=0.0276]\n",
      "train: 100%|██████████| 5/5 [00:01<00:00,  4.22batch/s, contrastive loss =0.88, reconstruction loss=0.0249]\n",
      "train: 100%|██████████| 5/5 [00:01<00:00,  4.20batch/s, contrastive loss =0.738, reconstruction loss=0.0223]\n",
      "train: 100%|██████████| 5/5 [00:01<00:00,  4.62batch/s, contrastive loss =0.834, reconstruction loss=0.0223]\n",
      "train: 100%|██████████| 5/5 [00:01<00:00,  4.72batch/s, contrastive loss =0.501, reconstruction loss=0.0169]\n",
      "train: 100%|██████████| 5/5 [00:01<00:00,  4.34batch/s, contrastive loss =0.585, reconstruction loss=0.0319]\n",
      "train: 100%|██████████| 5/5 [00:01<00:00,  3.65batch/s, contrastive loss =0.705, reconstruction loss=0.0335]\n",
      "train: 100%|██████████| 5/5 [00:01<00:00,  3.68batch/s, contrastive loss =0.876, reconstruction loss=0.0265]\n",
      "train: 100%|██████████| 5/5 [00:01<00:00,  3.76batch/s, contrastive loss =0.576, reconstruction loss=0.0211]\n",
      "train: 100%|██████████| 5/5 [00:01<00:00,  3.69batch/s, contrastive loss =0.697, reconstruction loss=0.04]\n",
      "train: 100%|██████████| 5/5 [00:01<00:00,  3.71batch/s, contrastive loss =0.42, reconstruction loss=0.0294]\n",
      "train: 100%|██████████| 5/5 [00:01<00:00,  3.98batch/s, contrastive loss =0.521, reconstruction loss=0.0325]\n",
      "train: 100%|██████████| 5/5 [00:01<00:00,  3.74batch/s, contrastive loss =0.542, reconstruction loss=0.0213]\n",
      "train: 100%|██████████| 5/5 [00:01<00:00,  3.99batch/s, contrastive loss =0.712, reconstruction loss=0.0301]\n",
      "train: 100%|██████████| 5/5 [00:01<00:00,  4.72batch/s, contrastive loss =0.951, reconstruction loss=0.0289]\n",
      "train: 100%|██████████| 5/5 [00:01<00:00,  4.16batch/s, contrastive loss =0.805, reconstruction loss=0.0304]\n",
      "train: 100%|██████████| 5/5 [00:01<00:00,  3.78batch/s, contrastive loss =0.394, reconstruction loss=0.0284]\n",
      "train: 100%|██████████| 5/5 [00:01<00:00,  4.03batch/s, contrastive loss =0.366, reconstruction loss=0.0232]\n",
      "train: 100%|██████████| 5/5 [00:01<00:00,  4.08batch/s, contrastive loss =0.292, reconstruction loss=0.0327]\n",
      "train: 100%|██████████| 5/5 [00:01<00:00,  4.33batch/s, contrastive loss =0.233, reconstruction loss=0.0228]\n",
      "train: 100%|██████████| 5/5 [00:01<00:00,  4.43batch/s, contrastive loss =0.58, reconstruction loss=0.036]\n",
      "train: 100%|██████████| 5/5 [00:01<00:00,  4.02batch/s, contrastive loss =0.648, reconstruction loss=0.026]\n",
      "train: 100%|██████████| 5/5 [00:01<00:00,  4.48batch/s, contrastive loss =0.539, reconstruction loss=0.0393]\n",
      "train: 100%|██████████| 5/5 [00:01<00:00,  4.76batch/s, contrastive loss =0.602, reconstruction loss=0.0468]\n",
      "train: 100%|██████████| 5/5 [00:01<00:00,  4.10batch/s, contrastive loss =0.722, reconstruction loss=0.0254]\n",
      "train: 100%|██████████| 5/5 [00:01<00:00,  4.89batch/s, contrastive loss =0.3, reconstruction loss=0.033]\n",
      "train: 100%|██████████| 5/5 [00:01<00:00,  3.97batch/s, contrastive loss =0.7, reconstruction loss=0.0274]\n",
      "train: 100%|██████████| 5/5 [00:01<00:00,  3.88batch/s, contrastive loss =0.393, reconstruction loss=0.0425]\n",
      "train: 100%|██████████| 5/5 [00:01<00:00,  4.60batch/s, contrastive loss =0.478, reconstruction loss=0.0321]\n",
      "train: 100%|██████████| 5/5 [00:01<00:00,  4.32batch/s, contrastive loss =0.305, reconstruction loss=0.0306]\n",
      "train: 100%|██████████| 5/5 [00:01<00:00,  4.65batch/s, contrastive loss =0.424, reconstruction loss=0.0289]\n",
      "train: 100%|██████████| 5/5 [00:01<00:00,  4.28batch/s, contrastive loss =0.36, reconstruction loss=0.0376]\n",
      "train: 100%|██████████| 5/5 [00:01<00:00,  4.34batch/s, contrastive loss =0.29, reconstruction loss=0.0278]\n",
      "train: 100%|██████████| 5/5 [00:01<00:00,  4.39batch/s, contrastive loss =0.54, reconstruction loss=0.0305]\n",
      "train: 100%|██████████| 5/5 [00:01<00:00,  4.22batch/s, contrastive loss =0.382, reconstruction loss=0.0338]\n",
      "train: 100%|██████████| 5/5 [00:01<00:00,  4.43batch/s, contrastive loss =1.05, reconstruction loss=0.0258]\n",
      "train: 100%|██████████| 5/5 [00:01<00:00,  4.06batch/s, contrastive loss =0.747, reconstruction loss=0.0451]\n",
      "train: 100%|██████████| 5/5 [00:01<00:00,  4.21batch/s, contrastive loss =0.624, reconstruction loss=0.0263]\n",
      "train: 100%|██████████| 5/5 [00:01<00:00,  4.73batch/s, contrastive loss =0.333, reconstruction loss=0.0384]\n",
      "train: 100%|██████████| 5/5 [00:01<00:00,  3.75batch/s, contrastive loss =0.275, reconstruction loss=0.0392]\n",
      "train: 100%|██████████| 5/5 [00:01<00:00,  4.09batch/s, contrastive loss =0.286, reconstruction loss=0.0257]\n",
      "train: 100%|██████████| 5/5 [00:01<00:00,  3.40batch/s, contrastive loss =0.187, reconstruction loss=0.0392]\n",
      "train: 100%|██████████| 5/5 [00:01<00:00,  3.31batch/s, contrastive loss =0.393, reconstruction loss=0.0264]\n",
      "train: 100%|██████████| 5/5 [00:01<00:00,  4.04batch/s, contrastive loss =1, reconstruction loss=0.0322]\n",
      "train: 100%|██████████| 5/5 [00:01<00:00,  4.28batch/s, contrastive loss =0.254, reconstruction loss=0.0315]\n",
      "train: 100%|██████████| 5/5 [00:01<00:00,  3.33batch/s, contrastive loss =0.116, reconstruction loss=0.027]\n",
      "train: 100%|██████████| 5/5 [00:01<00:00,  3.69batch/s, contrastive loss =0.304, reconstruction loss=0.0213]\n",
      "train: 100%|██████████| 5/5 [00:01<00:00,  4.39batch/s, contrastive loss =0.443, reconstruction loss=0.0353]\n",
      "train: 100%|██████████| 5/5 [00:01<00:00,  3.46batch/s, contrastive loss =0.365, reconstruction loss=0.0274]\n",
      "train: 100%|██████████| 5/5 [00:01<00:00,  3.90batch/s, contrastive loss =0.174, reconstruction loss=0.0213]\n",
      "train: 100%|██████████| 5/5 [00:01<00:00,  3.71batch/s, contrastive loss =0.12, reconstruction loss=0.0281]\n",
      "train: 100%|██████████| 5/5 [00:01<00:00,  4.25batch/s, contrastive loss =0.408, reconstruction loss=0.018]\n",
      "train: 100%|██████████| 5/5 [00:01<00:00,  3.19batch/s, contrastive loss =0.162, reconstruction loss=0.0288]\n",
      "train: 100%|██████████| 5/5 [00:01<00:00,  4.09batch/s, contrastive loss =0.121, reconstruction loss=0.0367]\n",
      "train: 100%|██████████| 5/5 [00:01<00:00,  3.92batch/s, contrastive loss =0.394, reconstruction loss=0.0375]\n",
      "train: 100%|██████████| 5/5 [00:01<00:00,  3.87batch/s, contrastive loss =0.369, reconstruction loss=0.0305]\n",
      "train: 100%|██████████| 5/5 [00:01<00:00,  3.47batch/s, contrastive loss =0.168, reconstruction loss=0.03]\n",
      "train: 100%|██████████| 5/5 [00:01<00:00,  4.44batch/s, contrastive loss =0.139, reconstruction loss=0.0348]\n",
      "train: 100%|██████████| 5/5 [00:01<00:00,  4.37batch/s, contrastive loss =0.0617, reconstruction loss=0.046]\n",
      "train: 100%|██████████| 5/5 [00:01<00:00,  4.64batch/s, contrastive loss =0.376, reconstruction loss=0.0287]\n",
      "train: 100%|██████████| 5/5 [00:01<00:00,  4.55batch/s, contrastive loss =0.0705, reconstruction loss=0.0264]\n",
      "train: 100%|██████████| 5/5 [00:01<00:00,  4.23batch/s, contrastive loss =0.381, reconstruction loss=0.0323]\n",
      "train: 100%|██████████| 5/5 [00:01<00:00,  4.16batch/s, contrastive loss =0.0947, reconstruction loss=0.0278]\n",
      "train: 100%|██████████| 5/5 [00:01<00:00,  3.89batch/s, contrastive loss =0.177, reconstruction loss=0.02]\n",
      "train: 100%|██████████| 5/5 [00:01<00:00,  3.53batch/s, contrastive loss =0.374, reconstruction loss=0.031]\n",
      "train: 100%|██████████| 5/5 [00:01<00:00,  3.55batch/s, contrastive loss =0.165, reconstruction loss=0.024]\n",
      "train: 100%|██████████| 5/5 [00:01<00:00,  4.25batch/s, contrastive loss =0.314, reconstruction loss=0.0195]\n",
      "train: 100%|██████████| 5/5 [00:01<00:00,  4.40batch/s, contrastive loss =0.102, reconstruction loss=0.025]\n",
      "train: 100%|██████████| 5/5 [00:01<00:00,  4.05batch/s, contrastive loss =0.0838, reconstruction loss=0.0282]\n",
      "train: 100%|██████████| 5/5 [00:01<00:00,  4.42batch/s, contrastive loss =0.159, reconstruction loss=0.0277]\n",
      "train: 100%|██████████| 5/5 [00:01<00:00,  3.82batch/s, contrastive loss =0.12, reconstruction loss=0.0205]\n",
      "train: 100%|██████████| 5/5 [00:01<00:00,  4.10batch/s, contrastive loss =0.0218, reconstruction loss=0.0308]\n",
      "train: 100%|██████████| 5/5 [00:01<00:00,  4.12batch/s, contrastive loss =0.409, reconstruction loss=0.026]\n",
      "train: 100%|██████████| 5/5 [00:01<00:00,  4.69batch/s, contrastive loss =0.173, reconstruction loss=0.0215]\n",
      "train: 100%|██████████| 5/5 [00:01<00:00,  4.39batch/s, contrastive loss =0.158, reconstruction loss=0.0269]\n",
      "train: 100%|██████████| 5/5 [00:01<00:00,  3.72batch/s, contrastive loss =0.0511, reconstruction loss=0.0227]\n",
      "train: 100%|██████████| 5/5 [00:01<00:00,  4.34batch/s, contrastive loss =0.185, reconstruction loss=0.0247]\n",
      "train: 100%|██████████| 5/5 [00:01<00:00,  4.11batch/s, contrastive loss =0.0592, reconstruction loss=0.0214]\n",
      "train: 100%|██████████| 5/5 [00:01<00:00,  4.60batch/s, contrastive loss =0.0757, reconstruction loss=0.0279]\n",
      "train: 100%|██████████| 5/5 [00:01<00:00,  4.33batch/s, contrastive loss =0.179, reconstruction loss=0.0212]\n",
      "train: 100%|██████████| 5/5 [00:01<00:00,  4.59batch/s, contrastive loss =0.373, reconstruction loss=0.0282]\n",
      "train: 100%|██████████| 5/5 [00:01<00:00,  4.38batch/s, contrastive loss =0.223, reconstruction loss=0.0216]\n",
      "train: 100%|██████████| 5/5 [00:01<00:00,  4.40batch/s, contrastive loss =0.429, reconstruction loss=0.0225]\n",
      "train: 100%|██████████| 5/5 [00:01<00:00,  3.51batch/s, contrastive loss =0.198, reconstruction loss=0.0356]\n",
      "train: 100%|██████████| 5/5 [00:01<00:00,  2.78batch/s, contrastive loss =0.0581, reconstruction loss=0.02]\n",
      "train: 100%|██████████| 5/5 [00:01<00:00,  2.96batch/s, contrastive loss =0.172, reconstruction loss=0.026]\n",
      "train: 100%|██████████| 5/5 [00:01<00:00,  3.22batch/s, contrastive loss =0.15, reconstruction loss=0.0185]\n",
      "train: 100%|██████████| 5/5 [00:01<00:00,  3.50batch/s, contrastive loss =0.126, reconstruction loss=0.0268]\n",
      "train: 100%|██████████| 5/5 [00:01<00:00,  3.68batch/s, contrastive loss =0.153, reconstruction loss=0.023]\n",
      "train: 100%|██████████| 5/5 [00:01<00:00,  3.53batch/s, contrastive loss =0.0502, reconstruction loss=0.0243]\n",
      "train: 100%|██████████| 5/5 [00:01<00:00,  3.25batch/s, contrastive loss =0.325, reconstruction loss=0.0223]\n",
      "train: 100%|██████████| 5/5 [00:01<00:00,  3.55batch/s, contrastive loss =0.0913, reconstruction loss=0.0235]\n",
      "                                                                 \r"
     ]
    },
    {
     "data": {
      "image/png": "[encoded data removed]",
      "text/plain": [
       "<Figure size 640x480 with 1 Axes>"
      ]
     },
     "metadata": {},
     "output_type": "display_data"
    }
   ],
   "source": [
    "print(\"Initiate Skeleton dataset ... \")\n",
    "# prep_dir = './tmp/epoch50_randsample_input_mseloss.pt'\n",
    "prep_dir = './data/Pre-trained Skeleton models/PAMAP2/epoch100_emb512.pt'\n",
    "\n",
    "# build Skeleton dataset \n",
    "skel_dt = SkeletonDataset(skeleton_mov, skeleton_Ids, action_dict, seq_len=config['seq_len'])\n",
    "skel_dl = DataLoader(skel_dt, batch_size=32, shuffle=True, pin_memory=True, drop_last=True)\n",
    "skel_n, skel_fts = skel_dt.getShape()\n",
    "\n",
    "# build AE Model \n",
    "# ae_model = BiLSTMEncDecModel(input_size=skel_fts, seq_len=skel_n, hidden_size=config['feat_size'], batch_size=config['batch_size'], ae_type='recursive', device=device)\n",
    "ae_config = {\n",
    "    'seq_len':skel_n, \n",
    "    'input_size':skel_fts, \n",
    "    'hidden_size':512, \n",
    "    'linear_filters':[128,256,512], \n",
    "    'embedding_size':config['feat_size'], \n",
    "    'num_layers':1, \n",
    "    'bidirectional':True, \n",
    "    'batch_size':32\n",
    "}\n",
    "ae_model = SkeletonAE(device=device, **ae_config)\n",
    "# ae_model = BiLSTMEncDecModel(seq_len=50, input_size=36, hidden_size=512, linear_filters=[128,256,512], embedding_size=256, num_layers=1,bidirectional=True,batch_size=32, device=device)\n",
    "ae_model.load_state_dict(torch.load(prep_dir)['model_state_dict'])\n",
    "ae_model.to(device)\n",
    "\n",
    "# define AE run parameters \n",
    "ae_optim = Adam(ae_model.parameters(), lr=config['ae_lr'])\n",
    "ae_loss_module = {'contrast': SoftNearestNeighbours, 'recons': nn.MSELoss()}\n",
    "\n",
    "ae_train_data = []\n",
    "for epoch in tqdm(range(200), desc='Training Epoch', leave=False):\n",
    "    # train AE model \n",
    "    ae_train_metrics = ae_train_step1(ae_model, skel_dl, ae_optim, ae_loss_module, device, config['batch_size'], phase='train', loss_alpha=config['ae_alpha'])\n",
    "    ae_train_metrics['epoch'] = epoch\n",
    "    ae_train_data.append(ae_train_metrics)\n",
    "\n",
    "ae_train_df = pd.DataFrame().from_records(ae_train_data)\n",
    "\n",
    "# plot train metrics \n",
    "fig, ax = plt.subplots()\n",
    "\n",
    "ax.plot(ae_train_df['total_loss'], color = 'green', label = 'total_loss')\n",
    "ax.plot(ae_train_df['contrastive_loss'], color = 'red', label = 'contrastive_loss')\n",
    "ax.plot(ae_train_df['reconstruction_loss'], color = 'blue', label = 'reconstruction_loss')\n",
    "ax.legend(loc = 'upper right')\n",
    "plt.show()\n",
    "\n"
   ]
  },
  {
   "cell_type": "code",
   "execution_count": 33,
   "metadata": {},
   "outputs": [],
   "source": [
    "def plot_tnse(X, y, Id2Label):\n",
    "    tnse = TSNE(n_components=2, init='random', learning_rate='auto', perplexity=15, n_iter=1000)\n",
    "    cmp_data = tnse.fit_transform(X)\n",
    "\n",
    "    cmp_df = pd.DataFrame(data=cmp_data, columns=['x', 'y'])\n",
    "    cmp_df['label'] = y\n",
    "    cmp_df['action'] = cmp_df['label'].map(Id2Label)\n",
    "\n",
    "    fig = px.scatter(cmp_df, x='x', y='y', color='action', width=800, height=800, title='t-SNE')\n",
    "    fig.show()\n",
    "    return fig"
   ]
  },
  {
   "cell_type": "code",
   "execution_count": 34,
   "metadata": {},
   "outputs": [],
   "source": [
    "def get_action_vector(ae, skel_dt, device, class_ids, class_names, batch_size=32):\n",
    "    # generate unseen action_semantic from unseen skeleton seq. \n",
    "    label_dict = {c:i for i,c in enumerate(class_ids)}\n",
    "    all_actions = []\n",
    "    all_labels = []\n",
    "    for c in class_ids:\n",
    "        action_mat = skel_dt.get_actions(c)\n",
    "        ns, _, _ = action_mat.shape \n",
    "        class_labels = [label_dict[c] for _ in range(ns)]\n",
    "        padded_mat = F.pad(input=action_mat, pad=(0,0,0,0,0,batch_size-ns), mode='constant', value=0)\n",
    "        _, vector_out = ae(padded_mat.float().to(device)) # batch second mode\n",
    "        action_feat_mat = vector_out[:ns, :].cpu().detach().numpy() # batch second mode\n",
    "\n",
    "        all_actions.append(action_feat_mat)\n",
    "        all_labels.append(class_labels)\n",
    "\n",
    "    all_actions = np.concatenate(all_actions)\n",
    "    all_labels = np.concatenate(all_labels)\n",
    "    Id2Label = {i:l for i,l in enumerate(class_names)}\n",
    "    return all_actions, all_labels, Id2Label"
   ]
  },
  {
   "cell_type": "code",
   "execution_count": 50,
   "metadata": {},
   "outputs": [
    {
     "data": {
      "application/vnd.plotly.v1+json": {
       "config": {
        "plotlyServerURL": "https://plotly.com"
       },
       "data": [
        {
         "hoverlabel": {
          "namelength": 0
         },
         "hovertemplate": "action=lying<br>x=%{x}<br>y=%{y}",
         "legendgroup": "action=lying",
         "marker": {
          "color": "#636efa",
          "symbol": "circle"
         },
         "mode": "markers",
         "name": "action=lying",
         "showlegend": true,
         "type": "scatter",
         "x": [
          -22.132179260253906,
          -21.210250854492188,
          -21.614530563354492,
          -21.034229278564453,
          -20.563339233398438,
          -21.808088302612305,
          -22.608251571655273,
          -20.367082595825195,
          -21.109512329101562,
          -21.856454849243164
         ],
         "xaxis": "x",
         "y": [
          1.8433095216751099,
          1.565328598022461,
          2.112928628921509,
          2.6661152839660645,
          1.8760721683502197,
          2.995159149169922,
          2.345517873764038,
          0.8106459975242615,
          2.141059160232544,
          1.292067527770996
         ],
         "yaxis": "y"
        },
        {
         "hoverlabel": {
          "namelength": 0
         },
         "hovertemplate": "action=sitting<br>x=%{x}<br>y=%{y}",
         "legendgroup": "action=sitting",
         "marker": {
          "color": "#EF553B",
          "symbol": "circle"
         },
         "mode": "markers",
         "name": "action=sitting",
         "showlegend": true,
         "type": "scatter",
         "x": [
          4.546270847320557,
          6.111295700073242,
          6.037398338317871,
          5.839580059051514,
          5.314612865447998,
          5.369606971740723,
          6.621126651763916,
          6.384228229522705,
          7.151867389678955,
          5.777820110321045
         ],
         "xaxis": "x",
         "y": [
          -13.588922500610352,
          -14.578874588012695,
          -14.824514389038086,
          -13.286908149719238,
          -12.407279014587402,
          -13.005318641662598,
          -13.1508207321167,
          -13.579137802124023,
          -14.047082901000977,
          -13.818848609924316
         ],
         "yaxis": "y"
        },
        {
         "hoverlabel": {
          "namelength": 0
         },
         "hovertemplate": "action=standing<br>x=%{x}<br>y=%{y}",
         "legendgroup": "action=standing",
         "marker": {
          "color": "#00cc96",
          "symbol": "circle"
         },
         "mode": "markers",
         "name": "action=standing",
         "showlegend": true,
         "type": "scatter",
         "x": [
          -10.70959186553955,
          -11.911515235900879,
          -9.936005592346191,
          -11.5751314163208,
          -9.98316764831543,
          -12.060150146484375,
          -11.594005584716797,
          -10.571053504943848,
          -11.34260368347168,
          -10.146171569824219
         ],
         "xaxis": "x",
         "y": [
          3.473874092102051,
          3.0258889198303223,
          3.476083517074585,
          0.7540386319160461,
          2.9647490978240967,
          2.8499855995178223,
          3.8877174854278564,
          3.75858998298645,
          2.667105197906494,
          2.5003926753997803
         ],
         "yaxis": "y"
        },
        {
         "hoverlabel": {
          "namelength": 0
         },
         "hovertemplate": "action=walking<br>x=%{x}<br>y=%{y}",
         "legendgroup": "action=walking",
         "marker": {
          "color": "#ab63fa",
          "symbol": "circle"
         },
         "mode": "markers",
         "name": "action=walking",
         "showlegend": true,
         "type": "scatter",
         "x": [
          4.037302494049072,
          0.8941811919212341,
          1.7751033306121826,
          2.3855175971984863,
          2.0563299655914307,
          2.056474208831787,
          2.542404890060425,
          1.9778138399124146,
          1.320217251777649,
          2.9029793739318848
         ],
         "xaxis": "x",
         "y": [
          12.221711158752441,
          10.707569122314453,
          9.76859188079834,
          10.030050277709961,
          10.59998607635498,
          10.60003662109375,
          9.294333457946777,
          11.294212341308594,
          8.888080596923828,
          10.797515869140625
         ],
         "yaxis": "y"
        },
        {
         "hoverlabel": {
          "namelength": 0
         },
         "hovertemplate": "action=running<br>x=%{x}<br>y=%{y}",
         "legendgroup": "action=running",
         "marker": {
          "color": "#FFA15A",
          "symbol": "circle"
         },
         "mode": "markers",
         "name": "action=running",
         "showlegend": true,
         "type": "scatter",
         "x": [
          11.722798347473145,
          11.839009284973145,
          11.15395736694336,
          10.898178100585938,
          12.72198486328125,
          12.744292259216309,
          12.183241844177246,
          10.526745796203613,
          12.088068962097168,
          12.816020965576172
         ],
         "xaxis": "x",
         "y": [
          7.490814208984375,
          6.384383678436279,
          6.715092182159424,
          7.197751522064209,
          6.830391883850098,
          6.045279502868652,
          8.058549880981445,
          6.075685501098633,
          7.095663547515869,
          7.535444259643555
         ],
         "yaxis": "y"
        },
        {
         "hoverlabel": {
          "namelength": 0
         },
         "hovertemplate": "action=cycling<br>x=%{x}<br>y=%{y}",
         "legendgroup": "action=cycling",
         "marker": {
          "color": "#19d3f3",
          "symbol": "circle"
         },
         "mode": "markers",
         "name": "action=cycling",
         "showlegend": true,
         "type": "scatter",
         "x": [
          -0.7455200552940369,
          -0.33238452672958374,
          1.3185738325119019,
          0.3284764587879181,
          -0.9057100415229797,
          1.6519349813461304,
          0.5051608681678772,
          0.50519198179245,
          -0.20491470396518707,
          0.2035696804523468
         ],
         "xaxis": "x",
         "y": [
          1.323925495147705,
          0.19258654117584229,
          1.2224751710891724,
          0.4484077990055084,
          0.3246866464614868,
          1.6990829706192017,
          1.2700214385986328,
          1.269802451133728,
          2.325916051864624,
          1.9830948114395142
         ],
         "yaxis": "y"
        },
        {
         "hoverlabel": {
          "namelength": 0
         },
         "hovertemplate": "action=Nordic walking<br>x=%{x}<br>y=%{y}",
         "legendgroup": "action=Nordic walking",
         "marker": {
          "color": "#FF6692",
          "symbol": "circle"
         },
         "mode": "markers",
         "name": "action=Nordic walking",
         "showlegend": true,
         "type": "scatter",
         "x": [
          4.501710891723633,
          5.141432285308838,
          4.163529872894287,
          5.196621417999268,
          6.068272113800049,
          5.609001636505127,
          3.627837896347046,
          5.489609241485596,
          4.5268144607543945,
          4.762075901031494
         ],
         "xaxis": "x",
         "y": [
          3.8225865364074707,
          3.138890266418457,
          3.261687755584717,
          2.400477170944214,
          2.5097906589508057,
          1.816670298576355,
          2.1872026920318604,
          3.682694911956787,
          2.9465081691741943,
          2.0588595867156982
         ],
         "yaxis": "y"
        },
        {
         "hoverlabel": {
          "namelength": 0
         },
         "hovertemplate": "action=watching TV<br>x=%{x}<br>y=%{y}",
         "legendgroup": "action=watching TV",
         "marker": {
          "color": "#B6E880",
          "symbol": "circle"
         },
         "mode": "markers",
         "name": "action=watching TV",
         "showlegend": true,
         "type": "scatter",
         "x": [
          -11.873087882995605,
          -10.01060962677002,
          -9.195133209228516,
          -10.52462387084961,
          -11.377378463745117,
          -10.423866271972656,
          -10.530668258666992,
          -9.213292121887207,
          -11.354471206665039,
          -11.414216041564941
         ],
         "xaxis": "x",
         "y": [
          -5.520828723907471,
          -5.106631755828857,
          -5.761232852935791,
          -7.234777927398682,
          -4.533047676086426,
          -5.16204833984375,
          -6.060079097747803,
          -6.146762371063232,
          -5.300948619842529,
          -5.802878379821777
         ],
         "yaxis": "y"
        },
        {
         "hoverlabel": {
          "namelength": 0
         },
         "hovertemplate": "action=computer work<br>x=%{x}<br>y=%{y}",
         "legendgroup": "action=computer work",
         "marker": {
          "color": "#FF97FF",
          "symbol": "circle"
         },
         "mode": "markers",
         "name": "action=computer work",
         "showlegend": true,
         "type": "scatter",
         "x": [
          -13.554849624633789,
          -14.080214500427246,
          -12.960153579711914,
          -13.501604080200195,
          -12.456764221191406,
          -11.951146125793457,
          -14.654073715209961,
          -12.018656730651855,
          -13.082452774047852,
          -12.553160667419434
         ],
         "xaxis": "x",
         "y": [
          -1.311237096786499,
          -0.4305129647254944,
          -0.29214125871658325,
          0.12405227869749069,
          -1.5482226610183716,
          0.016433855518698692,
          -1.3734780550003052,
          -3.771655559539795,
          0.011683762073516846,
          -0.7238381505012512
         ],
         "yaxis": "y"
        },
        {
         "hoverlabel": {
          "namelength": 0
         },
         "hovertemplate": "action=car driving<br>x=%{x}<br>y=%{y}",
         "legendgroup": "action=car driving",
         "marker": {
          "color": "#FECB52",
          "symbol": "circle"
         },
         "mode": "markers",
         "name": "action=car driving",
         "showlegend": true,
         "type": "scatter",
         "x": [
          19.954631805419922,
          20.025339126586914,
          19.58646583557129,
          20.723966598510742,
          20.365610122680664,
          21.05710220336914,
          21.34709358215332,
          20.806631088256836,
          19.865020751953125,
          20.58428955078125
         ],
         "xaxis": "x",
         "y": [
          3.1514151096343994,
          1.1759520769119263,
          1.9609168767929077,
          2.9602367877960205,
          1.9915865659713745,
          1.3572232723236084,
          2.5412650108337402,
          2.6454365253448486,
          2.5554802417755127,
          1.0818618535995483
         ],
         "yaxis": "y"
        },
        {
         "hoverlabel": {
          "namelength": 0
         },
         "hovertemplate": "action=ascending stairs<br>x=%{x}<br>y=%{y}",
         "legendgroup": "action=ascending stairs",
         "marker": {
          "color": "#636efa",
          "symbol": "circle"
         },
         "mode": "markers",
         "name": "action=ascending stairs",
         "showlegend": true,
         "type": "scatter",
         "x": [
          -7.775651454925537,
          -7.69893741607666,
          -9.168818473815918,
          -7.991086006164551,
          -7.515481948852539,
          -8.821019172668457,
          -9.901957511901855,
          -9.926506996154785,
          -9.109292030334473,
          -8.900341033935547
         ],
         "xaxis": "x",
         "y": [
          13.930769920349121,
          13.268664360046387,
          13.927295684814453,
          14.516716957092285,
          13.843476295471191,
          15.11332893371582,
          15.274179458618164,
          14.184144973754883,
          13.933698654174805,
          15.049657821655273
         ],
         "yaxis": "y"
        },
        {
         "hoverlabel": {
          "namelength": 0
         },
         "hovertemplate": "action=descending stairs<br>x=%{x}<br>y=%{y}",
         "legendgroup": "action=descending stairs",
         "marker": {
          "color": "#EF553B",
          "symbol": "circle"
         },
         "mode": "markers",
         "name": "action=descending stairs",
         "showlegend": true,
         "type": "scatter",
         "x": [
          11.929311752319336,
          11.416767120361328,
          11.629715919494629,
          10.64328384399414,
          12.497591972351074,
          10.725896835327148,
          10.59438419342041,
          12.028131484985352,
          12.526655197143555,
          12.072001457214355
         ],
         "xaxis": "x",
         "y": [
          -9.666522026062012,
          -10.637898445129395,
          -8.305346488952637,
          -9.649564743041992,
          -8.998064041137695,
          -8.909916877746582,
          -8.759279251098633,
          -9.690489768981934,
          -9.932565689086914,
          -10.2697114944458
         ],
         "yaxis": "y"
        },
        {
         "hoverlabel": {
          "namelength": 0
         },
         "hovertemplate": "action=vacuum cleaning<br>x=%{x}<br>y=%{y}",
         "legendgroup": "action=vacuum cleaning",
         "marker": {
          "color": "#00cc96",
          "symbol": "circle"
         },
         "mode": "markers",
         "name": "action=vacuum cleaning",
         "showlegend": true,
         "type": "scatter",
         "x": [
          7.016459941864014,
          7.854248523712158,
          7.253087997436523,
          7.791848659515381,
          7.606186389923096,
          7.74180793762207,
          6.839015483856201,
          6.562043190002441,
          6.473655700683594,
          8.430006980895996
         ],
         "xaxis": "x",
         "y": [
          -2.8415470123291016,
          -1.158894658088684,
          -2.1591897010803223,
          -3.055204153060913,
          -2.5478689670562744,
          -3.7445571422576904,
          -3.555495023727417,
          -1.1738125085830688,
          -1.6385750770568848,
          -2.3511769771575928
         ],
         "yaxis": "y"
        },
        {
         "hoverlabel": {
          "namelength": 0
         },
         "hovertemplate": "action=ironing<br>x=%{x}<br>y=%{y}",
         "legendgroup": "action=ironing",
         "marker": {
          "color": "#ab63fa",
          "symbol": "circle"
         },
         "mode": "markers",
         "name": "action=ironing",
         "showlegend": true,
         "type": "scatter",
         "x": [
          -7.039906978607178,
          -6.6706132888793945,
          -6.057607173919678,
          -6.249405860900879,
          -6.090307712554932,
          -6.235471725463867,
          -7.194936752319336,
          -7.827361583709717,
          -7.300597190856934,
          -6.75213098526001
         ],
         "xaxis": "x",
         "y": [
          -19.874784469604492,
          -18.514347076416016,
          -19.65947151184082,
          -20.087112426757812,
          -18.902437210083008,
          -20.559860229492188,
          -20.615127563476562,
          -20.992481231689453,
          -19.002473831176758,
          -19.435468673706055
         ],
         "yaxis": "y"
        },
        {
         "hoverlabel": {
          "namelength": 0
         },
         "hovertemplate": "action=folding laundry<br>x=%{x}<br>y=%{y}",
         "legendgroup": "action=folding laundry",
         "marker": {
          "color": "#FFA15A",
          "symbol": "circle"
         },
         "mode": "markers",
         "name": "action=folding laundry",
         "showlegend": true,
         "type": "scatter",
         "x": [
          -10.396408081054688,
          -12.825352668762207,
          -11.278368949890137,
          -11.552444458007812,
          -11.372880935668945,
          -12.60999870300293,
          -12.210733413696289,
          -11.40945053100586,
          -11.908622741699219,
          -11.38943099975586
         ],
         "xaxis": "x",
         "y": [
          -13.386509895324707,
          -14.324971199035645,
          -13.389986038208008,
          -14.304741859436035,
          -12.840779304504395,
          -13.284011840820312,
          -12.992962837219238,
          -11.965485572814941,
          -13.95539379119873,
          -13.010906219482422
         ],
         "yaxis": "y"
        },
        {
         "hoverlabel": {
          "namelength": 0
         },
         "hovertemplate": "action=house cleaning<br>x=%{x}<br>y=%{y}",
         "legendgroup": "action=house cleaning",
         "marker": {
          "color": "#19d3f3",
          "symbol": "circle"
         },
         "mode": "markers",
         "name": "action=house cleaning",
         "showlegend": true,
         "type": "scatter",
         "x": [
          -3.7275595664978027,
          -6.35874080657959,
          -5.723062038421631,
          -4.652008056640625,
          -4.525088787078857,
          -4.372917175292969,
          -5.7927069664001465,
          -5.514950752258301,
          -4.538880348205566,
          -4.380738258361816
         ],
         "xaxis": "x",
         "y": [
          -7.337782859802246,
          -7.005148887634277,
          -7.490305423736572,
          -7.383968353271484,
          -9.123263359069824,
          -8.425146102905273,
          -8.404205322265625,
          -8.32833194732666,
          -8.027420043945312,
          -6.9696760177612305
         ],
         "yaxis": "y"
        },
        {
         "hoverlabel": {
          "namelength": 0
         },
         "hovertemplate": "action=playing soccer<br>x=%{x}<br>y=%{y}",
         "legendgroup": "action=playing soccer",
         "marker": {
          "color": "#FF6692",
          "symbol": "circle"
         },
         "mode": "markers",
         "name": "action=playing soccer",
         "showlegend": true,
         "type": "scatter",
         "x": [
          -0.45824065804481506,
          -0.027800513431429863,
          -1.2051818370819092,
          -1.4115034341812134,
          -0.36809444427490234,
          0.5134695768356323,
          0.1209874376654625,
          -0.737549364566803,
          -0.1039508730173111,
          -1.0071901082992554
         ],
         "xaxis": "x",
         "y": [
          15.030097007751465,
          16.66103172302246,
          15.600102424621582,
          16.880687713623047,
          15.665858268737793,
          17.17624282836914,
          15.947240829467773,
          16.572343826293945,
          17.489383697509766,
          17.436012268066406
         ],
         "yaxis": "y"
        },
        {
         "hoverlabel": {
          "namelength": 0
         },
         "hovertemplate": "action=rope jumping<br>x=%{x}<br>y=%{y}",
         "legendgroup": "action=rope jumping",
         "marker": {
          "color": "#B6E880",
          "symbol": "circle"
         },
         "mode": "markers",
         "name": "action=rope jumping",
         "showlegend": true,
         "type": "scatter",
         "x": [
          7.857831001281738,
          7.077918529510498,
          7.479982376098633,
          5.245323181152344,
          6.319612979888916,
          6.543964862823486,
          6.793891429901123,
          6.439924240112305,
          7.294917583465576,
          5.885232925415039
         ],
         "xaxis": "x",
         "y": [
          14.159576416015625,
          13.65129280090332,
          15.840642929077148,
          14.42508316040039,
          13.473467826843262,
          14.44153881072998,
          14.278380393981934,
          15.168052673339844,
          14.868836402893066,
          14.22103500366211
         ],
         "yaxis": "y"
        }
       ],
       "layout": {
        "height": 800,
        "legend": {
         "tracegroupgap": 0
        },
        "template": {
         "data": {
          "bar": [
           {
            "error_x": {
             "color": "#2a3f5f"
            },
            "error_y": {
             "color": "#2a3f5f"
            },
            "marker": {
             "line": {
              "color": "#E5ECF6",
              "width": 0.5
             }
            },
            "type": "bar"
           }
          ],
          "barpolar": [
           {
            "marker": {
             "line": {
              "color": "#E5ECF6",
              "width": 0.5
             }
            },
            "type": "barpolar"
           }
          ],
          "carpet": [
           {
            "aaxis": {
             "endlinecolor": "#2a3f5f",
             "gridcolor": "white",
             "linecolor": "white",
             "minorgridcolor": "white",
             "startlinecolor": "#2a3f5f"
            },
            "baxis": {
             "endlinecolor": "#2a3f5f",
             "gridcolor": "white",
             "linecolor": "white",
             "minorgridcolor": "white",
             "startlinecolor": "#2a3f5f"
            },
            "type": "carpet"
           }
          ],
          "choropleth": [
           {
            "colorbar": {
             "outlinewidth": 0,
             "ticks": ""
            },
            "type": "choropleth"
           }
          ],
          "contour": [
           {
            "colorbar": {
             "outlinewidth": 0,
             "ticks": ""
            },
            "colorscale": [
             [
              0,
              "#0d0887"
             ],
             [
              0.1111111111111111,
              "#46039f"
             ],
             [
              0.2222222222222222,
              "#7201a8"
             ],
             [
              0.3333333333333333,
              "#9c179e"
             ],
             [
              0.4444444444444444,
              "#bd3786"
             ],
             [
              0.5555555555555556,
              "#d8576b"
             ],
             [
              0.6666666666666666,
              "#ed7953"
             ],
             [
              0.7777777777777778,
              "#fb9f3a"
             ],
             [
              0.8888888888888888,
              "#fdca26"
             ],
             [
              1,
              "#f0f921"
             ]
            ],
            "type": "contour"
           }
          ],
          "contourcarpet": [
           {
            "colorbar": {
             "outlinewidth": 0,
             "ticks": ""
            },
            "type": "contourcarpet"
           }
          ],
          "heatmap": [
           {
            "colorbar": {
             "outlinewidth": 0,
             "ticks": ""
            },
            "colorscale": [
             [
              0,
              "#0d0887"
             ],
             [
              0.1111111111111111,
              "#46039f"
             ],
             [
              0.2222222222222222,
              "#7201a8"
             ],
             [
              0.3333333333333333,
              "#9c179e"
             ],
             [
              0.4444444444444444,
              "#bd3786"
             ],
             [
              0.5555555555555556,
              "#d8576b"
             ],
             [
              0.6666666666666666,
              "#ed7953"
             ],
             [
              0.7777777777777778,
              "#fb9f3a"
             ],
             [
              0.8888888888888888,
              "#fdca26"
             ],
             [
              1,
              "#f0f921"
             ]
            ],
            "type": "heatmap"
           }
          ],
          "heatmapgl": [
           {
            "colorbar": {
             "outlinewidth": 0,
             "ticks": ""
            },
            "colorscale": [
             [
              0,
              "#0d0887"
             ],
             [
              0.1111111111111111,
              "#46039f"
             ],
             [
              0.2222222222222222,
              "#7201a8"
             ],
             [
              0.3333333333333333,
              "#9c179e"
             ],
             [
              0.4444444444444444,
              "#bd3786"
             ],
             [
              0.5555555555555556,
              "#d8576b"
             ],
             [
              0.6666666666666666,
              "#ed7953"
             ],
             [
              0.7777777777777778,
              "#fb9f3a"
             ],
             [
              0.8888888888888888,
              "#fdca26"
             ],
             [
              1,
              "#f0f921"
             ]
            ],
            "type": "heatmapgl"
           }
          ],
          "histogram": [
           {
            "marker": {
             "colorbar": {
              "outlinewidth": 0,
              "ticks": ""
             }
            },
            "type": "histogram"
           }
          ],
          "histogram2d": [
           {
            "colorbar": {
             "outlinewidth": 0,
             "ticks": ""
            },
            "colorscale": [
             [
              0,
              "#0d0887"
             ],
             [
              0.1111111111111111,
              "#46039f"
             ],
             [
              0.2222222222222222,
              "#7201a8"
             ],
             [
              0.3333333333333333,
              "#9c179e"
             ],
             [
              0.4444444444444444,
              "#bd3786"
             ],
             [
              0.5555555555555556,
              "#d8576b"
             ],
             [
              0.6666666666666666,
              "#ed7953"
             ],
             [
              0.7777777777777778,
              "#fb9f3a"
             ],
             [
              0.8888888888888888,
              "#fdca26"
             ],
             [
              1,
              "#f0f921"
             ]
            ],
            "type": "histogram2d"
           }
          ],
          "histogram2dcontour": [
           {
            "colorbar": {
             "outlinewidth": 0,
             "ticks": ""
            },
            "colorscale": [
             [
              0,
              "#0d0887"
             ],
             [
              0.1111111111111111,
              "#46039f"
             ],
             [
              0.2222222222222222,
              "#7201a8"
             ],
             [
              0.3333333333333333,
              "#9c179e"
             ],
             [
              0.4444444444444444,
              "#bd3786"
             ],
             [
              0.5555555555555556,
              "#d8576b"
             ],
             [
              0.6666666666666666,
              "#ed7953"
             ],
             [
              0.7777777777777778,
              "#fb9f3a"
             ],
             [
              0.8888888888888888,
              "#fdca26"
             ],
             [
              1,
              "#f0f921"
             ]
            ],
            "type": "histogram2dcontour"
           }
          ],
          "mesh3d": [
           {
            "colorbar": {
             "outlinewidth": 0,
             "ticks": ""
            },
            "type": "mesh3d"
           }
          ],
          "parcoords": [
           {
            "line": {
             "colorbar": {
              "outlinewidth": 0,
              "ticks": ""
             }
            },
            "type": "parcoords"
           }
          ],
          "pie": [
           {
            "automargin": true,
            "type": "pie"
           }
          ],
          "scatter": [
           {
            "marker": {
             "colorbar": {
              "outlinewidth": 0,
              "ticks": ""
             }
            },
            "type": "scatter"
           }
          ],
          "scatter3d": [
           {
            "line": {
             "colorbar": {
              "outlinewidth": 0,
              "ticks": ""
             }
            },
            "marker": {
             "colorbar": {
              "outlinewidth": 0,
              "ticks": ""
             }
            },
            "type": "scatter3d"
           }
          ],
          "scattercarpet": [
           {
            "marker": {
             "colorbar": {
              "outlinewidth": 0,
              "ticks": ""
             }
            },
            "type": "scattercarpet"
           }
          ],
          "scattergeo": [
           {
            "marker": {
             "colorbar": {
              "outlinewidth": 0,
              "ticks": ""
             }
            },
            "type": "scattergeo"
           }
          ],
          "scattergl": [
           {
            "marker": {
             "colorbar": {
              "outlinewidth": 0,
              "ticks": ""
             }
            },
            "type": "scattergl"
           }
          ],
          "scattermapbox": [
           {
            "marker": {
             "colorbar": {
              "outlinewidth": 0,
              "ticks": ""
             }
            },
            "type": "scattermapbox"
           }
          ],
          "scatterpolar": [
           {
            "marker": {
             "colorbar": {
              "outlinewidth": 0,
              "ticks": ""
             }
            },
            "type": "scatterpolar"
           }
          ],
          "scatterpolargl": [
           {
            "marker": {
             "colorbar": {
              "outlinewidth": 0,
              "ticks": ""
             }
            },
            "type": "scatterpolargl"
           }
          ],
          "scatterternary": [
           {
            "marker": {
             "colorbar": {
              "outlinewidth": 0,
              "ticks": ""
             }
            },
            "type": "scatterternary"
           }
          ],
          "surface": [
           {
            "colorbar": {
             "outlinewidth": 0,
             "ticks": ""
            },
            "colorscale": [
             [
              0,
              "#0d0887"
             ],
             [
              0.1111111111111111,
              "#46039f"
             ],
             [
              0.2222222222222222,
              "#7201a8"
             ],
             [
              0.3333333333333333,
              "#9c179e"
             ],
             [
              0.4444444444444444,
              "#bd3786"
             ],
             [
              0.5555555555555556,
              "#d8576b"
             ],
             [
              0.6666666666666666,
              "#ed7953"
             ],
             [
              0.7777777777777778,
              "#fb9f3a"
             ],
             [
              0.8888888888888888,
              "#fdca26"
             ],
             [
              1,
              "#f0f921"
             ]
            ],
            "type": "surface"
           }
          ],
          "table": [
           {
            "cells": {
             "fill": {
              "color": "#EBF0F8"
             },
             "line": {
              "color": "white"
             }
            },
            "header": {
             "fill": {
              "color": "#C8D4E3"
             },
             "line": {
              "color": "white"
             }
            },
            "type": "table"
           }
          ]
         },
         "layout": {
          "annotationdefaults": {
           "arrowcolor": "#2a3f5f",
           "arrowhead": 0,
           "arrowwidth": 1
          },
          "coloraxis": {
           "colorbar": {
            "outlinewidth": 0,
            "ticks": ""
           }
          },
          "colorscale": {
           "diverging": [
            [
             0,
             "#8e0152"
            ],
            [
             0.1,
             "#c51b7d"
            ],
            [
             0.2,
             "#de77ae"
            ],
            [
             0.3,
             "#f1b6da"
            ],
            [
             0.4,
             "#fde0ef"
            ],
            [
             0.5,
             "#f7f7f7"
            ],
            [
             0.6,
             "#e6f5d0"
            ],
            [
             0.7,
             "#b8e186"
            ],
            [
             0.8,
             "#7fbc41"
            ],
            [
             0.9,
             "#4d9221"
            ],
            [
             1,
             "#276419"
            ]
           ],
           "sequential": [
            [
             0,
             "#0d0887"
            ],
            [
             0.1111111111111111,
             "#46039f"
            ],
            [
             0.2222222222222222,
             "#7201a8"
            ],
            [
             0.3333333333333333,
             "#9c179e"
            ],
            [
             0.4444444444444444,
             "#bd3786"
            ],
            [
             0.5555555555555556,
             "#d8576b"
            ],
            [
             0.6666666666666666,
             "#ed7953"
            ],
            [
             0.7777777777777778,
             "#fb9f3a"
            ],
            [
             0.8888888888888888,
             "#fdca26"
            ],
            [
             1,
             "#f0f921"
            ]
           ],
           "sequentialminus": [
            [
             0,
             "#0d0887"
            ],
            [
             0.1111111111111111,
             "#46039f"
            ],
            [
             0.2222222222222222,
             "#7201a8"
            ],
            [
             0.3333333333333333,
             "#9c179e"
            ],
            [
             0.4444444444444444,
             "#bd3786"
            ],
            [
             0.5555555555555556,
             "#d8576b"
            ],
            [
             0.6666666666666666,
             "#ed7953"
            ],
            [
             0.7777777777777778,
             "#fb9f3a"
            ],
            [
             0.8888888888888888,
             "#fdca26"
            ],
            [
             1,
             "#f0f921"
            ]
           ]
          },
          "colorway": [
           "#636efa",
           "#EF553B",
           "#00cc96",
           "#ab63fa",
           "#FFA15A",
           "#19d3f3",
           "#FF6692",
           "#B6E880",
           "#FF97FF",
           "#FECB52"
          ],
          "font": {
           "color": "#2a3f5f"
          },
          "geo": {
           "bgcolor": "white",
           "lakecolor": "white",
           "landcolor": "#E5ECF6",
           "showlakes": true,
           "showland": true,
           "subunitcolor": "white"
          },
          "hoverlabel": {
           "align": "left"
          },
          "hovermode": "closest",
          "mapbox": {
           "style": "light"
          },
          "paper_bgcolor": "white",
          "plot_bgcolor": "#E5ECF6",
          "polar": {
           "angularaxis": {
            "gridcolor": "white",
            "linecolor": "white",
            "ticks": ""
           },
           "bgcolor": "#E5ECF6",
           "radialaxis": {
            "gridcolor": "white",
            "linecolor": "white",
            "ticks": ""
           }
          },
          "scene": {
           "xaxis": {
            "backgroundcolor": "#E5ECF6",
            "gridcolor": "white",
            "gridwidth": 2,
            "linecolor": "white",
            "showbackground": true,
            "ticks": "",
            "zerolinecolor": "white"
           },
           "yaxis": {
            "backgroundcolor": "#E5ECF6",
            "gridcolor": "white",
            "gridwidth": 2,
            "linecolor": "white",
            "showbackground": true,
            "ticks": "",
            "zerolinecolor": "white"
           },
           "zaxis": {
            "backgroundcolor": "#E5ECF6",
            "gridcolor": "white",
            "gridwidth": 2,
            "linecolor": "white",
            "showbackground": true,
            "ticks": "",
            "zerolinecolor": "white"
           }
          },
          "shapedefaults": {
           "line": {
            "color": "#2a3f5f"
           }
          },
          "ternary": {
           "aaxis": {
            "gridcolor": "white",
            "linecolor": "white",
            "ticks": ""
           },
           "baxis": {
            "gridcolor": "white",
            "linecolor": "white",
            "ticks": ""
           },
           "bgcolor": "#E5ECF6",
           "caxis": {
            "gridcolor": "white",
            "linecolor": "white",
            "ticks": ""
           }
          },
          "title": {
           "x": 0.05
          },
          "xaxis": {
           "automargin": true,
           "gridcolor": "white",
           "linecolor": "white",
           "ticks": "",
           "title": {
            "standoff": 15
           },
           "zerolinecolor": "white",
           "zerolinewidth": 2
          },
          "yaxis": {
           "automargin": true,
           "gridcolor": "white",
           "linecolor": "white",
           "ticks": "",
           "title": {
            "standoff": 15
           },
           "zerolinecolor": "white",
           "zerolinewidth": 2
          }
         }
        },
        "title": {
         "text": "t-SNE"
        },
        "width": 800,
        "xaxis": {
         "anchor": "y",
         "domain": [
          0,
          1
         ],
         "title": {
          "text": "x"
         }
        },
        "yaxis": {
         "anchor": "x",
         "domain": [
          0,
          1
         ],
         "title": {
          "text": "y"
         }
        }
       }
      }
     },
     "metadata": {},
     "output_type": "display_data"
    }
   ],
   "source": [
    "val_actions, val_labels, val_lm = get_action_vector(ae_model, skel_dt, device, class_ids=range(18), class_names=dataReader.idToLabel)\n",
    "tsne_skel_plot = plot_tnse(val_actions, val_labels, val_lm)"
   ]
  },
  {
   "cell_type": "code",
   "execution_count": 51,
   "metadata": {},
   "outputs": [],
   "source": [
    "class PAMAP2Dataset(Dataset):\n",
    "    def __init__(self, data, actions, attributes, attribute_dict, action_classes, seq_len=120):\n",
    "        super(PAMAP2Dataset, self).__init__()\n",
    "        self.data = torch.from_numpy(data)\n",
    "        self.actions = actions\n",
    "        self.attribute_dict = attribute_dict\n",
    "        self.seq_len = seq_len\n",
    "        self.attributes = torch.from_numpy(attributes)\n",
    "        self.action_classes = action_classes\n",
    "        # build action to id mapping dict\n",
    "        self.n_action = len(self.actions)\n",
    "        self.action2Id = dict(zip(action_classes, range(self.n_action)))\n",
    "\n",
    "    def __getitem__(self, ind):\n",
    "        x = self.data[ind, ...]\n",
    "        target = self.actions[ind]\n",
    "        y = torch.from_numpy(np.array([self.action2Id[target]]))\n",
    "        # extraction semantic space generation skeleton sequences\n",
    "        vid_idx = random.choice(self.attribute_dict[target])\n",
    "        y_feat = self.attributes[vid_idx, ...]\n",
    "        return x, y, y_feat\n",
    "\n",
    "    def __len__(self):\n",
    "        return self.data.shape[0]\n",
    "\n",
    "    def getClassAttrs(self):\n",
    "        sampling_idx = [random.choice(self.attribute_dict[i]) for i in self.action_classes]\n",
    "        ft_mat = self.attributes[sampling_idx, ...]\n",
    "        return ft_mat\n",
    "\n",
    "    def getClassFeatures(self):\n",
    "        cls_feat = []\n",
    "        for c in self.action_classes:\n",
    "            idx = self.attribute_dict[c]\n",
    "            cls_feat.append(torch.mean(self.attributes[idx, ...], dim=0))\n",
    "\n",
    "        cls_feat = torch.vstack(cls_feat)\n",
    "        # print(cls_feat.size())\n",
    "        return cls_feat"
   ]
  },
  {
   "cell_type": "code",
   "execution_count": 52,
   "metadata": {},
   "outputs": [
    {
     "name": "stdout",
     "output_type": "stream",
     "text": [
      "0.0\n"
     ]
    }
   ],
   "source": [
    "sample_dt = PAMAP2Dataset(data=data_dict['train']['X'], actions=data_dict['train']['y'], attributes=val_actions, attribute_dict=action_dict, action_classes=data_dict['seen_classes'], seq_len=100)\n",
    "sample_dl = DataLoader(sample_dt, batch_size=32, shuffle=True, pin_memory=True, drop_last=True)\n",
    "for d in sample_dl:\n",
    "    print(100*np.isinf(d[0].numpy()).sum()/(d[0].shape[0]*d[0].shape[1]))\n",
    "    break"
   ]
  },
  {
   "cell_type": "code",
   "execution_count": 53,
   "metadata": {
    "collapsed": false
   },
   "outputs": [
    {
     "data": {
      "text/plain": [
       "{0: 0,\n",
       " 2: 1,\n",
       " 4: 2,\n",
       " 5: 3,\n",
       " 6: 4,\n",
       " 7: 5,\n",
       " 8: 6,\n",
       " 9: 7,\n",
       " 10: 8,\n",
       " 12: 9,\n",
       " 13: 10,\n",
       " 14: 11,\n",
       " 15: 12,\n",
       " 16: 13}"
      ]
     },
     "execution_count": 53,
     "metadata": {},
     "output_type": "execute_result"
    }
   ],
   "source": [
    "sample_dt.action2Id"
   ]
  },
  {
   "cell_type": "code",
   "execution_count": 54,
   "metadata": {
    "collapsed": false
   },
   "outputs": [
    {
     "data": {
      "text/plain": [
       "defaultdict(list,\n",
       "            {10: [0, 1, 2, 3, 4, 5, 6, 7, 8, 9],\n",
       "             9: [10, 11, 12, 13, 14, 15, 16, 17, 18, 19],\n",
       "             8: [20, 21, 22, 23, 24, 25, 26, 27, 28, 29],\n",
       "             5: [30, 31, 32, 33, 34, 35, 36, 37, 38, 39],\n",
       "             11: [40, 41, 42, 43, 44, 45, 46, 47, 48, 49],\n",
       "             14: [50, 51, 52, 53, 54, 55, 56, 57, 58, 59],\n",
       "             15: [60, 61, 62, 63, 64, 65, 66, 67, 68, 69],\n",
       "             13: [70, 71, 72, 73, 74, 75, 76, 77, 78, 79],\n",
       "             0: [80, 81, 82, 83, 84, 85, 86, 87, 88, 89],\n",
       "             6: [90, 91, 92, 93, 94, 95, 96, 97, 98, 99],\n",
       "             16: [100, 101, 102, 103, 104, 105, 106, 107, 108, 109],\n",
       "             17: [110, 111, 112, 113, 114, 115, 116, 117, 118, 119],\n",
       "             4: [120, 121, 122, 123, 124, 125, 126, 127, 128, 129],\n",
       "             1: [130, 131, 132, 133, 134, 135, 136, 137, 138, 139],\n",
       "             2: [140, 141, 142, 143, 144, 145, 146, 147, 148, 149],\n",
       "             12: [150, 151, 152, 153, 154, 155, 156, 157, 158, 159],\n",
       "             3: [160, 161, 162, 163, 164, 165, 166, 167, 168, 169],\n",
       "             7: [170, 171, 172, 173, 174, 175, 176, 177, 178, 179]})"
      ]
     },
     "execution_count": 54,
     "metadata": {},
     "output_type": "execute_result"
    }
   ],
   "source": [
    "sample_dt.attribute_dict"
   ]
  },
  {
   "cell_type": "code",
   "execution_count": 55,
   "metadata": {
    "collapsed": false
   },
   "outputs": [
    {
     "data": {
      "text/plain": [
       "torch.Size([14, 512])"
      ]
     },
     "execution_count": 55,
     "metadata": {},
     "output_type": "execute_result"
    }
   ],
   "source": [
    "r = sample_dt.getClassAttrs()\n",
    "r.shape"
   ]
  },
  {
   "cell_type": "code",
   "execution_count": 56,
   "metadata": {
    "collapsed": false
   },
   "outputs": [],
   "source": [
    "def loss_cross_entropy(\n",
    "        y_pred:torch.Tensor,\n",
    "        cls:torch.Tensor,\n",
    "        selected_features,\n",
    "        loss_fn=nn.CrossEntropyLoss(reduction=\"sum\")\n",
    "):\n",
    "    num_classes = selected_features.size()[0]\n",
    "    #print(selected_features)\n",
    "    cosine_sim_comb = []\n",
    "    for entry in y_pred.unbind():\n",
    "        #print(entry.repeat(num_classes,1),selected_features.size())\n",
    "        cosine_sim = F.softmax(F.cosine_similarity(entry.repeat(num_classes,1),selected_features),dim=-1)\n",
    "        cosine_sim_comb.append(cosine_sim)\n",
    "\n",
    "    cosine_sim_comb = torch.stack(cosine_sim_comb)\n",
    "    loss = loss_fn(cosine_sim_comb,cls)\n",
    "    #print(loss)\n",
    "    return loss\n",
    "\n",
    "def predict_class(\n",
    "        y_pred:torch.Tensor,\n",
    "        selected_features):\n",
    "\n",
    "    num_classes = selected_features.size()[0]\n",
    "\n",
    "    cosine_sim_comb = []\n",
    "    for entry in y_pred.unbind():\n",
    "        cosine_sim = torch.argmax(F.softmax(F.cosine_similarity(entry.repeat(num_classes,1),selected_features),dim=-1))\n",
    "        cosine_sim_comb.append(cosine_sim)\n",
    "\n",
    "    pred = torch.stack(cosine_sim_comb)\n",
    "    return pred"
   ]
  },
  {
   "cell_type": "code",
   "execution_count": 57,
   "metadata": {
    "collapsed": false
   },
   "outputs": [],
   "source": [
    "def loss_reconstruction_calc(y_pred:torch.Tensor,y_feat:torch.Tensor,loss_fn=nn.L1Loss(reduction=\"sum\")):\n",
    "    bat_size,feature_size = y_pred.size()\n",
    "    loss = loss_fn(y_pred,y_feat)*(1/feature_size)\n",
    "    #print(loss)\n",
    "    return loss"
   ]
  },
  {
   "cell_type": "code",
   "execution_count": 58,
   "metadata": {
    "collapsed": false
   },
   "outputs": [],
   "source": [
    "def train_step(model, dataloader, dataset:PAMAP2Dataset, optimizer, loss_module, device, class_names, phase='train', l2_reg=False, loss_alpha=0.7):\n",
    "    model = model.train()\n",
    "    epoch_loss = 0  # total loss of epoch\n",
    "    total_samples = 0  # total samples in epoch\n",
    "    random_selected_feat = dataset.getClassFeatures().to(device)\n",
    "\n",
    "    with tqdm(dataloader, unit=\"batch\", desc=phase) as tepoch:\n",
    "        for batch in tepoch:\n",
    "            X, targets, target_feat = batch\n",
    "            X = X.float().to(device)\n",
    "            target_feat = target_feat.float().to(device)\n",
    "            targets = targets.long().to(device)\n",
    "\n",
    "            # Zero gradients, perform a backward pass, and update the weights.\n",
    "            optimizer.zero_grad()\n",
    "            # forward\n",
    "            # track history if only in train\n",
    "            with torch.set_grad_enabled(phase == 'train'):\n",
    "            # with autocast():\n",
    "                feat_output = model(X)\n",
    "                class_loss = loss_cross_entropy(feat_output,targets.squeeze(),random_selected_feat,loss_fn =loss_module['class'] )\n",
    "                feat_loss = loss_reconstruction_calc(feat_output,target_feat,loss_fn=loss_module[\"feature\"])\n",
    "\n",
    "            #loss = cross_entropy_loss\n",
    "            loss = feat_loss + loss_alpha*class_loss\n",
    "            class_output = predict_class(feat_output,random_selected_feat)\n",
    "\n",
    "            if phase == 'train':\n",
    "                loss.backward()\n",
    "                optimizer.step()\n",
    "\n",
    "            metrics = {\"loss\": loss.item()}\n",
    "            with torch.no_grad():\n",
    "                total_samples += len(targets)\n",
    "                epoch_loss += loss.item()  # add total loss of batch\n",
    "\n",
    "            # convert feature vector into action class\n",
    "            # using cosine\n",
    "            pred_class = class_output.cpu().detach().numpy()\n",
    "            metrics[\"accuracy\"] = accuracy_score(y_true=targets.cpu().detach().numpy(), y_pred=pred_class)\n",
    "            tepoch.set_postfix(metrics)\n",
    "\n",
    "    epoch_loss = epoch_loss / total_samples  # average loss per sample for whole epoch\n",
    "    return metrics"
   ]
  },
  {
   "cell_type": "code",
   "execution_count": 59,
   "metadata": {
    "collapsed": false
   },
   "outputs": [],
   "source": [
    "def eval_step(model, dataloader,dataset, loss_module, device, class_names,  phase='seen', l2_reg=False, print_report=True, loss_alpha=0.7):\n",
    "    model = model.eval()\n",
    "    random_selected_feat = dataset.getClassFeatures().to(device)\n",
    "    epoch_loss = 0  # total loss of epoch\n",
    "    total_samples = 0  # total samples in epoch\n",
    "    per_batch = {'target_masks': [], 'targets': [], 'predictions': [], 'metrics': [], 'IDs': []}\n",
    "\n",
    "    with tqdm(dataloader, unit=\"batch\", desc=phase) as tepoch:\n",
    "        for batch in tepoch:\n",
    "            X, targets, target_feat = batch\n",
    "            X = X.float().to(device)\n",
    "            X = X.float().to(device)\n",
    "            target_feat = target_feat.float().to(device)\n",
    "            targets = targets.long().to(device)\n",
    "\n",
    "            # forward\n",
    "            # track history if only in train\n",
    "            with torch.set_grad_enabled(phase == 'train'):\n",
    "            # with autocast():\n",
    "                feat_output = model(X)\n",
    "                class_loss = loss_cross_entropy(feat_output,targets.squeeze(),random_selected_feat,loss_fn =loss_module['class'] )\n",
    "                feat_loss = loss_reconstruction_calc(feat_output,target_feat,loss_fn=loss_module[\"feature\"])\n",
    "\n",
    "            #loss = cross_entropy_loss\n",
    "            loss = feat_loss + loss_alpha*class_loss\n",
    "            class_output = predict_class(feat_output,random_selected_feat)\n",
    "\n",
    "            # convert feature vector into action class\n",
    "            # using cosine\n",
    "            if phase == 'seen':\n",
    "                pred_action = class_output\n",
    "            else:\n",
    "                #feat_numpy = torch.sigmoid(feat_output.cpu().detach())\n",
    "                #action_probs = cosine_similarity(feat_numpy, target_feat_met)\n",
    "                pred_action = class_output\n",
    "\n",
    "            per_batch['targets'].append(targets.cpu().numpy())\n",
    "            per_batch['predictions'].append(pred_action.cpu().numpy())\n",
    "            per_batch['metrics'].append([loss.cpu().numpy()])\n",
    "\n",
    "            tepoch.set_postfix({\"loss\": loss.item()})\n",
    "\n",
    "    all_preds = np.concatenate(per_batch[\"predictions\"])\n",
    "    all_targets = np.concatenate(per_batch[\"targets\"])\n",
    "    metrics_dict = action_evaluator(y_pred=all_preds, y_true=all_targets[:, 0], class_names=class_names, print_report=print_report)\n",
    "    return metrics_dict"
   ]
  },
  {
   "cell_type": "code",
   "execution_count": null,
   "metadata": {
    "collapsed": false,
    "pycharm": {
     "is_executing": true
    }
   },
   "outputs": [],
   "source": []
  }
 ],
 "metadata": {
  "kernelspec": {
   "display_name": "Python 3.8.13 ('mvts_trans')",
   "language": "python",
   "name": "python3"
  },
  "language_info": {
   "codemirror_mode": {
    "name": "ipython",
    "version": 3
   },
   "file_extension": ".py",
   "mimetype": "text/x-python",
   "name": "python",
   "nbconvert_exporter": "python",
   "pygments_lexer": "ipython3",
   "version": "3.8.13"
  },
  "orig_nbformat": 4,
  "vscode": {
   "interpreter": {
    "hash": "ccc35149ad8fa032444ebff1245e6ef176e6c1ce3af8dec48e3374f21a6b0f27"
   }
  }
 },
 "nbformat": 4,
 "nbformat_minor": 2
}
