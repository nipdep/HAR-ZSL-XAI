{
 "cells": [
  {
   "cell_type": "code",
   "execution_count": null,
   "metadata": {},
   "outputs": [],
   "source": [
    "! pip install mediapipe"
   ]
  },
  {
   "cell_type": "code",
   "execution_count": 54,
   "metadata": {},
   "outputs": [],
   "source": [
    "import cv2\n",
    "import mediapipe as mp\n",
    "import numpy as np\n",
    "import matplotlib.pyplot as plt"
   ]
  },
  {
   "cell_type": "code",
   "execution_count": 3,
   "metadata": {},
   "outputs": [],
   "source": [
    "# initialize Pose estimator\n",
    "mp_drawing = mp.solutions.drawing_utils\n",
    "mp_pose = mp.solutions.pose"
   ]
  },
  {
   "cell_type": "code",
   "execution_count": 4,
   "metadata": {},
   "outputs": [],
   "source": [
    "pose = mp_pose.Pose(min_detection_confidence=0.5, min_tracking_confidence=0.5)"
   ]
  },
  {
   "cell_type": "code",
   "execution_count": 5,
   "metadata": {},
   "outputs": [],
   "source": [
    "def stream_pose(model, video_path):\n",
    "    cap = cv2.VideoCapture(video_path)\n",
    "    while cap.isOpened():\n",
    "        # read frame from capture object\n",
    "        _, frame = cap.read()\n",
    "\n",
    "        try:\n",
    "            # convert the frame to RGB format\n",
    "            RGB = cv2.cvtColor(frame, cv2.COLOR_BGR2RGB)\n",
    "\n",
    "            # process the RGB frame to get the result\n",
    "            results = model.process(RGB)\n",
    "\n",
    "            print(results.pose_landmarks)\n",
    "            # draw detected skeleton on the frame\n",
    "            mp_drawing.draw_landmarks(\n",
    "                frame, results.pose_landmarks, mp_pose.POSE_CONNECTIONS)\n",
    "\n",
    "            # show the final output\n",
    "            cv2.imshow('Output', frame)\n",
    "        except:\n",
    "            break\n",
    "        if cv2.waitKey(1) == ord('q'):\n",
    "            break\n",
    "    cap.release()\n",
    "    cv2.destroyAllWindows()\n"
   ]
  },
  {
   "cell_type": "code",
   "execution_count": 67,
   "metadata": {},
   "outputs": [],
   "source": [
    "# create capture object\n",
    "cap = cv2.VideoCapture('../data/video/a109-1310C.mp4')\n",
    "if (cap.isOpened() == False): \n",
    "    print(\"Error reading video file\")\n",
    "  \n",
    "# We need to set resolutions.\n",
    "# so, convert them from float to integer.\n",
    "frame_width = int(cap.get(3))\n",
    "frame_height = int(cap.get(4))\n",
    "size = (frame_width, frame_height)\n",
    "\n",
    "result = cv2.VideoWriter('../data/pose_data/sample_pose.mp4', \n",
    "                         cv2.VideoWriter_fourcc(*'MJPG'),\n",
    "                         10, size)\n",
    "result_list = []\n",
    "while cap.isOpened():\n",
    "    # read frame from capture object\n",
    "    _, frame = cap.read()\n",
    "\n",
    "    try:\n",
    "        # convert the frame to RGB format\n",
    "        RGB = cv2.cvtColor(frame, cv2.COLOR_BGR2RGB)\n",
    "\n",
    "        # process the RGB frame to get the result\n",
    "        results = pose.process(RGB)\n",
    "        result_list.append(results)\n",
    "        # print(results.pose_landmarks)\n",
    "        # # draw detected skeleton on the frame\n",
    "        mp_drawing.draw_landmarks(\n",
    "            frame, results.pose_landmarks, mp_pose.POSE_CONNECTIONS)\n",
    "\n",
    "        # # show the final output\n",
    "        result.write(frame)\n",
    "        cv2.imshow('Output', frame)\n",
    "        \n",
    "    except:\n",
    "        break\n",
    "    if cv2.waitKey(1) == ord('q'):\n",
    "        break\n",
    "cap.release()\n",
    "result.release()\n",
    "cv2.destroyAllWindows()"
   ]
  },
  {
   "cell_type": "code",
   "execution_count": 73,
   "metadata": {},
   "outputs": [],
   "source": [
    "frame_10 = result_list[-1]\n",
    "ldm = frame_10.pose_landmarks"
   ]
  },
  {
   "cell_type": "code",
   "execution_count": 82,
   "metadata": {},
   "outputs": [],
   "source": [
    "skeleton_video = []\n",
    "\n",
    "for frame in result_list[1:]:\n",
    "    point_list = []\n",
    "    for idx, landmark in enumerate(frame.pose_landmarks.landmark):\n",
    "        # print(idx, landmark.x)\n",
    "        # print(type(landmark))\n",
    "        coord = [landmark.x, landmark.y, landmark.z]\n",
    "        point_list.append(coord)\n",
    "    skeleton_video.append(point_list)\n",
    "\n",
    "skeleton_video = np.array(skeleton_video)\n"
   ]
  },
  {
   "cell_type": "code",
   "execution_count": 83,
   "metadata": {},
   "outputs": [
    {
     "data": {
      "text/plain": [
       "(149, 33, 3)"
      ]
     },
     "execution_count": 83,
     "metadata": {},
     "output_type": "execute_result"
    }
   ],
   "source": [
    "skeleton_video.shape"
   ]
  },
  {
   "cell_type": "code",
   "execution_count": 89,
   "metadata": {},
   "outputs": [],
   "source": [
    "height, width = 512, 512\n",
    "img_3 = np.zeros([height, width,3],dtype=np.uint8)\n",
    "img_3.fill(255)"
   ]
  },
  {
   "cell_type": "code",
   "execution_count": 90,
   "metadata": {},
   "outputs": [],
   "source": [
    "# add frame 10 points to the image \n",
    "frame_10 = skeleton_video[100, ...]\n",
    "# add circles \n",
    "for coord in frame_10:\n",
    "    x, y = int(width*coord[0]), int(height*coord[1])\n",
    "    img_3 = cv2.circle(img_3, center=(x,y), radius=1, color=(255, 0, 0), thickness=6)\n"
   ]
  },
  {
   "cell_type": "code",
   "execution_count": 91,
   "metadata": {},
   "outputs": [],
   "source": [
    "mapping_list = [(11, 12), (11, 13), (13, 15), (12, 14), (14, 16), (12, 24), (11, 23), (23, 24), (24, 26), (26, 28), (23, 25), (25, 27)]"
   ]
  },
  {
   "cell_type": "code",
   "execution_count": 92,
   "metadata": {},
   "outputs": [],
   "source": [
    "# add lines \n",
    "for line in mapping_list:\n",
    "    i, j = line\n",
    "    st = frame_10[i, :]\n",
    "    start_point = (int(width*st[0]), int(height*st[1]))\n",
    "\n",
    "    en = frame_10[j, :]\n",
    "    end_point = (int(width*en[0]), int(height*en[1]))\n",
    "\n",
    "    img3_ = cv2.line(img_3, start_point, end_point, color=(0, 0, 0), thickness=3)"
   ]
  },
  {
   "cell_type": "code",
   "execution_count": 93,
   "metadata": {},
   "outputs": [
    {
     "data": {
      "text/plain": [
       "<matplotlib.image.AxesImage at 0x1c28d7b8a90>"
      ]
     },
     "execution_count": 93,
     "metadata": {},
     "output_type": "execute_result"
    },
    {
     "data": {
      "image/png": "[encoded data removed]",
      "text/plain": [
       "<Figure size 640x480 with 1 Axes>"
      ]
     },
     "metadata": {},
     "output_type": "display_data"
    }
   ],
   "source": [
    "plt.imshow(img_3)"
   ]
  },
  {
   "cell_type": "code",
   "execution_count": 94,
   "metadata": {},
   "outputs": [],
   "source": [
    "def gen_skeleton(frame, connections, height, width):\n",
    "    img_3 = np.zeros([height, width,3],dtype=np.uint8)\n",
    "    img_3.fill(255)\n",
    "\n",
    "    # add circles \n",
    "    for coord in frame:\n",
    "        x, y = int(width*coord[0]), int(height*coord[1])\n",
    "        img_3 = cv2.circle(img_3, center=(x,y), radius=1, color=(255, 0, 0), thickness=6)\n",
    "\n",
    "    # add lines \n",
    "    for line in mapping_list:\n",
    "        i, j = line\n",
    "        st = frame[i, :]\n",
    "        start_point = (int(width*st[0]), int(height*st[1]))\n",
    "\n",
    "        en = frame[j, :]\n",
    "        end_point = (int(width*en[0]), int(height*en[1]))\n",
    "\n",
    "        img3_ = cv2.line(img_3, start_point, end_point, color=(0, 0, 0), thickness=3)\n",
    "\n",
    "    return img_3"
   ]
  },
  {
   "cell_type": "code",
   "execution_count": 123,
   "metadata": {},
   "outputs": [
    {
     "name": "stdout",
     "output_type": "stream",
     "text": [
      "'NoneType' object has no attribute 'landmark'\n",
      "'NoneType' object has no attribute 'landmark'\n",
      "'NoneType' object has no attribute 'landmark'\n",
      "'NoneType' object has no attribute 'landmark'\n",
      "'NoneType' object has no attribute 'landmark'\n",
      "'NoneType' object has no attribute 'landmark'\n",
      "'NoneType' object has no attribute 'landmark'\n",
      "'NoneType' object has no attribute 'landmark'\n",
      "'NoneType' object has no attribute 'landmark'\n",
      "'NoneType' object has no attribute 'landmark'\n",
      "'NoneType' object has no attribute 'landmark'\n",
      "'NoneType' object has no attribute 'landmark'\n",
      "'NoneType' object has no attribute 'landmark'\n",
      "'NoneType' object has no attribute 'landmark'\n",
      "'NoneType' object has no attribute 'landmark'\n",
      "'NoneType' object has no attribute 'landmark'\n",
      "'NoneType' object has no attribute 'landmark'\n",
      "OpenCV(4.6.0) D:\\a\\opencv-python\\opencv-python\\opencv\\modules\\imgproc\\src\\color.cpp:182: error: (-215:Assertion failed) !_src.empty() in function 'cv::cvtColor'\n",
      "\n"
     ]
    }
   ],
   "source": [
    "# create capture object\n",
    "cap = cv2.VideoCapture('../data/video/prelinger_they_grow_up_so_fast_1_run_f_nm_np1_ba_med_6.avi')\n",
    "if (cap.isOpened() == False): \n",
    "    print(\"Error reading video file\")\n",
    "  \n",
    "# We need to set resolutions.\n",
    "# so, convert them from float to integer.\n",
    "frame_width = int(cap.get(3))\n",
    "frame_height = int(cap.get(4))\n",
    "size = (frame_width, frame_height)\n",
    "\n",
    "result = cv2.VideoWriter('../data/pose_data/pose-prelinger_they_grow_up.mp4', \n",
    "                         cv2.VideoWriter_fourcc(*'MJPG'),\n",
    "                         10, size)\n",
    "skeleton_video = []\n",
    "while cap.isOpened():\n",
    "    # read frame from capture object\n",
    "    _, frame = cap.read()\n",
    "\n",
    "    try:\n",
    "        # convert the frame to RGB format\n",
    "        RGB = cv2.cvtColor(frame, cv2.COLOR_BGR2RGB)\n",
    "\n",
    "        # process the RGB frame to get the result\n",
    "        results = pose.process(RGB)\n",
    "        try:\n",
    "            frame_result = results.pose_landmarks.landmark\n",
    "            point_list = []\n",
    "            for idx, landmark in enumerate(frame_result):\n",
    "                # print(idx, landmark.x)\n",
    "                # print(type(landmark))\n",
    "                coord = [landmark.x, landmark.y, landmark.z]\n",
    "                point_list.append(coord)\n",
    "            skeleton_video.append(point_list)\n",
    "\n",
    "            res_frame = gen_skeleton(np.array(point_list), mapping_list, frame_height, frame_width)\n",
    "            result.write(res_frame)\n",
    "        except Exception as inst:\n",
    "            print(inst)\n",
    "            pass\n",
    "\n",
    "        # print(results.pose_landmarks)\n",
    "        # # draw detected skeleton on the frame\n",
    "        mp_drawing.draw_landmarks(\n",
    "            frame, results.pose_landmarks, mp_pose.POSE_CONNECTIONS)\n",
    "\n",
    "        # # show the final output'\n",
    "        # print(frame.shape, res_frame.shape)\n",
    "        \n",
    "        cv2.imshow('Output', frame)\n",
    "        \n",
    "    except Exception as inst:\n",
    "        print(inst)\n",
    "        break\n",
    "    if cv2.waitKey(1) == ord('q'):\n",
    "        break\n",
    "cap.release()\n",
    "result.release()\n",
    "cv2.destroyAllWindows()"
   ]
  },
  {
   "cell_type": "code",
   "execution_count": 113,
   "metadata": {},
   "outputs": [],
   "source": [
    "def pose_estimator(model, path):\n",
    "    # create capture object\n",
    "    cap = cv2.VideoCapture(path)\n",
    "    if (cap.isOpened() == False): \n",
    "        print(\"Error reading video file\")\n",
    "    \n",
    "    # We need to set resolutions.\n",
    "    # so, convert them from float to integer.\n",
    "    frame_width = int(cap.get(3))\n",
    "    frame_height = int(cap.get(4))\n",
    "    size = (frame_width, frame_height)\n",
    "\n",
    "    skeleton_video = []\n",
    "    while cap.isOpened():\n",
    "        # read frame from capture object\n",
    "        _, frame = cap.read()\n",
    "\n",
    "        try:\n",
    "            # convert the frame to RGB format\n",
    "            RGB = cv2.cvtColor(frame, cv2.COLOR_BGR2RGB)\n",
    "\n",
    "            # process the RGB frame to get the result\n",
    "            results = pose.process(RGB)\n",
    "            try:\n",
    "                frame_result = results.pose_landmarks.landmark\n",
    "                point_list = []\n",
    "                for idx, landmark in enumerate(frame_result):\n",
    "                    # print(idx, landmark.x)\n",
    "                    # print(type(landmark))\n",
    "                    coord = [landmark.x, landmark.y, landmark.z]\n",
    "                    point_list.append(coord)\n",
    "                skeleton_video.append(point_list)\n",
    "            except Exception as inst:\n",
    "                print(inst)\n",
    "                pass\n",
    "            \n",
    "        except Exception as inst:\n",
    "            print(inst)\n",
    "            break\n",
    "        if cv2.waitKey(1) == ord('q'):\n",
    "            break\n",
    "    cap.release()\n",
    "    cv2.destroyAllWindows()\n",
    "\n",
    "    return np.array(skeleton_video), frame_height, frame_width"
   ]
  },
  {
   "cell_type": "code",
   "execution_count": 114,
   "metadata": {},
   "outputs": [
    {
     "name": "stdout",
     "output_type": "stream",
     "text": [
      "'NoneType' object has no attribute 'landmark'\n",
      "OpenCV(4.6.0) D:\\a\\opencv-python\\opencv-python\\opencv\\modules\\imgproc\\src\\color.cpp:182: error: (-215:Assertion failed) !_src.empty() in function 'cv::cvtColor'\n",
      "\n"
     ]
    }
   ],
   "source": [
    "skel_res, fh, fw = pose_estimator(pose, '../data/video/a109-1310C.mp4')"
   ]
  },
  {
   "cell_type": "code",
   "execution_count": 115,
   "metadata": {},
   "outputs": [],
   "source": [
    "def gen_video(points, save_file, frame_h, frame_w):\n",
    "    size = (frame_w, frame_h)\n",
    "    result = cv2.VideoWriter(save_file, \n",
    "                         cv2.VideoWriter_fourcc(*'MJPG'),\n",
    "                         10, size)\n",
    "\n",
    "    for frame in points:\n",
    "        skel_image = gen_skeleton(frame, mapping_list, frame_h, frame_w)\n",
    "        result.write(skel_image)\n",
    "\n",
    "    result.release()"
   ]
  },
  {
   "cell_type": "code",
   "execution_count": 116,
   "metadata": {},
   "outputs": [],
   "source": [
    "gen_video(skel_res, '../data/pose_data/sample_poes_gen.mp4', fh, fw)"
   ]
  },
  {
   "cell_type": "code",
   "execution_count": 112,
   "metadata": {},
   "outputs": [
    {
     "data": {
      "text/plain": [
       "(149, 33, 3)"
      ]
     },
     "execution_count": 112,
     "metadata": {},
     "output_type": "execute_result"
    }
   ],
   "source": [
    "skel_res.shape"
   ]
  },
  {
   "cell_type": "code",
   "execution_count": null,
   "metadata": {},
   "outputs": [],
   "source": []
  },
  {
   "cell_type": "code",
   "execution_count": null,
   "metadata": {},
   "outputs": [],
   "source": []
  }
 ],
 "metadata": {
  "kernelspec": {
   "display_name": "Python 3.8.13 ('mvts_trans')",
   "language": "python",
   "name": "python3"
  },
  "language_info": {
   "codemirror_mode": {
    "name": "ipython",
    "version": 3
   },
   "file_extension": ".py",
   "mimetype": "text/x-python",
   "name": "python",
   "nbconvert_exporter": "python",
   "pygments_lexer": "ipython3",
   "version": "3.8.13"
  },
  "orig_nbformat": 4,
  "vscode": {
   "interpreter": {
    "hash": "ccc35149ad8fa032444ebff1245e6ef176e6c1ce3af8dec48e3374f21a6b0f27"
   }
  }
 },
 "nbformat": 4,
 "nbformat_minor": 2
}
