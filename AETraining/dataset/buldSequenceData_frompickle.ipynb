{
 "cells": [
  {
   "cell_type": "code",
   "execution_count": 1,
   "metadata": {
    "collapsed": true
   },
   "outputs": [],
   "source": [
    "import json\n",
    "import os\n",
    "import random\n",
    "import numpy as np\n",
    "from tqdm import tqdm\n",
    "\n",
    "import torch\n",
    "from tqdm import tqdm\n",
    "import random\n",
    "import seaborn as sns\n",
    "from pylab import rcParams\n",
    "\n",
    "from SkeletonData.data import *\n",
    "\n",
    "%matplotlib inline\n",
    "%config InlineBackend.figure_format='retina'\n",
    "\n",
    "sns.set(style='whitegrid', palette='muted', font_scale=1.2)\n",
    "\n",
    "HAPPY_COLORS_PALETTE = [\"#01BEFE\", \"#FFDD00\", \"#FF7D00\", \"#FF006D\", \"#ADFF02\", \"#8F00FF\"]\n",
    "\n",
    "sns.set_palette(sns.color_palette(HAPPY_COLORS_PALETTE))\n",
    "\n",
    "rcParams['figure.figsize'] = 12, 8"
   ]
  },
  {
   "cell_type": "code",
   "execution_count": 2,
   "outputs": [],
   "source": [
    "npz_files = \"../data/skel_out/hmdb51\""
   ],
   "metadata": {
    "collapsed": false
   }
  },
  {
   "cell_type": "markdown",
   "source": [
    "### Add Skeleton of selected videos"
   ],
   "metadata": {
    "collapsed": false
   }
  },
  {
   "cell_type": "code",
   "execution_count": 3,
   "outputs": [],
   "source": [
    "#action_npz_file = \"../data/skeleton_k10_v7_ movements.npz\"\n",
    "#action_arr = np.load(action_npz_file)"
   ],
   "metadata": {
    "collapsed": false
   }
  },
  {
   "cell_type": "code",
   "execution_count": 4,
   "outputs": [],
   "source": [
    "#for cls,arr,vid_n in zip(action_arr[\"arr_0\"],action_arr[\"arr_1\"],action_arr[\"arr_2\"]):\n",
    "#    os.makedirs(os.path.join(npz_files,f\"{cls}\"),exist_ok=True)\n",
    "#    np.savez(os.path.join(npz_files,f\"{cls}/{vid_n}.npz\"),coords)"
   ],
   "metadata": {
    "collapsed": false
   }
  },
  {
   "cell_type": "code",
   "execution_count": 5,
   "outputs": [],
   "source": [
    "device = torch.device(\"cuda\" if torch.cuda.is_available() else \"cpu\")"
   ],
   "metadata": {
    "collapsed": false
   }
  },
  {
   "cell_type": "code",
   "execution_count": 6,
   "outputs": [],
   "source": [
    "mapping_l = [\n",
    "        [15, 13], [13, 11], [11, 5],\n",
    "        [12, 14], [14, 16], [12, 6],\n",
    "        [3, 1],[1, 2],[1, 0],[0, 2],[2,4],\n",
    "        [9, 7], [7,5], [5, 6],\n",
    "        [6, 8], [8, 10],\n",
    "        ]\n",
    "#mapping_l = []"
   ],
   "metadata": {
    "collapsed": false
   }
  },
  {
   "cell_type": "markdown",
   "source": [
    "## Sequence Data"
   ],
   "metadata": {
    "collapsed": false
   }
  },
  {
   "cell_type": "code",
   "execution_count": 7,
   "outputs": [],
   "source": [
    "root_dir = \"D:\\\\FYP\\\\HAR-ZSL-XAI\\\\AETraining\"\n",
    "main_dir = \"D:\\\\FYP\\\\HAR-ZSL-XAI\"\n",
    "data_dir = os.path.join(main_dir,\"data\",\"ntu120_3danno.pkl\")\n",
    "refined_data = os.path.join(main_dir,\"data\",\"sequence_data\",\"random_50f\")\n",
    "train_ratio = 0.7\n",
    "val_ratio = 0.15\n",
    "test_ratio = 1-train_ratio - val_ratio\n",
    "batch_size = 32"
   ],
   "metadata": {
    "collapsed": false
   }
  },
  {
   "cell_type": "code",
   "execution_count": 8,
   "outputs": [],
   "source": [
    "class_names = list(range(120))"
   ],
   "metadata": {
    "collapsed": false
   }
  },
  {
   "cell_type": "code",
   "execution_count": 9,
   "outputs": [],
   "source": [
    "file_list = np.load(\"E:\\\\FYP_Data\\\\NTU120\\\\file_list_above_60.npz\")[\"files\"]"
   ],
   "metadata": {
    "collapsed": false
   }
  },
  {
   "cell_type": "code",
   "execution_count": 10,
   "outputs": [
    {
     "data": {
      "text/plain": "54836"
     },
     "execution_count": 10,
     "metadata": {},
     "output_type": "execute_result"
    }
   ],
   "source": [
    "len(file_list)"
   ],
   "metadata": {
    "collapsed": false
   }
  },
  {
   "cell_type": "code",
   "execution_count": 11,
   "outputs": [],
   "source": [
    "from SkeletonData.array_segment import *\n",
    "from SkeletonData.visualize import *"
   ],
   "metadata": {
    "collapsed": false
   }
  },
  {
   "cell_type": "code",
   "execution_count": 11,
   "outputs": [],
   "source": [],
   "metadata": {
    "collapsed": false
   }
  },
  {
   "cell_type": "code",
   "execution_count": 12,
   "outputs": [],
   "source": [
    "with open(\"E:\\\\FYP_Data\\\\NTU120\\\\shapes_keys.json\",\"r\") as f0:\n",
    "    id2shapes = json.load(f0)\n",
    "\n",
    "file_keys = np.load(\"E:\\\\FYP_Data\\\\NTU120\\\\file_list_above_60.npz\")[\"files\"].tolist()"
   ],
   "metadata": {
    "collapsed": false
   }
  },
  {
   "cell_type": "code",
   "execution_count": 13,
   "outputs": [],
   "source": [
    "pkl_reader = SkeletonPickleReader(file_path=\"E:\\\\FYP_Data\\\\NTU120\\\\ntu120_hrnet.pkl\")\n",
    "#pkl_reader = SkeletonPickleReader(file_path=\"E:\\\\FYP_Data\\\\NTU120\\\\ntu120_hrnet.pkl\")\n",
    "splits, anno = pkl_reader.generate()"
   ],
   "metadata": {
    "collapsed": false
   }
  },
  {
   "cell_type": "code",
   "execution_count": 14,
   "outputs": [],
   "source": [
    "files = FileDictIterator(anno)"
   ],
   "metadata": {
    "collapsed": false
   }
  },
  {
   "cell_type": "markdown",
   "source": [
    "### Visualize"
   ],
   "metadata": {
    "collapsed": false
   }
  },
  {
   "cell_type": "code",
   "execution_count": 15,
   "outputs": [],
   "source": [
    "from functools import partial\n",
    "from concurrent.futures import ProcessPoolExecutor, ThreadPoolExecutor"
   ],
   "metadata": {
    "collapsed": false
   }
  },
  {
   "cell_type": "code",
   "execution_count": 16,
   "outputs": [],
   "source": [
    "def visualize_after_normalize(__f):\n",
    "    kp = __f[\"keypoint\"][0]\n",
    "    kp[:,:,0] = kp[:,:,0]/__f[\"original_shape\"][1]\n",
    "    kp[:,:,1] = kp[:,:,1]/__f[\"original_shape\"][0]\n",
    "\n",
    "    gen_video(kp,f\"temp_files/{__f['frame_dir']}.mp4\",__f[\"original_shape\"][0],__f[\"original_shape\"][1],mapping_list=mapping_l)\n",
    "\n",
    "    return f\"temp_files/{__f['frame_dir']}.mp4\""
   ],
   "metadata": {
    "collapsed": false
   }
  },
  {
   "cell_type": "code",
   "execution_count": 17,
   "outputs": [],
   "source": [
    "os.makedirs(\"temp_files\",exist_ok=True)\n",
    "\n",
    "#with ThreadPoolExecutor() as executor:\n",
    "#    file_loc = list(tqdm(executor.map(visualize_after_normalize,files), total=len(files),desc=\"Saved Videos:\"))"
   ],
   "metadata": {
    "collapsed": false
   }
  },
  {
   "cell_type": "markdown",
   "source": [
    "### Break Into Segments"
   ],
   "metadata": {
    "collapsed": false
   }
  },
  {
   "cell_type": "code",
   "execution_count": 18,
   "outputs": [],
   "source": [
    "files = iter(files)"
   ],
   "metadata": {
    "collapsed": false
   }
  },
  {
   "cell_type": "code",
   "execution_count": 19,
   "outputs": [
    {
     "name": "stderr",
     "output_type": "stream",
     "text": [
      "Processed Files:: 100%|██████████| 113945/113945 [01:12<00:00, 1564.74it/s]\n"
     ]
    }
   ],
   "source": [
    "os.makedirs(refined_data,exist_ok=True)\n",
    "#for each_file in tqdm(files,desc=\"Files Used\",total=len(files)):\n",
    "with ThreadPoolExecutor() as executor:\n",
    "    file_loc = list(tqdm(executor.map(partial(split_array_main,id2shapes,refined_data),files), total=len(files),desc=\"Processed Files:\"))"
   ],
   "metadata": {
    "collapsed": false
   }
  },
  {
   "cell_type": "code",
   "execution_count": 19,
   "outputs": [],
   "source": [],
   "metadata": {
    "collapsed": false
   }
  }
 ],
 "metadata": {
  "kernelspec": {
   "display_name": "Python 3",
   "language": "python",
   "name": "python3"
  },
  "language_info": {
   "codemirror_mode": {
    "name": "ipython",
    "version": 2
   },
   "file_extension": ".py",
   "mimetype": "text/x-python",
   "name": "python",
   "nbconvert_exporter": "python",
   "pygments_lexer": "ipython2",
   "version": "2.7.6"
  }
 },
 "nbformat": 4,
 "nbformat_minor": 0
}
