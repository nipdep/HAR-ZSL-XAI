{
 "cells": [
  {
   "cell_type": "code",
   "execution_count": 1,
   "metadata": {
    "collapsed": true
   },
   "outputs": [],
   "source": [
    "import json\n",
    "import os\n",
    "\n",
    "import numpy as np"
   ]
  },
  {
   "cell_type": "code",
   "execution_count": 2,
   "outputs": [],
   "source": [
    "with open(\"../../data/class_to_num_frames.json\",\"r\") as f0:\n",
    "    num_frames = {k:sorted(v,reverse=True)[:900] for k,v in json.load(f0).items()}\n",
    "\n",
    "with open(\"../../data/ntu_class_map.json\",\"r\") as f0:\n",
    "    class_names = json.load(f0)"
   ],
   "metadata": {
    "collapsed": false
   }
  },
  {
   "cell_type": "code",
   "execution_count": 3,
   "outputs": [],
   "source": [
    "for k,v in num_frames.items():\n",
    "    if len(v)<900:\n",
    "        print(k)"
   ],
   "metadata": {
    "collapsed": false
   }
  },
  {
   "cell_type": "code",
   "execution_count": 10,
   "outputs": [
    {
     "name": "stdout",
     "output_type": "stream",
     "text": [
      "make OK sign 6 0\n",
      "thumb down 10 1\n",
      "step on foot 10 2\n",
      "capitulate 12 3\n",
      "shoot with gun 14 4\n",
      "make victory sign 15 5\n",
      "hush 21 6\n",
      "toss a coin 21 7\n",
      "high-five 22 8\n",
      "knock over 24 9\n",
      "cross arms 25 10\n",
      "point finger 26 11\n",
      "thumb up 26 12\n",
      "sniff/smell 28 13\n",
      "squat down 29 14\n",
      "cross hands in front 32 15\n",
      "snap fingers 34 16\n",
      "throw up cap/hat 34 17\n",
      "wield knife 34 18\n",
      "hit with object 35 19\n",
      "whisper 36 20\n",
      "grab stuff 37 21\n",
      "yawn 42 22\n",
      "take a photo 43 23\n",
      "tennis bat swing 44 24\n",
      "blow nose 58 25\n",
      "shoot at basket 65 26\n",
      "side kick 67 27\n",
      "shake fist 78 28\n",
      "cheers and drink 79 29\n",
      "kicking 85 30\n",
      "point to something 98 31\n",
      "punch/slap 98 32\n",
      "put palms together 110 33\n",
      "salute 112 34\n",
      "exchange things 141 35\n",
      "flick hair 147 36\n",
      "pushing 153 37\n",
      "drop 158 38\n",
      "run on the spot 166 39\n",
      "stretch oneself 192 40\n",
      "hugging 199 41\n",
      "jump up 199 42\n",
      "shaking hands 222 43\n",
      "falling down 232 44\n",
      "check time (from watch) 245 45\n",
      "open bottle 246 46\n",
      "stand up 247 47\n",
      "take off headphone 248 48\n",
      "rock-paper-scissors 250 49\n",
      "arm circles 256 50\n",
      "kicking something 256 51\n",
      "throw 264 52\n",
      "juggle table tennis ball 286 53\n",
      "pat on back 290 54\n",
      "bounce ball 323 55\n",
      "put on headphone 368 56\n",
      "ball up paper 374 57\n",
      "take object out of bag 374 58\n",
      "put object into bag 377 59\n",
      "counting money 415 60\n",
      "cheer up 421 61\n",
      "clapping 429 62\n",
      "hand waving 429 63\n",
      "rub two hands 453 64\n",
      "nod head/bow 459 65\n",
      "follow 466 66\n",
      "take off bag 478 67\n",
      "support somebody 485 68\n",
      "sneeze/cough 501 69\n",
      "shake head 507 70\n",
      "cutting paper 519 71\n",
      "staple book 527 72\n",
      "sit down 530 73\n",
      "butt kicks 534 74\n",
      "open a box 539 75\n",
      "take off glasses 540 76\n",
      "chest pain 543 77\n",
      "cutting nails 544 78\n",
      "apply cream on hand 551 79\n",
      "arm swings 564 80\n",
      "giving object 596 81\n",
      "take off a hat/cap 601 82\n",
      "taking a selfie 610 83\n",
      "apply cream on face 612 84\n",
      "carry object 613 85\n",
      "cross toe touch 645 86\n",
      "back pain 669 87\n",
      "move heavy objects 687 88\n",
      "headache 689 89\n",
      "tear up paper 699 90\n",
      "play magic cube 701 91\n",
      "neck pain 714 92\n",
      "touch pocket 724 93\n",
      "nausea/vomiting 737 94\n",
      "pick up 742 95\n",
      "fan self 742 96\n",
      "put on bag 755 97\n",
      "fold paper 768 98\n",
      "put on a hat/cap 777 99\n",
      "eat meal 786 100\n",
      "phone call 796 101\n",
      "drink water 808 102\n",
      "hopping 828 103\n",
      "put on glasses 829 104\n",
      "brush teeth 834 105\n",
      "walking apart 846 106\n",
      "reach into pocket 863 107\n",
      "staggering 900 108\n",
      "put on a shoe 900 109\n",
      "play with phone/tablet 900 110\n",
      "take off jacket 900 111\n",
      "brush hair 900 112\n",
      "writing 900 113\n",
      "reading 900 114\n",
      "put on jacket 900 115\n",
      "take off a shoe 900 116\n",
      "walking towards 900 117\n",
      "type on a keyboard 900 118\n",
      "wipe face 900 119\n"
     ]
    }
   ],
   "source": [
    "l = 0\n",
    "above_val ={}\n",
    "for k,v in num_frames.items():\n",
    "    above_val[class_names[str(int(k))]] = (np.asarray(v)>70).sum()\n",
    "\n",
    "sort_dict = dict(sorted(above_val.items(), key=lambda x:x[1]))\n",
    "for i,(k,v) in enumerate(sort_dict.items()):\n",
    "    print(k,v,i)"
   ],
   "metadata": {
    "collapsed": false
   }
  },
  {
   "cell_type": "code",
   "execution_count": 5,
   "outputs": [],
   "source": [
    "import os\n",
    "import random"
   ],
   "metadata": {
    "collapsed": false
   }
  },
  {
   "cell_type": "code",
   "execution_count": 6,
   "outputs": [],
   "source": [
    "dir_to_clean = \"../../data/sequence_data/midpoint_50f\"\n",
    "file_names = os.listdir(dir_to_clean)"
   ],
   "metadata": {
    "collapsed": false
   }
  },
  {
   "cell_type": "code",
   "execution_count": 7,
   "outputs": [],
   "source": [
    "classwise_files = {}\n",
    "for fn in file_names:\n",
    "    try:\n",
    "        classwise_files[fn.split(\"_cls_\")[0]].append(fn)\n",
    "    except KeyError:\n",
    "        classwise_files[fn.split(\"_cls_\")[0]] = [fn]\n",
    "\n",
    "for k,v in classwise_files.items():\n",
    "    random.shuffle(v)\n",
    "\n",
    "selected_classes=[]\n",
    "selected_values = {}\n",
    "for i,(k,v) in enumerate(classwise_files.items()):\n",
    "    if len(v)>=700:\n",
    "        selected_values[k] = random.sample(v, 700)\n",
    "        selected_classes.append(k)\n",
    "    else:\n",
    "        selected_values[k] = []\n",
    "\n"
   ],
   "metadata": {
    "collapsed": false
   }
  },
  {
   "cell_type": "code",
   "execution_count": 8,
   "outputs": [
    {
     "data": {
      "text/plain": "64"
     },
     "execution_count": 8,
     "metadata": {},
     "output_type": "execute_result"
    }
   ],
   "source": [
    "len(selected_classes)"
   ],
   "metadata": {
    "collapsed": false
   }
  },
  {
   "cell_type": "markdown",
   "source": [
    "from tqdm import tqdm\n",
    "for fn in tqdm(os.listdir(dir_to_clean)):\n",
    "    cls = fn.split(\"_cls_\")[0]\n",
    "    if fn not in selected_values[cls]:\n",
    "        os.remove(os.path.join(dir_to_clean,fn))"
   ],
   "metadata": {
    "collapsed": false
   }
  },
  {
   "cell_type": "markdown",
   "source": [
    "import json\n",
    "\n",
    "os.makedirs(\"../../data/sequence_data/metadata/midpoint_50f\",exist_ok=True)\n",
    "with open(\"../../data/sequence_data/metadata/midpoint_50f/class_data.json\",\"w\") as f0:\n",
    "    json.dump({\n",
    "        \"selected_files\":selected_values,\n",
    "        \"selected_classes\":selected_classes,\n",
    "    },f0)"
   ],
   "metadata": {
    "collapsed": false
   }
  },
  {
   "cell_type": "code",
   "execution_count": null,
   "outputs": [],
   "source": [],
   "metadata": {
    "collapsed": false
   }
  }
 ],
 "metadata": {
  "kernelspec": {
   "display_name": "Python 3",
   "language": "python",
   "name": "python3"
  },
  "language_info": {
   "codemirror_mode": {
    "name": "ipython",
    "version": 2
   },
   "file_extension": ".py",
   "mimetype": "text/x-python",
   "name": "python",
   "nbconvert_exporter": "python",
   "pygments_lexer": "ipython2",
   "version": "2.7.6"
  }
 },
 "nbformat": 4,
 "nbformat_minor": 0
}
