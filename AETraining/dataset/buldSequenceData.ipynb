{
 "cells": [
  {
   "cell_type": "code",
   "execution_count": 1,
   "metadata": {
    "collapsed": true
   },
   "outputs": [],
   "source": [
    "import os\n",
    "import random\n",
    "import numpy as np\n",
    "from tqdm import tqdm\n",
    "\n",
    "import torch\n",
    "from torch import nn\n",
    "from torch import optim\n",
    "import torch.nn.functional as F\n",
    "from torch.utils.data import Dataset\n",
    "from torch.utils.data import DataLoader\n",
    "from tqdm import tqdm\n",
    "import random\n",
    "import copy\n",
    "import seaborn as sns\n",
    "from pylab import rcParams\n",
    "import matplotlib.pyplot as plt\n",
    "import shutil\n",
    "\n",
    "%matplotlib inline\n",
    "%config InlineBackend.figure_format='retina'\n",
    "\n",
    "sns.set(style='whitegrid', palette='muted', font_scale=1.2)\n",
    "\n",
    "HAPPY_COLORS_PALETTE = [\"#01BEFE\", \"#FFDD00\", \"#FF7D00\", \"#FF006D\", \"#ADFF02\", \"#8F00FF\"]\n",
    "\n",
    "sns.set_palette(sns.color_palette(HAPPY_COLORS_PALETTE))\n",
    "\n",
    "rcParams['figure.figsize'] = 12, 8"
   ]
  },
  {
   "cell_type": "code",
   "execution_count": null,
   "outputs": [],
   "source": [
    "npz_files = \"../data/skel_out/hmdb51\""
   ],
   "metadata": {
    "collapsed": false
   }
  },
  {
   "cell_type": "code",
   "execution_count": 7,
   "outputs": [],
   "source": [
    "lol = np.load(\"../data/skel_out/hmbd51/brush_hair/April_09_brush_hair_u_nm_np1_ba_goo_2.npz\")\n",
    "coords, vid_size = lol[\"coords\"],lol[\"video_size\"]"
   ],
   "metadata": {
    "collapsed": false
   }
  },
  {
   "cell_type": "code",
   "execution_count": 8,
   "outputs": [
    {
     "data": {
      "text/plain": "(322, 33, 3)"
     },
     "execution_count": 8,
     "metadata": {},
     "output_type": "execute_result"
    }
   ],
   "source": [
    "coords.shape"
   ],
   "metadata": {
    "collapsed": false
   }
  },
  {
   "cell_type": "markdown",
   "source": [
    "### Add Skeleton of selected videos"
   ],
   "metadata": {
    "collapsed": false
   }
  },
  {
   "cell_type": "code",
   "execution_count": 9,
   "outputs": [],
   "source": [
    "#action_npz_file = \"../data/skeleton_k10_v7_ movements.npz\"\n",
    "#action_arr = np.load(action_npz_file)"
   ],
   "metadata": {
    "collapsed": false
   }
  },
  {
   "cell_type": "code",
   "execution_count": 10,
   "outputs": [],
   "source": [
    "#for cls,arr,vid_n in zip(action_arr[\"arr_0\"],action_arr[\"arr_1\"],action_arr[\"arr_2\"]):\n",
    "#    os.makedirs(os.path.join(npz_files,f\"{cls}\"),exist_ok=True)\n",
    "#    np.savez(os.path.join(npz_files,f\"{cls}/{vid_n}.npz\"),coords)"
   ],
   "metadata": {
    "collapsed": false
   }
  },
  {
   "cell_type": "code",
   "execution_count": null,
   "outputs": [],
   "source": [],
   "metadata": {
    "collapsed": false
   }
  },
  {
   "cell_type": "markdown",
   "source": [
    "## Sequence Data"
   ],
   "metadata": {
    "collapsed": false
   }
  },
  {
   "cell_type": "code",
   "execution_count": 51,
   "outputs": [],
   "source": [
    "root_dir = \"D:\\\\FYP\\\\HAR-ZSL-XAI\\\\AETraining\"\n",
    "main_dir = \"D:\\\\FYP\\\\HAR-ZSL-XAI\"\n",
    "data_dir = os.path.join(main_dir,\"data\",\"skel_out\",\"hmbd51\")\n",
    "refined_data = os.path.join(main_dir,\"data\",\"sequence_data\",\"random_50f\")\n",
    "class_names = os.listdir(data_dir)\n",
    "train_ratio = 0.7\n",
    "val_ratio = 0.15\n",
    "test_ratio = 1-train_ratio - val_ratio\n",
    "batch_size = 32"
   ],
   "metadata": {
    "collapsed": false
   }
  },
  {
   "cell_type": "code",
   "execution_count": 52,
   "outputs": [],
   "source": [
    "file_list = []\n",
    "\n",
    "for class_n in os.listdir(data_dir):\n",
    "    file_list += [os.path.join(data_dir,class_n,x) for x in os.listdir(os.path.join(data_dir,class_n))]"
   ],
   "metadata": {
    "collapsed": false
   }
  },
  {
   "cell_type": "code",
   "execution_count": 53,
   "outputs": [
    {
     "data": {
      "text/plain": "8965"
     },
     "execution_count": 53,
     "metadata": {},
     "output_type": "execute_result"
    }
   ],
   "source": [
    "len(file_list)"
   ],
   "metadata": {
    "collapsed": false
   }
  },
  {
   "cell_type": "code",
   "execution_count": 54,
   "outputs": [],
   "source": [
    "def break_into_time_frames(coords,vid_size,time_window=50,stride=40):\n",
    "    shape = coords.shape\n",
    "    [h,w] = vid_size\n",
    "\n",
    "    #[x,y,z] is the format\n",
    "    if shape[0]<time_window:\n",
    "        return None\n",
    "\n",
    "    frame_points = list(range(0,shape[0]-time_window,stride))\n",
    "    arrays = []\n",
    "    for i in frame_points:\n",
    "        arrays.append(coords[i:i+time_window])\n",
    "    return arrays\n",
    "\n",
    "def random_break_into_time_frames(coords,vid_size,time_window=100,select=50,stride =40):\n",
    "    shape = coords.shape\n",
    "    [h,w] = vid_size\n",
    "\n",
    "    #[x,y,z] is the format\n",
    "    if shape[0]<time_window:\n",
    "        return None\n",
    "\n",
    "    frame_points = list(range(0,shape[0]-time_window,stride))\n",
    "    arrays = []\n",
    "    for i in frame_points:\n",
    "        frame_no = sorted(random.sample(range(i,i+time_window),select))\n",
    "        arrays.append(coords[frame_no])\n",
    "    return arrays\n",
    "\n",
    "def save_arrays(data_dir,file_name,class_name,arrays,vid_size):\n",
    "    for __id,each_array in enumerate(arrays):\n",
    "        np.savez(os.path.join(data_dir,f\"{class_name}_cls_{file_name}_{__id}.npz\"),coords=each_array,video_size=vid_size)\n",
    "\n",
    "\n",
    "def classname_id(class_name_list):\n",
    "    id2classname = {k:v for k, v in zip(list(range(len(class_name_list))),class_name_list)}\n",
    "    classname2id = {v:k for k, v in id2classname.items()}\n",
    "    return id2classname, classname2id"
   ],
   "metadata": {
    "collapsed": false
   }
  },
  {
   "cell_type": "code",
   "execution_count": 55,
   "outputs": [],
   "source": [
    "import cv2\n",
    "\n",
    "device = torch.device(\"cuda\" if torch.cuda.is_available() else \"cpu\")\n",
    "\n",
    "def gen_skeleton(frame, connections, height, width):\n",
    "    img_3 = np.zeros([height, width,3],dtype=np.uint8)\n",
    "    img_3.fill(255)\n",
    "\n",
    "    # add circles\n",
    "    for coord in frame:\n",
    "        x, y = int(width*coord[0]), int(height*coord[1])\n",
    "        img_3 = cv2.circle(img_3, center=(x,y), radius=1, color=(255, 0, 0), thickness=6)\n",
    "\n",
    "    # add lines\n",
    "    mapping_list = [(0, 1), (1, 3), (3, 5), (0, 2), (2, 4), (0, 6), (1, 7), (6, 7), (6, 8), (7, 9), (8, 10), (9, 11)]\n",
    "    for line in mapping_list:\n",
    "        i, j = line\n",
    "        st = frame[i, :]\n",
    "        start_point = (int(width*st[0]), int(height*st[1]))\n",
    "\n",
    "        en = frame[j, :]\n",
    "        end_point = (int(width*en[0]), int(height*en[1]))\n",
    "\n",
    "        img3_ = cv2.line(img_3, start_point, end_point, color=(0, 0, 0), thickness=3)\n",
    "\n",
    "    return img_3\n",
    "\n",
    "\n",
    "\n",
    "def gen_video(points, save_file, frame_h, frame_w):\n",
    "    # make 3D if points are flatten\n",
    "    if len(points.shape) == 2:\n",
    "        fts = points.shape[1]\n",
    "        x_cds = list(range(0, fts, 3))\n",
    "        y_cds = list(range(1, fts, 3))\n",
    "        z_cds = list(range(2, fts, 3))\n",
    "        points = np.transpose(np.array([points[:, x_cds], points[:, y_cds], points[:, z_cds]]), (1,2,0))\n",
    "\n",
    "    size = (frame_w, frame_h)\n",
    "    result = cv2.VideoWriter(save_file,\n",
    "                         cv2.VideoWriter_fourcc(*'MJPG'),\n",
    "                         10, size)\n",
    "\n",
    "    # mapping_list = [(11, 12), (11, 13), (13, 15), (12, 14), (14, 16), (12, 24), (11, 23), (23, 24), (24, 26), (26, 28), (23, 25), (25, 27)]\n",
    "    mapping_list = [(0, 1), (1, 3), (3, 5), (0, 2), (2, 4), (0, 6), (1, 7), (6, 7), (6, 8), (7, 9), (8, 10), (9, 11)]\n",
    "    for __id,frame in enumerate(points):\n",
    "        skel_image = gen_skeleton(frame, mapping_list, frame_h, frame_w)\n",
    "        result.write(skel_image)\n",
    "\n",
    "    result.release()"
   ],
   "metadata": {
    "collapsed": false
   }
  },
  {
   "cell_type": "code",
   "execution_count": 58,
   "outputs": [
    {
     "name": "stderr",
     "output_type": "stream",
     "text": [
      "100%|██████████| 8965/8965 [05:51<00:00, 25.48it/s] \n"
     ]
    }
   ],
   "source": [
    "os.makedirs(refined_data,exist_ok=True)\n",
    "for each_file in tqdm(file_list):\n",
    "  a_file = np.load(each_file)\n",
    "  coords, vid_size = a_file[\"coords\"],a_file[\"video_size\"]\n",
    "  f_point = random_break_into_time_frames(coords,vid_size)\n",
    "\n",
    "  path_parts = each_file.strip().split(os.path.sep)\n",
    "  #print(path_parts)\n",
    "  class_n = path_parts[-2]\n",
    "  file_id = path_parts[-1].split(\".\")[0]\n",
    "\n",
    "  #print(class_n, file_id)\n",
    "\n",
    "  if f_point:\n",
    "      gen_video(f_point[0], \"check_vid.mp4\", 400, 400)\n",
    "      save_arrays(refined_data,file_id,class_n,f_point,vid_size)"
   ],
   "metadata": {
    "collapsed": false
   }
  },
  {
   "cell_type": "code",
   "execution_count": 57,
   "outputs": [],
   "source": [
    "a_file = np.load(\"D:\\\\FYP\\\\HAR-ZSL-XAI\\\\data\\\\skel_out\\\\hmbd51\\\\run\\\\A_Beautiful_Mind_4_run_f_cm_np1_ba_med_9.npz\")\n",
    "coords, vid_size = a_file[\"coords\"],a_file[\"video_size\"]\n",
    "f_point = random_break_into_time_frames(coords,vid_size)\n",
    "\n",
    "path_parts = each_file.strip().split(os.path.sep)\n",
    "#print(path_parts)\n",
    "class_n = path_parts[-2]\n",
    "file_id = path_parts[-1].split(\".\")[0]\n",
    "\n",
    "#print(class_n, file_id)\n",
    "\n",
    "if f_point:\n",
    "    gen_video(a_file[\"coords\"], \"check_vid_main.mp4\", 400, 400)\n",
    "    gen_video(f_point[0], \"check_vid.mp4\", 400, 400)\n",
    "    save_arrays(refined_data,file_id,class_n,f_point,vid_size)"
   ],
   "metadata": {
    "collapsed": false
   }
  },
  {
   "cell_type": "code",
   "execution_count": 57,
   "outputs": [],
   "source": [],
   "metadata": {
    "collapsed": false
   }
  },
  {
   "cell_type": "code",
   "execution_count": null,
   "outputs": [],
   "source": [],
   "metadata": {
    "collapsed": false
   }
  }
 ],
 "metadata": {
  "kernelspec": {
   "display_name": "Python 3",
   "language": "python",
   "name": "python3"
  },
  "language_info": {
   "codemirror_mode": {
    "name": "ipython",
    "version": 2
   },
   "file_extension": ".py",
   "mimetype": "text/x-python",
   "name": "python",
   "nbconvert_exporter": "python",
   "pygments_lexer": "ipython2",
   "version": "2.7.6"
  }
 },
 "nbformat": 4,
 "nbformat_minor": 0
}
