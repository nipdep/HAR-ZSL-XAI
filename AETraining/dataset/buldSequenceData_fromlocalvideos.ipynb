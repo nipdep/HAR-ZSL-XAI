{
 "cells": [
  {
   "cell_type": "code",
   "execution_count": 1,
   "metadata": {
    "collapsed": true
   },
   "outputs": [],
   "source": [
    "import json\n",
    "import os\n",
    "import random\n",
    "import numpy as np\n",
    "from tqdm import tqdm\n",
    "\n",
    "import torch\n",
    "from tqdm import tqdm\n",
    "import random\n",
    "import seaborn as sns\n",
    "from pylab import rcParams\n",
    "\n",
    "from SkeletonData.data import *\n",
    "\n",
    "%matplotlib inline\n",
    "%config InlineBackend.figure_format='retina'\n",
    "\n",
    "sns.set(style='whitegrid', palette='muted', font_scale=1.2)\n",
    "\n",
    "HAPPY_COLORS_PALETTE = [\"#01BEFE\", \"#FFDD00\", \"#FF7D00\", \"#FF006D\", \"#ADFF02\", \"#8F00FF\"]\n",
    "\n",
    "sns.set_palette(sns.color_palette(HAPPY_COLORS_PALETTE))\n",
    "\n",
    "rcParams['figure.figsize'] = 12, 8"
   ]
  },
  {
   "cell_type": "markdown",
   "source": [
    "### Add Skeleton of selected videos"
   ],
   "metadata": {
    "collapsed": false
   }
  },
  {
   "cell_type": "code",
   "execution_count": 2,
   "outputs": [],
   "source": [
    "#action_npz_file = \"../data/skeleton_k10_v7_ movements.npz\"\n",
    "#action_arr = np.load(action_npz_file)"
   ],
   "metadata": {
    "collapsed": false
   }
  },
  {
   "cell_type": "code",
   "execution_count": 3,
   "outputs": [],
   "source": [
    "#for cls,arr,vid_n in zip(action_arr[\"arr_0\"],action_arr[\"arr_1\"],action_arr[\"arr_2\"]):\n",
    "#    os.makedirs(os.path.join(npz_files,f\"{cls}\"),exist_ok=True)\n",
    "#    np.savez(os.path.join(npz_files,f\"{cls}/{vid_n}.npz\"),coords)"
   ],
   "metadata": {
    "collapsed": false
   }
  },
  {
   "cell_type": "code",
   "execution_count": 4,
   "outputs": [],
   "source": [
    "device = torch.device(\"cuda\" if torch.cuda.is_available() else \"cpu\")"
   ],
   "metadata": {
    "collapsed": false
   }
  },
  {
   "cell_type": "code",
   "execution_count": 5,
   "outputs": [],
   "source": [
    "mapping_l = [\n",
    "        [15, 13], [13, 11], [11, 5],\n",
    "        [12, 14], [14, 16], [12, 6],\n",
    "        [3, 1],[1, 2],[1, 0],[0, 2],[2,4],\n",
    "        [9, 7], [7,5], [5, 6],\n",
    "        [6, 8], [8, 10],\n",
    "        ]\n",
    "#mapping_l = []"
   ],
   "metadata": {
    "collapsed": false
   }
  },
  {
   "cell_type": "markdown",
   "source": [
    "## Sequence Data"
   ],
   "metadata": {
    "collapsed": false
   }
  },
  {
   "cell_type": "code",
   "execution_count": 6,
   "outputs": [],
   "source": [
    "root_dir = \"D:\\\\FYP\\\\HAR-ZSL-XAI\\\\AETraining\"\n",
    "main_dir = \"D:\\\\FYP\\\\HAR-ZSL-XAI\"\n",
    "data_dir = os.path.join(main_dir,\"pyskl/HRNetSkeletons/nipun_video_dataset/PAMAP2_K10_V1/combined.pkl\")\n",
    "refined_data = os.path.join(main_dir,\"data\",\"sequence_data\",\"random_50f\")\n",
    "train_ratio = 0.7\n",
    "val_ratio = 0.15\n",
    "test_ratio = 1-train_ratio - val_ratio\n",
    "batch_size = 32"
   ],
   "metadata": {
    "collapsed": false
   }
  },
  {
   "cell_type": "code",
   "execution_count": 7,
   "outputs": [],
   "source": [
    "class_names = os.listdir(os.path.join(main_dir,\"data/nipun_video_dataset/PAMAP2_K10_V1\"))"
   ],
   "metadata": {
    "collapsed": false
   }
  },
  {
   "cell_type": "code",
   "execution_count": 8,
   "outputs": [],
   "source": [
    "from SkeletonData.array_segment import *\n",
    "from SkeletonData.visualize import *"
   ],
   "metadata": {
    "collapsed": false
   }
  },
  {
   "cell_type": "code",
   "execution_count": 9,
   "outputs": [],
   "source": [
    "pkl_reader = SkeletonPickleReader(file_path=\"D:/FYP/HAR-ZSL-XAI/pyskl/HRNetSkeletons/nipun_video_dataset/PAMAP2_K10_V1/combined.pkl\")\n",
    "#pkl_reader = SkeletonPickleReader(file_path=\"E:\\\\FYP_Data\\\\NTU120\\\\ntu120_hrnet.pkl\")\n",
    "anno = pkl_reader.generate(split=False)"
   ],
   "metadata": {
    "collapsed": false
   }
  },
  {
   "cell_type": "code",
   "execution_count": 10,
   "outputs": [],
   "source": [
    "files = FileDictIterator(anno)"
   ],
   "metadata": {
    "collapsed": false
   }
  },
  {
   "cell_type": "code",
   "execution_count": 14,
   "outputs": [],
   "source": [
    "from functools import partial\n",
    "from concurrent.futures import ProcessPoolExecutor, ThreadPoolExecutor"
   ],
   "metadata": {
    "collapsed": false
   }
  },
  {
   "cell_type": "markdown",
   "source": [
    "### Visualize"
   ],
   "metadata": {
    "collapsed": false
   }
  },
  {
   "cell_type": "code",
   "execution_count": 16,
   "outputs": [],
   "source": [
    "def visualize_after_normalize(__f):\n",
    "    kp = __f[\"keypoint\"][0]\n",
    "    kp[:,:,0] = kp[:,:,0]/__f[\"original_shape\"][1]\n",
    "    kp[:,:,1] = kp[:,:,1]/__f[\"original_shape\"][0]\n",
    "\n",
    "    gen_video(kp,f\"temp_files/{__f['frame_dir']}.mp4\",__f[\"original_shape\"][0],__f[\"original_shape\"][1],mapping_list=mapping_l)\n",
    "\n",
    "    return f\"temp_files/{__f['frame_dir']}.mp4\""
   ],
   "metadata": {
    "collapsed": false
   }
  },
  {
   "cell_type": "code",
   "execution_count": 17,
   "outputs": [
    {
     "name": "stderr",
     "output_type": "stream",
     "text": [
      "Saved Videos::   0%|          | 52/113945 [00:25<15:49:06,  2.00it/s]\n"
     ]
    },
    {
     "ename": "KeyboardInterrupt",
     "evalue": "",
     "output_type": "error",
     "traceback": [
      "\u001B[1;31m---------------------------------------------------------------------------\u001B[0m",
      "\u001B[1;31mKeyboardInterrupt\u001B[0m                         Traceback (most recent call last)",
      "Cell \u001B[1;32mIn[17], line 4\u001B[0m\n\u001B[0;32m      1\u001B[0m os\u001B[38;5;241m.\u001B[39mmakedirs(\u001B[38;5;124m\"\u001B[39m\u001B[38;5;124mtemp_files\u001B[39m\u001B[38;5;124m\"\u001B[39m,exist_ok\u001B[38;5;241m=\u001B[39m\u001B[38;5;28;01mTrue\u001B[39;00m)\n\u001B[0;32m      3\u001B[0m \u001B[38;5;28;01mwith\u001B[39;00m ThreadPoolExecutor() \u001B[38;5;28;01mas\u001B[39;00m executor:\n\u001B[1;32m----> 4\u001B[0m     file_loc \u001B[38;5;241m=\u001B[39m \u001B[38;5;28;43mlist\u001B[39;49m\u001B[43m(\u001B[49m\u001B[43mtqdm\u001B[49m\u001B[43m(\u001B[49m\u001B[43mexecutor\u001B[49m\u001B[38;5;241;43m.\u001B[39;49m\u001B[43mmap\u001B[49m\u001B[43m(\u001B[49m\u001B[43mvisualize_after_normalize\u001B[49m\u001B[43m,\u001B[49m\u001B[43mfiles\u001B[49m\u001B[43m)\u001B[49m\u001B[43m,\u001B[49m\u001B[43m \u001B[49m\u001B[43mtotal\u001B[49m\u001B[38;5;241;43m=\u001B[39;49m\u001B[38;5;28;43mlen\u001B[39;49m\u001B[43m(\u001B[49m\u001B[43mfiles\u001B[49m\u001B[43m)\u001B[49m\u001B[43m,\u001B[49m\u001B[43mdesc\u001B[49m\u001B[38;5;241;43m=\u001B[39;49m\u001B[38;5;124;43m\"\u001B[39;49m\u001B[38;5;124;43mSaved Videos:\u001B[39;49m\u001B[38;5;124;43m\"\u001B[39;49m\u001B[43m)\u001B[49m\u001B[43m)\u001B[49m\n",
      "File \u001B[1;32md:\\Anaconda\\Main\\envs\\fyp\\lib\\site-packages\\tqdm\\std.py:1195\u001B[0m, in \u001B[0;36mtqdm.__iter__\u001B[1;34m(self)\u001B[0m\n\u001B[0;32m   1192\u001B[0m time \u001B[38;5;241m=\u001B[39m \u001B[38;5;28mself\u001B[39m\u001B[38;5;241m.\u001B[39m_time\n\u001B[0;32m   1194\u001B[0m \u001B[38;5;28;01mtry\u001B[39;00m:\n\u001B[1;32m-> 1195\u001B[0m     \u001B[38;5;28;01mfor\u001B[39;00m obj \u001B[38;5;129;01min\u001B[39;00m iterable:\n\u001B[0;32m   1196\u001B[0m         \u001B[38;5;28;01myield\u001B[39;00m obj\n\u001B[0;32m   1197\u001B[0m         \u001B[38;5;66;03m# Update and possibly print the progressbar.\u001B[39;00m\n\u001B[0;32m   1198\u001B[0m         \u001B[38;5;66;03m# Note: does not call self.update(1) for speed optimisation.\u001B[39;00m\n",
      "File \u001B[1;32md:\\Anaconda\\Main\\envs\\fyp\\lib\\concurrent\\futures\\_base.py:619\u001B[0m, in \u001B[0;36mExecutor.map.<locals>.result_iterator\u001B[1;34m()\u001B[0m\n\u001B[0;32m    616\u001B[0m \u001B[38;5;28;01mwhile\u001B[39;00m fs:\n\u001B[0;32m    617\u001B[0m     \u001B[38;5;66;03m# Careful not to keep a reference to the popped future\u001B[39;00m\n\u001B[0;32m    618\u001B[0m     \u001B[38;5;28;01mif\u001B[39;00m timeout \u001B[38;5;129;01mis\u001B[39;00m \u001B[38;5;28;01mNone\u001B[39;00m:\n\u001B[1;32m--> 619\u001B[0m         \u001B[38;5;28;01myield\u001B[39;00m \u001B[43mfs\u001B[49m\u001B[38;5;241;43m.\u001B[39;49m\u001B[43mpop\u001B[49m\u001B[43m(\u001B[49m\u001B[43m)\u001B[49m\u001B[38;5;241;43m.\u001B[39;49m\u001B[43mresult\u001B[49m\u001B[43m(\u001B[49m\u001B[43m)\u001B[49m\n\u001B[0;32m    620\u001B[0m     \u001B[38;5;28;01melse\u001B[39;00m:\n\u001B[0;32m    621\u001B[0m         \u001B[38;5;28;01myield\u001B[39;00m fs\u001B[38;5;241m.\u001B[39mpop()\u001B[38;5;241m.\u001B[39mresult(end_time \u001B[38;5;241m-\u001B[39m time\u001B[38;5;241m.\u001B[39mmonotonic())\n",
      "File \u001B[1;32md:\\Anaconda\\Main\\envs\\fyp\\lib\\concurrent\\futures\\_base.py:439\u001B[0m, in \u001B[0;36mFuture.result\u001B[1;34m(self, timeout)\u001B[0m\n\u001B[0;32m    436\u001B[0m \u001B[38;5;28;01melif\u001B[39;00m \u001B[38;5;28mself\u001B[39m\u001B[38;5;241m.\u001B[39m_state \u001B[38;5;241m==\u001B[39m FINISHED:\n\u001B[0;32m    437\u001B[0m     \u001B[38;5;28;01mreturn\u001B[39;00m \u001B[38;5;28mself\u001B[39m\u001B[38;5;241m.\u001B[39m__get_result()\n\u001B[1;32m--> 439\u001B[0m \u001B[38;5;28;43mself\u001B[39;49m\u001B[38;5;241;43m.\u001B[39;49m\u001B[43m_condition\u001B[49m\u001B[38;5;241;43m.\u001B[39;49m\u001B[43mwait\u001B[49m\u001B[43m(\u001B[49m\u001B[43mtimeout\u001B[49m\u001B[43m)\u001B[49m\n\u001B[0;32m    441\u001B[0m \u001B[38;5;28;01mif\u001B[39;00m \u001B[38;5;28mself\u001B[39m\u001B[38;5;241m.\u001B[39m_state \u001B[38;5;129;01min\u001B[39;00m [CANCELLED, CANCELLED_AND_NOTIFIED]:\n\u001B[0;32m    442\u001B[0m     \u001B[38;5;28;01mraise\u001B[39;00m CancelledError()\n",
      "File \u001B[1;32md:\\Anaconda\\Main\\envs\\fyp\\lib\\threading.py:302\u001B[0m, in \u001B[0;36mCondition.wait\u001B[1;34m(self, timeout)\u001B[0m\n\u001B[0;32m    300\u001B[0m \u001B[38;5;28;01mtry\u001B[39;00m:    \u001B[38;5;66;03m# restore state no matter what (e.g., KeyboardInterrupt)\u001B[39;00m\n\u001B[0;32m    301\u001B[0m     \u001B[38;5;28;01mif\u001B[39;00m timeout \u001B[38;5;129;01mis\u001B[39;00m \u001B[38;5;28;01mNone\u001B[39;00m:\n\u001B[1;32m--> 302\u001B[0m         \u001B[43mwaiter\u001B[49m\u001B[38;5;241;43m.\u001B[39;49m\u001B[43macquire\u001B[49m\u001B[43m(\u001B[49m\u001B[43m)\u001B[49m\n\u001B[0;32m    303\u001B[0m         gotit \u001B[38;5;241m=\u001B[39m \u001B[38;5;28;01mTrue\u001B[39;00m\n\u001B[0;32m    304\u001B[0m     \u001B[38;5;28;01melse\u001B[39;00m:\n",
      "\u001B[1;31mKeyboardInterrupt\u001B[0m: "
     ]
    }
   ],
   "source": [
    "os.makedirs(\"temp_files\",exist_ok=True)\n",
    "\n",
    "with ThreadPoolExecutor() as executor:\n",
    "    file_loc = list(tqdm(executor.map(visualize_after_normalize,files), total=len(files),desc=\"Saved Videos:\"))"
   ],
   "metadata": {
    "collapsed": false
   }
  },
  {
   "cell_type": "markdown",
   "source": [
    "### Break Into Segments"
   ],
   "metadata": {
    "collapsed": false
   }
  },
  {
   "cell_type": "code",
   "execution_count": 11,
   "outputs": [],
   "source": [
    " files = iter(files)"
   ],
   "metadata": {
    "collapsed": false
   }
  },
  {
   "cell_type": "code",
   "execution_count": 12,
   "outputs": [
    {
     "data": {
      "text/plain": "{'as10': (1080, 1920),\n 'as12': (1080, 1920),\n 'as13': (1080, 1920),\n 'as14': (1080, 1920),\n 'as15': (1080, 1920),\n 'as16': (1080, 1920),\n 'as18': (1080, 1920),\n 'as7': (1080, 1920),\n 'as8': (1080, 1920),\n 'as9': (1080, 1920),\n 'cd11': (1080, 1920),\n 'cd13': (1080, 1920),\n 'cd14': (1080, 1920),\n 'cd16': (1080, 1920),\n 'cd18': (1080, 1920),\n 'cd19': (1080, 1920),\n 'cd2': (1080, 1920),\n 'cd5': (1080, 1920),\n 'cd6': (1080, 1920),\n 'cd9': (1080, 1920),\n 'c10': (1080, 1920),\n 'c11': (1080, 1920),\n 'c13': (1080, 1920),\n 'c17': (1080, 1920),\n 'c18': (1080, 1920),\n 'c19': (1080, 1920),\n 'c2': (1080, 1920),\n 'c23': (1080, 1920),\n 'c24': (1080, 1920),\n 'c6': (1080, 1920),\n 'c14': (1080, 1920),\n 'c16': (1080, 1920),\n 'c20': (1080, 1920),\n 'c4': (1080, 1920),\n 'c9': (1080, 1920),\n 'ds1': (1080, 1920),\n 'ds10': (1080, 1920),\n 'ds12': (1080, 1920),\n 'ds13': (1080, 1920),\n 'ds18': (1080, 1920),\n 'ds20': (1080, 1920),\n 'ds22': (1080, 1920),\n 'ds5': (1080, 1920),\n 'ds7': (1080, 1920),\n 'ds9': (1080, 1920),\n 'fl10': (1080, 1920),\n 'fl12': (1080, 1920),\n 'fl13': (1080, 1920),\n 'fl16': (1080, 1920),\n 'fl18': (1080, 1920),\n 'fl2': (1080, 1920),\n 'fl4': (1080, 1920),\n 'fl5': (1080, 1920),\n 'fl6': (1080, 1920),\n 'fl8': (1080, 1920),\n 'hc11': (1080, 1920),\n 'hc13': (1080, 1920),\n 'hc17': (1080, 1920),\n 'hc18': (1080, 1920),\n 'hc2': (1080, 1920),\n 'hc20': (1080, 1920),\n 'hc22': (1080, 1920),\n 'hc5': (1080, 1920),\n 'hc7': (1080, 1920),\n 'hc9': (1080, 1920),\n 'i12': (1080, 1920),\n 'i13': (1080, 1920),\n 'i16': (1080, 1920),\n 'i19': (1080, 1920),\n 'i21': (1080, 1920),\n 'i26': (1080, 1920),\n 'i28': (1080, 1920),\n 'i32': (1080, 1920),\n 'i4': (1080, 1920),\n 'i7': (1080, 1920),\n 'l10': (1080, 1920),\n 'l11': (1080, 1920),\n 'l12': (1080, 1920),\n 'l13': (1080, 1920),\n 'l16': (1080, 1920),\n 'l17': (1080, 1920),\n 'l18': (1080, 1920),\n 'l20': (1080, 1920),\n 'l3': (1080, 1920),\n 'l4': (1080, 1920),\n 'nw1': (1080, 1920),\n 'nw10': (1080, 1920),\n 'nw14': (1080, 1920),\n 'nw16': (1080, 1920),\n 'nw18': (1080, 1920),\n 'nw20': (1080, 1920),\n 'nw3': (1080, 1920),\n 'nw5': (1080, 1920),\n 'nw6': (1080, 1920),\n 'nw8': (1080, 1920),\n 'ps1': (1080, 1920),\n 'ps10': (1080, 1920),\n 'ps12': (1080, 1920),\n 'ps13': (1080, 1920),\n 'ps18': (1080, 1920),\n 'ps20': (1080, 1920),\n 'ps3': (1080, 1920),\n 'ps5': (1080, 1920),\n 'ps7': (1080, 1920),\n 'ps9': (1080, 1920),\n 'rj1': (1080, 1920),\n 'rj13': (1080, 1920),\n 'rj14': (1080, 1920),\n 'rj15': (1080, 1920),\n 'rj18': (1080, 1920),\n 'rj20': (1080, 1920),\n 'rj3': (1080, 1920),\n 'rj5': (1080, 1920),\n 'rj6': (1080, 1920),\n 'rj9': (1080, 1920),\n 'r1': (1080, 1920),\n 'r12': (1080, 1920),\n 'r13': (1080, 1920),\n 'r15': (1080, 1920),\n 'r16': (1080, 1920),\n 'r18': (1080, 1920),\n 'r20': (1080, 1920),\n 'r3': (1080, 1920),\n 'r5': (1080, 1920),\n 'r9': (1080, 1920),\n 's1': (1080, 1920),\n 's10': (1080, 1920),\n 's11': (1080, 1920),\n 's12': (1080, 1920),\n 's2': (1080, 1920),\n 's5': (1080, 1920),\n 's6': (1080, 1920),\n 's7': (1080, 1920),\n 's8': (1080, 1920),\n 's9': (1080, 1920),\n 's13': (1080, 1920),\n 's15': (1080, 1920),\n 'vc11': (1080, 1920),\n 'vc15': (1080, 1920),\n 'vc19': (1080, 1920),\n 'vc2': (1080, 1920),\n 'vc21': (1080, 1920),\n 'vc25': (1080, 1920),\n 'vc3': (1080, 1920),\n 'vc5': (1080, 1920),\n 'vc7': (1080, 1920),\n 'vc9': (1080, 1920),\n 'w13': (1080, 1920),\n 'w15': (1080, 1920),\n 'w17': (1080, 1920),\n 'w18': (1080, 1920),\n 'w20': (1080, 1920),\n 'w23': (1080, 1920),\n 'w26': (1080, 1920),\n 'w5': (1080, 1920),\n 'w7': (1080, 1920),\n 'w9': (1080, 1920),\n 'wt16': (1080, 1920),\n 'wt18': (1080, 1920),\n 'wt19': (1080, 1920),\n 'wt2': (1080, 1920),\n 'wt20': (1080, 1920),\n 'wt21': (1080, 1920),\n 'wt23': (1080, 1920),\n 'wt24': (1080, 1920),\n 'wt25': (1080, 1920),\n 'wt4': (1080, 1920)}"
     },
     "execution_count": 12,
     "metadata": {},
     "output_type": "execute_result"
    }
   ],
   "source": [
    "id2shapes = {}\n",
    "for k,v in anno.items():\n",
    "    id2shapes[k] = v[\"original_shape\"]\n",
    "\n",
    "\n",
    "id2shapes"
   ],
   "metadata": {
    "collapsed": false
   }
  },
  {
   "cell_type": "code",
   "execution_count": 15,
   "outputs": [
    {
     "name": "stderr",
     "output_type": "stream",
     "text": [
      "Processed Files:: 100%|██████████| 167/167 [00:00<?, ?it/s]\n"
     ]
    }
   ],
   "source": [
    "os.makedirs(refined_data,exist_ok=True)\n",
    "#for each_file in tqdm(files,desc=\"Files Used\",total=len(files)):\n",
    "with ThreadPoolExecutor() as executor:\n",
    "    file_loc = list(tqdm(executor.map(partial(split_array_main,id2shapes,refined_data),files), total=len(files),desc=\"Processed Files:\"))"
   ],
   "metadata": {
    "collapsed": false
   }
  },
  {
   "cell_type": "code",
   "execution_count": null,
   "outputs": [],
   "source": [],
   "metadata": {
    "collapsed": false
   }
  }
 ],
 "metadata": {
  "kernelspec": {
   "display_name": "Python 3",
   "language": "python",
   "name": "python3"
  },
  "language_info": {
   "codemirror_mode": {
    "name": "ipython",
    "version": 2
   },
   "file_extension": ".py",
   "mimetype": "text/x-python",
   "name": "python",
   "nbconvert_exporter": "python",
   "pygments_lexer": "ipython2",
   "version": "2.7.6"
  }
 },
 "nbformat": 4,
 "nbformat_minor": 0
}
