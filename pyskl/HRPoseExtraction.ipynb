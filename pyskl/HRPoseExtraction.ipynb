{
 "cells": [
  {
   "cell_type": "code",
   "execution_count": 1,
   "metadata": {
    "collapsed": true
   },
   "outputs": [
    {
     "name": "stderr",
     "output_type": "stream",
     "text": [
      "D:\\Anaconda\\Main\\envs\\HRNet\\lib\\site-packages\\mmcv\\__init__.py:20: UserWarning: On January 1, 2023, MMCV will release v2.0.0, in which it will remove components related to the training process and add a data transformation module. In addition, it will rename the package names mmcv to mmcv-lite and mmcv-full to mmcv. See https://github.com/open-mmlab/mmcv/blob/master/docs/en/compatibility.md for more details.\n",
      "  warnings.warn(\n",
      "C:\\Users\\ACER\\AppData\\Roaming\\Python\\Python38\\site-packages\\scipy\\__init__.py:146: UserWarning: A NumPy version >=1.16.5 and <1.23.0 is required for this version of SciPy (detected version 1.24.1\n",
      "  warnings.warn(f\"A NumPy version >={np_minversion} and <{np_maxversion}\"\n"
     ]
    },
    {
     "name": "stdout",
     "output_type": "stream",
     "text": [
      "load checkpoint from http path: https://download.openmmlab.com/mmdetection/v2.0/faster_rcnn/faster_rcnn_r50_fpn_1x_coco-person/faster_rcnn_r50_fpn_1x_coco-person_20201216_175929-d022e227.pth\n",
      "load checkpoint from http path: https://download.openmmlab.com/mmpose/top_down/hrnet/hrnet_w32_coco_256x192-c78dce93_20200708.pth\n"
     ]
    }
   ],
   "source": [
    "import os\n",
    "import pickle\n",
    "import glob\n",
    "from tqdm import tqdm\n",
    "from SkeletonExtraction.HRNET import *"
   ]
  },
  {
   "cell_type": "code",
   "execution_count": 2,
   "outputs": [],
   "source": [
    "video_paths = \"../data/nipun_video_dataset/PAMAP2_K10_V1\"\n",
    "save_paths = \"HRNetSkeletons\"\n",
    "video_set_name = \"nipun_video_dataset/PAMAP2_K10_V1\""
   ],
   "metadata": {
    "collapsed": false
   }
  },
  {
   "cell_type": "code",
   "execution_count": 3,
   "outputs": [],
   "source": [
    "vid_list = gen_video_list(video_paths)"
   ],
   "metadata": {
    "collapsed": false
   }
  },
  {
   "cell_type": "code",
   "execution_count": 5,
   "outputs": [
    {
     "name": "stderr",
     "output_type": "stream",
     "text": [
      "Processed Files:: 100%|██████████| 177/177 [6:39:15<00:00, 135.34s/it]  \n"
     ]
    }
   ],
   "source": [
    "from concurrent.futures import ThreadPoolExecutor, ProcessPoolExecutor\n",
    "\n",
    "with ProcessPoolExecutor(max_workers=3) as executor:\n",
    "    skeletons = list(tqdm(executor.map(HRNetExtraction,vid_list), total=len(vid_list),desc=\"Processed Files:\"))"
   ],
   "metadata": {
    "collapsed": false
   }
  },
  {
   "cell_type": "code",
   "execution_count": 6,
   "outputs": [],
   "source": [
    "os.makedirs(os.path.join(save_paths,video_set_name),exist_ok=True)\n",
    "with open(os.path.join(save_paths,video_set_name,f'combined.pkl'),\"wb\") as f0:\n",
    "    pickle.dump(skeletons,f0)"
   ],
   "metadata": {
    "collapsed": false
   }
  },
  {
   "cell_type": "code",
   "execution_count": 7,
   "outputs": [],
   "source": [
    "with open(os.path.join(save_paths,video_set_name,f'combined.pkl'),\"rb\") as f0:\n",
    "    skeletons = pickle.load(f0)"
   ],
   "metadata": {
    "collapsed": false
   }
  },
  {
   "cell_type": "code",
   "execution_count": 8,
   "outputs": [],
   "source": [
    "connections = [\n",
    "        [15, 13], [13, 11], [11, 5],\n",
    "        [12, 14], [14, 16], [12, 6],\n",
    "        [3, 1],[1, 2],[1, 0],[0, 2],[2,4],\n",
    "        [9, 7], [7,5], [5, 6],\n",
    "        [6, 8], [8, 10],\n",
    "        ]"
   ],
   "metadata": {
    "collapsed": false
   }
  },
  {
   "cell_type": "code",
   "execution_count": 9,
   "outputs": [
    {
     "name": "stdout",
     "output_type": "stream",
     "text": [
      "dict_keys(['frame_dir', 'file_path', 'filename', 'label', 'img_shape', 'original_shape', 'total_frames', 'num_person_raw', 'keypoint', 'keypoint_score'])\n"
     ]
    }
   ],
   "source": [
    "for skeleton in skeletons:\n",
    "    print(skeleton.keys())\n",
    "    break"
   ],
   "metadata": {
    "collapsed": false
   }
  },
  {
   "cell_type": "code",
   "execution_count": 10,
   "outputs": [
    {
     "data": {
      "text/plain": "set()"
     },
     "execution_count": 10,
     "metadata": {},
     "output_type": "execute_result"
    }
   ],
   "source": [
    "set_extracted = set()\n",
    "set_original = set()\n",
    "\n",
    "for path in glob.glob(\"../data/nipun_video_dataset/PAMAP2_K10_V1/*/*.mp4\"):\n",
    "    set_original.add(path.split(os.path.sep)[-1][:-4])\n",
    "\n",
    "for skeleton in skeletons:\n",
    "    set_extracted.add(skeleton[\"frame_dir\"])\n",
    "\n",
    "\n",
    "set_extracted - set_original"
   ],
   "metadata": {
    "collapsed": false
   }
  },
  {
   "cell_type": "code",
   "execution_count": 11,
   "outputs": [
    {
     "name": "stderr",
     "output_type": "stream",
     "text": [
      "\n",
      "KeyboardInterrupt\n",
      "\n"
     ]
    }
   ],
   "source": [
    "import cv2\n",
    "\n",
    "os.makedirs(os.path.join(save_paths,video_set_name,\"videos\"),exist_ok=True)\n",
    "for skeleton in tqdm(skeletons):\n",
    "    width = skeleton[\"original_shape\"][0]\n",
    "    height = skeleton[\"original_shape\"][1]\n",
    "\n",
    "    size = (width, height)\n",
    "    result = cv2.VideoWriter(os.path.join(save_paths,video_set_name,\"videos\",f\"{skeleton['frame_dir']}.mp4\"),\n",
    "                             cv2.VideoWriter_fourcc(*'MJPG'),\n",
    "                             10, size)\n",
    "\n",
    "    frames = extract_frame(skeleton['file_path'])\n",
    "    #print(skeleton[\"keypoint\"].astype(np.uint8))\n",
    "    for f_no,frame in enumerate(frames):\n",
    "        for body in skeleton[\"keypoint\"]:\n",
    "            #print(body.shape,frame.shape)\n",
    "            for i, coord in enumerate(body[f_no]):\n",
    "                x, y = int(coord[0]),int(coord[1])\n",
    "                #print(x,y)\n",
    "                frame = cv2.circle(frame, center=(x, y), radius=3, color=(255, 0, 0), thickness=6)\n",
    "\n",
    "            for line in connections:\n",
    "                i, j = line\n",
    "                st = body[f_no][i, :]\n",
    "                start_point = (int(width * st[0]), int(height * st[1]))\n",
    "\n",
    "                en = body[f_no][j, :]\n",
    "                end_point = (int(width * en[0]), int(height * en[1]))\n",
    "\n",
    "                frame = cv2.line(frame, start_point, end_point, color=(0, 0, 255), thickness=3)\n",
    "\n",
    "        #result.write(frame)\n",
    "        os.makedirs(os.path.join(save_paths,video_set_name,\"videos\",f\"{skeleton['frame_dir']}\"),exist_ok=True)\n",
    "        cv2.imwrite(os.path.join(save_paths,video_set_name,\"videos\",f\"{skeleton['frame_dir']}\",f\"{f_no}.png\"),frame)"
   ],
   "metadata": {
    "collapsed": false
   }
  },
  {
   "cell_type": "code",
   "execution_count": null,
   "outputs": [],
   "source": [],
   "metadata": {
    "collapsed": false,
    "pycharm": {
     "is_executing": true
    }
   }
  },
  {
   "cell_type": "code",
   "execution_count": 25,
   "outputs": [],
   "source": [],
   "metadata": {
    "collapsed": false
   }
  }
 ],
 "metadata": {
  "kernelspec": {
   "display_name": "Python 3",
   "language": "python",
   "name": "python3"
  },
  "language_info": {
   "codemirror_mode": {
    "name": "ipython",
    "version": 2
   },
   "file_extension": ".py",
   "mimetype": "text/x-python",
   "name": "python",
   "nbconvert_exporter": "python",
   "pygments_lexer": "ipython2",
   "version": "2.7.6"
  }
 },
 "nbformat": 4,
 "nbformat_minor": 0
}
