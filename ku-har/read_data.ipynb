{
 "cells": [
  {
   "cell_type": "code",
   "execution_count": 2,
   "metadata": {},
   "outputs": [
    {
     "name": "stdout",
     "output_type": "stream",
     "text": [
      "^C\n"
     ]
    }
   ],
   "source": [
    "! pip install pandas numpy matplotlib seaborn"
   ]
  },
  {
   "cell_type": "markdown",
   "metadata": {},
   "source": [
    "---\n",
    "UTD-MHAD"
   ]
  },
  {
   "cell_type": "code",
   "execution_count": 1,
   "metadata": {},
   "outputs": [],
   "source": [
    "import os \n",
    "import scipy"
   ]
  },
  {
   "cell_type": "code",
   "execution_count": null,
   "metadata": {},
   "outputs": [],
   "source": [
    "data_path = '../../../Data/CZU-MHAD/sensor_mat'"
   ]
  },
  {
   "cell_type": "code",
   "execution_count": null,
   "metadata": {},
   "outputs": [],
   "source": [
    "sample_file_path = os.path.join(data_path, 'cx_a1_t2.mat')\n",
    "data_dict = scipy.io.loadmat(sample_file_path)\n",
    "data_dict"
   ]
  },
  {
   "cell_type": "markdown",
   "metadata": {},
   "source": [
    "---\n",
    "KU-HAR"
   ]
  },
  {
   "cell_type": "code",
   "execution_count": 1,
   "metadata": {},
   "outputs": [],
   "source": [
    "import pandas as pd \n",
    "import matplotlib.pyplot as plt \n",
    "import numpy as np "
   ]
  },
  {
   "cell_type": "code",
   "execution_count": 2,
   "metadata": {},
   "outputs": [
    {
     "data": {
      "text/html": [
       "<div>\n",
       "<style scoped>\n",
       "    .dataframe tbody tr th:only-of-type {\n",
       "        vertical-align: middle;\n",
       "    }\n",
       "\n",
       "    .dataframe tbody tr th {\n",
       "        vertical-align: top;\n",
       "    }\n",
       "\n",
       "    .dataframe thead th {\n",
       "        text-align: right;\n",
       "    }\n",
       "</style>\n",
       "<table border=\"1\" class=\"dataframe\">\n",
       "  <thead>\n",
       "    <tr style=\"text-align: right;\">\n",
       "      <th></th>\n",
       "      <th>0.0042305</th>\n",
       "      <th>-0.00028038</th>\n",
       "      <th>-0.013906</th>\n",
       "      <th>-0.0025436</th>\n",
       "      <th>0.027433</th>\n",
       "      <th>0.0583</th>\n",
       "      <th>0.05167</th>\n",
       "      <th>0.071857</th>\n",
       "      <th>0.080653</th>\n",
       "      <th>0.047917</th>\n",
       "      <th>...</th>\n",
       "      <th>-0.016692</th>\n",
       "      <th>-0.018566</th>\n",
       "      <th>-0.017361</th>\n",
       "      <th>-0.017919</th>\n",
       "      <th>-0.01668</th>\n",
       "      <th>-0.01665</th>\n",
       "      <th>-0.013097</th>\n",
       "      <th>0</th>\n",
       "      <th>300</th>\n",
       "      <th>1</th>\n",
       "    </tr>\n",
       "  </thead>\n",
       "  <tbody>\n",
       "    <tr>\n",
       "      <th>0</th>\n",
       "      <td>0.012482</td>\n",
       "      <td>0.032496</td>\n",
       "      <td>0.067856</td>\n",
       "      <td>0.071552</td>\n",
       "      <td>0.078103</td>\n",
       "      <td>0.040353</td>\n",
       "      <td>-0.001059</td>\n",
       "      <td>-0.018580</td>\n",
       "      <td>-0.026813</td>\n",
       "      <td>-0.011280</td>\n",
       "      <td>...</td>\n",
       "      <td>-0.008210</td>\n",
       "      <td>-0.010408</td>\n",
       "      <td>-0.011459</td>\n",
       "      <td>-0.011747</td>\n",
       "      <td>-0.010394</td>\n",
       "      <td>-0.008070</td>\n",
       "      <td>-0.004354</td>\n",
       "      <td>0</td>\n",
       "      <td>300</td>\n",
       "      <td>2</td>\n",
       "    </tr>\n",
       "    <tr>\n",
       "      <th>1</th>\n",
       "      <td>0.012127</td>\n",
       "      <td>0.028458</td>\n",
       "      <td>0.062075</td>\n",
       "      <td>0.052611</td>\n",
       "      <td>0.022942</td>\n",
       "      <td>-0.010017</td>\n",
       "      <td>-0.023151</td>\n",
       "      <td>-0.028515</td>\n",
       "      <td>0.005036</td>\n",
       "      <td>0.008450</td>\n",
       "      <td>...</td>\n",
       "      <td>0.000915</td>\n",
       "      <td>0.000771</td>\n",
       "      <td>-0.002560</td>\n",
       "      <td>-0.003020</td>\n",
       "      <td>-0.004190</td>\n",
       "      <td>0.000215</td>\n",
       "      <td>0.000850</td>\n",
       "      <td>0</td>\n",
       "      <td>300</td>\n",
       "      <td>3</td>\n",
       "    </tr>\n",
       "    <tr>\n",
       "      <th>2</th>\n",
       "      <td>0.052964</td>\n",
       "      <td>0.074319</td>\n",
       "      <td>0.110670</td>\n",
       "      <td>0.108490</td>\n",
       "      <td>0.091825</td>\n",
       "      <td>0.056989</td>\n",
       "      <td>0.029337</td>\n",
       "      <td>-0.016724</td>\n",
       "      <td>-0.042265</td>\n",
       "      <td>-0.053983</td>\n",
       "      <td>...</td>\n",
       "      <td>-0.001209</td>\n",
       "      <td>0.002878</td>\n",
       "      <td>0.000663</td>\n",
       "      <td>0.000982</td>\n",
       "      <td>-0.002148</td>\n",
       "      <td>-0.009200</td>\n",
       "      <td>-0.010653</td>\n",
       "      <td>0</td>\n",
       "      <td>300</td>\n",
       "      <td>4</td>\n",
       "    </tr>\n",
       "    <tr>\n",
       "      <th>3</th>\n",
       "      <td>-0.020462</td>\n",
       "      <td>-0.030787</td>\n",
       "      <td>-0.008617</td>\n",
       "      <td>0.008906</td>\n",
       "      <td>0.045046</td>\n",
       "      <td>0.042136</td>\n",
       "      <td>0.045037</td>\n",
       "      <td>0.045182</td>\n",
       "      <td>0.025113</td>\n",
       "      <td>0.021730</td>\n",
       "      <td>...</td>\n",
       "      <td>-0.006369</td>\n",
       "      <td>-0.006614</td>\n",
       "      <td>-0.004698</td>\n",
       "      <td>-0.007279</td>\n",
       "      <td>-0.006861</td>\n",
       "      <td>-0.006161</td>\n",
       "      <td>-0.006113</td>\n",
       "      <td>0</td>\n",
       "      <td>300</td>\n",
       "      <td>5</td>\n",
       "    </tr>\n",
       "    <tr>\n",
       "      <th>4</th>\n",
       "      <td>0.039138</td>\n",
       "      <td>0.037687</td>\n",
       "      <td>0.022782</td>\n",
       "      <td>0.009661</td>\n",
       "      <td>-0.000885</td>\n",
       "      <td>-0.000630</td>\n",
       "      <td>-0.019837</td>\n",
       "      <td>-0.016246</td>\n",
       "      <td>-0.007580</td>\n",
       "      <td>0.001479</td>\n",
       "      <td>...</td>\n",
       "      <td>0.001930</td>\n",
       "      <td>0.004500</td>\n",
       "      <td>0.008865</td>\n",
       "      <td>0.011290</td>\n",
       "      <td>0.010965</td>\n",
       "      <td>0.010364</td>\n",
       "      <td>0.009872</td>\n",
       "      <td>0</td>\n",
       "      <td>300</td>\n",
       "      <td>6</td>\n",
       "    </tr>\n",
       "  </tbody>\n",
       "</table>\n",
       "<p>5 rows × 1803 columns</p>\n",
       "</div>"
      ],
      "text/plain": [
       "   0.0042305  -0.00028038  -0.013906  -0.0025436  0.027433    0.0583  \\\n",
       "0   0.012482     0.032496   0.067856    0.071552  0.078103  0.040353   \n",
       "1   0.012127     0.028458   0.062075    0.052611  0.022942 -0.010017   \n",
       "2   0.052964     0.074319   0.110670    0.108490  0.091825  0.056989   \n",
       "3  -0.020462    -0.030787  -0.008617    0.008906  0.045046  0.042136   \n",
       "4   0.039138     0.037687   0.022782    0.009661 -0.000885 -0.000630   \n",
       "\n",
       "    0.05167  0.071857  0.080653  0.047917  ...  -0.016692  -0.018566  \\\n",
       "0 -0.001059 -0.018580 -0.026813 -0.011280  ...  -0.008210  -0.010408   \n",
       "1 -0.023151 -0.028515  0.005036  0.008450  ...   0.000915   0.000771   \n",
       "2  0.029337 -0.016724 -0.042265 -0.053983  ...  -0.001209   0.002878   \n",
       "3  0.045037  0.045182  0.025113  0.021730  ...  -0.006369  -0.006614   \n",
       "4 -0.019837 -0.016246 -0.007580  0.001479  ...   0.001930   0.004500   \n",
       "\n",
       "   -0.017361  -0.017919  -0.01668  -0.01665  -0.013097  0  300  1  \n",
       "0  -0.011459  -0.011747 -0.010394 -0.008070  -0.004354  0  300  2  \n",
       "1  -0.002560  -0.003020 -0.004190  0.000215   0.000850  0  300  3  \n",
       "2   0.000663   0.000982 -0.002148 -0.009200  -0.010653  0  300  4  \n",
       "3  -0.004698  -0.007279 -0.006861 -0.006161  -0.006113  0  300  5  \n",
       "4   0.008865   0.011290  0.010965  0.010364   0.009872  0  300  6  \n",
       "\n",
       "[5 rows x 1803 columns]"
      ]
     },
     "execution_count": 2,
     "metadata": {},
     "output_type": "execute_result"
    }
   ],
   "source": [
    "data_path = \"../../../Data/KU-HAR_time_domain_subsamples_20750x300.csv\"\n",
    "data_df = pd.read_csv(data_path)\n",
    "data_df.head()"
   ]
  },
  {
   "cell_type": "code",
   "execution_count": 3,
   "metadata": {},
   "outputs": [
    {
     "data": {
      "text/plain": [
       "0"
      ]
     },
     "execution_count": 3,
     "metadata": {},
     "output_type": "execute_result"
    }
   ],
   "source": [
    "data_df.isnull().sum().sum()"
   ]
  },
  {
   "cell_type": "code",
   "execution_count": 4,
   "metadata": {},
   "outputs": [],
   "source": [
    "# preprocessing of the original dataset to make compatible with model input format\n",
    "subdf_list = []\n",
    "\n",
    "for i, r in data_df.iterrows():\n",
    "    r = r.values \n",
    "    acx, acy, acz, gyx, gyy, gyz, label, _, ID = r[:300], r[300:600], r[600:900], r[900:1200], r[1200:1500], r[1500:1800], r[1800], r[1801], r[1802]\n",
    "    sub_df = pd.DataFrame({'accelX': acx, 'accelY': acy, 'accelZ': acz, 'GyroX': gyx, 'GyroY': gyy, 'GyroZ': gyz}, index=range(300))\n",
    "    sub_df['label'] = int(label)\n",
    "    sub_df['ID'] = int(ID)\n",
    "    subdf_list.append(sub_df)\n"
   ]
  },
  {
   "cell_type": "code",
   "execution_count": 5,
   "metadata": {},
   "outputs": [
    {
     "name": "stdout",
     "output_type": "stream",
     "text": [
      "(6224700, 8)\n"
     ]
    }
   ],
   "source": [
    "full_df = pd.concat(subdf_list)\n",
    "print(full_df.shape)"
   ]
  },
  {
   "cell_type": "code",
   "execution_count": 6,
   "metadata": {},
   "outputs": [
    {
     "data": {
      "text/html": [
       "<div>\n",
       "<style scoped>\n",
       "    .dataframe tbody tr th:only-of-type {\n",
       "        vertical-align: middle;\n",
       "    }\n",
       "\n",
       "    .dataframe tbody tr th {\n",
       "        vertical-align: top;\n",
       "    }\n",
       "\n",
       "    .dataframe thead th {\n",
       "        text-align: right;\n",
       "    }\n",
       "</style>\n",
       "<table border=\"1\" class=\"dataframe\">\n",
       "  <thead>\n",
       "    <tr style=\"text-align: right;\">\n",
       "      <th></th>\n",
       "      <th>accelX</th>\n",
       "      <th>accelY</th>\n",
       "      <th>accelZ</th>\n",
       "      <th>GyroX</th>\n",
       "      <th>GyroY</th>\n",
       "      <th>GyroZ</th>\n",
       "      <th>label</th>\n",
       "      <th>ID</th>\n",
       "    </tr>\n",
       "  </thead>\n",
       "  <tbody>\n",
       "    <tr>\n",
       "      <th>0</th>\n",
       "      <td>0.012482</td>\n",
       "      <td>-0.081862</td>\n",
       "      <td>0.007547</td>\n",
       "      <td>-0.024319</td>\n",
       "      <td>-0.010539</td>\n",
       "      <td>-0.007933</td>\n",
       "      <td>0</td>\n",
       "      <td>2</td>\n",
       "    </tr>\n",
       "    <tr>\n",
       "      <th>1</th>\n",
       "      <td>0.032496</td>\n",
       "      <td>-0.087494</td>\n",
       "      <td>0.042496</td>\n",
       "      <td>-0.025171</td>\n",
       "      <td>-0.003985</td>\n",
       "      <td>-0.006765</td>\n",
       "      <td>0</td>\n",
       "      <td>2</td>\n",
       "    </tr>\n",
       "    <tr>\n",
       "      <th>2</th>\n",
       "      <td>0.067856</td>\n",
       "      <td>-0.054918</td>\n",
       "      <td>0.071386</td>\n",
       "      <td>-0.023936</td>\n",
       "      <td>0.001559</td>\n",
       "      <td>-0.003346</td>\n",
       "      <td>0</td>\n",
       "      <td>2</td>\n",
       "    </tr>\n",
       "    <tr>\n",
       "      <th>3</th>\n",
       "      <td>0.071552</td>\n",
       "      <td>-0.030374</td>\n",
       "      <td>0.062229</td>\n",
       "      <td>-0.022035</td>\n",
       "      <td>0.011073</td>\n",
       "      <td>-0.003037</td>\n",
       "      <td>0</td>\n",
       "      <td>2</td>\n",
       "    </tr>\n",
       "    <tr>\n",
       "      <th>4</th>\n",
       "      <td>0.078103</td>\n",
       "      <td>-0.012147</td>\n",
       "      <td>0.066126</td>\n",
       "      <td>-0.021341</td>\n",
       "      <td>0.020339</td>\n",
       "      <td>-0.005582</td>\n",
       "      <td>0</td>\n",
       "      <td>2</td>\n",
       "    </tr>\n",
       "  </tbody>\n",
       "</table>\n",
       "</div>"
      ],
      "text/plain": [
       "     accelX    accelY    accelZ     GyroX     GyroY     GyroZ  label  ID\n",
       "0  0.012482 -0.081862  0.007547 -0.024319 -0.010539 -0.007933      0   2\n",
       "1  0.032496 -0.087494  0.042496 -0.025171 -0.003985 -0.006765      0   2\n",
       "2  0.067856 -0.054918  0.071386 -0.023936  0.001559 -0.003346      0   2\n",
       "3  0.071552 -0.030374  0.062229 -0.022035  0.011073 -0.003037      0   2\n",
       "4  0.078103 -0.012147  0.066126 -0.021341  0.020339 -0.005582      0   2"
      ]
     },
     "execution_count": 6,
     "metadata": {},
     "output_type": "execute_result"
    }
   ],
   "source": [
    "full_df.head()"
   ]
  },
  {
   "cell_type": "code",
   "execution_count": 7,
   "metadata": {},
   "outputs": [
    {
     "data": {
      "text/html": [
       "<div>\n",
       "<style scoped>\n",
       "    .dataframe tbody tr th:only-of-type {\n",
       "        vertical-align: middle;\n",
       "    }\n",
       "\n",
       "    .dataframe tbody tr th {\n",
       "        vertical-align: top;\n",
       "    }\n",
       "\n",
       "    .dataframe thead th {\n",
       "        text-align: right;\n",
       "    }\n",
       "</style>\n",
       "<table border=\"1\" class=\"dataframe\">\n",
       "  <thead>\n",
       "    <tr style=\"text-align: right;\">\n",
       "      <th></th>\n",
       "      <th>accelX</th>\n",
       "      <th>accelY</th>\n",
       "      <th>accelZ</th>\n",
       "      <th>GyroX</th>\n",
       "      <th>GyroY</th>\n",
       "      <th>GyroZ</th>\n",
       "      <th>label</th>\n",
       "      <th>ID</th>\n",
       "    </tr>\n",
       "  </thead>\n",
       "  <tbody>\n",
       "    <tr>\n",
       "      <th>0</th>\n",
       "      <td>0.83810</td>\n",
       "      <td>-0.330770</td>\n",
       "      <td>0.579780</td>\n",
       "      <td>0.381530</td>\n",
       "      <td>-0.83939</td>\n",
       "      <td>-0.52606</td>\n",
       "      <td>9</td>\n",
       "      <td>20750</td>\n",
       "    </tr>\n",
       "    <tr>\n",
       "      <th>1</th>\n",
       "      <td>-1.21160</td>\n",
       "      <td>-1.859500</td>\n",
       "      <td>-0.508210</td>\n",
       "      <td>0.363110</td>\n",
       "      <td>-0.86485</td>\n",
       "      <td>-0.52302</td>\n",
       "      <td>9</td>\n",
       "      <td>20750</td>\n",
       "    </tr>\n",
       "    <tr>\n",
       "      <th>2</th>\n",
       "      <td>-0.56718</td>\n",
       "      <td>-1.604800</td>\n",
       "      <td>0.019184</td>\n",
       "      <td>0.287570</td>\n",
       "      <td>-0.93565</td>\n",
       "      <td>-0.50314</td>\n",
       "      <td>9</td>\n",
       "      <td>20750</td>\n",
       "    </tr>\n",
       "    <tr>\n",
       "      <th>3</th>\n",
       "      <td>-0.55532</td>\n",
       "      <td>-0.071769</td>\n",
       "      <td>-0.945760</td>\n",
       "      <td>0.237230</td>\n",
       "      <td>-0.92913</td>\n",
       "      <td>-0.46137</td>\n",
       "      <td>9</td>\n",
       "      <td>20750</td>\n",
       "    </tr>\n",
       "    <tr>\n",
       "      <th>4</th>\n",
       "      <td>-0.64496</td>\n",
       "      <td>-0.073780</td>\n",
       "      <td>-0.966580</td>\n",
       "      <td>-0.005537</td>\n",
       "      <td>-0.77373</td>\n",
       "      <td>-0.19465</td>\n",
       "      <td>9</td>\n",
       "      <td>20750</td>\n",
       "    </tr>\n",
       "  </tbody>\n",
       "</table>\n",
       "</div>"
      ],
      "text/plain": [
       "    accelX    accelY    accelZ     GyroX    GyroY    GyroZ  label     ID\n",
       "0  0.83810 -0.330770  0.579780  0.381530 -0.83939 -0.52606      9  20750\n",
       "1 -1.21160 -1.859500 -0.508210  0.363110 -0.86485 -0.52302      9  20750\n",
       "2 -0.56718 -1.604800  0.019184  0.287570 -0.93565 -0.50314      9  20750\n",
       "3 -0.55532 -0.071769 -0.945760  0.237230 -0.92913 -0.46137      9  20750\n",
       "4 -0.64496 -0.073780 -0.966580 -0.005537 -0.77373 -0.19465      9  20750"
      ]
     },
     "execution_count": 7,
     "metadata": {},
     "output_type": "execute_result"
    }
   ],
   "source": [
    "sub_df.reset_index(inplace=True, drop=True)\n",
    "sub_df.head()"
   ]
  },
  {
   "cell_type": "code",
   "execution_count": 13,
   "metadata": {},
   "outputs": [],
   "source": [
    "class KUHARData(object):\n",
    "    \"\"\"KU-HAR dataset implementation\"\"\"\n",
    "\n",
    "    def __init__(self, data_dir, n_proc=1, config=None):\n",
    "        self.all_df, self.labels_df = self.load_all(data_dir)\n",
    "        self.all_IDs = self.all_df.ID.unique()\n",
    "        self.feature_names = self.all_df.columns[:-2]\n",
    "        self.feature_df = self.all_df[self.feature_names]\n",
    "        self.class_names = self.labels_df.labels.unique()\n",
    "    \n",
    "    def load_data(self, data_dir):\n",
    "        df = pd.read_csv(data_dir)\n",
    "        return df\n",
    "\n",
    "    def load_all(self, data_dir):\n",
    "        main_df = self.load_data(data_dir)\n",
    "        subdf_list = []\n",
    "        label_dict = {'ID': [], 'label': []}\n",
    "\n",
    "        for i, r in main_df.iterrows():\n",
    "            r = r.values \n",
    "            acx, acy, acz, gyx, gyy, gyz, label, _, ID = r[:300], r[300:600], r[600:900], r[900:1200], r[1200:1500], r[1500:1800], r[1800], r[1801], r[1802]\n",
    "            sub_df = pd.DataFrame({'accelX': acx, 'accelY': acy, 'accelZ': acz, 'GyroX': gyx, 'GyroY': gyy, 'GyroZ': gyz}, index=[int(ID),]*300)\n",
    "            label_dict['label'].append(int(label))\n",
    "            label_dict['ID'].append(int(ID))\n",
    "            subdf_list.append(sub_df)\n",
    "            label_df = pd.DataFrame(label_dict)\n",
    "            label_df.set_index('ID')\n",
    "\n",
    "        full_df = pd.concat(subdf_list)\n",
    "        # full_df.reset_index(inplace=True, drop=True)\n",
    "        return full_df, label_df"
   ]
  },
  {
   "cell_type": "code",
   "execution_count": 14,
   "metadata": {},
   "outputs": [],
   "source": [
    "dt = KUHARData(data_path)"
   ]
  },
  {
   "cell_type": "code",
   "execution_count": 15,
   "metadata": {},
   "outputs": [
    {
     "data": {
      "text/html": [
       "<div>\n",
       "<style scoped>\n",
       "    .dataframe tbody tr th:only-of-type {\n",
       "        vertical-align: middle;\n",
       "    }\n",
       "\n",
       "    .dataframe tbody tr th {\n",
       "        vertical-align: top;\n",
       "    }\n",
       "\n",
       "    .dataframe thead th {\n",
       "        text-align: right;\n",
       "    }\n",
       "</style>\n",
       "<table border=\"1\" class=\"dataframe\">\n",
       "  <thead>\n",
       "    <tr style=\"text-align: right;\">\n",
       "      <th></th>\n",
       "      <th>accelX</th>\n",
       "      <th>accelY</th>\n",
       "      <th>accelZ</th>\n",
       "      <th>GyroX</th>\n",
       "      <th>GyroY</th>\n",
       "      <th>GyroZ</th>\n",
       "      <th>label</th>\n",
       "      <th>ID</th>\n",
       "    </tr>\n",
       "  </thead>\n",
       "  <tbody>\n",
       "    <tr>\n",
       "      <th>2</th>\n",
       "      <td>0.012482</td>\n",
       "      <td>-0.081862</td>\n",
       "      <td>0.007547</td>\n",
       "      <td>-0.024319</td>\n",
       "      <td>-0.010539</td>\n",
       "      <td>-0.007933</td>\n",
       "      <td>0</td>\n",
       "      <td>2</td>\n",
       "    </tr>\n",
       "    <tr>\n",
       "      <th>2</th>\n",
       "      <td>0.032496</td>\n",
       "      <td>-0.087494</td>\n",
       "      <td>0.042496</td>\n",
       "      <td>-0.025171</td>\n",
       "      <td>-0.003985</td>\n",
       "      <td>-0.006765</td>\n",
       "      <td>0</td>\n",
       "      <td>2</td>\n",
       "    </tr>\n",
       "    <tr>\n",
       "      <th>2</th>\n",
       "      <td>0.067856</td>\n",
       "      <td>-0.054918</td>\n",
       "      <td>0.071386</td>\n",
       "      <td>-0.023936</td>\n",
       "      <td>0.001559</td>\n",
       "      <td>-0.003346</td>\n",
       "      <td>0</td>\n",
       "      <td>2</td>\n",
       "    </tr>\n",
       "    <tr>\n",
       "      <th>2</th>\n",
       "      <td>0.071552</td>\n",
       "      <td>-0.030374</td>\n",
       "      <td>0.062229</td>\n",
       "      <td>-0.022035</td>\n",
       "      <td>0.011073</td>\n",
       "      <td>-0.003037</td>\n",
       "      <td>0</td>\n",
       "      <td>2</td>\n",
       "    </tr>\n",
       "    <tr>\n",
       "      <th>2</th>\n",
       "      <td>0.078103</td>\n",
       "      <td>-0.012147</td>\n",
       "      <td>0.066126</td>\n",
       "      <td>-0.021341</td>\n",
       "      <td>0.020339</td>\n",
       "      <td>-0.005582</td>\n",
       "      <td>0</td>\n",
       "      <td>2</td>\n",
       "    </tr>\n",
       "  </tbody>\n",
       "</table>\n",
       "</div>"
      ],
      "text/plain": [
       "     accelX    accelY    accelZ     GyroX     GyroY     GyroZ  label  ID\n",
       "2  0.012482 -0.081862  0.007547 -0.024319 -0.010539 -0.007933      0   2\n",
       "2  0.032496 -0.087494  0.042496 -0.025171 -0.003985 -0.006765      0   2\n",
       "2  0.067856 -0.054918  0.071386 -0.023936  0.001559 -0.003346      0   2\n",
       "2  0.071552 -0.030374  0.062229 -0.022035  0.011073 -0.003037      0   2\n",
       "2  0.078103 -0.012147  0.066126 -0.021341  0.020339 -0.005582      0   2"
      ]
     },
     "execution_count": 15,
     "metadata": {},
     "output_type": "execute_result"
    }
   ],
   "source": [
    "dt.all_df.head()"
   ]
  },
  {
   "cell_type": "code",
   "execution_count": 21,
   "metadata": {},
   "outputs": [
    {
     "data": {
      "text/plain": [
       "accelX    -54.780617\n",
       "accelY    127.582697\n",
       "accelZ   -264.334243\n",
       "GyroX       0.492749\n",
       "GyroY      75.552991\n",
       "GyroZ     140.385796\n",
       "dtype: float64"
      ]
     },
     "execution_count": 21,
     "metadata": {},
     "output_type": "execute_result"
    }
   ],
   "source": [
    "dt.feature_df.mean()"
   ]
  },
  {
   "cell_type": "code",
   "execution_count": 18,
   "metadata": {},
   "outputs": [
    {
     "data": {
      "text/plain": [
       "(300, 6)"
      ]
     },
     "execution_count": 18,
     "metadata": {},
     "output_type": "execute_result"
    }
   ],
   "source": [
    "dt.feature_df.loc[2].values.shape"
   ]
  },
  {
   "cell_type": "code",
   "execution_count": 33,
   "metadata": {},
   "outputs": [
    {
     "data": {
      "text/plain": [
       "Index(['accelX', 'accelY', 'accelZ', 'GyroX', 'GyroY', 'GyroZ'], dtype='object')"
      ]
     },
     "execution_count": 33,
     "metadata": {},
     "output_type": "execute_result"
    }
   ],
   "source": [
    "dt.feature_names"
   ]
  },
  {
   "cell_type": "code",
   "execution_count": 34,
   "metadata": {},
   "outputs": [
    {
     "data": {
      "text/plain": [
       "array([    2,     3,     4, ..., 20748, 20749, 20750], dtype=int64)"
      ]
     },
     "execution_count": 34,
     "metadata": {},
     "output_type": "execute_result"
    }
   ],
   "source": [
    "dt.all_IDs"
   ]
  },
  {
   "cell_type": "code",
   "execution_count": 67,
   "metadata": {},
   "outputs": [],
   "source": [
    "class KUHARData(object):\n",
    "    \"\"\"KU-HAR dataset implementation\"\"\"\n",
    "\n",
    "    def __init__(self, data_dir, n_proc=1, config=None):\n",
    "        self.all_df, self.label_df = self.load_all(data_dir)\n",
    "        self.all_IDs = self.all_df.ID.unique()\n",
    "        self.feature_names = self.all_df.columns[:-2]\n",
    "        self.feature_df = self.all_df[self.feature_names]\n",
    "    \n",
    "    def load_data(self, data_dir):\n",
    "        df = pd.read_csv(data_dir)\n",
    "        return df\n",
    "\n",
    "    def load_all(self, data_dir):\n",
    "        main_df = self.load_data(data_dir)\n",
    "        df_dict = {'accelX': [], 'accelY': [], 'accelZ': [], 'GyroX': [], 'GyroY': [], 'GyroZ': [], 'label': [], 'ID': []}\n",
    "\n",
    "        for i, r in main_df.iterrows():\n",
    "            r = r.values \n",
    "            acx, acy, acz, gyx, gyy, gyz, label, _, ID = r[:300], r[300:600], r[600:900], r[900:1200], r[1200:1500], r[1500:1800], r[1800], r[1801], r[1802]\n",
    "            # sub_df = pd.DataFrame({'accelX': acx, 'accelY': acy, 'accelZ': acz, 'GyroX': gyx, 'GyroY': gyy, 'GyroZ': gyz}, index=range(300))\n",
    "            df_dict['accelX'].append(acx)\n",
    "            df_dict['accelY'].append(acy)\n",
    "            df_dict['accelZ'].append(acz)\n",
    "            df_dict['GyroX'].append(gyx)\n",
    "            df_dict['GyroY'].append(gyy)\n",
    "            df_dict['GyroZ'].append(gyz)\n",
    "            df_dict['label'].append(int(label))\n",
    "            df_dict['ID'].append(int(ID))\n",
    "            # subdf_list.append(sub_df)\n",
    "\n",
    "        full_df = pd.DataFrame(df_dict, index=df_dict['ID'])\n",
    "        label_df = pd.DataFrame({'ID': df_dict['ID'], 'label': df_dict['label']})\n",
    "        label_df.set_index('ID', inplace=True)\n",
    "        # full_df.reset_index(inplace=True, drop=True)\n",
    "        return full_df, label_df"
   ]
  },
  {
   "cell_type": "code",
   "execution_count": 68,
   "metadata": {},
   "outputs": [],
   "source": [
    "dt = KUHARData(data_path)"
   ]
  },
  {
   "cell_type": "code",
   "execution_count": 65,
   "metadata": {},
   "outputs": [
    {
     "data": {
      "text/html": [
       "<div>\n",
       "<style scoped>\n",
       "    .dataframe tbody tr th:only-of-type {\n",
       "        vertical-align: middle;\n",
       "    }\n",
       "\n",
       "    .dataframe tbody tr th {\n",
       "        vertical-align: top;\n",
       "    }\n",
       "\n",
       "    .dataframe thead th {\n",
       "        text-align: right;\n",
       "    }\n",
       "</style>\n",
       "<table border=\"1\" class=\"dataframe\">\n",
       "  <thead>\n",
       "    <tr style=\"text-align: right;\">\n",
       "      <th></th>\n",
       "      <th>accelX</th>\n",
       "      <th>accelY</th>\n",
       "      <th>accelZ</th>\n",
       "      <th>GyroX</th>\n",
       "      <th>GyroY</th>\n",
       "      <th>GyroZ</th>\n",
       "      <th>label</th>\n",
       "      <th>ID</th>\n",
       "    </tr>\n",
       "  </thead>\n",
       "  <tbody>\n",
       "    <tr>\n",
       "      <th>2</th>\n",
       "      <td>[0.012482, 0.032496, 0.067856, 0.071552, 0.078...</td>\n",
       "      <td>[-0.081862, -0.087494, -0.054918, -0.030374, -...</td>\n",
       "      <td>[0.0075474, 0.042496, 0.071386, 0.062229, 0.06...</td>\n",
       "      <td>[-0.024319, -0.025171, -0.023936, -0.022035, -...</td>\n",
       "      <td>[-0.010539, -0.0039851, 0.0015593, 0.011073, 0...</td>\n",
       "      <td>[-0.0079325, -0.0067652, -0.0033457, -0.003037...</td>\n",
       "      <td>0</td>\n",
       "      <td>2</td>\n",
       "    </tr>\n",
       "    <tr>\n",
       "      <th>3</th>\n",
       "      <td>[0.012127, 0.028458, 0.062075, 0.052611, 0.022...</td>\n",
       "      <td>[-0.014245, 0.013939, 0.021417, 0.035381, 0.03...</td>\n",
       "      <td>[0.059104, 0.077302, 0.071605, 0.040671, 0.011...</td>\n",
       "      <td>[-0.031197, -0.030023, -0.028208, -0.030385, -...</td>\n",
       "      <td>[0.0069761, 0.012883, 0.017098, 0.020648, 0.01...</td>\n",
       "      <td>[-0.003934, -0.0027187, -0.0052953, -0.0097515...</td>\n",
       "      <td>0</td>\n",
       "      <td>3</td>\n",
       "    </tr>\n",
       "    <tr>\n",
       "      <th>4</th>\n",
       "      <td>[0.052964, 0.074319, 0.11067, 0.10849, 0.09182...</td>\n",
       "      <td>[-0.043185, -0.016662, -0.0053775, 0.010687, 0...</td>\n",
       "      <td>[-0.019286, 0.0090208, 0.062509, 0.088431, 0.0...</td>\n",
       "      <td>[0.0011719, 0.0023993, -0.0012175, 0.0012269, ...</td>\n",
       "      <td>[-0.026508, -0.026477, -0.020948, -0.015568, -...</td>\n",
       "      <td>[0.0043762, 0.0048727, 0.007712, 0.0095564, 0....</td>\n",
       "      <td>0</td>\n",
       "      <td>4</td>\n",
       "    </tr>\n",
       "    <tr>\n",
       "      <th>5</th>\n",
       "      <td>[-0.020462, -0.030787, -0.0086174, 0.0089065, ...</td>\n",
       "      <td>[0.054955, 0.039589, 0.010204, -0.0080236, -0....</td>\n",
       "      <td>[-0.091741, -0.074799, -0.055399, -0.011008, 0...</td>\n",
       "      <td>[-0.02631, -0.026255, -0.027553, -0.031039, -0...</td>\n",
       "      <td>[0.00086743, -0.015774, -0.023115, -0.023046, ...</td>\n",
       "      <td>[-0.011875, -0.01436, -0.012757, -0.010605, -0...</td>\n",
       "      <td>0</td>\n",
       "      <td>5</td>\n",
       "    </tr>\n",
       "    <tr>\n",
       "      <th>6</th>\n",
       "      <td>[0.039138, 0.037687, 0.022782, 0.0096612, -0.0...</td>\n",
       "      <td>[0.011263, 0.015195, 0.020231, 0.022397, 0.001...</td>\n",
       "      <td>[0.032535, 0.034359, 0.033884, 0.033403, 0.041...</td>\n",
       "      <td>[-0.020749, -0.021244, -0.025445, -0.027144, -...</td>\n",
       "      <td>[-0.0020231, 0.002309, 0.0049787, 0.0065309, 0...</td>\n",
       "      <td>[-0.009616, -0.0094463, -0.010087, -0.010154, ...</td>\n",
       "      <td>0</td>\n",
       "      <td>6</td>\n",
       "    </tr>\n",
       "  </tbody>\n",
       "</table>\n",
       "</div>"
      ],
      "text/plain": [
       "                                              accelX  \\\n",
       "2  [0.012482, 0.032496, 0.067856, 0.071552, 0.078...   \n",
       "3  [0.012127, 0.028458, 0.062075, 0.052611, 0.022...   \n",
       "4  [0.052964, 0.074319, 0.11067, 0.10849, 0.09182...   \n",
       "5  [-0.020462, -0.030787, -0.0086174, 0.0089065, ...   \n",
       "6  [0.039138, 0.037687, 0.022782, 0.0096612, -0.0...   \n",
       "\n",
       "                                              accelY  \\\n",
       "2  [-0.081862, -0.087494, -0.054918, -0.030374, -...   \n",
       "3  [-0.014245, 0.013939, 0.021417, 0.035381, 0.03...   \n",
       "4  [-0.043185, -0.016662, -0.0053775, 0.010687, 0...   \n",
       "5  [0.054955, 0.039589, 0.010204, -0.0080236, -0....   \n",
       "6  [0.011263, 0.015195, 0.020231, 0.022397, 0.001...   \n",
       "\n",
       "                                              accelZ  \\\n",
       "2  [0.0075474, 0.042496, 0.071386, 0.062229, 0.06...   \n",
       "3  [0.059104, 0.077302, 0.071605, 0.040671, 0.011...   \n",
       "4  [-0.019286, 0.0090208, 0.062509, 0.088431, 0.0...   \n",
       "5  [-0.091741, -0.074799, -0.055399, -0.011008, 0...   \n",
       "6  [0.032535, 0.034359, 0.033884, 0.033403, 0.041...   \n",
       "\n",
       "                                               GyroX  \\\n",
       "2  [-0.024319, -0.025171, -0.023936, -0.022035, -...   \n",
       "3  [-0.031197, -0.030023, -0.028208, -0.030385, -...   \n",
       "4  [0.0011719, 0.0023993, -0.0012175, 0.0012269, ...   \n",
       "5  [-0.02631, -0.026255, -0.027553, -0.031039, -0...   \n",
       "6  [-0.020749, -0.021244, -0.025445, -0.027144, -...   \n",
       "\n",
       "                                               GyroY  \\\n",
       "2  [-0.010539, -0.0039851, 0.0015593, 0.011073, 0...   \n",
       "3  [0.0069761, 0.012883, 0.017098, 0.020648, 0.01...   \n",
       "4  [-0.026508, -0.026477, -0.020948, -0.015568, -...   \n",
       "5  [0.00086743, -0.015774, -0.023115, -0.023046, ...   \n",
       "6  [-0.0020231, 0.002309, 0.0049787, 0.0065309, 0...   \n",
       "\n",
       "                                               GyroZ  label  ID  \n",
       "2  [-0.0079325, -0.0067652, -0.0033457, -0.003037...      0   2  \n",
       "3  [-0.003934, -0.0027187, -0.0052953, -0.0097515...      0   3  \n",
       "4  [0.0043762, 0.0048727, 0.007712, 0.0095564, 0....      0   4  \n",
       "5  [-0.011875, -0.01436, -0.012757, -0.010605, -0...      0   5  \n",
       "6  [-0.009616, -0.0094463, -0.010087, -0.010154, ...      0   6  "
      ]
     },
     "execution_count": 65,
     "metadata": {},
     "output_type": "execute_result"
    }
   ],
   "source": [
    "dt.all_df.head()"
   ]
  },
  {
   "cell_type": "code",
   "execution_count": 60,
   "metadata": {},
   "outputs": [
    {
     "data": {
      "text/plain": [
       "Index(['accelX', 'accelY', 'accelZ', 'GyroX', 'GyroY', 'GyroZ'], dtype='object')"
      ]
     },
     "execution_count": 60,
     "metadata": {},
     "output_type": "execute_result"
    }
   ],
   "source": [
    "dt.feature_names"
   ]
  },
  {
   "cell_type": "code",
   "execution_count": 52,
   "metadata": {},
   "outputs": [],
   "source": [
    "u = np.array([i for i in dt.feature_df.loc[10].values])"
   ]
  },
  {
   "cell_type": "code",
   "execution_count": 53,
   "metadata": {},
   "outputs": [
    {
     "data": {
      "text/plain": [
       "(300, 6)"
      ]
     },
     "execution_count": 53,
     "metadata": {},
     "output_type": "execute_result"
    }
   ],
   "source": [
    "u.T.shape"
   ]
  },
  {
   "cell_type": "code",
   "execution_count": 69,
   "metadata": {},
   "outputs": [
    {
     "data": {
      "text/html": [
       "<div>\n",
       "<style scoped>\n",
       "    .dataframe tbody tr th:only-of-type {\n",
       "        vertical-align: middle;\n",
       "    }\n",
       "\n",
       "    .dataframe tbody tr th {\n",
       "        vertical-align: top;\n",
       "    }\n",
       "\n",
       "    .dataframe thead th {\n",
       "        text-align: right;\n",
       "    }\n",
       "</style>\n",
       "<table border=\"1\" class=\"dataframe\">\n",
       "  <thead>\n",
       "    <tr style=\"text-align: right;\">\n",
       "      <th></th>\n",
       "      <th>label</th>\n",
       "    </tr>\n",
       "    <tr>\n",
       "      <th>ID</th>\n",
       "      <th></th>\n",
       "    </tr>\n",
       "  </thead>\n",
       "  <tbody>\n",
       "    <tr>\n",
       "      <th>2</th>\n",
       "      <td>0</td>\n",
       "    </tr>\n",
       "    <tr>\n",
       "      <th>3</th>\n",
       "      <td>0</td>\n",
       "    </tr>\n",
       "    <tr>\n",
       "      <th>4</th>\n",
       "      <td>0</td>\n",
       "    </tr>\n",
       "    <tr>\n",
       "      <th>5</th>\n",
       "      <td>0</td>\n",
       "    </tr>\n",
       "    <tr>\n",
       "      <th>6</th>\n",
       "      <td>0</td>\n",
       "    </tr>\n",
       "  </tbody>\n",
       "</table>\n",
       "</div>"
      ],
      "text/plain": [
       "    label\n",
       "ID       \n",
       "2       0\n",
       "3       0\n",
       "4       0\n",
       "5       0\n",
       "6       0"
      ]
     },
     "execution_count": 69,
     "metadata": {},
     "output_type": "execute_result"
    }
   ],
   "source": [
    "dt.label_df.head()"
   ]
  },
  {
   "cell_type": "code",
   "execution_count": null,
   "metadata": {},
   "outputs": [],
   "source": []
  }
 ],
 "metadata": {
  "kernelspec": {
   "display_name": "Python 3.8.13 ('mvts_trans')",
   "language": "python",
   "name": "python3"
  },
  "language_info": {
   "codemirror_mode": {
    "name": "ipython",
    "version": 3
   },
   "file_extension": ".py",
   "mimetype": "text/x-python",
   "name": "python",
   "nbconvert_exporter": "python",
   "pygments_lexer": "ipython3",
   "version": "3.8.13"
  },
  "orig_nbformat": 4,
  "vscode": {
   "interpreter": {
    "hash": "ccc35149ad8fa032444ebff1245e6ef176e6c1ce3af8dec48e3374f21a6b0f27"
   }
  }
 },
 "nbformat": 4,
 "nbformat_minor": 2
}
