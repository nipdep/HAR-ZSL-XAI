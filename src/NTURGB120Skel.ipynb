{
 "cells": [
  {
   "cell_type": "code",
   "execution_count": 1,
   "metadata": {
    "collapsed": true
   },
   "outputs": [],
   "source": [
    "from tqdm import tqdm\n",
    "import gc\n",
    "from SkeletonData import SkeletonFile, SkeletonFileBuilder"
   ]
  },
  {
   "cell_type": "code",
   "execution_count": 2,
   "outputs": [
    {
     "name": "stderr",
     "output_type": "stream",
     "text": [
      "100%|██████████| 114480/114480 [00:00<00:00, 366850.43it/s]\n"
     ]
    }
   ],
   "source": [
    "builder = SkeletonFileBuilder()\n",
    "files = builder.build()"
   ],
   "metadata": {
    "collapsed": false
   }
  },
  {
   "cell_type": "code",
   "execution_count": 4,
   "outputs": [
    {
     "name": "stderr",
     "output_type": "stream",
     "text": [
      "100%|██████████| 114480/114480 [2:39:35<00:00, 11.96it/s]  \n"
     ]
    }
   ],
   "source": [
    "body_count_dict = {}\n",
    "file_list_per1 = []\n",
    "for __file in tqdm(files):\n",
    "    n_frames, file_f = __file.load_data()\n",
    "    num_bodies = set()\n",
    "    for f in file_f:\n",
    "        num_bodies.add(f[\"body_count\"])\n",
    "\n",
    "    key = \"_\".join(map(str, sorted(list(num_bodies))))\n",
    "\n",
    "    if key == \"1\":\n",
    "        file_list_per1.append(__file.filepath)\n",
    "\n",
    "    try:\n",
    "        body_count_dict[key] += 1\n",
    "    except KeyError:\n",
    "        body_count_dict[key] = 1\n",
    "\n",
    "    del file_f"
   ],
   "metadata": {
    "collapsed": false
   }
  },
  {
   "cell_type": "code",
   "execution_count": 5,
   "outputs": [
    {
     "data": {
      "text/plain": "{'1': 84925,\n '2': 25821,\n '1_2': 1596,\n '0_2': 199,\n '0_1': 225,\n '0': 356,\n '3': 1006,\n '2_3': 98,\n '0_1_2': 211,\n '1_2_3': 17,\n '1_3': 16,\n '4': 7,\n '0_1_3': 1,\n '2_3_4': 1,\n '2_4': 1}"
     },
     "execution_count": 5,
     "metadata": {},
     "output_type": "execute_result"
    }
   ],
   "source": [
    "body_count_dict"
   ],
   "metadata": {
    "collapsed": false
   }
  },
  {
   "cell_type": "code",
   "execution_count": 7,
   "outputs": [],
   "source": [
    "import json\n",
    "\n",
    "with open(\"E:\\\\FYP_Data\\\\NTU120\\\\num_people,json\",\"w\") as f0:\n",
    "    json.dump(body_count_dict,f0)"
   ],
   "metadata": {
    "collapsed": false
   }
  },
  {
   "cell_type": "code",
   "execution_count": 9,
   "outputs": [
    {
     "data": {
      "text/plain": "(84925,\n 'E:\\\\FYP_Data\\\\NTU120\\\\skel\\\\nturgbd_skeletons_s001_to_s032\\\\nturgb+d_skeletons\\\\S029C003P088R002A100.skeleton')"
     },
     "execution_count": 9,
     "metadata": {},
     "output_type": "execute_result"
    }
   ],
   "source": [
    "len(file_list_per1),file_list_per1[0]"
   ],
   "metadata": {
    "collapsed": false
   }
  },
  {
   "cell_type": "code",
   "execution_count": 10,
   "outputs": [],
   "source": [
    "with open(\"E:\\\\FYP_Data\\\\NTU120\\\\files_containing_only_1_person.txt\",\"w\") as f0:\n",
    "    f0.write(\"\\n\".join(file_list_per1))"
   ],
   "metadata": {
    "collapsed": false
   }
  },
  {
   "cell_type": "code",
   "execution_count": null,
   "outputs": [],
   "source": [],
   "metadata": {
    "collapsed": false
   }
  }
 ],
 "metadata": {
  "kernelspec": {
   "display_name": "Python 3",
   "language": "python",
   "name": "python3"
  },
  "language_info": {
   "codemirror_mode": {
    "name": "ipython",
    "version": 2
   },
   "file_extension": ".py",
   "mimetype": "text/x-python",
   "name": "python",
   "nbconvert_exporter": "python",
   "pygments_lexer": "ipython2",
   "version": "2.7.6"
  }
 },
 "nbformat": 4,
 "nbformat_minor": 0
}
