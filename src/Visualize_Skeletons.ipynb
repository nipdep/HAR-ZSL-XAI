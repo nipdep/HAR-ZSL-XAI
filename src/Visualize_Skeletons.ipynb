{
 "cells": [
  {
   "cell_type": "code",
   "execution_count": 1,
   "metadata": {
    "collapsed": true
   },
   "outputs": [],
   "source": [
    "import os.path\n",
    "from tqdm import tqdm\n",
    "\n",
    "import numpy as np\n",
    "import cv2\n",
    "from SkeletonData.data import *"
   ]
  },
  {
   "cell_type": "code",
   "execution_count": 2,
   "outputs": [],
   "source": [
    "def gen_skeleton(frame, connections, height, width):\n",
    "    img_3 = np.zeros([height, width, 3], dtype=np.uint8)\n",
    "    img_3.fill(255)\n",
    "\n",
    "    # add circles\n",
    "    for i, coord in enumerate(frame):\n",
    "        x, y = int(width * coord[0]), int(height * coord[1])\n",
    "        img_3 = cv2.circle(img_3, center=(x, y), radius=3, color=(255, 0, 0), thickness=6)\n",
    "\n",
    "    for line in connections:\n",
    "        i, j = line\n",
    "        st = frame[i, :]\n",
    "        start_point = (int(width * st[0]), int(height * st[1]))\n",
    "\n",
    "        en = frame[j, :]\n",
    "        end_point = (int(width * en[0]), int(height * en[1]))\n",
    "\n",
    "        img3_ = cv2.line(img_3, start_point, end_point, color=(0, 0, 0), thickness=3)\n",
    "\n",
    "    return img_3\n",
    "\n",
    "\n",
    "def gen_skeletons(frame1, frame2, connections, height, width):\n",
    "    img_3 = np.zeros([height, width, 3], dtype=np.uint8)\n",
    "    img_3.fill(255)\n",
    "\n",
    "    # add circles for the frame-set-1\n",
    "    for coord in frame1:\n",
    "        x, y = int(width * coord[0]), int(height * coord[1])\n",
    "        img_3 = cv2.circle(img_3, center=(x, y), radius=1, color=(255, 0, 0), thickness=6)\n",
    "\n",
    "    # add circles for the frame-set-2\n",
    "    for coord in frame2:\n",
    "        x, y = int(width * coord[0]), int(height * coord[1])\n",
    "        img_3 = cv2.circle(img_3, center=(x, y), radius=1, color=(0, 255, 0), thickness=6)\n",
    "\n",
    "    for line in connections:\n",
    "        i, j = line\n",
    "\n",
    "        st = frame1[i, :]\n",
    "        start_point = (int(width * st[0]), int(height * st[1]))\n",
    "        en = frame1[j, :]\n",
    "        end_point = (int(width * en[0]), int(height * en[1]))\n",
    "        img3_ = cv2.line(img_3, start_point, end_point, color=(250, 0, 0), thickness=3)\n",
    "\n",
    "        st = frame2[i, :]\n",
    "        start_point = (int(width * st[0]), int(height * st[1]))\n",
    "        en = frame2[j, :]\n",
    "        end_point = (int(width * en[0]), int(height * en[1]))\n",
    "        img3_ = cv2.line(img_3, start_point, end_point, color=(0, 250, 0), thickness=3)\n",
    "\n",
    "    return img_3\n",
    "\n",
    "\n",
    "def gen_video(points, save_file, frame_h, frame_w, mapping_list=None):\n",
    "    # make 3D if points are flatten\n",
    "    if len(points.shape) == 2:\n",
    "        fts = points.shape[1]\n",
    "        x_cds = list(range(0, fts, 3))\n",
    "        y_cds = list(range(1, fts, 3))\n",
    "        z_cds = list(range(2, fts, 3))\n",
    "        points = np.transpose(np.array([points[:, x_cds], points[:, y_cds], points[:, z_cds]]), (1, 2, 0))\n",
    "\n",
    "    size = (frame_w, frame_h)\n",
    "    result = cv2.VideoWriter(save_file,\n",
    "                             cv2.VideoWriter_fourcc(*'MJPG'),\n",
    "                             10, size)\n",
    "\n",
    "    for __id, frame in enumerate(points):\n",
    "        skel_image = gen_skeleton(frame, mapping_list, frame_h, frame_w)\n",
    "        result.write(skel_image)\n",
    "\n",
    "    result.release()\n",
    "\n",
    "\n",
    "def gen_cmp_video(points1, points2, save_file, frame_h, frame_w, mapping_list=None):\n",
    "    # make 3D if points are flatten\n",
    "    if len(points1.shape) == 2:\n",
    "        fts = points1.shape[1]\n",
    "        x_cds = list(range(0, fts, 3))\n",
    "        y_cds = list(range(1, fts, 3))\n",
    "        z_cds = list(range(2, fts, 3))\n",
    "        points1 = np.transpose(np.array([points1[:, x_cds], points1[:, y_cds], points1[:, z_cds]]), (1, 2, 0))\n",
    "\n",
    "    if len(points2.shape) == 2:\n",
    "        fts = points2.shape[1]\n",
    "        x_cds = list(range(0, fts, 3))\n",
    "        y_cds = list(range(1, fts, 3))\n",
    "        z_cds = list(range(2, fts, 3))\n",
    "        points2 = np.transpose(np.array([points2[:, x_cds], points2[:, y_cds], points2[:, z_cds]]), (1, 2, 0))\n",
    "\n",
    "    size = (frame_w, frame_h)\n",
    "    result = cv2.VideoWriter(save_file,\n",
    "                             cv2.VideoWriter_fourcc(*'MJPG'),\n",
    "                             10, size)\n",
    "\n",
    "    # mapping_list = [(11, 12), (11, 13), (13, 15), (12, 14), (14, 16), (12, 24), (11, 23), (23, 24), (24, 26), (26, 28), (23, 25), (25, 27)]\n",
    "    if not mapping_list:\n",
    "        # add lines\n",
    "        mapping_list = [(0, 1), (1, 3), (3, 5), (0, 2), (2, 4), (0, 6), (1, 7), (6, 7), (6, 8), (7, 9), (8, 10),\n",
    "                        (9, 11)]\n",
    "    for __id, frame_1 in enumerate(points1):\n",
    "        frame_2 = points2[__id]\n",
    "        skel_image = gen_skeletons(frame_1, frame_2, mapping_list, frame_h, frame_w)\n",
    "        result.write(skel_image)\n",
    "\n",
    "    result.release()"
   ],
   "metadata": {
    "collapsed": false
   }
  },
  {
   "cell_type": "markdown",
   "source": [
    "### Kinetic V2"
   ],
   "metadata": {
    "collapsed": false
   }
  },
  {
   "cell_type": "code",
   "execution_count": 3,
   "outputs": [],
   "source": [
    "#mapping_l = [(4,3),(12,10),(10,9),(9,21),(21,5),(5,6),(6,7),(21,2),(21,2),(2,1),(17,1),(1,13),(17,18),(18,19),(13,14),(14,15)]\n",
    "#mapping_l = [(v1-1,v2-1) for v1,v2 in mapping_l]"
   ],
   "metadata": {
    "collapsed": false
   }
  },
  {
   "cell_type": "markdown",
   "source": [
    "### COCO Format"
   ],
   "metadata": {
    "collapsed": false
   }
  },
  {
   "cell_type": "code",
   "execution_count": 4,
   "outputs": [],
   "source": [
    "mapping_l = [\n",
    "        [15, 13], [13, 11], [11, 5],\n",
    "        [12, 14], [14, 16], [12, 6],\n",
    "        [3, 1],[1, 2],[1, 0],[0, 2],[2,4],\n",
    "        [9, 7], [7,5], [5, 6],\n",
    "        [6, 8], [8, 10],\n",
    "        ]"
   ],
   "metadata": {
    "collapsed": false
   }
  },
  {
   "cell_type": "code",
   "execution_count": 4,
   "outputs": [],
   "source": [],
   "metadata": {
    "collapsed": false
   }
  },
  {
   "cell_type": "code",
   "execution_count": 5,
   "outputs": [],
   "source": [
    "import numpy as np\n",
    "import  os"
   ],
   "metadata": {
    "collapsed": false
   }
  },
  {
   "cell_type": "code",
   "execution_count": 6,
   "outputs": [
    {
     "data": {
      "text/plain": "['0_cls_S001C001P001R001A001_0.npz',\n '0_cls_S001C001P001R001A001_1.npz',\n '0_cls_S001C001P001R002A001_0.npz',\n '0_cls_S001C001P002R001A001_0.npz',\n '0_cls_S001C001P002R002A001_0.npz',\n '0_cls_S001C001P003R001A001_0.npz',\n '0_cls_S001C001P003R001A001_1.npz',\n '0_cls_S001C001P003R002A001_0.npz',\n '0_cls_S001C001P003R002A001_1.npz',\n '0_cls_S001C001P003R002A001_2.npz',\n '0_cls_S001C001P004R001A001_0.npz',\n '0_cls_S001C001P004R001A001_1.npz',\n '0_cls_S001C001P004R002A001_0.npz',\n '0_cls_S001C001P005R001A001_0.npz',\n '0_cls_S001C001P005R002A001_0.npz',\n '0_cls_S001C001P006R001A001_0.npz',\n '0_cls_S001C001P006R002A001_0.npz',\n '0_cls_S001C001P007R001A001_0.npz',\n '0_cls_S001C001P007R002A001_0.npz',\n '0_cls_S001C001P007R002A001_1.npz',\n '0_cls_S001C001P008R001A001_0.npz',\n '0_cls_S001C001P008R002A001_0.npz',\n '0_cls_S001C002P001R001A001_0.npz',\n '0_cls_S001C002P001R001A001_1.npz',\n '0_cls_S001C002P001R002A001_0.npz',\n '0_cls_S001C002P002R001A001_0.npz',\n '0_cls_S001C002P002R002A001_0.npz',\n '0_cls_S001C002P003R001A001_0.npz',\n '0_cls_S001C002P003R001A001_1.npz',\n '0_cls_S001C002P003R002A001_0.npz',\n '0_cls_S001C002P003R002A001_1.npz',\n '0_cls_S001C002P003R002A001_2.npz',\n '0_cls_S001C002P004R001A001_0.npz',\n '0_cls_S001C002P004R001A001_1.npz',\n '0_cls_S001C002P004R002A001_0.npz',\n '0_cls_S001C002P005R001A001_0.npz',\n '0_cls_S001C002P005R002A001_0.npz',\n '0_cls_S001C002P006R001A001_0.npz',\n '0_cls_S001C002P006R002A001_0.npz',\n '0_cls_S001C002P007R001A001_0.npz',\n '0_cls_S001C002P007R002A001_0.npz',\n '0_cls_S001C002P007R002A001_1.npz',\n '0_cls_S001C002P008R001A001_0.npz',\n '0_cls_S001C002P008R002A001_0.npz',\n '0_cls_S001C003P001R001A001_0.npz',\n '0_cls_S001C003P001R001A001_1.npz',\n '0_cls_S001C003P001R002A001_0.npz',\n '0_cls_S001C003P002R001A001_0.npz',\n '0_cls_S001C003P002R002A001_0.npz',\n '0_cls_S001C003P003R001A001_0.npz',\n '0_cls_S001C003P003R001A001_1.npz',\n '0_cls_S001C003P003R002A001_0.npz',\n '0_cls_S001C003P003R002A001_1.npz',\n '0_cls_S001C003P003R002A001_2.npz',\n '0_cls_S001C003P004R001A001_0.npz',\n '0_cls_S001C003P004R001A001_1.npz',\n '0_cls_S001C003P004R002A001_0.npz',\n '0_cls_S001C003P005R001A001_0.npz',\n '0_cls_S001C003P005R002A001_0.npz',\n '0_cls_S001C003P006R001A001_0.npz',\n '0_cls_S001C003P006R002A001_0.npz',\n '0_cls_S001C003P007R001A001_0.npz',\n '0_cls_S001C003P007R002A001_0.npz',\n '0_cls_S001C003P007R002A001_1.npz',\n '0_cls_S001C003P008R001A001_0.npz',\n '0_cls_S001C003P008R002A001_0.npz',\n '0_cls_S002C001P003R001A001_0.npz',\n '0_cls_S002C001P003R002A001_0.npz',\n '0_cls_S002C001P007R001A001_0.npz',\n '0_cls_S002C001P007R002A001_0.npz',\n '0_cls_S002C001P008R001A001_0.npz',\n '0_cls_S002C001P008R002A001_0.npz',\n '0_cls_S002C001P009R001A001_0.npz',\n '0_cls_S002C001P009R001A001_1.npz',\n '0_cls_S002C001P009R002A001_0.npz',\n '0_cls_S002C001P010R001A001_0.npz',\n '0_cls_S002C001P010R002A001_0.npz',\n '0_cls_S002C001P011R001A001_0.npz',\n '0_cls_S002C001P011R002A001_0.npz',\n '0_cls_S002C001P012R002A001_0.npz',\n '0_cls_S002C001P013R001A001_0.npz',\n '0_cls_S002C001P013R002A001_0.npz',\n '0_cls_S002C001P014R001A001_0.npz',\n '0_cls_S002C001P014R002A001_0.npz',\n '0_cls_S002C001P014R002A001_1.npz',\n '0_cls_S002C002P003R001A001_0.npz',\n '0_cls_S002C002P003R002A001_0.npz',\n '0_cls_S002C002P007R001A001_0.npz',\n '0_cls_S002C002P007R002A001_0.npz',\n '0_cls_S002C002P008R001A001_0.npz',\n '0_cls_S002C002P008R002A001_0.npz',\n '0_cls_S002C002P009R001A001_0.npz',\n '0_cls_S002C002P009R001A001_1.npz',\n '0_cls_S002C002P009R002A001_0.npz',\n '0_cls_S002C002P010R001A001_0.npz',\n '0_cls_S002C002P010R002A001_0.npz',\n '0_cls_S002C002P011R001A001_0.npz',\n '0_cls_S002C002P011R002A001_0.npz',\n '0_cls_S002C002P012R002A001_0.npz',\n '0_cls_S002C002P013R001A001_0.npz',\n '0_cls_S002C002P013R002A001_0.npz',\n '0_cls_S002C002P014R001A001_0.npz',\n '0_cls_S002C002P014R002A001_0.npz',\n '0_cls_S002C002P014R002A001_1.npz',\n '0_cls_S002C003P003R001A001_0.npz',\n '0_cls_S002C003P003R002A001_0.npz',\n '0_cls_S002C003P007R001A001_0.npz',\n '0_cls_S002C003P007R002A001_0.npz',\n '0_cls_S002C003P008R001A001_0.npz',\n '0_cls_S002C003P008R002A001_0.npz',\n '0_cls_S002C003P009R001A001_0.npz',\n '0_cls_S002C003P009R001A001_1.npz',\n '0_cls_S002C003P009R002A001_0.npz',\n '0_cls_S002C003P010R001A001_0.npz',\n '0_cls_S002C003P010R002A001_0.npz',\n '0_cls_S002C003P011R001A001_0.npz',\n '0_cls_S002C003P011R002A001_0.npz',\n '0_cls_S002C003P012R002A001_0.npz',\n '0_cls_S002C003P013R001A001_0.npz',\n '0_cls_S002C003P013R002A001_0.npz',\n '0_cls_S002C003P014R001A001_0.npz',\n '0_cls_S002C003P014R002A001_0.npz',\n '0_cls_S002C003P014R002A001_1.npz',\n '0_cls_S003C001P001R001A001_0.npz',\n '0_cls_S003C001P001R002A001_0.npz',\n '0_cls_S003C001P002R001A001_0.npz',\n '0_cls_S003C001P002R002A001_0.npz',\n '0_cls_S003C001P007R001A001_0.npz',\n '0_cls_S003C001P007R001A001_1.npz',\n '0_cls_S003C001P007R002A001_0.npz',\n '0_cls_S003C001P008R001A001_0.npz',\n '0_cls_S003C001P008R002A001_0.npz',\n '0_cls_S003C001P015R001A001_0.npz',\n '0_cls_S003C001P015R001A001_1.npz',\n '0_cls_S003C001P015R002A001_0.npz',\n '0_cls_S003C001P016R001A001_0.npz',\n '0_cls_S003C001P016R002A001_0.npz',\n '0_cls_S003C001P017R001A001_0.npz',\n '0_cls_S003C001P017R001A001_1.npz',\n '0_cls_S003C001P017R002A001_0.npz',\n '0_cls_S003C001P017R002A001_1.npz',\n '0_cls_S003C001P018R001A001_0.npz',\n '0_cls_S003C001P018R002A001_0.npz',\n '0_cls_S003C001P019R001A001_0.npz',\n '0_cls_S003C001P019R002A001_0.npz',\n '0_cls_S003C002P001R001A001_0.npz',\n '0_cls_S003C002P001R002A001_0.npz',\n '0_cls_S003C002P002R001A001_0.npz',\n '0_cls_S003C002P002R002A001_0.npz',\n '0_cls_S003C002P007R001A001_0.npz',\n '0_cls_S003C002P007R001A001_1.npz',\n '0_cls_S003C002P007R002A001_0.npz',\n '0_cls_S003C002P008R001A001_0.npz',\n '0_cls_S003C002P008R002A001_0.npz',\n '0_cls_S003C002P015R001A001_0.npz',\n '0_cls_S003C002P015R001A001_1.npz',\n '0_cls_S003C002P015R002A001_0.npz',\n '0_cls_S003C002P016R001A001_0.npz',\n '0_cls_S003C002P016R002A001_0.npz',\n '0_cls_S003C002P017R001A001_0.npz',\n '0_cls_S003C002P017R001A001_1.npz',\n '0_cls_S003C002P017R002A001_0.npz',\n '0_cls_S003C002P017R002A001_1.npz',\n '0_cls_S003C002P018R001A001_0.npz',\n '0_cls_S003C002P018R002A001_0.npz',\n '0_cls_S003C002P019R001A001_0.npz',\n '0_cls_S003C002P019R002A001_0.npz',\n '0_cls_S003C003P001R001A001_0.npz',\n '0_cls_S003C003P001R002A001_0.npz',\n '0_cls_S003C003P002R001A001_0.npz',\n '0_cls_S003C003P002R002A001_0.npz',\n '0_cls_S003C003P007R001A001_0.npz',\n '0_cls_S003C003P007R001A001_1.npz',\n '0_cls_S003C003P007R002A001_0.npz',\n '0_cls_S003C003P008R001A001_0.npz',\n '0_cls_S003C003P008R002A001_0.npz',\n '0_cls_S003C003P015R001A001_0.npz',\n '0_cls_S003C003P015R001A001_1.npz',\n '0_cls_S003C003P015R002A001_0.npz',\n '0_cls_S003C003P016R001A001_0.npz',\n '0_cls_S003C003P016R002A001_0.npz',\n '0_cls_S003C003P017R001A001_0.npz',\n '0_cls_S003C003P017R001A001_1.npz',\n '0_cls_S003C003P017R002A001_0.npz',\n '0_cls_S003C003P017R002A001_1.npz',\n '0_cls_S003C003P018R001A001_0.npz',\n '0_cls_S003C003P018R002A001_0.npz',\n '0_cls_S003C003P019R001A001_0.npz',\n '0_cls_S003C003P019R002A001_0.npz',\n '0_cls_S004C001P003R001A001_0.npz',\n '0_cls_S004C001P003R002A001_0.npz',\n '0_cls_S004C001P007R001A001_0.npz',\n '0_cls_S004C001P007R002A001_0.npz',\n '0_cls_S004C001P008R001A001_0.npz',\n '0_cls_S004C001P008R001A001_1.npz',\n '0_cls_S004C001P008R002A001_0.npz',\n '0_cls_S004C001P008R002A001_1.npz',\n '0_cls_S004C001P020R001A001_0.npz',\n '0_cls_S004C001P020R001A001_1.npz',\n '0_cls_S004C001P020R002A001_0.npz',\n '0_cls_S004C002P003R001A001_0.npz',\n '0_cls_S004C002P003R002A001_0.npz',\n '0_cls_S004C002P007R001A001_0.npz',\n '0_cls_S004C002P007R002A001_0.npz',\n '0_cls_S004C002P008R001A001_0.npz',\n '0_cls_S004C002P008R001A001_1.npz',\n '0_cls_S004C002P008R002A001_0.npz',\n '0_cls_S004C002P008R002A001_1.npz',\n '0_cls_S004C002P020R001A001_0.npz',\n '0_cls_S004C002P020R001A001_1.npz',\n '0_cls_S004C002P020R002A001_0.npz',\n '0_cls_S004C003P003R001A001_0.npz',\n '0_cls_S004C003P003R002A001_0.npz',\n '0_cls_S004C003P007R001A001_0.npz',\n '0_cls_S004C003P007R002A001_0.npz',\n '0_cls_S004C003P008R001A001_0.npz',\n '0_cls_S004C003P008R001A001_1.npz',\n '0_cls_S004C003P008R002A001_0.npz',\n '0_cls_S004C003P008R002A001_1.npz',\n '0_cls_S004C003P020R001A001_0.npz',\n '0_cls_S004C003P020R001A001_1.npz',\n '0_cls_S004C003P020R002A001_0.npz',\n '0_cls_S005C001P004R001A001_0.npz',\n '0_cls_S005C001P004R002A001_0.npz',\n '0_cls_S005C001P010R001A001_0.npz',\n '0_cls_S005C001P010R001A001_1.npz',\n '0_cls_S005C001P010R002A001_0.npz',\n '0_cls_S005C001P013R001A001_0.npz',\n '0_cls_S005C001P013R002A001_0.npz',\n '0_cls_S005C001P015R001A001_0.npz',\n '0_cls_S005C001P015R002A001_0.npz',\n '0_cls_S005C001P016R001A001_0.npz',\n '0_cls_S005C001P016R002A001_0.npz',\n '0_cls_S005C001P017R001A001_0.npz',\n '0_cls_S005C001P017R002A001_0.npz',\n '0_cls_S005C001P017R002A001_1.npz',\n '0_cls_S005C001P018R002A001_0.npz',\n '0_cls_S005C001P021R001A001_0.npz',\n '0_cls_S005C001P021R002A001_0.npz',\n '0_cls_S005C001P021R002A001_1.npz',\n '0_cls_S005C002P004R002A001_0.npz',\n '0_cls_S005C002P010R001A001_0.npz',\n '0_cls_S005C002P010R001A001_1.npz',\n '0_cls_S005C002P010R002A001_0.npz',\n '0_cls_S005C002P013R001A001_0.npz',\n '0_cls_S005C002P013R002A001_0.npz',\n '0_cls_S005C002P015R001A001_0.npz',\n '0_cls_S005C002P015R002A001_0.npz',\n '0_cls_S005C002P016R001A001_0.npz',\n '0_cls_S005C002P016R002A001_0.npz',\n '0_cls_S005C002P017R001A001_0.npz',\n '0_cls_S005C002P017R002A001_0.npz',\n '0_cls_S005C002P017R002A001_1.npz',\n '0_cls_S005C002P018R002A001_0.npz',\n '0_cls_S005C002P021R001A001_0.npz',\n '0_cls_S005C002P021R002A001_0.npz',\n '0_cls_S005C002P021R002A001_1.npz',\n '0_cls_S005C003P004R001A001_0.npz',\n '0_cls_S005C003P004R002A001_0.npz',\n '0_cls_S005C003P010R001A001_0.npz',\n '0_cls_S005C003P010R001A001_1.npz',\n '0_cls_S005C003P010R002A001_0.npz',\n '0_cls_S005C003P013R001A001_0.npz',\n '0_cls_S005C003P013R002A001_0.npz',\n '0_cls_S005C003P015R001A001_0.npz',\n '0_cls_S005C003P015R002A001_0.npz',\n '0_cls_S005C003P016R001A001_0.npz',\n '0_cls_S005C003P016R002A001_0.npz',\n '0_cls_S005C003P017R001A001_0.npz',\n '0_cls_S005C003P017R002A001_0.npz',\n '0_cls_S005C003P017R002A001_1.npz',\n '0_cls_S005C003P018R002A001_0.npz',\n '0_cls_S005C003P021R001A001_0.npz',\n '0_cls_S005C003P021R002A001_0.npz',\n '0_cls_S005C003P021R002A001_1.npz',\n '0_cls_S006C001P001R001A001_0.npz',\n '0_cls_S006C001P001R002A001_0.npz',\n '0_cls_S006C001P007R001A001_0.npz',\n '0_cls_S006C001P007R001A001_1.npz',\n '0_cls_S006C001P007R002A001_0.npz',\n '0_cls_S006C001P007R002A001_1.npz',\n '0_cls_S006C001P008R001A001_0.npz',\n '0_cls_S006C001P008R001A001_1.npz',\n '0_cls_S006C001P008R002A001_0.npz',\n '0_cls_S006C001P008R002A001_1.npz',\n '0_cls_S006C001P015R001A001_0.npz',\n '0_cls_S006C001P015R002A001_0.npz',\n '0_cls_S006C001P016R001A001_0.npz',\n '0_cls_S006C001P016R001A001_1.npz',\n '0_cls_S006C001P016R002A001_0.npz',\n '0_cls_S006C001P016R002A001_1.npz',\n '0_cls_S006C001P017R001A001_0.npz',\n '0_cls_S006C001P017R002A001_0.npz',\n '0_cls_S006C001P017R002A001_1.npz',\n '0_cls_S006C001P019R001A001_0.npz',\n '0_cls_S006C001P019R001A001_1.npz',\n '0_cls_S006C001P019R002A001_0.npz',\n '0_cls_S006C001P022R001A001_0.npz',\n '0_cls_S006C001P022R001A001_1.npz',\n '0_cls_S006C001P022R002A001_0.npz',\n '0_cls_S006C001P023R001A001_0.npz',\n '0_cls_S006C001P023R002A001_0.npz',\n '0_cls_S006C001P024R001A001_0.npz',\n '0_cls_S006C001P024R002A001_0.npz',\n '0_cls_S006C002P001R001A001_0.npz',\n '0_cls_S006C002P001R002A001_0.npz',\n '0_cls_S006C002P007R001A001_0.npz',\n '0_cls_S006C002P007R001A001_1.npz',\n '0_cls_S006C002P007R002A001_0.npz',\n '0_cls_S006C002P007R002A001_1.npz',\n '0_cls_S006C002P008R001A001_0.npz',\n '0_cls_S006C002P008R001A001_1.npz',\n '0_cls_S006C002P008R002A001_0.npz',\n '0_cls_S006C002P008R002A001_1.npz',\n '0_cls_S006C002P015R001A001_0.npz',\n '0_cls_S006C002P015R002A001_0.npz',\n '0_cls_S006C002P016R001A001_0.npz',\n '0_cls_S006C002P016R001A001_1.npz',\n '0_cls_S006C002P016R002A001_0.npz',\n '0_cls_S006C002P016R002A001_1.npz',\n '0_cls_S006C002P017R001A001_0.npz',\n '0_cls_S006C002P017R002A001_0.npz',\n '0_cls_S006C002P017R002A001_1.npz',\n '0_cls_S006C002P019R001A001_0.npz',\n '0_cls_S006C002P019R001A001_1.npz',\n '0_cls_S006C002P019R002A001_0.npz',\n '0_cls_S006C002P022R001A001_0.npz',\n '0_cls_S006C002P022R001A001_1.npz',\n '0_cls_S006C002P022R002A001_0.npz',\n '0_cls_S006C002P023R001A001_0.npz',\n '0_cls_S006C002P023R002A001_0.npz',\n '0_cls_S006C002P024R001A001_0.npz',\n '0_cls_S006C002P024R002A001_0.npz',\n '0_cls_S006C003P001R001A001_0.npz',\n '0_cls_S006C003P001R002A001_0.npz',\n '0_cls_S006C003P007R001A001_0.npz',\n '0_cls_S006C003P007R001A001_1.npz',\n '0_cls_S006C003P007R002A001_0.npz',\n '0_cls_S006C003P007R002A001_1.npz',\n '0_cls_S006C003P008R001A001_0.npz',\n '0_cls_S006C003P008R001A001_1.npz',\n '0_cls_S006C003P008R002A001_0.npz',\n '0_cls_S006C003P008R002A001_1.npz',\n '0_cls_S006C003P015R001A001_0.npz',\n '0_cls_S006C003P015R002A001_0.npz',\n '0_cls_S006C003P016R001A001_0.npz',\n '0_cls_S006C003P016R001A001_1.npz',\n '0_cls_S006C003P016R002A001_0.npz',\n '0_cls_S006C003P016R002A001_1.npz',\n '0_cls_S006C003P017R001A001_0.npz',\n '0_cls_S006C003P017R002A001_0.npz',\n '0_cls_S006C003P017R002A001_1.npz',\n '0_cls_S006C003P019R001A001_0.npz',\n '0_cls_S006C003P019R001A001_1.npz',\n '0_cls_S006C003P019R002A001_0.npz',\n '0_cls_S006C003P022R001A001_0.npz',\n '0_cls_S006C003P022R001A001_1.npz',\n '0_cls_S006C003P022R002A001_0.npz',\n '0_cls_S006C003P023R001A001_0.npz',\n '0_cls_S006C003P023R002A001_0.npz',\n '0_cls_S006C003P024R001A001_0.npz',\n '0_cls_S006C003P024R002A001_0.npz',\n '0_cls_S007C001P001R002A001_0.npz',\n '0_cls_S007C001P007R001A001_0.npz',\n '0_cls_S007C001P007R001A001_1.npz',\n '0_cls_S007C001P007R002A001_0.npz',\n '0_cls_S007C001P007R002A001_1.npz',\n '0_cls_S007C001P008R001A001_0.npz',\n '0_cls_S007C001P008R001A001_1.npz',\n '0_cls_S007C001P008R002A001_0.npz',\n '0_cls_S007C001P015R001A001_0.npz',\n '0_cls_S007C001P015R002A001_0.npz',\n '0_cls_S007C001P016R001A001_0.npz',\n '0_cls_S007C001P016R002A001_0.npz',\n '0_cls_S007C001P017R001A001_0.npz',\n '0_cls_S007C001P017R001A001_1.npz',\n '0_cls_S007C001P017R002A001_0.npz',\n '0_cls_S007C001P018R001A001_0.npz',\n '0_cls_S007C001P018R002A001_0.npz',\n '0_cls_S007C001P019R001A001_0.npz',\n '0_cls_S007C001P019R002A001_0.npz',\n '0_cls_S007C001P025R001A001_0.npz',\n '0_cls_S007C001P025R001A001_1.npz',\n '0_cls_S007C001P026R001A001_0.npz',\n '0_cls_S007C001P026R002A001_0.npz',\n '0_cls_S007C001P027R001A001_0.npz',\n '0_cls_S007C001P027R002A001_0.npz',\n '0_cls_S007C001P028R001A001_0.npz',\n '0_cls_S007C001P028R002A001_0.npz',\n '0_cls_S007C002P001R002A001_0.npz',\n '0_cls_S007C002P007R001A001_0.npz',\n '0_cls_S007C002P007R001A001_1.npz',\n '0_cls_S007C002P007R002A001_0.npz',\n '0_cls_S007C002P007R002A001_1.npz',\n '0_cls_S007C002P008R001A001_0.npz',\n '0_cls_S007C002P008R001A001_1.npz',\n '0_cls_S007C002P008R002A001_0.npz',\n '0_cls_S007C002P015R001A001_0.npz',\n '0_cls_S007C002P015R002A001_0.npz',\n '0_cls_S007C002P016R001A001_0.npz',\n '0_cls_S007C002P016R002A001_0.npz',\n '0_cls_S007C002P017R001A001_0.npz',\n '0_cls_S007C002P017R001A001_1.npz',\n '0_cls_S007C002P017R002A001_0.npz',\n '0_cls_S007C002P018R001A001_0.npz',\n '0_cls_S007C002P018R002A001_0.npz',\n '0_cls_S007C002P019R001A001_0.npz',\n '0_cls_S007C002P019R002A001_0.npz',\n '0_cls_S007C002P025R001A001_0.npz',\n '0_cls_S007C002P025R001A001_1.npz',\n '0_cls_S007C002P026R001A001_0.npz',\n '0_cls_S007C002P026R002A001_0.npz',\n '0_cls_S007C002P027R001A001_0.npz',\n '0_cls_S007C002P027R002A001_0.npz',\n '0_cls_S007C002P028R001A001_0.npz',\n '0_cls_S007C002P028R002A001_0.npz',\n '0_cls_S007C003P001R002A001_0.npz',\n '0_cls_S007C003P007R001A001_0.npz',\n '0_cls_S007C003P007R001A001_1.npz',\n '0_cls_S007C003P007R002A001_0.npz',\n '0_cls_S007C003P007R002A001_1.npz',\n '0_cls_S007C003P008R001A001_0.npz',\n '0_cls_S007C003P008R001A001_1.npz',\n '0_cls_S007C003P008R002A001_0.npz',\n '0_cls_S007C003P015R001A001_0.npz',\n '0_cls_S007C003P015R002A001_0.npz',\n '0_cls_S007C003P016R001A001_0.npz',\n '0_cls_S007C003P016R002A001_0.npz',\n '0_cls_S007C003P017R001A001_0.npz',\n '0_cls_S007C003P017R001A001_1.npz',\n '0_cls_S007C003P017R002A001_0.npz',\n '0_cls_S007C003P018R001A001_0.npz',\n '0_cls_S007C003P018R002A001_0.npz',\n '0_cls_S007C003P018R002A001_1.npz',\n '0_cls_S007C003P019R001A001_0.npz',\n '0_cls_S007C003P019R002A001_0.npz',\n '0_cls_S007C003P025R001A001_0.npz',\n '0_cls_S007C003P025R001A001_1.npz',\n '0_cls_S007C003P026R001A001_0.npz',\n '0_cls_S007C003P026R002A001_0.npz',\n '0_cls_S007C003P027R001A001_0.npz',\n '0_cls_S007C003P028R001A001_0.npz',\n '0_cls_S007C003P028R002A001_0.npz',\n '0_cls_S008C001P007R002A001_0.npz',\n '0_cls_S008C001P008R001A001_0.npz',\n '0_cls_S008C001P008R002A001_0.npz',\n '0_cls_S008C001P015R001A001_0.npz',\n '0_cls_S008C001P015R002A001_0.npz',\n '0_cls_S008C001P019R001A001_0.npz',\n '0_cls_S008C001P019R002A001_0.npz',\n '0_cls_S008C001P019R002A001_1.npz',\n '0_cls_S008C001P025R001A001_0.npz',\n '0_cls_S008C001P025R002A001_0.npz',\n '0_cls_S008C001P029R001A001_0.npz',\n '0_cls_S008C001P029R002A001_0.npz',\n '0_cls_S008C001P030R002A001_0.npz',\n '0_cls_S008C001P031R001A001_0.npz',\n '0_cls_S008C001P031R002A001_0.npz',\n '0_cls_S008C001P032R001A001_0.npz',\n '0_cls_S008C001P032R002A001_0.npz',\n '0_cls_S008C001P032R002A001_1.npz',\n '0_cls_S008C001P034R001A001_0.npz',\n '0_cls_S008C001P034R002A001_0.npz',\n '0_cls_S008C001P035R001A001_0.npz',\n '0_cls_S008C001P035R002A001_0.npz',\n '0_cls_S008C001P036R001A001_0.npz',\n '0_cls_S008C001P036R001A001_1.npz',\n '0_cls_S008C001P036R002A001_0.npz',\n '0_cls_S008C001P036R002A001_1.npz',\n '0_cls_S008C002P007R002A001_0.npz',\n '0_cls_S008C002P008R001A001_0.npz',\n '0_cls_S008C002P008R002A001_0.npz',\n '0_cls_S008C002P015R001A001_0.npz',\n '0_cls_S008C002P015R002A001_0.npz',\n '0_cls_S008C002P019R001A001_0.npz',\n '0_cls_S008C002P019R002A001_0.npz',\n '0_cls_S008C002P019R002A001_1.npz',\n '0_cls_S008C002P025R001A001_0.npz',\n '0_cls_S008C002P025R002A001_0.npz',\n '0_cls_S008C002P029R001A001_0.npz',\n '0_cls_S008C002P029R002A001_0.npz',\n '0_cls_S008C002P030R002A001_0.npz',\n '0_cls_S008C002P031R001A001_0.npz',\n '0_cls_S008C002P031R002A001_0.npz',\n '0_cls_S008C002P032R001A001_0.npz',\n '0_cls_S008C002P032R002A001_0.npz',\n '0_cls_S008C002P032R002A001_1.npz',\n '0_cls_S008C002P034R001A001_0.npz',\n '0_cls_S008C002P034R002A001_0.npz',\n '0_cls_S008C002P035R001A001_0.npz',\n '0_cls_S008C002P035R002A001_0.npz',\n '0_cls_S008C002P036R001A001_0.npz',\n '0_cls_S008C002P036R001A001_1.npz',\n '0_cls_S008C002P036R002A001_0.npz',\n '0_cls_S008C002P036R002A001_1.npz',\n '0_cls_S008C003P007R002A001_0.npz',\n '0_cls_S008C003P008R001A001_0.npz',\n '0_cls_S008C003P008R002A001_0.npz',\n '0_cls_S008C003P015R001A001_0.npz',\n '0_cls_S008C003P015R002A001_0.npz',\n '0_cls_S008C003P019R001A001_0.npz',\n '0_cls_S008C003P019R002A001_0.npz',\n '0_cls_S008C003P019R002A001_1.npz',\n '0_cls_S008C003P025R001A001_0.npz',\n '0_cls_S008C003P025R002A001_0.npz',\n '0_cls_S008C003P029R001A001_0.npz',\n '0_cls_S008C003P029R002A001_0.npz',\n '0_cls_S008C003P030R002A001_0.npz',\n '0_cls_S008C003P031R002A001_0.npz',\n '0_cls_S008C003P032R001A001_0.npz',\n '0_cls_S008C003P032R002A001_0.npz',\n '0_cls_S008C003P032R002A001_1.npz',\n '0_cls_S008C003P034R001A001_0.npz',\n '0_cls_S008C003P035R001A001_0.npz',\n '0_cls_S008C003P035R002A001_0.npz',\n '0_cls_S008C003P036R001A001_0.npz',\n '0_cls_S008C003P036R001A001_1.npz',\n '0_cls_S008C003P036R002A001_0.npz',\n '0_cls_S008C003P036R002A001_1.npz',\n '0_cls_S009C001P007R001A001_0.npz',\n '0_cls_S009C001P007R002A001_0.npz',\n '0_cls_S009C001P007R002A001_1.npz',\n '0_cls_S009C001P008R001A001_0.npz',\n '0_cls_S009C001P008R002A001_0.npz',\n '0_cls_S009C001P008R002A001_1.npz',\n '0_cls_S009C001P015R001A001_0.npz',\n '0_cls_S009C001P015R002A001_0.npz',\n '0_cls_S009C001P016R001A001_0.npz',\n '0_cls_S009C001P016R001A001_1.npz',\n '0_cls_S009C001P016R002A001_0.npz',\n '0_cls_S009C001P016R002A001_1.npz',\n '0_cls_S009C001P017R001A001_0.npz',\n '0_cls_S009C001P017R002A001_0.npz',\n '0_cls_S009C001P017R002A001_1.npz',\n '0_cls_S009C001P019R001A001_0.npz',\n '0_cls_S009C001P019R002A001_0.npz',\n '0_cls_S009C001P025R001A001_0.npz',\n '0_cls_S009C001P025R002A001_0.npz',\n '0_cls_S009C001P025R002A001_1.npz',\n '0_cls_S009C002P007R002A001_0.npz',\n '0_cls_S009C002P007R002A001_1.npz',\n '0_cls_S009C002P008R001A001_0.npz',\n '0_cls_S009C002P008R002A001_0.npz',\n '0_cls_S009C002P008R002A001_1.npz',\n '0_cls_S009C002P015R001A001_0.npz',\n '0_cls_S009C002P015R002A001_0.npz',\n '0_cls_S009C002P016R001A001_0.npz',\n '0_cls_S009C002P016R001A001_1.npz',\n '0_cls_S009C002P016R002A001_0.npz',\n '0_cls_S009C002P016R002A001_1.npz',\n '0_cls_S009C002P017R001A001_0.npz',\n '0_cls_S009C002P017R002A001_0.npz',\n '0_cls_S009C002P017R002A001_1.npz',\n '0_cls_S009C002P019R001A001_0.npz',\n '0_cls_S009C002P019R002A001_0.npz',\n '0_cls_S009C002P025R001A001_0.npz',\n '0_cls_S009C002P025R002A001_0.npz',\n '0_cls_S009C002P025R002A001_1.npz',\n '0_cls_S009C003P007R001A001_0.npz',\n '0_cls_S009C003P007R002A001_0.npz',\n '0_cls_S009C003P007R002A001_1.npz',\n '0_cls_S009C003P008R001A001_0.npz',\n '0_cls_S009C003P008R002A001_0.npz',\n '0_cls_S009C003P008R002A001_1.npz',\n '0_cls_S009C003P015R001A001_0.npz',\n '0_cls_S009C003P015R002A001_0.npz',\n '0_cls_S009C003P016R001A001_0.npz',\n '0_cls_S009C003P016R001A001_1.npz',\n '0_cls_S009C003P016R002A001_0.npz',\n '0_cls_S009C003P016R002A001_1.npz',\n '0_cls_S009C003P017R001A001_0.npz',\n '0_cls_S009C003P017R002A001_0.npz',\n '0_cls_S009C003P017R002A001_1.npz',\n '0_cls_S009C003P019R001A001_0.npz',\n '0_cls_S009C003P019R002A001_0.npz',\n '0_cls_S009C003P025R001A001_0.npz',\n '0_cls_S009C003P025R002A001_0.npz',\n '0_cls_S009C003P025R002A001_1.npz',\n '0_cls_S010C001P007R001A001_0.npz',\n '0_cls_S010C001P007R001A001_1.npz',\n '0_cls_S010C001P007R002A001_0.npz',\n '0_cls_S010C001P007R002A001_1.npz',\n '0_cls_S010C001P007R002A001_2.npz',\n '0_cls_S010C001P008R001A001_0.npz',\n '0_cls_S010C001P008R002A001_0.npz',\n '0_cls_S010C001P008R002A001_1.npz',\n '0_cls_S010C001P013R001A001_0.npz',\n '0_cls_S010C001P015R001A001_0.npz',\n '0_cls_S010C001P015R002A001_0.npz',\n '0_cls_S010C001P016R001A001_0.npz',\n '0_cls_S010C001P016R001A001_1.npz',\n '0_cls_S010C001P016R001A001_2.npz',\n '0_cls_S010C001P016R002A001_0.npz',\n '0_cls_S010C001P017R001A001_0.npz',\n '0_cls_S010C001P017R002A001_0.npz',\n '0_cls_S010C001P017R002A001_1.npz',\n '0_cls_S010C001P018R001A001_0.npz',\n '0_cls_S010C001P018R001A001_1.npz',\n '0_cls_S010C001P018R002A001_0.npz',\n '0_cls_S010C001P018R002A001_1.npz',\n '0_cls_S010C001P019R001A001_0.npz',\n '0_cls_S010C001P019R002A001_0.npz',\n '0_cls_S010C001P021R001A001_0.npz',\n '0_cls_S010C001P021R001A001_1.npz',\n '0_cls_S010C001P021R002A001_0.npz',\n '0_cls_S010C001P021R002A001_1.npz',\n '0_cls_S010C001P025R001A001_0.npz',\n '0_cls_S010C001P025R002A001_0.npz',\n '0_cls_S010C002P007R001A001_0.npz',\n '0_cls_S010C002P007R001A001_1.npz',\n '0_cls_S010C002P007R002A001_0.npz',\n '0_cls_S010C002P007R002A001_1.npz',\n '0_cls_S010C002P007R002A001_2.npz',\n '0_cls_S010C002P008R001A001_0.npz',\n '0_cls_S010C002P008R002A001_0.npz',\n '0_cls_S010C002P008R002A001_1.npz',\n '0_cls_S010C002P013R001A001_0.npz',\n '0_cls_S010C002P015R001A001_0.npz',\n '0_cls_S010C002P015R002A001_0.npz',\n '0_cls_S010C002P016R001A001_0.npz',\n '0_cls_S010C002P016R001A001_1.npz',\n '0_cls_S010C002P016R001A001_2.npz',\n '0_cls_S010C002P016R002A001_0.npz',\n '0_cls_S010C002P017R001A001_0.npz',\n '0_cls_S010C002P017R002A001_0.npz',\n '0_cls_S010C002P017R002A001_1.npz',\n '0_cls_S010C002P018R001A001_0.npz',\n '0_cls_S010C002P018R001A001_1.npz',\n '0_cls_S010C002P018R002A001_0.npz',\n '0_cls_S010C002P018R002A001_1.npz',\n '0_cls_S010C002P019R002A001_0.npz',\n '0_cls_S010C002P021R001A001_0.npz',\n '0_cls_S010C002P021R001A001_1.npz',\n '0_cls_S010C002P021R002A001_0.npz',\n '0_cls_S010C002P021R002A001_1.npz',\n '0_cls_S010C002P025R001A001_0.npz',\n '0_cls_S010C002P025R002A001_0.npz',\n '0_cls_S010C003P007R001A001_0.npz',\n '0_cls_S010C003P007R001A001_1.npz',\n '0_cls_S010C003P007R002A001_0.npz',\n '0_cls_S010C003P007R002A001_1.npz',\n '0_cls_S010C003P007R002A001_2.npz',\n '0_cls_S010C003P008R001A001_0.npz',\n '0_cls_S010C003P008R002A001_0.npz',\n '0_cls_S010C003P008R002A001_1.npz',\n '0_cls_S010C003P013R001A001_0.npz',\n '0_cls_S010C003P015R001A001_0.npz',\n '0_cls_S010C003P015R002A001_0.npz',\n '0_cls_S010C003P016R001A001_0.npz',\n '0_cls_S010C003P016R001A001_1.npz',\n '0_cls_S010C003P016R001A001_2.npz',\n '0_cls_S010C003P016R002A001_0.npz',\n '0_cls_S010C003P017R001A001_0.npz',\n '0_cls_S010C003P017R002A001_0.npz',\n '0_cls_S010C003P017R002A001_1.npz',\n '0_cls_S010C003P018R001A001_0.npz',\n '0_cls_S010C003P018R001A001_1.npz',\n '0_cls_S010C003P018R002A001_0.npz',\n '0_cls_S010C003P018R002A001_1.npz',\n '0_cls_S010C003P019R001A001_0.npz',\n '0_cls_S010C003P019R002A001_0.npz',\n '0_cls_S010C003P021R001A001_0.npz',\n '0_cls_S010C003P021R001A001_1.npz',\n '0_cls_S010C003P021R002A001_0.npz',\n '0_cls_S010C003P021R002A001_1.npz',\n '0_cls_S010C003P025R001A001_0.npz',\n '0_cls_S010C003P025R002A001_0.npz',\n '0_cls_S011C001P001R001A001_0.npz',\n '0_cls_S011C001P001R001A001_1.npz',\n '0_cls_S011C001P001R002A001_0.npz',\n '0_cls_S011C001P002R001A001_0.npz',\n '0_cls_S011C001P002R002A001_0.npz',\n '0_cls_S011C001P007R001A001_0.npz',\n '0_cls_S011C001P007R002A001_0.npz',\n '0_cls_S011C001P008R001A001_0.npz',\n '0_cls_S011C001P008R002A001_0.npz',\n '0_cls_S011C001P008R002A001_1.npz',\n '0_cls_S011C001P015R001A001_0.npz',\n '0_cls_S011C001P015R002A001_0.npz',\n '0_cls_S011C001P016R001A001_0.npz',\n '0_cls_S011C001P016R002A001_0.npz',\n '0_cls_S011C001P017R001A001_0.npz',\n '0_cls_S011C001P017R002A001_0.npz',\n '0_cls_S011C001P018R001A001_0.npz',\n '0_cls_S011C001P018R002A001_0.npz',\n '0_cls_S011C001P019R001A001_0.npz',\n '0_cls_S011C001P019R001A001_1.npz',\n '0_cls_S011C001P019R002A001_0.npz',\n '0_cls_S011C001P019R002A001_1.npz',\n '0_cls_S011C001P025R001A001_0.npz',\n '0_cls_S011C001P025R001A001_1.npz',\n '0_cls_S011C001P025R002A001_0.npz',\n '0_cls_S011C001P025R002A001_1.npz',\n '0_cls_S011C001P027R001A001_0.npz',\n '0_cls_S011C001P027R001A001_1.npz',\n '0_cls_S011C001P027R002A001_0.npz',\n '0_cls_S011C001P027R002A001_1.npz',\n '0_cls_S011C001P028R001A001_0.npz',\n '0_cls_S011C001P028R002A001_0.npz',\n '0_cls_S011C001P038R001A001_0.npz',\n '0_cls_S011C001P038R001A001_1.npz',\n '0_cls_S011C001P038R002A001_0.npz',\n '0_cls_S011C001P038R002A001_1.npz',\n '0_cls_S011C002P001R001A001_0.npz',\n '0_cls_S011C002P001R001A001_1.npz',\n '0_cls_S011C002P001R002A001_0.npz',\n '0_cls_S011C002P002R001A001_0.npz',\n '0_cls_S011C002P002R002A001_0.npz',\n '0_cls_S011C002P007R001A001_0.npz',\n '0_cls_S011C002P007R002A001_0.npz',\n '0_cls_S011C002P008R001A001_0.npz',\n '0_cls_S011C002P008R002A001_0.npz',\n '0_cls_S011C002P008R002A001_1.npz',\n '0_cls_S011C002P015R001A001_0.npz',\n '0_cls_S011C002P015R002A001_0.npz',\n '0_cls_S011C002P016R001A001_0.npz',\n '0_cls_S011C002P016R002A001_0.npz',\n '0_cls_S011C002P017R001A001_0.npz',\n '0_cls_S011C002P017R002A001_0.npz',\n '0_cls_S011C002P018R001A001_0.npz',\n '0_cls_S011C002P018R002A001_0.npz',\n '0_cls_S011C002P019R001A001_0.npz',\n '0_cls_S011C002P019R002A001_0.npz',\n '0_cls_S011C002P019R002A001_1.npz',\n '0_cls_S011C002P025R001A001_0.npz',\n '0_cls_S011C002P025R001A001_1.npz',\n '0_cls_S011C002P025R002A001_0.npz',\n '0_cls_S011C002P025R002A001_1.npz',\n '0_cls_S011C002P027R001A001_0.npz',\n '0_cls_S011C002P027R002A001_0.npz',\n '0_cls_S011C002P027R002A001_1.npz',\n '0_cls_S011C002P028R001A001_0.npz',\n '0_cls_S011C002P028R002A001_0.npz',\n '0_cls_S011C002P038R001A001_0.npz',\n '0_cls_S011C002P038R001A001_1.npz',\n '0_cls_S011C002P038R002A001_0.npz',\n '0_cls_S011C002P038R002A001_1.npz',\n '0_cls_S011C003P001R001A001_0.npz',\n '0_cls_S011C003P001R001A001_1.npz',\n '0_cls_S011C003P001R002A001_0.npz',\n '0_cls_S011C003P002R001A001_0.npz',\n '0_cls_S011C003P002R002A001_0.npz',\n '0_cls_S011C003P007R001A001_0.npz',\n '0_cls_S011C003P007R002A001_0.npz',\n '0_cls_S011C003P008R001A001_0.npz',\n '0_cls_S011C003P008R002A001_0.npz',\n '0_cls_S011C003P008R002A001_1.npz',\n '0_cls_S011C003P015R001A001_0.npz',\n '0_cls_S011C003P015R002A001_0.npz',\n '0_cls_S011C003P016R001A001_0.npz',\n '0_cls_S011C003P016R002A001_0.npz',\n '0_cls_S011C003P017R001A001_0.npz',\n '0_cls_S011C003P017R002A001_0.npz',\n '0_cls_S011C003P018R001A001_0.npz',\n '0_cls_S011C003P018R002A001_0.npz',\n '0_cls_S011C003P019R001A001_0.npz',\n '0_cls_S011C003P019R002A001_0.npz',\n '0_cls_S011C003P019R002A001_1.npz',\n '0_cls_S011C003P025R001A001_0.npz',\n '0_cls_S011C003P025R001A001_1.npz',\n '0_cls_S011C003P025R002A001_0.npz',\n '0_cls_S011C003P025R002A001_1.npz',\n '0_cls_S011C003P027R001A001_0.npz',\n '0_cls_S011C003P027R002A001_0.npz',\n '0_cls_S011C003P027R002A001_1.npz',\n '0_cls_S011C003P028R001A001_0.npz',\n '0_cls_S011C003P028R002A001_0.npz',\n '0_cls_S011C003P038R001A001_0.npz',\n '0_cls_S011C003P038R001A001_1.npz',\n '0_cls_S011C003P038R002A001_0.npz',\n '0_cls_S011C003P038R002A001_1.npz',\n '0_cls_S012C001P007R001A001_0.npz',\n '0_cls_S012C001P007R001A001_1.npz',\n '0_cls_S012C001P007R002A001_0.npz',\n '0_cls_S012C001P008R001A001_0.npz',\n '0_cls_S012C001P008R002A001_0.npz',\n '0_cls_S012C001P015R001A001_0.npz',\n '0_cls_S012C001P015R002A001_0.npz',\n '0_cls_S012C001P016R001A001_0.npz',\n '0_cls_S012C001P016R002A001_0.npz',\n '0_cls_S012C001P016R002A001_1.npz',\n '0_cls_S012C001P017R001A001_0.npz',\n '0_cls_S012C001P017R001A001_1.npz',\n '0_cls_S012C001P017R002A001_0.npz',\n '0_cls_S012C001P017R002A001_1.npz',\n '0_cls_S012C001P018R001A001_0.npz',\n '0_cls_S012C001P018R002A001_0.npz',\n '0_cls_S012C001P019R001A001_0.npz',\n '0_cls_S012C001P019R001A001_1.npz',\n '0_cls_S012C001P019R002A001_0.npz',\n '0_cls_S012C001P025R001A001_0.npz',\n '0_cls_S012C001P025R002A001_0.npz',\n '0_cls_S012C001P027R001A001_0.npz',\n '0_cls_S012C001P027R001A001_1.npz',\n '0_cls_S012C001P027R002A001_0.npz',\n '0_cls_S012C001P028R001A001_0.npz',\n '0_cls_S012C001P028R001A001_1.npz',\n '0_cls_S012C001P028R002A001_0.npz',\n '0_cls_S012C001P037R001A001_0.npz',\n '0_cls_S012C001P037R002A001_0.npz',\n '0_cls_S012C002P007R001A001_0.npz',\n '0_cls_S012C002P007R001A001_1.npz',\n '0_cls_S012C002P007R002A001_0.npz',\n '0_cls_S012C002P008R001A001_0.npz',\n '0_cls_S012C002P008R002A001_0.npz',\n '0_cls_S012C002P015R001A001_0.npz',\n '0_cls_S012C002P015R002A001_0.npz',\n '0_cls_S012C002P016R001A001_0.npz',\n '0_cls_S012C002P016R002A001_0.npz',\n '0_cls_S012C002P016R002A001_1.npz',\n '0_cls_S012C002P017R001A001_0.npz',\n '0_cls_S012C002P017R002A001_0.npz',\n '0_cls_S012C002P017R002A001_1.npz',\n '0_cls_S012C002P018R001A001_0.npz',\n '0_cls_S012C002P018R002A001_0.npz',\n '0_cls_S012C002P019R001A001_0.npz',\n '0_cls_S012C002P019R001A001_1.npz',\n '0_cls_S012C002P019R002A001_0.npz',\n '0_cls_S012C002P025R001A001_0.npz',\n '0_cls_S012C002P025R002A001_0.npz',\n '0_cls_S012C002P027R001A001_0.npz',\n '0_cls_S012C002P027R001A001_1.npz',\n '0_cls_S012C002P027R002A001_0.npz',\n '0_cls_S012C002P028R001A001_0.npz',\n '0_cls_S012C002P028R002A001_0.npz',\n '0_cls_S012C002P037R001A001_0.npz',\n '0_cls_S012C002P037R002A001_0.npz',\n '0_cls_S012C003P007R001A001_0.npz',\n '0_cls_S012C003P007R001A001_1.npz',\n '0_cls_S012C003P007R002A001_0.npz',\n '0_cls_S012C003P008R001A001_0.npz',\n '0_cls_S012C003P008R002A001_0.npz',\n '0_cls_S012C003P015R001A001_0.npz',\n '0_cls_S012C003P015R002A001_0.npz',\n '0_cls_S012C003P016R001A001_0.npz',\n '0_cls_S012C003P016R002A001_0.npz',\n '0_cls_S012C003P016R002A001_1.npz',\n '0_cls_S012C003P017R001A001_0.npz',\n '0_cls_S012C003P017R002A001_0.npz',\n '0_cls_S012C003P017R002A001_1.npz',\n '0_cls_S012C003P018R001A001_0.npz',\n '0_cls_S012C003P018R002A001_0.npz',\n '0_cls_S012C003P019R001A001_0.npz',\n '0_cls_S012C003P019R001A001_1.npz',\n '0_cls_S012C003P019R002A001_0.npz',\n '0_cls_S012C003P025R001A001_0.npz',\n '0_cls_S012C003P025R002A001_0.npz',\n '0_cls_S012C003P027R001A001_0.npz',\n '0_cls_S012C003P027R001A001_1.npz',\n '0_cls_S012C003P027R002A001_0.npz',\n '0_cls_S012C003P028R001A001_0.npz',\n '0_cls_S012C003P028R002A001_0.npz',\n '0_cls_S012C003P037R001A001_0.npz',\n '0_cls_S012C003P037R002A001_0.npz',\n '0_cls_S013C001P007R002A001_0.npz',\n '0_cls_S013C001P008R001A001_0.npz',\n '0_cls_S013C001P008R002A001_0.npz',\n '0_cls_S013C001P008R002A001_1.npz',\n '0_cls_S013C001P015R001A001_0.npz',\n '0_cls_S013C001P015R002A001_0.npz',\n '0_cls_S013C001P016R001A001_0.npz',\n '0_cls_S013C001P016R002A001_0.npz',\n '0_cls_S013C001P017R001A001_0.npz',\n '0_cls_S013C001P017R002A001_0.npz',\n '0_cls_S013C001P018R001A001_0.npz',\n '0_cls_S013C001P018R001A001_1.npz',\n '0_cls_S013C001P018R002A001_0.npz',\n '0_cls_S013C001P018R002A001_1.npz',\n '0_cls_S013C001P018R002A001_2.npz',\n '0_cls_S013C001P019R001A001_0.npz',\n '0_cls_S013C001P019R002A001_0.npz',\n '0_cls_S013C001P025R001A001_0.npz',\n '0_cls_S013C001P025R001A001_1.npz',\n '0_cls_S013C001P025R002A001_0.npz',\n '0_cls_S013C001P025R002A001_1.npz',\n '0_cls_S013C001P027R001A001_0.npz',\n '0_cls_S013C001P027R002A001_0.npz',\n '0_cls_S013C001P028R001A001_0.npz',\n '0_cls_S013C001P028R002A001_0.npz',\n '0_cls_S013C001P037R001A001_0.npz',\n '0_cls_S013C001P037R002A001_0.npz',\n '0_cls_S013C002P007R002A001_0.npz',\n '0_cls_S013C002P008R001A001_0.npz',\n '0_cls_S013C002P008R002A001_0.npz',\n '0_cls_S013C002P008R002A001_1.npz',\n '0_cls_S013C002P015R001A001_0.npz',\n '0_cls_S013C002P015R002A001_0.npz',\n '0_cls_S013C002P016R001A001_0.npz',\n '0_cls_S013C002P016R002A001_0.npz',\n '0_cls_S013C002P017R001A001_0.npz',\n '0_cls_S013C002P017R002A001_0.npz',\n '0_cls_S013C002P018R001A001_0.npz',\n '0_cls_S013C002P018R001A001_1.npz',\n '0_cls_S013C002P018R002A001_0.npz',\n '0_cls_S013C002P018R002A001_1.npz',\n '0_cls_S013C002P018R002A001_2.npz',\n '0_cls_S013C002P019R001A001_0.npz',\n '0_cls_S013C002P019R002A001_0.npz',\n '0_cls_S013C002P025R001A001_0.npz',\n '0_cls_S013C002P025R001A001_1.npz',\n '0_cls_S013C002P025R002A001_0.npz',\n '0_cls_S013C002P025R002A001_1.npz',\n '0_cls_S013C002P027R001A001_0.npz',\n '0_cls_S013C002P027R002A001_0.npz',\n '0_cls_S013C002P028R001A001_0.npz',\n '0_cls_S013C002P028R002A001_0.npz',\n '0_cls_S013C002P037R001A001_0.npz',\n '0_cls_S013C002P037R002A001_0.npz',\n '0_cls_S013C003P007R002A001_0.npz',\n '0_cls_S013C003P008R001A001_0.npz',\n '0_cls_S013C003P008R002A001_0.npz',\n '0_cls_S013C003P008R002A001_1.npz',\n '0_cls_S013C003P015R001A001_0.npz',\n '0_cls_S013C003P015R002A001_0.npz',\n '0_cls_S013C003P016R001A001_0.npz',\n '0_cls_S013C003P016R002A001_0.npz',\n '0_cls_S013C003P017R001A001_0.npz',\n '0_cls_S013C003P017R002A001_0.npz',\n '0_cls_S013C003P018R001A001_0.npz',\n '0_cls_S013C003P018R001A001_1.npz',\n '0_cls_S013C003P018R002A001_0.npz',\n '0_cls_S013C003P018R002A001_1.npz',\n '0_cls_S013C003P018R002A001_2.npz',\n '0_cls_S013C003P019R001A001_0.npz',\n '0_cls_S013C003P019R002A001_0.npz',\n '0_cls_S013C003P025R001A001_0.npz',\n '0_cls_S013C003P025R001A001_1.npz',\n '0_cls_S013C003P025R002A001_0.npz',\n '0_cls_S013C003P025R002A001_1.npz',\n '0_cls_S013C003P027R001A001_0.npz',\n '0_cls_S013C003P027R002A001_0.npz',\n '0_cls_S013C003P028R001A001_0.npz',\n '0_cls_S013C003P028R002A001_0.npz',\n '0_cls_S013C003P037R001A001_0.npz',\n '0_cls_S013C003P037R002A001_0.npz',\n '0_cls_S014C001P007R001A001_0.npz',\n '0_cls_S014C001P007R001A001_1.npz',\n '0_cls_S014C001P007R002A001_0.npz',\n '0_cls_S014C001P008R001A001_0.npz',\n '0_cls_S014C001P008R002A001_0.npz',\n '0_cls_S014C001P008R002A001_1.npz',\n '0_cls_S014C001P015R001A001_0.npz',\n '0_cls_S014C001P015R001A001_1.npz',\n '0_cls_S014C001P015R002A001_0.npz',\n '0_cls_S014C001P017R001A001_0.npz',\n '0_cls_S014C001P017R002A001_0.npz',\n '0_cls_S014C001P019R001A001_0.npz',\n '0_cls_S014C001P019R001A001_1.npz',\n '0_cls_S014C001P019R002A001_0.npz',\n '0_cls_S014C001P025R001A001_0.npz',\n '0_cls_S014C001P025R002A001_0.npz',\n '0_cls_S014C001P027R001A001_0.npz',\n '0_cls_S014C001P027R002A001_0.npz',\n '0_cls_S014C001P037R001A001_0.npz',\n '0_cls_S014C001P037R001A001_1.npz',\n '0_cls_S014C001P037R001A001_2.npz',\n '0_cls_S014C001P037R002A001_0.npz',\n '0_cls_S014C001P037R002A001_1.npz',\n '0_cls_S014C001P039R001A001_0.npz',\n '0_cls_S014C001P039R002A001_0.npz',\n '0_cls_S014C002P007R001A001_0.npz',\n '0_cls_S014C002P007R001A001_1.npz',\n '0_cls_S014C002P007R002A001_0.npz',\n '0_cls_S014C002P008R001A001_0.npz',\n '0_cls_S014C002P008R002A001_0.npz',\n '0_cls_S014C002P008R002A001_1.npz',\n '0_cls_S014C002P015R001A001_0.npz',\n '0_cls_S014C002P015R001A001_1.npz',\n '0_cls_S014C002P015R002A001_0.npz',\n '0_cls_S014C002P017R001A001_0.npz',\n '0_cls_S014C002P017R002A001_0.npz',\n '0_cls_S014C002P019R001A001_0.npz',\n '0_cls_S014C002P019R002A001_0.npz',\n '0_cls_S014C002P025R001A001_0.npz',\n '0_cls_S014C002P025R002A001_0.npz',\n '0_cls_S014C002P027R001A001_0.npz',\n '0_cls_S014C002P027R002A001_0.npz',\n '0_cls_S014C002P037R001A001_0.npz',\n '0_cls_S014C002P037R001A001_1.npz',\n '0_cls_S014C002P037R002A001_0.npz',\n '0_cls_S014C002P037R002A001_1.npz',\n '0_cls_S014C002P039R001A001_0.npz',\n '0_cls_S014C002P039R002A001_0.npz',\n '0_cls_S014C003P007R001A001_0.npz',\n '0_cls_S014C003P007R001A001_1.npz',\n '0_cls_S014C003P007R002A001_0.npz',\n '0_cls_S014C003P008R001A001_0.npz',\n '0_cls_S014C003P008R002A001_0.npz',\n '0_cls_S014C003P008R002A001_1.npz',\n '0_cls_S014C003P015R001A001_0.npz',\n '0_cls_S014C003P015R001A001_1.npz',\n '0_cls_S014C003P015R002A001_0.npz',\n '0_cls_S014C003P017R001A001_0.npz',\n '0_cls_S014C003P017R002A001_0.npz',\n '0_cls_S014C003P019R001A001_0.npz',\n '0_cls_S014C003P019R001A001_1.npz',\n '0_cls_S014C003P019R002A001_0.npz',\n '0_cls_S014C003P025R001A001_0.npz',\n '0_cls_S014C003P025R002A001_0.npz',\n '0_cls_S014C003P027R001A001_0.npz',\n ...]"
     },
     "execution_count": 6,
     "metadata": {},
     "output_type": "execute_result"
    }
   ],
   "source": [
    "os.listdir(\"../data/sequence_data/random_50f\")"
   ],
   "metadata": {
    "collapsed": false
   }
  },
  {
   "cell_type": "code",
   "execution_count": 7,
   "outputs": [],
   "source": [
    "file = np.load(\"../data/sequence_data/random_50f/0_cls_S014C003P019R002A001_0.npz\")\n",
    "coordinates, vid_size = file[\"coords\"], file[\"video_size\"]"
   ],
   "metadata": {
    "collapsed": false
   }
  },
  {
   "cell_type": "code",
   "execution_count": 9,
   "outputs": [],
   "source": [
    "gen_video(coordinates,\"vizualize.mp4\",1000,1000,mapping_list=mapping_l)"
   ],
   "metadata": {
    "collapsed": false
   }
  }
 ],
 "metadata": {
  "kernelspec": {
   "display_name": "Python 3",
   "language": "python",
   "name": "python3"
  },
  "language_info": {
   "codemirror_mode": {
    "name": "ipython",
    "version": 2
   },
   "file_extension": ".py",
   "mimetype": "text/x-python",
   "name": "python",
   "nbconvert_exporter": "python",
   "pygments_lexer": "ipython2",
   "version": "2.7.6"
  }
 },
 "nbformat": 4,
 "nbformat_minor": 0
}
