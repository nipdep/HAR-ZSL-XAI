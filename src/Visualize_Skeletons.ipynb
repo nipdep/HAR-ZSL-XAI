{
 "cells": [
  {
   "cell_type": "code",
   "execution_count": 1,
   "metadata": {
    "collapsed": true
   },
   "outputs": [],
   "source": [
    "import numpy as np\n",
    "import cv2"
   ]
  },
  {
   "cell_type": "code",
   "execution_count": 2,
   "outputs": [],
   "source": [
    "def gen_skeleton(frame, connections, height, width):\n",
    "    img_3 = np.zeros([height, width,3],dtype=np.uint8)\n",
    "    img_3.fill(255)\n",
    "\n",
    "    # add circles\n",
    "    for coord in frame:\n",
    "        x, y = int(width*coord[0]), int(height*coord[1])\n",
    "        img_3 = cv2.circle(img_3, center=(x,y), radius=1, color=(255, 0, 0), thickness=6)\n",
    "\n",
    "    # add lines\n",
    "    mapping_list = [(0, 1), (1, 3), (3, 5), (0, 2), (2, 4), (0, 6), (1, 7), (6, 7), (6, 8), (7, 9), (8, 10), (9, 11)]\n",
    "    for line in mapping_list:\n",
    "        i, j = line\n",
    "        st = frame[i, :]\n",
    "        start_point = (int(width*st[0]), int(height*st[1]))\n",
    "\n",
    "        en = frame[j, :]\n",
    "        end_point = (int(width*en[0]), int(height*en[1]))\n",
    "\n",
    "        img3_ = cv2.line(img_3, start_point, end_point, color=(0, 0, 0), thickness=3)\n",
    "\n",
    "    return img_3\n",
    "\n",
    "def gen_skeletons(frame1 , frame2, connections, height, width):\n",
    "    img_3 = np.zeros([height, width,3],dtype=np.uint8)\n",
    "    img_3.fill(255)\n",
    "\n",
    "    # add circles for the frame-set-1\n",
    "    for coord in frame1:\n",
    "        x, y = int(width*coord[0]), int(height*coord[1])\n",
    "        img_3 = cv2.circle(img_3, center=(x,y), radius=1, color=(255, 0, 0), thickness=6)\n",
    "\n",
    "    # add circles for the frame-set-2\n",
    "    for coord in frame2:\n",
    "        x, y = int(width*coord[0]), int(height*coord[1])\n",
    "        img_3 = cv2.circle(img_3, center=(x,y), radius=1, color=(0, 255, 0), thickness=6)\n",
    "\n",
    "    # add lines\n",
    "    mapping_list = [(0, 1), (1, 3), (3, 5), (0, 2), (2, 4), (0, 6), (1, 7), (6, 7), (6, 8), (7, 9), (8, 10), (9, 11)]\n",
    "    for line in mapping_list:\n",
    "        i, j = line\n",
    "\n",
    "        st = frame1[i, :]\n",
    "        start_point = (int(width*st[0]), int(height*st[1]))\n",
    "        en = frame1[j, :]\n",
    "        end_point = (int(width*en[0]), int(height*en[1]))\n",
    "        img3_ = cv2.line(img_3, start_point, end_point, color=(250, 0, 0), thickness=3)\n",
    "\n",
    "        st = frame2[i, :]\n",
    "        start_point = (int(width*st[0]), int(height*st[1]))\n",
    "        en = frame2[j, :]\n",
    "        end_point = (int(width*en[0]), int(height*en[1]))\n",
    "        img3_ = cv2.line(img_3, start_point, end_point, color=(0, 250, 0), thickness=3)\n",
    "\n",
    "    return img_3\n",
    "\n",
    "def gen_video(points, save_file, frame_h, frame_w):\n",
    "    # make 3D if points are flatten\n",
    "    if len(points.shape) == 2:\n",
    "        fts = points.shape[1]\n",
    "        x_cds = list(range(0, fts, 3))\n",
    "        y_cds = list(range(1, fts, 3))\n",
    "        z_cds = list(range(2, fts, 3))\n",
    "        points = np.transpose(np.array([points[:, x_cds], points[:, y_cds], points[:, z_cds]]), (1,2,0))\n",
    "\n",
    "    size = (frame_w, frame_h)\n",
    "    result = cv2.VideoWriter(save_file,\n",
    "                         cv2.VideoWriter_fourcc(*'MJPG'),\n",
    "                         10, size)\n",
    "\n",
    "    # mapping_list = [(11, 12), (11, 13), (13, 15), (12, 14), (14, 16), (12, 24), (11, 23), (23, 24), (24, 26), (26, 28), (23, 25), (25, 27)]\n",
    "    mapping_list = [(0, 1), (1, 3), (3, 5), (0, 2), (2, 4), (0, 6), (1, 7), (6, 7), (6, 8), (7, 9), (8, 10), (9, 11)]\n",
    "    for __id,frame in enumerate(points):\n",
    "        skel_image = gen_skeleton(frame, mapping_list, frame_h, frame_w)\n",
    "        result.write(skel_image)\n",
    "\n",
    "    result.release()\n",
    "\n",
    "def gen_cmp_video(points1, points2, save_file, frame_h, frame_w):\n",
    "    # make 3D if points are flatten\n",
    "    if len(points1.shape) == 2:\n",
    "        fts = points1.shape[1]\n",
    "        x_cds = list(range(0, fts, 3))\n",
    "        y_cds = list(range(1, fts, 3))\n",
    "        z_cds = list(range(2, fts, 3))\n",
    "        points1 = np.transpose(np.array([points1[:, x_cds], points1[:, y_cds], points1[:, z_cds]]), (1,2,0))\n",
    "\n",
    "    if len(points2.shape) == 2:\n",
    "        fts = points2.shape[1]\n",
    "        x_cds = list(range(0, fts, 3))\n",
    "        y_cds = list(range(1, fts, 3))\n",
    "        z_cds = list(range(2, fts, 3))\n",
    "        points2 = np.transpose(np.array([points2[:, x_cds], points2[:, y_cds], points2[:, z_cds]]), (1,2,0))\n",
    "\n",
    "    size = (frame_w, frame_h)\n",
    "    result = cv2.VideoWriter(save_file,\n",
    "                         cv2.VideoWriter_fourcc(*'MJPG'),\n",
    "                         10, size)\n",
    "\n",
    "    # mapping_list = [(11, 12), (11, 13), (13, 15), (12, 14), (14, 16), (12, 24), (11, 23), (23, 24), (24, 26), (26, 28), (23, 25), (25, 27)]\n",
    "    mapping_list = [(0, 1), (1, 3), (3, 5), (0, 2), (2, 4), (0, 6), (1, 7), (6, 7), (6, 8), (7, 9), (8, 10), (9, 11)]\n",
    "    for __id,frame_1 in enumerate(points1):\n",
    "        frame_2 = points2[__id]\n",
    "        skel_image = gen_skeletons(frame_1, frame_2, mapping_list, frame_h, frame_w)\n",
    "        result.write(skel_image)\n",
    "\n",
    "    result.release()"
   ],
   "metadata": {
    "collapsed": false
   }
  },
  {
   "cell_type": "code",
   "execution_count": 3,
   "outputs": [],
   "source": [
    "mapping_list = [(4,3),(12,10),(10,9),(9,21),(21,5),(5,6),(6,7),(21,2),(21,2),(2,1),(17,1),(1,13),(17,18),(18,19),(13,14),(14,15)]\n",
    "mapping_list = [(v1-1,v2-1) for v1,v2 in mapping_list]"
   ],
   "metadata": {
    "collapsed": false
   }
  },
  {
   "cell_type": "code",
   "execution_count": null,
   "outputs": [],
   "source": [
    "def visualize_npz():\n"
   ],
   "metadata": {
    "collapsed": false
   }
  }
 ],
 "metadata": {
  "kernelspec": {
   "display_name": "Python 3",
   "language": "python",
   "name": "python3"
  },
  "language_info": {
   "codemirror_mode": {
    "name": "ipython",
    "version": 2
   },
   "file_extension": ".py",
   "mimetype": "text/x-python",
   "name": "python",
   "nbconvert_exporter": "python",
   "pygments_lexer": "ipython2",
   "version": "2.7.6"
  }
 },
 "nbformat": 4,
 "nbformat_minor": 0
}
