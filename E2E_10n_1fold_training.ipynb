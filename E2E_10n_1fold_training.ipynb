{
 "cells": [
  {
   "cell_type": "code",
   "execution_count": 1,
   "metadata": {},
   "outputs": [],
   "source": [
    "# !pip install chart_studio"
   ]
  },
  {
   "cell_type": "code",
   "execution_count": 2,
   "metadata": {},
   "outputs": [],
   "source": [
    "import os \n",
    "import random \n",
    "from random import sample, choice\n",
    "from datetime import date\n",
    "from tqdm import tqdm\n",
    "from copy import deepcopy\n",
    "import numpy as np \n",
    "import pandas as pd\n",
    "from collections import defaultdict\n",
    "\n",
    "import torch \n",
    "from torch import nn, Tensor\n",
    "from torch.nn import functional as F\n",
    "from torch.nn.modules import MultiheadAttention, Linear, Dropout, BatchNorm1d, TransformerEncoderLayer\n",
    "from torch.nn.utils.rnn import pack_padded_sequence, pad_packed_sequence\n",
    "from torch.utils.data import Dataset, DataLoader\n",
    "from torch.optim import Adam\n",
    "from torch.nn import MSELoss,L1Loss\n",
    "\n",
    "from sklearn.metrics import accuracy_score\n",
    "from sklearn.metrics.pairwise import cosine_similarity, euclidean_distances\n",
    "from sklearn.neighbors import KNeighborsClassifier\n",
    "\n",
    "from pytorch_metric_learning.losses import ContrastiveLoss"
   ]
  },
  {
   "cell_type": "code",
   "execution_count": 3,
   "metadata": {},
   "outputs": [],
   "source": [
    "from src.datasets.data import PAMAP2Reader\n",
    "# from src.datasets.dataset import PAMAP2Dataset\n",
    "\n",
    "from src.models.ts_transformer import RelativeGlobalAttention\n",
    "from src.models.loss import FeatureLoss, AttributeLoss \n",
    "from src.utils.losses import *\n",
    "\n",
    "from src.utils.analysis import action_evaluator"
   ]
  },
  {
   "cell_type": "code",
   "execution_count": 4,
   "metadata": {},
   "outputs": [],
   "source": [
    "from sklearn.manifold import TSNE\n",
    "from umap import UMAP\n",
    "\n",
    "import matplotlib.pyplot as plt \n",
    "import seaborn as sns \n",
    "import plotly.express as px"
   ]
  },
  {
   "cell_type": "code",
   "execution_count": 5,
   "metadata": {},
   "outputs": [],
   "source": [
    "import chart_studio\n",
    "import chart_studio.plotly as py \n",
    "import chart_studio.tools as tls\n",
    "\n",
    "plotly_user = 'nipdep'\n",
    "plotly_key = 'BNQUTzoP5YBLtc8uggat'\n",
    "chart_studio.tools.set_credentials_file(username=plotly_user, api_key=plotly_key)"
   ]
  },
  {
   "cell_type": "code",
   "execution_count": 67,
   "metadata": {},
   "outputs": [],
   "source": [
    "# setup model configurations\n",
    "config = {\n",
    "    # general information\n",
    "    \"experiment-name\": \"test-001\", \n",
    "    \"datetime\": date.today(),\n",
    "    \"device\": \"gpu\",\n",
    "    \"dataset\": \"PAMAP2\", # \"PAMAP2\", \"DaLiAc\", \"UTD\"\n",
    "    \"Model\": \"RelativeGlobalAttention\",\n",
    "    \"sem-space\": 'attr',\n",
    "    # model training configs\n",
    "    \"include_attribute_loss\": True, \n",
    "    \"n_actions\": 18,\n",
    "    \"folding\": True,\n",
    "    \"lr\": 0.001,\n",
    "    \"ae_lr\": 0.0001,\n",
    "    \"imu_lr\": 0.0004,\n",
    "    \"ae_alpha\": 0.9,\n",
    "    \"imu_alpha\": 0.1,\n",
    "    \"n_epochs\": 10,\n",
    "    \"optimizer\": \"adam\",\n",
    "    \"batch_size\": 32,\n",
    "    \"semantic_loss\": \"cosine_distance\",\n",
    "    # model configs\n",
    "    \"d_model\": 128, \n",
    "    \"num_heads\": 2,\n",
    "    \"feat_size\": 256, # skel-AE hidden size and IMU-Anc output size\n",
    "    \"semantic_size\": 64,\n",
    "    \"n_sem\": 5,\n",
    "    # dataset configs\n",
    "    \"window_size\": 5, \n",
    "    \"overlap\": 0.5,\n",
    "    \"seq_len\": 50,  # skeleton seq. length\n",
    "    \"seen_split\": 0.2,\n",
    "    \"unseen_split\": 0.8\n",
    "}"
   ]
  },
  {
   "cell_type": "markdown",
   "metadata": {},
   "source": [
    "---"
   ]
  },
  {
   "cell_type": "code",
   "execution_count": 7,
   "metadata": {},
   "outputs": [],
   "source": [
    "class IMUEncoder(nn.Module):\n",
    "    def __init__(self, in_ft, d_model, num_heads, ft_size, n_classes, max_len=1024, dropout=0.1):\n",
    "        super(IMUEncoder, self).__init__()\n",
    "        self.in_ft = in_ft\n",
    "        self.max_len = max_len\n",
    "        self.d_model = d_model\n",
    "        self.num_heads = num_heads\n",
    "        self.ft_size = ft_size \n",
    "        self.n_classes = n_classes\n",
    "\n",
    "        # feature prep layer\n",
    "        self.DenseL = nn.Linear(in_ft, d_model)\n",
    "        # relative global attention layer\n",
    "        self.AttnL = RelativeGlobalAttention(self.d_model, self.num_heads, self.max_len)\n",
    "        # positional encoding concat <-> 1DConv \n",
    "        self.Act = F.relu  # _get_activation_fn(activation)\n",
    "        self.AvgPoolL = nn.AvgPool2d((self.max_len,1))\n",
    "        self.DenseL2 = nn.Linear(self.d_model, self.ft_size)\n",
    "        self.dropout = nn.Dropout1d(dropout)\n",
    "        self.logist = nn.Linear(self.ft_size, self.n_classes)\n",
    "\n",
    "    def forward(self, x):\n",
    "        out = self.DenseL(x)\n",
    "        out = self.AttnL(out)\n",
    "        out = self.Act(out)\n",
    "        out = self.AvgPoolL(out)\n",
    "        out = torch.squeeze(out)\n",
    "        out = self.dropout(out)\n",
    "        out1 = self.DenseL2(out)   \n",
    "        out = self.logist(out1)     \n",
    "        return out, out1"
   ]
  },
  {
   "cell_type": "code",
   "execution_count": 8,
   "metadata": {},
   "outputs": [
    {
     "data": {
      "text/plain": [
       "(torch.Size([32, 2]), torch.Size([32, 128]))"
      ]
     },
     "execution_count": 8,
     "metadata": {},
     "output_type": "execute_result"
    }
   ],
   "source": [
    "# test model \n",
    "sample_input = torch.randn((32, 120, 42))\n",
    "model = IMUEncoder(in_ft=42, d_model=128, num_heads=2, ft_size=128, n_classes=2, max_len=120, dropout=0.1)\n",
    "sample_output = model(sample_input)\n",
    "sample_output[0].shape, sample_output[1].shape"
   ]
  },
  {
   "cell_type": "markdown",
   "metadata": {},
   "source": [
    "---"
   ]
  },
  {
   "cell_type": "code",
   "execution_count": 9,
   "metadata": {},
   "outputs": [],
   "source": [
    "\n",
    "class BiLSTMEncoder(nn.Module):\n",
    "    def __init__(self,seq_len, input_size, hidden_size,linear_filters,embedding_size:int, num_layers = 1,bidirectional=True,batch_size=32):\n",
    "        super(BiLSTMEncoder, self).__init__()\n",
    "        self.input_size = input_size\n",
    "        self.hidden_size = hidden_size\n",
    "        self.num_layers = num_layers\n",
    "        self.linear_filters = linear_filters\n",
    "        self.embedding_size = embedding_size\n",
    "        self.bidirectional = bidirectional\n",
    "        self.batch_size = batch_size\n",
    "        self.seq_len = seq_len\n",
    "\n",
    "        # define LSTM layer\n",
    "        self.layers = []\n",
    "\n",
    "        # add linear layers \n",
    "        for __id,layer_out in enumerate(self.linear_filters):\n",
    "            if __id == 0:\n",
    "                self.layers.append(nn.Linear(self.input_size, layer_out))\n",
    "            else:\n",
    "                self.layers.append(nn.Linear(self.linear_filters[__id-1], layer_out))\n",
    "\n",
    "        # add lstm layer\n",
    "        self.lstm = nn.LSTM(input_size = layer_out, hidden_size = self.hidden_size,\n",
    "                            num_layers = self.num_layers, bidirectional=self.bidirectional,\n",
    "                            batch_first=True)\n",
    "        self.net = nn.Sequential(*self.layers)\n",
    "\n",
    "        #add embedding out\n",
    "        if bidirectional:\n",
    "            self.out_linear = nn.Linear(self.hidden_size*4, self.embedding_size)\n",
    "        else:\n",
    "            self.out_linear = nn.Linear(self.hidden_size*2, self.embedding_size)\n",
    "\n",
    "        \n",
    "    def forward(self, x_input):\n",
    "        '''\n",
    "        : param x_input:               input of shape (seq_len, # in batch, input_size)\n",
    "        : return lstm_out, hidden:     lstm_out gives all the hidden states in the sequence; hidden gives the hidden state and cell state for the last element in the sequence                         \n",
    "        '''\n",
    "        \n",
    "        x = self.net(x_input)\n",
    "        lstm_out, self.hidden = self.lstm(x)\n",
    "        hidden_transformed = torch.concat(self.hidden,0)\n",
    "        hidden_transformed = torch.transpose(hidden_transformed,0,1)\n",
    "        hidden_transformed = torch.flatten(hidden_transformed,start_dim=1)\n",
    "        hidden_transformed = self.out_linear(hidden_transformed)\n",
    "        \n",
    "        return lstm_out, hidden_transformed\n",
    "\n",
    "    \n",
    "class BiLSTMDecoder(nn.Module):\n",
    "    def __init__(self,seq_len, input_size, hidden_size, linear_filters,embedding_size:int, num_layers = 1,bidirectional=True,batch_size=32, device='cpu'):\n",
    "        super(BiLSTMDecoder, self).__init__()\n",
    "        self.input_size = input_size\n",
    "        self.hidden_size = hidden_size\n",
    "        self.num_layers = num_layers\n",
    "        self.linear_filters = linear_filters[::-1]\n",
    "        self.embedding_size = embedding_size\n",
    "        self.bidirectional = bidirectional\n",
    "        self.batch_size = batch_size\n",
    "        self.seq_len = seq_len\n",
    "        self.device = device\n",
    "\n",
    "        if bidirectional:\n",
    "            self.input_linear = nn.Linear(self.embedding_size,4*self.hidden_size)\n",
    "        else:\n",
    "            self.input_linear = nn.Linear(self.embedding_size,2*self.hidden_size)\n",
    "\n",
    "        # define LSTM layer\n",
    "        self.layers = []\n",
    "        # add lstm\n",
    "        self.lstm = nn.LSTM(input_size = self.linear_filters[0], hidden_size = self.hidden_size,\n",
    "                            num_layers = self.num_layers, bidirectional=True,\n",
    "                            batch_first=bidirectional)\n",
    "              \n",
    "        # add linear layers \n",
    "        if bidirectional:\n",
    "            self.layers.append(nn.Linear(2*hidden_size,self.linear_filters[0]))\n",
    "        else:\n",
    "            self.layers.append(nn.Linear(hidden_size,self.linear_filters[0]))\n",
    "\n",
    "        for __id,layer_in in enumerate(self.linear_filters):\n",
    "            if __id == len(linear_filters)-1:\n",
    "                self.layers.append(nn.Linear(layer_in,self.input_size))\n",
    "            else:\n",
    "                self.layers.append(nn.Linear(layer_in,self.linear_filters[__id+1]))\n",
    "\n",
    "        self.net = nn.Sequential(*self.layers)\n",
    "\n",
    "    def forward(self,encoder_hidden):\n",
    "        '''\n",
    "        : param x_input:               input of shape (seq_len, # in batch, input_size)\n",
    "        : return lstm_out, hidden:     lstm_out gives all the hidden states in the sequence; hidden gives the hidden state and cell state for the last element in the sequence                         \n",
    "        '''\n",
    "        \n",
    "        \n",
    "        hidden_shape = encoder_hidden.shape\n",
    "        encoder_hidden = self.input_linear(encoder_hidden)\n",
    "        \n",
    "        if self.bidirectional:\n",
    "            hidden = encoder_hidden.view((self.batch_size,4,self.hidden_size))\n",
    "            # print(hidden.shape)\n",
    "            hidden = torch.transpose(hidden,1,0)\n",
    "            h1,h2,c1,c2 = torch.unbind(hidden,0)\n",
    "            h,c = torch.stack((h1,h2)),torch.stack((c1,c2))\n",
    "        else:\n",
    "            hidden = encoder_hidden.view((self.batch_size,2,self.hidden_size))\n",
    "            hidden = torch.transpose(hidden,1,0)\n",
    "            h,c = torch.unbind(hidden,0)\n",
    "        \n",
    "        dummy_input = torch.rand((self.batch_size,self.seq_len,self.hidden_size), requires_grad=True)\n",
    "        dummy_input = dummy_input.to(self.device)\n",
    "        \n",
    "        lstm_out, self.hidden = self.lstm(dummy_input,(h,c))\n",
    "        x = self.net(lstm_out)\n",
    "        return x\n",
    "\n",
    "class SkeletonAE(nn.Module):\n",
    "    def __init__(self,seq_len, input_size, hidden_size, linear_filters=[128,256,512],embedding_size:int=256, num_layers = 1,bidirectional=True, batch_size=32, device='cpu'):\n",
    "        super(SkeletonAE, self).__init__()\n",
    "        self.input_size = input_size\n",
    "        self.hidden_size = hidden_size\n",
    "        self.num_layers = num_layers\n",
    "        self.linear_filters = linear_filters[::-1]\n",
    "        self.embedding_size = embedding_size\n",
    "        self.bidirectional = bidirectional\n",
    "        self.batch_size = batch_size\n",
    "        self.seq_len = seq_len\n",
    "        \n",
    "        self.encoder = BiLSTMEncoder(seq_len, input_size, hidden_size, linear_filters,embedding_size, num_layers = 1,bidirectional=True,batch_size=32)\n",
    "        self.decoder = BiLSTMDecoder(seq_len, input_size, hidden_size, linear_filters,embedding_size, num_layers = 1,bidirectional=True,batch_size=32, device=device)\n",
    "        \n",
    "    def forward(self,x):\n",
    "        lstm_out,embedding = self.encoder(x)\n",
    "        decoder_out = self.decoder(embedding)\n",
    "        \n",
    "        return decoder_out, embedding  \n",
    "        "
   ]
  },
  {
   "cell_type": "code",
   "execution_count": 10,
   "metadata": {},
   "outputs": [
    {
     "data": {
      "text/plain": [
       "<All keys matched successfully>"
      ]
     },
     "execution_count": 10,
     "metadata": {},
     "output_type": "execute_result"
    }
   ],
   "source": [
    "ae_model = SkeletonAE(seq_len=50, input_size=36, hidden_size=512, linear_filters=[128,256,512], embedding_size=256, num_layers=1,bidirectional=True,batch_size=32)\n",
    "prep_dir = './tmp/random_input_100_epochs.pt'\n",
    "ae_model.load_state_dict(torch.load(prep_dir))"
   ]
  },
  {
   "cell_type": "markdown",
   "metadata": {},
   "source": [
    "---"
   ]
  },
  {
   "cell_type": "code",
   "execution_count": 11,
   "metadata": {},
   "outputs": [],
   "source": [
    "if config['device'] == 'cpu':\n",
    "    device = \"cpu\"\n",
    "else:\n",
    "    device = torch.device(\"cuda:0\" if torch.cuda.is_available() else \"cpu\")"
   ]
  },
  {
   "cell_type": "code",
   "execution_count": 12,
   "metadata": {},
   "outputs": [
    {
     "name": "stdout",
     "output_type": "stream",
     "text": [
      "Reading file 1 of 14\n",
      "Reading file 2 of 14\n",
      "Reading file 3 of 14\n",
      "Reading file 4 of 14\n",
      "Reading file 5 of 14\n",
      "Reading file 6 of 14\n",
      "Reading file 7 of 14\n",
      "Reading file 8 of 14\n",
      "Reading file 9 of 14\n",
      "Reading file 10 of 14\n",
      "Reading file 11 of 14\n",
      "Reading file 12 of 14\n",
      "Reading file 13 of 14\n",
      "Reading file 14 of 14\n"
     ]
    },
    {
     "name": "stderr",
     "output_type": "stream",
     "text": [
      "g:\\FYP\\Codebases\\Pose-AE\\src\\datasets\\data.py:65: VisibleDeprecationWarning:\n",
      "\n",
      "Creating an ndarray from ragged nested sequences (which is a list-or-tuple of lists-or-tuples-or ndarrays with different lengths or shapes) is deprecated. If you meant to do this, you must specify 'dtype=object' when creating the ndarray.\n",
      "\n"
     ]
    }
   ],
   "source": [
    "# import PAMAP2 dataset\n",
    "dt = config['dataset']\n",
    "if dt == 'PAMAP2':\n",
    "    dataReader = PAMAP2Reader('./data/PAMAP2_Dataset/Protocol/')\n",
    "\n",
    "actionList = dataReader.idToLabel"
   ]
  },
  {
   "cell_type": "code",
   "execution_count": 13,
   "metadata": {},
   "outputs": [],
   "source": [
    "if dt == 'PAMAP2':\n",
    "    fold_classes = [['watching TV', 'house cleaning', 'standing', 'ascending stairs'], ['walking', 'rope jumping', 'sitting', 'descending stairs'], ['playing soccer', 'lying', 'vacuum cleaning', 'computer work'], ['cycling', 'running', 'Nordic walking'], ['ironing', 'car driving', 'folding laundry']]\n",
    "\n",
    "fold_cls_ids = [[actionList.index(i) for i in j] for j in fold_classes]"
   ]
  },
  {
   "cell_type": "code",
   "execution_count": 14,
   "metadata": {},
   "outputs": [],
   "source": [
    "skeleton_data = np.load('./data/skeleton_k10_movements.npz')\n",
    "skeleton_classes, skeleton_mov = skeleton_data['arr_0'], skeleton_data['arr_1']"
   ]
  },
  {
   "cell_type": "code",
   "execution_count": 15,
   "metadata": {},
   "outputs": [
    {
     "data": {
      "text/plain": [
       "(180, 60, 36)"
      ]
     },
     "execution_count": 15,
     "metadata": {},
     "output_type": "execute_result"
    }
   ],
   "source": [
    "skeleton_mov.shape"
   ]
  },
  {
   "cell_type": "code",
   "execution_count": 16,
   "metadata": {},
   "outputs": [
    {
     "data": {
      "text/plain": [
       "(array(['Nordic walking', 'ascending stairs', 'car driving',\n",
       "        'computer work', 'cycling', 'descending stairs', 'folding laundry',\n",
       "        'house cleaning', 'ironing', 'lying', 'playing soccer',\n",
       "        'rope jumping', 'running', 'sitting', 'standing',\n",
       "        'vacuum cleaning', 'walking', 'watching TV'], dtype='<U17'),\n",
       " array([10, 10, 10, 10, 10, 10, 10, 10, 10, 10, 10, 10, 10, 10, 10, 10, 10,\n",
       "        10], dtype=int64))"
      ]
     },
     "execution_count": 16,
     "metadata": {},
     "output_type": "execute_result"
    }
   ],
   "source": [
    "np.unique(skeleton_classes, return_counts=True)"
   ]
  },
  {
   "cell_type": "code",
   "execution_count": 17,
   "metadata": {},
   "outputs": [
    {
     "data": {
      "text/plain": [
       "[(1, 'lying'),\n",
       " (2, 'sitting'),\n",
       " (3, 'standing'),\n",
       " (4, 'walking'),\n",
       " (5, 'running'),\n",
       " (6, 'cycling'),\n",
       " (7, 'Nordic walking'),\n",
       " (9, 'watching TV'),\n",
       " (10, 'computer work'),\n",
       " (11, 'car driving'),\n",
       " (12, 'ascending stairs'),\n",
       " (13, 'descending stairs'),\n",
       " (16, 'vacuum cleaning'),\n",
       " (17, 'ironing'),\n",
       " (18, 'folding laundry'),\n",
       " (19, 'house cleaning'),\n",
       " (20, 'playing soccer'),\n",
       " (24, 'rope jumping')]"
      ]
     },
     "execution_count": 17,
     "metadata": {},
     "output_type": "execute_result"
    }
   ],
   "source": [
    "dataReader.label_map"
   ]
  },
  {
   "cell_type": "code",
   "execution_count": 18,
   "metadata": {},
   "outputs": [
    {
     "data": {
      "text/plain": [
       "array(['Nordic walking', 'ascending stairs', 'car driving',\n",
       "       'computer work', 'cycling', 'descending stairs', 'folding laundry',\n",
       "       'house cleaning', 'ironing', 'lying', 'playing soccer',\n",
       "       'rope jumping', 'running', 'sitting', 'standing',\n",
       "       'vacuum cleaning', 'walking', 'watching TV'], dtype='<U17')"
      ]
     },
     "execution_count": 18,
     "metadata": {},
     "output_type": "execute_result"
    }
   ],
   "source": [
    "np.unique(skeleton_classes)"
   ]
  },
  {
   "cell_type": "code",
   "execution_count": 19,
   "metadata": {},
   "outputs": [],
   "source": [
    "from collections import defaultdict\n",
    "\n",
    "label2Id = {c[1]:i for i,c in enumerate(dataReader.label_map)}\n",
    "action_dict = defaultdict(list)\n",
    "skeleton_Ids = []\n",
    "for i, a in enumerate(skeleton_classes):\n",
    "    action_dict[label2Id[a]].append(i)\n",
    "    skeleton_Ids.append(label2Id[a])"
   ]
  },
  {
   "cell_type": "code",
   "execution_count": 20,
   "metadata": {},
   "outputs": [
    {
     "data": {
      "text/plain": [
       "defaultdict(list,\n",
       "            {10: [0, 1, 2, 3, 4, 5, 6, 7, 8, 9],\n",
       "             9: [10, 11, 12, 13, 14, 15, 16, 17, 18, 19],\n",
       "             8: [20, 21, 22, 23, 24, 25, 26, 27, 28, 29],\n",
       "             5: [30, 31, 32, 33, 34, 35, 36, 37, 38, 39],\n",
       "             11: [40, 41, 42, 43, 44, 45, 46, 47, 48, 49],\n",
       "             14: [50, 51, 52, 53, 54, 55, 56, 57, 58, 59],\n",
       "             15: [60, 61, 62, 63, 64, 65, 66, 67, 68, 69],\n",
       "             13: [70, 71, 72, 73, 74, 75, 76, 77, 78, 79],\n",
       "             0: [80, 81, 82, 83, 84, 85, 86, 87, 88, 89],\n",
       "             6: [90, 91, 92, 93, 94, 95, 96, 97, 98, 99],\n",
       "             16: [100, 101, 102, 103, 104, 105, 106, 107, 108, 109],\n",
       "             17: [110, 111, 112, 113, 114, 115, 116, 117, 118, 119],\n",
       "             4: [120, 121, 122, 123, 124, 125, 126, 127, 128, 129],\n",
       "             1: [130, 131, 132, 133, 134, 135, 136, 137, 138, 139],\n",
       "             2: [140, 141, 142, 143, 144, 145, 146, 147, 148, 149],\n",
       "             12: [150, 151, 152, 153, 154, 155, 156, 157, 158, 159],\n",
       "             3: [160, 161, 162, 163, 164, 165, 166, 167, 168, 169],\n",
       "             7: [170, 171, 172, 173, 174, 175, 176, 177, 178, 179]})"
      ]
     },
     "execution_count": 20,
     "metadata": {},
     "output_type": "execute_result"
    }
   ],
   "source": [
    "action_dict"
   ]
  },
  {
   "cell_type": "code",
   "execution_count": 62,
   "metadata": {},
   "outputs": [],
   "source": [
    "def get_class_ft(data, model, device, bs=32):\n",
    "    \n",
    "    ns, _, _ = data.shape \n",
    "    padded_mat = F.pad(input=data, pad=(0,0,0,0,0,bs-ns), mode='constant', value=0)\n",
    "    # print(padded_mat.shape)\n",
    "    _, vector_out = model(padded_mat.float().to(device)) # batch second mode\n",
    "    action_feat_mat = vector_out[:ns, :].cpu().detach().numpy()\n",
    "    return action_feat_mat"
   ]
  },
  {
   "cell_type": "markdown",
   "metadata": {},
   "source": [
    "---"
   ]
  },
  {
   "cell_type": "code",
   "execution_count": 22,
   "metadata": {},
   "outputs": [],
   "source": [
    "class PAMAP2Dataset(Dataset):\n",
    "    def __init__(self, data, actions, attributes, attribute_dict, action_classes, n_feat=10, seq_len=120):\n",
    "        super(PAMAP2Dataset, self).__init__()\n",
    "        self.data = torch.from_numpy(data)\n",
    "        self.actions = actions\n",
    "        self.attribute_dict = attribute_dict\n",
    "        self.seq_len = seq_len\n",
    "        self.attributes = torch.from_numpy(attributes[:, :seq_len, ...])\n",
    "        self.action_classes = action_classes\n",
    "        self.n_feat = n_feat\n",
    "        # build action to id mapping dict\n",
    "        self.n_action = len(self.actions)\n",
    "        self.action2Id = dict(zip(action_classes, range(self.n_action)))\n",
    "        self.genPNMapping() # init pos-neg mapping\n",
    "\n",
    "    def genPNMapping(self):\n",
    "        tmp_classes = deepcopy(self.action_classes)\n",
    "        random.shuffle(tmp_classes)\n",
    "        self.pos_neg_map = dict(zip(self.action_classes, tmp_classes))\n",
    "        # print(self.pos_neg_map)\n",
    "\n",
    "    def __getitem__(self, ind):\n",
    "        x = self.data[ind, ...]\n",
    "        x_mask = np.array([0]) # self.padding_mask[ind, ...]\n",
    "        target = self.actions[ind]\n",
    "        y = torch.from_numpy(np.array([self.action2Id[target]]))\n",
    "\n",
    "        # extraction semantic space generation skeleton sequences \n",
    "        # positive reference vector\n",
    "        pos_idx = random.sample(self.attribute_dict[target], k=self.n_feat)\n",
    "        pos_feat = self.attributes[pos_idx, ...]\n",
    "        # negative reference vector\n",
    "        neg_class = self.pos_neg_map[target]\n",
    "        neg_idx = random.sample(self.attribute_dict[neg_class], k=self.n_feat)\n",
    "        neg_feat = self.attributes[neg_idx, ...]\n",
    "        return x, y, pos_feat, neg_class, neg_feat, x_mask\n",
    "\n",
    "    def __len__(self):\n",
    "        return self.data.shape[0]\n",
    "\n",
    "    def getClassAttrs(self):\n",
    "        sampling_idx = [random.choice(self.attribute_dict[i]) for i in self.action_classes]\n",
    "        ft_mat = self.attributes[sampling_idx, ...]\n",
    "        return ft_mat "
   ]
  },
  {
   "cell_type": "code",
   "execution_count": 23,
   "metadata": {},
   "outputs": [
    {
     "name": "stdout",
     "output_type": "stream",
     "text": [
      "{0: torch.Size([32, 105, 27]), 1: torch.Size([32, 1]), 2: torch.Size([32, 10, 60, 36]), 3: torch.Size([32]), 4: torch.Size([32, 10, 60, 36]), 5: torch.Size([32, 1])}\n"
     ]
    }
   ],
   "source": [
    "data_dict = dataReader.generate(unseen_classes=fold_cls_ids[0], seen_ratio=0.2, unseen_ratio=0.8, window_size=5.21, window_overlap=4.21, resample_freq=20)\n",
    "sample_dt = PAMAP2Dataset(data=data_dict['train']['X'], actions=data_dict['train']['y'], attributes=skeleton_mov, attribute_dict=action_dict, action_classes=data_dict['seen_classes'], seq_len=100)\n",
    "sample_dl = DataLoader(sample_dt, batch_size=32, shuffle=True, pin_memory=True, drop_last=True)\n",
    "for d in sample_dl:\n",
    "    print({i: d[i].shape for i in range(len(d))})\n",
    "    break"
   ]
  },
  {
   "cell_type": "code",
   "execution_count": 24,
   "metadata": {},
   "outputs": [
    {
     "data": {
      "text/plain": [
       "torch.Size([32, 10, 60, 36])"
      ]
     },
     "execution_count": 24,
     "metadata": {},
     "output_type": "execute_result"
    }
   ],
   "source": [
    "d[4].shape"
   ]
  },
  {
   "cell_type": "code",
   "execution_count": 25,
   "metadata": {},
   "outputs": [
    {
     "data": {
      "text/plain": [
       "torch.Size([10, 32, 60, 36])"
      ]
     },
     "execution_count": 25,
     "metadata": {},
     "output_type": "execute_result"
    }
   ],
   "source": [
    "ter = torch.transpose(d[2], 0, 1)\n",
    "ter.shape"
   ]
  },
  {
   "cell_type": "code",
   "execution_count": 26,
   "metadata": {},
   "outputs": [
    {
     "data": {
      "text/plain": [
       "torch.Size([320, 60, 36])"
      ]
     },
     "execution_count": 26,
     "metadata": {},
     "output_type": "execute_result"
    }
   ],
   "source": [
    "d[2].view(-1, *d[2].shape[2:]).shape"
   ]
  },
  {
   "cell_type": "code",
   "execution_count": 27,
   "metadata": {},
   "outputs": [
    {
     "data": {
      "text/plain": [
       "torch.Size([32, 60, 36])"
      ]
     },
     "execution_count": 27,
     "metadata": {},
     "output_type": "execute_result"
    }
   ],
   "source": [
    "torch.unbind(ter, dim=0)[0].shape"
   ]
  },
  {
   "cell_type": "code",
   "execution_count": 28,
   "metadata": {},
   "outputs": [
    {
     "data": {
      "text/plain": [
       "torch.Size([14, 60, 36])"
      ]
     },
     "execution_count": 28,
     "metadata": {},
     "output_type": "execute_result"
    }
   ],
   "source": [
    "r = sample_dt.getClassAttrs()\n",
    "r.shape"
   ]
  },
  {
   "cell_type": "code",
   "execution_count": 29,
   "metadata": {},
   "outputs": [
    {
     "data": {
      "text/plain": [
       "torch.Size([32, 60, 36])"
      ]
     },
     "execution_count": 29,
     "metadata": {},
     "output_type": "execute_result"
    }
   ],
   "source": [
    "pr = F.pad(input=r, pad=(0, 0, 0, 0, 0, 18), mode='constant', value=0)\n",
    "pr.shape"
   ]
  },
  {
   "cell_type": "code",
   "execution_count": 30,
   "metadata": {},
   "outputs": [
    {
     "data": {
      "text/plain": [
       "torch.Size([60, 32, 36])"
      ]
     },
     "execution_count": 30,
     "metadata": {},
     "output_type": "execute_result"
    }
   ],
   "source": [
    "torch.transpose(pr, 0, 1).shape"
   ]
  },
  {
   "cell_type": "code",
   "execution_count": 31,
   "metadata": {},
   "outputs": [
    {
     "data": {
      "text/plain": [
       "torch.Size([36, 60])"
      ]
     },
     "execution_count": 31,
     "metadata": {},
     "output_type": "execute_result"
    }
   ],
   "source": [
    "torch.transpose(r[1, ...], 1, 0).shape"
   ]
  },
  {
   "cell_type": "code",
   "execution_count": 32,
   "metadata": {},
   "outputs": [],
   "source": [
    "# r_out1, r_out2 = ae_model(torch.transpose(pr, 1, 0).float())\n",
    "# r_out1.shape, r_out2.shape"
   ]
  },
  {
   "cell_type": "markdown",
   "metadata": {},
   "source": [
    "---"
   ]
  },
  {
   "cell_type": "code",
   "execution_count": 33,
   "metadata": {},
   "outputs": [],
   "source": [
    "class SkeletonDataset(Dataset):\n",
    "    def __init__(self, movements, actions, action_dict, seq_len=60):\n",
    "        super(SkeletonDataset, self).__init__()\n",
    "        self.movements = torch.from_numpy(movements[:, :seq_len, ...])\n",
    "        self.actions = actions\n",
    "        self.action_dict = deepcopy(dict(action_dict))\n",
    "        self.actionsIDs = list(self.action_dict.keys())  \n",
    "\n",
    "    def __getitem__(self, idx):\n",
    "        x1 = self.movements[idx, ...]\n",
    "        action = self.actions[idx]\n",
    "        # partial_idx = random.sample(self.action_dict[action], k=1)[0]\n",
    "        # x2 = self.movements[partial_idx, ...]\n",
    "        label = self.actionsIDs.index(action)\n",
    "        # return np.transpose(x1, (1,0,2)), np.transpose(x2, (1,0,2)), label\n",
    "        return x1, label\n",
    "\n",
    "    def __len__(self):\n",
    "        return self.movements.shape[0]\n",
    "\n",
    "    def getShape(self):\n",
    "        return self.movements[0, ...].shape\n",
    "\n",
    "    def get_actions(self, label):\n",
    "        return self.movements[self.action_dict[label], ...]\n"
   ]
  },
  {
   "cell_type": "code",
   "execution_count": 34,
   "metadata": {},
   "outputs": [
    {
     "data": {
      "text/plain": [
       "defaultdict(list,\n",
       "            {10: [0, 1, 2, 3, 4, 5, 6, 7, 8, 9],\n",
       "             9: [10, 11, 12, 13, 14, 15, 16, 17, 18, 19],\n",
       "             8: [20, 21, 22, 23, 24, 25, 26, 27, 28, 29],\n",
       "             5: [30, 31, 32, 33, 34, 35, 36, 37, 38, 39],\n",
       "             11: [40, 41, 42, 43, 44, 45, 46, 47, 48, 49],\n",
       "             14: [50, 51, 52, 53, 54, 55, 56, 57, 58, 59],\n",
       "             15: [60, 61, 62, 63, 64, 65, 66, 67, 68, 69],\n",
       "             13: [70, 71, 72, 73, 74, 75, 76, 77, 78, 79],\n",
       "             0: [80, 81, 82, 83, 84, 85, 86, 87, 88, 89],\n",
       "             6: [90, 91, 92, 93, 94, 95, 96, 97, 98, 99],\n",
       "             16: [100, 101, 102, 103, 104, 105, 106, 107, 108, 109],\n",
       "             17: [110, 111, 112, 113, 114, 115, 116, 117, 118, 119],\n",
       "             4: [120, 121, 122, 123, 124, 125, 126, 127, 128, 129],\n",
       "             1: [130, 131, 132, 133, 134, 135, 136, 137, 138, 139],\n",
       "             2: [140, 141, 142, 143, 144, 145, 146, 147, 148, 149],\n",
       "             12: [150, 151, 152, 153, 154, 155, 156, 157, 158, 159],\n",
       "             3: [160, 161, 162, 163, 164, 165, 166, 167, 168, 169],\n",
       "             7: [170, 171, 172, 173, 174, 175, 176, 177, 178, 179]})"
      ]
     },
     "execution_count": 34,
     "metadata": {},
     "output_type": "execute_result"
    }
   ],
   "source": [
    "action_dict"
   ]
  },
  {
   "cell_type": "code",
   "execution_count": 35,
   "metadata": {},
   "outputs": [
    {
     "name": "stdout",
     "output_type": "stream",
     "text": [
      "torch.Size([32, 50, 36])\n"
     ]
    }
   ],
   "source": [
    "sample_dt = SkeletonDataset(skeleton_mov, skeleton_Ids, action_dict, seq_len=50)\n",
    "sample_dl = DataLoader(sample_dt, batch_size=config['batch_size'], shuffle=True, pin_memory=True, drop_last=True)\n",
    "for b in sample_dl:\n",
    "    bx1, by = b \n",
    "    # bx = torch.transpose(bx1, 1, 0)\n",
    "    bs, seq_len, ft_in = bx1.shape\n",
    "    print(bx1.shape)\n",
    "    break "
   ]
  },
  {
   "cell_type": "code",
   "execution_count": 36,
   "metadata": {},
   "outputs": [
    {
     "data": {
      "text/plain": [
       "torch.Size([50, 36])"
      ]
     },
     "execution_count": 36,
     "metadata": {},
     "output_type": "execute_result"
    }
   ],
   "source": [
    "sample_dt.getShape()"
   ]
  },
  {
   "attachments": {},
   "cell_type": "markdown",
   "metadata": {},
   "source": [
    "---"
   ]
  },
  {
   "cell_type": "code",
   "execution_count": 37,
   "metadata": {},
   "outputs": [],
   "source": [
    "class ActionTripletLoss(nn.Module):\n",
    "    # def __init__(self, action_feats, label_map, pos_thr=0.05, neg_thr=0.95, agg=\"mean\"):\n",
    "    def __init__(self, distance='cosine', k=10, pos_thr=0.05, neg_thr=0.95, theta=1e-4, agg=\"mean\", device=\"cpu\"):\n",
    "        super(ActionTripletLoss, self).__init__()\n",
    "        self.distance = distance\n",
    "        self.get_disMet(distance)\n",
    "        self.k = k\n",
    "        self.pos_thr = pos_thr\n",
    "        self.neg_thr = neg_thr\n",
    "        self.agg = agg \n",
    "        self.device = device \n",
    "        self.theta = theta\n",
    "\n",
    "    def get_disMet(self, distance):\n",
    "        if distance == 'cosine':\n",
    "            self.disMet = nn.CosineSimilarity(dim=2, eps=1e-6)\n",
    "        else:\n",
    "            self.disMet = nn.PairwiseDistance(p=2)\n",
    "\n",
    "    def forward(self, pred_fts, pos_fts, neg_fts):\n",
    "        neg_distances = self.disMet(pred_fts, neg_fts).to(self.device)\n",
    "        pos_distances = self.disMet(pred_fts, pos_fts).to(self.device)\n",
    "\n",
    "        if self.distance == 'cosine':\n",
    "            neg_distances = torch.abs(neg_distances)\n",
    "            pos_distances = torch.abs(pos_distances)\n",
    "\n",
    "        triplet_loss = F.relu(pos_distances-neg_distances+self.theta)\n",
    "        return triplet_loss.mean()\n"
   ]
  },
  {
   "cell_type": "markdown",
   "metadata": {},
   "source": [
    "---"
   ]
  },
  {
   "cell_type": "code",
   "execution_count": 38,
   "metadata": {},
   "outputs": [],
   "source": [
    "def get_class_avg(data, model, device, bs=32):\n",
    "    ns, _, _ = data.shape \n",
    "    padded_mat = F.pad(input=data, pad=(0,0,0,0,0,bs-ns), mode='constant', value=0)\n",
    "    _, vector_out = model(padded_mat.float().to(device)) # batch second mode\n",
    "    action_feat_mat = vector_out[:ns, :].cpu().detach().numpy()\n",
    "    avg_vector = np.mean(action_feat_mat, axis=0)\n",
    "    # print(action_feat_mat.shape, avg_vector.shape)\n",
    "    return avg_vector"
   ]
  },
  {
   "cell_type": "code",
   "execution_count": 39,
   "metadata": {},
   "outputs": [],
   "source": [
    "def apply(func, M):\n",
    "    tList = []\n",
    "    for m in torch.unbind(M, dim=0):\n",
    "        tList.append(func(m))\n",
    "    recons, feats = list(zip(*tList))\n",
    "    recons = torch.stack(recons, dim=0)\n",
    "    feats = torch.stack(feats, dim=0)\n",
    "    return recons, feats"
   ]
  },
  {
   "cell_type": "code",
   "execution_count": 58,
   "metadata": {},
   "outputs": [],
   "source": [
    "def imu_train_step1(model, ae, dataloader, skel_dt, optimizers, loss_module, device, class_names, class_ids, phase='train', l2_reg=False, imu_alpha=0.7, ae_alpha=0.7, batch_size=32):\n",
    "    model = model.train()\n",
    "    ae = ae.train()\n",
    "\n",
    "    epoch_imu_loss, epoch_ae_loss = 0, 0  # total loss of epoch\n",
    "    epoch_acc = 0\n",
    "\n",
    "    with tqdm(dataloader, unit=\"batch\", desc=phase) as tepoch:\n",
    "        for batch in tepoch:\n",
    "            X, targets, pos_skel, _, neg_skel, padding_masks = batch\n",
    "            X = X.float().to(device)\n",
    "            targets = targets.long().to(device)\n",
    "            pos_skel = torch.transpose(pos_skel, 0, 1).float()\n",
    "            neg_skel = torch.transpose(neg_skel, 0, 1).float()\n",
    "            padding_masks = padding_masks.to(device)  # 0s: ignore\n",
    "            # Zero gradients, perform a backward pass, and update the weights.\n",
    "            optimizers['imu'].zero_grad()\n",
    "            optimizers['ae'].zero_grad()\n",
    "            # forward\n",
    "            # track history if only in train\n",
    "            with torch.set_grad_enabled(phase == 'train'):\n",
    "            # with autocast():\n",
    "                class_output, feat_output = model(X)\n",
    "\n",
    "            with torch.set_grad_enabled(phase == 'train'):\n",
    "                tList = []\n",
    "                for m in torch.unbind(pos_skel, dim=0):\n",
    "                    mini_batch = m\n",
    "                    # print(mini_batch.shape)\n",
    "                    mini_batch = mini_batch.to(device)\n",
    "                    tList.append(ae(mini_batch))\n",
    "                recons, feats = list(zip(*tList))\n",
    "                pos_recons, pos_feat = torch.stack(recons, dim=0).cpu(), torch.stack(feats, dim=0) # batch first mode\n",
    "                \n",
    "                tList = []\n",
    "                for m in torch.unbind(neg_skel, dim=0):\n",
    "                    mini_batch = m\n",
    "                    # print(mini_batch.shape)\n",
    "                    mini_batch = mini_batch.to(device)\n",
    "                    tList.append(ae(mini_batch))\n",
    "                recons, feats = list(zip(*tList))\n",
    "                neg_recons, neg_feat = torch.stack(recons, dim=0).cpu(), torch.stack(feats, dim=0)\n",
    "                # neg_recons, neg_feat = apply(ae, neg_skel)\n",
    "\n",
    "            # print(pos_feat.shape, pos_recons.shape)\n",
    "            all_skels = torch.stack([pos_skel, neg_skel], dim=1)\n",
    "            recons_skels = torch.stack([pos_recons, neg_recons], dim=1)\n",
    "            # print(feat_output.shape, targets.shape)\n",
    "            # print('feat_output >', feat_output.shape, ' pos_feat > ', pos_feat.shape, ' neg_feat > ', neg_feat.shape)\n",
    "            class_loss = loss_module['class'](class_output, targets.squeeze())\n",
    "            feat_loss = loss_module['feature'](feat_output, pos_feat, neg_feat)\n",
    "            recons_loss = loss_module['recons'](all_skels, recons_skels)\n",
    "\n",
    "            imu_loss = imu_alpha*class_loss+(1-imu_alpha)/2*feat_loss\n",
    "            ae_loss = (1-ae_alpha)*recons_loss\n",
    "\n",
    "            if phase == 'train':\n",
    "                imu_loss.backward(retain_graph=True)\n",
    "                optimizers['imu'].step()\n",
    "\n",
    "                ae_loss.backward()\n",
    "                optimizers['ae'].step()\n",
    "\n",
    "            metrics = {\"IMU loss\": imu_loss.item(), \"AE loss\": ae_loss.item()}\n",
    "            with torch.no_grad():\n",
    "                epoch_imu_loss += imu_loss.item()  # add total loss of batch\n",
    "                epoch_ae_loss += ae_loss.item()\n",
    "\n",
    "            # convert feature vector into action class\n",
    "            # using cosine \n",
    "            pred_class = np.argmax(class_output.cpu().detach().numpy(), axis=1)\n",
    "            metrics[\"accuracy\"] = accuracy_score(y_true=targets.cpu().detach().numpy(), y_pred=pred_class)\n",
    "            epoch_acc += metrics[\"accuracy\"]\n",
    "            tepoch.set_postfix(metrics)\n",
    "            \n",
    "    epoch_imu_loss = epoch_imu_loss / len(dataloader)  # average loss per sample for whole epoch\n",
    "    epoch_ae_loss = epoch_ae_loss / len(dataloader) \n",
    "    epoch_acc = epoch_acc / len(dataloader)\n",
    "    return {'IMU loss': epoch_imu_loss, 'AE loss': epoch_ae_loss, 'accuracy': epoch_acc}"
   ]
  },
  {
   "cell_type": "code",
   "execution_count": 41,
   "metadata": {},
   "outputs": [],
   "source": [
    "def ae_train_step1(model, dataloader, optimizer, loss_module, device, batch_size, phase='train', l2_reg=False, loss_alpha=0.7):\n",
    "    model = model.train()\n",
    "    model.to(device)\n",
    "\n",
    "    const_loss = 0 \n",
    "    recons_loss = 0\n",
    "    epoch_loss = 0 \n",
    "\n",
    "    with tqdm(dataloader, unit='batch', desc=phase) as tepoch:\n",
    "        for batch in tepoch:\n",
    "            xa, labels = batch \n",
    "            # post-process \n",
    "            # xa = torch.vstack([x1, x2])  # batch first mode\n",
    "            # device offload \n",
    "            xa = xa.float().to(device)\n",
    "            labels = labels.float()\n",
    "\n",
    "            # set optimizer grad to zero \n",
    "            optimizer.zero_grad()\n",
    "            # get model prediction \n",
    "            with torch.set_grad_enabled(phase=='train'):\n",
    "                skel_output, ft_output = model(xa)\n",
    "\n",
    "            # reconstruct the output \n",
    "            # f1, f2 = torch.split(ft_output, [batch_size//2, batch_size//2], dim=0)\n",
    "            # cons_output = torch.stack([f1.squeeze(1), f2.squeeze(1)], dim=1)\n",
    "            # calc. contrastive loss \n",
    "            con_loss = loss_module['contrast'](ft_output, labels)()\n",
    "            # calc. reconstruction loss \n",
    "            l2_loss = loss_module['recons'](xa, skel_output)\n",
    "            # calc. total loss\n",
    "            # total_loss = con_loss #\n",
    "            total_loss = loss_alpha*con_loss + (1-loss_alpha)*l2_loss\n",
    "\n",
    "            if phase == 'train':\n",
    "                total_loss.backward()\n",
    "                optimizer.step()\n",
    "\n",
    "            metrics = {'contrastive loss ': con_loss.item(), 'reconstruction loss': l2_loss.item()}\n",
    "            with torch.no_grad():\n",
    "                    const_loss += con_loss.item()    \n",
    "                    recons_loss += l2_loss.item()\n",
    "                    epoch_loss += total_loss.item()\n",
    "            tepoch.set_postfix(metrics)\n",
    "\n",
    "    m = len(dataloader)\n",
    "    epoch_metrics = {'total_loss': epoch_loss/m, 'contrastive_loss': const_loss/m, 'reconstruction_loss':recons_loss/m}\n",
    "    return epoch_metrics"
   ]
  },
  {
   "cell_type": "code",
   "execution_count": 42,
   "metadata": {},
   "outputs": [],
   "source": [
    "def plot_umap(X, y, Id2Label):\n",
    "    umap_2d = UMAP(n_components=2, random_state=43)\n",
    "    cmp_data = umap_2d.fit_transform(X)\n",
    "\n",
    "    cmp_df = pd.DataFrame(data=cmp_data, columns=['x', 'y'])\n",
    "    cmp_df['label'] = y\n",
    "    cmp_df['action'] = cmp_df['label'].map(Id2Label)\n",
    "\n",
    "    fig = px.scatter(cmp_df, x='x', y='y', color='action', width=800, height=800, title=\"UMAP\")\n",
    "    fig.show()"
   ]
  },
  {
   "cell_type": "code",
   "execution_count": 43,
   "metadata": {},
   "outputs": [],
   "source": [
    "def plot_tnse(X, y, Id2Label):\n",
    "    tnse = TSNE(n_components=2, init='random', learning_rate='auto', perplexity=15, n_iter=1000)\n",
    "    cmp_data = tnse.fit_transform(X)\n",
    "\n",
    "    cmp_df = pd.DataFrame(data=cmp_data, columns=['x', 'y'])\n",
    "    cmp_df['label'] = y\n",
    "    cmp_df['action'] = cmp_df['label'].map(Id2Label)\n",
    "\n",
    "    fig = px.scatter(cmp_df, x='x', y='y', color='action', width=800, height=800, title='t-SNE')\n",
    "    fig.show()\n",
    "    return fig"
   ]
  },
  {
   "cell_type": "code",
   "execution_count": 44,
   "metadata": {},
   "outputs": [],
   "source": [
    "def get_action_vector(ae, skel_dt, device, class_ids, class_names, batch_size=32):\n",
    "    # generate unseen action_semantic from unseen skeleton seq. \n",
    "    label_dict = {c:i for i,c in enumerate(class_ids)}\n",
    "    all_actions = []\n",
    "    all_labels = []\n",
    "    for c in class_ids:\n",
    "        action_mat = skel_dt.get_actions(c)\n",
    "        ns, _, _ = action_mat.shape \n",
    "        class_labels = [label_dict[c] for _ in range(ns)]\n",
    "        padded_mat = F.pad(input=action_mat, pad=(0,0,0,0,0,batch_size-ns), mode='constant', value=0)\n",
    "        _, vector_out = ae(padded_mat.float().to(device)) # batch second mode\n",
    "        action_feat_mat = vector_out[:ns, :].cpu().detach().numpy() # batch second mode\n",
    "\n",
    "        all_actions.append(action_feat_mat)\n",
    "        all_labels.append(class_labels)\n",
    "\n",
    "    all_actions = np.concatenate(all_actions)\n",
    "    all_labels = np.concatenate(all_labels)\n",
    "    Id2Label = {i:l for i,l in enumerate(class_names)}\n",
    "    return all_actions, all_labels, Id2Label\n"
   ]
  },
  {
   "cell_type": "code",
   "execution_count": 60,
   "metadata": {},
   "outputs": [],
   "source": [
    "def eval_step1(model, ae, dataloader, sem_actions, sem_labels, loss_module, device, class_names, class_ids, target_feat_met, phase='seen', l2_reg=False, print_report=True, show_plot=True, imu_alpha=0.7, ae_alpha=0.7, batch_size=32, neighs=5):\n",
    "    model = model.train()\n",
    "    \n",
    "    label_dict = {c:i for i,c in enumerate(class_ids)}\n",
    "    inv_label_dict = {i:c for i,c in enumerate(class_ids)}\n",
    "    epoch_imu_loss, epoch_ae_loss = 0, 0  # total loss of epoch\n",
    "    total_samples = 0  # total samples in epoch\n",
    "    per_batch = {'target_masks': [], 'targets': [], 'predictions': [], 'metrics': [], 'IDs': [], 'pred_feat': []}\n",
    "\n",
    "    all_actions = sem_actions\n",
    "    all_labels = np.array([label_dict[c] for c in sem_labels])\n",
    "    # build knn model on know unseen samples \n",
    "    knn = KNeighborsClassifier(n_neighbors=neighs)\n",
    "    knn.fit(all_actions, all_labels)\n",
    "    # plot t-SNE on unseen vector \n",
    "    Id2Label = {i:l for i,l in enumerate(class_names)}\n",
    "    # plot_tnse(all_actions, all_labels, Id2Label)\n",
    "    # plot_umap(all_actions, all_labels, Id2Label)\n",
    "\n",
    "    with tqdm(dataloader, unit=\"batch\", desc=phase) as tepoch:\n",
    "        for batch in tepoch:\n",
    "            X, targets, pos_skel, neg_class, neg_skel, padding_masks = batch\n",
    "            X = X.float().to(device)\n",
    "            pos_skel = torch.transpose(pos_skel, 0, 1).float()\n",
    "            neg_skel = torch.transpose(neg_skel, 0, 1).float()\n",
    "            targets = targets.long().to(device)\n",
    "            neg_class = neg_class.long()#.to(device)\n",
    "            padding_masks = padding_masks.to(device)  # 0s: ignore\n",
    "            # forward\n",
    "            with torch.set_grad_enabled(False):\n",
    "            # with autocast():\n",
    "                class_output, feat_output = model(X)\n",
    "\n",
    "            # with torch.set_grad_enabled(phase == 'train'):\n",
    "            #     pos_recons, pos_feat = ae(pos_skel) # batch first mode\n",
    "            #     neg_recons, neg_feat = ae(neg_skel)\n",
    "\n",
    "            with torch.set_grad_enabled(phase == 'train'):\n",
    "                tList = []\n",
    "                for m in torch.unbind(pos_skel, dim=0):\n",
    "                    mini_batch = m\n",
    "                    # print(mini_batch.shape)\n",
    "                    mini_batch = mini_batch.to(device)\n",
    "                    tList.append(ae(mini_batch))\n",
    "                recons, feats = list(zip(*tList))\n",
    "                pos_recons, pos_feat = torch.stack(recons, dim=0).cpu(), torch.stack(feats, dim=0) # batch first mode\n",
    "                \n",
    "                tList = []\n",
    "                for m in torch.unbind(neg_skel, dim=0):\n",
    "                    mini_batch = m\n",
    "                    # print(mini_batch.shape)\n",
    "                    mini_batch = mini_batch.to(device)\n",
    "                    tList.append(ae(mini_batch))\n",
    "                recons, feats = list(zip(*tList))\n",
    "                neg_recons, neg_feat = torch.stack(recons, dim=0).cpu(), torch.stack(feats, dim=0)\n",
    "\n",
    "            all_skels = torch.stack([pos_skel, neg_skel], dim=1)\n",
    "            recons_skels = torch.stack([pos_recons, neg_recons], dim=1)\n",
    "            # print(feat_output.shape, targets.shape)\n",
    "            if phase == 'seen':\n",
    "                class_loss = loss_module['class'](class_output, targets.squeeze())\n",
    "            else:\n",
    "                class_loss = 0 # \n",
    "            feat_loss = loss_module['feature'](feat_output, pos_feat, neg_feat)\n",
    "            recons_loss = loss_module['recons'](all_skels, recons_skels)\n",
    "\n",
    "            imu_loss = imu_alpha*class_loss+(1-imu_alpha)*feat_loss\n",
    "            ae_loss = ae_alpha*class_loss+(1-ae_alpha)*recons_loss\n",
    "\n",
    "\n",
    "            metrics = {\"IMU loss\": imu_loss.item(), \"AE loss\": ae_loss.item()}\n",
    "            with torch.no_grad():\n",
    "                epoch_imu_loss += imu_loss.item()  # add total loss of batch\n",
    "                epoch_ae_loss += ae_loss.item()\n",
    "            \n",
    "            # convert feature vector into action class using cosine \n",
    "            if phase == 'seen':\n",
    "                pred_action = np.argmax(class_output.cpu().detach().numpy(), axis=1)\n",
    "            else:\n",
    "                # print(\"targets > \", targets)\n",
    "                # print(\"feat output\", feat_output.shape)\n",
    "                feat_numpy = feat_output.cpu().detach().numpy()\n",
    "                pred_action = knn.predict(feat_numpy)\n",
    "                \n",
    "            per_batch['targets'].append(targets.cpu().numpy())\n",
    "            per_batch['predictions'].append(pred_action)\n",
    "            per_batch['pred_feat'].append(feat_output.cpu().detach().numpy())\n",
    "            # per_batch['metrics'].append([loss.cpu().numpy()])\n",
    "\n",
    "            tepoch.set_postfix(metrics)\n",
    "    \n",
    "    \n",
    "    all_preds = np.concatenate(per_batch[\"predictions\"])\n",
    "    all_targets = np.concatenate(per_batch[\"targets\"])\n",
    "    all_pred_actions = np.concatenate(per_batch[\"pred_feat\"])\n",
    "    # print(\"predictions > \", all_preds, \"ground truth > \", all_targets[:, 0])\n",
    "    metrics_dict = action_evaluator(y_pred=all_preds, y_true=all_targets[:, 0], class_names=class_names, print_report=print_report, show_plot=show_plot)\n",
    "    metrics_dict['IMU loss'] = epoch_imu_loss/len(dataloader)\n",
    "    metrics_dict['AE loss'] = epoch_ae_loss/len(dataloader)\n",
    "    all_targets = np.array([inv_label_dict[c] for c in all_targets.squeeze()])\n",
    "    return metrics_dict, all_pred_actions, all_targets"
   ]
  },
  {
   "cell_type": "markdown",
   "metadata": {},
   "source": [
    "---"
   ]
  },
  {
   "cell_type": "code",
   "execution_count": 46,
   "metadata": {},
   "outputs": [
    {
     "name": "stdout",
     "output_type": "stream",
     "text": [
      "Initiate Skeleton dataset ... \n"
     ]
    },
    {
     "name": "stderr",
     "output_type": "stream",
     "text": [
      "train: 100%|██████████| 5/5 [00:01<00:00,  2.86batch/s, contrastive loss =2.72, reconstruction loss=0.00495]\n",
      "train: 100%|██████████| 5/5 [00:01<00:00,  4.17batch/s, contrastive loss =5.11, reconstruction loss=0.00334]\n",
      "train: 100%|██████████| 5/5 [00:01<00:00,  3.92batch/s, contrastive loss =4.32, reconstruction loss=0.00271]\n",
      "train: 100%|██████████| 5/5 [00:01<00:00,  4.02batch/s, contrastive loss =3.29, reconstruction loss=0.00391]\n",
      "train: 100%|██████████| 5/5 [00:01<00:00,  4.08batch/s, contrastive loss =3.56, reconstruction loss=0.00174]\n",
      "train: 100%|██████████| 5/5 [00:01<00:00,  4.23batch/s, contrastive loss =4.23, reconstruction loss=0.00313]\n",
      "train: 100%|██████████| 5/5 [00:01<00:00,  3.91batch/s, contrastive loss =3.97, reconstruction loss=0.00339]\n",
      "train: 100%|██████████| 5/5 [00:01<00:00,  4.54batch/s, contrastive loss =3.77, reconstruction loss=0.00512]\n",
      "train: 100%|██████████| 5/5 [00:01<00:00,  4.36batch/s, contrastive loss =2.78, reconstruction loss=0.00323]\n",
      "train: 100%|██████████| 5/5 [00:01<00:00,  4.29batch/s, contrastive loss =2.72, reconstruction loss=0.00322]\n",
      "train: 100%|██████████| 5/5 [00:01<00:00,  4.62batch/s, contrastive loss =3.53, reconstruction loss=0.00521]\n",
      "train: 100%|██████████| 5/5 [00:01<00:00,  4.17batch/s, contrastive loss =3.91, reconstruction loss=0.0052]\n",
      "train: 100%|██████████| 5/5 [00:01<00:00,  4.62batch/s, contrastive loss =3.5, reconstruction loss=0.00452]\n",
      "train: 100%|██████████| 5/5 [00:01<00:00,  4.63batch/s, contrastive loss =2.49, reconstruction loss=0.00398]\n",
      "train: 100%|██████████| 5/5 [00:01<00:00,  4.37batch/s, contrastive loss =2.74, reconstruction loss=0.00591]\n",
      "train: 100%|██████████| 5/5 [00:01<00:00,  4.54batch/s, contrastive loss =3.13, reconstruction loss=0.00687]\n",
      "train: 100%|██████████| 5/5 [00:01<00:00,  4.58batch/s, contrastive loss =2.75, reconstruction loss=0.00524]\n",
      "train: 100%|██████████| 5/5 [00:01<00:00,  4.66batch/s, contrastive loss =3.27, reconstruction loss=0.00705]\n",
      "train: 100%|██████████| 5/5 [00:01<00:00,  4.60batch/s, contrastive loss =2.98, reconstruction loss=0.00569]\n",
      "train: 100%|██████████| 5/5 [00:01<00:00,  4.65batch/s, contrastive loss =2.6, reconstruction loss=0.00414]\n",
      "train: 100%|██████████| 5/5 [00:01<00:00,  4.26batch/s, contrastive loss =2.73, reconstruction loss=0.00495]\n",
      "train: 100%|██████████| 5/5 [00:01<00:00,  4.24batch/s, contrastive loss =2.04, reconstruction loss=0.00876]\n",
      "train: 100%|██████████| 5/5 [00:01<00:00,  4.41batch/s, contrastive loss =2.37, reconstruction loss=0.0099]\n",
      "train: 100%|██████████| 5/5 [00:01<00:00,  3.97batch/s, contrastive loss =2.63, reconstruction loss=0.00993]\n",
      "train: 100%|██████████| 5/5 [00:01<00:00,  4.05batch/s, contrastive loss =3, reconstruction loss=0.00733]\n",
      "train: 100%|██████████| 5/5 [00:01<00:00,  3.70batch/s, contrastive loss =2.17, reconstruction loss=0.00819]\n",
      "train: 100%|██████████| 5/5 [00:01<00:00,  3.34batch/s, contrastive loss =2.32, reconstruction loss=0.00552]\n",
      "train: 100%|██████████| 5/5 [00:01<00:00,  2.52batch/s, contrastive loss =2.9, reconstruction loss=0.00727]\n",
      "train: 100%|██████████| 5/5 [00:01<00:00,  2.62batch/s, contrastive loss =2.86, reconstruction loss=0.0111]\n",
      "train: 100%|██████████| 5/5 [00:02<00:00,  2.43batch/s, contrastive loss =2.87, reconstruction loss=0.00981]\n",
      "train: 100%|██████████| 5/5 [00:01<00:00,  3.12batch/s, contrastive loss =2.5, reconstruction loss=0.014]\n",
      "train: 100%|██████████| 5/5 [00:01<00:00,  3.20batch/s, contrastive loss =2.71, reconstruction loss=0.00756]\n",
      "train: 100%|██████████| 5/5 [00:01<00:00,  2.79batch/s, contrastive loss =2.34, reconstruction loss=0.0108]\n",
      "train: 100%|██████████| 5/5 [00:01<00:00,  3.24batch/s, contrastive loss =2.43, reconstruction loss=0.00793]\n",
      "train: 100%|██████████| 5/5 [00:01<00:00,  2.92batch/s, contrastive loss =1.45, reconstruction loss=0.0116]\n",
      "train: 100%|██████████| 5/5 [00:01<00:00,  2.80batch/s, contrastive loss =2.41, reconstruction loss=0.00841]\n",
      "train: 100%|██████████| 5/5 [00:01<00:00,  2.78batch/s, contrastive loss =1.43, reconstruction loss=0.00994]\n",
      "train: 100%|██████████| 5/5 [00:01<00:00,  2.61batch/s, contrastive loss =2.9, reconstruction loss=0.0103]\n",
      "train: 100%|██████████| 5/5 [00:01<00:00,  3.29batch/s, contrastive loss =2.38, reconstruction loss=0.0115]\n",
      "train: 100%|██████████| 5/5 [00:01<00:00,  2.77batch/s, contrastive loss =1.88, reconstruction loss=0.0113]\n",
      "train: 100%|██████████| 5/5 [00:01<00:00,  2.88batch/s, contrastive loss =2.15, reconstruction loss=0.0104]\n",
      "train: 100%|██████████| 5/5 [00:01<00:00,  3.25batch/s, contrastive loss =1.47, reconstruction loss=0.00912]\n",
      "train: 100%|██████████| 5/5 [00:01<00:00,  3.27batch/s, contrastive loss =1.82, reconstruction loss=0.00778]\n",
      "train: 100%|██████████| 5/5 [00:01<00:00,  3.78batch/s, contrastive loss =1.74, reconstruction loss=0.0124]\n",
      "train: 100%|██████████| 5/5 [00:01<00:00,  3.68batch/s, contrastive loss =2.39, reconstruction loss=0.00806]\n",
      "train: 100%|██████████| 5/5 [00:01<00:00,  3.51batch/s, contrastive loss =2.7, reconstruction loss=0.0135]\n",
      "train: 100%|██████████| 5/5 [00:01<00:00,  3.81batch/s, contrastive loss =1.87, reconstruction loss=0.00939]\n",
      "train: 100%|██████████| 5/5 [00:01<00:00,  3.59batch/s, contrastive loss =2.79, reconstruction loss=0.0135]\n",
      "train: 100%|██████████| 5/5 [00:01<00:00,  3.58batch/s, contrastive loss =2.29, reconstruction loss=0.0106]\n",
      "train: 100%|██████████| 5/5 [00:01<00:00,  3.50batch/s, contrastive loss =1.8, reconstruction loss=0.0102]\n",
      "train: 100%|██████████| 5/5 [00:01<00:00,  3.18batch/s, contrastive loss =2.08, reconstruction loss=0.0163]\n",
      "train: 100%|██████████| 5/5 [00:01<00:00,  3.36batch/s, contrastive loss =2.21, reconstruction loss=0.0271]\n",
      "train: 100%|██████████| 5/5 [00:01<00:00,  3.62batch/s, contrastive loss =1.64, reconstruction loss=0.0144]\n",
      "train: 100%|██████████| 5/5 [00:01<00:00,  2.95batch/s, contrastive loss =1.37, reconstruction loss=0.0165]\n",
      "train: 100%|██████████| 5/5 [00:01<00:00,  3.61batch/s, contrastive loss =1.51, reconstruction loss=0.0182]\n",
      "train: 100%|██████████| 5/5 [00:01<00:00,  3.80batch/s, contrastive loss =2.45, reconstruction loss=0.0121]\n",
      "train: 100%|██████████| 5/5 [00:01<00:00,  3.57batch/s, contrastive loss =2.38, reconstruction loss=0.0117]\n",
      "train: 100%|██████████| 5/5 [00:01<00:00,  3.16batch/s, contrastive loss =1.9, reconstruction loss=0.0136]\n",
      "train: 100%|██████████| 5/5 [00:01<00:00,  3.39batch/s, contrastive loss =1.35, reconstruction loss=0.0156]\n",
      "train: 100%|██████████| 5/5 [00:01<00:00,  3.75batch/s, contrastive loss =1.78, reconstruction loss=0.0139]\n",
      "train: 100%|██████████| 5/5 [00:01<00:00,  3.64batch/s, contrastive loss =2.14, reconstruction loss=0.0118]\n",
      "train: 100%|██████████| 5/5 [00:01<00:00,  3.44batch/s, contrastive loss =1.78, reconstruction loss=0.0123]\n",
      "train: 100%|██████████| 5/5 [00:01<00:00,  2.83batch/s, contrastive loss =1.7, reconstruction loss=0.0161]\n",
      "train: 100%|██████████| 5/5 [00:01<00:00,  3.28batch/s, contrastive loss =1.08, reconstruction loss=0.0167]\n",
      "train: 100%|██████████| 5/5 [00:01<00:00,  3.44batch/s, contrastive loss =1.71, reconstruction loss=0.016]\n",
      "train: 100%|██████████| 5/5 [00:01<00:00,  3.74batch/s, contrastive loss =1.64, reconstruction loss=0.0242]\n",
      "train: 100%|██████████| 5/5 [00:01<00:00,  3.48batch/s, contrastive loss =1.6, reconstruction loss=0.0253]\n",
      "train: 100%|██████████| 5/5 [00:01<00:00,  3.71batch/s, contrastive loss =1.51, reconstruction loss=0.0255]\n",
      "train: 100%|██████████| 5/5 [00:01<00:00,  3.67batch/s, contrastive loss =2.45, reconstruction loss=0.0143]\n",
      "train: 100%|██████████| 5/5 [00:01<00:00,  3.55batch/s, contrastive loss =1.59, reconstruction loss=0.0205]\n",
      "train: 100%|██████████| 5/5 [00:01<00:00,  3.47batch/s, contrastive loss =1.64, reconstruction loss=0.0235]\n",
      "train: 100%|██████████| 5/5 [00:01<00:00,  3.54batch/s, contrastive loss =1.46, reconstruction loss=0.0237]\n",
      "train: 100%|██████████| 5/5 [00:01<00:00,  3.74batch/s, contrastive loss =1.9, reconstruction loss=0.0161]\n",
      "train: 100%|██████████| 5/5 [00:01<00:00,  3.68batch/s, contrastive loss =1.42, reconstruction loss=0.0208]\n",
      "train: 100%|██████████| 5/5 [00:01<00:00,  3.74batch/s, contrastive loss =1.21, reconstruction loss=0.0179]\n",
      "train: 100%|██████████| 5/5 [00:01<00:00,  3.88batch/s, contrastive loss =1.35, reconstruction loss=0.0238]\n",
      "train: 100%|██████████| 5/5 [00:01<00:00,  3.65batch/s, contrastive loss =1.26, reconstruction loss=0.0238]\n",
      "train: 100%|██████████| 5/5 [00:01<00:00,  3.39batch/s, contrastive loss =1.47, reconstruction loss=0.0194]\n",
      "train: 100%|██████████| 5/5 [00:01<00:00,  3.62batch/s, contrastive loss =1.47, reconstruction loss=0.0293]\n",
      "train: 100%|██████████| 5/5 [00:01<00:00,  3.56batch/s, contrastive loss =1.5, reconstruction loss=0.0157]\n",
      "train: 100%|██████████| 5/5 [00:01<00:00,  2.53batch/s, contrastive loss =1.15, reconstruction loss=0.0195]\n",
      "train: 100%|██████████| 5/5 [00:01<00:00,  3.17batch/s, contrastive loss =1.09, reconstruction loss=0.0387]\n",
      "train: 100%|██████████| 5/5 [00:01<00:00,  3.39batch/s, contrastive loss =1.59, reconstruction loss=0.0253]\n",
      "train: 100%|██████████| 5/5 [00:01<00:00,  3.53batch/s, contrastive loss =1.21, reconstruction loss=0.022]\n",
      "train: 100%|██████████| 5/5 [00:01<00:00,  3.35batch/s, contrastive loss =0.513, reconstruction loss=0.0317]\n",
      "train: 100%|██████████| 5/5 [00:01<00:00,  3.68batch/s, contrastive loss =1.52, reconstruction loss=0.0285]\n",
      "train: 100%|██████████| 5/5 [00:01<00:00,  3.41batch/s, contrastive loss =1.36, reconstruction loss=0.0344]\n",
      "train: 100%|██████████| 5/5 [00:01<00:00,  3.61batch/s, contrastive loss =0.838, reconstruction loss=0.0298]\n",
      "train: 100%|██████████| 5/5 [00:01<00:00,  3.55batch/s, contrastive loss =0.972, reconstruction loss=0.0296]\n",
      "train: 100%|██████████| 5/5 [00:01<00:00,  3.46batch/s, contrastive loss =1.3, reconstruction loss=0.0188]\n",
      "train: 100%|██████████| 5/5 [00:01<00:00,  3.33batch/s, contrastive loss =1.12, reconstruction loss=0.0235]\n",
      "train: 100%|██████████| 5/5 [00:01<00:00,  3.57batch/s, contrastive loss =1.52, reconstruction loss=0.0317]\n",
      "train: 100%|██████████| 5/5 [00:01<00:00,  3.00batch/s, contrastive loss =1.42, reconstruction loss=0.0222]\n",
      "train: 100%|██████████| 5/5 [00:01<00:00,  3.45batch/s, contrastive loss =0.961, reconstruction loss=0.0275]\n",
      "train: 100%|██████████| 5/5 [00:01<00:00,  3.56batch/s, contrastive loss =0.512, reconstruction loss=0.0194]\n",
      "train: 100%|██████████| 5/5 [00:01<00:00,  3.65batch/s, contrastive loss =1.27, reconstruction loss=0.0329]\n",
      "train: 100%|██████████| 5/5 [00:01<00:00,  3.64batch/s, contrastive loss =0.894, reconstruction loss=0.0292]\n",
      "train: 100%|██████████| 5/5 [00:01<00:00,  3.48batch/s, contrastive loss =0.324, reconstruction loss=0.0425]\n",
      "train: 100%|██████████| 5/5 [00:01<00:00,  3.52batch/s, contrastive loss =0.907, reconstruction loss=0.03]\n",
      "train: 100%|██████████| 5/5 [00:01<00:00,  3.61batch/s, contrastive loss =0.949, reconstruction loss=0.0335]\n",
      "                                                                 \r"
     ]
    },
    {
     "data": {
      "image/png": "[encoded data removed]",
      "text/plain": [
       "<Figure size 640x480 with 1 Axes>"
      ]
     },
     "metadata": {},
     "output_type": "display_data"
    }
   ],
   "source": [
    "print(\"Initiate Skeleton dataset ... \")\n",
    "# prep_dir = './tmp/epoch50_randsample_input_mseloss.pt'\n",
    "prep_dir = './tmp/random_input_100_epochs.pt'\n",
    "\n",
    "# build Skeleton dataset \n",
    "skel_dt = SkeletonDataset(skeleton_mov, skeleton_Ids, action_dict, seq_len=config['seq_len'])\n",
    "skel_dl = DataLoader(skel_dt, batch_size=config['batch_size'], shuffle=True, pin_memory=True, drop_last=True)\n",
    "skel_n, skel_fts = skel_dt.getShape()\n",
    "\n",
    "# build AE Model \n",
    "# ae_model = BiLSTMEncDecModel(input_size=skel_fts, seq_len=skel_n, hidden_size=config['feat_size'], batch_size=config['batch_size'], ae_type='recursive', device=device)\n",
    "ae_model = SkeletonAE(seq_len=skel_n, input_size=skel_fts, hidden_size=512, linear_filters=[128,256,512], embedding_size=config['feat_size'], num_layers=1, bidirectional=True, batch_size=config['batch_size'], device=device)\n",
    "# ae_model = BiLSTMEncDecModel(seq_len=50, input_size=36, hidden_size=512, linear_filters=[128,256,512], embedding_size=256, num_layers=1,bidirectional=True,batch_size=32, device=device)\n",
    "ae_model.load_state_dict(torch.load(prep_dir))\n",
    "ae_model.to(device)\n",
    "\n",
    "# define AE run parameters \n",
    "ae_optim = Adam(ae_model.parameters(), lr=config['ae_lr'])\n",
    "ae_loss_module = {'contrast': SoftNearestNeighbours, 'recons': nn.MSELoss()}\n",
    "\n",
    "ae_train_data = []\n",
    "for epoch in tqdm(range(100), desc='Training Epoch', leave=False):\n",
    "    # train AE model \n",
    "    ae_train_metrics = ae_train_step1(ae_model, skel_dl, ae_optim, ae_loss_module, device, config['batch_size'], phase='train', loss_alpha=config['ae_alpha'])\n",
    "    ae_train_metrics['epoch'] = epoch\n",
    "    ae_train_data.append(ae_train_metrics)\n",
    "\n",
    "ae_train_df = pd.DataFrame().from_records(ae_train_data)\n",
    "\n",
    "# plot train metrics \n",
    "fig, ax = plt.subplots()\n",
    "\n",
    "ax.plot(ae_train_df['total_loss'], color = 'green', label = 'total_loss')\n",
    "ax.plot(ae_train_df['contrastive_loss'], color = 'red', label = 'contrastive_loss')\n",
    "ax.plot(ae_train_df['reconstruction_loss'], color = 'blue', label = 'reconstruction_loss')\n",
    "ax.legend(loc = 'upper right')\n",
    "plt.show()"
   ]
  },
  {
   "cell_type": "code",
   "execution_count": 47,
   "metadata": {},
   "outputs": [
    {
     "data": {
      "application/vnd.plotly.v1+json": {
       "config": {
        "plotlyServerURL": "https://plotly.com"
       },
       "data": [
        {
         "hoverlabel": {
          "namelength": 0
         },
         "hovertemplate": "action=lying<br>x=%{x}<br>y=%{y}",
         "legendgroup": "action=lying",
         "marker": {
          "color": "#636efa",
          "symbol": "circle"
         },
         "mode": "markers",
         "name": "action=lying",
         "showlegend": true,
         "type": "scatter",
         "x": [
          7.245634078979492,
          12.371238708496094,
          9.534064292907715,
          12.867761611938477,
          8.365578651428223,
          10.272444725036621,
          8.651128768920898,
          10.976366996765137,
          8.5826997756958,
          7.034219264984131
         ],
         "xaxis": "x",
         "y": [
          -15.968551635742188,
          -15.272875785827637,
          -16.570829391479492,
          -14.636249542236328,
          -15.903818130493164,
          -17.47492218017578,
          -17.906795501708984,
          -16.04351806640625,
          -15.483319282531738,
          -14.70101261138916
         ],
         "yaxis": "y"
        },
        {
         "hoverlabel": {
          "namelength": 0
         },
         "hovertemplate": "action=sitting<br>x=%{x}<br>y=%{y}",
         "legendgroup": "action=sitting",
         "marker": {
          "color": "#EF553B",
          "symbol": "circle"
         },
         "mode": "markers",
         "name": "action=sitting",
         "showlegend": true,
         "type": "scatter",
         "x": [
          -10.73121166229248,
          -14.271942138671875,
          -14.3461275100708,
          -11.498156547546387,
          -13.706574440002441,
          -11.055018424987793,
          -12.158635139465332,
          -13.079792022705078,
          -11.844380378723145,
          -12.609522819519043
         ],
         "xaxis": "x",
         "y": [
          14.261565208435059,
          13.909085273742676,
          14.929073333740234,
          12.51009750366211,
          11.47307014465332,
          12.754642486572266,
          14.15492057800293,
          13.146761894226074,
          9.934744834899902,
          12.320393562316895
         ],
         "yaxis": "y"
        },
        {
         "hoverlabel": {
          "namelength": 0
         },
         "hovertemplate": "action=standing<br>x=%{x}<br>y=%{y}",
         "legendgroup": "action=standing",
         "marker": {
          "color": "#00cc96",
          "symbol": "circle"
         },
         "mode": "markers",
         "name": "action=standing",
         "showlegend": true,
         "type": "scatter",
         "x": [
          5.378289222717285,
          3.612008810043335,
          3.195664644241333,
          14.187806129455566,
          7.1466875076293945,
          6.794156551361084,
          4.635231018066406,
          6.112216949462891,
          4.634671688079834,
          7.328425407409668
         ],
         "xaxis": "x",
         "y": [
          -7.876370906829834,
          -7.781742095947266,
          -7.013095378875732,
          -4.503687858581543,
          -4.096128463745117,
          -5.789373874664307,
          -8.866158485412598,
          -9.103325843811035,
          -7.364826679229736,
          -8.765307426452637
         ],
         "yaxis": "y"
        },
        {
         "hoverlabel": {
          "namelength": 0
         },
         "hovertemplate": "action=walking<br>x=%{x}<br>y=%{y}",
         "legendgroup": "action=walking",
         "marker": {
          "color": "#ab63fa",
          "symbol": "circle"
         },
         "mode": "markers",
         "name": "action=walking",
         "showlegend": true,
         "type": "scatter",
         "x": [
          -6.506227493286133,
          -1.5276833772659302,
          -4.893762588500977,
          -4.557615756988525,
          -2.7184484004974365,
          -2.6326370239257812,
          -1.2513731718063354,
          -2.293114185333252,
          4.394014835357666,
          -5.4516472816467285
         ],
         "xaxis": "x",
         "y": [
          -9.673144340515137,
          -7.000093936920166,
          -6.3472394943237305,
          -5.515626907348633,
          -6.296987056732178,
          -6.13653039932251,
          -10.972498893737793,
          -3.620863676071167,
          -3.2268266677856445,
          -4.57185697555542
         ],
         "yaxis": "y"
        },
        {
         "hoverlabel": {
          "namelength": 0
         },
         "hovertemplate": "action=running<br>x=%{x}<br>y=%{y}",
         "legendgroup": "action=running",
         "marker": {
          "color": "#FFA15A",
          "symbol": "circle"
         },
         "mode": "markers",
         "name": "action=running",
         "showlegend": true,
         "type": "scatter",
         "x": [
          -14.123773574829102,
          -15.384458541870117,
          -12.854170799255371,
          -13.999784469604492,
          -16.976049423217773,
          -16.85839080810547,
          -12.990917205810547,
          -10.344110488891602,
          -15.038028717041016,
          -15.92524242401123
         ],
         "xaxis": "x",
         "y": [
          -4.734642028808594,
          -1.8423279523849487,
          -2.9300994873046875,
          -3.6586458683013916,
          -1.4436031579971313,
          -3.327718496322632,
          -4.400706768035889,
          -2.8612356185913086,
          -3.54693603515625,
          -4.681791305541992
         ],
         "yaxis": "y"
        },
        {
         "hoverlabel": {
          "namelength": 0
         },
         "hovertemplate": "action=cycling<br>x=%{x}<br>y=%{y}",
         "legendgroup": "action=cycling",
         "marker": {
          "color": "#19d3f3",
          "symbol": "circle"
         },
         "mode": "markers",
         "name": "action=cycling",
         "showlegend": true,
         "type": "scatter",
         "x": [
          -8.230232238769531,
          -5.865868091583252,
          -10.225132942199707,
          -7.933440208435059,
          -0.21118608117103577,
          -9.712396621704102,
          -9.294259071350098,
          -9.146556854248047,
          -10.268756866455078,
          -7.688892841339111
         ],
         "xaxis": "x",
         "y": [
          4.8133416175842285,
          5.716445446014404,
          1.2747831344604492,
          -0.011653591878712177,
          4.465068817138672,
          -1.12753427028656,
          2.181680202484131,
          1.9818650484085083,
          3.815668821334839,
          2.4217686653137207
         ],
         "yaxis": "y"
        },
        {
         "hoverlabel": {
          "namelength": 0
         },
         "hovertemplate": "action=Nordic walking<br>x=%{x}<br>y=%{y}",
         "legendgroup": "action=Nordic walking",
         "marker": {
          "color": "#FF6692",
          "symbol": "circle"
         },
         "mode": "markers",
         "name": "action=Nordic walking",
         "showlegend": true,
         "type": "scatter",
         "x": [
          -5.327451705932617,
          -2.972747802734375,
          -3.255547046661377,
          -5.379283905029297,
          -7.477498531341553,
          -5.080629348754883,
          -8.665017127990723,
          -4.791726589202881,
          -4.009922981262207,
          -3.966496467590332
         ],
         "xaxis": "x",
         "y": [
          -1.937066674232483,
          -0.5324980616569519,
          -1.8963487148284912,
          1.2221230268478394,
          -2.536041736602783,
          1.7991544008255005,
          -0.9464933276176453,
          -0.36060839891433716,
          -1.8995710611343384,
          0.9977436065673828
         ],
         "yaxis": "y"
        },
        {
         "hoverlabel": {
          "namelength": 0
         },
         "hovertemplate": "action=watching TV<br>x=%{x}<br>y=%{y}",
         "legendgroup": "action=watching TV",
         "marker": {
          "color": "#B6E880",
          "symbol": "circle"
         },
         "mode": "markers",
         "name": "action=watching TV",
         "showlegend": true,
         "type": "scatter",
         "x": [
          14.908686637878418,
          14.23872184753418,
          18.56474494934082,
          17.413061141967773,
          13.513675689697266,
          14.874738693237305,
          15.462767601013184,
          13.329602241516113,
          16.84206771850586,
          16.426895141601562
         ],
         "xaxis": "x",
         "y": [
          -3.435551643371582,
          -1.4944860935211182,
          -1.0201972723007202,
          3.702598810195923,
          -2.9081733226776123,
          -0.3259800672531128,
          -1.834926962852478,
          -0.35147255659103394,
          -1.0796386003494263,
          -3.513807773590088
         ],
         "yaxis": "y"
        },
        {
         "hoverlabel": {
          "namelength": 0
         },
         "hovertemplate": "action=computer work<br>x=%{x}<br>y=%{y}",
         "legendgroup": "action=computer work",
         "marker": {
          "color": "#FF97FF",
          "symbol": "circle"
         },
         "mode": "markers",
         "name": "action=computer work",
         "showlegend": true,
         "type": "scatter",
         "x": [
          12.58473014831543,
          11.009876251220703,
          11.526082038879395,
          9.268744468688965,
          12.7365083694458,
          13.168756484985352,
          -10.05088996887207,
          13.84589672088623,
          11.704748153686523,
          12.932069778442383
         ],
         "xaxis": "x",
         "y": [
          -7.116781711578369,
          -10.168599128723145,
          -10.059614181518555,
          -11.512595176696777,
          -2.4174673557281494,
          -4.006377220153809,
          -8.64984130859375,
          -7.445035934448242,
          -8.492788314819336,
          -9.975507736206055
         ],
         "yaxis": "y"
        },
        {
         "hoverlabel": {
          "namelength": 0
         },
         "hovertemplate": "action=car driving<br>x=%{x}<br>y=%{y}",
         "legendgroup": "action=car driving",
         "marker": {
          "color": "#FECB52",
          "symbol": "circle"
         },
         "mode": "markers",
         "name": "action=car driving",
         "showlegend": true,
         "type": "scatter",
         "x": [
          -20.45374870300293,
          -22.763166427612305,
          -23.896196365356445,
          -22.3306884765625,
          -23.79017448425293,
          -22.369966506958008,
          -21.62853240966797,
          -21.68416976928711,
          -20.924667358398438,
          -22.972206115722656
         ],
         "xaxis": "x",
         "y": [
          -3.2639501094818115,
          -1.1378955841064453,
          -2.123321533203125,
          -5.37518310546875,
          -3.7680504322052,
          -2.9912402629852295,
          -1.1693296432495117,
          -4.365955829620361,
          -5.063323974609375,
          -2.3522837162017822
         ],
         "yaxis": "y"
        },
        {
         "hoverlabel": {
          "namelength": 0
         },
         "hovertemplate": "action=ascending stairs<br>x=%{x}<br>y=%{y}",
         "legendgroup": "action=ascending stairs",
         "marker": {
          "color": "#636efa",
          "symbol": "circle"
         },
         "mode": "markers",
         "name": "action=ascending stairs",
         "showlegend": true,
         "type": "scatter",
         "x": [
          6.115294456481934,
          4.867079257965088,
          6.063815593719482,
          8.474089622497559,
          6.221264362335205,
          4.755541801452637,
          6.7956342697143555,
          7.669908046722412,
          5.658363342285156,
          4.747065544128418
         ],
         "xaxis": "x",
         "y": [
          2.8755037784576416,
          3.727423667907715,
          5.465932846069336,
          -0.3356952667236328,
          1.7433527708053589,
          2.0220446586608887,
          4.360170364379883,
          5.298120975494385,
          5.520291805267334,
          2.313654899597168
         ],
         "yaxis": "y"
        },
        {
         "hoverlabel": {
          "namelength": 0
         },
         "hovertemplate": "action=descending stairs<br>x=%{x}<br>y=%{y}",
         "legendgroup": "action=descending stairs",
         "marker": {
          "color": "#EF553B",
          "symbol": "circle"
         },
         "mode": "markers",
         "name": "action=descending stairs",
         "showlegend": true,
         "type": "scatter",
         "x": [
          -3.3151514530181885,
          -1.9352128505706787,
          -0.5711809396743774,
          -9.776485443115234,
          -0.7304115891456604,
          -8.161406517028809,
          -8.202292442321777,
          -3.9819705486297607,
          -3.7138664722442627,
          -1.5649054050445557
         ],
         "xaxis": "x",
         "y": [
          11.936102867126465,
          13.750906944274902,
          10.682658195495605,
          11.429336547851562,
          11.606537818908691,
          11.128321647644043,
          10.732111930847168,
          12.736174583435059,
          13.16114330291748,
          13.204039573669434
         ],
         "yaxis": "y"
        },
        {
         "hoverlabel": {
          "namelength": 0
         },
         "hovertemplate": "action=vacuum cleaning<br>x=%{x}<br>y=%{y}",
         "legendgroup": "action=vacuum cleaning",
         "marker": {
          "color": "#00cc96",
          "symbol": "circle"
         },
         "mode": "markers",
         "name": "action=vacuum cleaning",
         "showlegend": true,
         "type": "scatter",
         "x": [
          4.972161769866943,
          -2.5187253952026367,
          3.267997980117798,
          4.847924709320068,
          5.4909892082214355,
          6.027981281280518,
          5.345218181610107,
          -5.4439592361450195,
          -3.916144609451294,
          -3.8470821380615234
         ],
         "xaxis": "x",
         "y": [
          14.469622611999512,
          2.575963258743286,
          15.492761611938477,
          13.774870872497559,
          13.067188262939453,
          13.984003067016602,
          15.511043548583984,
          3.607449769973755,
          2.6418802738189697,
          5.2738752365112305
         ],
         "yaxis": "y"
        },
        {
         "hoverlabel": {
          "namelength": 0
         },
         "hovertemplate": "action=ironing<br>x=%{x}<br>y=%{y}",
         "legendgroup": "action=ironing",
         "marker": {
          "color": "#ab63fa",
          "symbol": "circle"
         },
         "mode": "markers",
         "name": "action=ironing",
         "showlegend": true,
         "type": "scatter",
         "x": [
          14.075129508972168,
          14.168526649475098,
          13.282120704650879,
          12.312078475952148,
          10.59607219696045,
          12.239676475524902,
          9.47317123413086,
          10.315057754516602,
          11.455972671508789,
          12.115599632263184
         ],
         "xaxis": "x",
         "y": [
          16.765451431274414,
          15.211302757263184,
          14.911796569824219,
          14.436939239501953,
          14.782559394836426,
          16.864700317382812,
          18.148773193359375,
          17.944793701171875,
          16.08391571044922,
          15.691608428955078
         ],
         "yaxis": "y"
        },
        {
         "hoverlabel": {
          "namelength": 0
         },
         "hovertemplate": "action=folding laundry<br>x=%{x}<br>y=%{y}",
         "legendgroup": "action=folding laundry",
         "marker": {
          "color": "#FFA15A",
          "symbol": "circle"
         },
         "mode": "markers",
         "name": "action=folding laundry",
         "showlegend": true,
         "type": "scatter",
         "x": [
          16.575305938720703,
          18.525972366333008,
          19.344261169433594,
          18.93645477294922,
          18.193668365478516,
          20.088790893554688,
          19.23309326171875,
          21.87195587158203,
          20.422733306884766,
          17.93658447265625
         ],
         "xaxis": "x",
         "y": [
          6.626091480255127,
          9.311883926391602,
          6.000790596008301,
          7.310710430145264,
          5.575965881347656,
          4.3676934242248535,
          5.0226616859436035,
          5.322543144226074,
          7.408636093139648,
          6.032296180725098
         ],
         "yaxis": "y"
        },
        {
         "hoverlabel": {
          "namelength": 0
         },
         "hovertemplate": "action=house cleaning<br>x=%{x}<br>y=%{y}",
         "legendgroup": "action=house cleaning",
         "marker": {
          "color": "#19d3f3",
          "symbol": "circle"
         },
         "mode": "markers",
         "name": "action=house cleaning",
         "showlegend": true,
         "type": "scatter",
         "x": [
          22.487430572509766,
          20.5340576171875,
          23.182342529296875,
          24.61151123046875,
          22.937068939208984,
          22.939023971557617,
          22.602087020874023,
          21.603282928466797,
          22.097986221313477,
          24.054405212402344
         ],
         "xaxis": "x",
         "y": [
          -4.334103107452393,
          -1.2996608018875122,
          1.7109365463256836,
          -0.01844327338039875,
          -2.700928211212158,
          -1.1118406057357788,
          1.162831425666809,
          0.752716064453125,
          -1.1541558504104614,
          -0.646124541759491
         ],
         "yaxis": "y"
        },
        {
         "hoverlabel": {
          "namelength": 0
         },
         "hovertemplate": "action=playing soccer<br>x=%{x}<br>y=%{y}",
         "legendgroup": "action=playing soccer",
         "marker": {
          "color": "#FF6692",
          "symbol": "circle"
         },
         "mode": "markers",
         "name": "action=playing soccer",
         "showlegend": true,
         "type": "scatter",
         "x": [
          -4.884439468383789,
          -2.1644294261932373,
          0.09427891671657562,
          -3.4886531829833984,
          -2.9884331226348877,
          -4.476222991943359,
          -2.5091757774353027,
          -2.2726190090179443,
          -4.128668308258057,
          -4.330341815948486
         ],
         "xaxis": "x",
         "y": [
          -10.249218940734863,
          -13.336684226989746,
          -2.30678129196167,
          -15.080835342407227,
          -12.407271385192871,
          -15.072623252868652,
          -11.84055233001709,
          -15.46843147277832,
          -13.677520751953125,
          -12.119266510009766
         ],
         "yaxis": "y"
        },
        {
         "hoverlabel": {
          "namelength": 0
         },
         "hovertemplate": "action=rope jumping<br>x=%{x}<br>y=%{y}",
         "legendgroup": "action=rope jumping",
         "marker": {
          "color": "#B6E880",
          "symbol": "circle"
         },
         "mode": "markers",
         "name": "action=rope jumping",
         "showlegend": true,
         "type": "scatter",
         "x": [
          -12.921743392944336,
          -11.281479835510254,
          -14.150174140930176,
          -15.206033706665039,
          -10.79713249206543,
          -11.268589973449707,
          -12.204370498657227,
          -11.365076065063477,
          -12.447010040283203,
          -10.807058334350586
         ],
         "xaxis": "x",
         "y": [
          -11.790484428405762,
          -13.43701171875,
          -13.638362884521484,
          -7.041340351104736,
          -10.181118965148926,
          -11.785460472106934,
          -14.286572456359863,
          -15.170400619506836,
          -13.452829360961914,
          -12.044568061828613
         ],
         "yaxis": "y"
        }
       ],
       "layout": {
        "height": 800,
        "legend": {
         "tracegroupgap": 0
        },
        "template": {
         "data": {
          "bar": [
           {
            "error_x": {
             "color": "#2a3f5f"
            },
            "error_y": {
             "color": "#2a3f5f"
            },
            "marker": {
             "line": {
              "color": "#E5ECF6",
              "width": 0.5
             }
            },
            "type": "bar"
           }
          ],
          "barpolar": [
           {
            "marker": {
             "line": {
              "color": "#E5ECF6",
              "width": 0.5
             }
            },
            "type": "barpolar"
           }
          ],
          "carpet": [
           {
            "aaxis": {
             "endlinecolor": "#2a3f5f",
             "gridcolor": "white",
             "linecolor": "white",
             "minorgridcolor": "white",
             "startlinecolor": "#2a3f5f"
            },
            "baxis": {
             "endlinecolor": "#2a3f5f",
             "gridcolor": "white",
             "linecolor": "white",
             "minorgridcolor": "white",
             "startlinecolor": "#2a3f5f"
            },
            "type": "carpet"
           }
          ],
          "choropleth": [
           {
            "colorbar": {
             "outlinewidth": 0,
             "ticks": ""
            },
            "type": "choropleth"
           }
          ],
          "contour": [
           {
            "colorbar": {
             "outlinewidth": 0,
             "ticks": ""
            },
            "colorscale": [
             [
              0,
              "#0d0887"
             ],
             [
              0.1111111111111111,
              "#46039f"
             ],
             [
              0.2222222222222222,
              "#7201a8"
             ],
             [
              0.3333333333333333,
              "#9c179e"
             ],
             [
              0.4444444444444444,
              "#bd3786"
             ],
             [
              0.5555555555555556,
              "#d8576b"
             ],
             [
              0.6666666666666666,
              "#ed7953"
             ],
             [
              0.7777777777777778,
              "#fb9f3a"
             ],
             [
              0.8888888888888888,
              "#fdca26"
             ],
             [
              1,
              "#f0f921"
             ]
            ],
            "type": "contour"
           }
          ],
          "contourcarpet": [
           {
            "colorbar": {
             "outlinewidth": 0,
             "ticks": ""
            },
            "type": "contourcarpet"
           }
          ],
          "heatmap": [
           {
            "colorbar": {
             "outlinewidth": 0,
             "ticks": ""
            },
            "colorscale": [
             [
              0,
              "#0d0887"
             ],
             [
              0.1111111111111111,
              "#46039f"
             ],
             [
              0.2222222222222222,
              "#7201a8"
             ],
             [
              0.3333333333333333,
              "#9c179e"
             ],
             [
              0.4444444444444444,
              "#bd3786"
             ],
             [
              0.5555555555555556,
              "#d8576b"
             ],
             [
              0.6666666666666666,
              "#ed7953"
             ],
             [
              0.7777777777777778,
              "#fb9f3a"
             ],
             [
              0.8888888888888888,
              "#fdca26"
             ],
             [
              1,
              "#f0f921"
             ]
            ],
            "type": "heatmap"
           }
          ],
          "heatmapgl": [
           {
            "colorbar": {
             "outlinewidth": 0,
             "ticks": ""
            },
            "colorscale": [
             [
              0,
              "#0d0887"
             ],
             [
              0.1111111111111111,
              "#46039f"
             ],
             [
              0.2222222222222222,
              "#7201a8"
             ],
             [
              0.3333333333333333,
              "#9c179e"
             ],
             [
              0.4444444444444444,
              "#bd3786"
             ],
             [
              0.5555555555555556,
              "#d8576b"
             ],
             [
              0.6666666666666666,
              "#ed7953"
             ],
             [
              0.7777777777777778,
              "#fb9f3a"
             ],
             [
              0.8888888888888888,
              "#fdca26"
             ],
             [
              1,
              "#f0f921"
             ]
            ],
            "type": "heatmapgl"
           }
          ],
          "histogram": [
           {
            "marker": {
             "colorbar": {
              "outlinewidth": 0,
              "ticks": ""
             }
            },
            "type": "histogram"
           }
          ],
          "histogram2d": [
           {
            "colorbar": {
             "outlinewidth": 0,
             "ticks": ""
            },
            "colorscale": [
             [
              0,
              "#0d0887"
             ],
             [
              0.1111111111111111,
              "#46039f"
             ],
             [
              0.2222222222222222,
              "#7201a8"
             ],
             [
              0.3333333333333333,
              "#9c179e"
             ],
             [
              0.4444444444444444,
              "#bd3786"
             ],
             [
              0.5555555555555556,
              "#d8576b"
             ],
             [
              0.6666666666666666,
              "#ed7953"
             ],
             [
              0.7777777777777778,
              "#fb9f3a"
             ],
             [
              0.8888888888888888,
              "#fdca26"
             ],
             [
              1,
              "#f0f921"
             ]
            ],
            "type": "histogram2d"
           }
          ],
          "histogram2dcontour": [
           {
            "colorbar": {
             "outlinewidth": 0,
             "ticks": ""
            },
            "colorscale": [
             [
              0,
              "#0d0887"
             ],
             [
              0.1111111111111111,
              "#46039f"
             ],
             [
              0.2222222222222222,
              "#7201a8"
             ],
             [
              0.3333333333333333,
              "#9c179e"
             ],
             [
              0.4444444444444444,
              "#bd3786"
             ],
             [
              0.5555555555555556,
              "#d8576b"
             ],
             [
              0.6666666666666666,
              "#ed7953"
             ],
             [
              0.7777777777777778,
              "#fb9f3a"
             ],
             [
              0.8888888888888888,
              "#fdca26"
             ],
             [
              1,
              "#f0f921"
             ]
            ],
            "type": "histogram2dcontour"
           }
          ],
          "mesh3d": [
           {
            "colorbar": {
             "outlinewidth": 0,
             "ticks": ""
            },
            "type": "mesh3d"
           }
          ],
          "parcoords": [
           {
            "line": {
             "colorbar": {
              "outlinewidth": 0,
              "ticks": ""
             }
            },
            "type": "parcoords"
           }
          ],
          "pie": [
           {
            "automargin": true,
            "type": "pie"
           }
          ],
          "scatter": [
           {
            "marker": {
             "colorbar": {
              "outlinewidth": 0,
              "ticks": ""
             }
            },
            "type": "scatter"
           }
          ],
          "scatter3d": [
           {
            "line": {
             "colorbar": {
              "outlinewidth": 0,
              "ticks": ""
             }
            },
            "marker": {
             "colorbar": {
              "outlinewidth": 0,
              "ticks": ""
             }
            },
            "type": "scatter3d"
           }
          ],
          "scattercarpet": [
           {
            "marker": {
             "colorbar": {
              "outlinewidth": 0,
              "ticks": ""
             }
            },
            "type": "scattercarpet"
           }
          ],
          "scattergeo": [
           {
            "marker": {
             "colorbar": {
              "outlinewidth": 0,
              "ticks": ""
             }
            },
            "type": "scattergeo"
           }
          ],
          "scattergl": [
           {
            "marker": {
             "colorbar": {
              "outlinewidth": 0,
              "ticks": ""
             }
            },
            "type": "scattergl"
           }
          ],
          "scattermapbox": [
           {
            "marker": {
             "colorbar": {
              "outlinewidth": 0,
              "ticks": ""
             }
            },
            "type": "scattermapbox"
           }
          ],
          "scatterpolar": [
           {
            "marker": {
             "colorbar": {
              "outlinewidth": 0,
              "ticks": ""
             }
            },
            "type": "scatterpolar"
           }
          ],
          "scatterpolargl": [
           {
            "marker": {
             "colorbar": {
              "outlinewidth": 0,
              "ticks": ""
             }
            },
            "type": "scatterpolargl"
           }
          ],
          "scatterternary": [
           {
            "marker": {
             "colorbar": {
              "outlinewidth": 0,
              "ticks": ""
             }
            },
            "type": "scatterternary"
           }
          ],
          "surface": [
           {
            "colorbar": {
             "outlinewidth": 0,
             "ticks": ""
            },
            "colorscale": [
             [
              0,
              "#0d0887"
             ],
             [
              0.1111111111111111,
              "#46039f"
             ],
             [
              0.2222222222222222,
              "#7201a8"
             ],
             [
              0.3333333333333333,
              "#9c179e"
             ],
             [
              0.4444444444444444,
              "#bd3786"
             ],
             [
              0.5555555555555556,
              "#d8576b"
             ],
             [
              0.6666666666666666,
              "#ed7953"
             ],
             [
              0.7777777777777778,
              "#fb9f3a"
             ],
             [
              0.8888888888888888,
              "#fdca26"
             ],
             [
              1,
              "#f0f921"
             ]
            ],
            "type": "surface"
           }
          ],
          "table": [
           {
            "cells": {
             "fill": {
              "color": "#EBF0F8"
             },
             "line": {
              "color": "white"
             }
            },
            "header": {
             "fill": {
              "color": "#C8D4E3"
             },
             "line": {
              "color": "white"
             }
            },
            "type": "table"
           }
          ]
         },
         "layout": {
          "annotationdefaults": {
           "arrowcolor": "#2a3f5f",
           "arrowhead": 0,
           "arrowwidth": 1
          },
          "coloraxis": {
           "colorbar": {
            "outlinewidth": 0,
            "ticks": ""
           }
          },
          "colorscale": {
           "diverging": [
            [
             0,
             "#8e0152"
            ],
            [
             0.1,
             "#c51b7d"
            ],
            [
             0.2,
             "#de77ae"
            ],
            [
             0.3,
             "#f1b6da"
            ],
            [
             0.4,
             "#fde0ef"
            ],
            [
             0.5,
             "#f7f7f7"
            ],
            [
             0.6,
             "#e6f5d0"
            ],
            [
             0.7,
             "#b8e186"
            ],
            [
             0.8,
             "#7fbc41"
            ],
            [
             0.9,
             "#4d9221"
            ],
            [
             1,
             "#276419"
            ]
           ],
           "sequential": [
            [
             0,
             "#0d0887"
            ],
            [
             0.1111111111111111,
             "#46039f"
            ],
            [
             0.2222222222222222,
             "#7201a8"
            ],
            [
             0.3333333333333333,
             "#9c179e"
            ],
            [
             0.4444444444444444,
             "#bd3786"
            ],
            [
             0.5555555555555556,
             "#d8576b"
            ],
            [
             0.6666666666666666,
             "#ed7953"
            ],
            [
             0.7777777777777778,
             "#fb9f3a"
            ],
            [
             0.8888888888888888,
             "#fdca26"
            ],
            [
             1,
             "#f0f921"
            ]
           ],
           "sequentialminus": [
            [
             0,
             "#0d0887"
            ],
            [
             0.1111111111111111,
             "#46039f"
            ],
            [
             0.2222222222222222,
             "#7201a8"
            ],
            [
             0.3333333333333333,
             "#9c179e"
            ],
            [
             0.4444444444444444,
             "#bd3786"
            ],
            [
             0.5555555555555556,
             "#d8576b"
            ],
            [
             0.6666666666666666,
             "#ed7953"
            ],
            [
             0.7777777777777778,
             "#fb9f3a"
            ],
            [
             0.8888888888888888,
             "#fdca26"
            ],
            [
             1,
             "#f0f921"
            ]
           ]
          },
          "colorway": [
           "#636efa",
           "#EF553B",
           "#00cc96",
           "#ab63fa",
           "#FFA15A",
           "#19d3f3",
           "#FF6692",
           "#B6E880",
           "#FF97FF",
           "#FECB52"
          ],
          "font": {
           "color": "#2a3f5f"
          },
          "geo": {
           "bgcolor": "white",
           "lakecolor": "white",
           "landcolor": "#E5ECF6",
           "showlakes": true,
           "showland": true,
           "subunitcolor": "white"
          },
          "hoverlabel": {
           "align": "left"
          },
          "hovermode": "closest",
          "mapbox": {
           "style": "light"
          },
          "paper_bgcolor": "white",
          "plot_bgcolor": "#E5ECF6",
          "polar": {
           "angularaxis": {
            "gridcolor": "white",
            "linecolor": "white",
            "ticks": ""
           },
           "bgcolor": "#E5ECF6",
           "radialaxis": {
            "gridcolor": "white",
            "linecolor": "white",
            "ticks": ""
           }
          },
          "scene": {
           "xaxis": {
            "backgroundcolor": "#E5ECF6",
            "gridcolor": "white",
            "gridwidth": 2,
            "linecolor": "white",
            "showbackground": true,
            "ticks": "",
            "zerolinecolor": "white"
           },
           "yaxis": {
            "backgroundcolor": "#E5ECF6",
            "gridcolor": "white",
            "gridwidth": 2,
            "linecolor": "white",
            "showbackground": true,
            "ticks": "",
            "zerolinecolor": "white"
           },
           "zaxis": {
            "backgroundcolor": "#E5ECF6",
            "gridcolor": "white",
            "gridwidth": 2,
            "linecolor": "white",
            "showbackground": true,
            "ticks": "",
            "zerolinecolor": "white"
           }
          },
          "shapedefaults": {
           "line": {
            "color": "#2a3f5f"
           }
          },
          "ternary": {
           "aaxis": {
            "gridcolor": "white",
            "linecolor": "white",
            "ticks": ""
           },
           "baxis": {
            "gridcolor": "white",
            "linecolor": "white",
            "ticks": ""
           },
           "bgcolor": "#E5ECF6",
           "caxis": {
            "gridcolor": "white",
            "linecolor": "white",
            "ticks": ""
           }
          },
          "title": {
           "x": 0.05
          },
          "xaxis": {
           "automargin": true,
           "gridcolor": "white",
           "linecolor": "white",
           "ticks": "",
           "title": {
            "standoff": 15
           },
           "zerolinecolor": "white",
           "zerolinewidth": 2
          },
          "yaxis": {
           "automargin": true,
           "gridcolor": "white",
           "linecolor": "white",
           "ticks": "",
           "title": {
            "standoff": 15
           },
           "zerolinecolor": "white",
           "zerolinewidth": 2
          }
         }
        },
        "title": {
         "text": "t-SNE"
        },
        "width": 800,
        "xaxis": {
         "anchor": "y",
         "domain": [
          0,
          1
         ],
         "title": {
          "text": "x"
         }
        },
        "yaxis": {
         "anchor": "x",
         "domain": [
          0,
          1
         ],
         "title": {
          "text": "y"
         }
        }
       }
      }
     },
     "metadata": {},
     "output_type": "display_data"
    },
    {
     "data": {
      "application/vnd.plotly.v1+json": {
       "config": {
        "plotlyServerURL": "https://plotly.com"
       },
       "data": [
        {
         "hoverlabel": {
          "namelength": 0
         },
         "hovertemplate": "action=lying<br>x=%{x}<br>y=%{y}",
         "legendgroup": "action=lying",
         "marker": {
          "color": "#636efa",
          "symbol": "circle"
         },
         "mode": "markers",
         "name": "action=lying",
         "showlegend": true,
         "type": "scatter",
         "x": [
          1.6683974266052246,
          1.126610517501831,
          1.5713987350463867,
          0.8752760887145996,
          1.575243592262268,
          1.4699594974517822,
          1.4299834966659546,
          1.3901318311691284,
          1.6546711921691895,
          1.4826196432113647
         ],
         "xaxis": "x",
         "y": [
          3.7028801441192627,
          3.5850260257720947,
          3.3807384967803955,
          3.849148750305176,
          3.4554214477539062,
          3.3788115978240967,
          3.550628423690796,
          3.383557081222534,
          3.645906448364258,
          3.7323598861694336
         ],
         "yaxis": "y"
        },
        {
         "hoverlabel": {
          "namelength": 0
         },
         "hovertemplate": "action=sitting<br>x=%{x}<br>y=%{y}",
         "legendgroup": "action=sitting",
         "marker": {
          "color": "#EF553B",
          "symbol": "circle"
         },
         "mode": "markers",
         "name": "action=sitting",
         "showlegend": true,
         "type": "scatter",
         "x": [
          1.585176944732666,
          1.8630166053771973,
          1.829113245010376,
          1.6171902418136597,
          2.0128445625305176,
          1.6154264211654663,
          1.7593358755111694,
          1.8220700025558472,
          1.8063054084777832,
          1.9536761045455933
         ],
         "xaxis": "x",
         "y": [
          8.470873832702637,
          8.546910285949707,
          8.423860549926758,
          8.051810264587402,
          8.294461250305176,
          8.117465019226074,
          8.157759666442871,
          8.365938186645508,
          8.182610511779785,
          8.26620864868164
         ],
         "yaxis": "y"
        },
        {
         "hoverlabel": {
          "namelength": 0
         },
         "hovertemplate": "action=standing<br>x=%{x}<br>y=%{y}",
         "legendgroup": "action=standing",
         "marker": {
          "color": "#00cc96",
          "symbol": "circle"
         },
         "mode": "markers",
         "name": "action=standing",
         "showlegend": true,
         "type": "scatter",
         "x": [
          1.5600523948669434,
          1.7594053745269775,
          1.7671581506729126,
          -0.4519364833831787,
          1.1487971544265747,
          1.4088331460952759,
          1.5679523944854736,
          1.5158485174179077,
          1.6536588668823242,
          1.442509412765503
         ],
         "xaxis": "x",
         "y": [
          4.918879508972168,
          4.622401714324951,
          4.712399005889893,
          4.410824775695801,
          5.020696640014648,
          4.805405616760254,
          4.522912979125977,
          4.437060832977295,
          4.608706951141357,
          4.3318400382995605
         ],
         "yaxis": "y"
        },
        {
         "hoverlabel": {
          "namelength": 0
         },
         "hovertemplate": "action=walking<br>x=%{x}<br>y=%{y}",
         "legendgroup": "action=walking",
         "marker": {
          "color": "#ab63fa",
          "symbol": "circle"
         },
         "mode": "markers",
         "name": "action=walking",
         "showlegend": true,
         "type": "scatter",
         "x": [
          3.9634528160095215,
          3.2775940895080566,
          3.186021566390991,
          3.0896589756011963,
          3.2339518070220947,
          3.2746267318725586,
          2.931321620941162,
          2.775339365005493,
          2.0465385913848877,
          3.3101344108581543
         ],
         "xaxis": "x",
         "y": [
          5.756353855133057,
          5.406676292419434,
          5.755462646484375,
          5.634060382843018,
          5.512653350830078,
          5.5924177169799805,
          4.640889644622803,
          5.545377254486084,
          5.41746711730957,
          5.8789591789245605
         ],
         "yaxis": "y"
        },
        {
         "hoverlabel": {
          "namelength": 0
         },
         "hovertemplate": "action=running<br>x=%{x}<br>y=%{y}",
         "legendgroup": "action=running",
         "marker": {
          "color": "#FFA15A",
          "symbol": "circle"
         },
         "mode": "markers",
         "name": "action=running",
         "showlegend": true,
         "type": "scatter",
         "x": [
          4.3761515617370605,
          4.047464847564697,
          4.197438716888428,
          4.209371089935303,
          4.3257527351379395,
          4.37681770324707,
          4.338682651519775,
          3.4534692764282227,
          4.309967994689941,
          4.554623603820801
         ],
         "xaxis": "x",
         "y": [
          7.120181560516357,
          7.543099403381348,
          7.093533992767334,
          6.9409403800964355,
          7.448023796081543,
          7.412193298339844,
          7.176252365112305,
          6.713306427001953,
          7.164420127868652,
          6.887604236602783
         ],
         "yaxis": "y"
        },
        {
         "hoverlabel": {
          "namelength": 0
         },
         "hovertemplate": "action=cycling<br>x=%{x}<br>y=%{y}",
         "legendgroup": "action=cycling",
         "marker": {
          "color": "#19d3f3",
          "symbol": "circle"
         },
         "mode": "markers",
         "name": "action=cycling",
         "showlegend": true,
         "type": "scatter",
         "x": [
          2.102957010269165,
          1.8562853336334229,
          2.7363121509552,
          2.4920074939727783,
          1.0487033128738403,
          3.2173538208007812,
          2.5761258602142334,
          2.6156997680664062,
          2.6144368648529053,
          2.364625930786133
         ],
         "xaxis": "x",
         "y": [
          6.735637664794922,
          6.853602886199951,
          7.1354756355285645,
          6.734496116638184,
          6.143226623535156,
          6.776144504547119,
          7.09166955947876,
          7.008454322814941,
          6.9452385902404785,
          6.873330593109131
         ],
         "yaxis": "y"
        },
        {
         "hoverlabel": {
          "namelength": 0
         },
         "hovertemplate": "action=Nordic walking<br>x=%{x}<br>y=%{y}",
         "legendgroup": "action=Nordic walking",
         "marker": {
          "color": "#FF6692",
          "symbol": "circle"
         },
         "mode": "markers",
         "name": "action=Nordic walking",
         "showlegend": true,
         "type": "scatter",
         "x": [
          2.529222249984741,
          2.3344905376434326,
          2.547945022583008,
          2.2176599502563477,
          2.942124843597412,
          2.12085223197937,
          2.84030818939209,
          2.422654628753662,
          2.432451009750366,
          2.000643014907837
         ],
         "xaxis": "x",
         "y": [
          6.218451499938965,
          5.906501293182373,
          5.739485740661621,
          6.30336856842041,
          6.512450218200684,
          6.349256992340088,
          6.5934247970581055,
          5.981076717376709,
          5.793214797973633,
          6.38711404800415
         ],
         "yaxis": "y"
        },
        {
         "hoverlabel": {
          "namelength": 0
         },
         "hovertemplate": "action=watching TV<br>x=%{x}<br>y=%{y}",
         "legendgroup": "action=watching TV",
         "marker": {
          "color": "#B6E880",
          "symbol": "circle"
         },
         "mode": "markers",
         "name": "action=watching TV",
         "showlegend": true,
         "type": "scatter",
         "x": [
          -0.3723268508911133,
          0.02216450124979019,
          -1.133030652999878,
          -1.584378719329834,
          -0.12162703275680542,
          -0.6150385141372681,
          -0.521569550037384,
          -0.2554053068161011,
          -0.8617517352104187,
          -0.31508389115333557
         ],
         "xaxis": "x",
         "y": [
          4.224894046783447,
          4.819906711578369,
          4.724166393280029,
          4.070728302001953,
          4.428257942199707,
          4.42488956451416,
          4.619083404541016,
          4.542627811431885,
          4.388513088226318,
          4.374606609344482
         ],
         "yaxis": "y"
        },
        {
         "hoverlabel": {
          "namelength": 0
         },
         "hovertemplate": "action=computer work<br>x=%{x}<br>y=%{y}",
         "legendgroup": "action=computer work",
         "marker": {
          "color": "#FF97FF",
          "symbol": "circle"
         },
         "mode": "markers",
         "name": "action=computer work",
         "showlegend": true,
         "type": "scatter",
         "x": [
          0.36795318126678467,
          0.7524873614311218,
          0.7701216340065002,
          1.0386463403701782,
          -0.28012287616729736,
          -0.09163469076156616,
          0.9941366910934448,
          0.430709570646286,
          0.7036236524581909,
          0.6469905972480774
         ],
         "xaxis": "x",
         "y": [
          4.193395614624023,
          4.107600688934326,
          4.248103141784668,
          4.2217793464660645,
          4.280222415924072,
          4.459927082061768,
          4.336750030517578,
          4.147881984710693,
          4.020647048950195,
          4.29328727722168
         ],
         "yaxis": "y"
        },
        {
         "hoverlabel": {
          "namelength": 0
         },
         "hovertemplate": "action=car driving<br>x=%{x}<br>y=%{y}",
         "legendgroup": "action=car driving",
         "marker": {
          "color": "#FECB52",
          "symbol": "circle"
         },
         "mode": "markers",
         "name": "action=car driving",
         "showlegend": true,
         "type": "scatter",
         "x": [
          4.726388931274414,
          4.814457416534424,
          4.944696426391602,
          4.809741020202637,
          4.7352800369262695,
          4.933398723602295,
          4.687456130981445,
          4.901950359344482,
          4.785731315612793,
          5.031548023223877
         ],
         "xaxis": "x",
         "y": [
          8.110024452209473,
          8.52854061126709,
          8.636849403381348,
          8.243620872497559,
          8.435467720031738,
          8.403264999389648,
          8.624405860900879,
          8.164294242858887,
          8.142739295959473,
          8.486589431762695
         ],
         "yaxis": "y"
        },
        {
         "hoverlabel": {
          "namelength": 0
         },
         "hovertemplate": "action=ascending stairs<br>x=%{x}<br>y=%{y}",
         "legendgroup": "action=ascending stairs",
         "marker": {
          "color": "#636efa",
          "symbol": "circle"
         },
         "mode": "markers",
         "name": "action=ascending stairs",
         "showlegend": true,
         "type": "scatter",
         "x": [
          4.399082660675049,
          4.473810195922852,
          4.326800346374512,
          0.8313107490539551,
          4.490332126617432,
          4.44205904006958,
          4.489757537841797,
          4.178153991699219,
          4.401203632354736,
          4.520321369171143
         ],
         "xaxis": "x",
         "y": [
          3.746899366378784,
          3.6477692127227783,
          3.860887050628662,
          5.687313556671143,
          3.5758049488067627,
          3.689708948135376,
          3.9303410053253174,
          4.091183185577393,
          3.8917622566223145,
          3.59299635887146
         ],
         "yaxis": "y"
        },
        {
         "hoverlabel": {
          "namelength": 0
         },
         "hovertemplate": "action=descending stairs<br>x=%{x}<br>y=%{y}",
         "legendgroup": "action=descending stairs",
         "marker": {
          "color": "#EF553B",
          "symbol": "circle"
         },
         "mode": "markers",
         "name": "action=descending stairs",
         "showlegend": true,
         "type": "scatter",
         "x": [
          0.9701839089393616,
          0.5911939144134521,
          0.7811627388000488,
          1.4358654022216797,
          0.9083214402198792,
          1.3454338312149048,
          1.5704659223556519,
          0.8426374197006226,
          0.7849992513656616,
          0.6221610903739929
         ],
         "xaxis": "x",
         "y": [
          7.320505619049072,
          7.1380157470703125,
          7.121126651763916,
          7.861697196960449,
          6.981046676635742,
          7.684089660644531,
          7.644862174987793,
          7.4814629554748535,
          7.446813106536865,
          7.215904712677002
         ],
         "yaxis": "y"
        },
        {
         "hoverlabel": {
          "namelength": 0
         },
         "hovertemplate": "action=vacuum cleaning<br>x=%{x}<br>y=%{y}",
         "legendgroup": "action=vacuum cleaning",
         "marker": {
          "color": "#00cc96",
          "symbol": "circle"
         },
         "mode": "markers",
         "name": "action=vacuum cleaning",
         "showlegend": true,
         "type": "scatter",
         "x": [
          -0.32432466745376587,
          1.9121536016464233,
          -0.13188929855823517,
          -0.04862641543149948,
          0.10584693402051926,
          -0.27337586879730225,
          -0.21663205325603485,
          2.124959707260132,
          1.753328800201416,
          1.491044521331787
         ],
         "xaxis": "x",
         "y": [
          7.01506233215332,
          6.402742862701416,
          7.1412506103515625,
          6.977812767028809,
          7.064689636230469,
          7.108326435089111,
          7.114772796630859,
          6.637274265289307,
          6.605307579040527,
          6.719928741455078
         ],
         "yaxis": "y"
        },
        {
         "hoverlabel": {
          "namelength": 0
         },
         "hovertemplate": "action=ironing<br>x=%{x}<br>y=%{y}",
         "legendgroup": "action=ironing",
         "marker": {
          "color": "#ab63fa",
          "symbol": "circle"
         },
         "mode": "markers",
         "name": "action=ironing",
         "showlegend": true,
         "type": "scatter",
         "x": [
          -1.0410343408584595,
          -1.231345772743225,
          -1.2899484634399414,
          -1.3867111206054688,
          -1.1021207571029663,
          -1.119837999343872,
          -0.7289507389068604,
          -0.9259464740753174,
          -1.1379469633102417,
          -1.1781506538391113
         ],
         "xaxis": "x",
         "y": [
          6.914039611816406,
          6.659738063812256,
          6.933608531951904,
          6.960056781768799,
          7.022640228271484,
          7.233063697814941,
          7.22178316116333,
          7.092949867248535,
          7.222245216369629,
          7.081171989440918
         ],
         "yaxis": "y"
        },
        {
         "hoverlabel": {
          "namelength": 0
         },
         "hovertemplate": "action=folding laundry<br>x=%{x}<br>y=%{y}",
         "legendgroup": "action=folding laundry",
         "marker": {
          "color": "#FFA15A",
          "symbol": "circle"
         },
         "mode": "markers",
         "name": "action=folding laundry",
         "showlegend": true,
         "type": "scatter",
         "x": [
          -2.2654712200164795,
          -1.9100466966629028,
          -1.9842934608459473,
          -2.179201602935791,
          -2.2786505222320557,
          -2.084731101989746,
          -1.9782886505126953,
          -1.9419856071472168,
          -2.305593490600586,
          -2.2131662368774414
         ],
         "xaxis": "x",
         "y": [
          4.261759281158447,
          3.7513694763183594,
          3.8583080768585205,
          3.8032853603363037,
          3.9383790493011475,
          3.9604835510253906,
          3.8575689792633057,
          4.031304359436035,
          3.961820602416992,
          4.087707996368408
         ],
         "yaxis": "y"
        },
        {
         "hoverlabel": {
          "namelength": 0
         },
         "hovertemplate": "action=house cleaning<br>x=%{x}<br>y=%{y}",
         "legendgroup": "action=house cleaning",
         "marker": {
          "color": "#19d3f3",
          "symbol": "circle"
         },
         "mode": "markers",
         "name": "action=house cleaning",
         "showlegend": true,
         "type": "scatter",
         "x": [
          -1.5090268850326538,
          -1.691698670387268,
          -1.9178664684295654,
          -2.109379291534424,
          -1.7701607942581177,
          -1.9569668769836426,
          -1.9655710458755493,
          -1.8150662183761597,
          -1.8317605257034302,
          -2.003816843032837
         ],
         "xaxis": "x",
         "y": [
          5.220826148986816,
          4.946545124053955,
          4.718173503875732,
          4.9601311683654785,
          5.165467739105225,
          5.115368366241455,
          4.622057914733887,
          4.8715105056762695,
          5.000829696655273,
          4.915004730224609
         ],
         "yaxis": "y"
        },
        {
         "hoverlabel": {
          "namelength": 0
         },
         "hovertemplate": "action=playing soccer<br>x=%{x}<br>y=%{y}",
         "legendgroup": "action=playing soccer",
         "marker": {
          "color": "#FF6692",
          "symbol": "circle"
         },
         "mode": "markers",
         "name": "action=playing soccer",
         "showlegend": true,
         "type": "scatter",
         "x": [
          3.6638481616973877,
          3.296950101852417,
          2.3354368209838867,
          3.4458084106445312,
          3.181448459625244,
          3.379950523376465,
          2.981778383255005,
          3.467745065689087,
          3.364682197570801,
          3.188920736312866
         ],
         "xaxis": "x",
         "y": [
          4.703543663024902,
          4.505558490753174,
          5.375554084777832,
          4.384101867675781,
          4.478837013244629,
          4.382650375366211,
          4.637287616729736,
          4.5038371086120605,
          4.561123847961426,
          4.6330037117004395
         ],
         "yaxis": "y"
        },
        {
         "hoverlabel": {
          "namelength": 0
         },
         "hovertemplate": "action=rope jumping<br>x=%{x}<br>y=%{y}",
         "legendgroup": "action=rope jumping",
         "marker": {
          "color": "#B6E880",
          "symbol": "circle"
         },
         "mode": "markers",
         "name": "action=rope jumping",
         "showlegend": true,
         "type": "scatter",
         "x": [
          4.488391876220703,
          4.831165313720703,
          4.679560661315918,
          4.115614891052246,
          4.4874348640441895,
          4.55234956741333,
          4.8433146476745605,
          4.773594856262207,
          4.798346519470215,
          4.613956451416016
         ],
         "xaxis": "x",
         "y": [
          5.798341751098633,
          5.84552526473999,
          5.768714904785156,
          6.600310325622559,
          6.092283725738525,
          5.999393463134766,
          5.8660807609558105,
          5.798734664916992,
          5.851300239562988,
          5.940596580505371
         ],
         "yaxis": "y"
        }
       ],
       "layout": {
        "height": 800,
        "legend": {
         "tracegroupgap": 0
        },
        "template": {
         "data": {
          "bar": [
           {
            "error_x": {
             "color": "#2a3f5f"
            },
            "error_y": {
             "color": "#2a3f5f"
            },
            "marker": {
             "line": {
              "color": "#E5ECF6",
              "width": 0.5
             }
            },
            "type": "bar"
           }
          ],
          "barpolar": [
           {
            "marker": {
             "line": {
              "color": "#E5ECF6",
              "width": 0.5
             }
            },
            "type": "barpolar"
           }
          ],
          "carpet": [
           {
            "aaxis": {
             "endlinecolor": "#2a3f5f",
             "gridcolor": "white",
             "linecolor": "white",
             "minorgridcolor": "white",
             "startlinecolor": "#2a3f5f"
            },
            "baxis": {
             "endlinecolor": "#2a3f5f",
             "gridcolor": "white",
             "linecolor": "white",
             "minorgridcolor": "white",
             "startlinecolor": "#2a3f5f"
            },
            "type": "carpet"
           }
          ],
          "choropleth": [
           {
            "colorbar": {
             "outlinewidth": 0,
             "ticks": ""
            },
            "type": "choropleth"
           }
          ],
          "contour": [
           {
            "colorbar": {
             "outlinewidth": 0,
             "ticks": ""
            },
            "colorscale": [
             [
              0,
              "#0d0887"
             ],
             [
              0.1111111111111111,
              "#46039f"
             ],
             [
              0.2222222222222222,
              "#7201a8"
             ],
             [
              0.3333333333333333,
              "#9c179e"
             ],
             [
              0.4444444444444444,
              "#bd3786"
             ],
             [
              0.5555555555555556,
              "#d8576b"
             ],
             [
              0.6666666666666666,
              "#ed7953"
             ],
             [
              0.7777777777777778,
              "#fb9f3a"
             ],
             [
              0.8888888888888888,
              "#fdca26"
             ],
             [
              1,
              "#f0f921"
             ]
            ],
            "type": "contour"
           }
          ],
          "contourcarpet": [
           {
            "colorbar": {
             "outlinewidth": 0,
             "ticks": ""
            },
            "type": "contourcarpet"
           }
          ],
          "heatmap": [
           {
            "colorbar": {
             "outlinewidth": 0,
             "ticks": ""
            },
            "colorscale": [
             [
              0,
              "#0d0887"
             ],
             [
              0.1111111111111111,
              "#46039f"
             ],
             [
              0.2222222222222222,
              "#7201a8"
             ],
             [
              0.3333333333333333,
              "#9c179e"
             ],
             [
              0.4444444444444444,
              "#bd3786"
             ],
             [
              0.5555555555555556,
              "#d8576b"
             ],
             [
              0.6666666666666666,
              "#ed7953"
             ],
             [
              0.7777777777777778,
              "#fb9f3a"
             ],
             [
              0.8888888888888888,
              "#fdca26"
             ],
             [
              1,
              "#f0f921"
             ]
            ],
            "type": "heatmap"
           }
          ],
          "heatmapgl": [
           {
            "colorbar": {
             "outlinewidth": 0,
             "ticks": ""
            },
            "colorscale": [
             [
              0,
              "#0d0887"
             ],
             [
              0.1111111111111111,
              "#46039f"
             ],
             [
              0.2222222222222222,
              "#7201a8"
             ],
             [
              0.3333333333333333,
              "#9c179e"
             ],
             [
              0.4444444444444444,
              "#bd3786"
             ],
             [
              0.5555555555555556,
              "#d8576b"
             ],
             [
              0.6666666666666666,
              "#ed7953"
             ],
             [
              0.7777777777777778,
              "#fb9f3a"
             ],
             [
              0.8888888888888888,
              "#fdca26"
             ],
             [
              1,
              "#f0f921"
             ]
            ],
            "type": "heatmapgl"
           }
          ],
          "histogram": [
           {
            "marker": {
             "colorbar": {
              "outlinewidth": 0,
              "ticks": ""
             }
            },
            "type": "histogram"
           }
          ],
          "histogram2d": [
           {
            "colorbar": {
             "outlinewidth": 0,
             "ticks": ""
            },
            "colorscale": [
             [
              0,
              "#0d0887"
             ],
             [
              0.1111111111111111,
              "#46039f"
             ],
             [
              0.2222222222222222,
              "#7201a8"
             ],
             [
              0.3333333333333333,
              "#9c179e"
             ],
             [
              0.4444444444444444,
              "#bd3786"
             ],
             [
              0.5555555555555556,
              "#d8576b"
             ],
             [
              0.6666666666666666,
              "#ed7953"
             ],
             [
              0.7777777777777778,
              "#fb9f3a"
             ],
             [
              0.8888888888888888,
              "#fdca26"
             ],
             [
              1,
              "#f0f921"
             ]
            ],
            "type": "histogram2d"
           }
          ],
          "histogram2dcontour": [
           {
            "colorbar": {
             "outlinewidth": 0,
             "ticks": ""
            },
            "colorscale": [
             [
              0,
              "#0d0887"
             ],
             [
              0.1111111111111111,
              "#46039f"
             ],
             [
              0.2222222222222222,
              "#7201a8"
             ],
             [
              0.3333333333333333,
              "#9c179e"
             ],
             [
              0.4444444444444444,
              "#bd3786"
             ],
             [
              0.5555555555555556,
              "#d8576b"
             ],
             [
              0.6666666666666666,
              "#ed7953"
             ],
             [
              0.7777777777777778,
              "#fb9f3a"
             ],
             [
              0.8888888888888888,
              "#fdca26"
             ],
             [
              1,
              "#f0f921"
             ]
            ],
            "type": "histogram2dcontour"
           }
          ],
          "mesh3d": [
           {
            "colorbar": {
             "outlinewidth": 0,
             "ticks": ""
            },
            "type": "mesh3d"
           }
          ],
          "parcoords": [
           {
            "line": {
             "colorbar": {
              "outlinewidth": 0,
              "ticks": ""
             }
            },
            "type": "parcoords"
           }
          ],
          "pie": [
           {
            "automargin": true,
            "type": "pie"
           }
          ],
          "scatter": [
           {
            "marker": {
             "colorbar": {
              "outlinewidth": 0,
              "ticks": ""
             }
            },
            "type": "scatter"
           }
          ],
          "scatter3d": [
           {
            "line": {
             "colorbar": {
              "outlinewidth": 0,
              "ticks": ""
             }
            },
            "marker": {
             "colorbar": {
              "outlinewidth": 0,
              "ticks": ""
             }
            },
            "type": "scatter3d"
           }
          ],
          "scattercarpet": [
           {
            "marker": {
             "colorbar": {
              "outlinewidth": 0,
              "ticks": ""
             }
            },
            "type": "scattercarpet"
           }
          ],
          "scattergeo": [
           {
            "marker": {
             "colorbar": {
              "outlinewidth": 0,
              "ticks": ""
             }
            },
            "type": "scattergeo"
           }
          ],
          "scattergl": [
           {
            "marker": {
             "colorbar": {
              "outlinewidth": 0,
              "ticks": ""
             }
            },
            "type": "scattergl"
           }
          ],
          "scattermapbox": [
           {
            "marker": {
             "colorbar": {
              "outlinewidth": 0,
              "ticks": ""
             }
            },
            "type": "scattermapbox"
           }
          ],
          "scatterpolar": [
           {
            "marker": {
             "colorbar": {
              "outlinewidth": 0,
              "ticks": ""
             }
            },
            "type": "scatterpolar"
           }
          ],
          "scatterpolargl": [
           {
            "marker": {
             "colorbar": {
              "outlinewidth": 0,
              "ticks": ""
             }
            },
            "type": "scatterpolargl"
           }
          ],
          "scatterternary": [
           {
            "marker": {
             "colorbar": {
              "outlinewidth": 0,
              "ticks": ""
             }
            },
            "type": "scatterternary"
           }
          ],
          "surface": [
           {
            "colorbar": {
             "outlinewidth": 0,
             "ticks": ""
            },
            "colorscale": [
             [
              0,
              "#0d0887"
             ],
             [
              0.1111111111111111,
              "#46039f"
             ],
             [
              0.2222222222222222,
              "#7201a8"
             ],
             [
              0.3333333333333333,
              "#9c179e"
             ],
             [
              0.4444444444444444,
              "#bd3786"
             ],
             [
              0.5555555555555556,
              "#d8576b"
             ],
             [
              0.6666666666666666,
              "#ed7953"
             ],
             [
              0.7777777777777778,
              "#fb9f3a"
             ],
             [
              0.8888888888888888,
              "#fdca26"
             ],
             [
              1,
              "#f0f921"
             ]
            ],
            "type": "surface"
           }
          ],
          "table": [
           {
            "cells": {
             "fill": {
              "color": "#EBF0F8"
             },
             "line": {
              "color": "white"
             }
            },
            "header": {
             "fill": {
              "color": "#C8D4E3"
             },
             "line": {
              "color": "white"
             }
            },
            "type": "table"
           }
          ]
         },
         "layout": {
          "annotationdefaults": {
           "arrowcolor": "#2a3f5f",
           "arrowhead": 0,
           "arrowwidth": 1
          },
          "coloraxis": {
           "colorbar": {
            "outlinewidth": 0,
            "ticks": ""
           }
          },
          "colorscale": {
           "diverging": [
            [
             0,
             "#8e0152"
            ],
            [
             0.1,
             "#c51b7d"
            ],
            [
             0.2,
             "#de77ae"
            ],
            [
             0.3,
             "#f1b6da"
            ],
            [
             0.4,
             "#fde0ef"
            ],
            [
             0.5,
             "#f7f7f7"
            ],
            [
             0.6,
             "#e6f5d0"
            ],
            [
             0.7,
             "#b8e186"
            ],
            [
             0.8,
             "#7fbc41"
            ],
            [
             0.9,
             "#4d9221"
            ],
            [
             1,
             "#276419"
            ]
           ],
           "sequential": [
            [
             0,
             "#0d0887"
            ],
            [
             0.1111111111111111,
             "#46039f"
            ],
            [
             0.2222222222222222,
             "#7201a8"
            ],
            [
             0.3333333333333333,
             "#9c179e"
            ],
            [
             0.4444444444444444,
             "#bd3786"
            ],
            [
             0.5555555555555556,
             "#d8576b"
            ],
            [
             0.6666666666666666,
             "#ed7953"
            ],
            [
             0.7777777777777778,
             "#fb9f3a"
            ],
            [
             0.8888888888888888,
             "#fdca26"
            ],
            [
             1,
             "#f0f921"
            ]
           ],
           "sequentialminus": [
            [
             0,
             "#0d0887"
            ],
            [
             0.1111111111111111,
             "#46039f"
            ],
            [
             0.2222222222222222,
             "#7201a8"
            ],
            [
             0.3333333333333333,
             "#9c179e"
            ],
            [
             0.4444444444444444,
             "#bd3786"
            ],
            [
             0.5555555555555556,
             "#d8576b"
            ],
            [
             0.6666666666666666,
             "#ed7953"
            ],
            [
             0.7777777777777778,
             "#fb9f3a"
            ],
            [
             0.8888888888888888,
             "#fdca26"
            ],
            [
             1,
             "#f0f921"
            ]
           ]
          },
          "colorway": [
           "#636efa",
           "#EF553B",
           "#00cc96",
           "#ab63fa",
           "#FFA15A",
           "#19d3f3",
           "#FF6692",
           "#B6E880",
           "#FF97FF",
           "#FECB52"
          ],
          "font": {
           "color": "#2a3f5f"
          },
          "geo": {
           "bgcolor": "white",
           "lakecolor": "white",
           "landcolor": "#E5ECF6",
           "showlakes": true,
           "showland": true,
           "subunitcolor": "white"
          },
          "hoverlabel": {
           "align": "left"
          },
          "hovermode": "closest",
          "mapbox": {
           "style": "light"
          },
          "paper_bgcolor": "white",
          "plot_bgcolor": "#E5ECF6",
          "polar": {
           "angularaxis": {
            "gridcolor": "white",
            "linecolor": "white",
            "ticks": ""
           },
           "bgcolor": "#E5ECF6",
           "radialaxis": {
            "gridcolor": "white",
            "linecolor": "white",
            "ticks": ""
           }
          },
          "scene": {
           "xaxis": {
            "backgroundcolor": "#E5ECF6",
            "gridcolor": "white",
            "gridwidth": 2,
            "linecolor": "white",
            "showbackground": true,
            "ticks": "",
            "zerolinecolor": "white"
           },
           "yaxis": {
            "backgroundcolor": "#E5ECF6",
            "gridcolor": "white",
            "gridwidth": 2,
            "linecolor": "white",
            "showbackground": true,
            "ticks": "",
            "zerolinecolor": "white"
           },
           "zaxis": {
            "backgroundcolor": "#E5ECF6",
            "gridcolor": "white",
            "gridwidth": 2,
            "linecolor": "white",
            "showbackground": true,
            "ticks": "",
            "zerolinecolor": "white"
           }
          },
          "shapedefaults": {
           "line": {
            "color": "#2a3f5f"
           }
          },
          "ternary": {
           "aaxis": {
            "gridcolor": "white",
            "linecolor": "white",
            "ticks": ""
           },
           "baxis": {
            "gridcolor": "white",
            "linecolor": "white",
            "ticks": ""
           },
           "bgcolor": "#E5ECF6",
           "caxis": {
            "gridcolor": "white",
            "linecolor": "white",
            "ticks": ""
           }
          },
          "title": {
           "x": 0.05
          },
          "xaxis": {
           "automargin": true,
           "gridcolor": "white",
           "linecolor": "white",
           "ticks": "",
           "title": {
            "standoff": 15
           },
           "zerolinecolor": "white",
           "zerolinewidth": 2
          },
          "yaxis": {
           "automargin": true,
           "gridcolor": "white",
           "linecolor": "white",
           "ticks": "",
           "title": {
            "standoff": 15
           },
           "zerolinecolor": "white",
           "zerolinewidth": 2
          }
         }
        },
        "title": {
         "text": "UMAP"
        },
        "width": 800,
        "xaxis": {
         "anchor": "y",
         "domain": [
          0,
          1
         ],
         "title": {
          "text": "x"
         }
        },
        "yaxis": {
         "anchor": "x",
         "domain": [
          0,
          1
         ],
         "title": {
          "text": "y"
         }
        }
       }
      }
     },
     "metadata": {},
     "output_type": "display_data"
    }
   ],
   "source": [
    "val_actions, val_labels, val_lm = get_action_vector(ae_model, skel_dt, device, class_ids=range(18), class_names=dataReader.idToLabel)\n",
    "tsne_skel_plot = plot_tnse(val_actions, val_labels, val_lm)\n",
    "plot_umap(val_actions, val_labels, val_lm)"
   ]
  },
  {
   "cell_type": "code",
   "execution_count": 48,
   "metadata": {},
   "outputs": [],
   "source": [
    "# py.plot(tsne_skel_plot, filename='TSNE_Skeleton_plot', auto_open=False)"
   ]
  },
  {
   "cell_type": "code",
   "execution_count": 49,
   "metadata": {},
   "outputs": [],
   "source": [
    "def plot_accVloss(train_data, val_data):\n",
    "    train_sdf = pd.DataFrame.from_records(train_data)\n",
    "    val_sdf = pd.DataFrame.from_records(val_data)\n",
    "\n",
    "    train_sdf['phase'] = 'train'\n",
    "    val_sdf['phase'] = 'validation'\n",
    "\n",
    "    all_sdf = pd.concat([train_sdf, val_sdf.loc[:, ['IMU loss', 'AE loss', 'accuracy', 'phase']]], axis=0)\n",
    "    all_sdf = all_sdf.rename_axis('epoch').reset_index()\n",
    "\n",
    "\n",
    "    fig, axes = plt.subplots(1, 3, figsize=(12, 6))\n",
    "    sns.lineplot(all_sdf, ax=axes[0], x='epoch', y='IMU loss', hue='phase')\n",
    "    sns.lineplot(all_sdf, ax=axes[1], x='epoch', y='AE loss', hue='phase')\n",
    "    sns.lineplot(all_sdf, ax=axes[2], x='epoch', y='accuracy', hue='phase')"
   ]
  },
  {
   "cell_type": "code",
   "execution_count": 50,
   "metadata": {},
   "outputs": [],
   "source": [
    "def gen_semantic_space(ft_dict):\n",
    "    action_ft = np.concatenate(list(ft_dict.values()), axis=0)\n",
    "\n",
    "    action_label = []\n",
    "    for i, k in enumerate(ft_dict.keys()):\n",
    "        action_label.extend([k,]*ft_dict[k].shape[0])\n",
    "\n",
    "    action_label = np.array(action_label)\n",
    "    return action_ft, action_label"
   ]
  },
  {
   "cell_type": "code",
   "execution_count": 51,
   "metadata": {},
   "outputs": [],
   "source": [
    "def over_plot_preds(gt_actions, gt_labels, pred_actions, pred_labels, Id2Label):\n",
    "    gt_n = gt_actions.shape[0]\n",
    "    pred_n = pred_actions.shape[0]\n",
    "\n",
    "    all_actions = np.concatenate([gt_actions, pred_actions])\n",
    "    all_labels = np.concatenate([gt_labels, pred_labels])\n",
    "    all_types = ['GT',]*gt_n + ['pred',]*pred_n\n",
    "\n",
    "    tnse = TSNE(n_components=2, init='random', learning_rate='auto', perplexity=15, n_iter=1000)\n",
    "    gt_data = tnse.fit_transform(all_actions)\n",
    "\n",
    "    gt_df = pd.DataFrame(data=gt_data, columns=['x', 'y'])\n",
    "    gt_df['label'] = all_labels \n",
    "    gt_df['action'] = gt_df['label'].map(val_lm)\n",
    "    gt_df['type'] = all_types\n",
    "\n",
    "    fig = px.scatter(gt_df, x='x', y='y', color='action', symbol='type', width=800, height=800, title='t-SNE')\n",
    "    fig.show()"
   ]
  },
  {
   "cell_type": "code",
   "execution_count": 68,
   "metadata": {},
   "outputs": [
    {
     "name": "stdout",
     "output_type": "stream",
     "text": [
      "Initiate IMU datasets ...\n",
      "Initial Models ...\n",
      "Start Models training ...\n"
     ]
    },
    {
     "name": "stderr",
     "output_type": "stream",
     "text": [
      "train: 100%|██████████| 523/523 [19:07<00:00,  2.19s/batch, IMU loss=0.083, AE loss=0.000467, accuracy=0.75]\n",
      "seen: 100%|██████████| 130/130 [01:43<00:00,  1.25batch/s, IMU loss=0.0411, AE loss=0.364]\n"
     ]
    },
    {
     "data": {
      "image/png": "[encoded data removed]",
      "text/plain": [
       "<Figure size 640x480 with 2 Axes>"
      ]
     },
     "metadata": {},
     "output_type": "display_data"
    },
    {
     "name": "stderr",
     "output_type": "stream",
     "text": [
      "Training Epoch:  20%|██        | 1/5 [20:52<1:23:29, 1252.27s/it]"
     ]
    },
    {
     "name": "stdout",
     "output_type": "stream",
     "text": [
      "Overall accuracy: 0.824\n",
      "\n"
     ]
    },
    {
     "name": "stderr",
     "output_type": "stream",
     "text": [
      "train: 100%|██████████| 523/523 [19:16<00:00,  2.21s/batch, IMU loss=0.0249, AE loss=0.000404, accuracy=0.938]\n",
      "seen: 100%|██████████| 130/130 [01:46<00:00,  1.22batch/s, IMU loss=0.0726, AE loss=0.648]\n"
     ]
    },
    {
     "data": {
      "image/png": "[encoded data removed]",
      "text/plain": [
       "<Figure size 640x480 with 2 Axes>"
      ]
     },
     "metadata": {},
     "output_type": "display_data"
    },
    {
     "name": "stderr",
     "output_type": "stream",
     "text": [
      "Training Epoch:  40%|████      | 2/5 [41:56<1:02:58, 1259.34s/it]"
     ]
    },
    {
     "name": "stdout",
     "output_type": "stream",
     "text": [
      "Overall accuracy: 0.846\n",
      "\n"
     ]
    },
    {
     "name": "stderr",
     "output_type": "stream",
     "text": [
      "train: 100%|██████████| 523/523 [18:53<00:00,  2.17s/batch, IMU loss=0.0688, AE loss=0.000379, accuracy=0.75]\n",
      "seen: 100%|██████████| 130/130 [01:24<00:00,  1.54batch/s, IMU loss=0.0348, AE loss=0.308]\n"
     ]
    },
    {
     "data": {
      "image/png": "[encoded data removed]",
      "text/plain": [
       "<Figure size 640x480 with 2 Axes>"
      ]
     },
     "metadata": {},
     "output_type": "display_data"
    },
    {
     "name": "stderr",
     "output_type": "stream",
     "text": [
      "Training Epoch:  60%|██████    | 3/5 [1:02:15<41:21, 1240.67s/it]"
     ]
    },
    {
     "name": "stdout",
     "output_type": "stream",
     "text": [
      "Overall accuracy: 0.852\n",
      "\n"
     ]
    },
    {
     "name": "stderr",
     "output_type": "stream",
     "text": [
      "train: 100%|██████████| 523/523 [17:25<00:00,  2.00s/batch, IMU loss=0.0486, AE loss=0.000336, accuracy=0.844]\n",
      "seen: 100%|██████████| 130/130 [01:39<00:00,  1.31batch/s, IMU loss=0.0368, AE loss=0.326]\n"
     ]
    },
    {
     "data": {
      "image/png": "[encoded data removed]",
      "text/plain": [
       "<Figure size 640x480 with 2 Axes>"
      ]
     },
     "metadata": {},
     "output_type": "display_data"
    },
    {
     "name": "stderr",
     "output_type": "stream",
     "text": [
      "Training Epoch:  80%|████████  | 4/5 [1:21:20<20:03, 1203.06s/it]"
     ]
    },
    {
     "name": "stdout",
     "output_type": "stream",
     "text": [
      "Overall accuracy: 0.869\n",
      "\n"
     ]
    },
    {
     "name": "stderr",
     "output_type": "stream",
     "text": [
      "train: 100%|██████████| 523/523 [17:49<00:00,  2.05s/batch, IMU loss=0.0285, AE loss=0.0003, accuracy=0.938]\n",
      "seen: 100%|██████████| 130/130 [01:36<00:00,  1.35batch/s, IMU loss=0.0325, AE loss=0.284]\n"
     ]
    },
    {
     "data": {
      "image/png": "[encoded data removed]",
      "text/plain": [
       "<Figure size 640x480 with 2 Axes>"
      ]
     },
     "metadata": {},
     "output_type": "display_data"
    },
    {
     "name": "stderr",
     "output_type": "stream",
     "text": [
      "                                                                 \r"
     ]
    },
    {
     "name": "stdout",
     "output_type": "stream",
     "text": [
      "Overall accuracy: 0.887\n",
      "\n"
     ]
    },
    {
     "name": "stderr",
     "output_type": "stream",
     "text": [
      "unseen: 100%|██████████| 175/175 [02:07<00:00,  1.37batch/s, IMU loss=0.00106, AE loss=0.000293] \n"
     ]
    },
    {
     "data": {
      "image/png": "[encoded data removed]",
      "text/plain": [
       "<Figure size 1200x600 with 3 Axes>"
      ]
     },
     "metadata": {},
     "output_type": "display_data"
    },
    {
     "data": {
      "image/png": "[encoded data removed]",
      "text/plain": [
       "<Figure size 640x480 with 2 Axes>"
      ]
     },
     "metadata": {},
     "output_type": "display_data"
    },
    {
     "name": "stdout",
     "output_type": "stream",
     "text": [
      "Overall accuracy: 0.357\n",
      "\n",
      "                   precision     recall   f1-score rel. freq. abs. freq.|\t biggest thieves\n",
      "\n",
      "        standing       0.245      0.043      0.073      0.331       1852|\t watching TV: 0.478,\thouse cleaning: 0.326,\tascending stairs: 0.153,\t\n",
      "  house cleaning       0.423      0.456      0.439      0.328       1837|\t ascending stairs: 0.263,\twatching TV: 0.175,\t\n",
      "ascending stairs       0.301      0.307      0.304      0.193       1080|\t house cleaning: 0.435,\twatching TV: 0.219,\t\n",
      "     watching TV       0.342      0.901      0.496      0.148        831|\t house cleaning: 0.082,\tstanding: 0.012,\t\n",
      "\n",
      "----------------------------------------------------------------------------------------------------\n",
      "     avg / total       0.328      0.357      0.300        1.0       5600|\t      \n",
      "\n",
      "{'accuracy': 0.35678571428571426, 'precision': 0.3276243450496878, 'recall': 0.42689046105870787, 'f1': 0.3279813060550998, 'IMU loss': 0.0012369879514777234, 'AE loss': 0.00029928192745761145}\n",
      "========================================\n"
     ]
    }
   ],
   "source": [
    "# print(f'Unseen Classes : {fold_classes[i]}')\n",
    "# separate seen/unseen and train/eval \n",
    "data_dict = dataReader.generate(unseen_classes=fold_cls_ids[0], seen_ratio=config['seen_split'], unseen_ratio=config['unseen_split'], window_size=5.21, window_overlap=4.21, resample_freq=20, smoothing=True, normalize=False)\n",
    "all_classes = dataReader.idToLabel\n",
    "seen_classes = data_dict['seen_classes']\n",
    "unseen_classes = data_dict['unseen_classes']\n",
    "\n",
    "train_n, seq_len, in_ft = data_dict['train']['X'].shape\n",
    "\n",
    "print(\"Initiate IMU datasets ...\")\n",
    "# build IMU datasets\n",
    "train_dt = PAMAP2Dataset(data=data_dict['train']['X'], actions=data_dict['train']['y'], attributes=skeleton_mov, attribute_dict=action_dict, action_classes=seen_classes, n_feat=config['n_sem'], seq_len=50)\n",
    "train_dl = DataLoader(train_dt, batch_size=config['batch_size'], shuffle=True, pin_memory=True, drop_last=True)\n",
    "# build seen eval_dt \n",
    "eval_dt = PAMAP2Dataset(data=data_dict['eval-seen']['X'], actions=data_dict['eval-seen']['y'], attributes=skeleton_mov, attribute_dict=action_dict, action_classes=seen_classes, n_feat=config['n_sem'], seq_len=50)\n",
    "eval_dl = DataLoader(eval_dt, batch_size=config['batch_size'], shuffle=True, pin_memory=True, drop_last=True)\n",
    "# build unseen test_dt\n",
    "test_dt = PAMAP2Dataset(data=data_dict['test']['X'], actions=data_dict['test']['y'], attributes=skeleton_mov, attribute_dict=action_dict, action_classes=unseen_classes, n_feat=config['n_sem'], seq_len=50)\n",
    "test_dl = DataLoader(test_dt, batch_size=config['batch_size'], shuffle=True, pin_memory=True, drop_last=True)\n",
    "\n",
    "print(\"Initial Models ...\")\n",
    "# build IMU Encoder Model \n",
    "imu_model = IMUEncoder(in_ft=in_ft, d_model=config['d_model'], num_heads=config['num_heads'], ft_size=config['feat_size'], max_len=seq_len, n_classes=len(seen_classes))\n",
    "imu_model.to(device)\n",
    "\n",
    "# define IMU-Enc run parameters \n",
    "seen_action_ft_dict = {a: get_class_ft(torch.from_numpy(skeleton_mov[i, ...]), ae_model, device) for a,i in action_dict.items() if a in seen_classes}\n",
    "seen_label_map = {i:l for i,l in enumerate(seen_classes)}\n",
    "trpLoss = ActionTripletLoss(distance='l2', k=10, neg_thr=0.90,pos_thr=0.05, agg=\"mean\", device=device)\n",
    "\n",
    "# generate unseen semantic space \n",
    "unseen_action_ft_dict = {a: get_class_ft(torch.from_numpy(skeleton_mov[i, ...]), ae_model, device) for a,i in action_dict.items() if a in unseen_classes}\n",
    "seen_label_map = {i:l for i,l in enumerate(unseen_classes)}\n",
    "\n",
    "seen_action_ft, seen_action_label = gen_semantic_space(seen_action_ft_dict)\n",
    "unseen_action_ft, unseen_action_label = gen_semantic_space(unseen_action_ft_dict)\n",
    "\n",
    "imu_optim = Adam(imu_model.parameters(), lr=config['imu_lr'])\n",
    "ae_optim = Adam(ae_model.parameters(), lr=config['ae_lr'])\n",
    "optimizers = {'imu': imu_optim, 'ae': ae_optim}\n",
    "\n",
    "loss_module = {'class': nn.CrossEntropyLoss(), 'feature': trpLoss, 'recons': nn.MSELoss()}\n",
    "best_acc = 0.0\n",
    "\n",
    "print(\"Start Models training ...\")\n",
    "fold_train_data = []\n",
    "fold_val_data = []\n",
    "# train 2 models E2E\n",
    "for epoch in tqdm(range(5), desc='Training Epoch', leave=False):\n",
    "    # train IMU-Enc model\n",
    "    train_metrics = imu_train_step1(imu_model, ae_model, train_dl, skel_dt, optimizers, loss_module, device, class_names=[all_classes[i] for i in seen_classes], class_ids=seen_classes, phase='train', imu_alpha=config['imu_alpha'], ae_alpha=config['ae_alpha'], batch_size=32)\n",
    "    fold_train_data.append(train_metrics)\n",
    "    eval_metrics, _, _ = eval_step1(imu_model, ae_model, eval_dl, seen_action_ft, seen_action_label, loss_module, device=device, class_names=[all_classes[i] for i in seen_classes], class_ids=seen_classes,  target_feat_met=eval_dt.getClassAttrs(), phase='seen', print_report=False, imu_alpha=config['imu_alpha'], ae_alpha=config['ae_alpha'], batch_size=config['batch_size'], show_plot=True)\n",
    "    fold_val_data.append(eval_metrics)\n",
    "    # print(f\"EPOCH [{epoch}] TRAINING : {train_metrics}\")\n",
    "    # print(f\"EPOCH [{epoch}] EVAL : {eval_metrics}\")\n",
    "    if eval_metrics['accuracy'] > best_acc:\n",
    "        imu_best_model = deepcopy(imu_model.state_dict())\n",
    "\n",
    "\n",
    "plot_accVloss(fold_train_data, fold_val_data)\n",
    "# replace by best model \n",
    "imu_model.load_state_dict(imu_best_model)\n",
    "\n",
    "# run evaluation on unseen classes\n",
    "test_metrics, unseen_pred_actions, unseen_labels = eval_step1(imu_model, ae_model, test_dl, unseen_action_ft, unseen_action_label, loss_module, device=device, class_names=[all_classes[i] for i in unseen_classes], class_ids=unseen_classes,  target_feat_met=test_dt.getClassAttrs(), phase='unseen', imu_alpha=config['imu_alpha'], ae_alpha=config['ae_alpha'], batch_size=config['batch_size'])\n",
    "print(test_metrics)\n",
    "print(\"=\"*40)"
   ]
  },
  {
   "cell_type": "code",
   "execution_count": null,
   "metadata": {},
   "outputs": [],
   "source": []
  },
  {
   "cell_type": "code",
   "execution_count": 54,
   "metadata": {},
   "outputs": [],
   "source": [
    "import gc\n",
    "def report_gpu():\n",
    "   # print(torch.cuda.list_gpu_processes())\n",
    "   gc.collect()\n",
    "   torch.cuda.empty_cache()"
   ]
  },
  {
   "cell_type": "code",
   "execution_count": 65,
   "metadata": {},
   "outputs": [],
   "source": [
    "report_gpu()"
   ]
  },
  {
   "cell_type": "code",
   "execution_count": null,
   "metadata": {},
   "outputs": [],
   "source": []
  },
  {
   "cell_type": "code",
   "execution_count": null,
   "metadata": {},
   "outputs": [
    {
     "name": "stderr",
     "output_type": "stream",
     "text": [
      "unseen: 100%|██████████| 175/175 [00:29<00:00,  5.91batch/s, IMU loss=0.000177, AE loss=0.000358]\n"
     ]
    },
    {
     "data": {
      "image/png": "[encoded data removed]",
      "text/plain": [
       "<Figure size 640x480 with 2 Axes>"
      ]
     },
     "metadata": {},
     "output_type": "display_data"
    },
    {
     "name": "stdout",
     "output_type": "stream",
     "text": [
      "Overall accuracy: 0.143\n",
      "\n",
      "                   precision     recall   f1-score rel. freq. abs. freq.|\t biggest thieves\n",
      "\n",
      "        standing       0.101      0.057      0.073      0.330       1849|\t ascending stairs: 0.531,\thouse cleaning: 0.215,\twatching TV: 0.196,\t\n",
      "  house cleaning       0.131      0.060      0.082      0.329       1842|\t ascending stairs: 0.592,\twatching TV: 0.229,\tstanding: 0.119,\t\n",
      "ascending stairs       0.190      0.452      0.267      0.193       1079|\t house cleaning: 0.250,\twatching TV: 0.237,\t\n",
      "     watching TV       0.084      0.116      0.098      0.148        830|\t standing: 0.799,\thouse cleaning: 0.071,\t\n",
      "\n",
      "----------------------------------------------------------------------------------------------------\n",
      "     avg / total       0.126      0.143      0.117        1.0       5600|\t      \n",
      "\n",
      "{'accuracy': 0.14285714285714285, 'precision': 0.12654527565853865, 'recall': 0.1712448138154179, 'f1': 0.13000866422482893, 'imu loss': 0.00038817361637484283, 'ae loss': 0.0003667233185842633}\n",
      "========================================\n"
     ]
    }
   ],
   "source": [
    "# plot_accVloss(fold_train_data, fold_val_data)\n",
    "# replace by best model \n",
    "imu_model.load_state_dict(imu_best_model)\n",
    "\n",
    "# run evaluation on unseen classes\n",
    "test_metrics, unseen_pred_actions, unseen_labels = eval_step1(imu_model, ae_model, test_dl, unseen_action_ft, unseen_action_label, loss_module, device=device, class_names=[all_classes[i] for i in unseen_classes], class_ids=unseen_classes,  target_feat_met=test_dt.getClassAttrs(), phase='unseen', imu_alpha=config['imu_alpha'], ae_alpha=config['ae_alpha'], batch_size=config['batch_size'])\n",
    "print(test_metrics)\n",
    "print(\"=\"*40)"
   ]
  },
  {
   "cell_type": "code",
   "execution_count": null,
   "metadata": {},
   "outputs": [],
   "source": []
  },
  {
   "cell_type": "code",
   "execution_count": null,
   "metadata": {},
   "outputs": [
    {
     "data": {
      "application/vnd.plotly.v1+json": {
       "config": {
        "plotlyServerURL": "https://plot.ly"
       },
       "data": [
        {
         "hoverlabel": {
          "namelength": 0
         },
         "hovertemplate": "action=lying<br>type=GT<br>x=%{x}<br>y=%{y}",
         "legendgroup": "action=lying, type=GT",
         "marker": {
          "color": "#636efa",
          "symbol": "circle"
         },
         "mode": "markers",
         "name": "action=lying, type=GT",
         "showlegend": true,
         "type": "scatter",
         "x": [
          -14.29305362701416,
          -16.59505844116211,
          -15.952770233154297,
          -15.796358108520508,
          -14.526214599609375,
          -14.476065635681152,
          -15.325261116027832,
          -15.590195655822754,
          -14.944754600524902,
          -13.7935209274292
         ],
         "xaxis": "x",
         "y": [
          -11.210216522216797,
          -13.19671630859375,
          -12.13966178894043,
          -11.220341682434082,
          -12.257710456848145,
          -14.054421424865723,
          -14.175618171691895,
          -13.098268508911133,
          -12.48132038116455,
          -12.025247573852539
         ],
         "yaxis": "y"
        },
        {
         "hoverlabel": {
          "namelength": 0
         },
         "hovertemplate": "action=sitting<br>type=GT<br>x=%{x}<br>y=%{y}",
         "legendgroup": "action=sitting, type=GT",
         "marker": {
          "color": "#EF553B",
          "symbol": "circle"
         },
         "mode": "markers",
         "name": "action=sitting, type=GT",
         "showlegend": true,
         "type": "scatter",
         "x": [
          -0.7959643006324768,
          -1.9963496923446655,
          -1.3243664503097534,
          -2.836646318435669,
          -4.122716903686523,
          -2.0184738636016846,
          -4.071900367736816,
          -2.9454870223999023,
          -3.1432712078094482,
          -4.099125862121582
         ],
         "xaxis": "x",
         "y": [
          19.12632179260254,
          21.498310089111328,
          20.98436164855957,
          19.82149887084961,
          21.175994873046875,
          19.488725662231445,
          18.295303344726562,
          20.88665199279785,
          22.35447120666504,
          19.982345581054688
         ],
         "yaxis": "y"
        },
        {
         "hoverlabel": {
          "namelength": 0
         },
         "hovertemplate": "action=standing<br>type=GT<br>x=%{x}<br>y=%{y}",
         "legendgroup": "action=standing, type=GT",
         "marker": {
          "color": "#00cc96",
          "symbol": "circle"
         },
         "mode": "markers",
         "name": "action=standing, type=GT",
         "showlegend": true,
         "type": "scatter",
         "x": [
          -3.894690990447998,
          -4.181982517242432,
          -3.1009559631347656,
          -11.55253791809082,
          -3.2249934673309326,
          -5.061765193939209,
          -3.4542574882507324,
          -4.750464916229248,
          -4.418352127075195,
          -5.765799045562744
         ],
         "xaxis": "x",
         "y": [
          -9.759782791137695,
          -11.063913345336914,
          -11.271284103393555,
          -1.164651870727539,
          -8.72419548034668,
          -10.944461822509766,
          -10.34970474243164,
          -9.672052383422852,
          -8.40242862701416,
          -9.184013366699219
         ],
         "yaxis": "y"
        },
        {
         "hoverlabel": {
          "namelength": 0
         },
         "hovertemplate": "action=standing<br>type=pred<br>x=%{x}<br>y=%{y}",
         "legendgroup": "action=standing, type=pred",
         "marker": {
          "color": "#00cc96",
          "symbol": "diamond"
         },
         "mode": "markers",
         "name": "action=standing, type=pred",
         "showlegend": true,
         "type": "scatter",
         "x": [
          -16.719280242919922,
          5.49675178527832,
          -5.025320529937744,
          -2.609093189239502,
          -16.2114200592041,
          -2.7238898277282715,
          -5.2288970947265625,
          -3.0140607357025146,
          -2.5904629230499268
         ],
         "xaxis": "x",
         "y": [
          6.76430082321167,
          -3.104853868484497,
          9.108006477355957,
          17.3037052154541,
          6.68936014175415,
          19.23946189880371,
          -1.050873041152954,
          18.605621337890625,
          18.48699188232422
         ],
         "yaxis": "y"
        },
        {
         "hoverlabel": {
          "namelength": 0
         },
         "hovertemplate": "action=walking<br>type=GT<br>x=%{x}<br>y=%{y}",
         "legendgroup": "action=walking, type=GT",
         "marker": {
          "color": "#ab63fa",
          "symbol": "circle"
         },
         "mode": "markers",
         "name": "action=walking, type=GT",
         "showlegend": true,
         "type": "scatter",
         "x": [
          7.042816638946533,
          6.849374771118164,
          4.7470269203186035,
          5.314245223999023,
          6.063097953796387,
          6.063084602355957,
          6.979269981384277,
          5.458990573883057,
          4.179407119750977,
          5.951527118682861
         ],
         "xaxis": "x",
         "y": [
          -4.640097141265869,
          -7.671507835388184,
          -7.256495475769043,
          -7.410656929016113,
          -8.394692420959473,
          -8.395146369934082,
          -9.158243179321289,
          -9.566107749938965,
          -9.840980529785156,
          -5.145116806030273
         ],
         "yaxis": "y"
        },
        {
         "hoverlabel": {
          "namelength": 0
         },
         "hovertemplate": "action=running<br>type=GT<br>x=%{x}<br>y=%{y}",
         "legendgroup": "action=running, type=GT",
         "marker": {
          "color": "#FFA15A",
          "symbol": "circle"
         },
         "mode": "markers",
         "name": "action=running, type=GT",
         "showlegend": true,
         "type": "scatter",
         "x": [
          7.3388800621032715,
          7.244766712188721,
          9.13447380065918,
          8.103452682495117,
          6.752307891845703,
          8.522294998168945,
          8.786078453063965,
          9.072253227233887,
          7.955086708068848,
          8.667879104614258
         ],
         "xaxis": "x",
         "y": [
          -18.951406478881836,
          -20.51903533935547,
          -19.976831436157227,
          -18.954797744750977,
          -21.53083038330078,
          -21.484725952148438,
          -19.457447052001953,
          -17.920413970947266,
          -20.033700942993164,
          -20.481225967407227
         ],
         "yaxis": "y"
        },
        {
         "hoverlabel": {
          "namelength": 0
         },
         "hovertemplate": "action=cycling<br>type=GT<br>x=%{x}<br>y=%{y}",
         "legendgroup": "action=cycling, type=GT",
         "marker": {
          "color": "#19d3f3",
          "symbol": "circle"
         },
         "mode": "markers",
         "name": "action=cycling, type=GT",
         "showlegend": true,
         "type": "scatter",
         "x": [
          0.3029765486717224,
          -2.091662883758545,
          -0.5584486722946167,
          -3.0574848651885986,
          -3.180651903152466,
          2.2938485145568848,
          -0.8524490594863892,
          -0.8524951934814453,
          0.49698176980018616,
          -0.3258299231529236
         ],
         "xaxis": "x",
         "y": [
          -4.757884979248047,
          -1.333282709121704,
          -4.324954986572266,
          -0.07239246368408203,
          1.2363777160644531,
          -3.7231333255767822,
          -2.926032066345215,
          -2.9258975982666016,
          -3.0725862979888916,
          -1.8741154670715332
         ],
         "yaxis": "y"
        },
        {
         "hoverlabel": {
          "namelength": 0
         },
         "hovertemplate": "action=Nordic walking<br>type=GT<br>x=%{x}<br>y=%{y}",
         "legendgroup": "action=Nordic walking, type=GT",
         "marker": {
          "color": "#FF6692",
          "symbol": "circle"
         },
         "mode": "markers",
         "name": "action=Nordic walking, type=GT",
         "showlegend": true,
         "type": "scatter",
         "x": [
          5.0847296714782715,
          7.4918317794799805,
          7.038743495941162,
          7.17232084274292,
          7.394383430480957,
          6.7969231605529785,
          3.2216832637786865,
          8.560723304748535,
          6.099202632904053,
          7.174494743347168
         ],
         "xaxis": "x",
         "y": [
          0.7549641132354736,
          1.1896755695343018,
          -0.5215502977371216,
          3.004507064819336,
          4.297908782958984,
          3.4093353748321533,
          -2.6808760166168213,
          2.2458975315093994,
          0.3255145847797394,
          1.7295947074890137
         ],
         "yaxis": "y"
        },
        {
         "hoverlabel": {
          "namelength": 0
         },
         "hovertemplate": "action=watching TV<br>type=GT<br>x=%{x}<br>y=%{y}",
         "legendgroup": "action=watching TV, type=GT",
         "marker": {
          "color": "#B6E880",
          "symbol": "circle"
         },
         "mode": "markers",
         "name": "action=watching TV, type=GT",
         "showlegend": true,
         "type": "scatter",
         "x": [
          -11.168434143066406,
          -13.286136627197266,
          -15.618656158447266,
          -15.184868812561035,
          -11.326560974121094,
          -12.771201133728027,
          -13.301213264465332,
          -15.312889099121094,
          -14.120213508605957,
          -12.45211124420166
         ],
         "xaxis": "x",
         "y": [
          1.561558485031128,
          0.8145370483398438,
          2.5389249324798584,
          5.146711826324463,
          0.6165607571601868,
          0.7319671511650085,
          2.8859317302703857,
          3.0197176933288574,
          3.378257989883423,
          3.143817663192749
         ],
         "yaxis": "y"
        },
        {
         "hoverlabel": {
          "namelength": 0
         },
         "hovertemplate": "action=watching TV<br>type=pred<br>x=%{x}<br>y=%{y}",
         "legendgroup": "action=watching TV, type=pred",
         "marker": {
          "color": "#B6E880",
          "symbol": "diamond"
         },
         "mode": "markers",
         "name": "action=watching TV, type=pred",
         "showlegend": true,
         "type": "scatter",
         "x": [
          -6.51879358291626,
          -6.907106399536133,
          -7.340548515319824
         ],
         "xaxis": "x",
         "y": [
          -0.2376812994480133,
          -0.8567267060279846,
          -0.9315908551216125
         ],
         "yaxis": "y"
        },
        {
         "hoverlabel": {
          "namelength": 0
         },
         "hovertemplate": "action=computer work<br>type=GT<br>x=%{x}<br>y=%{y}",
         "legendgroup": "action=computer work, type=GT",
         "marker": {
          "color": "#FF97FF",
          "symbol": "circle"
         },
         "mode": "markers",
         "name": "action=computer work, type=GT",
         "showlegend": true,
         "type": "scatter",
         "x": [
          -8.57640266418457,
          -8.912842750549316,
          -9.570152282714844,
          -7.734180927276611,
          -10.01339340209961,
          -10.862882614135742,
          -11.141613006591797,
          -9.034433364868164,
          -7.607615947723389,
          -9.675769805908203
         ],
         "xaxis": "x",
         "y": [
          -2.2605814933776855,
          -3.6423163414001465,
          -3.708416223526001,
          -4.563050270080566,
          -0.09711997956037521,
          -1.8835519552230835,
          -3.6069815158843994,
          -2.6691439151763916,
          -2.8409371376037598,
          -4.693093776702881
         ],
         "yaxis": "y"
        },
        {
         "hoverlabel": {
          "namelength": 0
         },
         "hovertemplate": "action=car driving<br>type=GT<br>x=%{x}<br>y=%{y}",
         "legendgroup": "action=car driving, type=GT",
         "marker": {
          "color": "#FECB52",
          "symbol": "circle"
         },
         "mode": "markers",
         "name": "action=car driving, type=GT",
         "showlegend": true,
         "type": "scatter",
         "x": [
          9.574740409851074,
          10.285325050354004,
          9.975555419921875,
          8.124571800231934,
          10.113306999206543,
          8.619811058044434,
          8.177323341369629,
          9.163559913635254,
          8.47552490234375,
          9.335189819335938
         ],
         "xaxis": "x",
         "y": [
          -25.080429077148438,
          -25.88640594482422,
          -26.54621696472168,
          -27.138225555419922,
          -27.82927894592285,
          -25.968488693237305,
          -25.551616668701172,
          -27.131303787231445,
          -27.77882194519043,
          -25.94795036315918
         ],
         "yaxis": "y"
        },
        {
         "hoverlabel": {
          "namelength": 0
         },
         "hovertemplate": "action=ascending stairs<br>type=GT<br>x=%{x}<br>y=%{y}",
         "legendgroup": "action=ascending stairs, type=GT",
         "marker": {
          "color": "#636efa",
          "symbol": "circle"
         },
         "mode": "markers",
         "name": "action=ascending stairs, type=GT",
         "showlegend": true,
         "type": "scatter",
         "x": [
          15.500574111938477,
          15.987225532531738,
          13.923967361450195,
          12.054444313049316,
          14.962284088134766,
          14.531294822692871,
          14.67684268951416,
          13.159708023071289,
          13.922046661376953,
          14.587422370910645
         ],
         "xaxis": "x",
         "y": [
          8.313495635986328,
          8.956310272216797,
          11.33877944946289,
          8.842374801635742,
          7.877144813537598,
          9.031702041625977,
          10.290006637573242,
          9.76508903503418,
          11.3998384475708,
          9.005622863769531
         ],
         "yaxis": "y"
        },
        {
         "hoverlabel": {
          "namelength": 0
         },
         "hovertemplate": "action=ascending stairs<br>type=pred<br>x=%{x}<br>y=%{y}",
         "legendgroup": "action=ascending stairs, type=pred",
         "marker": {
          "color": "#636efa",
          "symbol": "diamond"
         },
         "mode": "markers",
         "name": "action=ascending stairs, type=pred",
         "showlegend": true,
         "type": "scatter",
         "x": [
          4.121689319610596,
          9.304022789001465,
          5.581935405731201,
          4.544698238372803,
          -0.0771220326423645,
          3.6368348598480225,
          5.429643630981445
         ],
         "xaxis": "x",
         "y": [
          -1.7606829404830933,
          -2.7718756198883057,
          -1.6832079887390137,
          -0.3370670676231384,
          5.767444610595703,
          -0.5100334882736206,
          -0.9700992703437805
         ],
         "yaxis": "y"
        },
        {
         "hoverlabel": {
          "namelength": 0
         },
         "hovertemplate": "action=descending stairs<br>type=GT<br>x=%{x}<br>y=%{y}",
         "legendgroup": "action=descending stairs, type=GT",
         "marker": {
          "color": "#EF553B",
          "symbol": "circle"
         },
         "mode": "markers",
         "name": "action=descending stairs, type=GT",
         "showlegend": true,
         "type": "scatter",
         "x": [
          3.6485021114349365,
          5.803305625915527,
          6.009849548339844,
          2.4414710998535156,
          6.96256160736084,
          3.6172053813934326,
          3.6130242347717285,
          4.355001926422119,
          4.584596633911133,
          6.009439945220947
         ],
         "xaxis": "x",
         "y": [
          17.243505477905273,
          16.983171463012695,
          15.339552879333496,
          14.654446601867676,
          16.12518310546875,
          14.138998985290527,
          13.934270858764648,
          16.93632698059082,
          16.899904251098633,
          16.524736404418945
         ],
         "yaxis": "y"
        },
        {
         "hoverlabel": {
          "namelength": 0
         },
         "hovertemplate": "action=vacuum cleaning<br>type=GT<br>x=%{x}<br>y=%{y}",
         "legendgroup": "action=vacuum cleaning, type=GT",
         "marker": {
          "color": "#00cc96",
          "symbol": "circle"
         },
         "mode": "markers",
         "name": "action=vacuum cleaning, type=GT",
         "showlegend": true,
         "type": "scatter",
         "x": [
          0.7724236845970154,
          4.886651992797852,
          -1.5555996894836426,
          1.1349860429763794,
          1.5529860258102417,
          -0.16565626859664917,
          -0.4188620448112488,
          4.364733695983887,
          4.30910062789917,
          2.6040706634521484
         ],
         "xaxis": "x",
         "y": [
          9.476624488830566,
          5.883395671844482,
          7.528609275817871,
          8.717354774475098,
          7.7053632736206055,
          8.39210319519043,
          9.713335037231445,
          3.471067190170288,
          4.881575107574463,
          6.695266246795654
         ],
         "yaxis": "y"
        },
        {
         "hoverlabel": {
          "namelength": 0
         },
         "hovertemplate": "action=ironing<br>type=GT<br>x=%{x}<br>y=%{y}",
         "legendgroup": "action=ironing, type=GT",
         "marker": {
          "color": "#ab63fa",
          "symbol": "circle"
         },
         "mode": "markers",
         "name": "action=ironing, type=GT",
         "showlegend": true,
         "type": "scatter",
         "x": [
          -8.083961486816406,
          -5.914023399353027,
          -5.730854511260986,
          -8.73438549041748,
          -8.452604293823242,
          -8.203533172607422,
          -6.714522361755371,
          -7.238834857940674,
          -7.026798248291016,
          -7.43719482421875
         ],
         "xaxis": "x",
         "y": [
          9.425551414489746,
          10.375879287719727,
          10.878242492675781,
          11.3898344039917,
          10.793421745300293,
          12.54433822631836,
          11.986430168151855,
          11.951271057128906,
          10.040764808654785,
          10.722342491149902
         ],
         "yaxis": "y"
        },
        {
         "hoverlabel": {
          "namelength": 0
         },
         "hovertemplate": "action=folding laundry<br>type=GT<br>x=%{x}<br>y=%{y}",
         "legendgroup": "action=folding laundry, type=GT",
         "marker": {
          "color": "#FFA15A",
          "symbol": "circle"
         },
         "mode": "markers",
         "name": "action=folding laundry, type=GT",
         "showlegend": true,
         "type": "scatter",
         "x": [
          -17.790302276611328,
          -14.877934455871582,
          -18.03811264038086,
          -17.039485931396484,
          -17.625864028930664,
          -19.03763198852539,
          -18.65111541748047,
          -19.870361328125,
          -16.274396896362305,
          -17.222576141357422
         ],
         "xaxis": "x",
         "y": [
          5.233486175537109,
          7.814441680908203,
          6.575495719909668,
          9.24569320678711,
          7.436853885650635,
          8.682286262512207,
          7.90772008895874,
          6.622150897979736,
          8.698347091674805,
          7.567681312561035
         ],
         "yaxis": "y"
        },
        {
         "hoverlabel": {
          "namelength": 0
         },
         "hovertemplate": "action=house cleaning<br>type=GT<br>x=%{x}<br>y=%{y}",
         "legendgroup": "action=house cleaning, type=GT",
         "marker": {
          "color": "#19d3f3",
          "symbol": "circle"
         },
         "mode": "markers",
         "name": "action=house cleaning, type=GT",
         "showlegend": true,
         "type": "scatter",
         "x": [
          -26.56831169128418,
          -24.506114959716797,
          -24.103870391845703,
          -24.404348373413086,
          -25.681175231933594,
          -25.8439884185791,
          -23.318981170654297,
          -23.48197364807129,
          -25.34838104248047,
          -24.94061851501465
         ],
         "xaxis": "x",
         "y": [
          1.6334261894226074,
          2.721890926361084,
          3.579352378845215,
          1.5643713474273682,
          3.706583261489868,
          2.920046091079712,
          2.943012237548828,
          3.787700891494751,
          2.2714433670043945,
          1.5464750528335571
         ],
         "yaxis": "y"
        },
        {
         "hoverlabel": {
          "namelength": 0
         },
         "hovertemplate": "action=house cleaning<br>type=pred<br>x=%{x}<br>y=%{y}",
         "legendgroup": "action=house cleaning, type=pred",
         "marker": {
          "color": "#19d3f3",
          "symbol": "diamond"
         },
         "mode": "markers",
         "name": "action=house cleaning, type=pred",
         "showlegend": true,
         "type": "scatter",
         "x": [
          -16.06623077392578,
          -4.718681335449219,
          2.7198729515075684,
          0.18320658802986145,
          1.9772604703903198,
          0.6234371066093445,
          4.807176113128662,
          0.702286422252655,
          3.318235158920288,
          2.574104070663452,
          -1.1699010133743286
         ],
         "xaxis": "x",
         "y": [
          6.164164066314697,
          0.1264268457889557,
          2.516613721847534,
          7.3046956062316895,
          4.221676349639893,
          6.212966442108154,
          -1.2273300886154175,
          7.18555212020874,
          1.7462825775146484,
          3.075146198272705,
          5.83012056350708
         ],
         "yaxis": "y"
        },
        {
         "hoverlabel": {
          "namelength": 0
         },
         "hovertemplate": "action=playing soccer<br>type=GT<br>x=%{x}<br>y=%{y}",
         "legendgroup": "action=playing soccer, type=GT",
         "marker": {
          "color": "#FF6692",
          "symbol": "circle"
         },
         "mode": "markers",
         "name": "action=playing soccer, type=GT",
         "showlegend": true,
         "type": "scatter",
         "x": [
          7.646138668060303,
          10.409441947937012,
          11.400794982910156,
          11.634288787841797,
          11.14118766784668,
          12.600836753845215,
          9.860808372497559,
          11.510427474975586,
          13.310530662536621,
          13.086524963378906
         ],
         "xaxis": "x",
         "y": [
          -3.261291027069092,
          -3.7741947174072266,
          -1.4454141855239868,
          -4.160397529602051,
          -2.6399621963500977,
          -2.343266010284424,
          -1.8345929384231567,
          -3.0825388431549072,
          -2.5134952068328857,
          -4.031562805175781
         ],
         "yaxis": "y"
        },
        {
         "hoverlabel": {
          "namelength": 0
         },
         "hovertemplate": "action=rope jumping<br>type=GT<br>x=%{x}<br>y=%{y}",
         "legendgroup": "action=rope jumping, type=GT",
         "marker": {
          "color": "#B6E880",
          "symbol": "circle"
         },
         "mode": "markers",
         "name": "action=rope jumping, type=GT",
         "showlegend": true,
         "type": "scatter",
         "x": [
          15.48344898223877,
          16.71019744873047,
          17.881441116333008,
          14.305871963500977,
          15.584957122802734,
          15.991870880126953,
          16.754159927368164,
          15.54236125946045,
          17.41982650756836,
          15.774127006530762
         ],
         "xaxis": "x",
         "y": [
          -13.13005256652832,
          -12.819382667541504,
          -10.863460540771484,
          -11.024656295776367,
          -12.347829818725586,
          -10.93748950958252,
          -11.739761352539062,
          -10.46396255493164,
          -12.002870559692383,
          -11.76916790008545
         ],
         "yaxis": "y"
        }
       ],
       "layout": {
        "height": 800,
        "legend": {
         "tracegroupgap": 0
        },
        "template": {
         "data": {
          "bar": [
           {
            "error_x": {
             "color": "#2a3f5f"
            },
            "error_y": {
             "color": "#2a3f5f"
            },
            "marker": {
             "line": {
              "color": "#E5ECF6",
              "width": 0.5
             }
            },
            "type": "bar"
           }
          ],
          "barpolar": [
           {
            "marker": {
             "line": {
              "color": "#E5ECF6",
              "width": 0.5
             }
            },
            "type": "barpolar"
           }
          ],
          "carpet": [
           {
            "aaxis": {
             "endlinecolor": "#2a3f5f",
             "gridcolor": "white",
             "linecolor": "white",
             "minorgridcolor": "white",
             "startlinecolor": "#2a3f5f"
            },
            "baxis": {
             "endlinecolor": "#2a3f5f",
             "gridcolor": "white",
             "linecolor": "white",
             "minorgridcolor": "white",
             "startlinecolor": "#2a3f5f"
            },
            "type": "carpet"
           }
          ],
          "choropleth": [
           {
            "colorbar": {
             "outlinewidth": 0,
             "ticks": ""
            },
            "type": "choropleth"
           }
          ],
          "contour": [
           {
            "colorbar": {
             "outlinewidth": 0,
             "ticks": ""
            },
            "colorscale": [
             [
              0,
              "#0d0887"
             ],
             [
              0.1111111111111111,
              "#46039f"
             ],
             [
              0.2222222222222222,
              "#7201a8"
             ],
             [
              0.3333333333333333,
              "#9c179e"
             ],
             [
              0.4444444444444444,
              "#bd3786"
             ],
             [
              0.5555555555555556,
              "#d8576b"
             ],
             [
              0.6666666666666666,
              "#ed7953"
             ],
             [
              0.7777777777777778,
              "#fb9f3a"
             ],
             [
              0.8888888888888888,
              "#fdca26"
             ],
             [
              1,
              "#f0f921"
             ]
            ],
            "type": "contour"
           }
          ],
          "contourcarpet": [
           {
            "colorbar": {
             "outlinewidth": 0,
             "ticks": ""
            },
            "type": "contourcarpet"
           }
          ],
          "heatmap": [
           {
            "colorbar": {
             "outlinewidth": 0,
             "ticks": ""
            },
            "colorscale": [
             [
              0,
              "#0d0887"
             ],
             [
              0.1111111111111111,
              "#46039f"
             ],
             [
              0.2222222222222222,
              "#7201a8"
             ],
             [
              0.3333333333333333,
              "#9c179e"
             ],
             [
              0.4444444444444444,
              "#bd3786"
             ],
             [
              0.5555555555555556,
              "#d8576b"
             ],
             [
              0.6666666666666666,
              "#ed7953"
             ],
             [
              0.7777777777777778,
              "#fb9f3a"
             ],
             [
              0.8888888888888888,
              "#fdca26"
             ],
             [
              1,
              "#f0f921"
             ]
            ],
            "type": "heatmap"
           }
          ],
          "heatmapgl": [
           {
            "colorbar": {
             "outlinewidth": 0,
             "ticks": ""
            },
            "colorscale": [
             [
              0,
              "#0d0887"
             ],
             [
              0.1111111111111111,
              "#46039f"
             ],
             [
              0.2222222222222222,
              "#7201a8"
             ],
             [
              0.3333333333333333,
              "#9c179e"
             ],
             [
              0.4444444444444444,
              "#bd3786"
             ],
             [
              0.5555555555555556,
              "#d8576b"
             ],
             [
              0.6666666666666666,
              "#ed7953"
             ],
             [
              0.7777777777777778,
              "#fb9f3a"
             ],
             [
              0.8888888888888888,
              "#fdca26"
             ],
             [
              1,
              "#f0f921"
             ]
            ],
            "type": "heatmapgl"
           }
          ],
          "histogram": [
           {
            "marker": {
             "colorbar": {
              "outlinewidth": 0,
              "ticks": ""
             }
            },
            "type": "histogram"
           }
          ],
          "histogram2d": [
           {
            "colorbar": {
             "outlinewidth": 0,
             "ticks": ""
            },
            "colorscale": [
             [
              0,
              "#0d0887"
             ],
             [
              0.1111111111111111,
              "#46039f"
             ],
             [
              0.2222222222222222,
              "#7201a8"
             ],
             [
              0.3333333333333333,
              "#9c179e"
             ],
             [
              0.4444444444444444,
              "#bd3786"
             ],
             [
              0.5555555555555556,
              "#d8576b"
             ],
             [
              0.6666666666666666,
              "#ed7953"
             ],
             [
              0.7777777777777778,
              "#fb9f3a"
             ],
             [
              0.8888888888888888,
              "#fdca26"
             ],
             [
              1,
              "#f0f921"
             ]
            ],
            "type": "histogram2d"
           }
          ],
          "histogram2dcontour": [
           {
            "colorbar": {
             "outlinewidth": 0,
             "ticks": ""
            },
            "colorscale": [
             [
              0,
              "#0d0887"
             ],
             [
              0.1111111111111111,
              "#46039f"
             ],
             [
              0.2222222222222222,
              "#7201a8"
             ],
             [
              0.3333333333333333,
              "#9c179e"
             ],
             [
              0.4444444444444444,
              "#bd3786"
             ],
             [
              0.5555555555555556,
              "#d8576b"
             ],
             [
              0.6666666666666666,
              "#ed7953"
             ],
             [
              0.7777777777777778,
              "#fb9f3a"
             ],
             [
              0.8888888888888888,
              "#fdca26"
             ],
             [
              1,
              "#f0f921"
             ]
            ],
            "type": "histogram2dcontour"
           }
          ],
          "mesh3d": [
           {
            "colorbar": {
             "outlinewidth": 0,
             "ticks": ""
            },
            "type": "mesh3d"
           }
          ],
          "parcoords": [
           {
            "line": {
             "colorbar": {
              "outlinewidth": 0,
              "ticks": ""
             }
            },
            "type": "parcoords"
           }
          ],
          "pie": [
           {
            "automargin": true,
            "type": "pie"
           }
          ],
          "scatter": [
           {
            "marker": {
             "colorbar": {
              "outlinewidth": 0,
              "ticks": ""
             }
            },
            "type": "scatter"
           }
          ],
          "scatter3d": [
           {
            "line": {
             "colorbar": {
              "outlinewidth": 0,
              "ticks": ""
             }
            },
            "marker": {
             "colorbar": {
              "outlinewidth": 0,
              "ticks": ""
             }
            },
            "type": "scatter3d"
           }
          ],
          "scattercarpet": [
           {
            "marker": {
             "colorbar": {
              "outlinewidth": 0,
              "ticks": ""
             }
            },
            "type": "scattercarpet"
           }
          ],
          "scattergeo": [
           {
            "marker": {
             "colorbar": {
              "outlinewidth": 0,
              "ticks": ""
             }
            },
            "type": "scattergeo"
           }
          ],
          "scattergl": [
           {
            "marker": {
             "colorbar": {
              "outlinewidth": 0,
              "ticks": ""
             }
            },
            "type": "scattergl"
           }
          ],
          "scattermapbox": [
           {
            "marker": {
             "colorbar": {
              "outlinewidth": 0,
              "ticks": ""
             }
            },
            "type": "scattermapbox"
           }
          ],
          "scatterpolar": [
           {
            "marker": {
             "colorbar": {
              "outlinewidth": 0,
              "ticks": ""
             }
            },
            "type": "scatterpolar"
           }
          ],
          "scatterpolargl": [
           {
            "marker": {
             "colorbar": {
              "outlinewidth": 0,
              "ticks": ""
             }
            },
            "type": "scatterpolargl"
           }
          ],
          "scatterternary": [
           {
            "marker": {
             "colorbar": {
              "outlinewidth": 0,
              "ticks": ""
             }
            },
            "type": "scatterternary"
           }
          ],
          "surface": [
           {
            "colorbar": {
             "outlinewidth": 0,
             "ticks": ""
            },
            "colorscale": [
             [
              0,
              "#0d0887"
             ],
             [
              0.1111111111111111,
              "#46039f"
             ],
             [
              0.2222222222222222,
              "#7201a8"
             ],
             [
              0.3333333333333333,
              "#9c179e"
             ],
             [
              0.4444444444444444,
              "#bd3786"
             ],
             [
              0.5555555555555556,
              "#d8576b"
             ],
             [
              0.6666666666666666,
              "#ed7953"
             ],
             [
              0.7777777777777778,
              "#fb9f3a"
             ],
             [
              0.8888888888888888,
              "#fdca26"
             ],
             [
              1,
              "#f0f921"
             ]
            ],
            "type": "surface"
           }
          ],
          "table": [
           {
            "cells": {
             "fill": {
              "color": "#EBF0F8"
             },
             "line": {
              "color": "white"
             }
            },
            "header": {
             "fill": {
              "color": "#C8D4E3"
             },
             "line": {
              "color": "white"
             }
            },
            "type": "table"
           }
          ]
         },
         "layout": {
          "annotationdefaults": {
           "arrowcolor": "#2a3f5f",
           "arrowhead": 0,
           "arrowwidth": 1
          },
          "coloraxis": {
           "colorbar": {
            "outlinewidth": 0,
            "ticks": ""
           }
          },
          "colorscale": {
           "diverging": [
            [
             0,
             "#8e0152"
            ],
            [
             0.1,
             "#c51b7d"
            ],
            [
             0.2,
             "#de77ae"
            ],
            [
             0.3,
             "#f1b6da"
            ],
            [
             0.4,
             "#fde0ef"
            ],
            [
             0.5,
             "#f7f7f7"
            ],
            [
             0.6,
             "#e6f5d0"
            ],
            [
             0.7,
             "#b8e186"
            ],
            [
             0.8,
             "#7fbc41"
            ],
            [
             0.9,
             "#4d9221"
            ],
            [
             1,
             "#276419"
            ]
           ],
           "sequential": [
            [
             0,
             "#0d0887"
            ],
            [
             0.1111111111111111,
             "#46039f"
            ],
            [
             0.2222222222222222,
             "#7201a8"
            ],
            [
             0.3333333333333333,
             "#9c179e"
            ],
            [
             0.4444444444444444,
             "#bd3786"
            ],
            [
             0.5555555555555556,
             "#d8576b"
            ],
            [
             0.6666666666666666,
             "#ed7953"
            ],
            [
             0.7777777777777778,
             "#fb9f3a"
            ],
            [
             0.8888888888888888,
             "#fdca26"
            ],
            [
             1,
             "#f0f921"
            ]
           ],
           "sequentialminus": [
            [
             0,
             "#0d0887"
            ],
            [
             0.1111111111111111,
             "#46039f"
            ],
            [
             0.2222222222222222,
             "#7201a8"
            ],
            [
             0.3333333333333333,
             "#9c179e"
            ],
            [
             0.4444444444444444,
             "#bd3786"
            ],
            [
             0.5555555555555556,
             "#d8576b"
            ],
            [
             0.6666666666666666,
             "#ed7953"
            ],
            [
             0.7777777777777778,
             "#fb9f3a"
            ],
            [
             0.8888888888888888,
             "#fdca26"
            ],
            [
             1,
             "#f0f921"
            ]
           ]
          },
          "colorway": [
           "#636efa",
           "#EF553B",
           "#00cc96",
           "#ab63fa",
           "#FFA15A",
           "#19d3f3",
           "#FF6692",
           "#B6E880",
           "#FF97FF",
           "#FECB52"
          ],
          "font": {
           "color": "#2a3f5f"
          },
          "geo": {
           "bgcolor": "white",
           "lakecolor": "white",
           "landcolor": "#E5ECF6",
           "showlakes": true,
           "showland": true,
           "subunitcolor": "white"
          },
          "hoverlabel": {
           "align": "left"
          },
          "hovermode": "closest",
          "mapbox": {
           "style": "light"
          },
          "paper_bgcolor": "white",
          "plot_bgcolor": "#E5ECF6",
          "polar": {
           "angularaxis": {
            "gridcolor": "white",
            "linecolor": "white",
            "ticks": ""
           },
           "bgcolor": "#E5ECF6",
           "radialaxis": {
            "gridcolor": "white",
            "linecolor": "white",
            "ticks": ""
           }
          },
          "scene": {
           "xaxis": {
            "backgroundcolor": "#E5ECF6",
            "gridcolor": "white",
            "gridwidth": 2,
            "linecolor": "white",
            "showbackground": true,
            "ticks": "",
            "zerolinecolor": "white"
           },
           "yaxis": {
            "backgroundcolor": "#E5ECF6",
            "gridcolor": "white",
            "gridwidth": 2,
            "linecolor": "white",
            "showbackground": true,
            "ticks": "",
            "zerolinecolor": "white"
           },
           "zaxis": {
            "backgroundcolor": "#E5ECF6",
            "gridcolor": "white",
            "gridwidth": 2,
            "linecolor": "white",
            "showbackground": true,
            "ticks": "",
            "zerolinecolor": "white"
           }
          },
          "shapedefaults": {
           "line": {
            "color": "#2a3f5f"
           }
          },
          "ternary": {
           "aaxis": {
            "gridcolor": "white",
            "linecolor": "white",
            "ticks": ""
           },
           "baxis": {
            "gridcolor": "white",
            "linecolor": "white",
            "ticks": ""
           },
           "bgcolor": "#E5ECF6",
           "caxis": {
            "gridcolor": "white",
            "linecolor": "white",
            "ticks": ""
           }
          },
          "title": {
           "x": 0.05
          },
          "xaxis": {
           "automargin": true,
           "gridcolor": "white",
           "linecolor": "white",
           "ticks": "",
           "title": {
            "standoff": 15
           },
           "zerolinecolor": "white",
           "zerolinewidth": 2
          },
          "yaxis": {
           "automargin": true,
           "gridcolor": "white",
           "linecolor": "white",
           "ticks": "",
           "title": {
            "standoff": 15
           },
           "zerolinecolor": "white",
           "zerolinewidth": 2
          }
         }
        },
        "title": {
         "text": "t-SNE"
        },
        "width": 800,
        "xaxis": {
         "anchor": "y",
         "domain": [
          0,
          1
         ],
         "title": {
          "text": "x"
         }
        },
        "yaxis": {
         "anchor": "x",
         "domain": [
          0,
          1
         ],
         "title": {
          "text": "y"
         }
        }
       }
      }
     },
     "metadata": {},
     "output_type": "display_data"
    }
   ],
   "source": [
    "over_plot_preds(val_actions, val_labels, unseen_pred_actions[:30, :], unseen_labels[:30], val_lm)"
   ]
  },
  {
   "cell_type": "code",
   "execution_count": null,
   "metadata": {},
   "outputs": [
    {
     "name": "stderr",
     "output_type": "stream",
     "text": [
      "unseen: 100%|██████████| 175/175 [00:17<00:00, 10.01batch/s, loss=0.324]\n"
     ]
    },
    {
     "data": {
      "image/png": "[encoded data removed]",
      "text/plain": [
       "<Figure size 640x480 with 2 Axes>"
      ]
     },
     "metadata": {},
     "output_type": "display_data"
    },
    {
     "name": "stdout",
     "output_type": "stream",
     "text": [
      "Overall accuracy: 0.194\n",
      "\n",
      "                   precision     recall   f1-score rel. freq. abs. freq.|\t biggest thieves\n",
      "\n",
      "        standing       0.208      0.134      0.163      0.331       1853|\t watching TV: 0.866,\tascending stairs: 0.000,\t\n",
      "  house cleaning       1.000      0.001      0.001      0.329       1840|\t watching TV: 0.865,\tstanding: 0.113,\tascending stairs: 0.022,\t\n",
      "ascending stairs       0.369      0.022      0.042      0.193       1078|\t standing: 0.671,\twatching TV: 0.307,\t\n",
      "     watching TV       0.188      0.982      0.315      0.148        829|\t standing: 0.018,\tascending stairs: 0.000,\t\n",
      "\n",
      "----------------------------------------------------------------------------------------------------\n",
      "     avg / total       0.496      0.194      0.109        1.0       5600|\t      \n",
      "\n"
     ]
    }
   ],
   "source": [
    "test_metrics, _, _ = eval_step1(imu_model, test_dl, unseen_action_ft, unseen_action_label, imu_loss_module, device=device, class_names=[all_classes[i] for i in unseen_classes], class_ids=unseen_classes,  target_feat_met=test_dt.getClassAttrs(), phase='unseen', loss_alpha=0.8, batch_size=config['batch_size'], neighs=10)\n"
   ]
  },
  {
   "cell_type": "code",
   "execution_count": null,
   "metadata": {},
   "outputs": [],
   "source": []
  },
  {
   "cell_type": "code",
   "execution_count": null,
   "metadata": {},
   "outputs": [],
   "source": []
  }
 ],
 "metadata": {
  "kernelspec": {
   "display_name": "Python 3.8.13 ('mvts_trans')",
   "language": "python",
   "name": "python3"
  },
  "language_info": {
   "codemirror_mode": {
    "name": "ipython",
    "version": 3
   },
   "file_extension": ".py",
   "mimetype": "text/x-python",
   "name": "python",
   "nbconvert_exporter": "python",
   "pygments_lexer": "ipython3",
   "version": "3.8.13 (default, Mar 28 2022, 06:59:08) [MSC v.1916 64 bit (AMD64)]"
  },
  "orig_nbformat": 4,
  "vscode": {
   "interpreter": {
    "hash": "ccc35149ad8fa032444ebff1245e6ef176e6c1ce3af8dec48e3374f21a6b0f27"
   }
  }
 },
 "nbformat": 4,
 "nbformat_minor": 2
}
