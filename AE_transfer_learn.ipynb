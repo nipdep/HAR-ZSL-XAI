{
 "cells": [
  {
   "cell_type": "code",
   "execution_count": 1,
   "metadata": {},
   "outputs": [],
   "source": [
    "import os \n",
    "import random \n",
    "from datetime import date\n",
    "from collections import defaultdict\n",
    "from tqdm import tqdm\n",
    "from copy import deepcopy\n",
    "import numpy as np \n",
    "import pandas as pd\n",
    "\n",
    "import torch \n",
    "from torch import nn, Tensor\n",
    "from torch.nn import functional as F\n",
    "from torch.nn.modules import MultiheadAttention, Linear, Dropout, BatchNorm1d, TransformerEncoderLayer\n",
    "from torch.utils.data import Dataset, DataLoader\n",
    "from torch.nn.utils import weight_norm\n",
    "from torch.optim import Adam, Adagrad\n",
    "from torch.nn import MSELoss\n",
    "\n",
    "from sklearn.metrics import accuracy_score\n",
    "from sklearn.metrics.pairwise import cosine_similarity, euclidean_distances\n",
    "\n",
    "import torchinfo \n",
    "from pytorch_metric_learning.losses import ContrastiveLoss\n",
    "from pytorch_metric_learning.distances import LpDistance, CosineSimilarity"
   ]
  },
  {
   "cell_type": "code",
   "execution_count": 2,
   "metadata": {},
   "outputs": [],
   "source": [
    "from src.datasets.data import PAMAP2Reader\n",
    "# from src.datasets.dataset import PAMAP2Dataset\n",
    "\n",
    "from src.models.ts_transformer import RelativeGlobalAttention\n",
    "from src.models.loss import FeatureLoss, AttributeLoss \n",
    "from src.utils.losses import SupConLoss\n",
    "\n",
    "from src.utils.analysis import action_evaluator"
   ]
  },
  {
   "cell_type": "code",
   "execution_count": 3,
   "metadata": {},
   "outputs": [],
   "source": [
    "from sklearn.manifold import TSNE\n",
    "from umap import UMAP\n",
    "\n",
    "import matplotlib.pyplot as plt \n",
    "import plotly.express as px"
   ]
  },
  {
   "cell_type": "code",
   "execution_count": 4,
   "metadata": {},
   "outputs": [],
   "source": [
    "# setup model configurations\n",
    "config = {\n",
    "    # general information\n",
    "    \"experiment-name\": \"test-001\", \n",
    "    \"datetime\": date.today(),\n",
    "    \"device\": \"gpu\",\n",
    "    \"dataset\": \"PAMAP2\", # \"PAMAP2\", \"DaLiAc\", \"UTD\"\n",
    "    \"Model\": \"RelativeGlobalAttention\",\n",
    "    \"sem-space\": 'attr',\n",
    "    # model training configs\n",
    "    \"include_attribute_loss\": True, \n",
    "    \"semantic_size\": 128,\n",
    "    \"n_actions\": 18,\n",
    "    \"folding\": True,\n",
    "    \"lr\": 0.001,\n",
    "    'imu_lr': 0.0001,\n",
    "    'ae_lr': 0.005,\n",
    "    'imu_alpha': 0.6,\n",
    "    'ae_alpha': 0.7,\n",
    "    \"n_epochs\": 5,\n",
    "    \"optimizer\": \"adam\",\n",
    "    \"batch_size\": 16,\n",
    "    \"semantic_loss\": \"cosine_distance\",\n",
    "    # model configs\n",
    "    \"d_model\": 128, \n",
    "    \"num_heads\": 2,\n",
    "    \"feat_size\": 64, # skel-AE hidden size and IMU-Anc output size\n",
    "    # dataset configs\n",
    "    \"window_size\": 5, \n",
    "    \"overlap\": 0.5,\n",
    "    \"seq_len\": 50,  # skeleton seq. length\n",
    "    \"seen_split\": 0.2,\n",
    "    \"unseen_split\": 0.8\n",
    "}"
   ]
  },
  {
   "attachments": {},
   "cell_type": "markdown",
   "metadata": {},
   "source": [
    "---\n",
    "Init Model "
   ]
  },
  {
   "cell_type": "code",
   "execution_count": 5,
   "metadata": {},
   "outputs": [],
   "source": [
    "class Chomp1d(nn.Module):\n",
    "    def __init__(self, chomp_size):\n",
    "        super(Chomp1d, self).__init__()\n",
    "        self.chomp_size = chomp_size\n",
    "\n",
    "    def forward(self, x):\n",
    "        return x[:, :, :-self.chomp_size].contiguous()\n",
    "\n",
    "\n",
    "class TemporalBlock(nn.Module):\n",
    "    def __init__(self, n_inputs, n_outputs, kernel_size, stride, dilation, padding, dropout=0.2):\n",
    "        super(TemporalBlock, self).__init__()\n",
    "        self.conv1 = weight_norm(nn.Conv1d(n_inputs, n_outputs, kernel_size,\n",
    "                                           stride=stride, padding=padding, dilation=dilation))\n",
    "        self.chomp1 = Chomp1d(padding)\n",
    "        self.relu1 = nn.ReLU()\n",
    "        self.dropout1 = nn.Dropout(dropout)\n",
    "\n",
    "        self.conv2 = weight_norm(nn.Conv1d(n_outputs, n_outputs, kernel_size,\n",
    "                                           stride=stride, padding=padding, dilation=dilation))\n",
    "        self.chomp2 = Chomp1d(padding)\n",
    "        self.relu2 = nn.ReLU()\n",
    "        self.dropout2 = nn.Dropout(dropout)\n",
    "\n",
    "        self.net = nn.Sequential(self.conv1, self.chomp1, self.relu1, self.dropout1,\n",
    "                                 self.conv2, self.chomp2, self.relu2, self.dropout2)\n",
    "        self.downsample = nn.Conv1d(n_inputs, n_outputs, 1) if n_inputs != n_outputs else None\n",
    "        self.relu = nn.ReLU()\n",
    "        self.init_weights()\n",
    "\n",
    "    def init_weights(self):\n",
    "        self.conv1.weight.data.normal_(0, 0.01)\n",
    "        self.conv2.weight.data.normal_(0, 0.01)\n",
    "        if self.downsample is not None:\n",
    "            self.downsample.weight.data.normal_(0, 0.01)\n",
    "\n",
    "    def forward(self, x):\n",
    "        out = self.net(x)\n",
    "        res = x if self.downsample is None else self.downsample(x)\n",
    "        return self.relu(out + res)\n",
    "\n",
    "\n",
    "class TemporalConvNet(nn.Module):\n",
    "    def __init__(self, num_inputs, num_channels, kernel_size=2, dropout=0.2):\n",
    "        super(TemporalConvNet, self).__init__()\n",
    "        layers = []\n",
    "        num_levels = len(num_channels)\n",
    "        for i in range(num_levels):\n",
    "            dilation_size = 2 ** i\n",
    "            in_channels = num_inputs if i == 0 else num_channels[i-1]\n",
    "            out_channels = num_channels[i]\n",
    "            layers += [TemporalBlock(in_channels, out_channels, kernel_size, stride=1, dilation=dilation_size,\n",
    "                                     padding=(kernel_size-1) * dilation_size, dropout=dropout)]\n",
    "\n",
    "        self.network = nn.Sequential(*layers)\n",
    "\n",
    "    def forward(self, x):\n",
    "        return self.network(x)\n",
    "    \n",
    "class TCNEnc(nn.Module):\n",
    "    def __init__(self, seq_len=50,num_features=36, num_channels=[20,20,20,4], embedding_size=128, kernel_size=3, dropout=0.3):\n",
    "        super(TCNEnc, self).__init__()\n",
    "        self.seq_len = seq_len\n",
    "        self.num_features = num_features\n",
    "        self.num_channels = num_channels\n",
    "        self.embedding_size = embedding_size\n",
    "        self.kernel_size = kernel_size\n",
    "        self.dropout = dropout\n",
    "\n",
    "        self.tcn = TemporalConvNet(self.seq_len, num_channels=self.num_channels, kernel_size = self.kernel_size, dropout=self.dropout)\n",
    "        self.linear = nn.Linear(self.num_channels[-1]*self.num_features, self.embedding_size)\n",
    "\n",
    "    def forward(self, x):\n",
    "        # x needs to have dimension (N, C, L) in order to be passed into CNN\n",
    "        output = self.tcn(x)\n",
    "        output = torch.flatten(output,start_dim=1)\n",
    "        output = self.linear(output)\n",
    "        return output\n",
    "\n",
    "class TCNDec(nn.Module):\n",
    "    def __init__(self, seq_len=50,num_features=36, num_channels=[20,20,20], embedding_size=128, kernel_size=3, dropout=0.3,encoder_tcn_out=4):\n",
    "        super(TCNDec, self).__init__()\n",
    "        self.seq_len = seq_len\n",
    "        self.num_features = num_features\n",
    "        self.num_channels = num_channels\n",
    "        self.embedding_size = embedding_size\n",
    "        self.kernel_size = kernel_size\n",
    "        self.dropout = dropout\n",
    "        self.encoder_tcn_out =  encoder_tcn_out\n",
    "\n",
    "        self.num_channels.append(seq_len)\n",
    "\n",
    "        self.linear = nn.Linear(self.embedding_size,self.encoder_tcn_out*self.num_features)\n",
    "        self.tcn = TemporalConvNet(self.encoder_tcn_out, num_channels=self.num_channels, kernel_size = self.kernel_size, dropout=self.dropout)\n",
    "\n",
    "    def forward(self, x):\n",
    "        # x needs to have dimension (N, C, L) in order to be passed into CNN\n",
    "        output = self.linear(x)\n",
    "        output = output.view(-1,self.encoder_tcn_out,self.num_features)\n",
    "        output = self.tcn(output)\n",
    "        return output\n",
    "\n",
    "    \n",
    "class TCNEncoderDecoder(nn.Module):\n",
    "    def __init__(self, seq_len=50, num_features=36, num_channels=[20,20,20,4], embedding_size=128, kernel_size=3, dropout=0.3):\n",
    "        super(TCNEncoderDecoder, self).__init__()\n",
    "        self.seq_len = seq_len\n",
    "        self.num_features = num_features\n",
    "        self.num_channels_encoder = num_channels\n",
    "        self.num_channels_decoder = num_channels[::-1][1:]\n",
    "        self.embedding_size = embedding_size\n",
    "        self.kernel_size = kernel_size\n",
    "        self.dropout = dropout   \n",
    "\n",
    "        self.encoder = TCNEnc(\n",
    "            seq_len = self.seq_len,\n",
    "            num_features = self.num_features,\n",
    "            num_channels = self.num_channels_encoder,\n",
    "            embedding_size = self.embedding_size,\n",
    "            kernel_size = self.kernel_size,\n",
    "            dropout = self.dropout)\n",
    "\n",
    "        self.decoder = TCNDec(\n",
    "            seq_len = self.seq_len,\n",
    "            encoder_tcn_out= self.num_channels_encoder[-1],\n",
    "            num_features = self.num_features,\n",
    "            num_channels = self.num_channels_decoder,\n",
    "            embedding_size = self.embedding_size,\n",
    "            kernel_size = self.kernel_size,\n",
    "            dropout = self.dropout)\n",
    "\n",
    "    def forward(self, x):\n",
    "        # x needs to have dimension (N, C, L) in order to be passed into CNN\n",
    "        embedding = self.encoder(x)\n",
    "        output = self.decoder(embedding)\n",
    "        return output, embedding"
   ]
  },
  {
   "cell_type": "code",
   "execution_count": 6,
   "metadata": {},
   "outputs": [
    {
     "data": {
      "text/plain": [
       "==========================================================================================================================================================================\n",
       "Layer (type:depth-idx)                        Input Shape               Output Shape              Param #                   Kernel Shape              Mult-Adds\n",
       "==========================================================================================================================================================================\n",
       "TCNEncoderDecoder                             [32, 50, 36]              [32, 50, 36]              --                        3                         --\n",
       "├─TCNEnc: 1-1                                 [32, 50, 36]              [32, 128]                 --                        3                         --\n",
       "│    └─TemporalConvNet: 2-1                   [32, 50, 36]              [32, 4, 36]               --                        --                        --\n",
       "│    │    └─Sequential: 3-1                   [32, 50, 36]              [32, 4, 36]               44,258                    --                        51,899,136\n",
       "│    └─Linear: 2-2                            [32, 144]                 [32, 128]                 18,560                    --                        593,920\n",
       "├─TCNDec: 1-2                                 [32, 128]                 [32, 50, 36]              --                        3                         --\n",
       "│    └─Linear: 2-3                            [32, 128]                 [32, 144]                 18,576                    --                        594,432\n",
       "│    └─TemporalConvNet: 2-4                   [32, 4, 36]               [32, 50, 36]              --                        --                        --\n",
       "│    │    └─Sequential: 3-2                   [32, 4, 36]               [32, 50, 36]              51,940                    --                        68,216,320\n",
       "==========================================================================================================================================================================\n",
       "Total params: 133,334\n",
       "Trainable params: 133,334\n",
       "Non-trainable params: 0\n",
       "Total mult-adds (M): 121.30\n",
       "==========================================================================================================================================================================\n",
       "Input size (MB): 0.23\n",
       "Forward/backward pass size (MB): 13.35\n",
       "Params size (MB): 0.53\n",
       "Estimated Total Size (MB): 14.11\n",
       "=========================================================================================================================================================================="
      ]
     },
     "execution_count": 6,
     "metadata": {},
     "output_type": "execute_result"
    }
   ],
   "source": [
    "ae_model = TCNEncoderDecoder(seq_len=50, num_features=36, num_channels=[40,40,40,30,20,4], embedding_size=128, kernel_size=3, dropout=0.3)\n",
    "torchinfo.summary(ae_model, input_size=(32, 50, 36), col_names = (\"input_size\", \"output_size\", \"num_params\", \"kernel_size\", \"mult_adds\"))"
   ]
  },
  {
   "cell_type": "code",
   "execution_count": 7,
   "metadata": {},
   "outputs": [
    {
     "data": {
      "text/plain": [
       "<All keys matched successfully>"
      ]
     },
     "execution_count": 7,
     "metadata": {},
     "output_type": "execute_result"
    }
   ],
   "source": [
    "prep_dir = './tmp/epoch150_randsample_input_l1.pt'\n",
    "ae_model.load_state_dict(torch.load(prep_dir))\n"
   ]
  },
  {
   "attachments": {},
   "cell_type": "markdown",
   "metadata": {},
   "source": [
    "---\n",
    "Init Dataset"
   ]
  },
  {
   "cell_type": "code",
   "execution_count": 8,
   "metadata": {},
   "outputs": [],
   "source": [
    "if config['device'] == 'cpu':\n",
    "    device = \"cpu\"\n",
    "else:\n",
    "    device = torch.device(\"cuda:0\" if torch.cuda.is_available() else \"cpu\")"
   ]
  },
  {
   "cell_type": "code",
   "execution_count": 10,
   "metadata": {},
   "outputs": [],
   "source": [
    "skeleton_data = np.load('./data/skeleton_k10_v7_movements.npz')\n",
    "skeleton_classes, skeleton_mov = skeleton_data['arr_0'], skeleton_data['arr_1']"
   ]
  },
  {
   "cell_type": "code",
   "execution_count": 11,
   "metadata": {},
   "outputs": [],
   "source": [
    "label_map = [(1, 'lying'),\n",
    " (2, 'sitting'),\n",
    " (3, 'standing'),\n",
    " (4, 'walking'),\n",
    " (5, 'running'),\n",
    " (6, 'cycling'),\n",
    " (7, 'Nordic walking'),\n",
    " (9, 'watching TV'),\n",
    " (10, 'computer work'),\n",
    " (11, 'car driving'),\n",
    " (12, 'ascending stairs'),\n",
    " (13, 'descending stairs'),\n",
    " (16, 'vacuum cleaning'),\n",
    " (17, 'ironing'),\n",
    " (18, 'folding laundry'),\n",
    " (19, 'house cleaning'),\n",
    " (20, 'playing soccer'),\n",
    " (24, 'rope jumping')]\n",
    "\n",
    " \n",
    "label2Id = {c[1]:i for i,c in enumerate(label_map)}\n",
    "Id2Label = {i:c[1] for i,c in enumerate(label_map)}\n",
    "action_dict = defaultdict(list)\n",
    "skeleton_Ids = []\n",
    "for i, a in enumerate(skeleton_classes):\n",
    "    action_dict[label2Id[a]].append(i)\n",
    "    skeleton_Ids.append(label2Id[a])"
   ]
  },
  {
   "cell_type": "code",
   "execution_count": 12,
   "metadata": {},
   "outputs": [
    {
     "data": {
      "text/plain": [
       "{0: 'lying',\n",
       " 1: 'sitting',\n",
       " 2: 'standing',\n",
       " 3: 'walking',\n",
       " 4: 'running',\n",
       " 5: 'cycling',\n",
       " 6: 'Nordic walking',\n",
       " 7: 'watching TV',\n",
       " 8: 'computer work',\n",
       " 9: 'car driving',\n",
       " 10: 'ascending stairs',\n",
       " 11: 'descending stairs',\n",
       " 12: 'vacuum cleaning',\n",
       " 13: 'ironing',\n",
       " 14: 'folding laundry',\n",
       " 15: 'house cleaning',\n",
       " 16: 'playing soccer',\n",
       " 17: 'rope jumping'}"
      ]
     },
     "execution_count": 12,
     "metadata": {},
     "output_type": "execute_result"
    }
   ],
   "source": [
    "Id2Label"
   ]
  },
  {
   "cell_type": "code",
   "execution_count": 13,
   "metadata": {},
   "outputs": [],
   "source": [
    "class SkeletonDataset(Dataset):\n",
    "    def __init__(self, movements, actions, action_dict, seq_len=60):\n",
    "        super(SkeletonDataset, self).__init__()\n",
    "        self.movements = movements[:, :seq_len, ...]\n",
    "        self.actions = actions\n",
    "        self.action_dict = deepcopy(dict(action_dict))\n",
    "        self.actionsIDs = list(self.action_dict.keys())\n",
    "        \n",
    "\n",
    "    def __getitem__(self, idx):\n",
    "        x1 = self.movements[idx, ...]\n",
    "        action = self.actions[idx]\n",
    "\n",
    "        label = self.actionsIDs.index(action)\n",
    "        # return np.transpose(x1, (1,0,2)), np.transpose(x2, (1,0,2)), label\n",
    "        return x1, label\n",
    "\n",
    "    def __len__(self):\n",
    "        return self.movements.shape[0]\n",
    "\n",
    "    def getShape(self):\n",
    "        return self.movements[0, ...].shape\n"
   ]
  },
  {
   "cell_type": "code",
   "execution_count": 14,
   "metadata": {},
   "outputs": [
    {
     "name": "stdout",
     "output_type": "stream",
     "text": [
      "torch.Size([16, 50, 36])\n"
     ]
    }
   ],
   "source": [
    "sample_dt = SkeletonDataset(skeleton_mov, skeleton_Ids, action_dict, seq_len=50)\n",
    "sample_dl = DataLoader(sample_dt, batch_size=config['batch_size'], shuffle=True, pin_memory=True, drop_last=True)\n",
    "for b in sample_dl:\n",
    "    bx, by = b \n",
    "    # bx = torch.transpose(bx1, 1, 0)\n",
    "    bs, seq_len, ft_in = bx.shape\n",
    "    print(bx.shape)\n",
    "    break "
   ]
  },
  {
   "attachments": {},
   "cell_type": "markdown",
   "metadata": {},
   "source": [
    "---\n",
    "t-SNE before transfer learning"
   ]
  },
  {
   "cell_type": "code",
   "execution_count": 15,
   "metadata": {},
   "outputs": [],
   "source": [
    "vector_pack = []\n",
    "class_pack = []\n",
    "\n",
    "ae_model = ae_model.to(device)\n",
    "\n",
    "for x, y in sample_dl:\n",
    "    _, vector = ae_model(x.float().to(device))\n",
    "    vector_pack.append(vector.detach().cpu().numpy())\n",
    "    class_pack.append(y.numpy())"
   ]
  },
  {
   "cell_type": "code",
   "execution_count": 16,
   "metadata": {},
   "outputs": [],
   "source": [
    "all_vectors = np.concatenate(vector_pack)\n",
    "all_actions = np.concatenate(class_pack)"
   ]
  },
  {
   "cell_type": "code",
   "execution_count": 17,
   "metadata": {},
   "outputs": [
    {
     "data": {
      "text/plain": [
       "((176, 128), (176,))"
      ]
     },
     "execution_count": 17,
     "metadata": {},
     "output_type": "execute_result"
    }
   ],
   "source": [
    "all_vectors.shape, all_actions.shape"
   ]
  },
  {
   "cell_type": "code",
   "execution_count": 34,
   "metadata": {},
   "outputs": [],
   "source": [
    "tnse = TSNE(n_components=2, init='random', learning_rate='auto', perplexity=15, n_iter=1000)\n",
    "cmp_data = tnse.fit_transform(all_vectors)"
   ]
  },
  {
   "cell_type": "code",
   "execution_count": 35,
   "metadata": {},
   "outputs": [
    {
     "data": {
      "text/html": [
       "<div>\n",
       "<style scoped>\n",
       "    .dataframe tbody tr th:only-of-type {\n",
       "        vertical-align: middle;\n",
       "    }\n",
       "\n",
       "    .dataframe tbody tr th {\n",
       "        vertical-align: top;\n",
       "    }\n",
       "\n",
       "    .dataframe thead th {\n",
       "        text-align: right;\n",
       "    }\n",
       "</style>\n",
       "<table border=\"1\" class=\"dataframe\">\n",
       "  <thead>\n",
       "    <tr style=\"text-align: right;\">\n",
       "      <th></th>\n",
       "      <th>x</th>\n",
       "      <th>y</th>\n",
       "      <th>label</th>\n",
       "      <th>action</th>\n",
       "    </tr>\n",
       "  </thead>\n",
       "  <tbody>\n",
       "    <tr>\n",
       "      <th>0</th>\n",
       "      <td>1.633858</td>\n",
       "      <td>-3.739381</td>\n",
       "      <td>14</td>\n",
       "      <td>folding laundry</td>\n",
       "    </tr>\n",
       "    <tr>\n",
       "      <th>1</th>\n",
       "      <td>10.531478</td>\n",
       "      <td>-18.969055</td>\n",
       "      <td>14</td>\n",
       "      <td>folding laundry</td>\n",
       "    </tr>\n",
       "    <tr>\n",
       "      <th>2</th>\n",
       "      <td>-8.868610</td>\n",
       "      <td>-10.061483</td>\n",
       "      <td>5</td>\n",
       "      <td>cycling</td>\n",
       "    </tr>\n",
       "    <tr>\n",
       "      <th>3</th>\n",
       "      <td>-23.589127</td>\n",
       "      <td>9.312789</td>\n",
       "      <td>8</td>\n",
       "      <td>computer work</td>\n",
       "    </tr>\n",
       "    <tr>\n",
       "      <th>4</th>\n",
       "      <td>14.413361</td>\n",
       "      <td>0.163391</td>\n",
       "      <td>16</td>\n",
       "      <td>playing soccer</td>\n",
       "    </tr>\n",
       "  </tbody>\n",
       "</table>\n",
       "</div>"
      ],
      "text/plain": [
       "           x          y  label           action\n",
       "0   1.633858  -3.739381     14  folding laundry\n",
       "1  10.531478 -18.969055     14  folding laundry\n",
       "2  -8.868610 -10.061483      5          cycling\n",
       "3 -23.589127   9.312789      8    computer work\n",
       "4  14.413361   0.163391     16   playing soccer"
      ]
     },
     "execution_count": 35,
     "metadata": {},
     "output_type": "execute_result"
    }
   ],
   "source": [
    "cmp_df = pd.DataFrame(data=cmp_data, columns=['x', 'y'])\n",
    "cmp_df['label'] = all_actions\n",
    "cmp_df['action'] = cmp_df['label'].map(Id2Label)\n",
    "\n",
    "cmp_df.head()"
   ]
  },
  {
   "cell_type": "code",
   "execution_count": 20,
   "metadata": {},
   "outputs": [],
   "source": [
    "def tsne_simulate(model, dl, class_map):\n",
    "    vector_pack = []\n",
    "    class_pack = []\n",
    "\n",
    "    model = model.to(device)\n",
    "\n",
    "    for x, y in dl:\n",
    "        _, vector = model(x.float().to(device))\n",
    "        vector_pack.append(vector.detach().cpu().numpy())\n",
    "        class_pack.append(y.numpy())\n",
    "\n",
    "    all_vectors = np.concatenate(vector_pack)\n",
    "    all_actions = np.concatenate(class_pack)\n",
    "\n",
    "    tnse = TSNE(n_components=2, init='random', learning_rate='auto', perplexity=15, n_iter=1000)\n",
    "    cmp_data = tnse.fit_transform(all_vectors)\n",
    "\n",
    "    cmp_df = pd.DataFrame(data=cmp_data, columns=['x', 'y'])\n",
    "    cmp_df['label'] = all_actions\n",
    "    cmp_df['action'] = cmp_df['label'].map(class_map)\n",
    "\n",
    "    fig = px.scatter(cmp_df, x='x', y='y', color='action', width=800, height=800)\n",
    "    fig.show()"
   ]
  },
  {
   "cell_type": "code",
   "execution_count": 45,
   "metadata": {},
   "outputs": [],
   "source": [
    "def umap_simulate(model, dl, class_map):\n",
    "    vector_pack = []\n",
    "    class_pack = []\n",
    "\n",
    "    model = model.to(device)\n",
    "\n",
    "    for x, y in dl:\n",
    "        _, vector = model(x.float().to(device))\n",
    "        vector_pack.append(vector.detach().cpu().numpy())\n",
    "        class_pack.append(y.numpy())\n",
    "\n",
    "    all_vectors = np.concatenate(vector_pack)\n",
    "    all_actions = np.concatenate(class_pack)\n",
    "\n",
    "    tnse = UMAP(n_components=2, n_neighbors=5)\n",
    "    cmp_data = tnse.fit_transform(all_vectors)\n",
    "\n",
    "    cmp_df = pd.DataFrame(data=cmp_data, columns=['x', 'y'])\n",
    "    cmp_df['label'] = all_actions\n",
    "    cmp_df['action'] = cmp_df['label'].map(class_map)\n",
    "\n",
    "    fig = px.scatter(cmp_df, x='x', y='y', color='action', width=800, height=800)\n",
    "    fig.show()"
   ]
  },
  {
   "cell_type": "code",
   "execution_count": 36,
   "metadata": {},
   "outputs": [
    {
     "data": {
      "application/vnd.plotly.v1+json": {
       "config": {
        "plotlyServerURL": "https://plot.ly"
       },
       "data": [
        {
         "hoverlabel": {
          "namelength": 0
         },
         "hovertemplate": "action=folding laundry<br>x=%{x}<br>y=%{y}",
         "legendgroup": "action=folding laundry",
         "marker": {
          "color": "#636efa",
          "symbol": "circle"
         },
         "mode": "markers",
         "name": "action=folding laundry",
         "showlegend": true,
         "type": "scatter",
         "x": [
          1.6338584423065186,
          10.531477928161621,
          7.82689905166626,
          10.11565113067627,
          2.1623682975769043,
          1.2389612197875977,
          -2.593761920928955,
          10.052486419677734,
          8.956828117370605,
          7.701358795166016
         ],
         "xaxis": "x",
         "y": [
          -3.7393813133239746,
          -18.96905517578125,
          -15.674229621887207,
          15.130297660827637,
          -6.03218412399292,
          -1.6526960134506226,
          3.3884315490722656,
          15.139557838439941,
          -11.66649341583252,
          -14.6558256149292
         ],
         "yaxis": "y"
        },
        {
         "hoverlabel": {
          "namelength": 0
         },
         "hovertemplate": "action=cycling<br>x=%{x}<br>y=%{y}",
         "legendgroup": "action=cycling",
         "marker": {
          "color": "#EF553B",
          "symbol": "circle"
         },
         "mode": "markers",
         "name": "action=cycling",
         "showlegend": true,
         "type": "scatter",
         "x": [
          -8.868610382080078,
          -8.983318328857422,
          1.176207423210144,
          11.668143272399902,
          -4.947202682495117,
          -4.221177101135254,
          1.4915924072265625,
          -7.6374993324279785,
          -8.799766540527344,
          -8.69666576385498
         ],
         "xaxis": "x",
         "y": [
          -10.061483383178711,
          -8.308198928833008,
          -12.613142967224121,
          10.09122085571289,
          13.396444320678711,
          13.081925392150879,
          -11.854230880737305,
          -4.038206577301025,
          -10.582388877868652,
          -7.857100009918213
         ],
         "yaxis": "y"
        },
        {
         "hoverlabel": {
          "namelength": 0
         },
         "hovertemplate": "action=computer work<br>x=%{x}<br>y=%{y}",
         "legendgroup": "action=computer work",
         "marker": {
          "color": "#00cc96",
          "symbol": "circle"
         },
         "mode": "markers",
         "name": "action=computer work",
         "showlegend": true,
         "type": "scatter",
         "x": [
          -23.589126586914062,
          -12.90631103515625,
          10.964024543762207,
          6.392247200012207,
          10.42357063293457,
          5.76108980178833,
          5.887593746185303,
          -12.952360153198242,
          6.473346710205078,
          -23.588319778442383
         ],
         "xaxis": "x",
         "y": [
          9.312788963317871,
          0.7709512710571289,
          2.5022876262664795,
          0.2307605743408203,
          4.866429805755615,
          0.34433192014694214,
          0.8326752185821533,
          0.7007025480270386,
          -2.67531156539917,
          9.316609382629395
         ],
         "yaxis": "y"
        },
        {
         "hoverlabel": {
          "namelength": 0
         },
         "hovertemplate": "action=playing soccer<br>x=%{x}<br>y=%{y}",
         "legendgroup": "action=playing soccer",
         "marker": {
          "color": "#ab63fa",
          "symbol": "circle"
         },
         "mode": "markers",
         "name": "action=playing soccer",
         "showlegend": true,
         "type": "scatter",
         "x": [
          14.413360595703125,
          -7.630636215209961,
          -0.7697044014930725,
          13.856284141540527,
          -5.621370792388916,
          6.022944927215576,
          17.723142623901367,
          -7.424938201904297,
          -6.499640464782715,
          -2.4788708686828613
         ],
         "xaxis": "x",
         "y": [
          0.16339123249053955,
          7.894597053527832,
          -5.179444789886475,
          0.6421342492103577,
          4.705302715301514,
          -4.816593647003174,
          -1.2555409669876099,
          17.827913284301758,
          17.357961654663086,
          -6.8205790519714355
         ],
         "yaxis": "y"
        },
        {
         "hoverlabel": {
          "namelength": 0
         },
         "hovertemplate": "action=lying<br>x=%{x}<br>y=%{y}",
         "legendgroup": "action=lying",
         "marker": {
          "color": "#FFA15A",
          "symbol": "circle"
         },
         "mode": "markers",
         "name": "action=lying",
         "showlegend": true,
         "type": "scatter",
         "x": [
          9.916701316833496,
          -7.502723217010498,
          7.017249584197998,
          0.21151456236839294,
          12.691349029541016,
          -1.2093408107757568,
          -6.558860778808594,
          -6.9647626876831055,
          -3.26672625541687,
          -0.3341102600097656
         ],
         "xaxis": "x",
         "y": [
          -5.341986179351807,
          9.194609642028809,
          -5.988187313079834,
          -7.617595195770264,
          1.2413058280944824,
          -6.185656547546387,
          18.501956939697266,
          8.281044960021973,
          -0.8774128556251526,
          -5.632380962371826
         ],
         "yaxis": "y"
        },
        {
         "hoverlabel": {
          "namelength": 0
         },
         "hovertemplate": "action=watching TV<br>x=%{x}<br>y=%{y}",
         "legendgroup": "action=watching TV",
         "marker": {
          "color": "#19d3f3",
          "symbol": "circle"
         },
         "mode": "markers",
         "name": "action=watching TV",
         "showlegend": true,
         "type": "scatter",
         "x": [
          11.278739929199219,
          -1.3863177299499512,
          9.83208179473877,
          6.5278639793396,
          11.047550201416016,
          11.963613510131836,
          8.772209167480469,
          12.154388427734375,
          -8.654090881347656,
          8.980986595153809
         ],
         "xaxis": "x",
         "y": [
          15.966733932495117,
          -10.817710876464844,
          -13.43843936920166,
          -16.304868698120117,
          -17.312597274780273,
          16.249794006347656,
          -14.283353805541992,
          -15.334244728088379,
          15.377103805541992,
          -13.898924827575684
         ],
         "yaxis": "y"
        },
        {
         "hoverlabel": {
          "namelength": 0
         },
         "hovertemplate": "action=ironing<br>x=%{x}<br>y=%{y}",
         "legendgroup": "action=ironing",
         "marker": {
          "color": "#FF6692",
          "symbol": "circle"
         },
         "mode": "markers",
         "name": "action=ironing",
         "showlegend": true,
         "type": "scatter",
         "x": [
          2.147914171218872,
          -4.387682914733887,
          11.926484107971191,
          11.423434257507324,
          13.72171688079834,
          17.0255069732666,
          1.2083410024642944,
          2.307063341140747,
          10.638633728027344,
          16.98233413696289
         ],
         "xaxis": "x",
         "y": [
          -4.378272533416748,
          -5.3563337326049805,
          -5.443660736083984,
          -6.398520469665527,
          -12.302628517150879,
          5.768143177032471,
          -1.2356230020523071,
          -3.5266828536987305,
          -7.868370056152344,
          5.930231094360352
         ],
         "yaxis": "y"
        },
        {
         "hoverlabel": {
          "namelength": 0
         },
         "hovertemplate": "action=car driving<br>x=%{x}<br>y=%{y}",
         "legendgroup": "action=car driving",
         "marker": {
          "color": "#B6E880",
          "symbol": "circle"
         },
         "mode": "markers",
         "name": "action=car driving",
         "showlegend": true,
         "type": "scatter",
         "x": [
          -2.1647849082946777,
          -17.1634521484375,
          -14.20299243927002,
          -14.857599258422852,
          -13.56908130645752,
          -6.611886501312256,
          1.5760717391967773,
          -4.012430667877197,
          -14.214205741882324,
          -9.635159492492676
         ],
         "xaxis": "x",
         "y": [
          7.124142169952393,
          8.788345336914062,
          13.574767112731934,
          14.172805786132812,
          14.425156593322754,
          6.895585060119629,
          9.83901596069336,
          4.848603248596191,
          8.069829940795898,
          9.022543907165527
         ],
         "yaxis": "y"
        },
        {
         "hoverlabel": {
          "namelength": 0
         },
         "hovertemplate": "action=running<br>x=%{x}<br>y=%{y}",
         "legendgroup": "action=running",
         "marker": {
          "color": "#FF97FF",
          "symbol": "circle"
         },
         "mode": "markers",
         "name": "action=running",
         "showlegend": true,
         "type": "scatter",
         "x": [
          2.621363878250122,
          -9.754695892333984,
          -11.22546100616455,
          -7.367841720581055,
          -8.626140594482422,
          -10.581696510314941,
          15.646143913269043,
          -10.149797439575195,
          -8.163591384887695,
          -6.734233379364014
         ],
         "xaxis": "x",
         "y": [
          12.28335952758789,
          15.415249824523926,
          18.047876358032227,
          12.362930297851562,
          14.072762489318848,
          18.42995834350586,
          -1.8065154552459717,
          16.33141326904297,
          14.006702423095703,
          16.422460556030273
         ],
         "yaxis": "y"
        },
        {
         "hoverlabel": {
          "namelength": 0
         },
         "hovertemplate": "action=walking<br>x=%{x}<br>y=%{y}",
         "legendgroup": "action=walking",
         "marker": {
          "color": "#FECB52",
          "symbol": "circle"
         },
         "mode": "markers",
         "name": "action=walking",
         "showlegend": true,
         "type": "scatter",
         "x": [
          -2.853494644165039,
          14.312056541442871,
          16.530752182006836,
          -1.8491158485412598,
          -10.460901260375977,
          -0.6432924270629883,
          -5.255679607391357,
          -3.8341145515441895,
          -7.226219654083252
         ],
         "xaxis": "x",
         "y": [
          -8.83481502532959,
          2.333087682723999,
          -0.5836595892906189,
          -9.428428649902344,
          10.32569694519043,
          6.8862104415893555,
          5.732584476470947,
          -0.8272020816802979,
          14.70339584350586
         ],
         "yaxis": "y"
        },
        {
         "hoverlabel": {
          "namelength": 0
         },
         "hovertemplate": "action=Nordic walking<br>x=%{x}<br>y=%{y}",
         "legendgroup": "action=Nordic walking",
         "marker": {
          "color": "#636efa",
          "symbol": "circle"
         },
         "mode": "markers",
         "name": "action=Nordic walking",
         "showlegend": true,
         "type": "scatter",
         "x": [
          -4.398378849029541,
          -10.619036674499512,
          -10.088479042053223,
          -9.266891479492188,
          7.1655378341674805,
          -8.499384880065918,
          17.591915130615234,
          11.702362060546875,
          11.06828498840332
         ],
         "xaxis": "x",
         "y": [
          17.567781448364258,
          3.316248655319214,
          2.5065886974334717,
          1.894471287727356,
          -7.698371410369873,
          6.4822564125061035,
          1.1988000869750977,
          -1.6151044368743896,
          -1.5426712036132812
         ],
         "yaxis": "y"
        },
        {
         "hoverlabel": {
          "namelength": 0
         },
         "hovertemplate": "action=descending stairs<br>x=%{x}<br>y=%{y}",
         "legendgroup": "action=descending stairs",
         "marker": {
          "color": "#EF553B",
          "symbol": "circle"
         },
         "mode": "markers",
         "name": "action=descending stairs",
         "showlegend": true,
         "type": "scatter",
         "x": [
          -1.2816271781921387,
          1.280089259147644,
          -0.5940414071083069,
          -0.6445204615592957,
          0.5394105911254883,
          -0.06478136032819748,
          0.1062479019165039,
          0.7028660178184509,
          0.28676894307136536
         ],
         "xaxis": "x",
         "y": [
          10.175572395324707,
          5.736289978027344,
          8.646416664123535,
          11.942803382873535,
          13.452631950378418,
          14.126033782958984,
          10.349720001220703,
          11.041023254394531,
          12.337533950805664
         ],
         "yaxis": "y"
        },
        {
         "hoverlabel": {
          "namelength": 0
         },
         "hovertemplate": "action=standing<br>x=%{x}<br>y=%{y}",
         "legendgroup": "action=standing",
         "marker": {
          "color": "#00cc96",
          "symbol": "circle"
         },
         "mode": "markers",
         "name": "action=standing",
         "showlegend": true,
         "type": "scatter",
         "x": [
          -0.3492017984390259,
          12.917325019836426,
          13.529218673706055,
          5.936583995819092,
          6.000779151916504,
          13.489428520202637,
          12.127121925354004,
          6.855409145355225,
          3.0547192096710205,
          4.8504557609558105
         ],
         "xaxis": "x",
         "y": [
          -9.406990051269531,
          -18.091123580932617,
          -5.281032562255859,
          -19.973108291625977,
          -20.6630802154541,
          -5.200590133666992,
          -17.411514282226562,
          -20.556358337402344,
          -7.652005195617676,
          -19.619510650634766
         ],
         "yaxis": "y"
        },
        {
         "hoverlabel": {
          "namelength": 0
         },
         "hovertemplate": "action=ascending stairs<br>x=%{x}<br>y=%{y}",
         "legendgroup": "action=ascending stairs",
         "marker": {
          "color": "#ab63fa",
          "symbol": "circle"
         },
         "mode": "markers",
         "name": "action=ascending stairs",
         "showlegend": true,
         "type": "scatter",
         "x": [
          18.772550582885742,
          -4.131657600402832,
          -4.372870445251465,
          -19.01058578491211,
          -3.973379373550415,
          -18.158672332763672,
          -13.193136215209961,
          17.254741668701172,
          -4.055516242980957,
          3.8624932765960693
         ],
         "xaxis": "x",
         "y": [
          -2.0233802795410156,
          -11.78276538848877,
          -8.78821086883545,
          10.954540252685547,
          -13.327998161315918,
          13.468737602233887,
          17.245532989501953,
          -0.015786970034241676,
          -9.631796836853027,
          6.488522529602051
         ],
         "yaxis": "y"
        },
        {
         "hoverlabel": {
          "namelength": 0
         },
         "hovertemplate": "action=sitting<br>x=%{x}<br>y=%{y}",
         "legendgroup": "action=sitting",
         "marker": {
          "color": "#FFA15A",
          "symbol": "circle"
         },
         "mode": "markers",
         "name": "action=sitting",
         "showlegend": true,
         "type": "scatter",
         "x": [
          10.105278015136719,
          21.005157470703125,
          11.475706100463867,
          19.991491317749023,
          20.79892921447754,
          -6.099981307983398,
          4.570043087005615,
          9.844667434692383,
          11.260574340820312
         ],
         "xaxis": "x",
         "y": [
          13.317320823669434,
          1.3113672733306885,
          11.463797569274902,
          1.5703402757644653,
          0.5850143432617188,
          9.62405776977539,
          -8.453527450561523,
          4.62600040435791,
          11.883230209350586
         ],
         "yaxis": "y"
        },
        {
         "hoverlabel": {
          "namelength": 0
         },
         "hovertemplate": "action=house cleaning<br>x=%{x}<br>y=%{y}",
         "legendgroup": "action=house cleaning",
         "marker": {
          "color": "#19d3f3",
          "symbol": "circle"
         },
         "mode": "markers",
         "name": "action=house cleaning",
         "showlegend": true,
         "type": "scatter",
         "x": [
          -1.5273370742797852,
          -2.2250332832336426,
          -1.4165619611740112,
          -2.1126952171325684,
          -15.853732109069824,
          -10.196393013000488,
          -17.15860939025879,
          -11.64969539642334,
          -2.954942226409912,
          -17.622562408447266
         ],
         "xaxis": "x",
         "y": [
          -2.439976215362549,
          -4.044857025146484,
          6.482370853424072,
          10.639445304870605,
          13.738052368164062,
          13.878626823425293,
          10.207135200500488,
          13.662288665771484,
          -4.5799713134765625,
          10.150871276855469
         ],
         "yaxis": "y"
        },
        {
         "hoverlabel": {
          "namelength": 0
         },
         "hovertemplate": "action=rope jumping<br>x=%{x}<br>y=%{y}",
         "legendgroup": "action=rope jumping",
         "marker": {
          "color": "#FF6692",
          "symbol": "circle"
         },
         "mode": "markers",
         "name": "action=rope jumping",
         "showlegend": true,
         "type": "scatter",
         "x": [
          11.518122673034668,
          18.40160369873047,
          0.8135733604431152,
          9.047046661376953,
          11.123786926269531,
          18.924551010131836,
          1.1557912826538086,
          1.6466295719146729,
          10.15267276763916,
          -3.2163474559783936
         ],
         "xaxis": "x",
         "y": [
          5.503586292266846,
          -3.6789419651031494,
          3.2368712425231934,
          -15.801019668579102,
          -15.648490905761719,
          -3.513201951980591,
          1.5280871391296387,
          0.7849506735801697,
          -10.127584457397461,
          8.174416542053223
         ],
         "yaxis": "y"
        },
        {
         "hoverlabel": {
          "namelength": 0
         },
         "hovertemplate": "action=vacuum cleaning<br>x=%{x}<br>y=%{y}",
         "legendgroup": "action=vacuum cleaning",
         "marker": {
          "color": "#B6E880",
          "symbol": "circle"
         },
         "mode": "markers",
         "name": "action=vacuum cleaning",
         "showlegend": true,
         "type": "scatter",
         "x": [
          2.663285970687866,
          -11.410872459411621,
          -18.615203857421875,
          -3.8660659790039062,
          6.220513820648193,
          -3.8504419326782227,
          -15.57363224029541,
          16.71273422241211,
          -16.944124221801758,
          -15.324645042419434
         ],
         "xaxis": "x",
         "y": [
          9.942852020263672,
          16.253684997558594,
          7.650530815124512,
          -5.515921115875244,
          -6.272213459014893,
          -6.735555648803711,
          7.501919269561768,
          -1.7652766704559326,
          12.745550155639648,
          6.984958648681641
         ],
         "yaxis": "y"
        }
       ],
       "layout": {
        "height": 800,
        "legend": {
         "tracegroupgap": 0
        },
        "margin": {
         "t": 60
        },
        "template": {
         "data": {
          "bar": [
           {
            "error_x": {
             "color": "#2a3f5f"
            },
            "error_y": {
             "color": "#2a3f5f"
            },
            "marker": {
             "line": {
              "color": "#E5ECF6",
              "width": 0.5
             }
            },
            "type": "bar"
           }
          ],
          "barpolar": [
           {
            "marker": {
             "line": {
              "color": "#E5ECF6",
              "width": 0.5
             }
            },
            "type": "barpolar"
           }
          ],
          "carpet": [
           {
            "aaxis": {
             "endlinecolor": "#2a3f5f",
             "gridcolor": "white",
             "linecolor": "white",
             "minorgridcolor": "white",
             "startlinecolor": "#2a3f5f"
            },
            "baxis": {
             "endlinecolor": "#2a3f5f",
             "gridcolor": "white",
             "linecolor": "white",
             "minorgridcolor": "white",
             "startlinecolor": "#2a3f5f"
            },
            "type": "carpet"
           }
          ],
          "choropleth": [
           {
            "colorbar": {
             "outlinewidth": 0,
             "ticks": ""
            },
            "type": "choropleth"
           }
          ],
          "contour": [
           {
            "colorbar": {
             "outlinewidth": 0,
             "ticks": ""
            },
            "colorscale": [
             [
              0,
              "#0d0887"
             ],
             [
              0.1111111111111111,
              "#46039f"
             ],
             [
              0.2222222222222222,
              "#7201a8"
             ],
             [
              0.3333333333333333,
              "#9c179e"
             ],
             [
              0.4444444444444444,
              "#bd3786"
             ],
             [
              0.5555555555555556,
              "#d8576b"
             ],
             [
              0.6666666666666666,
              "#ed7953"
             ],
             [
              0.7777777777777778,
              "#fb9f3a"
             ],
             [
              0.8888888888888888,
              "#fdca26"
             ],
             [
              1,
              "#f0f921"
             ]
            ],
            "type": "contour"
           }
          ],
          "contourcarpet": [
           {
            "colorbar": {
             "outlinewidth": 0,
             "ticks": ""
            },
            "type": "contourcarpet"
           }
          ],
          "heatmap": [
           {
            "colorbar": {
             "outlinewidth": 0,
             "ticks": ""
            },
            "colorscale": [
             [
              0,
              "#0d0887"
             ],
             [
              0.1111111111111111,
              "#46039f"
             ],
             [
              0.2222222222222222,
              "#7201a8"
             ],
             [
              0.3333333333333333,
              "#9c179e"
             ],
             [
              0.4444444444444444,
              "#bd3786"
             ],
             [
              0.5555555555555556,
              "#d8576b"
             ],
             [
              0.6666666666666666,
              "#ed7953"
             ],
             [
              0.7777777777777778,
              "#fb9f3a"
             ],
             [
              0.8888888888888888,
              "#fdca26"
             ],
             [
              1,
              "#f0f921"
             ]
            ],
            "type": "heatmap"
           }
          ],
          "heatmapgl": [
           {
            "colorbar": {
             "outlinewidth": 0,
             "ticks": ""
            },
            "colorscale": [
             [
              0,
              "#0d0887"
             ],
             [
              0.1111111111111111,
              "#46039f"
             ],
             [
              0.2222222222222222,
              "#7201a8"
             ],
             [
              0.3333333333333333,
              "#9c179e"
             ],
             [
              0.4444444444444444,
              "#bd3786"
             ],
             [
              0.5555555555555556,
              "#d8576b"
             ],
             [
              0.6666666666666666,
              "#ed7953"
             ],
             [
              0.7777777777777778,
              "#fb9f3a"
             ],
             [
              0.8888888888888888,
              "#fdca26"
             ],
             [
              1,
              "#f0f921"
             ]
            ],
            "type": "heatmapgl"
           }
          ],
          "histogram": [
           {
            "marker": {
             "colorbar": {
              "outlinewidth": 0,
              "ticks": ""
             }
            },
            "type": "histogram"
           }
          ],
          "histogram2d": [
           {
            "colorbar": {
             "outlinewidth": 0,
             "ticks": ""
            },
            "colorscale": [
             [
              0,
              "#0d0887"
             ],
             [
              0.1111111111111111,
              "#46039f"
             ],
             [
              0.2222222222222222,
              "#7201a8"
             ],
             [
              0.3333333333333333,
              "#9c179e"
             ],
             [
              0.4444444444444444,
              "#bd3786"
             ],
             [
              0.5555555555555556,
              "#d8576b"
             ],
             [
              0.6666666666666666,
              "#ed7953"
             ],
             [
              0.7777777777777778,
              "#fb9f3a"
             ],
             [
              0.8888888888888888,
              "#fdca26"
             ],
             [
              1,
              "#f0f921"
             ]
            ],
            "type": "histogram2d"
           }
          ],
          "histogram2dcontour": [
           {
            "colorbar": {
             "outlinewidth": 0,
             "ticks": ""
            },
            "colorscale": [
             [
              0,
              "#0d0887"
             ],
             [
              0.1111111111111111,
              "#46039f"
             ],
             [
              0.2222222222222222,
              "#7201a8"
             ],
             [
              0.3333333333333333,
              "#9c179e"
             ],
             [
              0.4444444444444444,
              "#bd3786"
             ],
             [
              0.5555555555555556,
              "#d8576b"
             ],
             [
              0.6666666666666666,
              "#ed7953"
             ],
             [
              0.7777777777777778,
              "#fb9f3a"
             ],
             [
              0.8888888888888888,
              "#fdca26"
             ],
             [
              1,
              "#f0f921"
             ]
            ],
            "type": "histogram2dcontour"
           }
          ],
          "mesh3d": [
           {
            "colorbar": {
             "outlinewidth": 0,
             "ticks": ""
            },
            "type": "mesh3d"
           }
          ],
          "parcoords": [
           {
            "line": {
             "colorbar": {
              "outlinewidth": 0,
              "ticks": ""
             }
            },
            "type": "parcoords"
           }
          ],
          "pie": [
           {
            "automargin": true,
            "type": "pie"
           }
          ],
          "scatter": [
           {
            "marker": {
             "colorbar": {
              "outlinewidth": 0,
              "ticks": ""
             }
            },
            "type": "scatter"
           }
          ],
          "scatter3d": [
           {
            "line": {
             "colorbar": {
              "outlinewidth": 0,
              "ticks": ""
             }
            },
            "marker": {
             "colorbar": {
              "outlinewidth": 0,
              "ticks": ""
             }
            },
            "type": "scatter3d"
           }
          ],
          "scattercarpet": [
           {
            "marker": {
             "colorbar": {
              "outlinewidth": 0,
              "ticks": ""
             }
            },
            "type": "scattercarpet"
           }
          ],
          "scattergeo": [
           {
            "marker": {
             "colorbar": {
              "outlinewidth": 0,
              "ticks": ""
             }
            },
            "type": "scattergeo"
           }
          ],
          "scattergl": [
           {
            "marker": {
             "colorbar": {
              "outlinewidth": 0,
              "ticks": ""
             }
            },
            "type": "scattergl"
           }
          ],
          "scattermapbox": [
           {
            "marker": {
             "colorbar": {
              "outlinewidth": 0,
              "ticks": ""
             }
            },
            "type": "scattermapbox"
           }
          ],
          "scatterpolar": [
           {
            "marker": {
             "colorbar": {
              "outlinewidth": 0,
              "ticks": ""
             }
            },
            "type": "scatterpolar"
           }
          ],
          "scatterpolargl": [
           {
            "marker": {
             "colorbar": {
              "outlinewidth": 0,
              "ticks": ""
             }
            },
            "type": "scatterpolargl"
           }
          ],
          "scatterternary": [
           {
            "marker": {
             "colorbar": {
              "outlinewidth": 0,
              "ticks": ""
             }
            },
            "type": "scatterternary"
           }
          ],
          "surface": [
           {
            "colorbar": {
             "outlinewidth": 0,
             "ticks": ""
            },
            "colorscale": [
             [
              0,
              "#0d0887"
             ],
             [
              0.1111111111111111,
              "#46039f"
             ],
             [
              0.2222222222222222,
              "#7201a8"
             ],
             [
              0.3333333333333333,
              "#9c179e"
             ],
             [
              0.4444444444444444,
              "#bd3786"
             ],
             [
              0.5555555555555556,
              "#d8576b"
             ],
             [
              0.6666666666666666,
              "#ed7953"
             ],
             [
              0.7777777777777778,
              "#fb9f3a"
             ],
             [
              0.8888888888888888,
              "#fdca26"
             ],
             [
              1,
              "#f0f921"
             ]
            ],
            "type": "surface"
           }
          ],
          "table": [
           {
            "cells": {
             "fill": {
              "color": "#EBF0F8"
             },
             "line": {
              "color": "white"
             }
            },
            "header": {
             "fill": {
              "color": "#C8D4E3"
             },
             "line": {
              "color": "white"
             }
            },
            "type": "table"
           }
          ]
         },
         "layout": {
          "annotationdefaults": {
           "arrowcolor": "#2a3f5f",
           "arrowhead": 0,
           "arrowwidth": 1
          },
          "coloraxis": {
           "colorbar": {
            "outlinewidth": 0,
            "ticks": ""
           }
          },
          "colorscale": {
           "diverging": [
            [
             0,
             "#8e0152"
            ],
            [
             0.1,
             "#c51b7d"
            ],
            [
             0.2,
             "#de77ae"
            ],
            [
             0.3,
             "#f1b6da"
            ],
            [
             0.4,
             "#fde0ef"
            ],
            [
             0.5,
             "#f7f7f7"
            ],
            [
             0.6,
             "#e6f5d0"
            ],
            [
             0.7,
             "#b8e186"
            ],
            [
             0.8,
             "#7fbc41"
            ],
            [
             0.9,
             "#4d9221"
            ],
            [
             1,
             "#276419"
            ]
           ],
           "sequential": [
            [
             0,
             "#0d0887"
            ],
            [
             0.1111111111111111,
             "#46039f"
            ],
            [
             0.2222222222222222,
             "#7201a8"
            ],
            [
             0.3333333333333333,
             "#9c179e"
            ],
            [
             0.4444444444444444,
             "#bd3786"
            ],
            [
             0.5555555555555556,
             "#d8576b"
            ],
            [
             0.6666666666666666,
             "#ed7953"
            ],
            [
             0.7777777777777778,
             "#fb9f3a"
            ],
            [
             0.8888888888888888,
             "#fdca26"
            ],
            [
             1,
             "#f0f921"
            ]
           ],
           "sequentialminus": [
            [
             0,
             "#0d0887"
            ],
            [
             0.1111111111111111,
             "#46039f"
            ],
            [
             0.2222222222222222,
             "#7201a8"
            ],
            [
             0.3333333333333333,
             "#9c179e"
            ],
            [
             0.4444444444444444,
             "#bd3786"
            ],
            [
             0.5555555555555556,
             "#d8576b"
            ],
            [
             0.6666666666666666,
             "#ed7953"
            ],
            [
             0.7777777777777778,
             "#fb9f3a"
            ],
            [
             0.8888888888888888,
             "#fdca26"
            ],
            [
             1,
             "#f0f921"
            ]
           ]
          },
          "colorway": [
           "#636efa",
           "#EF553B",
           "#00cc96",
           "#ab63fa",
           "#FFA15A",
           "#19d3f3",
           "#FF6692",
           "#B6E880",
           "#FF97FF",
           "#FECB52"
          ],
          "font": {
           "color": "#2a3f5f"
          },
          "geo": {
           "bgcolor": "white",
           "lakecolor": "white",
           "landcolor": "#E5ECF6",
           "showlakes": true,
           "showland": true,
           "subunitcolor": "white"
          },
          "hoverlabel": {
           "align": "left"
          },
          "hovermode": "closest",
          "mapbox": {
           "style": "light"
          },
          "paper_bgcolor": "white",
          "plot_bgcolor": "#E5ECF6",
          "polar": {
           "angularaxis": {
            "gridcolor": "white",
            "linecolor": "white",
            "ticks": ""
           },
           "bgcolor": "#E5ECF6",
           "radialaxis": {
            "gridcolor": "white",
            "linecolor": "white",
            "ticks": ""
           }
          },
          "scene": {
           "xaxis": {
            "backgroundcolor": "#E5ECF6",
            "gridcolor": "white",
            "gridwidth": 2,
            "linecolor": "white",
            "showbackground": true,
            "ticks": "",
            "zerolinecolor": "white"
           },
           "yaxis": {
            "backgroundcolor": "#E5ECF6",
            "gridcolor": "white",
            "gridwidth": 2,
            "linecolor": "white",
            "showbackground": true,
            "ticks": "",
            "zerolinecolor": "white"
           },
           "zaxis": {
            "backgroundcolor": "#E5ECF6",
            "gridcolor": "white",
            "gridwidth": 2,
            "linecolor": "white",
            "showbackground": true,
            "ticks": "",
            "zerolinecolor": "white"
           }
          },
          "shapedefaults": {
           "line": {
            "color": "#2a3f5f"
           }
          },
          "ternary": {
           "aaxis": {
            "gridcolor": "white",
            "linecolor": "white",
            "ticks": ""
           },
           "baxis": {
            "gridcolor": "white",
            "linecolor": "white",
            "ticks": ""
           },
           "bgcolor": "#E5ECF6",
           "caxis": {
            "gridcolor": "white",
            "linecolor": "white",
            "ticks": ""
           }
          },
          "title": {
           "x": 0.05
          },
          "xaxis": {
           "automargin": true,
           "gridcolor": "white",
           "linecolor": "white",
           "ticks": "",
           "title": {
            "standoff": 15
           },
           "zerolinecolor": "white",
           "zerolinewidth": 2
          },
          "yaxis": {
           "automargin": true,
           "gridcolor": "white",
           "linecolor": "white",
           "ticks": "",
           "title": {
            "standoff": 15
           },
           "zerolinecolor": "white",
           "zerolinewidth": 2
          }
         }
        },
        "width": 800,
        "xaxis": {
         "anchor": "y",
         "domain": [
          0,
          1
         ],
         "title": {
          "text": "x"
         }
        },
        "yaxis": {
         "anchor": "x",
         "domain": [
          0,
          1
         ],
         "title": {
          "text": "y"
         }
        }
       }
      }
     },
     "metadata": {},
     "output_type": "display_data"
    }
   ],
   "source": [
    "px.scatter(cmp_df, x='x', y='y', color='action', width=800, height=800)\n"
   ]
  },
  {
   "cell_type": "code",
   "execution_count": 54,
   "metadata": {},
   "outputs": [],
   "source": [
    "def umap_simulate(model, dl, class_map):\n",
    "    vector_pack = []\n",
    "    class_pack = []\n",
    "\n",
    "    model = model.to(device)\n",
    "\n",
    "    for x, y in dl:\n",
    "        _, vector = model(x.float().to(device))\n",
    "        vector_pack.append(vector.detach().cpu().numpy())\n",
    "        class_pack.append(y.numpy())\n",
    "\n",
    "    all_vectors = np.concatenate(vector_pack)\n",
    "    all_actions = np.concatenate(class_pack)\n",
    "\n",
    "    tnse = UMAP(n_components=2, n_neighbors=12)\n",
    "    cmp_data = tnse.fit_transform(all_vectors)\n",
    "\n",
    "    cmp_df = pd.DataFrame(data=cmp_data, columns=['x', 'y'])\n",
    "    cmp_df['label'] = all_actions\n",
    "    cmp_df['action'] = cmp_df['label'].map(class_map)\n",
    "\n",
    "    fig = px.scatter(cmp_df, x='x', y='y', color='action', width=800, height=800)\n",
    "    fig.show()"
   ]
  },
  {
   "cell_type": "code",
   "execution_count": 55,
   "metadata": {},
   "outputs": [
    {
     "data": {
      "application/vnd.plotly.v1+json": {
       "config": {
        "plotlyServerURL": "https://plot.ly"
       },
       "data": [
        {
         "hoverlabel": {
          "namelength": 0
         },
         "hovertemplate": "action=ascending stairs<br>x=%{x}<br>y=%{y}",
         "legendgroup": "action=ascending stairs",
         "marker": {
          "color": "#636efa",
          "symbol": "circle"
         },
         "mode": "markers",
         "name": "action=ascending stairs",
         "showlegend": true,
         "type": "scatter",
         "x": [
          11.511800765991211,
          10.529369354248047,
          7.952775478363037,
          10.846222877502441,
          8.751004219055176,
          7.093655586242676,
          6.683130741119385,
          6.58976936340332,
          6.938403129577637,
          7.988009929656982
         ],
         "xaxis": "x",
         "y": [
          13.283369064331055,
          14.585265159606934,
          10.703109741210938,
          14.284905433654785,
          14.362510681152344,
          15.581350326538086,
          15.578083992004395,
          15.567244529724121,
          15.59453296661377,
          10.43062686920166
         ],
         "yaxis": "y"
        },
        {
         "hoverlabel": {
          "namelength": 0
         },
         "hovertemplate": "action=sitting<br>x=%{x}<br>y=%{y}",
         "legendgroup": "action=sitting",
         "marker": {
          "color": "#EF553B",
          "symbol": "circle"
         },
         "mode": "markers",
         "name": "action=sitting",
         "showlegend": true,
         "type": "scatter",
         "x": [
          7.000054836273193,
          6.716177463531494,
          10.320538520812988,
          7.028049468994141,
          7.684595584869385,
          7.536157131195068,
          7.310613632202148,
          7.047313690185547,
          7.790319442749023,
          7.639441013336182
         ],
         "xaxis": "x",
         "y": [
          11.795448303222656,
          13.571575164794922,
          12.117508888244629,
          12.07055377960205,
          10.714614868164062,
          10.83041763305664,
          11.470685958862305,
          11.858339309692383,
          11.677759170532227,
          10.763863563537598
         ],
         "yaxis": "y"
        },
        {
         "hoverlabel": {
          "namelength": 0
         },
         "hovertemplate": "action=rope jumping<br>x=%{x}<br>y=%{y}",
         "legendgroup": "action=rope jumping",
         "marker": {
          "color": "#00cc96",
          "symbol": "circle"
         },
         "mode": "markers",
         "name": "action=rope jumping",
         "showlegend": true,
         "type": "scatter",
         "x": [
          8.05598258972168,
          8.181910514831543,
          7.527022838592529,
          6.2698283195495605,
          7.742437362670898,
          5.179049015045166,
          9.202841758728027,
          4.895420551300049,
          8.048467636108398,
          7.875024318695068
         ],
         "xaxis": "x",
         "y": [
          10.447089195251465,
          12.721165657043457,
          13.324365615844727,
          12.845233917236328,
          13.316336631774902,
          12.30819320678711,
          12.843803405761719,
          12.664999961853027,
          10.47472095489502,
          11.439592361450195
         ],
         "yaxis": "y"
        },
        {
         "hoverlabel": {
          "namelength": 0
         },
         "hovertemplate": "action=computer work<br>x=%{x}<br>y=%{y}",
         "legendgroup": "action=computer work",
         "marker": {
          "color": "#ab63fa",
          "symbol": "circle"
         },
         "mode": "markers",
         "name": "action=computer work",
         "showlegend": true,
         "type": "scatter",
         "x": [
          10.538869857788086,
          6.607810020446777,
          7.961989879608154,
          6.296967506408691,
          10.442525863647461,
          9.4426851272583,
          6.73939847946167,
          8.29350471496582,
          6.645935535430908,
          9.341174125671387
         ],
         "xaxis": "x",
         "y": [
          14.74312973022461,
          14.573064804077148,
          11.8412446975708,
          14.207099914550781,
          14.872628211975098,
          11.774185180664062,
          14.647658348083496,
          11.775551795959473,
          14.56338119506836,
          11.731663703918457
         ],
         "yaxis": "y"
        },
        {
         "hoverlabel": {
          "namelength": 0
         },
         "hovertemplate": "action=lying<br>x=%{x}<br>y=%{y}",
         "legendgroup": "action=lying",
         "marker": {
          "color": "#FFA15A",
          "symbol": "circle"
         },
         "mode": "markers",
         "name": "action=lying",
         "showlegend": true,
         "type": "scatter",
         "x": [
          8.353918075561523,
          7.252959251403809,
          6.687568664550781,
          7.340694904327393,
          6.285926342010498,
          10.485158920288086,
          6.987884521484375,
          10.52405834197998,
          6.94896125793457
         ],
         "xaxis": "x",
         "y": [
          11.471061706542969,
          13.100610733032227,
          15.264817237854004,
          14.640342712402344,
          13.410818099975586,
          12.154985427856445,
          14.92665958404541,
          12.871776580810547,
          15.071586608886719
         ],
         "yaxis": "y"
        },
        {
         "hoverlabel": {
          "namelength": 0
         },
         "hovertemplate": "action=playing soccer<br>x=%{x}<br>y=%{y}",
         "legendgroup": "action=playing soccer",
         "marker": {
          "color": "#19d3f3",
          "symbol": "circle"
         },
         "mode": "markers",
         "name": "action=playing soccer",
         "showlegend": true,
         "type": "scatter",
         "x": [
          7.214671611785889,
          10.988842964172363,
          7.9219441413879395,
          8.401531219482422,
          7.038190841674805,
          8.259135246276855,
          6.334103107452393,
          10.13713264465332,
          9.734227180480957,
          10.783607482910156
         ],
         "xaxis": "x",
         "y": [
          15.41073226928711,
          12.881196975708008,
          10.630471229553223,
          11.17933464050293,
          14.977692604064941,
          11.11397647857666,
          13.867435455322266,
          11.672443389892578,
          11.477416038513184,
          12.753443717956543
         ],
         "yaxis": "y"
        },
        {
         "hoverlabel": {
          "namelength": 0
         },
         "hovertemplate": "action=folding laundry<br>x=%{x}<br>y=%{y}",
         "legendgroup": "action=folding laundry",
         "marker": {
          "color": "#FF6692",
          "symbol": "circle"
         },
         "mode": "markers",
         "name": "action=folding laundry",
         "showlegend": true,
         "type": "scatter",
         "x": [
          8.238655090332031,
          4.585116863250732,
          7.156759262084961,
          5.599415302276611,
          7.082932472229004,
          5.129889965057373,
          5.1807966232299805,
          7.548095226287842,
          7.602797985076904,
          7.075071811676025
         ],
         "xaxis": "x",
         "y": [
          13.590375900268555,
          12.816580772399902,
          12.296874046325684,
          12.67439079284668,
          14.289902687072754,
          12.502801895141602,
          12.44525146484375,
          14.261687278747559,
          13.951445579528809,
          12.302230834960938
         ],
         "yaxis": "y"
        },
        {
         "hoverlabel": {
          "namelength": 0
         },
         "hovertemplate": "action=cycling<br>x=%{x}<br>y=%{y}",
         "legendgroup": "action=cycling",
         "marker": {
          "color": "#B6E880",
          "symbol": "circle"
         },
         "mode": "markers",
         "name": "action=cycling",
         "showlegend": true,
         "type": "scatter",
         "x": [
          10.054642677307129,
          6.842843532562256,
          7.472766399383545,
          7.1062092781066895,
          9.814992904663086,
          7.418649196624756,
          7.858466148376465,
          7.120626449584961,
          7.460825443267822,
          7.436982154846191
         ],
         "xaxis": "x",
         "y": [
          12.845788955688477,
          11.755093574523926,
          15.845498085021973,
          15.871596336364746,
          12.835321426391602,
          14.98499870300293,
          15.293631553649902,
          15.859015464782715,
          14.42901611328125,
          15.903343200683594
         ],
         "yaxis": "y"
        },
        {
         "hoverlabel": {
          "namelength": 0
         },
         "hovertemplate": "action=vacuum cleaning<br>x=%{x}<br>y=%{y}",
         "legendgroup": "action=vacuum cleaning",
         "marker": {
          "color": "#FF97FF",
          "symbol": "circle"
         },
         "mode": "markers",
         "name": "action=vacuum cleaning",
         "showlegend": true,
         "type": "scatter",
         "x": [
          7.500721454620361,
          7.62029504776001,
          11.4412202835083,
          9.782368659973145,
          9.983936309814453,
          9.209912300109863,
          8.72912883758545,
          8.109393119812012,
          10.804615020751953,
          6.225619316101074
         ],
         "xaxis": "x",
         "y": [
          15.285823822021484,
          15.38757610321045,
          13.135408401489258,
          14.571330070495605,
          14.704059600830078,
          14.480622291564941,
          13.469864845275879,
          10.577546119689941,
          14.268710136413574,
          13.578661918640137
         ],
         "yaxis": "y"
        },
        {
         "hoverlabel": {
          "namelength": 0
         },
         "hovertemplate": "action=descending stairs<br>x=%{x}<br>y=%{y}",
         "legendgroup": "action=descending stairs",
         "marker": {
          "color": "#FECB52",
          "symbol": "circle"
         },
         "mode": "markers",
         "name": "action=descending stairs",
         "showlegend": true,
         "type": "scatter",
         "x": [
          9.032299995422363,
          9.183534622192383,
          8.895343780517578,
          9.407517433166504,
          8.899893760681152,
          9.009315490722656,
          9.432315826416016,
          8.126733779907227,
          9.35927963256836,
          9.1686372756958
         ],
         "xaxis": "x",
         "y": [
          13.87204647064209,
          13.600015640258789,
          13.819461822509766,
          13.85429859161377,
          13.582962036132812,
          13.231491088867188,
          13.414012908935547,
          13.723386764526367,
          13.437297821044922,
          13.746298789978027
         ],
         "yaxis": "y"
        },
        {
         "hoverlabel": {
          "namelength": 0
         },
         "hovertemplate": "action=Nordic walking<br>x=%{x}<br>y=%{y}",
         "legendgroup": "action=Nordic walking",
         "marker": {
          "color": "#636efa",
          "symbol": "circle"
         },
         "mode": "markers",
         "name": "action=Nordic walking",
         "showlegend": true,
         "type": "scatter",
         "x": [
          9.47059154510498,
          7.6818108558654785,
          8.695151329040527,
          9.64220142364502,
          6.599964618682861,
          9.609657287597656,
          8.748706817626953,
          10.513895034790039,
          10.429445266723633,
          9.063846588134766
         ],
         "xaxis": "x",
         "y": [
          11.99365234375,
          10.958666801452637,
          11.49698257446289,
          11.905022621154785,
          14.01665210723877,
          12.625934600830078,
          11.259112358093262,
          12.414566040039062,
          11.702849388122559,
          11.583109855651855
         ],
         "yaxis": "y"
        },
        {
         "hoverlabel": {
          "namelength": 0
         },
         "hovertemplate": "action=house cleaning<br>x=%{x}<br>y=%{y}",
         "legendgroup": "action=house cleaning",
         "marker": {
          "color": "#EF553B",
          "symbol": "circle"
         },
         "mode": "markers",
         "name": "action=house cleaning",
         "showlegend": true,
         "type": "scatter",
         "x": [
          10.432591438293457,
          10.91335678100586,
          8.012162208557129,
          11.200797080993652,
          8.905981063842773,
          7.667636394500732,
          10.437858581542969,
          9.557390213012695,
          7.5838446617126465
         ],
         "xaxis": "x",
         "y": [
          14.464256286621094,
          14.011443138122559,
          14.191835403442383,
          13.291044235229492,
          12.648260116577148,
          15.138525009155273,
          14.546323776245117,
          13.611276626586914,
          14.774360656738281
         ],
         "yaxis": "y"
        },
        {
         "hoverlabel": {
          "namelength": 0
         },
         "hovertemplate": "action=car driving<br>x=%{x}<br>y=%{y}",
         "legendgroup": "action=car driving",
         "marker": {
          "color": "#00cc96",
          "symbol": "circle"
         },
         "mode": "markers",
         "name": "action=car driving",
         "showlegend": true,
         "type": "scatter",
         "x": [
          10.987516403198242,
          8.955912590026855,
          9.840240478515625,
          10.763326644897461,
          10.146154403686523,
          11.007852554321289,
          10.170710563659668,
          8.827079772949219,
          9.65283203125,
          10.565979957580566
         ],
         "xaxis": "x",
         "y": [
          13.66301155090332,
          12.569754600524902,
          11.368846893310547,
          13.845170974731445,
          14.701371192932129,
          13.782134056091309,
          11.543434143066406,
          13.597498893737793,
          14.395733833312988,
          11.834511756896973
         ],
         "yaxis": "y"
        },
        {
         "hoverlabel": {
          "namelength": 0
         },
         "hovertemplate": "action=walking<br>x=%{x}<br>y=%{y}",
         "legendgroup": "action=walking",
         "marker": {
          "color": "#ab63fa",
          "symbol": "circle"
         },
         "mode": "markers",
         "name": "action=walking",
         "showlegend": true,
         "type": "scatter",
         "x": [
          8.621188163757324,
          7.394826889038086,
          8.105340957641602,
          7.58962869644165,
          8.888567924499512,
          9.640522956848145,
          10.779692649841309,
          10.776150703430176,
          10.950470924377441
         ],
         "xaxis": "x",
         "y": [
          12.859106063842773,
          15.475295066833496,
          10.700568199157715,
          14.528860092163086,
          11.165096282958984,
          11.295053482055664,
          12.05073070526123,
          13.056009292602539,
          12.092010498046875
         ],
         "yaxis": "y"
        },
        {
         "hoverlabel": {
          "namelength": 0
         },
         "hovertemplate": "action=ironing<br>x=%{x}<br>y=%{y}",
         "legendgroup": "action=ironing",
         "marker": {
          "color": "#FFA15A",
          "symbol": "circle"
         },
         "mode": "markers",
         "name": "action=ironing",
         "showlegend": true,
         "type": "scatter",
         "x": [
          7.5479350090026855,
          5.935169219970703,
          7.2591681480407715,
          6.724060535430908,
          7.7368011474609375,
          8.811866760253906,
          9.099709510803223,
          6.880289077758789,
          7.516345024108887
         ],
         "xaxis": "x",
         "y": [
          13.769487380981445,
          13.124932289123535,
          12.760883331298828,
          13.094138145446777,
          15.417450904846191,
          10.71595287322998,
          10.844938278198242,
          12.963101387023926,
          14.138481140136719
         ],
         "yaxis": "y"
        },
        {
         "hoverlabel": {
          "namelength": 0
         },
         "hovertemplate": "action=standing<br>x=%{x}<br>y=%{y}",
         "legendgroup": "action=standing",
         "marker": {
          "color": "#19d3f3",
          "symbol": "circle"
         },
         "mode": "markers",
         "name": "action=standing",
         "showlegend": true,
         "type": "scatter",
         "x": [
          4.722507953643799,
          4.205573081970215,
          7.222728729248047,
          7.560284614562988,
          4.05617094039917,
          7.056312561035156,
          4.324752330780029,
          4.914008140563965,
          4.22958517074585,
          7.455312728881836
         ],
         "xaxis": "x",
         "y": [
          12.897397994995117,
          12.761956214904785,
          15.081043243408203,
          12.880584716796875,
          12.956544876098633,
          14.33853530883789,
          12.639161109924316,
          12.869353294372559,
          12.774934768676758,
          12.937286376953125
         ],
         "yaxis": "y"
        },
        {
         "hoverlabel": {
          "namelength": 0
         },
         "hovertemplate": "action=watching TV<br>x=%{x}<br>y=%{y}",
         "legendgroup": "action=watching TV",
         "marker": {
          "color": "#FF6692",
          "symbol": "circle"
         },
         "mode": "markers",
         "name": "action=watching TV",
         "showlegend": true,
         "type": "scatter",
         "x": [
          7.0504608154296875,
          4.802788257598877,
          4.770772933959961,
          5.355592727661133,
          6.757837295532227,
          4.922525882720947,
          5.50927734375,
          11.078947067260742,
          5.298814296722412,
          7.622068881988525
         ],
         "xaxis": "x",
         "y": [
          12.330072402954102,
          12.705228805541992,
          12.807661056518555,
          12.604381561279297,
          12.373504638671875,
          12.472749710083008,
          12.863679885864258,
          12.486525535583496,
          12.709678649902344,
          14.978479385375977
         ],
         "yaxis": "y"
        },
        {
         "hoverlabel": {
          "namelength": 0
         },
         "hovertemplate": "action=running<br>x=%{x}<br>y=%{y}",
         "legendgroup": "action=running",
         "marker": {
          "color": "#B6E880",
          "symbol": "circle"
         },
         "mode": "markers",
         "name": "action=running",
         "showlegend": true,
         "type": "scatter",
         "x": [
          10.797099113464355,
          9.226490020751953,
          11.342083930969238,
          10.941112518310547,
          11.356287002563477,
          10.639958381652832,
          11.309127807617188,
          10.976041793823242,
          11.575519561767578,
          8.227746963500977
         ],
         "xaxis": "x",
         "y": [
          13.146760940551758,
          13.885936737060547,
          12.928425788879395,
          12.824831008911133,
          13.037602424621582,
          12.331432342529297,
          12.885440826416016,
          12.997058868408203,
          13.183923721313477,
          10.88632869720459
         ],
         "yaxis": "y"
        }
       ],
       "layout": {
        "height": 800,
        "legend": {
         "tracegroupgap": 0
        },
        "margin": {
         "t": 60
        },
        "template": {
         "data": {
          "bar": [
           {
            "error_x": {
             "color": "#2a3f5f"
            },
            "error_y": {
             "color": "#2a3f5f"
            },
            "marker": {
             "line": {
              "color": "#E5ECF6",
              "width": 0.5
             }
            },
            "type": "bar"
           }
          ],
          "barpolar": [
           {
            "marker": {
             "line": {
              "color": "#E5ECF6",
              "width": 0.5
             }
            },
            "type": "barpolar"
           }
          ],
          "carpet": [
           {
            "aaxis": {
             "endlinecolor": "#2a3f5f",
             "gridcolor": "white",
             "linecolor": "white",
             "minorgridcolor": "white",
             "startlinecolor": "#2a3f5f"
            },
            "baxis": {
             "endlinecolor": "#2a3f5f",
             "gridcolor": "white",
             "linecolor": "white",
             "minorgridcolor": "white",
             "startlinecolor": "#2a3f5f"
            },
            "type": "carpet"
           }
          ],
          "choropleth": [
           {
            "colorbar": {
             "outlinewidth": 0,
             "ticks": ""
            },
            "type": "choropleth"
           }
          ],
          "contour": [
           {
            "colorbar": {
             "outlinewidth": 0,
             "ticks": ""
            },
            "colorscale": [
             [
              0,
              "#0d0887"
             ],
             [
              0.1111111111111111,
              "#46039f"
             ],
             [
              0.2222222222222222,
              "#7201a8"
             ],
             [
              0.3333333333333333,
              "#9c179e"
             ],
             [
              0.4444444444444444,
              "#bd3786"
             ],
             [
              0.5555555555555556,
              "#d8576b"
             ],
             [
              0.6666666666666666,
              "#ed7953"
             ],
             [
              0.7777777777777778,
              "#fb9f3a"
             ],
             [
              0.8888888888888888,
              "#fdca26"
             ],
             [
              1,
              "#f0f921"
             ]
            ],
            "type": "contour"
           }
          ],
          "contourcarpet": [
           {
            "colorbar": {
             "outlinewidth": 0,
             "ticks": ""
            },
            "type": "contourcarpet"
           }
          ],
          "heatmap": [
           {
            "colorbar": {
             "outlinewidth": 0,
             "ticks": ""
            },
            "colorscale": [
             [
              0,
              "#0d0887"
             ],
             [
              0.1111111111111111,
              "#46039f"
             ],
             [
              0.2222222222222222,
              "#7201a8"
             ],
             [
              0.3333333333333333,
              "#9c179e"
             ],
             [
              0.4444444444444444,
              "#bd3786"
             ],
             [
              0.5555555555555556,
              "#d8576b"
             ],
             [
              0.6666666666666666,
              "#ed7953"
             ],
             [
              0.7777777777777778,
              "#fb9f3a"
             ],
             [
              0.8888888888888888,
              "#fdca26"
             ],
             [
              1,
              "#f0f921"
             ]
            ],
            "type": "heatmap"
           }
          ],
          "heatmapgl": [
           {
            "colorbar": {
             "outlinewidth": 0,
             "ticks": ""
            },
            "colorscale": [
             [
              0,
              "#0d0887"
             ],
             [
              0.1111111111111111,
              "#46039f"
             ],
             [
              0.2222222222222222,
              "#7201a8"
             ],
             [
              0.3333333333333333,
              "#9c179e"
             ],
             [
              0.4444444444444444,
              "#bd3786"
             ],
             [
              0.5555555555555556,
              "#d8576b"
             ],
             [
              0.6666666666666666,
              "#ed7953"
             ],
             [
              0.7777777777777778,
              "#fb9f3a"
             ],
             [
              0.8888888888888888,
              "#fdca26"
             ],
             [
              1,
              "#f0f921"
             ]
            ],
            "type": "heatmapgl"
           }
          ],
          "histogram": [
           {
            "marker": {
             "colorbar": {
              "outlinewidth": 0,
              "ticks": ""
             }
            },
            "type": "histogram"
           }
          ],
          "histogram2d": [
           {
            "colorbar": {
             "outlinewidth": 0,
             "ticks": ""
            },
            "colorscale": [
             [
              0,
              "#0d0887"
             ],
             [
              0.1111111111111111,
              "#46039f"
             ],
             [
              0.2222222222222222,
              "#7201a8"
             ],
             [
              0.3333333333333333,
              "#9c179e"
             ],
             [
              0.4444444444444444,
              "#bd3786"
             ],
             [
              0.5555555555555556,
              "#d8576b"
             ],
             [
              0.6666666666666666,
              "#ed7953"
             ],
             [
              0.7777777777777778,
              "#fb9f3a"
             ],
             [
              0.8888888888888888,
              "#fdca26"
             ],
             [
              1,
              "#f0f921"
             ]
            ],
            "type": "histogram2d"
           }
          ],
          "histogram2dcontour": [
           {
            "colorbar": {
             "outlinewidth": 0,
             "ticks": ""
            },
            "colorscale": [
             [
              0,
              "#0d0887"
             ],
             [
              0.1111111111111111,
              "#46039f"
             ],
             [
              0.2222222222222222,
              "#7201a8"
             ],
             [
              0.3333333333333333,
              "#9c179e"
             ],
             [
              0.4444444444444444,
              "#bd3786"
             ],
             [
              0.5555555555555556,
              "#d8576b"
             ],
             [
              0.6666666666666666,
              "#ed7953"
             ],
             [
              0.7777777777777778,
              "#fb9f3a"
             ],
             [
              0.8888888888888888,
              "#fdca26"
             ],
             [
              1,
              "#f0f921"
             ]
            ],
            "type": "histogram2dcontour"
           }
          ],
          "mesh3d": [
           {
            "colorbar": {
             "outlinewidth": 0,
             "ticks": ""
            },
            "type": "mesh3d"
           }
          ],
          "parcoords": [
           {
            "line": {
             "colorbar": {
              "outlinewidth": 0,
              "ticks": ""
             }
            },
            "type": "parcoords"
           }
          ],
          "pie": [
           {
            "automargin": true,
            "type": "pie"
           }
          ],
          "scatter": [
           {
            "marker": {
             "colorbar": {
              "outlinewidth": 0,
              "ticks": ""
             }
            },
            "type": "scatter"
           }
          ],
          "scatter3d": [
           {
            "line": {
             "colorbar": {
              "outlinewidth": 0,
              "ticks": ""
             }
            },
            "marker": {
             "colorbar": {
              "outlinewidth": 0,
              "ticks": ""
             }
            },
            "type": "scatter3d"
           }
          ],
          "scattercarpet": [
           {
            "marker": {
             "colorbar": {
              "outlinewidth": 0,
              "ticks": ""
             }
            },
            "type": "scattercarpet"
           }
          ],
          "scattergeo": [
           {
            "marker": {
             "colorbar": {
              "outlinewidth": 0,
              "ticks": ""
             }
            },
            "type": "scattergeo"
           }
          ],
          "scattergl": [
           {
            "marker": {
             "colorbar": {
              "outlinewidth": 0,
              "ticks": ""
             }
            },
            "type": "scattergl"
           }
          ],
          "scattermapbox": [
           {
            "marker": {
             "colorbar": {
              "outlinewidth": 0,
              "ticks": ""
             }
            },
            "type": "scattermapbox"
           }
          ],
          "scatterpolar": [
           {
            "marker": {
             "colorbar": {
              "outlinewidth": 0,
              "ticks": ""
             }
            },
            "type": "scatterpolar"
           }
          ],
          "scatterpolargl": [
           {
            "marker": {
             "colorbar": {
              "outlinewidth": 0,
              "ticks": ""
             }
            },
            "type": "scatterpolargl"
           }
          ],
          "scatterternary": [
           {
            "marker": {
             "colorbar": {
              "outlinewidth": 0,
              "ticks": ""
             }
            },
            "type": "scatterternary"
           }
          ],
          "surface": [
           {
            "colorbar": {
             "outlinewidth": 0,
             "ticks": ""
            },
            "colorscale": [
             [
              0,
              "#0d0887"
             ],
             [
              0.1111111111111111,
              "#46039f"
             ],
             [
              0.2222222222222222,
              "#7201a8"
             ],
             [
              0.3333333333333333,
              "#9c179e"
             ],
             [
              0.4444444444444444,
              "#bd3786"
             ],
             [
              0.5555555555555556,
              "#d8576b"
             ],
             [
              0.6666666666666666,
              "#ed7953"
             ],
             [
              0.7777777777777778,
              "#fb9f3a"
             ],
             [
              0.8888888888888888,
              "#fdca26"
             ],
             [
              1,
              "#f0f921"
             ]
            ],
            "type": "surface"
           }
          ],
          "table": [
           {
            "cells": {
             "fill": {
              "color": "#EBF0F8"
             },
             "line": {
              "color": "white"
             }
            },
            "header": {
             "fill": {
              "color": "#C8D4E3"
             },
             "line": {
              "color": "white"
             }
            },
            "type": "table"
           }
          ]
         },
         "layout": {
          "annotationdefaults": {
           "arrowcolor": "#2a3f5f",
           "arrowhead": 0,
           "arrowwidth": 1
          },
          "coloraxis": {
           "colorbar": {
            "outlinewidth": 0,
            "ticks": ""
           }
          },
          "colorscale": {
           "diverging": [
            [
             0,
             "#8e0152"
            ],
            [
             0.1,
             "#c51b7d"
            ],
            [
             0.2,
             "#de77ae"
            ],
            [
             0.3,
             "#f1b6da"
            ],
            [
             0.4,
             "#fde0ef"
            ],
            [
             0.5,
             "#f7f7f7"
            ],
            [
             0.6,
             "#e6f5d0"
            ],
            [
             0.7,
             "#b8e186"
            ],
            [
             0.8,
             "#7fbc41"
            ],
            [
             0.9,
             "#4d9221"
            ],
            [
             1,
             "#276419"
            ]
           ],
           "sequential": [
            [
             0,
             "#0d0887"
            ],
            [
             0.1111111111111111,
             "#46039f"
            ],
            [
             0.2222222222222222,
             "#7201a8"
            ],
            [
             0.3333333333333333,
             "#9c179e"
            ],
            [
             0.4444444444444444,
             "#bd3786"
            ],
            [
             0.5555555555555556,
             "#d8576b"
            ],
            [
             0.6666666666666666,
             "#ed7953"
            ],
            [
             0.7777777777777778,
             "#fb9f3a"
            ],
            [
             0.8888888888888888,
             "#fdca26"
            ],
            [
             1,
             "#f0f921"
            ]
           ],
           "sequentialminus": [
            [
             0,
             "#0d0887"
            ],
            [
             0.1111111111111111,
             "#46039f"
            ],
            [
             0.2222222222222222,
             "#7201a8"
            ],
            [
             0.3333333333333333,
             "#9c179e"
            ],
            [
             0.4444444444444444,
             "#bd3786"
            ],
            [
             0.5555555555555556,
             "#d8576b"
            ],
            [
             0.6666666666666666,
             "#ed7953"
            ],
            [
             0.7777777777777778,
             "#fb9f3a"
            ],
            [
             0.8888888888888888,
             "#fdca26"
            ],
            [
             1,
             "#f0f921"
            ]
           ]
          },
          "colorway": [
           "#636efa",
           "#EF553B",
           "#00cc96",
           "#ab63fa",
           "#FFA15A",
           "#19d3f3",
           "#FF6692",
           "#B6E880",
           "#FF97FF",
           "#FECB52"
          ],
          "font": {
           "color": "#2a3f5f"
          },
          "geo": {
           "bgcolor": "white",
           "lakecolor": "white",
           "landcolor": "#E5ECF6",
           "showlakes": true,
           "showland": true,
           "subunitcolor": "white"
          },
          "hoverlabel": {
           "align": "left"
          },
          "hovermode": "closest",
          "mapbox": {
           "style": "light"
          },
          "paper_bgcolor": "white",
          "plot_bgcolor": "#E5ECF6",
          "polar": {
           "angularaxis": {
            "gridcolor": "white",
            "linecolor": "white",
            "ticks": ""
           },
           "bgcolor": "#E5ECF6",
           "radialaxis": {
            "gridcolor": "white",
            "linecolor": "white",
            "ticks": ""
           }
          },
          "scene": {
           "xaxis": {
            "backgroundcolor": "#E5ECF6",
            "gridcolor": "white",
            "gridwidth": 2,
            "linecolor": "white",
            "showbackground": true,
            "ticks": "",
            "zerolinecolor": "white"
           },
           "yaxis": {
            "backgroundcolor": "#E5ECF6",
            "gridcolor": "white",
            "gridwidth": 2,
            "linecolor": "white",
            "showbackground": true,
            "ticks": "",
            "zerolinecolor": "white"
           },
           "zaxis": {
            "backgroundcolor": "#E5ECF6",
            "gridcolor": "white",
            "gridwidth": 2,
            "linecolor": "white",
            "showbackground": true,
            "ticks": "",
            "zerolinecolor": "white"
           }
          },
          "shapedefaults": {
           "line": {
            "color": "#2a3f5f"
           }
          },
          "ternary": {
           "aaxis": {
            "gridcolor": "white",
            "linecolor": "white",
            "ticks": ""
           },
           "baxis": {
            "gridcolor": "white",
            "linecolor": "white",
            "ticks": ""
           },
           "bgcolor": "#E5ECF6",
           "caxis": {
            "gridcolor": "white",
            "linecolor": "white",
            "ticks": ""
           }
          },
          "title": {
           "x": 0.05
          },
          "xaxis": {
           "automargin": true,
           "gridcolor": "white",
           "linecolor": "white",
           "ticks": "",
           "title": {
            "standoff": 15
           },
           "zerolinecolor": "white",
           "zerolinewidth": 2
          },
          "yaxis": {
           "automargin": true,
           "gridcolor": "white",
           "linecolor": "white",
           "ticks": "",
           "title": {
            "standoff": 15
           },
           "zerolinecolor": "white",
           "zerolinewidth": 2
          }
         }
        },
        "width": 800,
        "xaxis": {
         "anchor": "y",
         "domain": [
          0,
          1
         ],
         "title": {
          "text": "x"
         }
        },
        "yaxis": {
         "anchor": "x",
         "domain": [
          0,
          1
         ],
         "title": {
          "text": "y"
         }
        }
       }
      }
     },
     "metadata": {},
     "output_type": "display_data"
    }
   ],
   "source": [
    "umap_simulate(ae_model, sample_dl, Id2Label)"
   ]
  },
  {
   "attachments": {},
   "cell_type": "markdown",
   "metadata": {},
   "source": [
    "--- \n",
    "transfer learn AE model - only by contrastive loss [AE-encoder]"
   ]
  },
  {
   "cell_type": "code",
   "execution_count": 24,
   "metadata": {},
   "outputs": [],
   "source": [
    "def ae_train_step1(model , dataloader, optimizer, loss_module, device, batch_size, phase='train', l2_reg=False, loss_alpha=0.7):\n",
    "    model = model.train()\n",
    "    model.to(device)\n",
    "\n",
    "    epoch_loss = 0 \n",
    "    total_samples = 0 \n",
    "\n",
    "    with tqdm(dataloader, unit='batch', desc=phase) as tepoch:\n",
    "        for batch in tepoch:\n",
    "            xa, labels = batch \n",
    "            xa = xa.float().to(device)\n",
    "            labels = labels.float()\n",
    "\n",
    "            # set optimizer grad to zero \n",
    "            optimizer.zero_grad()\n",
    "            # get model prediction \n",
    "            with torch.set_grad_enabled(phase=='train'):\n",
    "                skel_output, ft_output = model(xa)\n",
    "\n",
    "            loss = loss_module['contrast'](ft_output, labels)\n",
    "\n",
    "            if phase == 'train':\n",
    "                loss.backward()\n",
    "                optimizer.step()\n",
    "\n",
    "            metrics = {'loss ': loss.item()}\n",
    "            with torch.no_grad():\n",
    "                    total_samples += len(labels)\n",
    "                    epoch_loss += loss.item()\n",
    "            \n",
    "            tepoch.set_postfix(metrics)\n",
    "\n",
    "    epoch_loss = epoch_loss/total_samples\n",
    "    return metrics"
   ]
  },
  {
   "cell_type": "code",
   "execution_count": 25,
   "metadata": {},
   "outputs": [
    {
     "name": "stderr",
     "output_type": "stream",
     "text": [
      "train: 100%|██████████| 11/11 [00:01<00:00, 10.34batch/s, loss =0.597]\n",
      "train: 100%|██████████| 11/11 [00:00<00:00, 38.07batch/s, loss =0.555]\n",
      "train: 100%|██████████| 11/11 [00:00<00:00, 46.11batch/s, loss =0.675]\n",
      "train: 100%|██████████| 11/11 [00:00<00:00, 31.92batch/s, loss =0.735]\n",
      "train: 100%|██████████| 11/11 [00:00<00:00, 46.98batch/s, loss =0.665]\n",
      "                                                             \r"
     ]
    }
   ],
   "source": [
    "skel_dt = SkeletonDataset(skeleton_mov, skeleton_Ids, action_dict, seq_len=config['seq_len'])\n",
    "skel_dl = DataLoader(skel_dt, batch_size=config['batch_size'], shuffle=True, pin_memory=True, drop_last=True)\n",
    "\n",
    "ae_model1 = TCNEncoderDecoder(seq_len=50, num_features=36, num_channels=[40,40,40,30,20,4], embedding_size=128, kernel_size=3, dropout=0.3)\n",
    "prep_dir = './tmp/epoch150_randsample_input_l1.pt'\n",
    "ae_model1.load_state_dict(torch.load(prep_dir))\n",
    "\n",
    "optim = Adam(ae_model1.parameters(), lr=0.001)\n",
    "ae_loss_module = {'contrast': ContrastiveLoss(pos_margin=0.1, neg_margin=0.8, distance=LpDistance())}\n",
    "for epoch in tqdm(range(5), desc='Training Epoch', leave=False):\n",
    "    ae_train_metrics = ae_train_step1(ae_model, skel_dl, optim, ae_loss_module, device, config['batch_size'], phase='train', loss_alpha=config['ae_alpha'])\n",
    "    "
   ]
  },
  {
   "cell_type": "code",
   "execution_count": 26,
   "metadata": {},
   "outputs": [
    {
     "name": "stderr",
     "output_type": "stream",
     "text": [
      "c:\\Users\\deela\\anaconda3\\envs\\mvts_trans\\lib\\site-packages\\sklearn\\manifold\\_t_sne.py:800: FutureWarning:\n",
      "\n",
      "The default initialization in TSNE will change from 'random' to 'pca' in 1.2.\n",
      "\n",
      "c:\\Users\\deela\\anaconda3\\envs\\mvts_trans\\lib\\site-packages\\sklearn\\manifold\\_t_sne.py:810: FutureWarning:\n",
      "\n",
      "The default learning rate in TSNE will change from 200.0 to 'auto' in 1.2.\n",
      "\n"
     ]
    },
    {
     "data": {
      "application/vnd.plotly.v1+json": {
       "config": {
        "plotlyServerURL": "https://plot.ly"
       },
       "data": [
        {
         "hoverlabel": {
          "namelength": 0
         },
         "hovertemplate": "action=rope jumping<br>x=%{x}<br>y=%{y}",
         "legendgroup": "action=rope jumping",
         "marker": {
          "color": "#636efa",
          "symbol": "circle"
         },
         "mode": "markers",
         "name": "action=rope jumping",
         "showlegend": true,
         "type": "scatter",
         "x": [
          -7.927244663238525,
          3.4618077278137207,
          6.310668468475342,
          3.4815380573272705,
          -1.6423208713531494,
          -2.13307523727417,
          -1.4091506004333496,
          -3.2473294734954834,
          3.4714086055755615,
          5.258490562438965
         ],
         "xaxis": "x",
         "y": [
          -2.884547233581543,
          4.536374568939209,
          -4.890897274017334,
          -2.2897348403930664,
          5.543860912322998,
          -1.7547552585601807,
          -1.510658860206604,
          -1.8583959341049194,
          4.587164878845215,
          -5.029656887054443
         ],
         "yaxis": "y"
        },
        {
         "hoverlabel": {
          "namelength": 0
         },
         "hovertemplate": "action=walking<br>x=%{x}<br>y=%{y}",
         "legendgroup": "action=walking",
         "marker": {
          "color": "#EF553B",
          "symbol": "circle"
         },
         "mode": "markers",
         "name": "action=walking",
         "showlegend": true,
         "type": "scatter",
         "x": [
          -13.52023983001709,
          -4.402215480804443,
          -0.029676776379346848,
          -14.36294937133789,
          0.1818748563528061,
          -3.8778257369995117,
          1.3914769887924194,
          -9.966385841369629,
          -0.6900379061698914,
          -4.748309135437012
         ],
         "xaxis": "x",
         "y": [
          -0.9914346933364868,
          -5.651439189910889,
          -6.6228485107421875,
          -1.2444366216659546,
          2.07244610786438,
          2.4056618213653564,
          4.268682479858398,
          -0.4578283429145813,
          -7.2410149574279785,
          -1.8904454708099365
         ],
         "yaxis": "y"
        },
        {
         "hoverlabel": {
          "namelength": 0
         },
         "hovertemplate": "action=car driving<br>x=%{x}<br>y=%{y}",
         "legendgroup": "action=car driving",
         "marker": {
          "color": "#00cc96",
          "symbol": "circle"
         },
         "mode": "markers",
         "name": "action=car driving",
         "showlegend": true,
         "type": "scatter",
         "x": [
          -4.399266242980957,
          -7.030019283294678,
          -9.587557792663574,
          -11.09937572479248,
          -6.161747455596924,
          -10.47170639038086,
          -5.249014377593994,
          -5.387014389038086,
          -5.891190528869629,
          -10.54784107208252
         ],
         "xaxis": "x",
         "y": [
          1.692725658416748,
          -4.360143661499023,
          5.109327793121338,
          2.6751649379730225,
          2.6149425506591797,
          2.532034158706665,
          3.219066858291626,
          -2.101066827774048,
          0.4207915961742401,
          1.8533982038497925
         ],
         "yaxis": "y"
        },
        {
         "hoverlabel": {
          "namelength": 0
         },
         "hovertemplate": "action=ascending stairs<br>x=%{x}<br>y=%{y}",
         "legendgroup": "action=ascending stairs",
         "marker": {
          "color": "#ab63fa",
          "symbol": "circle"
         },
         "mode": "markers",
         "name": "action=ascending stairs",
         "showlegend": true,
         "type": "scatter",
         "x": [
          -13.04718017578125,
          -12.319276809692383,
          -0.42590397596359253,
          1.2792134284973145,
          -1.109976053237915,
          0.10183051228523254,
          -3.0561304092407227,
          2.798344612121582,
          2.137085437774658,
          -11.11500358581543
         ],
         "xaxis": "x",
         "y": [
          2.3853235244750977,
          4.784135818481445,
          -8.095952987670898,
          4.78617525100708,
          -8.24942398071289,
          -9.198298454284668,
          -0.44524314999580383,
          5.181000232696533,
          -9.650931358337402,
          5.707684516906738
         ],
         "yaxis": "y"
        },
        {
         "hoverlabel": {
          "namelength": 0
         },
         "hovertemplate": "action=lying<br>x=%{x}<br>y=%{y}",
         "legendgroup": "action=lying",
         "marker": {
          "color": "#FFA15A",
          "symbol": "circle"
         },
         "mode": "markers",
         "name": "action=lying",
         "showlegend": true,
         "type": "scatter",
         "x": [
          1.6042753458023071,
          1.0081390142440796,
          -4.151927947998047,
          -1.860510230064392,
          -12.247516632080078,
          -1.065816044807434,
          -2.6308200359344482,
          -2.973080635070801,
          -7.622469902038574,
          -10.63230037689209
         ],
         "xaxis": "x",
         "y": [
          -2.701336622238159,
          -1.270458459854126,
          -5.362781047821045,
          -8.41180419921875,
          -0.810000479221344,
          2.537459135055542,
          -6.06796932220459,
          -6.683658599853516,
          3.199057102203369,
          -1.9391844272613525
         ],
         "yaxis": "y"
        },
        {
         "hoverlabel": {
          "namelength": 0
         },
         "hovertemplate": "action=folding laundry<br>x=%{x}<br>y=%{y}",
         "legendgroup": "action=folding laundry",
         "marker": {
          "color": "#19d3f3",
          "symbol": "circle"
         },
         "mode": "markers",
         "name": "action=folding laundry",
         "showlegend": true,
         "type": "scatter",
         "x": [
          4.381357669830322,
          -0.7144957184791565,
          7.287112236022949,
          -4.520887851715088,
          6.094861030578613,
          0.015370000153779984,
          4.912630081176758,
          4.599250793457031,
          -1.725757360458374
         ],
         "xaxis": "x",
         "y": [
          -3.0903754234313965,
          -3.687016248703003,
          -6.602741241455078,
          0.4784499406814575,
          1.1472488641738892,
          -4.764724254608154,
          -5.790160655975342,
          -5.533401966094971,
          -3.168633222579956
         ],
         "yaxis": "y"
        },
        {
         "hoverlabel": {
          "namelength": 0
         },
         "hovertemplate": "action=standing<br>x=%{x}<br>y=%{y}",
         "legendgroup": "action=standing",
         "marker": {
          "color": "#FF6692",
          "symbol": "circle"
         },
         "mode": "markers",
         "name": "action=standing",
         "showlegend": true,
         "type": "scatter",
         "x": [
          5.061483860015869,
          -0.009506689384579659,
          1.3736374378204346,
          5.944140434265137,
          8.165267944335938,
          7.551111221313477,
          6.103636741638184,
          0.48748475313186646,
          6.397181510925293,
          0.02818586491048336
         ],
         "xaxis": "x",
         "y": [
          -9.049912452697754,
          0.1481599360704422,
          -5.222078323364258,
          -8.839842796325684,
          -5.073984622955322,
          -5.12682580947876,
          -8.840913772583008,
          -7.138116359710693,
          -8.788212776184082,
          0.20319773256778717
         ],
         "yaxis": "y"
        },
        {
         "hoverlabel": {
          "namelength": 0
         },
         "hovertemplate": "action=Nordic walking<br>x=%{x}<br>y=%{y}",
         "legendgroup": "action=Nordic walking",
         "marker": {
          "color": "#B6E880",
          "symbol": "circle"
         },
         "mode": "markers",
         "name": "action=Nordic walking",
         "showlegend": true,
         "type": "scatter",
         "x": [
          2.171159505844116,
          -7.943408489227295,
          0.6698523163795471,
          -11.043257713317871,
          2.5153205394744873,
          2.3999600410461426,
          -8.53221321105957,
          -13.584238052368164,
          -11.866559982299805
         ],
         "xaxis": "x",
         "y": [
          1.6402043104171753,
          -6.865467548370361,
          5.350341320037842,
          -5.18625020980835,
          2.1198458671569824,
          1.8928515911102295,
          -6.346503734588623,
          -2.6699483394622803,
          -4.587512016296387
         ],
         "yaxis": "y"
        },
        {
         "hoverlabel": {
          "namelength": 0
         },
         "hovertemplate": "action=descending stairs<br>x=%{x}<br>y=%{y}",
         "legendgroup": "action=descending stairs",
         "marker": {
          "color": "#FF97FF",
          "symbol": "circle"
         },
         "mode": "markers",
         "name": "action=descending stairs",
         "showlegend": true,
         "type": "scatter",
         "x": [
          -7.327708721160889,
          -6.133757591247559,
          -3.5918853282928467,
          -7.600308895111084,
          -6.408135890960693,
          -7.282154560089111,
          -6.483068466186523,
          -7.8803558349609375,
          -7.034563064575195,
          -7.85420560836792
         ],
         "xaxis": "x",
         "y": [
          -0.02232593297958374,
          -1.6996684074401855,
          -2.719730854034424,
          -1.378213882446289,
          -0.6600244641304016,
          0.7934837341308594,
          -0.14701062440872192,
          0.05763648450374603,
          -1.166630506515503,
          1.142802119255066
         ],
         "yaxis": "y"
        },
        {
         "hoverlabel": {
          "namelength": 0
         },
         "hovertemplate": "action=cycling<br>x=%{x}<br>y=%{y}",
         "legendgroup": "action=cycling",
         "marker": {
          "color": "#FECB52",
          "symbol": "circle"
         },
         "mode": "markers",
         "name": "action=cycling",
         "showlegend": true,
         "type": "scatter",
         "x": [
          -8.89588737487793,
          -1.3732808828353882,
          -3.9339053630828857,
          -2.3556556701660156,
          -1.1547420024871826,
          -9.058475494384766,
          2.1490230560302734,
          1.9762428998947144,
          -6.4004058837890625,
          -2.2544729709625244
         ],
         "xaxis": "x",
         "y": [
          -2.020016670227051,
          -11.250445365905762,
          -7.9104132652282715,
          -10.38026237487793,
          -11.405927658081055,
          -1.3578556776046753,
          -7.737962245941162,
          -7.2273736000061035,
          -8.799097061157227,
          -10.691398620605469
         ],
         "yaxis": "y"
        },
        {
         "hoverlabel": {
          "namelength": 0
         },
         "hovertemplate": "action=vacuum cleaning<br>x=%{x}<br>y=%{y}",
         "legendgroup": "action=vacuum cleaning",
         "marker": {
          "color": "#636efa",
          "symbol": "circle"
         },
         "mode": "markers",
         "name": "action=vacuum cleaning",
         "showlegend": true,
         "type": "scatter",
         "x": [
          1.9168927669525146,
          -5.836966514587402,
          -6.162370681762695,
          -11.38602352142334,
          -6.020448684692383,
          -0.7750476598739624,
          1.3321492671966553,
          -1.5940066576004028,
          2.0235438346862793,
          -12.003458976745605
         ],
         "xaxis": "x",
         "y": [
          -3.534848690032959,
          -3.701033353805542,
          -3.8306944370269775,
          4.220632076263428,
          1.1206458806991577,
          -6.0356926918029785,
          -10.547562599182129,
          -6.179915904998779,
          4.206450462341309,
          1.1984010934829712
         ],
         "yaxis": "y"
        },
        {
         "hoverlabel": {
          "namelength": 0
         },
         "hovertemplate": "action=house cleaning<br>x=%{x}<br>y=%{y}",
         "legendgroup": "action=house cleaning",
         "marker": {
          "color": "#EF553B",
          "symbol": "circle"
         },
         "mode": "markers",
         "name": "action=house cleaning",
         "showlegend": true,
         "type": "scatter",
         "x": [
          -11.36013126373291,
          -1.595392107963562,
          -9.960575103759766,
          -7.178486347198486,
          -1.9054726362228394,
          -3.106738567352295,
          -10.335287094116211,
          -4.865964889526367,
          -10.40785026550293
         ],
         "xaxis": "x",
         "y": [
          3.268209457397461,
          -5.318115711212158,
          1.214216709136963,
          -1.761063575744629,
          -4.949422359466553,
          -3.75073504447937,
          4.876822471618652,
          -1.3953405618667603,
          4.9026618003845215
         ],
         "yaxis": "y"
        },
        {
         "hoverlabel": {
          "namelength": 0
         },
         "hovertemplate": "action=computer work<br>x=%{x}<br>y=%{y}",
         "legendgroup": "action=computer work",
         "marker": {
          "color": "#00cc96",
          "symbol": "circle"
         },
         "mode": "markers",
         "name": "action=computer work",
         "showlegend": true,
         "type": "scatter",
         "x": [
          -10.117531776428223,
          -6.199413776397705,
          -10.11913013458252,
          -4.598205089569092,
          -1.2950928211212158,
          -6.142990589141846,
          -2.120840072631836,
          -13.315810203552246,
          -13.303683280944824,
          -6.132750511169434
         ],
         "xaxis": "x",
         "y": [
          -10.316654205322266,
          -10.736856460571289,
          -10.317359924316406,
          -9.91767692565918,
          3.636134386062622,
          -10.688969612121582,
          4.812682628631592,
          -6.118358612060547,
          -6.105937957763672,
          -10.597310066223145
         ],
         "yaxis": "y"
        },
        {
         "hoverlabel": {
          "namelength": 0
         },
         "hovertemplate": "action=playing soccer<br>x=%{x}<br>y=%{y}",
         "legendgroup": "action=playing soccer",
         "marker": {
          "color": "#ab63fa",
          "symbol": "circle"
         },
         "mode": "markers",
         "name": "action=playing soccer",
         "showlegend": true,
         "type": "scatter",
         "x": [
          -6.841740608215332,
          -9.29985523223877,
          1.130647897720337,
          0.47410812973976135,
          -2.075117588043213,
          -11.28870964050293,
          -11.053035736083984,
          -0.09635410457849503,
          2.110895872116089,
          -2.8696506023406982
         ],
         "xaxis": "x",
         "y": [
          3.2000925540924072,
          -3.2841637134552,
          -3.4528541564941406,
          3.116302251815796,
          -7.203543663024902,
          -1.296359896659851,
          -1.2087594270706177,
          3.2965331077575684,
          4.744439601898193,
          -5.821393966674805
         ],
         "yaxis": "y"
        },
        {
         "hoverlabel": {
          "namelength": 0
         },
         "hovertemplate": "action=watching TV<br>x=%{x}<br>y=%{y}",
         "legendgroup": "action=watching TV",
         "marker": {
          "color": "#FFA15A",
          "symbol": "circle"
         },
         "mode": "markers",
         "name": "action=watching TV",
         "showlegend": true,
         "type": "scatter",
         "x": [
          0.735381007194519,
          6.712520122528076,
          6.225253582000732,
          -10.734675407409668,
          7.073902606964111,
          4.384385585784912,
          3.9969773292541504,
          5.207433700561523,
          4.443171501159668,
          6.16752290725708
         ],
         "xaxis": "x",
         "y": [
          -6.165410995483398,
          -4.256460666656494,
          0.49141725897789,
          0.20046894252300262,
          -5.4533586502075195,
          -4.680486679077148,
          -4.179810523986816,
          -6.743268013000488,
          -4.817079544067383,
          0.8036160469055176
         ],
         "yaxis": "y"
        },
        {
         "hoverlabel": {
          "namelength": 0
         },
         "hovertemplate": "action=ironing<br>x=%{x}<br>y=%{y}",
         "legendgroup": "action=ironing",
         "marker": {
          "color": "#19d3f3",
          "symbol": "circle"
         },
         "mode": "markers",
         "name": "action=ironing",
         "showlegend": true,
         "type": "scatter",
         "x": [
          1.8401488065719604,
          2.9917476177215576,
          5.6064629554748535,
          -1.6145962476730347,
          1.1328160762786865,
          -0.6994255185127258,
          5.55623722076416,
          6.372379779815674,
          -0.7280874848365784,
          -1.7676377296447754
         ],
         "xaxis": "x",
         "y": [
          -0.5322970747947693,
          -1.1320593357086182,
          5.788486480712891,
          -6.1720290184021,
          0.011887007392942905,
          -3.971858024597168,
          5.762973785400391,
          -2.4403483867645264,
          -3.5561306476593018,
          -3.0821852684020996
         ],
         "yaxis": "y"
        },
        {
         "hoverlabel": {
          "namelength": 0
         },
         "hovertemplate": "action=sitting<br>x=%{x}<br>y=%{y}",
         "legendgroup": "action=sitting",
         "marker": {
          "color": "#FF6692",
          "symbol": "circle"
         },
         "mode": "markers",
         "name": "action=sitting",
         "showlegend": true,
         "type": "scatter",
         "x": [
          -2.27783465385437,
          -14.6470308303833,
          1.4348951578140259,
          -3.3551504611968994,
          1.6504311561584473,
          -1.995063066482544,
          0.9071803689002991,
          -2.617302656173706,
          -2.262556552886963
         ],
         "xaxis": "x",
         "y": [
          7.7421088218688965,
          0.30606135725975037,
          7.211106777191162,
          8.68548583984375,
          6.992279529571533,
          7.420721530914307,
          6.8202362060546875,
          8.049159049987793,
          4.702696800231934
         ],
         "yaxis": "y"
        },
        {
         "hoverlabel": {
          "namelength": 0
         },
         "hovertemplate": "action=running<br>x=%{x}<br>y=%{y}",
         "legendgroup": "action=running",
         "marker": {
          "color": "#B6E880",
          "symbol": "circle"
         },
         "mode": "markers",
         "name": "action=running",
         "showlegend": true,
         "type": "scatter",
         "x": [
          -5.477077484130859,
          -9.913118362426758,
          -9.911931037902832,
          -10.979052543640137,
          1.5357362031936646,
          -12.759174346923828,
          -11.015944480895996,
          -11.555622100830078,
          -12.83939266204834,
          -9.021100044250488
         ],
         "xaxis": "x",
         "y": [
          -0.7141386270523071,
          0.2404319792985916,
          0.262295663356781,
          0.6725693941116333,
          3.509716033935547,
          1.1214178800582886,
          -0.6461154222488403,
          0.6387602686882019,
          0.5859272480010986,
          -0.1742318570613861
         ],
         "yaxis": "y"
        }
       ],
       "layout": {
        "height": 800,
        "legend": {
         "tracegroupgap": 0
        },
        "margin": {
         "t": 60
        },
        "template": {
         "data": {
          "bar": [
           {
            "error_x": {
             "color": "#2a3f5f"
            },
            "error_y": {
             "color": "#2a3f5f"
            },
            "marker": {
             "line": {
              "color": "#E5ECF6",
              "width": 0.5
             }
            },
            "type": "bar"
           }
          ],
          "barpolar": [
           {
            "marker": {
             "line": {
              "color": "#E5ECF6",
              "width": 0.5
             }
            },
            "type": "barpolar"
           }
          ],
          "carpet": [
           {
            "aaxis": {
             "endlinecolor": "#2a3f5f",
             "gridcolor": "white",
             "linecolor": "white",
             "minorgridcolor": "white",
             "startlinecolor": "#2a3f5f"
            },
            "baxis": {
             "endlinecolor": "#2a3f5f",
             "gridcolor": "white",
             "linecolor": "white",
             "minorgridcolor": "white",
             "startlinecolor": "#2a3f5f"
            },
            "type": "carpet"
           }
          ],
          "choropleth": [
           {
            "colorbar": {
             "outlinewidth": 0,
             "ticks": ""
            },
            "type": "choropleth"
           }
          ],
          "contour": [
           {
            "colorbar": {
             "outlinewidth": 0,
             "ticks": ""
            },
            "colorscale": [
             [
              0,
              "#0d0887"
             ],
             [
              0.1111111111111111,
              "#46039f"
             ],
             [
              0.2222222222222222,
              "#7201a8"
             ],
             [
              0.3333333333333333,
              "#9c179e"
             ],
             [
              0.4444444444444444,
              "#bd3786"
             ],
             [
              0.5555555555555556,
              "#d8576b"
             ],
             [
              0.6666666666666666,
              "#ed7953"
             ],
             [
              0.7777777777777778,
              "#fb9f3a"
             ],
             [
              0.8888888888888888,
              "#fdca26"
             ],
             [
              1,
              "#f0f921"
             ]
            ],
            "type": "contour"
           }
          ],
          "contourcarpet": [
           {
            "colorbar": {
             "outlinewidth": 0,
             "ticks": ""
            },
            "type": "contourcarpet"
           }
          ],
          "heatmap": [
           {
            "colorbar": {
             "outlinewidth": 0,
             "ticks": ""
            },
            "colorscale": [
             [
              0,
              "#0d0887"
             ],
             [
              0.1111111111111111,
              "#46039f"
             ],
             [
              0.2222222222222222,
              "#7201a8"
             ],
             [
              0.3333333333333333,
              "#9c179e"
             ],
             [
              0.4444444444444444,
              "#bd3786"
             ],
             [
              0.5555555555555556,
              "#d8576b"
             ],
             [
              0.6666666666666666,
              "#ed7953"
             ],
             [
              0.7777777777777778,
              "#fb9f3a"
             ],
             [
              0.8888888888888888,
              "#fdca26"
             ],
             [
              1,
              "#f0f921"
             ]
            ],
            "type": "heatmap"
           }
          ],
          "heatmapgl": [
           {
            "colorbar": {
             "outlinewidth": 0,
             "ticks": ""
            },
            "colorscale": [
             [
              0,
              "#0d0887"
             ],
             [
              0.1111111111111111,
              "#46039f"
             ],
             [
              0.2222222222222222,
              "#7201a8"
             ],
             [
              0.3333333333333333,
              "#9c179e"
             ],
             [
              0.4444444444444444,
              "#bd3786"
             ],
             [
              0.5555555555555556,
              "#d8576b"
             ],
             [
              0.6666666666666666,
              "#ed7953"
             ],
             [
              0.7777777777777778,
              "#fb9f3a"
             ],
             [
              0.8888888888888888,
              "#fdca26"
             ],
             [
              1,
              "#f0f921"
             ]
            ],
            "type": "heatmapgl"
           }
          ],
          "histogram": [
           {
            "marker": {
             "colorbar": {
              "outlinewidth": 0,
              "ticks": ""
             }
            },
            "type": "histogram"
           }
          ],
          "histogram2d": [
           {
            "colorbar": {
             "outlinewidth": 0,
             "ticks": ""
            },
            "colorscale": [
             [
              0,
              "#0d0887"
             ],
             [
              0.1111111111111111,
              "#46039f"
             ],
             [
              0.2222222222222222,
              "#7201a8"
             ],
             [
              0.3333333333333333,
              "#9c179e"
             ],
             [
              0.4444444444444444,
              "#bd3786"
             ],
             [
              0.5555555555555556,
              "#d8576b"
             ],
             [
              0.6666666666666666,
              "#ed7953"
             ],
             [
              0.7777777777777778,
              "#fb9f3a"
             ],
             [
              0.8888888888888888,
              "#fdca26"
             ],
             [
              1,
              "#f0f921"
             ]
            ],
            "type": "histogram2d"
           }
          ],
          "histogram2dcontour": [
           {
            "colorbar": {
             "outlinewidth": 0,
             "ticks": ""
            },
            "colorscale": [
             [
              0,
              "#0d0887"
             ],
             [
              0.1111111111111111,
              "#46039f"
             ],
             [
              0.2222222222222222,
              "#7201a8"
             ],
             [
              0.3333333333333333,
              "#9c179e"
             ],
             [
              0.4444444444444444,
              "#bd3786"
             ],
             [
              0.5555555555555556,
              "#d8576b"
             ],
             [
              0.6666666666666666,
              "#ed7953"
             ],
             [
              0.7777777777777778,
              "#fb9f3a"
             ],
             [
              0.8888888888888888,
              "#fdca26"
             ],
             [
              1,
              "#f0f921"
             ]
            ],
            "type": "histogram2dcontour"
           }
          ],
          "mesh3d": [
           {
            "colorbar": {
             "outlinewidth": 0,
             "ticks": ""
            },
            "type": "mesh3d"
           }
          ],
          "parcoords": [
           {
            "line": {
             "colorbar": {
              "outlinewidth": 0,
              "ticks": ""
             }
            },
            "type": "parcoords"
           }
          ],
          "pie": [
           {
            "automargin": true,
            "type": "pie"
           }
          ],
          "scatter": [
           {
            "marker": {
             "colorbar": {
              "outlinewidth": 0,
              "ticks": ""
             }
            },
            "type": "scatter"
           }
          ],
          "scatter3d": [
           {
            "line": {
             "colorbar": {
              "outlinewidth": 0,
              "ticks": ""
             }
            },
            "marker": {
             "colorbar": {
              "outlinewidth": 0,
              "ticks": ""
             }
            },
            "type": "scatter3d"
           }
          ],
          "scattercarpet": [
           {
            "marker": {
             "colorbar": {
              "outlinewidth": 0,
              "ticks": ""
             }
            },
            "type": "scattercarpet"
           }
          ],
          "scattergeo": [
           {
            "marker": {
             "colorbar": {
              "outlinewidth": 0,
              "ticks": ""
             }
            },
            "type": "scattergeo"
           }
          ],
          "scattergl": [
           {
            "marker": {
             "colorbar": {
              "outlinewidth": 0,
              "ticks": ""
             }
            },
            "type": "scattergl"
           }
          ],
          "scattermapbox": [
           {
            "marker": {
             "colorbar": {
              "outlinewidth": 0,
              "ticks": ""
             }
            },
            "type": "scattermapbox"
           }
          ],
          "scatterpolar": [
           {
            "marker": {
             "colorbar": {
              "outlinewidth": 0,
              "ticks": ""
             }
            },
            "type": "scatterpolar"
           }
          ],
          "scatterpolargl": [
           {
            "marker": {
             "colorbar": {
              "outlinewidth": 0,
              "ticks": ""
             }
            },
            "type": "scatterpolargl"
           }
          ],
          "scatterternary": [
           {
            "marker": {
             "colorbar": {
              "outlinewidth": 0,
              "ticks": ""
             }
            },
            "type": "scatterternary"
           }
          ],
          "surface": [
           {
            "colorbar": {
             "outlinewidth": 0,
             "ticks": ""
            },
            "colorscale": [
             [
              0,
              "#0d0887"
             ],
             [
              0.1111111111111111,
              "#46039f"
             ],
             [
              0.2222222222222222,
              "#7201a8"
             ],
             [
              0.3333333333333333,
              "#9c179e"
             ],
             [
              0.4444444444444444,
              "#bd3786"
             ],
             [
              0.5555555555555556,
              "#d8576b"
             ],
             [
              0.6666666666666666,
              "#ed7953"
             ],
             [
              0.7777777777777778,
              "#fb9f3a"
             ],
             [
              0.8888888888888888,
              "#fdca26"
             ],
             [
              1,
              "#f0f921"
             ]
            ],
            "type": "surface"
           }
          ],
          "table": [
           {
            "cells": {
             "fill": {
              "color": "#EBF0F8"
             },
             "line": {
              "color": "white"
             }
            },
            "header": {
             "fill": {
              "color": "#C8D4E3"
             },
             "line": {
              "color": "white"
             }
            },
            "type": "table"
           }
          ]
         },
         "layout": {
          "annotationdefaults": {
           "arrowcolor": "#2a3f5f",
           "arrowhead": 0,
           "arrowwidth": 1
          },
          "coloraxis": {
           "colorbar": {
            "outlinewidth": 0,
            "ticks": ""
           }
          },
          "colorscale": {
           "diverging": [
            [
             0,
             "#8e0152"
            ],
            [
             0.1,
             "#c51b7d"
            ],
            [
             0.2,
             "#de77ae"
            ],
            [
             0.3,
             "#f1b6da"
            ],
            [
             0.4,
             "#fde0ef"
            ],
            [
             0.5,
             "#f7f7f7"
            ],
            [
             0.6,
             "#e6f5d0"
            ],
            [
             0.7,
             "#b8e186"
            ],
            [
             0.8,
             "#7fbc41"
            ],
            [
             0.9,
             "#4d9221"
            ],
            [
             1,
             "#276419"
            ]
           ],
           "sequential": [
            [
             0,
             "#0d0887"
            ],
            [
             0.1111111111111111,
             "#46039f"
            ],
            [
             0.2222222222222222,
             "#7201a8"
            ],
            [
             0.3333333333333333,
             "#9c179e"
            ],
            [
             0.4444444444444444,
             "#bd3786"
            ],
            [
             0.5555555555555556,
             "#d8576b"
            ],
            [
             0.6666666666666666,
             "#ed7953"
            ],
            [
             0.7777777777777778,
             "#fb9f3a"
            ],
            [
             0.8888888888888888,
             "#fdca26"
            ],
            [
             1,
             "#f0f921"
            ]
           ],
           "sequentialminus": [
            [
             0,
             "#0d0887"
            ],
            [
             0.1111111111111111,
             "#46039f"
            ],
            [
             0.2222222222222222,
             "#7201a8"
            ],
            [
             0.3333333333333333,
             "#9c179e"
            ],
            [
             0.4444444444444444,
             "#bd3786"
            ],
            [
             0.5555555555555556,
             "#d8576b"
            ],
            [
             0.6666666666666666,
             "#ed7953"
            ],
            [
             0.7777777777777778,
             "#fb9f3a"
            ],
            [
             0.8888888888888888,
             "#fdca26"
            ],
            [
             1,
             "#f0f921"
            ]
           ]
          },
          "colorway": [
           "#636efa",
           "#EF553B",
           "#00cc96",
           "#ab63fa",
           "#FFA15A",
           "#19d3f3",
           "#FF6692",
           "#B6E880",
           "#FF97FF",
           "#FECB52"
          ],
          "font": {
           "color": "#2a3f5f"
          },
          "geo": {
           "bgcolor": "white",
           "lakecolor": "white",
           "landcolor": "#E5ECF6",
           "showlakes": true,
           "showland": true,
           "subunitcolor": "white"
          },
          "hoverlabel": {
           "align": "left"
          },
          "hovermode": "closest",
          "mapbox": {
           "style": "light"
          },
          "paper_bgcolor": "white",
          "plot_bgcolor": "#E5ECF6",
          "polar": {
           "angularaxis": {
            "gridcolor": "white",
            "linecolor": "white",
            "ticks": ""
           },
           "bgcolor": "#E5ECF6",
           "radialaxis": {
            "gridcolor": "white",
            "linecolor": "white",
            "ticks": ""
           }
          },
          "scene": {
           "xaxis": {
            "backgroundcolor": "#E5ECF6",
            "gridcolor": "white",
            "gridwidth": 2,
            "linecolor": "white",
            "showbackground": true,
            "ticks": "",
            "zerolinecolor": "white"
           },
           "yaxis": {
            "backgroundcolor": "#E5ECF6",
            "gridcolor": "white",
            "gridwidth": 2,
            "linecolor": "white",
            "showbackground": true,
            "ticks": "",
            "zerolinecolor": "white"
           },
           "zaxis": {
            "backgroundcolor": "#E5ECF6",
            "gridcolor": "white",
            "gridwidth": 2,
            "linecolor": "white",
            "showbackground": true,
            "ticks": "",
            "zerolinecolor": "white"
           }
          },
          "shapedefaults": {
           "line": {
            "color": "#2a3f5f"
           }
          },
          "ternary": {
           "aaxis": {
            "gridcolor": "white",
            "linecolor": "white",
            "ticks": ""
           },
           "baxis": {
            "gridcolor": "white",
            "linecolor": "white",
            "ticks": ""
           },
           "bgcolor": "#E5ECF6",
           "caxis": {
            "gridcolor": "white",
            "linecolor": "white",
            "ticks": ""
           }
          },
          "title": {
           "x": 0.05
          },
          "xaxis": {
           "automargin": true,
           "gridcolor": "white",
           "linecolor": "white",
           "ticks": "",
           "title": {
            "standoff": 15
           },
           "zerolinecolor": "white",
           "zerolinewidth": 2
          },
          "yaxis": {
           "automargin": true,
           "gridcolor": "white",
           "linecolor": "white",
           "ticks": "",
           "title": {
            "standoff": 15
           },
           "zerolinecolor": "white",
           "zerolinewidth": 2
          }
         }
        },
        "width": 800,
        "xaxis": {
         "anchor": "y",
         "domain": [
          0,
          1
         ],
         "title": {
          "text": "x"
         }
        },
        "yaxis": {
         "anchor": "x",
         "domain": [
          0,
          1
         ],
         "title": {
          "text": "y"
         }
        }
       }
      }
     },
     "metadata": {},
     "output_type": "display_data"
    }
   ],
   "source": [
    "# view spatial distribution after transfer learning \n",
    "tsne_simulate(ae_model1, skel_dl, Id2Label)"
   ]
  },
  {
   "cell_type": "code",
   "execution_count": 46,
   "metadata": {},
   "outputs": [
    {
     "data": {
      "application/vnd.plotly.v1+json": {
       "config": {
        "plotlyServerURL": "https://plot.ly"
       },
       "data": [
        {
         "hoverlabel": {
          "namelength": 0
         },
         "hovertemplate": "action=walking<br>x=%{x}<br>y=%{y}",
         "legendgroup": "action=walking",
         "marker": {
          "color": "#636efa",
          "symbol": "circle"
         },
         "mode": "markers",
         "name": "action=walking",
         "showlegend": true,
         "type": "scatter",
         "x": [
          10.577791213989258,
          11.174588203430176,
          8.43343734741211,
          7.936585903167725,
          8.195433616638184,
          6.505190372467041,
          10.499277114868164,
          8.431453704833984,
          7.845824241638184,
          9.274022102355957
         ],
         "xaxis": "x",
         "y": [
          5.294473171234131,
          5.3879570960998535,
          5.833468914031982,
          4.187257766723633,
          0.9163086414337158,
          6.490687370300293,
          5.347218036651611,
          0.8733506798744202,
          6.0803422927856445,
          -0.11725211888551712
         ],
         "yaxis": "y"
        },
        {
         "hoverlabel": {
          "namelength": 0
         },
         "hovertemplate": "action=sitting<br>x=%{x}<br>y=%{y}",
         "legendgroup": "action=sitting",
         "marker": {
          "color": "#EF553B",
          "symbol": "circle"
         },
         "mode": "markers",
         "name": "action=sitting",
         "showlegend": true,
         "type": "scatter",
         "x": [
          6.748082160949707,
          5.606404781341553,
          5.396584510803223,
          5.640446662902832,
          5.274279594421387,
          7.254810810089111,
          5.507800102233887,
          5.639232635498047,
          5.563126564025879
         ],
         "xaxis": "x",
         "y": [
          0.7655850052833557,
          6.651927471160889,
          4.7138991355896,
          6.588237285614014,
          4.341497421264648,
          5.20521354675293,
          4.906538009643555,
          6.644559860229492,
          4.94611120223999
         ],
         "yaxis": "y"
        },
        {
         "hoverlabel": {
          "namelength": 0
         },
         "hovertemplate": "action=house cleaning<br>x=%{x}<br>y=%{y}",
         "legendgroup": "action=house cleaning",
         "marker": {
          "color": "#00cc96",
          "symbol": "circle"
         },
         "mode": "markers",
         "name": "action=house cleaning",
         "showlegend": true,
         "type": "scatter",
         "x": [
          9.741891860961914,
          8.020513534545898,
          10.861400604248047,
          8.26353645324707,
          11.344470024108887,
          9.726190567016602,
          7.9969587326049805,
          11.439814567565918,
          7.936125755310059,
          7.518393516540527
         ],
         "xaxis": "x",
         "y": [
          1.6434370279312134,
          1.318957805633545,
          2.095104455947876,
          3.1237761974334717,
          5.056397914886475,
          1.7057654857635498,
          4.167844295501709,
          4.940413951873779,
          1.455521821975708,
          1.7900077104568481
         ],
         "yaxis": "y"
        },
        {
         "hoverlabel": {
          "namelength": 0
         },
         "hovertemplate": "action=ascending stairs<br>x=%{x}<br>y=%{y}",
         "legendgroup": "action=ascending stairs",
         "marker": {
          "color": "#ab63fa",
          "symbol": "circle"
         },
         "mode": "markers",
         "name": "action=ascending stairs",
         "showlegend": true,
         "type": "scatter",
         "x": [
          7.9262590408325195,
          6.208056449890137,
          9.084754943847656,
          8.70749568939209,
          10.049357414245605,
          10.638090133666992,
          8.730352401733398,
          6.297449588775635,
          12.072482109069824
         ],
         "xaxis": "x",
         "y": [
          2.393129587173462,
          6.762787342071533,
          1.0905817747116089,
          0.44644924998283386,
          1.475040316581726,
          1.936020016670227,
          0.8282526135444641,
          6.508645534515381,
          4.861786842346191
         ],
         "yaxis": "y"
        },
        {
         "hoverlabel": {
          "namelength": 0
         },
         "hovertemplate": "action=vacuum cleaning<br>x=%{x}<br>y=%{y}",
         "legendgroup": "action=vacuum cleaning",
         "marker": {
          "color": "#FFA15A",
          "symbol": "circle"
         },
         "mode": "markers",
         "name": "action=vacuum cleaning",
         "showlegend": true,
         "type": "scatter",
         "x": [
          6.436708927154541,
          6.886693477630615,
          7.095300197601318,
          8.306183815002441,
          11.784340858459473,
          8.392141342163086,
          9.393158912658691,
          8.271028518676758,
          10.593873023986816,
          8.61363697052002
         ],
         "xaxis": "x",
         "y": [
          6.698500633239746,
          0.37010908126831055,
          3.173494577407837,
          1.4579434394836426,
          4.963149070739746,
          2.197091817855835,
          1.4042844772338867,
          1.1189717054367065,
          1.9428366422653198,
          2.22947359085083
         ],
         "yaxis": "y"
        },
        {
         "hoverlabel": {
          "namelength": 0
         },
         "hovertemplate": "action=lying<br>x=%{x}<br>y=%{y}",
         "legendgroup": "action=lying",
         "marker": {
          "color": "#19d3f3",
          "symbol": "circle"
         },
         "mode": "markers",
         "name": "action=lying",
         "showlegend": true,
         "type": "scatter",
         "x": [
          8.243484497070312,
          7.623380661010742,
          9.23803424835205,
          9.002090454101562,
          9.871566772460938,
          9.676819801330566,
          5.993760108947754,
          8.948019027709961,
          10.930084228515625,
          6.974928855895996
         ],
         "xaxis": "x",
         "y": [
          0.04484355449676514,
          5.718555450439453,
          -0.02874819003045559,
          0.06343357264995575,
          6.220157623291016,
          6.170622825622559,
          3.0795629024505615,
          0.20705091953277588,
          6.24473237991333,
          0.3755076825618744
         ],
         "yaxis": "y"
        },
        {
         "hoverlabel": {
          "namelength": 0
         },
         "hovertemplate": "action=ironing<br>x=%{x}<br>y=%{y}",
         "legendgroup": "action=ironing",
         "marker": {
          "color": "#FF6692",
          "symbol": "circle"
         },
         "mode": "markers",
         "name": "action=ironing",
         "showlegend": true,
         "type": "scatter",
         "x": [
          7.0619797706604,
          5.8367509841918945,
          8.00451374053955,
          8.387690544128418,
          6.961218357086182,
          6.557760238647461,
          5.789090156555176,
          5.730083465576172,
          7.71104621887207,
          5.892617702484131
         ],
         "xaxis": "x",
         "y": [
          1.5632020235061646,
          2.8387460708618164,
          6.101428508758545,
          1.5364139080047607,
          1.2121167182922363,
          1.6391583681106567,
          2.6854872703552246,
          6.2207536697387695,
          6.216639518737793,
          2.8560495376586914
         ],
         "yaxis": "y"
        },
        {
         "hoverlabel": {
          "namelength": 0
         },
         "hovertemplate": "action=Nordic walking<br>x=%{x}<br>y=%{y}",
         "legendgroup": "action=Nordic walking",
         "marker": {
          "color": "#B6E880",
          "symbol": "circle"
         },
         "mode": "markers",
         "name": "action=Nordic walking",
         "showlegend": true,
         "type": "scatter",
         "x": [
          8.00299072265625,
          7.73612117767334,
          9.527594566345215,
          9.216161727905273,
          6.249463081359863,
          7.445531845092773,
          8.00743293762207,
          9.347896575927734,
          10.69211483001709,
          7.429226398468018
         ],
         "xaxis": "x",
         "y": [
          7.146979808807373,
          7.048205375671387,
          6.14603853225708,
          2.690121650695801,
          6.29966402053833,
          6.930215358734131,
          7.164677143096924,
          3.4718406200408936,
          6.166970252990723,
          6.899677753448486
         ],
         "yaxis": "y"
        },
        {
         "hoverlabel": {
          "namelength": 0
         },
         "hovertemplate": "action=rope jumping<br>x=%{x}<br>y=%{y}",
         "legendgroup": "action=rope jumping",
         "marker": {
          "color": "#FF97FF",
          "symbol": "circle"
         },
         "mode": "markers",
         "name": "action=rope jumping",
         "showlegend": true,
         "type": "scatter",
         "x": [
          8.130043983459473,
          6.187305927276611,
          5.881964683532715,
          5.715036869049072,
          5.360139846801758,
          6.222911834716797,
          3.300628423690796,
          7.525635719299316,
          3.613375663757324
         ],
         "xaxis": "x",
         "y": [
          4.335293292999268,
          6.922019958496094,
          2.065197467803955,
          2.0314524173736572,
          2.217146396636963,
          6.875787734985352,
          2.5126688480377197,
          4.618005275726318,
          1.5807781219482422
         ],
         "yaxis": "y"
        },
        {
         "hoverlabel": {
          "namelength": 0
         },
         "hovertemplate": "action=playing soccer<br>x=%{x}<br>y=%{y}",
         "legendgroup": "action=playing soccer",
         "marker": {
          "color": "#FECB52",
          "symbol": "circle"
         },
         "mode": "markers",
         "name": "action=playing soccer",
         "showlegend": true,
         "type": "scatter",
         "x": [
          9.028280258178711,
          6.041680335998535,
          8.839550971984863,
          10.943802833557129,
          7.325789451599121,
          7.267184734344482,
          10.865891456604004,
          9.668703079223633,
          7.345611095428467,
          8.54019832611084
         ],
         "xaxis": "x",
         "y": [
          0.14779703319072723,
          6.664178848266602,
          0.09776622802019119,
          6.126230239868164,
          5.904688835144043,
          0.18249273300170898,
          6.1675920486450195,
          6.071633815765381,
          5.8556389808654785,
          5.700788974761963
         ],
         "yaxis": "y"
        },
        {
         "hoverlabel": {
          "namelength": 0
         },
         "hovertemplate": "action=folding laundry<br>x=%{x}<br>y=%{y}",
         "legendgroup": "action=folding laundry",
         "marker": {
          "color": "#636efa",
          "symbol": "circle"
         },
         "mode": "markers",
         "name": "action=folding laundry",
         "showlegend": true,
         "type": "scatter",
         "x": [
          7.099575042724609,
          5.203994274139404,
          4.1505584716796875,
          7.088377952575684,
          3.4839720726013184,
          7.055170059204102,
          3.017012357711792,
          6.557612895965576,
          5.21944522857666,
          3.567878484725952
         ],
         "xaxis": "x",
         "y": [
          1.888630986213684,
          3.8693959712982178,
          1.968492031097412,
          1.3492532968521118,
          1.668814778327942,
          0.7430410385131836,
          2.3480029106140137,
          1.550203561782837,
          3.959315299987793,
          1.7246757745742798
         ],
         "yaxis": "y"
        },
        {
         "hoverlabel": {
          "namelength": 0
         },
         "hovertemplate": "action=computer work<br>x=%{x}<br>y=%{y}",
         "legendgroup": "action=computer work",
         "marker": {
          "color": "#EF553B",
          "symbol": "circle"
         },
         "mode": "markers",
         "name": "action=computer work",
         "showlegend": true,
         "type": "scatter",
         "x": [
          10.196311950683594,
          7.318099021911621,
          7.379681587219238,
          10.192378044128418,
          7.934867858886719,
          7.9814019203186035,
          10.065268516540527,
          10.048774719238281,
          9.962310791015625,
          7.91431188583374
         ],
         "xaxis": "x",
         "y": [
          0.6201227903366089,
          5.044530391693115,
          5.124855995178223,
          0.5979150533676147,
          7.091887950897217,
          7.133007049560547,
          0.3431885838508606,
          0.300361305475235,
          0.2068692147731781,
          -0.035136520862579346
         ],
         "yaxis": "y"
        },
        {
         "hoverlabel": {
          "namelength": 0
         },
         "hovertemplate": "action=cycling<br>x=%{x}<br>y=%{y}",
         "legendgroup": "action=cycling",
         "marker": {
          "color": "#00cc96",
          "symbol": "circle"
         },
         "mode": "markers",
         "name": "action=cycling",
         "showlegend": true,
         "type": "scatter",
         "x": [
          7.782748699188232,
          8.653099060058594,
          8.586176872253418,
          8.807266235351562,
          8.565783500671387,
          9.327803611755371,
          7.266666412353516,
          5.5243940353393555,
          9.266705513000488,
          8.57120132446289
         ],
         "xaxis": "x",
         "y": [
          0.8856257200241089,
          -0.195047527551651,
          -0.225444957613945,
          1.5661038160324097,
          -0.07624442130327225,
          3.767078161239624,
          1.1755516529083252,
          4.922277450561523,
          3.7187612056732178,
          -0.19558551907539368
         ],
         "yaxis": "y"
        },
        {
         "hoverlabel": {
          "namelength": 0
         },
         "hovertemplate": "action=running<br>x=%{x}<br>y=%{y}",
         "legendgroup": "action=running",
         "marker": {
          "color": "#ab63fa",
          "symbol": "circle"
         },
         "mode": "markers",
         "name": "action=running",
         "showlegend": true,
         "type": "scatter",
         "x": [
          10.855584144592285,
          6.626967906951904,
          12.061538696289062,
          12.003828048706055,
          11.611727714538574,
          7.998906135559082,
          11.228833198547363,
          10.738656044006348,
          11.879570007324219,
          11.278512001037598
         ],
         "xaxis": "x",
         "y": [
          6.06365966796875,
          6.44924259185791,
          5.097556114196777,
          5.1312432289123535,
          5.218929290771484,
          3.334629774093628,
          4.973361015319824,
          5.1370086669921875,
          5.118987560272217,
          5.2318854331970215
         ],
         "yaxis": "y"
        },
        {
         "hoverlabel": {
          "namelength": 0
         },
         "hovertemplate": "action=standing<br>x=%{x}<br>y=%{y}",
         "legendgroup": "action=standing",
         "marker": {
          "color": "#FFA15A",
          "symbol": "circle"
         },
         "mode": "markers",
         "name": "action=standing",
         "showlegend": true,
         "type": "scatter",
         "x": [
          2.600918769836426,
          2.5909461975097656,
          3.058647632598877,
          2.6016995906829834,
          6.915836334228516,
          7.948992729187012,
          5.748946189880371,
          5.721559524536133,
          3.1185882091522217
         ],
         "xaxis": "x",
         "y": [
          2.083364725112915,
          2.0668187141418457,
          2.3411521911621094,
          2.0824708938598633,
          0.8999731540679932,
          0.7244396209716797,
          2.4016637802124023,
          2.264341115951538,
          2.465932846069336
         ],
         "yaxis": "y"
        },
        {
         "hoverlabel": {
          "namelength": 0
         },
         "hovertemplate": "action=watching TV<br>x=%{x}<br>y=%{y}",
         "legendgroup": "action=watching TV",
         "marker": {
          "color": "#19d3f3",
          "symbol": "circle"
         },
         "mode": "markers",
         "name": "action=watching TV",
         "showlegend": true,
         "type": "scatter",
         "x": [
          11.305349349975586,
          3.3476405143737793,
          3.2831597328186035,
          3.8066132068634033,
          3.6562893390655518,
          5.1428680419921875,
          3.2491488456726074,
          5.23284387588501,
          8.084253311157227,
          3.645709991455078
         ],
         "xaxis": "x",
         "y": [
          5.254664421081543,
          1.7394839525222778,
          2.169557809829712,
          2.2022194862365723,
          1.827050805091858,
          3.8651020526885986,
          2.5746214389801025,
          3.9126944541931152,
          1.0787287950515747,
          1.7491772174835205
         ],
         "yaxis": "y"
        },
        {
         "hoverlabel": {
          "namelength": 0
         },
         "hovertemplate": "action=descending stairs<br>x=%{x}<br>y=%{y}",
         "legendgroup": "action=descending stairs",
         "marker": {
          "color": "#FF6692",
          "symbol": "circle"
         },
         "mode": "markers",
         "name": "action=descending stairs",
         "showlegend": true,
         "type": "scatter",
         "x": [
          7.280614852905273,
          8.28454875946045,
          7.472386360168457,
          7.500957012176514,
          7.637418270111084,
          8.18642807006836,
          7.400692462921143,
          7.431133270263672,
          7.78169584274292,
          8.08259105682373
         ],
         "xaxis": "x",
         "y": [
          2.4150960445404053,
          3.330739736557007,
          3.1802978515625,
          3.1493539810180664,
          3.2653915882110596,
          3.662177324295044,
          3.0641746520996094,
          3.196087121963501,
          3.237238883972168,
          3.3845927715301514
         ],
         "yaxis": "y"
        },
        {
         "hoverlabel": {
          "namelength": 0
         },
         "hovertemplate": "action=car driving<br>x=%{x}<br>y=%{y}",
         "legendgroup": "action=car driving",
         "marker": {
          "color": "#B6E880",
          "symbol": "circle"
         },
         "mode": "markers",
         "name": "action=car driving",
         "showlegend": true,
         "type": "scatter",
         "x": [
          9.385790824890137,
          10.912595748901367,
          8.541085243225098,
          9.586674690246582,
          8.124940872192383,
          7.015337944030762,
          8.392045021057129,
          10.384333610534668,
          10.979927062988281,
          11.052114486694336
         ],
         "xaxis": "x",
         "y": [
          6.203617095947266,
          2.1297764778137207,
          2.4177956581115723,
          1.6820675134658813,
          4.403580188751221,
          3.0701379776000977,
          5.7051544189453125,
          5.423724174499512,
          2.136308193206787,
          2.281390905380249
         ],
         "yaxis": "y"
        }
       ],
       "layout": {
        "height": 800,
        "legend": {
         "tracegroupgap": 0
        },
        "margin": {
         "t": 60
        },
        "template": {
         "data": {
          "bar": [
           {
            "error_x": {
             "color": "#2a3f5f"
            },
            "error_y": {
             "color": "#2a3f5f"
            },
            "marker": {
             "line": {
              "color": "#E5ECF6",
              "width": 0.5
             }
            },
            "type": "bar"
           }
          ],
          "barpolar": [
           {
            "marker": {
             "line": {
              "color": "#E5ECF6",
              "width": 0.5
             }
            },
            "type": "barpolar"
           }
          ],
          "carpet": [
           {
            "aaxis": {
             "endlinecolor": "#2a3f5f",
             "gridcolor": "white",
             "linecolor": "white",
             "minorgridcolor": "white",
             "startlinecolor": "#2a3f5f"
            },
            "baxis": {
             "endlinecolor": "#2a3f5f",
             "gridcolor": "white",
             "linecolor": "white",
             "minorgridcolor": "white",
             "startlinecolor": "#2a3f5f"
            },
            "type": "carpet"
           }
          ],
          "choropleth": [
           {
            "colorbar": {
             "outlinewidth": 0,
             "ticks": ""
            },
            "type": "choropleth"
           }
          ],
          "contour": [
           {
            "colorbar": {
             "outlinewidth": 0,
             "ticks": ""
            },
            "colorscale": [
             [
              0,
              "#0d0887"
             ],
             [
              0.1111111111111111,
              "#46039f"
             ],
             [
              0.2222222222222222,
              "#7201a8"
             ],
             [
              0.3333333333333333,
              "#9c179e"
             ],
             [
              0.4444444444444444,
              "#bd3786"
             ],
             [
              0.5555555555555556,
              "#d8576b"
             ],
             [
              0.6666666666666666,
              "#ed7953"
             ],
             [
              0.7777777777777778,
              "#fb9f3a"
             ],
             [
              0.8888888888888888,
              "#fdca26"
             ],
             [
              1,
              "#f0f921"
             ]
            ],
            "type": "contour"
           }
          ],
          "contourcarpet": [
           {
            "colorbar": {
             "outlinewidth": 0,
             "ticks": ""
            },
            "type": "contourcarpet"
           }
          ],
          "heatmap": [
           {
            "colorbar": {
             "outlinewidth": 0,
             "ticks": ""
            },
            "colorscale": [
             [
              0,
              "#0d0887"
             ],
             [
              0.1111111111111111,
              "#46039f"
             ],
             [
              0.2222222222222222,
              "#7201a8"
             ],
             [
              0.3333333333333333,
              "#9c179e"
             ],
             [
              0.4444444444444444,
              "#bd3786"
             ],
             [
              0.5555555555555556,
              "#d8576b"
             ],
             [
              0.6666666666666666,
              "#ed7953"
             ],
             [
              0.7777777777777778,
              "#fb9f3a"
             ],
             [
              0.8888888888888888,
              "#fdca26"
             ],
             [
              1,
              "#f0f921"
             ]
            ],
            "type": "heatmap"
           }
          ],
          "heatmapgl": [
           {
            "colorbar": {
             "outlinewidth": 0,
             "ticks": ""
            },
            "colorscale": [
             [
              0,
              "#0d0887"
             ],
             [
              0.1111111111111111,
              "#46039f"
             ],
             [
              0.2222222222222222,
              "#7201a8"
             ],
             [
              0.3333333333333333,
              "#9c179e"
             ],
             [
              0.4444444444444444,
              "#bd3786"
             ],
             [
              0.5555555555555556,
              "#d8576b"
             ],
             [
              0.6666666666666666,
              "#ed7953"
             ],
             [
              0.7777777777777778,
              "#fb9f3a"
             ],
             [
              0.8888888888888888,
              "#fdca26"
             ],
             [
              1,
              "#f0f921"
             ]
            ],
            "type": "heatmapgl"
           }
          ],
          "histogram": [
           {
            "marker": {
             "colorbar": {
              "outlinewidth": 0,
              "ticks": ""
             }
            },
            "type": "histogram"
           }
          ],
          "histogram2d": [
           {
            "colorbar": {
             "outlinewidth": 0,
             "ticks": ""
            },
            "colorscale": [
             [
              0,
              "#0d0887"
             ],
             [
              0.1111111111111111,
              "#46039f"
             ],
             [
              0.2222222222222222,
              "#7201a8"
             ],
             [
              0.3333333333333333,
              "#9c179e"
             ],
             [
              0.4444444444444444,
              "#bd3786"
             ],
             [
              0.5555555555555556,
              "#d8576b"
             ],
             [
              0.6666666666666666,
              "#ed7953"
             ],
             [
              0.7777777777777778,
              "#fb9f3a"
             ],
             [
              0.8888888888888888,
              "#fdca26"
             ],
             [
              1,
              "#f0f921"
             ]
            ],
            "type": "histogram2d"
           }
          ],
          "histogram2dcontour": [
           {
            "colorbar": {
             "outlinewidth": 0,
             "ticks": ""
            },
            "colorscale": [
             [
              0,
              "#0d0887"
             ],
             [
              0.1111111111111111,
              "#46039f"
             ],
             [
              0.2222222222222222,
              "#7201a8"
             ],
             [
              0.3333333333333333,
              "#9c179e"
             ],
             [
              0.4444444444444444,
              "#bd3786"
             ],
             [
              0.5555555555555556,
              "#d8576b"
             ],
             [
              0.6666666666666666,
              "#ed7953"
             ],
             [
              0.7777777777777778,
              "#fb9f3a"
             ],
             [
              0.8888888888888888,
              "#fdca26"
             ],
             [
              1,
              "#f0f921"
             ]
            ],
            "type": "histogram2dcontour"
           }
          ],
          "mesh3d": [
           {
            "colorbar": {
             "outlinewidth": 0,
             "ticks": ""
            },
            "type": "mesh3d"
           }
          ],
          "parcoords": [
           {
            "line": {
             "colorbar": {
              "outlinewidth": 0,
              "ticks": ""
             }
            },
            "type": "parcoords"
           }
          ],
          "pie": [
           {
            "automargin": true,
            "type": "pie"
           }
          ],
          "scatter": [
           {
            "marker": {
             "colorbar": {
              "outlinewidth": 0,
              "ticks": ""
             }
            },
            "type": "scatter"
           }
          ],
          "scatter3d": [
           {
            "line": {
             "colorbar": {
              "outlinewidth": 0,
              "ticks": ""
             }
            },
            "marker": {
             "colorbar": {
              "outlinewidth": 0,
              "ticks": ""
             }
            },
            "type": "scatter3d"
           }
          ],
          "scattercarpet": [
           {
            "marker": {
             "colorbar": {
              "outlinewidth": 0,
              "ticks": ""
             }
            },
            "type": "scattercarpet"
           }
          ],
          "scattergeo": [
           {
            "marker": {
             "colorbar": {
              "outlinewidth": 0,
              "ticks": ""
             }
            },
            "type": "scattergeo"
           }
          ],
          "scattergl": [
           {
            "marker": {
             "colorbar": {
              "outlinewidth": 0,
              "ticks": ""
             }
            },
            "type": "scattergl"
           }
          ],
          "scattermapbox": [
           {
            "marker": {
             "colorbar": {
              "outlinewidth": 0,
              "ticks": ""
             }
            },
            "type": "scattermapbox"
           }
          ],
          "scatterpolar": [
           {
            "marker": {
             "colorbar": {
              "outlinewidth": 0,
              "ticks": ""
             }
            },
            "type": "scatterpolar"
           }
          ],
          "scatterpolargl": [
           {
            "marker": {
             "colorbar": {
              "outlinewidth": 0,
              "ticks": ""
             }
            },
            "type": "scatterpolargl"
           }
          ],
          "scatterternary": [
           {
            "marker": {
             "colorbar": {
              "outlinewidth": 0,
              "ticks": ""
             }
            },
            "type": "scatterternary"
           }
          ],
          "surface": [
           {
            "colorbar": {
             "outlinewidth": 0,
             "ticks": ""
            },
            "colorscale": [
             [
              0,
              "#0d0887"
             ],
             [
              0.1111111111111111,
              "#46039f"
             ],
             [
              0.2222222222222222,
              "#7201a8"
             ],
             [
              0.3333333333333333,
              "#9c179e"
             ],
             [
              0.4444444444444444,
              "#bd3786"
             ],
             [
              0.5555555555555556,
              "#d8576b"
             ],
             [
              0.6666666666666666,
              "#ed7953"
             ],
             [
              0.7777777777777778,
              "#fb9f3a"
             ],
             [
              0.8888888888888888,
              "#fdca26"
             ],
             [
              1,
              "#f0f921"
             ]
            ],
            "type": "surface"
           }
          ],
          "table": [
           {
            "cells": {
             "fill": {
              "color": "#EBF0F8"
             },
             "line": {
              "color": "white"
             }
            },
            "header": {
             "fill": {
              "color": "#C8D4E3"
             },
             "line": {
              "color": "white"
             }
            },
            "type": "table"
           }
          ]
         },
         "layout": {
          "annotationdefaults": {
           "arrowcolor": "#2a3f5f",
           "arrowhead": 0,
           "arrowwidth": 1
          },
          "coloraxis": {
           "colorbar": {
            "outlinewidth": 0,
            "ticks": ""
           }
          },
          "colorscale": {
           "diverging": [
            [
             0,
             "#8e0152"
            ],
            [
             0.1,
             "#c51b7d"
            ],
            [
             0.2,
             "#de77ae"
            ],
            [
             0.3,
             "#f1b6da"
            ],
            [
             0.4,
             "#fde0ef"
            ],
            [
             0.5,
             "#f7f7f7"
            ],
            [
             0.6,
             "#e6f5d0"
            ],
            [
             0.7,
             "#b8e186"
            ],
            [
             0.8,
             "#7fbc41"
            ],
            [
             0.9,
             "#4d9221"
            ],
            [
             1,
             "#276419"
            ]
           ],
           "sequential": [
            [
             0,
             "#0d0887"
            ],
            [
             0.1111111111111111,
             "#46039f"
            ],
            [
             0.2222222222222222,
             "#7201a8"
            ],
            [
             0.3333333333333333,
             "#9c179e"
            ],
            [
             0.4444444444444444,
             "#bd3786"
            ],
            [
             0.5555555555555556,
             "#d8576b"
            ],
            [
             0.6666666666666666,
             "#ed7953"
            ],
            [
             0.7777777777777778,
             "#fb9f3a"
            ],
            [
             0.8888888888888888,
             "#fdca26"
            ],
            [
             1,
             "#f0f921"
            ]
           ],
           "sequentialminus": [
            [
             0,
             "#0d0887"
            ],
            [
             0.1111111111111111,
             "#46039f"
            ],
            [
             0.2222222222222222,
             "#7201a8"
            ],
            [
             0.3333333333333333,
             "#9c179e"
            ],
            [
             0.4444444444444444,
             "#bd3786"
            ],
            [
             0.5555555555555556,
             "#d8576b"
            ],
            [
             0.6666666666666666,
             "#ed7953"
            ],
            [
             0.7777777777777778,
             "#fb9f3a"
            ],
            [
             0.8888888888888888,
             "#fdca26"
            ],
            [
             1,
             "#f0f921"
            ]
           ]
          },
          "colorway": [
           "#636efa",
           "#EF553B",
           "#00cc96",
           "#ab63fa",
           "#FFA15A",
           "#19d3f3",
           "#FF6692",
           "#B6E880",
           "#FF97FF",
           "#FECB52"
          ],
          "font": {
           "color": "#2a3f5f"
          },
          "geo": {
           "bgcolor": "white",
           "lakecolor": "white",
           "landcolor": "#E5ECF6",
           "showlakes": true,
           "showland": true,
           "subunitcolor": "white"
          },
          "hoverlabel": {
           "align": "left"
          },
          "hovermode": "closest",
          "mapbox": {
           "style": "light"
          },
          "paper_bgcolor": "white",
          "plot_bgcolor": "#E5ECF6",
          "polar": {
           "angularaxis": {
            "gridcolor": "white",
            "linecolor": "white",
            "ticks": ""
           },
           "bgcolor": "#E5ECF6",
           "radialaxis": {
            "gridcolor": "white",
            "linecolor": "white",
            "ticks": ""
           }
          },
          "scene": {
           "xaxis": {
            "backgroundcolor": "#E5ECF6",
            "gridcolor": "white",
            "gridwidth": 2,
            "linecolor": "white",
            "showbackground": true,
            "ticks": "",
            "zerolinecolor": "white"
           },
           "yaxis": {
            "backgroundcolor": "#E5ECF6",
            "gridcolor": "white",
            "gridwidth": 2,
            "linecolor": "white",
            "showbackground": true,
            "ticks": "",
            "zerolinecolor": "white"
           },
           "zaxis": {
            "backgroundcolor": "#E5ECF6",
            "gridcolor": "white",
            "gridwidth": 2,
            "linecolor": "white",
            "showbackground": true,
            "ticks": "",
            "zerolinecolor": "white"
           }
          },
          "shapedefaults": {
           "line": {
            "color": "#2a3f5f"
           }
          },
          "ternary": {
           "aaxis": {
            "gridcolor": "white",
            "linecolor": "white",
            "ticks": ""
           },
           "baxis": {
            "gridcolor": "white",
            "linecolor": "white",
            "ticks": ""
           },
           "bgcolor": "#E5ECF6",
           "caxis": {
            "gridcolor": "white",
            "linecolor": "white",
            "ticks": ""
           }
          },
          "title": {
           "x": 0.05
          },
          "xaxis": {
           "automargin": true,
           "gridcolor": "white",
           "linecolor": "white",
           "ticks": "",
           "title": {
            "standoff": 15
           },
           "zerolinecolor": "white",
           "zerolinewidth": 2
          },
          "yaxis": {
           "automargin": true,
           "gridcolor": "white",
           "linecolor": "white",
           "ticks": "",
           "title": {
            "standoff": 15
           },
           "zerolinecolor": "white",
           "zerolinewidth": 2
          }
         }
        },
        "width": 800,
        "xaxis": {
         "anchor": "y",
         "domain": [
          0,
          1
         ],
         "title": {
          "text": "x"
         }
        },
        "yaxis": {
         "anchor": "x",
         "domain": [
          0,
          1
         ],
         "title": {
          "text": "y"
         }
        }
       }
      }
     },
     "metadata": {},
     "output_type": "display_data"
    }
   ],
   "source": [
    "umap_simulate(ae_model1, skel_dl, Id2Label)"
   ]
  },
  {
   "attachments": {},
   "cell_type": "markdown",
   "metadata": {},
   "source": [
    "---\n",
    "train on SupCons loss function"
   ]
  },
  {
   "cell_type": "code",
   "execution_count": 34,
   "metadata": {},
   "outputs": [],
   "source": [
    "class SkeletonDataset(Dataset):\n",
    "    def __init__(self, movements, actions, action_dict, seq_len=60):\n",
    "        super(SkeletonDataset, self).__init__()\n",
    "        self.movements = movements[:, :seq_len, ...]\n",
    "        self.actions = actions\n",
    "        self.action_dict = deepcopy(dict(action_dict))\n",
    "        self.actionsIDs = list(self.action_dict.keys())\n",
    "        \n",
    "\n",
    "    def __getitem__(self, idx):\n",
    "        x1 = self.movements[idx, ...]\n",
    "        action = self.actions[idx]\n",
    "\n",
    "        partial_idx = random.sample(self.action_dict[action], k=1)[0]\n",
    "        x2 = self.movements[partial_idx, ...]\n",
    "\n",
    "        label = self.actionsIDs.index(action)\n",
    "        # return np.transpose(x1, (1,0,2)), np.transpose(x2, (1,0,2)), label\n",
    "        return x1, x2, label\n",
    "\n",
    "    def __len__(self):\n",
    "        return self.movements.shape[0]\n",
    "\n",
    "    def getShape(self):\n",
    "        return self.movements[0, ...].shape"
   ]
  },
  {
   "cell_type": "code",
   "execution_count": 67,
   "metadata": {},
   "outputs": [],
   "source": [
    "from torchmetrics.functional import pairwise_euclidean_distance"
   ]
  },
  {
   "cell_type": "code",
   "execution_count": 70,
   "metadata": {},
   "outputs": [],
   "source": [
    "def ae_train_step2(model , dataloader, optimizer, loss_module, device, batch_size, phase='train', l2_reg=False, loss_alpha=0.7):\n",
    "    model = model.train()\n",
    "    model.to(device)\n",
    "\n",
    "    epoch_loss = 0 \n",
    "    total_samples = 0 \n",
    "\n",
    "    with tqdm(dataloader, unit='batch', desc=phase) as tepoch:\n",
    "        for batch in tepoch:\n",
    "            x1, x2, labels = batch \n",
    "            # post-process \n",
    "            xa = torch.vstack([x1, x2]) \n",
    "            xa = xa.float().to(device)\n",
    "            labels = labels.float()\n",
    "\n",
    "            # set optimizer grad to zero \n",
    "            optimizer.zero_grad()\n",
    "            # get model prediction \n",
    "            with torch.set_grad_enabled(phase=='train'):\n",
    "                skel_output, ft_output = model(xa)\n",
    "\n",
    "            # reconstruct the output \n",
    "            f1, f2 = torch.split(ft_output, [batch_size//2, batch_size//2], dim=0)\n",
    "            cons_output = torch.stack([f1.squeeze(1), f2.squeeze(1)], dim=1)\n",
    "            # calc. contrastive loss \n",
    "            # print(\"mean distance > \", torch.diagonal(pairwise_euclidean_distance(f1, f2)).mean())\n",
    "            loss = loss_module['contrast'](cons_output, labels)\n",
    "\n",
    "            l2_lambda = 0.01\n",
    "            l2_reg = torch.tensor(0.).to(device)\n",
    "\n",
    "            for param in model.parameters():\n",
    "                l2_reg += torch.norm(param)\n",
    "\n",
    "            loss += l2_lambda * l2_reg\n",
    "\n",
    "            if phase == 'train':\n",
    "                loss.backward()\n",
    "                optimizer.step()\n",
    "\n",
    "            metrics = {'loss ': loss.item()}\n",
    "            with torch.no_grad():\n",
    "                    total_samples += len(labels)\n",
    "                    epoch_loss += loss.item()\n",
    "            \n",
    "            tepoch.set_postfix(metrics)\n",
    "\n",
    "    epoch_loss = epoch_loss/total_samples\n",
    "    return metrics"
   ]
  },
  {
   "cell_type": "code",
   "execution_count": 71,
   "metadata": {},
   "outputs": [
    {
     "name": "stderr",
     "output_type": "stream",
     "text": [
      "Training Epoch:   0%|          | 0/5 [00:00<?, ?it/s]c:\\Users\\deela\\anaconda3\\envs\\mvts_trans\\lib\\site-packages\\torchmetrics\\functional\\pairwise\\euclidean.py:34: UserWarning:\n",
      "\n",
      "The use of `x.T` on tensors of dimension other than 2 to reverse their shape is deprecated and it will throw an error in a future release. Consider `x.mT` to transpose batches of matricesor `x.permute(*torch.arange(x.ndim - 1, -1, -1))` to reverse the dimensions of a tensor. (Triggered internally at  C:\\cb\\pytorch_1000000000000\\work\\aten\\src\\ATen\\native\\TensorShape.cpp:2985.)\n",
      "\n"
     ]
    },
    {
     "name": "stdout",
     "output_type": "stream",
     "text": [
      "mean distance >  tensor(3.7765, device='cuda:0', grad_fn=<MeanBackward0>)\n",
      "mean distance >  tensor(2.8992, device='cuda:0', grad_fn=<MeanBackward0>)\n"
     ]
    },
    {
     "name": "stderr",
     "output_type": "stream",
     "text": []
    },
    {
     "name": "stdout",
     "output_type": "stream",
     "text": [
      "mean distance >  tensor(4.2843, device='cuda:0', grad_fn=<MeanBackward0>)\n",
      "mean distance >  tensor(5.1875, device='cuda:0', grad_fn=<MeanBackward0>)\n",
      "mean distance >  tensor(4.8355, device='cuda:0', grad_fn=<MeanBackward0>)\n"
     ]
    },
    {
     "name": "stderr",
     "output_type": "stream",
     "text": []
    },
    {
     "name": "stdout",
     "output_type": "stream",
     "text": [
      "mean distance >  tensor(5.1309, device='cuda:0', grad_fn=<MeanBackward0>)\n",
      "mean distance >  tensor(6.2573, device='cuda:0', grad_fn=<MeanBackward0>)\n",
      "mean distance >  tensor(10.5736, device='cuda:0', grad_fn=<MeanBackward0>)\n",
      "mean distance >  tensor(3.4541, device='cuda:0', grad_fn=<MeanBackward0>)\n"
     ]
    },
    {
     "name": "stderr",
     "output_type": "stream",
     "text": [
      "\n"
     ]
    },
    {
     "name": "stdout",
     "output_type": "stream",
     "text": [
      "mean distance >  tensor(4.6498, device='cuda:0', grad_fn=<MeanBackward0>)\n",
      "mean distance >  tensor(6.3178, device='cuda:0', grad_fn=<MeanBackward0>)\n",
      "mean distance >  tensor(2.7107, device='cuda:0', grad_fn=<MeanBackward0>)\n",
      "mean distance >  tensor(3.2321, device='cuda:0', grad_fn=<MeanBackward0>)\n",
      "mean distance >  tensor(5.4661, device='cuda:0', grad_fn=<MeanBackward0>)\n"
     ]
    },
    {
     "name": "stderr",
     "output_type": "stream",
     "text": [
      "train:  59%|█████▉    | 13/22 [00:01<00:00, 15.74batch/s, loss =nan]\u001b[A\n"
     ]
    },
    {
     "name": "stdout",
     "output_type": "stream",
     "text": [
      "mean distance >  tensor(4.7403, device='cuda:0', grad_fn=<MeanBackward0>)\n",
      "mean distance >  tensor(3.7771, device='cuda:0', grad_fn=<MeanBackward0>)\n",
      "mean distance >  tensor(3.6717, device='cuda:0', grad_fn=<MeanBackward0>)\n",
      "mean distance >  tensor(6.1234, device='cuda:0', grad_fn=<MeanBackward0>)\n",
      "mean distance >  tensor(4.4318, device='cuda:0', grad_fn=<MeanBackward0>)\n",
      "mean distance >  tensor(6.6952, device='cuda:0', grad_fn=<MeanBackward0>)\n"
     ]
    },
    {
     "name": "stderr",
     "output_type": "stream",
     "text": [
      "train: 100%|██████████| 22/22 [00:01<00:00, 17.19batch/s, loss =850]\u001b[A\n",
      "Training Epoch:  20%|██        | 1/5 [00:01<00:05,  1.29s/it]"
     ]
    },
    {
     "name": "stdout",
     "output_type": "stream",
     "text": [
      "mean distance >  tensor(6.5810, device='cuda:0', grad_fn=<MeanBackward0>)\n",
      "mean distance >  tensor(6.3322, device='cuda:0', grad_fn=<MeanBackward0>)\n"
     ]
    },
    {
     "name": "stderr",
     "output_type": "stream",
     "text": []
    },
    {
     "name": "stdout",
     "output_type": "stream",
     "text": [
      "mean distance >  tensor(6.5015, device='cuda:0', grad_fn=<MeanBackward0>)\n",
      "mean distance >  tensor(5.5215, device='cuda:0', grad_fn=<MeanBackward0>)\n"
     ]
    },
    {
     "name": "stderr",
     "output_type": "stream",
     "text": [
      "\n"
     ]
    },
    {
     "name": "stdout",
     "output_type": "stream",
     "text": [
      "mean distance >  tensor(4.5038, device='cuda:0', grad_fn=<MeanBackward0>)\n",
      "mean distance >  tensor(4.7510, device='cuda:0', grad_fn=<MeanBackward0>)\n"
     ]
    },
    {
     "name": "stderr",
     "output_type": "stream",
     "text": [
      "train:   9%|▉         | 2/22 [00:00<00:01, 13.07batch/s, loss =nan]\u001b[A\n"
     ]
    },
    {
     "name": "stdout",
     "output_type": "stream",
     "text": [
      "mean distance >  tensor(3.5273, device='cuda:0', grad_fn=<MeanBackward0>)\n",
      "mean distance >  tensor(5.8696, device='cuda:0', grad_fn=<MeanBackward0>)\n",
      "mean distance >  tensor(4.6351, device='cuda:0', grad_fn=<MeanBackward0>)\n",
      "mean distance >  tensor(5.8049, device='cuda:0', grad_fn=<MeanBackward0>)\n"
     ]
    },
    {
     "name": "stderr",
     "output_type": "stream",
     "text": [
      "train:  23%|██▎       | 5/22 [00:00<00:00, 20.94batch/s, loss =nan]    \u001b[A\n"
     ]
    },
    {
     "name": "stdout",
     "output_type": "stream",
     "text": [
      "mean distance >  tensor(6.7633, device='cuda:0', grad_fn=<MeanBackward0>)\n",
      "mean distance >  tensor(4.9255, device='cuda:0', grad_fn=<MeanBackward0>)\n"
     ]
    },
    {
     "name": "stderr",
     "output_type": "stream",
     "text": [
      "train:  36%|███▋      | 8/22 [00:00<00:00, 24.55batch/s, loss =1.15e+3]\u001b[A\n"
     ]
    },
    {
     "name": "stdout",
     "output_type": "stream",
     "text": [
      "mean distance >  tensor(5.8154, device='cuda:0', grad_fn=<MeanBackward0>)\n",
      "mean distance >  tensor(4.8397, device='cuda:0', grad_fn=<MeanBackward0>)\n",
      "mean distance >  tensor(4.2415, device='cuda:0', grad_fn=<MeanBackward0>)\n",
      "mean distance >  tensor(3.1340, device='cuda:0', grad_fn=<MeanBackward0>)\n"
     ]
    },
    {
     "name": "stderr",
     "output_type": "stream",
     "text": [
      "train:  50%|█████     | 11/22 [00:00<00:00, 26.25batch/s, loss =nan]\u001b[A\n"
     ]
    },
    {
     "name": "stdout",
     "output_type": "stream",
     "text": [
      "mean distance >  tensor(6.3272, device='cuda:0', grad_fn=<MeanBackward0>)\n",
      "mean distance >  tensor(2.8959, device='cuda:0', grad_fn=<MeanBackward0>)\n"
     ]
    },
    {
     "name": "stderr",
     "output_type": "stream",
     "text": [
      "train:  64%|██████▎   | 14/22 [00:00<00:00, 27.52batch/s, loss =290]    \u001b[A\n"
     ]
    },
    {
     "name": "stdout",
     "output_type": "stream",
     "text": [
      "mean distance >  tensor(5.0656, device='cuda:0', grad_fn=<MeanBackward0>)\n",
      "mean distance >  tensor(4.0743, device='cuda:0', grad_fn=<MeanBackward0>)\n",
      "mean distance >  tensor(4.2792, device='cuda:0', grad_fn=<MeanBackward0>)\n",
      "mean distance >  tensor(4.6072, device='cuda:0', grad_fn=<MeanBackward0>)\n"
     ]
    },
    {
     "name": "stderr",
     "output_type": "stream",
     "text": [
      "train:  77%|███████▋  | 17/22 [00:00<00:00, 28.00batch/s, loss =nan]\u001b[A"
     ]
    },
    {
     "name": "stdout",
     "output_type": "stream",
     "text": [
      "mean distance >  tensor(5.8224, device='cuda:0', grad_fn=<MeanBackward0>)\n",
      "mean distance >  tensor(5.2404, device='cuda:0', grad_fn=<MeanBackward0>)\n"
     ]
    },
    {
     "name": "stderr",
     "output_type": "stream",
     "text": [
      "train: 100%|██████████| 22/22 [00:00<00:00, 26.46batch/s, loss =nan]\n",
      "Training Epoch:  40%|████      | 2/5 [00:02<00:03,  1.03s/it]\n"
     ]
    },
    {
     "name": "stdout",
     "output_type": "stream",
     "text": [
      "mean distance >  tensor(5.2136, device='cuda:0', grad_fn=<MeanBackward0>)\n",
      "mean distance >  tensor(7.3227, device='cuda:0', grad_fn=<MeanBackward0>)\n",
      "mean distance >  tensor(4.3702, device='cuda:0', grad_fn=<MeanBackward0>)\n",
      "mean distance >  tensor(6.0179, device='cuda:0', grad_fn=<MeanBackward0>)\n"
     ]
    },
    {
     "name": "stderr",
     "output_type": "stream",
     "text": [
      "train:  14%|█▎        | 3/22 [00:00<00:00, 29.98batch/s, loss =nan]\u001b[A\n"
     ]
    },
    {
     "name": "stdout",
     "output_type": "stream",
     "text": [
      "mean distance >  tensor(7.3224, device='cuda:0', grad_fn=<MeanBackward0>)\n",
      "mean distance >  tensor(4.4342, device='cuda:0', grad_fn=<MeanBackward0>)\n"
     ]
    },
    {
     "name": "stderr",
     "output_type": "stream",
     "text": [
      "train:  14%|█▎        | 3/22 [00:00<00:00, 29.98batch/s, loss =401]\u001b[A"
     ]
    },
    {
     "name": "stdout",
     "output_type": "stream",
     "text": [
      "mean distance >  tensor(3.7502, device='cuda:0', grad_fn=<MeanBackward0>)\n",
      "mean distance >  tensor(4.3920, device='cuda:0', grad_fn=<MeanBackward0>)\n",
      "mean distance >  tensor(4.0451, device='cuda:0', grad_fn=<MeanBackward0>)\n"
     ]
    },
    {
     "name": "stderr",
     "output_type": "stream",
     "text": [
      "\n"
     ]
    },
    {
     "name": "stdout",
     "output_type": "stream",
     "text": [
      "mean distance >  tensor(5.2143, device='cuda:0', grad_fn=<MeanBackward0>)\n",
      "mean distance >  tensor(5.0557, device='cuda:0', grad_fn=<MeanBackward0>)\n",
      "mean distance >  tensor(5.6477, device='cuda:0', grad_fn=<MeanBackward0>)\n",
      "mean distance >  tensor(4.7270, device='cuda:0', grad_fn=<MeanBackward0>)\n"
     ]
    },
    {
     "name": "stderr",
     "output_type": "stream",
     "text": [
      "train:  55%|█████▍    | 12/22 [00:00<00:00, 18.46batch/s, loss =476]\u001b[A\n"
     ]
    },
    {
     "name": "stdout",
     "output_type": "stream",
     "text": [
      "mean distance >  tensor(5.2905, device='cuda:0', grad_fn=<MeanBackward0>)\n",
      "mean distance >  tensor(6.5536, device='cuda:0', grad_fn=<MeanBackward0>)\n",
      "mean distance >  tensor(4.6864, device='cuda:0', grad_fn=<MeanBackward0>)\n",
      "mean distance >  tensor(4.9401, device='cuda:0', grad_fn=<MeanBackward0>)\n",
      "mean distance >  tensor(4.5793, device='cuda:0', grad_fn=<MeanBackward0>)\n",
      "mean distance >  tensor(4.2530, device='cuda:0', grad_fn=<MeanBackward0>)\n"
     ]
    },
    {
     "name": "stderr",
     "output_type": "stream",
     "text": [
      "train: 100%|██████████| 22/22 [00:00<00:00, 23.68batch/s, loss =543]\u001b[A\n",
      "Training Epoch:  60%|██████    | 3/5 [00:03<00:01,  1.01it/s]"
     ]
    },
    {
     "name": "stdout",
     "output_type": "stream",
     "text": [
      "mean distance >  tensor(5.2447, device='cuda:0', grad_fn=<MeanBackward0>)\n",
      "mean distance >  tensor(5.2274, device='cuda:0', grad_fn=<MeanBackward0>)\n",
      "mean distance >  tensor(3.9615, device='cuda:0', grad_fn=<MeanBackward0>)\n"
     ]
    },
    {
     "name": "stderr",
     "output_type": "stream",
     "text": [
      "\n"
     ]
    },
    {
     "name": "stdout",
     "output_type": "stream",
     "text": [
      "mean distance >  tensor(5.5822, device='cuda:0', grad_fn=<MeanBackward0>)\n",
      "mean distance >  tensor(3.7915, device='cuda:0', grad_fn=<MeanBackward0>)\n",
      "mean distance >  tensor(4.1873, device='cuda:0', grad_fn=<MeanBackward0>)\n"
     ]
    },
    {
     "name": "stderr",
     "output_type": "stream",
     "text": [
      "train:   0%|          | 0/22 [00:00<?, ?batch/s, loss =345]\u001b[A"
     ]
    },
    {
     "name": "stdout",
     "output_type": "stream",
     "text": [
      "mean distance >  tensor(3.1279, device='cuda:0', grad_fn=<MeanBackward0>)\n",
      "mean distance >  tensor(4.5456, device='cuda:0', grad_fn=<MeanBackward0>)\n",
      "mean distance >  tensor(5.7578, device='cuda:0', grad_fn=<MeanBackward0>)\n"
     ]
    },
    {
     "name": "stderr",
     "output_type": "stream",
     "text": [
      "\n"
     ]
    },
    {
     "name": "stdout",
     "output_type": "stream",
     "text": [
      "mean distance >  tensor(3.6245, device='cuda:0', grad_fn=<MeanBackward0>)\n",
      "mean distance >  tensor(4.2527, device='cuda:0', grad_fn=<MeanBackward0>)\n",
      "mean distance >  tensor(6.6150, device='cuda:0', grad_fn=<MeanBackward0>)\n"
     ]
    },
    {
     "name": "stderr",
     "output_type": "stream",
     "text": [
      "train:  36%|███▋      | 8/22 [00:00<00:00, 29.35batch/s, loss =nan]\u001b[A\n"
     ]
    },
    {
     "name": "stdout",
     "output_type": "stream",
     "text": [
      "mean distance >  tensor(6.9985, device='cuda:0', grad_fn=<MeanBackward0>)\n",
      "mean distance >  tensor(3.4491, device='cuda:0', grad_fn=<MeanBackward0>)\n",
      "mean distance >  tensor(5.0618, device='cuda:0', grad_fn=<MeanBackward0>)\n"
     ]
    },
    {
     "name": "stderr",
     "output_type": "stream",
     "text": [
      "train:  50%|█████     | 11/22 [00:00<00:00, 29.60batch/s, loss =nan]\u001b[A\n"
     ]
    },
    {
     "name": "stdout",
     "output_type": "stream",
     "text": [
      "mean distance >  tensor(3.3335, device='cuda:0', grad_fn=<MeanBackward0>)\n",
      "mean distance >  tensor(5.1155, device='cuda:0', grad_fn=<MeanBackward0>)\n",
      "mean distance >  tensor(6.4547, device='cuda:0', grad_fn=<MeanBackward0>)\n"
     ]
    },
    {
     "name": "stderr",
     "output_type": "stream",
     "text": [
      "train:  64%|██████▎   | 14/22 [00:00<00:00, 29.43batch/s, loss =nan]\u001b[A\n"
     ]
    },
    {
     "name": "stdout",
     "output_type": "stream",
     "text": [
      "mean distance >  tensor(6.1656, device='cuda:0', grad_fn=<MeanBackward0>)\n",
      "mean distance >  tensor(4.4323, device='cuda:0', grad_fn=<MeanBackward0>)\n",
      "mean distance >  tensor(5.2469, device='cuda:0', grad_fn=<MeanBackward0>)\n"
     ]
    },
    {
     "name": "stderr",
     "output_type": "stream",
     "text": [
      "train:  77%|███████▋  | 17/22 [00:00<00:00, 29.61batch/s, loss =nan]\u001b[A\n"
     ]
    },
    {
     "name": "stdout",
     "output_type": "stream",
     "text": [
      "mean distance >  tensor(2.7297, device='cuda:0', grad_fn=<MeanBackward0>)\n",
      "mean distance >  tensor(4.0667, device='cuda:0', grad_fn=<MeanBackward0>)\n",
      "mean distance >  tensor(5.0722, device='cuda:0', grad_fn=<MeanBackward0>)\n"
     ]
    },
    {
     "name": "stderr",
     "output_type": "stream",
     "text": [
      "train: 100%|██████████| 22/22 [00:00<00:00, 29.43batch/s, loss =494]\u001b[A\n",
      "Training Epoch:  80%|████████  | 4/5 [00:03<00:00,  1.12it/s]"
     ]
    },
    {
     "name": "stdout",
     "output_type": "stream",
     "text": [
      "mean distance >  tensor(5.3859, device='cuda:0', grad_fn=<MeanBackward0>)\n"
     ]
    },
    {
     "name": "stderr",
     "output_type": "stream",
     "text": [
      "\n"
     ]
    },
    {
     "name": "stdout",
     "output_type": "stream",
     "text": [
      "mean distance >  tensor(5.3356, device='cuda:0', grad_fn=<MeanBackward0>)\n",
      "mean distance >  tensor(3.9852, device='cuda:0', grad_fn=<MeanBackward0>)\n"
     ]
    },
    {
     "name": "stderr",
     "output_type": "stream",
     "text": [
      "train:   0%|          | 0/22 [00:00<?, ?batch/s, loss =nan]\u001b[A"
     ]
    },
    {
     "name": "stdout",
     "output_type": "stream",
     "text": [
      "mean distance >  tensor(4.3649, device='cuda:0', grad_fn=<MeanBackward0>)\n"
     ]
    },
    {
     "name": "stderr",
     "output_type": "stream",
     "text": [
      "\n"
     ]
    },
    {
     "name": "stdout",
     "output_type": "stream",
     "text": [
      "mean distance >  tensor(7.4822, device='cuda:0', grad_fn=<MeanBackward0>)\n"
     ]
    },
    {
     "name": "stderr",
     "output_type": "stream",
     "text": [
      "train:  14%|█▎        | 3/22 [00:00<00:00, 28.84batch/s, loss =nan]\u001b[A\n"
     ]
    },
    {
     "name": "stdout",
     "output_type": "stream",
     "text": [
      "mean distance >  tensor(4.0225, device='cuda:0', grad_fn=<MeanBackward0>)\n",
      "mean distance >  tensor(6.1714, device='cuda:0', grad_fn=<MeanBackward0>)\n"
     ]
    },
    {
     "name": "stderr",
     "output_type": "stream",
     "text": [
      "train:  14%|█▎        | 3/22 [00:00<00:00, 28.84batch/s, loss =nan]\u001b[A\n",
      "train:  27%|██▋       | 6/22 [00:00<00:00, 20.01batch/s, loss =nan]"
     ]
    },
    {
     "name": "stdout",
     "output_type": "stream",
     "text": [
      "mean distance >  tensor(5.3207, device='cuda:0', grad_fn=<MeanBackward0>)\n",
      "mean distance >  tensor(3.9680, device='cuda:0', grad_fn=<MeanBackward0>)\n"
     ]
    },
    {
     "name": "stderr",
     "output_type": "stream",
     "text": [
      "\u001b[A\n"
     ]
    },
    {
     "name": "stdout",
     "output_type": "stream",
     "text": [
      "mean distance >  tensor(4.5435, device='cuda:0', grad_fn=<MeanBackward0>)\n",
      "mean distance >  tensor(5.4003, device='cuda:0', grad_fn=<MeanBackward0>)\n"
     ]
    },
    {
     "name": "stderr",
     "output_type": "stream",
     "text": [
      "train:  41%|████      | 9/22 [00:00<00:00, 23.00batch/s, loss =398]\u001b[A"
     ]
    },
    {
     "name": "stdout",
     "output_type": "stream",
     "text": [
      "mean distance >  tensor(5.1208, device='cuda:0', grad_fn=<MeanBackward0>)\n",
      "mean distance >  tensor(6.0844, device='cuda:0', grad_fn=<MeanBackward0>)\n"
     ]
    },
    {
     "name": "stderr",
     "output_type": "stream",
     "text": [
      "\n"
     ]
    },
    {
     "name": "stdout",
     "output_type": "stream",
     "text": [
      "mean distance >  tensor(5.0737, device='cuda:0', grad_fn=<MeanBackward0>)\n",
      "mean distance >  tensor(6.0313, device='cuda:0', grad_fn=<MeanBackward0>)\n"
     ]
    },
    {
     "name": "stderr",
     "output_type": "stream",
     "text": [
      "train:  55%|█████▍    | 12/22 [00:00<00:00, 24.91batch/s, loss =735]\u001b[A"
     ]
    },
    {
     "name": "stdout",
     "output_type": "stream",
     "text": [
      "mean distance >  tensor(4.8116, device='cuda:0', grad_fn=<MeanBackward0>)\n",
      "mean distance >  tensor(4.2905, device='cuda:0', grad_fn=<MeanBackward0>)\n"
     ]
    },
    {
     "name": "stderr",
     "output_type": "stream",
     "text": [
      "\n"
     ]
    },
    {
     "name": "stdout",
     "output_type": "stream",
     "text": [
      "mean distance >  tensor(6.9201, device='cuda:0', grad_fn=<MeanBackward0>)\n",
      "mean distance >  tensor(5.2067, device='cuda:0', grad_fn=<MeanBackward0>)\n"
     ]
    },
    {
     "name": "stderr",
     "output_type": "stream",
     "text": [
      "train:  68%|██████▊   | 15/22 [00:00<00:00, 26.20batch/s, loss =nan]\u001b[A\n"
     ]
    },
    {
     "name": "stdout",
     "output_type": "stream",
     "text": [
      "mean distance >  tensor(3.3738, device='cuda:0', grad_fn=<MeanBackward0>)\n",
      "mean distance >  tensor(3.3369, device='cuda:0', grad_fn=<MeanBackward0>)\n"
     ]
    },
    {
     "name": "stderr",
     "output_type": "stream",
     "text": [
      "train:  82%|████████▏ | 18/22 [00:00<00:00, 27.21batch/s, loss =259]    \u001b[A"
     ]
    },
    {
     "name": "stdout",
     "output_type": "stream",
     "text": [
      "mean distance >  tensor(6.8642, device='cuda:0', grad_fn=<MeanBackward0>)\n",
      "mean distance >  tensor(5.6718, device='cuda:0', grad_fn=<MeanBackward0>)\n"
     ]
    },
    {
     "name": "stderr",
     "output_type": "stream",
     "text": [
      "train: 100%|██████████| 22/22 [00:00<00:00, 26.08batch/s, loss =nan]\n",
      "                                                             \r"
     ]
    }
   ],
   "source": [
    "skel_dt = SkeletonDataset(skeleton_mov, skeleton_Ids, action_dict, seq_len=config['seq_len'])\n",
    "skel_dl = DataLoader(skel_dt, batch_size=config['batch_size']//2, shuffle=True, pin_memory=True, drop_last=True)\n",
    "\n",
    "ae_model1 = TCNEncoderDecoder(seq_len=50, num_features=36, num_channels=[40,40,40,30,20,4], embedding_size=128, kernel_size=3, dropout=0.3)\n",
    "prep_dir = './tmp/epoch150_randsample_input_l1.pt'\n",
    "ae_model1.load_state_dict(torch.load(prep_dir))\n",
    "\n",
    "optim = Adagrad(ae_model1.parameters(), lr=0.0001)\n",
    "ae_loss_module = {'contrast': SupConLoss(temperature=0.07, contrast_mode='one')}\n",
    "for epoch in tqdm(range(5), desc='Training Epoch', leave=False):\n",
    "    ae_train_metrics = ae_train_step2(ae_model, skel_dl, optim, ae_loss_module, device, config['batch_size'], phase='train', loss_alpha=config['ae_alpha'])\n",
    "    "
   ]
  },
  {
   "cell_type": "code",
   "execution_count": 42,
   "metadata": {},
   "outputs": [
    {
     "name": "stderr",
     "output_type": "stream",
     "text": [
      "c:\\Users\\deela\\anaconda3\\envs\\mvts_trans\\lib\\site-packages\\sklearn\\manifold\\_t_sne.py:800: FutureWarning:\n",
      "\n",
      "The default initialization in TSNE will change from 'random' to 'pca' in 1.2.\n",
      "\n",
      "c:\\Users\\deela\\anaconda3\\envs\\mvts_trans\\lib\\site-packages\\sklearn\\manifold\\_t_sne.py:810: FutureWarning:\n",
      "\n",
      "The default learning rate in TSNE will change from 200.0 to 'auto' in 1.2.\n",
      "\n"
     ]
    },
    {
     "data": {
      "application/vnd.plotly.v1+json": {
       "config": {
        "plotlyServerURL": "https://plot.ly"
       },
       "data": [
        {
         "hoverlabel": {
          "namelength": 0
         },
         "hovertemplate": "action=Nordic walking<br>x=%{x}<br>y=%{y}",
         "legendgroup": "action=Nordic walking",
         "marker": {
          "color": "#636efa",
          "symbol": "circle"
         },
         "mode": "markers",
         "name": "action=Nordic walking",
         "showlegend": true,
         "type": "scatter",
         "x": [
          -5.669633865356445,
          -4.980532169342041,
          -3.1593658924102783,
          -7.785221576690674,
          5.151779651641846,
          4.747795104980469,
          -5.398375034332275
         ],
         "xaxis": "x",
         "y": [
          -5.95695686340332,
          -0.5573990345001221,
          -2.142268180847168,
          0.9134211540222168,
          -3.688272476196289,
          -2.30961537361145,
          2.112236499786377
         ],
         "yaxis": "y"
        },
        {
         "hoverlabel": {
          "namelength": 0
         },
         "hovertemplate": "action=cycling<br>x=%{x}<br>y=%{y}",
         "legendgroup": "action=cycling",
         "marker": {
          "color": "#EF553B",
          "symbol": "circle"
         },
         "mode": "markers",
         "name": "action=cycling",
         "showlegend": true,
         "type": "scatter",
         "x": [
          0.47298118472099304,
          -0.9903059005737305,
          -0.010501273907721043,
          1.0150829553604126,
          -9.939197540283203,
          1.255865454673767,
          -2.3750226497650146,
          -2.414628267288208,
          0.2797788381576538,
          -1.6487513780593872
         ],
         "xaxis": "x",
         "y": [
          4.2939887046813965,
          5.0492844581604,
          4.140859127044678,
          0.47602787613868713,
          1.210347056388855,
          0.7986351251602173,
          -4.4455742835998535,
          -2.70051646232605,
          6.576329231262207,
          4.918660640716553
         ],
         "yaxis": "y"
        },
        {
         "hoverlabel": {
          "namelength": 0
         },
         "hovertemplate": "action=rope jumping<br>x=%{x}<br>y=%{y}",
         "legendgroup": "action=rope jumping",
         "marker": {
          "color": "#00cc96",
          "symbol": "circle"
         },
         "mode": "markers",
         "name": "action=rope jumping",
         "showlegend": true,
         "type": "scatter",
         "x": [
          -7.699731349945068,
          -2.39424991607666,
          -7.510088920593262,
          2.5800740718841553,
          -1.7443108558654785,
          -7.6054253578186035,
          -4.044127941131592,
          2.8189167976379395,
          -3.9437761306762695,
          -7.0837531089782715
         ],
         "xaxis": "x",
         "y": [
          1.6941264867782593,
          -5.800588130950928,
          4.20609712600708,
          6.736511707305908,
          -6.023031711578369,
          -0.54573655128479,
          4.791772842407227,
          -0.5309592485427856,
          -6.483063220977783,
          0.28843623399734497
         ],
         "yaxis": "y"
        },
        {
         "hoverlabel": {
          "namelength": 0
         },
         "hovertemplate": "action=vacuum cleaning<br>x=%{x}<br>y=%{y}",
         "legendgroup": "action=vacuum cleaning",
         "marker": {
          "color": "#ab63fa",
          "symbol": "circle"
         },
         "mode": "markers",
         "name": "action=vacuum cleaning",
         "showlegend": true,
         "type": "scatter",
         "x": [
          -6.18111515045166,
          1.7233967781066895,
          -6.156691074371338,
          -4.147116661071777,
          2.4243881702423096,
          0.16982342302799225,
          -2.733323097229004,
          -6.203911304473877,
          -1.232690453529358
         ],
         "xaxis": "x",
         "y": [
          4.7031168937683105,
          5.112017631530762,
          -5.2600483894348145,
          3.905414342880249,
          5.899214744567871,
          1.396620512008667,
          2.644376277923584,
          2.939880609512329,
          2.951619863510132
         ],
         "yaxis": "y"
        },
        {
         "hoverlabel": {
          "namelength": 0
         },
         "hovertemplate": "action=watching TV<br>x=%{x}<br>y=%{y}",
         "legendgroup": "action=watching TV",
         "marker": {
          "color": "#FFA15A",
          "symbol": "circle"
         },
         "mode": "markers",
         "name": "action=watching TV",
         "showlegend": true,
         "type": "scatter",
         "x": [
          6.367332458496094,
          2.157042980194092,
          -5.924632549285889,
          -1.7578248977661133,
          6.585844039916992,
          -8.027937889099121
         ],
         "xaxis": "x",
         "y": [
          4.831098556518555,
          1.3269226551055908,
          1.3762041330337524,
          1.4944924116134644,
          4.8621907234191895,
          6.510471820831299
         ],
         "yaxis": "y"
        },
        {
         "hoverlabel": {
          "namelength": 0
         },
         "hovertemplate": "action=walking<br>x=%{x}<br>y=%{y}",
         "legendgroup": "action=walking",
         "marker": {
          "color": "#19d3f3",
          "symbol": "circle"
         },
         "mode": "markers",
         "name": "action=walking",
         "showlegend": true,
         "type": "scatter",
         "x": [
          -1.1627169847488403,
          5.622129440307617,
          4.356176853179932,
          3.5582330226898193,
          -1.1331288814544678,
          2.06355881690979,
          4.1106157302856445,
          2.5658512115478516,
          3.2264392375946045,
          3.856360912322998
         ],
         "xaxis": "x",
         "y": [
          0.1731429100036621,
          3.7610809803009033,
          4.259700298309326,
          -1.8356716632843018,
          0.1851521134376526,
          0.3079087734222412,
          3.5479981899261475,
          -1.3037619590759277,
          0.9132693409919739,
          0.08178723603487015
         ],
         "yaxis": "y"
        },
        {
         "hoverlabel": {
          "namelength": 0
         },
         "hovertemplate": "action=lying<br>x=%{x}<br>y=%{y}",
         "legendgroup": "action=lying",
         "marker": {
          "color": "#FF6692",
          "symbol": "circle"
         },
         "mode": "markers",
         "name": "action=lying",
         "showlegend": true,
         "type": "scatter",
         "x": [
          -7.935134410858154,
          -2.364485263824463,
          4.591017246246338,
          -8.445459365844727,
          -7.927613258361816,
          1.3794995546340942,
          -2.1683335304260254,
          -7.917255401611328,
          -9.32613754272461,
          4.58732795715332
         ],
         "xaxis": "x",
         "y": [
          -2.0362672805786133,
          -0.9933921098709106,
          0.8676877617835999,
          -2.670022487640381,
          -2.764188051223755,
          1.9638683795928955,
          -0.10381045192480087,
          -2.797053813934326,
          -1.453762412071228,
          0.8091007471084595
         ],
         "yaxis": "y"
        },
        {
         "hoverlabel": {
          "namelength": 0
         },
         "hovertemplate": "action=folding laundry<br>x=%{x}<br>y=%{y}",
         "legendgroup": "action=folding laundry",
         "marker": {
          "color": "#B6E880",
          "symbol": "circle"
         },
         "mode": "markers",
         "name": "action=folding laundry",
         "showlegend": true,
         "type": "scatter",
         "x": [
          -4.547099590301514,
          -5.628695487976074,
          2.755861759185791,
          -3.5359315872192383,
          -2.4452569484710693,
          -7.25152587890625,
          -2.471223831176758,
          -3.5662765502929688,
          1.3921781778335571
         ],
         "xaxis": "x",
         "y": [
          -1.4746592044830322,
          2.8245599269866943,
          6.178179740905762,
          -5.5803375244140625,
          3.5193090438842773,
          2.6633059978485107,
          -6.369986534118652,
          -0.8764855265617371,
          2.609076499938965
         ],
         "yaxis": "y"
        },
        {
         "hoverlabel": {
          "namelength": 0
         },
         "hovertemplate": "action=house cleaning<br>x=%{x}<br>y=%{y}",
         "legendgroup": "action=house cleaning",
         "marker": {
          "color": "#FF97FF",
          "symbol": "circle"
         },
         "mode": "markers",
         "name": "action=house cleaning",
         "showlegend": true,
         "type": "scatter",
         "x": [
          2.9060006141662598,
          4.659466743469238,
          3.0440733432769775,
          3.6176304817199707,
          3.4798097610473633,
          2.18449068069458,
          2.467182159423828,
          -1.0427483320236206,
          -1.2419131994247437,
          3.4667420387268066
         ],
         "xaxis": "x",
         "y": [
          -6.798701763153076,
          0.2024753987789154,
          -6.6501784324646,
          -4.822486877441406,
          -5.698742389678955,
          -7.151186943054199,
          4.6891608238220215,
          7.864926338195801,
          2.730275869369507,
          1.9663658142089844
         ],
         "yaxis": "y"
        },
        {
         "hoverlabel": {
          "namelength": 0
         },
         "hovertemplate": "action=running<br>x=%{x}<br>y=%{y}",
         "legendgroup": "action=running",
         "marker": {
          "color": "#FECB52",
          "symbol": "circle"
         },
         "mode": "markers",
         "name": "action=running",
         "showlegend": true,
         "type": "scatter",
         "x": [
          -8.753421783447266,
          5.555347442626953,
          4.003592014312744,
          -6.864657878875732,
          -8.497001647949219,
          1.401605486869812,
          5.553696632385254
         ],
         "xaxis": "x",
         "y": [
          0.014639779925346375,
          0.27982115745544434,
          2.305447816848755,
          -2.8392486572265625,
          -0.011290503665804863,
          4.547835826873779,
          -0.07931620627641678
         ],
         "yaxis": "y"
        },
        {
         "hoverlabel": {
          "namelength": 0
         },
         "hovertemplate": "action=computer work<br>x=%{x}<br>y=%{y}",
         "legendgroup": "action=computer work",
         "marker": {
          "color": "#636efa",
          "symbol": "circle"
         },
         "mode": "markers",
         "name": "action=computer work",
         "showlegend": true,
         "type": "scatter",
         "x": [
          1.247926115989685,
          -10.265830039978027,
          0.5328734517097473,
          -6.477832317352295,
          4.955203056335449,
          1.0620579719543457,
          -10.787615776062012,
          4.952957630157471,
          -5.309959888458252,
          -5.117517471313477
         ],
         "xaxis": "x",
         "y": [
          -3.7006795406341553,
          -0.3565432131290436,
          -3.2069480419158936,
          -7.772598743438721,
          8.627023696899414,
          -1.3020262718200684,
          -0.1746099293231964,
          8.660350799560547,
          7.020047187805176,
          -6.490188121795654
         ],
         "yaxis": "y"
        },
        {
         "hoverlabel": {
          "namelength": 0
         },
         "hovertemplate": "action=standing<br>x=%{x}<br>y=%{y}",
         "legendgroup": "action=standing",
         "marker": {
          "color": "#EF553B",
          "symbol": "circle"
         },
         "mode": "markers",
         "name": "action=standing",
         "showlegend": true,
         "type": "scatter",
         "x": [
          -4.715030193328857,
          3.826115369796753,
          1.8451528549194336,
          -7.658392906188965,
          -6.261180877685547,
          -5.836316108703613,
          -2.007092237472534,
          3.5684261322021484,
          -6.673875331878662
         ],
         "xaxis": "x",
         "y": [
          -3.757077693939209,
          -2.7160611152648926,
          -2.7291922569274902,
          3.259549140930176,
          -1.2679657936096191,
          -5.280996799468994,
          -6.464064598083496,
          6.700765609741211,
          -7.55769681930542
         ],
         "yaxis": "y"
        },
        {
         "hoverlabel": {
          "namelength": 0
         },
         "hovertemplate": "action=car driving<br>x=%{x}<br>y=%{y}",
         "legendgroup": "action=car driving",
         "marker": {
          "color": "#00cc96",
          "symbol": "circle"
         },
         "mode": "markers",
         "name": "action=car driving",
         "showlegend": true,
         "type": "scatter",
         "x": [
          2.9986984729766846,
          -1.546138882637024,
          -0.19246594607830048,
          2.7968785762786865,
          -3.9899516105651855,
          -0.5271362066268921,
          2.9584217071533203,
          3.8539459705352783,
          4.938317775726318
         ],
         "xaxis": "x",
         "y": [
          -1.213810682296753,
          -0.4201585352420807,
          1.0417139530181885,
          6.062799453735352,
          -3.328591823577881,
          2.9676895141601562,
          2.0704309940338135,
          1.2739307880401611,
          2.0922093391418457
         ],
         "yaxis": "y"
        },
        {
         "hoverlabel": {
          "namelength": 0
         },
         "hovertemplate": "action=descending stairs<br>x=%{x}<br>y=%{y}",
         "legendgroup": "action=descending stairs",
         "marker": {
          "color": "#ab63fa",
          "symbol": "circle"
         },
         "mode": "markers",
         "name": "action=descending stairs",
         "showlegend": true,
         "type": "scatter",
         "x": [
          6.901673793792725,
          5.858826160430908,
          -2.0225701332092285,
          -0.26867881417274475,
          -1.63828444480896,
          0.3624020516872406,
          -3.4600586891174316,
          4.990918159484863,
          -5.747277736663818
         ],
         "xaxis": "x",
         "y": [
          0.2405913919210434,
          -0.5318160057067871,
          0.8914205431938171,
          1.6624592542648315,
          1.0052924156188965,
          2.2853081226348877,
          -0.3404974341392517,
          4.842212200164795,
          -5.448416233062744
         ],
         "yaxis": "y"
        },
        {
         "hoverlabel": {
          "namelength": 0
         },
         "hovertemplate": "action=ironing<br>x=%{x}<br>y=%{y}",
         "legendgroup": "action=ironing",
         "marker": {
          "color": "#FFA15A",
          "symbol": "circle"
         },
         "mode": "markers",
         "name": "action=ironing",
         "showlegend": true,
         "type": "scatter",
         "x": [
          0.20807725191116333,
          -6.541777610778809,
          -1.5227504968643188,
          -6.878480434417725,
          -10.076645851135254,
          -5.809441566467285,
          -1.999267339706421,
          4.615060329437256,
          -2.081172227859497,
          5.232237339019775
         ],
         "xaxis": "x",
         "y": [
          -0.28419631719589233,
          -0.9283267855644226,
          -2.3915812969207764,
          -0.35746219754219055,
          -1.9613964557647705,
          3.954756498336792,
          -1.9495552778244019,
          1.6163454055786133,
          -2.446596384048462,
          1.5187771320343018
         ],
         "yaxis": "y"
        },
        {
         "hoverlabel": {
          "namelength": 0
         },
         "hovertemplate": "action=sitting<br>x=%{x}<br>y=%{y}",
         "legendgroup": "action=sitting",
         "marker": {
          "color": "#19d3f3",
          "symbol": "circle"
         },
         "mode": "markers",
         "name": "action=sitting",
         "showlegend": true,
         "type": "scatter",
         "x": [
          4.049359321594238,
          -9.628767967224121,
          -6.396376132965088,
          -4.487947940826416,
          -8.011209487915039,
          -6.229902744293213,
          -8.43271541595459,
          -8.581803321838379,
          -3.7837562561035156
         ],
         "xaxis": "x",
         "y": [
          -1.66755211353302,
          2.49458909034729,
          -8.02807903289795,
          1.7669857740402222,
          3.7891600131988525,
          -8.16297721862793,
          2.832573890686035,
          3.255537986755371,
          1.3156601190567017
         ],
         "yaxis": "y"
        },
        {
         "hoverlabel": {
          "namelength": 0
         },
         "hovertemplate": "action=playing soccer<br>x=%{x}<br>y=%{y}",
         "legendgroup": "action=playing soccer",
         "marker": {
          "color": "#FF6692",
          "symbol": "circle"
         },
         "mode": "markers",
         "name": "action=playing soccer",
         "showlegend": true,
         "type": "scatter",
         "x": [
          -3.3044769763946533,
          0.37266501784324646,
          -3.8661999702453613,
          -4.123294353485107,
          -5.015873908996582,
          -4.150333404541016,
          -4.119014263153076
         ],
         "xaxis": "x",
         "y": [
          3.824873685836792,
          0.967019259929657,
          3.083789110183716,
          -2.925264358520508,
          3.186955213546753,
          -4.432075500488281,
          -2.9119961261749268
         ],
         "yaxis": "y"
        },
        {
         "hoverlabel": {
          "namelength": 0
         },
         "hovertemplate": "action=ascending stairs<br>x=%{x}<br>y=%{y}",
         "legendgroup": "action=ascending stairs",
         "marker": {
          "color": "#B6E880",
          "symbol": "circle"
         },
         "mode": "markers",
         "name": "action=ascending stairs",
         "showlegend": true,
         "type": "scatter",
         "x": [
          5.546278953552246,
          1.314192771911621,
          1.3845396041870117,
          -6.476181507110596,
          6.007706165313721,
          -6.22866153717041,
          6.456384181976318,
          -4.49241828918457,
          3.543581247329712
         ],
         "xaxis": "x",
         "y": [
          -1.0593641996383667,
          1.4397060871124268,
          4.481805801391602,
          4.608852863311768,
          0.6388354301452637,
          -1.1455999612808228,
          -1.6037741899490356,
          4.70986795425415,
          6.106091022491455
         ],
         "yaxis": "y"
        }
       ],
       "layout": {
        "height": 800,
        "legend": {
         "tracegroupgap": 0
        },
        "margin": {
         "t": 60
        },
        "template": {
         "data": {
          "bar": [
           {
            "error_x": {
             "color": "#2a3f5f"
            },
            "error_y": {
             "color": "#2a3f5f"
            },
            "marker": {
             "line": {
              "color": "#E5ECF6",
              "width": 0.5
             }
            },
            "type": "bar"
           }
          ],
          "barpolar": [
           {
            "marker": {
             "line": {
              "color": "#E5ECF6",
              "width": 0.5
             }
            },
            "type": "barpolar"
           }
          ],
          "carpet": [
           {
            "aaxis": {
             "endlinecolor": "#2a3f5f",
             "gridcolor": "white",
             "linecolor": "white",
             "minorgridcolor": "white",
             "startlinecolor": "#2a3f5f"
            },
            "baxis": {
             "endlinecolor": "#2a3f5f",
             "gridcolor": "white",
             "linecolor": "white",
             "minorgridcolor": "white",
             "startlinecolor": "#2a3f5f"
            },
            "type": "carpet"
           }
          ],
          "choropleth": [
           {
            "colorbar": {
             "outlinewidth": 0,
             "ticks": ""
            },
            "type": "choropleth"
           }
          ],
          "contour": [
           {
            "colorbar": {
             "outlinewidth": 0,
             "ticks": ""
            },
            "colorscale": [
             [
              0,
              "#0d0887"
             ],
             [
              0.1111111111111111,
              "#46039f"
             ],
             [
              0.2222222222222222,
              "#7201a8"
             ],
             [
              0.3333333333333333,
              "#9c179e"
             ],
             [
              0.4444444444444444,
              "#bd3786"
             ],
             [
              0.5555555555555556,
              "#d8576b"
             ],
             [
              0.6666666666666666,
              "#ed7953"
             ],
             [
              0.7777777777777778,
              "#fb9f3a"
             ],
             [
              0.8888888888888888,
              "#fdca26"
             ],
             [
              1,
              "#f0f921"
             ]
            ],
            "type": "contour"
           }
          ],
          "contourcarpet": [
           {
            "colorbar": {
             "outlinewidth": 0,
             "ticks": ""
            },
            "type": "contourcarpet"
           }
          ],
          "heatmap": [
           {
            "colorbar": {
             "outlinewidth": 0,
             "ticks": ""
            },
            "colorscale": [
             [
              0,
              "#0d0887"
             ],
             [
              0.1111111111111111,
              "#46039f"
             ],
             [
              0.2222222222222222,
              "#7201a8"
             ],
             [
              0.3333333333333333,
              "#9c179e"
             ],
             [
              0.4444444444444444,
              "#bd3786"
             ],
             [
              0.5555555555555556,
              "#d8576b"
             ],
             [
              0.6666666666666666,
              "#ed7953"
             ],
             [
              0.7777777777777778,
              "#fb9f3a"
             ],
             [
              0.8888888888888888,
              "#fdca26"
             ],
             [
              1,
              "#f0f921"
             ]
            ],
            "type": "heatmap"
           }
          ],
          "heatmapgl": [
           {
            "colorbar": {
             "outlinewidth": 0,
             "ticks": ""
            },
            "colorscale": [
             [
              0,
              "#0d0887"
             ],
             [
              0.1111111111111111,
              "#46039f"
             ],
             [
              0.2222222222222222,
              "#7201a8"
             ],
             [
              0.3333333333333333,
              "#9c179e"
             ],
             [
              0.4444444444444444,
              "#bd3786"
             ],
             [
              0.5555555555555556,
              "#d8576b"
             ],
             [
              0.6666666666666666,
              "#ed7953"
             ],
             [
              0.7777777777777778,
              "#fb9f3a"
             ],
             [
              0.8888888888888888,
              "#fdca26"
             ],
             [
              1,
              "#f0f921"
             ]
            ],
            "type": "heatmapgl"
           }
          ],
          "histogram": [
           {
            "marker": {
             "colorbar": {
              "outlinewidth": 0,
              "ticks": ""
             }
            },
            "type": "histogram"
           }
          ],
          "histogram2d": [
           {
            "colorbar": {
             "outlinewidth": 0,
             "ticks": ""
            },
            "colorscale": [
             [
              0,
              "#0d0887"
             ],
             [
              0.1111111111111111,
              "#46039f"
             ],
             [
              0.2222222222222222,
              "#7201a8"
             ],
             [
              0.3333333333333333,
              "#9c179e"
             ],
             [
              0.4444444444444444,
              "#bd3786"
             ],
             [
              0.5555555555555556,
              "#d8576b"
             ],
             [
              0.6666666666666666,
              "#ed7953"
             ],
             [
              0.7777777777777778,
              "#fb9f3a"
             ],
             [
              0.8888888888888888,
              "#fdca26"
             ],
             [
              1,
              "#f0f921"
             ]
            ],
            "type": "histogram2d"
           }
          ],
          "histogram2dcontour": [
           {
            "colorbar": {
             "outlinewidth": 0,
             "ticks": ""
            },
            "colorscale": [
             [
              0,
              "#0d0887"
             ],
             [
              0.1111111111111111,
              "#46039f"
             ],
             [
              0.2222222222222222,
              "#7201a8"
             ],
             [
              0.3333333333333333,
              "#9c179e"
             ],
             [
              0.4444444444444444,
              "#bd3786"
             ],
             [
              0.5555555555555556,
              "#d8576b"
             ],
             [
              0.6666666666666666,
              "#ed7953"
             ],
             [
              0.7777777777777778,
              "#fb9f3a"
             ],
             [
              0.8888888888888888,
              "#fdca26"
             ],
             [
              1,
              "#f0f921"
             ]
            ],
            "type": "histogram2dcontour"
           }
          ],
          "mesh3d": [
           {
            "colorbar": {
             "outlinewidth": 0,
             "ticks": ""
            },
            "type": "mesh3d"
           }
          ],
          "parcoords": [
           {
            "line": {
             "colorbar": {
              "outlinewidth": 0,
              "ticks": ""
             }
            },
            "type": "parcoords"
           }
          ],
          "pie": [
           {
            "automargin": true,
            "type": "pie"
           }
          ],
          "scatter": [
           {
            "marker": {
             "colorbar": {
              "outlinewidth": 0,
              "ticks": ""
             }
            },
            "type": "scatter"
           }
          ],
          "scatter3d": [
           {
            "line": {
             "colorbar": {
              "outlinewidth": 0,
              "ticks": ""
             }
            },
            "marker": {
             "colorbar": {
              "outlinewidth": 0,
              "ticks": ""
             }
            },
            "type": "scatter3d"
           }
          ],
          "scattercarpet": [
           {
            "marker": {
             "colorbar": {
              "outlinewidth": 0,
              "ticks": ""
             }
            },
            "type": "scattercarpet"
           }
          ],
          "scattergeo": [
           {
            "marker": {
             "colorbar": {
              "outlinewidth": 0,
              "ticks": ""
             }
            },
            "type": "scattergeo"
           }
          ],
          "scattergl": [
           {
            "marker": {
             "colorbar": {
              "outlinewidth": 0,
              "ticks": ""
             }
            },
            "type": "scattergl"
           }
          ],
          "scattermapbox": [
           {
            "marker": {
             "colorbar": {
              "outlinewidth": 0,
              "ticks": ""
             }
            },
            "type": "scattermapbox"
           }
          ],
          "scatterpolar": [
           {
            "marker": {
             "colorbar": {
              "outlinewidth": 0,
              "ticks": ""
             }
            },
            "type": "scatterpolar"
           }
          ],
          "scatterpolargl": [
           {
            "marker": {
             "colorbar": {
              "outlinewidth": 0,
              "ticks": ""
             }
            },
            "type": "scatterpolargl"
           }
          ],
          "scatterternary": [
           {
            "marker": {
             "colorbar": {
              "outlinewidth": 0,
              "ticks": ""
             }
            },
            "type": "scatterternary"
           }
          ],
          "surface": [
           {
            "colorbar": {
             "outlinewidth": 0,
             "ticks": ""
            },
            "colorscale": [
             [
              0,
              "#0d0887"
             ],
             [
              0.1111111111111111,
              "#46039f"
             ],
             [
              0.2222222222222222,
              "#7201a8"
             ],
             [
              0.3333333333333333,
              "#9c179e"
             ],
             [
              0.4444444444444444,
              "#bd3786"
             ],
             [
              0.5555555555555556,
              "#d8576b"
             ],
             [
              0.6666666666666666,
              "#ed7953"
             ],
             [
              0.7777777777777778,
              "#fb9f3a"
             ],
             [
              0.8888888888888888,
              "#fdca26"
             ],
             [
              1,
              "#f0f921"
             ]
            ],
            "type": "surface"
           }
          ],
          "table": [
           {
            "cells": {
             "fill": {
              "color": "#EBF0F8"
             },
             "line": {
              "color": "white"
             }
            },
            "header": {
             "fill": {
              "color": "#C8D4E3"
             },
             "line": {
              "color": "white"
             }
            },
            "type": "table"
           }
          ]
         },
         "layout": {
          "annotationdefaults": {
           "arrowcolor": "#2a3f5f",
           "arrowhead": 0,
           "arrowwidth": 1
          },
          "coloraxis": {
           "colorbar": {
            "outlinewidth": 0,
            "ticks": ""
           }
          },
          "colorscale": {
           "diverging": [
            [
             0,
             "#8e0152"
            ],
            [
             0.1,
             "#c51b7d"
            ],
            [
             0.2,
             "#de77ae"
            ],
            [
             0.3,
             "#f1b6da"
            ],
            [
             0.4,
             "#fde0ef"
            ],
            [
             0.5,
             "#f7f7f7"
            ],
            [
             0.6,
             "#e6f5d0"
            ],
            [
             0.7,
             "#b8e186"
            ],
            [
             0.8,
             "#7fbc41"
            ],
            [
             0.9,
             "#4d9221"
            ],
            [
             1,
             "#276419"
            ]
           ],
           "sequential": [
            [
             0,
             "#0d0887"
            ],
            [
             0.1111111111111111,
             "#46039f"
            ],
            [
             0.2222222222222222,
             "#7201a8"
            ],
            [
             0.3333333333333333,
             "#9c179e"
            ],
            [
             0.4444444444444444,
             "#bd3786"
            ],
            [
             0.5555555555555556,
             "#d8576b"
            ],
            [
             0.6666666666666666,
             "#ed7953"
            ],
            [
             0.7777777777777778,
             "#fb9f3a"
            ],
            [
             0.8888888888888888,
             "#fdca26"
            ],
            [
             1,
             "#f0f921"
            ]
           ],
           "sequentialminus": [
            [
             0,
             "#0d0887"
            ],
            [
             0.1111111111111111,
             "#46039f"
            ],
            [
             0.2222222222222222,
             "#7201a8"
            ],
            [
             0.3333333333333333,
             "#9c179e"
            ],
            [
             0.4444444444444444,
             "#bd3786"
            ],
            [
             0.5555555555555556,
             "#d8576b"
            ],
            [
             0.6666666666666666,
             "#ed7953"
            ],
            [
             0.7777777777777778,
             "#fb9f3a"
            ],
            [
             0.8888888888888888,
             "#fdca26"
            ],
            [
             1,
             "#f0f921"
            ]
           ]
          },
          "colorway": [
           "#636efa",
           "#EF553B",
           "#00cc96",
           "#ab63fa",
           "#FFA15A",
           "#19d3f3",
           "#FF6692",
           "#B6E880",
           "#FF97FF",
           "#FECB52"
          ],
          "font": {
           "color": "#2a3f5f"
          },
          "geo": {
           "bgcolor": "white",
           "lakecolor": "white",
           "landcolor": "#E5ECF6",
           "showlakes": true,
           "showland": true,
           "subunitcolor": "white"
          },
          "hoverlabel": {
           "align": "left"
          },
          "hovermode": "closest",
          "mapbox": {
           "style": "light"
          },
          "paper_bgcolor": "white",
          "plot_bgcolor": "#E5ECF6",
          "polar": {
           "angularaxis": {
            "gridcolor": "white",
            "linecolor": "white",
            "ticks": ""
           },
           "bgcolor": "#E5ECF6",
           "radialaxis": {
            "gridcolor": "white",
            "linecolor": "white",
            "ticks": ""
           }
          },
          "scene": {
           "xaxis": {
            "backgroundcolor": "#E5ECF6",
            "gridcolor": "white",
            "gridwidth": 2,
            "linecolor": "white",
            "showbackground": true,
            "ticks": "",
            "zerolinecolor": "white"
           },
           "yaxis": {
            "backgroundcolor": "#E5ECF6",
            "gridcolor": "white",
            "gridwidth": 2,
            "linecolor": "white",
            "showbackground": true,
            "ticks": "",
            "zerolinecolor": "white"
           },
           "zaxis": {
            "backgroundcolor": "#E5ECF6",
            "gridcolor": "white",
            "gridwidth": 2,
            "linecolor": "white",
            "showbackground": true,
            "ticks": "",
            "zerolinecolor": "white"
           }
          },
          "shapedefaults": {
           "line": {
            "color": "#2a3f5f"
           }
          },
          "ternary": {
           "aaxis": {
            "gridcolor": "white",
            "linecolor": "white",
            "ticks": ""
           },
           "baxis": {
            "gridcolor": "white",
            "linecolor": "white",
            "ticks": ""
           },
           "bgcolor": "#E5ECF6",
           "caxis": {
            "gridcolor": "white",
            "linecolor": "white",
            "ticks": ""
           }
          },
          "title": {
           "x": 0.05
          },
          "xaxis": {
           "automargin": true,
           "gridcolor": "white",
           "linecolor": "white",
           "ticks": "",
           "title": {
            "standoff": 15
           },
           "zerolinecolor": "white",
           "zerolinewidth": 2
          },
          "yaxis": {
           "automargin": true,
           "gridcolor": "white",
           "linecolor": "white",
           "ticks": "",
           "title": {
            "standoff": 15
           },
           "zerolinecolor": "white",
           "zerolinewidth": 2
          }
         }
        },
        "width": 800,
        "xaxis": {
         "anchor": "y",
         "domain": [
          0,
          1
         ],
         "title": {
          "text": "x"
         }
        },
        "yaxis": {
         "anchor": "x",
         "domain": [
          0,
          1
         ],
         "title": {
          "text": "y"
         }
        }
       }
      }
     },
     "metadata": {},
     "output_type": "display_data"
    }
   ],
   "source": [
    "# view spatial distribution after transfer learning \n",
    "tsne_simulate(ae_model1, sample_dl, Id2Label)"
   ]
  },
  {
   "cell_type": "code",
   "execution_count": null,
   "metadata": {},
   "outputs": [],
   "source": []
  }
 ],
 "metadata": {
  "kernelspec": {
   "display_name": "mvts_trans",
   "language": "python",
   "name": "python3"
  },
  "language_info": {
   "codemirror_mode": {
    "name": "ipython",
    "version": 3
   },
   "file_extension": ".py",
   "mimetype": "text/x-python",
   "name": "python",
   "nbconvert_exporter": "python",
   "pygments_lexer": "ipython3",
   "version": "3.8.13 (default, Mar 28 2022, 06:59:08) [MSC v.1916 64 bit (AMD64)]"
  },
  "orig_nbformat": 4,
  "vscode": {
   "interpreter": {
    "hash": "ccc35149ad8fa032444ebff1245e6ef176e6c1ce3af8dec48e3374f21a6b0f27"
   }
  }
 },
 "nbformat": 4,
 "nbformat_minor": 2
}
