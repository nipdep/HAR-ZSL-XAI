{
 "cells": [
  {
   "attachments": {},
   "cell_type": "markdown",
   "metadata": {},
   "source": [
    "#### PAMAP2 dataset | Static Skeleton Dataset | BiLSTM IMU Encoder Model | Knn unseen inference "
   ]
  },
  {
   "cell_type": "code",
   "execution_count": 1,
   "metadata": {},
   "outputs": [],
   "source": [
    "# ! pip install neptune"
   ]
  },
  {
   "cell_type": "code",
   "execution_count": 1,
   "metadata": {},
   "outputs": [
    {
     "name": "stderr",
     "output_type": "stream",
     "text": [
      "C:\\Users\\nipun\\AppData\\Local\\Temp\\ipykernel_16540\\1929646555.py:4: TqdmWarning: IProgress not found. Please update jupyter and ipywidgets. See https://ipywidgets.readthedocs.io/en/stable/user_install.html\n",
      "  from tqdm.autonotebook import tqdm\n"
     ]
    }
   ],
   "source": [
    "import os \n",
    "import sys\n",
    "from datetime import date, datetime\n",
    "from tqdm.autonotebook import tqdm\n",
    "from copy import deepcopy\n",
    "from collections import defaultdict\n",
    "import numpy as np \n",
    "import numpy.random as random\n",
    "import pandas as pd\n",
    "import json\n",
    "import pickle\n",
    "from collections import defaultdict, OrderedDict\n",
    "# import neptune\n",
    "\n",
    "import torch \n",
    "from torch import nn, Tensor\n",
    "from torch.nn import functional as F\n",
    "from torch.nn.modules import MultiheadAttention, Linear, Dropout, BatchNorm1d, TransformerEncoderLayer\n",
    "from torch.utils.data import Dataset, DataLoader\n",
    "from torch.optim import Adam\n",
    "from torch.nn import MSELoss\n",
    "\n",
    "sys.path.append('../')\n",
    "from src.datasets.data import PAMAP2Reader, PAMAP2ReaderV2\n",
    "# from src.datasets.dataset import PAMAP2Dataset\n",
    "from src.utils.analysis import action_evaluator\n",
    "from src.datasets.utils import load_attribute\n",
    "\n",
    "from src.models.loss import FeatureLoss, AttributeLoss\n",
    "from src.utils.losses import *\n",
    "from src.utils.analysis import action_evaluator\n",
    "\n",
    "from sklearn.metrics import accuracy_score\n",
    "from sklearn.metrics.pairwise import cosine_similarity\n",
    "from sklearn.neighbors import KNeighborsClassifier\n",
    "from sklearn.svm import SVC\n",
    "from sklearn.model_selection import train_test_split\n",
    "from sklearn.metrics import accuracy_score, confusion_matrix\n",
    "from sklearn.decomposition import FastICA"
   ]
  },
  {
   "cell_type": "code",
   "execution_count": 2,
   "metadata": {},
   "outputs": [],
   "source": [
    "from sklearn.manifold import TSNE\n",
    "# from umap import UMAP\n",
    "\n",
    "import matplotlib.pyplot as plt \n",
    "import seaborn as sns \n",
    "import plotly.express as px"
   ]
  },
  {
   "cell_type": "code",
   "execution_count": 49,
   "metadata": {},
   "outputs": [],
   "source": [
    "# setup model configurations\n",
    "config = {\n",
    "    # general information\n",
    "    \"experiment-name\": \"Experiment_section-1\", \n",
    "    \"datetime\": date.today(),\n",
    "    \"device\": \"gpu\",\n",
    "    \"dataset\": \"PAMAP2\", # \"PAMAP2\", \"DaLiAc\", \"UTD\"\n",
    "    \"Model\": \"BiLSTM\",\n",
    "    \"sem-space\": 'Skeleton',\n",
    "    # model training configs\n",
    "    \"lr\": 0.0001,\n",
    "    \"imu_alpha\": 0.0001,\n",
    "    \"n_epochs\": 25,\n",
    "    \"batch_size\": 64,\n",
    "    'neighs': 10,\n",
    "    # model configs\n",
    "    \"d_model\": 128, \n",
    "    \"num_heads\": 2,\n",
    "    \"feat_size\": 512, # skel-AE hidden size and IMU-Anc output size\n",
    "    # dataset configs\n",
    "    \"window_size\": 5.21, \n",
    "    \"overlap\": 4.21,\n",
    "    \"seq_len\": 20,  # skeleton seq. length\n",
    "    \"seen_split\": 0.1,\n",
    "    \"unseen_split\": 0.8\n",
    "}"
   ]
  },
  {
   "cell_type": "code",
   "execution_count": 5,
   "metadata": {},
   "outputs": [
    {
     "name": "stdout",
     "output_type": "stream",
     "text": [
      "Reading file 1 of 14\n",
      "Reading file 2 of 14\n",
      "Reading file 3 of 14\n",
      "Reading file 4 of 14\n",
      "Reading file 5 of 14\n",
      "Reading file 6 of 14\n",
      "Reading file 7 of 14\n",
      "Reading file 8 of 14\n",
      "Reading file 9 of 14\n",
      "Reading file 10 of 14\n",
      "Reading file 11 of 14\n",
      "Reading file 12 of 14\n",
      "Reading file 13 of 14\n",
      "Reading file 14 of 14\n"
     ]
    },
    {
     "name": "stderr",
     "output_type": "stream",
     "text": [
      "g:\\FYP\\Codebases\\Pose-AE\\exp8\\..\\src\\datasets\\data.py:1275: VisibleDeprecationWarning: Creating an ndarray from ragged nested sequences (which is a list-or-tuple of lists-or-tuples-or ndarrays with different lengths or shapes) is deprecated. If you meant to do this, you must specify 'dtype=object' when creating the ndarray.\n",
      "  return np.asarray(data), np.asarray(labels, dtype=int), np.array(collection)\n"
     ]
    }
   ],
   "source": [
    "dataReader = PAMAP2ReaderV2('../data/PAMAP2_Dataset/Protocol/')\n",
    "actionList = dataReader.idToLabel"
   ]
  },
  {
   "cell_type": "code",
   "execution_count": 6,
   "metadata": {},
   "outputs": [],
   "source": [
    "class PAMAP2Dataset(Dataset):\n",
    "    def __init__(self, data, actions, attributes, attribute_dict, action_classes, seq_len=120):\n",
    "        super(PAMAP2Dataset, self).__init__()\n",
    "        self.data = torch.from_numpy(data)\n",
    "        self.actions = actions\n",
    "        self.attribute_dict = attribute_dict\n",
    "        self.seq_len = seq_len\n",
    "        self.attributes = torch.from_numpy(attributes)\n",
    "        self.action_classes = action_classes\n",
    "        # build action to id mapping dict\n",
    "        self.n_action = len(self.actions)\n",
    "        self.action2Id = dict(zip(action_classes, range(self.n_action)))\n",
    "\n",
    "    def __getitem__(self, ind):\n",
    "        x = self.data[ind, ...]\n",
    "        target = self.actions[ind]\n",
    "        y = torch.from_numpy(np.array([self.action2Id[target]]))\n",
    "        # extraction semantic space generation skeleton sequences\n",
    "        vid_idx = random.choice(self.attribute_dict[target])\n",
    "        y_feat = self.attributes[vid_idx, ...]\n",
    "        return x, y, y_feat\n",
    "\n",
    "    def __len__(self):\n",
    "        return self.data.shape[0]\n",
    "\n",
    "    def getClassAttrs(self):\n",
    "        sampling_idx = [random.choice(self.attribute_dict[i]) for i in self.action_classes]\n",
    "        ft_mat = self.attributes[sampling_idx, ...]\n",
    "        return ft_mat\n",
    "\n",
    "    def getClassFeatures(self):\n",
    "        cls_feat = []\n",
    "        for c in self.action_classes:\n",
    "            idx = self.attribute_dict[c]\n",
    "            cls_feat.append(torch.mean(self.attributes[idx, ...], dim=0))\n",
    "\n",
    "        cls_feat = torch.vstack(cls_feat)\n",
    "        # print(cls_feat.size())\n",
    "        return cls_feat"
   ]
  },
  {
   "cell_type": "code",
   "execution_count": 7,
   "metadata": {},
   "outputs": [],
   "source": [
    "class IMUEncoder(nn.Module):\n",
    "    def __init__(self, in_ft, d_model, ft_size, n_classes, num_heads=1, max_len=1024, dropout=0.1):\n",
    "        super(IMUEncoder, self).__init__()\n",
    "        self.in_ft = in_ft\n",
    "        self.max_len = max_len\n",
    "        self.d_model = d_model\n",
    "        self.num_heads = num_heads\n",
    "        self.ft_size = ft_size \n",
    "        self.n_classes = n_classes\n",
    "\n",
    "        self.lstm = nn.LSTM(input_size=self.in_ft,\n",
    "                            hidden_size=self.d_model,\n",
    "                            num_layers=self.num_heads,\n",
    "                            batch_first=True,\n",
    "                            bidirectional=True)\n",
    "        self.drop = nn.Dropout(p=0.1)\n",
    "        self.act = nn.ReLU()\n",
    "        self.fcLayer1 = nn.Linear(2*self.d_model, self.ft_size)\n",
    "        # self.fcLayer2 = nn.Linear(self.ft_size, self.ft_size)\n",
    "\n",
    "    def forward(self, x):\n",
    "        out, _ = self.lstm(x)\n",
    "        out_forward = out[:, self.max_len - 1, :self.d_model]\n",
    "        out_reverse = out[:, 0, self.d_model:]\n",
    "        out_reduced = torch.cat((out_forward, out_reverse), 1)\n",
    "        out = self.drop(out_reduced)\n",
    "        out = self.act(out)\n",
    "        out = self.fcLayer1(out)\n",
    "        # out = self.fcLayer2(out)\n",
    "        return out"
   ]
  },
  {
   "cell_type": "code",
   "execution_count": 8,
   "metadata": {},
   "outputs": [],
   "source": [
    "\n",
    "class BiLSTMEncoder(nn.Module):\n",
    "    def __init__(self,seq_len, input_size, hidden_size,linear_filters,embedding_size:int, num_layers = 1,bidirectional=True,batch_size=32):\n",
    "        super(BiLSTMEncoder, self).__init__()\n",
    "        self.input_size = input_size\n",
    "        self.hidden_size = hidden_size\n",
    "        self.num_layers = num_layers\n",
    "        self.linear_filters = linear_filters\n",
    "        self.embedding_size = embedding_size\n",
    "        self.bidirectional = bidirectional\n",
    "        self.batch_size = batch_size\n",
    "        self.seq_len = seq_len\n",
    "\n",
    "        # define LSTM layer\n",
    "        self.layers = []\n",
    "\n",
    "        # add linear layers \n",
    "        for __id,layer_out in enumerate(self.linear_filters):\n",
    "            if __id == 0:\n",
    "                self.layers.append(nn.Linear(self.input_size, layer_out))\n",
    "            else:\n",
    "                self.layers.append(nn.Linear(self.linear_filters[__id-1], layer_out))\n",
    "\n",
    "        # add lstm layer\n",
    "        self.lstm = nn.LSTM(input_size = layer_out, hidden_size = self.hidden_size,\n",
    "                            num_layers = self.num_layers, bidirectional=self.bidirectional,\n",
    "                            batch_first=True)\n",
    "        self.net = nn.Sequential(*self.layers)\n",
    "\n",
    "        #add embedding out\n",
    "        if bidirectional:\n",
    "            self.out_linear = nn.Linear(self.hidden_size*4, self.embedding_size)\n",
    "        else:\n",
    "            self.out_linear = nn.Linear(self.hidden_size*2, self.embedding_size)\n",
    "\n",
    "        \n",
    "    def forward(self, x_input):\n",
    "        '''\n",
    "        : param x_input:               input of shape (seq_len, # in batch, input_size)\n",
    "        : return lstm_out, hidden:     lstm_out gives all the hidden states in the sequence; hidden gives the hidden state and cell state for the last element in the sequence                         \n",
    "        '''\n",
    "        \n",
    "        x = self.net(x_input)\n",
    "        lstm_out, self.hidden = self.lstm(x)\n",
    "        hidden_transformed = torch.concat(self.hidden,0)\n",
    "        hidden_transformed = torch.transpose(hidden_transformed,0,1)\n",
    "        hidden_transformed = torch.flatten(hidden_transformed,start_dim=1)\n",
    "        hidden_transformed = self.out_linear(hidden_transformed)\n",
    "        \n",
    "        return lstm_out, hidden_transformed\n",
    "\n",
    "    \n",
    "class BiLSTMDecoder(nn.Module):\n",
    "    def __init__(self,seq_len, input_size, hidden_size, linear_filters,embedding_size:int, num_layers = 1,bidirectional=True,batch_size=32, device='cpu'):\n",
    "        super(BiLSTMDecoder, self).__init__()\n",
    "        self.input_size = input_size\n",
    "        self.hidden_size = hidden_size\n",
    "        self.num_layers = num_layers\n",
    "        self.linear_filters = linear_filters[::-1]\n",
    "        self.embedding_size = embedding_size\n",
    "        self.bidirectional = bidirectional\n",
    "        self.batch_size = batch_size\n",
    "        self.seq_len = seq_len\n",
    "        self.device = device\n",
    "\n",
    "        if bidirectional:\n",
    "            self.input_linear = nn.Linear(self.embedding_size,4*self.hidden_size)\n",
    "        else:\n",
    "            self.input_linear = nn.Linear(self.embedding_size,2*self.hidden_size)\n",
    "\n",
    "        # define LSTM layer\n",
    "        self.layers = []\n",
    "        # add lstm\n",
    "        self.lstm = nn.LSTM(input_size = self.linear_filters[0], hidden_size = self.hidden_size,\n",
    "                            num_layers = self.num_layers, bidirectional=True,\n",
    "                            batch_first=bidirectional)\n",
    "              \n",
    "        # add linear layers \n",
    "        if bidirectional:\n",
    "            self.layers.append(nn.Linear(2*hidden_size,self.linear_filters[0]))\n",
    "        else:\n",
    "            self.layers.append(nn.Linear(hidden_size,self.linear_filters[0]))\n",
    "\n",
    "        for __id,layer_in in enumerate(self.linear_filters):\n",
    "            if __id == len(linear_filters)-1:\n",
    "                self.layers.append(nn.Linear(layer_in,self.input_size))\n",
    "            else:\n",
    "                self.layers.append(nn.Linear(layer_in,self.linear_filters[__id+1]))\n",
    "\n",
    "        self.net = nn.Sequential(*self.layers)\n",
    "\n",
    "    def forward(self,encoder_hidden):\n",
    "        '''\n",
    "        : param x_input:               input of shape (seq_len, # in batch, input_size)\n",
    "        : return lstm_out, hidden:     lstm_out gives all the hidden states in the sequence; hidden gives the hidden state and cell state for the last element in the sequence                         \n",
    "        '''\n",
    "        \n",
    "        \n",
    "        hidden_shape = encoder_hidden.shape\n",
    "        encoder_hidden = self.input_linear(encoder_hidden)\n",
    "        \n",
    "        if self.bidirectional:\n",
    "            hidden = encoder_hidden.view((self.batch_size,4,self.hidden_size))\n",
    "            # print(hidden.shape)\n",
    "            hidden = torch.transpose(hidden,1,0)\n",
    "            h1,h2,c1,c2 = torch.unbind(hidden,0)\n",
    "            h,c = torch.stack((h1,h2)),torch.stack((c1,c2))\n",
    "        else:\n",
    "            hidden = encoder_hidden.view((self.batch_size,2,self.hidden_size))\n",
    "            hidden = torch.transpose(hidden,1,0)\n",
    "            h,c = torch.unbind(hidden,0)\n",
    "        \n",
    "        dummy_input = torch.rand((self.batch_size,self.seq_len,self.hidden_size), requires_grad=True)\n",
    "        dummy_input = dummy_input.to(self.device)\n",
    "        \n",
    "        lstm_out, self.hidden = self.lstm(dummy_input,(h,c))\n",
    "        x = self.net(lstm_out)\n",
    "        return x\n",
    "\n",
    "class SkeletonAE(nn.Module):\n",
    "    def __init__(self,seq_len, input_size, hidden_size, linear_filters=[128,256,512],embedding_size:int=256, num_layers = 1,bidirectional=True, batch_size=32, device='cpu'):\n",
    "        super(SkeletonAE, self).__init__()\n",
    "        self.input_size = input_size\n",
    "        self.hidden_size = hidden_size\n",
    "        self.num_layers = num_layers\n",
    "        self.linear_filters = linear_filters[::-1]\n",
    "        self.embedding_size = embedding_size\n",
    "        self.bidirectional = bidirectional\n",
    "        self.batch_size = batch_size\n",
    "        self.seq_len = seq_len\n",
    "        \n",
    "        self.encoder = BiLSTMEncoder(seq_len, input_size, hidden_size, linear_filters,embedding_size, num_layers = 1,bidirectional=True,batch_size=32)\n",
    "        self.decoder = BiLSTMDecoder(seq_len, input_size, hidden_size, linear_filters,embedding_size, num_layers = 1,bidirectional=True,batch_size=32, device=device)\n",
    "        \n",
    "    def forward(self,x):\n",
    "        lstm_out,embedding = self.encoder(x)\n",
    "        decoder_out = self.decoder(embedding)\n",
    "        \n",
    "        return decoder_out, embedding  \n",
    "        "
   ]
  },
  {
   "attachments": {},
   "cell_type": "markdown",
   "metadata": {},
   "source": [
    "---"
   ]
  },
  {
   "cell_type": "code",
   "execution_count": 9,
   "metadata": {},
   "outputs": [],
   "source": [
    "if config['device'] == 'cpu':\n",
    "    device = \"cpu\"\n",
    "else:\n",
    "    device = torch.device(\"cuda:0\" if torch.cuda.is_available() else \"cpu\")"
   ]
  },
  {
   "cell_type": "code",
   "execution_count": 10,
   "metadata": {},
   "outputs": [
    {
     "data": {
      "text/plain": [
       "(124,)"
      ]
     },
     "execution_count": 10,
     "metadata": {},
     "output_type": "execute_result"
    }
   ],
   "source": [
    "dataReader.data.shape"
   ]
  },
  {
   "cell_type": "code",
   "execution_count": 11,
   "metadata": {},
   "outputs": [],
   "source": [
    "# run 5-fold running\n",
    "fold_classes = [['watching TV', 'house cleaning', 'standing', 'ascending stairs'], ['walking', 'rope jumping', 'sitting', 'descending stairs'], ['playing soccer', 'lying', 'vacuum cleaning', 'computer work'], ['cycling', 'running', 'Nordic walking'], ['ironing', 'car driving', 'folding laundry']]\n",
    "\n",
    "fold_cls_ids = [[actionList.index(i) for i in j] for j in fold_classes]"
   ]
  },
  {
   "cell_type": "code",
   "execution_count": 12,
   "metadata": {},
   "outputs": [
    {
     "name": "stdout",
     "output_type": "stream",
     "text": [
      "(180, 60, 36)\n",
      "(array(['Nordic walking', 'ascending stairs', 'car driving',\n",
      "       'computer work', 'cycling', 'descending stairs', 'folding laundry',\n",
      "       'house cleaning', 'ironing', 'lying', 'playing soccer',\n",
      "       'rope jumping', 'running', 'sitting', 'standing',\n",
      "       'vacuum cleaning', 'walking', 'watching TV'], dtype='<U17'), array([10, 10, 10, 10, 10, 10, 10, 10, 10, 10, 10, 10, 10, 10, 10, 10, 10,\n",
      "       10], dtype=int64))\n",
      "[(1, 'lying'), (2, 'sitting'), (3, 'standing'), (4, 'walking'), (5, 'running'), (6, 'cycling'), (7, 'Nordic walking'), (9, 'watching TV'), (10, 'computer work'), (11, 'car driving'), (12, 'ascending stairs'), (13, 'descending stairs'), (16, 'vacuum cleaning'), (17, 'ironing'), (18, 'folding laundry'), (19, 'house cleaning'), (20, 'playing soccer'), (24, 'rope jumping')]\n",
      "['Nordic walking' 'ascending stairs' 'car driving' 'computer work'\n",
      " 'cycling' 'descending stairs' 'folding laundry' 'house cleaning'\n",
      " 'ironing' 'lying' 'playing soccer' 'rope jumping' 'running' 'sitting'\n",
      " 'standing' 'vacuum cleaning' 'walking' 'watching TV']\n"
     ]
    }
   ],
   "source": [
    "skeleton_data = np.load('../data/skeleton_k10_movements.npz')\n",
    "skeleton_classes, skeleton_mov = skeleton_data['arr_0'], skeleton_data['arr_1']\n",
    "\n",
    "print(skeleton_mov.shape)\n",
    "print(np.unique(skeleton_classes, return_counts=True))\n",
    "print(dataReader.label_map)\n",
    "print(np.unique(skeleton_classes))"
   ]
  },
  {
   "cell_type": "code",
   "execution_count": 17,
   "metadata": {},
   "outputs": [],
   "source": [
    "def selecting_video_prototypes(prototypes:np.array,classes:np.array,vid_class_name:np.array):\n",
    "    selected = []\n",
    "    for tar in vid_class_name:\n",
    "        indexes = np.where(classes == tar)\n",
    "        selected.append(torch.from_numpy(prototypes[random.choice(indexes[0])]))\n",
    "\n",
    "    return torch.stack(selected)"
   ]
  },
  {
   "cell_type": "code",
   "execution_count": 18,
   "metadata": {},
   "outputs": [],
   "source": [
    "class SkeletonDataset(Dataset):\n",
    "    def __init__(self, movements, actions, action_dict, seq_len=60):\n",
    "        super(SkeletonDataset, self).__init__()\n",
    "        # new_fts = [i for i in range(movements.shape[-1]) if i%3 != 2]\n",
    "        # self.movements = torch.from_numpy(movements[:, :seq_len, new_fts])\n",
    "        self.movements = torch.from_numpy(movements[:, :seq_len, ...])\n",
    "        self.actions = actions\n",
    "        self.action_dict = deepcopy(dict(action_dict))\n",
    "        self.actionsIDs = list(self.action_dict.keys())  \n",
    "\n",
    "    def __getitem__(self, idx):\n",
    "        x1 = self.movements[idx, ...]\n",
    "        action = self.actions[idx]\n",
    "        # partial_idx = random.sample(self.action_dict[action], k=1)[0]\n",
    "        # x2 = self.movements[partial_idx, ...]\n",
    "        label = self.actionsIDs.index(action)\n",
    "        # return np.transpose(x1, (1,0,2)), np.transpose(x2, (1,0,2)), label\n",
    "        return x1, label\n",
    "\n",
    "    def __len__(self):\n",
    "        return self.movements.shape[0]\n",
    "\n",
    "    def getShape(self):\n",
    "        return self.movements[0, ...].shape\n",
    "\n",
    "    def get_actions(self, label):\n",
    "        return self.movements[self.action_dict[label], ...]"
   ]
  },
  {
   "cell_type": "code",
   "execution_count": 19,
   "metadata": {},
   "outputs": [],
   "source": [
    "def get_action_vector(ae, skel_dt, device, class_ids, class_names, batch_size=32):\n",
    "    # generate unseen action_semantic from unseen skeleton seq. \n",
    "    label_dict = {c:i for i,c in enumerate(class_ids)}\n",
    "    all_actions = []\n",
    "    all_labels = []\n",
    "    for c in class_ids:\n",
    "        action_mat = skel_dt.get_actions(c)\n",
    "        ns, _, _ = action_mat.shape \n",
    "        class_labels = [label_dict[c] for _ in range(ns)]\n",
    "        padded_mat = F.pad(input=action_mat, pad=(0,0,0,0,0,batch_size-ns), mode='constant', value=0)\n",
    "        _, vector_out = ae(padded_mat.float().to(device)) # batch second mode\n",
    "        action_feat_mat = vector_out[:ns, :].cpu().detach().numpy() # batch second mode\n",
    "\n",
    "        all_actions.append(action_feat_mat)\n",
    "        all_labels.append(class_labels)\n",
    "\n",
    "    all_actions = np.concatenate(all_actions)\n",
    "    all_labels = np.concatenate(all_labels)\n",
    "    Id2Label = {i:l for i,l in enumerate(class_names)}\n",
    "    return all_actions, all_labels, Id2Label"
   ]
  },
  {
   "cell_type": "code",
   "execution_count": 37,
   "metadata": {},
   "outputs": [],
   "source": [
    "label2Id = {c[1]:i for i,c in enumerate(dataReader.label_map)}\n",
    "action_dict = defaultdict(list)\n",
    "skeleton_Ids = []\n",
    "for i, a in enumerate(skeleton_classes):\n",
    "    action_dict[label2Id[a]].append(i)\n",
    "    skeleton_Ids.append(label2Id[a])\n",
    "\n",
    "action_dict = OrderedDict(list(action_dict.items()))"
   ]
  },
  {
   "cell_type": "code",
   "execution_count": 20,
   "metadata": {},
   "outputs": [
    {
     "data": {
      "text/plain": [
       "SkeletonAE(\n",
       "  (encoder): BiLSTMEncoder(\n",
       "    (lstm): LSTM(512, 512, batch_first=True, bidirectional=True)\n",
       "    (net): Sequential(\n",
       "      (0): Linear(in_features=36, out_features=128, bias=True)\n",
       "      (1): Linear(in_features=128, out_features=256, bias=True)\n",
       "      (2): Linear(in_features=256, out_features=512, bias=True)\n",
       "    )\n",
       "    (out_linear): Linear(in_features=2048, out_features=512, bias=True)\n",
       "  )\n",
       "  (decoder): BiLSTMDecoder(\n",
       "    (input_linear): Linear(in_features=512, out_features=2048, bias=True)\n",
       "    (lstm): LSTM(512, 512, batch_first=True, bidirectional=True)\n",
       "    (net): Sequential(\n",
       "      (0): Linear(in_features=1024, out_features=512, bias=True)\n",
       "      (1): Linear(in_features=512, out_features=256, bias=True)\n",
       "      (2): Linear(in_features=256, out_features=128, bias=True)\n",
       "      (3): Linear(in_features=128, out_features=36, bias=True)\n",
       "    )\n",
       "  )\n",
       ")"
      ]
     },
     "execution_count": 20,
     "metadata": {},
     "output_type": "execute_result"
    }
   ],
   "source": [
    "# prep_dir = './tmp/epoch50_randsample_input_mseloss.pt'\n",
    "prep_dir = '../data/Pre-trained Skeleton models/PAMAP2/epoch100_emb512.pt'\n",
    "model_config = torch.load(prep_dir)['model_config']\n",
    "\n",
    "# build Skeleton dataset \n",
    "skel_dt = SkeletonDataset(skeleton_mov, skeleton_Ids, action_dict, seq_len=config['seq_len'])\n",
    "skel_dl = DataLoader(skel_dt, batch_size=config['batch_size'], shuffle=True, pin_memory=True, drop_last=True)\n",
    "skel_n, skel_fts = skel_dt.getShape()\n",
    "\n",
    "# build AE Model \n",
    "# ae_model = BiLSTMEncDecModel(input_size=skel_fts, seq_len=skel_n, hidden_size=config['feat_size'], batch_size=config['batch_size'], ae_type='recursive', device=device)\n",
    "ae_config = {\n",
    "    'seq_len': skel_n, \n",
    "    'input_size': skel_fts, \n",
    "    'hidden_size': model_config['hidden_size'], \n",
    "    'linear_filters': model_config['linear_filters'], \n",
    "    'embedding_size': model_config['hidden_size'],\n",
    "    # 'num_classes': 138,\n",
    "    'num_layers': 1,\n",
    "    'bidirectional': True,\n",
    "    'batch_size':config['batch_size']\n",
    "}\n",
    "ae_model = SkeletonAE(device=device, **ae_config)\n",
    "\n",
    "# ae_model = BiLSTMEncDecModel(seq_len=50, input_size=36, hidden_size=512, linear_filters=[128,256,512], embedding_size=256, num_layers=1,bidirectional=True,batch_size=32, device=device)\n",
    "ae_model.load_state_dict(torch.load(prep_dir)['model_state_dict'], strict=False)\n",
    "ae_model.to(device)"
   ]
  },
  {
   "cell_type": "code",
   "execution_count": 40,
   "metadata": {},
   "outputs": [],
   "source": [
    "skel_actions, skel_labels, skel_lm = get_action_vector(ae_model, skel_dt, device, class_ids=range(18), class_names=dataReader.idToLabel)"
   ]
  },
  {
   "cell_type": "code",
   "execution_count": 41,
   "metadata": {},
   "outputs": [],
   "source": [
    "semantic_space = np.array([skel_actions[action_dict[c],:].mean(axis=0) for c in range(len(actionList))])"
   ]
  },
  {
   "cell_type": "code",
   "execution_count": 27,
   "metadata": {},
   "outputs": [
    {
     "data": {
      "text/plain": [
       "(18, 512)"
      ]
     },
     "execution_count": 27,
     "metadata": {},
     "output_type": "execute_result"
    }
   ],
   "source": [
    "semantic_space.shape"
   ]
  },
  {
   "cell_type": "code",
   "execution_count": 47,
   "metadata": {},
   "outputs": [],
   "source": [
    "def loss_cross_entropy(y_pred, y, feat, loss_fn):\n",
    "    # print(f\"y_pred : {y_pred.shape} | feat : {feat.shape}\")\n",
    "    mm_vec = torch.mm(y_pred, torch.transpose(feat, 0, 1))\n",
    "    feat_norm = torch.norm(feat, p=2, dim=1)\n",
    "    norm_vec = mm_vec/torch.unsqueeze(feat_norm, 0)\n",
    "    softmax_vec = torch.softmax(norm_vec, dim=1)\n",
    "    output = loss_fn(softmax_vec, y)\n",
    "    pred = torch.argmax(softmax_vec, dim=-1)\n",
    "    return output, pred\n",
    "\n",
    "def loss_reconstruction_calc(y_pred, y_feat, loss_fn=nn.L1Loss(reduction=\"sum\")):\n",
    "    loss = loss_fn(y_pred,y_feat)\n",
    "    return loss\n",
    "\n",
    "def predict_class(y_pred, feat):\n",
    "    mm_vec = torch.mm(y_pred, torch.transpose(feat, 0, 1))\n",
    "    feat_norm = torch.norm(feat, p=2, dim=1)\n",
    "    norm_vec = mm_vec/torch.unsqueeze(feat_norm, 0)\n",
    "    softmax_vec = torch.softmax(norm_vec, dim=1)\n",
    "    pred = torch.argmax(softmax_vec, dim=-1)\n",
    "    return pred"
   ]
  },
  {
   "cell_type": "code",
   "execution_count": 29,
   "metadata": {},
   "outputs": [],
   "source": [
    "def train_step(model, dataloader, dataset:PAMAP2Dataset, optimizer, loss_module, device, class_names, phase='train', l2_reg=False, loss_alpha=0.7):\n",
    "    model = model.train()\n",
    "    epoch_loss = 0  # total loss of epoch\n",
    "    total_samples = 0  # total samples in epoch\n",
    "    random_selected_feat = dataset.getClassFeatures().to(device)\n",
    "\n",
    "    with tqdm(dataloader, unit=\"batch\", desc=phase) as tepoch:\n",
    "        for batch in tepoch:\n",
    "            X, targets, target_feat = batch\n",
    "            X = X.float().to(device)\n",
    "            target_feat = target_feat.float().to(device)\n",
    "            targets = targets.long().to(device)\n",
    "\n",
    "            # Zero gradients, perform a backward pass, and update the weights.\n",
    "            optimizer.zero_grad()\n",
    "            # forward\n",
    "            # track history if only in train\n",
    "            with torch.set_grad_enabled(phase == 'train'):\n",
    "            # with autocast():\n",
    "                feat_output = model(X)\n",
    "                class_loss, class_output = loss_cross_entropy(feat_output,targets.squeeze(),random_selected_feat,loss_fn =loss_module['class'] )\n",
    "                feat_loss = loss_reconstruction_calc(feat_output,target_feat,loss_fn=loss_module[\"feature\"])\n",
    "\n",
    "            #loss = cross_entropy_loss\n",
    "            loss = feat_loss + loss_alpha*class_loss\n",
    "            # class_output = predict_class(feat_output,random_selected_feat)\n",
    "\n",
    "            if phase == 'train':\n",
    "                loss.backward()\n",
    "                optimizer.step()\n",
    "\n",
    "            metrics = {\"loss\": loss.item()}\n",
    "            with torch.no_grad():\n",
    "                total_samples += len(targets)\n",
    "                epoch_loss += loss.item()  # add total loss of batch\n",
    "\n",
    "            # convert feature vector into action class\n",
    "            # using cosine\n",
    "            pred_class = class_output.cpu().detach().numpy()\n",
    "            metrics[\"accuracy\"] = accuracy_score(y_true=targets.cpu().detach().numpy(), y_pred=pred_class)\n",
    "            tepoch.set_postfix(metrics)\n",
    "\n",
    "    epoch_loss = epoch_loss / total_samples  # average loss per sample for whole epoch\n",
    "    return metrics"
   ]
  },
  {
   "cell_type": "code",
   "execution_count": 30,
   "metadata": {},
   "outputs": [],
   "source": [
    "def eval_step(model, dataloader,dataset, loss_module, device, class_names,  phase='seen', l2_reg=False, print_report=False, show_plot=False, loss_alpha=0.7):\n",
    "    model = model.eval()\n",
    "    random_selected_feat = dataset.getClassFeatures().to(device)\n",
    "    epoch_loss = 0  # total loss of epoch\n",
    "    total_samples = 0  # total samples in epoch\n",
    "    per_batch = {'target_masks': [], 'targets': [], 'predictions': [], 'metrics': [], 'IDs': []}\n",
    "    metrics = {\"samples\": 0, \"loss\": 0, \"feat. loss\": 0, \"classi. loss\": 0}\n",
    "\n",
    "    with tqdm(dataloader, unit=\"batch\", desc=phase) as tepoch:\n",
    "        for batch in tepoch:\n",
    "            X, targets, target_feat = batch\n",
    "            X = X.float().to(device)\n",
    "            X = X.float().to(device)\n",
    "            target_feat = target_feat.float().to(device)\n",
    "            targets = targets.long().to(device)\n",
    "\n",
    "            # forward\n",
    "            # track history if only in train\n",
    "            with torch.set_grad_enabled(phase == 'train'):\n",
    "            # with autocast():\n",
    "                feat_output = model(X)\n",
    "                class_loss, class_output = loss_cross_entropy(feat_output,targets.squeeze(),random_selected_feat,loss_fn =loss_module['class'] )\n",
    "                feat_loss = loss_reconstruction_calc(feat_output,target_feat,loss_fn=loss_module[\"feature\"])\n",
    "            \n",
    "            #loss = cross_entropy_loss\n",
    "            loss = feat_loss + loss_alpha*class_loss\n",
    "            # class_output = predict_class(feat_output,random_selected_feat)\n",
    "\n",
    "            pred_action = class_output\n",
    "\n",
    "            with torch.no_grad():\n",
    "                metrics['samples'] += len(targets)\n",
    "                metrics['loss'] += loss.item()  # add total loss of batch\n",
    "                metrics['feat. loss'] += feat_loss.item()\n",
    "                metrics['classi. loss'] += class_loss.item()\n",
    "\n",
    "            per_batch['targets'].append(targets.cpu().numpy())\n",
    "            per_batch['predictions'].append(pred_action.cpu().numpy())\n",
    "            per_batch['metrics'].append([loss.cpu().numpy()])\n",
    "\n",
    "            tepoch.set_postfix({\"loss\": loss.item()})\n",
    "\n",
    "    all_preds = np.concatenate(per_batch[\"predictions\"])\n",
    "    all_targets = np.concatenate(per_batch[\"targets\"])\n",
    "    metrics_dict = action_evaluator(y_pred=all_preds, y_true=all_targets[:, 0], class_names=class_names, print_report=print_report, show_plot=show_plot)\n",
    "    metrics_dict.update(metrics)\n",
    "    return metrics_dict"
   ]
  },
  {
   "cell_type": "code",
   "execution_count": 39,
   "metadata": {},
   "outputs": [],
   "source": [
    "def gen_semantic_space(idx_dict, labels, feats):\n",
    "    action_ft = []\n",
    "\n",
    "    class_dict = {c: i for i,c in enumerate(labels)}\n",
    "    n_cls = len(labels)\n",
    "    action_label = []\n",
    "    for l in labels:\n",
    "        idxs = idx_dict[l] # class_dict[k]\n",
    "        for i in idxs:\n",
    "            action_ft.append(feats[i])\n",
    "            action_label.append(l)\n",
    "\n",
    "    action_label = np.array(action_label)\n",
    "    return action_ft, action_label"
   ]
  },
  {
   "cell_type": "code",
   "execution_count": 32,
   "metadata": {},
   "outputs": [],
   "source": [
    "def unseen_eval_step(model, dataloader, sem_actions, sem_labels, loss_module, device, class_names, class_ids, phase='seen', l2_reg=False, print_report=False, show_plot=False, loss_alpha=0.7, neighs=5):\n",
    "    model = model.eval()\n",
    "    epoch_loss = 0  # total loss of epoch\n",
    "    total_samples = 0  # total samples in epoch\n",
    "    per_batch = {'target_masks': [], 'targets': [], 'predictions': [], 'metrics': [], 'IDs': [], 'feat': []}\n",
    "    metrics = {\"samples\": 0, \"loss\": 0, \"feat. loss\": 0, \"classi. loss\": 0}\n",
    "    \n",
    "\n",
    "    ld = dict(zip(class_ids, range(len(class_ids))))\n",
    "    all_actions = sem_actions\n",
    "    all_labels = np.array([ld[e] for e in sem_labels])\n",
    "    # build knn model on know unseen samples \n",
    "    clf = KNeighborsClassifier(n_neighbors=neighs, algorithm='auto', metric='cosine', metric_params=None, n_jobs=None, weights='distance')\n",
    "    clf.fit(sem_actions, all_labels)\n",
    "\n",
    "    with tqdm(dataloader, unit=\"batch\", desc=phase) as tepoch:\n",
    "        for batch in tepoch:\n",
    "            X, targets, target_feat = batch\n",
    "            X = X.float().to(device)\n",
    "            target_feat = target_feat.float().to(device)\n",
    "            targets = targets.long().to(device)\n",
    "\n",
    "            # forward track history if only in train\n",
    "            with torch.set_grad_enabled(phase == 'train'):\n",
    "            # with autocast():\n",
    "                feat_output = model(X)\n",
    "\n",
    "            # convert feature vector into action class using cosine\n",
    "            feat_numpy = feat_output.cpu().detach().numpy()\n",
    "            pred_action = clf.predict(feat_numpy)\n",
    "  \n",
    "            with torch.no_grad():\n",
    "                metrics['samples'] += len(targets)\n",
    "\n",
    "            per_batch['targets'].append(targets.cpu().numpy())\n",
    "            per_batch['predictions'].append(pred_action)\n",
    "            per_batch['feat'].append(feat_numpy)\n",
    "\n",
    "    all_preds = np.concatenate(per_batch[\"predictions\"])\n",
    "    all_targets = np.concatenate(per_batch[\"targets\"])\n",
    "    all_pred_ft = np.concatenate(per_batch[\"feat\"])\n",
    "    metrics_dict = action_evaluator(y_pred=all_preds, y_true=all_targets[:, 0], class_names=class_names, print_report=print_report, show_plot=show_plot)\n",
    "    metrics_dict.update(metrics)\n",
    "    label2Id = dict(zip(range(len(class_ids)), class_names))\n",
    "    return metrics_dict, sem_actions, all_labels, all_pred_ft, all_preds, label2Id"
   ]
  },
  {
   "cell_type": "code",
   "execution_count": 33,
   "metadata": {},
   "outputs": [],
   "source": [
    "def over_plot_preds(gt_actions, gt_labels, pred_actions, pred_labels, Id2Label):\n",
    "    gt_n = gt_actions.shape[0]\n",
    "    pred_n = pred_actions.shape[0]\n",
    "\n",
    "    all_actions = np.concatenate([gt_actions, pred_actions])\n",
    "    all_labels = np.concatenate([gt_labels, pred_labels])\n",
    "    all_types = ['GT',]*gt_n + ['pred',]*pred_n\n",
    "\n",
    "    tnse = TSNE(n_components=2, init='random', learning_rate='auto', perplexity=15, n_iter=1000)\n",
    "    gt_data = tnse.fit_transform(all_actions)\n",
    "\n",
    "    gt_df = pd.DataFrame(data=gt_data, columns=['x', 'y'])\n",
    "    gt_df['label'] = all_labels \n",
    "    gt_df['action'] = gt_df['label'].map(Id2Label)\n",
    "    gt_df['type'] = all_types\n",
    "\n",
    "    plt.figure(figsize=(6, 6))\n",
    "    sns.scatterplot(data=gt_df, x='x', y='y', hue='action', style='type')\n",
    "    plt.legend(bbox_to_anchor=(1.02, 1), loc='upper left', borderaxespad=0)\n",
    "    plt.show()"
   ]
  },
  {
   "cell_type": "code",
   "execution_count": 34,
   "metadata": {},
   "outputs": [],
   "source": [
    "def plot_curves(df):\n",
    "    df['loss'] = df['loss']/df['samples']\n",
    "    df['feat. loss'] = df['feat. loss']/df['samples']\n",
    "    df['classi. loss'] = df['classi. loss']/df['samples']\n",
    "    \n",
    "    fig, axs = plt.subplots(nrows=4)\n",
    "    sns.lineplot(data=df, x='epoch', y='loss', hue='phase', marker='o', ax=axs[2]).set(title=\"Loss\")\n",
    "    sns.lineplot(data=df, x='epoch', y='feat. loss', hue='phase', marker='o', ax=axs[0]).set(title=\"Feature Loss\")\n",
    "    sns.lineplot(data=df, x='epoch', y='classi. loss', hue='phase', marker='o', ax=axs[1]).set(title=\"Classification Loss\")\n",
    "    sns.lineplot(data=df, x='epoch', y='accuracy', hue='phase', marker='o', ax=axs[3]).set(title=\"Accuracy\")"
   ]
  },
  {
   "cell_type": "code",
   "execution_count": 35,
   "metadata": {},
   "outputs": [],
   "source": [
    "def log(fold, phase, metrics):\n",
    "    for m, v in metrics.items():\n",
    "        if fold == 'global':\n",
    "            run[f'global/{m}'].log(v)\n",
    "        else:\n",
    "            run[f\"Fold-{fold}/{phase}/{m}\"].log(v) "
   ]
  },
  {
   "cell_type": "code",
   "execution_count": 36,
   "metadata": {},
   "outputs": [],
   "source": [
    "# run = neptune.init_run(\n",
    "#     project=\"FYP-Group22/ICANN-Logs\",\n",
    "#     api_token=\"eyJhcGlfYWRkcmVzcyI6Imh0dHBzOi8vYXBwLm5lcHR1bmUuYWkiLCJhcGlfdXJsIjoiaHR0cHM6Ly9hcHAubmVwdHVuZS5haSIsImFwaV9rZXkiOiJkNWJjMDdhNC05NWY5LTQwNWQtYTQyNi0zNjNmYmYwZDg3M2YifQ==\",\n",
    "# )  # your credentials"
   ]
  },
  {
   "cell_type": "code",
   "execution_count": 50,
   "metadata": {},
   "outputs": [
    {
     "name": "stdout",
     "output_type": "stream",
     "text": [
      "================ Fold-0 ================\n",
      "Unseen Classes : ['watching TV', 'house cleaning', 'standing', 'ascending stairs']\n",
      "seen classes >  [0, 1, 3, 4, 5, 6, 8, 9, 11, 12, 13, 14, 16, 17]\n",
      "unseen classes >  [7, 15, 2, 10]\n",
      "Initiate IMU datasets ...\n"
     ]
    },
    {
     "name": "stderr",
     "output_type": "stream",
     "text": [
      "train: 100%|██████████| 142/142 [00:05<00:00, 27.88batch/s, loss=918, accuracy=0.0469]\n",
      "seen: 100%|██████████| 15/15 [00:00<00:00, 44.24batch/s, loss=810]\n",
      "Training Epoch:   4%|▍         | 1/25 [00:05<02:11,  5.46s/it]"
     ]
    },
    {
     "name": "stdout",
     "output_type": "stream",
     "text": [
      "Overall accuracy: 0.028\n",
      "\n"
     ]
    },
    {
     "name": "stderr",
     "output_type": "stream",
     "text": [
      "train: 100%|██████████| 142/142 [00:05<00:00, 28.06batch/s, loss=791, accuracy=0.0781]\n",
      "seen: 100%|██████████| 15/15 [00:00<00:00, 34.99batch/s, loss=735]\n",
      "Training Epoch:   8%|▊         | 2/25 [00:10<02:06,  5.49s/it]"
     ]
    },
    {
     "name": "stdout",
     "output_type": "stream",
     "text": [
      "Overall accuracy: 0.046\n",
      "\n"
     ]
    },
    {
     "name": "stderr",
     "output_type": "stream",
     "text": [
      "train: 100%|██████████| 142/142 [00:05<00:00, 25.22batch/s, loss=766, accuracy=0.0938]\n",
      "seen: 100%|██████████| 15/15 [00:00<00:00, 35.30batch/s, loss=718]\n",
      "Training Epoch:  12%|█▏        | 3/25 [00:17<02:06,  5.77s/it]"
     ]
    },
    {
     "name": "stdout",
     "output_type": "stream",
     "text": [
      "Overall accuracy: 0.092\n",
      "\n"
     ]
    },
    {
     "name": "stderr",
     "output_type": "stream",
     "text": [
      "train: 100%|██████████| 142/142 [00:04<00:00, 29.00batch/s, loss=852, accuracy=0.109]\n",
      "seen: 100%|██████████| 15/15 [00:00<00:00, 42.86batch/s, loss=716]\n",
      "Training Epoch:  16%|█▌        | 4/25 [00:22<01:57,  5.57s/it]"
     ]
    },
    {
     "name": "stdout",
     "output_type": "stream",
     "text": [
      "Overall accuracy: 0.167\n",
      "\n"
     ]
    },
    {
     "name": "stderr",
     "output_type": "stream",
     "text": [
      "train: 100%|██████████| 142/142 [00:04<00:00, 28.82batch/s, loss=829, accuracy=0.266]\n",
      "seen: 100%|██████████| 15/15 [00:00<00:00, 42.24batch/s, loss=810]\n",
      "Training Epoch:  20%|██        | 5/25 [00:27<01:49,  5.48s/it]"
     ]
    },
    {
     "name": "stdout",
     "output_type": "stream",
     "text": [
      "Overall accuracy: 0.301\n",
      "\n"
     ]
    },
    {
     "name": "stderr",
     "output_type": "stream",
     "text": [
      "train: 100%|██████████| 142/142 [00:04<00:00, 29.42batch/s, loss=724, accuracy=0.328]\n",
      "seen: 100%|██████████| 15/15 [00:00<00:00, 42.95batch/s, loss=852]\n",
      "Training Epoch:  24%|██▍       | 6/25 [00:32<01:42,  5.39s/it]"
     ]
    },
    {
     "name": "stdout",
     "output_type": "stream",
     "text": [
      "Overall accuracy: 0.391\n",
      "\n"
     ]
    },
    {
     "name": "stderr",
     "output_type": "stream",
     "text": [
      "train: 100%|██████████| 142/142 [00:05<00:00, 28.15batch/s, loss=757, accuracy=0.438]\n",
      "seen: 100%|██████████| 15/15 [00:00<00:00, 41.95batch/s, loss=794]\n",
      "Training Epoch:  28%|██▊       | 7/25 [00:38<01:37,  5.40s/it]"
     ]
    },
    {
     "name": "stdout",
     "output_type": "stream",
     "text": [
      "Overall accuracy: 0.452\n",
      "\n"
     ]
    },
    {
     "name": "stderr",
     "output_type": "stream",
     "text": [
      "train: 100%|██████████| 142/142 [00:04<00:00, 29.00batch/s, loss=750, accuracy=0.484]\n",
      "seen: 100%|██████████| 15/15 [00:00<00:00, 38.99batch/s, loss=730]\n",
      "Training Epoch:  32%|███▏      | 8/25 [00:43<01:31,  5.38s/it]"
     ]
    },
    {
     "name": "stdout",
     "output_type": "stream",
     "text": [
      "Overall accuracy: 0.418\n",
      "\n"
     ]
    },
    {
     "name": "stderr",
     "output_type": "stream",
     "text": [
      "train: 100%|██████████| 142/142 [00:04<00:00, 29.07batch/s, loss=709, accuracy=0.547]\n",
      "seen: 100%|██████████| 15/15 [00:00<00:00, 40.92batch/s, loss=786]\n",
      "Training Epoch:  36%|███▌      | 9/25 [00:48<01:25,  5.34s/it]"
     ]
    },
    {
     "name": "stdout",
     "output_type": "stream",
     "text": [
      "Overall accuracy: 0.530\n",
      "\n"
     ]
    },
    {
     "name": "stderr",
     "output_type": "stream",
     "text": [
      "train: 100%|██████████| 142/142 [00:04<00:00, 28.60batch/s, loss=835, accuracy=0.609]\n",
      "seen: 100%|██████████| 15/15 [00:00<00:00, 42.22batch/s, loss=661]\n",
      "Training Epoch:  40%|████      | 10/25 [00:54<01:20,  5.35s/it]"
     ]
    },
    {
     "name": "stdout",
     "output_type": "stream",
     "text": [
      "Overall accuracy: 0.556\n",
      "\n"
     ]
    },
    {
     "name": "stderr",
     "output_type": "stream",
     "text": [
      "train: 100%|██████████| 142/142 [00:04<00:00, 29.49batch/s, loss=727, accuracy=0.609]\n",
      "seen: 100%|██████████| 15/15 [00:00<00:00, 44.62batch/s, loss=720]\n",
      "Training Epoch:  44%|████▍     | 11/25 [00:59<01:14,  5.29s/it]"
     ]
    },
    {
     "name": "stdout",
     "output_type": "stream",
     "text": [
      "Overall accuracy: 0.618\n",
      "\n"
     ]
    },
    {
     "name": "stderr",
     "output_type": "stream",
     "text": [
      "train: 100%|██████████| 142/142 [00:04<00:00, 29.17batch/s, loss=661, accuracy=0.641]\n",
      "seen: 100%|██████████| 15/15 [00:00<00:00, 41.61batch/s, loss=713]\n",
      "Training Epoch:  48%|████▊     | 12/25 [01:04<01:08,  5.29s/it]"
     ]
    },
    {
     "name": "stdout",
     "output_type": "stream",
     "text": [
      "Overall accuracy: 0.676\n",
      "\n"
     ]
    },
    {
     "name": "stderr",
     "output_type": "stream",
     "text": [
      "train: 100%|██████████| 142/142 [00:04<00:00, 29.08batch/s, loss=833, accuracy=0.594]\n",
      "seen: 100%|██████████| 15/15 [00:00<00:00, 40.30batch/s, loss=783]\n",
      "Training Epoch:  52%|█████▏    | 13/25 [01:09<01:03,  5.29s/it]"
     ]
    },
    {
     "name": "stdout",
     "output_type": "stream",
     "text": [
      "Overall accuracy: 0.689\n",
      "\n"
     ]
    },
    {
     "name": "stderr",
     "output_type": "stream",
     "text": [
      "train: 100%|██████████| 142/142 [00:04<00:00, 29.04batch/s, loss=763, accuracy=0.75]\n",
      "seen: 100%|██████████| 15/15 [00:00<00:00, 42.93batch/s, loss=798]\n",
      "Training Epoch:  56%|█████▌    | 14/25 [01:15<00:58,  5.28s/it]"
     ]
    },
    {
     "name": "stdout",
     "output_type": "stream",
     "text": [
      "Overall accuracy: 0.755\n",
      "\n"
     ]
    },
    {
     "name": "stderr",
     "output_type": "stream",
     "text": [
      "train: 100%|██████████| 142/142 [00:04<00:00, 28.54batch/s, loss=726, accuracy=0.859]\n",
      "seen: 100%|██████████| 15/15 [00:00<00:00, 42.03batch/s, loss=650]\n",
      "Training Epoch:  60%|██████    | 15/25 [01:20<00:53,  5.30s/it]"
     ]
    },
    {
     "name": "stdout",
     "output_type": "stream",
     "text": [
      "Overall accuracy: 0.772\n",
      "\n"
     ]
    },
    {
     "name": "stderr",
     "output_type": "stream",
     "text": [
      "train: 100%|██████████| 142/142 [00:04<00:00, 28.65batch/s, loss=753, accuracy=0.75]\n",
      "seen: 100%|██████████| 15/15 [00:00<00:00, 43.11batch/s, loss=712]\n",
      "Training Epoch:  64%|██████▍   | 16/25 [01:25<00:47,  5.31s/it]"
     ]
    },
    {
     "name": "stdout",
     "output_type": "stream",
     "text": [
      "Overall accuracy: 0.785\n",
      "\n"
     ]
    },
    {
     "name": "stderr",
     "output_type": "stream",
     "text": [
      "train: 100%|██████████| 142/142 [00:04<00:00, 29.20batch/s, loss=741, accuracy=0.734]\n",
      "seen: 100%|██████████| 15/15 [00:00<00:00, 40.14batch/s, loss=825]\n",
      "Training Epoch:  68%|██████▊   | 17/25 [01:31<00:42,  5.30s/it]"
     ]
    },
    {
     "name": "stdout",
     "output_type": "stream",
     "text": [
      "Overall accuracy: 0.861\n",
      "\n"
     ]
    },
    {
     "name": "stderr",
     "output_type": "stream",
     "text": [
      "train: 100%|██████████| 142/142 [00:05<00:00, 28.05batch/s, loss=752, accuracy=0.891]\n",
      "seen: 100%|██████████| 15/15 [00:00<00:00, 42.13batch/s, loss=724]\n",
      "Training Epoch:  72%|███████▏  | 18/25 [01:36<00:37,  5.34s/it]"
     ]
    },
    {
     "name": "stdout",
     "output_type": "stream",
     "text": [
      "Overall accuracy: 0.902\n",
      "\n"
     ]
    },
    {
     "name": "stderr",
     "output_type": "stream",
     "text": [
      "train: 100%|██████████| 142/142 [00:04<00:00, 28.94batch/s, loss=741, accuracy=0.859]\n",
      "seen: 100%|██████████| 15/15 [00:00<00:00, 39.75batch/s, loss=612]\n",
      "Training Epoch:  76%|███████▌  | 19/25 [01:41<00:32,  5.33s/it]"
     ]
    },
    {
     "name": "stdout",
     "output_type": "stream",
     "text": [
      "Overall accuracy: 0.859\n",
      "\n"
     ]
    },
    {
     "name": "stderr",
     "output_type": "stream",
     "text": [
      "train: 100%|██████████| 142/142 [00:05<00:00, 28.34batch/s, loss=705, accuracy=0.859]\n",
      "seen: 100%|██████████| 15/15 [00:00<00:00, 41.50batch/s, loss=692]\n",
      "Training Epoch:  80%|████████  | 20/25 [01:47<00:26,  5.35s/it]"
     ]
    },
    {
     "name": "stdout",
     "output_type": "stream",
     "text": [
      "Overall accuracy: 0.925\n",
      "\n"
     ]
    },
    {
     "name": "stderr",
     "output_type": "stream",
     "text": [
      "train: 100%|██████████| 142/142 [00:05<00:00, 27.49batch/s, loss=672, accuracy=0.891]\n",
      "seen: 100%|██████████| 15/15 [00:00<00:00, 40.16batch/s, loss=730]\n",
      "Training Epoch:  84%|████████▍ | 21/25 [01:52<00:21,  5.42s/it]"
     ]
    },
    {
     "name": "stdout",
     "output_type": "stream",
     "text": [
      "Overall accuracy: 0.924\n",
      "\n"
     ]
    },
    {
     "name": "stderr",
     "output_type": "stream",
     "text": [
      "train: 100%|██████████| 142/142 [00:04<00:00, 28.62batch/s, loss=698, accuracy=0.969]\n",
      "seen: 100%|██████████| 15/15 [00:00<00:00, 43.15batch/s, loss=673]\n",
      "Training Epoch:  88%|████████▊ | 22/25 [01:58<00:16,  5.39s/it]"
     ]
    },
    {
     "name": "stdout",
     "output_type": "stream",
     "text": [
      "Overall accuracy: 0.930\n",
      "\n"
     ]
    },
    {
     "name": "stderr",
     "output_type": "stream",
     "text": [
      "train: 100%|██████████| 142/142 [00:04<00:00, 29.10batch/s, loss=630, accuracy=0.875]\n",
      "seen: 100%|██████████| 15/15 [00:00<00:00, 44.21batch/s, loss=768]\n",
      "Training Epoch:  92%|█████████▏| 23/25 [02:03<00:10,  5.35s/it]"
     ]
    },
    {
     "name": "stdout",
     "output_type": "stream",
     "text": [
      "Overall accuracy: 0.909\n",
      "\n"
     ]
    },
    {
     "name": "stderr",
     "output_type": "stream",
     "text": [
      "train: 100%|██████████| 142/142 [00:04<00:00, 29.13batch/s, loss=784, accuracy=0.797]\n",
      "seen: 100%|██████████| 15/15 [00:00<00:00, 42.88batch/s, loss=704]\n",
      "Training Epoch:  96%|█████████▌| 24/25 [02:08<00:05,  5.32s/it]"
     ]
    },
    {
     "name": "stdout",
     "output_type": "stream",
     "text": [
      "Overall accuracy: 0.915\n",
      "\n"
     ]
    },
    {
     "name": "stderr",
     "output_type": "stream",
     "text": [
      "train: 100%|██████████| 142/142 [00:04<00:00, 28.49batch/s, loss=708, accuracy=0.906]\n",
      "seen: 100%|██████████| 15/15 [00:00<00:00, 43.15batch/s, loss=799]\n",
      "                                                               \r"
     ]
    },
    {
     "name": "stdout",
     "output_type": "stream",
     "text": [
      "Overall accuracy: 0.928\n",
      "\n"
     ]
    },
    {
     "name": "stderr",
     "output_type": "stream",
     "text": [
      "unseen: 100%|██████████| 42/42 [00:00<00:00, 54.98batch/s]\n"
     ]
    },
    {
     "data": {
      "image/png": "[encoded data removed]",
      "text/plain": [
       "<Figure size 640x480 with 4 Axes>"
      ]
     },
     "metadata": {},
     "output_type": "display_data"
    },
    {
     "data": {
      "image/png": "[encoded data removed]",
      "text/plain": [
       "<Figure size 640x480 with 2 Axes>"
      ]
     },
     "metadata": {},
     "output_type": "display_data"
    },
    {
     "name": "stdout",
     "output_type": "stream",
     "text": [
      "Overall accuracy: 0.299\n",
      "\n",
      "                   precision     recall   f1-score rel. freq. abs. freq.|\t biggest thieves\n",
      "\n",
      "  house cleaning       0.311      0.888      0.461      0.336        902|\t ascending stairs: 0.099,\tstanding: 0.013,\t\n",
      "        standing       0.200      0.003      0.007      0.333        895|\t house cleaning: 0.990,\tascending stairs: 0.007,\t\n",
      "ascending stairs       0.000      0.000      0.000      0.179        480|\t house cleaning: 1.000,\tstanding: 0.000,\t\n",
      "     watching TV       0.000      0.000      0.000      0.153        411|\t house cleaning: 0.995,\tascending stairs: 0.005,\tstanding: 0.000,\t\n",
      "\n",
      "----------------------------------------------------------------------------------------------------\n",
      "     avg / total       0.171      0.299      0.157        1.0       2688|\t      \n",
      "\n",
      "{'accuracy': 0.29910714285714285, 'precision': 0.12773680124223602, 'recall': 0.22284464071151633, 'f1': 0.11680073807733382, 'samples': 2688, 'loss': 0, 'feat. loss': 0, 'classi. loss': 0, 'N': 4}\n",
      "========================================\n",
      "================ Fold-1 ================\n",
      "Unseen Classes : ['walking', 'rope jumping', 'sitting', 'descending stairs']\n",
      "seen classes >  [0, 2, 4, 5, 6, 7, 8, 9, 10, 12, 13, 14, 15, 16]\n",
      "unseen classes >  [3, 17, 1, 11]\n",
      "Initiate IMU datasets ...\n"
     ]
    },
    {
     "name": "stderr",
     "output_type": "stream",
     "text": [
      "train: 100%|██████████| 143/143 [00:05<00:00, 28.06batch/s, loss=725, accuracy=0.203]\n",
      "seen: 100%|██████████| 15/15 [00:00<00:00, 43.46batch/s, loss=817]\n",
      "Training Epoch:   4%|▍         | 1/25 [00:05<02:11,  5.46s/it]"
     ]
    },
    {
     "name": "stdout",
     "output_type": "stream",
     "text": [
      "Overall accuracy: 0.075\n",
      "\n"
     ]
    },
    {
     "name": "stderr",
     "output_type": "stream",
     "text": [
      "train: 100%|██████████| 143/143 [00:04<00:00, 29.22batch/s, loss=703, accuracy=0.141]\n",
      "seen: 100%|██████████| 15/15 [00:00<00:00, 38.91batch/s, loss=779]\n",
      "Training Epoch:   8%|▊         | 2/25 [00:10<02:03,  5.37s/it]"
     ]
    },
    {
     "name": "stdout",
     "output_type": "stream",
     "text": [
      "Overall accuracy: 0.068\n",
      "\n"
     ]
    },
    {
     "name": "stderr",
     "output_type": "stream",
     "text": [
      "train: 100%|██████████| 143/143 [00:05<00:00, 28.41batch/s, loss=757, accuracy=0.0938]\n",
      "seen: 100%|██████████| 15/15 [00:00<00:00, 43.25batch/s, loss=749]\n",
      "Training Epoch:  12%|█▏        | 3/25 [00:16<01:58,  5.39s/it]"
     ]
    },
    {
     "name": "stdout",
     "output_type": "stream",
     "text": [
      "Overall accuracy: 0.071\n",
      "\n"
     ]
    },
    {
     "name": "stderr",
     "output_type": "stream",
     "text": [
      "train: 100%|██████████| 143/143 [00:05<00:00, 28.13batch/s, loss=745, accuracy=0.156]\n",
      "seen: 100%|██████████| 15/15 [00:00<00:00, 42.53batch/s, loss=682]\n",
      "Training Epoch:  16%|█▌        | 4/25 [00:21<01:53,  5.42s/it]"
     ]
    },
    {
     "name": "stdout",
     "output_type": "stream",
     "text": [
      "Overall accuracy: 0.125\n",
      "\n"
     ]
    },
    {
     "name": "stderr",
     "output_type": "stream",
     "text": [
      "train: 100%|██████████| 143/143 [00:04<00:00, 28.97batch/s, loss=719, accuracy=0.266]\n",
      "seen: 100%|██████████| 15/15 [00:00<00:00, 37.06batch/s, loss=732]\n",
      "Training Epoch:  20%|██        | 5/25 [00:27<01:48,  5.40s/it]"
     ]
    },
    {
     "name": "stdout",
     "output_type": "stream",
     "text": [
      "Overall accuracy: 0.297\n",
      "\n"
     ]
    },
    {
     "name": "stderr",
     "output_type": "stream",
     "text": [
      "train: 100%|██████████| 143/143 [00:05<00:00, 28.59batch/s, loss=723, accuracy=0.328]\n",
      "seen: 100%|██████████| 15/15 [00:00<00:00, 41.76batch/s, loss=673]\n",
      "Training Epoch:  24%|██▍       | 6/25 [00:32<01:42,  5.40s/it]"
     ]
    },
    {
     "name": "stdout",
     "output_type": "stream",
     "text": [
      "Overall accuracy: 0.362\n",
      "\n"
     ]
    },
    {
     "name": "stderr",
     "output_type": "stream",
     "text": [
      "train: 100%|██████████| 143/143 [00:04<00:00, 29.05batch/s, loss=748, accuracy=0.438]\n",
      "seen: 100%|██████████| 15/15 [00:00<00:00, 43.48batch/s, loss=737]\n",
      "Training Epoch:  28%|██▊       | 7/25 [00:37<01:36,  5.36s/it]"
     ]
    },
    {
     "name": "stdout",
     "output_type": "stream",
     "text": [
      "Overall accuracy: 0.422\n",
      "\n"
     ]
    },
    {
     "name": "stderr",
     "output_type": "stream",
     "text": [
      "train: 100%|██████████| 143/143 [00:04<00:00, 29.26batch/s, loss=691, accuracy=0.453]\n",
      "seen: 100%|██████████| 15/15 [00:00<00:00, 44.03batch/s, loss=708]\n",
      "Training Epoch:  32%|███▏      | 8/25 [00:42<01:30,  5.33s/it]"
     ]
    },
    {
     "name": "stdout",
     "output_type": "stream",
     "text": [
      "Overall accuracy: 0.420\n",
      "\n"
     ]
    },
    {
     "name": "stderr",
     "output_type": "stream",
     "text": [
      "train: 100%|██████████| 143/143 [00:05<00:00, 28.17batch/s, loss=680, accuracy=0.484]\n",
      "seen: 100%|██████████| 15/15 [00:00<00:00, 42.00batch/s, loss=637]\n",
      "Training Epoch:  36%|███▌      | 9/25 [00:48<01:25,  5.37s/it]"
     ]
    },
    {
     "name": "stdout",
     "output_type": "stream",
     "text": [
      "Overall accuracy: 0.560\n",
      "\n"
     ]
    },
    {
     "name": "stderr",
     "output_type": "stream",
     "text": [
      "train: 100%|██████████| 143/143 [00:04<00:00, 28.77batch/s, loss=703, accuracy=0.562]\n",
      "seen: 100%|██████████| 15/15 [00:00<00:00, 37.84batch/s, loss=608]\n",
      "Training Epoch:  40%|████      | 10/25 [00:53<01:20,  5.38s/it]"
     ]
    },
    {
     "name": "stdout",
     "output_type": "stream",
     "text": [
      "Overall accuracy: 0.556\n",
      "\n"
     ]
    },
    {
     "name": "stderr",
     "output_type": "stream",
     "text": [
      "train: 100%|██████████| 143/143 [00:04<00:00, 28.88batch/s, loss=643, accuracy=0.641]\n",
      "seen: 100%|██████████| 15/15 [00:00<00:00, 40.93batch/s, loss=658]\n",
      "Training Epoch:  44%|████▍     | 11/25 [00:59<01:15,  5.37s/it]"
     ]
    },
    {
     "name": "stdout",
     "output_type": "stream",
     "text": [
      "Overall accuracy: 0.636\n",
      "\n"
     ]
    },
    {
     "name": "stderr",
     "output_type": "stream",
     "text": [
      "train: 100%|██████████| 143/143 [00:04<00:00, 28.80batch/s, loss=578, accuracy=0.734]\n",
      "seen: 100%|██████████| 15/15 [00:00<00:00, 45.80batch/s, loss=629]\n",
      "Training Epoch:  48%|████▊     | 12/25 [01:04<01:09,  5.35s/it]"
     ]
    },
    {
     "name": "stdout",
     "output_type": "stream",
     "text": [
      "Overall accuracy: 0.633\n",
      "\n"
     ]
    },
    {
     "name": "stderr",
     "output_type": "stream",
     "text": [
      "train: 100%|██████████| 143/143 [00:04<00:00, 28.72batch/s, loss=601, accuracy=0.656]\n",
      "seen: 100%|██████████| 15/15 [00:00<00:00, 41.78batch/s, loss=698]\n",
      "Training Epoch:  52%|█████▏    | 13/25 [01:09<01:04,  5.35s/it]"
     ]
    },
    {
     "name": "stdout",
     "output_type": "stream",
     "text": [
      "Overall accuracy: 0.661\n",
      "\n"
     ]
    },
    {
     "name": "stderr",
     "output_type": "stream",
     "text": [
      "train: 100%|██████████| 143/143 [00:04<00:00, 28.71batch/s, loss=633, accuracy=0.719]\n",
      "seen: 100%|██████████| 15/15 [00:00<00:00, 42.64batch/s, loss=673]\n",
      "Training Epoch:  56%|█████▌    | 14/25 [01:15<00:58,  5.35s/it]"
     ]
    },
    {
     "name": "stdout",
     "output_type": "stream",
     "text": [
      "Overall accuracy: 0.667\n",
      "\n"
     ]
    },
    {
     "name": "stderr",
     "output_type": "stream",
     "text": [
      "train: 100%|██████████| 143/143 [00:04<00:00, 28.76batch/s, loss=609, accuracy=0.672]\n",
      "seen: 100%|██████████| 15/15 [00:00<00:00, 42.77batch/s, loss=606]\n",
      "Training Epoch:  60%|██████    | 15/25 [01:20<00:53,  5.35s/it]"
     ]
    },
    {
     "name": "stdout",
     "output_type": "stream",
     "text": [
      "Overall accuracy: 0.671\n",
      "\n"
     ]
    },
    {
     "name": "stderr",
     "output_type": "stream",
     "text": [
      "train: 100%|██████████| 143/143 [00:04<00:00, 28.64batch/s, loss=635, accuracy=0.656]\n",
      "seen: 100%|██████████| 15/15 [00:00<00:00, 43.00batch/s, loss=645]\n",
      "Training Epoch:  64%|██████▍   | 16/25 [01:25<00:48,  5.36s/it]"
     ]
    },
    {
     "name": "stdout",
     "output_type": "stream",
     "text": [
      "Overall accuracy: 0.669\n",
      "\n"
     ]
    },
    {
     "name": "stderr",
     "output_type": "stream",
     "text": [
      "train: 100%|██████████| 143/143 [00:05<00:00, 27.98batch/s, loss=714, accuracy=0.672]\n",
      "seen: 100%|██████████| 15/15 [00:00<00:00, 41.53batch/s, loss=689]\n",
      "Training Epoch:  68%|██████▊   | 17/25 [01:31<00:43,  5.41s/it]"
     ]
    },
    {
     "name": "stdout",
     "output_type": "stream",
     "text": [
      "Overall accuracy: 0.706\n",
      "\n"
     ]
    },
    {
     "name": "stderr",
     "output_type": "stream",
     "text": [
      "train: 100%|██████████| 143/143 [00:04<00:00, 28.78batch/s, loss=641, accuracy=0.609]\n",
      "seen: 100%|██████████| 15/15 [00:00<00:00, 41.58batch/s, loss=578]\n",
      "Training Epoch:  72%|███████▏  | 18/25 [01:36<00:37,  5.39s/it]"
     ]
    },
    {
     "name": "stdout",
     "output_type": "stream",
     "text": [
      "Overall accuracy: 0.701\n",
      "\n"
     ]
    },
    {
     "name": "stderr",
     "output_type": "stream",
     "text": [
      "train: 100%|██████████| 143/143 [00:05<00:00, 28.10batch/s, loss=628, accuracy=0.688]\n",
      "seen: 100%|██████████| 15/15 [00:00<00:00, 42.63batch/s, loss=607]\n",
      "Training Epoch:  76%|███████▌  | 19/25 [01:42<00:32,  5.41s/it]"
     ]
    },
    {
     "name": "stdout",
     "output_type": "stream",
     "text": [
      "Overall accuracy: 0.751\n",
      "\n"
     ]
    },
    {
     "name": "stderr",
     "output_type": "stream",
     "text": [
      "train: 100%|██████████| 143/143 [00:05<00:00, 27.30batch/s, loss=659, accuracy=0.797]\n",
      "seen: 100%|██████████| 15/15 [00:00<00:00, 41.11batch/s, loss=619]\n",
      "Training Epoch:  80%|████████  | 20/25 [01:47<00:27,  5.48s/it]"
     ]
    },
    {
     "name": "stdout",
     "output_type": "stream",
     "text": [
      "Overall accuracy: 0.770\n",
      "\n"
     ]
    },
    {
     "name": "stderr",
     "output_type": "stream",
     "text": [
      "train: 100%|██████████| 143/143 [00:05<00:00, 28.22batch/s, loss=761, accuracy=0.797]\n",
      "seen: 100%|██████████| 15/15 [00:00<00:00, 42.22batch/s, loss=630]\n",
      "Training Epoch:  84%|████████▍ | 21/25 [01:53<00:21,  5.47s/it]"
     ]
    },
    {
     "name": "stdout",
     "output_type": "stream",
     "text": [
      "Overall accuracy: 0.789\n",
      "\n"
     ]
    },
    {
     "name": "stderr",
     "output_type": "stream",
     "text": [
      "train: 100%|██████████| 143/143 [00:05<00:00, 27.45batch/s, loss=655, accuracy=0.812]\n",
      "seen: 100%|██████████| 15/15 [00:00<00:00, 38.87batch/s, loss=615]\n",
      "Training Epoch:  88%|████████▊ | 22/25 [01:58<00:16,  5.52s/it]"
     ]
    },
    {
     "name": "stdout",
     "output_type": "stream",
     "text": [
      "Overall accuracy: 0.824\n",
      "\n"
     ]
    },
    {
     "name": "stderr",
     "output_type": "stream",
     "text": [
      "train: 100%|██████████| 143/143 [00:04<00:00, 31.17batch/s, loss=636, accuracy=0.797]\n",
      "seen: 100%|██████████| 15/15 [00:00<00:00, 52.25batch/s, loss=581]\n",
      "Training Epoch:  92%|█████████▏| 23/25 [02:03<00:10,  5.33s/it]"
     ]
    },
    {
     "name": "stdout",
     "output_type": "stream",
     "text": [
      "Overall accuracy: 0.842\n",
      "\n"
     ]
    },
    {
     "name": "stderr",
     "output_type": "stream",
     "text": [
      "train: 100%|██████████| 143/143 [00:09<00:00, 14.61batch/s, loss=666, accuracy=0.828]\n",
      "seen: 100%|██████████| 15/15 [00:00<00:00, 29.18batch/s, loss=636]\n",
      "Training Epoch:  96%|█████████▌| 24/25 [02:14<00:06,  6.83s/it]"
     ]
    },
    {
     "name": "stdout",
     "output_type": "stream",
     "text": [
      "Overall accuracy: 0.887\n",
      "\n"
     ]
    },
    {
     "name": "stderr",
     "output_type": "stream",
     "text": [
      "train: 100%|██████████| 143/143 [00:04<00:00, 29.99batch/s, loss=671, accuracy=0.859]\n",
      "seen: 100%|██████████| 15/15 [00:00<00:00, 42.13batch/s, loss=612]\n",
      "                                                               \r"
     ]
    },
    {
     "name": "stdout",
     "output_type": "stream",
     "text": [
      "Overall accuracy: 0.885\n",
      "\n"
     ]
    },
    {
     "name": "stderr",
     "output_type": "stream",
     "text": [
      "unseen: 100%|██████████| 41/41 [00:00<00:00, 60.59batch/s]\n"
     ]
    },
    {
     "data": {
      "image/png": "[encoded data removed]",
      "text/plain": [
       "<Figure size 640x480 with 4 Axes>"
      ]
     },
     "metadata": {},
     "output_type": "display_data"
    },
    {
     "data": {
      "image/png": "[encoded data removed]",
      "text/plain": [
       "<Figure size 640x480 with 2 Axes>"
      ]
     },
     "metadata": {},
     "output_type": "display_data"
    },
    {
     "name": "stdout",
     "output_type": "stream",
     "text": [
      "Overall accuracy: 0.050\n",
      "\n",
      "                    precision     recall   f1-score rel. freq. abs. freq.|\t biggest thieves\n",
      "\n",
      "          walking       0.170      0.014      0.026      0.432       1134|\t rope jumping: 0.970,\tsitting: 0.014,\t\n",
      "          sitting       0.107      0.033      0.051      0.331        869|\t descending stairs: 0.824,\trope jumping: 0.099,\twalking: 0.044,\t\n",
      "descending stairs       0.081      0.153      0.106      0.157        411|\t rope jumping: 0.655,\tsitting: 0.097,\t\n",
      "     rope jumping       0.016      0.110      0.027      0.080        210|\t sitting: 0.886,\twalking: 0.005,\t\n",
      "\n",
      "----------------------------------------------------------------------------------------------------\n",
      "      avg / total       0.123      0.050      0.047        1.0       2624|\t      \n",
      "\n",
      "{'accuracy': 0.04992378048780488, 'precision': 0.09336280470427394, 'recall': 0.07757238002471918, 'f1': 0.05247292693124517, 'samples': 2624, 'loss': 0, 'feat. loss': 0, 'classi. loss': 0, 'N': 4}\n",
      "========================================\n",
      "================ Fold-2 ================\n",
      "Unseen Classes : ['playing soccer', 'lying', 'vacuum cleaning', 'computer work']\n",
      "seen classes >  [1, 2, 3, 4, 5, 6, 7, 9, 10, 11, 13, 14, 15, 17]\n",
      "unseen classes >  [16, 0, 12, 8]\n",
      "Initiate IMU datasets ...\n"
     ]
    },
    {
     "name": "stderr",
     "output_type": "stream",
     "text": [
      "train: 100%|██████████| 131/131 [00:04<00:00, 30.60batch/s, loss=886, accuracy=0.0938]\n",
      "seen: 100%|██████████| 14/14 [00:00<00:00, 54.69batch/s, loss=767]\n",
      "Training Epoch:   4%|▍         | 1/25 [00:04<01:49,  4.56s/it]"
     ]
    },
    {
     "name": "stdout",
     "output_type": "stream",
     "text": [
      "Overall accuracy: 0.079\n",
      "\n"
     ]
    },
    {
     "name": "stderr",
     "output_type": "stream",
     "text": [
      "train: 100%|██████████| 131/131 [00:04<00:00, 31.10batch/s, loss=731, accuracy=0.0938]\n",
      "seen: 100%|██████████| 14/14 [00:00<00:00, 51.07batch/s, loss=743]\n",
      "Training Epoch:   8%|▊         | 2/25 [00:09<01:44,  4.53s/it]"
     ]
    },
    {
     "name": "stdout",
     "output_type": "stream",
     "text": [
      "Overall accuracy: 0.090\n",
      "\n"
     ]
    },
    {
     "name": "stderr",
     "output_type": "stream",
     "text": [
      "train: 100%|██████████| 131/131 [00:04<00:00, 31.31batch/s, loss=795, accuracy=0.0938]\n",
      "seen: 100%|██████████| 14/14 [00:00<00:00, 49.62batch/s, loss=783]\n",
      "Training Epoch:  12%|█▏        | 3/25 [00:13<01:39,  4.51s/it]"
     ]
    },
    {
     "name": "stdout",
     "output_type": "stream",
     "text": [
      "Overall accuracy: 0.089\n",
      "\n"
     ]
    },
    {
     "name": "stderr",
     "output_type": "stream",
     "text": [
      "train: 100%|██████████| 131/131 [00:04<00:00, 28.70batch/s, loss=758, accuracy=0.125]\n",
      "seen: 100%|██████████| 14/14 [00:00<00:00, 50.72batch/s, loss=728]\n",
      "Training Epoch:  16%|█▌        | 4/25 [00:18<01:37,  4.65s/it]"
     ]
    },
    {
     "name": "stdout",
     "output_type": "stream",
     "text": [
      "Overall accuracy: 0.094\n",
      "\n"
     ]
    },
    {
     "name": "stderr",
     "output_type": "stream",
     "text": [
      "train: 100%|██████████| 131/131 [00:04<00:00, 29.01batch/s, loss=754, accuracy=0.156]\n",
      "seen: 100%|██████████| 14/14 [00:00<00:00, 50.00batch/s, loss=857]\n",
      "Training Epoch:  20%|██        | 5/25 [00:23<01:34,  4.71s/it]"
     ]
    },
    {
     "name": "stdout",
     "output_type": "stream",
     "text": [
      "Overall accuracy: 0.162\n",
      "\n"
     ]
    },
    {
     "name": "stderr",
     "output_type": "stream",
     "text": [
      "train: 100%|██████████| 131/131 [00:04<00:00, 28.39batch/s, loss=770, accuracy=0.203]\n",
      "seen: 100%|██████████| 14/14 [00:00<00:00, 41.16batch/s, loss=759]\n",
      "Training Epoch:  24%|██▍       | 6/25 [00:28<01:31,  4.80s/it]"
     ]
    },
    {
     "name": "stdout",
     "output_type": "stream",
     "text": [
      "Overall accuracy: 0.215\n",
      "\n"
     ]
    },
    {
     "name": "stderr",
     "output_type": "stream",
     "text": [
      "train: 100%|██████████| 131/131 [00:04<00:00, 27.54batch/s, loss=765, accuracy=0.344]\n",
      "seen: 100%|██████████| 14/14 [00:00<00:00, 48.61batch/s, loss=797]\n",
      "Training Epoch:  28%|██▊       | 7/25 [00:33<01:28,  4.89s/it]"
     ]
    },
    {
     "name": "stdout",
     "output_type": "stream",
     "text": [
      "Overall accuracy: 0.280\n",
      "\n"
     ]
    },
    {
     "name": "stderr",
     "output_type": "stream",
     "text": [
      "train: 100%|██████████| 131/131 [00:04<00:00, 29.27batch/s, loss=774, accuracy=0.266]\n",
      "seen: 100%|██████████| 14/14 [00:00<00:00, 46.05batch/s, loss=689]\n",
      "Training Epoch:  32%|███▏      | 8/25 [00:38<01:22,  4.86s/it]"
     ]
    },
    {
     "name": "stdout",
     "output_type": "stream",
     "text": [
      "Overall accuracy: 0.306\n",
      "\n"
     ]
    },
    {
     "name": "stderr",
     "output_type": "stream",
     "text": [
      "train: 100%|██████████| 131/131 [00:04<00:00, 30.82batch/s, loss=724, accuracy=0.344]\n",
      "seen: 100%|██████████| 14/14 [00:00<00:00, 48.78batch/s, loss=732]\n",
      "Training Epoch:  36%|███▌      | 9/25 [00:42<01:16,  4.77s/it]"
     ]
    },
    {
     "name": "stdout",
     "output_type": "stream",
     "text": [
      "Overall accuracy: 0.308\n",
      "\n"
     ]
    },
    {
     "name": "stderr",
     "output_type": "stream",
     "text": [
      "train: 100%|██████████| 131/131 [00:04<00:00, 29.20batch/s, loss=806, accuracy=0.328]\n",
      "seen: 100%|██████████| 14/14 [00:00<00:00, 40.70batch/s, loss=729]\n",
      "Training Epoch:  40%|████      | 10/25 [00:47<01:11,  4.80s/it]"
     ]
    },
    {
     "name": "stdout",
     "output_type": "stream",
     "text": [
      "Overall accuracy: 0.400\n",
      "\n"
     ]
    },
    {
     "name": "stderr",
     "output_type": "stream",
     "text": [
      "train: 100%|██████████| 131/131 [00:04<00:00, 30.75batch/s, loss=632, accuracy=0.391]\n",
      "seen: 100%|██████████| 14/14 [00:00<00:00, 47.33batch/s, loss=702]\n",
      "Training Epoch:  44%|████▍     | 11/25 [00:52<01:06,  4.73s/it]"
     ]
    },
    {
     "name": "stdout",
     "output_type": "stream",
     "text": [
      "Overall accuracy: 0.407\n",
      "\n"
     ]
    },
    {
     "name": "stderr",
     "output_type": "stream",
     "text": [
      "train: 100%|██████████| 131/131 [00:04<00:00, 29.74batch/s, loss=733, accuracy=0.391]\n",
      "seen: 100%|██████████| 14/14 [00:00<00:00, 47.46batch/s, loss=755]\n",
      "Training Epoch:  48%|████▊     | 12/25 [00:56<01:01,  4.73s/it]"
     ]
    },
    {
     "name": "stdout",
     "output_type": "stream",
     "text": [
      "Overall accuracy: 0.489\n",
      "\n"
     ]
    },
    {
     "name": "stderr",
     "output_type": "stream",
     "text": [
      "train: 100%|██████████| 131/131 [00:04<00:00, 28.30batch/s, loss=720, accuracy=0.453]\n",
      "seen: 100%|██████████| 14/14 [00:00<00:00, 48.61batch/s, loss=752]\n",
      "Training Epoch:  52%|█████▏    | 13/25 [01:01<00:57,  4.79s/it]"
     ]
    },
    {
     "name": "stdout",
     "output_type": "stream",
     "text": [
      "Overall accuracy: 0.545\n",
      "\n"
     ]
    },
    {
     "name": "stderr",
     "output_type": "stream",
     "text": [
      "train: 100%|██████████| 131/131 [00:04<00:00, 30.48batch/s, loss=679, accuracy=0.484]\n",
      "seen: 100%|██████████| 14/14 [00:00<00:00, 47.26batch/s, loss=722]\n",
      "Training Epoch:  56%|█████▌    | 14/25 [01:06<00:52,  4.74s/it]"
     ]
    },
    {
     "name": "stdout",
     "output_type": "stream",
     "text": [
      "Overall accuracy: 0.551\n",
      "\n"
     ]
    },
    {
     "name": "stderr",
     "output_type": "stream",
     "text": [
      "train: 100%|██████████| 131/131 [00:04<00:00, 29.26batch/s, loss=639, accuracy=0.484]\n",
      "seen: 100%|██████████| 14/14 [00:00<00:00, 42.63batch/s, loss=749]\n",
      "Training Epoch:  60%|██████    | 15/25 [01:11<00:47,  4.77s/it]"
     ]
    },
    {
     "name": "stdout",
     "output_type": "stream",
     "text": [
      "Overall accuracy: 0.569\n",
      "\n"
     ]
    },
    {
     "name": "stderr",
     "output_type": "stream",
     "text": [
      "train: 100%|██████████| 131/131 [00:04<00:00, 29.76batch/s, loss=670, accuracy=0.641]\n",
      "seen: 100%|██████████| 14/14 [00:00<00:00, 47.93batch/s, loss=706]\n",
      "Training Epoch:  64%|██████▍   | 16/25 [01:15<00:42,  4.75s/it]"
     ]
    },
    {
     "name": "stdout",
     "output_type": "stream",
     "text": [
      "Overall accuracy: 0.608\n",
      "\n"
     ]
    },
    {
     "name": "stderr",
     "output_type": "stream",
     "text": [
      "train: 100%|██████████| 131/131 [00:04<00:00, 29.78batch/s, loss=779, accuracy=0.625]\n",
      "seen: 100%|██████████| 14/14 [00:00<00:00, 46.18batch/s, loss=674]\n",
      "Training Epoch:  68%|██████▊   | 17/25 [01:20<00:37,  4.75s/it]"
     ]
    },
    {
     "name": "stdout",
     "output_type": "stream",
     "text": [
      "Overall accuracy: 0.663\n",
      "\n"
     ]
    },
    {
     "name": "stderr",
     "output_type": "stream",
     "text": [
      "train: 100%|██████████| 131/131 [00:04<00:00, 29.50batch/s, loss=685, accuracy=0.641]\n",
      "seen: 100%|██████████| 14/14 [00:00<00:00, 37.69batch/s, loss=672]\n",
      "Training Epoch:  72%|███████▏  | 18/25 [01:25<00:33,  4.77s/it]"
     ]
    },
    {
     "name": "stdout",
     "output_type": "stream",
     "text": [
      "Overall accuracy: 0.656\n",
      "\n"
     ]
    },
    {
     "name": "stderr",
     "output_type": "stream",
     "text": [
      "train: 100%|██████████| 131/131 [00:04<00:00, 27.52batch/s, loss=738, accuracy=0.625]\n",
      "seen: 100%|██████████| 14/14 [00:00<00:00, 41.29batch/s, loss=709]\n",
      "Training Epoch:  76%|███████▌  | 19/25 [01:30<00:29,  4.88s/it]"
     ]
    },
    {
     "name": "stdout",
     "output_type": "stream",
     "text": [
      "Overall accuracy: 0.654\n",
      "\n"
     ]
    },
    {
     "name": "stderr",
     "output_type": "stream",
     "text": [
      "train: 100%|██████████| 131/131 [00:04<00:00, 26.88batch/s, loss=728, accuracy=0.656]\n",
      "seen: 100%|██████████| 14/14 [00:00<00:00, 38.02batch/s, loss=701]\n",
      "Training Epoch:  80%|████████  | 20/25 [01:35<00:25,  5.00s/it]"
     ]
    },
    {
     "name": "stdout",
     "output_type": "stream",
     "text": [
      "Overall accuracy: 0.688\n",
      "\n"
     ]
    },
    {
     "name": "stderr",
     "output_type": "stream",
     "text": [
      "train: 100%|██████████| 131/131 [00:04<00:00, 29.71batch/s, loss=704, accuracy=0.688]\n",
      "seen: 100%|██████████| 14/14 [00:00<00:00, 38.40batch/s, loss=714]\n",
      "Training Epoch:  84%|████████▍ | 21/25 [01:40<00:19,  4.94s/it]"
     ]
    },
    {
     "name": "stdout",
     "output_type": "stream",
     "text": [
      "Overall accuracy: 0.734\n",
      "\n"
     ]
    },
    {
     "name": "stderr",
     "output_type": "stream",
     "text": [
      "train: 100%|██████████| 131/131 [00:04<00:00, 30.67batch/s, loss=680, accuracy=0.672]\n",
      "seen: 100%|██████████| 14/14 [00:00<00:00, 45.29batch/s, loss=722]\n",
      "Training Epoch:  88%|████████▊ | 22/25 [01:45<00:14,  4.84s/it]"
     ]
    },
    {
     "name": "stdout",
     "output_type": "stream",
     "text": [
      "Overall accuracy: 0.699\n",
      "\n"
     ]
    },
    {
     "name": "stderr",
     "output_type": "stream",
     "text": [
      "train: 100%|██████████| 131/131 [00:04<00:00, 29.01batch/s, loss=673, accuracy=0.609]\n",
      "seen: 100%|██████████| 14/14 [00:00<00:00, 36.96batch/s, loss=705]\n",
      "Training Epoch:  92%|█████████▏| 23/25 [01:50<00:09,  4.87s/it]"
     ]
    },
    {
     "name": "stdout",
     "output_type": "stream",
     "text": [
      "Overall accuracy: 0.734\n",
      "\n"
     ]
    },
    {
     "name": "stderr",
     "output_type": "stream",
     "text": [
      "train: 100%|██████████| 131/131 [00:04<00:00, 29.44batch/s, loss=656, accuracy=0.547]\n",
      "seen: 100%|██████████| 14/14 [00:00<00:00, 46.61batch/s, loss=655]\n",
      "Training Epoch:  96%|█████████▌| 24/25 [01:55<00:04,  4.84s/it]"
     ]
    },
    {
     "name": "stdout",
     "output_type": "stream",
     "text": [
      "Overall accuracy: 0.689\n",
      "\n"
     ]
    },
    {
     "name": "stderr",
     "output_type": "stream",
     "text": [
      "train: 100%|██████████| 131/131 [00:04<00:00, 28.95batch/s, loss=820, accuracy=0.641]\n",
      "seen: 100%|██████████| 14/14 [00:00<00:00, 33.71batch/s, loss=643]\n",
      "                                                               \r"
     ]
    },
    {
     "name": "stdout",
     "output_type": "stream",
     "text": [
      "Overall accuracy: 0.743\n",
      "\n"
     ]
    },
    {
     "name": "stderr",
     "output_type": "stream",
     "text": [
      "unseen: 100%|██████████| 54/54 [00:01<00:00, 50.41batch/s]\n"
     ]
    },
    {
     "data": {
      "image/png": "[encoded data removed]",
      "text/plain": [
       "<Figure size 640x480 with 4 Axes>"
      ]
     },
     "metadata": {},
     "output_type": "display_data"
    },
    {
     "data": {
      "image/png": "[encoded data removed]",
      "text/plain": [
       "<Figure size 640x480 with 2 Axes>"
      ]
     },
     "metadata": {},
     "output_type": "display_data"
    },
    {
     "name": "stdout",
     "output_type": "stream",
     "text": [
      "Overall accuracy: 0.070\n",
      "\n",
      "                  precision     recall   f1-score rel. freq. abs. freq.|\t biggest thieves\n",
      "\n",
      "  computer work       0.808      0.039      0.075      0.437       1509|\t playing soccer: 0.906,\tvacuum cleaning: 0.047,\t\n",
      "          lying       0.000      0.000      0.000      0.263        908|\t vacuum cleaning: 0.651,\tplaying soccer: 0.347,\tcomputer work: 0.002,\t\n",
      "vacuum cleaning       0.003      0.002      0.003      0.238        822|\t playing soccer: 0.988,\tcomputer work: 0.006,\tlying: 0.004,\t\n",
      " playing soccer       0.068      0.839      0.126      0.063        217|\t vacuum cleaning: 0.115,\tcomputer work: 0.032,\t\n",
      "\n",
      "----------------------------------------------------------------------------------------------------\n",
      "    avg / total       0.358      0.070      0.041        1.0       3456|\t      \n",
      "\n",
      "{'accuracy': 0.0703125, 'precision': 0.21978347346210447, 'recall': 0.22006037708292275, 'f1': 0.05076433206867895, 'samples': 3456, 'loss': 0, 'feat. loss': 0, 'classi. loss': 0, 'N': 4}\n",
      "========================================\n",
      "================ Fold-3 ================\n",
      "Unseen Classes : ['cycling', 'running', 'Nordic walking']\n",
      "seen classes >  [0, 1, 2, 3, 7, 8, 9, 10, 11, 12, 13, 14, 15, 16, 17]\n",
      "unseen classes >  [5, 4, 6]\n",
      "Initiate IMU datasets ...\n"
     ]
    },
    {
     "name": "stderr",
     "output_type": "stream",
     "text": [
      "train: 100%|██████████| 150/150 [00:04<00:00, 30.41batch/s, loss=744, accuracy=0.0625]\n",
      "seen: 100%|██████████| 16/16 [00:00<00:00, 42.68batch/s, loss=699]\n",
      "Training Epoch:   4%|▍         | 1/25 [00:05<02:08,  5.34s/it]"
     ]
    },
    {
     "name": "stdout",
     "output_type": "stream",
     "text": [
      "Overall accuracy: 0.104\n",
      "\n"
     ]
    },
    {
     "name": "stderr",
     "output_type": "stream",
     "text": [
      "train: 100%|██████████| 150/150 [00:04<00:00, 30.70batch/s, loss=648, accuracy=0.125]\n",
      "seen: 100%|██████████| 16/16 [00:00<00:00, 41.78batch/s, loss=784]\n",
      "Training Epoch:   8%|▊         | 2/25 [00:10<02:02,  5.31s/it]"
     ]
    },
    {
     "name": "stdout",
     "output_type": "stream",
     "text": [
      "Overall accuracy: 0.105\n",
      "\n"
     ]
    },
    {
     "name": "stderr",
     "output_type": "stream",
     "text": [
      "train: 100%|██████████| 150/150 [00:05<00:00, 28.82batch/s, loss=675, accuracy=0.0469]\n",
      "seen: 100%|██████████| 16/16 [00:00<00:00, 47.63batch/s, loss=670]\n",
      "Training Epoch:  12%|█▏        | 3/25 [00:16<01:59,  5.43s/it]"
     ]
    },
    {
     "name": "stdout",
     "output_type": "stream",
     "text": [
      "Overall accuracy: 0.104\n",
      "\n"
     ]
    },
    {
     "name": "stderr",
     "output_type": "stream",
     "text": [
      "train: 100%|██████████| 150/150 [00:04<00:00, 31.64batch/s, loss=752, accuracy=0.219]\n",
      "seen: 100%|██████████| 16/16 [00:00<00:00, 47.10batch/s, loss=664]\n",
      "Training Epoch:  16%|█▌        | 4/25 [00:21<01:51,  5.30s/it]"
     ]
    },
    {
     "name": "stdout",
     "output_type": "stream",
     "text": [
      "Overall accuracy: 0.168\n",
      "\n"
     ]
    },
    {
     "name": "stderr",
     "output_type": "stream",
     "text": [
      "train: 100%|██████████| 150/150 [00:04<00:00, 31.15batch/s, loss=715, accuracy=0.312]\n",
      "seen: 100%|██████████| 16/16 [00:00<00:00, 45.68batch/s, loss=647]\n",
      "Training Epoch:  20%|██        | 5/25 [00:26<01:45,  5.26s/it]"
     ]
    },
    {
     "name": "stdout",
     "output_type": "stream",
     "text": [
      "Overall accuracy: 0.302\n",
      "\n"
     ]
    },
    {
     "name": "stderr",
     "output_type": "stream",
     "text": [
      "train: 100%|██████████| 150/150 [00:05<00:00, 28.84batch/s, loss=688, accuracy=0.297]\n",
      "seen: 100%|██████████| 16/16 [00:00<00:00, 44.17batch/s, loss=677]\n",
      "Training Epoch:  24%|██▍       | 6/25 [00:32<01:42,  5.37s/it]"
     ]
    },
    {
     "name": "stdout",
     "output_type": "stream",
     "text": [
      "Overall accuracy: 0.419\n",
      "\n"
     ]
    },
    {
     "name": "stderr",
     "output_type": "stream",
     "text": [
      "train: 100%|██████████| 150/150 [00:05<00:00, 28.12batch/s, loss=701, accuracy=0.438]\n",
      "seen: 100%|██████████| 16/16 [00:00<00:00, 47.75batch/s, loss=696]\n",
      "Training Epoch:  28%|██▊       | 7/25 [00:37<01:38,  5.48s/it]"
     ]
    },
    {
     "name": "stdout",
     "output_type": "stream",
     "text": [
      "Overall accuracy: 0.457\n",
      "\n"
     ]
    },
    {
     "name": "stderr",
     "output_type": "stream",
     "text": [
      "train: 100%|██████████| 150/150 [00:04<00:00, 30.05batch/s, loss=643, accuracy=0.516]\n",
      "seen: 100%|██████████| 16/16 [00:00<00:00, 46.57batch/s, loss=632]\n",
      "Training Epoch:  32%|███▏      | 8/25 [00:43<01:32,  5.44s/it]"
     ]
    },
    {
     "name": "stdout",
     "output_type": "stream",
     "text": [
      "Overall accuracy: 0.454\n",
      "\n"
     ]
    },
    {
     "name": "stderr",
     "output_type": "stream",
     "text": [
      "train: 100%|██████████| 150/150 [00:04<00:00, 30.49batch/s, loss=662, accuracy=0.391]\n",
      "seen: 100%|██████████| 16/16 [00:00<00:00, 47.90batch/s, loss=673]\n",
      "Training Epoch:  36%|███▌      | 9/25 [00:48<01:26,  5.39s/it]"
     ]
    },
    {
     "name": "stdout",
     "output_type": "stream",
     "text": [
      "Overall accuracy: 0.501\n",
      "\n"
     ]
    },
    {
     "name": "stderr",
     "output_type": "stream",
     "text": [
      "train: 100%|██████████| 150/150 [00:04<00:00, 30.04batch/s, loss=689, accuracy=0.469]\n",
      "seen: 100%|██████████| 16/16 [00:00<00:00, 50.16batch/s, loss=595]\n",
      "Training Epoch:  40%|████      | 10/25 [00:53<01:20,  5.37s/it]"
     ]
    },
    {
     "name": "stdout",
     "output_type": "stream",
     "text": [
      "Overall accuracy: 0.523\n",
      "\n"
     ]
    },
    {
     "name": "stderr",
     "output_type": "stream",
     "text": [
      "train: 100%|██████████| 150/150 [00:05<00:00, 28.14batch/s, loss=648, accuracy=0.562]\n",
      "seen: 100%|██████████| 16/16 [00:00<00:00, 41.01batch/s, loss=744]\n",
      "Training Epoch:  44%|████▍     | 11/25 [00:59<01:16,  5.49s/it]"
     ]
    },
    {
     "name": "stdout",
     "output_type": "stream",
     "text": [
      "Overall accuracy: 0.531\n",
      "\n"
     ]
    },
    {
     "name": "stderr",
     "output_type": "stream",
     "text": [
      "train: 100%|██████████| 150/150 [00:04<00:00, 30.99batch/s, loss=689, accuracy=0.547]\n",
      "seen: 100%|██████████| 16/16 [00:00<00:00, 46.38batch/s, loss=596]\n",
      "Training Epoch:  48%|████▊     | 12/25 [01:04<01:10,  5.41s/it]"
     ]
    },
    {
     "name": "stdout",
     "output_type": "stream",
     "text": [
      "Overall accuracy: 0.569\n",
      "\n"
     ]
    },
    {
     "name": "stderr",
     "output_type": "stream",
     "text": [
      "train: 100%|██████████| 150/150 [00:04<00:00, 30.21batch/s, loss=700, accuracy=0.531]\n",
      "seen: 100%|██████████| 16/16 [00:00<00:00, 47.32batch/s, loss=631]\n",
      "Training Epoch:  52%|█████▏    | 13/25 [01:10<01:04,  5.38s/it]"
     ]
    },
    {
     "name": "stdout",
     "output_type": "stream",
     "text": [
      "Overall accuracy: 0.582\n",
      "\n"
     ]
    },
    {
     "name": "stderr",
     "output_type": "stream",
     "text": [
      "train: 100%|██████████| 150/150 [00:04<00:00, 30.59batch/s, loss=700, accuracy=0.641]\n",
      "seen: 100%|██████████| 16/16 [00:00<00:00, 49.38batch/s, loss=660]\n",
      "Training Epoch:  56%|█████▌    | 14/25 [01:15<00:58,  5.34s/it]"
     ]
    },
    {
     "name": "stdout",
     "output_type": "stream",
     "text": [
      "Overall accuracy: 0.597\n",
      "\n"
     ]
    },
    {
     "name": "stderr",
     "output_type": "stream",
     "text": [
      "train: 100%|██████████| 150/150 [00:04<00:00, 30.64batch/s, loss=677, accuracy=0.656]\n",
      "seen: 100%|██████████| 16/16 [00:00<00:00, 43.15batch/s, loss=692]\n",
      "Training Epoch:  60%|██████    | 15/25 [01:20<00:53,  5.33s/it]"
     ]
    },
    {
     "name": "stdout",
     "output_type": "stream",
     "text": [
      "Overall accuracy: 0.630\n",
      "\n"
     ]
    },
    {
     "name": "stderr",
     "output_type": "stream",
     "text": [
      "train: 100%|██████████| 150/150 [00:04<00:00, 31.54batch/s, loss=642, accuracy=0.672]\n",
      "seen: 100%|██████████| 16/16 [00:00<00:00, 46.93batch/s, loss=591]\n",
      "Training Epoch:  64%|██████▍   | 16/25 [01:25<00:47,  5.27s/it]"
     ]
    },
    {
     "name": "stdout",
     "output_type": "stream",
     "text": [
      "Overall accuracy: 0.661\n",
      "\n"
     ]
    },
    {
     "name": "stderr",
     "output_type": "stream",
     "text": [
      "train: 100%|██████████| 150/150 [00:04<00:00, 30.56batch/s, loss=611, accuracy=0.703]\n",
      "seen: 100%|██████████| 16/16 [00:00<00:00, 47.85batch/s, loss=632]\n",
      "Training Epoch:  68%|██████▊   | 17/25 [01:31<00:42,  5.27s/it]"
     ]
    },
    {
     "name": "stdout",
     "output_type": "stream",
     "text": [
      "Overall accuracy: 0.666\n",
      "\n"
     ]
    },
    {
     "name": "stderr",
     "output_type": "stream",
     "text": [
      "train: 100%|██████████| 150/150 [00:04<00:00, 30.35batch/s, loss=690, accuracy=0.547]\n",
      "seen: 100%|██████████| 16/16 [00:00<00:00, 45.20batch/s, loss=684]\n",
      "Training Epoch:  72%|███████▏  | 18/25 [01:36<00:37,  5.29s/it]"
     ]
    },
    {
     "name": "stdout",
     "output_type": "stream",
     "text": [
      "Overall accuracy: 0.683\n",
      "\n"
     ]
    },
    {
     "name": "stderr",
     "output_type": "stream",
     "text": [
      "train: 100%|██████████| 150/150 [00:05<00:00, 29.13batch/s, loss=662, accuracy=0.688]\n",
      "seen: 100%|██████████| 16/16 [00:00<00:00, 41.17batch/s, loss=582]\n",
      "Training Epoch:  76%|███████▌  | 19/25 [01:41<00:32,  5.37s/it]"
     ]
    },
    {
     "name": "stdout",
     "output_type": "stream",
     "text": [
      "Overall accuracy: 0.714\n",
      "\n"
     ]
    },
    {
     "name": "stderr",
     "output_type": "stream",
     "text": [
      "train: 100%|██████████| 150/150 [00:04<00:00, 30.63batch/s, loss=744, accuracy=0.766]\n",
      "seen: 100%|██████████| 16/16 [00:00<00:00, 47.89batch/s, loss=668]\n",
      "Training Epoch:  80%|████████  | 20/25 [01:47<00:26,  5.34s/it]"
     ]
    },
    {
     "name": "stdout",
     "output_type": "stream",
     "text": [
      "Overall accuracy: 0.752\n",
      "\n"
     ]
    },
    {
     "name": "stderr",
     "output_type": "stream",
     "text": [
      "train: 100%|██████████| 150/150 [00:05<00:00, 28.82batch/s, loss=632, accuracy=0.609]\n",
      "seen: 100%|██████████| 16/16 [00:00<00:00, 36.11batch/s, loss=670]\n",
      "Training Epoch:  84%|████████▍ | 21/25 [01:52<00:21,  5.44s/it]"
     ]
    },
    {
     "name": "stdout",
     "output_type": "stream",
     "text": [
      "Overall accuracy: 0.711\n",
      "\n"
     ]
    },
    {
     "name": "stderr",
     "output_type": "stream",
     "text": [
      "train: 100%|██████████| 150/150 [00:05<00:00, 26.12batch/s, loss=701, accuracy=0.625]\n",
      "seen: 100%|██████████| 16/16 [00:00<00:00, 42.31batch/s, loss=578]\n",
      "Training Epoch:  88%|████████▊ | 22/25 [01:58<00:16,  5.65s/it]"
     ]
    },
    {
     "name": "stdout",
     "output_type": "stream",
     "text": [
      "Overall accuracy: 0.771\n",
      "\n"
     ]
    },
    {
     "name": "stderr",
     "output_type": "stream",
     "text": [
      "train: 100%|██████████| 150/150 [00:04<00:00, 30.29batch/s, loss=642, accuracy=0.656]\n",
      "seen: 100%|██████████| 16/16 [00:00<00:00, 37.55batch/s, loss=633]\n",
      "Training Epoch:  92%|█████████▏| 23/25 [02:04<00:11,  5.59s/it]"
     ]
    },
    {
     "name": "stdout",
     "output_type": "stream",
     "text": [
      "Overall accuracy: 0.737\n",
      "\n"
     ]
    },
    {
     "name": "stderr",
     "output_type": "stream",
     "text": [
      "train: 100%|██████████| 150/150 [00:05<00:00, 28.47batch/s, loss=651, accuracy=0.719]\n",
      "seen: 100%|██████████| 16/16 [00:00<00:00, 45.95batch/s, loss=650]\n",
      "Training Epoch:  96%|█████████▌| 24/25 [02:10<00:05,  5.61s/it]"
     ]
    },
    {
     "name": "stdout",
     "output_type": "stream",
     "text": [
      "Overall accuracy: 0.777\n",
      "\n"
     ]
    },
    {
     "name": "stderr",
     "output_type": "stream",
     "text": [
      "train: 100%|██████████| 150/150 [00:05<00:00, 28.38batch/s, loss=646, accuracy=0.797]\n",
      "seen: 100%|██████████| 16/16 [00:00<00:00, 44.57batch/s, loss=619]\n",
      "                                                               \r"
     ]
    },
    {
     "name": "stdout",
     "output_type": "stream",
     "text": [
      "Overall accuracy: 0.794\n",
      "\n"
     ]
    },
    {
     "name": "stderr",
     "output_type": "stream",
     "text": [
      "unseen: 100%|██████████| 33/33 [00:00<00:00, 50.83batch/s]\n"
     ]
    },
    {
     "data": {
      "image/png": "[encoded data removed]",
      "text/plain": [
       "<Figure size 640x480 with 4 Axes>"
      ]
     },
     "metadata": {},
     "output_type": "display_data"
    },
    {
     "data": {
      "image/png": "[encoded data removed]",
      "text/plain": [
       "<Figure size 640x480 with 2 Axes>"
      ]
     },
     "metadata": {},
     "output_type": "display_data"
    },
    {
     "name": "stdout",
     "output_type": "stream",
     "text": [
      "Overall accuracy: 0.214\n",
      "\n",
      "                 precision     recall   f1-score rel. freq. abs. freq.|\t biggest thieves\n",
      "\n",
      "Nordic walking       0.000      0.000      0.000      0.420        887|\t running: 1.000,\tcycling: 0.000,\t\n",
      "       cycling       1.000      0.001      0.003      0.366        773|\t running: 0.999,\tNordic walking: 0.000,\t\n",
      "       running       0.214      1.000      0.353      0.214        452|\t Nordic walking: 0.000,\tcycling: 0.000,\t\n",
      "\n",
      "----------------------------------------------------------------------------------------------------\n",
      "   avg / total       0.412      0.214      0.076        1.0       2112|\t      \n",
      "\n",
      "{'accuracy': 0.21448863636363635, 'precision': 0.4047055108163588, 'recall': 0.33376455368693403, 'f1': 0.11843188178151748, 'samples': 2112, 'loss': 0, 'feat. loss': 0, 'classi. loss': 0, 'N': 3}\n",
      "========================================\n",
      "================ Fold-4 ================\n",
      "Unseen Classes : ['ironing', 'car driving', 'folding laundry']\n",
      "seen classes >  [0, 1, 2, 3, 4, 5, 6, 7, 8, 10, 11, 12, 15, 16, 17]\n",
      "unseen classes >  [13, 9, 14]\n",
      "Initiate IMU datasets ...\n"
     ]
    },
    {
     "name": "stderr",
     "output_type": "stream",
     "text": [
      "train: 100%|██████████| 153/153 [00:05<00:00, 27.59batch/s, loss=761, accuracy=0.0781]\n",
      "seen: 100%|██████████| 17/17 [00:00<00:00, 52.15batch/s, loss=703]\n",
      "Training Epoch:   4%|▍         | 1/25 [00:05<02:21,  5.89s/it]"
     ]
    },
    {
     "name": "stdout",
     "output_type": "stream",
     "text": [
      "Overall accuracy: 0.078\n",
      "\n"
     ]
    },
    {
     "name": "stderr",
     "output_type": "stream",
     "text": [
      "train: 100%|██████████| 153/153 [00:05<00:00, 28.59batch/s, loss=801, accuracy=0.0625]\n",
      "seen: 100%|██████████| 17/17 [00:00<00:00, 47.78batch/s, loss=798]\n",
      "Training Epoch:   8%|▊         | 2/25 [00:11<02:13,  5.80s/it]"
     ]
    },
    {
     "name": "stdout",
     "output_type": "stream",
     "text": [
      "Overall accuracy: 0.079\n",
      "\n"
     ]
    },
    {
     "name": "stderr",
     "output_type": "stream",
     "text": [
      "train: 100%|██████████| 153/153 [00:05<00:00, 28.63batch/s, loss=779, accuracy=0.141]\n",
      "seen: 100%|██████████| 17/17 [00:00<00:00, 33.66batch/s, loss=752]\n",
      "Training Epoch:  12%|█▏        | 3/25 [00:17<02:08,  5.84s/it]"
     ]
    },
    {
     "name": "stdout",
     "output_type": "stream",
     "text": [
      "Overall accuracy: 0.079\n",
      "\n"
     ]
    },
    {
     "name": "stderr",
     "output_type": "stream",
     "text": [
      "train: 100%|██████████| 153/153 [00:05<00:00, 29.06batch/s, loss=772, accuracy=0.141]\n",
      "seen: 100%|██████████| 17/17 [00:00<00:00, 43.19batch/s, loss=762]\n",
      "Training Epoch:  16%|█▌        | 4/25 [00:23<02:01,  5.78s/it]"
     ]
    },
    {
     "name": "stdout",
     "output_type": "stream",
     "text": [
      "Overall accuracy: 0.115\n",
      "\n"
     ]
    },
    {
     "name": "stderr",
     "output_type": "stream",
     "text": [
      "train: 100%|██████████| 153/153 [00:05<00:00, 27.00batch/s, loss=787, accuracy=0.109]\n",
      "seen: 100%|██████████| 17/17 [00:00<00:00, 36.05batch/s, loss=775]\n",
      "Training Epoch:  20%|██        | 5/25 [00:29<01:58,  5.92s/it]"
     ]
    },
    {
     "name": "stdout",
     "output_type": "stream",
     "text": [
      "Overall accuracy: 0.152\n",
      "\n"
     ]
    },
    {
     "name": "stderr",
     "output_type": "stream",
     "text": [
      "train: 100%|██████████| 153/153 [00:05<00:00, 26.82batch/s, loss=749, accuracy=0.156]\n",
      "seen: 100%|██████████| 17/17 [00:00<00:00, 42.93batch/s, loss=695]\n",
      "Training Epoch:  24%|██▍       | 6/25 [00:35<01:53,  6.00s/it]"
     ]
    },
    {
     "name": "stdout",
     "output_type": "stream",
     "text": [
      "Overall accuracy: 0.188\n",
      "\n"
     ]
    },
    {
     "name": "stderr",
     "output_type": "stream",
     "text": [
      "train: 100%|██████████| 153/153 [00:05<00:00, 28.32batch/s, loss=743, accuracy=0.219]\n",
      "seen: 100%|██████████| 17/17 [00:00<00:00, 40.52batch/s, loss=823]\n",
      "Training Epoch:  28%|██▊       | 7/25 [00:41<01:47,  5.95s/it]"
     ]
    },
    {
     "name": "stdout",
     "output_type": "stream",
     "text": [
      "Overall accuracy: 0.315\n",
      "\n"
     ]
    },
    {
     "name": "stderr",
     "output_type": "stream",
     "text": [
      "train: 100%|██████████| 153/153 [00:05<00:00, 28.33batch/s, loss=739, accuracy=0.391]\n",
      "seen: 100%|██████████| 17/17 [00:00<00:00, 40.71batch/s, loss=804]\n",
      "Training Epoch:  32%|███▏      | 8/25 [00:47<01:40,  5.92s/it]"
     ]
    },
    {
     "name": "stdout",
     "output_type": "stream",
     "text": [
      "Overall accuracy: 0.404\n",
      "\n"
     ]
    },
    {
     "name": "stderr",
     "output_type": "stream",
     "text": [
      "train: 100%|██████████| 153/153 [00:05<00:00, 28.37batch/s, loss=711, accuracy=0.531]\n",
      "seen: 100%|██████████| 17/17 [00:00<00:00, 45.63batch/s, loss=668]\n",
      "Training Epoch:  36%|███▌      | 9/25 [00:53<01:34,  5.88s/it]"
     ]
    },
    {
     "name": "stdout",
     "output_type": "stream",
     "text": [
      "Overall accuracy: 0.514\n",
      "\n"
     ]
    },
    {
     "name": "stderr",
     "output_type": "stream",
     "text": [
      "train: 100%|██████████| 153/153 [00:05<00:00, 26.83batch/s, loss=706, accuracy=0.578]\n",
      "seen: 100%|██████████| 17/17 [00:00<00:00, 45.46batch/s, loss=695]\n",
      "Training Epoch:  40%|████      | 10/25 [00:59<01:29,  5.95s/it]"
     ]
    },
    {
     "name": "stdout",
     "output_type": "stream",
     "text": [
      "Overall accuracy: 0.558\n",
      "\n"
     ]
    },
    {
     "name": "stderr",
     "output_type": "stream",
     "text": [
      "train: 100%|██████████| 153/153 [00:05<00:00, 28.15batch/s, loss=693, accuracy=0.703]\n",
      "seen: 100%|██████████| 17/17 [00:00<00:00, 46.83batch/s, loss=660]\n",
      "Training Epoch:  44%|████▍     | 11/25 [01:04<01:22,  5.91s/it]"
     ]
    },
    {
     "name": "stdout",
     "output_type": "stream",
     "text": [
      "Overall accuracy: 0.608\n",
      "\n"
     ]
    },
    {
     "name": "stderr",
     "output_type": "stream",
     "text": [
      "train: 100%|██████████| 153/153 [00:05<00:00, 29.17batch/s, loss=696, accuracy=0.594]\n",
      "seen: 100%|██████████| 17/17 [00:00<00:00, 46.64batch/s, loss=743]\n",
      "Training Epoch:  48%|████▊     | 12/25 [01:10<01:15,  5.83s/it]"
     ]
    },
    {
     "name": "stdout",
     "output_type": "stream",
     "text": [
      "Overall accuracy: 0.642\n",
      "\n"
     ]
    },
    {
     "name": "stderr",
     "output_type": "stream",
     "text": [
      "train: 100%|██████████| 153/153 [00:04<00:00, 31.14batch/s, loss=742, accuracy=0.594]\n",
      "seen: 100%|██████████| 17/17 [00:00<00:00, 48.70batch/s, loss=624]\n",
      "Training Epoch:  52%|█████▏    | 13/25 [01:15<01:07,  5.67s/it]"
     ]
    },
    {
     "name": "stdout",
     "output_type": "stream",
     "text": [
      "Overall accuracy: 0.647\n",
      "\n"
     ]
    },
    {
     "name": "stderr",
     "output_type": "stream",
     "text": [
      "train: 100%|██████████| 153/153 [00:05<00:00, 30.33batch/s, loss=669, accuracy=0.75]\n",
      "seen: 100%|██████████| 17/17 [00:00<00:00, 45.82batch/s, loss=732]\n",
      "Training Epoch:  56%|█████▌    | 14/25 [01:21<01:01,  5.60s/it]"
     ]
    },
    {
     "name": "stdout",
     "output_type": "stream",
     "text": [
      "Overall accuracy: 0.665\n",
      "\n"
     ]
    },
    {
     "name": "stderr",
     "output_type": "stream",
     "text": [
      "train: 100%|██████████| 153/153 [00:05<00:00, 29.32batch/s, loss=721, accuracy=0.766]\n",
      "seen: 100%|██████████| 17/17 [00:00<00:00, 48.99batch/s, loss=792]\n",
      "Training Epoch:  60%|██████    | 15/25 [01:26<00:55,  5.60s/it]"
     ]
    },
    {
     "name": "stdout",
     "output_type": "stream",
     "text": [
      "Overall accuracy: 0.655\n",
      "\n"
     ]
    },
    {
     "name": "stderr",
     "output_type": "stream",
     "text": [
      "train: 100%|██████████| 153/153 [00:05<00:00, 29.42batch/s, loss=748, accuracy=0.688]\n",
      "seen: 100%|██████████| 17/17 [00:00<00:00, 41.67batch/s, loss=691]\n",
      "Training Epoch:  64%|██████▍   | 16/25 [01:32<00:50,  5.61s/it]"
     ]
    },
    {
     "name": "stdout",
     "output_type": "stream",
     "text": [
      "Overall accuracy: 0.681\n",
      "\n"
     ]
    },
    {
     "name": "stderr",
     "output_type": "stream",
     "text": [
      "train: 100%|██████████| 153/153 [00:05<00:00, 28.92batch/s, loss=685, accuracy=0.703]\n",
      "seen: 100%|██████████| 17/17 [00:00<00:00, 48.02batch/s, loss=732]\n",
      "Training Epoch:  68%|██████▊   | 17/25 [01:38<00:45,  5.63s/it]"
     ]
    },
    {
     "name": "stdout",
     "output_type": "stream",
     "text": [
      "Overall accuracy: 0.676\n",
      "\n"
     ]
    },
    {
     "name": "stderr",
     "output_type": "stream",
     "text": [
      "train: 100%|██████████| 153/153 [00:05<00:00, 30.05batch/s, loss=668, accuracy=0.766]\n",
      "seen: 100%|██████████| 17/17 [00:00<00:00, 47.86batch/s, loss=756]\n",
      "Training Epoch:  72%|███████▏  | 18/25 [01:43<00:39,  5.58s/it]"
     ]
    },
    {
     "name": "stdout",
     "output_type": "stream",
     "text": [
      "Overall accuracy: 0.678\n",
      "\n"
     ]
    },
    {
     "name": "stderr",
     "output_type": "stream",
     "text": [
      "train: 100%|██████████| 153/153 [00:05<00:00, 29.99batch/s, loss=699, accuracy=0.688]\n",
      "seen: 100%|██████████| 17/17 [00:00<00:00, 40.28batch/s, loss=697]\n",
      "Training Epoch:  76%|███████▌  | 19/25 [01:49<00:33,  5.57s/it]"
     ]
    },
    {
     "name": "stdout",
     "output_type": "stream",
     "text": [
      "Overall accuracy: 0.691\n",
      "\n"
     ]
    },
    {
     "name": "stderr",
     "output_type": "stream",
     "text": [
      "train: 100%|██████████| 153/153 [00:05<00:00, 29.67batch/s, loss=657, accuracy=0.609]\n",
      "seen: 100%|██████████| 17/17 [00:00<00:00, 48.43batch/s, loss=712]\n",
      "Training Epoch:  80%|████████  | 20/25 [01:54<00:27,  5.56s/it]"
     ]
    },
    {
     "name": "stdout",
     "output_type": "stream",
     "text": [
      "Overall accuracy: 0.686\n",
      "\n"
     ]
    },
    {
     "name": "stderr",
     "output_type": "stream",
     "text": [
      "train: 100%|██████████| 153/153 [00:04<00:00, 31.10batch/s, loss=706, accuracy=0.812]\n",
      "seen: 100%|██████████| 17/17 [00:00<00:00, 47.89batch/s, loss=710]\n",
      "Training Epoch:  84%|████████▍ | 21/25 [02:00<00:21,  5.48s/it]"
     ]
    },
    {
     "name": "stdout",
     "output_type": "stream",
     "text": [
      "Overall accuracy: 0.722\n",
      "\n"
     ]
    },
    {
     "name": "stderr",
     "output_type": "stream",
     "text": [
      "train: 100%|██████████| 153/153 [00:05<00:00, 25.50batch/s, loss=708, accuracy=0.797]\n",
      "seen: 100%|██████████| 17/17 [00:00<00:00, 31.06batch/s, loss=701]\n",
      "Training Epoch:  88%|████████▊ | 22/25 [02:06<00:17,  5.81s/it]"
     ]
    },
    {
     "name": "stdout",
     "output_type": "stream",
     "text": [
      "Overall accuracy: 0.718\n",
      "\n"
     ]
    },
    {
     "name": "stderr",
     "output_type": "stream",
     "text": [
      "train: 100%|██████████| 153/153 [00:05<00:00, 27.20batch/s, loss=630, accuracy=0.734]\n",
      "seen: 100%|██████████| 17/17 [00:00<00:00, 43.20batch/s, loss=704]\n",
      "Training Epoch:  92%|█████████▏| 23/25 [02:12<00:11,  5.89s/it]"
     ]
    },
    {
     "name": "stdout",
     "output_type": "stream",
     "text": [
      "Overall accuracy: 0.719\n",
      "\n"
     ]
    },
    {
     "name": "stderr",
     "output_type": "stream",
     "text": [
      "train: 100%|██████████| 153/153 [00:05<00:00, 28.57batch/s, loss=701, accuracy=0.703]\n",
      "seen: 100%|██████████| 17/17 [00:00<00:00, 43.81batch/s, loss=699]\n",
      "Training Epoch:  96%|█████████▌| 24/25 [02:18<00:05,  5.85s/it]"
     ]
    },
    {
     "name": "stdout",
     "output_type": "stream",
     "text": [
      "Overall accuracy: 0.744\n",
      "\n"
     ]
    },
    {
     "name": "stderr",
     "output_type": "stream",
     "text": [
      "train: 100%|██████████| 153/153 [00:05<00:00, 27.83batch/s, loss=730, accuracy=0.797]\n",
      "seen: 100%|██████████| 17/17 [00:00<00:00, 44.16batch/s, loss=686]\n",
      "                                                               \r"
     ]
    },
    {
     "name": "stdout",
     "output_type": "stream",
     "text": [
      "Overall accuracy: 0.746\n",
      "\n"
     ]
    },
    {
     "name": "stderr",
     "output_type": "stream",
     "text": [
      "unseen: 100%|██████████| 29/29 [00:00<00:00, 59.58batch/s]\n"
     ]
    },
    {
     "data": {
      "image/png": "[encoded data removed]",
      "text/plain": [
       "<Figure size 640x480 with 4 Axes>"
      ]
     },
     "metadata": {},
     "output_type": "display_data"
    },
    {
     "data": {
      "image/png": "[encoded data removed]",
      "text/plain": [
       "<Figure size 640x480 with 2 Axes>"
      ]
     },
     "metadata": {},
     "output_type": "display_data"
    },
    {
     "name": "stdout",
     "output_type": "stream",
     "text": [
      "Overall accuracy: 0.252\n",
      "\n",
      "                  precision     recall   f1-score rel. freq. abs. freq.|\t biggest thieves\n",
      "\n",
      "        ironing       0.000      0.000      0.000      0.608       1128|\t folding laundry: 1.000,\tcar driving: 0.000,\t\n",
      "folding laundry       0.251      0.991      0.400      0.252        467|\t car driving: 0.009,\tironing: 0.000,\t\n",
      "    car driving       0.500      0.015      0.030      0.141        261|\t folding laundry: 0.985,\tironing: 0.000,\t\n",
      "\n",
      "----------------------------------------------------------------------------------------------------\n",
      "    avg / total       0.133      0.252      0.105        1.0       1856|\t      \n",
      "\n",
      "{'accuracy': 0.2516163793103448, 'precision': 0.2501803751803752, 'recall': 0.3355867866685263, 'f1': 0.1432465923172243, 'samples': 1856, 'loss': 0, 'feat. loss': 0, 'classi. loss': 0, 'N': 3}\n",
      "========================================\n",
      "============== Overall Unseen Classes Performance ==============\n",
      "accuracy     0.170872\n",
      "precision    0.207122\n",
      "recall       0.227220\n",
      "f1           0.092510\n",
      "dtype: float64\n"
     ]
    },
    {
     "ename": "NameError",
     "evalue": "name 'run' is not defined",
     "output_type": "error",
     "traceback": [
      "\u001b[1;31m---------------------------------------------------------------------------\u001b[0m",
      "\u001b[1;31mNameError\u001b[0m                                 Traceback (most recent call last)",
      "Cell \u001b[1;32mIn[50], line 89\u001b[0m\n\u001b[0;32m     87\u001b[0m final_results \u001b[39m=\u001b[39m weighted_score_df\u001b[39m.\u001b[39msum()\u001b[39m/\u001b[39mseen_score_df[\u001b[39m'\u001b[39m\u001b[39mN\u001b[39m\u001b[39m'\u001b[39m]\u001b[39m.\u001b[39msum()\n\u001b[0;32m     88\u001b[0m \u001b[39mprint\u001b[39m(final_results)\n\u001b[1;32m---> 89\u001b[0m log(\u001b[39m'\u001b[39;49m\u001b[39mglobal\u001b[39;49m\u001b[39m'\u001b[39;49m, \u001b[39m'\u001b[39;49m\u001b[39m'\u001b[39;49m,final_results\u001b[39m.\u001b[39;49mto_dict())\n\u001b[0;32m     90\u001b[0m \u001b[39m# run.stop()\u001b[39;00m\n",
      "Cell \u001b[1;32mIn[35], line 4\u001b[0m, in \u001b[0;36mlog\u001b[1;34m(fold, phase, metrics)\u001b[0m\n\u001b[0;32m      2\u001b[0m \u001b[39mfor\u001b[39;00m m, v \u001b[39min\u001b[39;00m metrics\u001b[39m.\u001b[39mitems():\n\u001b[0;32m      3\u001b[0m     \u001b[39mif\u001b[39;00m fold \u001b[39m==\u001b[39m \u001b[39m'\u001b[39m\u001b[39mglobal\u001b[39m\u001b[39m'\u001b[39m:\n\u001b[1;32m----> 4\u001b[0m         run[\u001b[39mf\u001b[39m\u001b[39m'\u001b[39m\u001b[39mglobal/\u001b[39m\u001b[39m{\u001b[39;00mm\u001b[39m}\u001b[39;00m\u001b[39m'\u001b[39m]\u001b[39m.\u001b[39mlog(v)\n\u001b[0;32m      5\u001b[0m     \u001b[39melse\u001b[39;00m:\n\u001b[0;32m      6\u001b[0m         run[\u001b[39mf\u001b[39m\u001b[39m\"\u001b[39m\u001b[39mFold-\u001b[39m\u001b[39m{\u001b[39;00mfold\u001b[39m}\u001b[39;00m\u001b[39m/\u001b[39m\u001b[39m{\u001b[39;00mphase\u001b[39m}\u001b[39;00m\u001b[39m/\u001b[39m\u001b[39m{\u001b[39;00mm\u001b[39m}\u001b[39;00m\u001b[39m\"\u001b[39m]\u001b[39m.\u001b[39mlog(v)\n",
      "\u001b[1;31mNameError\u001b[0m: name 'run' is not defined"
     ]
    }
   ],
   "source": [
    "# run['parameters'] = config\n",
    "fold_metric_scores = []\n",
    "\n",
    "for i, cs in enumerate(fold_cls_ids):\n",
    "    print(\"=\"*16, f'Fold-{i}', \"=\"*16)\n",
    "    print(f'Unseen Classes : {fold_classes[i]}')\n",
    "\n",
    "    data_dict = dataReader.generate(unseen_classes=cs, seen_ratio=config['seen_split'], unseen_ratio=config['unseen_split'], window_size=12, window_overlap=10, resample_freq=50)\n",
    "    all_classes = dataReader.idToLabel\n",
    "    seen_classes = data_dict['seen_classes']\n",
    "    unseen_classes = data_dict['unseen_classes']\n",
    "    print(\"seen classes > \", seen_classes)\n",
    "    print(\"unseen classes > \", unseen_classes)\n",
    "    train_n, seq_len, in_ft = data_dict['train']['X'].shape\n",
    "\n",
    "    print(\"Initiate IMU datasets ...\")\n",
    "    # build IMU datasets\n",
    "    train_dt = PAMAP2Dataset(data=data_dict['train']['X'], actions=data_dict['train']['y'], attributes=skel_actions, attribute_dict=action_dict, action_classes=seen_classes, seq_len=100)\n",
    "    train_dl = DataLoader(train_dt, batch_size=config['batch_size'], shuffle=True, pin_memory=True, drop_last=True)\n",
    "    # build seen eval_dt\n",
    "    eval_dt = PAMAP2Dataset(data=data_dict['eval-seen']['X'], actions=data_dict['eval-seen']['y'], attributes=skel_actions, attribute_dict=action_dict, action_classes=seen_classes, seq_len=100)\n",
    "    eval_dl = DataLoader(eval_dt, batch_size=config['batch_size'], shuffle=True, pin_memory=True, drop_last=True)\n",
    "    # build unseen test_dt\n",
    "    test_dt = PAMAP2Dataset(data=data_dict['test']['X'], actions=data_dict['test']['y'], attributes=skel_actions, attribute_dict=action_dict, action_classes=unseen_classes, seq_len=100)\n",
    "    test_dl = DataLoader(test_dt, batch_size=config['batch_size'], shuffle=True, pin_memory=True, drop_last=True)\n",
    "    \n",
    "    # build model\n",
    "    imu_config = {\n",
    "        'in_ft':in_ft, \n",
    "        'd_model':config['d_model'], \n",
    "        'num_heads':config['num_heads'], \n",
    "        'ft_size':config['feat_size'], \n",
    "        'max_len':seq_len, \n",
    "        'n_classes':len(seen_classes)\n",
    "    }\n",
    "    model = IMUEncoder(**imu_config)\n",
    "    model.to(device)\n",
    "\n",
    "    seen_action_ft, seen_action_label = gen_semantic_space(action_dict, seen_classes, skel_actions)\n",
    "    unseen_action_ft, unseen_action_label = gen_semantic_space(action_dict, unseen_classes, skel_actions)\n",
    "\n",
    "    # define run parameters \n",
    "    optimizer = Adam(model.parameters(), lr=config['lr'], weight_decay=1e-6)\n",
    "    loss_module = {'class': nn.CrossEntropyLoss(reduction=\"sum\"), 'feature': nn.L1Loss(reduction=\"sum\")}\n",
    "    best_acc = 0.0\n",
    "\n",
    "    # train the model \n",
    "    train_data = []\n",
    "    for epoch in tqdm(range(config['n_epochs']), desc='Training Epoch', leave=False):\n",
    "    \n",
    "        train_metrics = train_step(model, train_dl, train_dt, optimizer, loss_module, device, class_names=[all_classes[i] for i in seen_classes], phase='train', loss_alpha=0.0001)\n",
    "        train_metrics['epoch'] = epoch\n",
    "        train_metrics['phase'] = 'train'\n",
    "        train_data.append(train_metrics)\n",
    "        # log(i, 'train', train_metrics)\n",
    "\n",
    "        eval_metrics = eval_step(model, eval_dl, eval_dt, loss_module, device, class_names=[all_classes[i] for i in seen_classes], phase='seen', loss_alpha=0.0001, print_report=False, show_plot=False)\n",
    "        eval_metrics['epoch'] = epoch \n",
    "        eval_metrics['phase'] = 'valid'\n",
    "        train_data.append(eval_metrics)\n",
    "        # log(i, 'eval', eval_metrics)\n",
    "        # print(f\"EPOCH [{epoch}] TRAINING : {train_metrics}\")\n",
    "        # print(f\"EPOCH [{epoch}] EVAL : {eval_metrics}\")\n",
    "        if eval_metrics['accuracy'] > best_acc:\n",
    "            best_model = deepcopy(model.state_dict())\n",
    "    \n",
    "    train_df = pd.DataFrame().from_records(train_data)\n",
    "    plot_curves(train_df)\n",
    "\n",
    "    # replace by best model \n",
    "    model.load_state_dict(best_model)\n",
    "    # save_model(model,notebook_iden,model_iden,i)\n",
    "\n",
    "    # run evaluation on unseen classes\n",
    "    test_metrics, a,b,c,d,e = unseen_eval_step(model, test_dl, unseen_action_ft, unseen_action_label, loss_module, device, class_names=[all_classes[i] for i in unseen_classes], class_ids=unseen_classes, phase='unseen', loss_alpha=config['imu_alpha'], print_report=True, show_plot=True, neighs=config['neighs'])\n",
    "    # over_plot_preds(a,b,c,d,e)\n",
    "    # over_plot_preds(a,b,c[:30, :],d[:30],e)\n",
    "    test_metrics['N'] = len(unseen_classes)\n",
    "    fold_metric_scores.append(test_metrics)\n",
    "    # log('test', i, test_metrics)\n",
    "    print(test_metrics)\n",
    "    print(\"=\"*40)\n",
    "\n",
    "print(\"=\"*14, \"Overall Unseen Classes Performance\", \"=\"*14)\n",
    "seen_score_df = pd.DataFrame.from_records(fold_metric_scores)\n",
    "weighted_score_df = seen_score_df[[\"accuracy\", \"precision\", \"recall\", \"f1\"]].multiply(seen_score_df[\"N\"], axis=\"index\")\n",
    "final_results = weighted_score_df.sum()/seen_score_df['N'].sum()\n",
    "print(final_results)\n",
    "# log('global', '',final_results.to_dict())\n",
    "# run.stop()\n"
   ]
  },
  {
   "cell_type": "code",
   "execution_count": null,
   "metadata": {},
   "outputs": [],
   "source": []
  }
 ],
 "metadata": {
  "kernelspec": {
   "display_name": "fyp_env",
   "language": "python",
   "name": "python3"
  },
  "language_info": {
   "codemirror_mode": {
    "name": "ipython",
    "version": 3
   },
   "file_extension": ".py",
   "mimetype": "text/x-python",
   "name": "python",
   "nbconvert_exporter": "python",
   "pygments_lexer": "ipython3",
   "version": "3.9.16"
  },
  "orig_nbformat": 4
 },
 "nbformat": 4,
 "nbformat_minor": 2
}
