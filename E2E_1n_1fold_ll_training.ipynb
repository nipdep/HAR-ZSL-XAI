{
 "cells": [
  {
   "cell_type": "code",
   "execution_count": 1,
   "metadata": {},
   "outputs": [],
   "source": [
    "# !pip install chart_studio"
   ]
  },
  {
   "cell_type": "code",
   "execution_count": 2,
   "metadata": {},
   "outputs": [],
   "source": [
    "import os \n",
    "import random \n",
    "from random import sample, choice\n",
    "from datetime import date\n",
    "from tqdm import tqdm\n",
    "from copy import deepcopy\n",
    "import numpy as np \n",
    "import pandas as pd\n",
    "from collections import defaultdict\n",
    "\n",
    "import torch \n",
    "from torch import nn, Tensor\n",
    "from torch.nn import functional as F\n",
    "from torch.nn.modules import MultiheadAttention, Linear, Dropout, BatchNorm1d, TransformerEncoderLayer\n",
    "from torch.nn.utils.rnn import pack_padded_sequence, pad_packed_sequence\n",
    "from torch.utils.data import Dataset, DataLoader\n",
    "from torch.optim import Adam\n",
    "from torch.nn import MSELoss,L1Loss\n",
    "\n",
    "from sklearn.metrics import accuracy_score\n",
    "from sklearn.metrics.pairwise import cosine_similarity, euclidean_distances\n",
    "from sklearn.neighbors import KNeighborsClassifier\n",
    "\n",
    "from pytorch_metric_learning.losses import ContrastiveLoss"
   ]
  },
  {
   "cell_type": "code",
   "execution_count": 3,
   "metadata": {},
   "outputs": [],
   "source": [
    "from src.datasets.data import PAMAP2Reader\n",
    "# from src.datasets.dataset import PAMAP2Dataset\n",
    "\n",
    "from src.models.ts_transformer import RelativeGlobalAttention\n",
    "from src.models.loss import FeatureLoss, AttributeLoss \n",
    "from src.utils.losses import *\n",
    "\n",
    "from src.utils.analysis import action_evaluator"
   ]
  },
  {
   "cell_type": "code",
   "execution_count": 4,
   "metadata": {},
   "outputs": [],
   "source": [
    "from sklearn.manifold import TSNE\n",
    "from umap import UMAP\n",
    "\n",
    "import matplotlib.pyplot as plt \n",
    "import seaborn as sns \n",
    "import plotly.express as px"
   ]
  },
  {
   "cell_type": "code",
   "execution_count": 5,
   "metadata": {},
   "outputs": [],
   "source": [
    "import chart_studio\n",
    "import chart_studio.plotly as py \n",
    "import chart_studio.tools as tls\n",
    "\n",
    "plotly_user = 'nipdep'\n",
    "plotly_key = 'BNQUTzoP5YBLtc8uggat'\n",
    "chart_studio.tools.set_credentials_file(username=plotly_user, api_key=plotly_key)"
   ]
  },
  {
   "cell_type": "code",
   "execution_count": 6,
   "metadata": {},
   "outputs": [],
   "source": [
    "# setup model configurations\n",
    "config = {\n",
    "    # general information\n",
    "    \"experiment-name\": \"test-001\", \n",
    "    \"datetime\": date.today(),\n",
    "    \"device\": \"gpu\",\n",
    "    \"dataset\": \"PAMAP2\", # \"PAMAP2\", \"DaLiAc\", \"UTD\"\n",
    "    \"Model\": \"RelativeGlobalAttention\",\n",
    "    \"sem-space\": 'attr',\n",
    "    # model training configs\n",
    "    \"include_attribute_loss\": True, \n",
    "    \"n_actions\": 18,\n",
    "    \"folding\": True,\n",
    "    \"lr\": 0.001,\n",
    "    \"ae_lr\": 0.0001,\n",
    "    \"imu_lr\": 0.0004,\n",
    "    \"ae_alpha\": 0.9,\n",
    "    \"imu_alpha\": 0.1,\n",
    "    \"n_epochs\": 10,\n",
    "    \"optimizer\": \"adam\",\n",
    "    \"batch_size\": 32,\n",
    "    \"semantic_loss\": \"cosine_distance\",\n",
    "    # model configs\n",
    "    \"d_model\": 128, \n",
    "    \"num_heads\": 2,\n",
    "    \"feat_size\": 256, # skel-AE hidden size and IMU-Anc output size\n",
    "    \"semantic_size\": 64,\n",
    "    # dataset configs\n",
    "    \"window_size\": 5, \n",
    "    \"overlap\": 0.5,\n",
    "    \"seq_len\": 50,  # skeleton seq. length\n",
    "    \"seen_split\": 0.2,\n",
    "    \"unseen_split\": 0.8\n",
    "}"
   ]
  },
  {
   "cell_type": "markdown",
   "metadata": {},
   "source": [
    "---"
   ]
  },
  {
   "cell_type": "code",
   "execution_count": 7,
   "metadata": {},
   "outputs": [],
   "source": [
    "class IMUEncoder(nn.Module):\n",
    "    def __init__(self, in_ft, d_model, num_heads, ft_size, n_classes, max_len=1024, dropout=0.1):\n",
    "        super(IMUEncoder, self).__init__()\n",
    "        self.in_ft = in_ft\n",
    "        self.max_len = max_len\n",
    "        self.d_model = d_model\n",
    "        self.num_heads = num_heads\n",
    "        self.ft_size = ft_size \n",
    "        self.n_classes = n_classes\n",
    "\n",
    "        # feature prep layer\n",
    "        self.DenseL = nn.Linear(in_ft, d_model)\n",
    "        # relative global attention layer\n",
    "        self.AttnL = RelativeGlobalAttention(self.d_model, self.num_heads, self.max_len)\n",
    "        # positional encoding concat <-> 1DConv \n",
    "        self.Act = F.relu  # _get_activation_fn(activation)\n",
    "        self.AvgPoolL = nn.AvgPool2d((self.max_len,1))\n",
    "        self.DenseL2 = nn.Linear(self.d_model, self.ft_size)\n",
    "        self.dropout = nn.Dropout1d(dropout)\n",
    "        self.logist = nn.Linear(self.ft_size, self.n_classes)\n",
    "\n",
    "    def forward(self, x):\n",
    "        out = self.DenseL(x)\n",
    "        out = self.AttnL(out)\n",
    "        out = self.Act(out)\n",
    "        out = self.AvgPoolL(out)\n",
    "        out = torch.squeeze(out)\n",
    "        out = self.dropout(out)\n",
    "        out1 = self.DenseL2(out)   \n",
    "        out = self.logist(out1)     \n",
    "        return out, out1"
   ]
  },
  {
   "cell_type": "code",
   "execution_count": 8,
   "metadata": {},
   "outputs": [
    {
     "data": {
      "text/plain": [
       "(torch.Size([32, 2]), torch.Size([32, 128]))"
      ]
     },
     "execution_count": 8,
     "metadata": {},
     "output_type": "execute_result"
    }
   ],
   "source": [
    "# test model \n",
    "sample_input = torch.randn((32, 120, 42))\n",
    "model = IMUEncoder(in_ft=42, d_model=128, num_heads=2, ft_size=128, n_classes=2, max_len=120, dropout=0.1)\n",
    "sample_output = model(sample_input)\n",
    "sample_output[0].shape, sample_output[1].shape"
   ]
  },
  {
   "cell_type": "markdown",
   "metadata": {},
   "source": [
    "---"
   ]
  },
  {
   "cell_type": "code",
   "execution_count": 9,
   "metadata": {},
   "outputs": [],
   "source": [
    "\n",
    "class BiLSTMEncoder(nn.Module):\n",
    "    def __init__(self,seq_len, input_size, hidden_size,linear_filters,embedding_size:int, num_layers = 1,bidirectional=True,batch_size=32):\n",
    "        super(BiLSTMEncoder, self).__init__()\n",
    "        self.input_size = input_size\n",
    "        self.hidden_size = hidden_size\n",
    "        self.num_layers = num_layers\n",
    "        self.linear_filters = linear_filters\n",
    "        self.embedding_size = embedding_size\n",
    "        self.bidirectional = bidirectional\n",
    "        self.batch_size = batch_size\n",
    "        self.seq_len = seq_len\n",
    "\n",
    "        # define LSTM layer\n",
    "        self.layers = []\n",
    "\n",
    "        # add linear layers \n",
    "        for __id,layer_out in enumerate(self.linear_filters):\n",
    "            if __id == 0:\n",
    "                self.layers.append(nn.Linear(self.input_size, layer_out))\n",
    "            else:\n",
    "                self.layers.append(nn.Linear(self.linear_filters[__id-1], layer_out))\n",
    "\n",
    "        # add lstm layer\n",
    "        self.lstm = nn.LSTM(input_size = layer_out, hidden_size = self.hidden_size,\n",
    "                            num_layers = self.num_layers, bidirectional=self.bidirectional,\n",
    "                            batch_first=True)\n",
    "        self.net = nn.Sequential(*self.layers)\n",
    "\n",
    "        #add embedding out\n",
    "        if bidirectional:\n",
    "            self.out_linear = nn.Linear(self.hidden_size*4, self.embedding_size)\n",
    "        else:\n",
    "            self.out_linear = nn.Linear(self.hidden_size*2, self.embedding_size)\n",
    "\n",
    "        \n",
    "    def forward(self, x_input):\n",
    "        '''\n",
    "        : param x_input:               input of shape (seq_len, # in batch, input_size)\n",
    "        : return lstm_out, hidden:     lstm_out gives all the hidden states in the sequence; hidden gives the hidden state and cell state for the last element in the sequence                         \n",
    "        '''\n",
    "        \n",
    "        x = self.net(x_input)\n",
    "        lstm_out, self.hidden = self.lstm(x)\n",
    "        hidden_transformed = torch.concat(self.hidden,0)\n",
    "        hidden_transformed = torch.transpose(hidden_transformed,0,1)\n",
    "        hidden_transformed = torch.flatten(hidden_transformed,start_dim=1)\n",
    "        hidden_transformed = self.out_linear(hidden_transformed)\n",
    "        \n",
    "        return lstm_out, hidden_transformed\n",
    "\n",
    "    \n",
    "class BiLSTMDecoder(nn.Module):\n",
    "    def __init__(self,seq_len, input_size, hidden_size, linear_filters,embedding_size:int, num_layers = 1,bidirectional=True,batch_size=32, device='cpu'):\n",
    "        super(BiLSTMDecoder, self).__init__()\n",
    "        self.input_size = input_size\n",
    "        self.hidden_size = hidden_size\n",
    "        self.num_layers = num_layers\n",
    "        self.linear_filters = linear_filters[::-1]\n",
    "        self.embedding_size = embedding_size\n",
    "        self.bidirectional = bidirectional\n",
    "        self.batch_size = batch_size\n",
    "        self.seq_len = seq_len\n",
    "        self.device = device\n",
    "\n",
    "        if bidirectional:\n",
    "            self.input_linear = nn.Linear(self.embedding_size,4*self.hidden_size)\n",
    "        else:\n",
    "            self.input_linear = nn.Linear(self.embedding_size,2*self.hidden_size)\n",
    "\n",
    "        # define LSTM layer\n",
    "        self.layers = []\n",
    "        # add lstm\n",
    "        self.lstm = nn.LSTM(input_size = self.linear_filters[0], hidden_size = self.hidden_size,\n",
    "                            num_layers = self.num_layers, bidirectional=True,\n",
    "                            batch_first=bidirectional)\n",
    "              \n",
    "        # add linear layers \n",
    "        if bidirectional:\n",
    "            self.layers.append(nn.Linear(2*hidden_size,self.linear_filters[0]))\n",
    "        else:\n",
    "            self.layers.append(nn.Linear(hidden_size,self.linear_filters[0]))\n",
    "\n",
    "        for __id,layer_in in enumerate(self.linear_filters):\n",
    "            if __id == len(linear_filters)-1:\n",
    "                self.layers.append(nn.Linear(layer_in,self.input_size))\n",
    "            else:\n",
    "                self.layers.append(nn.Linear(layer_in,self.linear_filters[__id+1]))\n",
    "\n",
    "        self.net = nn.Sequential(*self.layers)\n",
    "\n",
    "    def forward(self,encoder_hidden):\n",
    "        '''\n",
    "        : param x_input:               input of shape (seq_len, # in batch, input_size)\n",
    "        : return lstm_out, hidden:     lstm_out gives all the hidden states in the sequence; hidden gives the hidden state and cell state for the last element in the sequence                         \n",
    "        '''\n",
    "        \n",
    "        \n",
    "        hidden_shape = encoder_hidden.shape\n",
    "        encoder_hidden = self.input_linear(encoder_hidden)\n",
    "        \n",
    "        if self.bidirectional:\n",
    "            hidden = encoder_hidden.view((self.batch_size,4,self.hidden_size))\n",
    "            # print(hidden.shape)\n",
    "            hidden = torch.transpose(hidden,1,0)\n",
    "            h1,h2,c1,c2 = torch.unbind(hidden,0)\n",
    "            h,c = torch.stack((h1,h2)),torch.stack((c1,c2))\n",
    "        else:\n",
    "            hidden = encoder_hidden.view((self.batch_size,2,self.hidden_size))\n",
    "            hidden = torch.transpose(hidden,1,0)\n",
    "            h,c = torch.unbind(hidden,0)\n",
    "        \n",
    "        dummy_input = torch.rand((self.batch_size,self.seq_len,self.hidden_size), requires_grad=True)\n",
    "        dummy_input = dummy_input.to(self.device)\n",
    "        \n",
    "        lstm_out, self.hidden = self.lstm(dummy_input,(h,c))\n",
    "        x = self.net(lstm_out)\n",
    "        return x\n",
    "\n",
    "class SkeletonAE(nn.Module):\n",
    "    def __init__(self,seq_len, input_size, hidden_size, linear_filters=[128,256,512],embedding_size:int=256, num_layers = 1,bidirectional=True, batch_size=32, device='cpu'):\n",
    "        super(SkeletonAE, self).__init__()\n",
    "        self.input_size = input_size\n",
    "        self.hidden_size = hidden_size\n",
    "        self.num_layers = num_layers\n",
    "        self.linear_filters = linear_filters[::-1]\n",
    "        self.embedding_size = embedding_size\n",
    "        self.bidirectional = bidirectional\n",
    "        self.batch_size = batch_size\n",
    "        self.seq_len = seq_len\n",
    "        \n",
    "        self.encoder = BiLSTMEncoder(seq_len, input_size, hidden_size, linear_filters,embedding_size, num_layers = 1,bidirectional=True,batch_size=32)\n",
    "        self.decoder = BiLSTMDecoder(seq_len, input_size, hidden_size, linear_filters,embedding_size, num_layers = 1,bidirectional=True,batch_size=32, device=device)\n",
    "        \n",
    "    def forward(self,x):\n",
    "        lstm_out,embedding = self.encoder(x)\n",
    "        decoder_out = self.decoder(embedding)\n",
    "        \n",
    "        return decoder_out, embedding  \n",
    "        "
   ]
  },
  {
   "cell_type": "code",
   "execution_count": 10,
   "metadata": {},
   "outputs": [
    {
     "data": {
      "text/plain": [
       "<All keys matched successfully>"
      ]
     },
     "execution_count": 10,
     "metadata": {},
     "output_type": "execute_result"
    }
   ],
   "source": [
    "ae_model = SkeletonAE(seq_len=50, input_size=36, hidden_size=512, linear_filters=[128,256,512], embedding_size=256, num_layers=1,bidirectional=True,batch_size=32)\n",
    "prep_dir = './tmp/random_input_100_epochs.pt'\n",
    "ae_model.load_state_dict(torch.load(prep_dir))"
   ]
  },
  {
   "cell_type": "markdown",
   "metadata": {},
   "source": [
    "---"
   ]
  },
  {
   "cell_type": "code",
   "execution_count": 11,
   "metadata": {},
   "outputs": [],
   "source": [
    "if config['device'] == 'cpu':\n",
    "    device = \"cpu\"\n",
    "else:\n",
    "    device = torch.device(\"cuda:0\" if torch.cuda.is_available() else \"cpu\")"
   ]
  },
  {
   "cell_type": "code",
   "execution_count": 12,
   "metadata": {},
   "outputs": [
    {
     "name": "stdout",
     "output_type": "stream",
     "text": [
      "Reading file 1 of 14\n",
      "Reading file 2 of 14\n",
      "Reading file 3 of 14\n",
      "Reading file 4 of 14\n",
      "Reading file 5 of 14\n",
      "Reading file 6 of 14\n",
      "Reading file 7 of 14\n",
      "Reading file 8 of 14\n",
      "Reading file 9 of 14\n",
      "Reading file 10 of 14\n",
      "Reading file 11 of 14\n",
      "Reading file 12 of 14\n",
      "Reading file 13 of 14\n",
      "Reading file 14 of 14\n"
     ]
    },
    {
     "name": "stderr",
     "output_type": "stream",
     "text": [
      "g:\\FYP\\Codebases\\Pose-AE\\src\\datasets\\data.py:65: VisibleDeprecationWarning:\n",
      "\n",
      "Creating an ndarray from ragged nested sequences (which is a list-or-tuple of lists-or-tuples-or ndarrays with different lengths or shapes) is deprecated. If you meant to do this, you must specify 'dtype=object' when creating the ndarray.\n",
      "\n"
     ]
    }
   ],
   "source": [
    "# import PAMAP2 dataset\n",
    "dt = config['dataset']\n",
    "if dt == 'PAMAP2':\n",
    "    dataReader = PAMAP2Reader('./data/PAMAP2_Dataset/Protocol/')\n",
    "\n",
    "actionList = dataReader.idToLabel"
   ]
  },
  {
   "cell_type": "code",
   "execution_count": 13,
   "metadata": {},
   "outputs": [],
   "source": [
    "if dt == 'PAMAP2':\n",
    "    fold_classes = [['watching TV', 'house cleaning', 'standing', 'ascending stairs'], ['walking', 'rope jumping', 'sitting', 'descending stairs'], ['playing soccer', 'lying', 'vacuum cleaning', 'computer work'], ['cycling', 'running', 'Nordic walking'], ['ironing', 'car driving', 'folding laundry']]\n",
    "\n",
    "fold_cls_ids = [[actionList.index(i) for i in j] for j in fold_classes]"
   ]
  },
  {
   "cell_type": "code",
   "execution_count": 14,
   "metadata": {},
   "outputs": [],
   "source": [
    "skeleton_data = np.load('./data/skeleton_k10_movements.npz')\n",
    "skeleton_classes, skeleton_mov = skeleton_data['arr_0'], skeleton_data['arr_1']"
   ]
  },
  {
   "cell_type": "code",
   "execution_count": 15,
   "metadata": {},
   "outputs": [
    {
     "data": {
      "text/plain": [
       "(180, 60, 36)"
      ]
     },
     "execution_count": 15,
     "metadata": {},
     "output_type": "execute_result"
    }
   ],
   "source": [
    "skeleton_mov.shape"
   ]
  },
  {
   "cell_type": "code",
   "execution_count": 16,
   "metadata": {},
   "outputs": [
    {
     "data": {
      "text/plain": [
       "(array(['Nordic walking', 'ascending stairs', 'car driving',\n",
       "        'computer work', 'cycling', 'descending stairs', 'folding laundry',\n",
       "        'house cleaning', 'ironing', 'lying', 'playing soccer',\n",
       "        'rope jumping', 'running', 'sitting', 'standing',\n",
       "        'vacuum cleaning', 'walking', 'watching TV'], dtype='<U17'),\n",
       " array([10, 10, 10, 10, 10, 10, 10, 10, 10, 10, 10, 10, 10, 10, 10, 10, 10,\n",
       "        10], dtype=int64))"
      ]
     },
     "execution_count": 16,
     "metadata": {},
     "output_type": "execute_result"
    }
   ],
   "source": [
    "np.unique(skeleton_classes, return_counts=True)"
   ]
  },
  {
   "cell_type": "code",
   "execution_count": 17,
   "metadata": {},
   "outputs": [
    {
     "data": {
      "text/plain": [
       "[(1, 'lying'),\n",
       " (2, 'sitting'),\n",
       " (3, 'standing'),\n",
       " (4, 'walking'),\n",
       " (5, 'running'),\n",
       " (6, 'cycling'),\n",
       " (7, 'Nordic walking'),\n",
       " (9, 'watching TV'),\n",
       " (10, 'computer work'),\n",
       " (11, 'car driving'),\n",
       " (12, 'ascending stairs'),\n",
       " (13, 'descending stairs'),\n",
       " (16, 'vacuum cleaning'),\n",
       " (17, 'ironing'),\n",
       " (18, 'folding laundry'),\n",
       " (19, 'house cleaning'),\n",
       " (20, 'playing soccer'),\n",
       " (24, 'rope jumping')]"
      ]
     },
     "execution_count": 17,
     "metadata": {},
     "output_type": "execute_result"
    }
   ],
   "source": [
    "dataReader.label_map"
   ]
  },
  {
   "cell_type": "code",
   "execution_count": 18,
   "metadata": {},
   "outputs": [
    {
     "data": {
      "text/plain": [
       "array(['Nordic walking', 'ascending stairs', 'car driving',\n",
       "       'computer work', 'cycling', 'descending stairs', 'folding laundry',\n",
       "       'house cleaning', 'ironing', 'lying', 'playing soccer',\n",
       "       'rope jumping', 'running', 'sitting', 'standing',\n",
       "       'vacuum cleaning', 'walking', 'watching TV'], dtype='<U17')"
      ]
     },
     "execution_count": 18,
     "metadata": {},
     "output_type": "execute_result"
    }
   ],
   "source": [
    "np.unique(skeleton_classes)"
   ]
  },
  {
   "cell_type": "code",
   "execution_count": 19,
   "metadata": {},
   "outputs": [],
   "source": [
    "from collections import defaultdict\n",
    "\n",
    "label2Id = {c[1]:i for i,c in enumerate(dataReader.label_map)}\n",
    "action_dict = defaultdict(list)\n",
    "skeleton_Ids = []\n",
    "for i, a in enumerate(skeleton_classes):\n",
    "    action_dict[label2Id[a]].append(i)\n",
    "    skeleton_Ids.append(label2Id[a])"
   ]
  },
  {
   "cell_type": "code",
   "execution_count": 20,
   "metadata": {},
   "outputs": [
    {
     "data": {
      "text/plain": [
       "defaultdict(list,\n",
       "            {10: [0, 1, 2, 3, 4, 5, 6, 7, 8, 9],\n",
       "             9: [10, 11, 12, 13, 14, 15, 16, 17, 18, 19],\n",
       "             8: [20, 21, 22, 23, 24, 25, 26, 27, 28, 29],\n",
       "             5: [30, 31, 32, 33, 34, 35, 36, 37, 38, 39],\n",
       "             11: [40, 41, 42, 43, 44, 45, 46, 47, 48, 49],\n",
       "             14: [50, 51, 52, 53, 54, 55, 56, 57, 58, 59],\n",
       "             15: [60, 61, 62, 63, 64, 65, 66, 67, 68, 69],\n",
       "             13: [70, 71, 72, 73, 74, 75, 76, 77, 78, 79],\n",
       "             0: [80, 81, 82, 83, 84, 85, 86, 87, 88, 89],\n",
       "             6: [90, 91, 92, 93, 94, 95, 96, 97, 98, 99],\n",
       "             16: [100, 101, 102, 103, 104, 105, 106, 107, 108, 109],\n",
       "             17: [110, 111, 112, 113, 114, 115, 116, 117, 118, 119],\n",
       "             4: [120, 121, 122, 123, 124, 125, 126, 127, 128, 129],\n",
       "             1: [130, 131, 132, 133, 134, 135, 136, 137, 138, 139],\n",
       "             2: [140, 141, 142, 143, 144, 145, 146, 147, 148, 149],\n",
       "             12: [150, 151, 152, 153, 154, 155, 156, 157, 158, 159],\n",
       "             3: [160, 161, 162, 163, 164, 165, 166, 167, 168, 169],\n",
       "             7: [170, 171, 172, 173, 174, 175, 176, 177, 178, 179]})"
      ]
     },
     "execution_count": 20,
     "metadata": {},
     "output_type": "execute_result"
    }
   ],
   "source": [
    "action_dict"
   ]
  },
  {
   "cell_type": "code",
   "execution_count": 21,
   "metadata": {},
   "outputs": [],
   "source": [
    "def get_class_ft(data, model, device, bs=32):\n",
    "    ns, _, _ = data.shape \n",
    "    padded_mat = F.pad(input=data, pad=(0,0,0,0,0,bs-ns), mode='constant', value=0)\n",
    "    _, vector_out = model(padded_mat.float().to(device)) # batch second mode\n",
    "    action_feat_mat = vector_out[:ns, :].cpu().detach().numpy()\n",
    "    return action_feat_mat"
   ]
  },
  {
   "cell_type": "markdown",
   "metadata": {},
   "source": [
    "---"
   ]
  },
  {
   "cell_type": "code",
   "execution_count": 60,
   "metadata": {},
   "outputs": [],
   "source": [
    "class PAMAP2Dataset(Dataset):\n",
    "    def __init__(self, data, actions, attributes, attribute_dict, action_classes, seq_len=120):\n",
    "        super(PAMAP2Dataset, self).__init__()\n",
    "        self.data = torch.from_numpy(data)\n",
    "        self.actions = actions\n",
    "        self.attribute_dict = attribute_dict\n",
    "        self.seq_len = seq_len\n",
    "        self.attributes = torch.from_numpy(attributes[:, :seq_len, ...])\n",
    "        self.action_classes = action_classes\n",
    "        # build action to id mapping dict\n",
    "        self.n_action = len(self.actions)\n",
    "        self.action2Id = dict(zip(action_classes, range(self.n_action)))\n",
    "\n",
    "    def __getitem__(self, ind):\n",
    "        x = self.data[ind, ...]\n",
    "        x_mask = np.array([0]) # self.padding_mask[ind, ...]\n",
    "        target = self.actions[ind]\n",
    "        y = torch.from_numpy(np.array([self.action2Id[target]]))\n",
    "\n",
    "        # extraction semantic space generation skeleton sequences \n",
    "        # positive reference vector\n",
    "        pos_idx = random.choice(self.attribute_dict[target])\n",
    "        pos_feat = self.attributes[pos_idx, ...]\n",
    "        # negative reference vector\n",
    "        neg_class = random.choice(list(set(self.action_classes)-set([y])))\n",
    "        neg_idx = random.choice(self.attribute_dict[neg_class])\n",
    "        neg_feat = self.attributes[neg_idx, ...]\n",
    "        return x, y, pos_feat, neg_class, neg_feat, x_mask\n",
    "\n",
    "    def __len__(self):\n",
    "        return self.data.shape[0]\n",
    "\n",
    "    def getClassAttrs(self):\n",
    "        sampling_idx = [random.choice(self.attribute_dict[i]) for i in self.action_classes]\n",
    "        ft_mat = self.attributes[sampling_idx, ...]\n",
    "        return ft_mat "
   ]
  },
  {
   "cell_type": "code",
   "execution_count": 25,
   "metadata": {},
   "outputs": [
    {
     "name": "stdout",
     "output_type": "stream",
     "text": [
      "torch.Size([32, 105, 27])\n"
     ]
    }
   ],
   "source": [
    "data_dict = dataReader.generate(unseen_classes=fold_cls_ids[0], seen_ratio=0.2, unseen_ratio=0.8, window_size=5.21, window_overlap=4.21, resample_freq=20)\n",
    "sample_dt = PAMAP2Dataset(data=data_dict['train']['X'], actions=data_dict['train']['y'], attributes=skeleton_mov, attribute_dict=action_dict, action_classes=data_dict['seen_classes'], seq_len=100)\n",
    "sample_dl = DataLoader(sample_dt, batch_size=32, shuffle=True, pin_memory=True, drop_last=True)\n",
    "for d in sample_dl:\n",
    "    print(d[0].shape)\n",
    "    break"
   ]
  },
  {
   "cell_type": "code",
   "execution_count": 26,
   "metadata": {},
   "outputs": [
    {
     "data": {
      "text/plain": [
       "torch.Size([14, 60, 36])"
      ]
     },
     "execution_count": 26,
     "metadata": {},
     "output_type": "execute_result"
    }
   ],
   "source": [
    "r = sample_dt.getClassAttrs()\n",
    "r.shape"
   ]
  },
  {
   "cell_type": "code",
   "execution_count": 27,
   "metadata": {},
   "outputs": [
    {
     "data": {
      "text/plain": [
       "torch.Size([32, 60, 36])"
      ]
     },
     "execution_count": 27,
     "metadata": {},
     "output_type": "execute_result"
    }
   ],
   "source": [
    "pr = F.pad(input=r, pad=(0, 0, 0, 0, 0, 18), mode='constant', value=0)\n",
    "pr.shape"
   ]
  },
  {
   "cell_type": "code",
   "execution_count": 28,
   "metadata": {},
   "outputs": [
    {
     "data": {
      "text/plain": [
       "torch.Size([36, 60])"
      ]
     },
     "execution_count": 28,
     "metadata": {},
     "output_type": "execute_result"
    }
   ],
   "source": [
    "torch.transpose(r[1, ...], 1, 0).shape"
   ]
  },
  {
   "cell_type": "code",
   "execution_count": 29,
   "metadata": {},
   "outputs": [],
   "source": [
    "# r_out1, r_out2 = ae_model(torch.transpose(pr, 1, 0).float())\n",
    "# r_out1.shape, r_out2.shape"
   ]
  },
  {
   "cell_type": "markdown",
   "metadata": {},
   "source": [
    "---"
   ]
  },
  {
   "cell_type": "code",
   "execution_count": 30,
   "metadata": {},
   "outputs": [],
   "source": [
    "class SkeletonDataset(Dataset):\n",
    "    def __init__(self, movements, actions, action_dict, seq_len=60):\n",
    "        super(SkeletonDataset, self).__init__()\n",
    "        self.movements = torch.from_numpy(movements[:, :seq_len, ...])\n",
    "        self.actions = actions\n",
    "        self.action_dict = deepcopy(dict(action_dict))\n",
    "        self.actionsIDs = list(self.action_dict.keys())  \n",
    "\n",
    "    def __getitem__(self, idx):\n",
    "        x1 = self.movements[idx, ...]\n",
    "        action = self.actions[idx]\n",
    "        # partial_idx = random.sample(self.action_dict[action], k=1)[0]\n",
    "        # x2 = self.movements[partial_idx, ...]\n",
    "        label = self.actionsIDs.index(action)\n",
    "        # return np.transpose(x1, (1,0,2)), np.transpose(x2, (1,0,2)), label\n",
    "        return x1, label\n",
    "\n",
    "    def __len__(self):\n",
    "        return self.movements.shape[0]\n",
    "\n",
    "    def getShape(self):\n",
    "        return self.movements[0, ...].shape\n",
    "\n",
    "    def get_actions(self, label):\n",
    "        return self.movements[self.action_dict[label], ...]\n"
   ]
  },
  {
   "cell_type": "code",
   "execution_count": 31,
   "metadata": {},
   "outputs": [
    {
     "data": {
      "text/plain": [
       "defaultdict(list,\n",
       "            {10: [0, 1, 2, 3, 4, 5, 6, 7, 8, 9],\n",
       "             9: [10, 11, 12, 13, 14, 15, 16, 17, 18, 19],\n",
       "             8: [20, 21, 22, 23, 24, 25, 26, 27, 28, 29],\n",
       "             5: [30, 31, 32, 33, 34, 35, 36, 37, 38, 39],\n",
       "             11: [40, 41, 42, 43, 44, 45, 46, 47, 48, 49],\n",
       "             14: [50, 51, 52, 53, 54, 55, 56, 57, 58, 59],\n",
       "             15: [60, 61, 62, 63, 64, 65, 66, 67, 68, 69],\n",
       "             13: [70, 71, 72, 73, 74, 75, 76, 77, 78, 79],\n",
       "             0: [80, 81, 82, 83, 84, 85, 86, 87, 88, 89],\n",
       "             6: [90, 91, 92, 93, 94, 95, 96, 97, 98, 99],\n",
       "             16: [100, 101, 102, 103, 104, 105, 106, 107, 108, 109],\n",
       "             17: [110, 111, 112, 113, 114, 115, 116, 117, 118, 119],\n",
       "             4: [120, 121, 122, 123, 124, 125, 126, 127, 128, 129],\n",
       "             1: [130, 131, 132, 133, 134, 135, 136, 137, 138, 139],\n",
       "             2: [140, 141, 142, 143, 144, 145, 146, 147, 148, 149],\n",
       "             12: [150, 151, 152, 153, 154, 155, 156, 157, 158, 159],\n",
       "             3: [160, 161, 162, 163, 164, 165, 166, 167, 168, 169],\n",
       "             7: [170, 171, 172, 173, 174, 175, 176, 177, 178, 179]})"
      ]
     },
     "execution_count": 31,
     "metadata": {},
     "output_type": "execute_result"
    }
   ],
   "source": [
    "action_dict"
   ]
  },
  {
   "cell_type": "code",
   "execution_count": 32,
   "metadata": {},
   "outputs": [
    {
     "name": "stdout",
     "output_type": "stream",
     "text": [
      "torch.Size([32, 50, 36])\n"
     ]
    }
   ],
   "source": [
    "sample_dt = SkeletonDataset(skeleton_mov, skeleton_Ids, action_dict, seq_len=50)\n",
    "sample_dl = DataLoader(sample_dt, batch_size=config['batch_size'], shuffle=True, pin_memory=True, drop_last=True)\n",
    "for b in sample_dl:\n",
    "    bx1, by = b \n",
    "    # bx = torch.transpose(bx1, 1, 0)\n",
    "    bs, seq_len, ft_in = bx1.shape\n",
    "    print(bx1.shape)\n",
    "    break "
   ]
  },
  {
   "cell_type": "code",
   "execution_count": 33,
   "metadata": {},
   "outputs": [
    {
     "data": {
      "text/plain": [
       "torch.Size([50, 36])"
      ]
     },
     "execution_count": 33,
     "metadata": {},
     "output_type": "execute_result"
    }
   ],
   "source": [
    "sample_dt.getShape()"
   ]
  },
  {
   "attachments": {},
   "cell_type": "markdown",
   "metadata": {},
   "source": [
    "---"
   ]
  },
  {
   "cell_type": "code",
   "execution_count": 52,
   "metadata": {},
   "outputs": [],
   "source": [
    "class ActionTripletLoss(nn.Module):\n",
    "    # def __init__(self, action_feats, label_map, pos_thr=0.05, neg_thr=0.95, agg=\"mean\"):\n",
    "    def __init__(self, distance='cosine', k=10, pos_thr=0.05, neg_thr=0.95, theta=1e-4, agg=\"mean\", device=\"cpu\"):\n",
    "        super(ActionTripletLoss, self).__init__()\n",
    "        self.distance = distance\n",
    "        self.get_disMet(distance)\n",
    "        self.k = k\n",
    "        self.pos_thr = pos_thr\n",
    "        self.neg_thr = neg_thr\n",
    "        self.agg = agg \n",
    "        self.device = device \n",
    "        self.theta = theta\n",
    "\n",
    "    def get_disMet(self, distance):\n",
    "        if distance == 'cosine':\n",
    "            self.disMet = nn.CosineSimilarity(dim=1, eps=1e-6)\n",
    "        else:\n",
    "            self.disMet = nn.PairwiseDistance(p=2)\n",
    "\n",
    "    def forward(self, pred_fts, pos_fts, neg_fts):\n",
    "        neg_distances = self.disMet(pred_fts, neg_fts).to(self.device)\n",
    "        pos_distances = self.disMet(pred_fts, pos_fts).to(self.device)\n",
    "\n",
    "        if self.distance == 'cosine':\n",
    "            neg_distances = torch.abs(neg_distances)\n",
    "            pos_distances = torch.abs(pos_distances)\n",
    "\n",
    "        triplet_loss = F.relu(pos_distances-neg_distances+self.theta)\n",
    "        return triplet_loss.mean(dim=0)\n"
   ]
  },
  {
   "cell_type": "markdown",
   "metadata": {},
   "source": [
    "---"
   ]
  },
  {
   "cell_type": "code",
   "execution_count": 35,
   "metadata": {},
   "outputs": [],
   "source": [
    "def get_class_avg(data, model, device, bs=32):\n",
    "    ns, _, _ = data.shape \n",
    "    padded_mat = F.pad(input=data, pad=(0,0,0,0,0,bs-ns), mode='constant', value=0)\n",
    "    _, vector_out = model(padded_mat.float().to(device)) # batch second mode\n",
    "    action_feat_mat = vector_out[:ns, :].cpu().detach().numpy()\n",
    "    avg_vector = np.mean(action_feat_mat, axis=0)\n",
    "    # print(action_feat_mat.shape, avg_vector.shape)\n",
    "    return avg_vector"
   ]
  },
  {
   "cell_type": "code",
   "execution_count": 69,
   "metadata": {},
   "outputs": [],
   "source": [
    "def imu_train_step1(model, ae, dataloader, skel_dt, optimizers, loss_module, device, class_names, class_ids, phase='train', l2_reg=False, imu_alpha=0.7, ae_alpha=0.7, batch_size=32):\n",
    "    model = model.train()\n",
    "    ae = ae.train()\n",
    "\n",
    "    epoch_imu_loss, epoch_ae_loss = 0, 0  # total loss of epoch\n",
    "    epoch_acc = 0\n",
    "\n",
    "    with tqdm(dataloader, unit=\"batch\", desc=phase) as tepoch:\n",
    "        for batch in tepoch:\n",
    "            X, targets, pos_skel, _, neg_skel, padding_masks = batch\n",
    "            X = X.float().to(device)\n",
    "            targets = targets.long().to(device)\n",
    "            pos_skel = pos_skel.float().to(device)\n",
    "            neg_skel = neg_skel.float().to(device)\n",
    "            padding_masks = padding_masks.to(device)  # 0s: ignore\n",
    "            # Zero gradients, perform a backward pass, and update the weights.\n",
    "            optimizers['imu'].zero_grad()\n",
    "            optimizers['ae'].zero_grad()\n",
    "            # forward\n",
    "            # track history if only in train\n",
    "            with torch.set_grad_enabled(phase == 'train'):\n",
    "            # with autocast():\n",
    "                class_output, feat_output = model(X)\n",
    "\n",
    "            with torch.set_grad_enabled(phase == 'train'):\n",
    "                pos_recons, pos_feat = ae(pos_skel) # batch first mode\n",
    "                neg_recons, neg_feat = ae(neg_skel)\n",
    "\n",
    "            all_skels = torch.stack([pos_skel, neg_skel], dim=1)\n",
    "            recons_skels = torch.stack([pos_recons, neg_recons], dim=1)\n",
    "            # print(feat_output.shape, targets.shape)\n",
    "            # print('feat_output >', feat_output.shape, ' pos_feat > ', pos_feat.shape, ' neg_feat > ', neg_feat.shape)\n",
    "            class_loss = loss_module['class'](class_output, targets.squeeze())\n",
    "            feat_loss = loss_module['feature'](feat_output, pos_feat, neg_feat)\n",
    "            recons_loss = loss_module['recons'](all_skels, recons_skels)\n",
    "\n",
    "            imu_loss = imu_alpha*class_loss+(1-imu_alpha)/2*feat_loss\n",
    "            ae_loss = (1-ae_alpha)*recons_loss\n",
    "\n",
    "            if phase == 'train':\n",
    "                imu_loss.backward(retain_graph=True)\n",
    "                optimizers['imu'].step()\n",
    "\n",
    "                ae_loss.backward()\n",
    "                optimizers['ae'].step()\n",
    "\n",
    "            metrics = {\"IMU loss\": imu_loss.item(), \"AE loss\": ae_loss.item()}\n",
    "            with torch.no_grad():\n",
    "                epoch_imu_loss += imu_loss.item()  # add total loss of batch\n",
    "                epoch_ae_loss += ae_loss.item()\n",
    "\n",
    "            # convert feature vector into action class\n",
    "            # using cosine \n",
    "            pred_class = np.argmax(class_output.cpu().detach().numpy(), axis=1)\n",
    "            metrics[\"accuracy\"] = accuracy_score(y_true=targets.cpu().detach().numpy(), y_pred=pred_class)\n",
    "            epoch_acc += metrics[\"accuracy\"]\n",
    "            tepoch.set_postfix(metrics)\n",
    "            \n",
    "    epoch_imu_loss = epoch_imu_loss / len(dataloader)  # average loss per sample for whole epoch\n",
    "    epoch_ae_loss = epoch_ae_loss / len(dataloader) \n",
    "    epoch_acc = epoch_acc / len(dataloader)\n",
    "    return {'IMU loss': epoch_imu_loss, 'AE loss': epoch_ae_loss, 'accuracy': epoch_acc}"
   ]
  },
  {
   "cell_type": "code",
   "execution_count": 37,
   "metadata": {},
   "outputs": [],
   "source": [
    "def ae_train_step1(model, dataloader, optimizer, loss_module, device, batch_size, phase='train', l2_reg=False, loss_alpha=0.7):\n",
    "    model = model.train()\n",
    "    model.to(device)\n",
    "\n",
    "    const_loss = 0 \n",
    "    recons_loss = 0\n",
    "    epoch_loss = 0 \n",
    "\n",
    "    with tqdm(dataloader, unit='batch', desc=phase) as tepoch:\n",
    "        for batch in tepoch:\n",
    "            xa, labels = batch \n",
    "            # post-process \n",
    "            # xa = torch.vstack([x1, x2])  # batch first mode\n",
    "            # device offload \n",
    "            xa = xa.float().to(device)\n",
    "            labels = labels.float()\n",
    "\n",
    "            # set optimizer grad to zero \n",
    "            optimizer.zero_grad()\n",
    "            # get model prediction \n",
    "            with torch.set_grad_enabled(phase=='train'):\n",
    "                skel_output, ft_output = model(xa)\n",
    "\n",
    "            # reconstruct the output \n",
    "            # f1, f2 = torch.split(ft_output, [batch_size//2, batch_size//2], dim=0)\n",
    "            # cons_output = torch.stack([f1.squeeze(1), f2.squeeze(1)], dim=1)\n",
    "            # calc. contrastive loss \n",
    "            con_loss = loss_module['contrast'](ft_output, labels)()\n",
    "            # calc. reconstruction loss \n",
    "            l2_loss = loss_module['recons'](xa, skel_output)\n",
    "            # calc. total loss\n",
    "            # total_loss = con_loss #\n",
    "            total_loss = loss_alpha*con_loss + (1-loss_alpha)*l2_loss\n",
    "\n",
    "            if phase == 'train':\n",
    "                total_loss.backward()\n",
    "                optimizer.step()\n",
    "\n",
    "            metrics = {'contrastive loss ': con_loss.item(), 'reconstruction loss': l2_loss.item()}\n",
    "            with torch.no_grad():\n",
    "                    const_loss += con_loss.item()    \n",
    "                    recons_loss += l2_loss.item()\n",
    "                    epoch_loss += total_loss.item()\n",
    "            tepoch.set_postfix(metrics)\n",
    "\n",
    "    m = len(dataloader)\n",
    "    epoch_metrics = {'total_loss': epoch_loss/m, 'contrastive_loss': const_loss/m, 'reconstruction_loss':recons_loss/m}\n",
    "    return epoch_metrics"
   ]
  },
  {
   "cell_type": "code",
   "execution_count": 38,
   "metadata": {},
   "outputs": [],
   "source": [
    "def plot_umap(X, y, Id2Label):\n",
    "    umap_2d = UMAP(n_components=2, random_state=43)\n",
    "    cmp_data = umap_2d.fit_transform(X)\n",
    "\n",
    "    cmp_df = pd.DataFrame(data=cmp_data, columns=['x', 'y'])\n",
    "    cmp_df['label'] = y\n",
    "    cmp_df['action'] = cmp_df['label'].map(Id2Label)\n",
    "\n",
    "    fig = px.scatter(cmp_df, x='x', y='y', color='action', width=800, height=800, title=\"UMAP\")\n",
    "    fig.show()"
   ]
  },
  {
   "cell_type": "code",
   "execution_count": 39,
   "metadata": {},
   "outputs": [],
   "source": [
    "def plot_tnse(X, y, Id2Label):\n",
    "    tnse = TSNE(n_components=2, init='random', learning_rate='auto', perplexity=15, n_iter=1000)\n",
    "    cmp_data = tnse.fit_transform(X)\n",
    "\n",
    "    cmp_df = pd.DataFrame(data=cmp_data, columns=['x', 'y'])\n",
    "    cmp_df['label'] = y\n",
    "    cmp_df['action'] = cmp_df['label'].map(Id2Label)\n",
    "\n",
    "    fig = px.scatter(cmp_df, x='x', y='y', color='action', width=800, height=800, title='t-SNE')\n",
    "    fig.show()\n",
    "    return fig"
   ]
  },
  {
   "cell_type": "code",
   "execution_count": 40,
   "metadata": {},
   "outputs": [],
   "source": [
    "def get_action_vector(ae, skel_dt, device, class_ids, class_names, batch_size=32):\n",
    "    # generate unseen action_semantic from unseen skeleton seq. \n",
    "    label_dict = {c:i for i,c in enumerate(class_ids)}\n",
    "    all_actions = []\n",
    "    all_labels = []\n",
    "    for c in class_ids:\n",
    "        action_mat = skel_dt.get_actions(c)\n",
    "        ns, _, _ = action_mat.shape \n",
    "        class_labels = [label_dict[c] for _ in range(ns)]\n",
    "        padded_mat = F.pad(input=action_mat, pad=(0,0,0,0,0,batch_size-ns), mode='constant', value=0)\n",
    "        _, vector_out = ae(padded_mat.float().to(device)) # batch second mode\n",
    "        action_feat_mat = vector_out[:ns, :].cpu().detach().numpy() # batch second mode\n",
    "\n",
    "        all_actions.append(action_feat_mat)\n",
    "        all_labels.append(class_labels)\n",
    "\n",
    "    all_actions = np.concatenate(all_actions)\n",
    "    all_labels = np.concatenate(all_labels)\n",
    "    Id2Label = {i:l for i,l in enumerate(class_names)}\n",
    "    return all_actions, all_labels, Id2Label\n"
   ]
  },
  {
   "cell_type": "code",
   "execution_count": 73,
   "metadata": {},
   "outputs": [],
   "source": [
    "def eval_step1(model, ae, dataloader, sem_actions, sem_labels, loss_module, device, class_names, class_ids, target_feat_met, phase='seen', l2_reg=False, print_report=True, show_plot=True, imu_alpha=0.7, ae_alpha=0.7, batch_size=32, neighs=5):\n",
    "    model = model.train()\n",
    "    \n",
    "    label_dict = {c:i for i,c in enumerate(class_ids)}\n",
    "    inv_label_dict = {i:c for i,c in enumerate(class_ids)}\n",
    "    epoch_imu_loss, epoch_ae_loss = 0, 0  # total loss of epoch\n",
    "    total_samples = 0  # total samples in epoch\n",
    "    per_batch = {'target_masks': [], 'targets': [], 'predictions': [], 'metrics': [], 'IDs': [], 'pred_feat': []}\n",
    "\n",
    "    all_actions = sem_actions\n",
    "    all_labels = np.array([label_dict[c] for c in sem_labels])\n",
    "    # build knn model on know unseen samples \n",
    "    knn = KNeighborsClassifier(n_neighbors=neighs)\n",
    "    knn.fit(all_actions, all_labels)\n",
    "    # plot t-SNE on unseen vector \n",
    "    Id2Label = {i:l for i,l in enumerate(class_names)}\n",
    "    # plot_tnse(all_actions, all_labels, Id2Label)\n",
    "    # plot_umap(all_actions, all_labels, Id2Label)\n",
    "\n",
    "    with tqdm(dataloader, unit=\"batch\", desc=phase) as tepoch:\n",
    "        for batch in tepoch:\n",
    "            X, targets, pos_skel, neg_class, neg_skel, padding_masks = batch\n",
    "            X = X.float().to(device)\n",
    "            pos_skel = pos_skel.float().to(device)\n",
    "            neg_skel = neg_skel.float().to(device)\n",
    "            targets = targets.long().to(device)\n",
    "            neg_class = neg_class.long().to(device)\n",
    "            padding_masks = padding_masks.to(device)  # 0s: ignore\n",
    "            # forward\n",
    "            with torch.set_grad_enabled(False):\n",
    "            # with autocast():\n",
    "                class_output, feat_output = model(X)\n",
    "\n",
    "            with torch.set_grad_enabled(phase == 'train'):\n",
    "                pos_recons, pos_feat = ae(pos_skel) # batch first mode\n",
    "                neg_recons, neg_feat = ae(neg_skel)\n",
    "\n",
    "            all_skels = torch.stack([pos_skel, neg_skel], dim=1)\n",
    "            recons_skels = torch.stack([pos_recons, neg_recons], dim=1)\n",
    "            # print(feat_output.shape, targets.shape)\n",
    "            if phase == 'seen':\n",
    "                class_loss = loss_module['class'](class_output, targets.squeeze())\n",
    "            else:\n",
    "                class_loss = 0 # \n",
    "            feat_loss = loss_module['feature'](feat_output, pos_feat, neg_feat)\n",
    "            recons_loss = loss_module['recons'](all_skels, recons_skels)\n",
    "\n",
    "            imu_loss = imu_alpha*class_loss+(1-imu_alpha)*feat_loss\n",
    "            ae_loss = ae_alpha*class_loss+(1-ae_alpha)*recons_loss\n",
    "\n",
    "\n",
    "            metrics = {\"IMU loss\": imu_loss.item(), \"AE loss\": ae_loss.item()}\n",
    "            with torch.no_grad():\n",
    "                epoch_imu_loss += imu_loss.item()  # add total loss of batch\n",
    "                epoch_ae_loss += ae_loss.item()\n",
    "            \n",
    "            # convert feature vector into action class using cosine \n",
    "            if phase == 'seen':\n",
    "                pred_action = np.argmax(class_output.cpu().detach().numpy(), axis=1)\n",
    "            else:\n",
    "                # print(\"targets > \", targets)\n",
    "                # print(\"feat output\", feat_output.shape)\n",
    "                feat_numpy = feat_output.cpu().detach().numpy()\n",
    "                pred_action = knn.predict(feat_numpy)\n",
    "                \n",
    "            per_batch['targets'].append(targets.cpu().numpy())\n",
    "            per_batch['predictions'].append(pred_action)\n",
    "            per_batch['pred_feat'].append(feat_output.cpu().detach().numpy())\n",
    "            # per_batch['metrics'].append([loss.cpu().numpy()])\n",
    "\n",
    "            tepoch.set_postfix(metrics)\n",
    "    \n",
    "    \n",
    "    all_preds = np.concatenate(per_batch[\"predictions\"])\n",
    "    all_targets = np.concatenate(per_batch[\"targets\"])\n",
    "    all_pred_actions = np.concatenate(per_batch[\"pred_feat\"])\n",
    "    # print(\"predictions > \", all_preds, \"ground truth > \", all_targets[:, 0])\n",
    "    metrics_dict = action_evaluator(y_pred=all_preds, y_true=all_targets[:, 0], class_names=class_names, print_report=print_report, show_plot=show_plot)\n",
    "    metrics_dict['IMU loss'] = epoch_imu_loss/len(dataloader)\n",
    "    metrics_dict['AE loss'] = epoch_ae_loss/len(dataloader)\n",
    "    all_targets = np.array([inv_label_dict[c] for c in all_targets.squeeze()])\n",
    "    return metrics_dict, all_pred_actions, all_targets"
   ]
  },
  {
   "cell_type": "markdown",
   "metadata": {},
   "source": [
    "---"
   ]
  },
  {
   "cell_type": "code",
   "execution_count": 43,
   "metadata": {},
   "outputs": [
    {
     "name": "stdout",
     "output_type": "stream",
     "text": [
      "Initiate Skeleton dataset ... \n"
     ]
    },
    {
     "name": "stderr",
     "output_type": "stream",
     "text": [
      "train: 100%|██████████| 5/5 [00:01<00:00,  3.77batch/s, contrastive loss =3.6, reconstruction loss=0.00345]\n",
      "train: 100%|██████████| 5/5 [00:01<00:00,  3.47batch/s, contrastive loss =4.26, reconstruction loss=0.00414]\n",
      "train: 100%|██████████| 5/5 [00:01<00:00,  4.33batch/s, contrastive loss =3.55, reconstruction loss=0.00419]\n",
      "train: 100%|██████████| 5/5 [00:01<00:00,  3.74batch/s, contrastive loss =4.05, reconstruction loss=0.00365]\n",
      "train: 100%|██████████| 5/5 [00:01<00:00,  4.05batch/s, contrastive loss =2.98, reconstruction loss=0.0027]\n",
      "train: 100%|██████████| 5/5 [00:01<00:00,  4.55batch/s, contrastive loss =2.48, reconstruction loss=0.00207]\n",
      "train: 100%|██████████| 5/5 [00:01<00:00,  3.17batch/s, contrastive loss =3.06, reconstruction loss=0.00287]\n",
      "train: 100%|██████████| 5/5 [00:01<00:00,  3.51batch/s, contrastive loss =3.37, reconstruction loss=0.0027]\n",
      "train: 100%|██████████| 5/5 [00:01<00:00,  3.50batch/s, contrastive loss =2.76, reconstruction loss=0.0027]\n",
      "train: 100%|██████████| 5/5 [00:01<00:00,  3.69batch/s, contrastive loss =2.57, reconstruction loss=0.00256]\n",
      "train: 100%|██████████| 5/5 [00:01<00:00,  3.44batch/s, contrastive loss =2.87, reconstruction loss=0.00352]\n",
      "train: 100%|██████████| 5/5 [00:01<00:00,  4.08batch/s, contrastive loss =2.79, reconstruction loss=0.00358]\n",
      "train: 100%|██████████| 5/5 [00:01<00:00,  3.70batch/s, contrastive loss =3.38, reconstruction loss=0.00359]\n",
      "train: 100%|██████████| 5/5 [00:01<00:00,  4.01batch/s, contrastive loss =3.05, reconstruction loss=0.00288]\n",
      "train: 100%|██████████| 5/5 [00:01<00:00,  4.06batch/s, contrastive loss =3.22, reconstruction loss=0.00458]\n",
      "train: 100%|██████████| 5/5 [00:01<00:00,  4.00batch/s, contrastive loss =2.84, reconstruction loss=0.00457]\n",
      "train: 100%|██████████| 5/5 [00:01<00:00,  3.97batch/s, contrastive loss =2.99, reconstruction loss=0.00423]\n",
      "train: 100%|██████████| 5/5 [00:01<00:00,  3.88batch/s, contrastive loss =3.47, reconstruction loss=0.00494]\n",
      "train: 100%|██████████| 5/5 [00:01<00:00,  3.60batch/s, contrastive loss =2.45, reconstruction loss=0.00658]\n",
      "train: 100%|██████████| 5/5 [00:01<00:00,  3.81batch/s, contrastive loss =2.32, reconstruction loss=0.00662]\n",
      "train: 100%|██████████| 5/5 [00:01<00:00,  3.63batch/s, contrastive loss =2.23, reconstruction loss=0.00775]\n",
      "train: 100%|██████████| 5/5 [00:01<00:00,  3.81batch/s, contrastive loss =3.41, reconstruction loss=0.00895]\n",
      "train: 100%|██████████| 5/5 [00:01<00:00,  3.31batch/s, contrastive loss =2.66, reconstruction loss=0.00655]\n",
      "train: 100%|██████████| 5/5 [00:01<00:00,  3.52batch/s, contrastive loss =2.62, reconstruction loss=0.00868]\n",
      "train: 100%|██████████| 5/5 [00:01<00:00,  3.61batch/s, contrastive loss =2.6, reconstruction loss=0.00621]\n",
      "train: 100%|██████████| 5/5 [00:01<00:00,  3.71batch/s, contrastive loss =2.67, reconstruction loss=0.00976]\n",
      "train: 100%|██████████| 5/5 [00:01<00:00,  4.01batch/s, contrastive loss =2.15, reconstruction loss=0.00854]\n",
      "train: 100%|██████████| 5/5 [00:01<00:00,  3.60batch/s, contrastive loss =2.73, reconstruction loss=0.00749]\n",
      "train: 100%|██████████| 5/5 [00:01<00:00,  3.91batch/s, contrastive loss =2.85, reconstruction loss=0.00908]\n",
      "train: 100%|██████████| 5/5 [00:01<00:00,  3.80batch/s, contrastive loss =2.24, reconstruction loss=0.00638]\n",
      "train: 100%|██████████| 5/5 [00:01<00:00,  3.44batch/s, contrastive loss =2.43, reconstruction loss=0.0141]\n",
      "train: 100%|██████████| 5/5 [00:01<00:00,  3.70batch/s, contrastive loss =2.05, reconstruction loss=0.0121]\n",
      "train: 100%|██████████| 5/5 [00:01<00:00,  3.68batch/s, contrastive loss =2.45, reconstruction loss=0.0147]\n",
      "train: 100%|██████████| 5/5 [00:01<00:00,  3.73batch/s, contrastive loss =2.39, reconstruction loss=0.00992]\n",
      "train: 100%|██████████| 5/5 [00:01<00:00,  3.57batch/s, contrastive loss =2.41, reconstruction loss=0.0073]\n",
      "train: 100%|██████████| 5/5 [00:01<00:00,  3.52batch/s, contrastive loss =2.66, reconstruction loss=0.00664]\n",
      "train: 100%|██████████| 5/5 [00:01<00:00,  3.77batch/s, contrastive loss =2.43, reconstruction loss=0.00932]\n",
      "train: 100%|██████████| 5/5 [00:01<00:00,  3.58batch/s, contrastive loss =2.78, reconstruction loss=0.00996]\n",
      "train: 100%|██████████| 5/5 [00:01<00:00,  3.61batch/s, contrastive loss =2.18, reconstruction loss=0.00758]\n",
      "train: 100%|██████████| 5/5 [00:01<00:00,  3.68batch/s, contrastive loss =2.32, reconstruction loss=0.00796]\n",
      "train: 100%|██████████| 5/5 [00:01<00:00,  3.74batch/s, contrastive loss =2.18, reconstruction loss=0.0144]\n",
      "train: 100%|██████████| 5/5 [00:01<00:00,  3.67batch/s, contrastive loss =1.79, reconstruction loss=0.0159]\n",
      "train: 100%|██████████| 5/5 [00:01<00:00,  3.69batch/s, contrastive loss =2.36, reconstruction loss=0.00928]\n",
      "train: 100%|██████████| 5/5 [00:01<00:00,  3.68batch/s, contrastive loss =2.44, reconstruction loss=0.0104]\n",
      "train: 100%|██████████| 5/5 [00:01<00:00,  3.64batch/s, contrastive loss =1.54, reconstruction loss=0.0129]\n",
      "train: 100%|██████████| 5/5 [00:01<00:00,  3.60batch/s, contrastive loss =2.03, reconstruction loss=0.00884]\n",
      "train: 100%|██████████| 5/5 [00:01<00:00,  3.37batch/s, contrastive loss =1.79, reconstruction loss=0.0119]\n",
      "train: 100%|██████████| 5/5 [00:01<00:00,  3.74batch/s, contrastive loss =1.85, reconstruction loss=0.0233]\n",
      "train: 100%|██████████| 5/5 [00:01<00:00,  3.62batch/s, contrastive loss =1.93, reconstruction loss=0.0109]\n",
      "train: 100%|██████████| 5/5 [00:01<00:00,  3.61batch/s, contrastive loss =2.05, reconstruction loss=0.00751]\n",
      "                                                               \r"
     ]
    },
    {
     "data": {
      "image/png": "[encoded data removed]",
      "text/plain": [
       "<Figure size 640x480 with 1 Axes>"
      ]
     },
     "metadata": {},
     "output_type": "display_data"
    }
   ],
   "source": [
    "print(\"Initiate Skeleton dataset ... \")\n",
    "# prep_dir = './tmp/epoch50_randsample_input_mseloss.pt'\n",
    "prep_dir = './tmp/random_input_100_epochs.pt'\n",
    "\n",
    "# build Skeleton dataset \n",
    "skel_dt = SkeletonDataset(skeleton_mov, skeleton_Ids, action_dict, seq_len=config['seq_len'])\n",
    "skel_dl = DataLoader(skel_dt, batch_size=config['batch_size'], shuffle=True, pin_memory=True, drop_last=True)\n",
    "skel_n, skel_fts = skel_dt.getShape()\n",
    "\n",
    "# build AE Model \n",
    "# ae_model = BiLSTMEncDecModel(input_size=skel_fts, seq_len=skel_n, hidden_size=config['feat_size'], batch_size=config['batch_size'], ae_type='recursive', device=device)\n",
    "ae_model = SkeletonAE(seq_len=skel_n, input_size=skel_fts, hidden_size=512, linear_filters=[128,256,512], embedding_size=config['feat_size'], num_layers=1, bidirectional=True, batch_size=config['batch_size'], device=device)\n",
    "# ae_model = BiLSTMEncDecModel(seq_len=50, input_size=36, hidden_size=512, linear_filters=[128,256,512], embedding_size=256, num_layers=1,bidirectional=True,batch_size=32, device=device)\n",
    "ae_model.load_state_dict(torch.load(prep_dir))\n",
    "ae_model.to(device)\n",
    "\n",
    "# define AE run parameters \n",
    "ae_optim = Adam(ae_model.parameters(), lr=config['ae_lr'])\n",
    "ae_loss_module = {'contrast': SoftNearestNeighbours, 'recons': nn.MSELoss()}\n",
    "\n",
    "ae_train_data = []\n",
    "for epoch in tqdm(range(50), desc='Training Epoch', leave=False):\n",
    "    # train AE model \n",
    "    ae_train_metrics = ae_train_step1(ae_model, skel_dl, ae_optim, ae_loss_module, device, config['batch_size'], phase='train', loss_alpha=config['ae_alpha'])\n",
    "    ae_train_metrics['epoch'] = epoch\n",
    "    ae_train_data.append(ae_train_metrics)\n",
    "\n",
    "ae_train_df = pd.DataFrame().from_records(ae_train_data)\n",
    "\n",
    "# plot train metrics \n",
    "fig, ax = plt.subplots()\n",
    "\n",
    "ax.plot(ae_train_df['total_loss'], color = 'green', label = 'total_loss')\n",
    "ax.plot(ae_train_df['contrastive_loss'], color = 'red', label = 'contrastive_loss')\n",
    "ax.plot(ae_train_df['reconstruction_loss'], color = 'blue', label = 'reconstruction_loss')\n",
    "ax.legend(loc = 'upper right')\n",
    "plt.show()"
   ]
  },
  {
   "cell_type": "code",
   "execution_count": 44,
   "metadata": {},
   "outputs": [
    {
     "data": {
      "application/vnd.plotly.v1+json": {
       "config": {
        "plotlyServerURL": "https://plotly.com"
       },
       "data": [
        {
         "hoverlabel": {
          "namelength": 0
         },
         "hovertemplate": "action=lying<br>x=%{x}<br>y=%{y}",
         "legendgroup": "action=lying",
         "marker": {
          "color": "#636efa",
          "symbol": "circle"
         },
         "mode": "markers",
         "name": "action=lying",
         "showlegend": true,
         "type": "scatter",
         "x": [
          4.50693941116333,
          16.417530059814453,
          -10.263349533081055,
          1.7244960069656372,
          -8.356693267822266,
          -10.16741943359375,
          -9.46603012084961,
          2.280564546585083,
          -8.59218978881836,
          -7.333097457885742
         ],
         "xaxis": "x",
         "y": [
          11.522747993469238,
          23.00067710876465,
          12.363536834716797,
          4.1213812828063965,
          10.392521858215332,
          10.413372993469238,
          12.955617904663086,
          9.311749458312988,
          10.822385787963867,
          11.185239791870117
         ],
         "yaxis": "y"
        },
        {
         "hoverlabel": {
          "namelength": 0
         },
         "hovertemplate": "action=sitting<br>x=%{x}<br>y=%{y}",
         "legendgroup": "action=sitting",
         "marker": {
          "color": "#EF553B",
          "symbol": "circle"
         },
         "mode": "markers",
         "name": "action=sitting",
         "showlegend": true,
         "type": "scatter",
         "x": [
          -16.094261169433594,
          -17.47792625427246,
          -18.632219314575195,
          -16.37989616394043,
          -19.637168884277344,
          -15.666464805603027,
          -13.14626693725586,
          -16.906681060791016,
          3.6000473499298096,
          -17.622365951538086
         ],
         "xaxis": "x",
         "y": [
          -10.605547904968262,
          0.005663374438881874,
          -0.12479552626609802,
          -2.845951557159424,
          -1.3529698848724365,
          -3.2735307216644287,
          -0.00403669523075223,
          -1.1520787477493286,
          -3.172966241836548,
          -2.0359301567077637
         ],
         "yaxis": "y"
        },
        {
         "hoverlabel": {
          "namelength": 0
         },
         "hovertemplate": "action=standing<br>x=%{x}<br>y=%{y}",
         "legendgroup": "action=standing",
         "marker": {
          "color": "#00cc96",
          "symbol": "circle"
         },
         "mode": "markers",
         "name": "action=standing",
         "showlegend": true,
         "type": "scatter",
         "x": [
          1.4676158428192139,
          3.6204466819763184,
          3.1602234840393066,
          12.398215293884277,
          5.5402679443359375,
          3.3318428993225098,
          3.793962240219116,
          4.870132923126221,
          3.6660451889038086,
          1.5873697996139526
         ],
         "xaxis": "x",
         "y": [
          -9.491911888122559,
          -12.152852058410645,
          -13.261474609375,
          4.221155166625977,
          -13.556279182434082,
          -15.07585620880127,
          -8.703064918518066,
          -9.084227561950684,
          8.59095573425293,
          -15.059884071350098
         ],
         "yaxis": "y"
        },
        {
         "hoverlabel": {
          "namelength": 0
         },
         "hovertemplate": "action=walking<br>x=%{x}<br>y=%{y}",
         "legendgroup": "action=walking",
         "marker": {
          "color": "#ab63fa",
          "symbol": "circle"
         },
         "mode": "markers",
         "name": "action=walking",
         "showlegend": true,
         "type": "scatter",
         "x": [
          -5.181469917297363,
          0.37916404008865356,
          -7.395445346832275,
          -5.886053085327148,
          2.2193777561187744,
          2.284076452255249,
          -3.4108119010925293,
          -4.710514068603516,
          6.771058082580566,
          -5.93866491317749
         ],
         "xaxis": "x",
         "y": [
          -17.80672264099121,
          -4.89788293838501,
          -13.96826171875,
          -14.598095893859863,
          -19.363588333129883,
          -19.388452529907227,
          -3.8992035388946533,
          -8.665857315063477,
          -11.000333786010742,
          -12.545126914978027
         ],
         "yaxis": "y"
        },
        {
         "hoverlabel": {
          "namelength": 0
         },
         "hovertemplate": "action=running<br>x=%{x}<br>y=%{y}",
         "legendgroup": "action=running",
         "marker": {
          "color": "#FFA15A",
          "symbol": "circle"
         },
         "mode": "markers",
         "name": "action=running",
         "showlegend": true,
         "type": "scatter",
         "x": [
          -4.117396831512451,
          -13.232163429260254,
          -0.9615610241889954,
          -2.886957883834839,
          -19.348085403442383,
          -17.680334091186523,
          -1.5662508010864258,
          -0.7413961887359619,
          -3.0670325756073,
          -5.3457159996032715
         ],
         "xaxis": "x",
         "y": [
          -11.59068775177002,
          -8.632223129272461,
          -4.879814624786377,
          -11.21779727935791,
          -3.471937656402588,
          -6.339380264282227,
          -12.927454948425293,
          -7.471771717071533,
          -11.978997230529785,
          -15.761468887329102
         ],
         "yaxis": "y"
        },
        {
         "hoverlabel": {
          "namelength": 0
         },
         "hovertemplate": "action=cycling<br>x=%{x}<br>y=%{y}",
         "legendgroup": "action=cycling",
         "marker": {
          "color": "#19d3f3",
          "symbol": "circle"
         },
         "mode": "markers",
         "name": "action=cycling",
         "showlegend": true,
         "type": "scatter",
         "x": [
          -10.377668380737305,
          -11.097886085510254,
          -8.307903289794922,
          -5.9684014320373535,
          0.9672849178314209,
          -2.356814384460449,
          -6.901699066162109,
          -6.810026168823242,
          -7.251102924346924,
          -7.312729835510254
         ],
         "xaxis": "x",
         "y": [
          -4.525562286376953,
          -14.107998847961426,
          -3.967838764190674,
          -3.4594616889953613,
          1.5357955694198608,
          -5.342602252960205,
          -4.340087413787842,
          -4.622966766357422,
          -7.140532493591309,
          -8.88131046295166
         ],
         "yaxis": "y"
        },
        {
         "hoverlabel": {
          "namelength": 0
         },
         "hovertemplate": "action=Nordic walking<br>x=%{x}<br>y=%{y}",
         "legendgroup": "action=Nordic walking",
         "marker": {
          "color": "#FF6692",
          "symbol": "circle"
         },
         "mode": "markers",
         "name": "action=Nordic walking",
         "showlegend": true,
         "type": "scatter",
         "x": [
          -1.7715120315551758,
          -11.128534317016602,
          -7.7200775146484375,
          -8.854384422302246,
          -3.4124574661254883,
          -9.585186958312988,
          -3.15962815284729,
          -7.286729335784912,
          -2.4725558757781982,
          -9.328840255737305
         ],
         "xaxis": "x",
         "y": [
          -1.937599778175354,
          -9.977806091308594,
          -11.629117965698242,
          -12.866232872009277,
          -13.644329071044922,
          -13.220191955566406,
          -5.703873157501221,
          -12.428353309631348,
          -7.116627216339111,
          -10.505224227905273
         ],
         "yaxis": "y"
        },
        {
         "hoverlabel": {
          "namelength": 0
         },
         "hovertemplate": "action=watching TV<br>x=%{x}<br>y=%{y}",
         "legendgroup": "action=watching TV",
         "marker": {
          "color": "#B6E880",
          "symbol": "circle"
         },
         "mode": "markers",
         "name": "action=watching TV",
         "showlegend": true,
         "type": "scatter",
         "x": [
          7.172029972076416,
          10.50742244720459,
          5.485569477081299,
          9.226228713989258,
          10.115180969238281,
          11.323840141296387,
          11.387950897216797,
          13.399514198303223,
          6.435379981994629,
          12.322693824768066
         ],
         "xaxis": "x",
         "y": [
          7.8378424644470215,
          4.1778483390808105,
          9.479371070861816,
          14.055832862854004,
          5.596425533294678,
          5.333364009857178,
          3.2232472896575928,
          5.909026622772217,
          8.426133155822754,
          2.184375762939453
         ],
         "yaxis": "y"
        },
        {
         "hoverlabel": {
          "namelength": 0
         },
         "hovertemplate": "action=computer work<br>x=%{x}<br>y=%{y}",
         "legendgroup": "action=computer work",
         "marker": {
          "color": "#FF97FF",
          "symbol": "circle"
         },
         "mode": "markers",
         "name": "action=computer work",
         "showlegend": true,
         "type": "scatter",
         "x": [
          1.528967261314392,
          4.940598487854004,
          5.273136615753174,
          -2.127925395965576,
          10.427664756774902,
          9.659937858581543,
          -8.909981727600098,
          0.6052389740943909,
          3.746717691421509,
          9.226287841796875
         ],
         "xaxis": "x",
         "y": [
          3.0630311965942383,
          3.6402809619903564,
          4.478511333465576,
          -20.191884994506836,
          6.9142069816589355,
          4.445418834686279,
          3.421743154525757,
          21.511430740356445,
          7.056546211242676,
          2.9402761459350586
         ],
         "yaxis": "y"
        },
        {
         "hoverlabel": {
          "namelength": 0
         },
         "hovertemplate": "action=car driving<br>x=%{x}<br>y=%{y}",
         "legendgroup": "action=car driving",
         "marker": {
          "color": "#FECB52",
          "symbol": "circle"
         },
         "mode": "markers",
         "name": "action=car driving",
         "showlegend": true,
         "type": "scatter",
         "x": [
          -5.817783832550049,
          -4.540018558502197,
          -4.4501423835754395,
          0.08817914128303528,
          -0.5466037392616272,
          -5.11916446685791,
          -2.9581332206726074,
          -7.200405597686768,
          -9.269680976867676,
          -4.35670804977417
         ],
         "xaxis": "x",
         "y": [
          -0.07205052673816681,
          4.933007717132568,
          6.293774604797363,
          6.355912685394287,
          6.246082305908203,
          3.475841522216797,
          3.470545530319214,
          0.004875797778367996,
          -1.073542833328247,
          4.157065391540527
         ],
         "yaxis": "y"
        },
        {
         "hoverlabel": {
          "namelength": 0
         },
         "hovertemplate": "action=ascending stairs<br>x=%{x}<br>y=%{y}",
         "legendgroup": "action=ascending stairs",
         "marker": {
          "color": "#636efa",
          "symbol": "circle"
         },
         "mode": "markers",
         "name": "action=ascending stairs",
         "showlegend": true,
         "type": "scatter",
         "x": [
          7.93625545501709,
          6.964649677276611,
          11.192422866821289,
          -1.3911210298538208,
          7.52894401550293,
          8.084197998046875,
          8.951849937438965,
          8.177177429199219,
          11.202754974365234,
          8.43038272857666
         ],
         "xaxis": "x",
         "y": [
          -16.588966369628906,
          -16.12554168701172,
          -6.239614963531494,
          10.419807434082031,
          -14.411943435668945,
          -18.37566566467285,
          -6.446441173553467,
          -6.487757682800293,
          -6.32724142074585,
          -18.361026763916016
         ],
         "yaxis": "y"
        },
        {
         "hoverlabel": {
          "namelength": 0
         },
         "hovertemplate": "action=descending stairs<br>x=%{x}<br>y=%{y}",
         "legendgroup": "action=descending stairs",
         "marker": {
          "color": "#EF553B",
          "symbol": "circle"
         },
         "mode": "markers",
         "name": "action=descending stairs",
         "showlegend": true,
         "type": "scatter",
         "x": [
          -2.2320942878723145,
          -3.8948795795440674,
          9.322225570678711,
          -16.922637939453125,
          -2.951056480407715,
          -16.538713455200195,
          -16.115310668945312,
          -2.0225186347961426,
          -2.090395927429199,
          -3.5135741233825684
         ],
         "xaxis": "x",
         "y": [
          12.438032150268555,
          13.485183715820312,
          -15.498259544372559,
          -3.790755033493042,
          10.906968116760254,
          -5.657227039337158,
          -6.103324890136719,
          13.7371826171875,
          14.240943908691406,
          12.798569679260254
         ],
         "yaxis": "y"
        },
        {
         "hoverlabel": {
          "namelength": 0
         },
         "hovertemplate": "action=vacuum cleaning<br>x=%{x}<br>y=%{y}",
         "legendgroup": "action=vacuum cleaning",
         "marker": {
          "color": "#00cc96",
          "symbol": "circle"
         },
         "mode": "markers",
         "name": "action=vacuum cleaning",
         "showlegend": true,
         "type": "scatter",
         "x": [
          -4.779210090637207,
          -10.080204010009766,
          -2.0913562774658203,
          -5.279226303100586,
          -6.225695610046387,
          -5.590529441833496,
          -2.6258373260498047,
          -6.18900203704834,
          -10.05465316772461,
          -2.1527817249298096
         ],
         "xaxis": "x",
         "y": [
          19.592845916748047,
          -8.452589988708496,
          19.654476165771484,
          18.907814025878906,
          19.156963348388672,
          20.223495483398438,
          19.08323860168457,
          -10.544927597045898,
          -10.961122512817383,
          -8.671795845031738
         ],
         "yaxis": "y"
        },
        {
         "hoverlabel": {
          "namelength": 0
         },
         "hovertemplate": "action=ironing<br>x=%{x}<br>y=%{y}",
         "legendgroup": "action=ironing",
         "marker": {
          "color": "#ab63fa",
          "symbol": "circle"
         },
         "mode": "markers",
         "name": "action=ironing",
         "showlegend": true,
         "type": "scatter",
         "x": [
          3.5060925483703613,
          7.348466396331787,
          2.2103819847106934,
          12.049410820007324,
          7.535468101501465,
          0.6292275190353394,
          -3.4558839797973633,
          -2.465602397918701,
          -0.23604004085063934,
          -0.5280678868293762
         ],
         "xaxis": "x",
         "y": [
          18.119104385375977,
          16.90731430053711,
          18.735492706298828,
          10.754088401794434,
          18.855796813964844,
          19.27252960205078,
          22.198740005493164,
          22.00908088684082,
          18.738000869750977,
          20.09166145324707
         ],
         "yaxis": "y"
        },
        {
         "hoverlabel": {
          "namelength": 0
         },
         "hovertemplate": "action=folding laundry<br>x=%{x}<br>y=%{y}",
         "legendgroup": "action=folding laundry",
         "marker": {
          "color": "#FFA15A",
          "symbol": "circle"
         },
         "mode": "markers",
         "name": "action=folding laundry",
         "showlegend": true,
         "type": "scatter",
         "x": [
          9.423182487487793,
          12.810622215270996,
          11.558618545532227,
          9.625985145568848,
          10.11090087890625,
          12.002535820007324,
          10.620429039001465,
          13.371434211730957,
          13.0429048538208,
          10.051114082336426
         ],
         "xaxis": "x",
         "y": [
          19.02826690673828,
          9.648366928100586,
          15.080894470214844,
          12.48242473602295,
          14.596503257751465,
          13.36288070678711,
          13.228514671325684,
          16.255619049072266,
          14.35995101928711,
          15.345630645751953
         ],
         "yaxis": "y"
        },
        {
         "hoverlabel": {
          "namelength": 0
         },
         "hovertemplate": "action=house cleaning<br>x=%{x}<br>y=%{y}",
         "legendgroup": "action=house cleaning",
         "marker": {
          "color": "#19d3f3",
          "symbol": "circle"
         },
         "mode": "markers",
         "name": "action=house cleaning",
         "showlegend": true,
         "type": "scatter",
         "x": [
          3.893803834915161,
          4.7498459815979,
          10.797399520874023,
          12.860469818115234,
          15.068733215332031,
          14.396554946899414,
          13.41019058227539,
          12.539621353149414,
          15.016470909118652,
          13.512045860290527
         ],
         "xaxis": "x",
         "y": [
          -7.0211029052734375,
          9.92518138885498,
          19.16674041748047,
          22.13123321533203,
          20.5471248626709,
          21.412946701049805,
          18.74761199951172,
          19.574087142944336,
          22.219879150390625,
          22.551963806152344
         ],
         "yaxis": "y"
        },
        {
         "hoverlabel": {
          "namelength": 0
         },
         "hovertemplate": "action=playing soccer<br>x=%{x}<br>y=%{y}",
         "legendgroup": "action=playing soccer",
         "marker": {
          "color": "#FF6692",
          "symbol": "circle"
         },
         "mode": "markers",
         "name": "action=playing soccer",
         "showlegend": true,
         "type": "scatter",
         "x": [
          1.803498387336731,
          -12.768280029296875,
          7.050904750823975,
          -9.24007511138916,
          -0.6217352747917175,
          -10.679485321044922,
          -3.7791640758514404,
          6.908506870269775,
          -11.234025955200195,
          0.9717374444007874
         ],
         "xaxis": "x",
         "y": [
          -13.874356269836426,
          -12.292917251586914,
          -1.180806040763855,
          -16.173471450805664,
          -9.95995807647705,
          -19.203330993652344,
          -6.851982116699219,
          -9.029973983764648,
          -18.48320960998535,
          -11.602614402770996
         ],
         "yaxis": "y"
        },
        {
         "hoverlabel": {
          "namelength": 0
         },
         "hovertemplate": "action=rope jumping<br>x=%{x}<br>y=%{y}",
         "legendgroup": "action=rope jumping",
         "marker": {
          "color": "#B6E880",
          "symbol": "circle"
         },
         "mode": "markers",
         "name": "action=rope jumping",
         "showlegend": true,
         "type": "scatter",
         "x": [
          -6.730294704437256,
          -6.1257147789001465,
          -8.420214653015137,
          -3.0155599117279053,
          -3.3065028190612793,
          -6.791194915771484,
          -6.523911476135254,
          -7.918632507324219,
          -5.785704135894775,
          -5.536571025848389
         ],
         "xaxis": "x",
         "y": [
          -17.21405792236328,
          -23.982309341430664,
          -18.97220230102539,
          -16.523212432861328,
          -19.707721710205078,
          -18.9666805267334,
          -22.742961883544922,
          -22.8787899017334,
          -23.301342010498047,
          -19.83679962158203
         ],
         "yaxis": "y"
        }
       ],
       "layout": {
        "height": 800,
        "legend": {
         "tracegroupgap": 0
        },
        "template": {
         "data": {
          "bar": [
           {
            "error_x": {
             "color": "#2a3f5f"
            },
            "error_y": {
             "color": "#2a3f5f"
            },
            "marker": {
             "line": {
              "color": "#E5ECF6",
              "width": 0.5
             }
            },
            "type": "bar"
           }
          ],
          "barpolar": [
           {
            "marker": {
             "line": {
              "color": "#E5ECF6",
              "width": 0.5
             }
            },
            "type": "barpolar"
           }
          ],
          "carpet": [
           {
            "aaxis": {
             "endlinecolor": "#2a3f5f",
             "gridcolor": "white",
             "linecolor": "white",
             "minorgridcolor": "white",
             "startlinecolor": "#2a3f5f"
            },
            "baxis": {
             "endlinecolor": "#2a3f5f",
             "gridcolor": "white",
             "linecolor": "white",
             "minorgridcolor": "white",
             "startlinecolor": "#2a3f5f"
            },
            "type": "carpet"
           }
          ],
          "choropleth": [
           {
            "colorbar": {
             "outlinewidth": 0,
             "ticks": ""
            },
            "type": "choropleth"
           }
          ],
          "contour": [
           {
            "colorbar": {
             "outlinewidth": 0,
             "ticks": ""
            },
            "colorscale": [
             [
              0,
              "#0d0887"
             ],
             [
              0.1111111111111111,
              "#46039f"
             ],
             [
              0.2222222222222222,
              "#7201a8"
             ],
             [
              0.3333333333333333,
              "#9c179e"
             ],
             [
              0.4444444444444444,
              "#bd3786"
             ],
             [
              0.5555555555555556,
              "#d8576b"
             ],
             [
              0.6666666666666666,
              "#ed7953"
             ],
             [
              0.7777777777777778,
              "#fb9f3a"
             ],
             [
              0.8888888888888888,
              "#fdca26"
             ],
             [
              1,
              "#f0f921"
             ]
            ],
            "type": "contour"
           }
          ],
          "contourcarpet": [
           {
            "colorbar": {
             "outlinewidth": 0,
             "ticks": ""
            },
            "type": "contourcarpet"
           }
          ],
          "heatmap": [
           {
            "colorbar": {
             "outlinewidth": 0,
             "ticks": ""
            },
            "colorscale": [
             [
              0,
              "#0d0887"
             ],
             [
              0.1111111111111111,
              "#46039f"
             ],
             [
              0.2222222222222222,
              "#7201a8"
             ],
             [
              0.3333333333333333,
              "#9c179e"
             ],
             [
              0.4444444444444444,
              "#bd3786"
             ],
             [
              0.5555555555555556,
              "#d8576b"
             ],
             [
              0.6666666666666666,
              "#ed7953"
             ],
             [
              0.7777777777777778,
              "#fb9f3a"
             ],
             [
              0.8888888888888888,
              "#fdca26"
             ],
             [
              1,
              "#f0f921"
             ]
            ],
            "type": "heatmap"
           }
          ],
          "heatmapgl": [
           {
            "colorbar": {
             "outlinewidth": 0,
             "ticks": ""
            },
            "colorscale": [
             [
              0,
              "#0d0887"
             ],
             [
              0.1111111111111111,
              "#46039f"
             ],
             [
              0.2222222222222222,
              "#7201a8"
             ],
             [
              0.3333333333333333,
              "#9c179e"
             ],
             [
              0.4444444444444444,
              "#bd3786"
             ],
             [
              0.5555555555555556,
              "#d8576b"
             ],
             [
              0.6666666666666666,
              "#ed7953"
             ],
             [
              0.7777777777777778,
              "#fb9f3a"
             ],
             [
              0.8888888888888888,
              "#fdca26"
             ],
             [
              1,
              "#f0f921"
             ]
            ],
            "type": "heatmapgl"
           }
          ],
          "histogram": [
           {
            "marker": {
             "colorbar": {
              "outlinewidth": 0,
              "ticks": ""
             }
            },
            "type": "histogram"
           }
          ],
          "histogram2d": [
           {
            "colorbar": {
             "outlinewidth": 0,
             "ticks": ""
            },
            "colorscale": [
             [
              0,
              "#0d0887"
             ],
             [
              0.1111111111111111,
              "#46039f"
             ],
             [
              0.2222222222222222,
              "#7201a8"
             ],
             [
              0.3333333333333333,
              "#9c179e"
             ],
             [
              0.4444444444444444,
              "#bd3786"
             ],
             [
              0.5555555555555556,
              "#d8576b"
             ],
             [
              0.6666666666666666,
              "#ed7953"
             ],
             [
              0.7777777777777778,
              "#fb9f3a"
             ],
             [
              0.8888888888888888,
              "#fdca26"
             ],
             [
              1,
              "#f0f921"
             ]
            ],
            "type": "histogram2d"
           }
          ],
          "histogram2dcontour": [
           {
            "colorbar": {
             "outlinewidth": 0,
             "ticks": ""
            },
            "colorscale": [
             [
              0,
              "#0d0887"
             ],
             [
              0.1111111111111111,
              "#46039f"
             ],
             [
              0.2222222222222222,
              "#7201a8"
             ],
             [
              0.3333333333333333,
              "#9c179e"
             ],
             [
              0.4444444444444444,
              "#bd3786"
             ],
             [
              0.5555555555555556,
              "#d8576b"
             ],
             [
              0.6666666666666666,
              "#ed7953"
             ],
             [
              0.7777777777777778,
              "#fb9f3a"
             ],
             [
              0.8888888888888888,
              "#fdca26"
             ],
             [
              1,
              "#f0f921"
             ]
            ],
            "type": "histogram2dcontour"
           }
          ],
          "mesh3d": [
           {
            "colorbar": {
             "outlinewidth": 0,
             "ticks": ""
            },
            "type": "mesh3d"
           }
          ],
          "parcoords": [
           {
            "line": {
             "colorbar": {
              "outlinewidth": 0,
              "ticks": ""
             }
            },
            "type": "parcoords"
           }
          ],
          "pie": [
           {
            "automargin": true,
            "type": "pie"
           }
          ],
          "scatter": [
           {
            "marker": {
             "colorbar": {
              "outlinewidth": 0,
              "ticks": ""
             }
            },
            "type": "scatter"
           }
          ],
          "scatter3d": [
           {
            "line": {
             "colorbar": {
              "outlinewidth": 0,
              "ticks": ""
             }
            },
            "marker": {
             "colorbar": {
              "outlinewidth": 0,
              "ticks": ""
             }
            },
            "type": "scatter3d"
           }
          ],
          "scattercarpet": [
           {
            "marker": {
             "colorbar": {
              "outlinewidth": 0,
              "ticks": ""
             }
            },
            "type": "scattercarpet"
           }
          ],
          "scattergeo": [
           {
            "marker": {
             "colorbar": {
              "outlinewidth": 0,
              "ticks": ""
             }
            },
            "type": "scattergeo"
           }
          ],
          "scattergl": [
           {
            "marker": {
             "colorbar": {
              "outlinewidth": 0,
              "ticks": ""
             }
            },
            "type": "scattergl"
           }
          ],
          "scattermapbox": [
           {
            "marker": {
             "colorbar": {
              "outlinewidth": 0,
              "ticks": ""
             }
            },
            "type": "scattermapbox"
           }
          ],
          "scatterpolar": [
           {
            "marker": {
             "colorbar": {
              "outlinewidth": 0,
              "ticks": ""
             }
            },
            "type": "scatterpolar"
           }
          ],
          "scatterpolargl": [
           {
            "marker": {
             "colorbar": {
              "outlinewidth": 0,
              "ticks": ""
             }
            },
            "type": "scatterpolargl"
           }
          ],
          "scatterternary": [
           {
            "marker": {
             "colorbar": {
              "outlinewidth": 0,
              "ticks": ""
             }
            },
            "type": "scatterternary"
           }
          ],
          "surface": [
           {
            "colorbar": {
             "outlinewidth": 0,
             "ticks": ""
            },
            "colorscale": [
             [
              0,
              "#0d0887"
             ],
             [
              0.1111111111111111,
              "#46039f"
             ],
             [
              0.2222222222222222,
              "#7201a8"
             ],
             [
              0.3333333333333333,
              "#9c179e"
             ],
             [
              0.4444444444444444,
              "#bd3786"
             ],
             [
              0.5555555555555556,
              "#d8576b"
             ],
             [
              0.6666666666666666,
              "#ed7953"
             ],
             [
              0.7777777777777778,
              "#fb9f3a"
             ],
             [
              0.8888888888888888,
              "#fdca26"
             ],
             [
              1,
              "#f0f921"
             ]
            ],
            "type": "surface"
           }
          ],
          "table": [
           {
            "cells": {
             "fill": {
              "color": "#EBF0F8"
             },
             "line": {
              "color": "white"
             }
            },
            "header": {
             "fill": {
              "color": "#C8D4E3"
             },
             "line": {
              "color": "white"
             }
            },
            "type": "table"
           }
          ]
         },
         "layout": {
          "annotationdefaults": {
           "arrowcolor": "#2a3f5f",
           "arrowhead": 0,
           "arrowwidth": 1
          },
          "coloraxis": {
           "colorbar": {
            "outlinewidth": 0,
            "ticks": ""
           }
          },
          "colorscale": {
           "diverging": [
            [
             0,
             "#8e0152"
            ],
            [
             0.1,
             "#c51b7d"
            ],
            [
             0.2,
             "#de77ae"
            ],
            [
             0.3,
             "#f1b6da"
            ],
            [
             0.4,
             "#fde0ef"
            ],
            [
             0.5,
             "#f7f7f7"
            ],
            [
             0.6,
             "#e6f5d0"
            ],
            [
             0.7,
             "#b8e186"
            ],
            [
             0.8,
             "#7fbc41"
            ],
            [
             0.9,
             "#4d9221"
            ],
            [
             1,
             "#276419"
            ]
           ],
           "sequential": [
            [
             0,
             "#0d0887"
            ],
            [
             0.1111111111111111,
             "#46039f"
            ],
            [
             0.2222222222222222,
             "#7201a8"
            ],
            [
             0.3333333333333333,
             "#9c179e"
            ],
            [
             0.4444444444444444,
             "#bd3786"
            ],
            [
             0.5555555555555556,
             "#d8576b"
            ],
            [
             0.6666666666666666,
             "#ed7953"
            ],
            [
             0.7777777777777778,
             "#fb9f3a"
            ],
            [
             0.8888888888888888,
             "#fdca26"
            ],
            [
             1,
             "#f0f921"
            ]
           ],
           "sequentialminus": [
            [
             0,
             "#0d0887"
            ],
            [
             0.1111111111111111,
             "#46039f"
            ],
            [
             0.2222222222222222,
             "#7201a8"
            ],
            [
             0.3333333333333333,
             "#9c179e"
            ],
            [
             0.4444444444444444,
             "#bd3786"
            ],
            [
             0.5555555555555556,
             "#d8576b"
            ],
            [
             0.6666666666666666,
             "#ed7953"
            ],
            [
             0.7777777777777778,
             "#fb9f3a"
            ],
            [
             0.8888888888888888,
             "#fdca26"
            ],
            [
             1,
             "#f0f921"
            ]
           ]
          },
          "colorway": [
           "#636efa",
           "#EF553B",
           "#00cc96",
           "#ab63fa",
           "#FFA15A",
           "#19d3f3",
           "#FF6692",
           "#B6E880",
           "#FF97FF",
           "#FECB52"
          ],
          "font": {
           "color": "#2a3f5f"
          },
          "geo": {
           "bgcolor": "white",
           "lakecolor": "white",
           "landcolor": "#E5ECF6",
           "showlakes": true,
           "showland": true,
           "subunitcolor": "white"
          },
          "hoverlabel": {
           "align": "left"
          },
          "hovermode": "closest",
          "mapbox": {
           "style": "light"
          },
          "paper_bgcolor": "white",
          "plot_bgcolor": "#E5ECF6",
          "polar": {
           "angularaxis": {
            "gridcolor": "white",
            "linecolor": "white",
            "ticks": ""
           },
           "bgcolor": "#E5ECF6",
           "radialaxis": {
            "gridcolor": "white",
            "linecolor": "white",
            "ticks": ""
           }
          },
          "scene": {
           "xaxis": {
            "backgroundcolor": "#E5ECF6",
            "gridcolor": "white",
            "gridwidth": 2,
            "linecolor": "white",
            "showbackground": true,
            "ticks": "",
            "zerolinecolor": "white"
           },
           "yaxis": {
            "backgroundcolor": "#E5ECF6",
            "gridcolor": "white",
            "gridwidth": 2,
            "linecolor": "white",
            "showbackground": true,
            "ticks": "",
            "zerolinecolor": "white"
           },
           "zaxis": {
            "backgroundcolor": "#E5ECF6",
            "gridcolor": "white",
            "gridwidth": 2,
            "linecolor": "white",
            "showbackground": true,
            "ticks": "",
            "zerolinecolor": "white"
           }
          },
          "shapedefaults": {
           "line": {
            "color": "#2a3f5f"
           }
          },
          "ternary": {
           "aaxis": {
            "gridcolor": "white",
            "linecolor": "white",
            "ticks": ""
           },
           "baxis": {
            "gridcolor": "white",
            "linecolor": "white",
            "ticks": ""
           },
           "bgcolor": "#E5ECF6",
           "caxis": {
            "gridcolor": "white",
            "linecolor": "white",
            "ticks": ""
           }
          },
          "title": {
           "x": 0.05
          },
          "xaxis": {
           "automargin": true,
           "gridcolor": "white",
           "linecolor": "white",
           "ticks": "",
           "title": {
            "standoff": 15
           },
           "zerolinecolor": "white",
           "zerolinewidth": 2
          },
          "yaxis": {
           "automargin": true,
           "gridcolor": "white",
           "linecolor": "white",
           "ticks": "",
           "title": {
            "standoff": 15
           },
           "zerolinecolor": "white",
           "zerolinewidth": 2
          }
         }
        },
        "title": {
         "text": "t-SNE"
        },
        "width": 800,
        "xaxis": {
         "anchor": "y",
         "domain": [
          0,
          1
         ],
         "title": {
          "text": "x"
         }
        },
        "yaxis": {
         "anchor": "x",
         "domain": [
          0,
          1
         ],
         "title": {
          "text": "y"
         }
        }
       }
      }
     },
     "metadata": {},
     "output_type": "display_data"
    },
    {
     "data": {
      "application/vnd.plotly.v1+json": {
       "config": {
        "plotlyServerURL": "https://plotly.com"
       },
       "data": [
        {
         "hoverlabel": {
          "namelength": 0
         },
         "hovertemplate": "action=lying<br>x=%{x}<br>y=%{y}",
         "legendgroup": "action=lying",
         "marker": {
          "color": "#636efa",
          "symbol": "circle"
         },
         "mode": "markers",
         "name": "action=lying",
         "showlegend": true,
         "type": "scatter",
         "x": [
          11.85668659210205,
          12.590888023376465,
          10.252187728881836,
          10.714129447937012,
          10.585447311401367,
          10.403398513793945,
          10.107268333435059,
          12.133016586303711,
          10.533819198608398,
          10.48139476776123
         ],
         "xaxis": "x",
         "y": [
          4.055579662322998,
          4.599287033081055,
          1.617464303970337,
          2.609229803085327,
          1.658257246017456,
          1.5508904457092285,
          1.475213885307312,
          2.047981023788452,
          1.43767511844635,
          1.6719822883605957
         ],
         "yaxis": "y"
        },
        {
         "hoverlabel": {
          "namelength": 0
         },
         "hovertemplate": "action=sitting<br>x=%{x}<br>y=%{y}",
         "legendgroup": "action=sitting",
         "marker": {
          "color": "#EF553B",
          "symbol": "circle"
         },
         "mode": "markers",
         "name": "action=sitting",
         "showlegend": true,
         "type": "scatter",
         "x": [
          13.229310035705566,
          14.357881546020508,
          14.660091400146484,
          14.42258358001709,
          14.775229454040527,
          14.104386329650879,
          12.911714553833008,
          14.461725234985352,
          11.916756629943848,
          14.520045280456543
         ],
         "xaxis": "x",
         "y": [
          1.1363089084625244,
          2.32231068611145,
          2.274383068084717,
          1.9426050186157227,
          2.1980795860290527,
          1.7475992441177368,
          2.3919246196746826,
          2.121610164642334,
          0.15482401847839355,
          2.0015335083007812
         ],
         "yaxis": "y"
        },
        {
         "hoverlabel": {
          "namelength": 0
         },
         "hovertemplate": "action=standing<br>x=%{x}<br>y=%{y}",
         "legendgroup": "action=standing",
         "marker": {
          "color": "#00cc96",
          "symbol": "circle"
         },
         "mode": "markers",
         "name": "action=standing",
         "showlegend": true,
         "type": "scatter",
         "x": [
          12.532190322875977,
          11.585147857666016,
          12.257240295410156,
          12.003279685974121,
          12.453213691711426,
          12.621856689453125,
          12.19311237335205,
          12.221755981445312,
          11.53161907196045,
          12.720470428466797
         ],
         "xaxis": "x",
         "y": [
          -0.609678328037262,
          -0.3001708686351776,
          -1.2845525741577148,
          3.3778772354125977,
          -1.2275437116622925,
          -1.4253227710723877,
          -0.8882523775100708,
          -0.9196876287460327,
          2.3133420944213867,
          -1.24759840965271
         ],
         "yaxis": "y"
        },
        {
         "hoverlabel": {
          "namelength": 0
         },
         "hovertemplate": "action=walking<br>x=%{x}<br>y=%{y}",
         "legendgroup": "action=walking",
         "marker": {
          "color": "#ab63fa",
          "symbol": "circle"
         },
         "mode": "markers",
         "name": "action=walking",
         "showlegend": true,
         "type": "scatter",
         "x": [
          13.53754997253418,
          12.519062995910645,
          13.640839576721191,
          13.55809211730957,
          13.197090148925781,
          13.160420417785645,
          12.185098648071289,
          12.86414909362793,
          12.275622367858887,
          13.20849609375
         ],
         "xaxis": "x",
         "y": [
          -1.2581243515014648,
          0.4408887028694153,
          -0.5163203477859497,
          -0.6648733019828796,
          -0.8785142302513123,
          -0.8019514679908752,
          0.7364115715026855,
          -0.2459617257118225,
          -1.152028203010559,
          -0.6128985285758972
         ],
         "yaxis": "y"
        },
        {
         "hoverlabel": {
          "namelength": 0
         },
         "hovertemplate": "action=running<br>x=%{x}<br>y=%{y}",
         "legendgroup": "action=running",
         "marker": {
          "color": "#FFA15A",
          "symbol": "circle"
         },
         "mode": "markers",
         "name": "action=running",
         "showlegend": true,
         "type": "scatter",
         "x": [
          13.397309303283691,
          14.310325622558594,
          12.5653715133667,
          13.241230964660645,
          14.652737617492676,
          14.461760520935059,
          13.046806335449219,
          12.425093650817871,
          13.217127799987793,
          13.270061492919922
         ],
         "xaxis": "x",
         "y": [
          0.5146414041519165,
          1.0953445434570312,
          0.8755495548248291,
          0.5629841089248657,
          2.007539749145508,
          1.6310771703720093,
          0.7497422099113464,
          0.18281400203704834,
          0.6669149994850159,
          0.24810585379600525
         ],
         "yaxis": "y"
        },
        {
         "hoverlabel": {
          "namelength": 0
         },
         "hovertemplate": "action=cycling<br>x=%{x}<br>y=%{y}",
         "legendgroup": "action=cycling",
         "marker": {
          "color": "#19d3f3",
          "symbol": "circle"
         },
         "mode": "markers",
         "name": "action=cycling",
         "showlegend": true,
         "type": "scatter",
         "x": [
          13.272879600524902,
          14.254711151123047,
          12.850632667541504,
          12.323857307434082,
          12.331741333007812,
          12.083357810974121,
          12.586186408996582,
          12.668045997619629,
          13.225116729736328,
          13.49168872833252
         ],
         "xaxis": "x",
         "y": [
          1.490112543106079,
          0.0838182270526886,
          1.5773940086364746,
          1.530693769454956,
          2.0830929279327393,
          0.5732886791229248,
          1.70618736743927,
          1.7577311992645264,
          0.06217385083436966,
          -0.11941386759281158
         ],
         "yaxis": "y"
        },
        {
         "hoverlabel": {
          "namelength": 0
         },
         "hovertemplate": "action=Nordic walking<br>x=%{x}<br>y=%{y}",
         "legendgroup": "action=Nordic walking",
         "marker": {
          "color": "#FF6692",
          "symbol": "circle"
         },
         "mode": "markers",
         "name": "action=Nordic walking",
         "showlegend": true,
         "type": "scatter",
         "x": [
          12.769220352172852,
          14.015045166015625,
          13.501713752746582,
          14.02329158782959,
          13.444239616394043,
          14.188690185546875,
          12.44306468963623,
          13.503690719604492,
          12.695595741271973,
          13.789041519165039
         ],
         "xaxis": "x",
         "y": [
          0.19097250699996948,
          0.33857619762420654,
          -0.6020609140396118,
          -0.3245011568069458,
          0.7686092853546143,
          -0.25097233057022095,
          0.7648747563362122,
          -0.33668991923332214,
          -0.22399386763572693,
          0.21297432482242584
         ],
         "yaxis": "y"
        },
        {
         "hoverlabel": {
          "namelength": 0
         },
         "hovertemplate": "action=watching TV<br>x=%{x}<br>y=%{y}",
         "legendgroup": "action=watching TV",
         "marker": {
          "color": "#B6E880",
          "symbol": "circle"
         },
         "mode": "markers",
         "name": "action=watching TV",
         "showlegend": true,
         "type": "scatter",
         "x": [
          11.473261833190918,
          11.92814826965332,
          11.947066307067871,
          11.116016387939453,
          11.601705551147461,
          11.949419975280762,
          11.81304931640625,
          12.040213584899902,
          11.702003479003906,
          11.689749717712402
         ],
         "xaxis": "x",
         "y": [
          3.8494601249694824,
          3.313312292098999,
          4.241189479827881,
          4.756542682647705,
          3.3697190284729004,
          3.5713717937469482,
          3.4315414428710938,
          3.548313856124878,
          3.983567476272583,
          3.2346529960632324
         ],
         "yaxis": "y"
        },
        {
         "hoverlabel": {
          "namelength": 0
         },
         "hovertemplate": "action=computer work<br>x=%{x}<br>y=%{y}",
         "legendgroup": "action=computer work",
         "marker": {
          "color": "#FF97FF",
          "symbol": "circle"
         },
         "mode": "markers",
         "name": "action=computer work",
         "showlegend": true,
         "type": "scatter",
         "x": [
          10.666394233703613,
          11.27749252319336,
          11.488664627075195,
          13.76107406616211,
          11.350724220275879,
          11.83909797668457,
          12.340161323547363,
          9.343381881713867,
          11.514381408691406,
          11.957036972045898
         ],
         "xaxis": "x",
         "y": [
          2.9002861976623535,
          2.8569302558898926,
          2.845106363296509,
          -0.965826690196991,
          3.740309476852417,
          3.2883710861206055,
          0.9074001908302307,
          3.5797278881073,
          2.4197564125061035,
          3.2272226810455322
         ],
         "yaxis": "y"
        },
        {
         "hoverlabel": {
          "namelength": 0
         },
         "hovertemplate": "action=car driving<br>x=%{x}<br>y=%{y}",
         "legendgroup": "action=car driving",
         "marker": {
          "color": "#FECB52",
          "symbol": "circle"
         },
         "mode": "markers",
         "name": "action=car driving",
         "showlegend": true,
         "type": "scatter",
         "x": [
          12.207420349121094,
          11.645888328552246,
          11.488329887390137,
          11.197103500366211,
          11.030315399169922,
          11.78953742980957,
          11.702346801757812,
          12.425368309020996,
          12.638227462768555,
          11.613661766052246
         ],
         "xaxis": "x",
         "y": [
          1.1638301610946655,
          1.710626482963562,
          1.8926016092300415,
          2.3628058433532715,
          2.2778608798980713,
          1.7269158363342285,
          1.7388488054275513,
          1.2837337255477905,
          1.1193950176239014,
          1.7728147506713867
         ],
         "yaxis": "y"
        },
        {
         "hoverlabel": {
          "namelength": 0
         },
         "hovertemplate": "action=ascending stairs<br>x=%{x}<br>y=%{y}",
         "legendgroup": "action=ascending stairs",
         "marker": {
          "color": "#636efa",
          "symbol": "circle"
         },
         "mode": "markers",
         "name": "action=ascending stairs",
         "showlegend": true,
         "type": "scatter",
         "x": [
          12.812583923339844,
          12.771697998046875,
          11.978728294372559,
          10.539857864379883,
          12.618525505065918,
          12.974185943603516,
          11.937600135803223,
          12.1216402053833,
          12.070250511169434,
          13.044233322143555
         ],
         "xaxis": "x",
         "y": [
          -1.8684149980545044,
          -1.8895026445388794,
          -0.28366947174072266,
          2.0943095684051514,
          -1.7470945119857788,
          -1.844071388244629,
          -0.4356413185596466,
          -0.35382795333862305,
          -0.3230648934841156,
          -1.785308599472046
         ],
         "yaxis": "y"
        },
        {
         "hoverlabel": {
          "namelength": 0
         },
         "hovertemplate": "action=descending stairs<br>x=%{x}<br>y=%{y}",
         "legendgroup": "action=descending stairs",
         "marker": {
          "color": "#EF553B",
          "symbol": "circle"
         },
         "mode": "markers",
         "name": "action=descending stairs",
         "showlegend": true,
         "type": "scatter",
         "x": [
          10.322132110595703,
          10.216428756713867,
          12.75094223022461,
          14.509186744689941,
          10.35572338104248,
          14.418952941894531,
          14.47201156616211,
          10.181655883789062,
          10.142477035522461,
          10.204254150390625
         ],
         "xaxis": "x",
         "y": [
          2.397573709487915,
          2.789559841156006,
          -1.871850848197937,
          1.851741075515747,
          2.223127841949463,
          1.6529841423034668,
          1.5125447511672974,
          2.6406443119049072,
          2.6585662364959717,
          2.3677709102630615
         ],
         "yaxis": "y"
        },
        {
         "hoverlabel": {
          "namelength": 0
         },
         "hovertemplate": "action=vacuum cleaning<br>x=%{x}<br>y=%{y}",
         "legendgroup": "action=vacuum cleaning",
         "marker": {
          "color": "#00cc96",
          "symbol": "circle"
         },
         "mode": "markers",
         "name": "action=vacuum cleaning",
         "showlegend": true,
         "type": "scatter",
         "x": [
          9.01756763458252,
          13.674996376037598,
          9.226663589477539,
          9.142431259155273,
          9.208860397338867,
          9.13404369354248,
          9.324886322021484,
          13.302729606628418,
          13.823885917663574,
          12.525544166564941
         ],
         "xaxis": "x",
         "y": [
          2.964357852935791,
          0.2690976560115814,
          3.1412763595581055,
          2.816210985183716,
          2.7256531715393066,
          2.848353147506714,
          3.2657272815704346,
          -0.16732987761497498,
          0.05736822634935379,
          0.4918418526649475
         ],
         "yaxis": "y"
        },
        {
         "hoverlabel": {
          "namelength": 0
         },
         "hovertemplate": "action=ironing<br>x=%{x}<br>y=%{y}",
         "legendgroup": "action=ironing",
         "marker": {
          "color": "#ab63fa",
          "symbol": "circle"
         },
         "mode": "markers",
         "name": "action=ironing",
         "showlegend": true,
         "type": "scatter",
         "x": [
          9.742185592651367,
          10.45817756652832,
          9.592105865478516,
          10.93761157989502,
          11.012774467468262,
          9.312092781066895,
          9.302755355834961,
          9.414480209350586,
          9.311505317687988,
          9.160229682922363
         ],
         "xaxis": "x",
         "y": [
          3.79433012008667,
          4.609022617340088,
          3.79249906539917,
          4.313809394836426,
          4.494706630706787,
          3.4420595169067383,
          2.987199544906616,
          3.101109504699707,
          3.487557888031006,
          3.379744529724121
         ],
         "yaxis": "y"
        },
        {
         "hoverlabel": {
          "namelength": 0
         },
         "hovertemplate": "action=folding laundry<br>x=%{x}<br>y=%{y}",
         "legendgroup": "action=folding laundry",
         "marker": {
          "color": "#FFA15A",
          "symbol": "circle"
         },
         "mode": "markers",
         "name": "action=folding laundry",
         "showlegend": true,
         "type": "scatter",
         "x": [
          11.340071678161621,
          11.077528953552246,
          10.976001739501953,
          10.887763023376465,
          10.84574031829834,
          11.094141006469727,
          11.06563949584961,
          11.316817283630371,
          10.964728355407715,
          10.78972339630127
         ],
         "xaxis": "x",
         "y": [
          4.567844390869141,
          4.2138824462890625,
          5.123985767364502,
          4.8149003982543945,
          4.825307369232178,
          5.001925468444824,
          4.709995269775391,
          5.10645866394043,
          5.035165786743164,
          4.913466453552246
         ],
         "yaxis": "y"
        },
        {
         "hoverlabel": {
          "namelength": 0
         },
         "hovertemplate": "action=house cleaning<br>x=%{x}<br>y=%{y}",
         "legendgroup": "action=house cleaning",
         "marker": {
          "color": "#19d3f3",
          "symbol": "circle"
         },
         "mode": "markers",
         "name": "action=house cleaning",
         "showlegend": true,
         "type": "scatter",
         "x": [
          12.336380958557129,
          12.125645637512207,
          11.731982231140137,
          12.306965827941895,
          12.274019241333008,
          12.437698364257812,
          11.856607437133789,
          11.959861755371094,
          12.343121528625488,
          12.310892105102539
         ],
         "xaxis": "x",
         "y": [
          -0.7430858016014099,
          4.175524711608887,
          4.689076900482178,
          4.798380374908447,
          5.046529769897461,
          4.8498711585998535,
          4.994600772857666,
          4.6839704513549805,
          4.830158233642578,
          4.9252610206604
         ],
         "yaxis": "y"
        },
        {
         "hoverlabel": {
          "namelength": 0
         },
         "hovertemplate": "action=playing soccer<br>x=%{x}<br>y=%{y}",
         "legendgroup": "action=playing soccer",
         "marker": {
          "color": "#FF6692",
          "symbol": "circle"
         },
         "mode": "markers",
         "name": "action=playing soccer",
         "showlegend": true,
         "type": "scatter",
         "x": [
          12.946588516235352,
          13.657551765441895,
          12.299134254455566,
          14.016072273254395,
          12.834244728088379,
          14.089929580688477,
          12.623786926269531,
          12.115288734436035,
          14.05488109588623,
          12.788501739501953
         ],
         "xaxis": "x",
         "y": [
          -1.2890225648880005,
          -0.25562795996665955,
          0.22217869758605957,
          -0.1094498336315155,
          -0.00211727456189692,
          -0.7026020884513855,
          0.5574255585670471,
          -0.953259289264679,
          -0.7814832925796509,
          -1.074981451034546
         ],
         "yaxis": "y"
        },
        {
         "hoverlabel": {
          "namelength": 0
         },
         "hovertemplate": "action=rope jumping<br>x=%{x}<br>y=%{y}",
         "legendgroup": "action=rope jumping",
         "marker": {
          "color": "#B6E880",
          "symbol": "circle"
         },
         "mode": "markers",
         "name": "action=rope jumping",
         "showlegend": true,
         "type": "scatter",
         "x": [
          13.7460298538208,
          14.523999214172363,
          14.078958511352539,
          12.999604225158691,
          14.001165390014648,
          14.165231704711914,
          14.477788925170898,
          14.624750137329102,
          14.56570816040039,
          14.092573165893555
         ],
         "xaxis": "x",
         "y": [
          -1.1198413372039795,
          -1.3255482912063599,
          -1.0976510047912598,
          -0.5088723301887512,
          -1.267564058303833,
          -1.0946449041366577,
          -1.3517200946807861,
          -1.2257119417190552,
          -1.319907546043396,
          -1.2089731693267822
         ],
         "yaxis": "y"
        }
       ],
       "layout": {
        "height": 800,
        "legend": {
         "tracegroupgap": 0
        },
        "template": {
         "data": {
          "bar": [
           {
            "error_x": {
             "color": "#2a3f5f"
            },
            "error_y": {
             "color": "#2a3f5f"
            },
            "marker": {
             "line": {
              "color": "#E5ECF6",
              "width": 0.5
             }
            },
            "type": "bar"
           }
          ],
          "barpolar": [
           {
            "marker": {
             "line": {
              "color": "#E5ECF6",
              "width": 0.5
             }
            },
            "type": "barpolar"
           }
          ],
          "carpet": [
           {
            "aaxis": {
             "endlinecolor": "#2a3f5f",
             "gridcolor": "white",
             "linecolor": "white",
             "minorgridcolor": "white",
             "startlinecolor": "#2a3f5f"
            },
            "baxis": {
             "endlinecolor": "#2a3f5f",
             "gridcolor": "white",
             "linecolor": "white",
             "minorgridcolor": "white",
             "startlinecolor": "#2a3f5f"
            },
            "type": "carpet"
           }
          ],
          "choropleth": [
           {
            "colorbar": {
             "outlinewidth": 0,
             "ticks": ""
            },
            "type": "choropleth"
           }
          ],
          "contour": [
           {
            "colorbar": {
             "outlinewidth": 0,
             "ticks": ""
            },
            "colorscale": [
             [
              0,
              "#0d0887"
             ],
             [
              0.1111111111111111,
              "#46039f"
             ],
             [
              0.2222222222222222,
              "#7201a8"
             ],
             [
              0.3333333333333333,
              "#9c179e"
             ],
             [
              0.4444444444444444,
              "#bd3786"
             ],
             [
              0.5555555555555556,
              "#d8576b"
             ],
             [
              0.6666666666666666,
              "#ed7953"
             ],
             [
              0.7777777777777778,
              "#fb9f3a"
             ],
             [
              0.8888888888888888,
              "#fdca26"
             ],
             [
              1,
              "#f0f921"
             ]
            ],
            "type": "contour"
           }
          ],
          "contourcarpet": [
           {
            "colorbar": {
             "outlinewidth": 0,
             "ticks": ""
            },
            "type": "contourcarpet"
           }
          ],
          "heatmap": [
           {
            "colorbar": {
             "outlinewidth": 0,
             "ticks": ""
            },
            "colorscale": [
             [
              0,
              "#0d0887"
             ],
             [
              0.1111111111111111,
              "#46039f"
             ],
             [
              0.2222222222222222,
              "#7201a8"
             ],
             [
              0.3333333333333333,
              "#9c179e"
             ],
             [
              0.4444444444444444,
              "#bd3786"
             ],
             [
              0.5555555555555556,
              "#d8576b"
             ],
             [
              0.6666666666666666,
              "#ed7953"
             ],
             [
              0.7777777777777778,
              "#fb9f3a"
             ],
             [
              0.8888888888888888,
              "#fdca26"
             ],
             [
              1,
              "#f0f921"
             ]
            ],
            "type": "heatmap"
           }
          ],
          "heatmapgl": [
           {
            "colorbar": {
             "outlinewidth": 0,
             "ticks": ""
            },
            "colorscale": [
             [
              0,
              "#0d0887"
             ],
             [
              0.1111111111111111,
              "#46039f"
             ],
             [
              0.2222222222222222,
              "#7201a8"
             ],
             [
              0.3333333333333333,
              "#9c179e"
             ],
             [
              0.4444444444444444,
              "#bd3786"
             ],
             [
              0.5555555555555556,
              "#d8576b"
             ],
             [
              0.6666666666666666,
              "#ed7953"
             ],
             [
              0.7777777777777778,
              "#fb9f3a"
             ],
             [
              0.8888888888888888,
              "#fdca26"
             ],
             [
              1,
              "#f0f921"
             ]
            ],
            "type": "heatmapgl"
           }
          ],
          "histogram": [
           {
            "marker": {
             "colorbar": {
              "outlinewidth": 0,
              "ticks": ""
             }
            },
            "type": "histogram"
           }
          ],
          "histogram2d": [
           {
            "colorbar": {
             "outlinewidth": 0,
             "ticks": ""
            },
            "colorscale": [
             [
              0,
              "#0d0887"
             ],
             [
              0.1111111111111111,
              "#46039f"
             ],
             [
              0.2222222222222222,
              "#7201a8"
             ],
             [
              0.3333333333333333,
              "#9c179e"
             ],
             [
              0.4444444444444444,
              "#bd3786"
             ],
             [
              0.5555555555555556,
              "#d8576b"
             ],
             [
              0.6666666666666666,
              "#ed7953"
             ],
             [
              0.7777777777777778,
              "#fb9f3a"
             ],
             [
              0.8888888888888888,
              "#fdca26"
             ],
             [
              1,
              "#f0f921"
             ]
            ],
            "type": "histogram2d"
           }
          ],
          "histogram2dcontour": [
           {
            "colorbar": {
             "outlinewidth": 0,
             "ticks": ""
            },
            "colorscale": [
             [
              0,
              "#0d0887"
             ],
             [
              0.1111111111111111,
              "#46039f"
             ],
             [
              0.2222222222222222,
              "#7201a8"
             ],
             [
              0.3333333333333333,
              "#9c179e"
             ],
             [
              0.4444444444444444,
              "#bd3786"
             ],
             [
              0.5555555555555556,
              "#d8576b"
             ],
             [
              0.6666666666666666,
              "#ed7953"
             ],
             [
              0.7777777777777778,
              "#fb9f3a"
             ],
             [
              0.8888888888888888,
              "#fdca26"
             ],
             [
              1,
              "#f0f921"
             ]
            ],
            "type": "histogram2dcontour"
           }
          ],
          "mesh3d": [
           {
            "colorbar": {
             "outlinewidth": 0,
             "ticks": ""
            },
            "type": "mesh3d"
           }
          ],
          "parcoords": [
           {
            "line": {
             "colorbar": {
              "outlinewidth": 0,
              "ticks": ""
             }
            },
            "type": "parcoords"
           }
          ],
          "pie": [
           {
            "automargin": true,
            "type": "pie"
           }
          ],
          "scatter": [
           {
            "marker": {
             "colorbar": {
              "outlinewidth": 0,
              "ticks": ""
             }
            },
            "type": "scatter"
           }
          ],
          "scatter3d": [
           {
            "line": {
             "colorbar": {
              "outlinewidth": 0,
              "ticks": ""
             }
            },
            "marker": {
             "colorbar": {
              "outlinewidth": 0,
              "ticks": ""
             }
            },
            "type": "scatter3d"
           }
          ],
          "scattercarpet": [
           {
            "marker": {
             "colorbar": {
              "outlinewidth": 0,
              "ticks": ""
             }
            },
            "type": "scattercarpet"
           }
          ],
          "scattergeo": [
           {
            "marker": {
             "colorbar": {
              "outlinewidth": 0,
              "ticks": ""
             }
            },
            "type": "scattergeo"
           }
          ],
          "scattergl": [
           {
            "marker": {
             "colorbar": {
              "outlinewidth": 0,
              "ticks": ""
             }
            },
            "type": "scattergl"
           }
          ],
          "scattermapbox": [
           {
            "marker": {
             "colorbar": {
              "outlinewidth": 0,
              "ticks": ""
             }
            },
            "type": "scattermapbox"
           }
          ],
          "scatterpolar": [
           {
            "marker": {
             "colorbar": {
              "outlinewidth": 0,
              "ticks": ""
             }
            },
            "type": "scatterpolar"
           }
          ],
          "scatterpolargl": [
           {
            "marker": {
             "colorbar": {
              "outlinewidth": 0,
              "ticks": ""
             }
            },
            "type": "scatterpolargl"
           }
          ],
          "scatterternary": [
           {
            "marker": {
             "colorbar": {
              "outlinewidth": 0,
              "ticks": ""
             }
            },
            "type": "scatterternary"
           }
          ],
          "surface": [
           {
            "colorbar": {
             "outlinewidth": 0,
             "ticks": ""
            },
            "colorscale": [
             [
              0,
              "#0d0887"
             ],
             [
              0.1111111111111111,
              "#46039f"
             ],
             [
              0.2222222222222222,
              "#7201a8"
             ],
             [
              0.3333333333333333,
              "#9c179e"
             ],
             [
              0.4444444444444444,
              "#bd3786"
             ],
             [
              0.5555555555555556,
              "#d8576b"
             ],
             [
              0.6666666666666666,
              "#ed7953"
             ],
             [
              0.7777777777777778,
              "#fb9f3a"
             ],
             [
              0.8888888888888888,
              "#fdca26"
             ],
             [
              1,
              "#f0f921"
             ]
            ],
            "type": "surface"
           }
          ],
          "table": [
           {
            "cells": {
             "fill": {
              "color": "#EBF0F8"
             },
             "line": {
              "color": "white"
             }
            },
            "header": {
             "fill": {
              "color": "#C8D4E3"
             },
             "line": {
              "color": "white"
             }
            },
            "type": "table"
           }
          ]
         },
         "layout": {
          "annotationdefaults": {
           "arrowcolor": "#2a3f5f",
           "arrowhead": 0,
           "arrowwidth": 1
          },
          "coloraxis": {
           "colorbar": {
            "outlinewidth": 0,
            "ticks": ""
           }
          },
          "colorscale": {
           "diverging": [
            [
             0,
             "#8e0152"
            ],
            [
             0.1,
             "#c51b7d"
            ],
            [
             0.2,
             "#de77ae"
            ],
            [
             0.3,
             "#f1b6da"
            ],
            [
             0.4,
             "#fde0ef"
            ],
            [
             0.5,
             "#f7f7f7"
            ],
            [
             0.6,
             "#e6f5d0"
            ],
            [
             0.7,
             "#b8e186"
            ],
            [
             0.8,
             "#7fbc41"
            ],
            [
             0.9,
             "#4d9221"
            ],
            [
             1,
             "#276419"
            ]
           ],
           "sequential": [
            [
             0,
             "#0d0887"
            ],
            [
             0.1111111111111111,
             "#46039f"
            ],
            [
             0.2222222222222222,
             "#7201a8"
            ],
            [
             0.3333333333333333,
             "#9c179e"
            ],
            [
             0.4444444444444444,
             "#bd3786"
            ],
            [
             0.5555555555555556,
             "#d8576b"
            ],
            [
             0.6666666666666666,
             "#ed7953"
            ],
            [
             0.7777777777777778,
             "#fb9f3a"
            ],
            [
             0.8888888888888888,
             "#fdca26"
            ],
            [
             1,
             "#f0f921"
            ]
           ],
           "sequentialminus": [
            [
             0,
             "#0d0887"
            ],
            [
             0.1111111111111111,
             "#46039f"
            ],
            [
             0.2222222222222222,
             "#7201a8"
            ],
            [
             0.3333333333333333,
             "#9c179e"
            ],
            [
             0.4444444444444444,
             "#bd3786"
            ],
            [
             0.5555555555555556,
             "#d8576b"
            ],
            [
             0.6666666666666666,
             "#ed7953"
            ],
            [
             0.7777777777777778,
             "#fb9f3a"
            ],
            [
             0.8888888888888888,
             "#fdca26"
            ],
            [
             1,
             "#f0f921"
            ]
           ]
          },
          "colorway": [
           "#636efa",
           "#EF553B",
           "#00cc96",
           "#ab63fa",
           "#FFA15A",
           "#19d3f3",
           "#FF6692",
           "#B6E880",
           "#FF97FF",
           "#FECB52"
          ],
          "font": {
           "color": "#2a3f5f"
          },
          "geo": {
           "bgcolor": "white",
           "lakecolor": "white",
           "landcolor": "#E5ECF6",
           "showlakes": true,
           "showland": true,
           "subunitcolor": "white"
          },
          "hoverlabel": {
           "align": "left"
          },
          "hovermode": "closest",
          "mapbox": {
           "style": "light"
          },
          "paper_bgcolor": "white",
          "plot_bgcolor": "#E5ECF6",
          "polar": {
           "angularaxis": {
            "gridcolor": "white",
            "linecolor": "white",
            "ticks": ""
           },
           "bgcolor": "#E5ECF6",
           "radialaxis": {
            "gridcolor": "white",
            "linecolor": "white",
            "ticks": ""
           }
          },
          "scene": {
           "xaxis": {
            "backgroundcolor": "#E5ECF6",
            "gridcolor": "white",
            "gridwidth": 2,
            "linecolor": "white",
            "showbackground": true,
            "ticks": "",
            "zerolinecolor": "white"
           },
           "yaxis": {
            "backgroundcolor": "#E5ECF6",
            "gridcolor": "white",
            "gridwidth": 2,
            "linecolor": "white",
            "showbackground": true,
            "ticks": "",
            "zerolinecolor": "white"
           },
           "zaxis": {
            "backgroundcolor": "#E5ECF6",
            "gridcolor": "white",
            "gridwidth": 2,
            "linecolor": "white",
            "showbackground": true,
            "ticks": "",
            "zerolinecolor": "white"
           }
          },
          "shapedefaults": {
           "line": {
            "color": "#2a3f5f"
           }
          },
          "ternary": {
           "aaxis": {
            "gridcolor": "white",
            "linecolor": "white",
            "ticks": ""
           },
           "baxis": {
            "gridcolor": "white",
            "linecolor": "white",
            "ticks": ""
           },
           "bgcolor": "#E5ECF6",
           "caxis": {
            "gridcolor": "white",
            "linecolor": "white",
            "ticks": ""
           }
          },
          "title": {
           "x": 0.05
          },
          "xaxis": {
           "automargin": true,
           "gridcolor": "white",
           "linecolor": "white",
           "ticks": "",
           "title": {
            "standoff": 15
           },
           "zerolinecolor": "white",
           "zerolinewidth": 2
          },
          "yaxis": {
           "automargin": true,
           "gridcolor": "white",
           "linecolor": "white",
           "ticks": "",
           "title": {
            "standoff": 15
           },
           "zerolinecolor": "white",
           "zerolinewidth": 2
          }
         }
        },
        "title": {
         "text": "UMAP"
        },
        "width": 800,
        "xaxis": {
         "anchor": "y",
         "domain": [
          0,
          1
         ],
         "title": {
          "text": "x"
         }
        },
        "yaxis": {
         "anchor": "x",
         "domain": [
          0,
          1
         ],
         "title": {
          "text": "y"
         }
        }
       }
      }
     },
     "metadata": {},
     "output_type": "display_data"
    }
   ],
   "source": [
    "val_actions, val_labels, val_lm = get_action_vector(ae_model, skel_dt, device, class_ids=range(18), class_names=dataReader.idToLabel)\n",
    "tsne_skel_plot = plot_tnse(val_actions, val_labels, val_lm)\n",
    "plot_umap(val_actions, val_labels, val_lm)"
   ]
  },
  {
   "cell_type": "code",
   "execution_count": null,
   "metadata": {},
   "outputs": [
    {
     "data": {
      "text/plain": [
       "'https://plotly.com/~nipdep/1/'"
      ]
     },
     "execution_count": 118,
     "metadata": {},
     "output_type": "execute_result"
    }
   ],
   "source": [
    "# py.plot(tsne_skel_plot, filename='TSNE_Skeleton_plot', auto_open=False)"
   ]
  },
  {
   "cell_type": "code",
   "execution_count": 76,
   "metadata": {},
   "outputs": [],
   "source": [
    "def plot_accVloss(train_data, val_data):\n",
    "    train_sdf = pd.DataFrame.from_records(train_data)\n",
    "    val_sdf = pd.DataFrame.from_records(val_data)\n",
    "\n",
    "    train_sdf['phase'] = 'train'\n",
    "    val_sdf['phase'] = 'validation'\n",
    "\n",
    "    all_sdf = pd.concat([train_sdf, val_sdf.loc[:, ['IMU loss', 'AE loss', 'accuracy', 'phase']]], axis=0)\n",
    "    all_sdf = all_sdf.rename_axis('epoch').reset_index()\n",
    "\n",
    "\n",
    "    fig, axes = plt.subplots(1, 3, figsize=(12, 6))\n",
    "    sns.lineplot(all_sdf, ax=axes[0], x='epoch', y='IMU loss', hue='phase')\n",
    "    sns.lineplot(all_sdf, ax=axes[1], x='epoch', y='AE loss', hue='phase')\n",
    "    sns.lineplot(all_sdf, ax=axes[2], x='epoch', y='accuracy', hue='phase')"
   ]
  },
  {
   "cell_type": "code",
   "execution_count": 46,
   "metadata": {},
   "outputs": [],
   "source": [
    "def gen_semantic_space(ft_dict):\n",
    "    action_ft = np.concatenate(list(ft_dict.values()), axis=0)\n",
    "\n",
    "    action_label = []\n",
    "    for i, k in enumerate(ft_dict.keys()):\n",
    "        action_label.extend([k,]*ft_dict[k].shape[0])\n",
    "\n",
    "    action_label = np.array(action_label)\n",
    "    return action_ft, action_label"
   ]
  },
  {
   "cell_type": "code",
   "execution_count": 47,
   "metadata": {},
   "outputs": [],
   "source": [
    "def over_plot_preds(gt_actions, gt_labels, pred_actions, pred_labels, Id2Label):\n",
    "    gt_n = gt_actions.shape[0]\n",
    "    pred_n = pred_actions.shape[0]\n",
    "\n",
    "    all_actions = np.concatenate([gt_actions, pred_actions])\n",
    "    all_labels = np.concatenate([gt_labels, pred_labels])\n",
    "    all_types = ['GT',]*gt_n + ['pred',]*pred_n\n",
    "\n",
    "    tnse = TSNE(n_components=2, init='random', learning_rate='auto', perplexity=15, n_iter=1000)\n",
    "    gt_data = tnse.fit_transform(all_actions)\n",
    "\n",
    "    gt_df = pd.DataFrame(data=gt_data, columns=['x', 'y'])\n",
    "    gt_df['label'] = all_labels \n",
    "    gt_df['action'] = gt_df['label'].map(val_lm)\n",
    "    gt_df['type'] = all_types\n",
    "\n",
    "    fig = px.scatter(gt_df, x='x', y='y', color='action', symbol='type', width=800, height=800, title='t-SNE')\n",
    "    fig.show()"
   ]
  },
  {
   "cell_type": "code",
   "execution_count": 75,
   "metadata": {},
   "outputs": [
    {
     "name": "stdout",
     "output_type": "stream",
     "text": [
      "Initiate IMU datasets ...\n",
      "Initial Models ...\n",
      "Start Models training ...\n"
     ]
    },
    {
     "name": "stderr",
     "output_type": "stream",
     "text": [
      "train: 100%|██████████| 523/523 [03:18<00:00,  2.63batch/s, IMU loss=0.0442, AE loss=0.000617, accuracy=0.844]\n",
      "seen: 100%|██████████| 130/130 [00:19<00:00,  6.65batch/s, IMU loss=0.0512, AE loss=0.46]\n"
     ]
    },
    {
     "data": {
      "image/png": "[encoded data removed]",
      "text/plain": [
       "<Figure size 640x480 with 2 Axes>"
      ]
     },
     "metadata": {},
     "output_type": "display_data"
    },
    {
     "name": "stderr",
     "output_type": "stream",
     "text": [
      "Training Epoch:  20%|██        | 1/5 [03:38<14:34, 218.68s/it]"
     ]
    },
    {
     "name": "stdout",
     "output_type": "stream",
     "text": [
      "Overall accuracy: 0.835\n",
      "\n"
     ]
    },
    {
     "name": "stderr",
     "output_type": "stream",
     "text": [
      "train: 100%|██████████| 523/523 [03:20<00:00,  2.61batch/s, IMU loss=0.0496, AE loss=0.000557, accuracy=0.781]\n",
      "seen: 100%|██████████| 130/130 [00:19<00:00,  6.58batch/s, IMU loss=0.0542, AE loss=0.489]\n"
     ]
    },
    {
     "data": {
      "image/png": "[encoded data removed]",
      "text/plain": [
       "<Figure size 640x480 with 2 Axes>"
      ]
     },
     "metadata": {},
     "output_type": "display_data"
    },
    {
     "name": "stderr",
     "output_type": "stream",
     "text": [
      "Training Epoch:  40%|████      | 2/5 [07:19<10:59, 219.91s/it]"
     ]
    },
    {
     "name": "stdout",
     "output_type": "stream",
     "text": [
      "Overall accuracy: 0.854\n",
      "\n"
     ]
    },
    {
     "name": "stderr",
     "output_type": "stream",
     "text": [
      "train: 100%|██████████| 523/523 [03:18<00:00,  2.64batch/s, IMU loss=0.0503, AE loss=0.000605, accuracy=0.844]\n",
      "seen: 100%|██████████| 130/130 [00:20<00:00,  6.45batch/s, IMU loss=0.0435, AE loss=0.391]\n"
     ]
    },
    {
     "data": {
      "image/png": "[encoded data removed]",
      "text/plain": [
       "<Figure size 640x480 with 2 Axes>"
      ]
     },
     "metadata": {},
     "output_type": "display_data"
    },
    {
     "name": "stderr",
     "output_type": "stream",
     "text": [
      "Training Epoch:  60%|██████    | 3/5 [10:58<07:18, 219.47s/it]"
     ]
    },
    {
     "name": "stdout",
     "output_type": "stream",
     "text": [
      "Overall accuracy: 0.871\n",
      "\n"
     ]
    },
    {
     "name": "stderr",
     "output_type": "stream",
     "text": [
      "train: 100%|██████████| 523/523 [03:18<00:00,  2.63batch/s, IMU loss=0.026, AE loss=0.000439, accuracy=0.906]\n",
      "seen: 100%|██████████| 130/130 [00:19<00:00,  6.55batch/s, IMU loss=0.0425, AE loss=0.382]\n"
     ]
    },
    {
     "data": {
      "image/png": "[encoded data removed]",
      "text/plain": [
       "<Figure size 640x480 with 2 Axes>"
      ]
     },
     "metadata": {},
     "output_type": "display_data"
    },
    {
     "name": "stderr",
     "output_type": "stream",
     "text": [
      "Training Epoch:  80%|████████  | 4/5 [14:37<03:39, 219.17s/it]"
     ]
    },
    {
     "name": "stdout",
     "output_type": "stream",
     "text": [
      "Overall accuracy: 0.867\n",
      "\n"
     ]
    },
    {
     "name": "stderr",
     "output_type": "stream",
     "text": [
      "train: 100%|██████████| 523/523 [03:25<00:00,  2.54batch/s, IMU loss=0.0514, AE loss=0.00043, accuracy=0.812]\n",
      "seen: 100%|██████████| 130/130 [00:20<00:00,  6.27batch/s, IMU loss=0.0468, AE loss=0.421]\n"
     ]
    },
    {
     "data": {
      "image/png": "[encoded data removed]",
      "text/plain": [
       "<Figure size 640x480 with 2 Axes>"
      ]
     },
     "metadata": {},
     "output_type": "display_data"
    },
    {
     "name": "stderr",
     "output_type": "stream",
     "text": [
      "                                                              "
     ]
    },
    {
     "name": "stdout",
     "output_type": "stream",
     "text": [
      "Overall accuracy: 0.859\n",
      "\n"
     ]
    },
    {
     "name": "stderr",
     "output_type": "stream",
     "text": [
      "\r"
     ]
    },
    {
     "ename": "KeyError",
     "evalue": "\"['loss'] not in index\"",
     "output_type": "error",
     "traceback": [
      "\u001b[1;31m---------------------------------------------------------------------------\u001b[0m",
      "\u001b[1;31mKeyError\u001b[0m                                  Traceback (most recent call last)",
      "Cell \u001b[1;32mIn [75], line 61\u001b[0m\n\u001b[0;32m     57\u001b[0m     \u001b[39mif\u001b[39;00m eval_metrics[\u001b[39m'\u001b[39m\u001b[39maccuracy\u001b[39m\u001b[39m'\u001b[39m] \u001b[39m>\u001b[39m best_acc:\n\u001b[0;32m     58\u001b[0m         imu_best_model \u001b[39m=\u001b[39m deepcopy(imu_model\u001b[39m.\u001b[39mstate_dict())\n\u001b[1;32m---> 61\u001b[0m plot_accVloss(fold_train_data, fold_val_data)\n\u001b[0;32m     62\u001b[0m \u001b[39m# replace by best model \u001b[39;00m\n\u001b[0;32m     63\u001b[0m imu_model\u001b[39m.\u001b[39mload_state_dict(imu_best_model)\n",
      "Cell \u001b[1;32mIn [45], line 8\u001b[0m, in \u001b[0;36mplot_accVloss\u001b[1;34m(train_data, val_data)\u001b[0m\n\u001b[0;32m      5\u001b[0m train_sdf[\u001b[39m'\u001b[39m\u001b[39mphase\u001b[39m\u001b[39m'\u001b[39m] \u001b[39m=\u001b[39m \u001b[39m'\u001b[39m\u001b[39mtrain\u001b[39m\u001b[39m'\u001b[39m\n\u001b[0;32m      6\u001b[0m val_sdf[\u001b[39m'\u001b[39m\u001b[39mphase\u001b[39m\u001b[39m'\u001b[39m] \u001b[39m=\u001b[39m \u001b[39m'\u001b[39m\u001b[39mvalidation\u001b[39m\u001b[39m'\u001b[39m\n\u001b[1;32m----> 8\u001b[0m all_sdf \u001b[39m=\u001b[39m pd\u001b[39m.\u001b[39mconcat([train_sdf, val_sdf\u001b[39m.\u001b[39;49mloc[:, [\u001b[39m'\u001b[39;49m\u001b[39mloss\u001b[39;49m\u001b[39m'\u001b[39;49m, \u001b[39m'\u001b[39;49m\u001b[39maccuracy\u001b[39;49m\u001b[39m'\u001b[39;49m, \u001b[39m'\u001b[39;49m\u001b[39mphase\u001b[39;49m\u001b[39m'\u001b[39;49m]]], axis\u001b[39m=\u001b[39m\u001b[39m0\u001b[39m)\n\u001b[0;32m      9\u001b[0m all_sdf \u001b[39m=\u001b[39m all_sdf\u001b[39m.\u001b[39mrename_axis(\u001b[39m'\u001b[39m\u001b[39mepoch\u001b[39m\u001b[39m'\u001b[39m)\u001b[39m.\u001b[39mreset_index()\n\u001b[0;32m     12\u001b[0m fig, axes \u001b[39m=\u001b[39m plt\u001b[39m.\u001b[39msubplots(\u001b[39m1\u001b[39m, \u001b[39m2\u001b[39m, figsize\u001b[39m=\u001b[39m(\u001b[39m12\u001b[39m, \u001b[39m6\u001b[39m))\n",
      "File \u001b[1;32mc:\\Users\\deela\\anaconda3\\envs\\mvts_trans\\lib\\site-packages\\pandas\\core\\indexing.py:961\u001b[0m, in \u001b[0;36m_LocationIndexer.__getitem__\u001b[1;34m(self, key)\u001b[0m\n\u001b[0;32m    959\u001b[0m     \u001b[39mif\u001b[39;00m \u001b[39mself\u001b[39m\u001b[39m.\u001b[39m_is_scalar_access(key):\n\u001b[0;32m    960\u001b[0m         \u001b[39mreturn\u001b[39;00m \u001b[39mself\u001b[39m\u001b[39m.\u001b[39mobj\u001b[39m.\u001b[39m_get_value(\u001b[39m*\u001b[39mkey, takeable\u001b[39m=\u001b[39m\u001b[39mself\u001b[39m\u001b[39m.\u001b[39m_takeable)\n\u001b[1;32m--> 961\u001b[0m     \u001b[39mreturn\u001b[39;00m \u001b[39mself\u001b[39;49m\u001b[39m.\u001b[39;49m_getitem_tuple(key)\n\u001b[0;32m    962\u001b[0m \u001b[39melse\u001b[39;00m:\n\u001b[0;32m    963\u001b[0m     \u001b[39m# we by definition only have the 0th axis\u001b[39;00m\n\u001b[0;32m    964\u001b[0m     axis \u001b[39m=\u001b[39m \u001b[39mself\u001b[39m\u001b[39m.\u001b[39maxis \u001b[39mor\u001b[39;00m \u001b[39m0\u001b[39m\n",
      "File \u001b[1;32mc:\\Users\\deela\\anaconda3\\envs\\mvts_trans\\lib\\site-packages\\pandas\\core\\indexing.py:1149\u001b[0m, in \u001b[0;36m_LocIndexer._getitem_tuple\u001b[1;34m(self, tup)\u001b[0m\n\u001b[0;32m   1146\u001b[0m \u001b[39mif\u001b[39;00m \u001b[39mself\u001b[39m\u001b[39m.\u001b[39m_multi_take_opportunity(tup):\n\u001b[0;32m   1147\u001b[0m     \u001b[39mreturn\u001b[39;00m \u001b[39mself\u001b[39m\u001b[39m.\u001b[39m_multi_take(tup)\n\u001b[1;32m-> 1149\u001b[0m \u001b[39mreturn\u001b[39;00m \u001b[39mself\u001b[39;49m\u001b[39m.\u001b[39;49m_getitem_tuple_same_dim(tup)\n",
      "File \u001b[1;32mc:\\Users\\deela\\anaconda3\\envs\\mvts_trans\\lib\\site-packages\\pandas\\core\\indexing.py:827\u001b[0m, in \u001b[0;36m_LocationIndexer._getitem_tuple_same_dim\u001b[1;34m(self, tup)\u001b[0m\n\u001b[0;32m    824\u001b[0m \u001b[39mif\u001b[39;00m com\u001b[39m.\u001b[39mis_null_slice(key):\n\u001b[0;32m    825\u001b[0m     \u001b[39mcontinue\u001b[39;00m\n\u001b[1;32m--> 827\u001b[0m retval \u001b[39m=\u001b[39m \u001b[39mgetattr\u001b[39;49m(retval, \u001b[39mself\u001b[39;49m\u001b[39m.\u001b[39;49mname)\u001b[39m.\u001b[39;49m_getitem_axis(key, axis\u001b[39m=\u001b[39;49mi)\n\u001b[0;32m    828\u001b[0m \u001b[39m# We should never have retval.ndim < self.ndim, as that should\u001b[39;00m\n\u001b[0;32m    829\u001b[0m \u001b[39m#  be handled by the _getitem_lowerdim call above.\u001b[39;00m\n\u001b[0;32m    830\u001b[0m \u001b[39massert\u001b[39;00m retval\u001b[39m.\u001b[39mndim \u001b[39m==\u001b[39m \u001b[39mself\u001b[39m\u001b[39m.\u001b[39mndim\n",
      "File \u001b[1;32mc:\\Users\\deela\\anaconda3\\envs\\mvts_trans\\lib\\site-packages\\pandas\\core\\indexing.py:1194\u001b[0m, in \u001b[0;36m_LocIndexer._getitem_axis\u001b[1;34m(self, key, axis)\u001b[0m\n\u001b[0;32m   1191\u001b[0m     \u001b[39mif\u001b[39;00m \u001b[39mhasattr\u001b[39m(key, \u001b[39m\"\u001b[39m\u001b[39mndim\u001b[39m\u001b[39m\"\u001b[39m) \u001b[39mand\u001b[39;00m key\u001b[39m.\u001b[39mndim \u001b[39m>\u001b[39m \u001b[39m1\u001b[39m:\n\u001b[0;32m   1192\u001b[0m         \u001b[39mraise\u001b[39;00m \u001b[39mValueError\u001b[39;00m(\u001b[39m\"\u001b[39m\u001b[39mCannot index with multidimensional key\u001b[39m\u001b[39m\"\u001b[39m)\n\u001b[1;32m-> 1194\u001b[0m     \u001b[39mreturn\u001b[39;00m \u001b[39mself\u001b[39;49m\u001b[39m.\u001b[39;49m_getitem_iterable(key, axis\u001b[39m=\u001b[39;49maxis)\n\u001b[0;32m   1196\u001b[0m \u001b[39m# nested tuple slicing\u001b[39;00m\n\u001b[0;32m   1197\u001b[0m \u001b[39mif\u001b[39;00m is_nested_tuple(key, labels):\n",
      "File \u001b[1;32mc:\\Users\\deela\\anaconda3\\envs\\mvts_trans\\lib\\site-packages\\pandas\\core\\indexing.py:1132\u001b[0m, in \u001b[0;36m_LocIndexer._getitem_iterable\u001b[1;34m(self, key, axis)\u001b[0m\n\u001b[0;32m   1129\u001b[0m \u001b[39mself\u001b[39m\u001b[39m.\u001b[39m_validate_key(key, axis)\n\u001b[0;32m   1131\u001b[0m \u001b[39m# A collection of keys\u001b[39;00m\n\u001b[1;32m-> 1132\u001b[0m keyarr, indexer \u001b[39m=\u001b[39m \u001b[39mself\u001b[39;49m\u001b[39m.\u001b[39;49m_get_listlike_indexer(key, axis)\n\u001b[0;32m   1133\u001b[0m \u001b[39mreturn\u001b[39;00m \u001b[39mself\u001b[39m\u001b[39m.\u001b[39mobj\u001b[39m.\u001b[39m_reindex_with_indexers(\n\u001b[0;32m   1134\u001b[0m     {axis: [keyarr, indexer]}, copy\u001b[39m=\u001b[39m\u001b[39mTrue\u001b[39;00m, allow_dups\u001b[39m=\u001b[39m\u001b[39mTrue\u001b[39;00m\n\u001b[0;32m   1135\u001b[0m )\n",
      "File \u001b[1;32mc:\\Users\\deela\\anaconda3\\envs\\mvts_trans\\lib\\site-packages\\pandas\\core\\indexing.py:1330\u001b[0m, in \u001b[0;36m_LocIndexer._get_listlike_indexer\u001b[1;34m(self, key, axis)\u001b[0m\n\u001b[0;32m   1327\u001b[0m ax \u001b[39m=\u001b[39m \u001b[39mself\u001b[39m\u001b[39m.\u001b[39mobj\u001b[39m.\u001b[39m_get_axis(axis)\n\u001b[0;32m   1328\u001b[0m axis_name \u001b[39m=\u001b[39m \u001b[39mself\u001b[39m\u001b[39m.\u001b[39mobj\u001b[39m.\u001b[39m_get_axis_name(axis)\n\u001b[1;32m-> 1330\u001b[0m keyarr, indexer \u001b[39m=\u001b[39m ax\u001b[39m.\u001b[39;49m_get_indexer_strict(key, axis_name)\n\u001b[0;32m   1332\u001b[0m \u001b[39mreturn\u001b[39;00m keyarr, indexer\n",
      "File \u001b[1;32mc:\\Users\\deela\\anaconda3\\envs\\mvts_trans\\lib\\site-packages\\pandas\\core\\indexes\\base.py:5796\u001b[0m, in \u001b[0;36mIndex._get_indexer_strict\u001b[1;34m(self, key, axis_name)\u001b[0m\n\u001b[0;32m   5793\u001b[0m \u001b[39melse\u001b[39;00m:\n\u001b[0;32m   5794\u001b[0m     keyarr, indexer, new_indexer \u001b[39m=\u001b[39m \u001b[39mself\u001b[39m\u001b[39m.\u001b[39m_reindex_non_unique(keyarr)\n\u001b[1;32m-> 5796\u001b[0m \u001b[39mself\u001b[39;49m\u001b[39m.\u001b[39;49m_raise_if_missing(keyarr, indexer, axis_name)\n\u001b[0;32m   5798\u001b[0m keyarr \u001b[39m=\u001b[39m \u001b[39mself\u001b[39m\u001b[39m.\u001b[39mtake(indexer)\n\u001b[0;32m   5799\u001b[0m \u001b[39mif\u001b[39;00m \u001b[39misinstance\u001b[39m(key, Index):\n\u001b[0;32m   5800\u001b[0m     \u001b[39m# GH 42790 - Preserve name from an Index\u001b[39;00m\n",
      "File \u001b[1;32mc:\\Users\\deela\\anaconda3\\envs\\mvts_trans\\lib\\site-packages\\pandas\\core\\indexes\\base.py:5859\u001b[0m, in \u001b[0;36mIndex._raise_if_missing\u001b[1;34m(self, key, indexer, axis_name)\u001b[0m\n\u001b[0;32m   5856\u001b[0m     \u001b[39mraise\u001b[39;00m \u001b[39mKeyError\u001b[39;00m(\u001b[39mf\u001b[39m\u001b[39m\"\u001b[39m\u001b[39mNone of [\u001b[39m\u001b[39m{\u001b[39;00mkey\u001b[39m}\u001b[39;00m\u001b[39m] are in the [\u001b[39m\u001b[39m{\u001b[39;00maxis_name\u001b[39m}\u001b[39;00m\u001b[39m]\u001b[39m\u001b[39m\"\u001b[39m)\n\u001b[0;32m   5858\u001b[0m not_found \u001b[39m=\u001b[39m \u001b[39mlist\u001b[39m(ensure_index(key)[missing_mask\u001b[39m.\u001b[39mnonzero()[\u001b[39m0\u001b[39m]]\u001b[39m.\u001b[39munique())\n\u001b[1;32m-> 5859\u001b[0m \u001b[39mraise\u001b[39;00m \u001b[39mKeyError\u001b[39;00m(\u001b[39mf\u001b[39m\u001b[39m\"\u001b[39m\u001b[39m{\u001b[39;00mnot_found\u001b[39m}\u001b[39;00m\u001b[39m not in index\u001b[39m\u001b[39m\"\u001b[39m)\n",
      "\u001b[1;31mKeyError\u001b[0m: \"['loss'] not in index\""
     ]
    }
   ],
   "source": [
    "# print(f'Unseen Classes : {fold_classes[i]}')\n",
    "# separate seen/unseen and train/eval \n",
    "data_dict = dataReader.generate(unseen_classes=fold_cls_ids[0], seen_ratio=config['seen_split'], unseen_ratio=config['unseen_split'], window_size=5.21, window_overlap=4.21, resample_freq=20, smoothing=True, normalize=False)\n",
    "all_classes = dataReader.idToLabel\n",
    "seen_classes = data_dict['seen_classes']\n",
    "unseen_classes = data_dict['unseen_classes']\n",
    "\n",
    "train_n, seq_len, in_ft = data_dict['train']['X'].shape\n",
    "\n",
    "print(\"Initiate IMU datasets ...\")\n",
    "# build IMU datasets\n",
    "train_dt = PAMAP2Dataset(data=data_dict['train']['X'], actions=data_dict['train']['y'], attributes=skeleton_mov, attribute_dict=action_dict, action_classes=seen_classes, seq_len=50)\n",
    "train_dl = DataLoader(train_dt, batch_size=config['batch_size'], shuffle=True, pin_memory=True, drop_last=True)\n",
    "# build seen eval_dt \n",
    "eval_dt = PAMAP2Dataset(data=data_dict['eval-seen']['X'], actions=data_dict['eval-seen']['y'], attributes=skeleton_mov, attribute_dict=action_dict, action_classes=seen_classes, seq_len=50)\n",
    "eval_dl = DataLoader(eval_dt, batch_size=config['batch_size'], shuffle=True, pin_memory=True, drop_last=True)\n",
    "# build unseen test_dt\n",
    "test_dt = PAMAP2Dataset(data=data_dict['test']['X'], actions=data_dict['test']['y'], attributes=skeleton_mov, attribute_dict=action_dict, action_classes=unseen_classes, seq_len=50)\n",
    "test_dl = DataLoader(test_dt, batch_size=config['batch_size'], shuffle=True, pin_memory=True, drop_last=True)\n",
    "\n",
    "print(\"Initial Models ...\")\n",
    "# build IMU Encoder Model \n",
    "imu_model = IMUEncoder(in_ft=in_ft, d_model=config['d_model'], num_heads=config['num_heads'], ft_size=config['feat_size'], max_len=seq_len, n_classes=len(seen_classes))\n",
    "imu_model.to(device)\n",
    "\n",
    "# define IMU-Enc run parameters \n",
    "seen_action_ft_dict = {a: get_class_ft(torch.from_numpy(skeleton_mov[i, ...]), ae_model, device) for a,i in action_dict.items() if a in seen_classes}\n",
    "seen_label_map = {i:l for i,l in enumerate(seen_classes)}\n",
    "trpLoss = ActionTripletLoss(distance='l2', k=10, neg_thr=0.90,pos_thr=0.05, agg=\"mean\", device=device)\n",
    "\n",
    "# generate unseen semantic space \n",
    "unseen_action_ft_dict = {a: get_class_ft(torch.from_numpy(skeleton_mov[i, ...]), ae_model, device) for a,i in action_dict.items() if a in unseen_classes}\n",
    "seen_label_map = {i:l for i,l in enumerate(unseen_classes)}\n",
    "\n",
    "seen_action_ft, seen_action_label = gen_semantic_space(seen_action_ft_dict)\n",
    "unseen_action_ft, unseen_action_label = gen_semantic_space(unseen_action_ft_dict)\n",
    "\n",
    "imu_optim = Adam(imu_model.parameters(), lr=config['imu_lr'])\n",
    "ae_optim = Adam(ae_model.parameters(), lr=config['ae_lr'])\n",
    "optimizers = {'imu': imu_optim, 'ae': ae_optim}\n",
    "\n",
    "loss_module = {'class': nn.CrossEntropyLoss(), 'feature': trpLoss, 'recons': nn.MSELoss()}\n",
    "best_acc = 0.0\n",
    "\n",
    "print(\"Start Models training ...\")\n",
    "fold_train_data = []\n",
    "fold_val_data = []\n",
    "# train 2 models E2E\n",
    "for epoch in tqdm(range(5), desc='Training Epoch', leave=False):\n",
    "    # train IMU-Enc model\n",
    "    train_metrics = imu_train_step1(imu_model, ae_model, train_dl, skel_dt, optimizers, loss_module, device, class_names=[all_classes[i] for i in seen_classes], class_ids=seen_classes, phase='train', imu_alpha=config['imu_alpha'], ae_alpha=config['ae_alpha'], batch_size=32)\n",
    "    fold_train_data.append(train_metrics)\n",
    "    eval_metrics, _, _ = eval_step1(imu_model, ae_model, eval_dl, seen_action_ft, seen_action_label, loss_module, device=device, class_names=[all_classes[i] for i in seen_classes], class_ids=seen_classes,  target_feat_met=eval_dt.getClassAttrs(), phase='seen', print_report=False, imu_alpha=config['imu_alpha'], ae_alpha=config['ae_alpha'], batch_size=config['batch_size'], show_plot=True)\n",
    "    fold_val_data.append(eval_metrics)\n",
    "    # print(f\"EPOCH [{epoch}] TRAINING : {train_metrics}\")\n",
    "    # print(f\"EPOCH [{epoch}] EVAL : {eval_metrics}\")\n",
    "    if eval_metrics['accuracy'] > best_acc:\n",
    "        imu_best_model = deepcopy(imu_model.state_dict())\n",
    "\n",
    "\n",
    "plot_accVloss(fold_train_data, fold_val_data)\n",
    "# replace by best model \n",
    "imu_model.load_state_dict(imu_best_model)\n",
    "\n",
    "# run evaluation on unseen classes\n",
    "test_metrics, unseen_pred_actions, unseen_labels = eval_step1(imu_model, ae_model, test_dl, unseen_action_ft, unseen_action_label, loss_module, device=device, class_names=[all_classes[i] for i in unseen_classes], class_ids=unseen_classes,  target_feat_met=test_dt.getClassAttrs(), phase='unseen', imu_alpha=config['imu_alpha'], ae_alpha=config['ae_alpha'], batch_size=config['batch_size'])\n",
    "print(test_metrics)\n",
    "print(\"=\"*40)"
   ]
  },
  {
   "cell_type": "code",
   "execution_count": 79,
   "metadata": {},
   "outputs": [
    {
     "name": "stderr",
     "output_type": "stream",
     "text": [
      "unseen: 100%|██████████| 175/175 [00:29<00:00,  5.91batch/s, IMU loss=0.000177, AE loss=0.000358]\n"
     ]
    },
    {
     "data": {
      "image/png": "[encoded data removed]",
      "text/plain": [
       "<Figure size 640x480 with 2 Axes>"
      ]
     },
     "metadata": {},
     "output_type": "display_data"
    },
    {
     "name": "stdout",
     "output_type": "stream",
     "text": [
      "Overall accuracy: 0.143\n",
      "\n",
      "                   precision     recall   f1-score rel. freq. abs. freq.|\t biggest thieves\n",
      "\n",
      "        standing       0.101      0.057      0.073      0.330       1849|\t ascending stairs: 0.531,\thouse cleaning: 0.215,\twatching TV: 0.196,\t\n",
      "  house cleaning       0.131      0.060      0.082      0.329       1842|\t ascending stairs: 0.592,\twatching TV: 0.229,\tstanding: 0.119,\t\n",
      "ascending stairs       0.190      0.452      0.267      0.193       1079|\t house cleaning: 0.250,\twatching TV: 0.237,\t\n",
      "     watching TV       0.084      0.116      0.098      0.148        830|\t standing: 0.799,\thouse cleaning: 0.071,\t\n",
      "\n",
      "----------------------------------------------------------------------------------------------------\n",
      "     avg / total       0.126      0.143      0.117        1.0       5600|\t      \n",
      "\n",
      "{'accuracy': 0.14285714285714285, 'precision': 0.12654527565853865, 'recall': 0.1712448138154179, 'f1': 0.13000866422482893, 'imu loss': 0.00038817361637484283, 'ae loss': 0.0003667233185842633}\n",
      "========================================\n"
     ]
    }
   ],
   "source": [
    "# plot_accVloss(fold_train_data, fold_val_data)\n",
    "# replace by best model \n",
    "imu_model.load_state_dict(imu_best_model)\n",
    "\n",
    "# run evaluation on unseen classes\n",
    "test_metrics, unseen_pred_actions, unseen_labels = eval_step1(imu_model, ae_model, test_dl, unseen_action_ft, unseen_action_label, loss_module, device=device, class_names=[all_classes[i] for i in unseen_classes], class_ids=unseen_classes,  target_feat_met=test_dt.getClassAttrs(), phase='unseen', imu_alpha=config['imu_alpha'], ae_alpha=config['ae_alpha'], batch_size=config['batch_size'])\n",
    "print(test_metrics)\n",
    "print(\"=\"*40)"
   ]
  },
  {
   "cell_type": "code",
   "execution_count": null,
   "metadata": {},
   "outputs": [],
   "source": []
  },
  {
   "cell_type": "code",
   "execution_count": null,
   "metadata": {},
   "outputs": [
    {
     "data": {
      "application/vnd.plotly.v1+json": {
       "config": {
        "plotlyServerURL": "https://plot.ly"
       },
       "data": [
        {
         "hoverlabel": {
          "namelength": 0
         },
         "hovertemplate": "action=lying<br>type=GT<br>x=%{x}<br>y=%{y}",
         "legendgroup": "action=lying, type=GT",
         "marker": {
          "color": "#636efa",
          "symbol": "circle"
         },
         "mode": "markers",
         "name": "action=lying, type=GT",
         "showlegend": true,
         "type": "scatter",
         "x": [
          -14.29305362701416,
          -16.59505844116211,
          -15.952770233154297,
          -15.796358108520508,
          -14.526214599609375,
          -14.476065635681152,
          -15.325261116027832,
          -15.590195655822754,
          -14.944754600524902,
          -13.7935209274292
         ],
         "xaxis": "x",
         "y": [
          -11.210216522216797,
          -13.19671630859375,
          -12.13966178894043,
          -11.220341682434082,
          -12.257710456848145,
          -14.054421424865723,
          -14.175618171691895,
          -13.098268508911133,
          -12.48132038116455,
          -12.025247573852539
         ],
         "yaxis": "y"
        },
        {
         "hoverlabel": {
          "namelength": 0
         },
         "hovertemplate": "action=sitting<br>type=GT<br>x=%{x}<br>y=%{y}",
         "legendgroup": "action=sitting, type=GT",
         "marker": {
          "color": "#EF553B",
          "symbol": "circle"
         },
         "mode": "markers",
         "name": "action=sitting, type=GT",
         "showlegend": true,
         "type": "scatter",
         "x": [
          -0.7959643006324768,
          -1.9963496923446655,
          -1.3243664503097534,
          -2.836646318435669,
          -4.122716903686523,
          -2.0184738636016846,
          -4.071900367736816,
          -2.9454870223999023,
          -3.1432712078094482,
          -4.099125862121582
         ],
         "xaxis": "x",
         "y": [
          19.12632179260254,
          21.498310089111328,
          20.98436164855957,
          19.82149887084961,
          21.175994873046875,
          19.488725662231445,
          18.295303344726562,
          20.88665199279785,
          22.35447120666504,
          19.982345581054688
         ],
         "yaxis": "y"
        },
        {
         "hoverlabel": {
          "namelength": 0
         },
         "hovertemplate": "action=standing<br>type=GT<br>x=%{x}<br>y=%{y}",
         "legendgroup": "action=standing, type=GT",
         "marker": {
          "color": "#00cc96",
          "symbol": "circle"
         },
         "mode": "markers",
         "name": "action=standing, type=GT",
         "showlegend": true,
         "type": "scatter",
         "x": [
          -3.894690990447998,
          -4.181982517242432,
          -3.1009559631347656,
          -11.55253791809082,
          -3.2249934673309326,
          -5.061765193939209,
          -3.4542574882507324,
          -4.750464916229248,
          -4.418352127075195,
          -5.765799045562744
         ],
         "xaxis": "x",
         "y": [
          -9.759782791137695,
          -11.063913345336914,
          -11.271284103393555,
          -1.164651870727539,
          -8.72419548034668,
          -10.944461822509766,
          -10.34970474243164,
          -9.672052383422852,
          -8.40242862701416,
          -9.184013366699219
         ],
         "yaxis": "y"
        },
        {
         "hoverlabel": {
          "namelength": 0
         },
         "hovertemplate": "action=standing<br>type=pred<br>x=%{x}<br>y=%{y}",
         "legendgroup": "action=standing, type=pred",
         "marker": {
          "color": "#00cc96",
          "symbol": "diamond"
         },
         "mode": "markers",
         "name": "action=standing, type=pred",
         "showlegend": true,
         "type": "scatter",
         "x": [
          -16.719280242919922,
          5.49675178527832,
          -5.025320529937744,
          -2.609093189239502,
          -16.2114200592041,
          -2.7238898277282715,
          -5.2288970947265625,
          -3.0140607357025146,
          -2.5904629230499268
         ],
         "xaxis": "x",
         "y": [
          6.76430082321167,
          -3.104853868484497,
          9.108006477355957,
          17.3037052154541,
          6.68936014175415,
          19.23946189880371,
          -1.050873041152954,
          18.605621337890625,
          18.48699188232422
         ],
         "yaxis": "y"
        },
        {
         "hoverlabel": {
          "namelength": 0
         },
         "hovertemplate": "action=walking<br>type=GT<br>x=%{x}<br>y=%{y}",
         "legendgroup": "action=walking, type=GT",
         "marker": {
          "color": "#ab63fa",
          "symbol": "circle"
         },
         "mode": "markers",
         "name": "action=walking, type=GT",
         "showlegend": true,
         "type": "scatter",
         "x": [
          7.042816638946533,
          6.849374771118164,
          4.7470269203186035,
          5.314245223999023,
          6.063097953796387,
          6.063084602355957,
          6.979269981384277,
          5.458990573883057,
          4.179407119750977,
          5.951527118682861
         ],
         "xaxis": "x",
         "y": [
          -4.640097141265869,
          -7.671507835388184,
          -7.256495475769043,
          -7.410656929016113,
          -8.394692420959473,
          -8.395146369934082,
          -9.158243179321289,
          -9.566107749938965,
          -9.840980529785156,
          -5.145116806030273
         ],
         "yaxis": "y"
        },
        {
         "hoverlabel": {
          "namelength": 0
         },
         "hovertemplate": "action=running<br>type=GT<br>x=%{x}<br>y=%{y}",
         "legendgroup": "action=running, type=GT",
         "marker": {
          "color": "#FFA15A",
          "symbol": "circle"
         },
         "mode": "markers",
         "name": "action=running, type=GT",
         "showlegend": true,
         "type": "scatter",
         "x": [
          7.3388800621032715,
          7.244766712188721,
          9.13447380065918,
          8.103452682495117,
          6.752307891845703,
          8.522294998168945,
          8.786078453063965,
          9.072253227233887,
          7.955086708068848,
          8.667879104614258
         ],
         "xaxis": "x",
         "y": [
          -18.951406478881836,
          -20.51903533935547,
          -19.976831436157227,
          -18.954797744750977,
          -21.53083038330078,
          -21.484725952148438,
          -19.457447052001953,
          -17.920413970947266,
          -20.033700942993164,
          -20.481225967407227
         ],
         "yaxis": "y"
        },
        {
         "hoverlabel": {
          "namelength": 0
         },
         "hovertemplate": "action=cycling<br>type=GT<br>x=%{x}<br>y=%{y}",
         "legendgroup": "action=cycling, type=GT",
         "marker": {
          "color": "#19d3f3",
          "symbol": "circle"
         },
         "mode": "markers",
         "name": "action=cycling, type=GT",
         "showlegend": true,
         "type": "scatter",
         "x": [
          0.3029765486717224,
          -2.091662883758545,
          -0.5584486722946167,
          -3.0574848651885986,
          -3.180651903152466,
          2.2938485145568848,
          -0.8524490594863892,
          -0.8524951934814453,
          0.49698176980018616,
          -0.3258299231529236
         ],
         "xaxis": "x",
         "y": [
          -4.757884979248047,
          -1.333282709121704,
          -4.324954986572266,
          -0.07239246368408203,
          1.2363777160644531,
          -3.7231333255767822,
          -2.926032066345215,
          -2.9258975982666016,
          -3.0725862979888916,
          -1.8741154670715332
         ],
         "yaxis": "y"
        },
        {
         "hoverlabel": {
          "namelength": 0
         },
         "hovertemplate": "action=Nordic walking<br>type=GT<br>x=%{x}<br>y=%{y}",
         "legendgroup": "action=Nordic walking, type=GT",
         "marker": {
          "color": "#FF6692",
          "symbol": "circle"
         },
         "mode": "markers",
         "name": "action=Nordic walking, type=GT",
         "showlegend": true,
         "type": "scatter",
         "x": [
          5.0847296714782715,
          7.4918317794799805,
          7.038743495941162,
          7.17232084274292,
          7.394383430480957,
          6.7969231605529785,
          3.2216832637786865,
          8.560723304748535,
          6.099202632904053,
          7.174494743347168
         ],
         "xaxis": "x",
         "y": [
          0.7549641132354736,
          1.1896755695343018,
          -0.5215502977371216,
          3.004507064819336,
          4.297908782958984,
          3.4093353748321533,
          -2.6808760166168213,
          2.2458975315093994,
          0.3255145847797394,
          1.7295947074890137
         ],
         "yaxis": "y"
        },
        {
         "hoverlabel": {
          "namelength": 0
         },
         "hovertemplate": "action=watching TV<br>type=GT<br>x=%{x}<br>y=%{y}",
         "legendgroup": "action=watching TV, type=GT",
         "marker": {
          "color": "#B6E880",
          "symbol": "circle"
         },
         "mode": "markers",
         "name": "action=watching TV, type=GT",
         "showlegend": true,
         "type": "scatter",
         "x": [
          -11.168434143066406,
          -13.286136627197266,
          -15.618656158447266,
          -15.184868812561035,
          -11.326560974121094,
          -12.771201133728027,
          -13.301213264465332,
          -15.312889099121094,
          -14.120213508605957,
          -12.45211124420166
         ],
         "xaxis": "x",
         "y": [
          1.561558485031128,
          0.8145370483398438,
          2.5389249324798584,
          5.146711826324463,
          0.6165607571601868,
          0.7319671511650085,
          2.8859317302703857,
          3.0197176933288574,
          3.378257989883423,
          3.143817663192749
         ],
         "yaxis": "y"
        },
        {
         "hoverlabel": {
          "namelength": 0
         },
         "hovertemplate": "action=watching TV<br>type=pred<br>x=%{x}<br>y=%{y}",
         "legendgroup": "action=watching TV, type=pred",
         "marker": {
          "color": "#B6E880",
          "symbol": "diamond"
         },
         "mode": "markers",
         "name": "action=watching TV, type=pred",
         "showlegend": true,
         "type": "scatter",
         "x": [
          -6.51879358291626,
          -6.907106399536133,
          -7.340548515319824
         ],
         "xaxis": "x",
         "y": [
          -0.2376812994480133,
          -0.8567267060279846,
          -0.9315908551216125
         ],
         "yaxis": "y"
        },
        {
         "hoverlabel": {
          "namelength": 0
         },
         "hovertemplate": "action=computer work<br>type=GT<br>x=%{x}<br>y=%{y}",
         "legendgroup": "action=computer work, type=GT",
         "marker": {
          "color": "#FF97FF",
          "symbol": "circle"
         },
         "mode": "markers",
         "name": "action=computer work, type=GT",
         "showlegend": true,
         "type": "scatter",
         "x": [
          -8.57640266418457,
          -8.912842750549316,
          -9.570152282714844,
          -7.734180927276611,
          -10.01339340209961,
          -10.862882614135742,
          -11.141613006591797,
          -9.034433364868164,
          -7.607615947723389,
          -9.675769805908203
         ],
         "xaxis": "x",
         "y": [
          -2.2605814933776855,
          -3.6423163414001465,
          -3.708416223526001,
          -4.563050270080566,
          -0.09711997956037521,
          -1.8835519552230835,
          -3.6069815158843994,
          -2.6691439151763916,
          -2.8409371376037598,
          -4.693093776702881
         ],
         "yaxis": "y"
        },
        {
         "hoverlabel": {
          "namelength": 0
         },
         "hovertemplate": "action=car driving<br>type=GT<br>x=%{x}<br>y=%{y}",
         "legendgroup": "action=car driving, type=GT",
         "marker": {
          "color": "#FECB52",
          "symbol": "circle"
         },
         "mode": "markers",
         "name": "action=car driving, type=GT",
         "showlegend": true,
         "type": "scatter",
         "x": [
          9.574740409851074,
          10.285325050354004,
          9.975555419921875,
          8.124571800231934,
          10.113306999206543,
          8.619811058044434,
          8.177323341369629,
          9.163559913635254,
          8.47552490234375,
          9.335189819335938
         ],
         "xaxis": "x",
         "y": [
          -25.080429077148438,
          -25.88640594482422,
          -26.54621696472168,
          -27.138225555419922,
          -27.82927894592285,
          -25.968488693237305,
          -25.551616668701172,
          -27.131303787231445,
          -27.77882194519043,
          -25.94795036315918
         ],
         "yaxis": "y"
        },
        {
         "hoverlabel": {
          "namelength": 0
         },
         "hovertemplate": "action=ascending stairs<br>type=GT<br>x=%{x}<br>y=%{y}",
         "legendgroup": "action=ascending stairs, type=GT",
         "marker": {
          "color": "#636efa",
          "symbol": "circle"
         },
         "mode": "markers",
         "name": "action=ascending stairs, type=GT",
         "showlegend": true,
         "type": "scatter",
         "x": [
          15.500574111938477,
          15.987225532531738,
          13.923967361450195,
          12.054444313049316,
          14.962284088134766,
          14.531294822692871,
          14.67684268951416,
          13.159708023071289,
          13.922046661376953,
          14.587422370910645
         ],
         "xaxis": "x",
         "y": [
          8.313495635986328,
          8.956310272216797,
          11.33877944946289,
          8.842374801635742,
          7.877144813537598,
          9.031702041625977,
          10.290006637573242,
          9.76508903503418,
          11.3998384475708,
          9.005622863769531
         ],
         "yaxis": "y"
        },
        {
         "hoverlabel": {
          "namelength": 0
         },
         "hovertemplate": "action=ascending stairs<br>type=pred<br>x=%{x}<br>y=%{y}",
         "legendgroup": "action=ascending stairs, type=pred",
         "marker": {
          "color": "#636efa",
          "symbol": "diamond"
         },
         "mode": "markers",
         "name": "action=ascending stairs, type=pred",
         "showlegend": true,
         "type": "scatter",
         "x": [
          4.121689319610596,
          9.304022789001465,
          5.581935405731201,
          4.544698238372803,
          -0.0771220326423645,
          3.6368348598480225,
          5.429643630981445
         ],
         "xaxis": "x",
         "y": [
          -1.7606829404830933,
          -2.7718756198883057,
          -1.6832079887390137,
          -0.3370670676231384,
          5.767444610595703,
          -0.5100334882736206,
          -0.9700992703437805
         ],
         "yaxis": "y"
        },
        {
         "hoverlabel": {
          "namelength": 0
         },
         "hovertemplate": "action=descending stairs<br>type=GT<br>x=%{x}<br>y=%{y}",
         "legendgroup": "action=descending stairs, type=GT",
         "marker": {
          "color": "#EF553B",
          "symbol": "circle"
         },
         "mode": "markers",
         "name": "action=descending stairs, type=GT",
         "showlegend": true,
         "type": "scatter",
         "x": [
          3.6485021114349365,
          5.803305625915527,
          6.009849548339844,
          2.4414710998535156,
          6.96256160736084,
          3.6172053813934326,
          3.6130242347717285,
          4.355001926422119,
          4.584596633911133,
          6.009439945220947
         ],
         "xaxis": "x",
         "y": [
          17.243505477905273,
          16.983171463012695,
          15.339552879333496,
          14.654446601867676,
          16.12518310546875,
          14.138998985290527,
          13.934270858764648,
          16.93632698059082,
          16.899904251098633,
          16.524736404418945
         ],
         "yaxis": "y"
        },
        {
         "hoverlabel": {
          "namelength": 0
         },
         "hovertemplate": "action=vacuum cleaning<br>type=GT<br>x=%{x}<br>y=%{y}",
         "legendgroup": "action=vacuum cleaning, type=GT",
         "marker": {
          "color": "#00cc96",
          "symbol": "circle"
         },
         "mode": "markers",
         "name": "action=vacuum cleaning, type=GT",
         "showlegend": true,
         "type": "scatter",
         "x": [
          0.7724236845970154,
          4.886651992797852,
          -1.5555996894836426,
          1.1349860429763794,
          1.5529860258102417,
          -0.16565626859664917,
          -0.4188620448112488,
          4.364733695983887,
          4.30910062789917,
          2.6040706634521484
         ],
         "xaxis": "x",
         "y": [
          9.476624488830566,
          5.883395671844482,
          7.528609275817871,
          8.717354774475098,
          7.7053632736206055,
          8.39210319519043,
          9.713335037231445,
          3.471067190170288,
          4.881575107574463,
          6.695266246795654
         ],
         "yaxis": "y"
        },
        {
         "hoverlabel": {
          "namelength": 0
         },
         "hovertemplate": "action=ironing<br>type=GT<br>x=%{x}<br>y=%{y}",
         "legendgroup": "action=ironing, type=GT",
         "marker": {
          "color": "#ab63fa",
          "symbol": "circle"
         },
         "mode": "markers",
         "name": "action=ironing, type=GT",
         "showlegend": true,
         "type": "scatter",
         "x": [
          -8.083961486816406,
          -5.914023399353027,
          -5.730854511260986,
          -8.73438549041748,
          -8.452604293823242,
          -8.203533172607422,
          -6.714522361755371,
          -7.238834857940674,
          -7.026798248291016,
          -7.43719482421875
         ],
         "xaxis": "x",
         "y": [
          9.425551414489746,
          10.375879287719727,
          10.878242492675781,
          11.3898344039917,
          10.793421745300293,
          12.54433822631836,
          11.986430168151855,
          11.951271057128906,
          10.040764808654785,
          10.722342491149902
         ],
         "yaxis": "y"
        },
        {
         "hoverlabel": {
          "namelength": 0
         },
         "hovertemplate": "action=folding laundry<br>type=GT<br>x=%{x}<br>y=%{y}",
         "legendgroup": "action=folding laundry, type=GT",
         "marker": {
          "color": "#FFA15A",
          "symbol": "circle"
         },
         "mode": "markers",
         "name": "action=folding laundry, type=GT",
         "showlegend": true,
         "type": "scatter",
         "x": [
          -17.790302276611328,
          -14.877934455871582,
          -18.03811264038086,
          -17.039485931396484,
          -17.625864028930664,
          -19.03763198852539,
          -18.65111541748047,
          -19.870361328125,
          -16.274396896362305,
          -17.222576141357422
         ],
         "xaxis": "x",
         "y": [
          5.233486175537109,
          7.814441680908203,
          6.575495719909668,
          9.24569320678711,
          7.436853885650635,
          8.682286262512207,
          7.90772008895874,
          6.622150897979736,
          8.698347091674805,
          7.567681312561035
         ],
         "yaxis": "y"
        },
        {
         "hoverlabel": {
          "namelength": 0
         },
         "hovertemplate": "action=house cleaning<br>type=GT<br>x=%{x}<br>y=%{y}",
         "legendgroup": "action=house cleaning, type=GT",
         "marker": {
          "color": "#19d3f3",
          "symbol": "circle"
         },
         "mode": "markers",
         "name": "action=house cleaning, type=GT",
         "showlegend": true,
         "type": "scatter",
         "x": [
          -26.56831169128418,
          -24.506114959716797,
          -24.103870391845703,
          -24.404348373413086,
          -25.681175231933594,
          -25.8439884185791,
          -23.318981170654297,
          -23.48197364807129,
          -25.34838104248047,
          -24.94061851501465
         ],
         "xaxis": "x",
         "y": [
          1.6334261894226074,
          2.721890926361084,
          3.579352378845215,
          1.5643713474273682,
          3.706583261489868,
          2.920046091079712,
          2.943012237548828,
          3.787700891494751,
          2.2714433670043945,
          1.5464750528335571
         ],
         "yaxis": "y"
        },
        {
         "hoverlabel": {
          "namelength": 0
         },
         "hovertemplate": "action=house cleaning<br>type=pred<br>x=%{x}<br>y=%{y}",
         "legendgroup": "action=house cleaning, type=pred",
         "marker": {
          "color": "#19d3f3",
          "symbol": "diamond"
         },
         "mode": "markers",
         "name": "action=house cleaning, type=pred",
         "showlegend": true,
         "type": "scatter",
         "x": [
          -16.06623077392578,
          -4.718681335449219,
          2.7198729515075684,
          0.18320658802986145,
          1.9772604703903198,
          0.6234371066093445,
          4.807176113128662,
          0.702286422252655,
          3.318235158920288,
          2.574104070663452,
          -1.1699010133743286
         ],
         "xaxis": "x",
         "y": [
          6.164164066314697,
          0.1264268457889557,
          2.516613721847534,
          7.3046956062316895,
          4.221676349639893,
          6.212966442108154,
          -1.2273300886154175,
          7.18555212020874,
          1.7462825775146484,
          3.075146198272705,
          5.83012056350708
         ],
         "yaxis": "y"
        },
        {
         "hoverlabel": {
          "namelength": 0
         },
         "hovertemplate": "action=playing soccer<br>type=GT<br>x=%{x}<br>y=%{y}",
         "legendgroup": "action=playing soccer, type=GT",
         "marker": {
          "color": "#FF6692",
          "symbol": "circle"
         },
         "mode": "markers",
         "name": "action=playing soccer, type=GT",
         "showlegend": true,
         "type": "scatter",
         "x": [
          7.646138668060303,
          10.409441947937012,
          11.400794982910156,
          11.634288787841797,
          11.14118766784668,
          12.600836753845215,
          9.860808372497559,
          11.510427474975586,
          13.310530662536621,
          13.086524963378906
         ],
         "xaxis": "x",
         "y": [
          -3.261291027069092,
          -3.7741947174072266,
          -1.4454141855239868,
          -4.160397529602051,
          -2.6399621963500977,
          -2.343266010284424,
          -1.8345929384231567,
          -3.0825388431549072,
          -2.5134952068328857,
          -4.031562805175781
         ],
         "yaxis": "y"
        },
        {
         "hoverlabel": {
          "namelength": 0
         },
         "hovertemplate": "action=rope jumping<br>type=GT<br>x=%{x}<br>y=%{y}",
         "legendgroup": "action=rope jumping, type=GT",
         "marker": {
          "color": "#B6E880",
          "symbol": "circle"
         },
         "mode": "markers",
         "name": "action=rope jumping, type=GT",
         "showlegend": true,
         "type": "scatter",
         "x": [
          15.48344898223877,
          16.71019744873047,
          17.881441116333008,
          14.305871963500977,
          15.584957122802734,
          15.991870880126953,
          16.754159927368164,
          15.54236125946045,
          17.41982650756836,
          15.774127006530762
         ],
         "xaxis": "x",
         "y": [
          -13.13005256652832,
          -12.819382667541504,
          -10.863460540771484,
          -11.024656295776367,
          -12.347829818725586,
          -10.93748950958252,
          -11.739761352539062,
          -10.46396255493164,
          -12.002870559692383,
          -11.76916790008545
         ],
         "yaxis": "y"
        }
       ],
       "layout": {
        "height": 800,
        "legend": {
         "tracegroupgap": 0
        },
        "template": {
         "data": {
          "bar": [
           {
            "error_x": {
             "color": "#2a3f5f"
            },
            "error_y": {
             "color": "#2a3f5f"
            },
            "marker": {
             "line": {
              "color": "#E5ECF6",
              "width": 0.5
             }
            },
            "type": "bar"
           }
          ],
          "barpolar": [
           {
            "marker": {
             "line": {
              "color": "#E5ECF6",
              "width": 0.5
             }
            },
            "type": "barpolar"
           }
          ],
          "carpet": [
           {
            "aaxis": {
             "endlinecolor": "#2a3f5f",
             "gridcolor": "white",
             "linecolor": "white",
             "minorgridcolor": "white",
             "startlinecolor": "#2a3f5f"
            },
            "baxis": {
             "endlinecolor": "#2a3f5f",
             "gridcolor": "white",
             "linecolor": "white",
             "minorgridcolor": "white",
             "startlinecolor": "#2a3f5f"
            },
            "type": "carpet"
           }
          ],
          "choropleth": [
           {
            "colorbar": {
             "outlinewidth": 0,
             "ticks": ""
            },
            "type": "choropleth"
           }
          ],
          "contour": [
           {
            "colorbar": {
             "outlinewidth": 0,
             "ticks": ""
            },
            "colorscale": [
             [
              0,
              "#0d0887"
             ],
             [
              0.1111111111111111,
              "#46039f"
             ],
             [
              0.2222222222222222,
              "#7201a8"
             ],
             [
              0.3333333333333333,
              "#9c179e"
             ],
             [
              0.4444444444444444,
              "#bd3786"
             ],
             [
              0.5555555555555556,
              "#d8576b"
             ],
             [
              0.6666666666666666,
              "#ed7953"
             ],
             [
              0.7777777777777778,
              "#fb9f3a"
             ],
             [
              0.8888888888888888,
              "#fdca26"
             ],
             [
              1,
              "#f0f921"
             ]
            ],
            "type": "contour"
           }
          ],
          "contourcarpet": [
           {
            "colorbar": {
             "outlinewidth": 0,
             "ticks": ""
            },
            "type": "contourcarpet"
           }
          ],
          "heatmap": [
           {
            "colorbar": {
             "outlinewidth": 0,
             "ticks": ""
            },
            "colorscale": [
             [
              0,
              "#0d0887"
             ],
             [
              0.1111111111111111,
              "#46039f"
             ],
             [
              0.2222222222222222,
              "#7201a8"
             ],
             [
              0.3333333333333333,
              "#9c179e"
             ],
             [
              0.4444444444444444,
              "#bd3786"
             ],
             [
              0.5555555555555556,
              "#d8576b"
             ],
             [
              0.6666666666666666,
              "#ed7953"
             ],
             [
              0.7777777777777778,
              "#fb9f3a"
             ],
             [
              0.8888888888888888,
              "#fdca26"
             ],
             [
              1,
              "#f0f921"
             ]
            ],
            "type": "heatmap"
           }
          ],
          "heatmapgl": [
           {
            "colorbar": {
             "outlinewidth": 0,
             "ticks": ""
            },
            "colorscale": [
             [
              0,
              "#0d0887"
             ],
             [
              0.1111111111111111,
              "#46039f"
             ],
             [
              0.2222222222222222,
              "#7201a8"
             ],
             [
              0.3333333333333333,
              "#9c179e"
             ],
             [
              0.4444444444444444,
              "#bd3786"
             ],
             [
              0.5555555555555556,
              "#d8576b"
             ],
             [
              0.6666666666666666,
              "#ed7953"
             ],
             [
              0.7777777777777778,
              "#fb9f3a"
             ],
             [
              0.8888888888888888,
              "#fdca26"
             ],
             [
              1,
              "#f0f921"
             ]
            ],
            "type": "heatmapgl"
           }
          ],
          "histogram": [
           {
            "marker": {
             "colorbar": {
              "outlinewidth": 0,
              "ticks": ""
             }
            },
            "type": "histogram"
           }
          ],
          "histogram2d": [
           {
            "colorbar": {
             "outlinewidth": 0,
             "ticks": ""
            },
            "colorscale": [
             [
              0,
              "#0d0887"
             ],
             [
              0.1111111111111111,
              "#46039f"
             ],
             [
              0.2222222222222222,
              "#7201a8"
             ],
             [
              0.3333333333333333,
              "#9c179e"
             ],
             [
              0.4444444444444444,
              "#bd3786"
             ],
             [
              0.5555555555555556,
              "#d8576b"
             ],
             [
              0.6666666666666666,
              "#ed7953"
             ],
             [
              0.7777777777777778,
              "#fb9f3a"
             ],
             [
              0.8888888888888888,
              "#fdca26"
             ],
             [
              1,
              "#f0f921"
             ]
            ],
            "type": "histogram2d"
           }
          ],
          "histogram2dcontour": [
           {
            "colorbar": {
             "outlinewidth": 0,
             "ticks": ""
            },
            "colorscale": [
             [
              0,
              "#0d0887"
             ],
             [
              0.1111111111111111,
              "#46039f"
             ],
             [
              0.2222222222222222,
              "#7201a8"
             ],
             [
              0.3333333333333333,
              "#9c179e"
             ],
             [
              0.4444444444444444,
              "#bd3786"
             ],
             [
              0.5555555555555556,
              "#d8576b"
             ],
             [
              0.6666666666666666,
              "#ed7953"
             ],
             [
              0.7777777777777778,
              "#fb9f3a"
             ],
             [
              0.8888888888888888,
              "#fdca26"
             ],
             [
              1,
              "#f0f921"
             ]
            ],
            "type": "histogram2dcontour"
           }
          ],
          "mesh3d": [
           {
            "colorbar": {
             "outlinewidth": 0,
             "ticks": ""
            },
            "type": "mesh3d"
           }
          ],
          "parcoords": [
           {
            "line": {
             "colorbar": {
              "outlinewidth": 0,
              "ticks": ""
             }
            },
            "type": "parcoords"
           }
          ],
          "pie": [
           {
            "automargin": true,
            "type": "pie"
           }
          ],
          "scatter": [
           {
            "marker": {
             "colorbar": {
              "outlinewidth": 0,
              "ticks": ""
             }
            },
            "type": "scatter"
           }
          ],
          "scatter3d": [
           {
            "line": {
             "colorbar": {
              "outlinewidth": 0,
              "ticks": ""
             }
            },
            "marker": {
             "colorbar": {
              "outlinewidth": 0,
              "ticks": ""
             }
            },
            "type": "scatter3d"
           }
          ],
          "scattercarpet": [
           {
            "marker": {
             "colorbar": {
              "outlinewidth": 0,
              "ticks": ""
             }
            },
            "type": "scattercarpet"
           }
          ],
          "scattergeo": [
           {
            "marker": {
             "colorbar": {
              "outlinewidth": 0,
              "ticks": ""
             }
            },
            "type": "scattergeo"
           }
          ],
          "scattergl": [
           {
            "marker": {
             "colorbar": {
              "outlinewidth": 0,
              "ticks": ""
             }
            },
            "type": "scattergl"
           }
          ],
          "scattermapbox": [
           {
            "marker": {
             "colorbar": {
              "outlinewidth": 0,
              "ticks": ""
             }
            },
            "type": "scattermapbox"
           }
          ],
          "scatterpolar": [
           {
            "marker": {
             "colorbar": {
              "outlinewidth": 0,
              "ticks": ""
             }
            },
            "type": "scatterpolar"
           }
          ],
          "scatterpolargl": [
           {
            "marker": {
             "colorbar": {
              "outlinewidth": 0,
              "ticks": ""
             }
            },
            "type": "scatterpolargl"
           }
          ],
          "scatterternary": [
           {
            "marker": {
             "colorbar": {
              "outlinewidth": 0,
              "ticks": ""
             }
            },
            "type": "scatterternary"
           }
          ],
          "surface": [
           {
            "colorbar": {
             "outlinewidth": 0,
             "ticks": ""
            },
            "colorscale": [
             [
              0,
              "#0d0887"
             ],
             [
              0.1111111111111111,
              "#46039f"
             ],
             [
              0.2222222222222222,
              "#7201a8"
             ],
             [
              0.3333333333333333,
              "#9c179e"
             ],
             [
              0.4444444444444444,
              "#bd3786"
             ],
             [
              0.5555555555555556,
              "#d8576b"
             ],
             [
              0.6666666666666666,
              "#ed7953"
             ],
             [
              0.7777777777777778,
              "#fb9f3a"
             ],
             [
              0.8888888888888888,
              "#fdca26"
             ],
             [
              1,
              "#f0f921"
             ]
            ],
            "type": "surface"
           }
          ],
          "table": [
           {
            "cells": {
             "fill": {
              "color": "#EBF0F8"
             },
             "line": {
              "color": "white"
             }
            },
            "header": {
             "fill": {
              "color": "#C8D4E3"
             },
             "line": {
              "color": "white"
             }
            },
            "type": "table"
           }
          ]
         },
         "layout": {
          "annotationdefaults": {
           "arrowcolor": "#2a3f5f",
           "arrowhead": 0,
           "arrowwidth": 1
          },
          "coloraxis": {
           "colorbar": {
            "outlinewidth": 0,
            "ticks": ""
           }
          },
          "colorscale": {
           "diverging": [
            [
             0,
             "#8e0152"
            ],
            [
             0.1,
             "#c51b7d"
            ],
            [
             0.2,
             "#de77ae"
            ],
            [
             0.3,
             "#f1b6da"
            ],
            [
             0.4,
             "#fde0ef"
            ],
            [
             0.5,
             "#f7f7f7"
            ],
            [
             0.6,
             "#e6f5d0"
            ],
            [
             0.7,
             "#b8e186"
            ],
            [
             0.8,
             "#7fbc41"
            ],
            [
             0.9,
             "#4d9221"
            ],
            [
             1,
             "#276419"
            ]
           ],
           "sequential": [
            [
             0,
             "#0d0887"
            ],
            [
             0.1111111111111111,
             "#46039f"
            ],
            [
             0.2222222222222222,
             "#7201a8"
            ],
            [
             0.3333333333333333,
             "#9c179e"
            ],
            [
             0.4444444444444444,
             "#bd3786"
            ],
            [
             0.5555555555555556,
             "#d8576b"
            ],
            [
             0.6666666666666666,
             "#ed7953"
            ],
            [
             0.7777777777777778,
             "#fb9f3a"
            ],
            [
             0.8888888888888888,
             "#fdca26"
            ],
            [
             1,
             "#f0f921"
            ]
           ],
           "sequentialminus": [
            [
             0,
             "#0d0887"
            ],
            [
             0.1111111111111111,
             "#46039f"
            ],
            [
             0.2222222222222222,
             "#7201a8"
            ],
            [
             0.3333333333333333,
             "#9c179e"
            ],
            [
             0.4444444444444444,
             "#bd3786"
            ],
            [
             0.5555555555555556,
             "#d8576b"
            ],
            [
             0.6666666666666666,
             "#ed7953"
            ],
            [
             0.7777777777777778,
             "#fb9f3a"
            ],
            [
             0.8888888888888888,
             "#fdca26"
            ],
            [
             1,
             "#f0f921"
            ]
           ]
          },
          "colorway": [
           "#636efa",
           "#EF553B",
           "#00cc96",
           "#ab63fa",
           "#FFA15A",
           "#19d3f3",
           "#FF6692",
           "#B6E880",
           "#FF97FF",
           "#FECB52"
          ],
          "font": {
           "color": "#2a3f5f"
          },
          "geo": {
           "bgcolor": "white",
           "lakecolor": "white",
           "landcolor": "#E5ECF6",
           "showlakes": true,
           "showland": true,
           "subunitcolor": "white"
          },
          "hoverlabel": {
           "align": "left"
          },
          "hovermode": "closest",
          "mapbox": {
           "style": "light"
          },
          "paper_bgcolor": "white",
          "plot_bgcolor": "#E5ECF6",
          "polar": {
           "angularaxis": {
            "gridcolor": "white",
            "linecolor": "white",
            "ticks": ""
           },
           "bgcolor": "#E5ECF6",
           "radialaxis": {
            "gridcolor": "white",
            "linecolor": "white",
            "ticks": ""
           }
          },
          "scene": {
           "xaxis": {
            "backgroundcolor": "#E5ECF6",
            "gridcolor": "white",
            "gridwidth": 2,
            "linecolor": "white",
            "showbackground": true,
            "ticks": "",
            "zerolinecolor": "white"
           },
           "yaxis": {
            "backgroundcolor": "#E5ECF6",
            "gridcolor": "white",
            "gridwidth": 2,
            "linecolor": "white",
            "showbackground": true,
            "ticks": "",
            "zerolinecolor": "white"
           },
           "zaxis": {
            "backgroundcolor": "#E5ECF6",
            "gridcolor": "white",
            "gridwidth": 2,
            "linecolor": "white",
            "showbackground": true,
            "ticks": "",
            "zerolinecolor": "white"
           }
          },
          "shapedefaults": {
           "line": {
            "color": "#2a3f5f"
           }
          },
          "ternary": {
           "aaxis": {
            "gridcolor": "white",
            "linecolor": "white",
            "ticks": ""
           },
           "baxis": {
            "gridcolor": "white",
            "linecolor": "white",
            "ticks": ""
           },
           "bgcolor": "#E5ECF6",
           "caxis": {
            "gridcolor": "white",
            "linecolor": "white",
            "ticks": ""
           }
          },
          "title": {
           "x": 0.05
          },
          "xaxis": {
           "automargin": true,
           "gridcolor": "white",
           "linecolor": "white",
           "ticks": "",
           "title": {
            "standoff": 15
           },
           "zerolinecolor": "white",
           "zerolinewidth": 2
          },
          "yaxis": {
           "automargin": true,
           "gridcolor": "white",
           "linecolor": "white",
           "ticks": "",
           "title": {
            "standoff": 15
           },
           "zerolinecolor": "white",
           "zerolinewidth": 2
          }
         }
        },
        "title": {
         "text": "t-SNE"
        },
        "width": 800,
        "xaxis": {
         "anchor": "y",
         "domain": [
          0,
          1
         ],
         "title": {
          "text": "x"
         }
        },
        "yaxis": {
         "anchor": "x",
         "domain": [
          0,
          1
         ],
         "title": {
          "text": "y"
         }
        }
       }
      }
     },
     "metadata": {},
     "output_type": "display_data"
    }
   ],
   "source": [
    "over_plot_preds(val_actions, val_labels, unseen_pred_actions[:30, :], unseen_labels[:30], val_lm)"
   ]
  },
  {
   "cell_type": "code",
   "execution_count": null,
   "metadata": {},
   "outputs": [
    {
     "name": "stderr",
     "output_type": "stream",
     "text": [
      "unseen: 100%|██████████| 175/175 [00:17<00:00, 10.01batch/s, loss=0.324]\n"
     ]
    },
    {
     "data": {
      "image/png": "[encoded data removed]",
      "text/plain": [
       "<Figure size 640x480 with 2 Axes>"
      ]
     },
     "metadata": {},
     "output_type": "display_data"
    },
    {
     "name": "stdout",
     "output_type": "stream",
     "text": [
      "Overall accuracy: 0.194\n",
      "\n",
      "                   precision     recall   f1-score rel. freq. abs. freq.|\t biggest thieves\n",
      "\n",
      "        standing       0.208      0.134      0.163      0.331       1853|\t watching TV: 0.866,\tascending stairs: 0.000,\t\n",
      "  house cleaning       1.000      0.001      0.001      0.329       1840|\t watching TV: 0.865,\tstanding: 0.113,\tascending stairs: 0.022,\t\n",
      "ascending stairs       0.369      0.022      0.042      0.193       1078|\t standing: 0.671,\twatching TV: 0.307,\t\n",
      "     watching TV       0.188      0.982      0.315      0.148        829|\t standing: 0.018,\tascending stairs: 0.000,\t\n",
      "\n",
      "----------------------------------------------------------------------------------------------------\n",
      "     avg / total       0.496      0.194      0.109        1.0       5600|\t      \n",
      "\n"
     ]
    }
   ],
   "source": [
    "test_metrics, _, _ = eval_step1(imu_model, test_dl, unseen_action_ft, unseen_action_label, imu_loss_module, device=device, class_names=[all_classes[i] for i in unseen_classes], class_ids=unseen_classes,  target_feat_met=test_dt.getClassAttrs(), phase='unseen', loss_alpha=0.8, batch_size=config['batch_size'], neighs=10)\n"
   ]
  },
  {
   "cell_type": "code",
   "execution_count": null,
   "metadata": {},
   "outputs": [],
   "source": []
  },
  {
   "cell_type": "code",
   "execution_count": null,
   "metadata": {},
   "outputs": [],
   "source": []
  }
 ],
 "metadata": {
  "kernelspec": {
   "display_name": "Python 3.8.13 ('mvts_trans')",
   "language": "python",
   "name": "python3"
  },
  "language_info": {
   "codemirror_mode": {
    "name": "ipython",
    "version": 3
   },
   "file_extension": ".py",
   "mimetype": "text/x-python",
   "name": "python",
   "nbconvert_exporter": "python",
   "pygments_lexer": "ipython3",
   "version": "3.8.13 (default, Mar 28 2022, 06:59:08) [MSC v.1916 64 bit (AMD64)]"
  },
  "orig_nbformat": 4,
  "vscode": {
   "interpreter": {
    "hash": "ccc35149ad8fa032444ebff1245e6ef176e6c1ce3af8dec48e3374f21a6b0f27"
   }
  }
 },
 "nbformat": 4,
 "nbformat_minor": 2
}
