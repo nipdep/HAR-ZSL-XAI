{
 "cells": [
  {
   "cell_type": "code",
   "execution_count": 1,
   "metadata": {},
   "outputs": [],
   "source": [
    "# !pip install chart_studio"
   ]
  },
  {
   "cell_type": "code",
   "execution_count": 2,
   "metadata": {},
   "outputs": [],
   "source": [
    "import os \n",
    "import random \n",
    "from random import sample, choice\n",
    "from datetime import date, datetime\n",
    "from tqdm import tqdm\n",
    "from copy import deepcopy\n",
    "import numpy as np \n",
    "import pandas as pd\n",
    "from collections import defaultdict\n",
    "\n",
    "import torch \n",
    "from torch import nn, Tensor\n",
    "from torch.nn import functional as F\n",
    "from torch.nn.modules import MultiheadAttention, Linear, Dropout, BatchNorm1d, TransformerEncoderLayer\n",
    "from torch.nn.utils.rnn import pack_padded_sequence, pad_packed_sequence\n",
    "from torch.utils.data import Dataset, DataLoader\n",
    "from torch.optim import Adam\n",
    "from torch.nn import MSELoss,L1Loss\n",
    "\n",
    "from sklearn.metrics import accuracy_score\n",
    "from sklearn.metrics.pairwise import cosine_similarity, euclidean_distances\n",
    "from sklearn.neighbors import KNeighborsClassifier\n",
    "\n",
    "from pytorch_metric_learning.losses import ContrastiveLoss"
   ]
  },
  {
   "cell_type": "code",
   "execution_count": 3,
   "metadata": {},
   "outputs": [],
   "source": [
    "from src.datasets.data import PAMAP2Reader\n",
    "# from src.datasets.dataset import PAMAP2Dataset\n",
    "\n",
    "from src.models.ts_transformer import RelativeGlobalAttention\n",
    "from src.models.loss import FeatureLoss, AttributeLoss \n",
    "from src.utils.losses import *\n",
    "\n",
    "from src.utils.analysis import action_evaluator"
   ]
  },
  {
   "cell_type": "code",
   "execution_count": 4,
   "metadata": {},
   "outputs": [],
   "source": [
    "from sklearn.manifold import TSNE\n",
    "from umap import UMAP\n",
    "\n",
    "import matplotlib.pyplot as plt \n",
    "import seaborn as sns \n",
    "import plotly.express as px"
   ]
  },
  {
   "cell_type": "code",
   "execution_count": 5,
   "metadata": {},
   "outputs": [],
   "source": [
    "import chart_studio\n",
    "import chart_studio.plotly as py \n",
    "import chart_studio.tools as tls\n",
    "\n",
    "plotly_user = 'nipdep'\n",
    "plotly_key = 'BNQUTzoP5YBLtc8uggat'\n",
    "chart_studio.tools.set_credentials_file(username=plotly_user, api_key=plotly_key)"
   ]
  },
  {
   "cell_type": "code",
   "execution_count": 6,
   "metadata": {},
   "outputs": [],
   "source": [
    "# setup model configurations\n",
    "config = {\n",
    "    # general information\n",
    "    \"experiment-name\": \"test-001\", \n",
    "    \"datetime\": date.today(),\n",
    "    \"device\": \"gpu\",\n",
    "    \"dataset\": \"PAMAP2\", # \"PAMAP2\", \"DaLiAc\", \"UTD\"\n",
    "    \"Model\": \"RelativeGlobalAttention\",\n",
    "    \"sem-space\": 'attr',\n",
    "    # model training configs\n",
    "    \"include_attribute_loss\": True, \n",
    "    \"n_actions\": 18,\n",
    "    \"folding\": True,\n",
    "    \"lr\": 0.001,\n",
    "    \"ae_lr\": 0.0001,\n",
    "    \"imu_lr\": 0.0004,\n",
    "    \"ae_alpha\": 0.9,\n",
    "    \"imu_alpha\": 0.9,\n",
    "    \"n_epochs\": 3,\n",
    "    \"optimizer\": \"adam\",\n",
    "    \"batch_size\": 32,\n",
    "    \"semantic_loss\": \"cosine_distance\",\n",
    "    # model configs\n",
    "    \"d_model\": 128, \n",
    "    \"num_heads\": 2,\n",
    "    \"feat_size\": 256, # skel-AE hidden size and IMU-Anc output size\n",
    "    \"semantic_size\": 64,\n",
    "    \"n_sem\": 5,\n",
    "    # dataset configs\n",
    "    \"window_size\": 5, \n",
    "    \"overlap\": 0.5,\n",
    "    \"seq_len\": 50,  # skeleton seq. length\n",
    "    \"seen_split\": 0.2,\n",
    "    \"unseen_split\": 0.8\n",
    "}"
   ]
  },
  {
   "cell_type": "markdown",
   "metadata": {},
   "source": [
    "---"
   ]
  },
  {
   "cell_type": "code",
   "execution_count": 7,
   "metadata": {},
   "outputs": [],
   "source": [
    "class IMUEncoder(nn.Module):\n",
    "    def __init__(self, in_ft, d_model, num_heads, ft_size, n_classes, max_len=1024, dropout=0.1):\n",
    "        super(IMUEncoder, self).__init__()\n",
    "        self.in_ft = in_ft\n",
    "        self.max_len = max_len\n",
    "        self.d_model = d_model\n",
    "        self.num_heads = num_heads\n",
    "        self.ft_size = ft_size \n",
    "        self.n_classes = n_classes\n",
    "\n",
    "        # feature prep layer\n",
    "        self.DenseL = nn.Linear(in_ft, d_model)\n",
    "        # relative global attention layer\n",
    "        self.AttnL = RelativeGlobalAttention(self.d_model, self.num_heads, self.max_len)\n",
    "        # positional encoding concat <-> 1DConv \n",
    "        self.Act = F.relu  # _get_activation_fn(activation)\n",
    "        self.AvgPoolL = nn.AvgPool2d((self.max_len,1))\n",
    "        self.DenseL2 = nn.Linear(self.d_model, self.ft_size)\n",
    "        self.dropout = nn.Dropout1d(dropout)\n",
    "        self.logist = nn.Linear(self.ft_size, self.n_classes)\n",
    "\n",
    "    def forward(self, x):\n",
    "        out = self.DenseL(x)\n",
    "        out = self.AttnL(out)\n",
    "        out = self.Act(out)\n",
    "        out = self.AvgPoolL(out)\n",
    "        out = torch.squeeze(out)\n",
    "        out = self.dropout(out)\n",
    "        out1 = self.DenseL2(out)   \n",
    "        out = self.logist(out1)     \n",
    "        return out, out1"
   ]
  },
  {
   "cell_type": "code",
   "execution_count": 8,
   "metadata": {},
   "outputs": [
    {
     "data": {
      "text/plain": [
       "(torch.Size([32, 2]), torch.Size([32, 128]))"
      ]
     },
     "execution_count": 8,
     "metadata": {},
     "output_type": "execute_result"
    }
   ],
   "source": [
    "# test model \n",
    "sample_input = torch.randn((32, 120, 42))\n",
    "model = IMUEncoder(in_ft=42, d_model=128, num_heads=2, ft_size=128, n_classes=2, max_len=120, dropout=0.1)\n",
    "sample_output = model(sample_input)\n",
    "sample_output[0].shape, sample_output[1].shape"
   ]
  },
  {
   "cell_type": "markdown",
   "metadata": {},
   "source": [
    "---"
   ]
  },
  {
   "cell_type": "code",
   "execution_count": 9,
   "metadata": {},
   "outputs": [],
   "source": [
    "\n",
    "class BiLSTMEncoder(nn.Module):\n",
    "    def __init__(self,seq_len, input_size, hidden_size,linear_filters,embedding_size:int, num_layers = 1,bidirectional=True,batch_size=32):\n",
    "        super(BiLSTMEncoder, self).__init__()\n",
    "        self.input_size = input_size\n",
    "        self.hidden_size = hidden_size\n",
    "        self.num_layers = num_layers\n",
    "        self.linear_filters = linear_filters\n",
    "        self.embedding_size = embedding_size\n",
    "        self.bidirectional = bidirectional\n",
    "        self.batch_size = batch_size\n",
    "        self.seq_len = seq_len\n",
    "\n",
    "        # define LSTM layer\n",
    "        self.layers = []\n",
    "\n",
    "        # add linear layers \n",
    "        for __id,layer_out in enumerate(self.linear_filters):\n",
    "            if __id == 0:\n",
    "                self.layers.append(nn.Linear(self.input_size, layer_out))\n",
    "            else:\n",
    "                self.layers.append(nn.Linear(self.linear_filters[__id-1], layer_out))\n",
    "\n",
    "        # add lstm layer\n",
    "        self.lstm = nn.LSTM(input_size = layer_out, hidden_size = self.hidden_size,\n",
    "                            num_layers = self.num_layers, bidirectional=self.bidirectional,\n",
    "                            batch_first=True)\n",
    "        self.net = nn.Sequential(*self.layers)\n",
    "\n",
    "        #add embedding out\n",
    "        if bidirectional:\n",
    "            self.out_linear = nn.Linear(self.hidden_size*4, self.embedding_size)\n",
    "        else:\n",
    "            self.out_linear = nn.Linear(self.hidden_size*2, self.embedding_size)\n",
    "\n",
    "        \n",
    "    def forward(self, x_input):\n",
    "        '''\n",
    "        : param x_input:               input of shape (seq_len, # in batch, input_size)\n",
    "        : return lstm_out, hidden:     lstm_out gives all the hidden states in the sequence; hidden gives the hidden state and cell state for the last element in the sequence                         \n",
    "        '''\n",
    "        \n",
    "        x = self.net(x_input)\n",
    "        lstm_out, self.hidden = self.lstm(x)\n",
    "        hidden_transformed = torch.concat(self.hidden,0)\n",
    "        hidden_transformed = torch.transpose(hidden_transformed,0,1)\n",
    "        hidden_transformed = torch.flatten(hidden_transformed,start_dim=1)\n",
    "        hidden_transformed = self.out_linear(hidden_transformed)\n",
    "        \n",
    "        return lstm_out, hidden_transformed\n",
    "\n",
    "    \n",
    "class BiLSTMDecoder(nn.Module):\n",
    "    def __init__(self,seq_len, input_size, hidden_size, linear_filters,embedding_size:int, num_layers = 1,bidirectional=True,batch_size=32, device='cpu'):\n",
    "        super(BiLSTMDecoder, self).__init__()\n",
    "        self.input_size = input_size\n",
    "        self.hidden_size = hidden_size\n",
    "        self.num_layers = num_layers\n",
    "        self.linear_filters = linear_filters[::-1]\n",
    "        self.embedding_size = embedding_size\n",
    "        self.bidirectional = bidirectional\n",
    "        self.batch_size = batch_size\n",
    "        self.seq_len = seq_len\n",
    "        self.device = device\n",
    "\n",
    "        if bidirectional:\n",
    "            self.input_linear = nn.Linear(self.embedding_size,4*self.hidden_size)\n",
    "        else:\n",
    "            self.input_linear = nn.Linear(self.embedding_size,2*self.hidden_size)\n",
    "\n",
    "        # define LSTM layer\n",
    "        self.layers = []\n",
    "        # add lstm\n",
    "        self.lstm = nn.LSTM(input_size = self.linear_filters[0], hidden_size = self.hidden_size,\n",
    "                            num_layers = self.num_layers, bidirectional=True,\n",
    "                            batch_first=bidirectional)\n",
    "              \n",
    "        # add linear layers \n",
    "        if bidirectional:\n",
    "            self.layers.append(nn.Linear(2*hidden_size,self.linear_filters[0]))\n",
    "        else:\n",
    "            self.layers.append(nn.Linear(hidden_size,self.linear_filters[0]))\n",
    "\n",
    "        for __id,layer_in in enumerate(self.linear_filters):\n",
    "            if __id == len(linear_filters)-1:\n",
    "                self.layers.append(nn.Linear(layer_in,self.input_size))\n",
    "            else:\n",
    "                self.layers.append(nn.Linear(layer_in,self.linear_filters[__id+1]))\n",
    "\n",
    "        self.net = nn.Sequential(*self.layers)\n",
    "\n",
    "    def forward(self,encoder_hidden):\n",
    "        '''\n",
    "        : param x_input:               input of shape (seq_len, # in batch, input_size)\n",
    "        : return lstm_out, hidden:     lstm_out gives all the hidden states in the sequence; hidden gives the hidden state and cell state for the last element in the sequence                         \n",
    "        '''\n",
    "        \n",
    "        \n",
    "        hidden_shape = encoder_hidden.shape\n",
    "        encoder_hidden = self.input_linear(encoder_hidden)\n",
    "        \n",
    "        if self.bidirectional:\n",
    "            hidden = encoder_hidden.view((self.batch_size,4,self.hidden_size))\n",
    "            # print(hidden.shape)\n",
    "            hidden = torch.transpose(hidden,1,0)\n",
    "            h1,h2,c1,c2 = torch.unbind(hidden,0)\n",
    "            h,c = torch.stack((h1,h2)),torch.stack((c1,c2))\n",
    "        else:\n",
    "            hidden = encoder_hidden.view((self.batch_size,2,self.hidden_size))\n",
    "            hidden = torch.transpose(hidden,1,0)\n",
    "            h,c = torch.unbind(hidden,0)\n",
    "        \n",
    "        dummy_input = torch.rand((self.batch_size,self.seq_len,self.hidden_size), requires_grad=True)\n",
    "        dummy_input = dummy_input.to(self.device)\n",
    "        \n",
    "        lstm_out, self.hidden = self.lstm(dummy_input,(h,c))\n",
    "        x = self.net(lstm_out)\n",
    "        return x\n",
    "\n",
    "class SkeletonAE(nn.Module):\n",
    "    def __init__(self,seq_len, input_size, hidden_size, linear_filters=[128,256,512],embedding_size:int=256, num_layers = 1,bidirectional=True, batch_size=32, device='cpu'):\n",
    "        super(SkeletonAE, self).__init__()\n",
    "        self.input_size = input_size\n",
    "        self.hidden_size = hidden_size\n",
    "        self.num_layers = num_layers\n",
    "        self.linear_filters = linear_filters[::-1]\n",
    "        self.embedding_size = embedding_size\n",
    "        self.bidirectional = bidirectional\n",
    "        self.batch_size = batch_size\n",
    "        self.seq_len = seq_len\n",
    "        \n",
    "        self.encoder = BiLSTMEncoder(seq_len, input_size, hidden_size, linear_filters,embedding_size, num_layers = 1,bidirectional=True,batch_size=32)\n",
    "        self.decoder = BiLSTMDecoder(seq_len, input_size, hidden_size, linear_filters,embedding_size, num_layers = 1,bidirectional=True,batch_size=32, device=device)\n",
    "        \n",
    "    def forward(self,x):\n",
    "        lstm_out,embedding = self.encoder(x)\n",
    "        decoder_out = self.decoder(embedding)\n",
    "        \n",
    "        return decoder_out, embedding  \n",
    "        "
   ]
  },
  {
   "cell_type": "code",
   "execution_count": 10,
   "metadata": {},
   "outputs": [
    {
     "data": {
      "text/plain": [
       "<All keys matched successfully>"
      ]
     },
     "execution_count": 10,
     "metadata": {},
     "output_type": "execute_result"
    }
   ],
   "source": [
    "ae_model = SkeletonAE(seq_len=50, input_size=36, hidden_size=512, linear_filters=[128,256,512], embedding_size=256, num_layers=1,bidirectional=True,batch_size=32)\n",
    "prep_dir = './tmp/random_input_100_epochs.pt'\n",
    "ae_model.load_state_dict(torch.load(prep_dir))"
   ]
  },
  {
   "cell_type": "markdown",
   "metadata": {},
   "source": [
    "---"
   ]
  },
  {
   "cell_type": "code",
   "execution_count": 11,
   "metadata": {},
   "outputs": [],
   "source": [
    "if config['device'] == 'cpu':\n",
    "    device = \"cpu\"\n",
    "else:\n",
    "    device = torch.device(\"cuda:0\" if torch.cuda.is_available() else \"cpu\")"
   ]
  },
  {
   "cell_type": "code",
   "execution_count": 12,
   "metadata": {},
   "outputs": [
    {
     "name": "stdout",
     "output_type": "stream",
     "text": [
      "Reading file 1 of 14\n",
      "Reading file 2 of 14\n",
      "Reading file 3 of 14\n",
      "Reading file 4 of 14\n",
      "Reading file 5 of 14\n",
      "Reading file 6 of 14\n",
      "Reading file 7 of 14\n",
      "Reading file 8 of 14\n",
      "Reading file 9 of 14\n",
      "Reading file 10 of 14\n",
      "Reading file 11 of 14\n",
      "Reading file 12 of 14\n",
      "Reading file 13 of 14\n",
      "Reading file 14 of 14\n"
     ]
    },
    {
     "name": "stderr",
     "output_type": "stream",
     "text": [
      "g:\\FYP\\Codebases\\Pose-AE\\src\\datasets\\data.py:65: VisibleDeprecationWarning:\n",
      "\n",
      "Creating an ndarray from ragged nested sequences (which is a list-or-tuple of lists-or-tuples-or ndarrays with different lengths or shapes) is deprecated. If you meant to do this, you must specify 'dtype=object' when creating the ndarray.\n",
      "\n"
     ]
    }
   ],
   "source": [
    "# import PAMAP2 dataset\n",
    "dt = config['dataset']\n",
    "if dt == 'PAMAP2':\n",
    "    dataReader = PAMAP2Reader('./data/PAMAP2_Dataset/Protocol/')\n",
    "\n",
    "actionList = dataReader.idToLabel"
   ]
  },
  {
   "cell_type": "code",
   "execution_count": 13,
   "metadata": {},
   "outputs": [],
   "source": [
    "if dt == 'PAMAP2':\n",
    "    fold_classes = [['watching TV', 'house cleaning', 'standing', 'ascending stairs'], ['walking', 'rope jumping', 'sitting', 'descending stairs'], ['playing soccer', 'lying', 'vacuum cleaning', 'computer work'], ['cycling', 'running', 'Nordic walking'], ['ironing', 'car driving', 'folding laundry']]\n",
    "\n",
    "fold_cls_ids = [[actionList.index(i) for i in j] for j in fold_classes]"
   ]
  },
  {
   "cell_type": "code",
   "execution_count": 14,
   "metadata": {},
   "outputs": [],
   "source": [
    "skeleton_data = np.load('./data/skeleton_k10_movements.npz')\n",
    "skeleton_classes, skeleton_mov = skeleton_data['arr_0'], skeleton_data['arr_1']"
   ]
  },
  {
   "cell_type": "code",
   "execution_count": 15,
   "metadata": {},
   "outputs": [
    {
     "data": {
      "text/plain": [
       "(180, 60, 36)"
      ]
     },
     "execution_count": 15,
     "metadata": {},
     "output_type": "execute_result"
    }
   ],
   "source": [
    "skeleton_mov.shape"
   ]
  },
  {
   "cell_type": "code",
   "execution_count": 16,
   "metadata": {},
   "outputs": [
    {
     "data": {
      "text/plain": [
       "(array(['Nordic walking', 'ascending stairs', 'car driving',\n",
       "        'computer work', 'cycling', 'descending stairs', 'folding laundry',\n",
       "        'house cleaning', 'ironing', 'lying', 'playing soccer',\n",
       "        'rope jumping', 'running', 'sitting', 'standing',\n",
       "        'vacuum cleaning', 'walking', 'watching TV'], dtype='<U17'),\n",
       " array([10, 10, 10, 10, 10, 10, 10, 10, 10, 10, 10, 10, 10, 10, 10, 10, 10,\n",
       "        10], dtype=int64))"
      ]
     },
     "execution_count": 16,
     "metadata": {},
     "output_type": "execute_result"
    }
   ],
   "source": [
    "np.unique(skeleton_classes, return_counts=True)"
   ]
  },
  {
   "cell_type": "code",
   "execution_count": 17,
   "metadata": {},
   "outputs": [
    {
     "data": {
      "text/plain": [
       "[(1, 'lying'),\n",
       " (2, 'sitting'),\n",
       " (3, 'standing'),\n",
       " (4, 'walking'),\n",
       " (5, 'running'),\n",
       " (6, 'cycling'),\n",
       " (7, 'Nordic walking'),\n",
       " (9, 'watching TV'),\n",
       " (10, 'computer work'),\n",
       " (11, 'car driving'),\n",
       " (12, 'ascending stairs'),\n",
       " (13, 'descending stairs'),\n",
       " (16, 'vacuum cleaning'),\n",
       " (17, 'ironing'),\n",
       " (18, 'folding laundry'),\n",
       " (19, 'house cleaning'),\n",
       " (20, 'playing soccer'),\n",
       " (24, 'rope jumping')]"
      ]
     },
     "execution_count": 17,
     "metadata": {},
     "output_type": "execute_result"
    }
   ],
   "source": [
    "dataReader.label_map"
   ]
  },
  {
   "cell_type": "code",
   "execution_count": 18,
   "metadata": {},
   "outputs": [
    {
     "data": {
      "text/plain": [
       "array(['Nordic walking', 'ascending stairs', 'car driving',\n",
       "       'computer work', 'cycling', 'descending stairs', 'folding laundry',\n",
       "       'house cleaning', 'ironing', 'lying', 'playing soccer',\n",
       "       'rope jumping', 'running', 'sitting', 'standing',\n",
       "       'vacuum cleaning', 'walking', 'watching TV'], dtype='<U17')"
      ]
     },
     "execution_count": 18,
     "metadata": {},
     "output_type": "execute_result"
    }
   ],
   "source": [
    "np.unique(skeleton_classes)"
   ]
  },
  {
   "cell_type": "code",
   "execution_count": 19,
   "metadata": {},
   "outputs": [],
   "source": [
    "from collections import defaultdict\n",
    "\n",
    "label2Id = {c[1]:i for i,c in enumerate(dataReader.label_map)}\n",
    "action_dict = defaultdict(list)\n",
    "skeleton_Ids = []\n",
    "for i, a in enumerate(skeleton_classes):\n",
    "    action_dict[label2Id[a]].append(i)\n",
    "    skeleton_Ids.append(label2Id[a])"
   ]
  },
  {
   "cell_type": "code",
   "execution_count": 20,
   "metadata": {},
   "outputs": [
    {
     "data": {
      "text/plain": [
       "defaultdict(list,\n",
       "            {10: [0, 1, 2, 3, 4, 5, 6, 7, 8, 9],\n",
       "             9: [10, 11, 12, 13, 14, 15, 16, 17, 18, 19],\n",
       "             8: [20, 21, 22, 23, 24, 25, 26, 27, 28, 29],\n",
       "             5: [30, 31, 32, 33, 34, 35, 36, 37, 38, 39],\n",
       "             11: [40, 41, 42, 43, 44, 45, 46, 47, 48, 49],\n",
       "             14: [50, 51, 52, 53, 54, 55, 56, 57, 58, 59],\n",
       "             15: [60, 61, 62, 63, 64, 65, 66, 67, 68, 69],\n",
       "             13: [70, 71, 72, 73, 74, 75, 76, 77, 78, 79],\n",
       "             0: [80, 81, 82, 83, 84, 85, 86, 87, 88, 89],\n",
       "             6: [90, 91, 92, 93, 94, 95, 96, 97, 98, 99],\n",
       "             16: [100, 101, 102, 103, 104, 105, 106, 107, 108, 109],\n",
       "             17: [110, 111, 112, 113, 114, 115, 116, 117, 118, 119],\n",
       "             4: [120, 121, 122, 123, 124, 125, 126, 127, 128, 129],\n",
       "             1: [130, 131, 132, 133, 134, 135, 136, 137, 138, 139],\n",
       "             2: [140, 141, 142, 143, 144, 145, 146, 147, 148, 149],\n",
       "             12: [150, 151, 152, 153, 154, 155, 156, 157, 158, 159],\n",
       "             3: [160, 161, 162, 163, 164, 165, 166, 167, 168, 169],\n",
       "             7: [170, 171, 172, 173, 174, 175, 176, 177, 178, 179]})"
      ]
     },
     "execution_count": 20,
     "metadata": {},
     "output_type": "execute_result"
    }
   ],
   "source": [
    "action_dict"
   ]
  },
  {
   "cell_type": "code",
   "execution_count": 21,
   "metadata": {},
   "outputs": [],
   "source": [
    "def get_class_ft(data, model, device, bs=32):\n",
    "    \n",
    "    ns, _, _ = data.shape \n",
    "    padded_mat = F.pad(input=data, pad=(0,0,0,0,0,bs-ns), mode='constant', value=0)\n",
    "    # print(padded_mat.shape)\n",
    "    _, vector_out = model(padded_mat.float().to(device)) # batch second mode\n",
    "    action_feat_mat = vector_out[:ns, :].cpu().detach().numpy()\n",
    "    return action_feat_mat"
   ]
  },
  {
   "cell_type": "markdown",
   "metadata": {},
   "source": [
    "---"
   ]
  },
  {
   "cell_type": "code",
   "execution_count": 22,
   "metadata": {},
   "outputs": [],
   "source": [
    "class PAMAP2Dataset(Dataset):\n",
    "    def __init__(self, data, actions, attributes, attribute_dict, action_classes, n_feat=10, seq_len=120):\n",
    "        super(PAMAP2Dataset, self).__init__()\n",
    "        self.data = torch.from_numpy(data)\n",
    "        self.actions = actions\n",
    "        self.attribute_dict = attribute_dict\n",
    "        self.seq_len = seq_len\n",
    "        self.attributes = torch.from_numpy(attributes[:, :seq_len, ...])\n",
    "        self.action_classes = action_classes\n",
    "        self.n_feat = n_feat\n",
    "        # build action to id mapping dict\n",
    "        self.n_action = len(self.actions)\n",
    "        self.action2Id = dict(zip(action_classes, range(self.n_action)))\n",
    "        self.genPNMapping() # init pos-neg mapping\n",
    "\n",
    "    def genPNMapping(self):\n",
    "        tmp_classes = deepcopy(self.action_classes)\n",
    "        random.shuffle(tmp_classes)\n",
    "        self.pos_neg_map = dict(zip(self.action_classes, tmp_classes))\n",
    "        # print(self.pos_neg_map)\n",
    "\n",
    "    def __getitem__(self, ind):\n",
    "        x = self.data[ind, ...]\n",
    "        x_mask = np.array([0]) # self.padding_mask[ind, ...]\n",
    "        target = self.actions[ind]\n",
    "        y = torch.from_numpy(np.array([self.action2Id[target]]))\n",
    "\n",
    "        # extraction semantic space generation skeleton sequences \n",
    "        # positive reference vector\n",
    "        pos_idx = random.sample(self.attribute_dict[target], k=self.n_feat)\n",
    "        pos_feat = self.attributes[pos_idx, ...]\n",
    "        # negative reference vector\n",
    "        neg_class = self.pos_neg_map[target]\n",
    "        neg_idx = random.sample(self.attribute_dict[neg_class], k=self.n_feat)\n",
    "        neg_feat = self.attributes[neg_idx, ...]\n",
    "        return x, y, pos_feat, neg_class, neg_feat, x_mask\n",
    "\n",
    "    def __len__(self):\n",
    "        return self.data.shape[0]\n",
    "\n",
    "    def getClassAttrs(self):\n",
    "        sampling_idx = [random.choice(self.attribute_dict[i]) for i in self.action_classes]\n",
    "        ft_mat = self.attributes[sampling_idx, ...]\n",
    "        return ft_mat "
   ]
  },
  {
   "cell_type": "code",
   "execution_count": 23,
   "metadata": {},
   "outputs": [
    {
     "name": "stdout",
     "output_type": "stream",
     "text": [
      "{0: torch.Size([32, 105, 27]), 1: torch.Size([32, 1]), 2: torch.Size([32, 10, 60, 36]), 3: torch.Size([32]), 4: torch.Size([32, 10, 60, 36]), 5: torch.Size([32, 1])}\n"
     ]
    }
   ],
   "source": [
    "data_dict = dataReader.generate(unseen_classes=fold_cls_ids[0], seen_ratio=0.2, unseen_ratio=0.8, window_size=5.21, window_overlap=4.21, resample_freq=20)\n",
    "sample_dt = PAMAP2Dataset(data=data_dict['train']['X'], actions=data_dict['train']['y'], attributes=skeleton_mov, attribute_dict=action_dict, action_classes=data_dict['seen_classes'], seq_len=100)\n",
    "sample_dl = DataLoader(sample_dt, batch_size=32, shuffle=True, pin_memory=True, drop_last=True)\n",
    "for d in sample_dl:\n",
    "    print({i: d[i].shape for i in range(len(d))})\n",
    "    break"
   ]
  },
  {
   "cell_type": "code",
   "execution_count": 24,
   "metadata": {},
   "outputs": [
    {
     "data": {
      "text/plain": [
       "torch.Size([32, 10, 60, 36])"
      ]
     },
     "execution_count": 24,
     "metadata": {},
     "output_type": "execute_result"
    }
   ],
   "source": [
    "d[4].shape"
   ]
  },
  {
   "cell_type": "code",
   "execution_count": 25,
   "metadata": {},
   "outputs": [
    {
     "data": {
      "text/plain": [
       "torch.Size([10, 32, 60, 36])"
      ]
     },
     "execution_count": 25,
     "metadata": {},
     "output_type": "execute_result"
    }
   ],
   "source": [
    "ter = torch.transpose(d[2], 0, 1)\n",
    "ter.shape"
   ]
  },
  {
   "cell_type": "code",
   "execution_count": 26,
   "metadata": {},
   "outputs": [
    {
     "data": {
      "text/plain": [
       "torch.Size([320, 60, 36])"
      ]
     },
     "execution_count": 26,
     "metadata": {},
     "output_type": "execute_result"
    }
   ],
   "source": [
    "d[2].view(-1, *d[2].shape[2:]).shape"
   ]
  },
  {
   "cell_type": "code",
   "execution_count": 27,
   "metadata": {},
   "outputs": [
    {
     "data": {
      "text/plain": [
       "torch.Size([32, 60, 36])"
      ]
     },
     "execution_count": 27,
     "metadata": {},
     "output_type": "execute_result"
    }
   ],
   "source": [
    "torch.unbind(ter, dim=0)[0].shape"
   ]
  },
  {
   "cell_type": "code",
   "execution_count": 28,
   "metadata": {},
   "outputs": [
    {
     "data": {
      "text/plain": [
       "torch.Size([14, 60, 36])"
      ]
     },
     "execution_count": 28,
     "metadata": {},
     "output_type": "execute_result"
    }
   ],
   "source": [
    "r = sample_dt.getClassAttrs()\n",
    "r.shape"
   ]
  },
  {
   "cell_type": "code",
   "execution_count": 29,
   "metadata": {},
   "outputs": [
    {
     "data": {
      "text/plain": [
       "torch.Size([32, 60, 36])"
      ]
     },
     "execution_count": 29,
     "metadata": {},
     "output_type": "execute_result"
    }
   ],
   "source": [
    "pr = F.pad(input=r, pad=(0, 0, 0, 0, 0, 18), mode='constant', value=0)\n",
    "pr.shape"
   ]
  },
  {
   "cell_type": "code",
   "execution_count": 30,
   "metadata": {},
   "outputs": [
    {
     "data": {
      "text/plain": [
       "torch.Size([60, 32, 36])"
      ]
     },
     "execution_count": 30,
     "metadata": {},
     "output_type": "execute_result"
    }
   ],
   "source": [
    "torch.transpose(pr, 0, 1).shape"
   ]
  },
  {
   "cell_type": "code",
   "execution_count": 31,
   "metadata": {},
   "outputs": [
    {
     "data": {
      "text/plain": [
       "torch.Size([36, 60])"
      ]
     },
     "execution_count": 31,
     "metadata": {},
     "output_type": "execute_result"
    }
   ],
   "source": [
    "torch.transpose(r[1, ...], 1, 0).shape"
   ]
  },
  {
   "cell_type": "code",
   "execution_count": 32,
   "metadata": {},
   "outputs": [],
   "source": [
    "# r_out1, r_out2 = ae_model(torch.transpose(pr, 1, 0).float())\n",
    "# r_out1.shape, r_out2.shape"
   ]
  },
  {
   "cell_type": "markdown",
   "metadata": {},
   "source": [
    "---"
   ]
  },
  {
   "cell_type": "code",
   "execution_count": 33,
   "metadata": {},
   "outputs": [],
   "source": [
    "class SkeletonDataset(Dataset):\n",
    "    def __init__(self, movements, actions, action_dict, seq_len=60):\n",
    "        super(SkeletonDataset, self).__init__()\n",
    "        self.movements = torch.from_numpy(movements[:, :seq_len, ...])\n",
    "        self.actions = actions\n",
    "        self.action_dict = deepcopy(dict(action_dict))\n",
    "        self.actionsIDs = list(self.action_dict.keys())  \n",
    "\n",
    "    def __getitem__(self, idx):\n",
    "        x1 = self.movements[idx, ...]\n",
    "        action = self.actions[idx]\n",
    "        # partial_idx = random.sample(self.action_dict[action], k=1)[0]\n",
    "        # x2 = self.movements[partial_idx, ...]\n",
    "        label = self.actionsIDs.index(action)\n",
    "        # return np.transpose(x1, (1,0,2)), np.transpose(x2, (1,0,2)), label\n",
    "        return x1, label\n",
    "\n",
    "    def __len__(self):\n",
    "        return self.movements.shape[0]\n",
    "\n",
    "    def getShape(self):\n",
    "        return self.movements[0, ...].shape\n",
    "\n",
    "    def get_actions(self, label):\n",
    "        return self.movements[self.action_dict[label], ...]\n"
   ]
  },
  {
   "cell_type": "code",
   "execution_count": 34,
   "metadata": {},
   "outputs": [
    {
     "data": {
      "text/plain": [
       "defaultdict(list,\n",
       "            {10: [0, 1, 2, 3, 4, 5, 6, 7, 8, 9],\n",
       "             9: [10, 11, 12, 13, 14, 15, 16, 17, 18, 19],\n",
       "             8: [20, 21, 22, 23, 24, 25, 26, 27, 28, 29],\n",
       "             5: [30, 31, 32, 33, 34, 35, 36, 37, 38, 39],\n",
       "             11: [40, 41, 42, 43, 44, 45, 46, 47, 48, 49],\n",
       "             14: [50, 51, 52, 53, 54, 55, 56, 57, 58, 59],\n",
       "             15: [60, 61, 62, 63, 64, 65, 66, 67, 68, 69],\n",
       "             13: [70, 71, 72, 73, 74, 75, 76, 77, 78, 79],\n",
       "             0: [80, 81, 82, 83, 84, 85, 86, 87, 88, 89],\n",
       "             6: [90, 91, 92, 93, 94, 95, 96, 97, 98, 99],\n",
       "             16: [100, 101, 102, 103, 104, 105, 106, 107, 108, 109],\n",
       "             17: [110, 111, 112, 113, 114, 115, 116, 117, 118, 119],\n",
       "             4: [120, 121, 122, 123, 124, 125, 126, 127, 128, 129],\n",
       "             1: [130, 131, 132, 133, 134, 135, 136, 137, 138, 139],\n",
       "             2: [140, 141, 142, 143, 144, 145, 146, 147, 148, 149],\n",
       "             12: [150, 151, 152, 153, 154, 155, 156, 157, 158, 159],\n",
       "             3: [160, 161, 162, 163, 164, 165, 166, 167, 168, 169],\n",
       "             7: [170, 171, 172, 173, 174, 175, 176, 177, 178, 179]})"
      ]
     },
     "execution_count": 34,
     "metadata": {},
     "output_type": "execute_result"
    }
   ],
   "source": [
    "action_dict"
   ]
  },
  {
   "cell_type": "code",
   "execution_count": 35,
   "metadata": {},
   "outputs": [
    {
     "name": "stdout",
     "output_type": "stream",
     "text": [
      "torch.Size([32, 50, 36])\n"
     ]
    }
   ],
   "source": [
    "sample_dt = SkeletonDataset(skeleton_mov, skeleton_Ids, action_dict, seq_len=50)\n",
    "sample_dl = DataLoader(sample_dt, batch_size=config['batch_size'], shuffle=True, pin_memory=True, drop_last=True)\n",
    "for b in sample_dl:\n",
    "    bx1, by = b \n",
    "    # bx = torch.transpose(bx1, 1, 0)\n",
    "    bs, seq_len, ft_in = bx1.shape\n",
    "    print(bx1.shape)\n",
    "    break "
   ]
  },
  {
   "cell_type": "code",
   "execution_count": 36,
   "metadata": {},
   "outputs": [
    {
     "data": {
      "text/plain": [
       "torch.Size([50, 36])"
      ]
     },
     "execution_count": 36,
     "metadata": {},
     "output_type": "execute_result"
    }
   ],
   "source": [
    "sample_dt.getShape()"
   ]
  },
  {
   "attachments": {},
   "cell_type": "markdown",
   "metadata": {},
   "source": [
    "---"
   ]
  },
  {
   "cell_type": "code",
   "execution_count": 37,
   "metadata": {},
   "outputs": [],
   "source": [
    "class ActionTripletLoss(nn.Module):\n",
    "    # def __init__(self, action_feats, label_map, pos_thr=0.05, neg_thr=0.95, agg=\"mean\"):\n",
    "    def __init__(self, distance='cosine', k=10, pos_thr=0.05, neg_thr=0.95, theta=1e-4, agg=\"mean\", device=\"cpu\"):\n",
    "        super(ActionTripletLoss, self).__init__()\n",
    "        self.distance = distance\n",
    "        self.get_disMet(distance)\n",
    "        self.k = k\n",
    "        self.pos_thr = pos_thr\n",
    "        self.neg_thr = neg_thr\n",
    "        self.agg = agg \n",
    "        self.device = device \n",
    "        self.theta = theta\n",
    "\n",
    "    def get_disMet(self, distance):\n",
    "        if distance == 'cosine':\n",
    "            self.disMet = nn.CosineSimilarity(dim=2, eps=1e-6)\n",
    "        else:\n",
    "            self.disMet = nn.PairwiseDistance(p=2)\n",
    "\n",
    "    def forward(self, pred_fts, pos_fts, neg_fts):\n",
    "        neg_distances = self.disMet(pred_fts, neg_fts).to(self.device)\n",
    "        pos_distances = self.disMet(pred_fts, pos_fts).to(self.device)\n",
    "\n",
    "        if self.distance == 'cosine':\n",
    "            neg_distances = torch.abs(neg_distances)\n",
    "            pos_distances = torch.abs(pos_distances)\n",
    "\n",
    "        triplet_loss = F.relu(pos_distances-neg_distances+self.theta)\n",
    "        return triplet_loss.mean()\n"
   ]
  },
  {
   "cell_type": "markdown",
   "metadata": {},
   "source": [
    "---"
   ]
  },
  {
   "cell_type": "code",
   "execution_count": 38,
   "metadata": {},
   "outputs": [],
   "source": [
    "def get_class_avg(data, model, device, bs=32):\n",
    "    ns, _, _ = data.shape \n",
    "    padded_mat = F.pad(input=data, pad=(0,0,0,0,0,bs-ns), mode='constant', value=0)\n",
    "    _, vector_out = model(padded_mat.float().to(device)) # batch second mode\n",
    "    action_feat_mat = vector_out[:ns, :].cpu().detach().numpy()\n",
    "    avg_vector = np.mean(action_feat_mat, axis=0)\n",
    "    # print(action_feat_mat.shape, avg_vector.shape)\n",
    "    return avg_vector"
   ]
  },
  {
   "cell_type": "code",
   "execution_count": 39,
   "metadata": {},
   "outputs": [],
   "source": [
    "def apply(func, M):\n",
    "    tList = []\n",
    "    for m in torch.unbind(M, dim=0):\n",
    "        tList.append(func(m))\n",
    "    recons, feats = list(zip(*tList))\n",
    "    recons = torch.stack(recons, dim=0)\n",
    "    feats = torch.stack(feats, dim=0)\n",
    "    return recons, feats"
   ]
  },
  {
   "cell_type": "code",
   "execution_count": 40,
   "metadata": {},
   "outputs": [],
   "source": [
    "def imu_train_step1(model, ae, dataloader, skel_dt, optimizers, loss_module, device, class_names, class_ids, phase='train', l2_reg=False, imu_alpha=0.7, ae_alpha=0.7, batch_size=32):\n",
    "    model = model.train()\n",
    "    ae = ae.train()\n",
    "\n",
    "    epoch_imu_loss, epoch_ae_loss = 0, 0  # total loss of epoch\n",
    "    epoch_acc = 0\n",
    "\n",
    "    with tqdm(dataloader, unit=\"batch\", desc=phase) as tepoch:\n",
    "        for batch in tepoch:\n",
    "            X, targets, pos_skel, _, neg_skel, padding_masks = batch\n",
    "            X = X.float().to(device)\n",
    "            targets = targets.long().to(device)\n",
    "            pos_skel = torch.transpose(pos_skel, 0, 1).float()\n",
    "            neg_skel = torch.transpose(neg_skel, 0, 1).float()\n",
    "            padding_masks = padding_masks.to(device)  # 0s: ignore\n",
    "            # Zero gradients, perform a backward pass, and update the weights.\n",
    "            optimizers['imu'].zero_grad()\n",
    "            optimizers['ae'].zero_grad()\n",
    "            # forward\n",
    "            # track history if only in train\n",
    "            with torch.set_grad_enabled(phase == 'train'):\n",
    "            # with autocast():\n",
    "                class_output, feat_output = model(X)\n",
    "\n",
    "            with torch.set_grad_enabled(phase == 'train'):\n",
    "                tList = []\n",
    "                for m in torch.unbind(pos_skel, dim=0):\n",
    "                    mini_batch = m\n",
    "                    # print(mini_batch.shape)\n",
    "                    mini_batch = mini_batch.to(device)\n",
    "                    tList.append(ae(mini_batch))\n",
    "                recons, feats = list(zip(*tList))\n",
    "                pos_recons, pos_feat = torch.stack(recons, dim=0).cpu(), torch.stack(feats, dim=0) # batch first mode\n",
    "                \n",
    "                tList = []\n",
    "                for m in torch.unbind(neg_skel, dim=0):\n",
    "                    mini_batch = m\n",
    "                    # print(mini_batch.shape)\n",
    "                    mini_batch = mini_batch.to(device)\n",
    "                    tList.append(ae(mini_batch))\n",
    "                recons, feats = list(zip(*tList))\n",
    "                neg_recons, neg_feat = torch.stack(recons, dim=0).cpu(), torch.stack(feats, dim=0)\n",
    "                # neg_recons, neg_feat = apply(ae, neg_skel)\n",
    "\n",
    "            # print(pos_feat.shape, pos_recons.shape)\n",
    "            all_skels = torch.stack([pos_skel, neg_skel], dim=1)\n",
    "            recons_skels = torch.stack([pos_recons, neg_recons], dim=1)\n",
    "            # print(feat_output.shape, targets.shape)\n",
    "            # print('feat_output >', feat_output.shape, ' pos_feat > ', pos_feat.shape, ' neg_feat > ', neg_feat.shape)\n",
    "            class_loss = loss_module['class'](class_output, targets.squeeze())\n",
    "            feat_loss = loss_module['feature'](feat_output, pos_feat, neg_feat)\n",
    "            recons_loss = loss_module['recons'](all_skels, recons_skels)\n",
    "\n",
    "            imu_loss = imu_alpha*class_loss+(1-imu_alpha)/2*feat_loss\n",
    "            ae_loss = (1-ae_alpha)*recons_loss\n",
    "\n",
    "            if phase == 'train':\n",
    "                imu_loss.backward(retain_graph=True)\n",
    "                optimizers['imu'].step()\n",
    "\n",
    "                ae_loss.backward()\n",
    "                optimizers['ae'].step()\n",
    "\n",
    "            metrics = {\"IMU loss\": imu_loss.item(), \"AE loss\": ae_loss.item()}\n",
    "            with torch.no_grad():\n",
    "                epoch_imu_loss += imu_loss.item()  # add total loss of batch\n",
    "                epoch_ae_loss += ae_loss.item()\n",
    "\n",
    "            # convert feature vector into action class\n",
    "            # using cosine \n",
    "            pred_class = np.argmax(class_output.cpu().detach().numpy(), axis=1)\n",
    "            metrics[\"accuracy\"] = accuracy_score(y_true=targets.cpu().detach().numpy(), y_pred=pred_class)\n",
    "            epoch_acc += metrics[\"accuracy\"]\n",
    "            tepoch.set_postfix(metrics)\n",
    "            \n",
    "    epoch_imu_loss = epoch_imu_loss / len(dataloader)  # average loss per sample for whole epoch\n",
    "    epoch_ae_loss = epoch_ae_loss / len(dataloader) \n",
    "    epoch_acc = epoch_acc / len(dataloader)\n",
    "    return {'IMU loss': epoch_imu_loss, 'AE loss': epoch_ae_loss, 'accuracy': epoch_acc}"
   ]
  },
  {
   "cell_type": "code",
   "execution_count": 41,
   "metadata": {},
   "outputs": [],
   "source": [
    "def ae_train_step1(model, dataloader, optimizer, loss_module, device, batch_size, phase='train', l2_reg=False, loss_alpha=0.7):\n",
    "    model = model.train()\n",
    "    model.to(device)\n",
    "\n",
    "    const_loss = 0 \n",
    "    recons_loss = 0\n",
    "    epoch_loss = 0 \n",
    "\n",
    "    with tqdm(dataloader, unit='batch', desc=phase) as tepoch:\n",
    "        for batch in tepoch:\n",
    "            xa, labels = batch \n",
    "            # post-process \n",
    "            # xa = torch.vstack([x1, x2])  # batch first mode\n",
    "            # device offload \n",
    "            xa = xa.float().to(device)\n",
    "            labels = labels.float()\n",
    "\n",
    "            # set optimizer grad to zero \n",
    "            optimizer.zero_grad()\n",
    "            # get model prediction \n",
    "            with torch.set_grad_enabled(phase=='train'):\n",
    "                skel_output, ft_output = model(xa)\n",
    "\n",
    "            # reconstruct the output \n",
    "            # f1, f2 = torch.split(ft_output, [batch_size//2, batch_size//2], dim=0)\n",
    "            # cons_output = torch.stack([f1.squeeze(1), f2.squeeze(1)], dim=1)\n",
    "            # calc. contrastive loss \n",
    "            con_loss = loss_module['contrast'](ft_output, labels)()\n",
    "            # calc. reconstruction loss \n",
    "            l2_loss = loss_module['recons'](xa, skel_output)\n",
    "            # calc. total loss\n",
    "            # total_loss = con_loss #\n",
    "            total_loss = loss_alpha*con_loss + (1-loss_alpha)*l2_loss\n",
    "\n",
    "            if phase == 'train':\n",
    "                total_loss.backward()\n",
    "                optimizer.step()\n",
    "\n",
    "            metrics = {'contrastive loss ': con_loss.item(), 'reconstruction loss': l2_loss.item()}\n",
    "            with torch.no_grad():\n",
    "                    const_loss += con_loss.item()    \n",
    "                    recons_loss += l2_loss.item()\n",
    "                    epoch_loss += total_loss.item()\n",
    "            tepoch.set_postfix(metrics)\n",
    "\n",
    "    m = len(dataloader)\n",
    "    epoch_metrics = {'total_loss': epoch_loss/m, 'contrastive_loss': const_loss/m, 'reconstruction_loss':recons_loss/m}\n",
    "    return epoch_metrics"
   ]
  },
  {
   "cell_type": "code",
   "execution_count": 42,
   "metadata": {},
   "outputs": [],
   "source": [
    "def plot_umap(X, y, Id2Label):\n",
    "    umap_2d = UMAP(n_components=2, random_state=43)\n",
    "    cmp_data = umap_2d.fit_transform(X)\n",
    "\n",
    "    cmp_df = pd.DataFrame(data=cmp_data, columns=['x', 'y'])\n",
    "    cmp_df['label'] = y\n",
    "    cmp_df['action'] = cmp_df['label'].map(Id2Label)\n",
    "\n",
    "    fig = px.scatter(cmp_df, x='x', y='y', color='action', width=800, height=800, title=\"UMAP\")\n",
    "    fig.show()"
   ]
  },
  {
   "cell_type": "code",
   "execution_count": 43,
   "metadata": {},
   "outputs": [],
   "source": [
    "def plot_tnse(X, y, Id2Label):\n",
    "    tnse = TSNE(n_components=2, init='random', learning_rate='auto', perplexity=15, n_iter=1000)\n",
    "    cmp_data = tnse.fit_transform(X)\n",
    "\n",
    "    cmp_df = pd.DataFrame(data=cmp_data, columns=['x', 'y'])\n",
    "    cmp_df['label'] = y\n",
    "    cmp_df['action'] = cmp_df['label'].map(Id2Label)\n",
    "\n",
    "    fig = px.scatter(cmp_df, x='x', y='y', color='action', width=800, height=800, title='t-SNE')\n",
    "    fig.show()\n",
    "    return fig"
   ]
  },
  {
   "cell_type": "code",
   "execution_count": 44,
   "metadata": {},
   "outputs": [],
   "source": [
    "def get_action_vector(ae, skel_dt, device, class_ids, class_names, batch_size=32):\n",
    "    # generate unseen action_semantic from unseen skeleton seq. \n",
    "    label_dict = {c:i for i,c in enumerate(class_ids)}\n",
    "    all_actions = []\n",
    "    all_labels = []\n",
    "    for c in class_ids:\n",
    "        action_mat = skel_dt.get_actions(c)\n",
    "        ns, _, _ = action_mat.shape \n",
    "        class_labels = [label_dict[c] for _ in range(ns)]\n",
    "        padded_mat = F.pad(input=action_mat, pad=(0,0,0,0,0,batch_size-ns), mode='constant', value=0)\n",
    "        _, vector_out = ae(padded_mat.float().to(device)) # batch second mode\n",
    "        action_feat_mat = vector_out[:ns, :].cpu().detach().numpy() # batch second mode\n",
    "\n",
    "        all_actions.append(action_feat_mat)\n",
    "        all_labels.append(class_labels)\n",
    "\n",
    "    all_actions = np.concatenate(all_actions)\n",
    "    all_labels = np.concatenate(all_labels)\n",
    "    Id2Label = {i:l for i,l in enumerate(class_names)}\n",
    "    return all_actions, all_labels, Id2Label\n"
   ]
  },
  {
   "cell_type": "code",
   "execution_count": 45,
   "metadata": {},
   "outputs": [],
   "source": [
    "def eval_step1(model, ae, dataloader, sem_actions, sem_labels, loss_module, device, class_names, class_ids, target_feat_met, phase='seen', l2_reg=False, print_report=True, show_plot=True, imu_alpha=0.7, ae_alpha=0.7, batch_size=32, neighs=5):\n",
    "    model = model.train()\n",
    "    \n",
    "    label_dict = {c:i for i,c in enumerate(class_ids)}\n",
    "    inv_label_dict = {i:c for i,c in enumerate(class_ids)}\n",
    "    epoch_imu_loss, epoch_ae_loss = 0, 0  # total loss of epoch\n",
    "    total_samples = 0  # total samples in epoch\n",
    "    per_batch = {'target_masks': [], 'targets': [], 'predictions': [], 'metrics': [], 'IDs': [], 'pred_feat': []}\n",
    "\n",
    "    all_actions = sem_actions\n",
    "    all_labels = np.array([label_dict[c] for c in sem_labels])\n",
    "    # build knn model on know unseen samples \n",
    "    knn = KNeighborsClassifier(n_neighbors=neighs)\n",
    "    knn.fit(all_actions, all_labels)\n",
    "    # plot t-SNE on unseen vector \n",
    "    Id2Label = {i:l for i,l in enumerate(class_names)}\n",
    "    # plot_tnse(all_actions, all_labels, Id2Label)\n",
    "    # plot_umap(all_actions, all_labels, Id2Label)\n",
    "\n",
    "    with tqdm(dataloader, unit=\"batch\", desc=phase) as tepoch:\n",
    "        for batch in tepoch:\n",
    "            X, targets, pos_skel, neg_class, neg_skel, padding_masks = batch\n",
    "            X = X.float().to(device)\n",
    "            pos_skel = torch.transpose(pos_skel, 0, 1).float()\n",
    "            neg_skel = torch.transpose(neg_skel, 0, 1).float()\n",
    "            targets = targets.long().to(device)\n",
    "            neg_class = neg_class.long()#.to(device)\n",
    "            padding_masks = padding_masks.to(device)  # 0s: ignore\n",
    "            # forward\n",
    "            with torch.set_grad_enabled(False):\n",
    "            # with autocast():\n",
    "                class_output, feat_output = model(X)\n",
    "\n",
    "            # with torch.set_grad_enabled(phase == 'train'):\n",
    "            #     pos_recons, pos_feat = ae(pos_skel) # batch first mode\n",
    "            #     neg_recons, neg_feat = ae(neg_skel)\n",
    "\n",
    "            with torch.set_grad_enabled(phase == 'train'):\n",
    "                tList = []\n",
    "                for m in torch.unbind(pos_skel, dim=0):\n",
    "                    mini_batch = m\n",
    "                    # print(mini_batch.shape)\n",
    "                    mini_batch = mini_batch.to(device)\n",
    "                    tList.append(ae(mini_batch))\n",
    "                recons, feats = list(zip(*tList))\n",
    "                pos_recons, pos_feat = torch.stack(recons, dim=0).cpu(), torch.stack(feats, dim=0) # batch first mode\n",
    "                \n",
    "                tList = []\n",
    "                for m in torch.unbind(neg_skel, dim=0):\n",
    "                    mini_batch = m\n",
    "                    # print(mini_batch.shape)\n",
    "                    mini_batch = mini_batch.to(device)\n",
    "                    tList.append(ae(mini_batch))\n",
    "                recons, feats = list(zip(*tList))\n",
    "                neg_recons, neg_feat = torch.stack(recons, dim=0).cpu(), torch.stack(feats, dim=0)\n",
    "\n",
    "            all_skels = torch.stack([pos_skel, neg_skel], dim=1)\n",
    "            recons_skels = torch.stack([pos_recons, neg_recons], dim=1)\n",
    "            # print(feat_output.shape, targets.shape)\n",
    "            if phase == 'seen':\n",
    "                class_loss = loss_module['class'](class_output, targets.squeeze())\n",
    "            else:\n",
    "                class_loss = 0 # \n",
    "            feat_loss = loss_module['feature'](feat_output, pos_feat, neg_feat)\n",
    "            recons_loss = loss_module['recons'](all_skels, recons_skels)\n",
    "\n",
    "            imu_loss = imu_alpha*class_loss+(1-imu_alpha)*feat_loss\n",
    "            ae_loss = ae_alpha*class_loss+(1-ae_alpha)*recons_loss\n",
    "\n",
    "\n",
    "            metrics = {\"IMU loss\": imu_loss.item(), \"AE loss\": ae_loss.item()}\n",
    "            with torch.no_grad():\n",
    "                epoch_imu_loss += imu_loss.item()  # add total loss of batch\n",
    "                epoch_ae_loss += ae_loss.item()\n",
    "            \n",
    "            # convert feature vector into action class using cosine \n",
    "            if phase == 'seen':\n",
    "                pred_action = np.argmax(class_output.cpu().detach().numpy(), axis=1)\n",
    "            else:\n",
    "                # print(\"targets > \", targets)\n",
    "                # print(\"feat output\", feat_output.shape)\n",
    "                feat_numpy = feat_output.cpu().detach().numpy()\n",
    "                pred_action = knn.predict(feat_numpy)\n",
    "                \n",
    "            per_batch['targets'].append(targets.cpu().numpy())\n",
    "            per_batch['predictions'].append(pred_action)\n",
    "            per_batch['pred_feat'].append(feat_output.cpu().detach().numpy())\n",
    "            # per_batch['metrics'].append([loss.cpu().numpy()])\n",
    "\n",
    "            tepoch.set_postfix(metrics)\n",
    "    \n",
    "    \n",
    "    all_preds = np.concatenate(per_batch[\"predictions\"])\n",
    "    all_targets = np.concatenate(per_batch[\"targets\"])\n",
    "    all_pred_actions = np.concatenate(per_batch[\"pred_feat\"])\n",
    "    # print(\"predictions > \", all_preds, \"ground truth > \", all_targets[:, 0])\n",
    "    metrics_dict = action_evaluator(y_pred=all_preds, y_true=all_targets[:, 0], class_names=class_names, print_report=print_report, show_plot=show_plot)\n",
    "    metrics_dict['IMU loss'] = epoch_imu_loss/len(dataloader)\n",
    "    metrics_dict['AE loss'] = epoch_ae_loss/len(dataloader)\n",
    "    all_targets = np.array([inv_label_dict[c] for c in all_targets.squeeze()])\n",
    "    return metrics_dict, all_pred_actions, all_targets"
   ]
  },
  {
   "cell_type": "markdown",
   "metadata": {},
   "source": [
    "---"
   ]
  },
  {
   "cell_type": "code",
   "execution_count": 46,
   "metadata": {},
   "outputs": [
    {
     "name": "stdout",
     "output_type": "stream",
     "text": [
      "Initiate Skeleton dataset ... \n"
     ]
    },
    {
     "name": "stderr",
     "output_type": "stream",
     "text": [
      "train: 100%|██████████| 5/5 [00:01<00:00,  4.30batch/s, contrastive loss =2.9, reconstruction loss=0.00296]\n",
      "train: 100%|██████████| 5/5 [00:00<00:00,  5.04batch/s, contrastive loss =2.49, reconstruction loss=0.00325]\n",
      "train: 100%|██████████| 5/5 [00:01<00:00,  3.96batch/s, contrastive loss =3.91, reconstruction loss=0.00505]\n",
      "train: 100%|██████████| 5/5 [00:01<00:00,  4.01batch/s, contrastive loss =3.88, reconstruction loss=0.00372]\n",
      "train: 100%|██████████| 5/5 [00:00<00:00,  5.11batch/s, contrastive loss =2.51, reconstruction loss=0.00375]\n",
      "train: 100%|██████████| 5/5 [00:00<00:00,  5.09batch/s, contrastive loss =2.96, reconstruction loss=0.00263]\n",
      "train: 100%|██████████| 5/5 [00:00<00:00,  5.18batch/s, contrastive loss =3.57, reconstruction loss=0.00545]\n",
      "train: 100%|██████████| 5/5 [00:00<00:00,  5.04batch/s, contrastive loss =3.09, reconstruction loss=0.00282]\n",
      "train: 100%|██████████| 5/5 [00:01<00:00,  4.76batch/s, contrastive loss =3.41, reconstruction loss=0.00498]\n",
      "train: 100%|██████████| 5/5 [00:01<00:00,  4.82batch/s, contrastive loss =2.46, reconstruction loss=0.00221]\n",
      "train: 100%|██████████| 5/5 [00:00<00:00,  5.08batch/s, contrastive loss =3.57, reconstruction loss=0.00435]\n",
      "train: 100%|██████████| 5/5 [00:01<00:00,  4.90batch/s, contrastive loss =2.63, reconstruction loss=0.00245]\n",
      "train: 100%|██████████| 5/5 [00:00<00:00,  5.13batch/s, contrastive loss =2.54, reconstruction loss=0.00288]\n",
      "train: 100%|██████████| 5/5 [00:01<00:00,  4.97batch/s, contrastive loss =3.23, reconstruction loss=0.00321]\n",
      "train: 100%|██████████| 5/5 [00:00<00:00,  5.12batch/s, contrastive loss =3.32, reconstruction loss=0.00406]\n",
      "train: 100%|██████████| 5/5 [00:00<00:00,  5.02batch/s, contrastive loss =2.62, reconstruction loss=0.00282]\n",
      "train: 100%|██████████| 5/5 [00:00<00:00,  5.20batch/s, contrastive loss =2.5, reconstruction loss=0.00472]\n",
      "train: 100%|██████████| 5/5 [00:00<00:00,  5.07batch/s, contrastive loss =2.37, reconstruction loss=0.00425]\n",
      "train: 100%|██████████| 5/5 [00:00<00:00,  5.06batch/s, contrastive loss =2.71, reconstruction loss=0.00699]\n",
      "train: 100%|██████████| 5/5 [00:00<00:00,  5.02batch/s, contrastive loss =3.35, reconstruction loss=0.00533]\n",
      "train: 100%|██████████| 5/5 [00:00<00:00,  5.03batch/s, contrastive loss =3.05, reconstruction loss=0.00771]\n",
      "train: 100%|██████████| 5/5 [00:00<00:00,  5.07batch/s, contrastive loss =2.9, reconstruction loss=0.00896]\n",
      "train: 100%|██████████| 5/5 [00:00<00:00,  5.10batch/s, contrastive loss =2.23, reconstruction loss=0.00571]\n",
      "train: 100%|██████████| 5/5 [00:01<00:00,  4.95batch/s, contrastive loss =3.01, reconstruction loss=0.00821]\n",
      "train: 100%|██████████| 5/5 [00:01<00:00,  4.97batch/s, contrastive loss =2.23, reconstruction loss=0.0127]\n",
      "train: 100%|██████████| 5/5 [00:01<00:00,  4.14batch/s, contrastive loss =2.46, reconstruction loss=0.0112]\n",
      "train: 100%|██████████| 5/5 [00:01<00:00,  4.76batch/s, contrastive loss =2.42, reconstruction loss=0.00701]\n",
      "train: 100%|██████████| 5/5 [00:01<00:00,  4.91batch/s, contrastive loss =2.83, reconstruction loss=0.0092]\n",
      "train: 100%|██████████| 5/5 [00:00<00:00,  5.14batch/s, contrastive loss =2.74, reconstruction loss=0.00712]\n",
      "train: 100%|██████████| 5/5 [00:00<00:00,  5.07batch/s, contrastive loss =2.6, reconstruction loss=0.0097]\n",
      "train: 100%|██████████| 5/5 [00:01<00:00,  4.92batch/s, contrastive loss =2.27, reconstruction loss=0.0111]\n",
      "train: 100%|██████████| 5/5 [00:01<00:00,  4.96batch/s, contrastive loss =2.38, reconstruction loss=0.0107]\n",
      "train: 100%|██████████| 5/5 [00:01<00:00,  4.90batch/s, contrastive loss =1.56, reconstruction loss=0.0093]\n",
      "train: 100%|██████████| 5/5 [00:00<00:00,  5.08batch/s, contrastive loss =2.69, reconstruction loss=0.013]\n",
      "train: 100%|██████████| 5/5 [00:00<00:00,  5.04batch/s, contrastive loss =2.36, reconstruction loss=0.0113]\n",
      "train: 100%|██████████| 5/5 [00:01<00:00,  4.91batch/s, contrastive loss =3.11, reconstruction loss=0.0101]\n",
      "train: 100%|██████████| 5/5 [00:01<00:00,  4.87batch/s, contrastive loss =2.02, reconstruction loss=0.00783]\n",
      "train: 100%|██████████| 5/5 [00:01<00:00,  4.96batch/s, contrastive loss =1.79, reconstruction loss=0.0138]\n",
      "train: 100%|██████████| 5/5 [00:01<00:00,  4.91batch/s, contrastive loss =2.12, reconstruction loss=0.0123]\n",
      "train: 100%|██████████| 5/5 [00:00<00:00,  5.12batch/s, contrastive loss =2.32, reconstruction loss=0.00654]\n",
      "train: 100%|██████████| 5/5 [00:01<00:00,  4.88batch/s, contrastive loss =2.51, reconstruction loss=0.0122]\n",
      "train: 100%|██████████| 5/5 [00:01<00:00,  5.00batch/s, contrastive loss =1.74, reconstruction loss=0.00869]\n",
      "train: 100%|██████████| 5/5 [00:01<00:00,  4.84batch/s, contrastive loss =2.5, reconstruction loss=0.01]\n",
      "train: 100%|██████████| 5/5 [00:01<00:00,  4.90batch/s, contrastive loss =2.47, reconstruction loss=0.00963]\n",
      "train: 100%|██████████| 5/5 [00:01<00:00,  4.94batch/s, contrastive loss =1.36, reconstruction loss=0.0128]\n",
      "train: 100%|██████████| 5/5 [00:01<00:00,  4.98batch/s, contrastive loss =1.81, reconstruction loss=0.0114]\n",
      "train: 100%|██████████| 5/5 [00:01<00:00,  4.94batch/s, contrastive loss =2.6, reconstruction loss=0.0102]\n",
      "train: 100%|██████████| 5/5 [00:00<00:00,  5.08batch/s, contrastive loss =2.41, reconstruction loss=0.0132]\n",
      "train: 100%|██████████| 5/5 [00:01<00:00,  4.89batch/s, contrastive loss =2.04, reconstruction loss=0.0137]\n",
      "train: 100%|██████████| 5/5 [00:00<00:00,  5.01batch/s, contrastive loss =1.53, reconstruction loss=0.0144]\n",
      "train: 100%|██████████| 5/5 [00:01<00:00,  4.90batch/s, contrastive loss =2.35, reconstruction loss=0.0135]\n",
      "train: 100%|██████████| 5/5 [00:00<00:00,  5.13batch/s, contrastive loss =1.64, reconstruction loss=0.0118]\n",
      "train: 100%|██████████| 5/5 [00:01<00:00,  4.90batch/s, contrastive loss =1.68, reconstruction loss=0.0169]\n",
      "train: 100%|██████████| 5/5 [00:00<00:00,  5.07batch/s, contrastive loss =1.83, reconstruction loss=0.0149]\n",
      "train: 100%|██████████| 5/5 [00:00<00:00,  5.01batch/s, contrastive loss =1.75, reconstruction loss=0.02]\n",
      "train: 100%|██████████| 5/5 [00:00<00:00,  5.28batch/s, contrastive loss =1.92, reconstruction loss=0.0118]\n",
      "train: 100%|██████████| 5/5 [00:01<00:00,  4.86batch/s, contrastive loss =2.16, reconstruction loss=0.0178]\n",
      "train: 100%|██████████| 5/5 [00:00<00:00,  5.18batch/s, contrastive loss =2, reconstruction loss=0.0158]\n",
      "train: 100%|██████████| 5/5 [00:01<00:00,  4.90batch/s, contrastive loss =2.47, reconstruction loss=0.014]\n",
      "train: 100%|██████████| 5/5 [00:00<00:00,  5.00batch/s, contrastive loss =1.99, reconstruction loss=0.0108]\n",
      "train: 100%|██████████| 5/5 [00:01<00:00,  4.77batch/s, contrastive loss =1.89, reconstruction loss=0.0148]\n",
      "train: 100%|██████████| 5/5 [00:00<00:00,  5.10batch/s, contrastive loss =1.96, reconstruction loss=0.0157]\n",
      "train: 100%|██████████| 5/5 [00:01<00:00,  4.56batch/s, contrastive loss =1.42, reconstruction loss=0.0192]\n",
      "train: 100%|██████████| 5/5 [00:01<00:00,  4.96batch/s, contrastive loss =1.47, reconstruction loss=0.02]\n",
      "train: 100%|██████████| 5/5 [00:01<00:00,  4.96batch/s, contrastive loss =1.7, reconstruction loss=0.0165]\n",
      "train: 100%|██████████| 5/5 [00:01<00:00,  4.96batch/s, contrastive loss =1.42, reconstruction loss=0.0225]\n",
      "train: 100%|██████████| 5/5 [00:01<00:00,  4.52batch/s, contrastive loss =2.11, reconstruction loss=0.0154]\n",
      "train: 100%|██████████| 5/5 [00:00<00:00,  5.02batch/s, contrastive loss =1.31, reconstruction loss=0.0203]\n",
      "train: 100%|██████████| 5/5 [00:01<00:00,  4.91batch/s, contrastive loss =1.9, reconstruction loss=0.0188]\n",
      "train: 100%|██████████| 5/5 [00:01<00:00,  4.90batch/s, contrastive loss =1.39, reconstruction loss=0.0172]\n",
      "train: 100%|██████████| 5/5 [00:01<00:00,  4.72batch/s, contrastive loss =1.34, reconstruction loss=0.0185]\n",
      "train: 100%|██████████| 5/5 [00:01<00:00,  4.68batch/s, contrastive loss =1.47, reconstruction loss=0.0252]\n",
      "train: 100%|██████████| 5/5 [00:01<00:00,  4.81batch/s, contrastive loss =1.55, reconstruction loss=0.0199]\n",
      "train: 100%|██████████| 5/5 [00:01<00:00,  4.28batch/s, contrastive loss =1.2, reconstruction loss=0.0231]\n",
      "train: 100%|██████████| 5/5 [00:01<00:00,  4.95batch/s, contrastive loss =1.62, reconstruction loss=0.0207]\n",
      "train: 100%|██████████| 5/5 [00:01<00:00,  5.00batch/s, contrastive loss =1.11, reconstruction loss=0.0178]\n",
      "train: 100%|██████████| 5/5 [00:00<00:00,  5.03batch/s, contrastive loss =2.1, reconstruction loss=0.0232]\n",
      "train: 100%|██████████| 5/5 [00:01<00:00,  4.92batch/s, contrastive loss =1.31, reconstruction loss=0.0198]\n",
      "train: 100%|██████████| 5/5 [00:00<00:00,  5.03batch/s, contrastive loss =1.51, reconstruction loss=0.0149]\n",
      "train: 100%|██████████| 5/5 [00:01<00:00,  4.98batch/s, contrastive loss =1.92, reconstruction loss=0.0215]\n",
      "train: 100%|██████████| 5/5 [00:00<00:00,  5.08batch/s, contrastive loss =1.28, reconstruction loss=0.0207]\n",
      "train: 100%|██████████| 5/5 [00:01<00:00,  4.62batch/s, contrastive loss =1.72, reconstruction loss=0.029]\n",
      "train: 100%|██████████| 5/5 [00:01<00:00,  4.83batch/s, contrastive loss =1.62, reconstruction loss=0.0309]\n",
      "train: 100%|██████████| 5/5 [00:01<00:00,  4.90batch/s, contrastive loss =0.584, reconstruction loss=0.0276]\n",
      "train: 100%|██████████| 5/5 [00:00<00:00,  5.02batch/s, contrastive loss =1.39, reconstruction loss=0.0239]\n",
      "train: 100%|██████████| 5/5 [00:01<00:00,  4.87batch/s, contrastive loss =1.25, reconstruction loss=0.0203]\n",
      "train: 100%|██████████| 5/5 [00:01<00:00,  4.88batch/s, contrastive loss =1.15, reconstruction loss=0.0339]\n",
      "train: 100%|██████████| 5/5 [00:01<00:00,  4.86batch/s, contrastive loss =1.02, reconstruction loss=0.0306]\n",
      "train: 100%|██████████| 5/5 [00:01<00:00,  4.99batch/s, contrastive loss =1.4, reconstruction loss=0.0241]\n",
      "train: 100%|██████████| 5/5 [00:01<00:00,  4.89batch/s, contrastive loss =1.48, reconstruction loss=0.0283]\n",
      "train: 100%|██████████| 5/5 [00:00<00:00,  5.14batch/s, contrastive loss =0.591, reconstruction loss=0.0245]\n",
      "train: 100%|██████████| 5/5 [00:01<00:00,  4.97batch/s, contrastive loss =1.76, reconstruction loss=0.024]\n",
      "train: 100%|██████████| 5/5 [00:00<00:00,  5.05batch/s, contrastive loss =0.953, reconstruction loss=0.0217]\n",
      "train: 100%|██████████| 5/5 [00:00<00:00,  5.02batch/s, contrastive loss =1.18, reconstruction loss=0.0245]\n",
      "train: 100%|██████████| 5/5 [00:00<00:00,  5.02batch/s, contrastive loss =1.09, reconstruction loss=0.0253]\n",
      "train: 100%|██████████| 5/5 [00:01<00:00,  4.91batch/s, contrastive loss =0.651, reconstruction loss=0.0264]\n",
      "train: 100%|██████████| 5/5 [00:01<00:00,  4.86batch/s, contrastive loss =1.54, reconstruction loss=0.0205]\n",
      "train: 100%|██████████| 5/5 [00:01<00:00,  4.56batch/s, contrastive loss =0.884, reconstruction loss=0.0209]\n",
      "train: 100%|██████████| 5/5 [00:01<00:00,  4.90batch/s, contrastive loss =0.779, reconstruction loss=0.0342]\n",
      "train: 100%|██████████| 5/5 [00:01<00:00,  4.96batch/s, contrastive loss =1.27, reconstruction loss=0.037]\n",
      "                                                                 \r"
     ]
    },
    {
     "data": {
      "image/png": "[encoded data removed]",
      "text/plain": [
       "<Figure size 640x480 with 1 Axes>"
      ]
     },
     "metadata": {},
     "output_type": "display_data"
    }
   ],
   "source": [
    "print(\"Initiate Skeleton dataset ... \")\n",
    "# prep_dir = './tmp/epoch50_randsample_input_mseloss.pt'\n",
    "prep_dir = './tmp/random_input_100_epochs.pt'\n",
    "\n",
    "# build Skeleton dataset \n",
    "skel_dt = SkeletonDataset(skeleton_mov, skeleton_Ids, action_dict, seq_len=config['seq_len'])\n",
    "skel_dl = DataLoader(skel_dt, batch_size=config['batch_size'], shuffle=True, pin_memory=True, drop_last=True)\n",
    "skel_n, skel_fts = skel_dt.getShape()\n",
    "\n",
    "# build AE Model \n",
    "# ae_model = BiLSTMEncDecModel(input_size=skel_fts, seq_len=skel_n, hidden_size=config['feat_size'], batch_size=config['batch_size'], ae_type='recursive', device=device)\n",
    "ae_config = {\n",
    "    'seq_len':skel_n, \n",
    "    'input_size':skel_fts, \n",
    "    'hidden_size':512, \n",
    "    'linear_filters':[128,256,512], \n",
    "    'embedding_size':config['feat_size'], \n",
    "    'num_layers':1, \n",
    "    'bidirectional':True, \n",
    "    'batch_size':config['batch_size']\n",
    "}\n",
    "ae_model = SkeletonAE(device=device, **ae_config)\n",
    "# ae_model = BiLSTMEncDecModel(seq_len=50, input_size=36, hidden_size=512, linear_filters=[128,256,512], embedding_size=256, num_layers=1,bidirectional=True,batch_size=32, device=device)\n",
    "ae_model.load_state_dict(torch.load(prep_dir))\n",
    "ae_model.to(device)\n",
    "\n",
    "# define AE run parameters \n",
    "ae_optim = Adam(ae_model.parameters(), lr=config['ae_lr'])\n",
    "ae_loss_module = {'contrast': SoftNearestNeighbours, 'recons': nn.MSELoss()}\n",
    "\n",
    "ae_train_data = []\n",
    "for epoch in tqdm(range(100), desc='Training Epoch', leave=False):\n",
    "    # train AE model \n",
    "    ae_train_metrics = ae_train_step1(ae_model, skel_dl, ae_optim, ae_loss_module, device, config['batch_size'], phase='train', loss_alpha=config['ae_alpha'])\n",
    "    ae_train_metrics['epoch'] = epoch\n",
    "    ae_train_data.append(ae_train_metrics)\n",
    "\n",
    "ae_train_df = pd.DataFrame().from_records(ae_train_data)\n",
    "\n",
    "# plot train metrics \n",
    "fig, ax = plt.subplots()\n",
    "\n",
    "ax.plot(ae_train_df['total_loss'], color = 'green', label = 'total_loss')\n",
    "ax.plot(ae_train_df['contrastive_loss'], color = 'red', label = 'contrastive_loss')\n",
    "ax.plot(ae_train_df['reconstruction_loss'], color = 'blue', label = 'reconstruction_loss')\n",
    "ax.legend(loc = 'upper right')\n",
    "plt.show()\n",
    "\n",
    "# save transfer learned AE model weights \n",
    "t = datetime.now().strftime(\"%Y_%m_%d_%H_%M\")\n",
    "# ae_attrs = attributer(ae_model, filter1)\n",
    "ae_trans_dir = f'./tmp/pamap2/ae_model_transfer_{t}.pt'\n",
    "torch.save({\n",
    "    'model_state_dict': ae_model.state_dict(),\n",
    "    'config': ae_config\n",
    "}, ae_trans_dir)"
   ]
  },
  {
   "cell_type": "code",
   "execution_count": 47,
   "metadata": {},
   "outputs": [
    {
     "data": {
      "application/vnd.plotly.v1+json": {
       "config": {
        "plotlyServerURL": "https://plotly.com"
       },
       "data": [
        {
         "hoverlabel": {
          "namelength": 0
         },
         "hovertemplate": "action=lying<br>x=%{x}<br>y=%{y}",
         "legendgroup": "action=lying",
         "marker": {
          "color": "#636efa",
          "symbol": "circle"
         },
         "mode": "markers",
         "name": "action=lying",
         "showlegend": true,
         "type": "scatter",
         "x": [
          3.616255521774292,
          4.669395923614502,
          3.8002843856811523,
          5.4131951332092285,
          2.1797215938568115,
          1.933393955230713,
          4.15871000289917,
          1.483144998550415,
          2.762645959854126,
          1.6728692054748535
         ],
         "xaxis": "x",
         "y": [
          9.83686637878418,
          10.566312789916992,
          14.169011116027832,
          11.316307067871094,
          11.146282196044922,
          13.832228660583496,
          12.89736557006836,
          12.16537857055664,
          11.33898639678955,
          9.986989974975586
         ],
         "yaxis": "y"
        },
        {
         "hoverlabel": {
          "namelength": 0
         },
         "hovertemplate": "action=sitting<br>x=%{x}<br>y=%{y}",
         "legendgroup": "action=sitting",
         "marker": {
          "color": "#EF553B",
          "symbol": "circle"
         },
         "mode": "markers",
         "name": "action=sitting",
         "showlegend": true,
         "type": "scatter",
         "x": [
          13.297724723815918,
          16.306867599487305,
          16.772966384887695,
          13.65468978881836,
          14.731521606445312,
          13.164031982421875,
          16.935049057006836,
          15.43200397491455,
          15.13717269897461,
          14.48192024230957
         ],
         "xaxis": "x",
         "y": [
          -18.65258026123047,
          -16.83744239807129,
          -18.41779899597168,
          -16.279150009155273,
          -17.5777587890625,
          -16.69458770751953,
          -15.000188827514648,
          -15.928706169128418,
          -13.907005310058594,
          -15.403083801269531
         ],
         "yaxis": "y"
        },
        {
         "hoverlabel": {
          "namelength": 0
         },
         "hovertemplate": "action=standing<br>x=%{x}<br>y=%{y}",
         "legendgroup": "action=standing",
         "marker": {
          "color": "#00cc96",
          "symbol": "circle"
         },
         "mode": "markers",
         "name": "action=standing",
         "showlegend": true,
         "type": "scatter",
         "x": [
          -9.178333282470703,
          -10.684014320373535,
          -11.335867881774902,
          -6.3081464767456055,
          -8.662768363952637,
          -9.33855152130127,
          -10.491168975830078,
          -7.442956447601318,
          -8.185003280639648,
          -5.880222320556641
         ],
         "xaxis": "x",
         "y": [
          2.985973834991455,
          0.03849795460700989,
          -0.5053212642669678,
          8.20098876953125,
          2.04418683052063,
          -0.24387939274311066,
          1.4759347438812256,
          0.5512486100196838,
          4.781278133392334,
          -0.17791318893432617
         ],
         "yaxis": "y"
        },
        {
         "hoverlabel": {
          "namelength": 0
         },
         "hovertemplate": "action=walking<br>x=%{x}<br>y=%{y}",
         "legendgroup": "action=walking",
         "marker": {
          "color": "#ab63fa",
          "symbol": "circle"
         },
         "mode": "markers",
         "name": "action=walking",
         "showlegend": true,
         "type": "scatter",
         "x": [
          -9.18730640411377,
          -11.006413459777832,
          -6.153643608093262,
          -5.601309776306152,
          -8.280004501342773,
          -8.105469703674316,
          -4.5389084815979,
          -8.60815143585205,
          -11.06718921661377,
          -5.71437406539917
         ],
         "xaxis": "x",
         "y": [
          -11.384350776672363,
          -9.21700382232666,
          -7.98975944519043,
          -8.781009674072266,
          -8.96136474609375,
          -9.053494453430176,
          -6.702018737792969,
          -7.196441650390625,
          -5.418445110321045,
          -10.148093223571777
         ],
         "yaxis": "y"
        },
        {
         "hoverlabel": {
          "namelength": 0
         },
         "hovertemplate": "action=running<br>x=%{x}<br>y=%{y}",
         "legendgroup": "action=running",
         "marker": {
          "color": "#FFA15A",
          "symbol": "circle"
         },
         "mode": "markers",
         "name": "action=running",
         "showlegend": true,
         "type": "scatter",
         "x": [
          11.307623863220215,
          12.198099136352539,
          9.502006530761719,
          10.734454154968262,
          14.608039855957031,
          15.319098472595215,
          9.752100944519043,
          0.3647862374782562,
          11.940216064453125,
          12.857389450073242
         ],
         "xaxis": "x",
         "y": [
          -6.691049575805664,
          -8.24548625946045,
          -6.615940570831299,
          -5.3310465812683105,
          -5.603582859039307,
          -9.790865898132324,
          -5.434067726135254,
          -16.646530151367188,
          -6.078919410705566,
          -5.139759063720703
         ],
         "yaxis": "y"
        },
        {
         "hoverlabel": {
          "namelength": 0
         },
         "hovertemplate": "action=cycling<br>x=%{x}<br>y=%{y}",
         "legendgroup": "action=cycling",
         "marker": {
          "color": "#19d3f3",
          "symbol": "circle"
         },
         "mode": "markers",
         "name": "action=cycling",
         "showlegend": true,
         "type": "scatter",
         "x": [
          5.349248886108398,
          4.037594795227051,
          3.661421298980713,
          1.783963680267334,
          -1.2964181900024414,
          3.725830316543579,
          1.4376620054244995,
          1.14420485496521,
          -0.4656842052936554,
          0.015313020907342434
         ],
         "xaxis": "x",
         "y": [
          -13.793867111206055,
          -11.515464782714844,
          -5.69142484664917,
          -5.95653772354126,
          -1.9948275089263916,
          -6.762685775756836,
          -4.622591495513916,
          -4.78184175491333,
          -4.837012767791748,
          -6.666936874389648
         ],
         "yaxis": "y"
        },
        {
         "hoverlabel": {
          "namelength": 0
         },
         "hovertemplate": "action=Nordic walking<br>x=%{x}<br>y=%{y}",
         "legendgroup": "action=Nordic walking",
         "marker": {
          "color": "#FF6692",
          "symbol": "circle"
         },
         "mode": "markers",
         "name": "action=Nordic walking",
         "showlegend": true,
         "type": "scatter",
         "x": [
          -2.525484561920166,
          -2.4847424030303955,
          -4.161381721496582,
          0.7366185784339905,
          5.2542853355407715,
          1.1214330196380615,
          2.866823434829712,
          -1.8105615377426147,
          -3.5551888942718506,
          -0.5227640867233276
         ],
         "xaxis": "x",
         "y": [
          -8.293164253234863,
          -11.055816650390625,
          -9.76117992401123,
          -10.279245376586914,
          -9.129918098449707,
          -11.005396842956543,
          -7.2045135498046875,
          -9.632509231567383,
          -9.286582946777344,
          -10.931344032287598
         ],
         "yaxis": "y"
        },
        {
         "hoverlabel": {
          "namelength": 0
         },
         "hovertemplate": "action=watching TV<br>x=%{x}<br>y=%{y}",
         "legendgroup": "action=watching TV",
         "marker": {
          "color": "#B6E880",
          "symbol": "circle"
         },
         "mode": "markers",
         "name": "action=watching TV",
         "showlegend": true,
         "type": "scatter",
         "x": [
          -10.017943382263184,
          -7.131810188293457,
          -12.670767784118652,
          -13.955880165100098,
          -9.308070182800293,
          -8.562190055847168,
          -8.737150192260742,
          -6.6806511878967285,
          -10.882805824279785,
          -9.056452751159668
         ],
         "xaxis": "x",
         "y": [
          9.111133575439453,
          6.511261463165283,
          8.132133483886719,
          13.915217399597168,
          7.65122652053833,
          8.223608016967773,
          9.795208930969238,
          9.382514953613281,
          10.0311918258667,
          11.422748565673828
         ],
         "yaxis": "y"
        },
        {
         "hoverlabel": {
          "namelength": 0
         },
         "hovertemplate": "action=computer work<br>x=%{x}<br>y=%{y}",
         "legendgroup": "action=computer work",
         "marker": {
          "color": "#FF97FF",
          "symbol": "circle"
         },
         "mode": "markers",
         "name": "action=computer work",
         "showlegend": true,
         "type": "scatter",
         "x": [
          -1.8514776229858398,
          -1.1963164806365967,
          -1.8405370712280273,
          7.77887487411499,
          -10.066143035888672,
          -6.787079334259033,
          -0.3251732587814331,
          -0.5562257766723633,
          -3.4869232177734375,
          -3.135558605194092
         ],
         "xaxis": "x",
         "y": [
          6.510946273803711,
          7.509916305541992,
          8.511000633239746,
          6.763148307800293,
          7.0947980880737305,
          7.410678386688232,
          11.408337593078613,
          5.172919273376465,
          7.380836009979248,
          9.164775848388672
         ],
         "yaxis": "y"
        },
        {
         "hoverlabel": {
          "namelength": 0
         },
         "hovertemplate": "action=car driving<br>x=%{x}<br>y=%{y}",
         "legendgroup": "action=car driving",
         "marker": {
          "color": "#FECB52",
          "symbol": "circle"
         },
         "mode": "markers",
         "name": "action=car driving",
         "showlegend": true,
         "type": "scatter",
         "x": [
          17.675968170166016,
          20.101232528686523,
          21.47892189025879,
          18.49097442626953,
          20.182024002075195,
          19.2510986328125,
          19.80764389038086,
          20.997018814086914,
          17.636293411254883,
          20.117830276489258
         ],
         "xaxis": "x",
         "y": [
          -7.76449728012085,
          -7.824331760406494,
          -8.152731895446777,
          -4.79318380355835,
          -4.73097562789917,
          -6.870871067047119,
          -9.154488563537598,
          -5.713659763336182,
          -5.143643379211426,
          -7.124393463134766
         ],
         "yaxis": "y"
        },
        {
         "hoverlabel": {
          "namelength": 0
         },
         "hovertemplate": "action=ascending stairs<br>x=%{x}<br>y=%{y}",
         "legendgroup": "action=ascending stairs",
         "marker": {
          "color": "#636efa",
          "symbol": "circle"
         },
         "mode": "markers",
         "name": "action=ascending stairs",
         "showlegend": true,
         "type": "scatter",
         "x": [
          -16.79706573486328,
          -16.834680557250977,
          -14.729399681091309,
          -5.23037576675415,
          -16.477445602416992,
          -18.609025955200195,
          -12.704512596130371,
          -11.872663497924805,
          -14.994245529174805,
          -18.341041564941406
         ],
         "xaxis": "x",
         "y": [
          -6.373983383178711,
          -7.443268775939941,
          -9.069070816040039,
          -1.3652291297912598,
          -5.480472564697266,
          -6.718435764312744,
          -8.429166793823242,
          -7.761275291442871,
          -9.168509483337402,
          -6.456143379211426
         ],
         "yaxis": "y"
        },
        {
         "hoverlabel": {
          "namelength": 0
         },
         "hovertemplate": "action=descending stairs<br>x=%{x}<br>y=%{y}",
         "legendgroup": "action=descending stairs",
         "marker": {
          "color": "#EF553B",
          "symbol": "circle"
         },
         "mode": "markers",
         "name": "action=descending stairs",
         "showlegend": true,
         "type": "scatter",
         "x": [
          7.574929714202881,
          8.487154960632324,
          2.8887360095977783,
          11.333184242248535,
          5.8390398025512695,
          9.775135040283203,
          9.41617202758789,
          8.541070938110352,
          8.998172760009766,
          7.646032333374023
         ],
         "xaxis": "x",
         "y": [
          -17.301912307739258,
          -19.427980422973633,
          -15.143064498901367,
          -16.141889572143555,
          -17.580360412597656,
          -15.523897171020508,
          -15.130724906921387,
          -17.72324562072754,
          -17.87753677368164,
          -19.054119110107422
         ],
         "yaxis": "y"
        },
        {
         "hoverlabel": {
          "namelength": 0
         },
         "hovertemplate": "action=vacuum cleaning<br>x=%{x}<br>y=%{y}",
         "legendgroup": "action=vacuum cleaning",
         "marker": {
          "color": "#00cc96",
          "symbol": "circle"
         },
         "mode": "markers",
         "name": "action=vacuum cleaning",
         "showlegend": true,
         "type": "scatter",
         "x": [
          4.280685901641846,
          0.04085444658994675,
          5.696446418762207,
          3.556213855743408,
          2.6183183193206787,
          3.4292027950286865,
          4.8154616355896,
          2.674804210662842,
          1.31308913230896,
          2.882812738418579
         ],
         "xaxis": "x",
         "y": [
          1.376501202583313,
          -13.170239448547363,
          -0.8303797841072083,
          1.7289668321609497,
          0.9735592007637024,
          0.5715059638023376,
          0.19373100996017456,
          -11.42918872833252,
          -12.3986234664917,
          -13.878728866577148
         ],
         "yaxis": "y"
        },
        {
         "hoverlabel": {
          "namelength": 0
         },
         "hovertemplate": "action=ironing<br>x=%{x}<br>y=%{y}",
         "legendgroup": "action=ironing",
         "marker": {
          "color": "#ab63fa",
          "symbol": "circle"
         },
         "mode": "markers",
         "name": "action=ironing",
         "showlegend": true,
         "type": "scatter",
         "x": [
          -2.549402952194214,
          -3.809159755706787,
          -3.9608652591705322,
          -4.6804327964782715,
          -5.5445475578308105,
          -3.380519151687622,
          -4.983856201171875,
          -5.770537853240967,
          -2.7305989265441895,
          -3.1066133975982666
         ],
         "xaxis": "x",
         "y": [
          26.852928161621094,
          26.195301055908203,
          25.079994201660156,
          23.609088897705078,
          25.232633590698242,
          23.23282241821289,
          27.607715606689453,
          26.792558670043945,
          25.071958541870117,
          24.50429344177246
         ],
         "yaxis": "y"
        },
        {
         "hoverlabel": {
          "namelength": 0
         },
         "hovertemplate": "action=folding laundry<br>x=%{x}<br>y=%{y}",
         "legendgroup": "action=folding laundry",
         "marker": {
          "color": "#FFA15A",
          "symbol": "circle"
         },
         "mode": "markers",
         "name": "action=folding laundry",
         "showlegend": true,
         "type": "scatter",
         "x": [
          -16.49700355529785,
          -14.071786880493164,
          -14.997459411621094,
          -15.62465763092041,
          -15.9382963180542,
          -18.24653434753418,
          -16.6979923248291,
          -17.840177536010742,
          -16.656200408935547,
          -15.700570106506348
         ],
         "xaxis": "x",
         "y": [
          12.689229011535645,
          18.019725799560547,
          16.082822799682617,
          17.444210052490234,
          15.557737350463867,
          16.603214263916016,
          16.42163848876953,
          15.03257942199707,
          18.128549575805664,
          14.976655960083008
         ],
         "yaxis": "y"
        },
        {
         "hoverlabel": {
          "namelength": 0
         },
         "hovertemplate": "action=house cleaning<br>x=%{x}<br>y=%{y}",
         "legendgroup": "action=house cleaning",
         "marker": {
          "color": "#19d3f3",
          "symbol": "circle"
         },
         "mode": "markers",
         "name": "action=house cleaning",
         "showlegend": true,
         "type": "scatter",
         "x": [
          -16.99644660949707,
          -14.467243194580078,
          -17.830455780029297,
          -19.18083953857422,
          -17.433170318603516,
          -17.477087020874023,
          -17.655197143554688,
          -16.93777847290039,
          -16.488672256469727,
          -19.254867553710938
         ],
         "xaxis": "x",
         "y": [
          4.917666912078857,
          7.742922306060791,
          10.588003158569336,
          8.709762573242188,
          6.360459327697754,
          8.082413673400879,
          11.635087013244629,
          9.747518539428711,
          7.865304946899414,
          8.010520935058594
         ],
         "yaxis": "y"
        },
        {
         "hoverlabel": {
          "namelength": 0
         },
         "hovertemplate": "action=playing soccer<br>x=%{x}<br>y=%{y}",
         "legendgroup": "action=playing soccer",
         "marker": {
          "color": "#FF6692",
          "symbol": "circle"
         },
         "mode": "markers",
         "name": "action=playing soccer",
         "showlegend": true,
         "type": "scatter",
         "x": [
          -8.939332008361816,
          -5.0362396240234375,
          -6.042173385620117,
          -9.075955390930176,
          -6.080177307128906,
          -8.227669715881348,
          -5.989124298095703,
          -10.65208625793457,
          -9.172491073608398,
          -7.5131001472473145
         ],
         "xaxis": "x",
         "y": [
          -11.769948959350586,
          -15.44009017944336,
          4.981429576873779,
          -16.50909996032715,
          -13.398210525512695,
          -15.771008491516113,
          -14.587752342224121,
          -13.525863647460938,
          -14.37147045135498,
          -13.790810585021973
         ],
         "yaxis": "y"
        },
        {
         "hoverlabel": {
          "namelength": 0
         },
         "hovertemplate": "action=rope jumping<br>x=%{x}<br>y=%{y}",
         "legendgroup": "action=rope jumping",
         "marker": {
          "color": "#B6E880",
          "symbol": "circle"
         },
         "mode": "markers",
         "name": "action=rope jumping",
         "showlegend": true,
         "type": "scatter",
         "x": [
          12.588507652282715,
          12.762702941894531,
          13.927298545837402,
          11.633445739746094,
          10.1852388381958,
          11.076286315917969,
          12.790609359741211,
          13.750265121459961,
          12.393106460571289,
          10.85029411315918
         ],
         "xaxis": "x",
         "y": [
          -0.8040745854377747,
          4.862991809844971,
          0.7573307156562805,
          -2.023571491241455,
          4.190642833709717,
          2.0787434577941895,
          3.1220569610595703,
          2.5229690074920654,
          4.020559310913086,
          2.8638176918029785
         ],
         "yaxis": "y"
        }
       ],
       "layout": {
        "height": 800,
        "legend": {
         "tracegroupgap": 0
        },
        "template": {
         "data": {
          "bar": [
           {
            "error_x": {
             "color": "#2a3f5f"
            },
            "error_y": {
             "color": "#2a3f5f"
            },
            "marker": {
             "line": {
              "color": "#E5ECF6",
              "width": 0.5
             }
            },
            "type": "bar"
           }
          ],
          "barpolar": [
           {
            "marker": {
             "line": {
              "color": "#E5ECF6",
              "width": 0.5
             }
            },
            "type": "barpolar"
           }
          ],
          "carpet": [
           {
            "aaxis": {
             "endlinecolor": "#2a3f5f",
             "gridcolor": "white",
             "linecolor": "white",
             "minorgridcolor": "white",
             "startlinecolor": "#2a3f5f"
            },
            "baxis": {
             "endlinecolor": "#2a3f5f",
             "gridcolor": "white",
             "linecolor": "white",
             "minorgridcolor": "white",
             "startlinecolor": "#2a3f5f"
            },
            "type": "carpet"
           }
          ],
          "choropleth": [
           {
            "colorbar": {
             "outlinewidth": 0,
             "ticks": ""
            },
            "type": "choropleth"
           }
          ],
          "contour": [
           {
            "colorbar": {
             "outlinewidth": 0,
             "ticks": ""
            },
            "colorscale": [
             [
              0,
              "#0d0887"
             ],
             [
              0.1111111111111111,
              "#46039f"
             ],
             [
              0.2222222222222222,
              "#7201a8"
             ],
             [
              0.3333333333333333,
              "#9c179e"
             ],
             [
              0.4444444444444444,
              "#bd3786"
             ],
             [
              0.5555555555555556,
              "#d8576b"
             ],
             [
              0.6666666666666666,
              "#ed7953"
             ],
             [
              0.7777777777777778,
              "#fb9f3a"
             ],
             [
              0.8888888888888888,
              "#fdca26"
             ],
             [
              1,
              "#f0f921"
             ]
            ],
            "type": "contour"
           }
          ],
          "contourcarpet": [
           {
            "colorbar": {
             "outlinewidth": 0,
             "ticks": ""
            },
            "type": "contourcarpet"
           }
          ],
          "heatmap": [
           {
            "colorbar": {
             "outlinewidth": 0,
             "ticks": ""
            },
            "colorscale": [
             [
              0,
              "#0d0887"
             ],
             [
              0.1111111111111111,
              "#46039f"
             ],
             [
              0.2222222222222222,
              "#7201a8"
             ],
             [
              0.3333333333333333,
              "#9c179e"
             ],
             [
              0.4444444444444444,
              "#bd3786"
             ],
             [
              0.5555555555555556,
              "#d8576b"
             ],
             [
              0.6666666666666666,
              "#ed7953"
             ],
             [
              0.7777777777777778,
              "#fb9f3a"
             ],
             [
              0.8888888888888888,
              "#fdca26"
             ],
             [
              1,
              "#f0f921"
             ]
            ],
            "type": "heatmap"
           }
          ],
          "heatmapgl": [
           {
            "colorbar": {
             "outlinewidth": 0,
             "ticks": ""
            },
            "colorscale": [
             [
              0,
              "#0d0887"
             ],
             [
              0.1111111111111111,
              "#46039f"
             ],
             [
              0.2222222222222222,
              "#7201a8"
             ],
             [
              0.3333333333333333,
              "#9c179e"
             ],
             [
              0.4444444444444444,
              "#bd3786"
             ],
             [
              0.5555555555555556,
              "#d8576b"
             ],
             [
              0.6666666666666666,
              "#ed7953"
             ],
             [
              0.7777777777777778,
              "#fb9f3a"
             ],
             [
              0.8888888888888888,
              "#fdca26"
             ],
             [
              1,
              "#f0f921"
             ]
            ],
            "type": "heatmapgl"
           }
          ],
          "histogram": [
           {
            "marker": {
             "colorbar": {
              "outlinewidth": 0,
              "ticks": ""
             }
            },
            "type": "histogram"
           }
          ],
          "histogram2d": [
           {
            "colorbar": {
             "outlinewidth": 0,
             "ticks": ""
            },
            "colorscale": [
             [
              0,
              "#0d0887"
             ],
             [
              0.1111111111111111,
              "#46039f"
             ],
             [
              0.2222222222222222,
              "#7201a8"
             ],
             [
              0.3333333333333333,
              "#9c179e"
             ],
             [
              0.4444444444444444,
              "#bd3786"
             ],
             [
              0.5555555555555556,
              "#d8576b"
             ],
             [
              0.6666666666666666,
              "#ed7953"
             ],
             [
              0.7777777777777778,
              "#fb9f3a"
             ],
             [
              0.8888888888888888,
              "#fdca26"
             ],
             [
              1,
              "#f0f921"
             ]
            ],
            "type": "histogram2d"
           }
          ],
          "histogram2dcontour": [
           {
            "colorbar": {
             "outlinewidth": 0,
             "ticks": ""
            },
            "colorscale": [
             [
              0,
              "#0d0887"
             ],
             [
              0.1111111111111111,
              "#46039f"
             ],
             [
              0.2222222222222222,
              "#7201a8"
             ],
             [
              0.3333333333333333,
              "#9c179e"
             ],
             [
              0.4444444444444444,
              "#bd3786"
             ],
             [
              0.5555555555555556,
              "#d8576b"
             ],
             [
              0.6666666666666666,
              "#ed7953"
             ],
             [
              0.7777777777777778,
              "#fb9f3a"
             ],
             [
              0.8888888888888888,
              "#fdca26"
             ],
             [
              1,
              "#f0f921"
             ]
            ],
            "type": "histogram2dcontour"
           }
          ],
          "mesh3d": [
           {
            "colorbar": {
             "outlinewidth": 0,
             "ticks": ""
            },
            "type": "mesh3d"
           }
          ],
          "parcoords": [
           {
            "line": {
             "colorbar": {
              "outlinewidth": 0,
              "ticks": ""
             }
            },
            "type": "parcoords"
           }
          ],
          "pie": [
           {
            "automargin": true,
            "type": "pie"
           }
          ],
          "scatter": [
           {
            "marker": {
             "colorbar": {
              "outlinewidth": 0,
              "ticks": ""
             }
            },
            "type": "scatter"
           }
          ],
          "scatter3d": [
           {
            "line": {
             "colorbar": {
              "outlinewidth": 0,
              "ticks": ""
             }
            },
            "marker": {
             "colorbar": {
              "outlinewidth": 0,
              "ticks": ""
             }
            },
            "type": "scatter3d"
           }
          ],
          "scattercarpet": [
           {
            "marker": {
             "colorbar": {
              "outlinewidth": 0,
              "ticks": ""
             }
            },
            "type": "scattercarpet"
           }
          ],
          "scattergeo": [
           {
            "marker": {
             "colorbar": {
              "outlinewidth": 0,
              "ticks": ""
             }
            },
            "type": "scattergeo"
           }
          ],
          "scattergl": [
           {
            "marker": {
             "colorbar": {
              "outlinewidth": 0,
              "ticks": ""
             }
            },
            "type": "scattergl"
           }
          ],
          "scattermapbox": [
           {
            "marker": {
             "colorbar": {
              "outlinewidth": 0,
              "ticks": ""
             }
            },
            "type": "scattermapbox"
           }
          ],
          "scatterpolar": [
           {
            "marker": {
             "colorbar": {
              "outlinewidth": 0,
              "ticks": ""
             }
            },
            "type": "scatterpolar"
           }
          ],
          "scatterpolargl": [
           {
            "marker": {
             "colorbar": {
              "outlinewidth": 0,
              "ticks": ""
             }
            },
            "type": "scatterpolargl"
           }
          ],
          "scatterternary": [
           {
            "marker": {
             "colorbar": {
              "outlinewidth": 0,
              "ticks": ""
             }
            },
            "type": "scatterternary"
           }
          ],
          "surface": [
           {
            "colorbar": {
             "outlinewidth": 0,
             "ticks": ""
            },
            "colorscale": [
             [
              0,
              "#0d0887"
             ],
             [
              0.1111111111111111,
              "#46039f"
             ],
             [
              0.2222222222222222,
              "#7201a8"
             ],
             [
              0.3333333333333333,
              "#9c179e"
             ],
             [
              0.4444444444444444,
              "#bd3786"
             ],
             [
              0.5555555555555556,
              "#d8576b"
             ],
             [
              0.6666666666666666,
              "#ed7953"
             ],
             [
              0.7777777777777778,
              "#fb9f3a"
             ],
             [
              0.8888888888888888,
              "#fdca26"
             ],
             [
              1,
              "#f0f921"
             ]
            ],
            "type": "surface"
           }
          ],
          "table": [
           {
            "cells": {
             "fill": {
              "color": "#EBF0F8"
             },
             "line": {
              "color": "white"
             }
            },
            "header": {
             "fill": {
              "color": "#C8D4E3"
             },
             "line": {
              "color": "white"
             }
            },
            "type": "table"
           }
          ]
         },
         "layout": {
          "annotationdefaults": {
           "arrowcolor": "#2a3f5f",
           "arrowhead": 0,
           "arrowwidth": 1
          },
          "coloraxis": {
           "colorbar": {
            "outlinewidth": 0,
            "ticks": ""
           }
          },
          "colorscale": {
           "diverging": [
            [
             0,
             "#8e0152"
            ],
            [
             0.1,
             "#c51b7d"
            ],
            [
             0.2,
             "#de77ae"
            ],
            [
             0.3,
             "#f1b6da"
            ],
            [
             0.4,
             "#fde0ef"
            ],
            [
             0.5,
             "#f7f7f7"
            ],
            [
             0.6,
             "#e6f5d0"
            ],
            [
             0.7,
             "#b8e186"
            ],
            [
             0.8,
             "#7fbc41"
            ],
            [
             0.9,
             "#4d9221"
            ],
            [
             1,
             "#276419"
            ]
           ],
           "sequential": [
            [
             0,
             "#0d0887"
            ],
            [
             0.1111111111111111,
             "#46039f"
            ],
            [
             0.2222222222222222,
             "#7201a8"
            ],
            [
             0.3333333333333333,
             "#9c179e"
            ],
            [
             0.4444444444444444,
             "#bd3786"
            ],
            [
             0.5555555555555556,
             "#d8576b"
            ],
            [
             0.6666666666666666,
             "#ed7953"
            ],
            [
             0.7777777777777778,
             "#fb9f3a"
            ],
            [
             0.8888888888888888,
             "#fdca26"
            ],
            [
             1,
             "#f0f921"
            ]
           ],
           "sequentialminus": [
            [
             0,
             "#0d0887"
            ],
            [
             0.1111111111111111,
             "#46039f"
            ],
            [
             0.2222222222222222,
             "#7201a8"
            ],
            [
             0.3333333333333333,
             "#9c179e"
            ],
            [
             0.4444444444444444,
             "#bd3786"
            ],
            [
             0.5555555555555556,
             "#d8576b"
            ],
            [
             0.6666666666666666,
             "#ed7953"
            ],
            [
             0.7777777777777778,
             "#fb9f3a"
            ],
            [
             0.8888888888888888,
             "#fdca26"
            ],
            [
             1,
             "#f0f921"
            ]
           ]
          },
          "colorway": [
           "#636efa",
           "#EF553B",
           "#00cc96",
           "#ab63fa",
           "#FFA15A",
           "#19d3f3",
           "#FF6692",
           "#B6E880",
           "#FF97FF",
           "#FECB52"
          ],
          "font": {
           "color": "#2a3f5f"
          },
          "geo": {
           "bgcolor": "white",
           "lakecolor": "white",
           "landcolor": "#E5ECF6",
           "showlakes": true,
           "showland": true,
           "subunitcolor": "white"
          },
          "hoverlabel": {
           "align": "left"
          },
          "hovermode": "closest",
          "mapbox": {
           "style": "light"
          },
          "paper_bgcolor": "white",
          "plot_bgcolor": "#E5ECF6",
          "polar": {
           "angularaxis": {
            "gridcolor": "white",
            "linecolor": "white",
            "ticks": ""
           },
           "bgcolor": "#E5ECF6",
           "radialaxis": {
            "gridcolor": "white",
            "linecolor": "white",
            "ticks": ""
           }
          },
          "scene": {
           "xaxis": {
            "backgroundcolor": "#E5ECF6",
            "gridcolor": "white",
            "gridwidth": 2,
            "linecolor": "white",
            "showbackground": true,
            "ticks": "",
            "zerolinecolor": "white"
           },
           "yaxis": {
            "backgroundcolor": "#E5ECF6",
            "gridcolor": "white",
            "gridwidth": 2,
            "linecolor": "white",
            "showbackground": true,
            "ticks": "",
            "zerolinecolor": "white"
           },
           "zaxis": {
            "backgroundcolor": "#E5ECF6",
            "gridcolor": "white",
            "gridwidth": 2,
            "linecolor": "white",
            "showbackground": true,
            "ticks": "",
            "zerolinecolor": "white"
           }
          },
          "shapedefaults": {
           "line": {
            "color": "#2a3f5f"
           }
          },
          "ternary": {
           "aaxis": {
            "gridcolor": "white",
            "linecolor": "white",
            "ticks": ""
           },
           "baxis": {
            "gridcolor": "white",
            "linecolor": "white",
            "ticks": ""
           },
           "bgcolor": "#E5ECF6",
           "caxis": {
            "gridcolor": "white",
            "linecolor": "white",
            "ticks": ""
           }
          },
          "title": {
           "x": 0.05
          },
          "xaxis": {
           "automargin": true,
           "gridcolor": "white",
           "linecolor": "white",
           "ticks": "",
           "title": {
            "standoff": 15
           },
           "zerolinecolor": "white",
           "zerolinewidth": 2
          },
          "yaxis": {
           "automargin": true,
           "gridcolor": "white",
           "linecolor": "white",
           "ticks": "",
           "title": {
            "standoff": 15
           },
           "zerolinecolor": "white",
           "zerolinewidth": 2
          }
         }
        },
        "title": {
         "text": "t-SNE"
        },
        "width": 800,
        "xaxis": {
         "anchor": "y",
         "domain": [
          0,
          1
         ],
         "title": {
          "text": "x"
         }
        },
        "yaxis": {
         "anchor": "x",
         "domain": [
          0,
          1
         ],
         "title": {
          "text": "y"
         }
        }
       }
      }
     },
     "metadata": {},
     "output_type": "display_data"
    },
    {
     "data": {
      "application/vnd.plotly.v1+json": {
       "config": {
        "plotlyServerURL": "https://plotly.com"
       },
       "data": [
        {
         "hoverlabel": {
          "namelength": 0
         },
         "hovertemplate": "action=lying<br>x=%{x}<br>y=%{y}",
         "legendgroup": "action=lying",
         "marker": {
          "color": "#636efa",
          "symbol": "circle"
         },
         "mode": "markers",
         "name": "action=lying",
         "showlegend": true,
         "type": "scatter",
         "x": [
          3.913093328475952,
          3.8836660385131836,
          4.123560428619385,
          3.9969823360443115,
          3.983992099761963,
          4.268622875213623,
          4.287622451782227,
          3.939621686935425,
          3.962571859359741,
          3.7071025371551514
         ],
         "xaxis": "x",
         "y": [
          8.965465545654297,
          9.08423900604248,
          9.099211692810059,
          9.298566818237305,
          9.051340103149414,
          9.101892471313477,
          9.224721908569336,
          9.250341415405273,
          8.857370376586914,
          8.980372428894043
         ],
         "yaxis": "y"
        },
        {
         "hoverlabel": {
          "namelength": 0
         },
         "hovertemplate": "action=sitting<br>x=%{x}<br>y=%{y}",
         "legendgroup": "action=sitting",
         "marker": {
          "color": "#EF553B",
          "symbol": "circle"
         },
         "mode": "markers",
         "name": "action=sitting",
         "showlegend": true,
         "type": "scatter",
         "x": [
          8.484672546386719,
          8.742332458496094,
          8.89989185333252,
          8.446836471557617,
          8.651694297790527,
          8.292617797851562,
          8.312694549560547,
          8.762285232543945,
          8.642601013183594,
          8.592225074768066
         ],
         "xaxis": "x",
         "y": [
          5.715898036956787,
          5.661737442016602,
          5.737223148345947,
          5.414680004119873,
          5.459188461303711,
          5.575979232788086,
          5.96927547454834,
          5.662877559661865,
          5.845065593719482,
          5.801342487335205
         ],
         "yaxis": "y"
        },
        {
         "hoverlabel": {
          "namelength": 0
         },
         "hovertemplate": "action=standing<br>x=%{x}<br>y=%{y}",
         "legendgroup": "action=standing",
         "marker": {
          "color": "#00cc96",
          "symbol": "circle"
         },
         "mode": "markers",
         "name": "action=standing",
         "showlegend": true,
         "type": "scatter",
         "x": [
          2.8285129070281982,
          3.100202798843384,
          3.4520485401153564,
          2.5749309062957764,
          3.0405197143554688,
          3.3184926509857178,
          3.1396143436431885,
          3.7479248046875,
          2.8543758392333984,
          3.996385097503662
         ],
         "xaxis": "x",
         "y": [
          8.54981517791748,
          8.177441596984863,
          7.927508354187012,
          9.33394718170166,
          8.43396282196045,
          8.08121395111084,
          8.439403533935547,
          8.401183128356934,
          8.908188819885254,
          8.076665878295898
         ],
         "yaxis": "y"
        },
        {
         "hoverlabel": {
          "namelength": 0
         },
         "hovertemplate": "action=walking<br>x=%{x}<br>y=%{y}",
         "legendgroup": "action=walking",
         "marker": {
          "color": "#ab63fa",
          "symbol": "circle"
         },
         "mode": "markers",
         "name": "action=walking",
         "showlegend": true,
         "type": "scatter",
         "x": [
          5.220661163330078,
          4.163366794586182,
          4.719674587249756,
          4.922238826751709,
          4.614777088165283,
          4.640783786773682,
          5.142629623413086,
          4.794670104980469,
          4.560776710510254,
          5.0540876388549805
         ],
         "xaxis": "x",
         "y": [
          7.236464023590088,
          6.158140182495117,
          5.554095268249512,
          5.618202209472656,
          5.784078598022461,
          5.858635902404785,
          5.8230485916137695,
          5.946051120758057,
          5.997892379760742,
          6.019712448120117
         ],
         "yaxis": "y"
        },
        {
         "hoverlabel": {
          "namelength": 0
         },
         "hovertemplate": "action=running<br>x=%{x}<br>y=%{y}",
         "legendgroup": "action=running",
         "marker": {
          "color": "#FFA15A",
          "symbol": "circle"
         },
         "mode": "markers",
         "name": "action=running",
         "showlegend": true,
         "type": "scatter",
         "x": [
          7.274749755859375,
          7.398318290710449,
          7.150732517242432,
          7.0188751220703125,
          7.658811092376709,
          8.07026481628418,
          7.3015336990356445,
          6.75579833984375,
          7.380794525146484,
          7.426382541656494
         ],
         "xaxis": "x",
         "y": [
          7.137744903564453,
          7.028231620788574,
          7.184518814086914,
          7.210358142852783,
          7.4639363288879395,
          6.823172092437744,
          7.3716325759887695,
          6.883122444152832,
          7.246704578399658,
          7.497425079345703
         ],
         "yaxis": "y"
        },
        {
         "hoverlabel": {
          "namelength": 0
         },
         "hovertemplate": "action=cycling<br>x=%{x}<br>y=%{y}",
         "legendgroup": "action=cycling",
         "marker": {
          "color": "#19d3f3",
          "symbol": "circle"
         },
         "mode": "markers",
         "name": "action=cycling",
         "showlegend": true,
         "type": "scatter",
         "x": [
          6.605315685272217,
          6.887893199920654,
          6.813424110412598,
          6.1500163078308105,
          5.980238914489746,
          6.779360294342041,
          6.326343536376953,
          6.264505386352539,
          6.21649169921875,
          6.127044200897217
         ],
         "xaxis": "x",
         "y": [
          5.345978260040283,
          5.486084461212158,
          6.380243301391602,
          6.610349655151367,
          6.777373313903809,
          6.630293846130371,
          6.410602569580078,
          6.317017555236816,
          6.238613128662109,
          6.010053634643555
         ],
         "yaxis": "y"
        },
        {
         "hoverlabel": {
          "namelength": 0
         },
         "hovertemplate": "action=Nordic walking<br>x=%{x}<br>y=%{y}",
         "legendgroup": "action=Nordic walking",
         "marker": {
          "color": "#FF6692",
          "symbol": "circle"
         },
         "mode": "markers",
         "name": "action=Nordic walking",
         "showlegend": true,
         "type": "scatter",
         "x": [
          5.578476428985596,
          5.491017818450928,
          5.221251010894775,
          6.137911319732666,
          6.783421039581299,
          6.124773025512695,
          6.278467178344727,
          5.569235801696777,
          5.352225303649902,
          5.988174915313721
         ],
         "xaxis": "x",
         "y": [
          5.894917011260986,
          5.514917850494385,
          5.761938095092773,
          5.675962924957275,
          5.985829830169678,
          5.4872212409973145,
          6.696896553039551,
          5.776134967803955,
          5.831442832946777,
          5.5281758308410645
         ],
         "yaxis": "y"
        },
        {
         "hoverlabel": {
          "namelength": 0
         },
         "hovertemplate": "action=watching TV<br>x=%{x}<br>y=%{y}",
         "legendgroup": "action=watching TV",
         "marker": {
          "color": "#B6E880",
          "symbol": "circle"
         },
         "mode": "markers",
         "name": "action=watching TV",
         "showlegend": true,
         "type": "scatter",
         "x": [
          2.492367744445801,
          2.8316633701324463,
          2.0958335399627686,
          1.5246552228927612,
          2.6096503734588623,
          2.2797915935516357,
          2.70727276802063,
          2.563495397567749,
          2.2291483879089355,
          2.550830602645874
         ],
         "xaxis": "x",
         "y": [
          9.773616790771484,
          9.128778457641602,
          9.240335464477539,
          10.272040367126465,
          9.860095024108887,
          9.851408958435059,
          9.571803092956543,
          9.464028358459473,
          9.549128532409668,
          9.634272575378418
         ],
         "yaxis": "y"
        },
        {
         "hoverlabel": {
          "namelength": 0
         },
         "hovertemplate": "action=computer work<br>x=%{x}<br>y=%{y}",
         "legendgroup": "action=computer work",
         "marker": {
          "color": "#FF97FF",
          "symbol": "circle"
         },
         "mode": "markers",
         "name": "action=computer work",
         "showlegend": true,
         "type": "scatter",
         "x": [
          3.332970380783081,
          3.5965254306793213,
          3.389052152633667,
          4.266559600830078,
          2.2515687942504883,
          2.77987003326416,
          3.820725917816162,
          3.5595831871032715,
          3.192656993865967,
          3.23506498336792
         ],
         "xaxis": "x",
         "y": [
          9.834568977355957,
          9.759805679321289,
          9.613825798034668,
          8.77090072631836,
          10.070416450500488,
          9.291916847229004,
          9.406966209411621,
          9.836618423461914,
          9.599087715148926,
          9.409667015075684
         ],
         "yaxis": "y"
        },
        {
         "hoverlabel": {
          "namelength": 0
         },
         "hovertemplate": "action=car driving<br>x=%{x}<br>y=%{y}",
         "legendgroup": "action=car driving",
         "marker": {
          "color": "#FECB52",
          "symbol": "circle"
         },
         "mode": "markers",
         "name": "action=car driving",
         "showlegend": true,
         "type": "scatter",
         "x": [
          8.246753692626953,
          8.696364402770996,
          8.591069221496582,
          8.599063873291016,
          8.686894416809082,
          8.495451927185059,
          8.63062572479248,
          8.507600784301758,
          8.182639122009277,
          8.70995807647705
         ],
         "xaxis": "x",
         "y": [
          7.391838073730469,
          7.409101486206055,
          7.5792036056518555,
          7.734084606170654,
          7.705850601196289,
          7.525141716003418,
          7.48805570602417,
          7.627097129821777,
          7.5779619216918945,
          7.53989315032959
         ],
         "yaxis": "y"
        },
        {
         "hoverlabel": {
          "namelength": 0
         },
         "hovertemplate": "action=ascending stairs<br>x=%{x}<br>y=%{y}",
         "legendgroup": "action=ascending stairs",
         "marker": {
          "color": "#636efa",
          "symbol": "circle"
         },
         "mode": "markers",
         "name": "action=ascending stairs",
         "showlegend": true,
         "type": "scatter",
         "x": [
          3.9851584434509277,
          3.9220452308654785,
          3.803907632827759,
          4.206742763519287,
          3.82875657081604,
          4.103220462799072,
          3.9381394386291504,
          4.2260026931762695,
          4.038263320922852,
          4.110543727874756
         ],
         "xaxis": "x",
         "y": [
          7.135501861572266,
          7.243850231170654,
          6.848031044006348,
          7.669318199157715,
          7.197192192077637,
          7.093967437744141,
          6.6313886642456055,
          6.525866508483887,
          6.940282821655273,
          7.144822597503662
         ],
         "yaxis": "y"
        },
        {
         "hoverlabel": {
          "namelength": 0
         },
         "hovertemplate": "action=descending stairs<br>x=%{x}<br>y=%{y}",
         "legendgroup": "action=descending stairs",
         "marker": {
          "color": "#EF553B",
          "symbol": "circle"
         },
         "mode": "markers",
         "name": "action=descending stairs",
         "showlegend": true,
         "type": "scatter",
         "x": [
          7.585504055023193,
          8.014554023742676,
          6.73674201965332,
          8.117388725280762,
          7.360311031341553,
          7.921377658843994,
          7.971012592315674,
          7.7830305099487305,
          7.820176601409912,
          7.854714393615723
         ],
         "xaxis": "x",
         "y": [
          4.993821620941162,
          5.041985988616943,
          5.214018821716309,
          5.329503059387207,
          5.150869369506836,
          5.234968185424805,
          5.223620891571045,
          4.972296237945557,
          5.119888782501221,
          5.063185214996338
         ],
         "yaxis": "y"
        },
        {
         "hoverlabel": {
          "namelength": 0
         },
         "hovertemplate": "action=vacuum cleaning<br>x=%{x}<br>y=%{y}",
         "legendgroup": "action=vacuum cleaning",
         "marker": {
          "color": "#00cc96",
          "symbol": "circle"
         },
         "mode": "markers",
         "name": "action=vacuum cleaning",
         "showlegend": true,
         "type": "scatter",
         "x": [
          6.5709123611450195,
          6.249294281005859,
          6.9043288230896,
          6.571102142333984,
          6.527352333068848,
          6.731549263000488,
          6.818215847015381,
          6.4711809158325195,
          6.2906951904296875,
          6.550949573516846
         ],
         "xaxis": "x",
         "y": [
          4.085338115692139,
          5.092668056488037,
          4.230600833892822,
          4.159487247467041,
          4.201155185699463,
          3.931093454360962,
          3.931504011154175,
          5.628002166748047,
          5.297297477722168,
          5.5090718269348145
         ],
         "yaxis": "y"
        },
        {
         "hoverlabel": {
          "namelength": 0
         },
         "hovertemplate": "action=ironing<br>x=%{x}<br>y=%{y}",
         "legendgroup": "action=ironing",
         "marker": {
          "color": "#ab63fa",
          "symbol": "circle"
         },
         "mode": "markers",
         "name": "action=ironing",
         "showlegend": true,
         "type": "scatter",
         "x": [
          7.580471038818359,
          7.323608875274658,
          7.273711204528809,
          7.510159969329834,
          7.359509468078613,
          7.4811224937438965,
          7.3275885581970215,
          7.468968868255615,
          7.361226558685303,
          7.384511470794678
         ],
         "xaxis": "x",
         "y": [
          1.9343502521514893,
          1.8725560903549194,
          1.966474175453186,
          2.0774002075195312,
          2.0673046112060547,
          1.8534201383590698,
          2.225895643234253,
          2.102168321609497,
          1.9958842992782593,
          1.820604920387268
         ],
         "yaxis": "y"
        },
        {
         "hoverlabel": {
          "namelength": 0
         },
         "hovertemplate": "action=folding laundry<br>x=%{x}<br>y=%{y}",
         "legendgroup": "action=folding laundry",
         "marker": {
          "color": "#FFA15A",
          "symbol": "circle"
         },
         "mode": "markers",
         "name": "action=folding laundry",
         "showlegend": true,
         "type": "scatter",
         "x": [
          0.8860294222831726,
          1.248647928237915,
          1.222831130027771,
          0.9697314500808716,
          0.8455677032470703,
          1.2384443283081055,
          1.1576364040374756,
          0.9737567901611328,
          1.000098466873169,
          0.9093011617660522
         ],
         "xaxis": "x",
         "y": [
          9.897046089172363,
          10.594239234924316,
          10.542940139770508,
          10.393756866455078,
          10.270249366760254,
          10.393394470214844,
          10.474830627441406,
          10.165393829345703,
          10.355426788330078,
          10.163419723510742
         ],
         "yaxis": "y"
        },
        {
         "hoverlabel": {
          "namelength": 0
         },
         "hovertemplate": "action=house cleaning<br>x=%{x}<br>y=%{y}",
         "legendgroup": "action=house cleaning",
         "marker": {
          "color": "#19d3f3",
          "symbol": "circle"
         },
         "mode": "markers",
         "name": "action=house cleaning",
         "showlegend": true,
         "type": "scatter",
         "x": [
          1.4623610973358154,
          1.6675846576690674,
          1.0368627309799194,
          1.227728009223938,
          1.2230280637741089,
          1.0284074544906616,
          0.9495587348937988,
          0.997032880783081,
          1.2157093286514282,
          1.1548981666564941
         ],
         "xaxis": "x",
         "y": [
          8.920862197875977,
          9.221338272094727,
          9.38654613494873,
          9.193196296691895,
          9.09504508972168,
          9.282233238220215,
          9.654135704040527,
          9.38616943359375,
          9.188308715820312,
          9.330981254577637
         ],
         "yaxis": "y"
        },
        {
         "hoverlabel": {
          "namelength": 0
         },
         "hovertemplate": "action=playing soccer<br>x=%{x}<br>y=%{y}",
         "legendgroup": "action=playing soccer",
         "marker": {
          "color": "#FF6692",
          "symbol": "circle"
         },
         "mode": "markers",
         "name": "action=playing soccer",
         "showlegend": true,
         "type": "scatter",
         "x": [
          4.872455596923828,
          5.267906188964844,
          2.6883232593536377,
          5.16361141204834,
          5.129123210906982,
          5.116861820220947,
          5.1575608253479,
          4.761789798736572,
          4.891606330871582,
          4.918283462524414
         ],
         "xaxis": "x",
         "y": [
          6.982909679412842,
          6.478174686431885,
          9.078412055969238,
          6.519321918487549,
          6.280377388000488,
          6.6745500564575195,
          6.3942413330078125,
          6.8179931640625,
          6.755114555358887,
          6.479461669921875
         ],
         "yaxis": "y"
        },
        {
         "hoverlabel": {
          "namelength": 0
         },
         "hovertemplate": "action=rope jumping<br>x=%{x}<br>y=%{y}",
         "legendgroup": "action=rope jumping",
         "marker": {
          "color": "#B6E880",
          "symbol": "circle"
         },
         "mode": "markers",
         "name": "action=rope jumping",
         "showlegend": true,
         "type": "scatter",
         "x": [
          6.463860034942627,
          6.195688724517822,
          6.407041549682617,
          6.712673664093018,
          5.805795669555664,
          5.917840480804443,
          6.064846038818359,
          6.249598979949951,
          6.121323108673096,
          5.9069085121154785
         ],
         "xaxis": "x",
         "y": [
          7.7716264724731445,
          8.200294494628906,
          7.888845920562744,
          7.513871669769287,
          8.055548667907715,
          7.635807991027832,
          8.137796401977539,
          7.975602149963379,
          8.00037670135498,
          7.8681817054748535
         ],
         "yaxis": "y"
        }
       ],
       "layout": {
        "height": 800,
        "legend": {
         "tracegroupgap": 0
        },
        "template": {
         "data": {
          "bar": [
           {
            "error_x": {
             "color": "#2a3f5f"
            },
            "error_y": {
             "color": "#2a3f5f"
            },
            "marker": {
             "line": {
              "color": "#E5ECF6",
              "width": 0.5
             }
            },
            "type": "bar"
           }
          ],
          "barpolar": [
           {
            "marker": {
             "line": {
              "color": "#E5ECF6",
              "width": 0.5
             }
            },
            "type": "barpolar"
           }
          ],
          "carpet": [
           {
            "aaxis": {
             "endlinecolor": "#2a3f5f",
             "gridcolor": "white",
             "linecolor": "white",
             "minorgridcolor": "white",
             "startlinecolor": "#2a3f5f"
            },
            "baxis": {
             "endlinecolor": "#2a3f5f",
             "gridcolor": "white",
             "linecolor": "white",
             "minorgridcolor": "white",
             "startlinecolor": "#2a3f5f"
            },
            "type": "carpet"
           }
          ],
          "choropleth": [
           {
            "colorbar": {
             "outlinewidth": 0,
             "ticks": ""
            },
            "type": "choropleth"
           }
          ],
          "contour": [
           {
            "colorbar": {
             "outlinewidth": 0,
             "ticks": ""
            },
            "colorscale": [
             [
              0,
              "#0d0887"
             ],
             [
              0.1111111111111111,
              "#46039f"
             ],
             [
              0.2222222222222222,
              "#7201a8"
             ],
             [
              0.3333333333333333,
              "#9c179e"
             ],
             [
              0.4444444444444444,
              "#bd3786"
             ],
             [
              0.5555555555555556,
              "#d8576b"
             ],
             [
              0.6666666666666666,
              "#ed7953"
             ],
             [
              0.7777777777777778,
              "#fb9f3a"
             ],
             [
              0.8888888888888888,
              "#fdca26"
             ],
             [
              1,
              "#f0f921"
             ]
            ],
            "type": "contour"
           }
          ],
          "contourcarpet": [
           {
            "colorbar": {
             "outlinewidth": 0,
             "ticks": ""
            },
            "type": "contourcarpet"
           }
          ],
          "heatmap": [
           {
            "colorbar": {
             "outlinewidth": 0,
             "ticks": ""
            },
            "colorscale": [
             [
              0,
              "#0d0887"
             ],
             [
              0.1111111111111111,
              "#46039f"
             ],
             [
              0.2222222222222222,
              "#7201a8"
             ],
             [
              0.3333333333333333,
              "#9c179e"
             ],
             [
              0.4444444444444444,
              "#bd3786"
             ],
             [
              0.5555555555555556,
              "#d8576b"
             ],
             [
              0.6666666666666666,
              "#ed7953"
             ],
             [
              0.7777777777777778,
              "#fb9f3a"
             ],
             [
              0.8888888888888888,
              "#fdca26"
             ],
             [
              1,
              "#f0f921"
             ]
            ],
            "type": "heatmap"
           }
          ],
          "heatmapgl": [
           {
            "colorbar": {
             "outlinewidth": 0,
             "ticks": ""
            },
            "colorscale": [
             [
              0,
              "#0d0887"
             ],
             [
              0.1111111111111111,
              "#46039f"
             ],
             [
              0.2222222222222222,
              "#7201a8"
             ],
             [
              0.3333333333333333,
              "#9c179e"
             ],
             [
              0.4444444444444444,
              "#bd3786"
             ],
             [
              0.5555555555555556,
              "#d8576b"
             ],
             [
              0.6666666666666666,
              "#ed7953"
             ],
             [
              0.7777777777777778,
              "#fb9f3a"
             ],
             [
              0.8888888888888888,
              "#fdca26"
             ],
             [
              1,
              "#f0f921"
             ]
            ],
            "type": "heatmapgl"
           }
          ],
          "histogram": [
           {
            "marker": {
             "colorbar": {
              "outlinewidth": 0,
              "ticks": ""
             }
            },
            "type": "histogram"
           }
          ],
          "histogram2d": [
           {
            "colorbar": {
             "outlinewidth": 0,
             "ticks": ""
            },
            "colorscale": [
             [
              0,
              "#0d0887"
             ],
             [
              0.1111111111111111,
              "#46039f"
             ],
             [
              0.2222222222222222,
              "#7201a8"
             ],
             [
              0.3333333333333333,
              "#9c179e"
             ],
             [
              0.4444444444444444,
              "#bd3786"
             ],
             [
              0.5555555555555556,
              "#d8576b"
             ],
             [
              0.6666666666666666,
              "#ed7953"
             ],
             [
              0.7777777777777778,
              "#fb9f3a"
             ],
             [
              0.8888888888888888,
              "#fdca26"
             ],
             [
              1,
              "#f0f921"
             ]
            ],
            "type": "histogram2d"
           }
          ],
          "histogram2dcontour": [
           {
            "colorbar": {
             "outlinewidth": 0,
             "ticks": ""
            },
            "colorscale": [
             [
              0,
              "#0d0887"
             ],
             [
              0.1111111111111111,
              "#46039f"
             ],
             [
              0.2222222222222222,
              "#7201a8"
             ],
             [
              0.3333333333333333,
              "#9c179e"
             ],
             [
              0.4444444444444444,
              "#bd3786"
             ],
             [
              0.5555555555555556,
              "#d8576b"
             ],
             [
              0.6666666666666666,
              "#ed7953"
             ],
             [
              0.7777777777777778,
              "#fb9f3a"
             ],
             [
              0.8888888888888888,
              "#fdca26"
             ],
             [
              1,
              "#f0f921"
             ]
            ],
            "type": "histogram2dcontour"
           }
          ],
          "mesh3d": [
           {
            "colorbar": {
             "outlinewidth": 0,
             "ticks": ""
            },
            "type": "mesh3d"
           }
          ],
          "parcoords": [
           {
            "line": {
             "colorbar": {
              "outlinewidth": 0,
              "ticks": ""
             }
            },
            "type": "parcoords"
           }
          ],
          "pie": [
           {
            "automargin": true,
            "type": "pie"
           }
          ],
          "scatter": [
           {
            "marker": {
             "colorbar": {
              "outlinewidth": 0,
              "ticks": ""
             }
            },
            "type": "scatter"
           }
          ],
          "scatter3d": [
           {
            "line": {
             "colorbar": {
              "outlinewidth": 0,
              "ticks": ""
             }
            },
            "marker": {
             "colorbar": {
              "outlinewidth": 0,
              "ticks": ""
             }
            },
            "type": "scatter3d"
           }
          ],
          "scattercarpet": [
           {
            "marker": {
             "colorbar": {
              "outlinewidth": 0,
              "ticks": ""
             }
            },
            "type": "scattercarpet"
           }
          ],
          "scattergeo": [
           {
            "marker": {
             "colorbar": {
              "outlinewidth": 0,
              "ticks": ""
             }
            },
            "type": "scattergeo"
           }
          ],
          "scattergl": [
           {
            "marker": {
             "colorbar": {
              "outlinewidth": 0,
              "ticks": ""
             }
            },
            "type": "scattergl"
           }
          ],
          "scattermapbox": [
           {
            "marker": {
             "colorbar": {
              "outlinewidth": 0,
              "ticks": ""
             }
            },
            "type": "scattermapbox"
           }
          ],
          "scatterpolar": [
           {
            "marker": {
             "colorbar": {
              "outlinewidth": 0,
              "ticks": ""
             }
            },
            "type": "scatterpolar"
           }
          ],
          "scatterpolargl": [
           {
            "marker": {
             "colorbar": {
              "outlinewidth": 0,
              "ticks": ""
             }
            },
            "type": "scatterpolargl"
           }
          ],
          "scatterternary": [
           {
            "marker": {
             "colorbar": {
              "outlinewidth": 0,
              "ticks": ""
             }
            },
            "type": "scatterternary"
           }
          ],
          "surface": [
           {
            "colorbar": {
             "outlinewidth": 0,
             "ticks": ""
            },
            "colorscale": [
             [
              0,
              "#0d0887"
             ],
             [
              0.1111111111111111,
              "#46039f"
             ],
             [
              0.2222222222222222,
              "#7201a8"
             ],
             [
              0.3333333333333333,
              "#9c179e"
             ],
             [
              0.4444444444444444,
              "#bd3786"
             ],
             [
              0.5555555555555556,
              "#d8576b"
             ],
             [
              0.6666666666666666,
              "#ed7953"
             ],
             [
              0.7777777777777778,
              "#fb9f3a"
             ],
             [
              0.8888888888888888,
              "#fdca26"
             ],
             [
              1,
              "#f0f921"
             ]
            ],
            "type": "surface"
           }
          ],
          "table": [
           {
            "cells": {
             "fill": {
              "color": "#EBF0F8"
             },
             "line": {
              "color": "white"
             }
            },
            "header": {
             "fill": {
              "color": "#C8D4E3"
             },
             "line": {
              "color": "white"
             }
            },
            "type": "table"
           }
          ]
         },
         "layout": {
          "annotationdefaults": {
           "arrowcolor": "#2a3f5f",
           "arrowhead": 0,
           "arrowwidth": 1
          },
          "coloraxis": {
           "colorbar": {
            "outlinewidth": 0,
            "ticks": ""
           }
          },
          "colorscale": {
           "diverging": [
            [
             0,
             "#8e0152"
            ],
            [
             0.1,
             "#c51b7d"
            ],
            [
             0.2,
             "#de77ae"
            ],
            [
             0.3,
             "#f1b6da"
            ],
            [
             0.4,
             "#fde0ef"
            ],
            [
             0.5,
             "#f7f7f7"
            ],
            [
             0.6,
             "#e6f5d0"
            ],
            [
             0.7,
             "#b8e186"
            ],
            [
             0.8,
             "#7fbc41"
            ],
            [
             0.9,
             "#4d9221"
            ],
            [
             1,
             "#276419"
            ]
           ],
           "sequential": [
            [
             0,
             "#0d0887"
            ],
            [
             0.1111111111111111,
             "#46039f"
            ],
            [
             0.2222222222222222,
             "#7201a8"
            ],
            [
             0.3333333333333333,
             "#9c179e"
            ],
            [
             0.4444444444444444,
             "#bd3786"
            ],
            [
             0.5555555555555556,
             "#d8576b"
            ],
            [
             0.6666666666666666,
             "#ed7953"
            ],
            [
             0.7777777777777778,
             "#fb9f3a"
            ],
            [
             0.8888888888888888,
             "#fdca26"
            ],
            [
             1,
             "#f0f921"
            ]
           ],
           "sequentialminus": [
            [
             0,
             "#0d0887"
            ],
            [
             0.1111111111111111,
             "#46039f"
            ],
            [
             0.2222222222222222,
             "#7201a8"
            ],
            [
             0.3333333333333333,
             "#9c179e"
            ],
            [
             0.4444444444444444,
             "#bd3786"
            ],
            [
             0.5555555555555556,
             "#d8576b"
            ],
            [
             0.6666666666666666,
             "#ed7953"
            ],
            [
             0.7777777777777778,
             "#fb9f3a"
            ],
            [
             0.8888888888888888,
             "#fdca26"
            ],
            [
             1,
             "#f0f921"
            ]
           ]
          },
          "colorway": [
           "#636efa",
           "#EF553B",
           "#00cc96",
           "#ab63fa",
           "#FFA15A",
           "#19d3f3",
           "#FF6692",
           "#B6E880",
           "#FF97FF",
           "#FECB52"
          ],
          "font": {
           "color": "#2a3f5f"
          },
          "geo": {
           "bgcolor": "white",
           "lakecolor": "white",
           "landcolor": "#E5ECF6",
           "showlakes": true,
           "showland": true,
           "subunitcolor": "white"
          },
          "hoverlabel": {
           "align": "left"
          },
          "hovermode": "closest",
          "mapbox": {
           "style": "light"
          },
          "paper_bgcolor": "white",
          "plot_bgcolor": "#E5ECF6",
          "polar": {
           "angularaxis": {
            "gridcolor": "white",
            "linecolor": "white",
            "ticks": ""
           },
           "bgcolor": "#E5ECF6",
           "radialaxis": {
            "gridcolor": "white",
            "linecolor": "white",
            "ticks": ""
           }
          },
          "scene": {
           "xaxis": {
            "backgroundcolor": "#E5ECF6",
            "gridcolor": "white",
            "gridwidth": 2,
            "linecolor": "white",
            "showbackground": true,
            "ticks": "",
            "zerolinecolor": "white"
           },
           "yaxis": {
            "backgroundcolor": "#E5ECF6",
            "gridcolor": "white",
            "gridwidth": 2,
            "linecolor": "white",
            "showbackground": true,
            "ticks": "",
            "zerolinecolor": "white"
           },
           "zaxis": {
            "backgroundcolor": "#E5ECF6",
            "gridcolor": "white",
            "gridwidth": 2,
            "linecolor": "white",
            "showbackground": true,
            "ticks": "",
            "zerolinecolor": "white"
           }
          },
          "shapedefaults": {
           "line": {
            "color": "#2a3f5f"
           }
          },
          "ternary": {
           "aaxis": {
            "gridcolor": "white",
            "linecolor": "white",
            "ticks": ""
           },
           "baxis": {
            "gridcolor": "white",
            "linecolor": "white",
            "ticks": ""
           },
           "bgcolor": "#E5ECF6",
           "caxis": {
            "gridcolor": "white",
            "linecolor": "white",
            "ticks": ""
           }
          },
          "title": {
           "x": 0.05
          },
          "xaxis": {
           "automargin": true,
           "gridcolor": "white",
           "linecolor": "white",
           "ticks": "",
           "title": {
            "standoff": 15
           },
           "zerolinecolor": "white",
           "zerolinewidth": 2
          },
          "yaxis": {
           "automargin": true,
           "gridcolor": "white",
           "linecolor": "white",
           "ticks": "",
           "title": {
            "standoff": 15
           },
           "zerolinecolor": "white",
           "zerolinewidth": 2
          }
         }
        },
        "title": {
         "text": "UMAP"
        },
        "width": 800,
        "xaxis": {
         "anchor": "y",
         "domain": [
          0,
          1
         ],
         "title": {
          "text": "x"
         }
        },
        "yaxis": {
         "anchor": "x",
         "domain": [
          0,
          1
         ],
         "title": {
          "text": "y"
         }
        }
       }
      }
     },
     "metadata": {},
     "output_type": "display_data"
    }
   ],
   "source": [
    "val_actions, val_labels, val_lm = get_action_vector(ae_model, skel_dt, device, class_ids=range(18), class_names=dataReader.idToLabel)\n",
    "tsne_skel_plot = plot_tnse(val_actions, val_labels, val_lm)\n",
    "plot_umap(val_actions, val_labels, val_lm)"
   ]
  },
  {
   "cell_type": "code",
   "execution_count": 48,
   "metadata": {},
   "outputs": [],
   "source": [
    "# py.plot(tsne_skel_plot, filename='TSNE_Skeleton_plot', auto_open=False)"
   ]
  },
  {
   "cell_type": "code",
   "execution_count": 49,
   "metadata": {},
   "outputs": [],
   "source": [
    "def plot_accVloss(train_data, val_data):\n",
    "    train_sdf = pd.DataFrame.from_records(train_data)\n",
    "    val_sdf = pd.DataFrame.from_records(val_data)\n",
    "\n",
    "    train_sdf['phase'] = 'train'\n",
    "    val_sdf['phase'] = 'validation'\n",
    "\n",
    "    all_sdf = pd.concat([train_sdf, val_sdf.loc[:, ['IMU loss', 'AE loss', 'accuracy', 'phase']]], axis=0)\n",
    "    all_sdf = all_sdf.rename_axis('epoch').reset_index()\n",
    "\n",
    "\n",
    "    fig, axes = plt.subplots(1, 3, figsize=(12, 6))\n",
    "    sns.lineplot(all_sdf, ax=axes[0], x='epoch', y='IMU loss', hue='phase')\n",
    "    sns.lineplot(all_sdf, ax=axes[1], x='epoch', y='AE loss', hue='phase')\n",
    "    sns.lineplot(all_sdf, ax=axes[2], x='epoch', y='accuracy', hue='phase')"
   ]
  },
  {
   "cell_type": "code",
   "execution_count": 50,
   "metadata": {},
   "outputs": [],
   "source": [
    "def gen_semantic_space(ft_dict):\n",
    "    action_ft = np.concatenate(list(ft_dict.values()), axis=0)\n",
    "\n",
    "    action_label = []\n",
    "    for i, k in enumerate(ft_dict.keys()):\n",
    "        action_label.extend([k,]*ft_dict[k].shape[0])\n",
    "\n",
    "    action_label = np.array(action_label)\n",
    "    return action_ft, action_label"
   ]
  },
  {
   "cell_type": "code",
   "execution_count": 51,
   "metadata": {},
   "outputs": [],
   "source": [
    "def over_plot_preds(gt_actions, gt_labels, pred_actions, pred_labels, Id2Label):\n",
    "    gt_n = gt_actions.shape[0]\n",
    "    pred_n = pred_actions.shape[0]\n",
    "\n",
    "    all_actions = np.concatenate([gt_actions, pred_actions])\n",
    "    all_labels = np.concatenate([gt_labels, pred_labels])\n",
    "    all_types = ['GT',]*gt_n + ['pred',]*pred_n\n",
    "\n",
    "    tnse = TSNE(n_components=2, init='random', learning_rate='auto', perplexity=15, n_iter=1000)\n",
    "    gt_data = tnse.fit_transform(all_actions)\n",
    "\n",
    "    gt_df = pd.DataFrame(data=gt_data, columns=['x', 'y'])\n",
    "    gt_df['label'] = all_labels \n",
    "    gt_df['action'] = gt_df['label'].map(val_lm)\n",
    "    gt_df['type'] = all_types\n",
    "\n",
    "    fig = px.scatter(gt_df, x='x', y='y', color='action', symbol='type', width=800, height=800, title='t-SNE')\n",
    "    fig.show()"
   ]
  },
  {
   "cell_type": "code",
   "execution_count": 52,
   "metadata": {},
   "outputs": [
    {
     "name": "stdout",
     "output_type": "stream",
     "text": [
      "================ Fold-0 ================\n",
      "Initiate IMU datasets ...\n",
      "Initiate Skeleton dataset ... \n",
      "Initial Models ...\n",
      "Start Models training ...\n"
     ]
    },
    {
     "name": "stderr",
     "output_type": "stream",
     "text": [
      "train: 100%|██████████| 523/523 [35:05<00:00,  4.03s/batch, IMU loss=0.488, AE loss=0.000415, accuracy=0.844]\n",
      "seen: 100%|██████████| 130/130 [03:36<00:00,  1.66s/batch, IMU loss=0.435, AE loss=0.435]\n"
     ]
    },
    {
     "data": {
      "image/png": "[encoded data removed]",
      "text/plain": [
       "<Figure size 640x480 with 2 Axes>"
      ]
     },
     "metadata": {},
     "output_type": "display_data"
    },
    {
     "name": "stderr",
     "output_type": "stream",
     "text": [
      "Training Epoch:  33%|███▎      | 1/3 [38:42<1:17:24, 2322.26s/it]"
     ]
    },
    {
     "name": "stdout",
     "output_type": "stream",
     "text": [
      "Overall accuracy: 0.832\n",
      "\n"
     ]
    },
    {
     "name": "stderr",
     "output_type": "stream",
     "text": [
      "train: 100%|██████████| 523/523 [35:02<00:00,  4.02s/batch, IMU loss=0.102, AE loss=0.000403, accuracy=0.969]\n",
      "seen: 100%|██████████| 130/130 [02:56<00:00,  1.36s/batch, IMU loss=0.0693, AE loss=0.0693]\n"
     ]
    },
    {
     "data": {
      "image/png": "[encoded data removed]",
      "text/plain": [
       "<Figure size 640x480 with 2 Axes>"
      ]
     },
     "metadata": {},
     "output_type": "display_data"
    },
    {
     "name": "stderr",
     "output_type": "stream",
     "text": [
      "Training Epoch:  67%|██████▋   | 2/3 [1:16:42<38:17, 2297.58s/it]"
     ]
    },
    {
     "name": "stdout",
     "output_type": "stream",
     "text": [
      "Overall accuracy: 0.865\n",
      "\n"
     ]
    },
    {
     "name": "stderr",
     "output_type": "stream",
     "text": [
      "train: 100%|██████████| 523/523 [35:17<00:00,  4.05s/batch, IMU loss=0.547, AE loss=0.00031, accuracy=0.844]\n",
      "seen: 100%|██████████| 130/130 [03:15<00:00,  1.50s/batch, IMU loss=0.169, AE loss=0.169]\n"
     ]
    },
    {
     "data": {
      "image/png": "[encoded data removed]",
      "text/plain": [
       "<Figure size 640x480 with 2 Axes>"
      ]
     },
     "metadata": {},
     "output_type": "display_data"
    },
    {
     "name": "stderr",
     "output_type": "stream",
     "text": [
      "                                                                 "
     ]
    },
    {
     "name": "stdout",
     "output_type": "stream",
     "text": [
      "Overall accuracy: 0.873\n",
      "\n"
     ]
    },
    {
     "name": "stderr",
     "output_type": "stream",
     "text": [
      "unseen: 100%|██████████| 175/175 [04:20<00:00,  1.49s/batch, IMU loss=0.000744, AE loss=0.000245]\n"
     ]
    },
    {
     "data": {
      "image/png": "[encoded data removed]",
      "text/plain": [
       "<Figure size 1200x600 with 3 Axes>"
      ]
     },
     "metadata": {},
     "output_type": "display_data"
    },
    {
     "data": {
      "image/png": "[encoded data removed]",
      "text/plain": [
       "<Figure size 640x480 with 2 Axes>"
      ]
     },
     "metadata": {},
     "output_type": "display_data"
    },
    {
     "name": "stdout",
     "output_type": "stream",
     "text": [
      "Overall accuracy: 0.391\n",
      "\n",
      "                   precision     recall   f1-score rel. freq. abs. freq.|\t biggest thieves\n",
      "\n",
      "        standing       0.468      0.481      0.474      0.330       1850|\t ascending stairs: 0.341,\thouse cleaning: 0.154,\t\n",
      "  house cleaning       0.511      0.335      0.404      0.329       1840|\t standing: 0.334,\tascending stairs: 0.282,\t\n",
      "ascending stairs       0.292      0.636      0.400      0.193       1080|\t house cleaning: 0.207,\tstanding: 0.153,\t\n",
      "     watching TV       0.000      0.000      0.000      0.148        830|\t ascending stairs: 0.625,\tstanding: 0.277,\thouse cleaning: 0.098,\t\n",
      "\n",
      "----------------------------------------------------------------------------------------------------\n",
      "     avg / total       0.379      0.391      0.367        1.0       5600|\t      \n",
      "\n",
      "{'accuracy': 0.3914285714285714, 'precision': 0.31769105835245326, 'recall': 0.36285856508682596, 'f1': 0.31971028920343, 'IMU loss': 0.000794382941177381, 'AE loss': 0.00026188974775972644}\n",
      "========================================\n",
      "================ Fold-1 ================\n",
      "Initiate IMU datasets ...\n",
      "Initiate Skeleton dataset ... \n",
      "Initial Models ...\n",
      "Start Models training ...\n"
     ]
    },
    {
     "name": "stderr",
     "output_type": "stream",
     "text": [
      "train: 100%|██████████| 524/524 [34:18<00:00,  3.93s/batch, IMU loss=0.747, AE loss=0.000444, accuracy=0.812]\n",
      "seen: 100%|██████████| 131/131 [02:56<00:00,  1.35s/batch, IMU loss=0.489, AE loss=0.488]\n"
     ]
    },
    {
     "data": {
      "image/png": "[encoded data removed]",
      "text/plain": [
       "<Figure size 640x480 with 2 Axes>"
      ]
     },
     "metadata": {},
     "output_type": "display_data"
    },
    {
     "name": "stderr",
     "output_type": "stream",
     "text": [
      "Training Epoch:  33%|███▎      | 1/3 [37:15<1:14:31, 2235.88s/it]"
     ]
    },
    {
     "name": "stdout",
     "output_type": "stream",
     "text": [
      "Overall accuracy: 0.796\n",
      "\n"
     ]
    },
    {
     "name": "stderr",
     "output_type": "stream",
     "text": [
      "train: 100%|██████████| 524/524 [32:57<00:00,  3.77s/batch, IMU loss=0.511, AE loss=0.00032, accuracy=0.781]\n",
      "seen: 100%|██████████| 131/131 [03:03<00:00,  1.40s/batch, IMU loss=0.624, AE loss=0.623]\n"
     ]
    },
    {
     "data": {
      "image/png": "[encoded data removed]",
      "text/plain": [
       "<Figure size 640x480 with 2 Axes>"
      ]
     },
     "metadata": {},
     "output_type": "display_data"
    },
    {
     "name": "stderr",
     "output_type": "stream",
     "text": [
      "Training Epoch:  67%|██████▋   | 2/3 [1:13:16<36:31, 2191.88s/it]"
     ]
    },
    {
     "name": "stdout",
     "output_type": "stream",
     "text": [
      "Overall accuracy: 0.830\n",
      "\n"
     ]
    },
    {
     "name": "stderr",
     "output_type": "stream",
     "text": [
      "train: 100%|██████████| 524/524 [33:31<00:00,  3.84s/batch, IMU loss=0.544, AE loss=0.000272, accuracy=0.812]\n",
      "seen:  17%|█▋        | 22/131 [00:30<02:29,  1.37s/batch, IMU loss=0.494, AE loss=0.494]\n",
      "                                                                 \r"
     ]
    },
    {
     "ename": "KeyboardInterrupt",
     "evalue": "",
     "output_type": "error",
     "traceback": [
      "\u001b[1;31m---------------------------------------------------------------------------\u001b[0m",
      "\u001b[1;31mKeyboardInterrupt\u001b[0m                         Traceback (most recent call last)",
      "Cell \u001b[1;32mIn [52], line 79\u001b[0m\n\u001b[0;32m     77\u001b[0m train_metrics \u001b[39m=\u001b[39m imu_train_step1(imu_model, ae_model, train_dl, skel_dt, optimizers, loss_module, device, class_names\u001b[39m=\u001b[39m[all_classes[i] \u001b[39mfor\u001b[39;00m i \u001b[39min\u001b[39;00m seen_classes], class_ids\u001b[39m=\u001b[39mseen_classes, phase\u001b[39m=\u001b[39m\u001b[39m'\u001b[39m\u001b[39mtrain\u001b[39m\u001b[39m'\u001b[39m, imu_alpha\u001b[39m=\u001b[39mconfig[\u001b[39m'\u001b[39m\u001b[39mimu_alpha\u001b[39m\u001b[39m'\u001b[39m], ae_alpha\u001b[39m=\u001b[39mconfig[\u001b[39m'\u001b[39m\u001b[39mae_alpha\u001b[39m\u001b[39m'\u001b[39m], batch_size\u001b[39m=\u001b[39m\u001b[39m32\u001b[39m)\n\u001b[0;32m     78\u001b[0m fold_train_data\u001b[39m.\u001b[39mappend(train_metrics)\n\u001b[1;32m---> 79\u001b[0m eval_metrics, _, _ \u001b[39m=\u001b[39m eval_step1(imu_model, ae_model, eval_dl, seen_action_ft, seen_action_label, loss_module, device\u001b[39m=\u001b[39;49mdevice, class_names\u001b[39m=\u001b[39;49m[all_classes[i] \u001b[39mfor\u001b[39;49;00m i \u001b[39min\u001b[39;49;00m seen_classes], class_ids\u001b[39m=\u001b[39;49mseen_classes,  target_feat_met\u001b[39m=\u001b[39;49meval_dt\u001b[39m.\u001b[39;49mgetClassAttrs(), phase\u001b[39m=\u001b[39;49m\u001b[39m'\u001b[39;49m\u001b[39mseen\u001b[39;49m\u001b[39m'\u001b[39;49m, print_report\u001b[39m=\u001b[39;49m\u001b[39mFalse\u001b[39;49;00m, imu_alpha\u001b[39m=\u001b[39;49mconfig[\u001b[39m'\u001b[39;49m\u001b[39mimu_alpha\u001b[39;49m\u001b[39m'\u001b[39;49m], ae_alpha\u001b[39m=\u001b[39;49mconfig[\u001b[39m'\u001b[39;49m\u001b[39mae_alpha\u001b[39;49m\u001b[39m'\u001b[39;49m], batch_size\u001b[39m=\u001b[39;49mconfig[\u001b[39m'\u001b[39;49m\u001b[39mbatch_size\u001b[39;49m\u001b[39m'\u001b[39;49m], show_plot\u001b[39m=\u001b[39;49m\u001b[39mTrue\u001b[39;49;00m)\n\u001b[0;32m     80\u001b[0m fold_val_data\u001b[39m.\u001b[39mappend(eval_metrics)\n\u001b[0;32m     81\u001b[0m \u001b[39m# print(f\"EPOCH [{epoch}] TRAINING : {train_metrics}\")\u001b[39;00m\n\u001b[0;32m     82\u001b[0m \u001b[39m# print(f\"EPOCH [{epoch}] EVAL : {eval_metrics}\")\u001b[39;00m\n",
      "Cell \u001b[1;32mIn [45], line 43\u001b[0m, in \u001b[0;36meval_step1\u001b[1;34m(model, ae, dataloader, sem_actions, sem_labels, loss_module, device, class_names, class_ids, target_feat_met, phase, l2_reg, print_report, show_plot, imu_alpha, ae_alpha, batch_size, neighs)\u001b[0m\n\u001b[0;32m     41\u001b[0m     mini_batch \u001b[39m=\u001b[39m m\n\u001b[0;32m     42\u001b[0m     \u001b[39m# print(mini_batch.shape)\u001b[39;00m\n\u001b[1;32m---> 43\u001b[0m     mini_batch \u001b[39m=\u001b[39m mini_batch\u001b[39m.\u001b[39;49mto(device)\n\u001b[0;32m     44\u001b[0m     tList\u001b[39m.\u001b[39mappend(ae(mini_batch))\n\u001b[0;32m     45\u001b[0m recons, feats \u001b[39m=\u001b[39m \u001b[39mlist\u001b[39m(\u001b[39mzip\u001b[39m(\u001b[39m*\u001b[39mtList))\n",
      "\u001b[1;31mKeyboardInterrupt\u001b[0m: "
     ]
    }
   ],
   "source": [
    "fold_metric_scores = []\n",
    "t = datetime.now().strftime(\"%Y_%m_%d_%H_%M\")\n",
    "\n",
    "for i, cs in enumerate(fold_cls_ids):\n",
    "    print(\"=\"*16, f'Fold-{i}', \"=\"*16)\n",
    "    # print(f'Unseen Classes : {fold_classes[i]}')\n",
    "    # separate seen/unseen and train/eval \n",
    "    data_dict = dataReader.generate(unseen_classes=cs, seen_ratio=config['seen_split'], unseen_ratio=config['unseen_split'], window_size=5.21, window_overlap=4.21, resample_freq=20)\n",
    "    all_classes = dataReader.idToLabel\n",
    "    seen_classes = data_dict['seen_classes']\n",
    "    unseen_classes = data_dict['unseen_classes']\n",
    "\n",
    "    train_n, seq_len, in_ft = data_dict['train']['X'].shape\n",
    "\n",
    "    print(\"Initiate IMU datasets ...\")\n",
    "    # build IMU datasets\n",
    "    train_dt = PAMAP2Dataset(data=data_dict['train']['X'], actions=data_dict['train']['y'], attributes=skeleton_mov, attribute_dict=action_dict, action_classes=seen_classes, seq_len=50)\n",
    "    train_dl = DataLoader(train_dt, batch_size=config['batch_size'], shuffle=True, pin_memory=True, drop_last=True)\n",
    "    # build seen eval_dt \n",
    "    eval_dt = PAMAP2Dataset(data=data_dict['eval-seen']['X'], actions=data_dict['eval-seen']['y'], attributes=skeleton_mov, attribute_dict=action_dict, action_classes=seen_classes, seq_len=50)\n",
    "    eval_dl = DataLoader(eval_dt, batch_size=config['batch_size'], shuffle=True, pin_memory=True, drop_last=True)\n",
    "    # build unseen test_dt\n",
    "    test_dt = PAMAP2Dataset(data=data_dict['test']['X'], actions=data_dict['test']['y'], attributes=skeleton_mov, attribute_dict=action_dict, action_classes=unseen_classes, seq_len=50)\n",
    "    test_dl = DataLoader(test_dt, batch_size=config['batch_size'], shuffle=True, pin_memory=True, drop_last=True)\n",
    "    \n",
    "    print(\"Initiate Skeleton dataset ... \")\n",
    "    # build Skeleton dataset \n",
    "    skel_dt = SkeletonDataset(skeleton_mov, skeleton_Ids, action_dict, seq_len=config['seq_len'])\n",
    "    skel_dl = DataLoader(skel_dt, batch_size=config['batch_size']//2, shuffle=True, pin_memory=True, drop_last=True)\n",
    "    skel_n, skel_fts = skel_dt.getShape()\n",
    "    \n",
    "    print(\"Initial Models ...\")\n",
    "    # build IMU Encoder Model \n",
    "    imu_config = {\n",
    "        'in_ft':in_ft, \n",
    "        'd_model':config['d_model'], \n",
    "        'num_heads':config['num_heads'], \n",
    "        'ft_size':config['feat_size'], \n",
    "        'max_len':seq_len, \n",
    "        'n_classes':len(seen_classes)\n",
    "    }\n",
    "    imu_model = IMUEncoder(**imu_config)\n",
    "    imu_model.to(device)\n",
    "\n",
    "    # build AE Model \n",
    "    # ae_model = BiLSTMEncDecModel(input_size=skel_fts, seq_len=skel_n, hidden_size=config['feat_size'], batch_size=config['batch_size'], ae_type='recursive', device=device)\n",
    "    # ae_model = SkeletonAE(seq_len=skel_n, input_size=skel_fts, hidden_size=512, linear_filters=[128,256,512], embedding_size=config['feat_size'], num_layers=1, bidirectional=True, batch_size=config['batch_size'], device=device)\n",
    "    # ae_model = BiLSTMEncDecModel(seq_len=50, input_size=36, hidden_size=512, linear_filters=[128,256,512], embedding_size=256, num_layers=1,bidirectional=True,batch_size=32, device=device)\n",
    "    ae_model.load_state_dict(torch.load(ae_trans_dir)['model_state_dict'])\n",
    "    ae_model.to(device)\n",
    "    \n",
    "    # define IMU-Enc run parameters \n",
    "    seen_action_ft_dict = {a: get_class_ft(torch.from_numpy(skeleton_mov[i, ...]), ae_model, device) for a,i in action_dict.items() if a in seen_classes}\n",
    "    seen_label_map = {i:l for i,l in enumerate(seen_classes)}\n",
    "    trpLoss = ActionTripletLoss(distance='l2', k=10, neg_thr=0.90,pos_thr=0.05, agg=\"mean\", device=device)\n",
    "\n",
    "    # generate unseen semantic space \n",
    "    unseen_action_ft_dict = {a: get_class_ft(torch.from_numpy(skeleton_mov[i, ...]), ae_model, device) for a,i in action_dict.items() if a in unseen_classes}\n",
    "    seen_label_map = {i:l for i,l in enumerate(unseen_classes)}\n",
    "\n",
    "    seen_action_ft, seen_action_label = gen_semantic_space(seen_action_ft_dict)\n",
    "    unseen_action_ft, unseen_action_label = gen_semantic_space(unseen_action_ft_dict)\n",
    "\n",
    "    imu_optim = Adam(imu_model.parameters(), lr=config['imu_lr'])\n",
    "    ae_optim = Adam(ae_model.parameters(), lr=config['ae_lr'])\n",
    "    optimizers = {'imu': imu_optim, 'ae': ae_optim}\n",
    "\n",
    "    loss_module = {'class': nn.CrossEntropyLoss(), 'feature': trpLoss, 'recons': nn.MSELoss()}\n",
    "    best_acc = 0.0\n",
    "\n",
    "    print(\"Start Models training ...\")\n",
    "    fold_train_data = []\n",
    "    fold_val_data = []  \n",
    "    # train 2 models E2E\n",
    "    for epoch in tqdm(range(config['n_epochs']), desc='Training Epoch', leave=False):\n",
    "       # train IMU-Enc model\n",
    "        train_metrics = imu_train_step1(imu_model, ae_model, train_dl, skel_dt, optimizers, loss_module, device, class_names=[all_classes[i] for i in seen_classes], class_ids=seen_classes, phase='train', imu_alpha=config['imu_alpha'], ae_alpha=config['ae_alpha'], batch_size=32)\n",
    "        fold_train_data.append(train_metrics)\n",
    "        eval_metrics, _, _ = eval_step1(imu_model, ae_model, eval_dl, seen_action_ft, seen_action_label, loss_module, device=device, class_names=[all_classes[i] for i in seen_classes], class_ids=seen_classes,  target_feat_met=eval_dt.getClassAttrs(), phase='seen', print_report=False, imu_alpha=config['imu_alpha'], ae_alpha=config['ae_alpha'], batch_size=config['batch_size'], show_plot=True)\n",
    "        fold_val_data.append(eval_metrics)\n",
    "        # print(f\"EPOCH [{epoch}] TRAINING : {train_metrics}\")\n",
    "        # print(f\"EPOCH [{epoch}] EVAL : {eval_metrics}\")\n",
    "        if eval_metrics['accuracy'] > best_acc:\n",
    "            imu_best_model = deepcopy(imu_model.state_dict())\n",
    "\n",
    "    plot_accVloss(fold_train_data, fold_val_data)\n",
    "    # replace by best model \n",
    "    imu_model.load_state_dict(imu_best_model)\n",
    "    # save checkpoint of the fold with IMU Encoder + Skeleton AE \n",
    "    fpath = f'./tmp/pamap2/e2e_checkpoint_f{i}_{t}.pt'\n",
    "    torch.save({\n",
    "        'imu_state_dict': imu_best_model,\n",
    "        'ae_state_dict': ae_model.state_dict(),\n",
    "        'imu_config': imu_config,\n",
    "        'ae_config': ae_config\n",
    "    }, fpath)\n",
    "\n",
    "    # run evaluation on unseen classes\n",
    "    test_metrics, unseen_pred_actions, unseen_labels = eval_step1(imu_model, ae_model, test_dl, unseen_action_ft, unseen_action_label, loss_module, device=device, class_names=[all_classes[i] for i in unseen_classes], class_ids=unseen_classes,  target_feat_met=test_dt.getClassAttrs(), phase='unseen', imu_alpha=config['imu_alpha'], ae_alpha=config['ae_alpha'], batch_size=config['batch_size'])\n",
    "    fold_metric_scores.append(test_metrics)\n",
    "    print(test_metrics)\n",
    "    print(\"=\"*40)\n",
    "\n",
    "print(\"=\"*14, \"Overall Unseen Classes Performance\", \"=\"*14)\n",
    "seen_score_df = pd.DataFrame.from_records(fold_metric_scores)\n",
    "seen_score_df.mean()"
   ]
  },
  {
   "cell_type": "code",
   "execution_count": null,
   "metadata": {},
   "outputs": [],
   "source": []
  },
  {
   "cell_type": "code",
   "execution_count": null,
   "metadata": {},
   "outputs": [],
   "source": [
    "import gc\n",
    "def report_gpu():\n",
    "   # print(torch.cuda.list_gpu_processes())\n",
    "   gc.collect()\n",
    "   torch.cuda.empty_cache()"
   ]
  },
  {
   "cell_type": "code",
   "execution_count": null,
   "metadata": {},
   "outputs": [],
   "source": [
    "report_gpu()"
   ]
  },
  {
   "cell_type": "code",
   "execution_count": null,
   "metadata": {},
   "outputs": [],
   "source": []
  },
  {
   "cell_type": "code",
   "execution_count": null,
   "metadata": {},
   "outputs": [
    {
     "name": "stderr",
     "output_type": "stream",
     "text": [
      "unseen: 100%|██████████| 175/175 [00:29<00:00,  5.91batch/s, IMU loss=0.000177, AE loss=0.000358]\n"
     ]
    },
    {
     "data": {
      "image/png": "[encoded data removed]",
      "text/plain": [
       "<Figure size 640x480 with 2 Axes>"
      ]
     },
     "metadata": {},
     "output_type": "display_data"
    },
    {
     "name": "stdout",
     "output_type": "stream",
     "text": [
      "Overall accuracy: 0.143\n",
      "\n",
      "                   precision     recall   f1-score rel. freq. abs. freq.|\t biggest thieves\n",
      "\n",
      "        standing       0.101      0.057      0.073      0.330       1849|\t ascending stairs: 0.531,\thouse cleaning: 0.215,\twatching TV: 0.196,\t\n",
      "  house cleaning       0.131      0.060      0.082      0.329       1842|\t ascending stairs: 0.592,\twatching TV: 0.229,\tstanding: 0.119,\t\n",
      "ascending stairs       0.190      0.452      0.267      0.193       1079|\t house cleaning: 0.250,\twatching TV: 0.237,\t\n",
      "     watching TV       0.084      0.116      0.098      0.148        830|\t standing: 0.799,\thouse cleaning: 0.071,\t\n",
      "\n",
      "----------------------------------------------------------------------------------------------------\n",
      "     avg / total       0.126      0.143      0.117        1.0       5600|\t      \n",
      "\n",
      "{'accuracy': 0.14285714285714285, 'precision': 0.12654527565853865, 'recall': 0.1712448138154179, 'f1': 0.13000866422482893, 'imu loss': 0.00038817361637484283, 'ae loss': 0.0003667233185842633}\n",
      "========================================\n"
     ]
    }
   ],
   "source": [
    "# plot_accVloss(fold_train_data, fold_val_data)\n",
    "# replace by best model \n",
    "imu_model.load_state_dict(imu_best_model)\n",
    "\n",
    "# run evaluation on unseen classes\n",
    "test_metrics, unseen_pred_actions, unseen_labels = eval_step1(imu_model, ae_model, test_dl, unseen_action_ft, unseen_action_label, loss_module, device=device, class_names=[all_classes[i] for i in unseen_classes], class_ids=unseen_classes,  target_feat_met=test_dt.getClassAttrs(), phase='unseen', imu_alpha=config['imu_alpha'], ae_alpha=config['ae_alpha'], batch_size=config['batch_size'])\n",
    "print(test_metrics)\n",
    "print(\"=\"*40)"
   ]
  },
  {
   "cell_type": "code",
   "execution_count": null,
   "metadata": {},
   "outputs": [],
   "source": []
  },
  {
   "cell_type": "code",
   "execution_count": null,
   "metadata": {},
   "outputs": [
    {
     "data": {
      "application/vnd.plotly.v1+json": {
       "config": {
        "plotlyServerURL": "https://plot.ly"
       },
       "data": [
        {
         "hoverlabel": {
          "namelength": 0
         },
         "hovertemplate": "action=lying<br>type=GT<br>x=%{x}<br>y=%{y}",
         "legendgroup": "action=lying, type=GT",
         "marker": {
          "color": "#636efa",
          "symbol": "circle"
         },
         "mode": "markers",
         "name": "action=lying, type=GT",
         "showlegend": true,
         "type": "scatter",
         "x": [
          -14.29305362701416,
          -16.59505844116211,
          -15.952770233154297,
          -15.796358108520508,
          -14.526214599609375,
          -14.476065635681152,
          -15.325261116027832,
          -15.590195655822754,
          -14.944754600524902,
          -13.7935209274292
         ],
         "xaxis": "x",
         "y": [
          -11.210216522216797,
          -13.19671630859375,
          -12.13966178894043,
          -11.220341682434082,
          -12.257710456848145,
          -14.054421424865723,
          -14.175618171691895,
          -13.098268508911133,
          -12.48132038116455,
          -12.025247573852539
         ],
         "yaxis": "y"
        },
        {
         "hoverlabel": {
          "namelength": 0
         },
         "hovertemplate": "action=sitting<br>type=GT<br>x=%{x}<br>y=%{y}",
         "legendgroup": "action=sitting, type=GT",
         "marker": {
          "color": "#EF553B",
          "symbol": "circle"
         },
         "mode": "markers",
         "name": "action=sitting, type=GT",
         "showlegend": true,
         "type": "scatter",
         "x": [
          -0.7959643006324768,
          -1.9963496923446655,
          -1.3243664503097534,
          -2.836646318435669,
          -4.122716903686523,
          -2.0184738636016846,
          -4.071900367736816,
          -2.9454870223999023,
          -3.1432712078094482,
          -4.099125862121582
         ],
         "xaxis": "x",
         "y": [
          19.12632179260254,
          21.498310089111328,
          20.98436164855957,
          19.82149887084961,
          21.175994873046875,
          19.488725662231445,
          18.295303344726562,
          20.88665199279785,
          22.35447120666504,
          19.982345581054688
         ],
         "yaxis": "y"
        },
        {
         "hoverlabel": {
          "namelength": 0
         },
         "hovertemplate": "action=standing<br>type=GT<br>x=%{x}<br>y=%{y}",
         "legendgroup": "action=standing, type=GT",
         "marker": {
          "color": "#00cc96",
          "symbol": "circle"
         },
         "mode": "markers",
         "name": "action=standing, type=GT",
         "showlegend": true,
         "type": "scatter",
         "x": [
          -3.894690990447998,
          -4.181982517242432,
          -3.1009559631347656,
          -11.55253791809082,
          -3.2249934673309326,
          -5.061765193939209,
          -3.4542574882507324,
          -4.750464916229248,
          -4.418352127075195,
          -5.765799045562744
         ],
         "xaxis": "x",
         "y": [
          -9.759782791137695,
          -11.063913345336914,
          -11.271284103393555,
          -1.164651870727539,
          -8.72419548034668,
          -10.944461822509766,
          -10.34970474243164,
          -9.672052383422852,
          -8.40242862701416,
          -9.184013366699219
         ],
         "yaxis": "y"
        },
        {
         "hoverlabel": {
          "namelength": 0
         },
         "hovertemplate": "action=standing<br>type=pred<br>x=%{x}<br>y=%{y}",
         "legendgroup": "action=standing, type=pred",
         "marker": {
          "color": "#00cc96",
          "symbol": "diamond"
         },
         "mode": "markers",
         "name": "action=standing, type=pred",
         "showlegend": true,
         "type": "scatter",
         "x": [
          -16.719280242919922,
          5.49675178527832,
          -5.025320529937744,
          -2.609093189239502,
          -16.2114200592041,
          -2.7238898277282715,
          -5.2288970947265625,
          -3.0140607357025146,
          -2.5904629230499268
         ],
         "xaxis": "x",
         "y": [
          6.76430082321167,
          -3.104853868484497,
          9.108006477355957,
          17.3037052154541,
          6.68936014175415,
          19.23946189880371,
          -1.050873041152954,
          18.605621337890625,
          18.48699188232422
         ],
         "yaxis": "y"
        },
        {
         "hoverlabel": {
          "namelength": 0
         },
         "hovertemplate": "action=walking<br>type=GT<br>x=%{x}<br>y=%{y}",
         "legendgroup": "action=walking, type=GT",
         "marker": {
          "color": "#ab63fa",
          "symbol": "circle"
         },
         "mode": "markers",
         "name": "action=walking, type=GT",
         "showlegend": true,
         "type": "scatter",
         "x": [
          7.042816638946533,
          6.849374771118164,
          4.7470269203186035,
          5.314245223999023,
          6.063097953796387,
          6.063084602355957,
          6.979269981384277,
          5.458990573883057,
          4.179407119750977,
          5.951527118682861
         ],
         "xaxis": "x",
         "y": [
          -4.640097141265869,
          -7.671507835388184,
          -7.256495475769043,
          -7.410656929016113,
          -8.394692420959473,
          -8.395146369934082,
          -9.158243179321289,
          -9.566107749938965,
          -9.840980529785156,
          -5.145116806030273
         ],
         "yaxis": "y"
        },
        {
         "hoverlabel": {
          "namelength": 0
         },
         "hovertemplate": "action=running<br>type=GT<br>x=%{x}<br>y=%{y}",
         "legendgroup": "action=running, type=GT",
         "marker": {
          "color": "#FFA15A",
          "symbol": "circle"
         },
         "mode": "markers",
         "name": "action=running, type=GT",
         "showlegend": true,
         "type": "scatter",
         "x": [
          7.3388800621032715,
          7.244766712188721,
          9.13447380065918,
          8.103452682495117,
          6.752307891845703,
          8.522294998168945,
          8.786078453063965,
          9.072253227233887,
          7.955086708068848,
          8.667879104614258
         ],
         "xaxis": "x",
         "y": [
          -18.951406478881836,
          -20.51903533935547,
          -19.976831436157227,
          -18.954797744750977,
          -21.53083038330078,
          -21.484725952148438,
          -19.457447052001953,
          -17.920413970947266,
          -20.033700942993164,
          -20.481225967407227
         ],
         "yaxis": "y"
        },
        {
         "hoverlabel": {
          "namelength": 0
         },
         "hovertemplate": "action=cycling<br>type=GT<br>x=%{x}<br>y=%{y}",
         "legendgroup": "action=cycling, type=GT",
         "marker": {
          "color": "#19d3f3",
          "symbol": "circle"
         },
         "mode": "markers",
         "name": "action=cycling, type=GT",
         "showlegend": true,
         "type": "scatter",
         "x": [
          0.3029765486717224,
          -2.091662883758545,
          -0.5584486722946167,
          -3.0574848651885986,
          -3.180651903152466,
          2.2938485145568848,
          -0.8524490594863892,
          -0.8524951934814453,
          0.49698176980018616,
          -0.3258299231529236
         ],
         "xaxis": "x",
         "y": [
          -4.757884979248047,
          -1.333282709121704,
          -4.324954986572266,
          -0.07239246368408203,
          1.2363777160644531,
          -3.7231333255767822,
          -2.926032066345215,
          -2.9258975982666016,
          -3.0725862979888916,
          -1.8741154670715332
         ],
         "yaxis": "y"
        },
        {
         "hoverlabel": {
          "namelength": 0
         },
         "hovertemplate": "action=Nordic walking<br>type=GT<br>x=%{x}<br>y=%{y}",
         "legendgroup": "action=Nordic walking, type=GT",
         "marker": {
          "color": "#FF6692",
          "symbol": "circle"
         },
         "mode": "markers",
         "name": "action=Nordic walking, type=GT",
         "showlegend": true,
         "type": "scatter",
         "x": [
          5.0847296714782715,
          7.4918317794799805,
          7.038743495941162,
          7.17232084274292,
          7.394383430480957,
          6.7969231605529785,
          3.2216832637786865,
          8.560723304748535,
          6.099202632904053,
          7.174494743347168
         ],
         "xaxis": "x",
         "y": [
          0.7549641132354736,
          1.1896755695343018,
          -0.5215502977371216,
          3.004507064819336,
          4.297908782958984,
          3.4093353748321533,
          -2.6808760166168213,
          2.2458975315093994,
          0.3255145847797394,
          1.7295947074890137
         ],
         "yaxis": "y"
        },
        {
         "hoverlabel": {
          "namelength": 0
         },
         "hovertemplate": "action=watching TV<br>type=GT<br>x=%{x}<br>y=%{y}",
         "legendgroup": "action=watching TV, type=GT",
         "marker": {
          "color": "#B6E880",
          "symbol": "circle"
         },
         "mode": "markers",
         "name": "action=watching TV, type=GT",
         "showlegend": true,
         "type": "scatter",
         "x": [
          -11.168434143066406,
          -13.286136627197266,
          -15.618656158447266,
          -15.184868812561035,
          -11.326560974121094,
          -12.771201133728027,
          -13.301213264465332,
          -15.312889099121094,
          -14.120213508605957,
          -12.45211124420166
         ],
         "xaxis": "x",
         "y": [
          1.561558485031128,
          0.8145370483398438,
          2.5389249324798584,
          5.146711826324463,
          0.6165607571601868,
          0.7319671511650085,
          2.8859317302703857,
          3.0197176933288574,
          3.378257989883423,
          3.143817663192749
         ],
         "yaxis": "y"
        },
        {
         "hoverlabel": {
          "namelength": 0
         },
         "hovertemplate": "action=watching TV<br>type=pred<br>x=%{x}<br>y=%{y}",
         "legendgroup": "action=watching TV, type=pred",
         "marker": {
          "color": "#B6E880",
          "symbol": "diamond"
         },
         "mode": "markers",
         "name": "action=watching TV, type=pred",
         "showlegend": true,
         "type": "scatter",
         "x": [
          -6.51879358291626,
          -6.907106399536133,
          -7.340548515319824
         ],
         "xaxis": "x",
         "y": [
          -0.2376812994480133,
          -0.8567267060279846,
          -0.9315908551216125
         ],
         "yaxis": "y"
        },
        {
         "hoverlabel": {
          "namelength": 0
         },
         "hovertemplate": "action=computer work<br>type=GT<br>x=%{x}<br>y=%{y}",
         "legendgroup": "action=computer work, type=GT",
         "marker": {
          "color": "#FF97FF",
          "symbol": "circle"
         },
         "mode": "markers",
         "name": "action=computer work, type=GT",
         "showlegend": true,
         "type": "scatter",
         "x": [
          -8.57640266418457,
          -8.912842750549316,
          -9.570152282714844,
          -7.734180927276611,
          -10.01339340209961,
          -10.862882614135742,
          -11.141613006591797,
          -9.034433364868164,
          -7.607615947723389,
          -9.675769805908203
         ],
         "xaxis": "x",
         "y": [
          -2.2605814933776855,
          -3.6423163414001465,
          -3.708416223526001,
          -4.563050270080566,
          -0.09711997956037521,
          -1.8835519552230835,
          -3.6069815158843994,
          -2.6691439151763916,
          -2.8409371376037598,
          -4.693093776702881
         ],
         "yaxis": "y"
        },
        {
         "hoverlabel": {
          "namelength": 0
         },
         "hovertemplate": "action=car driving<br>type=GT<br>x=%{x}<br>y=%{y}",
         "legendgroup": "action=car driving, type=GT",
         "marker": {
          "color": "#FECB52",
          "symbol": "circle"
         },
         "mode": "markers",
         "name": "action=car driving, type=GT",
         "showlegend": true,
         "type": "scatter",
         "x": [
          9.574740409851074,
          10.285325050354004,
          9.975555419921875,
          8.124571800231934,
          10.113306999206543,
          8.619811058044434,
          8.177323341369629,
          9.163559913635254,
          8.47552490234375,
          9.335189819335938
         ],
         "xaxis": "x",
         "y": [
          -25.080429077148438,
          -25.88640594482422,
          -26.54621696472168,
          -27.138225555419922,
          -27.82927894592285,
          -25.968488693237305,
          -25.551616668701172,
          -27.131303787231445,
          -27.77882194519043,
          -25.94795036315918
         ],
         "yaxis": "y"
        },
        {
         "hoverlabel": {
          "namelength": 0
         },
         "hovertemplate": "action=ascending stairs<br>type=GT<br>x=%{x}<br>y=%{y}",
         "legendgroup": "action=ascending stairs, type=GT",
         "marker": {
          "color": "#636efa",
          "symbol": "circle"
         },
         "mode": "markers",
         "name": "action=ascending stairs, type=GT",
         "showlegend": true,
         "type": "scatter",
         "x": [
          15.500574111938477,
          15.987225532531738,
          13.923967361450195,
          12.054444313049316,
          14.962284088134766,
          14.531294822692871,
          14.67684268951416,
          13.159708023071289,
          13.922046661376953,
          14.587422370910645
         ],
         "xaxis": "x",
         "y": [
          8.313495635986328,
          8.956310272216797,
          11.33877944946289,
          8.842374801635742,
          7.877144813537598,
          9.031702041625977,
          10.290006637573242,
          9.76508903503418,
          11.3998384475708,
          9.005622863769531
         ],
         "yaxis": "y"
        },
        {
         "hoverlabel": {
          "namelength": 0
         },
         "hovertemplate": "action=ascending stairs<br>type=pred<br>x=%{x}<br>y=%{y}",
         "legendgroup": "action=ascending stairs, type=pred",
         "marker": {
          "color": "#636efa",
          "symbol": "diamond"
         },
         "mode": "markers",
         "name": "action=ascending stairs, type=pred",
         "showlegend": true,
         "type": "scatter",
         "x": [
          4.121689319610596,
          9.304022789001465,
          5.581935405731201,
          4.544698238372803,
          -0.0771220326423645,
          3.6368348598480225,
          5.429643630981445
         ],
         "xaxis": "x",
         "y": [
          -1.7606829404830933,
          -2.7718756198883057,
          -1.6832079887390137,
          -0.3370670676231384,
          5.767444610595703,
          -0.5100334882736206,
          -0.9700992703437805
         ],
         "yaxis": "y"
        },
        {
         "hoverlabel": {
          "namelength": 0
         },
         "hovertemplate": "action=descending stairs<br>type=GT<br>x=%{x}<br>y=%{y}",
         "legendgroup": "action=descending stairs, type=GT",
         "marker": {
          "color": "#EF553B",
          "symbol": "circle"
         },
         "mode": "markers",
         "name": "action=descending stairs, type=GT",
         "showlegend": true,
         "type": "scatter",
         "x": [
          3.6485021114349365,
          5.803305625915527,
          6.009849548339844,
          2.4414710998535156,
          6.96256160736084,
          3.6172053813934326,
          3.6130242347717285,
          4.355001926422119,
          4.584596633911133,
          6.009439945220947
         ],
         "xaxis": "x",
         "y": [
          17.243505477905273,
          16.983171463012695,
          15.339552879333496,
          14.654446601867676,
          16.12518310546875,
          14.138998985290527,
          13.934270858764648,
          16.93632698059082,
          16.899904251098633,
          16.524736404418945
         ],
         "yaxis": "y"
        },
        {
         "hoverlabel": {
          "namelength": 0
         },
         "hovertemplate": "action=vacuum cleaning<br>type=GT<br>x=%{x}<br>y=%{y}",
         "legendgroup": "action=vacuum cleaning, type=GT",
         "marker": {
          "color": "#00cc96",
          "symbol": "circle"
         },
         "mode": "markers",
         "name": "action=vacuum cleaning, type=GT",
         "showlegend": true,
         "type": "scatter",
         "x": [
          0.7724236845970154,
          4.886651992797852,
          -1.5555996894836426,
          1.1349860429763794,
          1.5529860258102417,
          -0.16565626859664917,
          -0.4188620448112488,
          4.364733695983887,
          4.30910062789917,
          2.6040706634521484
         ],
         "xaxis": "x",
         "y": [
          9.476624488830566,
          5.883395671844482,
          7.528609275817871,
          8.717354774475098,
          7.7053632736206055,
          8.39210319519043,
          9.713335037231445,
          3.471067190170288,
          4.881575107574463,
          6.695266246795654
         ],
         "yaxis": "y"
        },
        {
         "hoverlabel": {
          "namelength": 0
         },
         "hovertemplate": "action=ironing<br>type=GT<br>x=%{x}<br>y=%{y}",
         "legendgroup": "action=ironing, type=GT",
         "marker": {
          "color": "#ab63fa",
          "symbol": "circle"
         },
         "mode": "markers",
         "name": "action=ironing, type=GT",
         "showlegend": true,
         "type": "scatter",
         "x": [
          -8.083961486816406,
          -5.914023399353027,
          -5.730854511260986,
          -8.73438549041748,
          -8.452604293823242,
          -8.203533172607422,
          -6.714522361755371,
          -7.238834857940674,
          -7.026798248291016,
          -7.43719482421875
         ],
         "xaxis": "x",
         "y": [
          9.425551414489746,
          10.375879287719727,
          10.878242492675781,
          11.3898344039917,
          10.793421745300293,
          12.54433822631836,
          11.986430168151855,
          11.951271057128906,
          10.040764808654785,
          10.722342491149902
         ],
         "yaxis": "y"
        },
        {
         "hoverlabel": {
          "namelength": 0
         },
         "hovertemplate": "action=folding laundry<br>type=GT<br>x=%{x}<br>y=%{y}",
         "legendgroup": "action=folding laundry, type=GT",
         "marker": {
          "color": "#FFA15A",
          "symbol": "circle"
         },
         "mode": "markers",
         "name": "action=folding laundry, type=GT",
         "showlegend": true,
         "type": "scatter",
         "x": [
          -17.790302276611328,
          -14.877934455871582,
          -18.03811264038086,
          -17.039485931396484,
          -17.625864028930664,
          -19.03763198852539,
          -18.65111541748047,
          -19.870361328125,
          -16.274396896362305,
          -17.222576141357422
         ],
         "xaxis": "x",
         "y": [
          5.233486175537109,
          7.814441680908203,
          6.575495719909668,
          9.24569320678711,
          7.436853885650635,
          8.682286262512207,
          7.90772008895874,
          6.622150897979736,
          8.698347091674805,
          7.567681312561035
         ],
         "yaxis": "y"
        },
        {
         "hoverlabel": {
          "namelength": 0
         },
         "hovertemplate": "action=house cleaning<br>type=GT<br>x=%{x}<br>y=%{y}",
         "legendgroup": "action=house cleaning, type=GT",
         "marker": {
          "color": "#19d3f3",
          "symbol": "circle"
         },
         "mode": "markers",
         "name": "action=house cleaning, type=GT",
         "showlegend": true,
         "type": "scatter",
         "x": [
          -26.56831169128418,
          -24.506114959716797,
          -24.103870391845703,
          -24.404348373413086,
          -25.681175231933594,
          -25.8439884185791,
          -23.318981170654297,
          -23.48197364807129,
          -25.34838104248047,
          -24.94061851501465
         ],
         "xaxis": "x",
         "y": [
          1.6334261894226074,
          2.721890926361084,
          3.579352378845215,
          1.5643713474273682,
          3.706583261489868,
          2.920046091079712,
          2.943012237548828,
          3.787700891494751,
          2.2714433670043945,
          1.5464750528335571
         ],
         "yaxis": "y"
        },
        {
         "hoverlabel": {
          "namelength": 0
         },
         "hovertemplate": "action=house cleaning<br>type=pred<br>x=%{x}<br>y=%{y}",
         "legendgroup": "action=house cleaning, type=pred",
         "marker": {
          "color": "#19d3f3",
          "symbol": "diamond"
         },
         "mode": "markers",
         "name": "action=house cleaning, type=pred",
         "showlegend": true,
         "type": "scatter",
         "x": [
          -16.06623077392578,
          -4.718681335449219,
          2.7198729515075684,
          0.18320658802986145,
          1.9772604703903198,
          0.6234371066093445,
          4.807176113128662,
          0.702286422252655,
          3.318235158920288,
          2.574104070663452,
          -1.1699010133743286
         ],
         "xaxis": "x",
         "y": [
          6.164164066314697,
          0.1264268457889557,
          2.516613721847534,
          7.3046956062316895,
          4.221676349639893,
          6.212966442108154,
          -1.2273300886154175,
          7.18555212020874,
          1.7462825775146484,
          3.075146198272705,
          5.83012056350708
         ],
         "yaxis": "y"
        },
        {
         "hoverlabel": {
          "namelength": 0
         },
         "hovertemplate": "action=playing soccer<br>type=GT<br>x=%{x}<br>y=%{y}",
         "legendgroup": "action=playing soccer, type=GT",
         "marker": {
          "color": "#FF6692",
          "symbol": "circle"
         },
         "mode": "markers",
         "name": "action=playing soccer, type=GT",
         "showlegend": true,
         "type": "scatter",
         "x": [
          7.646138668060303,
          10.409441947937012,
          11.400794982910156,
          11.634288787841797,
          11.14118766784668,
          12.600836753845215,
          9.860808372497559,
          11.510427474975586,
          13.310530662536621,
          13.086524963378906
         ],
         "xaxis": "x",
         "y": [
          -3.261291027069092,
          -3.7741947174072266,
          -1.4454141855239868,
          -4.160397529602051,
          -2.6399621963500977,
          -2.343266010284424,
          -1.8345929384231567,
          -3.0825388431549072,
          -2.5134952068328857,
          -4.031562805175781
         ],
         "yaxis": "y"
        },
        {
         "hoverlabel": {
          "namelength": 0
         },
         "hovertemplate": "action=rope jumping<br>type=GT<br>x=%{x}<br>y=%{y}",
         "legendgroup": "action=rope jumping, type=GT",
         "marker": {
          "color": "#B6E880",
          "symbol": "circle"
         },
         "mode": "markers",
         "name": "action=rope jumping, type=GT",
         "showlegend": true,
         "type": "scatter",
         "x": [
          15.48344898223877,
          16.71019744873047,
          17.881441116333008,
          14.305871963500977,
          15.584957122802734,
          15.991870880126953,
          16.754159927368164,
          15.54236125946045,
          17.41982650756836,
          15.774127006530762
         ],
         "xaxis": "x",
         "y": [
          -13.13005256652832,
          -12.819382667541504,
          -10.863460540771484,
          -11.024656295776367,
          -12.347829818725586,
          -10.93748950958252,
          -11.739761352539062,
          -10.46396255493164,
          -12.002870559692383,
          -11.76916790008545
         ],
         "yaxis": "y"
        }
       ],
       "layout": {
        "height": 800,
        "legend": {
         "tracegroupgap": 0
        },
        "template": {
         "data": {
          "bar": [
           {
            "error_x": {
             "color": "#2a3f5f"
            },
            "error_y": {
             "color": "#2a3f5f"
            },
            "marker": {
             "line": {
              "color": "#E5ECF6",
              "width": 0.5
             }
            },
            "type": "bar"
           }
          ],
          "barpolar": [
           {
            "marker": {
             "line": {
              "color": "#E5ECF6",
              "width": 0.5
             }
            },
            "type": "barpolar"
           }
          ],
          "carpet": [
           {
            "aaxis": {
             "endlinecolor": "#2a3f5f",
             "gridcolor": "white",
             "linecolor": "white",
             "minorgridcolor": "white",
             "startlinecolor": "#2a3f5f"
            },
            "baxis": {
             "endlinecolor": "#2a3f5f",
             "gridcolor": "white",
             "linecolor": "white",
             "minorgridcolor": "white",
             "startlinecolor": "#2a3f5f"
            },
            "type": "carpet"
           }
          ],
          "choropleth": [
           {
            "colorbar": {
             "outlinewidth": 0,
             "ticks": ""
            },
            "type": "choropleth"
           }
          ],
          "contour": [
           {
            "colorbar": {
             "outlinewidth": 0,
             "ticks": ""
            },
            "colorscale": [
             [
              0,
              "#0d0887"
             ],
             [
              0.1111111111111111,
              "#46039f"
             ],
             [
              0.2222222222222222,
              "#7201a8"
             ],
             [
              0.3333333333333333,
              "#9c179e"
             ],
             [
              0.4444444444444444,
              "#bd3786"
             ],
             [
              0.5555555555555556,
              "#d8576b"
             ],
             [
              0.6666666666666666,
              "#ed7953"
             ],
             [
              0.7777777777777778,
              "#fb9f3a"
             ],
             [
              0.8888888888888888,
              "#fdca26"
             ],
             [
              1,
              "#f0f921"
             ]
            ],
            "type": "contour"
           }
          ],
          "contourcarpet": [
           {
            "colorbar": {
             "outlinewidth": 0,
             "ticks": ""
            },
            "type": "contourcarpet"
           }
          ],
          "heatmap": [
           {
            "colorbar": {
             "outlinewidth": 0,
             "ticks": ""
            },
            "colorscale": [
             [
              0,
              "#0d0887"
             ],
             [
              0.1111111111111111,
              "#46039f"
             ],
             [
              0.2222222222222222,
              "#7201a8"
             ],
             [
              0.3333333333333333,
              "#9c179e"
             ],
             [
              0.4444444444444444,
              "#bd3786"
             ],
             [
              0.5555555555555556,
              "#d8576b"
             ],
             [
              0.6666666666666666,
              "#ed7953"
             ],
             [
              0.7777777777777778,
              "#fb9f3a"
             ],
             [
              0.8888888888888888,
              "#fdca26"
             ],
             [
              1,
              "#f0f921"
             ]
            ],
            "type": "heatmap"
           }
          ],
          "heatmapgl": [
           {
            "colorbar": {
             "outlinewidth": 0,
             "ticks": ""
            },
            "colorscale": [
             [
              0,
              "#0d0887"
             ],
             [
              0.1111111111111111,
              "#46039f"
             ],
             [
              0.2222222222222222,
              "#7201a8"
             ],
             [
              0.3333333333333333,
              "#9c179e"
             ],
             [
              0.4444444444444444,
              "#bd3786"
             ],
             [
              0.5555555555555556,
              "#d8576b"
             ],
             [
              0.6666666666666666,
              "#ed7953"
             ],
             [
              0.7777777777777778,
              "#fb9f3a"
             ],
             [
              0.8888888888888888,
              "#fdca26"
             ],
             [
              1,
              "#f0f921"
             ]
            ],
            "type": "heatmapgl"
           }
          ],
          "histogram": [
           {
            "marker": {
             "colorbar": {
              "outlinewidth": 0,
              "ticks": ""
             }
            },
            "type": "histogram"
           }
          ],
          "histogram2d": [
           {
            "colorbar": {
             "outlinewidth": 0,
             "ticks": ""
            },
            "colorscale": [
             [
              0,
              "#0d0887"
             ],
             [
              0.1111111111111111,
              "#46039f"
             ],
             [
              0.2222222222222222,
              "#7201a8"
             ],
             [
              0.3333333333333333,
              "#9c179e"
             ],
             [
              0.4444444444444444,
              "#bd3786"
             ],
             [
              0.5555555555555556,
              "#d8576b"
             ],
             [
              0.6666666666666666,
              "#ed7953"
             ],
             [
              0.7777777777777778,
              "#fb9f3a"
             ],
             [
              0.8888888888888888,
              "#fdca26"
             ],
             [
              1,
              "#f0f921"
             ]
            ],
            "type": "histogram2d"
           }
          ],
          "histogram2dcontour": [
           {
            "colorbar": {
             "outlinewidth": 0,
             "ticks": ""
            },
            "colorscale": [
             [
              0,
              "#0d0887"
             ],
             [
              0.1111111111111111,
              "#46039f"
             ],
             [
              0.2222222222222222,
              "#7201a8"
             ],
             [
              0.3333333333333333,
              "#9c179e"
             ],
             [
              0.4444444444444444,
              "#bd3786"
             ],
             [
              0.5555555555555556,
              "#d8576b"
             ],
             [
              0.6666666666666666,
              "#ed7953"
             ],
             [
              0.7777777777777778,
              "#fb9f3a"
             ],
             [
              0.8888888888888888,
              "#fdca26"
             ],
             [
              1,
              "#f0f921"
             ]
            ],
            "type": "histogram2dcontour"
           }
          ],
          "mesh3d": [
           {
            "colorbar": {
             "outlinewidth": 0,
             "ticks": ""
            },
            "type": "mesh3d"
           }
          ],
          "parcoords": [
           {
            "line": {
             "colorbar": {
              "outlinewidth": 0,
              "ticks": ""
             }
            },
            "type": "parcoords"
           }
          ],
          "pie": [
           {
            "automargin": true,
            "type": "pie"
           }
          ],
          "scatter": [
           {
            "marker": {
             "colorbar": {
              "outlinewidth": 0,
              "ticks": ""
             }
            },
            "type": "scatter"
           }
          ],
          "scatter3d": [
           {
            "line": {
             "colorbar": {
              "outlinewidth": 0,
              "ticks": ""
             }
            },
            "marker": {
             "colorbar": {
              "outlinewidth": 0,
              "ticks": ""
             }
            },
            "type": "scatter3d"
           }
          ],
          "scattercarpet": [
           {
            "marker": {
             "colorbar": {
              "outlinewidth": 0,
              "ticks": ""
             }
            },
            "type": "scattercarpet"
           }
          ],
          "scattergeo": [
           {
            "marker": {
             "colorbar": {
              "outlinewidth": 0,
              "ticks": ""
             }
            },
            "type": "scattergeo"
           }
          ],
          "scattergl": [
           {
            "marker": {
             "colorbar": {
              "outlinewidth": 0,
              "ticks": ""
             }
            },
            "type": "scattergl"
           }
          ],
          "scattermapbox": [
           {
            "marker": {
             "colorbar": {
              "outlinewidth": 0,
              "ticks": ""
             }
            },
            "type": "scattermapbox"
           }
          ],
          "scatterpolar": [
           {
            "marker": {
             "colorbar": {
              "outlinewidth": 0,
              "ticks": ""
             }
            },
            "type": "scatterpolar"
           }
          ],
          "scatterpolargl": [
           {
            "marker": {
             "colorbar": {
              "outlinewidth": 0,
              "ticks": ""
             }
            },
            "type": "scatterpolargl"
           }
          ],
          "scatterternary": [
           {
            "marker": {
             "colorbar": {
              "outlinewidth": 0,
              "ticks": ""
             }
            },
            "type": "scatterternary"
           }
          ],
          "surface": [
           {
            "colorbar": {
             "outlinewidth": 0,
             "ticks": ""
            },
            "colorscale": [
             [
              0,
              "#0d0887"
             ],
             [
              0.1111111111111111,
              "#46039f"
             ],
             [
              0.2222222222222222,
              "#7201a8"
             ],
             [
              0.3333333333333333,
              "#9c179e"
             ],
             [
              0.4444444444444444,
              "#bd3786"
             ],
             [
              0.5555555555555556,
              "#d8576b"
             ],
             [
              0.6666666666666666,
              "#ed7953"
             ],
             [
              0.7777777777777778,
              "#fb9f3a"
             ],
             [
              0.8888888888888888,
              "#fdca26"
             ],
             [
              1,
              "#f0f921"
             ]
            ],
            "type": "surface"
           }
          ],
          "table": [
           {
            "cells": {
             "fill": {
              "color": "#EBF0F8"
             },
             "line": {
              "color": "white"
             }
            },
            "header": {
             "fill": {
              "color": "#C8D4E3"
             },
             "line": {
              "color": "white"
             }
            },
            "type": "table"
           }
          ]
         },
         "layout": {
          "annotationdefaults": {
           "arrowcolor": "#2a3f5f",
           "arrowhead": 0,
           "arrowwidth": 1
          },
          "coloraxis": {
           "colorbar": {
            "outlinewidth": 0,
            "ticks": ""
           }
          },
          "colorscale": {
           "diverging": [
            [
             0,
             "#8e0152"
            ],
            [
             0.1,
             "#c51b7d"
            ],
            [
             0.2,
             "#de77ae"
            ],
            [
             0.3,
             "#f1b6da"
            ],
            [
             0.4,
             "#fde0ef"
            ],
            [
             0.5,
             "#f7f7f7"
            ],
            [
             0.6,
             "#e6f5d0"
            ],
            [
             0.7,
             "#b8e186"
            ],
            [
             0.8,
             "#7fbc41"
            ],
            [
             0.9,
             "#4d9221"
            ],
            [
             1,
             "#276419"
            ]
           ],
           "sequential": [
            [
             0,
             "#0d0887"
            ],
            [
             0.1111111111111111,
             "#46039f"
            ],
            [
             0.2222222222222222,
             "#7201a8"
            ],
            [
             0.3333333333333333,
             "#9c179e"
            ],
            [
             0.4444444444444444,
             "#bd3786"
            ],
            [
             0.5555555555555556,
             "#d8576b"
            ],
            [
             0.6666666666666666,
             "#ed7953"
            ],
            [
             0.7777777777777778,
             "#fb9f3a"
            ],
            [
             0.8888888888888888,
             "#fdca26"
            ],
            [
             1,
             "#f0f921"
            ]
           ],
           "sequentialminus": [
            [
             0,
             "#0d0887"
            ],
            [
             0.1111111111111111,
             "#46039f"
            ],
            [
             0.2222222222222222,
             "#7201a8"
            ],
            [
             0.3333333333333333,
             "#9c179e"
            ],
            [
             0.4444444444444444,
             "#bd3786"
            ],
            [
             0.5555555555555556,
             "#d8576b"
            ],
            [
             0.6666666666666666,
             "#ed7953"
            ],
            [
             0.7777777777777778,
             "#fb9f3a"
            ],
            [
             0.8888888888888888,
             "#fdca26"
            ],
            [
             1,
             "#f0f921"
            ]
           ]
          },
          "colorway": [
           "#636efa",
           "#EF553B",
           "#00cc96",
           "#ab63fa",
           "#FFA15A",
           "#19d3f3",
           "#FF6692",
           "#B6E880",
           "#FF97FF",
           "#FECB52"
          ],
          "font": {
           "color": "#2a3f5f"
          },
          "geo": {
           "bgcolor": "white",
           "lakecolor": "white",
           "landcolor": "#E5ECF6",
           "showlakes": true,
           "showland": true,
           "subunitcolor": "white"
          },
          "hoverlabel": {
           "align": "left"
          },
          "hovermode": "closest",
          "mapbox": {
           "style": "light"
          },
          "paper_bgcolor": "white",
          "plot_bgcolor": "#E5ECF6",
          "polar": {
           "angularaxis": {
            "gridcolor": "white",
            "linecolor": "white",
            "ticks": ""
           },
           "bgcolor": "#E5ECF6",
           "radialaxis": {
            "gridcolor": "white",
            "linecolor": "white",
            "ticks": ""
           }
          },
          "scene": {
           "xaxis": {
            "backgroundcolor": "#E5ECF6",
            "gridcolor": "white",
            "gridwidth": 2,
            "linecolor": "white",
            "showbackground": true,
            "ticks": "",
            "zerolinecolor": "white"
           },
           "yaxis": {
            "backgroundcolor": "#E5ECF6",
            "gridcolor": "white",
            "gridwidth": 2,
            "linecolor": "white",
            "showbackground": true,
            "ticks": "",
            "zerolinecolor": "white"
           },
           "zaxis": {
            "backgroundcolor": "#E5ECF6",
            "gridcolor": "white",
            "gridwidth": 2,
            "linecolor": "white",
            "showbackground": true,
            "ticks": "",
            "zerolinecolor": "white"
           }
          },
          "shapedefaults": {
           "line": {
            "color": "#2a3f5f"
           }
          },
          "ternary": {
           "aaxis": {
            "gridcolor": "white",
            "linecolor": "white",
            "ticks": ""
           },
           "baxis": {
            "gridcolor": "white",
            "linecolor": "white",
            "ticks": ""
           },
           "bgcolor": "#E5ECF6",
           "caxis": {
            "gridcolor": "white",
            "linecolor": "white",
            "ticks": ""
           }
          },
          "title": {
           "x": 0.05
          },
          "xaxis": {
           "automargin": true,
           "gridcolor": "white",
           "linecolor": "white",
           "ticks": "",
           "title": {
            "standoff": 15
           },
           "zerolinecolor": "white",
           "zerolinewidth": 2
          },
          "yaxis": {
           "automargin": true,
           "gridcolor": "white",
           "linecolor": "white",
           "ticks": "",
           "title": {
            "standoff": 15
           },
           "zerolinecolor": "white",
           "zerolinewidth": 2
          }
         }
        },
        "title": {
         "text": "t-SNE"
        },
        "width": 800,
        "xaxis": {
         "anchor": "y",
         "domain": [
          0,
          1
         ],
         "title": {
          "text": "x"
         }
        },
        "yaxis": {
         "anchor": "x",
         "domain": [
          0,
          1
         ],
         "title": {
          "text": "y"
         }
        }
       }
      }
     },
     "metadata": {},
     "output_type": "display_data"
    }
   ],
   "source": [
    "over_plot_preds(val_actions, val_labels, unseen_pred_actions[:30, :], unseen_labels[:30], val_lm)"
   ]
  },
  {
   "cell_type": "code",
   "execution_count": null,
   "metadata": {},
   "outputs": [
    {
     "name": "stderr",
     "output_type": "stream",
     "text": [
      "unseen: 100%|██████████| 175/175 [00:17<00:00, 10.01batch/s, loss=0.324]\n"
     ]
    },
    {
     "data": {
      "image/png": "[encoded data removed]",
      "text/plain": [
       "<Figure size 640x480 with 2 Axes>"
      ]
     },
     "metadata": {},
     "output_type": "display_data"
    },
    {
     "name": "stdout",
     "output_type": "stream",
     "text": [
      "Overall accuracy: 0.194\n",
      "\n",
      "                   precision     recall   f1-score rel. freq. abs. freq.|\t biggest thieves\n",
      "\n",
      "        standing       0.208      0.134      0.163      0.331       1853|\t watching TV: 0.866,\tascending stairs: 0.000,\t\n",
      "  house cleaning       1.000      0.001      0.001      0.329       1840|\t watching TV: 0.865,\tstanding: 0.113,\tascending stairs: 0.022,\t\n",
      "ascending stairs       0.369      0.022      0.042      0.193       1078|\t standing: 0.671,\twatching TV: 0.307,\t\n",
      "     watching TV       0.188      0.982      0.315      0.148        829|\t standing: 0.018,\tascending stairs: 0.000,\t\n",
      "\n",
      "----------------------------------------------------------------------------------------------------\n",
      "     avg / total       0.496      0.194      0.109        1.0       5600|\t      \n",
      "\n"
     ]
    }
   ],
   "source": [
    "test_metrics, _, _ = eval_step1(imu_model, test_dl, unseen_action_ft, unseen_action_label, imu_loss_module, device=device, class_names=[all_classes[i] for i in unseen_classes], class_ids=unseen_classes,  target_feat_met=test_dt.getClassAttrs(), phase='unseen', loss_alpha=0.8, batch_size=config['batch_size'], neighs=10)\n"
   ]
  },
  {
   "cell_type": "code",
   "execution_count": null,
   "metadata": {},
   "outputs": [],
   "source": []
  },
  {
   "cell_type": "code",
   "execution_count": null,
   "metadata": {},
   "outputs": [],
   "source": []
  }
 ],
 "metadata": {
  "kernelspec": {
   "display_name": "Python 3.8.13 ('mvts_trans')",
   "language": "python",
   "name": "python3"
  },
  "language_info": {
   "codemirror_mode": {
    "name": "ipython",
    "version": 3
   },
   "file_extension": ".py",
   "mimetype": "text/x-python",
   "name": "python",
   "nbconvert_exporter": "python",
   "pygments_lexer": "ipython3",
   "version": "3.8.13 (default, Mar 28 2022, 06:59:08) [MSC v.1916 64 bit (AMD64)]"
  },
  "orig_nbformat": 4,
  "vscode": {
   "interpreter": {
    "hash": "ccc35149ad8fa032444ebff1245e6ef176e6c1ce3af8dec48e3374f21a6b0f27"
   }
  }
 },
 "nbformat": 4,
 "nbformat_minor": 2
}
